{
 "cells": [
  {
   "cell_type": "code",
   "execution_count": 61,
   "id": "3bd42e1f-f5ec-4b4c-87aa-e3e684f4b720",
   "metadata": {},
   "outputs": [],
   "source": [
    "import pandas as pd\n",
    "import numpy as np\n",
    "from string import punctuation\n",
    "from tensorflow.keras.preprocessing.text import Tokenizer\n",
    "from tensorflow.keras.preprocessing.sequence import pad_sequences\n",
    "from keras.utils import to_categorical\n",
    "from keras.models import Sequential\n",
    "from keras.layers import Embedding, Dense, LSTM"
   ]
  },
  {
   "cell_type": "code",
   "execution_count": 17,
   "id": "00e16b93-c20e-48e5-8799-850ef9a9785f",
   "metadata": {},
   "outputs": [
    {
     "data": {
      "text/html": [
       "<div>\n",
       "<style scoped>\n",
       "    .dataframe tbody tr th:only-of-type {\n",
       "        vertical-align: middle;\n",
       "    }\n",
       "\n",
       "    .dataframe tbody tr th {\n",
       "        vertical-align: top;\n",
       "    }\n",
       "\n",
       "    .dataframe thead th {\n",
       "        text-align: right;\n",
       "    }\n",
       "</style>\n",
       "<table border=\"1\" class=\"dataframe\">\n",
       "  <thead>\n",
       "    <tr style=\"text-align: right;\">\n",
       "      <th></th>\n",
       "      <th>articleID</th>\n",
       "      <th>articleWordCount</th>\n",
       "      <th>byline</th>\n",
       "      <th>documentType</th>\n",
       "      <th>headline</th>\n",
       "      <th>keywords</th>\n",
       "      <th>multimedia</th>\n",
       "      <th>newDesk</th>\n",
       "      <th>printPage</th>\n",
       "      <th>pubDate</th>\n",
       "      <th>sectionName</th>\n",
       "      <th>snippet</th>\n",
       "      <th>source</th>\n",
       "      <th>typeOfMaterial</th>\n",
       "      <th>webURL</th>\n",
       "    </tr>\n",
       "  </thead>\n",
       "  <tbody>\n",
       "    <tr>\n",
       "      <th>0</th>\n",
       "      <td>5adf6684068401528a2aa69b</td>\n",
       "      <td>781</td>\n",
       "      <td>By JOHN BRANCH</td>\n",
       "      <td>article</td>\n",
       "      <td>Former N.F.L. Cheerleaders’ Settlement Offer: ...</td>\n",
       "      <td>['Workplace Hazards and Violations', 'Football...</td>\n",
       "      <td>68</td>\n",
       "      <td>Sports</td>\n",
       "      <td>0</td>\n",
       "      <td>2018-04-24 17:16:49</td>\n",
       "      <td>Pro Football</td>\n",
       "      <td>“I understand that they could meet with us, pa...</td>\n",
       "      <td>The New York Times</td>\n",
       "      <td>News</td>\n",
       "      <td>https://www.nytimes.com/2018/04/24/sports/foot...</td>\n",
       "    </tr>\n",
       "    <tr>\n",
       "      <th>1</th>\n",
       "      <td>5adf653f068401528a2aa697</td>\n",
       "      <td>656</td>\n",
       "      <td>By LISA FRIEDMAN</td>\n",
       "      <td>article</td>\n",
       "      <td>E.P.A. to Unveil a New Rule. Its Effect: Less ...</td>\n",
       "      <td>['Environmental Protection Agency', 'Pruitt, S...</td>\n",
       "      <td>68</td>\n",
       "      <td>Climate</td>\n",
       "      <td>0</td>\n",
       "      <td>2018-04-24 17:11:21</td>\n",
       "      <td>Unknown</td>\n",
       "      <td>The agency plans to publish a new regulation T...</td>\n",
       "      <td>The New York Times</td>\n",
       "      <td>News</td>\n",
       "      <td>https://www.nytimes.com/2018/04/24/climate/epa...</td>\n",
       "    </tr>\n",
       "    <tr>\n",
       "      <th>2</th>\n",
       "      <td>5adf4626068401528a2aa628</td>\n",
       "      <td>2427</td>\n",
       "      <td>By PETE WELLS</td>\n",
       "      <td>article</td>\n",
       "      <td>The New Noma, Explained</td>\n",
       "      <td>['Restaurants', 'Noma (Copenhagen, Restaurant)...</td>\n",
       "      <td>66</td>\n",
       "      <td>Dining</td>\n",
       "      <td>0</td>\n",
       "      <td>2018-04-24 14:58:44</td>\n",
       "      <td>Unknown</td>\n",
       "      <td>What’s it like to eat at the second incarnatio...</td>\n",
       "      <td>The New York Times</td>\n",
       "      <td>News</td>\n",
       "      <td>https://www.nytimes.com/2018/04/24/dining/noma...</td>\n",
       "    </tr>\n",
       "    <tr>\n",
       "      <th>3</th>\n",
       "      <td>5adf40d2068401528a2aa619</td>\n",
       "      <td>626</td>\n",
       "      <td>By JULIE HIRSCHFELD DAVIS and PETER BAKER</td>\n",
       "      <td>article</td>\n",
       "      <td>Unknown</td>\n",
       "      <td>['Macron, Emmanuel (1977- )', 'Trump, Donald J...</td>\n",
       "      <td>68</td>\n",
       "      <td>Washington</td>\n",
       "      <td>0</td>\n",
       "      <td>2018-04-24 14:35:57</td>\n",
       "      <td>Europe</td>\n",
       "      <td>President Trump welcomed President Emmanuel Ma...</td>\n",
       "      <td>The New York Times</td>\n",
       "      <td>News</td>\n",
       "      <td>https://www.nytimes.com/2018/04/24/world/europ...</td>\n",
       "    </tr>\n",
       "    <tr>\n",
       "      <th>4</th>\n",
       "      <td>5adf3d64068401528a2aa60f</td>\n",
       "      <td>815</td>\n",
       "      <td>By IAN AUSTEN and DAN BILEFSKY</td>\n",
       "      <td>article</td>\n",
       "      <td>Unknown</td>\n",
       "      <td>['Toronto, Ontario, Attack (April, 2018)', 'Mu...</td>\n",
       "      <td>68</td>\n",
       "      <td>Foreign</td>\n",
       "      <td>0</td>\n",
       "      <td>2018-04-24 14:21:21</td>\n",
       "      <td>Canada</td>\n",
       "      <td>Alek Minassian, 25, a resident of Toronto’s Ri...</td>\n",
       "      <td>The New York Times</td>\n",
       "      <td>News</td>\n",
       "      <td>https://www.nytimes.com/2018/04/24/world/canad...</td>\n",
       "    </tr>\n",
       "  </tbody>\n",
       "</table>\n",
       "</div>"
      ],
      "text/plain": [
       "                  articleID  articleWordCount  \\\n",
       "0  5adf6684068401528a2aa69b               781   \n",
       "1  5adf653f068401528a2aa697               656   \n",
       "2  5adf4626068401528a2aa628              2427   \n",
       "3  5adf40d2068401528a2aa619               626   \n",
       "4  5adf3d64068401528a2aa60f               815   \n",
       "\n",
       "                                      byline documentType  \\\n",
       "0                             By JOHN BRANCH      article   \n",
       "1                           By LISA FRIEDMAN      article   \n",
       "2                              By PETE WELLS      article   \n",
       "3  By JULIE HIRSCHFELD DAVIS and PETER BAKER      article   \n",
       "4             By IAN AUSTEN and DAN BILEFSKY      article   \n",
       "\n",
       "                                            headline  \\\n",
       "0  Former N.F.L. Cheerleaders’ Settlement Offer: ...   \n",
       "1  E.P.A. to Unveil a New Rule. Its Effect: Less ...   \n",
       "2                            The New Noma, Explained   \n",
       "3                                            Unknown   \n",
       "4                                            Unknown   \n",
       "\n",
       "                                            keywords  multimedia     newDesk  \\\n",
       "0  ['Workplace Hazards and Violations', 'Football...          68      Sports   \n",
       "1  ['Environmental Protection Agency', 'Pruitt, S...          68     Climate   \n",
       "2  ['Restaurants', 'Noma (Copenhagen, Restaurant)...          66      Dining   \n",
       "3  ['Macron, Emmanuel (1977- )', 'Trump, Donald J...          68  Washington   \n",
       "4  ['Toronto, Ontario, Attack (April, 2018)', 'Mu...          68     Foreign   \n",
       "\n",
       "   printPage              pubDate   sectionName  \\\n",
       "0          0  2018-04-24 17:16:49  Pro Football   \n",
       "1          0  2018-04-24 17:11:21       Unknown   \n",
       "2          0  2018-04-24 14:58:44       Unknown   \n",
       "3          0  2018-04-24 14:35:57        Europe   \n",
       "4          0  2018-04-24 14:21:21        Canada   \n",
       "\n",
       "                                             snippet              source  \\\n",
       "0  “I understand that they could meet with us, pa...  The New York Times   \n",
       "1  The agency plans to publish a new regulation T...  The New York Times   \n",
       "2  What’s it like to eat at the second incarnatio...  The New York Times   \n",
       "3  President Trump welcomed President Emmanuel Ma...  The New York Times   \n",
       "4  Alek Minassian, 25, a resident of Toronto’s Ri...  The New York Times   \n",
       "\n",
       "  typeOfMaterial                                             webURL  \n",
       "0           News  https://www.nytimes.com/2018/04/24/sports/foot...  \n",
       "1           News  https://www.nytimes.com/2018/04/24/climate/epa...  \n",
       "2           News  https://www.nytimes.com/2018/04/24/dining/noma...  \n",
       "3           News  https://www.nytimes.com/2018/04/24/world/europ...  \n",
       "4           News  https://www.nytimes.com/2018/04/24/world/canad...  "
      ]
     },
     "execution_count": 17,
     "metadata": {},
     "output_type": "execute_result"
    }
   ],
   "source": [
    "df = pd.read_csv('ArticlesApril2018.csv')\n",
    "df.head()"
   ]
  },
  {
   "cell_type": "code",
   "execution_count": 18,
   "id": "00e9afd0-4b04-40ce-b68e-e681315c8772",
   "metadata": {},
   "outputs": [
    {
     "name": "stdout",
     "output_type": "stream",
     "text": [
      "Index(['articleID', 'articleWordCount', 'byline', 'documentType', 'headline',\n",
      "       'keywords', 'multimedia', 'newDesk', 'printPage', 'pubDate',\n",
      "       'sectionName', 'snippet', 'source', 'typeOfMaterial', 'webURL'],\n",
      "      dtype='object') 15\n"
     ]
    }
   ],
   "source": [
    "print(df.columns, len(df.columns))"
   ]
  },
  {
   "cell_type": "code",
   "execution_count": 19,
   "id": "0bb64ccc-d583-48e5-aa5b-9b462c9d8d53",
   "metadata": {},
   "outputs": [
    {
     "name": "stdout",
     "output_type": "stream",
     "text": [
      "False\n"
     ]
    }
   ],
   "source": [
    "print(df['headline'].isnull().values.any())"
   ]
  },
  {
   "cell_type": "code",
   "execution_count": 20,
   "id": "e9d1d143-6a0a-41f7-be1c-d9da07c75416",
   "metadata": {},
   "outputs": [
    {
     "data": {
      "text/plain": [
       "['Former N.F.L. Cheerleaders’ Settlement Offer: $1 and a Meeting With Goodell',\n",
       " 'E.P.A. to Unveil a New Rule. Its Effect: Less Science in Policymaking.',\n",
       " 'The New Noma, Explained',\n",
       " 'Unknown',\n",
       " 'Unknown']"
      ]
     },
     "execution_count": 20,
     "metadata": {},
     "output_type": "execute_result"
    }
   ],
   "source": [
    "headline = []\n",
    "headline.extend(list(df.headline.values))\n",
    "headline[:5]"
   ]
  },
  {
   "cell_type": "code",
   "execution_count": 21,
   "id": "df968c85-3207-4a12-a117-02dcd7dfd09f",
   "metadata": {},
   "outputs": [
    {
     "name": "stdout",
     "output_type": "stream",
     "text": [
      "총 샘플 개수 :  1324\n"
     ]
    }
   ],
   "source": [
    "print('총 샘플 개수 : ', len(headline))"
   ]
  },
  {
   "cell_type": "code",
   "execution_count": 22,
   "id": "8e56f771-449f-4c33-bf7d-3fe288dbb551",
   "metadata": {},
   "outputs": [
    {
     "name": "stdout",
     "output_type": "stream",
     "text": [
      "총 샘플 개수 : 1324\n"
     ]
    }
   ],
   "source": [
    "headline = [word for word in headline if word != 'Unkown']\n",
    "print('총 샘플 개수 :', len(headline))"
   ]
  },
  {
   "cell_type": "code",
   "execution_count": 23,
   "id": "10761810-b18e-4622-8e45-9ede5f4a44b3",
   "metadata": {},
   "outputs": [
    {
     "data": {
      "text/plain": [
       "['Former N.F.L. Cheerleaders’ Settlement Offer: $1 and a Meeting With Goodell',\n",
       " 'E.P.A. to Unveil a New Rule. Its Effect: Less Science in Policymaking.',\n",
       " 'The New Noma, Explained',\n",
       " 'Unknown',\n",
       " 'Unknown']"
      ]
     },
     "execution_count": 23,
     "metadata": {},
     "output_type": "execute_result"
    }
   ],
   "source": [
    "headline[:5]"
   ]
  },
  {
   "cell_type": "code",
   "execution_count": 24,
   "id": "e07a446f-e2aa-40e8-94ea-424444d8e9c7",
   "metadata": {},
   "outputs": [],
   "source": [
    "def repreprocessing(raw_sentence):\n",
    "    # utf-8로 인코딩 된 문자열을 ASCII 문자열로 변환한다.(표현할 수 없는 문자는 무시)\n",
    "    sentence = raw_sentence.encode('utf-8').decode('ascii', 'ignore')\n",
    "    return ''.join(word for word in sentence if word not in punctuation).lower()"
   ]
  },
  {
   "cell_type": "code",
   "execution_count": 25,
   "id": "de258d5a-f9e0-4bdd-9469-98120d777c7b",
   "metadata": {},
   "outputs": [
    {
     "data": {
      "text/plain": [
       "['former nfl cheerleaders settlement offer 1 and a meeting with goodell',\n",
       " 'epa to unveil a new rule its effect less science in policymaking',\n",
       " 'the new noma explained',\n",
       " 'unknown',\n",
       " 'unknown']"
      ]
     },
     "execution_count": 25,
     "metadata": {},
     "output_type": "execute_result"
    }
   ],
   "source": [
    "preprocessed_headline = [repreprocessing(x) for x in headline]\n",
    "preprocessed_headline[:5]"
   ]
  },
  {
   "cell_type": "code",
   "execution_count": 26,
   "id": "d02436c4-edb4-4339-b4e0-d6f652069614",
   "metadata": {},
   "outputs": [
    {
     "name": "stdout",
     "output_type": "stream",
     "text": [
      "사전 크기 :  3495\n"
     ]
    }
   ],
   "source": [
    "tokenizer = Tokenizer()\n",
    "tokenizer.fit_on_texts(preprocessed_headline)\n",
    "vocab_size = len(tokenizer.word_index) + 1\n",
    "print('사전 크기 : ', vocab_size)"
   ]
  },
  {
   "cell_type": "code",
   "execution_count": 29,
   "id": "7a3f37ac-4f9c-4bdb-addd-816a4f20fa5d",
   "metadata": {},
   "outputs": [
    {
     "data": {
      "text/plain": [
       "[[100, 270],\n",
       " [100, 270, 372],\n",
       " [100, 270, 372, 1116],\n",
       " [100, 270, 372, 1116, 583],\n",
       " [100, 270, 372, 1116, 583, 53],\n",
       " [100, 270, 372, 1116, 583, 53, 7],\n",
       " [100, 270, 372, 1116, 583, 53, 7, 2],\n",
       " [100, 270, 372, 1116, 583, 53, 7, 2, 373],\n",
       " [100, 270, 372, 1116, 583, 53, 7, 2, 373, 11],\n",
       " [100, 270, 372, 1116, 583, 53, 7, 2, 373, 11, 1117],\n",
       " [101, 3]]"
      ]
     },
     "execution_count": 29,
     "metadata": {},
     "output_type": "execute_result"
    }
   ],
   "source": [
    "sequences = list()\n",
    "for sentence in preprocessed_headline:\n",
    "    encoded = tokenizer.texts_to_sequences([sentence])[0]\n",
    "    for i in range(1, len(encoded)):\n",
    "        sequence = encoded[:i+1]\n",
    "        sequences.append(sequence)\n",
    "\n",
    "sequences[:11]"
   ]
  },
  {
   "cell_type": "code",
   "execution_count": 35,
   "id": "48525007-14ef-4fd6-bda1-3b7352b07fc6",
   "metadata": {},
   "outputs": [
    {
     "name": "stdout",
     "output_type": "stream",
     "text": [
      "빈도수 기준 단어 :  border\n"
     ]
    }
   ],
   "source": [
    "index_to_word = {}\n",
    "for key, value in tokenizer.word_index.items():\n",
    "    index_to_word[value] = key\n",
    "\n",
    "print('빈도수 기준 단어 : ', index_to_word[99])"
   ]
  },
  {
   "cell_type": "code",
   "execution_count": 53,
   "id": "c000aef4-3193-4022-b343-f18e2c303ac8",
   "metadata": {},
   "outputs": [
    {
     "name": "stdout",
     "output_type": "stream",
     "text": [
      "샘플 최대 길이 :  24\n",
      "[[100, 270], [100, 270, 372], [100, 270, 372, 1116]]\n"
     ]
    }
   ],
   "source": [
    "# 시퀸스에 대한 패딩작업(sequences) -> X, y 분리 \n",
    "max_length = max(len(seq) for seq in sequences)\n",
    "padded_sequences = pad_sequences(sequences, maxlen=max_length, padding='pre')\n",
    "\n",
    "print('샘플 최대 길이 : ', max_length)\n",
    "print(sequences[:3])"
   ]
  },
  {
   "cell_type": "code",
   "execution_count": 54,
   "id": "b4017e65-f4f6-4ce7-ae76-69ecd8a2fc34",
   "metadata": {},
   "outputs": [],
   "source": [
    "# X, y 분리\n",
    "X = padded_sequences[:, :-1]\n",
    "y = padded_sequences[:, -1]"
   ]
  },
  {
   "cell_type": "code",
   "execution_count": 55,
   "id": "381a0bbd-cec6-4c7a-a1e6-062efce97229",
   "metadata": {},
   "outputs": [
    {
     "name": "stdout",
     "output_type": "stream",
     "text": [
      "[[   0    0    0 ...    0    0  100]\n",
      " [   0    0    0 ...    0  100  270]\n",
      " [   0    0    0 ...  100  270  372]\n",
      " ...\n",
      " [   0    0    0 ...  171    9 3494]\n",
      " [   0    0    0 ...    9 3494  116]\n",
      " [   0    0    0 ... 3494  116    2]]\n"
     ]
    }
   ],
   "source": [
    "print(X)"
   ]
  },
  {
   "cell_type": "code",
   "execution_count": 56,
   "id": "f97480c0-212b-4001-8fd8-b209abc98295",
   "metadata": {},
   "outputs": [
    {
     "name": "stdout",
     "output_type": "stream",
     "text": [
      "[ 270  372 1116 ...  116    2 1026]\n"
     ]
    }
   ],
   "source": [
    "print(y)"
   ]
  },
  {
   "cell_type": "code",
   "execution_count": 57,
   "id": "20c9de22-1222-4d04-ba17-40ae31550057",
   "metadata": {},
   "outputs": [
    {
     "data": {
      "text/plain": [
       "array([[0., 0., 0., ..., 0., 0., 0.],\n",
       "       [0., 0., 0., ..., 0., 0., 0.],\n",
       "       [0., 0., 0., ..., 0., 0., 0.],\n",
       "       ...,\n",
       "       [0., 0., 0., ..., 0., 0., 0.],\n",
       "       [0., 0., 1., ..., 0., 0., 0.],\n",
       "       [0., 0., 0., ..., 0., 0., 0.]], dtype=float32)"
      ]
     },
     "execution_count": 57,
     "metadata": {},
     "output_type": "execute_result"
    }
   ],
   "source": [
    "y = to_categorical(y, num_classes=vocab_size)\n",
    "y"
   ]
  },
  {
   "cell_type": "code",
   "execution_count": 62,
   "id": "0a96342a-d4c3-447b-bf6d-9db69fa932e0",
   "metadata": {},
   "outputs": [
    {
     "name": "stdout",
     "output_type": "stream",
     "text": [
      "Epoch 1/200\n",
      "244/244 - 6s - loss: 7.6280 - accuracy: 0.0263 - 6s/epoch - 25ms/step\n",
      "Epoch 2/200\n",
      "244/244 - 6s - loss: 7.1000 - accuracy: 0.0290 - 6s/epoch - 23ms/step\n",
      "Epoch 3/200\n",
      "244/244 - 5s - loss: 6.9724 - accuracy: 0.0342 - 5s/epoch - 22ms/step\n",
      "Epoch 4/200\n",
      "244/244 - 6s - loss: 6.8478 - accuracy: 0.0396 - 6s/epoch - 24ms/step\n",
      "Epoch 5/200\n",
      "244/244 - 5s - loss: 6.6998 - accuracy: 0.0470 - 5s/epoch - 22ms/step\n",
      "Epoch 6/200\n",
      "244/244 - 6s - loss: 6.5335 - accuracy: 0.0502 - 6s/epoch - 24ms/step\n",
      "Epoch 7/200\n",
      "244/244 - 5s - loss: 6.3418 - accuracy: 0.0519 - 5s/epoch - 22ms/step\n",
      "Epoch 8/200\n",
      "244/244 - 5s - loss: 6.1355 - accuracy: 0.0573 - 5s/epoch - 22ms/step\n",
      "Epoch 9/200\n",
      "244/244 - 6s - loss: 5.9369 - accuracy: 0.0618 - 6s/epoch - 23ms/step\n",
      "Epoch 10/200\n",
      "244/244 - 7s - loss: 5.7469 - accuracy: 0.0637 - 7s/epoch - 27ms/step\n",
      "Epoch 11/200\n",
      "244/244 - 10s - loss: 5.5694 - accuracy: 0.0675 - 10s/epoch - 40ms/step\n",
      "Epoch 12/200\n",
      "244/244 - 6s - loss: 5.3988 - accuracy: 0.0751 - 6s/epoch - 23ms/step\n",
      "Epoch 13/200\n",
      "244/244 - 5s - loss: 5.2418 - accuracy: 0.0805 - 5s/epoch - 22ms/step\n",
      "Epoch 14/200\n",
      "244/244 - 5s - loss: 5.0936 - accuracy: 0.0855 - 5s/epoch - 22ms/step\n",
      "Epoch 15/200\n",
      "244/244 - 6s - loss: 4.9483 - accuracy: 0.0970 - 6s/epoch - 25ms/step\n",
      "Epoch 16/200\n",
      "244/244 - 6s - loss: 4.8130 - accuracy: 0.1051 - 6s/epoch - 25ms/step\n",
      "Epoch 17/200\n",
      "244/244 - 5s - loss: 4.6811 - accuracy: 0.1166 - 5s/epoch - 22ms/step\n",
      "Epoch 18/200\n",
      "244/244 - 6s - loss: 4.5543 - accuracy: 0.1310 - 6s/epoch - 24ms/step\n",
      "Epoch 19/200\n",
      "244/244 - 6s - loss: 4.4308 - accuracy: 0.1507 - 6s/epoch - 24ms/step\n",
      "Epoch 20/200\n",
      "244/244 - 5s - loss: 4.3116 - accuracy: 0.1619 - 5s/epoch - 23ms/step\n",
      "Epoch 21/200\n",
      "244/244 - 6s - loss: 4.1975 - accuracy: 0.1807 - 6s/epoch - 23ms/step\n",
      "Epoch 22/200\n",
      "244/244 - 5s - loss: 4.0835 - accuracy: 0.1984 - 5s/epoch - 22ms/step\n",
      "Epoch 23/200\n",
      "244/244 - 7s - loss: 3.9749 - accuracy: 0.2130 - 7s/epoch - 31ms/step\n",
      "Epoch 24/200\n",
      "244/244 - 9s - loss: 3.8693 - accuracy: 0.2327 - 9s/epoch - 37ms/step\n",
      "Epoch 25/200\n",
      "244/244 - 6s - loss: 3.7672 - accuracy: 0.2464 - 6s/epoch - 25ms/step\n",
      "Epoch 26/200\n",
      "244/244 - 6s - loss: 3.6679 - accuracy: 0.2713 - 6s/epoch - 23ms/step\n",
      "Epoch 27/200\n",
      "244/244 - 6s - loss: 3.5741 - accuracy: 0.2844 - 6s/epoch - 24ms/step\n",
      "Epoch 28/200\n",
      "244/244 - 6s - loss: 3.4782 - accuracy: 0.2998 - 6s/epoch - 24ms/step\n",
      "Epoch 29/200\n",
      "244/244 - 6s - loss: 3.3914 - accuracy: 0.3153 - 6s/epoch - 23ms/step\n",
      "Epoch 30/200\n",
      "244/244 - 8s - loss: 3.3036 - accuracy: 0.3333 - 8s/epoch - 33ms/step\n",
      "Epoch 31/200\n",
      "244/244 - 8s - loss: 3.2214 - accuracy: 0.3501 - 8s/epoch - 33ms/step\n",
      "Epoch 32/200\n",
      "244/244 - 7s - loss: 3.1410 - accuracy: 0.3617 - 7s/epoch - 27ms/step\n",
      "Epoch 33/200\n",
      "244/244 - 6s - loss: 3.0620 - accuracy: 0.3767 - 6s/epoch - 26ms/step\n",
      "Epoch 34/200\n",
      "244/244 - 7s - loss: 2.9885 - accuracy: 0.3886 - 7s/epoch - 30ms/step\n",
      "Epoch 35/200\n",
      "244/244 - 6s - loss: 2.9157 - accuracy: 0.4032 - 6s/epoch - 26ms/step\n",
      "Epoch 36/200\n",
      "244/244 - 7s - loss: 2.8444 - accuracy: 0.4175 - 7s/epoch - 29ms/step\n",
      "Epoch 37/200\n",
      "244/244 - 7s - loss: 2.7772 - accuracy: 0.4271 - 7s/epoch - 29ms/step\n",
      "Epoch 38/200\n",
      "244/244 - 6s - loss: 2.7108 - accuracy: 0.4443 - 6s/epoch - 24ms/step\n",
      "Epoch 39/200\n",
      "244/244 - 5s - loss: 2.6480 - accuracy: 0.4551 - 5s/epoch - 22ms/step\n",
      "Epoch 40/200\n",
      "244/244 - 5s - loss: 2.5894 - accuracy: 0.4675 - 5s/epoch - 22ms/step\n",
      "Epoch 41/200\n",
      "244/244 - 5s - loss: 2.5280 - accuracy: 0.4794 - 5s/epoch - 22ms/step\n",
      "Epoch 42/200\n",
      "244/244 - 5s - loss: 2.4716 - accuracy: 0.4912 - 5s/epoch - 22ms/step\n",
      "Epoch 43/200\n",
      "244/244 - 6s - loss: 2.4157 - accuracy: 0.4985 - 6s/epoch - 24ms/step\n",
      "Epoch 44/200\n",
      "244/244 - 6s - loss: 2.3621 - accuracy: 0.5125 - 6s/epoch - 23ms/step\n",
      "Epoch 45/200\n",
      "244/244 - 6s - loss: 2.3069 - accuracy: 0.5202 - 6s/epoch - 24ms/step\n",
      "Epoch 46/200\n",
      "244/244 - 5s - loss: 2.2574 - accuracy: 0.5374 - 5s/epoch - 22ms/step\n",
      "Epoch 47/200\n",
      "244/244 - 5s - loss: 2.2079 - accuracy: 0.5438 - 5s/epoch - 23ms/step\n",
      "Epoch 48/200\n",
      "244/244 - 5s - loss: 2.1600 - accuracy: 0.5577 - 5s/epoch - 23ms/step\n",
      "Epoch 49/200\n",
      "244/244 - 5s - loss: 2.1120 - accuracy: 0.5627 - 5s/epoch - 22ms/step\n",
      "Epoch 50/200\n",
      "244/244 - 5s - loss: 2.0665 - accuracy: 0.5723 - 5s/epoch - 22ms/step\n",
      "Epoch 51/200\n",
      "244/244 - 6s - loss: 2.0225 - accuracy: 0.5845 - 6s/epoch - 23ms/step\n",
      "Epoch 52/200\n",
      "244/244 - 5s - loss: 1.9793 - accuracy: 0.5935 - 5s/epoch - 22ms/step\n",
      "Epoch 53/200\n",
      "244/244 - 5s - loss: 1.9326 - accuracy: 0.6052 - 5s/epoch - 22ms/step\n",
      "Epoch 54/200\n",
      "244/244 - 5s - loss: 1.8919 - accuracy: 0.6107 - 5s/epoch - 22ms/step\n",
      "Epoch 55/200\n",
      "244/244 - 5s - loss: 1.8483 - accuracy: 0.6200 - 5s/epoch - 22ms/step\n",
      "Epoch 56/200\n",
      "244/244 - 5s - loss: 1.8093 - accuracy: 0.6277 - 5s/epoch - 22ms/step\n",
      "Epoch 57/200\n",
      "244/244 - 6s - loss: 1.7700 - accuracy: 0.6362 - 6s/epoch - 23ms/step\n",
      "Epoch 58/200\n",
      "244/244 - 5s - loss: 1.7313 - accuracy: 0.6424 - 5s/epoch - 22ms/step\n",
      "Epoch 59/200\n",
      "244/244 - 5s - loss: 1.6922 - accuracy: 0.6518 - 5s/epoch - 22ms/step\n",
      "Epoch 60/200\n",
      "244/244 - 5s - loss: 1.6565 - accuracy: 0.6624 - 5s/epoch - 22ms/step\n",
      "Epoch 61/200\n",
      "244/244 - 5s - loss: 1.6208 - accuracy: 0.6659 - 5s/epoch - 22ms/step\n",
      "Epoch 62/200\n",
      "244/244 - 5s - loss: 1.5852 - accuracy: 0.6742 - 5s/epoch - 22ms/step\n",
      "Epoch 63/200\n",
      "244/244 - 5s - loss: 1.5509 - accuracy: 0.6827 - 5s/epoch - 22ms/step\n",
      "Epoch 64/200\n",
      "244/244 - 6s - loss: 1.5149 - accuracy: 0.6915 - 6s/epoch - 23ms/step\n",
      "Epoch 65/200\n",
      "244/244 - 5s - loss: 1.4808 - accuracy: 0.6983 - 5s/epoch - 22ms/step\n",
      "Epoch 66/200\n",
      "244/244 - 5s - loss: 1.4484 - accuracy: 0.7061 - 5s/epoch - 22ms/step\n",
      "Epoch 67/200\n",
      "244/244 - 5s - loss: 1.4144 - accuracy: 0.7155 - 5s/epoch - 22ms/step\n",
      "Epoch 68/200\n",
      "244/244 - 5s - loss: 1.3832 - accuracy: 0.7205 - 5s/epoch - 22ms/step\n",
      "Epoch 69/200\n",
      "244/244 - 5s - loss: 1.3515 - accuracy: 0.7306 - 5s/epoch - 22ms/step\n",
      "Epoch 70/200\n",
      "244/244 - 5s - loss: 1.3233 - accuracy: 0.7383 - 5s/epoch - 22ms/step\n",
      "Epoch 71/200\n",
      "244/244 - 5s - loss: 1.2941 - accuracy: 0.7407 - 5s/epoch - 22ms/step\n",
      "Epoch 72/200\n",
      "244/244 - 5s - loss: 1.2635 - accuracy: 0.7500 - 5s/epoch - 22ms/step\n",
      "Epoch 73/200\n",
      "244/244 - 6s - loss: 1.2355 - accuracy: 0.7566 - 6s/epoch - 23ms/step\n",
      "Epoch 74/200\n",
      "244/244 - 5s - loss: 1.2053 - accuracy: 0.7610 - 5s/epoch - 22ms/step\n",
      "Epoch 75/200\n",
      "244/244 - 6s - loss: 1.1789 - accuracy: 0.7664 - 6s/epoch - 23ms/step\n",
      "Epoch 76/200\n",
      "244/244 - 5s - loss: 1.1529 - accuracy: 0.7709 - 5s/epoch - 23ms/step\n",
      "Epoch 77/200\n",
      "244/244 - 5s - loss: 1.1282 - accuracy: 0.7780 - 5s/epoch - 22ms/step\n",
      "Epoch 78/200\n",
      "244/244 - 6s - loss: 1.1000 - accuracy: 0.7816 - 6s/epoch - 23ms/step\n",
      "Epoch 79/200\n",
      "244/244 - 6s - loss: 1.0760 - accuracy: 0.7888 - 6s/epoch - 23ms/step\n",
      "Epoch 80/200\n",
      "244/244 - 6s - loss: 1.0505 - accuracy: 0.7906 - 6s/epoch - 23ms/step\n",
      "Epoch 81/200\n",
      "244/244 - 6s - loss: 1.0257 - accuracy: 0.8012 - 6s/epoch - 25ms/step\n",
      "Epoch 82/200\n",
      "244/244 - 6s - loss: 1.0033 - accuracy: 0.7996 - 6s/epoch - 24ms/step\n",
      "Epoch 83/200\n",
      "244/244 - 6s - loss: 0.9803 - accuracy: 0.8057 - 6s/epoch - 24ms/step\n",
      "Epoch 84/200\n",
      "244/244 - 6s - loss: 0.9577 - accuracy: 0.8085 - 6s/epoch - 24ms/step\n",
      "Epoch 85/200\n",
      "244/244 - 6s - loss: 0.9361 - accuracy: 0.8155 - 6s/epoch - 24ms/step\n",
      "Epoch 86/200\n",
      "244/244 - 6s - loss: 0.9156 - accuracy: 0.8201 - 6s/epoch - 24ms/step\n",
      "Epoch 87/200\n",
      "244/244 - 7s - loss: 0.8957 - accuracy: 0.8252 - 7s/epoch - 27ms/step\n",
      "Epoch 88/200\n",
      "244/244 - 6s - loss: 0.8731 - accuracy: 0.8272 - 6s/epoch - 24ms/step\n",
      "Epoch 89/200\n",
      "244/244 - 6s - loss: 0.8549 - accuracy: 0.8315 - 6s/epoch - 24ms/step\n",
      "Epoch 90/200\n",
      "244/244 - 6s - loss: 0.8350 - accuracy: 0.8358 - 6s/epoch - 25ms/step\n",
      "Epoch 91/200\n",
      "244/244 - 6s - loss: 0.8181 - accuracy: 0.8394 - 6s/epoch - 25ms/step\n",
      "Epoch 92/200\n",
      "244/244 - 7s - loss: 0.8006 - accuracy: 0.8421 - 7s/epoch - 27ms/step\n",
      "Epoch 93/200\n",
      "244/244 - 6s - loss: 0.7805 - accuracy: 0.8453 - 6s/epoch - 25ms/step\n",
      "Epoch 94/200\n",
      "244/244 - 6s - loss: 0.7636 - accuracy: 0.8507 - 6s/epoch - 23ms/step\n",
      "Epoch 95/200\n",
      "244/244 - 5s - loss: 0.7475 - accuracy: 0.8498 - 5s/epoch - 22ms/step\n",
      "Epoch 96/200\n",
      "244/244 - 6s - loss: 0.7312 - accuracy: 0.8544 - 6s/epoch - 23ms/step\n",
      "Epoch 97/200\n",
      "244/244 - 6s - loss: 0.7187 - accuracy: 0.8577 - 6s/epoch - 23ms/step\n",
      "Epoch 98/200\n",
      "244/244 - 5s - loss: 0.7002 - accuracy: 0.8598 - 5s/epoch - 22ms/step\n",
      "Epoch 99/200\n",
      "244/244 - 6s - loss: 0.6852 - accuracy: 0.8617 - 6s/epoch - 23ms/step\n",
      "Epoch 100/200\n",
      "244/244 - 6s - loss: 0.6699 - accuracy: 0.8666 - 6s/epoch - 23ms/step\n",
      "Epoch 101/200\n",
      "244/244 - 6s - loss: 0.6544 - accuracy: 0.8676 - 6s/epoch - 26ms/step\n",
      "Epoch 102/200\n",
      "244/244 - 11s - loss: 0.6425 - accuracy: 0.8735 - 11s/epoch - 47ms/step\n",
      "Epoch 103/200\n",
      "244/244 - 6s - loss: 0.6285 - accuracy: 0.8734 - 6s/epoch - 26ms/step\n",
      "Epoch 104/200\n",
      "244/244 - 6s - loss: 0.6182 - accuracy: 0.8729 - 6s/epoch - 24ms/step\n",
      "Epoch 105/200\n",
      "244/244 - 6s - loss: 0.6060 - accuracy: 0.8786 - 6s/epoch - 25ms/step\n",
      "Epoch 106/200\n",
      "244/244 - 6s - loss: 0.5939 - accuracy: 0.8807 - 6s/epoch - 24ms/step\n",
      "Epoch 107/200\n",
      "244/244 - 6s - loss: 0.5793 - accuracy: 0.8829 - 6s/epoch - 26ms/step\n",
      "Epoch 108/200\n",
      "244/244 - 6s - loss: 0.5682 - accuracy: 0.8852 - 6s/epoch - 24ms/step\n",
      "Epoch 109/200\n",
      "244/244 - 6s - loss: 0.5578 - accuracy: 0.8879 - 6s/epoch - 24ms/step\n",
      "Epoch 110/200\n",
      "244/244 - 6s - loss: 0.5456 - accuracy: 0.8911 - 6s/epoch - 24ms/step\n",
      "Epoch 111/200\n",
      "244/244 - 6s - loss: 0.5343 - accuracy: 0.8900 - 6s/epoch - 24ms/step\n",
      "Epoch 112/200\n",
      "244/244 - 6s - loss: 0.5253 - accuracy: 0.8920 - 6s/epoch - 24ms/step\n",
      "Epoch 113/200\n",
      "244/244 - 6s - loss: 0.5143 - accuracy: 0.8925 - 6s/epoch - 24ms/step\n",
      "Epoch 114/200\n",
      "244/244 - 6s - loss: 0.5110 - accuracy: 0.8949 - 6s/epoch - 24ms/step\n",
      "Epoch 115/200\n",
      "244/244 - 6s - loss: 0.4959 - accuracy: 0.8959 - 6s/epoch - 24ms/step\n",
      "Epoch 116/200\n",
      "244/244 - 6s - loss: 0.4848 - accuracy: 0.8997 - 6s/epoch - 24ms/step\n",
      "Epoch 117/200\n",
      "244/244 - 6s - loss: 0.4756 - accuracy: 0.9012 - 6s/epoch - 26ms/step\n",
      "Epoch 118/200\n",
      "244/244 - 6s - loss: 0.4711 - accuracy: 0.9036 - 6s/epoch - 24ms/step\n",
      "Epoch 119/200\n",
      "244/244 - 6s - loss: 0.4656 - accuracy: 0.9038 - 6s/epoch - 24ms/step\n",
      "Epoch 120/200\n",
      "244/244 - 6s - loss: 0.4554 - accuracy: 0.9034 - 6s/epoch - 25ms/step\n",
      "Epoch 121/200\n",
      "244/244 - 6s - loss: 0.4441 - accuracy: 0.9062 - 6s/epoch - 24ms/step\n",
      "Epoch 122/200\n",
      "244/244 - 6s - loss: 0.4367 - accuracy: 0.9052 - 6s/epoch - 24ms/step\n",
      "Epoch 123/200\n",
      "244/244 - 6s - loss: 0.4283 - accuracy: 0.9059 - 6s/epoch - 24ms/step\n",
      "Epoch 124/200\n",
      "244/244 - 7s - loss: 0.4215 - accuracy: 0.9098 - 7s/epoch - 27ms/step\n",
      "Epoch 125/200\n",
      "244/244 - 6s - loss: 0.4157 - accuracy: 0.9105 - 6s/epoch - 25ms/step\n",
      "Epoch 126/200\n",
      "244/244 - 6s - loss: 0.4098 - accuracy: 0.9086 - 6s/epoch - 25ms/step\n",
      "Epoch 127/200\n",
      "244/244 - 6s - loss: 0.4051 - accuracy: 0.9095 - 6s/epoch - 25ms/step\n",
      "Epoch 128/200\n",
      "244/244 - 6s - loss: 0.3958 - accuracy: 0.9113 - 6s/epoch - 25ms/step\n",
      "Epoch 129/200\n",
      "244/244 - 6s - loss: 0.3913 - accuracy: 0.9123 - 6s/epoch - 26ms/step\n",
      "Epoch 130/200\n",
      "244/244 - 6s - loss: 0.4051 - accuracy: 0.9098 - 6s/epoch - 24ms/step\n",
      "Epoch 131/200\n",
      "244/244 - 6s - loss: 0.3904 - accuracy: 0.9121 - 6s/epoch - 25ms/step\n",
      "Epoch 132/200\n",
      "244/244 - 6s - loss: 0.3747 - accuracy: 0.9138 - 6s/epoch - 24ms/step\n",
      "Epoch 133/200\n",
      "244/244 - 6s - loss: 0.3692 - accuracy: 0.9144 - 6s/epoch - 26ms/step\n",
      "Epoch 134/200\n",
      "244/244 - 6s - loss: 0.3631 - accuracy: 0.9143 - 6s/epoch - 25ms/step\n",
      "Epoch 135/200\n",
      "244/244 - 6s - loss: 0.3589 - accuracy: 0.9157 - 6s/epoch - 25ms/step\n",
      "Epoch 136/200\n",
      "244/244 - 6s - loss: 0.3549 - accuracy: 0.9135 - 6s/epoch - 24ms/step\n",
      "Epoch 137/200\n",
      "244/244 - 6s - loss: 0.3507 - accuracy: 0.9148 - 6s/epoch - 24ms/step\n",
      "Epoch 138/200\n",
      "244/244 - 6s - loss: 0.3471 - accuracy: 0.9162 - 6s/epoch - 24ms/step\n",
      "Epoch 139/200\n",
      "244/244 - 6s - loss: 0.3427 - accuracy: 0.9159 - 6s/epoch - 24ms/step\n",
      "Epoch 140/200\n",
      "244/244 - 6s - loss: 0.3406 - accuracy: 0.9161 - 6s/epoch - 24ms/step\n",
      "Epoch 141/200\n",
      "244/244 - 6s - loss: 0.3378 - accuracy: 0.9155 - 6s/epoch - 24ms/step\n",
      "Epoch 142/200\n",
      "244/244 - 6s - loss: 0.3326 - accuracy: 0.9159 - 6s/epoch - 24ms/step\n",
      "Epoch 143/200\n",
      "244/244 - 7s - loss: 0.3289 - accuracy: 0.9177 - 7s/epoch - 27ms/step\n",
      "Epoch 144/200\n",
      "244/244 - 7s - loss: 0.3260 - accuracy: 0.9162 - 7s/epoch - 28ms/step\n",
      "Epoch 145/200\n",
      "244/244 - 6s - loss: 0.3216 - accuracy: 0.9168 - 6s/epoch - 24ms/step\n",
      "Epoch 146/200\n",
      "244/244 - 6s - loss: 0.3198 - accuracy: 0.9173 - 6s/epoch - 24ms/step\n",
      "Epoch 147/200\n",
      "244/244 - 7s - loss: 0.3161 - accuracy: 0.9163 - 7s/epoch - 28ms/step\n",
      "Epoch 148/200\n",
      "244/244 - 7s - loss: 0.3145 - accuracy: 0.9170 - 7s/epoch - 29ms/step\n",
      "Epoch 149/200\n",
      "244/244 - 6s - loss: 0.3119 - accuracy: 0.9153 - 6s/epoch - 26ms/step\n",
      "Epoch 150/200\n",
      "244/244 - 6s - loss: 0.3092 - accuracy: 0.9162 - 6s/epoch - 26ms/step\n",
      "Epoch 151/200\n",
      "244/244 - 6s - loss: 0.3075 - accuracy: 0.9167 - 6s/epoch - 25ms/step\n",
      "Epoch 152/200\n",
      "244/244 - 6s - loss: 0.3043 - accuracy: 0.9171 - 6s/epoch - 25ms/step\n",
      "Epoch 153/200\n",
      "244/244 - 6s - loss: 0.3024 - accuracy: 0.9161 - 6s/epoch - 25ms/step\n",
      "Epoch 154/200\n",
      "244/244 - 6s - loss: 0.3260 - accuracy: 0.9117 - 6s/epoch - 26ms/step\n",
      "Epoch 155/200\n",
      "244/244 - 6s - loss: 0.3204 - accuracy: 0.9138 - 6s/epoch - 24ms/step\n",
      "Epoch 156/200\n",
      "244/244 - 7s - loss: 0.3008 - accuracy: 0.9179 - 7s/epoch - 27ms/step\n",
      "Epoch 157/200\n",
      "244/244 - 6s - loss: 0.2952 - accuracy: 0.9157 - 6s/epoch - 24ms/step\n",
      "Epoch 158/200\n",
      "244/244 - 6s - loss: 0.2923 - accuracy: 0.9182 - 6s/epoch - 23ms/step\n",
      "Epoch 159/200\n",
      "244/244 - 5s - loss: 0.2905 - accuracy: 0.9171 - 5s/epoch - 22ms/step\n",
      "Epoch 160/200\n",
      "244/244 - 6s - loss: 0.2899 - accuracy: 0.9159 - 6s/epoch - 25ms/step\n",
      "Epoch 161/200\n",
      "244/244 - 6s - loss: 0.2897 - accuracy: 0.9173 - 6s/epoch - 25ms/step\n",
      "Epoch 162/200\n",
      "244/244 - 6s - loss: 0.2885 - accuracy: 0.9145 - 6s/epoch - 23ms/step\n",
      "Epoch 163/200\n",
      "244/244 - 6s - loss: 0.2860 - accuracy: 0.9184 - 6s/epoch - 23ms/step\n",
      "Epoch 164/200\n",
      "244/244 - 6s - loss: 0.2849 - accuracy: 0.9161 - 6s/epoch - 23ms/step\n",
      "Epoch 165/200\n",
      "244/244 - 6s - loss: 0.2834 - accuracy: 0.9168 - 6s/epoch - 23ms/step\n",
      "Epoch 166/200\n",
      "244/244 - 5s - loss: 0.2825 - accuracy: 0.9182 - 5s/epoch - 23ms/step\n",
      "Epoch 167/200\n",
      "244/244 - 6s - loss: 0.2824 - accuracy: 0.9149 - 6s/epoch - 23ms/step\n",
      "Epoch 168/200\n",
      "244/244 - 6s - loss: 0.2919 - accuracy: 0.9152 - 6s/epoch - 23ms/step\n",
      "Epoch 169/200\n",
      "244/244 - 6s - loss: 0.2874 - accuracy: 0.9167 - 6s/epoch - 23ms/step\n",
      "Epoch 170/200\n",
      "244/244 - 6s - loss: 0.2806 - accuracy: 0.9168 - 6s/epoch - 23ms/step\n",
      "Epoch 171/200\n",
      "244/244 - 6s - loss: 0.2782 - accuracy: 0.9166 - 6s/epoch - 23ms/step\n",
      "Epoch 172/200\n",
      "244/244 - 6s - loss: 0.2767 - accuracy: 0.9171 - 6s/epoch - 23ms/step\n",
      "Epoch 173/200\n",
      "244/244 - 6s - loss: 0.2750 - accuracy: 0.9170 - 6s/epoch - 23ms/step\n",
      "Epoch 174/200\n",
      "244/244 - 6s - loss: 0.2750 - accuracy: 0.9168 - 6s/epoch - 24ms/step\n",
      "Epoch 175/200\n",
      "244/244 - 6s - loss: 0.2740 - accuracy: 0.9162 - 6s/epoch - 24ms/step\n",
      "Epoch 176/200\n",
      "244/244 - 6s - loss: 0.2729 - accuracy: 0.9175 - 6s/epoch - 23ms/step\n",
      "Epoch 177/200\n",
      "244/244 - 6s - loss: 0.2714 - accuracy: 0.9172 - 6s/epoch - 24ms/step\n",
      "Epoch 178/200\n",
      "244/244 - 6s - loss: 0.2721 - accuracy: 0.9173 - 6s/epoch - 24ms/step\n",
      "Epoch 179/200\n",
      "244/244 - 6s - loss: 0.2713 - accuracy: 0.9161 - 6s/epoch - 24ms/step\n",
      "Epoch 180/200\n",
      "244/244 - 6s - loss: 0.2715 - accuracy: 0.9164 - 6s/epoch - 24ms/step\n",
      "Epoch 181/200\n",
      "244/244 - 6s - loss: 0.2703 - accuracy: 0.9150 - 6s/epoch - 24ms/step\n",
      "Epoch 182/200\n",
      "244/244 - 6s - loss: 0.2728 - accuracy: 0.9153 - 6s/epoch - 26ms/step\n",
      "Epoch 183/200\n",
      "244/244 - 6s - loss: 0.3250 - accuracy: 0.9031 - 6s/epoch - 24ms/step\n",
      "Epoch 184/200\n",
      "244/244 - 7s - loss: 0.3044 - accuracy: 0.9108 - 7s/epoch - 28ms/step\n",
      "Epoch 185/200\n",
      "244/244 - 6s - loss: 0.2713 - accuracy: 0.9150 - 6s/epoch - 26ms/step\n",
      "Epoch 186/200\n",
      "244/244 - 6s - loss: 0.2664 - accuracy: 0.9172 - 6s/epoch - 25ms/step\n",
      "Epoch 187/200\n",
      "244/244 - 6s - loss: 0.2654 - accuracy: 0.9158 - 6s/epoch - 26ms/step\n",
      "Epoch 188/200\n",
      "244/244 - 9s - loss: 0.2647 - accuracy: 0.9177 - 9s/epoch - 37ms/step\n",
      "Epoch 189/200\n",
      "244/244 - 8s - loss: 0.2650 - accuracy: 0.9161 - 8s/epoch - 33ms/step\n",
      "Epoch 190/200\n",
      "244/244 - 6s - loss: 0.2646 - accuracy: 0.9159 - 6s/epoch - 24ms/step\n",
      "Epoch 191/200\n",
      "244/244 - 6s - loss: 0.2637 - accuracy: 0.9163 - 6s/epoch - 24ms/step\n",
      "Epoch 192/200\n",
      "244/244 - 6s - loss: 0.2643 - accuracy: 0.9158 - 6s/epoch - 25ms/step\n",
      "Epoch 193/200\n",
      "244/244 - 6s - loss: 0.2645 - accuracy: 0.9162 - 6s/epoch - 25ms/step\n",
      "Epoch 194/200\n",
      "244/244 - 6s - loss: 0.2632 - accuracy: 0.9159 - 6s/epoch - 24ms/step\n",
      "Epoch 195/200\n",
      "244/244 - 6s - loss: 0.2635 - accuracy: 0.9163 - 6s/epoch - 23ms/step\n",
      "Epoch 196/200\n",
      "244/244 - 6s - loss: 0.2624 - accuracy: 0.9164 - 6s/epoch - 23ms/step\n",
      "Epoch 197/200\n",
      "244/244 - 6s - loss: 0.2627 - accuracy: 0.9173 - 6s/epoch - 23ms/step\n",
      "Epoch 198/200\n",
      "244/244 - 6s - loss: 0.2622 - accuracy: 0.9162 - 6s/epoch - 25ms/step\n",
      "Epoch 199/200\n",
      "244/244 - 6s - loss: 0.2659 - accuracy: 0.9158 - 6s/epoch - 25ms/step\n",
      "Epoch 200/200\n",
      "244/244 - 6s - loss: 0.2719 - accuracy: 0.9145 - 6s/epoch - 24ms/step\n"
     ]
    },
    {
     "data": {
      "text/plain": [
       "<keras.src.callbacks.History at 0x17f693e80>"
      ]
     },
     "execution_count": 62,
     "metadata": {},
     "output_type": "execute_result"
    }
   ],
   "source": [
    "embedding_dim = 10\n",
    "hidden_units = 128\n",
    "\n",
    "model = Sequential()\n",
    "model.add(Embedding(vocab_size, embedding_dim))\n",
    "model.add(LSTM(hidden_units))\n",
    "model.add(Dense(vocab_size, activation='softmax'))\n",
    "model.compile(loss='categorical_crossentropy', optimizer='adam', metrics=['accuracy'])\n",
    "model.fit(X, y, epochs=200, verbose=2)"
   ]
  },
  {
   "cell_type": "code",
   "execution_count": 74,
   "id": "786ae761-38f3-4773-a8f5-7288c1f39a93",
   "metadata": {},
   "outputs": [],
   "source": [
    "def sentence_generation(model, tokenizer, current_word, n):\n",
    "    # 초기값\n",
    "    init_word = current_word\n",
    "    sentence = ''\n",
    "\n",
    "    # n번의 단어 생성\n",
    "    for _ in range(n):\n",
    "        # 입력 단어에 대한 정수 인코딩\n",
    "        encoded = tokenizer.texts_to_sequences([current_word])[0]\n",
    "        encoded = pad_sequences([encoded], maxlength=max_length-1, padding='pre')\n",
    "        \n",
    "        # 단어 예측\n",
    "        result = model.predict(encoded, verbose=0)\n",
    "        result = np.argmax(result, axis=1)\n",
    "        predicted_index = mpdel.predict(encoded, verbose=0).argmax(axis=-1)[0]\n",
    "\n",
    "        # 인덱스에 맞는 단어 찾기\n",
    "        for word, index in tokenizer.word_index.items():\n",
    "            if index == result:\n",
    "                break\n",
    "\n",
    "        # 문장에 단어 추가\n",
    "        current_word = current_word + ' ' + word\n",
    "        sentence = sentence + ' ' + word\n",
    "\n",
    "    sentence = init_word + sentence\n",
    "    return init_word + sentence"
   ]
  },
  {
   "cell_type": "code",
   "execution_count": 75,
   "id": "059f4eb9-c109-48fb-bca7-2e92ad327b40",
   "metadata": {},
   "outputs": [
    {
     "ename": "TypeError",
     "evalue": "pad_sequences() got an unexpected keyword argument 'maxlength'",
     "output_type": "error",
     "traceback": [
      "\u001b[0;31m---------------------------------------------------------------------------\u001b[0m",
      "\u001b[0;31mTypeError\u001b[0m                                 Traceback (most recent call last)",
      "Cell \u001b[0;32mIn[75], line 1\u001b[0m\n\u001b[0;32m----> 1\u001b[0m \u001b[43msentence_generation\u001b[49m\u001b[43m(\u001b[49m\u001b[43mmodel\u001b[49m\u001b[43m,\u001b[49m\u001b[43m \u001b[49m\u001b[43mtokenizer\u001b[49m\u001b[43m,\u001b[49m\u001b[43m \u001b[49m\u001b[38;5;124;43m'\u001b[39;49m\u001b[38;5;124;43mformer\u001b[39;49m\u001b[38;5;124;43m'\u001b[39;49m\u001b[43m,\u001b[49m\u001b[43m \u001b[49m\u001b[38;5;241;43m9\u001b[39;49m\u001b[43m)\u001b[49m\n",
      "Cell \u001b[0;32mIn[74], line 10\u001b[0m, in \u001b[0;36msentence_generation\u001b[0;34m(model, tokenizer, current_word, n)\u001b[0m\n\u001b[1;32m      7\u001b[0m \u001b[38;5;28;01mfor\u001b[39;00m _ \u001b[38;5;129;01min\u001b[39;00m \u001b[38;5;28mrange\u001b[39m(n):\n\u001b[1;32m      8\u001b[0m     \u001b[38;5;66;03m# 입력 단어에 대한 정수 인코딩\u001b[39;00m\n\u001b[1;32m      9\u001b[0m     encoded \u001b[38;5;241m=\u001b[39m tokenizer\u001b[38;5;241m.\u001b[39mtexts_to_sequences([current_word])[\u001b[38;5;241m0\u001b[39m]\n\u001b[0;32m---> 10\u001b[0m     encoded \u001b[38;5;241m=\u001b[39m \u001b[43mpad_sequences\u001b[49m\u001b[43m(\u001b[49m\u001b[43m[\u001b[49m\u001b[43mencoded\u001b[49m\u001b[43m]\u001b[49m\u001b[43m,\u001b[49m\u001b[43m \u001b[49m\u001b[43mmaxlength\u001b[49m\u001b[38;5;241;43m=\u001b[39;49m\u001b[43mmax_length\u001b[49m\u001b[38;5;241;43m-\u001b[39;49m\u001b[38;5;241;43m1\u001b[39;49m\u001b[43m,\u001b[49m\u001b[43m \u001b[49m\u001b[43mpadding\u001b[49m\u001b[38;5;241;43m=\u001b[39;49m\u001b[38;5;124;43m'\u001b[39;49m\u001b[38;5;124;43mpre\u001b[39;49m\u001b[38;5;124;43m'\u001b[39;49m\u001b[43m)\u001b[49m\n\u001b[1;32m     12\u001b[0m     \u001b[38;5;66;03m# 단어 예측\u001b[39;00m\n\u001b[1;32m     13\u001b[0m     result \u001b[38;5;241m=\u001b[39m model\u001b[38;5;241m.\u001b[39mpredict(encoded, verbose\u001b[38;5;241m=\u001b[39m\u001b[38;5;241m0\u001b[39m)\n",
      "\u001b[0;31mTypeError\u001b[0m: pad_sequences() got an unexpected keyword argument 'maxlength'"
     ]
    }
   ],
   "source": [
    "sentence_generation(model, tokenizer, 'former', 9)"
   ]
  },
  {
   "cell_type": "code",
   "execution_count": 76,
   "id": "48370896-e191-44fd-b85d-6bf05d3c4ac1",
   "metadata": {},
   "outputs": [
    {
     "ename": "TypeError",
     "evalue": "pad_sequences() got an unexpected keyword argument 'maxlength'",
     "output_type": "error",
     "traceback": [
      "\u001b[0;31m---------------------------------------------------------------------------\u001b[0m",
      "\u001b[0;31mTypeError\u001b[0m                                 Traceback (most recent call last)",
      "Cell \u001b[0;32mIn[76], line 1\u001b[0m\n\u001b[0;32m----> 1\u001b[0m \u001b[43msentence_generation\u001b[49m\u001b[43m(\u001b[49m\u001b[43mmodel\u001b[49m\u001b[43m,\u001b[49m\u001b[43m \u001b[49m\u001b[43mtokenizer\u001b[49m\u001b[43m,\u001b[49m\u001b[43m \u001b[49m\u001b[38;5;124;43m'\u001b[39;49m\u001b[38;5;124;43mi\u001b[39;49m\u001b[38;5;124;43m'\u001b[39;49m\u001b[43m,\u001b[49m\u001b[43m \u001b[49m\u001b[38;5;241;43m10\u001b[39;49m\u001b[43m)\u001b[49m\n",
      "Cell \u001b[0;32mIn[74], line 10\u001b[0m, in \u001b[0;36msentence_generation\u001b[0;34m(model, tokenizer, current_word, n)\u001b[0m\n\u001b[1;32m      7\u001b[0m \u001b[38;5;28;01mfor\u001b[39;00m _ \u001b[38;5;129;01min\u001b[39;00m \u001b[38;5;28mrange\u001b[39m(n):\n\u001b[1;32m      8\u001b[0m     \u001b[38;5;66;03m# 입력 단어에 대한 정수 인코딩\u001b[39;00m\n\u001b[1;32m      9\u001b[0m     encoded \u001b[38;5;241m=\u001b[39m tokenizer\u001b[38;5;241m.\u001b[39mtexts_to_sequences([current_word])[\u001b[38;5;241m0\u001b[39m]\n\u001b[0;32m---> 10\u001b[0m     encoded \u001b[38;5;241m=\u001b[39m \u001b[43mpad_sequences\u001b[49m\u001b[43m(\u001b[49m\u001b[43m[\u001b[49m\u001b[43mencoded\u001b[49m\u001b[43m]\u001b[49m\u001b[43m,\u001b[49m\u001b[43m \u001b[49m\u001b[43mmaxlength\u001b[49m\u001b[38;5;241;43m=\u001b[39;49m\u001b[43mmax_length\u001b[49m\u001b[38;5;241;43m-\u001b[39;49m\u001b[38;5;241;43m1\u001b[39;49m\u001b[43m,\u001b[49m\u001b[43m \u001b[49m\u001b[43mpadding\u001b[49m\u001b[38;5;241;43m=\u001b[39;49m\u001b[38;5;124;43m'\u001b[39;49m\u001b[38;5;124;43mpre\u001b[39;49m\u001b[38;5;124;43m'\u001b[39;49m\u001b[43m)\u001b[49m\n\u001b[1;32m     12\u001b[0m     \u001b[38;5;66;03m# 단어 예측\u001b[39;00m\n\u001b[1;32m     13\u001b[0m     result \u001b[38;5;241m=\u001b[39m model\u001b[38;5;241m.\u001b[39mpredict(encoded, verbose\u001b[38;5;241m=\u001b[39m\u001b[38;5;241m0\u001b[39m)\n",
      "\u001b[0;31mTypeError\u001b[0m: pad_sequences() got an unexpected keyword argument 'maxlength'"
     ]
    }
   ],
   "source": [
    "sentence_generation(model, tokenizer, 'i', 10)"
   ]
  },
  {
   "cell_type": "code",
   "execution_count": null,
   "id": "ba96d1da-bc8b-49c7-b4ff-304d85066bc7",
   "metadata": {},
   "outputs": [],
   "source": [
    "sentence_generation(model, tokenizer, 'how', 5)"
   ]
  },
  {
   "cell_type": "markdown",
   "id": "be93c090-c07c-4f6a-a35e-627951a66032",
   "metadata": {},
   "source": [
    "# = 뉴스 헤더라인 생성기"
   ]
  },
  {
   "cell_type": "code",
   "execution_count": null,
   "id": "7521823b-94e0-4937-a285-db8048499ce4",
   "metadata": {},
   "outputs": [],
   "source": []
  }
 ],
 "metadata": {
  "kernelspec": {
   "display_name": "Python (tensorflow)",
   "language": "python",
   "name": "tensorflow"
  },
  "language_info": {
   "codemirror_mode": {
    "name": "ipython",
    "version": 3
   },
   "file_extension": ".py",
   "mimetype": "text/x-python",
   "name": "python",
   "nbconvert_exporter": "python",
   "pygments_lexer": "ipython3",
   "version": "3.10.14"
  }
 },
 "nbformat": 4,
 "nbformat_minor": 5
}
