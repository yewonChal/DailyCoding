{
 "cells": [
  {
   "cell_type": "markdown",
   "id": "e56991cc-0f12-4567-b685-0e79ee80d21b",
   "metadata": {},
   "source": [
    "# 영화 리뷰 분류작업"
   ]
  },
  {
   "cell_type": "code",
   "execution_count": 1,
   "id": "9780fafa-4fb4-425b-bc8d-f62f8a85ae61",
   "metadata": {},
   "outputs": [],
   "source": [
    "import numpy as np\n",
    "from tensorflow.keras.datasets import imdb\n",
    "from tensorflow.keras.preprocessing.sequence import pad_sequences"
   ]
  },
  {
   "cell_type": "code",
   "execution_count": 3,
   "id": "c2bc9ea8-0de5-4932-a19d-a6c84184b733",
   "metadata": {},
   "outputs": [
    {
     "name": "stdout",
     "output_type": "stream",
     "text": [
      "Training Review :  25000\n",
      "Testing Review :  25000\n"
     ]
    }
   ],
   "source": [
    "vocab_size = 20000\n",
    "\n",
    "(X_train, y_train), (X_test, y_test) = imdb.load_data(num_words=vocab_size)\n",
    "print('Training Review : ', len(X_train))\n",
    "print('Testing Review : ', len(X_test))"
   ]
  },
  {
   "cell_type": "code",
   "execution_count": 4,
   "id": "51f62988-5481-4088-9b33-ad7ed88fad49",
   "metadata": {},
   "outputs": [
    {
     "name": "stdout",
     "output_type": "stream",
     "text": [
      "[1, 14, 22, 16, 43, 530, 973, 1622, 1385, 65, 458, 4468, 66, 3941, 4, 173, 36, 256, 5, 25, 100, 43, 838, 112, 50, 670, 2, 9, 35, 480, 284, 5, 150, 4, 172, 112, 167, 2, 336, 385, 39, 4, 172, 4536, 1111, 17, 546, 38, 13, 447, 4, 192, 50, 16, 6, 147, 2025, 19, 14, 22, 4, 1920, 4613, 469, 4, 22, 71, 87, 12, 16, 43, 530, 38, 76, 15, 13, 1247, 4, 22, 17, 515, 17, 12, 16, 626, 18, 19193, 5, 62, 386, 12, 8, 316, 8, 106, 5, 4, 2223, 5244, 16, 480, 66, 3785, 33, 4, 130, 12, 16, 38, 619, 5, 25, 124, 51, 36, 135, 48, 25, 1415, 33, 6, 22, 12, 215, 28, 77, 52, 5, 14, 407, 16, 82, 10311, 8, 4, 107, 117, 5952, 15, 256, 4, 2, 7, 3766, 5, 723, 36, 71, 43, 530, 476, 26, 400, 317, 46, 7, 4, 12118, 1029, 13, 104, 88, 4, 381, 15, 297, 98, 32, 2071, 56, 26, 141, 6, 194, 7486, 18, 4, 226, 22, 21, 134, 476, 26, 480, 5, 144, 30, 5535, 18, 51, 36, 28, 224, 92, 25, 104, 4, 226, 65, 16, 38, 1334, 88, 12, 16, 283, 5, 16, 4472, 113, 103, 32, 15, 16, 5345, 19, 178, 32]\n"
     ]
    }
   ],
   "source": [
    "print(X_train[0])"
   ]
  },
  {
   "cell_type": "code",
   "execution_count": 6,
   "id": "f9dff878-697d-4384-a616-e3bdb9d99973",
   "metadata": {},
   "outputs": [
    {
     "name": "stdout",
     "output_type": "stream",
     "text": [
      "1\n"
     ]
    }
   ],
   "source": [
    "print(y_train[0])"
   ]
  },
  {
   "cell_type": "code",
   "execution_count": 7,
   "id": "c266f19f-c048-495d-8a9d-3ac6aba278a2",
   "metadata": {},
   "outputs": [
    {
     "name": "stdout",
     "output_type": "stream",
     "text": [
      "Training Review :  238.71364\n",
      "Testing Review :  230.8042\n"
     ]
    }
   ],
   "source": [
    "print('Training Review : ', np.mean(list(map(len, X_train))))\n",
    "print('Testing Review : ', np.mean(list(map(len, X_test))))"
   ]
  },
  {
   "cell_type": "code",
   "execution_count": 12,
   "id": "6c9c98a0-eabd-4f44-ac8f-da68a44b8b75",
   "metadata": {},
   "outputs": [
    {
     "name": "stdout",
     "output_type": "stream",
     "text": [
      "Training Review :  (25000, 400)\n",
      "Testing Review :  (25000, 400)\n"
     ]
    }
   ],
   "source": [
    "max_len = 400\n",
    "\n",
    "X_train = pad_sequences(X_train, maxlen=max_len)\n",
    "X_test = pad_sequences(X_test, maxlen=max_len)\n",
    "\n",
    "print('Training Review : ', X_train.shape)\n",
    "print('Testing Review : ', X_test.shape)"
   ]
  },
  {
   "cell_type": "code",
   "execution_count": 13,
   "id": "48a9682b-fb41-4298-97de-0e8469916eaf",
   "metadata": {},
   "outputs": [
    {
     "name": "stdout",
     "output_type": "stream",
     "text": [
      "Epoch 1/10\n",
      "625/625 [==============================] - ETA: 0s - loss: 0.6283 - acc: 0.7204\n",
      "Epoch 1: val_acc improved from -inf to 0.79860, saving model to embedding_average_model.h5\n",
      "625/625 [==============================] - 8s 13ms/step - loss: 0.6283 - acc: 0.7204 - val_loss: 0.5228 - val_acc: 0.7986\n",
      "Epoch 2/10\n",
      " 18/625 [..............................] - ETA: 5s - loss: 0.5109 - acc: 0.8194"
     ]
    },
    {
     "name": "stderr",
     "output_type": "stream",
     "text": [
      "/Users/jeon-yewon/miniforge3/envs/tensorflow/lib/python3.10/site-packages/keras/src/engine/training.py:3000: UserWarning: You are saving your model as an HDF5 file via `model.save()`. This file format is considered legacy. We recommend using instead the native Keras format, e.g. `model.save('my_model.keras')`.\n",
      "  saving_api.save_model(\n"
     ]
    },
    {
     "name": "stdout",
     "output_type": "stream",
     "text": [
      "622/625 [============================>.] - ETA: 0s - loss: 0.4306 - acc: 0.8552\n",
      "Epoch 2: val_acc improved from 0.79860 to 0.86460, saving model to embedding_average_model.h5\n",
      "625/625 [==============================] - 10s 16ms/step - loss: 0.4301 - acc: 0.8555 - val_loss: 0.3790 - val_acc: 0.8646\n",
      "Epoch 3/10\n",
      "624/625 [============================>.] - ETA: 0s - loss: 0.3187 - acc: 0.8914\n",
      "Epoch 3: val_acc improved from 0.86460 to 0.88000, saving model to embedding_average_model.h5\n",
      "625/625 [==============================] - 11s 17ms/step - loss: 0.3188 - acc: 0.8913 - val_loss: 0.3233 - val_acc: 0.8800\n",
      "Epoch 4/10\n",
      "624/625 [============================>.] - ETA: 0s - loss: 0.2622 - acc: 0.9105\n",
      "Epoch 4: val_acc improved from 0.88000 to 0.88580, saving model to embedding_average_model.h5\n",
      "625/625 [==============================] - 10s 15ms/step - loss: 0.2622 - acc: 0.9104 - val_loss: 0.2971 - val_acc: 0.8858\n",
      "Epoch 5/10\n",
      "624/625 [============================>.] - ETA: 0s - loss: 0.2247 - acc: 0.9248\n",
      "Epoch 5: val_acc improved from 0.88580 to 0.88980, saving model to embedding_average_model.h5\n",
      "625/625 [==============================] - 14s 22ms/step - loss: 0.2248 - acc: 0.9247 - val_loss: 0.2835 - val_acc: 0.8898\n",
      "Epoch 6/10\n",
      "624/625 [============================>.] - ETA: 0s - loss: 0.1963 - acc: 0.9339\n",
      "Epoch 6: val_acc improved from 0.88980 to 0.89000, saving model to embedding_average_model.h5\n",
      "625/625 [==============================] - 17s 28ms/step - loss: 0.1964 - acc: 0.9338 - val_loss: 0.2762 - val_acc: 0.8900\n",
      "Epoch 7/10\n",
      "622/625 [============================>.] - ETA: 0s - loss: 0.1725 - acc: 0.9432\n",
      "Epoch 7: val_acc improved from 0.89000 to 0.89420, saving model to embedding_average_model.h5\n",
      "625/625 [==============================] - 11s 18ms/step - loss: 0.1725 - acc: 0.9432 - val_loss: 0.2718 - val_acc: 0.8942\n",
      "Epoch 8/10\n",
      "623/625 [============================>.] - ETA: 0s - loss: 0.1531 - acc: 0.9504\n",
      "Epoch 8: val_acc did not improve from 0.89420\n",
      "625/625 [==============================] - 11s 17ms/step - loss: 0.1531 - acc: 0.9505 - val_loss: 0.2711 - val_acc: 0.8938\n",
      "Epoch 9/10\n",
      "624/625 [============================>.] - ETA: 0s - loss: 0.1360 - acc: 0.9571\n",
      "Epoch 9: val_acc did not improve from 0.89420\n",
      "625/625 [==============================] - 9s 14ms/step - loss: 0.1359 - acc: 0.9571 - val_loss: 0.2758 - val_acc: 0.8934\n",
      "Epoch 10/10\n",
      "622/625 [============================>.] - ETA: 0s - loss: 0.1207 - acc: 0.9614\n",
      "Epoch 10: val_acc did not improve from 0.89420\n",
      "625/625 [==============================] - 10s 16ms/step - loss: 0.1208 - acc: 0.9613 - val_loss: 0.2836 - val_acc: 0.8930\n"
     ]
    },
    {
     "data": {
      "text/plain": [
       "<keras.src.callbacks.History at 0x1066a9060>"
      ]
     },
     "execution_count": 13,
     "metadata": {},
     "output_type": "execute_result"
    }
   ],
   "source": [
    "from keras.models import Sequential, load_model\n",
    "from keras.layers import Dense, Embedding, GlobalAveragePooling1D\n",
    "from keras.callbacks import EarlyStopping, ModelCheckpoint\n",
    "\n",
    "embedding_dim = 64\n",
    "\n",
    "model = Sequential()\n",
    "model.add(Embedding(vocab_size, embedding_dim))\n",
    "\n",
    "model.add(GlobalAveragePooling1D())\n",
    "model.add(Dense(1, activation='sigmoid'))\n",
    "\n",
    "es = EarlyStopping(monitor='val_loss', mode='min', verbose=1, patience=4)\n",
    "mc = ModelCheckpoint('embedding_average_model.h5', monitor='val_acc', mode='max', verbose=1, save_best_only=True)\n",
    "\n",
    "model.compile(loss='binary_crossentropy', optimizer='adam', metrics=['acc'])\n",
    "model.fit(X_train, y_train, batch_size=32, epochs=10, callbacks=[es, mc], validation_split=0.2)"
   ]
  },
  {
   "cell_type": "code",
   "execution_count": 14,
   "id": "6b9d6299-1088-4f1e-b6a0-3791ccfbd71d",
   "metadata": {},
   "outputs": [
    {
     "data": {
      "text/plain": [
       "array([[   0,    0,    0, ...,   19,  178,   32],\n",
       "       [   0,    0,    0, ...,   16,  145,   95],\n",
       "       [   0,    0,    0, ...,    7,  129,  113],\n",
       "       ...,\n",
       "       [   0,    0,    0, ...,    4, 3586,    2],\n",
       "       [   0,    0,    0, ...,   12,    9,   23],\n",
       "       [   0,    0,    0, ...,  204,  131,    9]], dtype=int32)"
      ]
     },
     "execution_count": 14,
     "metadata": {},
     "output_type": "execute_result"
    }
   ],
   "source": [
    "X_train"
   ]
  },
  {
   "cell_type": "code",
   "execution_count": 15,
   "id": "f1accb9e-986f-4eaa-ad14-ff9feec1d7de",
   "metadata": {},
   "outputs": [
    {
     "data": {
      "text/plain": [
       "array([1, 0, 0, ..., 0, 1, 0])"
      ]
     },
     "execution_count": 15,
     "metadata": {},
     "output_type": "execute_result"
    }
   ],
   "source": [
    "y_train"
   ]
  },
  {
   "cell_type": "code",
   "execution_count": 17,
   "id": "f2afd120-f8cc-4567-85a8-ee77af547e5b",
   "metadata": {},
   "outputs": [
    {
     "name": "stdout",
     "output_type": "stream",
     "text": [
      "782/782 [==============================] - 1s 1ms/step - loss: 0.2821 - acc: 0.8876\n",
      "acc : 0.8876\n"
     ]
    }
   ],
   "source": [
    "loaded_model = load_model('embedding_average_model.h5')\n",
    "print('acc : %.4f'%(loaded_model.evaluate(X_test, y_test)[1]))"
   ]
  },
  {
   "cell_type": "raw",
   "id": "c3d13d89-26f1-45e8-af8c-e91b3d0cd52a",
   "metadata": {},
   "source": [
    "# 벡터 평균만 구해도 성능이 준수하게 나온 모습을 확인할 수 있다."
   ]
  },
  {
   "cell_type": "code",
   "execution_count": null,
   "id": "8246ca64-64a7-4403-8190-919b745e1a2d",
   "metadata": {},
   "outputs": [],
   "source": []
  }
 ],
 "metadata": {
  "kernelspec": {
   "display_name": "Python (tensorflow)",
   "language": "python",
   "name": "tensorflow"
  },
  "language_info": {
   "codemirror_mode": {
    "name": "ipython",
    "version": 3
   },
   "file_extension": ".py",
   "mimetype": "text/x-python",
   "name": "python",
   "nbconvert_exporter": "python",
   "pygments_lexer": "ipython3",
   "version": "3.10.14"
  }
 },
 "nbformat": 4,
 "nbformat_minor": 5
}
