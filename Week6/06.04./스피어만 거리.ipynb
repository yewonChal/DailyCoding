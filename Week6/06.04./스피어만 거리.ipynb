{
 "cells": [
  {
   "cell_type": "code",
   "execution_count": 1,
   "id": "9004d2fb-e899-46d7-ad0f-b0f1f7949b18",
   "metadata": {},
   "outputs": [],
   "source": [
    "from sklearn.model_selection import KFold\n",
    "from sklearn.neighbors import NearestNeighbors"
   ]
  },
  {
   "cell_type": "code",
   "execution_count": 2,
   "id": "fd103da3-cb10-4c43-a341-baa96995e954",
   "metadata": {},
   "outputs": [],
   "source": [
    "import numpy as np\n",
    "import pandas as pd\n",
    "from sklearn.datasets import load_iris\n",
    "from sklearn.model_selection import train_test_split\n",
    "from sklearn.preprocessing import StandardScaler\n",
    "from sklearn.neighbors import KNeighborsClassifier\n",
    "from sklearn.metrics import accuracy_score\n",
    "from matplotlib import rc\n",
    "\n",
    "rc('font', family='AppleGothic')\n",
    "rc('axes', unicode_minus=False)\n",
    "\n",
    "iris = load_iris()\n",
    "X = iris.data\n",
    "y = iris.target"
   ]
  },
  {
   "cell_type": "code",
   "execution_count": null,
   "id": "0133efaa-90cc-4775-9da6-9b6f34f0f607",
   "metadata": {},
   "outputs": [],
   "source": []
  },
  {
   "cell_type": "code",
   "execution_count": 3,
   "id": "d717212d-cc12-4020-9078-6695995c7f64",
   "metadata": {},
   "outputs": [],
   "source": [
    "# 스피어만 거리(Spearman Correlation Distance) 1 - p\n",
    "from scipy.stats import spearmanr\n",
    "\n",
    "def spearmancorr(x, y):\n",
    "    rho, pval = spearmanr(x, y, axis=0)\n",
    "    return 1-rho"
   ]
  },
  {
   "cell_type": "code",
   "execution_count": null,
   "id": "c3a92129-c809-457d-beaa-ffc4e6f4c72e",
   "metadata": {},
   "outputs": [],
   "source": [
    "from tqdm import tqdm\n",
    "spear = []\n",
    "for k in tqdm(k_list):\n",
    "    spear_acc = []\n",
    "    for train_index, valid_index in kf.split(X_train):\n",
    "        X_train_f = X_train[train_index]\n",
    "        y_train_f = y_train[train_index]\n",
    "\n",
    "        X_valid_f = X_train[valid_index]\n",
    "        y_valid_f = y_train[valid_index]\n",
    "\n",
    "        total = len(y_valid_f)\n",
    "        correct = 0\n",
    "\n",
    "        knn = KNeighborsClassifier(n_neighbors=k, metric=spearmancorr, algorithm='brute')\n",
    "        knn.fit(X_train_f, y_train_f)\n",
    "\n",
    "        for v in range(len(X_valid_f)):\n",
    "            prediction = knn.predict(X_valid_f[v].reshape(1, -1))\n",
    "            if prediction == y_valid_f[v]:\n",
    "                correct += 1\n",
    "\n",
    "        spear_acc.append(correct/total)\n",
    "\n",
    "    spear.append(np.mean(spear_acc))"
   ]
  },
  {
   "cell_type": "code",
   "execution_count": null,
   "id": "d9b620bd-85b1-489f-a388-a8827c1532b1",
   "metadata": {},
   "outputs": [],
   "source": [
    "plt.figure(figsize=(15, 10))\n",
    "plt.plot(k_list, euc, marker='o')\n",
    "plt.plot(k_list, man, linestyle='dashed', marker='p')\n",
    "plt.plot(k_list, mah, marker='s')\n",
    "plt.plot(k_list, pear, marker='d')\n",
    "plt.plot(k_list, pear, marker='v')\n",
    "plt.axvline(best_k, color='r', linestyle='--', linewidth=2)\n",
    "plt.xlabel('k value')\n",
    "plt.ylabel('Cross Validation')\n",
    "plt.title('Distance Measures')\n",
    "plt.legend(['Euclidean', 'Manhattan', 'Mahalanobis', 'Person Corr', 'Spearman Corr'])\n",
    "plt.show()"
   ]
  },
  {
   "cell_type": "code",
   "execution_count": null,
   "id": "4e29e9b3-1ac5-466e-9df2-2d0aaf9ddbbf",
   "metadata": {},
   "outputs": [],
   "source": [
    "from sklearn.metrics import recall_score, precision_score\n",
    "\n",
    "classifier = KNeighborsClassifier(n_neightbors=5, p=2)\n",
    "classifier.fit(X_train, y_train)\n",
    "y_pred = classifier.predict(X_test)\n",
    "\n",
    "acc = accurascy_score(y_test, y_pred)\n",
    "recall = recall_score(y_test, y_pred)\n",
    "precision = precision_score(y_test, y_pred)\n",
    "\n",
    "print(f'정확도 : {acc:0.3f}, 민감도 : {recall:0.3f}, 정밀도 : {precision:0.3f}')"
   ]
  },
  {
   "cell_type": "code",
   "execution_count": null,
   "id": "6d9e2bc3-861c-49e3-821a-64002fcc82cd",
   "metadata": {},
   "outputs": [],
   "source": [
    "euc = []\n",
    "\n",
    "for k in tqdm(k_list):\n",
    "    classifier = KNeighborsClassifier(n_neighbors=k, q=2, weights='distance')\n",
    "    scores = crossl_val_score(classifier, X_train, y_train, cv=10, scoring='accuracy')\n",
    "    euc.append(scores.mean())\n",
    "\n",
    "best_k = [k_list[i] for i in range(len(euc)) if euc[i] == np.max(euc)]"
   ]
  }
 ],
 "metadata": {
  "kernelspec": {
   "display_name": "Python 3 (ipykernel)",
   "language": "python",
   "name": "python3"
  },
  "language_info": {
   "codemirror_mode": {
    "name": "ipython",
    "version": 3
   },
   "file_extension": ".py",
   "mimetype": "text/x-python",
   "name": "python",
   "nbconvert_exporter": "python",
   "pygments_lexer": "ipython3",
   "version": "3.11.8"
  }
 },
 "nbformat": 4,
 "nbformat_minor": 5
}
