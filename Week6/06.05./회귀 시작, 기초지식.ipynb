{
 "cells": [
  {
   "cell_type": "markdown",
   "id": "b84b649c-ff51-442b-9bdb-eaff49174fe5",
   "metadata": {},
   "source": [
    "# 지도학습 - 회귀\n",
    "- 회귀란?\n",
    "    : 학습 데이터에 부합되는 출력값이 실수인 함수를 찾는 문제\n",
    "\n",
    "- 성능\n",
    "    - 오차 : 예측값과 실제값의 차이\n",
    "\n",
    "- 과적합 & 부적합\n",
    "    - 과적합 : 지나치게 복잡한 모델 사용\n",
    "    - 부적합 : 지나치게 단순한 모델 사용\n",
    "  \n",
    "      -> 과적합 대응 방법 : 모델의 복잡도를 성능 평가에 반영\n",
    "      \n",
    "      -> 목적함수 = 오차의 합 + (가중치)*(모델 복잡도)"
   ]
  },
  {
   "cell_type": "markdown",
   "id": "0200bd54-9c81-4fa2-a398-80f640b9b567",
   "metadata": {},
   "source": [
    "# 회귀(Regression) \n",
    ": 예측 모델링 기법 중 하나로 독립 변수와 종속 변수 간의 관계를 모델링하여 연속적인 값을 예측하는 것을 목표로 한다.\n",
    "\n",
    "1. 선형회귀 : 가장 기본적인 회귀 방법, 선형관계를 모델링(가장 기본적인 회귀 방법)\n",
    "2. 다중회귀 : 두 개 이상의 독립변수 사용\n",
    "3. 다항회귀 : 독립변수와 종속변수 간의 비선형관계를 모델링\n",
    "4. 릿지회귀 : 과적합을 방지해주는 회귀(L2 정규화)\n",
    "5. 라쏘회귀 : L1 정규화\n",
    "6. 로지스틱회귀 : 종속변수가 범주형인 경우(분류 문제에 쓰인다.) ⭐️⭐️⭐️\n",
    "7. 엘라스틱 넷 회귀 : L1, L2 정규화"
   ]
  },
  {
   "cell_type": "markdown",
   "id": "61db9f87-d451-448f-9c03-00b44c70b4e6",
   "metadata": {},
   "source": [
    "# 1) 선형회귀(Linear Regression)"
   ]
  },
  {
   "cell_type": "raw",
   "id": "784193eb-e7c7-4970-b942-259d924c565a",
   "metadata": {},
   "source": [
    "회귀 식을 생각하고, 각 방정식에 들어갈 값들을 코드로 넣어준다고 생각하면 된다.(공식에 값 직접 대입)"
   ]
  },
  {
   "cell_type": "code",
   "execution_count": 1,
   "id": "b0c58fd0-b767-4d01-ad74-54b944f0e3d4",
   "metadata": {},
   "outputs": [],
   "source": [
    "from sklearn.datasets import fetch_openml # 데이터 불러오는 라이브러리\n",
    "\n",
    "import numpy as np\n",
    "import pandas as pd # numpy와 pandas 사용을 위한 라이브러리\n",
    "\n",
    "import scipy as sp\n",
    "import scipy.stats as stats\n",
    "import statsmodels.api as sm\n",
    "from statsmodels.formula.api import ols # 머신러닝을 위한 라이브러리\n",
    "\n",
    "from sklearn.model_selection import train_test_split\n",
    "from sklearn.metrics import mean_squared_error, r2_score, mean_absolute_error # 평가를 위한 라이브러리\n",
    "\n",
    "import seaborn as sns\n",
    "import matplotlib.pyplot as plt\n",
    "import matplotlib.font_manager as fm\n",
    "import matplotlib\n",
    "import warnings\n",
    "warnings.filterwarnings('ignore')\n",
    "matplotlib.rcParams['axes.unicode_minus'] = False\n",
    "plt.rc('font', family='AppleGothic')"
   ]
  },
  {
   "cell_type": "raw",
   "id": "4d6ed665-9393-4d9b-92b9-9858a1150130",
   "metadata": {},
   "source": [
    "# 혹여 ssl에 문제가 생긴다면,\n",
    "import ssl\n",
    "ssl._create_default_https_context = ssl._ 어쩌고.."
   ]
  },
  {
   "cell_type": "code",
   "execution_count": 2,
   "id": "05f1e4ab-6202-427a-b3b9-7c49d8fad164",
   "metadata": {},
   "outputs": [
    {
     "name": "stdout",
     "output_type": "stream",
     "text": [
      "**Author**:   \n",
      "**Source**: Unknown - Date unknown  \n",
      "**Please cite**:   \n",
      "\n",
      "The Boston house-price data of Harrison, D. and Rubinfeld, D.L. 'Hedonic\n",
      "prices and the demand for clean air', J. Environ. Economics & Management,\n",
      "vol.5, 81-102, 1978.   Used in Belsley, Kuh & Welsch, 'Regression diagnostics\n",
      "...', Wiley, 1980.   N.B. Various transformations are used in the table on\n",
      "pages 244-261 of the latter.\n",
      "Variables in order:\n",
      "CRIM     per capita crime rate by town\n",
      "ZN       proportion of residential land zoned for lots over 25,000 sq.ft.\n",
      "INDUS    proportion of non-retail business acres per town\n",
      "CHAS     Charles River dummy variable (= 1 if tract bounds river; 0 otherwise)\n",
      "NOX      nitric oxides concentration (parts per 10 million)\n",
      "RM       average number of rooms per dwelling\n",
      "AGE      proportion of owner-occupied units built prior to 1940\n",
      "DIS      weighted distances to five Boston employment centres\n",
      "RAD      index of accessibility to radial highways\n",
      "TAX      full-value property-tax rate per $10,000\n",
      "PTRATIO  pupil-teacher ratio by town\n",
      "B        1000(Bk - 0.63)^2 where Bk is the proportion of blacks by town\n",
      "LSTAT    % lower status of the population\n",
      "MEDV     Median value of owner-occupied homes in $1000's\n",
      "\n",
      "\n",
      "Information about the dataset\n",
      "CLASSTYPE: numeric\n",
      "CLASSINDEX: last\n",
      "\n",
      "Downloaded from openml.org.\n"
     ]
    }
   ],
   "source": [
    "# 데이터 로드\n",
    "boston = fetch_openml(name='boston', version=1, as_frame=True)\n",
    "print(boston.DESCR)"
   ]
  },
  {
   "cell_type": "code",
   "execution_count": 3,
   "id": "dfbf4e5b-f47f-4afd-b893-248be1cd12e2",
   "metadata": {},
   "outputs": [
    {
     "data": {
      "text/html": [
       "<div>\n",
       "<style scoped>\n",
       "    .dataframe tbody tr th:only-of-type {\n",
       "        vertical-align: middle;\n",
       "    }\n",
       "\n",
       "    .dataframe tbody tr th {\n",
       "        vertical-align: top;\n",
       "    }\n",
       "\n",
       "    .dataframe thead th {\n",
       "        text-align: right;\n",
       "    }\n",
       "</style>\n",
       "<table border=\"1\" class=\"dataframe\">\n",
       "  <thead>\n",
       "    <tr style=\"text-align: right;\">\n",
       "      <th></th>\n",
       "      <th>CRIM</th>\n",
       "      <th>ZN</th>\n",
       "      <th>INDUS</th>\n",
       "      <th>CHAS</th>\n",
       "      <th>NOX</th>\n",
       "      <th>RM</th>\n",
       "      <th>AGE</th>\n",
       "      <th>DIS</th>\n",
       "      <th>RAD</th>\n",
       "      <th>TAX</th>\n",
       "      <th>PTRATIO</th>\n",
       "      <th>B</th>\n",
       "      <th>LSTAT</th>\n",
       "    </tr>\n",
       "  </thead>\n",
       "  <tbody>\n",
       "    <tr>\n",
       "      <th>0</th>\n",
       "      <td>0.00632</td>\n",
       "      <td>18.0</td>\n",
       "      <td>2.31</td>\n",
       "      <td>0</td>\n",
       "      <td>0.538</td>\n",
       "      <td>6.575</td>\n",
       "      <td>65.2</td>\n",
       "      <td>4.0900</td>\n",
       "      <td>1</td>\n",
       "      <td>296.0</td>\n",
       "      <td>15.3</td>\n",
       "      <td>396.90</td>\n",
       "      <td>4.98</td>\n",
       "    </tr>\n",
       "    <tr>\n",
       "      <th>1</th>\n",
       "      <td>0.02731</td>\n",
       "      <td>0.0</td>\n",
       "      <td>7.07</td>\n",
       "      <td>0</td>\n",
       "      <td>0.469</td>\n",
       "      <td>6.421</td>\n",
       "      <td>78.9</td>\n",
       "      <td>4.9671</td>\n",
       "      <td>2</td>\n",
       "      <td>242.0</td>\n",
       "      <td>17.8</td>\n",
       "      <td>396.90</td>\n",
       "      <td>9.14</td>\n",
       "    </tr>\n",
       "    <tr>\n",
       "      <th>2</th>\n",
       "      <td>0.02729</td>\n",
       "      <td>0.0</td>\n",
       "      <td>7.07</td>\n",
       "      <td>0</td>\n",
       "      <td>0.469</td>\n",
       "      <td>7.185</td>\n",
       "      <td>61.1</td>\n",
       "      <td>4.9671</td>\n",
       "      <td>2</td>\n",
       "      <td>242.0</td>\n",
       "      <td>17.8</td>\n",
       "      <td>392.83</td>\n",
       "      <td>4.03</td>\n",
       "    </tr>\n",
       "    <tr>\n",
       "      <th>3</th>\n",
       "      <td>0.03237</td>\n",
       "      <td>0.0</td>\n",
       "      <td>2.18</td>\n",
       "      <td>0</td>\n",
       "      <td>0.458</td>\n",
       "      <td>6.998</td>\n",
       "      <td>45.8</td>\n",
       "      <td>6.0622</td>\n",
       "      <td>3</td>\n",
       "      <td>222.0</td>\n",
       "      <td>18.7</td>\n",
       "      <td>394.63</td>\n",
       "      <td>2.94</td>\n",
       "    </tr>\n",
       "    <tr>\n",
       "      <th>4</th>\n",
       "      <td>0.06905</td>\n",
       "      <td>0.0</td>\n",
       "      <td>2.18</td>\n",
       "      <td>0</td>\n",
       "      <td>0.458</td>\n",
       "      <td>7.147</td>\n",
       "      <td>54.2</td>\n",
       "      <td>6.0622</td>\n",
       "      <td>3</td>\n",
       "      <td>222.0</td>\n",
       "      <td>18.7</td>\n",
       "      <td>396.90</td>\n",
       "      <td>5.33</td>\n",
       "    </tr>\n",
       "    <tr>\n",
       "      <th>...</th>\n",
       "      <td>...</td>\n",
       "      <td>...</td>\n",
       "      <td>...</td>\n",
       "      <td>...</td>\n",
       "      <td>...</td>\n",
       "      <td>...</td>\n",
       "      <td>...</td>\n",
       "      <td>...</td>\n",
       "      <td>...</td>\n",
       "      <td>...</td>\n",
       "      <td>...</td>\n",
       "      <td>...</td>\n",
       "      <td>...</td>\n",
       "    </tr>\n",
       "    <tr>\n",
       "      <th>501</th>\n",
       "      <td>0.06263</td>\n",
       "      <td>0.0</td>\n",
       "      <td>11.93</td>\n",
       "      <td>0</td>\n",
       "      <td>0.573</td>\n",
       "      <td>6.593</td>\n",
       "      <td>69.1</td>\n",
       "      <td>2.4786</td>\n",
       "      <td>1</td>\n",
       "      <td>273.0</td>\n",
       "      <td>21.0</td>\n",
       "      <td>391.99</td>\n",
       "      <td>9.67</td>\n",
       "    </tr>\n",
       "    <tr>\n",
       "      <th>502</th>\n",
       "      <td>0.04527</td>\n",
       "      <td>0.0</td>\n",
       "      <td>11.93</td>\n",
       "      <td>0</td>\n",
       "      <td>0.573</td>\n",
       "      <td>6.120</td>\n",
       "      <td>76.7</td>\n",
       "      <td>2.2875</td>\n",
       "      <td>1</td>\n",
       "      <td>273.0</td>\n",
       "      <td>21.0</td>\n",
       "      <td>396.90</td>\n",
       "      <td>9.08</td>\n",
       "    </tr>\n",
       "    <tr>\n",
       "      <th>503</th>\n",
       "      <td>0.06076</td>\n",
       "      <td>0.0</td>\n",
       "      <td>11.93</td>\n",
       "      <td>0</td>\n",
       "      <td>0.573</td>\n",
       "      <td>6.976</td>\n",
       "      <td>91.0</td>\n",
       "      <td>2.1675</td>\n",
       "      <td>1</td>\n",
       "      <td>273.0</td>\n",
       "      <td>21.0</td>\n",
       "      <td>396.90</td>\n",
       "      <td>5.64</td>\n",
       "    </tr>\n",
       "    <tr>\n",
       "      <th>504</th>\n",
       "      <td>0.10959</td>\n",
       "      <td>0.0</td>\n",
       "      <td>11.93</td>\n",
       "      <td>0</td>\n",
       "      <td>0.573</td>\n",
       "      <td>6.794</td>\n",
       "      <td>89.3</td>\n",
       "      <td>2.3889</td>\n",
       "      <td>1</td>\n",
       "      <td>273.0</td>\n",
       "      <td>21.0</td>\n",
       "      <td>393.45</td>\n",
       "      <td>6.48</td>\n",
       "    </tr>\n",
       "    <tr>\n",
       "      <th>505</th>\n",
       "      <td>0.04741</td>\n",
       "      <td>0.0</td>\n",
       "      <td>11.93</td>\n",
       "      <td>0</td>\n",
       "      <td>0.573</td>\n",
       "      <td>6.030</td>\n",
       "      <td>80.8</td>\n",
       "      <td>2.5050</td>\n",
       "      <td>1</td>\n",
       "      <td>273.0</td>\n",
       "      <td>21.0</td>\n",
       "      <td>396.90</td>\n",
       "      <td>7.88</td>\n",
       "    </tr>\n",
       "  </tbody>\n",
       "</table>\n",
       "<p>506 rows × 13 columns</p>\n",
       "</div>"
      ],
      "text/plain": [
       "        CRIM    ZN  INDUS CHAS    NOX     RM   AGE     DIS RAD    TAX  \\\n",
       "0    0.00632  18.0   2.31    0  0.538  6.575  65.2  4.0900   1  296.0   \n",
       "1    0.02731   0.0   7.07    0  0.469  6.421  78.9  4.9671   2  242.0   \n",
       "2    0.02729   0.0   7.07    0  0.469  7.185  61.1  4.9671   2  242.0   \n",
       "3    0.03237   0.0   2.18    0  0.458  6.998  45.8  6.0622   3  222.0   \n",
       "4    0.06905   0.0   2.18    0  0.458  7.147  54.2  6.0622   3  222.0   \n",
       "..       ...   ...    ...  ...    ...    ...   ...     ...  ..    ...   \n",
       "501  0.06263   0.0  11.93    0  0.573  6.593  69.1  2.4786   1  273.0   \n",
       "502  0.04527   0.0  11.93    0  0.573  6.120  76.7  2.2875   1  273.0   \n",
       "503  0.06076   0.0  11.93    0  0.573  6.976  91.0  2.1675   1  273.0   \n",
       "504  0.10959   0.0  11.93    0  0.573  6.794  89.3  2.3889   1  273.0   \n",
       "505  0.04741   0.0  11.93    0  0.573  6.030  80.8  2.5050   1  273.0   \n",
       "\n",
       "     PTRATIO       B  LSTAT  \n",
       "0       15.3  396.90   4.98  \n",
       "1       17.8  396.90   9.14  \n",
       "2       17.8  392.83   4.03  \n",
       "3       18.7  394.63   2.94  \n",
       "4       18.7  396.90   5.33  \n",
       "..       ...     ...    ...  \n",
       "501     21.0  391.99   9.67  \n",
       "502     21.0  396.90   9.08  \n",
       "503     21.0  396.90   5.64  \n",
       "504     21.0  393.45   6.48  \n",
       "505     21.0  396.90   7.88  \n",
       "\n",
       "[506 rows x 13 columns]"
      ]
     },
     "execution_count": 3,
     "metadata": {},
     "output_type": "execute_result"
    }
   ],
   "source": [
    "boston.data"
   ]
  },
  {
   "cell_type": "code",
   "execution_count": 4,
   "id": "8346b904-682c-4d2d-bb30-3a360dbc2c6c",
   "metadata": {},
   "outputs": [
    {
     "data": {
      "text/plain": [
       "0      24.0\n",
       "1      21.6\n",
       "2      34.7\n",
       "3      33.4\n",
       "4      36.2\n",
       "       ... \n",
       "501    22.4\n",
       "502    20.6\n",
       "503    23.9\n",
       "504    22.0\n",
       "505    11.9\n",
       "Name: MEDV, Length: 506, dtype: float64"
      ]
     },
     "execution_count": 4,
     "metadata": {},
     "output_type": "execute_result"
    }
   ],
   "source": [
    "boston.target"
   ]
  },
  {
   "cell_type": "code",
   "execution_count": 5,
   "id": "4b3763ce-8abf-42ce-9d26-91c4eeecb186",
   "metadata": {},
   "outputs": [
    {
     "data": {
      "text/plain": [
       "['CRIM',\n",
       " 'ZN',\n",
       " 'INDUS',\n",
       " 'CHAS',\n",
       " 'NOX',\n",
       " 'RM',\n",
       " 'AGE',\n",
       " 'DIS',\n",
       " 'RAD',\n",
       " 'TAX',\n",
       " 'PTRATIO',\n",
       " 'B',\n",
       " 'LSTAT']"
      ]
     },
     "execution_count": 5,
     "metadata": {},
     "output_type": "execute_result"
    }
   ],
   "source": [
    "boston.feature_names"
   ]
  },
  {
   "cell_type": "code",
   "execution_count": 6,
   "id": "c62c17ae-3896-4ac0-a077-4c4a28a02bea",
   "metadata": {},
   "outputs": [
    {
     "data": {
      "text/plain": [
       "(506, 13)"
      ]
     },
     "execution_count": 6,
     "metadata": {},
     "output_type": "execute_result"
    }
   ],
   "source": [
    "boston.data.shape"
   ]
  },
  {
   "cell_type": "code",
   "execution_count": 7,
   "id": "27237cb5-1bcd-4e94-8a9d-ac75597df02f",
   "metadata": {},
   "outputs": [],
   "source": [
    "X = pd.DataFrame(boston.data, columns=boston.feature_names)\n",
    "y = pd.DataFrame(boston.target, columns=['MEDV'])"
   ]
  },
  {
   "cell_type": "code",
   "execution_count": 8,
   "id": "7903df6c-148d-454a-a91d-cfe54bd54f8a",
   "metadata": {},
   "outputs": [
    {
     "data": {
      "text/html": [
       "<div>\n",
       "<style scoped>\n",
       "    .dataframe tbody tr th:only-of-type {\n",
       "        vertical-align: middle;\n",
       "    }\n",
       "\n",
       "    .dataframe tbody tr th {\n",
       "        vertical-align: top;\n",
       "    }\n",
       "\n",
       "    .dataframe thead th {\n",
       "        text-align: right;\n",
       "    }\n",
       "</style>\n",
       "<table border=\"1\" class=\"dataframe\">\n",
       "  <thead>\n",
       "    <tr style=\"text-align: right;\">\n",
       "      <th></th>\n",
       "      <th>CRIM</th>\n",
       "      <th>ZN</th>\n",
       "      <th>INDUS</th>\n",
       "      <th>CHAS</th>\n",
       "      <th>NOX</th>\n",
       "      <th>RM</th>\n",
       "      <th>AGE</th>\n",
       "      <th>DIS</th>\n",
       "      <th>RAD</th>\n",
       "      <th>TAX</th>\n",
       "      <th>PTRATIO</th>\n",
       "      <th>B</th>\n",
       "      <th>LSTAT</th>\n",
       "    </tr>\n",
       "  </thead>\n",
       "  <tbody>\n",
       "    <tr>\n",
       "      <th>0</th>\n",
       "      <td>0.00632</td>\n",
       "      <td>18.0</td>\n",
       "      <td>2.31</td>\n",
       "      <td>0</td>\n",
       "      <td>0.538</td>\n",
       "      <td>6.575</td>\n",
       "      <td>65.2</td>\n",
       "      <td>4.0900</td>\n",
       "      <td>1</td>\n",
       "      <td>296.0</td>\n",
       "      <td>15.3</td>\n",
       "      <td>396.90</td>\n",
       "      <td>4.98</td>\n",
       "    </tr>\n",
       "    <tr>\n",
       "      <th>1</th>\n",
       "      <td>0.02731</td>\n",
       "      <td>0.0</td>\n",
       "      <td>7.07</td>\n",
       "      <td>0</td>\n",
       "      <td>0.469</td>\n",
       "      <td>6.421</td>\n",
       "      <td>78.9</td>\n",
       "      <td>4.9671</td>\n",
       "      <td>2</td>\n",
       "      <td>242.0</td>\n",
       "      <td>17.8</td>\n",
       "      <td>396.90</td>\n",
       "      <td>9.14</td>\n",
       "    </tr>\n",
       "    <tr>\n",
       "      <th>2</th>\n",
       "      <td>0.02729</td>\n",
       "      <td>0.0</td>\n",
       "      <td>7.07</td>\n",
       "      <td>0</td>\n",
       "      <td>0.469</td>\n",
       "      <td>7.185</td>\n",
       "      <td>61.1</td>\n",
       "      <td>4.9671</td>\n",
       "      <td>2</td>\n",
       "      <td>242.0</td>\n",
       "      <td>17.8</td>\n",
       "      <td>392.83</td>\n",
       "      <td>4.03</td>\n",
       "    </tr>\n",
       "    <tr>\n",
       "      <th>3</th>\n",
       "      <td>0.03237</td>\n",
       "      <td>0.0</td>\n",
       "      <td>2.18</td>\n",
       "      <td>0</td>\n",
       "      <td>0.458</td>\n",
       "      <td>6.998</td>\n",
       "      <td>45.8</td>\n",
       "      <td>6.0622</td>\n",
       "      <td>3</td>\n",
       "      <td>222.0</td>\n",
       "      <td>18.7</td>\n",
       "      <td>394.63</td>\n",
       "      <td>2.94</td>\n",
       "    </tr>\n",
       "    <tr>\n",
       "      <th>4</th>\n",
       "      <td>0.06905</td>\n",
       "      <td>0.0</td>\n",
       "      <td>2.18</td>\n",
       "      <td>0</td>\n",
       "      <td>0.458</td>\n",
       "      <td>7.147</td>\n",
       "      <td>54.2</td>\n",
       "      <td>6.0622</td>\n",
       "      <td>3</td>\n",
       "      <td>222.0</td>\n",
       "      <td>18.7</td>\n",
       "      <td>396.90</td>\n",
       "      <td>5.33</td>\n",
       "    </tr>\n",
       "  </tbody>\n",
       "</table>\n",
       "</div>"
      ],
      "text/plain": [
       "      CRIM    ZN  INDUS CHAS    NOX     RM   AGE     DIS RAD    TAX  PTRATIO  \\\n",
       "0  0.00632  18.0   2.31    0  0.538  6.575  65.2  4.0900   1  296.0     15.3   \n",
       "1  0.02731   0.0   7.07    0  0.469  6.421  78.9  4.9671   2  242.0     17.8   \n",
       "2  0.02729   0.0   7.07    0  0.469  7.185  61.1  4.9671   2  242.0     17.8   \n",
       "3  0.03237   0.0   2.18    0  0.458  6.998  45.8  6.0622   3  222.0     18.7   \n",
       "4  0.06905   0.0   2.18    0  0.458  7.147  54.2  6.0622   3  222.0     18.7   \n",
       "\n",
       "        B  LSTAT  \n",
       "0  396.90   4.98  \n",
       "1  396.90   9.14  \n",
       "2  392.83   4.03  \n",
       "3  394.63   2.94  \n",
       "4  396.90   5.33  "
      ]
     },
     "execution_count": 8,
     "metadata": {},
     "output_type": "execute_result"
    }
   ],
   "source": [
    "X.head()"
   ]
  },
  {
   "cell_type": "code",
   "execution_count": 9,
   "id": "c2ee42d0-2390-4fb6-ab93-30116679c82e",
   "metadata": {},
   "outputs": [
    {
     "data": {
      "text/html": [
       "<div>\n",
       "<style scoped>\n",
       "    .dataframe tbody tr th:only-of-type {\n",
       "        vertical-align: middle;\n",
       "    }\n",
       "\n",
       "    .dataframe tbody tr th {\n",
       "        vertical-align: top;\n",
       "    }\n",
       "\n",
       "    .dataframe thead th {\n",
       "        text-align: right;\n",
       "    }\n",
       "</style>\n",
       "<table border=\"1\" class=\"dataframe\">\n",
       "  <thead>\n",
       "    <tr style=\"text-align: right;\">\n",
       "      <th></th>\n",
       "      <th>MEDV</th>\n",
       "    </tr>\n",
       "  </thead>\n",
       "  <tbody>\n",
       "    <tr>\n",
       "      <th>0</th>\n",
       "      <td>24.0</td>\n",
       "    </tr>\n",
       "    <tr>\n",
       "      <th>1</th>\n",
       "      <td>21.6</td>\n",
       "    </tr>\n",
       "    <tr>\n",
       "      <th>2</th>\n",
       "      <td>34.7</td>\n",
       "    </tr>\n",
       "    <tr>\n",
       "      <th>3</th>\n",
       "      <td>33.4</td>\n",
       "    </tr>\n",
       "    <tr>\n",
       "      <th>4</th>\n",
       "      <td>36.2</td>\n",
       "    </tr>\n",
       "  </tbody>\n",
       "</table>\n",
       "</div>"
      ],
      "text/plain": [
       "   MEDV\n",
       "0  24.0\n",
       "1  21.6\n",
       "2  34.7\n",
       "3  33.4\n",
       "4  36.2"
      ]
     },
     "execution_count": 9,
     "metadata": {},
     "output_type": "execute_result"
    }
   ],
   "source": [
    "y.head()"
   ]
  },
  {
   "cell_type": "code",
   "execution_count": 10,
   "id": "e3228de8-be05-4c31-bb11-7a2ce28fec32",
   "metadata": {},
   "outputs": [],
   "source": [
    "X_train, X_test, y_train, y_test = train_test_split(X, y, test_size=0.2, random_state=42)"
   ]
  },
  {
   "cell_type": "code",
   "execution_count": 11,
   "id": "ecb38699-890f-496f-93fc-768733e095f5",
   "metadata": {},
   "outputs": [
    {
     "data": {
      "text/html": [
       "<div>\n",
       "<style scoped>\n",
       "    .dataframe tbody tr th:only-of-type {\n",
       "        vertical-align: middle;\n",
       "    }\n",
       "\n",
       "    .dataframe tbody tr th {\n",
       "        vertical-align: top;\n",
       "    }\n",
       "\n",
       "    .dataframe thead th {\n",
       "        text-align: right;\n",
       "    }\n",
       "</style>\n",
       "<table border=\"1\" class=\"dataframe\">\n",
       "  <thead>\n",
       "    <tr style=\"text-align: right;\">\n",
       "      <th></th>\n",
       "      <th>CRIM</th>\n",
       "      <th>ZN</th>\n",
       "      <th>INDUS</th>\n",
       "      <th>CHAS</th>\n",
       "      <th>NOX</th>\n",
       "      <th>RM</th>\n",
       "      <th>AGE</th>\n",
       "      <th>DIS</th>\n",
       "      <th>RAD</th>\n",
       "      <th>TAX</th>\n",
       "      <th>PTRATIO</th>\n",
       "      <th>B</th>\n",
       "      <th>LSTAT</th>\n",
       "    </tr>\n",
       "  </thead>\n",
       "  <tbody>\n",
       "    <tr>\n",
       "      <th>477</th>\n",
       "      <td>15.02340</td>\n",
       "      <td>0.0</td>\n",
       "      <td>18.10</td>\n",
       "      <td>0</td>\n",
       "      <td>0.6140</td>\n",
       "      <td>5.304</td>\n",
       "      <td>97.3</td>\n",
       "      <td>2.1007</td>\n",
       "      <td>24</td>\n",
       "      <td>666.0</td>\n",
       "      <td>20.2</td>\n",
       "      <td>349.48</td>\n",
       "      <td>24.91</td>\n",
       "    </tr>\n",
       "    <tr>\n",
       "      <th>15</th>\n",
       "      <td>0.62739</td>\n",
       "      <td>0.0</td>\n",
       "      <td>8.14</td>\n",
       "      <td>0</td>\n",
       "      <td>0.5380</td>\n",
       "      <td>5.834</td>\n",
       "      <td>56.5</td>\n",
       "      <td>4.4986</td>\n",
       "      <td>4</td>\n",
       "      <td>307.0</td>\n",
       "      <td>21.0</td>\n",
       "      <td>395.62</td>\n",
       "      <td>8.47</td>\n",
       "    </tr>\n",
       "    <tr>\n",
       "      <th>332</th>\n",
       "      <td>0.03466</td>\n",
       "      <td>35.0</td>\n",
       "      <td>6.06</td>\n",
       "      <td>0</td>\n",
       "      <td>0.4379</td>\n",
       "      <td>6.031</td>\n",
       "      <td>23.3</td>\n",
       "      <td>6.6407</td>\n",
       "      <td>1</td>\n",
       "      <td>304.0</td>\n",
       "      <td>16.9</td>\n",
       "      <td>362.25</td>\n",
       "      <td>7.83</td>\n",
       "    </tr>\n",
       "    <tr>\n",
       "      <th>423</th>\n",
       "      <td>7.05042</td>\n",
       "      <td>0.0</td>\n",
       "      <td>18.10</td>\n",
       "      <td>0</td>\n",
       "      <td>0.6140</td>\n",
       "      <td>6.103</td>\n",
       "      <td>85.1</td>\n",
       "      <td>2.0218</td>\n",
       "      <td>24</td>\n",
       "      <td>666.0</td>\n",
       "      <td>20.2</td>\n",
       "      <td>2.52</td>\n",
       "      <td>23.29</td>\n",
       "    </tr>\n",
       "    <tr>\n",
       "      <th>19</th>\n",
       "      <td>0.72580</td>\n",
       "      <td>0.0</td>\n",
       "      <td>8.14</td>\n",
       "      <td>0</td>\n",
       "      <td>0.5380</td>\n",
       "      <td>5.727</td>\n",
       "      <td>69.5</td>\n",
       "      <td>3.7965</td>\n",
       "      <td>4</td>\n",
       "      <td>307.0</td>\n",
       "      <td>21.0</td>\n",
       "      <td>390.95</td>\n",
       "      <td>11.28</td>\n",
       "    </tr>\n",
       "  </tbody>\n",
       "</table>\n",
       "</div>"
      ],
      "text/plain": [
       "         CRIM    ZN  INDUS CHAS     NOX     RM   AGE     DIS RAD    TAX  \\\n",
       "477  15.02340   0.0  18.10    0  0.6140  5.304  97.3  2.1007  24  666.0   \n",
       "15    0.62739   0.0   8.14    0  0.5380  5.834  56.5  4.4986   4  307.0   \n",
       "332   0.03466  35.0   6.06    0  0.4379  6.031  23.3  6.6407   1  304.0   \n",
       "423   7.05042   0.0  18.10    0  0.6140  6.103  85.1  2.0218  24  666.0   \n",
       "19    0.72580   0.0   8.14    0  0.5380  5.727  69.5  3.7965   4  307.0   \n",
       "\n",
       "     PTRATIO       B  LSTAT  \n",
       "477     20.2  349.48  24.91  \n",
       "15      21.0  395.62   8.47  \n",
       "332     16.9  362.25   7.83  \n",
       "423     20.2    2.52  23.29  \n",
       "19      21.0  390.95  11.28  "
      ]
     },
     "execution_count": 11,
     "metadata": {},
     "output_type": "execute_result"
    }
   ],
   "source": [
    "X_train.head()"
   ]
  },
  {
   "cell_type": "code",
   "execution_count": 12,
   "id": "10107992-1d31-41b2-84e2-9f093a2bdf2e",
   "metadata": {},
   "outputs": [
    {
     "data": {
      "text/html": [
       "<div>\n",
       "<style scoped>\n",
       "    .dataframe tbody tr th:only-of-type {\n",
       "        vertical-align: middle;\n",
       "    }\n",
       "\n",
       "    .dataframe tbody tr th {\n",
       "        vertical-align: top;\n",
       "    }\n",
       "\n",
       "    .dataframe thead th {\n",
       "        text-align: right;\n",
       "    }\n",
       "</style>\n",
       "<table border=\"1\" class=\"dataframe\">\n",
       "  <thead>\n",
       "    <tr style=\"text-align: right;\">\n",
       "      <th></th>\n",
       "      <th>CRIM</th>\n",
       "      <th>ZN</th>\n",
       "      <th>INDUS</th>\n",
       "      <th>CHAS</th>\n",
       "      <th>NOX</th>\n",
       "      <th>RM</th>\n",
       "      <th>AGE</th>\n",
       "      <th>DIS</th>\n",
       "      <th>RAD</th>\n",
       "      <th>TAX</th>\n",
       "      <th>PTRATIO</th>\n",
       "      <th>B</th>\n",
       "      <th>LSTAT</th>\n",
       "    </tr>\n",
       "  </thead>\n",
       "  <tbody>\n",
       "    <tr>\n",
       "      <th>173</th>\n",
       "      <td>0.09178</td>\n",
       "      <td>0.0</td>\n",
       "      <td>4.05</td>\n",
       "      <td>0</td>\n",
       "      <td>0.510</td>\n",
       "      <td>6.416</td>\n",
       "      <td>84.1</td>\n",
       "      <td>2.6463</td>\n",
       "      <td>5</td>\n",
       "      <td>296.0</td>\n",
       "      <td>16.6</td>\n",
       "      <td>395.50</td>\n",
       "      <td>9.04</td>\n",
       "    </tr>\n",
       "    <tr>\n",
       "      <th>274</th>\n",
       "      <td>0.05644</td>\n",
       "      <td>40.0</td>\n",
       "      <td>6.41</td>\n",
       "      <td>1</td>\n",
       "      <td>0.447</td>\n",
       "      <td>6.758</td>\n",
       "      <td>32.9</td>\n",
       "      <td>4.0776</td>\n",
       "      <td>4</td>\n",
       "      <td>254.0</td>\n",
       "      <td>17.6</td>\n",
       "      <td>396.90</td>\n",
       "      <td>3.53</td>\n",
       "    </tr>\n",
       "    <tr>\n",
       "      <th>491</th>\n",
       "      <td>0.10574</td>\n",
       "      <td>0.0</td>\n",
       "      <td>27.74</td>\n",
       "      <td>0</td>\n",
       "      <td>0.609</td>\n",
       "      <td>5.983</td>\n",
       "      <td>98.8</td>\n",
       "      <td>1.8681</td>\n",
       "      <td>4</td>\n",
       "      <td>711.0</td>\n",
       "      <td>20.1</td>\n",
       "      <td>390.11</td>\n",
       "      <td>18.07</td>\n",
       "    </tr>\n",
       "    <tr>\n",
       "      <th>72</th>\n",
       "      <td>0.09164</td>\n",
       "      <td>0.0</td>\n",
       "      <td>10.81</td>\n",
       "      <td>0</td>\n",
       "      <td>0.413</td>\n",
       "      <td>6.065</td>\n",
       "      <td>7.8</td>\n",
       "      <td>5.2873</td>\n",
       "      <td>4</td>\n",
       "      <td>305.0</td>\n",
       "      <td>19.2</td>\n",
       "      <td>390.91</td>\n",
       "      <td>5.52</td>\n",
       "    </tr>\n",
       "    <tr>\n",
       "      <th>452</th>\n",
       "      <td>5.09017</td>\n",
       "      <td>0.0</td>\n",
       "      <td>18.10</td>\n",
       "      <td>0</td>\n",
       "      <td>0.713</td>\n",
       "      <td>6.297</td>\n",
       "      <td>91.8</td>\n",
       "      <td>2.3682</td>\n",
       "      <td>24</td>\n",
       "      <td>666.0</td>\n",
       "      <td>20.2</td>\n",
       "      <td>385.09</td>\n",
       "      <td>17.27</td>\n",
       "    </tr>\n",
       "  </tbody>\n",
       "</table>\n",
       "</div>"
      ],
      "text/plain": [
       "        CRIM    ZN  INDUS CHAS    NOX     RM   AGE     DIS RAD    TAX  \\\n",
       "173  0.09178   0.0   4.05    0  0.510  6.416  84.1  2.6463   5  296.0   \n",
       "274  0.05644  40.0   6.41    1  0.447  6.758  32.9  4.0776   4  254.0   \n",
       "491  0.10574   0.0  27.74    0  0.609  5.983  98.8  1.8681   4  711.0   \n",
       "72   0.09164   0.0  10.81    0  0.413  6.065   7.8  5.2873   4  305.0   \n",
       "452  5.09017   0.0  18.10    0  0.713  6.297  91.8  2.3682  24  666.0   \n",
       "\n",
       "     PTRATIO       B  LSTAT  \n",
       "173     16.6  395.50   9.04  \n",
       "274     17.6  396.90   3.53  \n",
       "491     20.1  390.11  18.07  \n",
       "72      19.2  390.91   5.52  \n",
       "452     20.2  385.09  17.27  "
      ]
     },
     "execution_count": 12,
     "metadata": {},
     "output_type": "execute_result"
    }
   ],
   "source": [
    "X_test.head()"
   ]
  },
  {
   "cell_type": "markdown",
   "id": "6d1f807a-6b03-4219-8f44-81d3f8f6940e",
   "metadata": {},
   "source": [
    "- statsmodels의 OLS를 사용하여 선형회귀분석 실행(Ordinary Least Squares)\n",
    "\n",
    "- OLS란, 가장 기본적인 선형회귀 방법 잔차제곱합(RSS : Residual Sum of Squares)를 최소화하는 가중치를 구하는 방법\n",
    "\n",
    "# 잔차\n",
    ": 데이터 포인트에 대해 실제값과 예측값의 차이를 계산한 값\n",
    "\n",
    "# 잔차제곱합(RSS)\n",
    ": 잔차를 제곱한 값들의 모음(합)(작을수록 좋다. = 모델의 예측이 실제 데이터와 가깝다는 것을 의미)"
   ]
  },
  {
   "cell_type": "code",
   "execution_count": 13,
   "id": "7e45ec7b-9a73-4a0c-a68a-d27b0b6316e8",
   "metadata": {},
   "outputs": [],
   "source": [
    "X_train = X_train.astype(float) # 선형회귀모델이 실수 연산을 하기 때문에 데이터 전처리를 float으로 처리한다.\n",
    "X_train = sm.add_constant(X_train) # 데이터셋에 상수항을 추가한다.(모든 값을 1로 할당)\n",
    "model = sm.OLS(y_train, X_train, axis=1) # 모델 선언\n",
    "model_trained = model.fit() # 모델 학습"
   ]
  },
  {
   "cell_type": "code",
   "execution_count": 14,
   "id": "5e4df902-9df2-44bd-b34a-7b126d85c179",
   "metadata": {},
   "outputs": [
    {
     "data": {
      "text/plain": [
       "<statsmodels.regression.linear_model.RegressionResultsWrapper at 0x113636c10>"
      ]
     },
     "execution_count": 14,
     "metadata": {},
     "output_type": "execute_result"
    }
   ],
   "source": [
    "model_trained"
   ]
  },
  {
   "cell_type": "code",
   "execution_count": 15,
   "id": "472e20ca-9e48-421b-954e-21a66651c050",
   "metadata": {},
   "outputs": [
    {
     "data": {
      "image/png": "[encoded data removed]",
      "text/plain": [
       "<Figure size 1200x1200 with 1 Axes>"
      ]
     },
     "metadata": {},
     "output_type": "display_data"
    }
   ],
   "source": [
    "# 데이터를 가지고 진짜 선형관계를 나타내주는 코드를 작성하고자 한다.\n",
    "# QQ 플롯 : 두 개의 분포의 분위수를 비교하는 그래프\n",
    "# 잔차가 정규분포를 따르는지 확인할 수 있다.(점들이 대각선에 가깝게 배열)(= 정규분포를 따른다.)\n",
    "\n",
    "model_residuals = model_trained.resid # 잔차 부분을 가져온다.\n",
    "\n",
    "fig, ax = plt.subplots(1, 1)\n",
    "fig.set_figheight(12)\n",
    "fig.set_figwidth(12)\n",
    "\n",
    "sm.ProbPlot(model_residuals).qqplot(line='s', color='red', ax=ax) # line = 's' 정규분포를 기준으로 하는 직선\n",
    "ax.title.set_text('QQ Plot')"
   ]
  },
  {
   "cell_type": "code",
   "execution_count": 16,
   "id": "6a7df05c-1350-4730-b09f-65c71f95e14f",
   "metadata": {},
   "outputs": [
    {
     "data": {
      "text/plain": [
       "477    1.030476\n",
       "15     0.488034\n",
       "332   -3.664196\n",
       "423    1.252935\n",
       "19    -0.173812\n",
       "         ...   \n",
       "106    2.259281\n",
       "270   -0.904800\n",
       "348   -2.223742\n",
       "435    0.423258\n",
       "102   -0.542796\n",
       "Length: 404, dtype: float64"
      ]
     },
     "execution_count": 16,
     "metadata": {},
     "output_type": "execute_result"
    }
   ],
   "source": [
    "model_residuals # 잔차, 어떤값이 들어있는지"
   ]
  },
  {
   "cell_type": "code",
   "execution_count": 17,
   "id": "2ce04cfc-05a3-47c3-8f9e-22188613db20",
   "metadata": {},
   "outputs": [
    {
     "data": {
      "text/plain": [
       "[Text(0.5, 0, 'Fitted Values'), Text(0, 0.5, 'Residuals')]"
      ]
     },
     "execution_count": 17,
     "metadata": {},
     "output_type": "execute_result"
    },
    {
     "data": {
      "image/png": "[encoded data removed]",
      "text/plain": [
       "<Figure size 600x600 with 1 Axes>"
      ]
     },
     "metadata": {},
     "output_type": "display_data"
    }
   ],
   "source": [
    "# 잔차의 적합성(예측값과 잔차의 관계 시각화)\n",
    "# 잔차의 적합성\n",
    "model_fitted_y = model_trained.fittedvalues\n",
    "\n",
    "fig, ax = plt.subplots(1,1)\n",
    "fig.set_figheight(6)\n",
    "fig.set_figwidth(6)\n",
    "\n",
    "# seaborn의 residplot 사용, Lowess=True(로컬 가중치 회귀(LOWESS)로 사용하여 추세선을 그리겠다.)\n",
    "sns.residplot(x=model_fitted_y, y=y_train, data=X_train, lowess=True, scatter_kws={'alpha':0.5}, line_kws={'color':'red'}, ax=ax)\n",
    "ax.title.set_text('Residuals vs Fitted')\n",
    "ax.set(xlabel='Fitted Values', ylabel='Residuals')"
   ]
  },
  {
   "cell_type": "markdown",
   "id": "16ef1b2e-3047-4efa-add6-e4aadb343baf",
   "metadata": {},
   "source": [
    "# 통계적으로 수치데이터를 보고 해석하는 방식\n",
    "1. R-dquared(결정계수)(coefficient of determination) : 모형의 성능\n",
    "   \n",
    "    => 종속변수의 변동성 중에서 회귀 모델이 설명할 수 있는 부분의 비율\n",
    "   \n",
    "2. coef(회귀계수) : X가 한 단위 증가할 때 Y의 변화량\n",
    "\n",
    "    => 양수 : 종속변수 증가\n",
    "   \n",
    "    => 음수 : 종속변수 감수\n",
    "   \n",
    "    => 회귀계수의 절댓값이 크면 독립변수가 종속변수에 큰 영향을 미친다.\n",
    "\n",
    "\n",
    "3. p-value(P > |t|) : 0.05 이하일 때, 변수(회귀계수)가 유의미한지 판단 가능\n",
    "\n",
    "    => 독립변수가 종속변수에 영향을 미치는지를 판단하는 값\n",
    "\n",
    "    => ex) 0.05의 값은 5% 확률로 잘못된 결론을 내릴 수 있다.\n",
    "\n",
    "* 귀무가설 : 독립변수가 종속변수에 영향을 미치지 않는다."
   ]
  },
  {
   "cell_type": "code",
   "execution_count": 18,
   "id": "df5dfcda-1e84-4a4e-98e5-db37e7bcfa85",
   "metadata": {},
   "outputs": [
    {
     "name": "stdout",
     "output_type": "stream",
     "text": [
      "                            OLS Regression Results                            \n",
      "==============================================================================\n",
      "Dep. Variable:                   MEDV   R-squared:                       0.751\n",
      "Model:                            OLS   Adj. R-squared:                  0.743\n",
      "Method:                 Least Squares   F-statistic:                     90.43\n",
      "Date:                Mon, 10 Jun 2024   Prob (F-statistic):          6.21e-109\n",
      "Time:                        09:13:18   Log-Likelihood:                -1194.3\n",
      "No. Observations:                 404   AIC:                             2417.\n",
      "Df Residuals:                     390   BIC:                             2473.\n",
      "Df Model:                          13                                         \n",
      "Covariance Type:            nonrobust                                         \n",
      "==============================================================================\n",
      "                 coef    std err          t      P>|t|      [0.025      0.975]\n",
      "------------------------------------------------------------------------------\n",
      "const         30.2468      5.677      5.328      0.000      19.086      41.408\n",
      "CRIM          -0.1131      0.035     -3.250      0.001      -0.181      -0.045\n",
      "ZN             0.0301      0.016      1.882      0.061      -0.001       0.062\n",
      "INDUS          0.0404      0.067      0.599      0.549      -0.092       0.173\n",
      "CHAS           2.7844      0.956      2.914      0.004       0.905       4.663\n",
      "NOX          -17.2026      4.236     -4.061      0.000     -25.531      -8.874\n",
      "RM             4.4388      0.464      9.567      0.000       3.527       5.351\n",
      "AGE           -0.0063      0.015     -0.432      0.666      -0.035       0.022\n",
      "DIS           -1.4479      0.226     -6.408      0.000      -1.892      -1.004\n",
      "RAD            0.2624      0.076      3.454      0.001       0.113       0.412\n",
      "TAX           -0.0106      0.004     -2.508      0.013      -0.019      -0.002\n",
      "PTRATIO       -0.9155      0.144     -6.357      0.000      -1.199      -0.632\n",
      "B              0.0124      0.003      4.166      0.000       0.007       0.018\n",
      "LSTAT         -0.5086      0.056     -9.133      0.000      -0.618      -0.399\n",
      "==============================================================================\n",
      "Omnibus:                      133.052   Durbin-Watson:                   2.114\n",
      "Prob(Omnibus):                  0.000   Jarque-Bera (JB):              579.817\n",
      "Skew:                           1.379   Prob(JB):                    1.24e-126\n",
      "Kurtosis:                       8.181   Cond. No.                     1.49e+04\n",
      "==============================================================================\n",
      "\n",
      "Notes:\n",
      "[1] Standard Errors assume that the covariance matrix of the errors is correctly specified.\n",
      "[2] The condition number is large, 1.49e+04. This might indicate that there are\n",
      "strong multicollinearity or other numerical problems.\n"
     ]
    }
   ],
   "source": [
    "print(model_trained.summary())"
   ]
  },
  {
   "cell_type": "code",
   "execution_count": 19,
   "id": "b1457627-605e-4f04-8ff5-93e6626a1922",
   "metadata": {},
   "outputs": [
    {
     "name": "stdout",
     "output_type": "stream",
     "text": [
      "                            OLS Regression Results                            \n",
      "==============================================================================\n",
      "Dep. Variable:                   MEDV   R-squared:                       0.751\n",
      "Model:                            OLS   Adj. R-squared:                  0.744\n",
      "Method:                 Least Squares   F-statistic:                     107.2\n",
      "Date:                Mon, 10 Jun 2024   Prob (F-statistic):          7.52e-111\n",
      "Time:                        09:13:18   Log-Likelihood:                -1194.6\n",
      "No. Observations:                 404   AIC:                             2413.\n",
      "Df Residuals:                     392   BIC:                             2461.\n",
      "Df Model:                          11                                         \n",
      "Covariance Type:            nonrobust                                         \n",
      "==============================================================================\n",
      "                 coef    std err          t      P>|t|      [0.025      0.975]\n",
      "------------------------------------------------------------------------------\n",
      "const         30.3288      5.654      5.364      0.000      19.213      41.445\n",
      "CRIM          -0.1139      0.035     -3.283      0.001      -0.182      -0.046\n",
      "ZN             0.0296      0.016      1.876      0.061      -0.001       0.061\n",
      "CHAS           2.8311      0.948      2.985      0.003       0.967       4.696\n",
      "NOX          -16.9480      3.934     -4.308      0.000     -24.683      -9.213\n",
      "RM             4.3626      0.449      9.711      0.000       3.479       5.246\n",
      "DIS           -1.4408      0.210     -6.869      0.000      -1.853      -1.028\n",
      "RAD            0.2539      0.073      3.456      0.001       0.109       0.398\n",
      "TAX           -0.0097      0.004     -2.479      0.014      -0.017      -0.002\n",
      "PTRATIO       -0.9130      0.142     -6.411      0.000      -1.193      -0.633\n",
      "B              0.0122      0.003      4.133      0.000       0.006       0.018\n",
      "LSTAT         -0.5135      0.053     -9.705      0.000      -0.618      -0.409\n",
      "==============================================================================\n",
      "Omnibus:                      130.816   Durbin-Watson:                   2.110\n",
      "Prob(Omnibus):                  0.000   Jarque-Bera (JB):              555.631\n",
      "Skew:                           1.363   Prob(JB):                    2.22e-121\n",
      "Kurtosis:                       8.058   Cond. No.                     1.46e+04\n",
      "==============================================================================\n",
      "\n",
      "Notes:\n",
      "[1] Standard Errors assume that the covariance matrix of the errors is correctly specified.\n",
      "[2] The condition number is large, 1.46e+04. This might indicate that there are\n",
      "strong multicollinearity or other numerical problems.\n"
     ]
    }
   ],
   "source": [
    "# 위 결과를 통해 p-value가 높은 변수를 제거하고자 한다.(INDUS, AGE)\n",
    "model = sm.OLS(y_train, X_train.drop(['INDUS', 'AGE'], axis=1))\n",
    "model_trained = model.fit()\n",
    "print(model_trained.summary())"
   ]
  },
  {
   "cell_type": "code",
   "execution_count": 20,
   "id": "1c4c699a-27e9-429c-bb57-5dbac2133f2e",
   "metadata": {},
   "outputs": [
    {
     "data": {
      "image/png": "[encoded data removed]",
      "text/plain": [
       "<Figure size 600x600 with 1 Axes>"
      ]
     },
     "metadata": {},
     "output_type": "display_data"
    }
   ],
   "source": [
    "# 시각화(그래프 그리기)(실제값과 모델의 출력값을 확인해보자.)\n",
    "y_train_pred = model_trained.fittedvalues\n",
    "\n",
    "plt.figure(figsize=(6, 6))\n",
    "plt.title('실제값 vs 모델 예측')\n",
    "plt.scatter(y_train, y_train_pred)\n",
    "plt.plot([-3, 53], [-3, 53], ls='--', c='red')\n",
    "plt.xlabel('실제값')\n",
    "plt.ylabel('모델 출력값')\n",
    "plt.xlim(-3, 53)\n",
    "plt.ylim(-3, 53)\n",
    "plt.show()"
   ]
  },
  {
   "cell_type": "code",
   "execution_count": 21,
   "id": "37b76151-ae2d-4af8-aab2-868247252d77",
   "metadata": {},
   "outputs": [
    {
     "name": "stdout",
     "output_type": "stream",
     "text": [
      "모델이 학습될 때 사용된 특성 수 : 12\n",
      "테스트에 사용되는 특성 수 : 13\n"
     ]
    }
   ],
   "source": [
    "print(\"모델이 학습될 때 사용된 특성 수 :\", len(model_trained.params))\n",
    "print(\"테스트에 사용되는 특성 수 :\", X_test.shape[1])"
   ]
  },
  {
   "cell_type": "code",
   "execution_count": 22,
   "id": "8b3090ed-cda8-4df2-89a7-cdc5f3f97036",
   "metadata": {},
   "outputs": [
    {
     "data": {
      "text/plain": [
       "const      30.328798\n",
       "CRIM       -0.113903\n",
       "ZN          0.029592\n",
       "CHAS        2.831118\n",
       "NOX       -16.947998\n",
       "RM          4.362608\n",
       "DIS        -1.440791\n",
       "RAD         0.253876\n",
       "TAX        -0.009663\n",
       "PTRATIO    -0.912985\n",
       "B           0.012203\n",
       "LSTAT      -0.513481\n",
       "dtype: float64"
      ]
     },
     "execution_count": 22,
     "metadata": {},
     "output_type": "execute_result"
    }
   ],
   "source": [
    "model_trained.params"
   ]
  },
  {
   "cell_type": "code",
   "execution_count": 23,
   "id": "c4164271-4ae7-4670-b185-8ef3bf5aa8cb",
   "metadata": {},
   "outputs": [
    {
     "data": {
      "text/plain": [
       "Index(['CRIM', 'ZN', 'INDUS', 'CHAS', 'NOX', 'RM', 'AGE', 'DIS', 'RAD', 'TAX',\n",
       "       'PTRATIO', 'B', 'LSTAT'],\n",
       "      dtype='object')"
      ]
     },
     "execution_count": 23,
     "metadata": {},
     "output_type": "execute_result"
    }
   ],
   "source": [
    "X_test.columns"
   ]
  },
  {
   "cell_type": "code",
   "execution_count": 24,
   "id": "a7088f97-a051-4488-89f7-e64356735815",
   "metadata": {},
   "outputs": [],
   "source": [
    "X_test = sm.add_constant(X_test)"
   ]
  },
  {
   "cell_type": "code",
   "execution_count": 25,
   "id": "8e106040-9604-4345-b0d2-8d8bb6f4e389",
   "metadata": {},
   "outputs": [
    {
     "data": {
      "text/plain": [
       "173    29.290302\n",
       "274    35.892006\n",
       "491    14.680930\n",
       "72     24.634702\n",
       "452    18.770526\n",
       "dtype: float64"
      ]
     },
     "execution_count": 25,
     "metadata": {},
     "output_type": "execute_result"
    }
   ],
   "source": [
    "X_test = X_test.astype(float)\n",
    "y_test_pred = model_trained.predict(X_test.drop(['INDUS', 'AGE'], axis=1))\n",
    "y_test_pred.head()"
   ]
  },
  {
   "cell_type": "markdown",
   "id": "b589e4f5-4f46-4c6a-ab7c-97edf63c82f1",
   "metadata": {},
   "source": [
    "# Mean Squared Error (평균 제곱 오차 MSE) <br>\n",
    "$\\frac{1}{n} \\sum_{i=1}^{n} (y_{i} - \\hat{y}_{i})^{2}$  \n",
    "\n",
    ": MSE는 예측 값과 실제 값 사이의 차이 제곱의 평균 값\n",
    "\n",
    "1. 공식 해석\n",
    "- 오차의 제곱 : 오차가 양수와 음수로 상쇄되지 않도록 큰 오차에 더 큰 패널티를 부여한다.\n",
    "- 평균 : 예측의 일관성 (개별 오차가 전체 MSE에 영향을 미치지 않도록)\n",
    "\n",
    "2. MSE 값 해석\n",
    "- 값의 범위 : 0에서부터 시작한다. 값이 작을수록 실제 값과 예측이 가깝다. 완벽한 모델의 경우 MSE는 0이 된다.\n",
    "- 비교 : 여러 모델 성능을 비교할 때, 더 작은 MSE 값의 모델을 선택한다.\n",
    "\n",
    "3. 단점\n",
    "이상치에 민감하다. 해석이 어려움. 비교대상이 없다."
   ]
  },
  {
   "cell_type": "code",
   "execution_count": 26,
   "id": "d99c21e2-5454-478b-a2dc-1c37f191a610",
   "metadata": {},
   "outputs": [
    {
     "name": "stdout",
     "output_type": "stream",
     "text": [
      "24.088447893940675\n"
     ]
    }
   ],
   "source": [
    "print(mean_squared_error(y_test, y_test_pred))"
   ]
  },
  {
   "cell_type": "markdown",
   "id": "4bd862d2-baa7-4fbc-a659-a766e34ac861",
   "metadata": {},
   "source": [
    "# Root Mean Squared Error (제곱근 평균 제곱 오차 RMSE) <br>\n",
    "$\\sqrt{\\frac{1}{n} \\sum_{i=1}^{n} (y_{i} - \\hat{y}_{i})^{2}}$\n",
    "\n",
    "- MSE 단점을 보완하기 위한 평가지표다.\n",
    "- 오차의 단위를 줄이고, 평균적인 오차의 크기를 파악할 수 있어 해석하기 쉽다."
   ]
  },
  {
   "cell_type": "code",
   "execution_count": 27,
   "id": "458001da-18dc-4fb2-ae9b-613b963878d2",
   "metadata": {},
   "outputs": [
    {
     "name": "stdout",
     "output_type": "stream",
     "text": [
      "4.907998359203136\n"
     ]
    }
   ],
   "source": [
    "print(np.sqrt(mean_squared_error(y_test, y_test_pred)))"
   ]
  },
  {
   "cell_type": "markdown",
   "id": "f3142ab6-a162-465a-9df9-16cef35b4f28",
   "metadata": {},
   "source": [
    "# Mean Absolute Error (평균 절대 오차 MAE) <br>\n",
    "$\\frac{1}{n} \\sum_{i=1}^{n} |y_{i} - \\hat{y}_{i}|$\n",
    "\n",
    ": 예측값과 실제값 사이의 절대 오차의 평균\n",
    "\n",
    "1. 장점\n",
    "- 예측과 실제 값이 얼마나 가까운지 직관적으로 알 수 있다.\n",
    "- MAE 단위는 종속 변수 단위와 동일하다.\n",
    "- 이상치에 덜 민감하다.\n",
    "\n",
    "2. 단점\n",
    "- 오차의 방향을 무시한다. 절대값을 사용하므로 예측이 실제값보다 큰지 작은지 구분할 수 없다.\n",
    "- MAE는 미분이 불가능하여 일부 최적화 알고리즘에서 사용할 수 없다."
   ]
  },
  {
   "cell_type": "code",
   "execution_count": 28,
   "id": "5ee535d9-d356-4e4a-aaef-08203c8aae45",
   "metadata": {},
   "outputs": [
    {
     "name": "stdout",
     "output_type": "stream",
     "text": [
      "3.14969428552968\n"
     ]
    }
   ],
   "source": [
    "print(mean_absolute_error(y_test, y_test_pred))"
   ]
  },
  {
   "cell_type": "markdown",
   "id": "cabb3474-0bc1-4477-9418-2a79650df4f4",
   "metadata": {},
   "source": [
    "# Mean Absolute Percentage Error (평균 절대 백분율 오차 MAPE) <br>\n",
    "$\\frac{1}{n}\\sum_{i=1}^{n} \\left|\\frac{y_{i} - \\hat{y}_{i}}{y_{i}} \\right| \\times 100\\%$\n",
    "\n",
    ": 예측값과 실제값 사이의 절대값을 실제값으로 나누어 백분율로 나타낸 후 평균을 구한다.\n",
    "\n",
    "1. 장점\n",
    "- 백분율로 값이 표시되므로 예측의 정확도를 직관적으로 알 수 있다.\n",
    "- MAPE 값은 예측이 실제 값의 몇 퍼센트만큼의 오차가 있는지 알 수 있다.\n",
    "- 다양한 데이터 셋, 모델들과의 비교가 용이하다.\n",
    "\n",
    "2. 단점\n",
    "- 0 값의 처리: 실제 값이 0에 가까운 경우, MAPE는 매우 큰 값을 가지거나 정의되지 않을 수 있다. 데이터 전처리가 필요하다.\n",
    "- 예측값의 크기 차이 : 굉장히 큰 값과 작은 값이 존재를 한다."
   ]
  },
  {
   "cell_type": "code",
   "execution_count": 29,
   "id": "c975f981-c05e-4338-8679-cb4e555587d6",
   "metadata": {},
   "outputs": [
    {
     "name": "stdout",
     "output_type": "stream",
     "text": [
      "16.643428981117246\n"
     ]
    }
   ],
   "source": [
    "def mean_absolute_percentage_error(y_true, y_pred):\n",
    "    y_true, y_pred = np.array(y_true), np.array(y_pred)\n",
    "    return np.mean(np.abs((y_true-y_pred)/y_true))*100\n",
    "\n",
    "print(mean_absolute_percentage_error(y_test, pd.DataFrame(y_test_pred)))"
   ]
  },
  {
   "cell_type": "markdown",
   "id": "4e5d99f0-3c5f-4b7c-b30b-60ac99b1e7d4",
   "metadata": {},
   "source": [
    "# 결정계수 (${R}^{2}$)\n",
    "SSR/SST = 1 - SSE/SST\n",
    "\n",
    "1. 기준\n",
    "- 값이 1에 가까울수록 모델이 데이터 예측을 잘한다. (모델의 예측값과 실제값의 차이가 작다.) ⭐️⭐️⭐️\n",
    "- 값이 0이면 모델이 데이터를 전혀 예측하지 못한다.\n",
    "- 값이 음수이면 모델의 예측값이 실제 값보다 더 나쁘다.\n",
    "\n",
    "2. 숫자값\n",
    "- 0.8 이상이면 매우 잘 설명하고 있다.\n",
    "- 0.5 ~ 0.8 적당히 예측하고 있는 모델이다.\n",
    "- 0.3 ~ 0.5 예측을 하고 있는 모델이다."
   ]
  },
  {
   "cell_type": "code",
   "execution_count": 30,
   "id": "dafa5278-f5a9-4f56-8293-99a1abd5ce26",
   "metadata": {},
   "outputs": [
    {
     "name": "stdout",
     "output_type": "stream",
     "text": [
      "0.6715231799608878\n"
     ]
    }
   ],
   "source": [
    "print(r2_score(y_test, y_test_pred))"
   ]
  },
  {
   "cell_type": "markdown",
   "id": "d18bdc3b-098f-44e9-a7d1-c1ba9b9d07b5",
   "metadata": {},
   "source": [
    "- Sklearn : 데이터 분석 도구\n",
    "- StatModels : 통계 분석 도구(회귀 모델) R, Stata과 같은 통계 소프트웨어와 같은 통계량 도구를 제공한다."
   ]
  },
  {
   "cell_type": "code",
   "execution_count": 32,
   "id": "50180aeb-3ed5-4666-be03-d970f9accc63",
   "metadata": {},
   "outputs": [],
   "source": [
    "from sklearn.linear_model import LinearRegression\n",
    "import statsmodels.api as sm"
   ]
  },
  {
   "cell_type": "code",
   "execution_count": 34,
   "id": "bafd28aa-ebf5-459a-b8ad-78b2ec701d59",
   "metadata": {},
   "outputs": [],
   "source": [
    "lr_skl = LinearRegression(fit_intercept=False) # default가 False\n",
    "lr_skl.fit(X_train, y_train)\n",
    "y_pred_skl = lr_skl.predict(X_test)\n",
    "\n",
    "lr_stat = sm.OLS(y_train, X_train).fit()\n",
    "y_pred_stat = lr_stat.predict(X_test)"
   ]
  },
  {
   "cell_type": "code",
   "execution_count": 36,
   "id": "53e2f475-5162-41f0-a500-e2f5207a9805",
   "metadata": {},
   "outputs": [
    {
     "name": "stdout",
     "output_type": "stream",
     "text": [
      "MSE: 24.291\n",
      "RMSE: 4.929\n",
      "MAE: 3.189\n",
      "MAPE: 16.866\n",
      "R2: 0.669\n"
     ]
    }
   ],
   "source": [
    "test_mse_stat = mean_squared_error(y_test, y_pred_stat)\n",
    "test_rmse_stat = np.sqrt(mean_squared_error(y_test, y_pred_stat))\n",
    "test_mae_stat = mean_absolute_error(y_test, y_pred_stat)\n",
    "test_mape_stat = mean_absolute_percentage_error(y_test, pd.DataFrame(y_pred_stat))\n",
    "test_r2_stat = r2_score(y_test, y_pred_stat)\n",
    "\n",
    "print('MSE: {:.3f}'.format(test_mse_stat))\n",
    "print('RMSE: {:.3f}'.format(test_rmse_stat))\n",
    "print('MAE: {:.3f}'.format(test_mae_stat))\n",
    "print('MAPE: {:.3f}'.format(test_mape_stat))\n",
    "print('R2: {:.3f}'.format(test_r2_stat))"
   ]
  },
  {
   "cell_type": "code",
   "execution_count": 37,
   "id": "140073bb-8b1e-42a0-8083-24e7f34d4e31",
   "metadata": {},
   "outputs": [
    {
     "name": "stdout",
     "output_type": "stream",
     "text": [
      "MSE: 24.291\n",
      "RMSE: 4.929\n",
      "MAE: 3.189\n",
      "MAPE: 16.866\n",
      "R2: 0.669\n"
     ]
    }
   ],
   "source": [
    "test_mse_skl = mean_squared_error(y_test, y_pred_skl)\n",
    "test_rmse_skl = np.sqrt(mean_squared_error(y_test, y_pred_skl))\n",
    "test_mae_skl = mean_absolute_error(y_test, y_pred_skl)\n",
    "test_mape_skl = mean_absolute_percentage_error(y_test, pd.DataFrame(y_pred_skl))\n",
    "test_r2_skl = r2_score(y_test, y_pred_skl)\n",
    "\n",
    "print('MSE: {:.3f}'.format(test_mse_skl))\n",
    "print('RMSE: {:.3f}'.format(test_rmse_skl))\n",
    "print('MAE: {:.3f}'.format(test_mae_skl))\n",
    "print('MAPE: {:.3f}'.format(test_mape_skl))\n",
    "print('R2: {:.3f}'.format(test_r2_skl))"
   ]
  },
  {
   "cell_type": "code",
   "execution_count": 38,
   "id": "a288b7b7-25c7-4f3e-884e-d57a3a4be6a9",
   "metadata": {},
   "outputs": [
    {
     "data": {
      "text/plain": [
       "(102,)"
      ]
     },
     "execution_count": 38,
     "metadata": {},
     "output_type": "execute_result"
    }
   ],
   "source": [
    "np.array(y_pred_stat).shape"
   ]
  },
  {
   "cell_type": "code",
   "execution_count": 40,
   "id": "e0d599ab-aa54-46fd-a6dc-475bc7004d44",
   "metadata": {},
   "outputs": [
    {
     "data": {
      "text/plain": [
       "(102, 1)"
      ]
     },
     "execution_count": 40,
     "metadata": {},
     "output_type": "execute_result"
    }
   ],
   "source": [
    "np.array(y_pred_skl).shape"
   ]
  }
 ],
 "metadata": {
  "kernelspec": {
   "display_name": "Python 3 (ipykernel)",
   "language": "python",
   "name": "python3"
  },
  "language_info": {
   "codemirror_mode": {
    "name": "ipython",
    "version": 3
   },
   "file_extension": ".py",
   "mimetype": "text/x-python",
   "name": "python",
   "nbconvert_exporter": "python",
   "pygments_lexer": "ipython3",
   "version": "3.11.8"
  }
 },
 "nbformat": 4,
 "nbformat_minor": 5
}
