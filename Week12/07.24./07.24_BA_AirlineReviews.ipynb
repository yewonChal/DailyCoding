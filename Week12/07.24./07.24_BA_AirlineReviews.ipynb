{
 "cells": [
  {
   "cell_type": "raw",
   "id": "8b2b261b-dac2-499d-96bf-44cf12c19b1b",
   "metadata": {},
   "source": [
    "pip install \"numpy<2\""
   ]
  },
  {
   "cell_type": "code",
   "execution_count": 1,
   "id": "2157c0ab-d325-4c4d-98c9-6406780830de",
   "metadata": {},
   "outputs": [
    {
     "name": "stderr",
     "output_type": "stream",
     "text": [
      "/Users/jeon-yewon/miniforge3/envs/tensorflow/lib/python3.9/site-packages/sentence_transformers/cross_encoder/CrossEncoder.py:11: TqdmExperimentalWarning: Using `tqdm.autonotebook.tqdm` in notebook mode. Use `tqdm.tqdm` instead to force console mode (e.g. in jupyter console)\n",
      "  from tqdm.autonotebook import tqdm, trange\n"
     ]
    }
   ],
   "source": [
    "import pandas as pd\n",
    "import matplotlib.pyplot as plt\n",
    "import string\n",
    "import nltk\n",
    "import spacy\n",
    "import plotly.express as px\n",
    "\n",
    "from keybert import KeyBERT\n",
    "from transformers import pipeline\n",
    "from sklearn.feature_extraction.text import CountVectorizer\n",
    "from nltk.tokenize import word_tokenize\n",
    "from nltk.corpus import stopwords\n",
    "from nltk.stem import WordNetLemmatizer\n",
    "from wordcloud import WordCloud\n",
    "\n",
    "import warnings\n",
    "warnings.filterwarnings('ignore')"
   ]
  },
  {
   "cell_type": "code",
   "execution_count": 2,
   "id": "70a3806f-ac60-465c-a307-10a78e15b97c",
   "metadata": {},
   "outputs": [],
   "source": [
    "df = pd.read_csv('BA_AirlineReviews.csv')"
   ]
  },
  {
   "cell_type": "code",
   "execution_count": 3,
   "id": "12e18b64-0f9a-439e-9708-a5f2d11891cd",
   "metadata": {},
   "outputs": [
    {
     "data": {
      "text/html": [
       "<div>\n",
       "<style scoped>\n",
       "    .dataframe tbody tr th:only-of-type {\n",
       "        vertical-align: middle;\n",
       "    }\n",
       "\n",
       "    .dataframe tbody tr th {\n",
       "        vertical-align: top;\n",
       "    }\n",
       "\n",
       "    .dataframe thead th {\n",
       "        text-align: right;\n",
       "    }\n",
       "</style>\n",
       "<table border=\"1\" class=\"dataframe\">\n",
       "  <thead>\n",
       "    <tr style=\"text-align: right;\">\n",
       "      <th></th>\n",
       "      <th>Unnamed: 0</th>\n",
       "      <th>OverallRating</th>\n",
       "      <th>ReviewHeader</th>\n",
       "      <th>Name</th>\n",
       "      <th>Datetime</th>\n",
       "      <th>VerifiedReview</th>\n",
       "      <th>ReviewBody</th>\n",
       "      <th>TypeOfTraveller</th>\n",
       "      <th>SeatType</th>\n",
       "      <th>Route</th>\n",
       "      <th>DateFlown</th>\n",
       "      <th>SeatComfort</th>\n",
       "      <th>CabinStaffService</th>\n",
       "      <th>GroundService</th>\n",
       "      <th>ValueForMoney</th>\n",
       "      <th>Recommended</th>\n",
       "      <th>Aircraft</th>\n",
       "      <th>Food&amp;Beverages</th>\n",
       "      <th>InflightEntertainment</th>\n",
       "      <th>Wifi&amp;Connectivity</th>\n",
       "    </tr>\n",
       "  </thead>\n",
       "  <tbody>\n",
       "    <tr>\n",
       "      <th>0</th>\n",
       "      <td>0</td>\n",
       "      <td>1.0</td>\n",
       "      <td>\"Service level far worse then Ryanair\"</td>\n",
       "      <td>L Keele</td>\n",
       "      <td>19th November 2023</td>\n",
       "      <td>True</td>\n",
       "      <td>4 Hours before takeoff we received a Mail stat...</td>\n",
       "      <td>Couple Leisure</td>\n",
       "      <td>Economy Class</td>\n",
       "      <td>London to Stuttgart</td>\n",
       "      <td>November 2023</td>\n",
       "      <td>1.0</td>\n",
       "      <td>1.0</td>\n",
       "      <td>1.0</td>\n",
       "      <td>1.0</td>\n",
       "      <td>no</td>\n",
       "      <td>NaN</td>\n",
       "      <td>NaN</td>\n",
       "      <td>NaN</td>\n",
       "      <td>NaN</td>\n",
       "    </tr>\n",
       "    <tr>\n",
       "      <th>1</th>\n",
       "      <td>1</td>\n",
       "      <td>3.0</td>\n",
       "      <td>\"do not upgrade members based on status\"</td>\n",
       "      <td>Austin Jones</td>\n",
       "      <td>19th November 2023</td>\n",
       "      <td>True</td>\n",
       "      <td>I recently had a delay on British Airways from...</td>\n",
       "      <td>Business</td>\n",
       "      <td>Economy Class</td>\n",
       "      <td>Brussels to London</td>\n",
       "      <td>November 2023</td>\n",
       "      <td>2.0</td>\n",
       "      <td>3.0</td>\n",
       "      <td>1.0</td>\n",
       "      <td>2.0</td>\n",
       "      <td>no</td>\n",
       "      <td>A320</td>\n",
       "      <td>1.0</td>\n",
       "      <td>2.0</td>\n",
       "      <td>2.0</td>\n",
       "    </tr>\n",
       "    <tr>\n",
       "      <th>2</th>\n",
       "      <td>2</td>\n",
       "      <td>8.0</td>\n",
       "      <td>\"Flight was smooth and quick\"</td>\n",
       "      <td>M A Collie</td>\n",
       "      <td>16th November 2023</td>\n",
       "      <td>False</td>\n",
       "      <td>Boarded on time, but it took ages to get to th...</td>\n",
       "      <td>Couple Leisure</td>\n",
       "      <td>Business Class</td>\n",
       "      <td>London Heathrow to Dublin</td>\n",
       "      <td>November 2023</td>\n",
       "      <td>3.0</td>\n",
       "      <td>3.0</td>\n",
       "      <td>4.0</td>\n",
       "      <td>3.0</td>\n",
       "      <td>yes</td>\n",
       "      <td>A320</td>\n",
       "      <td>4.0</td>\n",
       "      <td>NaN</td>\n",
       "      <td>NaN</td>\n",
       "    </tr>\n",
       "    <tr>\n",
       "      <th>3</th>\n",
       "      <td>3</td>\n",
       "      <td>1.0</td>\n",
       "      <td>\"Absolutely hopeless airline\"</td>\n",
       "      <td>Nigel Dean</td>\n",
       "      <td>16th November 2023</td>\n",
       "      <td>True</td>\n",
       "      <td>5 days before the flight, we were advised by B...</td>\n",
       "      <td>Couple Leisure</td>\n",
       "      <td>Economy Class</td>\n",
       "      <td>London to Dublin</td>\n",
       "      <td>December 2022</td>\n",
       "      <td>3.0</td>\n",
       "      <td>3.0</td>\n",
       "      <td>1.0</td>\n",
       "      <td>1.0</td>\n",
       "      <td>no</td>\n",
       "      <td>NaN</td>\n",
       "      <td>NaN</td>\n",
       "      <td>NaN</td>\n",
       "      <td>NaN</td>\n",
       "    </tr>\n",
       "    <tr>\n",
       "      <th>4</th>\n",
       "      <td>4</td>\n",
       "      <td>1.0</td>\n",
       "      <td>\"Customer Service is non existent\"</td>\n",
       "      <td>Gaylynne Simpson</td>\n",
       "      <td>14th November 2023</td>\n",
       "      <td>False</td>\n",
       "      <td>We traveled to Lisbon for our dream vacation, ...</td>\n",
       "      <td>Couple Leisure</td>\n",
       "      <td>Economy Class</td>\n",
       "      <td>London to Lisbon</td>\n",
       "      <td>November 2023</td>\n",
       "      <td>1.0</td>\n",
       "      <td>1.0</td>\n",
       "      <td>1.0</td>\n",
       "      <td>1.0</td>\n",
       "      <td>no</td>\n",
       "      <td>NaN</td>\n",
       "      <td>1.0</td>\n",
       "      <td>1.0</td>\n",
       "      <td>1.0</td>\n",
       "    </tr>\n",
       "  </tbody>\n",
       "</table>\n",
       "</div>"
      ],
      "text/plain": [
       "   Unnamed: 0  OverallRating                              ReviewHeader  \\\n",
       "0           0            1.0    \"Service level far worse then Ryanair\"   \n",
       "1           1            3.0  \"do not upgrade members based on status\"   \n",
       "2           2            8.0             \"Flight was smooth and quick\"   \n",
       "3           3            1.0             \"Absolutely hopeless airline\"   \n",
       "4           4            1.0        \"Customer Service is non existent\"   \n",
       "\n",
       "               Name            Datetime  VerifiedReview  \\\n",
       "0           L Keele  19th November 2023            True   \n",
       "1      Austin Jones  19th November 2023            True   \n",
       "2        M A Collie  16th November 2023           False   \n",
       "3        Nigel Dean  16th November 2023            True   \n",
       "4  Gaylynne Simpson  14th November 2023           False   \n",
       "\n",
       "                                          ReviewBody TypeOfTraveller  \\\n",
       "0  4 Hours before takeoff we received a Mail stat...  Couple Leisure   \n",
       "1  I recently had a delay on British Airways from...        Business   \n",
       "2  Boarded on time, but it took ages to get to th...  Couple Leisure   \n",
       "3  5 days before the flight, we were advised by B...  Couple Leisure   \n",
       "4  We traveled to Lisbon for our dream vacation, ...  Couple Leisure   \n",
       "\n",
       "         SeatType                      Route      DateFlown  SeatComfort  \\\n",
       "0   Economy Class        London to Stuttgart  November 2023          1.0   \n",
       "1   Economy Class         Brussels to London  November 2023          2.0   \n",
       "2  Business Class  London Heathrow to Dublin  November 2023          3.0   \n",
       "3   Economy Class           London to Dublin  December 2022          3.0   \n",
       "4   Economy Class           London to Lisbon  November 2023          1.0   \n",
       "\n",
       "   CabinStaffService  GroundService  ValueForMoney Recommended Aircraft  \\\n",
       "0                1.0            1.0            1.0          no      NaN   \n",
       "1                3.0            1.0            2.0          no     A320   \n",
       "2                3.0            4.0            3.0         yes     A320   \n",
       "3                3.0            1.0            1.0          no      NaN   \n",
       "4                1.0            1.0            1.0          no      NaN   \n",
       "\n",
       "   Food&Beverages  InflightEntertainment  Wifi&Connectivity  \n",
       "0             NaN                    NaN                NaN  \n",
       "1             1.0                    2.0                2.0  \n",
       "2             4.0                    NaN                NaN  \n",
       "3             NaN                    NaN                NaN  \n",
       "4             1.0                    1.0                1.0  "
      ]
     },
     "execution_count": 3,
     "metadata": {},
     "output_type": "execute_result"
    }
   ],
   "source": [
    "df.head()"
   ]
  },
  {
   "cell_type": "code",
   "execution_count": 4,
   "id": "1ab8ab0f-554e-439d-8d82-28cef4fed879",
   "metadata": {},
   "outputs": [
    {
     "data": {
      "text/plain": [
       "Index(['Unnamed: 0', 'OverallRating', 'ReviewHeader', 'Name', 'Datetime',\n",
       "       'VerifiedReview', 'ReviewBody', 'TypeOfTraveller', 'SeatType', 'Route',\n",
       "       'DateFlown', 'SeatComfort', 'CabinStaffService', 'GroundService',\n",
       "       'ValueForMoney', 'Recommended', 'Aircraft', 'Food&Beverages',\n",
       "       'InflightEntertainment', 'Wifi&Connectivity'],\n",
       "      dtype='object')"
      ]
     },
     "execution_count": 4,
     "metadata": {},
     "output_type": "execute_result"
    }
   ],
   "source": [
    "df.columns"
   ]
  },
  {
   "cell_type": "code",
   "execution_count": 5,
   "id": "fbd28017-c935-447d-a7e1-ffbf4b7fd12c",
   "metadata": {},
   "outputs": [
    {
     "data": {
      "text/html": [
       "<div>\n",
       "<style scoped>\n",
       "    .dataframe tbody tr th:only-of-type {\n",
       "        vertical-align: middle;\n",
       "    }\n",
       "\n",
       "    .dataframe tbody tr th {\n",
       "        vertical-align: top;\n",
       "    }\n",
       "\n",
       "    .dataframe thead th {\n",
       "        text-align: right;\n",
       "    }\n",
       "</style>\n",
       "<table border=\"1\" class=\"dataframe\">\n",
       "  <thead>\n",
       "    <tr style=\"text-align: right;\">\n",
       "      <th></th>\n",
       "      <th>ReviewBody</th>\n",
       "    </tr>\n",
       "  </thead>\n",
       "  <tbody>\n",
       "    <tr>\n",
       "      <th>0</th>\n",
       "      <td>4 Hours before takeoff we received a Mail stat...</td>\n",
       "    </tr>\n",
       "    <tr>\n",
       "      <th>1</th>\n",
       "      <td>I recently had a delay on British Airways from...</td>\n",
       "    </tr>\n",
       "    <tr>\n",
       "      <th>2</th>\n",
       "      <td>Boarded on time, but it took ages to get to th...</td>\n",
       "    </tr>\n",
       "    <tr>\n",
       "      <th>3</th>\n",
       "      <td>5 days before the flight, we were advised by B...</td>\n",
       "    </tr>\n",
       "    <tr>\n",
       "      <th>4</th>\n",
       "      <td>We traveled to Lisbon for our dream vacation, ...</td>\n",
       "    </tr>\n",
       "  </tbody>\n",
       "</table>\n",
       "</div>"
      ],
      "text/plain": [
       "                                          ReviewBody\n",
       "0  4 Hours before takeoff we received a Mail stat...\n",
       "1  I recently had a delay on British Airways from...\n",
       "2  Boarded on time, but it took ages to get to th...\n",
       "3  5 days before the flight, we were advised by B...\n",
       "4  We traveled to Lisbon for our dream vacation, ..."
      ]
     },
     "execution_count": 5,
     "metadata": {},
     "output_type": "execute_result"
    }
   ],
   "source": [
    "df = df.drop(columns=['Unnamed: 0', 'OverallRating', 'ReviewHeader', 'Name', 'Datetime',\n",
    "       'VerifiedReview', 'TypeOfTraveller', 'SeatType', 'Route',\n",
    "       'DateFlown', 'SeatComfort', 'CabinStaffService', 'GroundService',\n",
    "       'ValueForMoney', 'Recommended', 'Aircraft', 'Food&Beverages',\n",
    "       'InflightEntertainment', 'Wifi&Connectivity'])\n",
    "df.head()"
   ]
  },
  {
   "cell_type": "code",
   "execution_count": 6,
   "id": "27a1feb8-bdb4-48fc-9e93-eefafce4c45f",
   "metadata": {},
   "outputs": [
    {
     "data": {
      "text/html": [
       "<div>\n",
       "<style scoped>\n",
       "    .dataframe tbody tr th:only-of-type {\n",
       "        vertical-align: middle;\n",
       "    }\n",
       "\n",
       "    .dataframe tbody tr th {\n",
       "        vertical-align: top;\n",
       "    }\n",
       "\n",
       "    .dataframe thead th {\n",
       "        text-align: right;\n",
       "    }\n",
       "</style>\n",
       "<table border=\"1\" class=\"dataframe\">\n",
       "  <thead>\n",
       "    <tr style=\"text-align: right;\">\n",
       "      <th></th>\n",
       "      <th>ReviewBody</th>\n",
       "      <th>token_count</th>\n",
       "      <th>short_paragraph</th>\n",
       "    </tr>\n",
       "  </thead>\n",
       "  <tbody>\n",
       "    <tr>\n",
       "      <th>0</th>\n",
       "      <td>4 Hours before takeoff we received a Mail stat...</td>\n",
       "      <td>125</td>\n",
       "      <td>4 Hours before takeoff we received a Mail stat...</td>\n",
       "    </tr>\n",
       "    <tr>\n",
       "      <th>1</th>\n",
       "      <td>I recently had a delay on British Airways from...</td>\n",
       "      <td>206</td>\n",
       "      <td>I recently had a delay on British Airways from...</td>\n",
       "    </tr>\n",
       "    <tr>\n",
       "      <th>2</th>\n",
       "      <td>Boarded on time, but it took ages to get to th...</td>\n",
       "      <td>54</td>\n",
       "      <td>Boarded on time, but it took ages to get to th...</td>\n",
       "    </tr>\n",
       "    <tr>\n",
       "      <th>3</th>\n",
       "      <td>5 days before the flight, we were advised by B...</td>\n",
       "      <td>255</td>\n",
       "      <td>5 days before the flight, we were advised by B...</td>\n",
       "    </tr>\n",
       "    <tr>\n",
       "      <th>4</th>\n",
       "      <td>We traveled to Lisbon for our dream vacation, ...</td>\n",
       "      <td>172</td>\n",
       "      <td>We traveled to Lisbon for our dream vacation, ...</td>\n",
       "    </tr>\n",
       "  </tbody>\n",
       "</table>\n",
       "</div>"
      ],
      "text/plain": [
       "                                          ReviewBody  token_count  \\\n",
       "0  4 Hours before takeoff we received a Mail stat...          125   \n",
       "1  I recently had a delay on British Airways from...          206   \n",
       "2  Boarded on time, but it took ages to get to th...           54   \n",
       "3  5 days before the flight, we were advised by B...          255   \n",
       "4  We traveled to Lisbon for our dream vacation, ...          172   \n",
       "\n",
       "                                     short_paragraph  \n",
       "0  4 Hours before takeoff we received a Mail stat...  \n",
       "1  I recently had a delay on British Airways from...  \n",
       "2  Boarded on time, but it took ages to get to th...  \n",
       "3  5 days before the flight, we were advised by B...  \n",
       "4  We traveled to Lisbon for our dream vacation, ...  "
      ]
     },
     "execution_count": 6,
     "metadata": {},
     "output_type": "execute_result"
    }
   ],
   "source": [
    "df['token_count'] = df['ReviewBody'].str.split().apply(len)\n",
    "df['short_paragraph'] = df['ReviewBody'].apply(func=lambda x: ' '.join(x.split()[:20]))\n",
    "df = df[df['token_count'] > 5]\n",
    "df.head()"
   ]
  },
  {
   "cell_type": "code",
   "execution_count": 7,
   "id": "22715f68-b1b6-4a78-9244-8873422e21f3",
   "metadata": {},
   "outputs": [
    {
     "data": {
      "image/png": "[encoded data removed]",
      "text/plain": [
       "<Figure size 800x600 with 1 Axes>"
      ]
     },
     "metadata": {},
     "output_type": "display_data"
    }
   ],
   "source": [
    "plt.figure(figsize=(8, 6))\n",
    "plt.hist(df['token_count'], bins=30, color='skyblue')\n",
    "plt.xlabel('Word Count')\n",
    "plt.ylabel('Frequency')\n",
    "plt.title('Distribution of Word Count in ReviewBody')\n",
    "plt.show()"
   ]
  },
  {
   "cell_type": "raw",
   "id": "2b8db5c6-905a-47b5-8eb5-086897f452a9",
   "metadata": {},
   "source": [
    "pip list #1.26.4"
   ]
  },
  {
   "cell_type": "raw",
   "id": "81fb9af9-ba6e-40fb-a4a8-9338ae906a4b",
   "metadata": {},
   "source": [
    "pip install -U numpy"
   ]
  },
  {
   "cell_type": "code",
   "execution_count": 8,
   "id": "13175191-3240-4630-9ae9-26db6e496e01",
   "metadata": {},
   "outputs": [],
   "source": [
    "from arrow import now\n",
    "\n",
    "COLUMN = 'ReviewBody' # 컬럼 이름\n",
    "MIN_DF = 2 # 최소 빈도\n",
    "MODEL = 'all-MiniLM-L6-v2' # 모델 이름\n",
    "STOP_WORDS = 'english'"
   ]
  },
  {
   "cell_type": "code",
   "execution_count": null,
   "id": "63df0044-e9ef-4403-b8a1-329891a88c25",
   "metadata": {},
   "outputs": [],
   "source": [
    "# model_start = now() # 현재 시간 ---> 실행 o\n",
    "model = KeyBERT(model=MODEL) # 해당 모델 이름으로 가져온다  ===> 실행 x\n",
    "\n",
    "model.max_seq_length = 512 # 모델의 최대 길이 설정"
   ]
  },
  {
   "cell_type": "code",
   "execution_count": null,
   "id": "a8db7033-44b2-4e54-bd0a-f736a9c318f0",
   "metadata": {},
   "outputs": [],
   "source": [
    "raw_documents = df[COLUMN].values # ReviewBody 열 값\n",
    "vectorizer = CountVectorizer(ngram_range=(1,2), stop_words=STOP_WORDS, min_df=MIN_DF,)\n",
    "document_embeddings, word_embeddings = model.extract_embedding(docs=raw_documents, vectorizer=vectorizer) # 문서와 단어 임베딩 추출\n",
    "\n",
    "print('embedding time : ', now() - model_start) # 시간\n",
    "print('document : ', len(documents_embeddings)) # 문서 임베딩 개수, 3701\n",
    "print('words : ', len(word_embeddings)) # 단어 임베딩 개수, 37672"
   ]
  },
  {
   "cell_type": "code",
   "execution_count": null,
   "id": "0acb49cc-2719-45bc-a46f-6081c394e67e",
   "metadata": {},
   "outputs": [],
   "source": [
    "# 각 문서에서 키워드를 추출한다. top_n = 1(가장 중요한 단어)\n",
    "keywords = model.extract_keywords(docs=raw_documents, top_n=1, stop_words=STOP_WORDS, vectorizer=vectorizer,\n",
    "                                  doc_embedding=document_mebeddings, word_embeddings=word_embeddings, min_df=MIN_DF)\n",
    "\n",
    "df['keyword/weight'] = keywords # 가중치 저장\n",
    "df['keyword'] = df['keyword/weight'].apply(func=lambda x: x[0][0] if len(x) else '') # 키워드 저장"
   ]
  },
  {
   "cell_type": "code",
   "execution_count": null,
   "id": "f018fd8d-5c45-4e75-9514-b92e8851497a",
   "metadata": {},
   "outputs": [],
   "source": [
    "from sklearn.manifold import TSNE\n",
    "\n",
    "tsne_model = TSNE(n_componets=2, random_state=42) # n_componets : 2D\n",
    "document_embeddings_tsne = tsne_model.fit_transform(document_embeddings) # 문서 임베딩을 tsne 통해 변환\n",
    "\n",
    "df_tsne = df.copy() # 데이터 프레임 복사\n",
    "df.tsne['tsne_component_1'] = document_embeddings_tsne[:, 0] # x축\n",
    "df_tsne['tsne_component_2'] = document_embeddings_tsne[:, 1] # y축 # -> 하나씩 대입\n",
    "\n",
    "fig = px.scatter(df_tsne, x='tsne_component_1', y='tsne_component_2', color='token_count',\n",
    "                 hover_data=['short paragraph', 'ReviewBody', 'token count', 'keyword'], # 마우스를 올렸을 때 보여줄 정보\n",
    "                 labels={'tsne_component_1':'TSNE Component 1', 'tsne_component_2' : 'TSNE Component 2'},\n",
    "                 title='Visualization of Document Embeddings', color_continuous_scale='virdis')\n",
    "\n",
    "fig.show()"
   ]
  },
  {
   "cell_type": "code",
   "execution_count": null,
   "id": "8c3d1fbd-d981-47ed-9407-ec0b681ab000",
   "metadata": {},
   "outputs": [],
   "source": [
    "print(df['keyword'].value_counts().head(n=40).index.tolist())"
   ]
  },
  {
   "cell_type": "code",
   "execution_count": null,
   "id": "443d36f4-3b78-411e-8c08-da3722a2000e",
   "metadata": {},
   "outputs": [],
   "source": [
    "top_keywords = [item for item in df['keyword'].value_counts().head(n=40).index.tolist() if len(item)]\n",
    "filtered_df = df[df['keyword'].isin(top_keywords)]\n",
    "\n",
    "keywords_counts = filtered_df['keyword'].value_counts().reset_index()\n",
    "keywords_counts.columns = ['keyword', 'count']\n",
    "\n",
    "fig = px.bar(keyword_counts, x='count', y='keyword', color='keyword', title='Top Keywords Bar Chart', orientation='h')\n",
    "\n",
    "fig.update_layout(xaxis_title='Count', yaxis_title='Keyword', height=800, width=900)\n",
    "fig.show()"
   ]
  },
  {
   "cell_type": "markdown",
   "id": "dfcb051f-1f72-4bf2-a0d2-557d8f70e3ea",
   "metadata": {},
   "source": [
    "## WordCloud"
   ]
  },
  {
   "cell_type": "code",
   "execution_count": null,
   "id": "415f1486-d32a-4fb4-b96e-2f3928c3a389",
   "metadata": {},
   "outputs": [],
   "source": [
    "# word cloud\n",
    "from wordcloud import WordCloud\n",
    "import matplotlib.pyplot as plt\n",
    "\n",
    "text = ' '.join(df['short paragraph'])\n",
    "\n",
    "wordcloud = WordCloud(width=600, height=400, background_color='white').generate(text)\n",
    "\n",
    "plt.figure(figsize=(10, 5))\n",
    "plt.imshow(wordcloud)\n",
    "plt.axis('off')\n",
    "plt.title('Short Paragraph')\n",
    "plt.show()"
   ]
  },
  {
   "cell_type": "markdown",
   "id": "eaff641d-7a61-4b08-a927-b5286315fe76",
   "metadata": {},
   "source": [
    "## 데이터 전처리, 감정분석"
   ]
  },
  {
   "cell_type": "code",
   "execution_count": null,
   "id": "98088bf4-f4cb-42a4-80ea-9b1dda323ad7",
   "metadata": {},
   "outputs": [],
   "source": [
    "df['tokenized_text'] = df['ReviewBody'].apply(lambda x: word_tokenize(x.lower()))\n",
    "\n",
    "nlp = spacy.load('en_core_web_sm')"
   ]
  },
  {
   "cell_type": "code",
   "execution_count": null,
   "id": "006a69db-387e-4f86-accb-f395d7f56a7c",
   "metadata": {},
   "outputs": [],
   "source": [
    "def lemmatize_with_spacy(text):\n",
    "    doc = nlp(text)\n",
    "    lemmatized_text = [token.lemma_ for token in doc]\n",
    "    return lemmatized_text"
   ]
  },
  {
   "cell_type": "code",
   "execution_count": null,
   "id": "1b6f628c-cb7d-424c-a1ac-b43ae0e7655b",
   "metadata": {},
   "outputs": [],
   "source": [
    "df['tokenized_text'] = df['RevieBody'].apply(lambda x: [token.text for token in nlp(x.lower())])\n",
    "df['clean_text'] = df['ReviewBody'].apply(lambda x: lemmatize_with_spacy(x.lower()))"
   ]
  },
  {
   "cell_type": "code",
   "execution_count": null,
   "id": "6cf3eac5-0cef-41e3-99a2-1d7253104f21",
   "metadata": {},
   "outputs": [],
   "source": [
    "df.head()"
   ]
  },
  {
   "cell_type": "code",
   "execution_count": null,
   "id": "c12a06c3-8d88-4898-9810-b7a481cec35c",
   "metadata": {},
   "outputs": [],
   "source": [
    "sentences_df = pd.DataFrame(df)\n",
    "max_token_limit = 160\n",
    "\n",
    "sentences_df['clean'] = sentences_df['RevviewBody'].apply(lambda x: ' '.join(x.split()[:max_token_limit]) if len(x.split()) \n",
    "                                                          > max_token_limit else x)\n",
    "\n",
    "sentences_df.head()"
   ]
  },
  {
   "cell_type": "code",
   "execution_count": null,
   "id": "80d628e6-2cea-4bc5-85fe-a486bacab552",
   "metadata": {},
   "outputs": [],
   "source": [
    "from plotly.express import line_polar\n",
    "\n",
    "def plot(input_df, column, model):\n",
    "    # pipeline은 hagging face transformers 라이브러리에서 제공하는 기능 \n",
    "    # => 지정된 작업 'sentiment-analysis', 모델을 기반으로\n",
    "    # 감정 분석 파이프라인을 생성한다.\n",
    "    pipe = pipeline(task='sentiment-analysis', model=model)\n",
    "    result_df = pd.DataFrame(pipe(input_df[column].values.tolist())).groupby(by='label').sum().reset_index()\n",
    "\n",
    "    fig = line_polar(data_frame=result_df, r='score', theta='label', line_close=True, title='Airline Sentiment', log_r=True)\n",
    "    fig.show()"
   ]
  },
  {
   "cell_type": "code",
   "execution_count": null,
   "id": "99594889-95c1-476f-925f-bddd8e1cbef6",
   "metadata": {},
   "outputs": [],
   "source": [
    "models = [\n",
    "    'bhadresh-savani/distilbert-base-uncased-emotion',\n",
    "    'cardiffnlp/twitter-roberta-base-sentiment',\n",
    "    'nlptown/bert-base-multilingual-uncased-sentiment',\n",
    "] # 감정분석 모델 \n",
    "\n",
    "for model in models:\n",
    "    plot(sentences_df, 'clean', model)"
   ]
  },
  {
   "cell_type": "code",
   "execution_count": null,
   "id": "be61e325-e6d7-407a-87cb-5ba1cb7615bd",
   "metadata": {},
   "outputs": [],
   "source": []
  },
  {
   "cell_type": "code",
   "execution_count": null,
   "id": "2ab2d986-cfd9-43ca-8671-dc16a17aae04",
   "metadata": {},
   "outputs": [],
   "source": []
  },
  {
   "cell_type": "code",
   "execution_count": null,
   "id": "5d89c438-1d8f-4a50-9bca-c887be63c0a4",
   "metadata": {},
   "outputs": [],
   "source": []
  },
  {
   "cell_type": "code",
   "execution_count": null,
   "id": "2c6cefd7-0539-4d8b-a9f5-7e779064ffa3",
   "metadata": {},
   "outputs": [],
   "source": []
  }
 ],
 "metadata": {
  "kernelspec": {
   "display_name": "Python (tensorflow)",
   "language": "python",
   "name": "tensorflow"
  },
  "language_info": {
   "codemirror_mode": {
    "name": "ipython",
    "version": 3
   },
   "file_extension": ".py",
   "mimetype": "text/x-python",
   "name": "python",
   "nbconvert_exporter": "python",
   "pygments_lexer": "ipython3",
   "version": "3.9.18"
  }
 },
 "nbformat": 4,
 "nbformat_minor": 5
}
