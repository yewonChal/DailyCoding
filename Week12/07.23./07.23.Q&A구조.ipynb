{
 "cells": [
  {
   "cell_type": "code",
   "execution_count": 61,
   "id": "d6472f3d-5158-44d6-acd7-356678c44ef2",
   "metadata": {},
   "outputs": [],
   "source": [
    "from transformers import TFBertForSequenceClassification # 텍스트 분류(다대일)\n",
    "from transformers import TFBertForTokenClassification # 개체명 인식(다대다)\n",
    "from transformers import TFBertForQuestionAnswering # Q&A 문제(질의응답)"
   ]
  },
  {
   "cell_type": "code",
   "execution_count": 62,
   "id": "8d545054-f3ea-461f-ba72-e972cc5da18d",
   "metadata": {},
   "outputs": [
    {
     "data": {
      "text/plain": [
       "'KorQuAD_v1.0_dev.json'"
      ]
     },
     "execution_count": 62,
     "metadata": {},
     "output_type": "execute_result"
    }
   ],
   "source": [
    "import requests\n",
    "\n",
    "def download_file(url, local_filename):\n",
    "    with requests.get(url, stream=True) as r:\n",
    "        r.raise_for_status()\n",
    "        with open(local_filename, 'wb') as f:\n",
    "            for chunk in r.iter_content(chunk_size=8192):\n",
    "                f.write(chunk)\n",
    "    return local_filename\n",
    "\n",
    "train_url = 'https://korquad.github.io/dataset/KorQuAD_v1.0_train.json'\n",
    "dev_url = 'https://korquad.github.io/dataset/KorQuAD_v1.0_dev.json'\n",
    "\n",
    "download_file(train_url, 'KorQuAD_v1.0_train.json')\n",
    "download_file(dev_url, 'KorQuAD_v1.0_dev.json')"
   ]
  },
  {
   "cell_type": "raw",
   "id": "83f985e6-2b02-4caf-88e7-b89bc0585e2b",
   "metadata": {},
   "source": [
    "pip install transformers"
   ]
  },
  {
   "cell_type": "code",
   "execution_count": 63,
   "id": "2a4a15c3-da6f-4031-a910-7dd8789d869a",
   "metadata": {},
   "outputs": [],
   "source": [
    "import os\n",
    "import json\n",
    "import numpy as np\n",
    "from tqdm import tqdm\n",
    "from pathlib import Path\n",
    "from transformers import BertTokenizerFast\n",
    "import tensorflow as tf"
   ]
  },
  {
   "cell_type": "raw",
   "id": "093aa43e-fa09-42e8-a5c9-69d1b3acfd45",
   "metadata": {},
   "source": [
    "# SQuAD(Supervised Question Answering Dataset) : 자연어 처리(NLP) 분야에서 질문/답변 형식의 시스템을 개발하고 평가하기 위한 데이터 셋이다.\n",
    "\n",
    "1. data : 여러 문단을 포함하는 데이터 그룹 리스트\n",
    "  1-1) paragraphs : 데이터 그룹 내 문단을 나타내는 리스트\n",
    "    1-1-1 -> context : 질문의 답변을 찾기 위한 텍스트\n",
    "    1-1-2 -> qas : 질문/답변 쌍을 포함하는 리스트\n",
    "      1-1-2-1 => question : 질문\n",
    "      1-1-2-2 => answers : 답변"
   ]
  },
  {
   "cell_type": "code",
   "execution_count": 64,
   "id": "913fc059-abd3-4abd-9bd0-58126df4f4a5",
   "metadata": {},
   "outputs": [],
   "source": [
    "def read_squad(path):\n",
    "    path = Path(path)\n",
    "    with open(path, 'rb') as f:\n",
    "        squad_dict = json.load(f)\n",
    "\n",
    "    contexts = []\n",
    "    questions = []\n",
    "    answers = []\n",
    "\n",
    "    for group in squad_dict['data']: # 1\n",
    "        for passage in group['paragraphs']: # 1-1\n",
    "            context = passage['context'] # 1-1-1 하나의 문맥 안에 \n",
    "            for qa in passage['qas']: # 1-1-2 여러가지 질의응답(질문-답변) 쌍이 존재\n",
    "                question = qa['question'] # 1-1-2-1 하나의 질문에\n",
    "                for answer in qa['answers']: # 1-1-2-2 여러 개의 답변이 존재\n",
    "                    contexts.append(context) # 문맥\n",
    "                    questions.append(question) # 질문 \n",
    "                    answers.append(answer) # 답변\n",
    "\n",
    "    return contexts, questions, answers"
   ]
  },
  {
   "cell_type": "code",
   "execution_count": 65,
   "id": "8b7c9b89-ee9a-4162-b693-f3e2b8195b71",
   "metadata": {},
   "outputs": [],
   "source": [
    "train_contexts, train_questions, train_answers = read_squad('KorQuAD_v1.0_train.json')\n",
    "val_contexts, val_questions, val_answers = read_squad('KorQuAD_v1.0_dev.json')"
   ]
  },
  {
   "cell_type": "code",
   "execution_count": 66,
   "id": "af92672a-1fa2-438b-9c21-ff4012365ced",
   "metadata": {},
   "outputs": [
    {
     "name": "stdout",
     "output_type": "stream",
     "text": [
      "훈련 데이터의 본문 개수 :  60407\n",
      "훈련 데이터의 질문 개수 :  60407\n",
      "훈련 데이터의 답변 개수 :  60407\n",
      "테스트 데이터의 본문 개수 :  5774\n",
      "테스트 데이터의 질문 개수 :  5774\n",
      "테스트 데이터의 답변 개수 :  5774\n"
     ]
    }
   ],
   "source": [
    "print('훈련 데이터의 본문 개수 : ', len(train_contexts))\n",
    "print('훈련 데이터의 질문 개수 : ', len(train_questions))\n",
    "print('훈련 데이터의 답변 개수 : ', len(train_answers))\n",
    "print('테스트 데이터의 본문 개수 : ', len(val_contexts))\n",
    "print('테스트 데이터의 질문 개수 : ', len(val_questions))\n",
    "print('테스트 데이터의 답변 개수 : ', len(val_answers))"
   ]
  },
  {
   "cell_type": "code",
   "execution_count": 67,
   "id": "f9b4c85a-435b-458f-a558-1c0d0e33ec4a",
   "metadata": {},
   "outputs": [
    {
     "name": "stdout",
     "output_type": "stream",
     "text": [
      "1839년 바그너는 괴테의 파우스트을 처음 읽고 그 내용에 마음이 끌려 이를 소재로 해서 하나의 교향곡을 쓰려는 뜻을 갖는다. 이 시기 바그너는 1838년에 빛 독촉으로 산전수전을 다 걲은 상황이라 좌절과 실망에 가득했으며 메피스토펠레스를 만나는 파우스트의 심경에 공감했다고 한다. 또한 파리에서 아브네크의 지휘로 파리 음악원 관현악단이 연주하는 베토벤의 교향곡 9번을 듣고 깊은 감명을 받았는데, 이것이 이듬해 1월에 파우스트의 서곡으로 쓰여진 이 작품에 조금이라도 영향을 끼쳤으리라는 것은 의심할 여지가 없다. 여기의 라단조 조성의 경우에도 그의 전기에 적혀 있는 것처럼 단순한 정신적 피로나 실의가 반영된 것이 아니라 베토벤의 합창교향곡 조성의 영향을 받은 것을 볼 수 있다. 그렇게 교향곡 작곡을 1839년부터 40년에 걸쳐 파리에서 착수했으나 1악장을 쓴 뒤에 중단했다. 또한 작품의 완성과 동시에 그는 이 서곡(1악장)을 파리 음악원의 연주회에서 연주할 파트보까지 준비하였으나, 실제로는 이루어지지는 않았다. 결국 초연은 4년 반이 지난 후에 드레스덴에서 연주되었고 재연도 이루어졌지만, 이후에 그대로 방치되고 말았다. 그 사이에 그는 리엔치와 방황하는 네덜란드인을 완성하고 탄호이저에도 착수하는 등 분주한 시간을 보냈는데, 그런 바쁜 생활이 이 곡을 잊게 한 것이 아닌가 하는 의견도 있다.\n"
     ]
    }
   ],
   "source": [
    "print(train_contexts[0])"
   ]
  },
  {
   "cell_type": "code",
   "execution_count": 68,
   "id": "83dbd987-39c7-4674-a2a6-39574b18ecaf",
   "metadata": {},
   "outputs": [
    {
     "name": "stdout",
     "output_type": "stream",
     "text": [
      "바그너는 괴테의 파우스트를 읽고 무엇을 쓰고자 했는가?\n"
     ]
    }
   ],
   "source": [
    "print(train_questions[0])"
   ]
  },
  {
   "cell_type": "code",
   "execution_count": 69,
   "id": "130c90b9-11b4-4e4c-86d0-66721a02565d",
   "metadata": {},
   "outputs": [
    {
     "name": "stdout",
     "output_type": "stream",
     "text": [
      "{'text': '교향곡', 'answer_start': 54}\n"
     ]
    }
   ],
   "source": [
    "print(train_answers[0])"
   ]
  },
  {
   "cell_type": "code",
   "execution_count": 70,
   "id": "9da6cbbf-5108-4abb-91c9-612ed12a9662",
   "metadata": {},
   "outputs": [],
   "source": [
    "def add_end_idx(answers, contexts): # 답변의 시작과 끝의 위치를 정확하게 기록\n",
    "    for answer, context in zip(answers, contexts):\n",
    "        answer['text'] = answer['text'].rstrip() # 오른쪽 공백 제거\n",
    "        gold_text = answer['text']\n",
    "        start_idx = answer['answer_start']\n",
    "        end_idx = start_idx + len(gold_text)\n",
    "\n",
    "        assert context[start_idx:end_idx] == gold_text, '골드 계산 에러'\n",
    "        answer['answer_end'] = end_idx"
   ]
  },
  {
   "cell_type": "code",
   "execution_count": 71,
   "id": "c1faf226-87ec-462d-8e3c-860855c28e1a",
   "metadata": {},
   "outputs": [],
   "source": [
    "add_end_idx(train_answers, train_contexts)\n",
    "add_end_idx(val_answers, val_contexts)"
   ]
  },
  {
   "cell_type": "code",
   "execution_count": 72,
   "id": "34d6a3a1-99f0-45d9-9fbf-6482b004398e",
   "metadata": {},
   "outputs": [
    {
     "name": "stdout",
     "output_type": "stream",
     "text": [
      "{'text': '교향곡', 'answer_start': 54, 'answer_end': 57}\n"
     ]
    }
   ],
   "source": [
    "print(train_answers[0])"
   ]
  },
  {
   "cell_type": "code",
   "execution_count": 73,
   "id": "366bac99-c1d3-47aa-8aeb-23ed9bb9a70b",
   "metadata": {},
   "outputs": [
    {
     "name": "stdout",
     "output_type": "stream",
     "text": [
      "바그너는 교향곡 작곡을 어디까지 쓴 뒤에 중단했는가?\n"
     ]
    }
   ],
   "source": [
    "print(train_questions[1])"
   ]
  },
  {
   "cell_type": "code",
   "execution_count": 74,
   "id": "057c7c34-e68a-44f1-b1ca-f6116426691a",
   "metadata": {},
   "outputs": [
    {
     "name": "stdout",
     "output_type": "stream",
     "text": [
      "{'text': '1악장', 'answer_start': 421, 'answer_end': 424}\n"
     ]
    }
   ],
   "source": [
    "print(train_answers[1])"
   ]
  },
  {
   "cell_type": "code",
   "execution_count": 75,
   "id": "108c5ba4-0504-482c-bb9a-6d259e31f61d",
   "metadata": {},
   "outputs": [
    {
     "name": "stdout",
     "output_type": "stream",
     "text": [
      "1839년 바그너는 괴테의 파우스트을 처음 읽고 그 내용에 마음이 끌려 이를 소재로 해서 하나의 교향곡을 쓰려는 뜻을 갖는다. 이 시기 바그너는 1838년에 빛 독촉으로 산전수전을 다 걲은 상황이라 좌절과 실망에 가득했으며 메피스토펠레스를 만나는 파우스트의 심경에 공감했다고 한다. 또한 파리에서 아브네크의 지휘로 파리 음악원 관현악단이 연주하는 베토벤의 교향곡 9번을 듣고 깊은 감명을 받았는데, 이것이 이듬해 1월에 파우스트의 서곡으로 쓰여진 이 작품에 조금이라도 영향을 끼쳤으리라는 것은 의심할 여지가 없다. 여기의 라단조 조성의 경우에도 그의 전기에 적혀 있는 것처럼 단순한 정신적 피로나 실의가 반영된 것이 아니라 베토벤의 합창교향곡 조성의 영향을 받은 것을 볼 수 있다. 그렇게 교향곡 작곡을 1839년부터 40년에 걸쳐 파리에서 착수했으나 1악장을 쓴 뒤에 중단했다. 또한 작품의 완성과 동시에 그는 이 서곡(1악장)을 파리 음악원의 연주회에서 연주할 파트보까지 준비하였으나, 실제로는 이루어지지는 않았다. 결국 초연은 4년 반이 지난 후에 드레스덴에서 연주되었고 재연도 이루어졌지만, 이후에 그대로 방치되고 말았다. 그 사이에 그는 리엔치와 방황하는 네덜란드인을 완성하고 탄호이저에도 착수하는 등 분주한 시간을 보냈는데, 그런 바쁜 생활이 이 곡을 잊게 한 것이 아닌가 하는 의견도 있다.\n"
     ]
    }
   ],
   "source": [
    "print(train_contexts[1])"
   ]
  },
  {
   "cell_type": "code",
   "execution_count": 76,
   "id": "a7ac3da9-fa53-4d0a-bfdc-7aaf6c50b776",
   "metadata": {},
   "outputs": [
    {
     "name": "stdout",
     "output_type": "stream",
     "text": [
      "1\n",
      "악\n",
      "장\n",
      "1악장\n"
     ]
    }
   ],
   "source": [
    "print(train_contexts[1][421])\n",
    "print(train_contexts[1][422])\n",
    "print(train_contexts[1][423])\n",
    "print(train_contexts[1][421:424])"
   ]
  },
  {
   "cell_type": "code",
   "execution_count": 77,
   "id": "7ee388f1-7123-4e9a-97f1-f9a76998f74b",
   "metadata": {},
   "outputs": [],
   "source": [
    "# 토큰화"
   ]
  },
  {
   "cell_type": "code",
   "execution_count": 78,
   "id": "47e6c1c4-f203-4622-92b9-01fb23c85155",
   "metadata": {},
   "outputs": [],
   "source": [
    "tokenizer = BertTokenizerFast.from_pretrained('klue/bert-base')\n",
    "\n",
    "train_encodings = tokenizer(train_contexts, train_questions, truncation=True, padding=True)\n",
    "val_encodings = tokenizer(val_contexts, val_questions, truncation=True, padding=True)"
   ]
  },
  {
   "cell_type": "code",
   "execution_count": 79,
   "id": "606efce0-7cfe-4084-8a0e-5028101825e2",
   "metadata": {},
   "outputs": [],
   "source": [
    "def add_token_positions(encodings, answers):\n",
    "    start_positions=[]\n",
    "    end_positions=[]\n",
    "    deleting_list=[]\n",
    "\n",
    "    for i in tqdm(range(len(answers))):\n",
    "        start_positions.append(encodings.char_to_token(i, answers[i]['answer_start']))\n",
    "        end_positions.append(encodings.char_to_token(i, answers[i]['answer_end']-1))\n",
    "\n",
    "        if start_positions[-1] is None: # 마지막 값이 없다면\n",
    "            start_positions[-1] = tokenizer.model_max_length # 모델 크기를 넣어주겠다.(사용할 수 없는 값을 넣어서 유효하지 않은 인덱스임을 나타낸다.)\n",
    "            deleting_list.append(i) # 사용하지 않는 값 -> deleting_list에 넣어주겠다.\n",
    "\n",
    "        if end_positions[-1] is None: # None이라면, \n",
    "            end_positions[-1] = tokenizer.model_max_length # 모델 길이만큼 넣어준다.(사용할 수 없는 값)\n",
    "            if i not in deleting_list: # i가 deleting_list에 없다면\n",
    "                deleting_list.append(i) # 삽입\n",
    "\n",
    "    encodings.update({'start_positions':start_positions, 'end_positions':end_positions}) # 업데이트\n",
    "    return deleting_list"
   ]
  },
  {
   "cell_type": "code",
   "execution_count": 80,
   "id": "18ad28b0-f65a-46a4-b984-cf524fab5bf0",
   "metadata": {},
   "outputs": [
    {
     "name": "stderr",
     "output_type": "stream",
     "text": [
      "100%|█████████████████████████████████| 60407/60407 [00:00<00:00, 260507.39it/s]\n",
      "100%|███████████████████████████████████| 5774/5774 [00:00<00:00, 419648.44it/s]\n"
     ]
    }
   ],
   "source": [
    "deleting_list_for_train = add_token_positions(train_encodings, train_answers)\n",
    "deleting_list_for_test = add_token_positions(val_encodings, val_answers)"
   ]
  },
  {
   "cell_type": "code",
   "execution_count": 81,
   "id": "190b4ec6-b615-4a96-a7db-b3bf4cb22e2b",
   "metadata": {},
   "outputs": [
    {
     "data": {
      "text/plain": [
       "[77, 583]"
      ]
     },
     "execution_count": 81,
     "metadata": {},
     "output_type": "execute_result"
    }
   ],
   "source": [
    "deleting_list_for_test[:2]"
   ]
  },
  {
   "cell_type": "code",
   "execution_count": 82,
   "id": "a4af01ef-9c0f-4140-9a9c-a975015c2d3a",
   "metadata": {},
   "outputs": [
    {
     "data": {
      "text/plain": [
       "(267, 57, [711, 726, 728, 729, 761])"
      ]
     },
     "execution_count": 82,
     "metadata": {},
     "output_type": "execute_result"
    }
   ],
   "source": [
    "len(deleting_list_for_train), len(deleting_list_for_test), deleting_list_for_train[:5]"
   ]
  },
  {
   "cell_type": "code",
   "execution_count": 83,
   "id": "7871531f-f576-49a8-aef4-d03224823dfc",
   "metadata": {},
   "outputs": [
    {
     "data": {
      "text/plain": [
       "Encoding(num_tokens=512, attributes=[ids, type_ids, tokens, offsets, attention_mask, special_tokens_mask, overflowing])"
      ]
     },
     "execution_count": 83,
     "metadata": {},
     "output_type": "execute_result"
    }
   ],
   "source": [
    "train_encodings[0]"
   ]
  },
  {
   "cell_type": "code",
   "execution_count": 84,
   "id": "8cad27c5-27e9-433e-b964-cf017aa3433d",
   "metadata": {},
   "outputs": [
    {
     "data": {
      "text/plain": [
       "{'text': '교향곡', 'answer_start': 54, 'answer_end': 57}"
      ]
     },
     "execution_count": 84,
     "metadata": {},
     "output_type": "execute_result"
    }
   ],
   "source": [
    "train_answers[0]"
   ]
  },
  {
   "cell_type": "code",
   "execution_count": 85,
   "id": "dc48e4b9-c8c8-4235-90a5-cf2b069efd76",
   "metadata": {},
   "outputs": [],
   "source": [
    "def delete_samples(encodings, deleting_list):\n",
    "    input_ids = np.delete(np.array(encodings['input_ids']), deleting_list, axis=0)\n",
    "    attention_masks = np.delete(np.array(encodings['attention_mask']), deleting_list, axis=0)\n",
    "    start_positions = np.delete(np.array(encodings['start_positions']), deleting_list, axis=0)\n",
    "    end_positions = np.delete(np.array(encodings['end_positions']), deleting_list, axis=0)\n",
    "\n",
    "    X_data = [input_ids, attention_masks]\n",
    "    y_data = [start_positions, end_positions]\n",
    "\n",
    "    return X_data, y_data"
   ]
  },
  {
   "cell_type": "code",
   "execution_count": 86,
   "id": "b24b6d54-3b89-434c-8b45-6571d6ba0330",
   "metadata": {},
   "outputs": [],
   "source": [
    "X_train, y_train = delete_samples(train_encodings, deleting_list_for_train)\n",
    "X_test, y_test = delete_samples(val_encodings, deleting_list_for_test)"
   ]
  },
  {
   "cell_type": "code",
   "execution_count": 87,
   "id": "0ad0dab7-a83c-48ac-bff0-68ce98ae0aa7",
   "metadata": {},
   "outputs": [],
   "source": [
    "# 모델 세팅\n",
    "from transformers import TFBertModel"
   ]
  },
  {
   "cell_type": "code",
   "execution_count": 88,
   "id": "a1ff633d-3cb6-45ad-8def-692c9b77f19a",
   "metadata": {},
   "outputs": [],
   "source": [
    "class TFBertForQuestionAnswering(tf.keras.Model):\n",
    "    def __init__(self, model_name):\n",
    "        super(TFBertForQuestionAnswering, self).__init__()\n",
    "        # Bert 모델\n",
    "        self.bert = TFBertModel.from_pretrained(model_name, from_pt=True)\n",
    "        # 시작과 끝을 분리하기 위한 DenseLayer(시작 위치, 끝 위치)\n",
    "        self.qa_outputs = tf.keras.layers.Dense(2, kernel_initializer=tf.keras.initializers.TruncatedNormal(0.02), name='qa_outputs')\n",
    "        # 최종 출력\n",
    "        self.softmax = tf.keras.layers.Activation(tf.keras.activations.softmax)\n",
    "\n",
    "    def call(self, inputs):\n",
    "        input_ids, attention_mask = inputs\n",
    "        outputs = self.bert(input_ids, attention_mask = attention_mask) # bert를 통과\n",
    "\n",
    "        sequence_output = outputs[0] # 첫 번째 출력을 sequence_output으로 전달받는다.\n",
    "\n",
    "        logits = self.qa_outputs(sequence_output) # qa_outputs에 전달\n",
    "        start_logits, end_logits = tf.split(logits, 2, axis=-1)\n",
    "\n",
    "        start_logits = tf.squeeze(start_logits, axis=-1)\n",
    "        end_logits = tf.squeeze(end_logits, axis=-1)\n",
    "        # 시작 위치와 끝 위치를 저장해주고, softmax를 통과시켜줄 수 있도록 차원을 변경한다\n",
    "\n",
    "        # softmax를 통해 시작 위치와 최종 위치를 전달\n",
    "        start_probs = self.softmax(start_logits)\n",
    "        end_probs = self.softmax(end_logits)\n",
    "\n",
    "        return start_probs, end_probs"
   ]
  },
  {
   "cell_type": "code",
   "execution_count": 89,
   "id": "9c9fb047-be3a-426b-a4da-6005ed68f262",
   "metadata": {},
   "outputs": [
    {
     "name": "stderr",
     "output_type": "stream",
     "text": [
      "Some weights of the PyTorch model were not used when initializing the TF 2.0 model TFBertModel: ['cls.predictions.transform.LayerNorm.bias', 'cls.predictions.decoder.bias', 'bert.embeddings.position_ids', 'cls.predictions.transform.LayerNorm.weight', 'cls.predictions.transform.dense.weight', 'cls.predictions.bias', 'cls.seq_relationship.weight', 'cls.predictions.transform.dense.bias', 'cls.seq_relationship.bias', 'cls.predictions.decoder.weight']\n",
      "- This IS expected if you are initializing TFBertModel from a PyTorch model trained on another task or with another architecture (e.g. initializing a TFBertForSequenceClassification model from a BertForPreTraining model).\n",
      "- This IS NOT expected if you are initializing TFBertModel from a PyTorch model that you expect to be exactly identical (e.g. initializing a TFBertForSequenceClassification model from a BertForSequenceClassification model).\n",
      "All the weights of TFBertModel were initialized from the PyTorch model.\n",
      "If your task is similar to the task the model of the checkpoint was trained on, you can already use TFBertModel for predictions without further training.\n"
     ]
    }
   ],
   "source": [
    "model = TFBertForQuestionAnswering('klue/bert-base')"
   ]
  },
  {
   "cell_type": "code",
   "execution_count": 90,
   "id": "99a1e102-abd2-4ad1-a4ec-c20239110792",
   "metadata": {},
   "outputs": [],
   "source": [
    "# 위 방식처럼 직접 제작해서 처리해도 괜찮고,\n",
    "# 또는 transformers 내에 포함되어 있는 모델을 가져와도 상관이 없다.\n",
    "from transformers import TFBertForQuestionAnswering"
   ]
  },
  {
   "cell_type": "code",
   "execution_count": 91,
   "id": "7dfa6ec3-7e56-4c7c-a2bd-590372363013",
   "metadata": {},
   "outputs": [],
   "source": [
    "loss = tf.keras.losses.SparseCategoricalCrossentropy(from_logits=False)\n",
    "model.compile(optimizer='adam', loss=loss)"
   ]
  },
  {
   "cell_type": "code",
   "execution_count": null,
   "id": "7ab54bf6-0def-4b58-8f02-beda85bb7a86",
   "metadata": {},
   "outputs": [
    {
     "name": "stdout",
     "output_type": "stream",
     "text": [
      "Epoch 1/3\n"
     ]
    },
    {
     "name": "stderr",
     "output_type": "stream",
     "text": [
      "2024-07-24 10:25:59.010788: W tensorflow/tsl/platform/profile_utils/cpu_utils.cc:128] Failed to get CPU frequency: 0 Hz\n"
     ]
    },
    {
     "name": "stdout",
     "output_type": "stream",
     "text": [
      "WARNING:tensorflow:Gradients do not exist for variables ['tf_bert_model_1/bert/pooler/dense/kernel:0', 'tf_bert_model_1/bert/pooler/dense/bias:0'] when minimizing the loss. If you're using `model.compile()`, did you forget to provide a `loss` argument?\n",
      "WARNING:tensorflow:Gradients do not exist for variables ['tf_bert_model_1/bert/pooler/dense/kernel:0', 'tf_bert_model_1/bert/pooler/dense/bias:0'] when minimizing the loss. If you're using `model.compile()`, did you forget to provide a `loss` argument?\n",
      "WARNING:tensorflow:Gradients do not exist for variables ['tf_bert_model_1/bert/pooler/dense/kernel:0', 'tf_bert_model_1/bert/pooler/dense/bias:0'] when minimizing the loss. If you're using `model.compile()`, did you forget to provide a `loss` argument?\n",
      "WARNING:tensorflow:Gradients do not exist for variables ['tf_bert_model_1/bert/pooler/dense/kernel:0', 'tf_bert_model_1/bert/pooler/dense/bias:0'] when minimizing the loss. If you're using `model.compile()`, did you forget to provide a `loss` argument?\n",
      "  1/940 [..............................] - ETA: 108:31:18 - loss: 13.1384 - output_1_loss: 6.6104 - output_2_loss: 6.5280"
     ]
    }
   ],
   "source": [
    "history = model.fit(X_train, y_train, epochs=3, verbose=1, batch_size=64)"
   ]
  },
  {
   "cell_type": "code",
   "execution_count": 97,
   "id": "94905649-f820-4a14-8497-d64169d89f50",
   "metadata": {},
   "outputs": [],
   "source": [
    "# 질의응답\n",
    "def predict_test_data_by_idx(idx):\n",
    "    context = tokenizer.decode(X_test[0][idx]).split('[SEP]')[0]\n",
    "    question = tokenizer.decode(X_test[0][idx]).split('[SEP]')[1]\n",
    "    print('문맥 : ', context)\n",
    "    print('질문 : ', question)\n",
    "    answer_encoded = X_test[0][idx][y_test[0][idx]:y_test[1][idx]+1]\n",
    "    print('정답 : ', tokenizer.decode(answer_encoded))\n",
    "    output = model([tf.constant(X_test[0][idx])[None, :], tf.constant(X_test[1][idx])[None, :]])\n",
    "    start = tf.math.argmax(tf.squeeze(output[0]))\n",
    "    end = tf.math.argmax(tf.squeeze(output[1]))+1\n",
    "    answer_encoded = X_test[0][idx][start:end]\n",
    "    print('예측 : ', tokenizer.decode(answer_encoded))\n",
    "    print('-'*60)"
   ]
  },
  {
   "cell_type": "code",
   "execution_count": 98,
   "id": "b025ceb9-f165-4cb8-9ab4-06073586d3df",
   "metadata": {},
   "outputs": [
    {
     "name": "stdout",
     "output_type": "stream",
     "text": [
      "문맥 :  [CLS] 1989년 2월 15일 여의도 농민 폭력 시위를 주도한 혐의 ( 폭력행위등처벌에관한법률위반 ) 으로 지명수배되었다. 1989년 3월 12일 서울지방검찰청 공안부는 임종석의 사전구속영장을 발부받았다. 같은 해 6월 30일 평양축전에 임수경을 대표로 파견하여 국가보안법위반 혐의가 추가되었다. 경찰은 12월 18일 ~ 20일 사이 서울 경희대학교에서 임종석이 성명 발표를 추진하고 있다는 첩보를 입수했고, 12월 18일 오전 7시 40분 경 가스총과 전자봉으로 무장한 특공조 및 대공과 직원 12명 등 22명의 사복 경찰을 승용차 8대에 나누어 경희대학교에 투입했다. 1989년 12월 18일 오전 8시 15분 경 서울청량리경찰서는 호위 학생 5명과 함께 경희대학교 학생회관 건물 계단을 내려오는 임종석을 발견, 검거해 구속을 집행했다. 임종석은 청량리경찰서에서 약 1시간 동안 조사를 받은 뒤 오전 9시 50분 경 서울 장안동의 서울지방경찰청 공안분실로 인계되었다. \n",
      "질문 :   1989년 6월 30일 평양축전에 대표로 파견 된 인물은? \n",
      "정답 :  임수경\n",
      "예측 :  ##가 추가되었다. 경찰은 12월 18일 ~ 20일 사이 서울 경희대학교에서 임종석이 성명 발표를 추진하고 있다는 첩보를 입수했고, 12월 18일 오전 7시 40분 경 가스총과 전자봉으로 무장한 특공조 및 대공과 직원 12명 등 22명의 사복 경찰을 승용차 8대에\n",
      "------------------------------------------------------------\n",
      "문맥 :  [CLS] 1989년 2월 15일 여의도 농민 폭력 시위를 주도한 혐의 ( 폭력행위등처벌에관한법률위반 ) 으로 지명수배되었다. 1989년 3월 12일 서울지방검찰청 공안부는 임종석의 사전구속영장을 발부받았다. 같은 해 6월 30일 평양축전에 임수경을 대표로 파견하여 국가보안법위반 혐의가 추가되었다. 경찰은 12월 18일 ~ 20일 사이 서울 경희대학교에서 임종석이 성명 발표를 추진하고 있다는 첩보를 입수했고, 12월 18일 오전 7시 40분 경 가스총과 전자봉으로 무장한 특공조 및 대공과 직원 12명 등 22명의 사복 경찰을 승용차 8대에 나누어 경희대학교에 투입했다. 1989년 12월 18일 오전 8시 15분 경 서울청량리경찰서는 호위 학생 5명과 함께 경희대학교 학생회관 건물 계단을 내려오는 임종석을 발견, 검거해 구속을 집행했다. 임종석은 청량리경찰서에서 약 1시간 동안 조사를 받은 뒤 오전 9시 50분 경 서울 장안동의 서울지방경찰청 공안분실로 인계되었다. \n",
      "질문 :   임종석이 여의도 농민 폭력 시위를 주도한 혐의로 지명수배된 연도는? \n",
      "정답 :  1989년\n",
      "예측 :  ##가 추가되었다. 경찰은 12월 18일 ~ 20일 사이 서울 경희대학교에서 임종석이 성명 발표를 추진하고 있다는 첩보를 입수했고, 12월 18일 오전 7시 40분 경 가스총과 전자봉으로 무장한 특공조 및 대공과 직원 12명 등 22명의 사복 경찰을 승용차 8대에\n",
      "------------------------------------------------------------\n",
      "문맥 :  [CLS] 1989년 2월 15일 여의도 농민 폭력 시위를 주도한 혐의 ( 폭력행위등처벌에관한법률위반 ) 으로 지명수배되었다. 1989년 3월 12일 서울지방검찰청 공안부는 임종석의 사전구속영장을 발부받았다. 같은 해 6월 30일 평양축전에 임수경을 대표로 파견하여 국가보안법위반 혐의가 추가되었다. 경찰은 12월 18일 ~ 20일 사이 서울 경희대학교에서 임종석이 성명 발표를 추진하고 있다는 첩보를 입수했고, 12월 18일 오전 7시 40분 경 가스총과 전자봉으로 무장한 특공조 및 대공과 직원 12명 등 22명의 사복 경찰을 승용차 8대에 나누어 경희대학교에 투입했다. 1989년 12월 18일 오전 8시 15분 경 서울청량리경찰서는 호위 학생 5명과 함께 경희대학교 학생회관 건물 계단을 내려오는 임종석을 발견, 검거해 구속을 집행했다. 임종석은 청량리경찰서에서 약 1시간 동안 조사를 받은 뒤 오전 9시 50분 경 서울 장안동의 서울지방경찰청 공안분실로 인계되었다. \n",
      "질문 :   임종석을 검거한 장소는 경희대 내 어디인가? \n",
      "정답 :  학생회관 건물 계단\n",
      "예측 :  ##가 추가되었다. 경찰은 12월 18일 ~ 20일 사이 서울 경희대학교에서 임종석이 성명 발표를 추진하고 있다는 첩보를 입수했고, 12월 18일 오전 7시 40분 경 가스총과 전자봉으로 무장한 특공조 및 대공과 직원 12명 등 22명의 사복 경찰을 승용차 8대에 나누어 경희대학교에 투입했다. 1989년 12월 18일 오전 8시 15분 경 서울청량리경찰서는 호위 학생 5명과 함께 경희대학교 학생회관 건물 계단을 내려오는 임종석을 발견, 검거해 구속을 집행했다. 임종석은 청량리경찰서에서 약 1시간 동안 조사를 받은 뒤 오전 9시 50분 경 서울 장안동의 서울지방경찰청 공안분실로 인계되었다. [SEP] 임종석을 검거한 장소는 경희대 내 어디인가?\n",
      "------------------------------------------------------------\n",
      "문맥 :  [CLS] 1989년 2월 15일 여의도 농민 폭력 시위를 주도한 혐의 ( 폭력행위등처벌에관한법률위반 ) 으로 지명수배되었다. 1989년 3월 12일 서울지방검찰청 공안부는 임종석의 사전구속영장을 발부받았다. 같은 해 6월 30일 평양축전에 임수경을 대표로 파견하여 국가보안법위반 혐의가 추가되었다. 경찰은 12월 18일 ~ 20일 사이 서울 경희대학교에서 임종석이 성명 발표를 추진하고 있다는 첩보를 입수했고, 12월 18일 오전 7시 40분 경 가스총과 전자봉으로 무장한 특공조 및 대공과 직원 12명 등 22명의 사복 경찰을 승용차 8대에 나누어 경희대학교에 투입했다. 1989년 12월 18일 오전 8시 15분 경 서울청량리경찰서는 호위 학생 5명과 함께 경희대학교 학생회관 건물 계단을 내려오는 임종석을 발견, 검거해 구속을 집행했다. 임종석은 청량리경찰서에서 약 1시간 동안 조사를 받은 뒤 오전 9시 50분 경 서울 장안동의 서울지방경찰청 공안분실로 인계되었다. \n",
      "질문 :   임종석이 조사를 받은 뒤 인계된 곳은 어딘가? \n",
      "정답 :  서울지방경찰청 공안분실\n",
      "예측 :  \n",
      "------------------------------------------------------------\n",
      "문맥 :  [CLS] 1989년 2월 15일 여의도 농민 폭력 시위를 주도한 혐의 ( 폭력행위등처벌에관한법률위반 ) 으로 지명수배되었다. 1989년 3월 12일 서울지방검찰청 공안부는 임종석의 사전구속영장을 발부받았다. 같은 해 6월 30일 평양축전에 임수경을 대표로 파견하여 국가보안법위반 혐의가 추가되었다. 경찰은 12월 18일 ~ 20일 사이 서울 경희대학교에서 임종석이 성명 발표를 추진하고 있다는 첩보를 입수했고, 12월 18일 오전 7시 40분 경 가스총과 전자봉으로 무장한 특공조 및 대공과 직원 12명 등 22명의 사복 경찰을 승용차 8대에 나누어 경희대학교에 투입했다. 1989년 12월 18일 오전 8시 15분 경 서울청량리경찰서는 호위 학생 5명과 함께 경희대학교 학생회관 건물 계단을 내려오는 임종석을 발견, 검거해 구속을 집행했다. 임종석은 청량리경찰서에서 약 1시간 동안 조사를 받은 뒤 오전 9시 50분 경 서울 장안동의 서울지방경찰청 공안분실로 인계되었다. \n",
      "질문 :   1989년 2월 15일 여의도 농민 폭력 시위를 주도한 혐의로 지명수배된 사람의 이름은? \n",
      "정답 :  임종석\n",
      "예측 :  \n",
      "------------------------------------------------------------\n",
      "문맥 :  [CLS] 1989년 2월 15일 여의도 농민 폭력 시위를 주도한 혐의 ( 폭력행위등처벌에관한법률위반 ) 으로 지명수배되었다. 1989년 3월 12일 서울지방검찰청 공안부는 임종석의 사전구속영장을 발부받았다. 같은 해 6월 30일 평양축전에 임수경을 대표로 파견하여 국가보안법위반 혐의가 추가되었다. 경찰은 12월 18일 ~ 20일 사이 서울 경희대학교에서 임종석이 성명 발표를 추진하고 있다는 첩보를 입수했고, 12월 18일 오전 7시 40분 경 가스총과 전자봉으로 무장한 특공조 및 대공과 직원 12명 등 22명의 사복 경찰을 승용차 8대에 나누어 경희대학교에 투입했다. 1989년 12월 18일 오전 8시 15분 경 서울청량리경찰서는 호위 학생 5명과 함께 경희대학교 학생회관 건물 계단을 내려오는 임종석을 발견, 검거해 구속을 집행했다. 임종석은 청량리경찰서에서 약 1시간 동안 조사를 받은 뒤 오전 9시 50분 경 서울 장안동의 서울지방경찰청 공안분실로 인계되었다. \n",
      "질문 :   임종석이 1989년 2월 15일에 지명수배 받은 혐의는 어떤 시위를 주도했다는 것인가? \n",
      "정답 :  여의도 농민 폭력 시위\n",
      "예측 :  ##가 추가되었다. 경찰은 12월 18일 ~ 20일 사이 서울 경희대학교에서 임종석이 성명 발표를 추진하고 있다는 첩보를 입수했고, 12월 18일 오전 7시 40분 경 가스총과 전자봉으로 무장한 특공조 및 대공과 직원 12명 등 22명의 사복 경찰을 승용차 8대에 나누어 경희대학교에 투입했다. 1989년 12월 18일 오전 8시 15분 경 서울청량리경찰서는 호위 학생 5명과 함께 경희대학교 학생회관 건물 계단을 내려오는 임종석을 발견, 검거해 구속을 집행했다. 임종석은 청량리경찰서에서 약 1시간 동안 조사를 받은 뒤 오전 9시 50분 경 서울 장안동의 서울지방경찰청 공안분실로 인계되었다. [SEP] 임종석이 1989년 2월 15일에 지명수배 받은 혐의는 어떤 시위를 주도했다는 것인가?\n",
      "------------------------------------------------------------\n",
      "문맥 :  [CLS] \" 내각과 장관들이 소외되고 대통령비서실의 권한이 너무 크다 \", \" 행보가 비서 본연의 역할을 벗어난다 \" 는 의견이 제기되었다. 대표적인 예가 10차 개헌안 발표이다. 원로 헌법학자인 허영 경희대 석좌교수는 정부의 헌법개정안 준비 과정에 대해 \" 청와대 비서실이 아닌 국무회의 중심으로 이뤄졌어야 했다 \" 고 지적했다.'국무회의의 심의를 거쳐야 한다'( 제89조 ) 는 헌법 규정에 충실하지 않았다는 것이다. 그러면서 \" 법무부 장관을 제쳐놓고 민정수석이 개정안을 설명하는 게 이해가 안 된다 \" 고 지적했다. 민정수석은 국회의원에 대해 책임지는 법무부 장관도 아니고, 국민에 대해 책임지는 사람도 아니기 때문에 정당성이 없고, 단지 대통령의 신임이 있을 뿐이라는 것이다. 또한 국무총리 선출 방식에 대한 기자의 질문에 \" 문 대통령도 취임 전에 국무총리에게 실질적 권한을 주겠다고 했지만 그러지 못하고 있다. 대통령비서실장만도 못한 권한을 행사하고 있다. \" 고 답변했다. \n",
      "질문 :   정부의 헌법개정안 준비 과정에 대해서 청와대 비서실이 아니라 국무회의 중심으로 이뤄졌어야 했다고 지적한 원로 헌법학자는? \n",
      "정답 :  허영\n",
      "예측 :  ##가 비서 본연의 역할을 벗어난다 \" 는 의견이 제기되었다. 대표적인 예가 10차 개헌안 발표이다. 원로 헌법학자인 허영 경희대 석좌교수는 정부의 헌법개정안 준비 과정에 대해 \" 청와대 비서실이 아닌 국무회의 중심으로 이뤄졌어야 했다 \" 고 지적했다.'국무회의의 심의를 거쳐야 한다'( 제89조 ) 는 헌법 규정에 충실하지 않았다는 것이다. 그러면서 \" 법무부 장관을 제쳐놓고 민정수석이 개정안을 설명하는 게 이해가 안 된다 \" 고 지적했다. 민정수석은 국회의원에 대해 책임지는 법무부 장관도 아니고, 국민에 대해 책임지는 사람도 아니기 때문에 정당성이 없고, 단지 대통령의 신임이 있을 뿐이라는 것이다. 또한 국무총리 선출 방식에 대한 기자의 질문에 \" 문 대통령도 취임 전에 국무총리에게 실질적 권한을 주겠다고 했지만 그러지 못하고 있다. 대통령비서실장만도 못한 권한을 행사하고 있다. \" 고 답변했다. [SEP] 정부\n",
      "------------------------------------------------------------\n",
      "문맥 :  [CLS] \" 내각과 장관들이 소외되고 대통령비서실의 권한이 너무 크다 \", \" 행보가 비서 본연의 역할을 벗어난다 \" 는 의견이 제기되었다. 대표적인 예가 10차 개헌안 발표이다. 원로 헌법학자인 허영 경희대 석좌교수는 정부의 헌법개정안 준비 과정에 대해 \" 청와대 비서실이 아닌 국무회의 중심으로 이뤄졌어야 했다 \" 고 지적했다.'국무회의의 심의를 거쳐야 한다'( 제89조 ) 는 헌법 규정에 충실하지 않았다는 것이다. 그러면서 \" 법무부 장관을 제쳐놓고 민정수석이 개정안을 설명하는 게 이해가 안 된다 \" 고 지적했다. 민정수석은 국회의원에 대해 책임지는 법무부 장관도 아니고, 국민에 대해 책임지는 사람도 아니기 때문에 정당성이 없고, 단지 대통령의 신임이 있을 뿐이라는 것이다. 또한 국무총리 선출 방식에 대한 기자의 질문에 \" 문 대통령도 취임 전에 국무총리에게 실질적 권한을 주겠다고 했지만 그러지 못하고 있다. 대통령비서실장만도 못한 권한을 행사하고 있다. \" 고 답변했다. \n",
      "질문 :  '행보가 비서 본연의 역할을 벗어난다 ','장관들과 내각이 소외되고 대통령비서실의 권한이 너무 크다'는 의견이 제기된 대표적인 예는? \n",
      "정답 :  10차 개헌안 발표\n",
      "예측 :  \n",
      "------------------------------------------------------------\n",
      "문맥 :  [CLS] \" 내각과 장관들이 소외되고 대통령비서실의 권한이 너무 크다 \", \" 행보가 비서 본연의 역할을 벗어난다 \" 는 의견이 제기되었다. 대표적인 예가 10차 개헌안 발표이다. 원로 헌법학자인 허영 경희대 석좌교수는 정부의 헌법개정안 준비 과정에 대해 \" 청와대 비서실이 아닌 국무회의 중심으로 이뤄졌어야 했다 \" 고 지적했다.'국무회의의 심의를 거쳐야 한다'( 제89조 ) 는 헌법 규정에 충실하지 않았다는 것이다. 그러면서 \" 법무부 장관을 제쳐놓고 민정수석이 개정안을 설명하는 게 이해가 안 된다 \" 고 지적했다. 민정수석은 국회의원에 대해 책임지는 법무부 장관도 아니고, 국민에 대해 책임지는 사람도 아니기 때문에 정당성이 없고, 단지 대통령의 신임이 있을 뿐이라는 것이다. 또한 국무총리 선출 방식에 대한 기자의 질문에 \" 문 대통령도 취임 전에 국무총리에게 실질적 권한을 주겠다고 했지만 그러지 못하고 있다. 대통령비서실장만도 못한 권한을 행사하고 있다. \" 고 답변했다. \n",
      "질문 :   국무회의의 심의를 거쳐야 한다는 헌법 제 몇 조의 내용인가? \n",
      "정답 :  제89조\n",
      "예측 :  ##가 비서 본연의 역할을 벗어난다 \" 는 의견이 제기되었다. 대표적인 예가 10차 개헌안 발표이다. 원로 헌법학자인 허영 경희대 석좌교수는 정부의 헌법개정안 준비 과정에 대해 \" 청와대 비서실이 아닌 국무회의 중심으로 이뤄졌어야 했다 \" 고 지적했다.'국무회의의 심의를 거쳐야 한다'( 제89조 ) 는 헌법 규정에 충실하지 않았다는 것이다. 그러면서 \" 법무부 장관을 제쳐놓고 민정수석이 개정안을 설명하는 게 이해가 안 된다 \" 고 지적했다. 민정수석은 국회의원에 대해 책임지는 법무부 장관도 아니고, 국민에 대해 책임지는 사람도 아니기 때문에 정당성이 없고, 단지 대통령의 신임이 있을 뿐이라는 것이다. 또한 국무총리 선출 방식에 대한 기자의 질문에 \" 문 대통령도 취임 전에 국무총리에게 실질적 권한을 주겠다고 했지만 그러지 못하고 있다. 대통령비서실장만도 못한 권한을 행사하고 있다. \" 고 답변했다. [SEP] 국무회의의 심의를 거쳐야 한다는 헌법 제 몇 조\n",
      "------------------------------------------------------------\n"
     ]
    }
   ],
   "source": [
    "for i in range(1, 10):\n",
    "    predict_test_data_by_idx(i)"
   ]
  },
  {
   "cell_type": "code",
   "execution_count": null,
   "id": "20161a83-2bd3-4b60-93d7-bfc92de9c565",
   "metadata": {},
   "outputs": [],
   "source": []
  }
 ],
 "metadata": {
  "kernelspec": {
   "display_name": "Python (tensorflow)",
   "language": "python",
   "name": "tensorflow"
  },
  "language_info": {
   "codemirror_mode": {
    "name": "ipython",
    "version": 3
   },
   "file_extension": ".py",
   "mimetype": "text/x-python",
   "name": "python",
   "nbconvert_exporter": "python",
   "pygments_lexer": "ipython3",
   "version": "3.9.18"
  }
 },
 "nbformat": 4,
 "nbformat_minor": 5
}
