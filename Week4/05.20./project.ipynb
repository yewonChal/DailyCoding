{
 "cells": [
  {
   "cell_type": "code",
   "execution_count": 1,
   "id": "6a43f8f1-7511-4192-87b1-c356b2d269b8",
   "metadata": {},
   "outputs": [
    {
     "name": "stdout",
     "output_type": "stream",
     "text": [
      "속보 기사를 찾을 수 없습니다.\n"
     ]
    }
   ],
   "source": [
    "import requests\n",
    "from bs4 import BeautifulSoup\n",
    "\n",
    "url = \"https://news.naver.com/main/list.naver?mode=LPOD&mid=sec&sid1=001&sid2=140&oid=001&isYeonhapFlash=Y\"\n",
    "\n",
    "headers = {\n",
    "    \"User-Agent\": \"Mozilla/5.0 (Windows NT 10.0; Win64; x64) AppleWebKit/537.36 (KHTML, like Gecko) Chrome/91.0.4472.124 Safari/537.36\"\n",
    "}\n",
    "\n",
    "response = requests.get(url, headers=headers)\n",
    "\n",
    "if response.status_code == 200:\n",
    "    html = response.text\n",
    "    soup = BeautifulSoup(html, 'lxml')\n",
    "    \n",
    "    articles = soup.select('div.list_body ul.type02 li dt a[title]')\n",
    "    \n",
    "    if articles:\n",
    "        for article in articles:\n",
    "            print(article['title'])\n",
    "    else:\n",
    "        print(\"속보 기사를 찾을 수 없습니다.\")\n",
    "else:\n",
    "    print(\"Error: \" + str(response.status_code))"
   ]
  },
  {
   "cell_type": "code",
   "execution_count": 2,
   "id": "e0bc543c-05ad-4b4b-bdf8-2e4a64bd38df",
   "metadata": {},
   "outputs": [],
   "source": [
    "import requests as rq\n",
    "import webbrowser\n",
    "from bs4 import BeautifulSoup\n",
    "import selenium"
   ]
  },
  {
   "cell_type": "code",
   "execution_count": 2,
   "id": "605bc201-17aa-4d04-baa8-dc32d257f945",
   "metadata": {},
   "outputs": [
    {
     "name": "stdin",
     "output_type": "stream",
     "text": [
      "제목을 입력하시오. :  아이브\n",
      "가수를 입력하시오. :  해야\n"
     ]
    },
    {
     "name": "stdout",
     "output_type": "stream",
     "text": [
      "찾으시는 곡의 가사 정보를 찾을 수 없습니다.\n"
     ]
    }
   ],
   "source": [
    "import requests\n",
    "from bs4 import BeautifulSoup\n",
    "\n",
    "title = input(\"제목을 입력하시오. : \")\n",
    "artist = input(\"가수를 입력하시오. : \")\n",
    "\n",
    "url = \"https://search.naver.com/search.naver?query=\" + artist + \" \" + title + \" 가사\"\n",
    "\n",
    "response = requests.get(url)\n",
    "\n",
    "if response.status_code == 200:\n",
    "    html = response.text\n",
    "    soup = BeautifulSoup(html, 'lxml')\n",
    "    lyrics = soup.select_one('div.lyrics_area > div.lyrics_txt')\n",
    "    if lyrics is None:\n",
    "        print(\"찾으시는 곡의 가사 정보를 찾을 수 없습니다.\")\n",
    "    else:\n",
    "        lines = lyrics.get_text().split('\\n')\n",
    "        for line in lines:\n",
    "            print(line.strip())\n",
    "else:\n",
    "    print(f\"Error: {response.status_code}\")"
   ]
  },
  {
   "cell_type": "code",
   "execution_count": 3,
   "id": "1a959ea6-b529-4114-a229-4499c0de4c5b",
   "metadata": {},
   "outputs": [
    {
     "name": "stdin",
     "output_type": "stream",
     "text": [
      "제목을 입력하시오. :  숲\n",
      "가수를 입력하시오. :  최유리\n"
     ]
    },
    {
     "name": "stdout",
     "output_type": "stream",
     "text": [
      "찾으시는 곡의 가사 정보를 찾을 수 없습니다.\n"
     ]
    }
   ],
   "source": [
    "import requests\n",
    "from bs4 import BeautifulSoup\n",
    "\n",
    "title = input(\"제목을 입력하시오. : \")\n",
    "artist = input(\"가수를 입력하시오. : \")\n",
    "\n",
    "query = f\"{artist} {title} 가사\"\n",
    "url = \"https://search.naver.com/search.naver?query=\" + query\n",
    "\n",
    "headers = {\n",
    "    \"User-Agent\": \"Mozilla/5.0 (Windows NT 10.0; Win64; x64) AppleWebKit/537.36 (KHTML, like Gecko) Chrome/91.0.4472.124 Safari/537.36\"\n",
    "}\n",
    "\n",
    "response = requests.get(url, headers=headers)\n",
    "\n",
    "if response.status_code == 200:\n",
    "    html = response.text\n",
    "    soup = BeautifulSoup(html, 'lxml')\n",
    "    \n",
    "    # 네이버 검색 결과에서 가사 영역을 찾는 로직 (네이버 검색 페이지 구조에 따라 달라질 수 있음)\n",
    "    lyrics = soup.select_one('div.cm_content_area div.text_expand')\n",
    "    \n",
    "    if lyrics is None:\n",
    "        print(\"찾으시는 곡의 가사 정보를 찾을 수 없습니다.\")\n",
    "    else:\n",
    "        lines = lyrics.get_text().split('\\n')\n",
    "        for line in lines:\n",
    "            print(line.strip())\n",
    "else:\n",
    "    print(f\"Error: {response.status_code}\")"
   ]
  },
  {
   "cell_type": "code",
   "execution_count": null,
   "id": "a9f9f0d0-8860-4348-aae1-fb5c29352757",
   "metadata": {},
   "outputs": [],
   "source": [
    "# title : \n",
    "# artist :\n",
    "import requests\n",
    "from bs4 import BeautifulSoup\n",
    "\n",
    "title = input(\"제목을 입력하시오. : \")\n",
    "artist = input(\"가수를 입력하시오. : \")\n",
    "\n",
    "url = \"https://search.naver.com/search.naver?query=\" + artist + title + '가사'\n",
    "\n",
    "response = requests.get(url)\n",
    "\n",
    "if response.status_code == 200:\n",
    "    html = response.text\n",
    "    soup = BeautifulSoup(html, 'lxml')\n",
    "    lyrics = soup.select_one('div.lyrics_area > div.lyrics_txt')\n",
    "    \n",
    "    elif lyrics == None :\n",
    "        print(\"찾으시는 곡의 가사 정보를 찾을 수 없습니다.\")\n",
    "        \n",
    "    else :\n",
    "        lines = lyrics.get_text().split('\\n')\n",
    "        for line in lines :\n",
    "            print(line.strip())\n",
    "            print()\n",
    "        print(lyrics)\n",
    "\n",
    "else:\n",
    "    print(\"Error : \" + str(response.status_code))"
   ]
  },
  {
   "cell_type": "code",
   "execution_count": null,
   "id": "52d66164-4e60-4fb9-ad37-508e911a9b0a",
   "metadata": {},
   "outputs": [],
   "source": []
  }
 ],
 "metadata": {
  "kernelspec": {
   "display_name": "Python 3 (ipykernel)",
   "language": "python",
   "name": "python3"
  },
  "language_info": {
   "codemirror_mode": {
    "name": "ipython",
    "version": 3
   },
   "file_extension": ".py",
   "mimetype": "text/x-python",
   "name": "python",
   "nbconvert_exporter": "python",
   "pygments_lexer": "ipython3",
   "version": "3.11.7"
  }
 },
 "nbformat": 4,
 "nbformat_minor": 5
}
