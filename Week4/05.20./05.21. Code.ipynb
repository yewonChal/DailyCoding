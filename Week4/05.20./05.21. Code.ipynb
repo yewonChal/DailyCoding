{
 "cells": [
  {
   "cell_type": "code",
   "execution_count": 1,
   "id": "054a1794-90cd-4c75-81e5-c685c0a5cc41",
   "metadata": {},
   "outputs": [],
   "source": [
    "import requests\n",
    "from bs4 import BeautifulSoup\n",
    "import os\n",
    "import pandas as pd\n",
    "import numpy as np"
   ]
  },
  {
   "cell_type": "code",
   "execution_count": 2,
   "id": "19f2f812-db36-421d-ab47-59d83594dd63",
   "metadata": {},
   "outputs": [
    {
     "name": "stdout",
     "output_type": "stream",
     "text": [
      "        노래제목          가수\n",
      "0   Magnetic  아일릿(ILLIT)\n",
      "1  Supernova       aespa\n"
     ]
    }
   ],
   "source": [
    "# 벅스에서 주간 별 1등 노래제목, 가수명 들고오기\n",
    "import pandas as pd\n",
    "\n",
    "codes = [\"202404\", \"20240516\"]\n",
    "\n",
    "data = []\n",
    "\n",
    "for code in codes:\n",
    "    url = \"https://music.bugs.co.kr/chart/track/week/total?chartdate=\" + code\n",
    "    response = requests.get(url)\n",
    "\n",
    "    if response.status_code == 200:\n",
    "        html = response.text\n",
    "        soup = BeautifulSoup(html, 'lxml')\n",
    "        \n",
    "        title = soup.select_one('p.title a').text\n",
    "        artist = soup.select_one('p.artist a').text\n",
    "        \n",
    "        data.append({\n",
    "            \"노래제목\": title,\n",
    "            \"가수\": artist\n",
    "        })\n",
    "    else:\n",
    "        print(response.status_code)\n",
    "\n",
    "df = pd.DataFrame(data)\n",
    "print(df)"
   ]
  },
  {
   "cell_type": "code",
   "execution_count": 3,
   "id": "cc2e93de-0c00-48de-aee9-7dd81640845f",
   "metadata": {},
   "outputs": [],
   "source": [
    "def bugs_music_week(year, month, day):\n",
    "    base_url = \"https://music.bugs.co.kr/chart/track/week/total?\"\n",
    "\n",
    "    month = \"{0:02d}\".format(month)\n",
    "    day = \"{0:02d}\".format(day)\n",
    "\n",
    "    print(month, day)\n",
    "    \n",
    "    url = base_url + \"chartdate={}{}{}\".format(year, month, day)\n",
    "\n",
    "    html = requests.get(url).text\n",
    "    soup = BeautifulSoup(html, 'lxml')\n",
    "\n",
    "    titles = soup.select('p.title a')\n",
    "    artists = soup.select('p.artist a:not(.more)')\n",
    "\n",
    "    music_titles = [title.text for title in titles]\n",
    "    music_artists = [artist.text for artist in artists]\n",
    "\n",
    "    return music_titles, music_artists"
   ]
  },
  {
   "cell_type": "code",
   "execution_count": 4,
   "id": "329807fd-9832-4593-803f-141c077d302d",
   "metadata": {},
   "outputs": [
    {
     "name": "stdout",
     "output_type": "stream",
     "text": [
      "05 09\n",
      "(['I AM', 'Spicy', 'UNFORGIVEN (feat. Nile Rodgers)', 'Kitsch', '손오공', 'Cupid', '꽃', 'Ditto', 'Hype Boy', 'KNOCK', 'Thirsty', 'Teddy Bear', 'OMG', 'After LIKE', '사건의 지평선', 'Attention', 'Dangerously', 'Love Me Like This', 'I Don’t Think That I Like Her', 'Salty & Sweet', '헤어지자 말해요', '건물 사이에 피어난 장미 (Rose Blossom)', '파이팅 해야지 (Feat. 이영지)', 'LOVE DIVE', 'ANTIFRAGILE', '나의 바람 (Wind And Wish)', 'CHRISTIAN', 'Cupid (Twin Ver.)', '심(心)', '빛이 나는 너에게', '물론', '한 페이지가 될 수 있게', 'When I Get Old', '사랑인가 봐', '오르트구름', 'Shut Down', 'Welcome To MY World (Feat. nævis)', \"I'm Unhappy\", 'FRIEND THE END', 'Heaven(2023)', 'FEARLESS', 'ELEVEN', '그라데이션', 'Poppy (Korean Ver.)', 'Candy', '너의 모든 순간', 'Pink Venom', 'VIBE (feat. Jimin of BTS)', \"That's Hilarious\", 'STAY', '밤이 무서워요 (Lonely Night)', 'TOMBOY', 'Cookie', '모든 날, 모든 순간 (Every day, Every Moment)', '정이라고 하자 (Feat. 10CM)', '다정히 내 이름을 부르면', 'Perfume', 'Nostalgia', 'Say I Love You', 'Nxde', 'Off My Face', 'F*ck My Life', 'Monologue', '새삥 (Prod. ZICO) (Feat. 호미들)', '취중고백', 'That’s Not How This Works (feat. Dan + Shay)', 'WHEN I MOVE', '딱 10CM만', 'Unholy', '해요 (2022)', '사랑은 늘 도망가', '도깨비불 (Illusion)', '그때 그 순간 그대로 (그그그)', '나의 X에게', '주저하는 연인들을 위해', 'INVU', '드라마', 'Rush Hour (Feat. j-hope of BTS)', 'Feel My Rhythm', '안녕이라고 말하지마', 'strawberry moon', '나의 마음에 (Seed)', '슝! (feat. LISA of BLACKPINK)', 'Love story', 'Chase Love Hard (Feat. 황민현)', 'NOT SORRY (Feat. pH-1) (Prod. by Slom)', 'Left and Right (Feat. Jung Kook of BTS)', 'Expectations', 'LOVE me', '내가 아니라도', '봄여름가을겨울 (Still Life)', 'Dynamite', '사람 Pt.2 (feat. 아이유)', '이브, 프시케 그리고 푸른 수염의 아내', '자격지심 (Feat. ZICO)', 'Anti-Hero', 'Say My Name', 'Dreamers [Music from the FIFA World Cup Qatar 2022 Official Soundtrack] (feat. FIFA Sound)', \"'Til We Meet Again\", 'Higher'], ['IVE (아이브)', 'aespa', 'LE SSERAFIM (르세라핌)', 'IVE (아이브)', '세븐틴(SEVENTEEN)', 'FIFTY FIFTY', '지수(JISOO)', 'NewJeans', 'NewJeans', '이채연', 'aespa', 'STAYC(스테이씨)', 'NewJeans', 'IVE (아이브)', '윤하(Younha/ユンナ)', 'NewJeans', 'Charlie Puth(찰리 푸스)', 'NMIXX', 'Charlie Puth(찰리 푸스)', 'aespa', '박재정', 'H1-KEY (하이키)', '부석순(SEVENTEEN)', 'IVE (아이브)', 'LE SSERAFIM (르세라핌)', '비투비', '지올팍(Zior Park)', 'FIFTY FIFTY', 'DK(디셈버)', '던 (DAWN)', '허각', 'DAY6 (데이식스)', 'Christopher(크리스토퍼)', '멜로망스(MeloMance)', '윤하(Younha/ユンナ)', 'BLACKPINK', 'aespa', 'aespa', '볼빨간사춘기', '임재현', 'LE SSERAFIM (르세라핌)', 'IVE (아이브)', '10CM', 'STAYC(스테이씨)', 'NCT DREAM', '성시경', 'BLACKPINK', '태양', 'Charlie Puth(찰리 푸스)', 'The Kid LAROI', '주주 시크릿', '(여자)아이들', 'NewJeans', '폴킴(Paul Kim)', 'BIG Naughty (서동현)', '경서예지', 'NCT 도재정', '우디(Woody)', '우디(Woody)', '(여자)아이들', 'Justin Bieber(저스틴 비버)', '세븐틴(SEVENTEEN)', '테이(Tei)', '지코 (ZICO)', '김민석', 'Charlie Puth(찰리 푸스)', '카라(Kara)', '10CM', 'Sam Smith(샘 스미스)', '#안녕', '임영웅', 'aespa', 'WSG워너비 (가야G)', '경서', '잔나비', '태연 (TAEYEON)', '아이유(IU)', 'Crush', 'Red Velvet (레드벨벳)', 'V.O.S.', '아이유(IU)', '태양', '태양', '볼빨간사춘기', '볼빨간사춘기', '이영지', 'Charlie Puth(찰리 푸스)', 'Anne-Marie(앤 마리)', \"BE'O (비오)\", '주호', 'BIGBANG (빅뱅)', '방탄소년단', 'Agust D', 'LE SSERAFIM (르세라핌)', \"BE'O (비오)\", 'Taylor Swift(테일러 스위프트)', 'Say Yes!', '정국', 'aespa', 'FIFTY FIFTY'])\n"
     ]
    }
   ],
   "source": [
    "print(bugs_music_week(2023, 5, 9))"
   ]
  },
  {
   "cell_type": "code",
   "execution_count": 5,
   "id": "b554130b-314b-42d1-9997-cb39d7ea0a35",
   "metadata": {},
   "outputs": [
    {
     "name": "stdout",
     "output_type": "stream",
     "text": [
      "05 21\n"
     ]
    }
   ],
   "source": [
    "year = 2023\n",
    "month = 5\n",
    "day = 21\n",
    "\n",
    "titles, artists = bugs_music_week(year, month, day)\n",
    "\n",
    "filename = './music_week.txt'\n",
    "\n",
    "f = open(filename, 'w')\n",
    "\n",
    "for i in range(len(titles)):\n",
    "    f.write(\"{}. {} - {}\\n\".format(i+1, titles[i], artists[i]))\n",
    "\n",
    "f.close()"
   ]
  },
  {
   "cell_type": "code",
   "execution_count": 6,
   "id": "e63a81cc-d973-4318-9551-e2c783d52936",
   "metadata": {},
   "outputs": [
    {
     "name": "stdout",
     "output_type": "stream",
     "text": [
      "<OpenAPI_ServiceResponse>\n",
      "\t<cmmMsgHeader>\n",
      "\t\t<errMsg>SERVICE ERROR</errMsg>\n",
      "\t\t<returnAuthMsg>HTTP ROUTING ERROR</returnAuthMsg>\n",
      "\t\t<returnReasonCode>04</returnReasonCode>\n",
      "\t</cmmMsgHeader>\n",
      "</OpenAPI_ServiceResponse>\n"
     ]
    }
   ],
   "source": [
    "url = \"http://apis.data.go.kr/1360000/VilageFcstInfoService_2.0/getUltraSrtNcst?\"\n",
    "service_key = \"serviceKey=4kk0XBmwgBWboHyUiwSEtYoghgXPmxMetRDOsq7QiZHyFjmuMk3HDNi6Kfjjeg9YEX64CjlsSgaleWc5JEr2wQ%3D%3D\"\n",
    "others = \"&numOfRows=10&pageNo=1&base_date=20240521&base_time=0600&nx=55&ny=127\"\n",
    "\n",
    "response=requests.get(url+service_key+others)\n",
    "print(response.text)"
   ]
  },
  {
   "cell_type": "code",
   "execution_count": 7,
   "id": "99d794e7-14d5-4dda-b9c0-ca962e3af0bc",
   "metadata": {},
   "outputs": [
    {
     "name": "stdout",
     "output_type": "stream",
     "text": [
      "<OpenAPI_ServiceResponse>\n",
      "\t<cmmMsgHeader>\n",
      "\t\t<errMsg>SERVICE ERROR</errMsg>\n",
      "\t\t<returnAuthMsg>SERVICE_KEY_IS_NOT_REGISTERED_ERROR</returnAuthMsg>\n",
      "\t\t<returnReasonCode>30</returnReasonCode>\n",
      "\t</cmmMsgHeader>\n",
      "</OpenAPI_ServiceResponse>\n"
     ]
    }
   ],
   "source": [
    "url = \"http://apis.data.go.kr/1360000/VilageFcstInfoService_2.0/getUltraSrtNcst?\"\n",
    "params = {\n",
    "    \"serviceKey\" : \"4kk0XBmwgBWboHyUiwSEtYoghgXPmxMetRDOsq7QiZHyFjmuMk3HDNi6Kfjjeg9YEX64CjlsSgaleWc5JEr2wQ%3D%3D\",\n",
    "    \"numOfRows\" : 10,\n",
    "    \"pageNo\" : 1,\n",
    "    \"base_date\" : 20240521, # 날짜\n",
    "    \"base_time\" : \"0600\", # 시간\n",
    "    \"nx\" : 55, # 위치\n",
    "    \"ny\" : 127, # 위치\n",
    "    \"_type\" : \"xml\" # 디폴트값 확인\n",
    "}\n",
    "\n",
    "response = requests.get(url, params=params)\n",
    "print(response.text)"
   ]
  },
  {
   "cell_type": "code",
   "execution_count": 8,
   "id": "4eb08ae1-4121-4788-a69d-555074ae59ce",
   "metadata": {},
   "outputs": [],
   "source": [
    "import xml.etree.ElementTree as ET\n",
    "from datetime import datetime, timedelta"
   ]
  },
  {
   "cell_type": "code",
   "execution_count": 9,
   "id": "2580fda5-5a25-4f22-b4d1-0bc903f595c1",
   "metadata": {},
   "outputs": [],
   "source": [
    "def fetch_weather_data(service_key, base_date, base_time, nx, ny) : # request를 통해 데이터를 전달받고자 하는 코드(위에 작성했던 params 내용을 가져와준 거라고 생각)\n",
    "    url = \"http://apis.data.go.kr/1360000/VilageFcstInfoService_2.0/getUltraSrtNcst\"\n",
    "    params = {\n",
    "    \"serviceKey\" : service_key,\n",
    "    \"numOfRows\" : 10,\n",
    "    \"pageNo\" : 1,\n",
    "    \"base_date\" : base_date, # 날짜\n",
    "    \"base_time\" : base_time, # 시간\n",
    "    \"nx\" : nx, # 위치\n",
    "    \"ny\" : ny, # 위치\n",
    "    \"_type\" : \"XML\" # 디폴트값 확인\n",
    "}\n",
    "    response = requests.get(url, params=params)\n",
    "\n",
    "    if response.status_code == 200: # 제대로 응답이 되었는지\n",
    "        try:\n",
    "            xml_data = ET.fromstring(response.content) # 바이너리 데이터를 컴퓨터가 읽어온다(string 형태로 저장)(해당 바이너리 데이터를 xml데이터로 파싱해준다.\n",
    "            return xml_data\n",
    "        except ET.ParseError:\n",
    "            print(\"Error parsing XML response, Content : \", response.content)\n",
    "            return None\n",
    "        else:\n",
    "            print(response.status_code) # 응답이 제대로 되지 않았을 때\n",
    "            return None"
   ]
  },
  {
   "cell_type": "code",
   "execution_count": 10,
   "id": "e30ab2e5-3128-48dc-9b34-4f8cbb56138f",
   "metadata": {},
   "outputs": [],
   "source": [
    "def parse_weather_data(xml_data): # 위에 파싱한 데이터를 불러서 가져오겠다.\n",
    "    if xml_data is None :\n",
    "        return [] # 아무것도 없으면 비어있는 거 반환)\n",
    "\n",
    "    header = xml_data.find('header') # find로 헤더태그 찾기\n",
    "    if header is not None :\n",
    "        result_code = header.find('resultCode').text # 해당 줄에 있는 text를 가져오겠다.\n",
    "        result_msg = header.find('resultMsg').text\n",
    "\n",
    "        if result_code != '00': # result_code가 00이 아니면, 에러를 출력\n",
    "            print(f'API ERROR : {result_msg} (CODE : {result_code})')\n",
    "            return []\n",
    "            # 여기까지 작성했다면, 이제 body부분에 진입할 수 있다.\n",
    "\n",
    "    body = xml_data.find('body')\n",
    "    if body is None :\n",
    "        print(\"No body found in XML response.\")\n",
    "        return []\n",
    "\n",
    "    items = body.find('items')\n",
    "    if items is None :\n",
    "        print(\"No items found in XML response.\")\n",
    "        return [] # 비어있을 경우를 가정하여 작성(체계적으로 작성)\n",
    "\n",
    "    item_list = items.findall('item') # item_list에 item값을 하나씩 넣어줄 것임을 의미\n",
    "\n",
    "    data = []\n",
    "\n",
    "    for item in item_list:\n",
    "        data.append({\n",
    "            \"baseDate\" : item.find('baseDate').text,\n",
    "            \"baseTime\" : item.find('baseTime').text,\n",
    "            \"category\" : item.find('category').text,\n",
    "            \"obsrValue\" : item.find('obsrValue').text\n",
    "        })\n",
    "    return data"
   ]
  },
  {
   "cell_type": "code",
   "execution_count": 11,
   "id": "d4391278-eabc-4e96-964a-e3ff38c3ced5",
   "metadata": {},
   "outputs": [],
   "source": [
    "def run_weather_data(service_key, start_date, days, nx, ny):\n",
    "    weather_data = []\n",
    "    date = datetime.strptime(start_date, \"%Y%m%d\") # 매개변수로 전달된 문자열을 두번째 형식으로 변환\n",
    "\n",
    "    for day in range(days):\n",
    "        for hour in [\"0000\", \"0600\", \"0900\", \"1200\"]:\n",
    "            base_date = date.strftime(\"%Y%m%d\") # 형식 한 번 더 점검(format), 앞 쪽에 나왔던 date에 대한 문자열을 변환\n",
    "            xml_data = fetch_weather_data(service_key, base_date, hour, nx, ny)\n",
    "            if xml_data is not None:\n",
    "                day_data = parse_weather_data(xml_data)\n",
    "                weather_data.extend(day_data)\n",
    "            else:\n",
    "                print(f'No data returned for {base_date} {hour}')\n",
    "        date += timedelta(days=1)\n",
    "\n",
    "    return weather_data # 실행 담당 함수(어떤 날짜, 어떻게 전달해줄건지 등)"
   ]
  },
  {
   "cell_type": "code",
   "execution_count": 12,
   "id": "81c51996-720b-4ded-81de-1948d2840e7b",
   "metadata": {},
   "outputs": [
    {
     "name": "stdout",
     "output_type": "stream",
     "text": [
      "No body found in XML response.\n",
      "No body found in XML response.\n",
      "No body found in XML response.\n"
     ]
    },
    {
     "data": {
      "text/plain": [
       "[{'baseDate': '20240521',\n",
       "  'baseTime': '0900',\n",
       "  'category': 'PTY',\n",
       "  'obsrValue': '0'},\n",
       " {'baseDate': '20240521',\n",
       "  'baseTime': '0900',\n",
       "  'category': 'REH',\n",
       "  'obsrValue': '79'},\n",
       " {'baseDate': '20240521',\n",
       "  'baseTime': '0900',\n",
       "  'category': 'RN1',\n",
       "  'obsrValue': '0'},\n",
       " {'baseDate': '20240521',\n",
       "  'baseTime': '0900',\n",
       "  'category': 'T1H',\n",
       "  'obsrValue': '20.1'},\n",
       " {'baseDate': '20240521',\n",
       "  'baseTime': '0900',\n",
       "  'category': 'UUU',\n",
       "  'obsrValue': '1.2'},\n",
       " {'baseDate': '20240521',\n",
       "  'baseTime': '0900',\n",
       "  'category': 'VEC',\n",
       "  'obsrValue': '221'},\n",
       " {'baseDate': '20240521',\n",
       "  'baseTime': '0900',\n",
       "  'category': 'VVV',\n",
       "  'obsrValue': '1.4'},\n",
       " {'baseDate': '20240521',\n",
       "  'baseTime': '0900',\n",
       "  'category': 'WSD',\n",
       "  'obsrValue': '1.8'}]"
      ]
     },
     "execution_count": 12,
     "metadata": {},
     "output_type": "execute_result"
    }
   ],
   "source": [
    "# 직접적인 실행\n",
    "service_key = \"4kk0XBmwgBWboHyUiwSEtYoghgXPmxMetRDOsq7QiZHyFjmuMk3HDNi6Kfjjeg9YEX64CjlsSgaleWc5JEr2wQ%3D%3D\"\n",
    "start_date = \"20240521\"\n",
    "days = 1\n",
    "nx = 55\n",
    "ny = 127\n",
    "\n",
    "weather_data = run_weather_data(service_key, start_date, days, nx, ny)\n",
    "weather_data"
   ]
  },
  {
   "cell_type": "code",
   "execution_count": 13,
   "id": "a8621373-f5e7-4f6e-b8e3-d2303da15b92",
   "metadata": {},
   "outputs": [
    {
     "data": {
      "text/html": [
       "<div>\n",
       "<style scoped>\n",
       "    .dataframe tbody tr th:only-of-type {\n",
       "        vertical-align: middle;\n",
       "    }\n",
       "\n",
       "    .dataframe tbody tr th {\n",
       "        vertical-align: top;\n",
       "    }\n",
       "\n",
       "    .dataframe thead th {\n",
       "        text-align: right;\n",
       "    }\n",
       "</style>\n",
       "<table border=\"1\" class=\"dataframe\">\n",
       "  <thead>\n",
       "    <tr style=\"text-align: right;\">\n",
       "      <th>category</th>\n",
       "      <th>PTY</th>\n",
       "      <th>REH</th>\n",
       "      <th>RN1</th>\n",
       "      <th>T1H</th>\n",
       "      <th>UUU</th>\n",
       "      <th>VEC</th>\n",
       "      <th>VVV</th>\n",
       "      <th>WSD</th>\n",
       "    </tr>\n",
       "    <tr>\n",
       "      <th>baseDateTime</th>\n",
       "      <th></th>\n",
       "      <th></th>\n",
       "      <th></th>\n",
       "      <th></th>\n",
       "      <th></th>\n",
       "      <th></th>\n",
       "      <th></th>\n",
       "      <th></th>\n",
       "    </tr>\n",
       "  </thead>\n",
       "  <tbody>\n",
       "    <tr>\n",
       "      <th>2024-05-21 09:00:00</th>\n",
       "      <td>0</td>\n",
       "      <td>79</td>\n",
       "      <td>0</td>\n",
       "      <td>20.1</td>\n",
       "      <td>1.2</td>\n",
       "      <td>221</td>\n",
       "      <td>1.4</td>\n",
       "      <td>1.8</td>\n",
       "    </tr>\n",
       "  </tbody>\n",
       "</table>\n",
       "</div>"
      ],
      "text/plain": [
       "category            PTY REH RN1   T1H  UUU  VEC  VVV  WSD\n",
       "baseDateTime                                             \n",
       "2024-05-21 09:00:00   0  79   0  20.1  1.2  221  1.4  1.8"
      ]
     },
     "execution_count": 13,
     "metadata": {},
     "output_type": "execute_result"
    }
   ],
   "source": [
    "df = pd.DataFrame(weather_data)\n",
    "\n",
    "if not df.empty:\n",
    "    df['baseDateTime'] = df['baseDate'] + df['baseTime']\n",
    "    df['baseDateTime'] = pd.to_datetime(df['baseDateTime'], format = '%Y%m%d%H%M')\n",
    "    df_p = df.pivot(index='baseDateTime', columns='category', values='obsrValue')\n",
    "\n",
    "else : # 비어있는 경우\n",
    "    print(\"No data to display.\")\n",
    "\n",
    "df_p"
   ]
  },
  {
   "cell_type": "code",
   "execution_count": 14,
   "id": "d6a472f1-2207-4386-bed5-fc25a1dd8e19",
   "metadata": {},
   "outputs": [
    {
     "name": "stdout",
     "output_type": "stream",
     "text": [
      "<div class=\"i_container__Okz5K\"><div class=\"i_content__F7t5u\" id=\"content\"><h2 class=\"blind\">TOP100</h2><ol class=\"i_grid_top100_list__pV4sf\"></ol></div></div>\n",
      "[<ol class=\"i_grid_top100_list__pV4sf\"></ol>]\n"
     ]
    }
   ],
   "source": [
    "from bs4 import BeautifulSoup\n",
    "import requests\n",
    "\n",
    "url = \"https://tv.naver.com/r\"\n",
    "\n",
    "response = requests.get(url)\n",
    "html = response.text\n",
    "soup = BeautifulSoup(html, 'lxml')\n",
    "ul = soup.select_one('div.i_container__Okz5K')\n",
    "print(ul)\n",
    "title = ul.select('ol.i_grid_top100_list__pV4sf')\n",
    "print(title)"
   ]
  },
  {
   "cell_type": "code",
   "execution_count": 15,
   "id": "7ab646c5-ea22-4da2-b061-f5e7efea6aef",
   "metadata": {},
   "outputs": [],
   "source": [
    "from selenium.webdriver.chrome.service import Service\n",
    "from webdriver_manager.chrome import ChromeDriverManager\n",
    "\n",
    "def set_chrome_driver():\n",
    "    chrome_options = webdriver.ChromeOptions()\n",
    "    driver = webdriver.Chrome(service=Service(ChromeDriverManager().install()), options=chrome_options)\n",
    "    return driver"
   ]
  },
  {
   "cell_type": "code",
   "execution_count": 19,
   "id": "769d00b1-dc8b-46ad-b694-2d5e000f94b6",
   "metadata": {},
   "outputs": [],
   "source": [
    "# 돔 접근, selenium\n",
    "from selenium import webdriver\n",
    "\n",
    "driver = webdriver.Chrome()\n",
    "driver.get('https://www.naver.com')"
   ]
  },
  {
   "cell_type": "code",
   "execution_count": null,
   "id": "835565f8-a2ba-4727-85c8-9c57b7b6d9e7",
   "metadata": {},
   "outputs": [],
   "source": []
  },
  {
   "cell_type": "code",
   "execution_count": null,
   "id": "05b32845-e064-43ab-b1b3-5c71fc05a30a",
   "metadata": {},
   "outputs": [],
   "source": []
  }
 ],
 "metadata": {
  "kernelspec": {
   "display_name": "Python 3 (ipykernel)",
   "language": "python",
   "name": "python3"
  },
  "language_info": {
   "codemirror_mode": {
    "name": "ipython",
    "version": 3
   },
   "file_extension": ".py",
   "mimetype": "text/x-python",
   "name": "python",
   "nbconvert_exporter": "python",
   "pygments_lexer": "ipython3",
   "version": "3.11.8"
  }
 },
 "nbformat": 4,
 "nbformat_minor": 5
}
