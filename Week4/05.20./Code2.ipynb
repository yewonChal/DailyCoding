{
 "cells": [
  {
   "cell_type": "markdown",
   "id": "aa9c9198-094a-4c2a-a970-33e1d5e05d8c",
   "metadata": {},
   "source": [
    "# 과제"
   ]
  },
  {
   "cell_type": "code",
   "execution_count": 1,
   "id": "02f26d2e-9423-4820-b031-38787b30852e",
   "metadata": {},
   "outputs": [
    {
     "name": "stdin",
     "output_type": "stream",
     "text": [
      "제목을 입력하시오. :  소나기\n",
      "가수를 입력하시오. :  이클립스\n"
     ]
    },
    {
     "name": "stdout",
     "output_type": "stream",
     "text": [
      "그치지 않기를 바랬죠 \n",
      "\n",
      "처음 그대 내게로 오던 그날에 \n",
      "\n",
      "잠시 동안 적시는 \n",
      "\n",
      "그런 비가 아니길 \n",
      "\n",
      "간절히 난 바래왔었죠 \n",
      "\n",
      "그대도 내 맘 아나요 \n",
      "\n",
      "매일 그대만 그려왔던 나를 \n",
      "\n",
      "오늘도 내 맘에 스며들죠 \n",
      "\n",
      "그대는 선물입니다 \n",
      "\n",
      "하늘이 내려준 \n",
      "\n",
      "홀로 선 세상 속에 \n",
      "\n",
      "그댈 지켜줄게요 \n",
      "\n",
      "어느 날 문득 \n",
      "\n",
      "소나기처럼 \n",
      "\n",
      "내린 그대지만 \n",
      "\n",
      "오늘도 불러 봅니다 \n",
      "\n",
      "내겐 소중한 사람 \n",
      "\n",
      "Oh \n",
      "\n",
      "떨어지는 빗물이 \n",
      "\n",
      "어느새 날 깨우고 \n",
      "\n",
      "그대 생각에 잠겨요 \n",
      "\n",
      "이제는 내게로 와요 \n",
      "\n",
      "언제나처럼 기다리고 있죠 \n",
      "\n",
      "그대 손을 꼭 잡아줄게요 \n",
      "\n",
      "그대는 선물입니다 \n",
      "\n",
      "하늘이 내려준 \n",
      "\n",
      "홀로 선 세상 속에 \n",
      "\n",
      "그댈 지켜줄게요 \n",
      "\n",
      "어느 날 문득 \n",
      "\n",
      "소나기처럼 \n",
      "\n",
      "내린 그대지만 \n",
      "\n",
      "오늘도 불러 봅니다 \n",
      "\n",
      "내겐 소중한 사람 \n",
      "\n",
      "잊고 싶던 아픈 기억들도 \n",
      "\n",
      "빗방울과 함께 흘려보내면 돼요 \n",
      "\n",
      "때로는 지쳐도 \n",
      "\n",
      "하늘이 흐려도 \n",
      "\n",
      "내가 있다는 걸 잊지 말아요 \n",
      "\n",
      "그대는 사랑입니다 \n",
      "\n",
      "하나뿐인 사랑 \n",
      "\n",
      "다시는 그대와 같은 \n",
      "\n",
      "사랑 없을 테니 \n",
      "\n",
      "잊지 않아요 \n",
      "\n",
      "내게 주었던 \n",
      "\n",
      "작은 기억 하나도 \n",
      "\n",
      "오늘도 새겨봅니다 \n",
      "\n",
      "내겐 선물인 그댈 \n",
      "\n"
     ]
    }
   ],
   "source": [
    "# 과제1) 노래 가사 줄바꿈하여 출력\n",
    "import requests\n",
    "from bs4 import BeautifulSoup\n",
    "\n",
    "title = input(\"제목을 입력하시오. : \")\n",
    "artist = input(\"가수를 입력하시오. : \")\n",
    "\n",
    "url = \"https://search.naver.com/search.naver?query=\" + artist + \" \" + title + \" 가사\"\n",
    "\n",
    "response = requests.get(url)\n",
    "\n",
    "if response.status_code == 200:\n",
    "    html = response.text\n",
    "    soup = BeautifulSoup(html, 'lxml')\n",
    "    lyrics = soup.select_one('div.lyrics_area > div.lyrics_txt')\n",
    "    if lyrics is None:\n",
    "        print(\"찾으시는 곡의 가사 정보를 찾을 수 없습니다.\")\n",
    "    else:\n",
    "        lines = lyrics.select('p')\n",
    "        \n",
    "        for line in lines:\n",
    "            print(line.get_text(), '\\n')\n",
    "else:\n",
    "    print(response.status_code)"
   ]
  },
  {
   "cell_type": "code",
   "execution_count": 42,
   "id": "d93d7c11-197f-4001-a3c0-f5aae757db57",
   "metadata": {},
   "outputs": [
    {
     "name": "stdout",
     "output_type": "stream",
     "text": [
      "1 이란 부통령, 헬기추락 라이시 대통령 사망 확인<로이터>\n",
      "2 이란 대통령 헬기 추락 원인 악천후 무게…일부선 추측도 '난무'\n",
      "3 대통령 공백시 후계구도는…정치적 과도기 이란 혼란상 가중하나\n",
      "4 '시아파 맹주' 이란 대통령 헬기사고에 중동정세 요동치나\n",
      "5 '헬기추락' 라이시 이란 대통령은…최고지도자 물망 '강경보수'\n"
     ]
    }
   ],
   "source": [
    "# 과제2) 뉴스 속보기사 제목 출력\n",
    "import requests\n",
    "from bs4 import BeautifulSoup\n",
    "\n",
    "url = \"https://news.naver.com/main/list.naver?mode=LPOD&mid=sec&sid1=001&sid2=140&oid=001&isYeonhapFlash=Y\"\n",
    "\n",
    "response = requests.get(url)\n",
    "\n",
    "if response.status_code == 200:\n",
    "    html = response.text\n",
    "    soup = BeautifulSoup(html, 'html.parser')\n",
    "    news = soup.select_one('div.ytn_top > dl.type04')\n",
    "\n",
    "    titles = news.select('a')\n",
    "\n",
    "    for i in range(1, len(titles)) :\n",
    "        print(i, titles[i].get_text())\n",
    "    \n",
    "else:\n",
    "    print(response.status_code)"
   ]
  },
  {
   "cell_type": "markdown",
   "id": "f60ba83e-cfa3-4550-a87e-5a5b275f1331",
   "metadata": {},
   "source": [
    "# 진도"
   ]
  },
  {
   "cell_type": "code",
   "execution_count": 43,
   "id": "031a32d2-f47d-4d72-84ac-56f86879cfca",
   "metadata": {},
   "outputs": [
    {
     "name": "stdout",
     "output_type": "stream",
     "text": [
      "['Supernova', '해야 (HEYA)', 'SPOT! (feat. JENNIE)', '소나기', 'Magnetic', '고민중독', '나는 아픈 건 딱 질색이니까', 'SHEESH', '첫 만남은 계획대로 되지 않아', '미안해 미워해 사랑해', 'Accendio', 'Welcome to the Show', '밤양갱', 'Run Run', 'Lucky Girl Syndrome', 'Love wins all', '한 페이지가 될 수 있게', '예뻤어', 'Hype Boy', 'Midas Touch', 'Attention', '에피소드', 'Girls Never Die', 'I AM', '그랬나봐', '천상연', 'ETA', 'Ditto', 'Love 119', '그대만 있다면 (여름날 우리 X 너드커넥션 (Nerd Connection))', 'Super Shy', 'New Jeans', 'To. X', 'Drama', 'Siren', 'OMG', '만날테니까', '비의 랩소디', 'EASY', 'You & I', 'Discord', 'Spicy', 'Smart', '홀씨', 'Impossible', 'MAESTRO', 'MANIAC', '멈춰줘', 'By Your Side', '헤어지자 말해요', 'Get A Guitar', 'Star', '꿈결같아서', 'Love me or Leave me', 'Love Lee', '사랑인가 봐', 'HAPPY', 'G.T.H.O.', \"I'll Be There\", '반딧불 (Little Light)', 'Seven (feat. Latto) - Clean Ver.', '사랑과 우정사이', '인사', '사건의 지평선', 'Steal The Show (From “엘리멘탈”)', '청춘찬가', 'After LIKE', 'LOVE DIVE', '그랬나봐', '내 입술 따뜻한 커피처럼', 'You & Me', '좋아해요', 'Yes or No (Feat. 허윤진 of LE SSERAFIM, Crush)', 'Wife', '봄눈', 'DASH', 'Dangerously', 'Popcorn', 'Perfect Night', '숲', '꿈', '모든 날, 모든 순간 (Every day, Every Moment)', 'Mars', '너의 모든 순간', '후라이의 꿈', '사랑은 늘 도망가', 'Kitsch', '건물 사이에 피어난 장미 (Rose Blossom)', '퀸카 (Queencard)', '자꾸만 웃게 돼', 'I Don’t Think That I Like Her', '어떻게 이별까지 사랑하겠어, 널 사랑하는 거지', '주저하는 연인들을 위해', 'Obsessed', 'Wish You Hell', 'Shopper', '머리가 어떻게 됐나 봐', '혹시 세상에 혼자 남겨진 것 같다면', 'When I Get Old', 'Baddie']\n"
     ]
    }
   ],
   "source": [
    "url = \"https://music.bugs.co.kr/chart\"\n",
    "\n",
    "response = requests.get(url)\n",
    "\n",
    "play_list = []\n",
    "\n",
    "if response.status_code == 200 :\n",
    "    html = response.text\n",
    "    soup = BeautifulSoup(html, 'html.parser')\n",
    "    ul = soup.select_one('tbody')\n",
    "    titles = ul.select('p.title') # th 또는 p.title로 출력 가능\n",
    "    for title in titles :\n",
    "        play_list.append(title.get_text().strip())\n",
    "\n",
    "else :\n",
    "    print(response.status_code)\n",
    "\n",
    "print(play_list)"
   ]
  },
  {
   "cell_type": "code",
   "execution_count": 44,
   "id": "17bee9aa-d353-49ec-a3c3-f4f8028c675f",
   "metadata": {},
   "outputs": [
    {
     "name": "stdout",
     "output_type": "stream",
     "text": [
      "파이썬 문제 질문\n"
     ]
    }
   ],
   "source": [
    "url = \"https://kin.naver.com/search/list.naver?query=파이썬\"\n",
    "\n",
    "response = requests.get(url)\n",
    "\n",
    "search = []\n",
    "\n",
    "if response.status_code == 200 :\n",
    "    html = response.text\n",
    "    soup = BeautifulSoup(html, 'lxml')\n",
    "    ul = soup.select_one('ul.basic1 > li:nth-child(2) > dl > dt > a')\n",
    "\n",
    "    print(ul.get_text())\n",
    "\n",
    "else :\n",
    "    print(response.status_code)"
   ]
  },
  {
   "cell_type": "code",
   "execution_count": 45,
   "id": "3309d1ba-de5b-4af1-973b-d72edebc04f4",
   "metadata": {},
   "outputs": [
    {
     "name": "stdout",
     "output_type": "stream",
     "text": [
      "파이썬 바이트 코드\n",
      "파이썬 문제 질문\n",
      "중1 파이썬 독학\n",
      "파이썬 사용\n",
      "파이썬 문법 질문\n",
      "파이썬 질문\n",
      "파이썬 문제 풀어주세요\n",
      "파이썬 해커 되는법 파이썬 해킹에 관해서\n",
      "파이썬 무역학과, 무역회사\n",
      "파이썬 기초 공부하는법 질문드려요\n"
     ]
    }
   ],
   "source": [
    "url = \"https://kin.naver.com/search/list.naver?query=파이썬\"\n",
    "\n",
    "response = requests.get(url)\n",
    "\n",
    "search = []\n",
    "\n",
    "if response.status_code == 200 :\n",
    "    html = response.text\n",
    "    soup = BeautifulSoup(html, 'lxml')\n",
    "    ul = soup.select_one('ul.basic1')\n",
    "    titles = ul.select('li > dl > dt > a')\n",
    "\n",
    "    for title in titles :\n",
    "        print(title.get_text())\n",
    "else :\n",
    "    print(response.status_code)"
   ]
  },
  {
   "cell_type": "code",
   "execution_count": 46,
   "id": "055037b8-bd35-438b-afac-c0be2c4ceb09",
   "metadata": {},
   "outputs": [
    {
     "name": "stdout",
     "output_type": "stream",
     "text": [
      "1 a\n",
      "2 b\n",
      "3 c\n"
     ]
    }
   ],
   "source": [
    "url = \"https://library.gabia.com\"\n",
    "\n",
    "response = requests.get(url)\n",
    "\n",
    "search = []\n",
    "\n",
    "if response.status_code == 200 :\n",
    "    html = response.text\n",
    "    soup = BeautifulSoup(html, 'lxml')\n",
    "    ul = soup.select('div.esg-entry-content a > span')\n",
    "    \n",
    "    for index, element in enumerate(['a', 'b', 'c'], start=1) : # for문에서 인덱스와 원소를 동시에 접근할 수 있게 도와주는 함수\n",
    "        print(index, element)\n",
    "else :\n",
    "    print(response.status_code)"
   ]
  },
  {
   "cell_type": "code",
   "execution_count": 66,
   "id": "3957bf93-5995-4006-bfa1-c49c2a7a8aa7",
   "metadata": {},
   "outputs": [
    {
     "name": "stdout",
     "output_type": "stream",
     "text": [
      "프라임경제 : 윙입푸드, 나스닥 상장 '박차'…차주 수요예측 진행 '총력'\n",
      "세계일보언론사 선정 : 금리 인하 기대감에… 다우·S&P500·나스닥 모두 최고치 마감\n",
      "천지일보 : 美 뉴욕증시 다우지수 첫 4만선 돌파 마감\n",
      "더팩트언론사 선정 : 뉴욕증시, PPI 상승에도 질주…나스닥 역대 최고치\n",
      "국제뉴스 : 나스닥 다우지수 또 상승...금값·국제유가도 치솟았다\n",
      "한국경제언론사 선정 : CPI 발표 앞두고 나스닥 0.29%↑…밈주식 '급등' [뉴욕증시 브리핑]\n",
      "머니투데이 : 다우지수 장중 4만선 돌파...나스닥 -0.26% S&P -0.21%\n",
      "이데일리 : '6년째 상장 준비'… 나스닥 간다던 바이오텍 잔혹사\n",
      "헤럴드경제언론사 선정 : “무지성 적립식 매수로 펀드매니저 이길 듯”…美 다우·S&P500·나스닥 ‘사...\n",
      "톱스타뉴스 : 미국 뉴욕증시 '역대 최고' 다우의 날…S&P 0.12%↑·나스닥종합 0.07%↓·다...\n",
      "파이낸셜뉴스언론사 선정 : 뉴욕증시 상승, 나스닥 사상 최고...밈주 열풍 지속\n",
      "조선비즈언론사 선정 : 뉴욕증시, 다우지수 사상 첫 장중 4만선 돌파…S&P·나스닥도 고공행진\n",
      "한국경제언론사 선정 : CPI 발표 앞두고 나스닥 0.29%↑…밈주식 '급등' [뉴욕증시 브리핑]\n",
      "톱스타뉴스 : 미국 뉴욕증시 '역대 최고' 다우의 날…S&P 0.12%↑·나스닥종합 0.07%↓·다...\n",
      "뉴데일리 : 다우지수, 금리인하 기대감 업고 장중 사상 첫 4만 돌파\n",
      "뉴스핌 : 뉴욕증시, CPI 앞두고 일제히 상승…나스닥 최고치 경신\n",
      "뉴스웍스 : 뉴욕증시, 다우 사상 첫 4만 돌파…S&P 0.12%↑·나스닥 0.07%↓\n",
      "국제뉴스 : 미국 뉴욕증시, 신규 실업수당 청구발표...다우 나스닥 상승\n",
      "이데일리 : 나스닥 사상 최고치…재차 금리인상 선그은 파월[월스트리트in]\n",
      "소셜밸류 : 미국 뉴욕증시, 국채금리 상승에 발목 다우-나스닥-S&P-반도체 소폭 상승에 그...\n",
      "한국강사신문 : [미국 뉴욕증시-주간전망] 엔비디아에 거는 랠리 기대감...지난주 다우존스·...\n",
      "매일경제 : [코스포와 함께하는 스타트업 생존방정식] 21그램 | 반려동물의 건강한 삶과 ...\n",
      "소셜밸류 : 미국 뉴욕증시, 국채금리 상승에 발목 다우-나스닥-S&P-반도체 소폭 상승에 그...\n",
      "소셜밸류 : [속보]미국 뉴욕증시, CPI 둔화+금리 하락에 나스닥 1.3% 반도체 2.6% 급등 S...\n",
      "연합뉴스언론사 선정 : 엔비디아 급락에 S&P 500지수 5,000선 내줘…나스닥 2%↓(종합)\n",
      "이투데이 : [상보] 뉴욕증시, 금리 인하 기대 후퇴에 급락…나스닥 2.04%↓\n",
      "글로벌이코노믹 : [뉴욕증시 마감] 다우지수, 8거래일 연속 상승...나스닥은 약보합\n",
      "KBS : 엔비디아 급락으로 나스닥 2% 하락\n",
      "이데일리언론사 선정 : [뉴스새벽배송]중동 리스크에 나스닥 2%↓…엔비디아 급락\n",
      "토큰포스트 : 일본의 코인체크, SPAC 합병을 통한 나스닥 상장 예정\n",
      "뉴시스 : NH선물, 나스닥 해외선물 대상 'thaNQ' 이벤트\n",
      "에너지경제 : 미국 4월 CPI 발표, 3.4%↑ 전망치 부합…나스닥 선물 상승\n",
      "아시아경제언론사 선정 : [뉴욕증시]중동 위험에 대형 기술주 급락…나스닥 2.05%↓\n",
      "이코노뉴스 : 뉴욕증시, 파월 연준의장 매파적 발언 등 영향 상승-테슬라 3%대, 엔비디아 1...\n",
      "인사이드 비나 : 빈패스트, 필리핀 공식 진출…31일 미디어데이 행사\n",
      "에너지경제 : “땡큐 나스닥·비트코인”…서울 백만장자 수 8만명 넘었다\n",
      "뉴스1언론사 선정 : 나스닥 2% 급락…넷플릭스 전망 부진에 6일 연속 하락[뉴욕마감]\n",
      "이데일리언론사 선정 : [뉴스새벽배송]美증시, 빅테크 호조에 일제히 상승…나스닥 2%↑\n",
      "소셜밸류 : [속보]미국 뉴욕증시, 고용 완화+금리 훈풍에 나스닥-반도체 2% 급등 다우-S&...\n",
      "이데일리언론사 선정 : 물가 고착화에도 빅테크 호실적에 ‘희망’…나스닥 2%↑[월스트리트in]\n",
      "경향게임스 : [주간 디지털 자산 시장 브리핑] 가상화폐, 나스닥과 동반 하락\n",
      "소셜밸류 : [속보]미국 뉴욕증시, 금리 하락+테슬라 15% 급등 나스닥-다우-S&P 0.3% 반도...\n",
      "톱스타뉴스 : 미국 뉴욕증시 장초반 상승 출발…S&P 0.37%↑·나스닥종합 0.72%↑·다우존스...\n",
      "국제뉴스 : 미국 3월 PPI 발표 앞두고 나스닥 다우 선물 지수↓\n",
      "소셜밸류 : [속보]미국 뉴욕증시, 국채금리 하락에 다우-S&P-반도체-나스닥 모두 상승\n",
      "핀포인트뉴스 : 테슬라 주가 급락 무슨일이?... 다우ㆍ나스닥도 휘청\n",
      "한국경제 : 테슬라, 판매증대 위해 미국내 모델Y 할부금리 대폭 인하\n",
      "이투데이 : [베스트&워스트] 에이비프로바이오, 미 관계사 나스닥 상장 소식에 41% ↑\n",
      "소셜밸류 : [상보]미국 뉴욕증시, 국채금리 급등에 나스닥-반도체 하락...선물지수도 하락...\n",
      "소셜밸류 : [마감]미국 뉴욕증시, 셧다운 해소가 국채금리 상승 이겼다...나스닥-반도체-...\n",
      "국제뉴스 : 미국 뉴욕증시, 4월 생산자물가 0.5%↑...다우 나스닥 상승\n",
      "톱스타뉴스 : 미국 뉴욕증시 장초반 상승 출발…S&P 0.06%↑·나스닥종합 0.00%↑·다우존스...\n",
      "연합인포맥스 : 뉴욕증시, 뜨겁지도, 차갑지도 않은 美고용…나스닥 1.99%↑마감\n",
      "서울경제언론사 선정 : 1분기 美 기업 실적 호조에 뉴욕증시 상승…나스닥 1.59%↑[데일리국제금융시...\n",
      "톱스타뉴스 : 미국 뉴욕증시 장초반 혼조 출발…S&P 0.21%↓·나스닥종합 0.12%↓·다우존스...\n",
      "머니S : [뉴욕증시] \"M7 실적 온다\" 빅테크 호실적 기대감에 상승… 나스닥 1.6%↑\n",
      "더구루 : '카카오페이 투자' 美 시버트, 나스닥 상폐 경고\n",
      "초이스경제 : 美 나스닥 선물 하락 속, 중국증시 · 일본증시 '장중 약세'\n",
      "에너지경제 : 나스닥 상장 ARM, 공모가 51달러로 결정…과대평가 지적도\n",
      "소셜밸류 : [속보]미국 뉴욕증시, 국채금리 하락하며 나스닥-다우-S&P 상승폭 커져...반도...\n",
      "이데일리언론사 선정 : [뉴스새벽배송]뉴욕증시, 엇갈린 금리 인하 전망에 보합 마감…나스닥 0.1%↓\n",
      "아주경제 : [뉴욕증시 마감] 3대 지수 혼조…나스닥 0.18% 하락\n",
      "헤럴드경제 : 한투운용, 글로벌AI&반도체TOP10 수익률 61%\n",
      "소셜밸류 : [마감]미국 뉴욕증시, 급등락 끝에 나스닥-S&P 하락 다우 상승 혼조세 반도체...\n",
      "소셜밸류 : [속보]미국 뉴욕증시, 금리인하 기대감 살아나자 나스닥-S&P-다우 상승 반도체...\n",
      "이슈앤비즈 : 나이키 주가·나스닥 주가·테슬라 주가, 4월 4주차 랭키파이 S&P500 기업 트...\n",
      "소셜밸류 : [마감]미국 뉴욕증시, 스태그플레이션 우려에도 S&P-나스닥 소폭 하락 반도체...\n",
      "푸드경제신문 organiclife : 미국증시 3대지수 모두 하락...엔비디아 4% 폭락에 나스닥 1.15% 급락\n",
      "핀포인트뉴스 : 미국 금리인하 또 흔들? 다우ㆍ나스닥 폭락... 테슬라 급락에 포스코홀딩스ㆍ...\n",
      "소셜밸류 : [속보]미국 뉴욕증시, 오후 들어 애플 4% 급락에 나스닥 상승폭 줄고 다우는 ...\n",
      "이투데이 : [베스트&워스트] 윈텍, 대규모 자금조달에 107% ↑…윙입푸드, 나스닥 상장에...\n",
      "소셜밸류 : [속보]미국 뉴욕증시, CPI 발표 앞두고 금리하락에도 다우-나스닥-S&P 모두 하...\n",
      "소셜밸류 : [속보]미국 뉴욕증시, 국채금리 완연한 하락에 다우-나스닥-S&P 상승 전환 반...\n",
      "뉴스1 : 나스닥 0.8% 상승…\"아이폰, 구글 AI엔진 제미나이 탑재\"[뉴욕마감]\n",
      "아시아투데이 : 야놀자, 클라우드 호재에 나스닥 상장 '청신호'\n",
      "스타데일리뉴스 : 1위 넷플릭스 주가·2위 스타벅스 주가·3위 코스트코 주가 2월 1주차 나스닥...\n",
      "소셜밸류 : [마감]미국 뉴욕증시, 국채금리 10년물 하락 전환 다우 0.5% 나스닥 0.4% 반도...\n",
      "천지일보 : 엇갈린 미국 증시… 다우·S&P500 조정에도 나스닥 '사상 최고치'\n",
      "톱스타뉴스 : 미국 뉴욕증시, 고점 부담 속에 혼조…S&P 0.14%↓·나스닥종합 0.16%↑·다우...\n",
      "소셜밸류 : [마감]미국 뉴욕증시, 금리 추가상승 경계감에도 나스닥-반도체 급등...다우-...\n",
      "CWN : '나스닥' 관심 증가, 당신은? 랭키파이가 분석한 성별·연령별 관심도 결과, ...\n",
      "이슈앤비즈 : 나이키 주가·나스닥 주가·테슬라 주가, 4월 4주차 랭키파이 S&P500 기업 트...\n",
      "서울와이어 : '나스닥' 트렌드 분석, 남성의 관심 높은 것으로 나타나!, 랭키파이 분석 결과...\n",
      "서울와이어 : 이것이 진정한 인기! '나스닥', 성별·연령별 관심도 랭키파이 분석으로 드러...\n",
      "소셜밸류 : [속보]미국 뉴욕증시, 예상 밖 인플레+금리 급등에 나스닥-S&P-다우 1% 안팎 ...\n",
      "한국경제언론사 선정 : 물 건너간 美 6월 피벗…금리동결 전망 81%\n",
      "이슈앤비즈 : 나이키 주가·테슬라 주가·나스닥 주가, 4월 2주차 랭키파이 S&P500 기업 트...\n",
      "라온신문 : 1위 넷플릭스·2위 스타벅스·3위 코스트코, 3월 1주차 나스닥100 주식 트렌드...\n",
      "뉴스1 : 나스닥 1% 하락…6월 금리인하 확률 53% 대폭 후퇴[뉴욕마감]\n",
      "아시아타임즈 : [증권소식] 금융위, '나스닥 상장' 미끼 300억 유용 일당 검찰 고발/외인 투자...\n",
      "403\n"
     ]
    }
   ],
   "source": [
    "for page in range(10) :\n",
    "    url = \"https://search.naver.com/search.naver?ssc=tab.news.all&where=news&sm=tab_jum&query=나스닥\" + str(page*10+1)\n",
    "\n",
    "    response = requests.get(url)\n",
    "\n",
    "    if response.status_code == 200 :\n",
    "        html = response.text\n",
    "        soup = BeautifulSoup(html, 'lxml')\n",
    "        articles = soup.select('div.news_area')\n",
    "\n",
    "        for article in articles :\n",
    "            title = article.select_one('a.news_tit').text\n",
    "            journal = article.select_one('a.info').text\n",
    "            print(journal + \" : \" + title)\n",
    "        \n",
    "    else :\n",
    "        print(response.status_code)"
   ]
  },
  {
   "cell_type": "code",
   "execution_count": 67,
   "id": "6de2541a-a82d-4b3b-8c0f-bebc784ec838",
   "metadata": {},
   "outputs": [],
   "source": [
    "for page in range(1, 11) :\n",
    "    url = \"https://search.daum.net/search?w=news&nil_search=btn&DA=PGD&enc=utf8&cluster=y&cluster_page=1&q=나스닥&p=\" +str(page+1)\n",
    "\n",
    "    response = requests.get(url)\n",
    "\n",
    "    if response.status_code == 200 :\n",
    "        html = response.text\n",
    "        soup = BeautifulSoup(html, 'lxml')\n",
    "        articles = soup.select('ul.c-list-basic')\n",
    "\n",
    "        for article in articles :\n",
    "            title = article.select_one('div.item-title').text\n",
    "            journal = article.select_one('span.txt_info').text\n",
    "            print(journal + \" : \" + title)\n",
    "        \n",
    "    else :\n",
    "        print(response.status_code)"
   ]
  },
  {
   "cell_type": "code",
   "execution_count": 72,
   "id": "6297781c-b8d2-43d2-8b7c-d8e71ca21731",
   "metadata": {},
   "outputs": [
    {
     "name": "stdout",
     "output_type": "stream",
     "text": [
      "[]\n",
      "[]\n",
      "[]\n",
      "[]\n",
      "[]\n",
      "[]\n",
      "[]\n",
      "[]\n",
      "[]\n",
      "[]\n"
     ]
    }
   ],
   "source": [
    "for page in range(10) :\n",
    "    req = requests.get(\"https://search.daum.net/search?w=news&nil_search=btn&DA=PGD&enc=utf8&cluster=y&cluster_page=1&q=나스닥&p=\" \n",
    "                       + str(page+1)).text\n",
    "    html = BeautifulSoup(req, 'lxml')\n",
    "    \n",
    "    articles = html.select('ul.c-list-basic > li')\n",
    "    \n",
    "    print(articles)\n",
    "    for article in articles :\n",
    "        journal = article.select_one('div.c-tit-doc span.txt_info').text\n",
    "        title = article.select_one('div.item-title a').text\n",
    "        \n",
    "        print(journal + \" : \" + title)"
   ]
  },
  {
   "cell_type": "code",
   "execution_count": 9,
   "id": "ec06d769-c719-4926-b939-bc4e36b79836",
   "metadata": {},
   "outputs": [
    {
     "name": "stdout",
     "output_type": "stream",
     "text": [
      "종목코드 : 900340, 상장회사 : 윙입푸드, 주가 : 2,475\n"
     ]
    }
   ],
   "source": [
    "code = \"900340\"\n",
    "\n",
    "url = \"https://finance.naver.com/item/main.naver?code=\" + code\n",
    "response = requests.get(url)\n",
    "\n",
    "if response.status_code == 200 :\n",
    "    html = response.text\n",
    "    soup = BeautifulSoup(html, 'lxml')\n",
    "    \n",
    "    name = soup.select_one('div.h_company a').text\n",
    "    ul = soup.select_one('p.no_today')\n",
    "    price = ul.select_one('span.blind').text\n",
    "   \n",
    "    print(\"종목코드 : \" + code + \", 상장회사 : \" + name + \", 주가 : \" + price)\n",
    "    \n",
    "else :\n",
    "    print(response.status_code)"
   ]
  },
  {
   "cell_type": "code",
   "execution_count": 3,
   "id": "d7f60a87-b0f8-47d4-8cc9-d36345c2b979",
   "metadata": {},
   "outputs": [
    {
     "ename": "NameError",
     "evalue": "name 'requests' is not defined",
     "output_type": "error",
     "traceback": [
      "\u001b[0;31m---------------------------------------------------------------------------\u001b[0m",
      "\u001b[0;31mNameError\u001b[0m                                 Traceback (most recent call last)",
      "Cell \u001b[0;32mIn[3], line 10\u001b[0m\n\u001b[1;32m      8\u001b[0m \u001b[38;5;28;01mfor\u001b[39;00m code \u001b[38;5;129;01min\u001b[39;00m codes:\n\u001b[1;32m      9\u001b[0m     url \u001b[38;5;241m=\u001b[39m \u001b[38;5;124m\"\u001b[39m\u001b[38;5;124mhttps://finance.naver.com/item/main.naver?code=\u001b[39m\u001b[38;5;124m\"\u001b[39m \u001b[38;5;241m+\u001b[39m code\n\u001b[0;32m---> 10\u001b[0m     response \u001b[38;5;241m=\u001b[39m requests\u001b[38;5;241m.\u001b[39mget(url)\n\u001b[1;32m     12\u001b[0m     \u001b[38;5;28;01mif\u001b[39;00m response\u001b[38;5;241m.\u001b[39mstatus_code \u001b[38;5;241m==\u001b[39m \u001b[38;5;241m200\u001b[39m:\n\u001b[1;32m     13\u001b[0m         html \u001b[38;5;241m=\u001b[39m response\u001b[38;5;241m.\u001b[39mtext\n",
      "\u001b[0;31mNameError\u001b[0m: name 'requests' is not defined"
     ]
    }
   ],
   "source": [
    "# 회사 3개 DataFrame 형식으로 만들기, 종목코드 상장회사 주가\n",
    "import pandas as pd\n",
    "\n",
    "codes = [\"900340\", \"215100\", \"012800\"]\n",
    "\n",
    "data = []\n",
    "\n",
    "for code in codes:\n",
    "    url = \"https://finance.naver.com/item/main.naver?code=\" + code\n",
    "    response = requests.get(url)\n",
    "\n",
    "    if response.status_code == 200:\n",
    "        html = response.text\n",
    "        soup = BeautifulSoup(html, 'lxml')\n",
    "        \n",
    "        name = soup.select_one('div.h_company a').text\n",
    "        ul = soup.select_one('p.no_today')\n",
    "        price = ul.select_one('span.blind').text\n",
    "        \n",
    "        data.append({\n",
    "            \"종목코드\": code,\n",
    "            \"상장회사\": name,\n",
    "            \"주가\": price\n",
    "        })\n",
    "    else:\n",
    "        print(response.status_code)\n",
    "\n",
    "df = pd.DataFrame(data)\n",
    "print(df)"
   ]
  },
  {
   "cell_type": "code",
   "execution_count": 22,
   "id": "8e63585b-fe53-428e-9f81-1eb2ad552fbc",
   "metadata": {},
   "outputs": [
    {
     "name": "stdout",
     "output_type": "stream",
     "text": [
      "1 : 9.9 ~ 15.1\n",
      "2 : 8.7 ~ 16.5\n",
      "3 : 9.5 ~ 17.7\n",
      "4 : 12 ~ 17\n",
      "5 : 12 ~ 17\n",
      "6 : 21.8 ~ 26.8\n",
      "7 : 24.3 ~ 31.5\n",
      "8 : 17 ~ 30\n",
      "9 : 18 ~ 29\n",
      "10 : 23 ~ 31\n"
     ]
    }
   ],
   "source": [
    "url = \"https://www.weather.go.kr/w/weather/forecast/short-term.do\"\n",
    "\n",
    "html = requests.get(url).text\n",
    "soup = BeautifulSoup(html, 'lxml')\n",
    "\n",
    "ul = soup.find_all('th')\n",
    "table_head = [element.get_text() for element in ul]\n",
    "\n",
    "ul = soup.find_all('td')\n",
    "table_body = [element.get_text() for element in ul]\n",
    "\n",
    "for i in range(10) :\n",
    "    print(\"{} : {}\".format(i+1, table_body[i]))\n",
    "\n",
    "table\n",
    "table_body = table_body[:10]"
   ]
  },
  {
   "cell_type": "code",
   "execution_count": 24,
   "id": "d85367b8-5635-4bd1-b4bf-8956dc3266d1",
   "metadata": {},
   "outputs": [
    {
     "name": "stdout",
     "output_type": "stream",
     "text": [
      "['예보요소', '평년(오늘)', '어제(19일)', '오늘(20일)', '내일(21일)', '모레(22일)', '최저기온 (℃)', '최고기온 (℃)', '파고(m)']\n",
      "['9.9 ~ 15.1', '8.7 ~ 16.5', '9.5 ~ 17.7', '12 ~ 17', '12 ~ 17', '21.8 ~ 26.8', '24.3 ~ 31.5', '17 ~ 30', '18 ~ 29', '23 ~ 31']\n",
      "['평년(오늘)', '어제(19일)', '오늘(20일)', '내일(21일)', '모레(22일)']\n",
      "['최저기온 (℃)', '최고기온 (℃)']\n"
     ]
    }
   ],
   "source": [
    "print(table_head)\n",
    "print(table_body[:10])\n",
    "\n",
    "col = table_head[1:6]\n",
    "print(col)\n",
    "\n",
    "row = table_head[6:8]\n",
    "print(row)"
   ]
  },
  {
   "cell_type": "code",
   "execution_count": 30,
   "id": "ccbd147c-40eb-4645-b237-413f53bc93cb",
   "metadata": {},
   "outputs": [
    {
     "data": {
      "text/html": [
       "<div>\n",
       "<style scoped>\n",
       "    .dataframe tbody tr th:only-of-type {\n",
       "        vertical-align: middle;\n",
       "    }\n",
       "\n",
       "    .dataframe tbody tr th {\n",
       "        vertical-align: top;\n",
       "    }\n",
       "\n",
       "    .dataframe thead th {\n",
       "        text-align: right;\n",
       "    }\n",
       "</style>\n",
       "<table border=\"1\" class=\"dataframe\">\n",
       "  <thead>\n",
       "    <tr style=\"text-align: right;\">\n",
       "      <th></th>\n",
       "      <th>평년(오늘)</th>\n",
       "      <th>어제(19일)</th>\n",
       "      <th>오늘(20일)</th>\n",
       "      <th>내일(21일)</th>\n",
       "      <th>모레(22일)</th>\n",
       "    </tr>\n",
       "  </thead>\n",
       "  <tbody>\n",
       "    <tr>\n",
       "      <th>최저기온 (℃)</th>\n",
       "      <td>9.9 ~ 15.1</td>\n",
       "      <td>8.7 ~ 16.5</td>\n",
       "      <td>9.5 ~ 17.7</td>\n",
       "      <td>12 ~ 17</td>\n",
       "      <td>12 ~ 17</td>\n",
       "    </tr>\n",
       "    <tr>\n",
       "      <th>최고기온 (℃)</th>\n",
       "      <td>21.8 ~ 26.8</td>\n",
       "      <td>24.3 ~ 31.5</td>\n",
       "      <td>17 ~ 30</td>\n",
       "      <td>18 ~ 29</td>\n",
       "      <td>23 ~ 31</td>\n",
       "    </tr>\n",
       "  </tbody>\n",
       "</table>\n",
       "</div>"
      ],
      "text/plain": [
       "               평년(오늘)      어제(19일)     오늘(20일)  내일(21일)  모레(22일)\n",
       "최저기온 (℃)   9.9 ~ 15.1   8.7 ~ 16.5  9.5 ~ 17.7  12 ~ 17  12 ~ 17\n",
       "최고기온 (℃)  21.8 ~ 26.8  24.3 ~ 31.5     17 ~ 30  18 ~ 29  23 ~ 31"
      ]
     },
     "execution_count": 30,
     "metadata": {},
     "output_type": "execute_result"
    }
   ],
   "source": [
    "data = {row[0]: table_body[:5], row[1]:table_body[5:]}\n",
    "\n",
    "df = pd.DataFrame(data)\n",
    "df = df.T\n",
    "df.columns = col\n",
    "df"
   ]
  },
  {
   "cell_type": "code",
   "execution_count": 32,
   "id": "bd4ef2c7-bc53-4311-b7ff-a01eb9c907a3",
   "metadata": {},
   "outputs": [
    {
     "data": {
      "text/plain": [
       "<Response [200]>"
      ]
     },
     "execution_count": 32,
     "metadata": {},
     "output_type": "execute_result"
    }
   ],
   "source": [
    "# 이미지 다운로드\n",
    "url = \"https://www.python.org/static/img/python-logo.png\"\n",
    "img = requests.get(url)\n",
    "img # 작업이 가능한지 알려주는 코드"
   ]
  },
  {
   "cell_type": "code",
   "execution_count": 33,
   "id": "a1bbfa89-f24b-4046-97f4-625c374c13fc",
   "metadata": {},
   "outputs": [
    {
     "data": {
      "text/plain": [
       "'python-logo.png'"
      ]
     },
     "execution_count": 33,
     "metadata": {},
     "output_type": "execute_result"
    }
   ],
   "source": [
    "import os\n",
    "\n",
    "img_name = os.path.basename(url)\n",
    "img_name"
   ]
  },
  {
   "cell_type": "code",
   "execution_count": 34,
   "id": "2fe403c9-5b0c-4436-a14b-7796f2218fee",
   "metadata": {},
   "outputs": [],
   "source": [
    "folder = '/Users/jeon-yewon/Desktop/부트캠프/4주차/05.20.'\n",
    "\n",
    "if not os.path.exists(folder) :\n",
    "    os.makedirs(floder)"
   ]
  },
  {
   "cell_type": "code",
   "execution_count": null,
   "id": "7cf45e2c-583d-4eff-bc08-bc3b1f72eaef",
   "metadata": {},
   "outputs": [],
   "source": [
    "image_path = os.path.join(folder, img_name)\n",
    "image_path"
   ]
  },
  {
   "cell_type": "code",
   "execution_count": 36,
   "id": "652c375f-18c0-4334-82ce-1298f807e2e2",
   "metadata": {},
   "outputs": [],
   "source": [
    "imageFile = open(image_path, 'wb')"
   ]
  },
  {
   "cell_type": "code",
   "execution_count": 39,
   "id": "19613b31-5f08-4054-9fce-9d20c3537fbd",
   "metadata": {},
   "outputs": [],
   "source": [
    "chunk_size = 1000000\n",
    "for chunk in img.iter_content(chunk_size) :\n",
    "    imageFile.write(chunk)\n",
    "\n",
    "imageFile.close()"
   ]
  },
  {
   "cell_type": "code",
   "execution_count": 58,
   "id": "a7dfcab7-c601-4cdd-b37c-d02bbc9b8339",
   "metadata": {},
   "outputs": [
    {
     "data": {
      "text/plain": [
       "('./dog.jpg', <http.client.HTTPMessage at 0x167647a50>)"
      ]
     },
     "execution_count": 58,
     "metadata": {},
     "output_type": "execute_result"
    }
   ],
   "source": [
    "# 강아지 사진 파일 저장하기\n",
    "import urllib.request\n",
    "\n",
    "url = \"https://encrypted-tbn3.gstatic.com/images?q=tbn:ANd9GcQgByBT5IiAT_a2x9pUVb4VMoOrlzHH7Jrzj-HB5jzHlR4lNLMS\"\n",
    "filename = \"./dog.jpg\"\n",
    "\n",
    "urllib.request.urlretrieve(url, filename)"
   ]
  },
  {
   "cell_type": "markdown",
   "id": "cb77941b-feb7-4a8d-af7b-391e6edc3d86",
   "metadata": {},
   "source": [
    "urlretrieve : urllib.request.urlretrieve(url 라이브러리에서 제공되는 함수)\n",
    "URL에서 파일을 직접 다운로드(간단한 다운로드)\n",
    "\n",
    "url : 다운로드 할 파일의 url\n",
    "filename : 파일을 저장할 경로\n",
    "\n",
    "return 값 : (filename, header) 파일의 이름과 HTTP 헤더 정보를 튜플로 반환"
   ]
  },
  {
   "cell_type": "code",
   "execution_count": 63,
   "id": "e2bc7e42-8ffe-475b-8f77-06e7e91bc901",
   "metadata": {},
   "outputs": [],
   "source": [
    "import shutil\n",
    "\n",
    "filename = \"./dog2.jpg\" # ./ : '현재 파일과 같은 위치'를 의미한다.\n",
    "\n",
    "with urllib.request.urlopen(url) as response, open(filename, 'wb') as out_file :\n",
    "    shutil.copyfileobj(response, out_file)"
   ]
  },
  {
   "cell_type": "markdown",
   "id": "3f6cb9a8-f2f2-44f7-9d68-1d40ddda6790",
   "metadata": {},
   "source": [
    "shutil : 파일, 디렉토리의 높은 수준의 작업을 수행한다.(복사, 이동, 삭제, 압축 등)"
   ]
  },
  {
   "cell_type": "code",
   "execution_count": 72,
   "id": "e7b03f89-baf7-40ec-b3e3-b85ac4e31b71",
   "metadata": {},
   "outputs": [],
   "source": [
    "# 여러개 다운로드\n",
    "import urllib.request\n",
    "import shutil\n",
    "\n",
    "url = \"https://search.pstatic.net/common?type=f&size=206x206&quality=95&direct=true&src=http%3A%2F%2Fshop1.phinf.naver.net%2F20210418_136%2F1618674583729CsTje_JPEG%2F54810200578891611_-1854514124.jpg\"\n",
    "filename = \"./dog.jpg\"\n",
    "urllib.request.urlretrieve(url, filename)\n",
    "\n",
    "images = [\n",
    "    (\"https://search.pstatic.net/common?type=f&size=206x206&quality=95&direct=true&src=http%3A%2F%2Fshop1.phinf.naver.net%2F20210420_119%2F1618917792831Sb33v_JPEG%2F55053401463382237_1240304716.jpeg\", \"./dog2.jpg\"),\n",
    "    (\"https://search.pstatic.net/common?type=f&size=206x206&quality=95&direct=true&src=http%3A%2F%2Fshop1.phinf.naver.net%2F20200724_215%2F1595581349044jAHJA_JPEG%2F31716943718608376_1431937637.jpeg\", \"./dog3.jpg\"),\n",
    "    (\"https://search.pstatic.net/common?type=f&size=206x206&quality=95&direct=true&src=http%3A%2F%2Fshop1.phinf.naver.net%2F20210522_279%2F1621673915289mxlar_JPEG%2F57809532425488875_-1425368071.jpg\", \"./dog4.jpg\")\n",
    "]\n",
    "\n",
    "for url, filename in images:\n",
    "    with urllib.request.urlopen(url) as response, open(filename, 'wb') as out_file:\n",
    "        shutil.copyfileobj(response, out_file)"
   ]
  },
  {
   "cell_type": "code",
   "execution_count": 75,
   "id": "90ce99db-6ec2-4980-ba40-791ce871b49e",
   "metadata": {},
   "outputs": [
    {
     "data": {
      "text/plain": [
       "[<img alt=\"이미지\" class=\"\" height=\"103\" onerror=\"this.onerror=null;this.src='data:image/gif;base64,R0lGODlhAQABAIAAAAAAAP///yH5BAEAAAAALAAAAAABAAEAAAIBRAA7';this.alt='이미지없음';this.className='bg_nimg2 type_103_103';\" src=\"https://search.pstatic.net/common?type=f&amp;size=206x206&amp;quality=95&amp;direct=true&amp;src=http%3A%2F%2Fshop1.phinf.naver.net%2F20210418_136%2F1618674583729CsTje_JPEG%2F54810200578891611_-1854514124.jpg\" width=\"103\"/>,\n",
       " <img alt=\"이미지\" class=\"\" height=\"103\" onerror=\"this.onerror=null;this.src='data:image/gif;base64,R0lGODlhAQABAIAAAAAAAP///yH5BAEAAAAALAAAAAABAAEAAAIBRAA7';this.alt='이미지없음';this.className='bg_nimg2 type_103_103';\" src=\"https://search.pstatic.net/common?type=f&amp;size=206x206&amp;quality=95&amp;direct=true&amp;src=http%3A%2F%2Fshop1.phinf.naver.net%2F20210420_119%2F1618917792831Sb33v_JPEG%2F55053401463382237_1240304716.jpeg\" width=\"103\"/>,\n",
       " <img alt=\"이미지\" class=\"\" height=\"103\" onerror=\"this.onerror=null;this.src='data:image/gif;base64,R0lGODlhAQABAIAAAAAAAP///yH5BAEAAAAALAAAAAABAAEAAAIBRAA7';this.alt='이미지없음';this.className='bg_nimg2 type_103_103';\" src=\"https://search.pstatic.net/common?type=f&amp;size=206x206&amp;quality=95&amp;direct=true&amp;src=http%3A%2F%2Fshop1.phinf.naver.net%2F20200724_215%2F1595581349044jAHJA_JPEG%2F31716943718608376_1431937637.jpeg\" width=\"103\"/>]"
      ]
     },
     "execution_count": 75,
     "metadata": {},
     "output_type": "execute_result"
    }
   ],
   "source": [
    "url = \"https://search.naver.com/search.naver?where=nexearch&sm=top_hty&fbm=0&ie=utf8&query=강아지\"\n",
    "\n",
    "html = requests.get(url).text\n",
    "soup = BeautifulSoup(html, 'lxml')\n",
    "img_elements = soup.select('div.list_image_info img')\n",
    "\n",
    "img_elements[:3]"
   ]
  },
  {
   "cell_type": "code",
   "execution_count": 76,
   "id": "ac3a4957-c5d2-4191-a252-6b5c0f914b05",
   "metadata": {},
   "outputs": [
    {
     "data": {
      "text/plain": [
       "'https://search.pstatic.net/common?type=f&size=206x206&quality=95&direct=true&src=http%3A%2F%2Fshop1.phinf.naver.net%2F20210418_136%2F1618674583729CsTje_JPEG%2F54810200578891611_-1854514124.jpg'"
      ]
     },
     "execution_count": 76,
     "metadata": {},
     "output_type": "execute_result"
    }
   ],
   "source": [
    "img_url = img_elements[0].get('src')\n",
    "img_url"
   ]
  },
  {
   "cell_type": "code",
   "execution_count": 80,
   "id": "ce34f55f-0179-446c-ad33-c4dec870c41f",
   "metadata": {},
   "outputs": [],
   "source": [
    "html_img = requests.get(img_url)\n",
    "folder = '/Users/jeon-yewon/Desktop/부트캠프/4주차/05.20.'\n",
    "\n",
    "imageFile = open(os.path.join(folder, os.path.basename(img_url)), 'wb')\n",
    "\n",
    "for chunk in html_img.iter_content(chunk_size) :\n",
    "    imageFile.write(chunk)\n",
    "\n",
    "imageFile.close()"
   ]
  },
  {
   "cell_type": "code",
   "execution_count": 89,
   "id": "883c4b70-f97d-4433-a22b-9297383a6ead",
   "metadata": {},
   "outputs": [],
   "source": [
    "def get_image_url(url):\n",
    "    html = requests.get(url).text\n",
    "    soup = BeautifulSoup(html, 'lxml')\n",
    "\n",
    "    elements = soup.select('div.list_image_info img')\n",
    "    if elements != None :\n",
    "        image_url = []\n",
    "        for element in elements :\n",
    "            image_url.append(element.get('src'))\n",
    "        return image_url\n",
    "    else :\n",
    "        return None"
   ]
  },
  {
   "cell_type": "code",
   "execution_count": 1,
   "id": "bebeedaf-011e-4f3f-a0a9-a7c284c372d6",
   "metadata": {},
   "outputs": [],
   "source": [
    "def download_image(img_folder, img_url):\n",
    "    if img_url != None : \n",
    "        html = requests.get(img_url)\n",
    "\n",
    "        imageFile = open(os.path.join(img_folder, os.path.basename(img_url)), 'wb')\n",
    "\n",
    "        chunk_size = 1000000\n",
    "        for chunk in html_img.iter_content(chunk_size) :\n",
    "            imageFile.write(chunk)\n",
    "        imageFile.close()\n",
    "        print(\"이미지 파일명 : {} - 다운로드 완료 !\".format(os.path.basename(img_url)))\n",
    "\n",
    "    else :\n",
    "        print(\"다운로드할 이미지가 없습니다.\")"
   ]
  },
  {
   "cell_type": "code",
   "execution_count": 99,
   "id": "f0d61f1f-28e7-407c-859f-ede1e5c3c8cb",
   "metadata": {},
   "outputs": [
    {
     "name": "stdout",
     "output_type": "stream",
     "text": [
      "이미지 파일명 : common?type=f&size=206x206&quality=95&direct=true&src=http%3A%2F%2Fshop1.phinf.naver.net%2F20210418_136%2F1618674583729CsTje_JPEG%2F54810200578891611_-1854514124.jpg - 다운로드 완료 !\n",
      "이미지 파일명 : common?type=f&size=206x206&quality=95&direct=true&src=http%3A%2F%2Fshop1.phinf.naver.net%2F20210420_119%2F1618917792831Sb33v_JPEG%2F55053401463382237_1240304716.jpeg - 다운로드 완료 !\n",
      "이미지 파일명 : common?type=f&size=206x206&quality=95&direct=true&src=http%3A%2F%2Fshop1.phinf.naver.net%2F20200724_215%2F1595581349044jAHJA_JPEG%2F31716943718608376_1431937637.jpeg - 다운로드 완료 !\n",
      "이미지 파일명 : common?type=f&size=206x206&quality=95&direct=true&src=http%3A%2F%2Fshop1.phinf.naver.net%2F20210522_279%2F1621673915289mxlar_JPEG%2F57809532425488875_-1425368071.jpg - 다운로드 완료 !\n",
      "이미지 파일명 : common?type=f&size=206x206&quality=95&direct=true&src=http%3A%2F%2Fshop1.phinf.naver.net%2F20200806_20%2F1596683152967IlYFi_JPEG%2F32818768910658433_478020071.jpeg - 다운로드 완료 !\n",
      "이미지 파일명 : common?type=f&size=206x206&quality=95&direct=true&src=http%3A%2F%2Fshop1.phinf.naver.net%2F20200227_44%2F1582738668362EXIC5_JPEG%2F18874264903569946_-2003564913.jpeg - 다운로드 완료 !\n",
      "이미지 파일명 : common?type=f&size=206x206&quality=95&direct=true&src=http%3A%2F%2Fshop1.phinf.naver.net%2F20200714_207%2F1594660012036OKike_JPEG%2F30795629492135175_-293141698.jpeg - 다운로드 완료 !\n",
      "이미지 파일명 : common?type=f&size=206x206&quality=95&direct=true&src=http%3A%2F%2Fshop1.phinf.naver.net%2F20200421_4%2F1587435439807hMECu_JPEG%2F23571047726328410_-650537178.jpg - 다운로드 완료 !\n",
      "이미지 파일명 : common?type=f&size=206x206&quality=95&direct=true&src=http%3A%2F%2Fshop1.phinf.naver.net%2F20200510_138%2F1589067206321bHnYc_JPEG%2F25202823661764581_837882248.jpeg - 다운로드 완료 !\n",
      "이미지 파일명 : common?type=f&size=206x206&quality=95&direct=true&src=http%3A%2F%2Fshop1.phinf.naver.net%2F20210627_181%2F1624804325822uaBkt_JPEG%2F745121616266620831.jpg - 다운로드 완료 !\n",
      "모든 이미지 다운로드 완료\n"
     ]
    }
   ],
   "source": [
    "url = \"https://search.naver.com/search.naver?where=nexearch&sm=top_hty&fbm=0&ie=utf8&query=%EA%B0%95%EC%95%84%EC%A7%80\"\n",
    "\n",
    "folder = '/Users/jeon-yewon/Desktop/부트캠프/4주차/05.20.'\n",
    "image_url = get_image_url(url)\n",
    "\n",
    "num_of_download = 10\n",
    "\n",
    "for i in range(num_of_download) :\n",
    "    download_image(folder, image_url[i])\n",
    "\n",
    "print('모든 이미지 다운로드 완료')"
   ]
  },
  {
   "cell_type": "code",
   "execution_count": 100,
   "id": "6938101f-c627-4acc-978d-c9cb2c99951d",
   "metadata": {},
   "outputs": [],
   "source": [
    "# 놓친 부분\n",
    "# def sanitize_filename(filename):\n",
    "#     return \"\".join(c if c.isalnum() or c 어쩌구\n"
   ]
  },
  {
   "cell_type": "code",
   "execution_count": null,
   "id": "cc0a05dc-71d7-4409-b653-aeeddbeac24b",
   "metadata": {},
   "outputs": [],
   "source": [
    "# 과제 \n",
    "# 위에 만든 코드, 이미지명을 각각 강아지 이름으로 바꿔주기"
   ]
  }
 ],
 "metadata": {
  "kernelspec": {
   "display_name": "Python 3 (ipykernel)",
   "language": "python",
   "name": "python3"
  },
  "language_info": {
   "codemirror_mode": {
    "name": "ipython",
    "version": 3
   },
   "file_extension": ".py",
   "mimetype": "text/x-python",
   "name": "python",
   "nbconvert_exporter": "python",
   "pygments_lexer": "ipython3",
   "version": "3.11.8"
  }
 },
 "nbformat": 4,
 "nbformat_minor": 5
}
