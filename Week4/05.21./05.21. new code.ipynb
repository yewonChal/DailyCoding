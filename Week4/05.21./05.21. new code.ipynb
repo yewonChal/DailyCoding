{
 "cells": [
  {
   "cell_type": "code",
   "execution_count": 2,
   "id": "14e0ad02-89a4-4f68-9c1b-5a41a92f14bb",
   "metadata": {},
   "outputs": [],
   "source": [
    "import requests\n",
    "from bs4 import BeautifulSoup\n",
    "import os\n",
    "import pandas as pd\n",
    "import numpy as np"
   ]
  },
  {
   "cell_type": "code",
   "execution_count": 3,
   "id": "c9455560-96b5-46d1-bac1-72fe9f4faa50",
   "metadata": {},
   "outputs": [
    {
     "name": "stdout",
     "output_type": "stream",
     "text": [
      "<div class=\"i_container__Okz5K\"><div class=\"i_content__F7t5u\" id=\"content\"><h2 class=\"blind\">TOP100</h2><ol class=\"i_grid_top100_list__pV4sf\"></ol></div></div>\n",
      "[<ol class=\"i_grid_top100_list__pV4sf\"></ol>]\n"
     ]
    }
   ],
   "source": [
    "from bs4 import BeautifulSoup\n",
    "import requests\n",
    "\n",
    "url = \"https://tv.naver.com/r\"\n",
    "\n",
    "response = requests.get(url)\n",
    "html = response.text\n",
    "soup = BeautifulSoup(html, 'lxml')\n",
    "ul = soup.select_one('div.i_container__Okz5K')\n",
    "print(ul)\n",
    "title = ul.select('ol.i_grid_top100_list__pV4sf')\n",
    "print(title)"
   ]
  },
  {
   "cell_type": "code",
   "execution_count": 4,
   "id": "df064acd-47d1-4c32-a7f4-8791e3cc9564",
   "metadata": {},
   "outputs": [],
   "source": [
    "from selenium.webdriver.chrome.service import Service\n",
    "from webdriver_manager.chrome import ChromeDriverManager\n",
    "\n",
    "def set_chrome_driver():\n",
    "    chrome_options = webdriver.ChromeOptions()\n",
    "    driver = webdriver.Chrome(service=Service(ChromeDriverManager().install()), options=chrome_options)\n",
    "    return driver"
   ]
  },
  {
   "cell_type": "code",
   "execution_count": 5,
   "id": "98425cdf-8ebf-4213-81d5-a9b47519034e",
   "metadata": {},
   "outputs": [],
   "source": [
    "# 돔 접근, selenium\n",
    "from selenium import webdriver\n",
    "\n",
    "driver = webdriver.Chrome()\n",
    "driver.get('https://www.naver.com')"
   ]
  },
  {
   "cell_type": "code",
   "execution_count": 12,
   "id": "6149dc4f-1de0-456c-8463-1d71bb982f91",
   "metadata": {},
   "outputs": [],
   "source": [
    "import time\n",
    "from selenium import webdriver\n",
    "\n",
    "driver = webdriver.Chrome()\n",
    "driver.implicitly_wait(10) # 10초 대기\n",
    "\n",
    "driver.get('http://google.co.kr')\n",
    "\n",
    "time.sleep(5) # 5초 대기\n",
    "driver.quit() # 웹 브라우저 종료 driver.close() 탭 종료"
   ]
  },
  {
   "cell_type": "code",
   "execution_count": 14,
   "id": "5eda2504-70b8-4341-80e9-741ccaac519a",
   "metadata": {},
   "outputs": [
    {
     "name": "stdout",
     "output_type": "stream",
     "text": [
      "{'height': 500, 'width': 500, 'x': 100, 'y': 100}\n"
     ]
    }
   ],
   "source": [
    "driver = webdriver.Chrome()\n",
    "driver.implicitly_wait(10)\n",
    "\n",
    "# 창 크기 변화\n",
    "driver.fullscreen_window() # 전체화면\n",
    "time.sleep(1)\n",
    "driver.maximize_window() # 최대 창 크기\n",
    "time.sleep(1)\n",
    "driver.set_window_rect(100, 100, 500, 500) # 특정 좌표(x, y)와 크기(width, height)로 변경\n",
    "time.sleep(1)\n",
    "\n",
    "print(driver.get_window_rect())\n",
    "\n",
    "time.sleep(3)\n",
    "driver.set_window_position(0, 0)\n",
    "driver.quit()"
   ]
  },
  {
   "cell_type": "code",
   "execution_count": 15,
   "id": "a31a100e-b9b9-4105-b2df-66acce636b1f",
   "metadata": {},
   "outputs": [],
   "source": [
    "# 페이지 옮기기\n",
    "driver = webdriver.Chrome()\n",
    "driver.implicitly_wait(15)\n",
    "\n",
    "driver.get('https://www.google.co.kr')\n",
    "driver.get('https://www.naver.com')\n",
    "driver.get('https://www.daum.net')\n",
    "\n",
    "driver.back()\n",
    "time.sleep(1)\n",
    "driver.back()\n",
    "time.sleep(2)\n",
    "\n",
    "driver.forward()\n",
    "time.sleep(1)\n",
    "driver.forward()\n",
    "time.sleep(3)\n",
    "\n",
    "driver.quit()"
   ]
  },
  {
   "cell_type": "code",
   "execution_count": 6,
   "id": "06fd6d8b-8699-415d-9c11-bef4140d7147",
   "metadata": {},
   "outputs": [],
   "source": [
    "from selenium import webdriver\n",
    "from selenium.webdriver.common.by import By\n",
    "from selenium.webdriver.common.keys import Keys\n",
    "from selenium.webdriver.chrome.options import Options"
   ]
  },
  {
   "cell_type": "code",
   "execution_count": 17,
   "id": "6391d3a6-0264-49ce-969a-54a36ca345eb",
   "metadata": {},
   "outputs": [],
   "source": [
    "# 구글에서 'Python' 검색\n",
    "driver = webdriver.Chrome()\n",
    "driver.get('https://www.google.co.kr')\n",
    "\n",
    "search_box = driver.find_element(By.ID, 'APjFqb')\n",
    "# 구글에서 검색 Input 부분 ID를 통해 element 가져오기\n",
    "time.sleep(3)\n",
    "search_box.send_keys('Python') # Python 검색어 입력\n",
    "\n",
    "search_box.submit() # 검색 실행(엔터, 검색 클릭)\n",
    "\n",
    "time.sleep(3)\n",
    "driver.quit()"
   ]
  },
  {
   "cell_type": "code",
   "execution_count": 18,
   "id": "7f26371a-5129-41a6-af38-980a47b2d979",
   "metadata": {},
   "outputs": [],
   "source": [
    "# 네이버에서 한글로 '파이썬' 검색\n",
    "driver = webdriver.Chrome()\n",
    "driver.get('https://www.naver.com')\n",
    "\n",
    "search_box = driver.find_element(By.ID, 'query')\n",
    "# 구글에서 검색 Input 부분 ID를 통해 element 가져오기\n",
    "search_box.send_keys('파이썬') # 검색어 입력\n",
    "\n",
    "search_box.send_keys(Keys.ENTER) # 검색 실행(엔터, 검색 클릭)\n",
    "\n",
    "time.sleep(2)\n",
    "\n",
    "posts = driver.find_elements(By.CSS_SELECTOR, 'a.link_tit')\n",
    "posts[0].click()\n",
    "time.sleep(2)\n",
    "driver.quit()"
   ]
  },
  {
   "cell_type": "code",
   "execution_count": 41,
   "id": "7da25f06-332a-4d5c-8f25-bee9db042f5c",
   "metadata": {},
   "outputs": [
    {
     "name": "stdout",
     "output_type": "stream",
     "text": [
      "https://www.python.org/search/?q=started+python&submit=\n"
     ]
    }
   ],
   "source": [
    "# \"https://www.python.org\" -> \"started python\"\n",
    "driver = webdriver.Chrome()\n",
    "driver.get('https://www.python.org')\n",
    "\n",
    "search_box = driver.find_element(By.ID, 'id-search-field')\n",
    "search_box.send_keys('입력되고 지워질 문장') # 만약 자동으로 칸이 입력되어 있는 경우\n",
    "time.sleep(1)\n",
    "search_box.clear()\n",
    "time.sleep(1)\n",
    "search_box.send_keys('started python') # 검색어 입력\n",
    "time.sleep(1)\n",
    "\n",
    "search_box.send_keys(Keys.ENTER) # 검색 실행(엔터, 검색 클릭)\n",
    "\n",
    "print(driver.current_url)\n",
    "time.sleep(3)\n",
    "driver.quit()"
   ]
  },
  {
   "cell_type": "markdown",
   "id": "cb29ba66-1443-4dec-9aee-8c512f5ddb8f",
   "metadata": {},
   "source": [
    "- By 클래스는 특정 요소를 찾기 위한 다양한 기준을 정의할 수 있게 도와준다.\n",
    "- Selenium은 이 클래스의 속성을 사용해서 요소를 찾는다.\n",
    "- \n",
    "from selenium.webdriver.common.by import By"
   ]
  },
  {
   "cell_type": "code",
   "execution_count": 47,
   "id": "c1e1d518-a342-465c-bf0c-322dd8d99652",
   "metadata": {},
   "outputs": [
    {
     "ename": "WebDriverException",
     "evalue": "Message: unknown error: net::ERR_NAME_NOT_RESOLVED\n  (Session info: chrome=125.0.6422.60)\nStacktrace:\n0   chromedriver                        0x00000001050ea4a0 chromedriver + 4301984\n1   chromedriver                        0x00000001050e2de8 chromedriver + 4271592\n2   chromedriver                        0x0000000104d1419c chromedriver + 278940\n3   chromedriver                        0x0000000104d0d510 chromedriver + 251152\n4   chromedriver                        0x0000000104cff120 chromedriver + 192800\n5   chromedriver                        0x0000000104d00480 chromedriver + 197760\n6   chromedriver                        0x0000000104cff43c chromedriver + 193596\n7   chromedriver                        0x0000000104cfead0 chromedriver + 191184\n8   chromedriver                        0x0000000104cfea7c chromedriver + 191100\n9   chromedriver                        0x0000000104cfc85c chromedriver + 182364\n10  chromedriver                        0x0000000104cfd1dc chromedriver + 184796\n11  chromedriver                        0x0000000104d16730 chromedriver + 288560\n12  chromedriver                        0x0000000104d8f400 chromedriver + 783360\n13  chromedriver                        0x0000000104d8ec5c chromedriver + 781404\n14  chromedriver                        0x0000000104d4b004 chromedriver + 503812\n15  chromedriver                        0x0000000104d4b9ec chromedriver + 506348\n16  chromedriver                        0x00000001050b24e8 chromedriver + 4072680\n17  chromedriver                        0x00000001050b6f94 chromedriver + 4091796\n18  chromedriver                        0x000000010509972c chromedriver + 3970860\n19  chromedriver                        0x00000001050b787c chromedriver + 4094076\n20  chromedriver                        0x000000010508c6ac chromedriver + 3917484\n21  chromedriver                        0x00000001050d4ae0 chromedriver + 4213472\n22  chromedriver                        0x00000001050d4c5c chromedriver + 4213852\n23  chromedriver                        0x00000001050e29e0 chromedriver + 4270560\n24  libsystem_pthread.dylib             0x000000018d322034 _pthread_start + 136\n25  libsystem_pthread.dylib             0x000000018d31ce3c thread_start + 8\n",
     "output_type": "error",
     "traceback": [
      "\u001b[0;31m---------------------------------------------------------------------------\u001b[0m",
      "\u001b[0;31mWebDriverException\u001b[0m                        Traceback (most recent call last)",
      "Cell \u001b[0;32mIn[47], line 3\u001b[0m\n\u001b[1;32m      1\u001b[0m driver \u001b[38;5;241m=\u001b[39m webdriver\u001b[38;5;241m.\u001b[39mChrome()\n\u001b[0;32m----> 3\u001b[0m driver\u001b[38;5;241m.\u001b[39mget(\u001b[38;5;124m'\u001b[39m\u001b[38;5;124mhttps://www.example.com\u001b[39m\u001b[38;5;124m'\u001b[39m)\n\u001b[1;32m      5\u001b[0m \u001b[38;5;66;03m# ID로 요소 찾기\u001b[39;00m\n\u001b[1;32m      6\u001b[0m element_by_id \u001b[38;5;241m=\u001b[39m driver\u001b[38;5;241m.\u001b[39mfind_element(By\u001b[38;5;241m.\u001b[39mID, \u001b[38;5;124m'\u001b[39m\u001b[38;5;124melement_id\u001b[39m\u001b[38;5;124m'\u001b[39m)\n",
      "File \u001b[0;32m/opt/anaconda3/lib/python3.11/site-packages/selenium/webdriver/remote/webdriver.py:356\u001b[0m, in \u001b[0;36mWebDriver.get\u001b[0;34m(self, url)\u001b[0m\n\u001b[1;32m    354\u001b[0m \u001b[38;5;28;01mdef\u001b[39;00m \u001b[38;5;21mget\u001b[39m(\u001b[38;5;28mself\u001b[39m, url: \u001b[38;5;28mstr\u001b[39m) \u001b[38;5;241m-\u001b[39m\u001b[38;5;241m>\u001b[39m \u001b[38;5;28;01mNone\u001b[39;00m:\n\u001b[1;32m    355\u001b[0m \u001b[38;5;250m    \u001b[39m\u001b[38;5;124;03m\"\"\"Loads a web page in the current browser session.\"\"\"\u001b[39;00m\n\u001b[0;32m--> 356\u001b[0m     \u001b[38;5;28mself\u001b[39m\u001b[38;5;241m.\u001b[39mexecute(Command\u001b[38;5;241m.\u001b[39mGET, {\u001b[38;5;124m\"\u001b[39m\u001b[38;5;124murl\u001b[39m\u001b[38;5;124m\"\u001b[39m: url})\n",
      "File \u001b[0;32m/opt/anaconda3/lib/python3.11/site-packages/selenium/webdriver/remote/webdriver.py:347\u001b[0m, in \u001b[0;36mWebDriver.execute\u001b[0;34m(self, driver_command, params)\u001b[0m\n\u001b[1;32m    345\u001b[0m response \u001b[38;5;241m=\u001b[39m \u001b[38;5;28mself\u001b[39m\u001b[38;5;241m.\u001b[39mcommand_executor\u001b[38;5;241m.\u001b[39mexecute(driver_command, params)\n\u001b[1;32m    346\u001b[0m \u001b[38;5;28;01mif\u001b[39;00m response:\n\u001b[0;32m--> 347\u001b[0m     \u001b[38;5;28mself\u001b[39m\u001b[38;5;241m.\u001b[39merror_handler\u001b[38;5;241m.\u001b[39mcheck_response(response)\n\u001b[1;32m    348\u001b[0m     response[\u001b[38;5;124m\"\u001b[39m\u001b[38;5;124mvalue\u001b[39m\u001b[38;5;124m\"\u001b[39m] \u001b[38;5;241m=\u001b[39m \u001b[38;5;28mself\u001b[39m\u001b[38;5;241m.\u001b[39m_unwrap_value(response\u001b[38;5;241m.\u001b[39mget(\u001b[38;5;124m\"\u001b[39m\u001b[38;5;124mvalue\u001b[39m\u001b[38;5;124m\"\u001b[39m, \u001b[38;5;28;01mNone\u001b[39;00m))\n\u001b[1;32m    349\u001b[0m     \u001b[38;5;28;01mreturn\u001b[39;00m response\n",
      "File \u001b[0;32m/opt/anaconda3/lib/python3.11/site-packages/selenium/webdriver/remote/errorhandler.py:229\u001b[0m, in \u001b[0;36mErrorHandler.check_response\u001b[0;34m(self, response)\u001b[0m\n\u001b[1;32m    227\u001b[0m         alert_text \u001b[38;5;241m=\u001b[39m value[\u001b[38;5;124m\"\u001b[39m\u001b[38;5;124malert\u001b[39m\u001b[38;5;124m\"\u001b[39m]\u001b[38;5;241m.\u001b[39mget(\u001b[38;5;124m\"\u001b[39m\u001b[38;5;124mtext\u001b[39m\u001b[38;5;124m\"\u001b[39m)\n\u001b[1;32m    228\u001b[0m     \u001b[38;5;28;01mraise\u001b[39;00m exception_class(message, screen, stacktrace, alert_text)  \u001b[38;5;66;03m# type: ignore[call-arg]  # mypy is not smart enough here\u001b[39;00m\n\u001b[0;32m--> 229\u001b[0m \u001b[38;5;28;01mraise\u001b[39;00m exception_class(message, screen, stacktrace)\n",
      "\u001b[0;31mWebDriverException\u001b[0m: Message: unknown error: net::ERR_NAME_NOT_RESOLVED\n  (Session info: chrome=125.0.6422.60)\nStacktrace:\n0   chromedriver                        0x00000001050ea4a0 chromedriver + 4301984\n1   chromedriver                        0x00000001050e2de8 chromedriver + 4271592\n2   chromedriver                        0x0000000104d1419c chromedriver + 278940\n3   chromedriver                        0x0000000104d0d510 chromedriver + 251152\n4   chromedriver                        0x0000000104cff120 chromedriver + 192800\n5   chromedriver                        0x0000000104d00480 chromedriver + 197760\n6   chromedriver                        0x0000000104cff43c chromedriver + 193596\n7   chromedriver                        0x0000000104cfead0 chromedriver + 191184\n8   chromedriver                        0x0000000104cfea7c chromedriver + 191100\n9   chromedriver                        0x0000000104cfc85c chromedriver + 182364\n10  chromedriver                        0x0000000104cfd1dc chromedriver + 184796\n11  chromedriver                        0x0000000104d16730 chromedriver + 288560\n12  chromedriver                        0x0000000104d8f400 chromedriver + 783360\n13  chromedriver                        0x0000000104d8ec5c chromedriver + 781404\n14  chromedriver                        0x0000000104d4b004 chromedriver + 503812\n15  chromedriver                        0x0000000104d4b9ec chromedriver + 506348\n16  chromedriver                        0x00000001050b24e8 chromedriver + 4072680\n17  chromedriver                        0x00000001050b6f94 chromedriver + 4091796\n18  chromedriver                        0x000000010509972c chromedriver + 3970860\n19  chromedriver                        0x00000001050b787c chromedriver + 4094076\n20  chromedriver                        0x000000010508c6ac chromedriver + 3917484\n21  chromedriver                        0x00000001050d4ae0 chromedriver + 4213472\n22  chromedriver                        0x00000001050d4c5c chromedriver + 4213852\n23  chromedriver                        0x00000001050e29e0 chromedriver + 4270560\n24  libsystem_pthread.dylib             0x000000018d322034 _pthread_start + 136\n25  libsystem_pthread.dylib             0x000000018d31ce3c thread_start + 8\n"
     ]
    }
   ],
   "source": [
    "driver = webdriver.Chrome()\n",
    "\n",
    "driver.get('https://www.example.com')\n",
    "\n",
    "# ID로 요소 찾기\n",
    "element_by_id = driver.find_element(By.ID, 'element_id')\n",
    "print(element_by_id.text)\n",
    "\n",
    "# 클래스 이름으로 요소 찾기\n",
    "element_by_class_name = driver.find_element(By.CLASS_NAME, 'element_class')\n",
    "print(element_by_class_name.text)\n",
    "\n",
    "# 태그 이름으로 요소 찾기\n",
    "element_by_tag_name = driver.find_element(By.TAG_NAME, 'div')\n",
    "print(element_by_tag_name.text)\n",
    "\n",
    "# CSS 선택자로 요소 찾기\n",
    "element_by_css_selector = driver.find_element(By.CSS_SELECTOR, 'div.content > a')\n",
    "print(element_by_css_selector.text)\n",
    "\n",
    "# XPath로 요소 찾기, XPath 표현식\n",
    "element_by_xpath = driver.find_element(By.XPATH, '//div[@class=\"content\"]/a')\n",
    "print(element_by_xpath)\n",
    "\n",
    "# 링크 텍스트로 요소 찾기(전체 텍스트), 완전 일치하는 상황\n",
    "link_element = driver.find_element(By.LINK_TEXT, 'CLICK HERE!')\n",
    "print(link_element.text)\n",
    "link_element.click()\n",
    "\n",
    "# 부분 링크 텍스트로 요소 찾기\n",
    "partial_link_element = driver.find_element(By.PARTIAL_LINK_TEXT, 'CLICK')\n",
    "print(partial_link_element.text)\n",
    "partial_link_element.click()\n",
    "\n",
    "driver.quit()\n",
    "      "
   ]
  },
  {
   "cell_type": "code",
   "execution_count": null,
   "id": "d71c84f3-7f49-4da5-bbcf-938f4c44f7ef",
   "metadata": {},
   "outputs": [],
   "source": [
    "# 요소를 찾지 못할 경우 NoSuchElementException이 발생할 수 있다.\n",
    "from selenium.common.exceptions import NoSuchElementException\n",
    "\n",
    "try:\n",
    "    element = driver.find_element(By.ID, 'non_exist')\n",
    "    print(element)\n",
    "except NoSuchElementException:\n",
    "    print(\"Element not found\")"
   ]
  },
  {
   "cell_type": "code",
   "execution_count": 48,
   "id": "4c26875e-d345-4eb0-a4bf-f810acee0b51",
   "metadata": {},
   "outputs": [
    {
     "ename": "NoSuchWindowException",
     "evalue": "Message: no such window: target window already closed\nfrom unknown error: web view not found\n  (Session info: chrome=125.0.6422.60)\nStacktrace:\n0   chromedriver                        0x00000001050ea4a0 chromedriver + 4301984\n1   chromedriver                        0x00000001050e2de8 chromedriver + 4271592\n2   chromedriver                        0x0000000104d1419c chromedriver + 278940\n3   chromedriver                        0x0000000104cef474 chromedriver + 128116\n4   chromedriver                        0x0000000104d7b394 chromedriver + 701332\n5   chromedriver                        0x0000000104d8e4e4 chromedriver + 779492\n6   chromedriver                        0x0000000104d4b004 chromedriver + 503812\n7   chromedriver                        0x0000000104d4b9ec chromedriver + 506348\n8   chromedriver                        0x00000001050b24e8 chromedriver + 4072680\n9   chromedriver                        0x00000001050b6f94 chromedriver + 4091796\n10  chromedriver                        0x000000010509972c chromedriver + 3970860\n11  chromedriver                        0x00000001050b787c chromedriver + 4094076\n12  chromedriver                        0x000000010508c6ac chromedriver + 3917484\n13  chromedriver                        0x00000001050d4ae0 chromedriver + 4213472\n14  chromedriver                        0x00000001050d4c5c chromedriver + 4213852\n15  chromedriver                        0x00000001050e29e0 chromedriver + 4270560\n16  libsystem_pthread.dylib             0x000000018d322034 _pthread_start + 136\n17  libsystem_pthread.dylib             0x000000018d31ce3c thread_start + 8\n",
     "output_type": "error",
     "traceback": [
      "\u001b[0;31m---------------------------------------------------------------------------\u001b[0m",
      "\u001b[0;31mNoSuchWindowException\u001b[0m                     Traceback (most recent call last)",
      "Cell \u001b[0;32mIn[48], line 2\u001b[0m\n\u001b[1;32m      1\u001b[0m \u001b[38;5;66;03m# find_elements 메소드는 일치하는 모든 요소를 리스트로 반환한다.\u001b[39;00m\n\u001b[0;32m----> 2\u001b[0m elements \u001b[38;5;241m=\u001b[39m driver\u001b[38;5;241m.\u001b[39mfind_elements(By\u001b[38;5;241m.\u001b[39mCLASS_NAME, \u001b[38;5;124m'\u001b[39m\u001b[38;5;124mclass_name\u001b[39m\u001b[38;5;124m'\u001b[39m)\n\u001b[1;32m      3\u001b[0m \u001b[38;5;28;01mfor\u001b[39;00m element \u001b[38;5;129;01min\u001b[39;00m elements:\n\u001b[1;32m      4\u001b[0m     \u001b[38;5;28mprint\u001b[39m(element\u001b[38;5;241m.\u001b[39mtext)\n",
      "File \u001b[0;32m/opt/anaconda3/lib/python3.11/site-packages/selenium/webdriver/remote/webdriver.py:771\u001b[0m, in \u001b[0;36mWebDriver.find_elements\u001b[0;34m(self, by, value)\u001b[0m\n\u001b[1;32m    767\u001b[0m     value \u001b[38;5;241m=\u001b[39m \u001b[38;5;124mf\u001b[39m\u001b[38;5;124m'\u001b[39m\u001b[38;5;124m[name=\u001b[39m\u001b[38;5;124m\"\u001b[39m\u001b[38;5;132;01m{\u001b[39;00mvalue\u001b[38;5;132;01m}\u001b[39;00m\u001b[38;5;124m\"\u001b[39m\u001b[38;5;124m]\u001b[39m\u001b[38;5;124m'\u001b[39m\n\u001b[1;32m    769\u001b[0m \u001b[38;5;66;03m# Return empty list if driver returns null\u001b[39;00m\n\u001b[1;32m    770\u001b[0m \u001b[38;5;66;03m# See https://github.com/SeleniumHQ/selenium/issues/4555\u001b[39;00m\n\u001b[0;32m--> 771\u001b[0m \u001b[38;5;28;01mreturn\u001b[39;00m \u001b[38;5;28mself\u001b[39m\u001b[38;5;241m.\u001b[39mexecute(Command\u001b[38;5;241m.\u001b[39mFIND_ELEMENTS, {\u001b[38;5;124m\"\u001b[39m\u001b[38;5;124musing\u001b[39m\u001b[38;5;124m\"\u001b[39m: by, \u001b[38;5;124m\"\u001b[39m\u001b[38;5;124mvalue\u001b[39m\u001b[38;5;124m\"\u001b[39m: value})[\u001b[38;5;124m\"\u001b[39m\u001b[38;5;124mvalue\u001b[39m\u001b[38;5;124m\"\u001b[39m] \u001b[38;5;129;01mor\u001b[39;00m []\n",
      "File \u001b[0;32m/opt/anaconda3/lib/python3.11/site-packages/selenium/webdriver/remote/webdriver.py:347\u001b[0m, in \u001b[0;36mWebDriver.execute\u001b[0;34m(self, driver_command, params)\u001b[0m\n\u001b[1;32m    345\u001b[0m response \u001b[38;5;241m=\u001b[39m \u001b[38;5;28mself\u001b[39m\u001b[38;5;241m.\u001b[39mcommand_executor\u001b[38;5;241m.\u001b[39mexecute(driver_command, params)\n\u001b[1;32m    346\u001b[0m \u001b[38;5;28;01mif\u001b[39;00m response:\n\u001b[0;32m--> 347\u001b[0m     \u001b[38;5;28mself\u001b[39m\u001b[38;5;241m.\u001b[39merror_handler\u001b[38;5;241m.\u001b[39mcheck_response(response)\n\u001b[1;32m    348\u001b[0m     response[\u001b[38;5;124m\"\u001b[39m\u001b[38;5;124mvalue\u001b[39m\u001b[38;5;124m\"\u001b[39m] \u001b[38;5;241m=\u001b[39m \u001b[38;5;28mself\u001b[39m\u001b[38;5;241m.\u001b[39m_unwrap_value(response\u001b[38;5;241m.\u001b[39mget(\u001b[38;5;124m\"\u001b[39m\u001b[38;5;124mvalue\u001b[39m\u001b[38;5;124m\"\u001b[39m, \u001b[38;5;28;01mNone\u001b[39;00m))\n\u001b[1;32m    349\u001b[0m     \u001b[38;5;28;01mreturn\u001b[39;00m response\n",
      "File \u001b[0;32m/opt/anaconda3/lib/python3.11/site-packages/selenium/webdriver/remote/errorhandler.py:229\u001b[0m, in \u001b[0;36mErrorHandler.check_response\u001b[0;34m(self, response)\u001b[0m\n\u001b[1;32m    227\u001b[0m         alert_text \u001b[38;5;241m=\u001b[39m value[\u001b[38;5;124m\"\u001b[39m\u001b[38;5;124malert\u001b[39m\u001b[38;5;124m\"\u001b[39m]\u001b[38;5;241m.\u001b[39mget(\u001b[38;5;124m\"\u001b[39m\u001b[38;5;124mtext\u001b[39m\u001b[38;5;124m\"\u001b[39m)\n\u001b[1;32m    228\u001b[0m     \u001b[38;5;28;01mraise\u001b[39;00m exception_class(message, screen, stacktrace, alert_text)  \u001b[38;5;66;03m# type: ignore[call-arg]  # mypy is not smart enough here\u001b[39;00m\n\u001b[0;32m--> 229\u001b[0m \u001b[38;5;28;01mraise\u001b[39;00m exception_class(message, screen, stacktrace)\n",
      "\u001b[0;31mNoSuchWindowException\u001b[0m: Message: no such window: target window already closed\nfrom unknown error: web view not found\n  (Session info: chrome=125.0.6422.60)\nStacktrace:\n0   chromedriver                        0x00000001050ea4a0 chromedriver + 4301984\n1   chromedriver                        0x00000001050e2de8 chromedriver + 4271592\n2   chromedriver                        0x0000000104d1419c chromedriver + 278940\n3   chromedriver                        0x0000000104cef474 chromedriver + 128116\n4   chromedriver                        0x0000000104d7b394 chromedriver + 701332\n5   chromedriver                        0x0000000104d8e4e4 chromedriver + 779492\n6   chromedriver                        0x0000000104d4b004 chromedriver + 503812\n7   chromedriver                        0x0000000104d4b9ec chromedriver + 506348\n8   chromedriver                        0x00000001050b24e8 chromedriver + 4072680\n9   chromedriver                        0x00000001050b6f94 chromedriver + 4091796\n10  chromedriver                        0x000000010509972c chromedriver + 3970860\n11  chromedriver                        0x00000001050b787c chromedriver + 4094076\n12  chromedriver                        0x000000010508c6ac chromedriver + 3917484\n13  chromedriver                        0x00000001050d4ae0 chromedriver + 4213472\n14  chromedriver                        0x00000001050d4c5c chromedriver + 4213852\n15  chromedriver                        0x00000001050e29e0 chromedriver + 4270560\n16  libsystem_pthread.dylib             0x000000018d322034 _pthread_start + 136\n17  libsystem_pthread.dylib             0x000000018d31ce3c thread_start + 8\n"
     ]
    }
   ],
   "source": [
    "# find_elements 메소드는 일치하는 모든 요소를 리스트로 반환한다.\n",
    "elements = driver.find_elements(By.CLASS_NAME, 'class_name')\n",
    "for element in elements:\n",
    "    print(element.text)"
   ]
  },
  {
   "cell_type": "code",
   "execution_count": 7,
   "id": "f522a0ec-3386-4382-ad40-cdfbddcfd47d",
   "metadata": {},
   "outputs": [
    {
     "ename": "NameError",
     "evalue": "name 'time' is not defined",
     "output_type": "error",
     "traceback": [
      "\u001b[0;31m---------------------------------------------------------------------------\u001b[0m",
      "\u001b[0;31mNameError\u001b[0m                                 Traceback (most recent call last)",
      "Cell \u001b[0;32mIn[7], line 5\u001b[0m\n\u001b[1;32m      3\u001b[0m url \u001b[38;5;241m=\u001b[39m \u001b[38;5;124m\"\u001b[39m\u001b[38;5;124mhttp://www.naver.com\u001b[39m\u001b[38;5;124m\"\u001b[39m\n\u001b[1;32m      4\u001b[0m driver\u001b[38;5;241m.\u001b[39mget(url)\n\u001b[0;32m----> 5\u001b[0m time\u001b[38;5;241m.\u001b[39msleep(\u001b[38;5;241m1\u001b[39m)\n\u001b[1;32m      7\u001b[0m driver\u001b[38;5;241m.\u001b[39mfind_element(By\u001b[38;5;241m.\u001b[39mID, \u001b[38;5;124m\"\u001b[39m\u001b[38;5;124mquery\u001b[39m\u001b[38;5;124m\"\u001b[39m)\u001b[38;5;241m.\u001b[39msend_keys(\u001b[38;5;124m\"\u001b[39m\u001b[38;5;124m파이썬\u001b[39m\u001b[38;5;124m\"\u001b[39m)\n\u001b[1;32m      8\u001b[0m time\u001b[38;5;241m.\u001b[39msleep(\u001b[38;5;241m1\u001b[39m)\n",
      "\u001b[0;31mNameError\u001b[0m: name 'time' is not defined"
     ]
    }
   ],
   "source": [
    "driver = webdriver.Chrome()\n",
    "\n",
    "url = \"http://www.naver.com\"\n",
    "driver.get(url)\n",
    "time.sleep(1)\n",
    "\n",
    "driver.find_element(By.ID, \"query\").send_keys(\"파이썬\")\n",
    "time.sleep(1)\n",
    "\n",
    "driver.find_element(By.CLASS_NAME, \"search_input\").send_keys(\"넘파이\")\n",
    "time.sleep(1)\n",
    "\n",
    "driver.find_element(By.CSS_SELECTOR, \"#query\").send_keys(\"판다스\")\n",
    "time.sleep(1)\n",
    "\n",
    "driver.find_element(By.NAME, \"query\").send_keys(\"크롤링\")\n",
    "time.sleep(1)\n",
    "\n",
    "driver.find_element(By.XPATH, '//*[@name=\"query\"]').send_keys(\"데이터베이스\")\n",
    "time.sleep(1)"
   ]
  },
  {
   "cell_type": "code",
   "execution_count": 53,
   "id": "6fc1b8bf-b97e-4381-805b-6b27dfa2d231",
   "metadata": {},
   "outputs": [
    {
     "name": "stdout",
     "output_type": "stream",
     "text": [
      " 2 19 26 31 38 41 보너스번호 34 "
     ]
    }
   ],
   "source": [
    "driver = webdriver.Chrome()\n",
    "driver.get('https://dhlottery.co.kr/common.do?method=main')\n",
    "\n",
    "num_view = driver.find_element(By.ID, 'numView')\n",
    "\n",
    "num = num_view.find_elements(By.TAG_NAME, 'span')\n",
    "\n",
    "for n in num :\n",
    "    print(n.text, end=\" \")"
   ]
  },
  {
   "cell_type": "code",
   "execution_count": 59,
   "id": "70095186-5a41-4403-ac3f-bd7d3aee299c",
   "metadata": {},
   "outputs": [],
   "source": [
    "# 과제1\n",
    "# 네이버에서 '파이썬 넘파이 판다스 크롤링 데이터베이스' 순서대로 검색해보기\n",
    "\n",
    "# 과제2\n",
    "# 파파고에서 hello world 입력해보기."
   ]
  },
  {
   "cell_type": "code",
   "execution_count": 51,
   "id": "d38ca2ae-b489-43eb-bc5e-a2616da59b63",
   "metadata": {},
   "outputs": [],
   "source": [
    "from selenium import webdriver\n",
    "from selenium.webdriver.common.by import By\n",
    "from selenium.webdriver.common.keys import Keys\n",
    "import time"
   ]
  },
  {
   "cell_type": "code",
   "execution_count": 52,
   "id": "5c28ed6b-5589-47d1-92dd-5a63ac8740ca",
   "metadata": {},
   "outputs": [
    {
     "name": "stdout",
     "output_type": "stream",
     "text": [
      "https://www.naver.com/\n"
     ]
    }
   ],
   "source": [
    "# 과제1) 네이버에서 '파이썬 넘파이 판다스 크롤링 데이터베이스' 순서대로 검색해보기\n",
    "lines = ['파이썬', '넘파이', '판다스', '크롤링', '데이터베이스']\n",
    "\n",
    "driver = webdriver.Chrome()\n",
    "url = \"http://www.naver.com\"\n",
    "driver.get(url)\n",
    "time.sleep(1)\n",
    "\n",
    "for line in lines:\n",
    "    search_box = driver.find_element(By.ID, \"query\")\n",
    "    search_box.send_keys(line)\n",
    "    search_box.send_keys(Keys.ENTER)\n",
    "    time.sleep(2)\n",
    "    \n",
    "    search_box = driver.find_element(By.ID, \"nx_query\")\n",
    "    \n",
    "    driver.get(url)\n",
    "    time.sleep(1)\n",
    "\n",
    "print(driver.current_url)\n",
    "time.sleep(2)\n",
    "driver.quit()"
   ]
  },
  {
   "cell_type": "code",
   "execution_count": 58,
   "id": "a61f3e04-5bbe-4423-9bbf-2cb3d132d970",
   "metadata": {},
   "outputs": [],
   "source": [
    "# 과제2) 파파고에서 hello world 입력해보기.\n",
    "driver = webdriver.Chrome()\n",
    "driver.get('https://papago.naver.com')\n",
    "time.sleep(2)\n",
    "\n",
    "search_box = driver.find_element(By.ID, 'txtSource')\n",
    "search_box.send_keys('hello world')\n",
    "search_box.send_keys(Keys.ENTER)\n",
    "time.sleep(2)\n",
    "\n",
    "driver.quit()"
   ]
  }
 ],
 "metadata": {
  "kernelspec": {
   "display_name": "Python 3 (ipykernel)",
   "language": "python",
   "name": "python3"
  },
  "language_info": {
   "codemirror_mode": {
    "name": "ipython",
    "version": 3
   },
   "file_extension": ".py",
   "mimetype": "text/x-python",
   "name": "python",
   "nbconvert_exporter": "python",
   "pygments_lexer": "ipython3",
   "version": "3.11.8"
  }
 },
 "nbformat": 4,
 "nbformat_minor": 5
}
