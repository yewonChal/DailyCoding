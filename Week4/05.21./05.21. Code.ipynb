{
 "cells": [
  {
   "cell_type": "code",
   "execution_count": 1,
   "id": "054a1794-90cd-4c75-81e5-c685c0a5cc41",
   "metadata": {},
   "outputs": [],
   "source": [
    "import requests\n",
    "from bs4 import BeautifulSoup\n",
    "import os\n",
    "import pandas as pd\n",
    "import numpy as np"
   ]
  },
  {
   "cell_type": "code",
   "execution_count": 5,
   "id": "19f2f812-db36-421d-ab47-59d83594dd63",
   "metadata": {},
   "outputs": [
    {
     "name": "stdout",
     "output_type": "stream",
     "text": [
      "        노래제목          가수\n",
      "0   Magnetic  아일릿(ILLIT)\n",
      "1  Supernova       aespa\n"
     ]
    }
   ],
   "source": [
    "# 벅스에서 주간 별 1등 노래제목, 가수명 들고오기\n",
    "import pandas as pd\n",
    "\n",
    "codes = [\"202404\", \"20240516\"]\n",
    "\n",
    "data = []\n",
    "\n",
    "for code in codes:\n",
    "    url = \"https://music.bugs.co.kr/chart/track/week/total?chartdate=\" + code\n",
    "    response = requests.get(url)\n",
    "\n",
    "    if response.status_code == 200:\n",
    "        html = response.text\n",
    "        soup = BeautifulSoup(html, 'lxml')\n",
    "        \n",
    "        title = soup.select_one('p.title a').text\n",
    "        artist = soup.select_one('p.artist a').text\n",
    "        \n",
    "        data.append({\n",
    "            \"노래제목\": title,\n",
    "            \"가수\": artist\n",
    "        })\n",
    "    else:\n",
    "        print(response.status_code)\n",
    "\n",
    "df = pd.DataFrame(data)\n",
    "print(df)"
   ]
  },
  {
   "cell_type": "code",
   "execution_count": 26,
   "id": "cc2e93de-0c00-48de-aee9-7dd81640845f",
   "metadata": {},
   "outputs": [],
   "source": [
    "def bugs_music_week(year, month, day):\n",
    "    base_url = \"https://music.bugs.co.kr/chart/track/week/total?\"\n",
    "\n",
    "    month = \"{0:02d}\".format(month)\n",
    "    day = \"{0:02d}\".format(day)\n",
    "\n",
    "    print(month, day)\n",
    "    \n",
    "    url = base_url + \"chartdate={}{}{}\".format(year, month, day)\n",
    "\n",
    "    html = requests.get(url).text\n",
    "    soup = BeautifulSoup(html, 'lxml')\n",
    "\n",
    "    titles = soup.select('p.title a')\n",
    "    artists = soup.select('p.artist a')\n",
    "\n",
    "    music_titles = [title.text for title in titles]\n",
    "    music_artists = [artist.text for artist in artists]\n",
    "\n",
    "    return music_titles, music_artists"
   ]
  },
  {
   "cell_type": "code",
   "execution_count": 27,
   "id": "329807fd-9832-4593-803f-141c077d302d",
   "metadata": {},
   "outputs": [
    {
     "name": "stdout",
     "output_type": "stream",
     "text": [
      "05 09\n",
      "(['I AM', 'Spicy', 'UNFORGIVEN (feat. Nile Rodgers)', 'Kitsch', '손오공', 'Cupid', '꽃', 'Ditto', 'Hype Boy', 'KNOCK', 'Thirsty', 'Teddy Bear', 'OMG', 'After LIKE', '사건의 지평선', 'Attention', 'Dangerously', 'Love Me Like This', 'I Don’t Think That I Like Her', 'Salty & Sweet', '헤어지자 말해요', '건물 사이에 피어난 장미 (Rose Blossom)', '파이팅 해야지 (Feat. 이영지)', 'LOVE DIVE', 'ANTIFRAGILE', '나의 바람 (Wind And Wish)', 'CHRISTIAN', 'Cupid (Twin Ver.)', '심(心)', '빛이 나는 너에게', '물론', '한 페이지가 될 수 있게', 'When I Get Old', '사랑인가 봐', '오르트구름', 'Shut Down', 'Welcome To MY World (Feat. nævis)', \"I'm Unhappy\", 'FRIEND THE END', 'Heaven(2023)', 'FEARLESS', 'ELEVEN', '그라데이션', 'Poppy (Korean Ver.)', 'Candy', '너의 모든 순간', 'Pink Venom', 'VIBE (feat. Jimin of BTS)', \"That's Hilarious\", 'STAY', '밤이 무서워요 (Lonely Night)', 'TOMBOY', 'Cookie', '모든 날, 모든 순간 (Every day, Every Moment)', '정이라고 하자 (Feat. 10CM)', '다정히 내 이름을 부르면', 'Perfume', 'Nostalgia', 'Say I Love You', 'Nxde', 'Off My Face', 'F*ck My Life', 'Monologue', '새삥 (Prod. ZICO) (Feat. 호미들)', '취중고백', 'That’s Not How This Works (feat. Dan + Shay)', 'WHEN I MOVE', '딱 10CM만', 'Unholy', '해요 (2022)', '사랑은 늘 도망가', '도깨비불 (Illusion)', '그때 그 순간 그대로 (그그그)', '나의 X에게', '주저하는 연인들을 위해', 'INVU', '드라마', 'Rush Hour (Feat. j-hope of BTS)', 'Feel My Rhythm', '안녕이라고 말하지마', 'strawberry moon', '나의 마음에 (Seed)', '슝! (feat. LISA of BLACKPINK)', 'Love story', 'Chase Love Hard (Feat. 황민현)', 'NOT SORRY (Feat. pH-1) (Prod. by Slom)', 'Left and Right (Feat. Jung Kook of BTS)', 'Expectations', 'LOVE me', '내가 아니라도', '봄여름가을겨울 (Still Life)', 'Dynamite', '사람 Pt.2 (feat. 아이유)', '이브, 프시케 그리고 푸른 수염의 아내', '자격지심 (Feat. ZICO)', 'Anti-Hero', 'Say My Name', 'Dreamers [Music from the FIFA World Cup Qatar 2022 Official Soundtrack] (feat. FIFA Sound)', \"'Til We Meet Again\", 'Higher'], ['IVE (아이브)', 'aespa', 'LE SSERAFIM (르세라핌)', 'IVE (아이브)', '세븐틴(SEVENTEEN)', 'FIFTY FIFTY', '지수(JISOO)', 'NewJeans', 'NewJeans', '이채연', 'aespa', 'STAYC(스테이씨)', 'NewJeans', 'IVE (아이브)', '윤하(Younha/ユンナ)', 'NewJeans', 'Charlie Puth(찰리 푸스)', 'NMIXX', 'Charlie Puth(찰리 푸스)', 'aespa', '박재정', 'H1-KEY (하이키)', '부석순(SEVENTEEN)', 'IVE (아이브)', 'LE SSERAFIM (르세라핌)', '비투비', '지올팍(Zior Park)', 'FIFTY FIFTY', 'DK(디셈버)', '던 (DAWN)', '허각', 'DAY6 (데이식스)', 'Christopher(크리스토퍼)', '\\r\\nChristopher(크리스토퍼)\\r\\n', '멜로망스(MeloMance)', '윤하(Younha/ユンナ)', 'BLACKPINK', 'aespa', 'aespa', '볼빨간사춘기', '임재현', 'LE SSERAFIM (르세라핌)', 'IVE (아이브)', '10CM', 'STAYC(스테이씨)', 'NCT DREAM', '성시경', 'BLACKPINK', '태양', 'Charlie Puth(찰리 푸스)', 'The Kid LAROI', '\\r\\nThe Kid LAROI\\r\\n', '주주 시크릿', '(여자)아이들', 'NewJeans', '폴킴(Paul Kim)', 'BIG Naughty (서동현)', '경서예지', '\\r\\n경서예지\\r\\n', 'NCT 도재정', '우디(Woody)', '우디(Woody)', '(여자)아이들', 'Justin Bieber(저스틴 비버)', '세븐틴(SEVENTEEN)', '테이(Tei)', '지코 (ZICO)', '김민석', 'Charlie Puth(찰리 푸스)', '카라(Kara)', '10CM', '\\r\\n10CM\\r\\n', 'Sam Smith(샘 스미스)', '\\r\\nSam Smith(샘 스미스)\\r\\n', '#안녕', '임영웅', 'aespa', 'WSG워너비 (가야G)', '경서', '잔나비', '태연 (TAEYEON)', '아이유(IU)', 'Crush', 'Red Velvet (레드벨벳)', 'V.O.S.', '아이유(IU)', '태양', '태양', '볼빨간사춘기', '볼빨간사춘기', '이영지', 'Charlie Puth(찰리 푸스)', '\\r\\nCharlie Puth(찰리 푸스)\\r\\n', 'Anne-Marie(앤 마리)', '\\r\\nAnne-Marie(앤 마리)\\r\\n', \"BE'O (비오)\", '주호', 'BIGBANG (빅뱅)', '방탄소년단', 'Agust D', 'LE SSERAFIM (르세라핌)', \"BE'O (비오)\", 'Taylor Swift(테일러 스위프트)', 'Say Yes!', '정국', '\\r\\n정국\\r\\n', 'aespa', 'FIFTY FIFTY'])\n"
     ]
    }
   ],
   "source": [
    "print(bugs_music_week(2023, 5, 9))"
   ]
  },
  {
   "cell_type": "code",
   "execution_count": 31,
   "id": "b554130b-314b-42d1-9997-cb39d7ea0a35",
   "metadata": {},
   "outputs": [
    {
     "name": "stdout",
     "output_type": "stream",
     "text": [
      "05 21\n"
     ]
    },
    {
     "ename": "NameError",
     "evalue": "name 'file_name' is not defined",
     "output_type": "error",
     "traceback": [
      "\u001b[0;31m---------------------------------------------------------------------------\u001b[0m",
      "\u001b[0;31mNameError\u001b[0m                                 Traceback (most recent call last)",
      "Cell \u001b[0;32mIn[31], line 9\u001b[0m\n\u001b[1;32m      5\u001b[0m titles, artists \u001b[38;5;241m=\u001b[39m bugs_music_week(year, month, day)\n\u001b[1;32m      7\u001b[0m filename \u001b[38;5;241m=\u001b[39m \u001b[38;5;124m'\u001b[39m\u001b[38;5;124m./music_week.txt\u001b[39m\u001b[38;5;124m'\u001b[39m\n\u001b[0;32m----> 9\u001b[0m f \u001b[38;5;241m=\u001b[39m \u001b[38;5;28mopen\u001b[39m(file_name, \u001b[38;5;124m'\u001b[39m\u001b[38;5;124mw\u001b[39m\u001b[38;5;124m'\u001b[39m)\n\u001b[1;32m     11\u001b[0m \u001b[38;5;28;01mfor\u001b[39;00m i \u001b[38;5;129;01min\u001b[39;00m \u001b[38;5;28mrange\u001b[39m(\u001b[38;5;28mlen\u001b[39m(titles)):\n\u001b[1;32m     12\u001b[0m     f\u001b[38;5;241m.\u001b[39mwrite(\u001b[38;5;124m\"\u001b[39m\u001b[38;5;132;01m{}\u001b[39;00m\u001b[38;5;124m. \u001b[39m\u001b[38;5;132;01m{}\u001b[39;00m\u001b[38;5;124m - \u001b[39m\u001b[38;5;132;01m{}\u001b[39;00m\u001b[38;5;130;01m\\n\u001b[39;00m\u001b[38;5;124m\"\u001b[39m\u001b[38;5;241m.\u001b[39mformat(i\u001b[38;5;241m+\u001b[39m\u001b[38;5;241m1\u001b[39m, titles[i], artists[i]))\n",
      "\u001b[0;31mNameError\u001b[0m: name 'file_name' is not defined"
     ]
    }
   ],
   "source": [
    "year = 2023\n",
    "month = 5\n",
    "day = 21\n",
    "\n",
    "titles, artists = bugs_music_week(year, month, day)\n",
    "\n",
    "filename = './music_week.txt'\n",
    "\n",
    "f = open(file_name, 'w')\n",
    "\n",
    "for i in range(len(titles)):\n",
    "    f.write(\"{}. {} - {}\\n\".format(i+1, titles[i], artists[i]))\n",
    "\n",
    "f.close()"
   ]
  },
  {
   "cell_type": "code",
   "execution_count": null,
   "id": "e63a81cc-d973-4318-9551-e2c783d52936",
   "metadata": {},
   "outputs": [],
   "source": []
  }
 ],
 "metadata": {
  "kernelspec": {
   "display_name": "Python 3 (ipykernel)",
   "language": "python",
   "name": "python3"
  },
  "language_info": {
   "codemirror_mode": {
    "name": "ipython",
    "version": 3
   },
   "file_extension": ".py",
   "mimetype": "text/x-python",
   "name": "python",
   "nbconvert_exporter": "python",
   "pygments_lexer": "ipython3",
   "version": "3.11.7"
  }
 },
 "nbformat": 4,
 "nbformat_minor": 5
}
