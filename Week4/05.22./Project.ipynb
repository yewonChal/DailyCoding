{
 "cells": [
  {
   "cell_type": "code",
   "execution_count": 1,
   "id": "f86c4b1a-b314-4ede-b911-0546e841a72b",
   "metadata": {},
   "outputs": [],
   "source": [
    "import requests\n",
    "from bs4 import BeautifulSoup\n",
    "import os\n",
    "import pandas as pd\n",
    "import numpy as np"
   ]
  },
  {
   "cell_type": "code",
   "execution_count": 2,
   "id": "d3e2616f-c2df-43d2-9c2b-c420524ddc5b",
   "metadata": {},
   "outputs": [],
   "source": [
    "from selenium import webdriver\n",
    "from selenium.webdriver.common.by import By\n",
    "from selenium.webdriver.common.keys import Keys\n",
    "import time"
   ]
  },
  {
   "cell_type": "code",
   "execution_count": 8,
   "id": "878c4f67-7a9a-42c0-b389-85524a741a46",
   "metadata": {},
   "outputs": [],
   "source": [
    "# 과제1) 네이버에서 '파이썬 넘파이 판다스 크롤링 데이터베이스' 순서대로 검색해보기\n",
    "lines = ['파이썬', '넘파이', '판다스', '크롤링', '데이터베이스']\n",
    "\n",
    "driver = webdriver.Chrome()\n",
    "url = \"http://www.naver.com\"\n",
    "driver.get(url)\n",
    "\n",
    "for line in lines:\n",
    "    search_box = driver.find_element(By.ID, \"query\")\n",
    "    search_box.send_keys(line)\n",
    "    search_box.send_keys(Keys.ENTER)\n",
    "    time.sleep(2)\n",
    "    \n",
    "    driver.get(url)\n",
    "    time.sleep(1)\n",
    "\n",
    "time.sleep(2)\n",
    "driver.quit()"
   ]
  },
  {
   "cell_type": "code",
   "execution_count": 11,
   "id": "ed2276a1-e2b8-4eb3-b43d-f8e64865b1da",
   "metadata": {},
   "outputs": [],
   "source": [
    "# 과제2) 파파고에서 hello world 입력해보기\n",
    "driver = webdriver.Chrome()\n",
    "driver.get('https://papago.naver.com')\n",
    "time.sleep(2)\n",
    "\n",
    "search_box = driver.find_element(By.ID, 'txtSource')\n",
    "search_box.send_keys('hello world')\n",
    "search_box.send_keys(Keys.ENTER)\n",
    "time.sleep(2)\n",
    "\n",
    "driver.quit()"
   ]
  },
  {
   "cell_type": "markdown",
   "id": "4ce02be9-ddff-4d29-b9f7-dabff0db1f9e",
   "metadata": {},
   "source": [
    "# 강사님 코드"
   ]
  },
  {
   "cell_type": "markdown",
   "id": "cf871036-55c7-4305-b817-c0786bcf11e3",
   "metadata": {},
   "source": [
    "- 과제 1) "
   ]
  },
  {
   "cell_type": "code",
   "execution_count": 18,
   "id": "ab141cab-f886-4dba-89ea-0957490bd21f",
   "metadata": {},
   "outputs": [],
   "source": [
    "driver = webdriver.Chrome()\n",
    "\n",
    "url = \"http://www.naver.com\"\n",
    "driver.get(url)\n",
    "time.sleep(1)\n",
    "\n",
    "search = driver.find_element(By.ID, \"query\")\n",
    "time.sleep(1)\n",
    "search.send_keys(\"파이썬\")\n",
    "time.sleep(1)\n",
    "search.clear()\n",
    "\n",
    "search = driver.find_element(By.CLASS_NAME, \"search_input\")\n",
    "time.sleep(1)\n",
    "search.send_keys(\"넘파이\")\n",
    "time.sleep(1)\n",
    "search.clear()\n",
    "\n",
    "search = driver.find_element(By.CSS_SELECTOR, \"#query\")\n",
    "time.sleep(1)\n",
    "search.send_keys(\"판다스\")\n",
    "time.sleep(1)\n",
    "search.clear()\n",
    "\n",
    "search = driver.find_element(By.NAME, \"query\")\n",
    "time.sleep(1)\n",
    "search.send_keys(\"크롤링\")\n",
    "time.sleep(1)\n",
    "search.clear()\n",
    "\n",
    "search = driver.find_element(By.XPATH, '//*[@name=\"query\"]')\n",
    "time.sleep(1)\n",
    "search.send_keys(\"데이터베이스\")\n",
    "time.sleep(1)\n",
    "search.clear()"
   ]
  },
  {
   "cell_type": "code",
   "execution_count": 16,
   "id": "c6ee3305-40ca-477f-b5fe-c1351e3fc802",
   "metadata": {},
   "outputs": [],
   "source": [
    "# 또는\n",
    "driver = webdriver.Chrome()\n",
    "\n",
    "url = \"http://www.naver.com\"\n",
    "driver.get(url)\n",
    "\n",
    "keywords = [\"파이썬\", \"넘파이\", \"판다스\", \"크롤링\", \"데이터베이스\"]\n",
    "\n",
    "for key in keywords:\n",
    "    search = driver.find_element(By.NAME, \"query\")\n",
    "    search.clear()\n",
    "    search.send_keys(key)\n",
    "    time.sleep(1)\n",
    "    search.submit()\n",
    "    time.sleep(1)\n",
    "    \n",
    "driver.quit()"
   ]
  },
  {
   "cell_type": "markdown",
   "id": "6ec79579-7c88-49f6-96e4-886920e8cab5",
   "metadata": {},
   "source": [
    "- 과제 2)"
   ]
  },
  {
   "cell_type": "code",
   "execution_count": 22,
   "id": "b5800bd0-fc45-47e0-87ef-c5cf34886e2a",
   "metadata": {},
   "outputs": [],
   "source": [
    "driver = webdriver.Chrome()\n",
    "\n",
    "url = 'https://papago.naver.com/'\n",
    "driver.get(url)\n",
    "time.sleep(2) # 페이지가 켜지는 속도가 늦어서 딜레이를 걸어줘야 한다.\n",
    "\n",
    "send_box = driver.find_element(By.CSS_SELECTOR, '#sourceEditArea textarea')\n",
    "send_box.send_keys('hello world')\n",
    "time.sleep(2)\n",
    "\n",
    "driver.quit()"
   ]
  }
 ],
 "metadata": {
  "kernelspec": {
   "display_name": "Python 3 (ipykernel)",
   "language": "python",
   "name": "python3"
  },
  "language_info": {
   "codemirror_mode": {
    "name": "ipython",
    "version": 3
   },
   "file_extension": ".py",
   "mimetype": "text/x-python",
   "name": "python",
   "nbconvert_exporter": "python",
   "pygments_lexer": "ipython3",
   "version": "3.11.8"
  }
 },
 "nbformat": 4,
 "nbformat_minor": 5
}
