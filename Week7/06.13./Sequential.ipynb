{
 "cells": [
  {
   "cell_type": "code",
   "execution_count": 2,
   "id": "ef0db3d4-4203-4256-9107-0f9951aa4f82",
   "metadata": {},
   "outputs": [],
   "source": [
    "import numpy as np\n",
    "import pandas as pd\n",
    "import tensorflow as tf\n",
    "import time"
   ]
  },
  {
   "cell_type": "markdown",
   "id": "34127c5c-2a76-4af0-b82d-c117d1b9c79c",
   "metadata": {},
   "source": [
    "# 학습러닝\n",
    "1) 지도학습 : 입력 데이터와 해당하는 정답 데이터를 사용하여 모델을 학습시키는 방법\n",
    "    - 주어진 입력 데이터에 대한 출력 값을 예측하는 모델을 만드는 것\n",
    "    - 머신러닝 -> 분류/회귀\n",
    "    - 딥러닝 -> 이미지 분류(CNN), 자연어 처리(NLP)\n",
    "        - 장점 : 정답이 무엇인지 명확히 알기 때문에 높은 정확도를 기대할 수 있다.\n",
    "        - 단점 : 대량의 라벨링된 데이터가 필요하다.(라벨링 비용이 많이 들고, 시간이 오래걸릴 수 있다.)\n",
    "    \n",
    "2) 비지도학습 : 정답없이 입력 데이터의 구조나 패턴을 학습하는 방법\n",
    "    - 주어진 데이터에서 유사한 것끼리 그룹화하거나 데이터의 구조를 이해하는 것이 목표이다.\n",
    "    - 머신러닝 -> 클러스터링, 군집화, K-Means, KNN\n",
    "    - 딥러닝 -> 오토인코더(Autoencoders)(이미지 압축, 이상 탐지), 생성 모델(Generative Models)(새로운 이미지 생성(GANs), 새로운 데이터 생성하거나 잠재공간 탐색(VAE))\n",
    "        - 장점 : 데이터 라벨링이 필요하지 않아, 데이터 준비가 비교적 편리하다.\n",
    "        - 단점 : 정답이 없기 때문에 모델 평가가 어렵고, 결과를 해석하기 힘들다.\n",
    "\n",
    "3) 전이학습 : 이미 학습된 모델의 지식을 새로운 문제에 적용하는 방법\n",
    "    - 보통 대규모 데이터 셋에서 학습된 모델을 사용하여 소규모 데이터 셋의 문제를 해결한다.\n",
    "    - 머신러닝 -> Fine-tuning\n",
    "    - 딥러닝 -> 이미지 분류(CNN), 자연어 처리(NLP)\n",
    "        - 장점 : 데이터셋이 부족한 경우에도 효과적인 모델을 만들 수 있다.\n",
    "        - 단점 : 사전 학습된 모델이 해당 학습 데이터에 맞지 않는 경우 처리할 수 없다.\n",
    "\n",
    "4) 강화학습 : 에이전트가 환경과 상호작용하면서 보상을 최대화하는 방향으로 학습시키는 방법\n",
    "    - 에이전트는 최대한 다양하게 행동을 시도하고, 그 결과로부터 얻은 보상을 기반으로 학습을 진행한다.\n",
    "    - 머신러닝 -> 게임\n",
    "    - 딥러닝 -> Deep Q-Networks(DQN)(강화학습과 딥러닝을 결합하여 복잡한 환경에서 에이전트가 최적의 정책을 학습할 수 있도록 한다.), Proximal Policy Optimization(PPO)(복잡한 환경에서 안정적으로 학습할 수 있는 강화학습 알고리즘)\n",
    "       - 장점 : 복잡한 환경에서 높은 성능을 보일 수 있고, 실시간으로 학습하고 적응할 수 있다.\n",
    "       - 단점 : 학습 시간이 오래 걸린다. 보상 설계가 어렵다."
   ]
  },
  {
   "cell_type": "markdown",
   "id": "01aba7ee-ade3-48e1-965a-82f93ce4b4d5",
   "metadata": {},
   "source": [
    "# Sequential 모델 \n",
    ": 신경망 모델을 구축하는 가장 간단한 방법 중 하나층(layer)을 순차적으로 쌓아 올리는 방식으로 구성된다.\n",
    "\n",
    "model = Sequential()\n",
    "- 층 추가 : model.add()\n",
    "- 모델 컴파일 : model.compile()\n",
    "- 모델 학습 : model.fit()\n",
    "- 모델 평가 : model.evaluate()\n",
    "- 모델 예측 : model.predict()"
   ]
  },
  {
   "cell_type": "code",
   "execution_count": 3,
   "id": "55018774-7ced-42ad-ae2d-b3e906ad2e34",
   "metadata": {},
   "outputs": [],
   "source": [
    "from tensorflow import keras\n",
    "from tensorflow.keras import layers\n",
    "\n",
    "model = keras.Sequential([\n",
    "    layers.Dense(64, activation='relu'),\n",
    "    layers.Dense(10, activation='softmax')\n",
    "])"
   ]
  },
  {
   "cell_type": "code",
   "execution_count": 4,
   "id": "f828781c-dd23-4a69-b491-922610a92011",
   "metadata": {},
   "outputs": [],
   "source": [
    "model = keras.Sequential()\n",
    "model.add(layers.Dense(64, activation='relu'))\n",
    "model.add(layers.Dense(10, activation='softmax'))"
   ]
  },
  {
   "cell_type": "code",
   "execution_count": 5,
   "id": "f420c555-03b5-44b1-b73f-029cc6ee9482",
   "metadata": {},
   "outputs": [
    {
     "data": {
      "text/plain": [
       "[<tf.Variable 'dense_2/kernel:0' shape=(3, 64) dtype=float32, numpy=\n",
       " array([[ 1.23610049e-01, -1.57758519e-01,  1.43164694e-01,\n",
       "         -2.79441476e-02,  1.58292055e-01,  1.48727208e-01,\n",
       "          8.16323757e-02,  1.17440939e-01,  2.33837008e-01,\n",
       "          2.09326386e-01,  1.20384097e-01, -2.75878549e-01,\n",
       "          9.69349742e-02,  1.68944925e-01, -2.73415446e-02,\n",
       "          5.91203272e-02,  1.00875348e-01,  4.72342074e-02,\n",
       "         -1.62333235e-01,  1.77411079e-01,  9.13679600e-04,\n",
       "          1.25309914e-01,  1.82152927e-01,  2.34608114e-01,\n",
       "         -1.15069777e-01,  1.66172802e-01, -1.17303669e-01,\n",
       "         -2.71262288e-01, -1.72190666e-01, -1.02383062e-01,\n",
       "         -1.78354979e-03, -9.34944600e-02,  1.08030289e-01,\n",
       "          4.66821194e-02, -2.61530340e-01, -4.59813476e-02,\n",
       "          2.79356599e-01, -2.00339302e-01, -1.76284164e-01,\n",
       "         -1.63118064e-01, -2.07049310e-01, -2.64251471e-01,\n",
       "         -2.10216284e-01, -6.15031272e-02,  5.62155545e-02,\n",
       "          2.01799333e-01,  2.73295283e-01,  9.64567959e-02,\n",
       "         -1.83941603e-01,  1.15645409e-01, -8.99058282e-02,\n",
       "          1.03628159e-01, -7.01116174e-02,  5.19393682e-02,\n",
       "         -2.17236876e-01,  6.78898692e-02, -2.18337983e-01,\n",
       "         -2.17983231e-01,  1.83178812e-01,  1.85843855e-01,\n",
       "         -1.19529352e-01,  2.60023713e-01, -1.91321343e-01,\n",
       "         -1.50394440e-03],\n",
       "        [ 5.68923056e-02,  2.47286201e-01, -8.51697773e-02,\n",
       "         -2.77502179e-01, -1.62841022e-01,  1.66500568e-01,\n",
       "         -2.01197252e-01, -1.07499450e-01, -1.86610848e-01,\n",
       "         -2.80188352e-01,  6.82317615e-02, -1.57361537e-01,\n",
       "         -1.02863222e-01,  1.08221143e-01,  1.38767183e-01,\n",
       "          1.99631184e-01, -1.03074312e-02,  8.67261589e-02,\n",
       "          4.31773067e-03, -2.48226911e-01, -1.00479305e-01,\n",
       "          2.93586195e-01,  4.76006567e-02,  5.71272373e-02,\n",
       "          7.27515519e-02, -1.29953027e-03,  2.56983399e-01,\n",
       "          3.21236849e-02, -2.17768833e-01,  2.35811114e-01,\n",
       "          1.19368672e-01,  6.74028397e-02,  6.98891282e-03,\n",
       "          2.13150859e-01,  1.07032120e-01,  2.36389220e-01,\n",
       "          2.32168734e-01, -5.73521256e-02, -4.97260243e-02,\n",
       "         -2.22255379e-01,  7.88883567e-02,  1.50888473e-01,\n",
       "         -1.84711859e-01,  1.12417519e-01,  1.74430192e-01,\n",
       "         -6.76853806e-02,  2.49787867e-01, -2.97158837e-01,\n",
       "          2.11798012e-01, -1.44508794e-01, -9.28725153e-02,\n",
       "          1.48281723e-01,  2.01298356e-01,  4.34935391e-02,\n",
       "          2.69757867e-01,  6.44853711e-02, -1.62722722e-01,\n",
       "          2.97183931e-01,  1.37831390e-01,  1.21826649e-01,\n",
       "         -2.68965960e-04, -4.81822789e-02, -1.41711697e-01,\n",
       "          1.31364167e-02],\n",
       "        [-1.89271539e-01, -2.33568653e-01, -1.74221650e-01,\n",
       "         -2.90100574e-01, -1.99698031e-01, -2.10802823e-01,\n",
       "          2.08903611e-01, -2.26730213e-01, -8.29573721e-02,\n",
       "          2.84035087e-01, -2.43921950e-01,  7.70987570e-02,\n",
       "          5.34683466e-03, -2.05422163e-01,  1.65120721e-01,\n",
       "          3.89315188e-02,  2.43492484e-01, -2.45450065e-01,\n",
       "         -2.46388361e-01,  2.40030468e-01,  2.55236030e-02,\n",
       "          3.75787616e-02, -1.99690819e-01,  2.01323628e-01,\n",
       "         -1.94486082e-02, -1.13118857e-01,  4.85340953e-02,\n",
       "         -2.19783261e-01,  2.60025084e-01,  1.60852909e-01,\n",
       "         -3.93804312e-02, -1.06264010e-01, -2.58700073e-01,\n",
       "         -6.31692261e-02,  2.08400607e-01, -1.49728358e-01,\n",
       "         -1.12817913e-01, -5.81482947e-02, -2.78473020e-01,\n",
       "          6.55082166e-02,  2.71285534e-01, -9.06705260e-02,\n",
       "         -1.39042437e-02,  1.06343061e-01,  2.46418893e-01,\n",
       "          5.87326288e-02, -2.48823300e-01, -2.03053951e-02,\n",
       "          4.65549827e-02,  1.39762491e-01,  2.93648303e-01,\n",
       "         -2.40360215e-01, -1.47335798e-01,  2.13863194e-01,\n",
       "         -3.29770744e-02, -1.33278430e-01,  1.19417757e-01,\n",
       "          9.42345560e-02,  2.38041878e-01,  2.17926145e-01,\n",
       "          1.00121915e-01, -2.83744097e-01, -2.93054849e-01,\n",
       "          1.53755128e-01]], dtype=float32)>,\n",
       " <tf.Variable 'dense_2/bias:0' shape=(64,) dtype=float32, numpy=\n",
       " array([0., 0., 0., 0., 0., 0., 0., 0., 0., 0., 0., 0., 0., 0., 0., 0., 0.,\n",
       "        0., 0., 0., 0., 0., 0., 0., 0., 0., 0., 0., 0., 0., 0., 0., 0., 0.,\n",
       "        0., 0., 0., 0., 0., 0., 0., 0., 0., 0., 0., 0., 0., 0., 0., 0., 0.,\n",
       "        0., 0., 0., 0., 0., 0., 0., 0., 0., 0., 0., 0., 0.], dtype=float32)>,\n",
       " <tf.Variable 'dense_3/kernel:0' shape=(64, 10) dtype=float32, numpy=\n",
       " array([[-0.14890252, -0.2528231 , -0.03121927,  0.13042039, -0.19674855,\n",
       "         -0.11175241, -0.19859678,  0.2570363 ,  0.24530056, -0.05092929],\n",
       "        [-0.12106779,  0.13510332,  0.27413794,  0.24616823,  0.02200863,\n",
       "          0.2777737 ,  0.13920096,  0.23376277,  0.08517024, -0.03189436],\n",
       "        [-0.11448249, -0.02097839, -0.1503193 ,  0.24263212, -0.2228697 ,\n",
       "         -0.2676301 ,  0.07540751,  0.0938791 , -0.02807498, -0.08708626],\n",
       "        [ 0.2542688 , -0.0599992 ,  0.17794695, -0.19960159, -0.03877681,\n",
       "          0.19741979,  0.10413626, -0.22944237,  0.05517724,  0.10346538],\n",
       "        [-0.16918811, -0.0812366 ,  0.13243568, -0.12330461, -0.0835187 ,\n",
       "         -0.16375977, -0.08634254, -0.10250951,  0.13331395,  0.00872314],\n",
       "        [ 0.19468778,  0.03368622, -0.0551061 ,  0.08971125, -0.00035879,\n",
       "         -0.05425674, -0.05160594,  0.13201654,  0.1336788 , -0.10219219],\n",
       "        [-0.28250787, -0.20785841,  0.15566698, -0.21414392, -0.25031495,\n",
       "         -0.25089765, -0.10195282, -0.1744242 ,  0.20083737,  0.04909071],\n",
       "        [ 0.11378127,  0.13309902, -0.26774424, -0.21347073, -0.06225237,\n",
       "          0.26425645, -0.12119529,  0.16064191,  0.24599531,  0.04406896],\n",
       "        [-0.2177472 ,  0.22043201, -0.12324059, -0.08618918,  0.07390165,\n",
       "         -0.18673438, -0.02998397, -0.18355072,  0.17681193, -0.18227074],\n",
       "        [-0.09009463, -0.07195419, -0.27150935, -0.05141063, -0.1486159 ,\n",
       "          0.17284074,  0.0498794 , -0.20576552, -0.15629584, -0.2589147 ],\n",
       "        [-0.11630695, -0.06090708,  0.21223894, -0.09516588,  0.25854608,\n",
       "          0.16581225, -0.2154725 ,  0.07401374, -0.17621464, -0.01700002],\n",
       "        [ 0.08821839, -0.25599128,  0.22421476,  0.06777903,  0.19271651,\n",
       "         -0.22733143,  0.16224822, -0.07476982,  0.08359024,  0.2824547 ],\n",
       "        [ 0.02826202, -0.18479234, -0.2453608 ,  0.108913  ,  0.25035587,\n",
       "         -0.00900474,  0.01966822,  0.18872035, -0.12322979, -0.242817  ],\n",
       "        [ 0.07216525, -0.1298904 ,  0.11151439, -0.28151214,  0.08877242,\n",
       "          0.01554626,  0.02777743,  0.00427979, -0.21376279, -0.04394569],\n",
       "        [-0.04528716, -0.10130067,  0.02568856, -0.01060584,  0.2648314 ,\n",
       "          0.26821694,  0.09591883,  0.17002606,  0.12469512, -0.11327957],\n",
       "        [-0.11453503,  0.2746953 ,  0.06711954,  0.11587808, -0.04444398,\n",
       "          0.20582819, -0.20054635,  0.08998853,  0.01377821, -0.14357764],\n",
       "        [ 0.2371287 ,  0.21971491,  0.08792797,  0.04039162,  0.1033144 ,\n",
       "          0.20857084, -0.1716525 ,  0.14079249, -0.06498294,  0.12095714],\n",
       "        [-0.04078048,  0.25893345, -0.2636701 , -0.18303001, -0.11927254,\n",
       "         -0.2304764 , -0.12772697,  0.12030256, -0.05246697,  0.05330473],\n",
       "        [ 0.10496762, -0.01613784,  0.15278998, -0.22001937, -0.26100782,\n",
       "         -0.23308395, -0.22326195, -0.1281438 , -0.28459498, -0.00544599],\n",
       "        [ 0.16201508, -0.17898008,  0.24615136, -0.17417857,  0.09094846,\n",
       "         -0.085246  , -0.16055052,  0.1597324 , -0.26746207, -0.2166958 ],\n",
       "        [-0.2779466 , -0.21524915,  0.02904314, -0.27394727, -0.12646131,\n",
       "          0.06451687, -0.21784353,  0.17613825, -0.24822918,  0.05476591],\n",
       "        [ 0.05446583,  0.15882769, -0.12176698, -0.25107536,  0.2641587 ,\n",
       "          0.05853891,  0.10742882, -0.06007978,  0.15203846,  0.04236978],\n",
       "        [ 0.04199603, -0.21398397,  0.12162217, -0.09010699,  0.06427106,\n",
       "          0.16283533,  0.10165301,  0.01911247,  0.26586172, -0.09560207],\n",
       "        [ 0.03224725, -0.11087146, -0.1550587 ,  0.14012134,  0.22424737,\n",
       "         -0.1714495 , -0.15092717, -0.0497009 ,  0.09606528,  0.10240442],\n",
       "        [-0.14661704, -0.15811364,  0.19922543, -0.28346172,  0.14704183,\n",
       "          0.10339174,  0.22193196, -0.05505987,  0.07736394, -0.01078174],\n",
       "        [ 0.02949333, -0.13199468,  0.2534018 ,  0.11915618,  0.07378381,\n",
       "          0.10682285, -0.13213691, -0.09671707, -0.16248026, -0.07201129],\n",
       "        [ 0.02083793, -0.08140667, -0.07744683,  0.0994845 ,  0.0394195 ,\n",
       "          0.23183635,  0.04169747,  0.04420128, -0.23416752, -0.19645908],\n",
       "        [-0.22500563, -0.20274934,  0.04738528,  0.15499258, -0.23243669,\n",
       "          0.05790123, -0.17509753, -0.1022093 , -0.15061082, -0.0632183 ],\n",
       "        [ 0.00278583,  0.18731388, -0.01252723, -0.2303381 ,  0.21674374,\n",
       "          0.28303543,  0.05973512, -0.14133784,  0.08731043, -0.2516326 ],\n",
       "        [ 0.25406477,  0.12670192, -0.10219716, -0.09265649, -0.12122612,\n",
       "          0.24381348,  0.25609317, -0.03078097, -0.23484099, -0.06484731],\n",
       "        [ 0.2283937 , -0.26883772,  0.02306592,  0.1514793 ,  0.19616595,\n",
       "         -0.00763196, -0.25776005, -0.02087149,  0.2629849 , -0.10333511],\n",
       "        [-0.24195005, -0.18779156, -0.28425086, -0.01898396,  0.19519892,\n",
       "         -0.10509391, -0.04888624, -0.1941598 ,  0.0670875 ,  0.26305702],\n",
       "        [-0.14131021, -0.2444627 ,  0.17039558,  0.16242173, -0.07077137,\n",
       "         -0.15132555,  0.15103886,  0.0632363 , -0.25063762,  0.19899386],\n",
       "        [ 0.03136685,  0.25689527, -0.07757656, -0.1032535 , -0.00417838,\n",
       "          0.1814391 ,  0.21688053, -0.22917713,  0.03100085, -0.03499497],\n",
       "        [-0.2504235 ,  0.2499573 , -0.05641812, -0.2690141 ,  0.27553722,\n",
       "         -0.02484006, -0.03883506, -0.24369678,  0.11688942,  0.02618501],\n",
       "        [ 0.11672419,  0.27966997,  0.2234858 , -0.14214383,  0.11140501,\n",
       "          0.11554754, -0.09225234, -0.13667142, -0.07784839, -0.00295678],\n",
       "        [-0.26947805, -0.26856175, -0.23480487, -0.02780029,  0.22726777,\n",
       "          0.11112049,  0.21087077, -0.1914837 ,  0.14514485,  0.16573223],\n",
       "        [ 0.1835675 , -0.01356751, -0.27064535, -0.03048837,  0.09065688,\n",
       "         -0.07197469,  0.09896439,  0.22795483, -0.23575918,  0.18921301],\n",
       "        [ 0.07388267,  0.24704263, -0.11783947,  0.061562  , -0.19649589,\n",
       "         -0.03944573,  0.19523612, -0.13181172, -0.03910777,  0.1886492 ],\n",
       "        [ 0.02126816, -0.11819555, -0.08623663,  0.27740207,  0.22016189,\n",
       "         -0.16117096, -0.13238388,  0.0539951 , -0.15283683, -0.13730605],\n",
       "        [ 0.08725992, -0.12218811, -0.23056656, -0.08837508,  0.15050265,\n",
       "          0.18715563, -0.16833991,  0.18958044, -0.1551443 , -0.10654293],\n",
       "        [ 0.11737293, -0.21290678, -0.09316614,  0.25278595,  0.07047117,\n",
       "         -0.05983844,  0.2426472 , -0.03607883,  0.08704817, -0.07020918],\n",
       "        [-0.12623191,  0.05805236, -0.24240029, -0.23874223,  0.125292  ,\n",
       "          0.2542272 ,  0.06356305,  0.19656676,  0.07884902,  0.02900445],\n",
       "        [-0.02631319, -0.18433036, -0.08967942, -0.18436825, -0.24393764,\n",
       "         -0.05176358, -0.23764779,  0.13715127,  0.03651324, -0.13475607],\n",
       "        [ 0.12091905, -0.05341342, -0.09753874,  0.02252913,  0.02745596,\n",
       "         -0.22992541, -0.04787904,  0.17538205,  0.03639296, -0.11537619],\n",
       "        [-0.25197822,  0.17693949, -0.13127166,  0.2054702 ,  0.18288201,\n",
       "          0.08051839,  0.2568513 ,  0.2543958 , -0.12302797, -0.18215811],\n",
       "        [ 0.14259812,  0.02411807,  0.14011124, -0.10628815, -0.23056099,\n",
       "          0.2829236 ,  0.12351066, -0.16164292, -0.16211155, -0.27285507],\n",
       "        [-0.2703454 , -0.27971125, -0.27216238, -0.03961097,  0.16606304,\n",
       "          0.12270176, -0.04442511,  0.09948072,  0.151458  ,  0.16466078],\n",
       "        [-0.05893117, -0.2722389 ,  0.2008779 ,  0.10285616, -0.11670674,\n",
       "          0.07246676,  0.24243608, -0.28257054,  0.22059909, -0.05443461],\n",
       "        [ 0.11935931, -0.2823851 , -0.03212571,  0.20390299,  0.08818248,\n",
       "         -0.07648939,  0.1954019 ,  0.00247183,  0.12878957,  0.07782307],\n",
       "        [ 0.21261036, -0.28309342, -0.02169687, -0.15243913, -0.23619293,\n",
       "          0.19853616,  0.26812372, -0.08348508,  0.01811939,  0.06973639],\n",
       "        [-0.1309401 , -0.0334605 , -0.12366001, -0.2052539 ,  0.23368874,\n",
       "         -0.1848011 ,  0.27113578, -0.0571793 , -0.18598264, -0.13630292],\n",
       "        [ 0.25285122, -0.1847066 , -0.190649  , -0.2521779 , -0.11351562,\n",
       "         -0.01339492, -0.17734513, -0.2764778 , -0.00146946, -0.23844746],\n",
       "        [ 0.2498934 ,  0.2434065 , -0.23496766,  0.05890971, -0.04996534,\n",
       "          0.25879034, -0.02612576, -0.19212498, -0.15492204, -0.23624676],\n",
       "        [-0.1924848 ,  0.12320846,  0.12409151,  0.03095782, -0.06908657,\n",
       "          0.07277268,  0.21945658, -0.1354797 , -0.0878526 ,  0.02101234],\n",
       "        [ 0.24568537, -0.18986835, -0.09884512, -0.1838313 , -0.24575251,\n",
       "         -0.08810493, -0.00351468,  0.06074491, -0.25426534,  0.19930941],\n",
       "        [ 0.11510822, -0.21439904, -0.24933612, -0.1468082 ,  0.27443954,\n",
       "         -0.02948844, -0.12622696,  0.18688238,  0.15227178, -0.26663506],\n",
       "        [ 0.09173462,  0.06256643, -0.05731508,  0.09908071, -0.01674286,\n",
       "          0.21679035, -0.16079837, -0.05859323, -0.024299  , -0.25426057],\n",
       "        [-0.14041694, -0.14925697,  0.06741834,  0.1542969 , -0.17191339,\n",
       "         -0.16867405,  0.2460371 , -0.02003717,  0.1708656 , -0.24719265],\n",
       "        [ 0.22045228,  0.12384927,  0.03767049,  0.16272432, -0.25539222,\n",
       "         -0.16844818,  0.26734778,  0.06967413,  0.08792964, -0.02578807],\n",
       "        [-0.07590425,  0.26541355, -0.23164022,  0.15567982,  0.2036727 ,\n",
       "          0.23540309, -0.13592593,  0.24484405,  0.25250784, -0.21492293],\n",
       "        [ 0.08105072,  0.17947963, -0.16155589, -0.2180072 , -0.15040918,\n",
       "         -0.03020173,  0.26382634,  0.00414991, -0.2206893 ,  0.21254086],\n",
       "        [ 0.16597837,  0.25856897,  0.08491436, -0.23792396,  0.0514752 ,\n",
       "         -0.01033393,  0.04975143, -0.15909186, -0.2153055 , -0.05086018],\n",
       "        [-0.2198343 , -0.07661858,  0.07055005,  0.19249383, -0.21382138,\n",
       "         -0.01779073, -0.12153311,  0.04201323, -0.01742685,  0.2367982 ]],\n",
       "       dtype=float32)>,\n",
       " <tf.Variable 'dense_3/bias:0' shape=(10,) dtype=float32, numpy=array([0., 0., 0., 0., 0., 0., 0., 0., 0., 0.], dtype=float32)>]"
      ]
     },
     "execution_count": 5,
     "metadata": {},
     "output_type": "execute_result"
    }
   ],
   "source": [
    "model.build(input_shape=(None, 3)) # 모델의 구조를 정의하고, 층을 초기화 (배치크기 : None, 특성 : 3)\n",
    "model.weights # 모델의 가중치"
   ]
  },
  {
   "cell_type": "code",
   "execution_count": 6,
   "id": "d4c6e7e6-f0b0-4ec3-a23e-a38f566618bd",
   "metadata": {},
   "outputs": [
    {
     "name": "stdout",
     "output_type": "stream",
     "text": [
      "Model: \"sequential_1\"\n",
      "_________________________________________________________________\n",
      " Layer (type)                Output Shape              Param #   \n",
      "=================================================================\n",
      " dense_2 (Dense)             (None, 64)                256       \n",
      "                                                                 \n",
      " dense_3 (Dense)             (None, 10)                650       \n",
      "                                                                 \n",
      "=================================================================\n",
      "Total params: 906 (3.54 KB)\n",
      "Trainable params: 906 (3.54 KB)\n",
      "Non-trainable params: 0 (0.00 Byte)\n",
      "_________________________________________________________________\n"
     ]
    }
   ],
   "source": [
    "model.summary()"
   ]
  },
  {
   "cell_type": "code",
   "execution_count": 7,
   "id": "9b2a066d-2db5-4b9e-b5de-c0b9aae29a5f",
   "metadata": {},
   "outputs": [
    {
     "name": "stdout",
     "output_type": "stream",
     "text": [
      "Model: \"my_example_model\"\n",
      "_________________________________________________________________\n",
      " Layer (type)                Output Shape              Param #   \n",
      "=================================================================\n",
      " my_first_layer (Dense)      (None, 64)                256       \n",
      "                                                                 \n",
      " my_last_layer (Dense)       (None, 10)                650       \n",
      "                                                                 \n",
      "=================================================================\n",
      "Total params: 906 (3.54 KB)\n",
      "Trainable params: 906 (3.54 KB)\n",
      "Non-trainable params: 0 (0.00 Byte)\n",
      "_________________________________________________________________\n"
     ]
    }
   ],
   "source": [
    "# 모델과 층에 이름 지정\n",
    "model = keras.Sequential(name='my_example_model')\n",
    "model.add(layers.Dense(64, activation='relu', name='my_first_layer'))\n",
    "model.add(layers.Dense(10, activation='softmax', name='my_last_layer'))\n",
    "model.build((None, 3))\n",
    "model.summary()"
   ]
  },
  {
   "cell_type": "code",
   "execution_count": 8,
   "id": "ec83ecb5-11ab-4f9d-90b1-0deb54a1a233",
   "metadata": {},
   "outputs": [
    {
     "name": "stdout",
     "output_type": "stream",
     "text": [
      "Model: \"sequential_2\"\n",
      "_________________________________________________________________\n",
      " Layer (type)                Output Shape              Param #   \n",
      "=================================================================\n",
      " dense_4 (Dense)             (None, 64)                256       \n",
      "                                                                 \n",
      "=================================================================\n",
      "Total params: 256 (1.00 KB)\n",
      "Trainable params: 256 (1.00 KB)\n",
      "Non-trainable params: 0 (0.00 Byte)\n",
      "_________________________________________________________________\n"
     ]
    }
   ],
   "source": [
    "# 모델의 입력 크기 지정\n",
    "model = keras.Sequential()\n",
    "model.add(keras.Input(shape=(3,))) # 입력 층 추가 (3개의 특성)\n",
    "model.add(layers.Dense(64, activation='relu'))\n",
    "model.summary()"
   ]
  },
  {
   "cell_type": "code",
   "execution_count": 9,
   "id": "c77f04f7-53b7-4e54-9337-5b631817e313",
   "metadata": {},
   "outputs": [
    {
     "name": "stdout",
     "output_type": "stream",
     "text": [
      "Model: \"sequential_2\"\n",
      "_________________________________________________________________\n",
      " Layer (type)                Output Shape              Param #   \n",
      "=================================================================\n",
      " dense_4 (Dense)             (None, 64)                256       \n",
      "                                                                 \n",
      " dense_5 (Dense)             (None, 10)                650       \n",
      "                                                                 \n",
      "=================================================================\n",
      "Total params: 906 (3.54 KB)\n",
      "Trainable params: 906 (3.54 KB)\n",
      "Non-trainable params: 0 (0.00 Byte)\n",
      "_________________________________________________________________\n"
     ]
    }
   ],
   "source": [
    "model.add(layers.Dense(10, activation='softmax'))\n",
    "model.summary()"
   ]
  },
  {
   "cell_type": "code",
   "execution_count": 10,
   "id": "a987ca19-cb10-4cd5-ba67-156c2ec2e51a",
   "metadata": {},
   "outputs": [],
   "source": [
    "inputs = keras.Input(shape=(3,), name='my_input') # 입력층\n",
    "features = layers.Dense(64, activation='relu')(inputs) # 64개 뉴런을 가진 완전 연결층 생성\n",
    "outputs = layers.Dense(10, activation='softmax')(features) # 10개의 뉴런을 가진 완전 연결층 생성\n",
    "model = keras.Model(inputs=inputs, outputs=outputs) # 입력층과 출력층을 사용하여 keras 함수형 API 모델 생성"
   ]
  },
  {
   "cell_type": "code",
   "execution_count": 11,
   "id": "6e236609-ae2b-4f36-a47e-ded1b87f3603",
   "metadata": {},
   "outputs": [
    {
     "data": {
      "text/plain": [
       "TensorShape([None, 3])"
      ]
     },
     "execution_count": 11,
     "metadata": {},
     "output_type": "execute_result"
    }
   ],
   "source": [
    "inputs.shape"
   ]
  },
  {
   "cell_type": "code",
   "execution_count": 12,
   "id": "5fdcc980-1c7f-421c-bfe0-c8eff4c489cc",
   "metadata": {},
   "outputs": [
    {
     "data": {
      "text/plain": [
       "tf.float32"
      ]
     },
     "execution_count": 12,
     "metadata": {},
     "output_type": "execute_result"
    }
   ],
   "source": [
    "inputs.dtype"
   ]
  },
  {
   "cell_type": "code",
   "execution_count": 13,
   "id": "fb496450-d816-4c33-8287-778f021c98c4",
   "metadata": {},
   "outputs": [
    {
     "data": {
      "text/plain": [
       "TensorShape([None, 64])"
      ]
     },
     "execution_count": 13,
     "metadata": {},
     "output_type": "execute_result"
    }
   ],
   "source": [
    "features.shape"
   ]
  },
  {
   "cell_type": "code",
   "execution_count": 14,
   "id": "7b553c5c-a5c3-4e8e-8893-8edde6008367",
   "metadata": {},
   "outputs": [
    {
     "data": {
      "text/plain": [
       "tf.float32"
      ]
     },
     "execution_count": 14,
     "metadata": {},
     "output_type": "execute_result"
    }
   ],
   "source": [
    "features.dtype"
   ]
  },
  {
   "cell_type": "code",
   "execution_count": 15,
   "id": "b71746e5-28f1-48bc-bc4a-358396cd4c74",
   "metadata": {},
   "outputs": [
    {
     "name": "stdout",
     "output_type": "stream",
     "text": [
      "Model: \"model\"\n",
      "_________________________________________________________________\n",
      " Layer (type)                Output Shape              Param #   \n",
      "=================================================================\n",
      " my_input (InputLayer)       [(None, 3)]               0         \n",
      "                                                                 \n",
      " dense_6 (Dense)             (None, 64)                256       \n",
      "                                                                 \n",
      " dense_7 (Dense)             (None, 10)                650       \n",
      "                                                                 \n",
      "=================================================================\n",
      "Total params: 906 (3.54 KB)\n",
      "Trainable params: 906 (3.54 KB)\n",
      "Non-trainable params: 0 (0.00 Byte)\n",
      "_________________________________________________________________\n"
     ]
    }
   ],
   "source": [
    "model.summary()"
   ]
  },
  {
   "cell_type": "code",
   "execution_count": 16,
   "id": "f0140259-1a29-4066-aa76-90a5d154657f",
   "metadata": {},
   "outputs": [],
   "source": [
    "# 다중 출력 신경망\n",
    "vocabulary_size = 10000 # 사전 크기\n",
    "num_tags = 100 # 태그 개수\n",
    "num_departments = 4 # 부서 개수\n",
    "\n",
    "title = keras.Input(shape=(vocabulary_size,), name='title') # 제목 입력 정의\n",
    "text_body = keras.Input(shape=(vocabulary_size,), name='text_body') # 본문 입력 정의\n",
    "tags = keras.Input(shape=(num_tags,), name='tags') # 태그 입력 정의\n",
    "\n",
    "features = layers.Concatenate()([title, text_body, tags]) # 제목, 본문, 태그 하나로 연결하여 특성 벡터를 생성\n",
    "features = layers.Dense(64, activation='relu')(features) # 연결된 특성 벡터를 64개의 특성으로 변환하고 ReLU함수를 적용\n",
    "\n",
    "priority = layers.Dense(1, activation='sigmoid', name='priority')(features) # 특성벡터를 전달받아 하나의 출력을 생성하고 sigmoid 함수를 적용\n",
    "department = layers.Dense(num_departments, activation='softmax', name='department')(features) # 특성 벡터로 4개의 출력을 생성한다.\n",
    "\n",
    "model = keras.Model(inputs=[title, text_body, tags], outputs=[priority, department])"
   ]
  },
  {
   "cell_type": "code",
   "execution_count": 17,
   "id": "d76ce5f4-2ff3-443e-9756-024b3c59c95a",
   "metadata": {},
   "outputs": [
    {
     "name": "stdout",
     "output_type": "stream",
     "text": [
      "40/40 [==============================] - 1s 7ms/step - loss: 28.5231 - priority_loss: 0.3197 - department_loss: 28.2034 - priority_mean_absolute_error: 0.4876 - department_accuracy: 0.2016\n",
      "40/40 [==============================] - 0s 2ms/step - loss: 25.3062 - priority_loss: 0.3267 - department_loss: 24.9795 - priority_mean_absolute_error: 0.4945 - department_accuracy: 0.1273\n",
      "40/40 [==============================] - 0s 2ms/step\n"
     ]
    }
   ],
   "source": [
    "import numpy as np\n",
    "\n",
    "num_samples = 1280\n",
    "\n",
    "title_data = np.random.randint(0, 2, size=(num_samples, vocabulary_size)) # (1280, 10000) 이진 행렬\n",
    "text_body_data = np.random.randint(0, 2, size=(num_samples, vocabulary_size)) # (1280, 10000) 이진 행렬\n",
    "tags_data = np.random.randint(0, 2, size=(num_samples, num_tags)) # (1280, 100) 이진 행렬\n",
    "\n",
    "priority_data = np.random.random(size=(num_samples, 1)) # (1280, 1) 실수 행렬\n",
    "department_data = np.random.randint(0, 2, size=(num_samples, num_departments)) # (1280, 4) 이진 행렬\n",
    "\n",
    "model.compile(optimizer=\"rmsprop\",\n",
    "              loss=[\"mean_squared_error\", \"categorical_crossentropy\"], # 평균제곱오차손실함수(mse), 교차손실엔트로피(crossentropy)\n",
    "              metrics=[[\"mean_absolute_error\"], [\"accuracy\"]]) # 평균절대오차매트릭(mae), 정확도\n",
    "model.fit([title_data, text_body_data, tags_data],\n",
    "          [priority_data, department_data], # 우선순위 : mse, mae, 부서출력 : 엔트로피, 정확도\n",
    "          epochs=1)\n",
    "model.evaluate([title_data, text_body_data, tags_data],\n",
    "               [priority_data, department_data])\n",
    "priority_preds, department_preds = model.predict([title_data, text_body_data, tags_data])"
   ]
  },
  {
   "cell_type": "code",
   "execution_count": 18,
   "id": "b161b01d-6efd-42e7-a82c-9e33718b8405",
   "metadata": {},
   "outputs": [
    {
     "name": "stdout",
     "output_type": "stream",
     "text": [
      "40/40 [==============================] - 1s 7ms/step - loss: 40.8587 - priority_loss: 0.3267 - department_loss: 40.5320 - priority_mean_absolute_error: 0.4945 - department_accuracy: 0.2383\n",
      "40/40 [==============================] - 0s 2ms/step - loss: 16.1610 - priority_loss: 0.3267 - department_loss: 15.8344 - priority_mean_absolute_error: 0.4945 - department_accuracy: 0.1562\n",
      "40/40 [==============================] - 0s 2ms/step\n"
     ]
    }
   ],
   "source": [
    "# 딕셔너리 형태로 전달\n",
    "model.compile(optimizer='rmsprop', loss={'priority':'mean_squared_error', 'department':'categorical_crossentropy'},\n",
    "              metrics={'priority':['mean_absolute_error'], 'department':['accuracy']})\n",
    "\n",
    "model.fit({'title' : title_data, 'text_body':text_body_data, 'tags':tags_data},\n",
    "          {'priority':priority_data, 'department':department_data},\n",
    "          epochs=1)\n",
    "\n",
    "model.evaluate({'title':title_data, 'text_body':text_body_data, 'tags':tags_data},\n",
    "               {'priority':priority_data, 'department':department_data})\n",
    "\n",
    "priority_preds, department_preds = model.predict({'title':title_data, 'text_body':text_body_data, 'tags':tags_data})"
   ]
  },
  {
   "cell_type": "code",
   "execution_count": 19,
   "id": "94cd7c48-7622-445a-9655-454924ef5043",
   "metadata": {},
   "outputs": [
    {
     "data": {
      "image/png": "[encoded data removed]",
      "text/plain": [
       "<IPython.core.display.Image object>"
      ]
     },
     "execution_count": 19,
     "metadata": {},
     "output_type": "execute_result"
    }
   ],
   "source": [
    "keras.utils.plot_model(model, 'ticket_classifier.png')"
   ]
  },
  {
   "cell_type": "code",
   "execution_count": 20,
   "id": "566fba75-84ca-4368-a461-0eb1c945997e",
   "metadata": {},
   "outputs": [
    {
     "data": {
      "image/png": "[encoded data removed]",
      "text/plain": [
       "<IPython.core.display.Image object>"
      ]
     },
     "execution_count": 20,
     "metadata": {},
     "output_type": "execute_result"
    }
   ],
   "source": [
    "keras.utils.plot_model(model, 'ticket_classifier_with_shape_info.png', show_shapes = True)"
   ]
  },
  {
   "cell_type": "code",
   "execution_count": 21,
   "id": "c4d0aece-005a-4ef3-8c42-314e33f3f125",
   "metadata": {},
   "outputs": [
    {
     "data": {
      "text/plain": [
       "[<keras.src.engine.input_layer.InputLayer at 0x1772abbe0>,\n",
       " <keras.src.engine.input_layer.InputLayer at 0x1772aaa10>,\n",
       " <keras.src.engine.input_layer.InputLayer at 0x1772a9d50>,\n",
       " <keras.src.layers.merging.concatenate.Concatenate at 0x1772a8130>,\n",
       " <keras.src.layers.core.dense.Dense at 0x1772aa020>,\n",
       " <keras.src.layers.core.dense.Dense at 0x1772aa050>,\n",
       " <keras.src.layers.core.dense.Dense at 0x1772aa380>]"
      ]
     },
     "execution_count": 21,
     "metadata": {},
     "output_type": "execute_result"
    }
   ],
   "source": [
    "model.layers"
   ]
  },
  {
   "cell_type": "code",
   "execution_count": 22,
   "id": "b64f0461-1123-4f0b-b101-9eb88c7e03a3",
   "metadata": {},
   "outputs": [
    {
     "data": {
      "text/plain": [
       "[<KerasTensor: shape=(None, 10000) dtype=float32 (created by layer 'title')>,\n",
       " <KerasTensor: shape=(None, 10000) dtype=float32 (created by layer 'text_body')>,\n",
       " <KerasTensor: shape=(None, 100) dtype=float32 (created by layer 'tags')>]"
      ]
     },
     "execution_count": 22,
     "metadata": {},
     "output_type": "execute_result"
    }
   ],
   "source": [
    "model.layers[3].input"
   ]
  },
  {
   "cell_type": "code",
   "execution_count": 23,
   "id": "9cc6ebaa-cf34-482f-9f4c-430a4ebb4cd2",
   "metadata": {},
   "outputs": [
    {
     "data": {
      "text/plain": [
       "<KerasTensor: shape=(None, 20100) dtype=float32 (created by layer 'concatenate')>"
      ]
     },
     "execution_count": 23,
     "metadata": {},
     "output_type": "execute_result"
    }
   ],
   "source": [
    "model.layers[3].output"
   ]
  },
  {
   "cell_type": "code",
   "execution_count": 24,
   "id": "3e65e06e-e63b-496c-b60b-bd81104f0c61",
   "metadata": {},
   "outputs": [
    {
     "data": {
      "text/plain": [
       "<KerasTensor: shape=(None, 64) dtype=float32 (created by layer 'dense_8')>"
      ]
     },
     "execution_count": 24,
     "metadata": {},
     "output_type": "execute_result"
    }
   ],
   "source": [
    "features = model.layers[4].output\n",
    "features"
   ]
  },
  {
   "cell_type": "code",
   "execution_count": 25,
   "id": "d41b206e-0749-47b6-9a72-8d7b9c815c75",
   "metadata": {},
   "outputs": [],
   "source": [
    "difficulty = layers.Dense(3, activation='softmax', name='difficulty')(features)\n",
    "\n",
    "new_model = keras.Model(\n",
    "    inputs = [title, text_body, tags],\n",
    "    outputs = [priority, department, difficulty])"
   ]
  },
  {
   "cell_type": "code",
   "execution_count": 26,
   "id": "b1e7bbf9-ef90-4ad1-8df9-d0d8bedbd35f",
   "metadata": {},
   "outputs": [
    {
     "data": {
      "image/png": "[encoded data removed]",
      "text/plain": [
       "<IPython.core.display.Image object>"
      ]
     },
     "execution_count": 26,
     "metadata": {},
     "output_type": "execute_result"
    }
   ],
   "source": [
    "keras.utils.plot_model(new_model, 'updated_ticket_classifier.png', show_shapes=True)"
   ]
  },
  {
   "cell_type": "markdown",
   "id": "0a2c7969-b12a-4a16-8de0-e4ecafb14a1b",
   "metadata": {},
   "source": [
    "## Keras에서 모델을 정의하는 방법\n",
    "1. 함수형 API : 층을 연결하여 모델을 구성하는 방식\n",
    "2. 서브클래싱 : 사용자 정의 클래스를 만들어 모델을 정의하는 방식"
   ]
  },
  {
   "cell_type": "code",
   "execution_count": 27,
   "id": "d2d9ee35-20cc-4eeb-a09e-d81b616b0aec",
   "metadata": {},
   "outputs": [],
   "source": [
    "# 간단한 서브클래싱 모델\n",
    "class CustomerTicketModel(keras.Model):\n",
    "    def __init__(self, num_departments):\n",
    "        super().__init__()\n",
    "        self.concat_layer = layers.Concatenate() # hidden : Concatenate 계층\n",
    "        self.mixing_layer = layers.Dense(64, activation='relu') # hidden : dense_8\n",
    "        self.priority_scorer = layers.Dense(1, activation='sigmoid') # output\n",
    "        self.department_classifier = layers.Dense(num_departments, activation='softmax') # output\n",
    "\n",
    "    def call(self, inputs):\n",
    "        title = inputs['title'] # input\n",
    "        text_body = inputs['text_body'] #input\n",
    "        tags = inputs['tags'] # input\n",
    "\n",
    "        features = self.concat_layer([title, text_body, tags]) # 입력을 연결\n",
    "        features = self.mixing_layer(features) # 입력 특징을 혼합\n",
    "        priority = self.priority_scorer(features) # 우선순위 예측\n",
    "        department = self.department_classifier(features) # 부서 분류 결과\n",
    "        return priority, department"
   ]
  },
  {
   "cell_type": "code",
   "execution_count": 28,
   "id": "1765a11b-4a1a-4e6f-8751-67257dc1e781",
   "metadata": {},
   "outputs": [],
   "source": [
    "model = CustomerTicketModel(num_departments=4)\n",
    "\n",
    "priority, department = model(\n",
    "    {\"title\": title_data, \"text_body\": text_body_data, \"tags\": tags_data})"
   ]
  },
  {
   "cell_type": "code",
   "execution_count": 29,
   "id": "a55c4e79-b82b-4a84-a144-4d6fc345c1fd",
   "metadata": {},
   "outputs": [
    {
     "name": "stdout",
     "output_type": "stream",
     "text": [
      "40/40 [==============================] - 1s 22ms/step - loss: 38.9745 - output_1_loss: 0.3309 - output_2_loss: 38.6436 - output_1_mean_absolute_error: 0.4980 - output_2_accuracy: 0.2047\n",
      "40/40 [==============================] - 1s 28ms/step - loss: 51.2270 - output_1_loss: 0.3376 - output_2_loss: 50.8894 - output_1_mean_absolute_error: 0.5055 - output_2_accuracy: 0.1273\n",
      "40/40 [==============================] - 0s 8ms/step\n"
     ]
    }
   ],
   "source": [
    "model.compile(optimizer='rmsprop', loss=['mean_squared_error', 'categorical_crossentropy'], \n",
    "              metrics=[['mean_absolute_error'],['accuracy']])\n",
    "\n",
    "model.fit({'title':title_data, 'text_body':text_body_data, 'tags':tags_data}, [priority_data, department_data], epochs=1)\n",
    "\n",
    "model.evaluate({'title':title_data, 'text_body':text_body_data, 'tags':tags_data}, [priority_data, department_data])\n",
    "\n",
    "priority_preds, department_preds = model.predict({'title':title_data, 'text_body':text_body_data, 'tags':tags_data})"
   ]
  },
  {
   "cell_type": "raw",
   "id": "57d91399-e303-49d5-84a4-0cf17be2d62c",
   "metadata": {},
   "source": [
    "서브클래싱 방식은 사용자가 직접 keras.Model을 상속받아 클래스를 정의하기 때문에 구조와 동작을 더 세부적으로 컨트롤할 수 있다.\n",
    "복잡하거나, 사용자 정의 모델이나 계층이 필요한 경우 서브클래싱 모델이 유용하다.\n",
    "\n",
    "summary(), plot_model()과 같은 함수들을 사용할 수 없다. 직접 정의를 해주거나 외부 라이브러리를 사용하여야 한다."
   ]
  },
  {
   "cell_type": "code",
   "execution_count": 30,
   "id": "fd2b3e4f-b11c-4dbe-90d9-696bac02fae4",
   "metadata": {},
   "outputs": [],
   "source": [
    "# 서브클래싱 모델을 함수형 모델에 포함시키기\n",
    "class Classifier(keras.Model):\n",
    "    def __init__(self, num_classes=2):\n",
    "        super().__init__()\n",
    "        if num_classes == 2: # 클래스 수가 2인 경우 (이진 분류)\n",
    "            num_units = 1\n",
    "            activation = 'sigmoid'\n",
    "        else :\n",
    "            num_units = num_classes\n",
    "            activation = 'softmax'\n",
    "        self.dense = layers.Dense(num_units, activation=activation)\n",
    "\n",
    "    def call(self, inputs):\n",
    "        return self.dense(inputs)"
   ]
  },
  {
   "cell_type": "code",
   "execution_count": 31,
   "id": "e07aea03-efff-4d46-85e7-ce87678b511a",
   "metadata": {},
   "outputs": [],
   "source": [
    "inputs = keras.Input(shape=(3,))\n",
    "features = layers.Dense(64, activation='relu')(inputs)\n",
    "outputs = Classifier(num_classes=10)(features)\n",
    "model = keras.Model(inputs=inputs, outputs=outputs)"
   ]
  },
  {
   "cell_type": "code",
   "execution_count": 32,
   "id": "29d42df0-ff0c-43b5-ac2c-9da628bcd3a7",
   "metadata": {},
   "outputs": [],
   "source": [
    "# 함수형 모델을 서브클래싱 모델에 포함시키기\n",
    "inputs = keras.Input(shape=(64,))\n",
    "outputs = layers.Dense(1, activation='sigmoid')(inputs)\n",
    "binary_classifier = keras.Model(inputs=inputs, outputs=outputs) # 이진분류기 모델\n",
    "\n",
    "class MyModel(keras.Model):\n",
    "    def __init__(self, num_classes=2):\n",
    "        super().__init__()\n",
    "        self.dense = layers.Dense(64, activation='relu')\n",
    "        self.classifier = binary_classifier\n",
    "\n",
    "    def call(self, inputs):\n",
    "        features = self.dense(inputs)\n",
    "        return self.classifier(features)\n",
    "\n",
    "model = MyModel()"
   ]
  },
  {
   "cell_type": "code",
   "execution_count": 33,
   "id": "50ad373d-9d08-4c76-8d60-37c5f83dde55",
   "metadata": {},
   "outputs": [],
   "source": [
    "from tensorflow.keras.datasets import mnist\n",
    "\n",
    "def get_mnist_model(): # 이미지 분류 모델\n",
    "    inputs = keras.Input(shape=(28*28,)) # 28x28의 이미지를 1차원 벡터로 변환\n",
    "    features = layers.Dense(512, activation='relu')(inputs)\n",
    "    features = layers.Dropout(0.5)(features) # 50프로 드롭아웃 (과적합 방지)\n",
    "    outputs = layers.Dense(10, activation='softmax')(features)\n",
    "    model = keras.Model(inputs, outputs)\n",
    "    return model"
   ]
  },
  {
   "cell_type": "code",
   "execution_count": 34,
   "id": "1951fbd0-47a5-45cf-b0a7-b379539ca065",
   "metadata": {},
   "outputs": [],
   "source": [
    "(images, labels), (test_images, test_labels) = mnist.load_data()\n",
    "images = images.reshape((60000, 28*28)).astype('float32')/255\n",
    "test_images = test_images.reshape((10000, 28*28)).astype('float32')/255\n",
    "\n",
    "train_images, val_images = images[10000:], images[:10000]\n",
    "train_labels, val_labels = labels[10000:], labels[:10000]                                  "
   ]
  },
  {
   "cell_type": "code",
   "execution_count": 35,
   "id": "0048571b-24fb-407d-b7ce-7ca4854615fa",
   "metadata": {},
   "outputs": [
    {
     "name": "stdout",
     "output_type": "stream",
     "text": [
      "Epoch 1/3\n",
      "1563/1563 [==============================] - 19s 12ms/step - loss: 0.2909 - accuracy: 0.9126 - val_loss: 0.1488 - val_accuracy: 0.9576\n",
      "Epoch 2/3\n",
      "1563/1563 [==============================] - 15s 9ms/step - loss: 0.1652 - accuracy: 0.9546 - val_loss: 0.1234 - val_accuracy: 0.9662\n",
      "Epoch 3/3\n",
      "1563/1563 [==============================] - 13s 8ms/step - loss: 0.1382 - accuracy: 0.9632 - val_loss: 0.1195 - val_accuracy: 0.9715\n",
      "313/313 [==============================] - 1s 2ms/step - loss: 0.1149 - accuracy: 0.9707\n",
      "313/313 [==============================] - 1s 2ms/step\n"
     ]
    }
   ],
   "source": [
    "model = get_mnist_model()\n",
    "model.compile(optimizer = 'rmsprop', loss='sparse_categorical_crossentropy', metrics=['accuracy'])\n",
    "model.fit(train_images, train_labels, epochs=3, validation_data=(val_images, val_labels))\n",
    "test_metrics = model.evaluate(test_images, test_labels)\n",
    "predictions = model.predict(test_images)"
   ]
  },
  {
   "cell_type": "code",
   "execution_count": 36,
   "id": "3c0e3799-0c23-42a2-87f0-dd329b90f7e3",
   "metadata": {},
   "outputs": [
    {
     "data": {
      "text/plain": [
       "array([1.3891431e-06, 6.8040788e-11, 2.0114805e-06, 2.7033632e-08,\n",
       "       9.9935514e-01, 4.8473908e-07, 3.2477819e-06, 3.0560772e-05,\n",
       "       5.1643917e-07, 6.0660351e-04], dtype=float32)"
      ]
     },
     "execution_count": 36,
     "metadata": {},
     "output_type": "execute_result"
    }
   ],
   "source": [
    "predictions[4]"
   ]
  },
  {
   "cell_type": "markdown",
   "id": "f6cc993f-4885-418e-8390-5ae5107583ff",
   "metadata": {},
   "source": [
    "## Callback\n",
    "- EarlyStopping 콜백 : 모델의 성능 지표가 일정 시간동안 개선되지 않을 경우 학습을 조기 종료 (과적합 방지, 학습 시간 단축)\n",
    "    - moniter : 모니터링할 성능 지표\n",
    "    - patience : 성능이 개선되지 않는 에포크 수\n",
    "    - mode : 최소화 또는 최대화할 지표\n",
    "    - verbose : 로그 출력 여부\n",
    "\n",
    "- ModelCheckpoint 콜백 : 모델의 성능이 가장 좋았던 시점의 모델 가중치를 저장하는 기능\n",
    "    - moniter : 모니터링할 성능 지표\n",
    "    - save_best_only : 최고 성능 모델만 저장\n",
    "    - save_weights_only : 모델 구조가 아닌 가중치만 저장\n",
    "    - mode : 최소화 또는 최대화할 지표\n",
    "    - filepath : 저장 경로 및 파일명"
   ]
  },
  {
   "cell_type": "code",
   "execution_count": 37,
   "id": "d982ba87-295e-4f37-ba3d-a5541bab17d2",
   "metadata": {},
   "outputs": [],
   "source": [
    "callback_lists = [\n",
    "    keras.callbacks.EarlyStopping(\n",
    "        monitor='val_accuracy', # 검증 정확도\n",
    "        patience=2, # 2 에포크 동안 개선이 없으면 조기 종료\n",
    "    ),\n",
    "    keras.callbacks.ModelCheckpoint(\n",
    "        filepath='checkpoint_path.h5', # 파일경로 (가장 좋은 성능을 보인 모델을 파일에 저장하겠다.)\n",
    "        monitor='val_loss', # 검증 손실\n",
    "        save_best_only=True,\n",
    "    )\n",
    "]"
   ]
  },
  {
   "cell_type": "code",
   "execution_count": 38,
   "id": "0eb251da-10b0-470a-8e0c-d4ecd18987ef",
   "metadata": {},
   "outputs": [
    {
     "name": "stdout",
     "output_type": "stream",
     "text": [
      "Epoch 1/10\n",
      "1563/1563 [==============================] - 16s 10ms/step - loss: 0.2936 - accuracy: 0.9131 - val_loss: 0.1460 - val_accuracy: 0.9584\n",
      "Epoch 2/10\n",
      "  15/1563 [..............................] - ETA: 11s - loss: 0.1667 - accuracy: 0.9542"
     ]
    },
    {
     "name": "stderr",
     "output_type": "stream",
     "text": [
      "/Users/jeon-yewon/miniforge3/envs/tensorflow/lib/python3.10/site-packages/keras/src/engine/training.py:3000: UserWarning: You are saving your model as an HDF5 file via `model.save()`. This file format is considered legacy. We recommend using instead the native Keras format, e.g. `model.save('my_model.keras')`.\n",
      "  saving_api.save_model(\n"
     ]
    },
    {
     "name": "stdout",
     "output_type": "stream",
     "text": [
      "1563/1563 [==============================] - 14s 9ms/step - loss: 0.1644 - accuracy: 0.9546 - val_loss: 0.1226 - val_accuracy: 0.9659\n",
      "Epoch 3/10\n",
      "1563/1563 [==============================] - 14s 9ms/step - loss: 0.1415 - accuracy: 0.9620 - val_loss: 0.1097 - val_accuracy: 0.9716\n",
      "Epoch 4/10\n",
      "1563/1563 [==============================] - 15s 9ms/step - loss: 0.1265 - accuracy: 0.9671 - val_loss: 0.1112 - val_accuracy: 0.9744\n",
      "Epoch 5/10\n",
      "1563/1563 [==============================] - 14s 9ms/step - loss: 0.1164 - accuracy: 0.9712 - val_loss: 0.1186 - val_accuracy: 0.9724\n",
      "Epoch 6/10\n",
      "1563/1563 [==============================] - 18s 12ms/step - loss: 0.1111 - accuracy: 0.9731 - val_loss: 0.1137 - val_accuracy: 0.9746\n",
      "Epoch 7/10\n",
      "1563/1563 [==============================] - 18s 12ms/step - loss: 0.1034 - accuracy: 0.9747 - val_loss: 0.1163 - val_accuracy: 0.9749\n",
      "Epoch 8/10\n",
      "1563/1563 [==============================] - 15s 9ms/step - loss: 0.1002 - accuracy: 0.9764 - val_loss: 0.1192 - val_accuracy: 0.9760\n",
      "Epoch 9/10\n",
      "1563/1563 [==============================] - 12s 7ms/step - loss: 0.0959 - accuracy: 0.9778 - val_loss: 0.1172 - val_accuracy: 0.9778\n",
      "Epoch 10/10\n",
      "1563/1563 [==============================] - 14s 9ms/step - loss: 0.0938 - accuracy: 0.9782 - val_loss: 0.1171 - val_accuracy: 0.9780\n"
     ]
    },
    {
     "data": {
      "text/plain": [
       "<keras.src.callbacks.History at 0x1746acee0>"
      ]
     },
     "execution_count": 38,
     "metadata": {},
     "output_type": "execute_result"
    }
   ],
   "source": [
    "model = get_mnist_model()\n",
    "model.compile(optimizer='rmsprop', loss='sparse_categorical_crossentropy', metrics=['accuracy'])\n",
    "model.fit(train_images, train_labels, epochs=10, callbacks=callback_lists, validation_data=(val_images, val_labels))"
   ]
  },
  {
   "cell_type": "code",
   "execution_count": 39,
   "id": "63dae891-75ff-44f2-8800-a70699c67cce",
   "metadata": {},
   "outputs": [
    {
     "data": {
      "text/plain": [
       "<keras.src.engine.functional.Functional at 0x29ec05b10>"
      ]
     },
     "execution_count": 39,
     "metadata": {},
     "output_type": "execute_result"
    }
   ],
   "source": [
    "model = keras.models.load_model('checkpoint_path.h5') # 저장된 가장 좋은 성능의 모델 호출\n",
    "model"
   ]
  },
  {
   "cell_type": "code",
   "execution_count": 40,
   "id": "18bc4c60-d8c2-4a8d-9a7e-cdb997034098",
   "metadata": {},
   "outputs": [],
   "source": [
    "# 사용자 정의 콜백\n",
    "from matplotlib import pyplot as plt\n",
    "\n",
    "class LossHistory(keras.callbacks.Callback): # keras의 Callback 클래스를 상속받아 사용자 정의 콜백 클래스를 만든다.\n",
    "    def on_train_begin(self, logs): # 모델 학습이 시작될 때, 호출되는 메서드\n",
    "        self.per_batch_losses = [] # 각 배치별 손실 값을 저장할 리스트\n",
    "\n",
    "    def on_batch_end(self, batch, logs): # 각 배치 학습이 끝날 때 호출되는 메서드\n",
    "        self.per_batch_losses.append(logs.get('loss')) # 리스트에 손실 값을 추가한다.\n",
    "\n",
    "    def on_epoch_end(self, epoch, logs): # 각 에포크 학습이 끝날 때 호출되는 메서드\n",
    "        plt.clf() # 이전 플롯을 지운다.\n",
    "        plt.plot(range(len(self.per_batch_losses)), self.per_batch_losses, label='Training loss for each batch')\n",
    "        plt.xlabel(f'Batch (epoch {epoch})')\n",
    "        plt.ylabel('Loss')\n",
    "        plt.legend()\n",
    "        plt.savefig(f'plot_at_epoch_{epoch}')\n",
    "        self.per_batch_losses = []"
   ]
  },
  {
   "cell_type": "code",
   "execution_count": 41,
   "id": "e8c854da-a61e-4834-bc35-1db208621249",
   "metadata": {},
   "outputs": [
    {
     "name": "stdout",
     "output_type": "stream",
     "text": [
      "Epoch 1/10\n",
      "1563/1563 [==============================] - 14s 9ms/step - loss: 0.2983 - accuracy: 0.9107 - val_loss: 0.1536 - val_accuracy: 0.9548\n",
      "Epoch 2/10\n",
      "1563/1563 [==============================] - 12s 8ms/step - loss: 0.1625 - accuracy: 0.9524 - val_loss: 0.1238 - val_accuracy: 0.9672\n",
      "Epoch 3/10\n",
      "1563/1563 [==============================] - 14s 9ms/step - loss: 0.1417 - accuracy: 0.9619 - val_loss: 0.1126 - val_accuracy: 0.9713\n",
      "Epoch 4/10\n",
      "1563/1563 [==============================] - 13s 8ms/step - loss: 0.1255 - accuracy: 0.9676 - val_loss: 0.1048 - val_accuracy: 0.9733\n",
      "Epoch 5/10\n",
      "1563/1563 [==============================] - 13s 8ms/step - loss: 0.1169 - accuracy: 0.9712 - val_loss: 0.1039 - val_accuracy: 0.9762\n",
      "Epoch 6/10\n",
      "1563/1563 [==============================] - 13s 8ms/step - loss: 0.1088 - accuracy: 0.9737 - val_loss: 0.1140 - val_accuracy: 0.9759\n",
      "Epoch 7/10\n",
      "1563/1563 [==============================] - 12s 8ms/step - loss: 0.1027 - accuracy: 0.9755 - val_loss: 0.1182 - val_accuracy: 0.9762\n",
      "Epoch 8/10\n",
      "1563/1563 [==============================] - 13s 8ms/step - loss: 0.1036 - accuracy: 0.9759 - val_loss: 0.1152 - val_accuracy: 0.9761\n",
      "Epoch 9/10\n",
      "1563/1563 [==============================] - 13s 9ms/step - loss: 0.0942 - accuracy: 0.9781 - val_loss: 0.1184 - val_accuracy: 0.9775\n",
      "Epoch 10/10\n",
      "1563/1563 [==============================] - 16s 10ms/step - loss: 0.0917 - accuracy: 0.9792 - val_loss: 0.1278 - val_accuracy: 0.9752\n"
     ]
    },
    {
     "data": {
      "text/plain": [
       "<keras.src.callbacks.History at 0x29f96c250>"
      ]
     },
     "execution_count": 41,
     "metadata": {},
     "output_type": "execute_result"
    },
    {
     "data": {
      "image/png": "[encoded data removed]",
      "text/plain": [
       "<Figure size 640x480 with 1 Axes>"
      ]
     },
     "metadata": {},
     "output_type": "display_data"
    }
   ],
   "source": [
    "model = get_mnist_model()\n",
    "model.compile(optimizer='rmsprop', loss='sparse_categorical_crossentropy', metrics=['accuracy'])\n",
    "model.fit(train_images, train_labels, epochs=10, callbacks=[LossHistory()], validation_data=(val_images, val_labels))"
   ]
  },
  {
   "cell_type": "code",
   "execution_count": 42,
   "id": "9466c970-eb11-4635-b606-657124c93738",
   "metadata": {},
   "outputs": [
    {
     "data": {
      "text/plain": [
       "((50000, 784), (50000,))"
      ]
     },
     "execution_count": 42,
     "metadata": {},
     "output_type": "execute_result"
    }
   ],
   "source": [
    "train_images.shape, train_labels.shape"
   ]
  },
  {
   "cell_type": "code",
   "execution_count": 43,
   "id": "30e72fb6-2682-4dea-b943-17eda6eb03b6",
   "metadata": {},
   "outputs": [
    {
     "name": "stdout",
     "output_type": "stream",
     "text": [
      "Epoch 1/10\n",
      "1563/1563 [==============================] - 20s 12ms/step - loss: 0.2913 - accuracy: 0.9128 - val_loss: 0.1520 - val_accuracy: 0.9573\n",
      "Epoch 2/10\n",
      "1563/1563 [==============================] - 17s 11ms/step - loss: 0.1639 - accuracy: 0.9543 - val_loss: 0.1245 - val_accuracy: 0.9654\n",
      "Epoch 3/10\n",
      "1563/1563 [==============================] - 15s 9ms/step - loss: 0.1396 - accuracy: 0.9624 - val_loss: 0.1075 - val_accuracy: 0.9716\n",
      "Epoch 4/10\n",
      "1563/1563 [==============================] - 15s 10ms/step - loss: 0.1238 - accuracy: 0.9678 - val_loss: 0.1091 - val_accuracy: 0.9729\n",
      "Epoch 5/10\n",
      "1563/1563 [==============================] - 15s 10ms/step - loss: 0.1173 - accuracy: 0.9699 - val_loss: 0.1101 - val_accuracy: 0.9745\n",
      "Epoch 6/10\n",
      "1563/1563 [==============================] - 14s 9ms/step - loss: 0.1072 - accuracy: 0.9730 - val_loss: 0.1029 - val_accuracy: 0.9773\n",
      "Epoch 7/10\n",
      "1563/1563 [==============================] - 15s 10ms/step - loss: 0.1075 - accuracy: 0.9741 - val_loss: 0.1057 - val_accuracy: 0.9762\n",
      "Epoch 8/10\n",
      "1563/1563 [==============================] - 15s 10ms/step - loss: 0.1036 - accuracy: 0.9764 - val_loss: 0.1128 - val_accuracy: 0.9783\n",
      "Epoch 9/10\n",
      "1563/1563 [==============================] - 16s 11ms/step - loss: 0.1000 - accuracy: 0.9770 - val_loss: 0.1165 - val_accuracy: 0.9775\n",
      "Epoch 10/10\n",
      "1563/1563 [==============================] - 13s 8ms/step - loss: 0.0947 - accuracy: 0.9781 - val_loss: 0.1080 - val_accuracy: 0.9789\n"
     ]
    },
    {
     "data": {
      "text/plain": [
       "<keras.src.callbacks.History at 0x29f96e860>"
      ]
     },
     "execution_count": 43,
     "metadata": {},
     "output_type": "execute_result"
    }
   ],
   "source": [
    "# 텐서보드 : 텐서보드 서버를 활용해서 웹 브라우저에서 시각화 결과를 확인할 수 있다.\n",
    "model = get_mnist_model()\n",
    "model.compile(optimizer='rmsprop', loss='sparse_categorical_crossentropy', metrics=['accuracy'])\n",
    "tensorboard = keras.callbacks.TensorBoard(log_dir='./tb_logs',)\n",
    "model.fit(train_images, train_labels, epochs=10, validation_data=(val_images, val_labels), callbacks=[tensorboard])"
   ]
  },
  {
   "cell_type": "code",
   "execution_count": 44,
   "id": "69f42228-0895-4b2a-8a99-0c43958dab7d",
   "metadata": {},
   "outputs": [
    {
     "name": "stdout",
     "output_type": "stream",
     "text": [
      "The tensorboard extension is already loaded. To reload it, use:\n",
      "  %reload_ext tensorboard\n"
     ]
    },
    {
     "data": {
      "text/plain": [
       "ERROR: Failed to launch TensorBoard (exited with 1).\n",
       "Contents of stderr:\n",
       "Traceback (most recent call last):\n",
       "  File \"/Users/jeon-yewon/miniforge3/lib/python3.10/site-packages/tensorboard/compat/__init__.py\", line 42, in tf\n",
       "    from tensorboard.compat import notf  # noqa: F401\n",
       "ImportError: cannot import name 'notf' from 'tensorboard.compat' (/Users/jeon-yewon/miniforge3/lib/python3.10/site-packages/tensorboard/compat/__init__.py)\n",
       "\n",
       "During handling of the above exception, another exception occurred:\n",
       "\n",
       "Traceback (most recent call last):\n",
       "  File \"/Users/jeon-yewon/miniforge3/bin/tensorboard\", line 8, in <module>\n",
       "    sys.exit(run_main())\n",
       "  File \"/Users/jeon-yewon/miniforge3/lib/python3.10/site-packages/tensorboard/main.py\", line 38, in run_main\n",
       "    main_lib.global_init()\n",
       "  File \"/Users/jeon-yewon/miniforge3/lib/python3.10/site-packages/tensorboard/main_lib.py\", line 50, in global_init\n",
       "    if getattr(tf, \"__version__\", \"stub\") == \"stub\":\n",
       "  File \"/Users/jeon-yewon/miniforge3/lib/python3.10/site-packages/tensorboard/lazy.py\", line 65, in __getattr__\n",
       "    return getattr(load_once(self), attr_name)\n",
       "  File \"/Users/jeon-yewon/miniforge3/lib/python3.10/site-packages/tensorboard/lazy.py\", line 97, in wrapper\n",
       "    cache[arg] = f(arg)\n",
       "  File \"/Users/jeon-yewon/miniforge3/lib/python3.10/site-packages/tensorboard/lazy.py\", line 50, in load_once\n",
       "    module = load_fn()\n",
       "  File \"/Users/jeon-yewon/miniforge3/lib/python3.10/site-packages/tensorboard/compat/__init__.py\", line 45, in tf\n",
       "    import tensorflow\n",
       "  File \"/Users/jeon-yewon/miniforge3/lib/python3.10/site-packages/tensorflow/__init__.py\", line 432, in <module>\n",
       "    _ll.load_library(_plugin_dir)\n",
       "  File \"/Users/jeon-yewon/miniforge3/lib/python3.10/site-packages/tensorflow/python/framework/load_library.py\", line 151, in load_library\n",
       "    py_tf.TF_LoadLibrary(lib)\n",
       "tensorflow.python.framework.errors_impl.NotFoundError: dlopen(/Users/jeon-yewon/miniforge3/lib/python3.10/site-packages/tensorflow-plugins/libmetal_plugin.dylib, 0x0006): symbol not found in flat namespace '__ZN10tensorflow8internal10LogMessage16VmoduleActivatedEPKci'"
      ]
     },
     "metadata": {},
     "output_type": "display_data"
    }
   ],
   "source": [
    "%load_ext tensorboard\n",
    "%tensorboard --logdir ./tb_logs"
   ]
  },
  {
   "cell_type": "code",
   "execution_count": 45,
   "id": "353c58c2-1f84-4f38-aa28-e111de0b6fea",
   "metadata": {},
   "outputs": [
    {
     "name": "stdout",
     "output_type": "stream",
     "text": [
      "결과 : 1.00\n"
     ]
    }
   ],
   "source": [
    "# 사용자 정의 훈련, 평가 루프\n",
    "# SparseCategoricalAccuracy : 분류 모델 평가 지표 (다중 클래스 분류, 타겟 레이블이 정수)\n",
    "metric = keras.metrics.SparseCategoricalAccuracy() # 매트릭 객체 생성\n",
    "targets = [0,1,2] # 타겟 레이블\n",
    "predictions = [[1,0,0], [0,1,0], [0,0,1]] # 예측 결과\n",
    "metric.update_state(targets, predictions) # 상태 업데이트\n",
    "current_result = metric.result()\n",
    "print(f'결과 : {current_result:.2f}')"
   ]
  },
  {
   "cell_type": "code",
   "execution_count": 46,
   "id": "40889177-ce37-4a1d-83f9-11b5930c8e3c",
   "metadata": {},
   "outputs": [
    {
     "name": "stdout",
     "output_type": "stream",
     "text": [
      "평균 지표: 2.00\n"
     ]
    }
   ],
   "source": [
    "values = [0,1,2,3,4]\n",
    "mean_tracker = keras.metrics.Mean() # Mean 메트릭\n",
    "for value in values:\n",
    "    mean_tracker.update_state(value)\n",
    "\n",
    "print(f'평균 지표: {mean_tracker.result():.2f}')"
   ]
  },
  {
   "cell_type": "code",
   "execution_count": 47,
   "id": "f02b9592-1497-4c56-808a-07ff802052ab",
   "metadata": {},
   "outputs": [
    {
     "name": "stderr",
     "output_type": "stream",
     "text": [
      "WARNING:absl:At this time, the v2.11+ optimizer `tf.keras.optimizers.RMSprop` runs slowly on M1/M2 Macs, please use the legacy Keras optimizer instead, located at `tf.keras.optimizers.legacy.RMSprop`.\n"
     ]
    }
   ],
   "source": [
    "model = get_mnist_model()\n",
    "\n",
    "loss_fn = keras.losses.SparseCategoricalCrossentropy() # 손실함수\n",
    "optimizer = keras.optimizers.RMSprop() # 최적화 알고리즘\n",
    "metrics = [keras.metrics.SparseCategoricalAccuracy()] # 메트릭\n",
    "loss_tracking_metric = keras.metrics.Mean() # 손실값의 평균"
   ]
  },
  {
   "cell_type": "code",
   "execution_count": 48,
   "id": "acb69ebf-3b24-49f2-ba42-a0c57c9f42ef",
   "metadata": {},
   "outputs": [],
   "source": [
    "# 단계 훈련 (한 단계)\n",
    "def train_step(inputs, targets):\n",
    "    with tf.GradientTape() as tape:\n",
    "        predictions = model(inputs, training=True) #예측 결과\n",
    "        loss = loss_fn(targets, predictions) # 손실 값\n",
    "\n",
    "    gradients = tape.gradient(loss, model.trainable_weights) # 손실 함수에 대한 모델 가중치의 gradient를 계산\n",
    "    optimizer.apply_gradients(zip(gradients, model.trainable_weights)) # gradient를 사용하여 모델 가중치를 업데이트\n",
    "\n",
    "    logs = {}\n",
    "    for metric in metrics:\n",
    "        metric.update_state(targets, predictions) # 메트릭 상태 업데이트\n",
    "        logs[metric.name] = metric.result() # 로그에 결과 저장\n",
    "\n",
    "    loss_tracking_metric.update_state(loss) # Mean 메트릭을 업데이트\n",
    "    logs['loss'] = loss_tracking_metric.result() # 평균 값을 계산\n",
    "    return logs"
   ]
  },
  {
   "cell_type": "code",
   "execution_count": 49,
   "id": "c923c23f-363a-47ab-a921-bca85fa7382e",
   "metadata": {},
   "outputs": [],
   "source": [
    "# 지표 재설정\n",
    "def reset_metrics():\n",
    "    for metric in metrics:\n",
    "        metric.reset_state() # 상태 초기화\n",
    "    loss_tracking_metric.reset_state() # 손실 평균 값 초기화"
   ]
  },
  {
   "cell_type": "code",
   "execution_count": 50,
   "id": "a926ce09-ff62-44c5-ac18-90dd3156906f",
   "metadata": {},
   "outputs": [
    {
     "name": "stdout",
     "output_type": "stream",
     "text": [
      "0번째 에포크 결과\n",
      "...sparse_categorical_accuracy: 0.9137\n",
      "...loss: 0.2885\n",
      "1번째 에포크 결과\n",
      "...sparse_categorical_accuracy: 0.9546\n",
      "...loss: 0.1576\n",
      "2번째 에포크 결과\n",
      "...sparse_categorical_accuracy: 0.9637\n",
      "...loss: 0.1286\n"
     ]
    }
   ],
   "source": [
    "import tensorflow as tf\n",
    "\n",
    "training_dataset = tf.data.Dataset.from_tensor_slices((train_images, train_labels)) # train 데이터를 TensorFlow의 Dataset 객체로 변환\n",
    "training_dataset = training_dataset.batch(32) # 배치 크기 설정\n",
    "epochs = 3\n",
    "for epoch in range(epochs):\n",
    "    reset_metrics()\n",
    "    for inputs_batch, targets_batch in training_dataset:\n",
    "        logs = train_step(inputs_batch, targets_batch)\n",
    "    print(f'{epoch}번째 에포크 결과')\n",
    "    for key, value in logs.items():\n",
    "        print(f'...{key}: {value:.4f}')"
   ]
  },
  {
   "cell_type": "code",
   "execution_count": 51,
   "id": "f6b4b663-6116-466e-a298-8768c9307fc2",
   "metadata": {},
   "outputs": [],
   "source": [
    "# 검증 데이터를 활용한 모델 성능 평가\n",
    "def test_step(inputs, targets):\n",
    "    predictions = model(inputs, training=False) # 예측값 생성\n",
    "    loss = loss_fn(targets, predictions) # 손실 계산\n",
    "\n",
    "    logs = {}\n",
    "    for metric in metrics:\n",
    "        metric.update_state(targets, predictions) # 메트릭 상태 업데이트\n",
    "        logs['val_' + metric.name] = metric.result()\n",
    "\n",
    "    loss_tracking_metric.update_state(loss) # 평균 손실 값\n",
    "    logs['val_loss'] = loss_tracking_metric.result()\n",
    "    return logs"
   ]
  },
  {
   "cell_type": "code",
   "execution_count": 52,
   "id": "dcf46280-a830-4559-a3e8-7f2f88ce911f",
   "metadata": {},
   "outputs": [
    {
     "name": "stdout",
     "output_type": "stream",
     "text": [
      "평가 결과\n",
      "...val_sparse_categorical_accuracy: 0.9682\n",
      "...val_loss: 0.1157\n"
     ]
    }
   ],
   "source": [
    "val_dataset = tf.data.Dataset.from_tensor_slices((val_images, val_labels))\n",
    "val_dataset = val_dataset.batch(32)\n",
    "reset_metrics()\n",
    "for inputs_batch, targets_batch in val_dataset:\n",
    "    logs = test_step(inputs_batch, targets_batch)\n",
    "print('평가 결과')\n",
    "for key,value in logs.items():\n",
    "    print(f'...{key}: {value:.4f}')"
   ]
  },
  {
   "cell_type": "markdown",
   "id": "b94a9c1a-d471-455f-858e-aa9a6f9afb56",
   "metadata": {},
   "source": [
    "## 데코레이터 (컴퓨터도 읽을 수 있는 메모)\n",
    "@tf.function 데코레이터 : 함수를 TensorFlow 그래프 모드 변환 (성능 향상, 자동 그래프 최적화, TPU/GPU 가속 지원)"
   ]
  },
  {
   "cell_type": "code",
   "execution_count": 53,
   "id": "828ac4b2-740b-46fa-b621-0f89bba14326",
   "metadata": {},
   "outputs": [],
   "source": [
    "@tf.function\n",
    "def test_step(inputs, targets):\n",
    "    predictions = model(inputs, training=False) # 예측값 생성\n",
    "    loss = loss_fn(targets, predictions) # 손실 계산\n",
    "\n",
    "    logs = {}\n",
    "    for metric in metrics:\n",
    "        metric.update_state(targets, predictions) # 메트릭 상태 업데이트\n",
    "        logs['val_' + metric.name] = metric.result()\n",
    "\n",
    "    loss_tracking_metric.update_state(loss) # 평균 손실 값\n",
    "    logs['val_loss'] = loss_tracking_metric.result()\n",
    "    return logs"
   ]
  },
  {
   "cell_type": "code",
   "execution_count": 54,
   "id": "5b238c19-d154-4760-b1ff-9da21ba2d9c6",
   "metadata": {},
   "outputs": [
    {
     "name": "stdout",
     "output_type": "stream",
     "text": [
      "평가 결과\n",
      "...val_sparse_categorical_accuracy: 0.9682\n",
      "...val_loss: 0.1157\n"
     ]
    }
   ],
   "source": [
    "val_dataset = tf.data.Dataset.from_tensor_slices((val_images, val_labels))\n",
    "val_dataset = val_dataset.batch(32)\n",
    "reset_metrics()\n",
    "for inputs_batch, targets_batch in val_dataset:\n",
    "    logs = test_step(inputs_batch, targets_batch)\n",
    "print('평가 결과')\n",
    "for key,value in logs.items():\n",
    "    print(f'...{key}: {value:.4f}')"
   ]
  },
  {
   "cell_type": "code",
   "execution_count": 55,
   "id": "4a28de5b-d74c-4c19-9988-023b90c37ef4",
   "metadata": {},
   "outputs": [],
   "source": [
    "# fit 메소드를 활용하여 사용자 정의 훈련 스탭\n",
    "loss_fn = keras.losses.SparseCategoricalCrossentropy() # 손실함수\n",
    "loss_tracker = keras.metrics.Mean(name='loss') # 손실 평균\n",
    "\n",
    "class CustomModel(keras.Model): # 사용자 정의 모델\n",
    "    def train_step(self, data): # 학습 단계\n",
    "        inputs, targets = data # 입력 데이터, 타겟데이터\n",
    "        with tf.GradientTape() as tape: # 그레이언트 테잎을 통해 손실 계산\n",
    "            predictions = self(inputs, training=True) # 예측\n",
    "            loss = loss_fn(targets, predictions)\n",
    "        gradients = tape.gradient(loss, self.trainable_weights)\n",
    "        self.optimizer.apply_gradients(zip(gradients, self.trainable_weights))\n",
    "\n",
    "        loss_tracker.update_state(loss)\n",
    "        return {'loss': loss_tracker.result()}\n",
    "\n",
    "    # property 데코레이터 : 클래스 내부 속성을 마치 메소드처럼 사용할 수 있게 해주는 기능\n",
    "    @property \n",
    "    def metrics(self):\n",
    "        return [loss_tracker]"
   ]
  },
  {
   "cell_type": "code",
   "execution_count": 56,
   "id": "1365e634-0f60-4454-9e07-591b993747ba",
   "metadata": {},
   "outputs": [
    {
     "name": "stderr",
     "output_type": "stream",
     "text": [
      "WARNING:absl:At this time, the v2.11+ optimizer `tf.keras.optimizers.RMSprop` runs slowly on M1/M2 Macs, please use the legacy Keras optimizer instead, located at `tf.keras.optimizers.legacy.RMSprop`.\n",
      "WARNING:absl:There is a known slowdown when using v2.11+ Keras optimizers on M1/M2 Macs. Falling back to the legacy Keras optimizer, i.e., `tf.keras.optimizers.legacy.RMSprop`.\n"
     ]
    },
    {
     "name": "stdout",
     "output_type": "stream",
     "text": [
      "Epoch 1/3\n",
      "1563/1563 [==============================] - 14s 9ms/step - loss: 0.2922\n",
      "Epoch 2/3\n",
      "1563/1563 [==============================] - 13s 8ms/step - loss: 0.1644\n",
      "Epoch 3/3\n",
      "1563/1563 [==============================] - 13s 8ms/step - loss: 0.1336\n"
     ]
    },
    {
     "data": {
      "text/plain": [
       "<keras.src.callbacks.History at 0x29ec9d720>"
      ]
     },
     "execution_count": 56,
     "metadata": {},
     "output_type": "execute_result"
    }
   ],
   "source": [
    "inputs = keras.Input(shape=(28*28,)) # shape(28*28) = 784 (1d), shape(28*28,) = (1,784) (2d)\n",
    "features = layers.Dense(512, activation='relu')(inputs)\n",
    "features = layers.Dropout(0.5)(features)\n",
    "outputs = layers.Dense(10, activation='softmax')(features)\n",
    "model = CustomModel(inputs, outputs)\n",
    "\n",
    "model.compile(optimizer=keras.optimizers.RMSprop())\n",
    "model.fit(train_images, train_labels, epochs=3)"
   ]
  },
  {
   "cell_type": "code",
   "execution_count": 57,
   "id": "dae0a720-019b-416a-a012-34c78a908ebe",
   "metadata": {},
   "outputs": [],
   "source": [
    "class CustomModel(keras.Model):\n",
    "    def train_step(self, data):\n",
    "        inputs, targets = data\n",
    "        with tf.GradientTape() as tape:\n",
    "            predictions = self(inputs, training=True)\n",
    "            loss = self.compiled_loss(targets, predictions)\n",
    "        gradients = tape.gradient(loss, self.trainable_weights)\n",
    "        self.optimizer.apply_gradients(zip(gradients, self.trainable_weights))\n",
    "        self.compiled_metrics.update_state(targets, predictions)\n",
    "        return {m.name: m.result() for m in self.metrics}"
   ]
  },
  {
   "cell_type": "code",
   "execution_count": 58,
   "id": "366ee635-94ff-4dd5-85d2-4ca1dd0d8856",
   "metadata": {},
   "outputs": [
    {
     "name": "stderr",
     "output_type": "stream",
     "text": [
      "WARNING:absl:At this time, the v2.11+ optimizer `tf.keras.optimizers.RMSprop` runs slowly on M1/M2 Macs, please use the legacy Keras optimizer instead, located at `tf.keras.optimizers.legacy.RMSprop`.\n",
      "WARNING:absl:There is a known slowdown when using v2.11+ Keras optimizers on M1/M2 Macs. Falling back to the legacy Keras optimizer, i.e., `tf.keras.optimizers.legacy.RMSprop`.\n"
     ]
    },
    {
     "name": "stdout",
     "output_type": "stream",
     "text": [
      "Epoch 1/5\n",
      "1563/1563 [==============================] - 13s 8ms/step - loss: 0.2920 - sparse_categorical_accuracy: 0.9139\n",
      "Epoch 2/5\n",
      "1563/1563 [==============================] - 6s 4ms/step - loss: 0.1647 - sparse_categorical_accuracy: 0.9535\n",
      "Epoch 3/5\n",
      "1563/1563 [==============================] - 7s 4ms/step - loss: 0.1373 - sparse_categorical_accuracy: 0.9626\n",
      "Epoch 4/5\n",
      "1563/1563 [==============================] - 11s 7ms/step - loss: 0.1278 - sparse_categorical_accuracy: 0.9678\n",
      "Epoch 5/5\n",
      "1563/1563 [==============================] - 9s 6ms/step - loss: 0.1192 - sparse_categorical_accuracy: 0.9702\n"
     ]
    },
    {
     "data": {
      "text/plain": [
       "<keras.src.callbacks.History at 0x29eba8cd0>"
      ]
     },
     "execution_count": 58,
     "metadata": {},
     "output_type": "execute_result"
    }
   ],
   "source": [
    "inputs = keras.Input(shape=(28*28,))\n",
    "features = layers.Dense(512, activation='relu')(inputs)\n",
    "features = layers.Dropout(0.5)(features)\n",
    "outputs = layers.Dense(10, activation='softmax')(features)\n",
    "model = CustomModel(inputs, outputs)\n",
    "\n",
    "model.compile(optimizer=keras.optimizers.RMSprop(),\n",
    "              loss=keras.losses.SparseCategoricalCrossentropy(),\n",
    "              metrics=[keras.metrics.SparseCategoricalAccuracy()])\n",
    "\n",
    "model.fit(train_images, train_labels, epochs = 5)"
   ]
  },
  {
   "cell_type": "code",
   "execution_count": 59,
   "id": "9c6e7d3f-58da-4ccc-9586-7a6d03c73fd9",
   "metadata": {},
   "outputs": [],
   "source": [
    "# 사용자 정의 지표\n",
    "class RootMeanSquaredError(keras.metrics.Metric): # 메트릭을 상속받아 RMSE 계산\n",
    "    def __init__(self, name='rmse', **kwargs):\n",
    "        super().__init__(name=name, **kwargs)\n",
    "        self.mse_sum = self.add_weight(name='mse_sum', initializer='zeros') # 누적 합\n",
    "        self.total_samples = self.add_weight(name='total_samples', initializer='zeros', dtype='int32') # 샘플 수\n",
    "\n",
    "    def update_state(self, y_true, y_pred, sample_weight=None):\n",
    "        y_true = tf.one_hot(y_true, depth=tf.shape(y_pred)[1]) # y_true를 원-핫 인코딩 변환\n",
    "        mse = tf.reduce_sum(tf.square(y_true - y_pred)) # 실제 값과 예측 값 차이의 제곱을 계산\n",
    "        self.mse_sum.assign_add(mse) # 계산 누적\n",
    "        num_samples = tf.shape(y_pred)[0]\n",
    "        self.total_samples.assign_add(num_samples) # 샘플 수 계산\n",
    "\n",
    "    def result(self):\n",
    "        return tf.sqrt(self.mse_sum / tf.cast(self.total_samples, tf.float32)) # RMSE 계산\n",
    "\n",
    "    def reset_state(self): # 초기화\n",
    "        self.mse_sum.assign(0.)\n",
    "        self.total_samples.assign(0)"
   ]
  },
  {
   "cell_type": "code",
   "execution_count": 60,
   "id": "d951d694-898b-49ae-a28d-f5709b6f9979",
   "metadata": {},
   "outputs": [
    {
     "name": "stdout",
     "output_type": "stream",
     "text": [
      "Epoch 1/3\n",
      "1563/1563 [==============================] - 13s 8ms/step - loss: 0.2963 - accuracy: 0.9134 - rmse: 7.1833 - val_loss: 0.1438 - val_accuracy: 0.9585 - val_rmse: 7.3586\n",
      "Epoch 2/3\n",
      "1563/1563 [==============================] - 15s 10ms/step - loss: 0.1653 - accuracy: 0.9540 - rmse: 7.3551 - val_loss: 0.1216 - val_accuracy: 0.9668 - val_rmse: 7.4057\n",
      "Epoch 3/3\n",
      "1563/1563 [==============================] - 14s 9ms/step - loss: 0.1386 - accuracy: 0.9629 - rmse: 7.3862 - val_loss: 0.1125 - val_accuracy: 0.9720 - val_rmse: 7.4216\n",
      "313/313 [==============================] - 1s 2ms/step - loss: 0.1045 - accuracy: 0.9737 - rmse: 7.4353\n"
     ]
    }
   ],
   "source": [
    "model = get_mnist_model()\n",
    "model.compile(optimizer='rmsprop', loss='sparse_categorical_crossentropy', metrics=['accuracy', RootMeanSquaredError()])\n",
    "model.fit(train_images, train_labels, epochs=3, validation_data=(val_images, val_labels))\n",
    "test_metrics = model.evaluate(test_images, test_labels)"
   ]
  }
 ],
 "metadata": {
  "kernelspec": {
   "display_name": "Python (tensorflow)",
   "language": "python",
   "name": "tensorflow"
  },
  "language_info": {
   "codemirror_mode": {
    "name": "ipython",
    "version": 3
   },
   "file_extension": ".py",
   "mimetype": "text/x-python",
   "name": "python",
   "nbconvert_exporter": "python",
   "pygments_lexer": "ipython3",
   "version": "3.10.14"
  }
 },
 "nbformat": 4,
 "nbformat_minor": 5
}
