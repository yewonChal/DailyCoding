{
 "cells": [
  {
   "cell_type": "code",
   "execution_count": 1,
   "id": "d9f26b7a-7717-4392-82e8-91cb2262f46d",
   "metadata": {},
   "outputs": [],
   "source": [
    "# Anaconda prompt에서 python -m pip install tensorflow==2.13.0"
   ]
  },
  {
   "cell_type": "markdown",
   "id": "fbd072b2-7a2c-48ee-a8a1-63ce2cf9a77e",
   "metadata": {},
   "source": [
    "# tensorflow \n",
    ": 머신러닝과 딥러닝을 위한 오픈소스 라이브러리\n",
    "- tensorflow는 Tensor 객체를 사용한다. (배열이나 행렬의 특수한 형태)\n",
    "\n",
    "- pytorch : 동적 그래프 구조 (모델을 즉시 실행) - 디버깅이 쉽지만 실행 속도가 느릴 수 있다.\n",
    "- tensorflow : 정적 그래프 구조 (모델을 정의한 후 실행) - 실행 속도가 빠르다. 디버깅이 어려울 수 있다.\n",
    "\n",
    "- pytorch(빠른 프로토타입) < tensorflow(대규모 프로젝트, GPU 가속화 지원, 오픈 소스 프로젝트)"
   ]
  },
  {
   "cell_type": "code",
   "execution_count": 2,
   "id": "66225052-c485-439b-83b4-56517298ce0c",
   "metadata": {},
   "outputs": [],
   "source": [
    "from tensorflow.keras.datasets import mnist"
   ]
  },
  {
   "cell_type": "code",
   "execution_count": 6,
   "id": "aff4c0f7-3f91-4d72-a678-4a9d5ad7c45b",
   "metadata": {},
   "outputs": [],
   "source": [
    "(train_images, train_labels), (test_images, test_labels) = mnist.load_data()"
   ]
  },
  {
   "cell_type": "code",
   "execution_count": 7,
   "id": "6cf8ff11-92aa-48b1-b802-b5babe669793",
   "metadata": {},
   "outputs": [
    {
     "data": {
      "text/plain": [
       "(60000, 28, 28)"
      ]
     },
     "execution_count": 7,
     "metadata": {},
     "output_type": "execute_result"
    }
   ],
   "source": [
    "train_images.shape"
   ]
  },
  {
   "cell_type": "code",
   "execution_count": 8,
   "id": "de1eed9a-9f75-461e-aa6a-f60767e16b8b",
   "metadata": {},
   "outputs": [
    {
     "data": {
      "text/plain": [
       "60000"
      ]
     },
     "execution_count": 8,
     "metadata": {},
     "output_type": "execute_result"
    }
   ],
   "source": [
    "len(train_labels)"
   ]
  },
  {
   "cell_type": "code",
   "execution_count": 9,
   "id": "769e2492-b29c-407a-8258-f14b05b3ff5d",
   "metadata": {},
   "outputs": [
    {
     "data": {
      "text/plain": [
       "array([5, 0, 4, ..., 5, 6, 8], dtype=uint8)"
      ]
     },
     "execution_count": 9,
     "metadata": {},
     "output_type": "execute_result"
    }
   ],
   "source": [
    "train_labels"
   ]
  },
  {
   "cell_type": "code",
   "execution_count": 10,
   "id": "d7771dfe-901e-43af-ac4b-76167220be63",
   "metadata": {},
   "outputs": [],
   "source": [
    "from tensorflow import keras\n",
    "from tensorflow.keras import layers\n",
    "\n",
    "# 신경망 구조\n",
    "model = keras.Sequential([ # Keras에서 제공하는 신경망 모델 생성 함수\n",
    "    layers.Dense(512, activation='relu'), # Dense layer(완전 연결 계층) 512개의 뉴런, 활성화 함수는 ReLU 함수\n",
    "    layers.Dense(10, activation='softmax') # Dense layer 10개의 뉴런, 활성화함수는 softmax 함수\n",
    "])"
   ]
  },
  {
   "cell_type": "code",
   "execution_count": 11,
   "id": "4f7958bf-b8c4-4dfb-9925-7a07c71e577d",
   "metadata": {},
   "outputs": [],
   "source": [
    "# 컴파일 단계\n",
    "# optimizer : 최적화 알고리즘 (Root Mean Square Propagation : 적응형 학습)\n",
    "# loss : 손실 함수 (sparse_categorical_crossentropy : 정수 레이블)\n",
    "# merics : 성능 지표 (정확도)\n",
    "model.compile(optimizer='rmsprop', loss='sparse_categorical_crossentropy', metrics=['accuracy'])"
   ]
  },
  {
   "cell_type": "code",
   "execution_count": 12,
   "id": "41c0d2a9-b2d7-4bcf-988e-b2b88c2ca58e",
   "metadata": {},
   "outputs": [],
   "source": [
    "# 이미지 데이터\n",
    "train_images = train_images.reshape((60000, 28*28)) # 2차원 이미지를 1차원 벡터로 변환\n",
    "train_images = train_images.astype('float32') / 255 # 픽셀 값을 0 ~ 1까지의 실수로 정규화\n",
    "test_images = test_images.reshape((10000, 28*28))\n",
    "test_images = test_images.astype('float32') / 255"
   ]
  },
  {
   "cell_type": "code",
   "execution_count": 13,
   "id": "898f509f-f9d5-4315-8215-45f645d32fe2",
   "metadata": {},
   "outputs": [
    {
     "name": "stdout",
     "output_type": "stream",
     "text": [
      "Epoch 1/5\n",
      "469/469 [==============================] - 2s 3ms/step - loss: 0.2516 - accuracy: 0.9267\n",
      "Epoch 2/5\n",
      "469/469 [==============================] - 4s 9ms/step - loss: 0.1025 - accuracy: 0.9699\n",
      "Epoch 3/5\n",
      "469/469 [==============================] - 5s 10ms/step - loss: 0.0679 - accuracy: 0.9794\n",
      "Epoch 4/5\n",
      "469/469 [==============================] - 5s 10ms/step - loss: 0.0498 - accuracy: 0.9849\n",
      "Epoch 5/5\n",
      "469/469 [==============================] - 6s 12ms/step - loss: 0.0374 - accuracy: 0.9883\n"
     ]
    },
    {
     "data": {
      "text/plain": [
       "<keras.src.callbacks.History at 0x14d0f5f90>"
      ]
     },
     "execution_count": 13,
     "metadata": {},
     "output_type": "execute_result"
    }
   ],
   "source": [
    "# 모델 훈련\n",
    "# epochs : 전체 데이터 셋을 몇 번 반복 학습할 것인지\n",
    "# batch_size : 한번 학습에 몇 개의 샘플을 사용할 것인지\n",
    "model.fit(train_images, train_labels, epochs=5, batch_size=128) "
   ]
  },
  {
   "cell_type": "code",
   "execution_count": 14,
   "id": "9fc89283-8925-4e16-a1e7-991eb62b9fc8",
   "metadata": {},
   "outputs": [
    {
     "name": "stdout",
     "output_type": "stream",
     "text": [
      "1/1 [==============================] - 0s 45ms/step\n"
     ]
    },
    {
     "data": {
      "text/plain": [
       "array([1.5125021e-08, 1.1281274e-10, 8.7930539e-06, 1.8440527e-04,\n",
       "       1.5575114e-11, 1.4360928e-07, 4.6364041e-13, 9.9980229e-01,\n",
       "       9.4928305e-07, 3.4451600e-06], dtype=float32)"
      ]
     },
     "execution_count": 14,
     "metadata": {},
     "output_type": "execute_result"
    }
   ],
   "source": [
    "# 예측\n",
    "test_digits = test_images[0:10]\n",
    "predictions = model.predict(test_digits)\n",
    "predictions[0]"
   ]
  },
  {
   "cell_type": "code",
   "execution_count": 15,
   "id": "59bed67a-f738-4346-8760-d623d660e43e",
   "metadata": {},
   "outputs": [
    {
     "data": {
      "text/plain": [
       "7"
      ]
     },
     "execution_count": 15,
     "metadata": {},
     "output_type": "execute_result"
    }
   ],
   "source": [
    "predictions[0].argmax()"
   ]
  },
  {
   "cell_type": "code",
   "execution_count": 16,
   "id": "6487f698-d4f5-48eb-9096-3d656ebc821e",
   "metadata": {},
   "outputs": [
    {
     "data": {
      "text/plain": [
       "0.9998023"
      ]
     },
     "execution_count": 16,
     "metadata": {},
     "output_type": "execute_result"
    }
   ],
   "source": [
    "predictions[0][7]"
   ]
  },
  {
   "cell_type": "code",
   "execution_count": 17,
   "id": "fe4c1f16-508a-4d50-a937-2d945076a679",
   "metadata": {},
   "outputs": [
    {
     "data": {
      "text/plain": [
       "7"
      ]
     },
     "execution_count": 17,
     "metadata": {},
     "output_type": "execute_result"
    }
   ],
   "source": [
    "test_labels[0]"
   ]
  },
  {
   "cell_type": "code",
   "execution_count": 18,
   "id": "1a4dc84e-7103-4c1e-bfc1-2df63bf376a7",
   "metadata": {},
   "outputs": [
    {
     "name": "stdout",
     "output_type": "stream",
     "text": [
      "313/313 [==============================] - 0s 683us/step - loss: 0.0611 - accuracy: 0.9807\n",
      "정확도 : 0.9807000160217285\n"
     ]
    }
   ],
   "source": [
    "# 모델 평가\n",
    "# evaluate 함수 : 손실값과 정확도\n",
    "test_loss, test_acc = model.evaluate(test_images, test_labels)\n",
    "print(f'정확도 : {test_acc}')"
   ]
  },
  {
   "cell_type": "code",
   "execution_count": 19,
   "id": "3ea28e85-2993-4ff9-af79-41de7133eba2",
   "metadata": {},
   "outputs": [],
   "source": [
    "# 스칼라(랭크-0 텐서) : 하나의 숫자 (1, 2.5)\n",
    "# 벡터(랭크-1 텐서) : 숫자의 일차원 배열 ([1,2,3,4,5])\n",
    "# 행렬(랭크-2 텐서) : 숫자의 이차원 배열 ([1,2],[3,4])\n",
    "# 랭크-3 텐서 ..."
   ]
  },
  {
   "cell_type": "code",
   "execution_count": 20,
   "id": "786e1e61-a986-49c8-b569-9f228199b1d3",
   "metadata": {},
   "outputs": [
    {
     "data": {
      "text/plain": [
       "2"
      ]
     },
     "execution_count": 20,
     "metadata": {},
     "output_type": "execute_result"
    }
   ],
   "source": [
    "train_images.ndim"
   ]
  },
  {
   "cell_type": "code",
   "execution_count": 21,
   "id": "c5fa17bc-37f8-459d-9aca-cbd5433b8ac7",
   "metadata": {},
   "outputs": [],
   "source": [
    "(train_images, train_labels), (test_images, test_labels) = mnist.load_data()"
   ]
  },
  {
   "cell_type": "code",
   "execution_count": 22,
   "id": "f61a68c4-4b9f-4a82-82d2-a6b96f9d4f8c",
   "metadata": {},
   "outputs": [
    {
     "data": {
      "text/plain": [
       "3"
      ]
     },
     "execution_count": 22,
     "metadata": {},
     "output_type": "execute_result"
    }
   ],
   "source": [
    "train_images.ndim"
   ]
  },
  {
   "cell_type": "code",
   "execution_count": 23,
   "id": "6d6e17a2-4d7c-4210-b5ae-c693afbcc615",
   "metadata": {},
   "outputs": [
    {
     "data": {
      "image/png": "[encoded data removed]",
      "text/plain": [
       "<Figure size 640x480 with 1 Axes>"
      ]
     },
     "metadata": {},
     "output_type": "display_data"
    }
   ],
   "source": [
    "import matplotlib.pyplot as plt\n",
    "digit = train_images[1]\n",
    "plt.imshow(digit, cmap=plt.cm.binary)\n",
    "plt.show()"
   ]
  },
  {
   "cell_type": "code",
   "execution_count": 24,
   "id": "d8ce802f-d284-438a-9a44-bbc57c771d9c",
   "metadata": {},
   "outputs": [],
   "source": [
    "import numpy as np"
   ]
  },
  {
   "cell_type": "code",
   "execution_count": 25,
   "id": "6e31ab30-d463-4ff2-8d2b-b8787e997713",
   "metadata": {},
   "outputs": [],
   "source": [
    "import time"
   ]
  },
  {
   "cell_type": "code",
   "execution_count": 26,
   "id": "2c30d89d-8479-49b7-938d-4364bda48aaf",
   "metadata": {},
   "outputs": [],
   "source": [
    "import pandas as pd"
   ]
  },
  {
   "cell_type": "code",
   "execution_count": 27,
   "id": "8a76841c-ad4d-4d41-84b6-ab3d705fd5c8",
   "metadata": {},
   "outputs": [
    {
     "data": {
      "text/plain": [
       "0"
      ]
     },
     "execution_count": 27,
     "metadata": {},
     "output_type": "execute_result"
    }
   ],
   "source": [
    "train_labels[1]"
   ]
  },
  {
   "cell_type": "code",
   "execution_count": 28,
   "id": "c9729489-daf2-415f-ab45-69b1a4e82f77",
   "metadata": {},
   "outputs": [
    {
     "data": {
      "text/plain": [
       "(90, 28, 28)"
      ]
     },
     "execution_count": 28,
     "metadata": {},
     "output_type": "execute_result"
    }
   ],
   "source": [
    "my_slice = train_images[10:100]\n",
    "my_slice.shape"
   ]
  },
  {
   "cell_type": "code",
   "execution_count": 29,
   "id": "0ee94fff-4183-4e1b-aa52-3b5b366e15cb",
   "metadata": {},
   "outputs": [
    {
     "data": {
      "text/plain": [
       "(90, 28, 28)"
      ]
     },
     "execution_count": 29,
     "metadata": {},
     "output_type": "execute_result"
    }
   ],
   "source": [
    "my_slice = train_images[10:100, :, :]\n",
    "my_slice.shape"
   ]
  },
  {
   "cell_type": "code",
   "execution_count": 30,
   "id": "aef342a3-aa83-43d9-a877-87b7d059ef3b",
   "metadata": {},
   "outputs": [
    {
     "data": {
      "text/plain": [
       "(90, 28, 28)"
      ]
     },
     "execution_count": 30,
     "metadata": {},
     "output_type": "execute_result"
    }
   ],
   "source": [
    "my_slice = train_images[10:100, 0:28, 0:28]\n",
    "my_slice.shape"
   ]
  },
  {
   "cell_type": "code",
   "execution_count": 31,
   "id": "68edbd94-4985-4590-a23a-cb28c19d8486",
   "metadata": {},
   "outputs": [
    {
     "data": {
      "text/plain": [
       "(60000, 14, 14)"
      ]
     },
     "execution_count": 31,
     "metadata": {},
     "output_type": "execute_result"
    }
   ],
   "source": [
    "my_slice = train_images[:, 14:, 14:]\n",
    "my_slice.shape"
   ]
  },
  {
   "cell_type": "code",
   "execution_count": 32,
   "id": "09b5dfd5-7b19-4d6d-a3e7-aa6306aea85f",
   "metadata": {},
   "outputs": [
    {
     "data": {
      "text/plain": [
       "(60000, 14, 14)"
      ]
     },
     "execution_count": 32,
     "metadata": {},
     "output_type": "execute_result"
    }
   ],
   "source": [
    "my_slice = train_images[:, 7:-7, 7:-7]\n",
    "my_slice.shape"
   ]
  },
  {
   "cell_type": "raw",
   "id": "2da3d2ae-8e68-4660-a33e-76740c8a6956",
   "metadata": {},
   "source": [
    "# 배치 데이터 : 훈련 데이터셋에서 선택된 일부 샘플 (모델 학습시 사용)\n",
    "모델 학습시 전체 데이터 셋을 한번에 사용하는 것이 아니라 배치 단위로 나누어 메모리 효율성과 일반화 성능을 향상시킨다."
   ]
  },
  {
   "cell_type": "code",
   "execution_count": 34,
   "id": "f828bd37-f857-49c2-a552-086f2c00a00d",
   "metadata": {},
   "outputs": [],
   "source": [
    "batch = train_images[:128] # 0~127"
   ]
  },
  {
   "cell_type": "code",
   "execution_count": 35,
   "id": "3d015fce-aa4f-4c07-8938-b828d790b1ec",
   "metadata": {},
   "outputs": [],
   "source": [
    "batch = train_images[128:256] # 128 ~ 255"
   ]
  },
  {
   "cell_type": "code",
   "execution_count": 36,
   "id": "dd330391-a1c2-46dd-a75f-1fc1ddcfa1d5",
   "metadata": {},
   "outputs": [],
   "source": [
    "n = 2\n",
    "batch = train_images[128 * n : 128 * (n+1)] # 256 ~ 383"
   ]
  },
  {
   "cell_type": "code",
   "execution_count": 37,
   "id": "5897f5c2-66e6-42fc-a654-45e31697582c",
   "metadata": {},
   "outputs": [
    {
     "name": "stdout",
     "output_type": "stream",
     "text": [
      "tf.Tensor(\n",
      "[[1.]\n",
      " [1.]], shape=(2, 1), dtype=float32)\n"
     ]
    }
   ],
   "source": [
    "import tensorflow as tf\n",
    "\n",
    "x = tf.ones(shape=(2,1))\n",
    "print(x)"
   ]
  },
  {
   "cell_type": "code",
   "execution_count": 38,
   "id": "5e2c31d7-2017-4d3d-a71b-7b0c6f7cdacf",
   "metadata": {},
   "outputs": [
    {
     "name": "stdout",
     "output_type": "stream",
     "text": [
      "tf.Tensor(\n",
      "[[0.]\n",
      " [0.]], shape=(2, 1), dtype=float32)\n"
     ]
    }
   ],
   "source": [
    "x = tf.zeros(shape=(2, 1))\n",
    "print(x)"
   ]
  },
  {
   "cell_type": "code",
   "execution_count": 39,
   "id": "353800e5-d9b6-4ac0-82ab-9aa260ef791d",
   "metadata": {},
   "outputs": [
    {
     "name": "stdout",
     "output_type": "stream",
     "text": [
      "tf.Tensor(\n",
      "[[-0.24588989]\n",
      " [ 0.7118738 ]\n",
      " [ 0.29140806]], shape=(3, 1), dtype=float32)\n"
     ]
    }
   ],
   "source": [
    "x = tf.random.normal(shape=(3,1), mean=0, stddev=1)\n",
    "print(x)"
   ]
  },
  {
   "cell_type": "code",
   "execution_count": 40,
   "id": "de820e8b-f3c2-4b7f-8edd-14afb63f4405",
   "metadata": {},
   "outputs": [
    {
     "name": "stdout",
     "output_type": "stream",
     "text": [
      "tf.Tensor(\n",
      "[[0.34668243]\n",
      " [0.4962486 ]\n",
      " [0.20709848]], shape=(3, 1), dtype=float32)\n"
     ]
    }
   ],
   "source": [
    "x = tf.random.uniform(shape=(3,1), minval=0, maxval=1) # 0 ~ 1 사이의 균일 분포 난수\n",
    "print(x)"
   ]
  },
  {
   "cell_type": "code",
   "execution_count": 41,
   "id": "43ab8089-1e3a-4dd3-94f8-36b38fc1b731",
   "metadata": {},
   "outputs": [
    {
     "name": "stdout",
     "output_type": "stream",
     "text": [
      "[[0. 1.]\n",
      " [1. 1.]]\n"
     ]
    }
   ],
   "source": [
    "import numpy as np\n",
    "\n",
    "x = np.ones(shape=(2,2))\n",
    "x[0, 0] = 0.\n",
    "print(x)"
   ]
  },
  {
   "cell_type": "code",
   "execution_count": 42,
   "id": "187f1c93-5de9-453e-9b09-250ff224e6c4",
   "metadata": {},
   "outputs": [
    {
     "name": "stdout",
     "output_type": "stream",
     "text": [
      "<tf.Variable 'Variable:0' shape=(2, 2) dtype=float32, numpy=\n",
      "array([[-0.28070304,  1.4693279 ],\n",
      "       [-1.6149826 , -1.2590082 ]], dtype=float32)>\n"
     ]
    }
   ],
   "source": [
    "# 텐서플로 변수\n",
    "v = tf.Variable(initial_value = tf.random.normal(shape=(2,2)))\n",
    "print(v)"
   ]
  },
  {
   "cell_type": "code",
   "execution_count": 43,
   "id": "67c4f8c0-deba-49b0-81c8-d07a4a052cec",
   "metadata": {},
   "outputs": [
    {
     "data": {
      "text/plain": [
       "<tf.Variable 'UnreadVariable' shape=(2, 2) dtype=float32, numpy=\n",
       "array([[0., 1.],\n",
       "       [1., 1.]], dtype=float32)>"
      ]
     },
     "execution_count": 43,
     "metadata": {},
     "output_type": "execute_result"
    }
   ],
   "source": [
    "# 텐서플로 변수에 값 할당\n",
    "v.assign(x) "
   ]
  },
  {
   "cell_type": "code",
   "execution_count": 44,
   "id": "e0fd362b-565a-4f45-8425-a7f51aa91370",
   "metadata": {},
   "outputs": [
    {
     "data": {
      "text/plain": [
       "<tf.Variable 'UnreadVariable' shape=(3, 1) dtype=float32, numpy=\n",
       "array([[1.],\n",
       "       [1.],\n",
       "       [1.]], dtype=float32)>"
      ]
     },
     "execution_count": 44,
     "metadata": {},
     "output_type": "execute_result"
    }
   ],
   "source": [
    "v = tf.Variable(initial_value = tf.random.normal(shape=(3,1)))\n",
    "v.assign(tf.ones((3,1)))"
   ]
  },
  {
   "cell_type": "code",
   "execution_count": 45,
   "id": "1052aace-d216-4c12-afa3-6ff193338ec0",
   "metadata": {},
   "outputs": [
    {
     "data": {
      "text/plain": [
       "<tf.Variable 'UnreadVariable' shape=(3, 1) dtype=float32, numpy=\n",
       "array([[3.],\n",
       "       [1.],\n",
       "       [1.]], dtype=float32)>"
      ]
     },
     "execution_count": 45,
     "metadata": {},
     "output_type": "execute_result"
    }
   ],
   "source": [
    "v[0, 0].assign(3.)"
   ]
  },
  {
   "cell_type": "code",
   "execution_count": 46,
   "id": "26427a8d-4ad0-44c8-bb71-88638baafd88",
   "metadata": {},
   "outputs": [
    {
     "data": {
      "text/plain": [
       "<tf.Variable 'UnreadVariable' shape=(3, 1) dtype=float32, numpy=\n",
       "array([[4.],\n",
       "       [2.],\n",
       "       [2.]], dtype=float32)>"
      ]
     },
     "execution_count": 46,
     "metadata": {},
     "output_type": "execute_result"
    }
   ],
   "source": [
    "v.assign_add(tf.ones((3,1)))"
   ]
  },
  {
   "cell_type": "code",
   "execution_count": 47,
   "id": "2d4e714e-65d9-4203-bbf0-103761eec19f",
   "metadata": {},
   "outputs": [
    {
     "data": {
      "text/plain": [
       "<tf.Tensor: shape=(2, 2), dtype=float32, numpy=\n",
       "array([[4., 4.],\n",
       "       [4., 4.]], dtype=float32)>"
      ]
     },
     "execution_count": 47,
     "metadata": {},
     "output_type": "execute_result"
    }
   ],
   "source": [
    "a = tf.ones((2,2))\n",
    "b = tf.square(a) # 제곱\n",
    "c = tf.sqrt(a) # 루트\n",
    "d = b + c\n",
    "e = tf.matmul(a,b) # 행렬 곱\n",
    "e *= d\n",
    "e"
   ]
  },
  {
   "cell_type": "code",
   "execution_count": 48,
   "id": "160d5db7-30b7-42e5-a149-fe97880c47c1",
   "metadata": {},
   "outputs": [],
   "source": [
    "# 두 개의 2차원 텐서를 더하는 구현\n",
    "def naive_add(x, y):\n",
    "    assert len(x.shape) == 2 # 행렬이 2차원인지?\n",
    "    assert x.shape == y.shape # x와 y의 크기가 동일한지?\n",
    "    x = x.copy() # 원본 데이터가 변경되지 않도록\n",
    "    for i in range(x.shape[0]):\n",
    "        for j in range(x.shape[1]):\n",
    "            x[i, j] += y[i,j]\n",
    "\n",
    "    return x"
   ]
  },
  {
   "cell_type": "code",
   "execution_count": 49,
   "id": "0bcdff1f-15d0-4a01-b3e6-d2f69c39653d",
   "metadata": {},
   "outputs": [],
   "source": [
    "# ReLU 활성화 함수 구현\n",
    "def naive_relu(x):\n",
    "    assert len(x.shape) == 2 # 예외처리\n",
    "    x = x.copy()\n",
    "    for i in range(x.shape[0]):\n",
    "        for j in range(x.shape[1]):\n",
    "            x[i,j] = max(x[i,j], 0) # 0보다 작으면 0, 크면 그대로 유지\n",
    "\n",
    "    return x"
   ]
  },
  {
   "cell_type": "code",
   "execution_count": 50,
   "id": "a442f18b-5937-47c6-8831-ae509d9da818",
   "metadata": {},
   "outputs": [
    {
     "name": "stdout",
     "output_type": "stream",
     "text": [
      "걸린 시간 : 0.01 s\n"
     ]
    }
   ],
   "source": [
    "import time\n",
    "\n",
    "x = np.random.random((20,100))\n",
    "y = np.random.random((20, 100))\n",
    "\n",
    "t0 = time.time()\n",
    "for _ in range(1000):\n",
    "    z = x + y\n",
    "    z = np.maximum(z, 0.)\n",
    "\n",
    "print(\"걸린 시간 : {0:.2f} s\".format(time.time() - t0))"
   ]
  },
  {
   "cell_type": "code",
   "execution_count": 51,
   "id": "ff03ca0c-e2e4-4325-afc2-4b18eab37604",
   "metadata": {},
   "outputs": [
    {
     "name": "stdout",
     "output_type": "stream",
     "text": [
      "걸린 시간 : 1.24 s\n"
     ]
    }
   ],
   "source": [
    "t0 = time.time()\n",
    "\n",
    "for _ in range(1000):\n",
    "    z = naive_add(x,y)\n",
    "    z = naive_relu(x)\n",
    "\n",
    "print(\"걸린 시간 : {0:.2f} s\".format(time.time() - t0))"
   ]
  },
  {
   "cell_type": "markdown",
   "id": "4e532d71-3844-48d8-91ea-814d306fb103",
   "metadata": {},
   "source": [
    "### 텐서의 기하학적 해석\n",
    "\n",
    "- 딥러닝 모델을 다양한 층으로 구성된 신경망 구조를 가지고 있다.\n",
    "- 신경망 엔진 : 그레디언트 기반 최적화 (보통 경사 하강법)\n",
    "- 텐서 연산의 도함수 : 그레디언트로 표현된다."
   ]
  },
  {
   "cell_type": "code",
   "execution_count": 52,
   "id": "df9effa2-4229-4143-b2a2-e7b107303a7f",
   "metadata": {},
   "outputs": [
    {
     "data": {
      "text/plain": [
       "<tf.Tensor: shape=(), dtype=float32, numpy=2.0>"
      ]
     },
     "execution_count": 52,
     "metadata": {},
     "output_type": "execute_result"
    }
   ],
   "source": [
    "x = tf.Variable(0.)\n",
    "with tf.GradientTape() as tape:\n",
    "    y = 2*x+3\n",
    "\n",
    "grad = tape.gradient(y,x)\n",
    "grad"
   ]
  },
  {
   "cell_type": "code",
   "execution_count": 53,
   "id": "f38f10c4-cb74-4c1c-a3e0-8f9214b0ec07",
   "metadata": {},
   "outputs": [
    {
     "data": {
      "text/plain": [
       "<tf.Tensor: shape=(2, 2), dtype=float32, numpy=\n",
       "array([[2., 2.],\n",
       "       [2., 2.]], dtype=float32)>"
      ]
     },
     "execution_count": 53,
     "metadata": {},
     "output_type": "execute_result"
    }
   ],
   "source": [
    "x = tf.Variable(tf.zeros((2,2)))\n",
    "with tf.GradientTape() as tape:\n",
    "    y = 2*x + 3\n",
    "\n",
    "grad = tape.gradient(y,x)\n",
    "grad"
   ]
  },
  {
   "cell_type": "code",
   "execution_count": 54,
   "id": "1bbffc87-e143-4c92-863a-3514f0ad7c33",
   "metadata": {},
   "outputs": [
    {
     "data": {
      "text/plain": [
       "[<tf.Tensor: shape=(2, 2), dtype=float32, numpy=\n",
       " array([[0.9853269 , 0.9853269 ],\n",
       "        [0.81287825, 0.81287825]], dtype=float32)>,\n",
       " <tf.Tensor: shape=(2,), dtype=float32, numpy=array([2., 2.], dtype=float32)>]"
      ]
     },
     "execution_count": 54,
     "metadata": {},
     "output_type": "execute_result"
    }
   ],
   "source": [
    "W = tf.Variable(tf.random.uniform((2,2)))\n",
    "b = tf.Variable(tf.zeros((2,)))\n",
    "x = tf.random.uniform((2,2))\n",
    "\n",
    "with tf.GradientTape() as tape:\n",
    "    y = tf.matmul(x, W) + b\n",
    "\n",
    "grad = tape.gradient(y, [W,b])\n",
    "grad"
   ]
  },
  {
   "cell_type": "code",
   "execution_count": 55,
   "id": "d630755d-5fbd-40b7-aba8-a0819152f963",
   "metadata": {},
   "outputs": [
    {
     "data": {
      "text/plain": [
       "<tf.Tensor: shape=(), dtype=float32, numpy=9.8>"
      ]
     },
     "execution_count": 55,
     "metadata": {},
     "output_type": "execute_result"
    }
   ],
   "source": [
    "# 그레이드언트 중첩\n",
    "# 물체의 운동을 계산하는 예제\n",
    "time = tf.Variable(0.) # 시간\n",
    "with tf.GradientTape() as outer_tape: # speed, acceleration\n",
    "    with tf.GradientTape() as inner_tape: # position\n",
    "        position = 4.9 * time ** 2\n",
    "    speed = inner_tape.gradient(position, time) # 위치에 대해 미분하여 속도\n",
    "acceleration = outer_tape.gradient(speed, time) # 속도에 대해 미분하여 가속도\n",
    "acceleration"
   ]
  },
  {
   "cell_type": "markdown",
   "id": "1915155d-c3f8-46a9-bd3e-a01bd359274e",
   "metadata": {},
   "source": [
    "# 텐서플로 선형분류"
   ]
  },
  {
   "cell_type": "code",
   "execution_count": 56,
   "id": "4507964e-b4f5-40b5-afae-2592048e9f1e",
   "metadata": {},
   "outputs": [],
   "source": [
    "num_samples_per_class = 1000\n",
    "negative_samples = np.random.multivariate_normal( # multivariate_normal : 2차원 정규분포\n",
    "    mean=[0,3], # 평균 좌표 (0, 3)\n",
    "    cov=[[1,0.5], [0.5,1]], # 공분산 행렬\n",
    "    size=num_samples_per_class)\n",
    "\n",
    "positive_samples = np.random.multivariate_normal(\n",
    "    mean=[3,0],\n",
    "    cov=[[1, 0.5], [0.5,1]],\n",
    "    size=num_samples_per_class)"
   ]
  },
  {
   "cell_type": "code",
   "execution_count": 57,
   "id": "dc00daea-8e1c-4c3f-951a-48f553059bfb",
   "metadata": {},
   "outputs": [],
   "source": [
    "inputs = np.vstack((negative_samples, positive_samples)).astype(np.float32)"
   ]
  },
  {
   "cell_type": "code",
   "execution_count": 58,
   "id": "17b6361f-c0a7-4f60-a5c8-88f657edbabc",
   "metadata": {},
   "outputs": [],
   "source": [
    "targets = np.vstack((np.zeros((num_samples_per_class, 1), dtype='float32'), np.ones((num_samples_per_class, 1), dtype= 'float32')))"
   ]
  },
  {
   "cell_type": "code",
   "execution_count": 59,
   "id": "17edced7-15ba-4985-8d99-f25d341fa09e",
   "metadata": {},
   "outputs": [
    {
     "data": {
      "image/png": "[encoded data removed]",
      "text/plain": [
       "<Figure size 640x480 with 1 Axes>"
      ]
     },
     "metadata": {},
     "output_type": "display_data"
    }
   ],
   "source": [
    "import matplotlib.pyplot as plt\n",
    "plt.scatter(inputs[:, 0], inputs[:, 1], c=targets[:,0])\n",
    "plt.show()"
   ]
  },
  {
   "cell_type": "code",
   "execution_count": 60,
   "id": "918e55ee-e8a4-493a-9f30-31af82e09d59",
   "metadata": {},
   "outputs": [],
   "source": [
    "# 선형분류기 변수\n",
    "input_dim = 2\n",
    "output_dim = 1\n",
    "W = tf.Variable(initial_value=tf.random.uniform(shape=(input_dim, output_dim))) # 가중치 행렬\n",
    "b = tf.Variable(initial_value=tf.zeros(shape=(output_dim,))) # 편향 벡터"
   ]
  },
  {
   "cell_type": "code",
   "execution_count": 61,
   "id": "7033f4b3-3efc-4cc3-a154-dd6b2a7772ee",
   "metadata": {},
   "outputs": [],
   "source": [
    "def model(inputs): # 선형회귀 모델 forward (w*x + b)\n",
    "    return tf.matmul(inputs, W) + b # 선형 변환"
   ]
  },
  {
   "cell_type": "code",
   "execution_count": 62,
   "id": "a05b1787-1b99-464d-a0b6-68a274a38ce6",
   "metadata": {},
   "outputs": [],
   "source": [
    "# 평균 제곱 오차 손실 함수\n",
    "def square_loss(targets, predictions):\n",
    "    per_sample_losses = tf.square(targets - predictions) # 각 샘플의 손실 계산\n",
    "    return tf.reduce_mean(per_sample_losses) # 전체 손실의 평균"
   ]
  },
  {
   "cell_type": "code",
   "execution_count": 63,
   "id": "5b0c2be5-8dff-4a5b-978b-b2782150ea17",
   "metadata": {},
   "outputs": [],
   "source": [
    "# 훈련 함수\n",
    "learning_rate = 0.1\n",
    "\n",
    "def training_step(inputs, targets):\n",
    "    with tf.GradientTape() as tape:\n",
    "        predictions = model(inputs)\n",
    "        loss = square_loss(targets, predictions)\n",
    "    grad_loss_wrt_W, grad_loss_wrt_b = tape.gradient(loss, [W, b]) # 가중치 행렬 W, 편향 벡터 b에 대한 손실함수의 그래디언트를 계산\n",
    "    W.assign_sub(grad_loss_wrt_W * learning_rate) # 경사하강법으로 가중치 업데이트\n",
    "    b.assign_sub(grad_loss_wrt_b * learning_rate) # 경사하강법으로 편향 업데이트\n",
    "    return loss"
   ]
  },
  {
   "cell_type": "code",
   "execution_count": 64,
   "id": "8279a4af-df30-48e6-8fba-95288d71fd15",
   "metadata": {},
   "outputs": [
    {
     "name": "stdout",
     "output_type": "stream",
     "text": [
      "0번째 스텝의 손실 : 1.1608\n",
      "1번째 스텝의 손실 : 0.1085\n",
      "2번째 스텝의 손실 : 0.0862\n",
      "3번째 스텝의 손실 : 0.0790\n",
      "4번째 스텝의 손실 : 0.0742\n",
      "5번째 스텝의 손실 : 0.0701\n",
      "6번째 스텝의 손실 : 0.0664\n",
      "7번째 스텝의 손실 : 0.0629\n",
      "8번째 스텝의 손실 : 0.0598\n",
      "9번째 스텝의 손실 : 0.0569\n",
      "10번째 스텝의 손실 : 0.0543\n",
      "11번째 스텝의 손실 : 0.0518\n",
      "12번째 스텝의 손실 : 0.0496\n",
      "13번째 스텝의 손실 : 0.0476\n",
      "14번째 스텝의 손실 : 0.0457\n",
      "15번째 스텝의 손실 : 0.0440\n",
      "16번째 스텝의 손실 : 0.0424\n",
      "17번째 스텝의 손실 : 0.0409\n",
      "18번째 스텝의 손실 : 0.0396\n",
      "19번째 스텝의 손실 : 0.0384\n",
      "20번째 스텝의 손실 : 0.0373\n",
      "21번째 스텝의 손실 : 0.0362\n",
      "22번째 스텝의 손실 : 0.0353\n",
      "23번째 스텝의 손실 : 0.0344\n",
      "24번째 스텝의 손실 : 0.0336\n",
      "25번째 스텝의 손실 : 0.0329\n",
      "26번째 스텝의 손실 : 0.0322\n",
      "27번째 스텝의 손실 : 0.0316\n",
      "28번째 스텝의 손실 : 0.0310\n",
      "29번째 스텝의 손실 : 0.0305\n",
      "30번째 스텝의 손실 : 0.0300\n",
      "31번째 스텝의 손실 : 0.0296\n",
      "32번째 스텝의 손실 : 0.0292\n",
      "33번째 스텝의 손실 : 0.0288\n",
      "34번째 스텝의 손실 : 0.0285\n",
      "35번째 스텝의 손실 : 0.0282\n",
      "36번째 스텝의 손실 : 0.0279\n",
      "37번째 스텝의 손실 : 0.0276\n",
      "38번째 스텝의 손실 : 0.0274\n",
      "39번째 스텝의 손실 : 0.0272\n"
     ]
    }
   ],
   "source": [
    "for step in range(40):\n",
    "    loss = training_step(inputs, targets)\n",
    "    print(f'{step}번째 스텝의 손실 : {loss:.4f}')"
   ]
  },
  {
   "cell_type": "code",
   "execution_count": 65,
   "id": "77ad46fe-1410-458e-9159-21acd6fa0154",
   "metadata": {},
   "outputs": [
    {
     "data": {
      "image/png": "[encoded data removed]",
      "text/plain": [
       "<Figure size 640x480 with 1 Axes>"
      ]
     },
     "metadata": {},
     "output_type": "display_data"
    }
   ],
   "source": [
    "predictions = model(inputs)\n",
    "plt.scatter(inputs[:, 0], inputs[:, 1], c=predictions[:,0] > 0.5)\n",
    "plt.show()"
   ]
  },
  {
   "cell_type": "code",
   "execution_count": 66,
   "id": "03a97583-be86-4fba-b5db-d8d3757c7d16",
   "metadata": {},
   "outputs": [
    {
     "data": {
      "image/png": "[encoded data removed]",
      "text/plain": [
       "<Figure size 640x480 with 1 Axes>"
      ]
     },
     "metadata": {},
     "output_type": "display_data"
    }
   ],
   "source": [
    "x = np.linspace(-2, 5, 100) # x = [-2,4]\n",
    "\n",
    "y = - W[0] / W[1] * x + (0.5 - b) / W[1] # 기울기 : -w[0]/w[1], 절편 : (0.5 - b) / W[1]\n",
    "plt.plot(x, y, \"-r\")\n",
    "plt.scatter(inputs[:, 0], inputs[:, 1], c=predictions[:, 0] > 0.5)\n",
    "plt.show()"
   ]
  },
  {
   "cell_type": "code",
   "execution_count": 67,
   "id": "1b8ec250-d854-4eb2-a2f9-d7c28942d13b",
   "metadata": {},
   "outputs": [],
   "source": [
    "from tensorflow import keras\n",
    "\n",
    "class SimpleDense(keras.layers.Layer): # keras의 Layer를 사용하여 사용자 완전 연결 계층 만든다.\n",
    "    def __init__(self, units, activation=None):\n",
    "        super().__init__()\n",
    "        self.units = units # 출력 차원의 크기\n",
    "        self.activation = activation # 활성화 함수\n",
    "\n",
    "    def build(self, input_shape): # 가중치 텐서 생성\n",
    "        input_dim = input_shape[-1] # 입력데이터 형태\n",
    "        self.W = self.add_weight(shape=(input_dim, self.units), initializer='random_normal') # 랜덤 초기화된 가중치 텐서\n",
    "        self.b = self.add_weight(shape=(self.units,), initializer='zeros') # 0으로 초기화된 편향 벡터\n",
    "\n",
    "    def call(self, inputs): # forward 연산\n",
    "        y = tf.matmul(inputs, self.W) + self.b # 연결 계층 연산\n",
    "        if self.activation is not None:\n",
    "            y = self.activation(y) # 활성화 함수 적용\n",
    "        return y"
   ]
  },
  {
   "cell_type": "code",
   "execution_count": 68,
   "id": "f40136e7-7cfc-41d9-a08b-b756ed1ffa11",
   "metadata": {},
   "outputs": [
    {
     "name": "stdout",
     "output_type": "stream",
     "text": [
      "tf.Tensor(\n",
      "[[0.         0.         0.         0.20058262 0.97729087 0.\n",
      "  0.         0.         0.6808927  0.5066592  2.513493   0.\n",
      "  0.18004084 0.06598545 0.23801076 1.5622213  0.         0.\n",
      "  1.1805798  0.         0.         1.0416191  2.7088675  0.\n",
      "  0.         0.9505515  1.2549725  0.02345276 1.0618289  2.1479144\n",
      "  0.         0.00467604]\n",
      " [0.         0.         0.         0.20058262 0.97729087 0.\n",
      "  0.         0.         0.6808927  0.5066592  2.513493   0.\n",
      "  0.18004084 0.06598545 0.23801076 1.5622213  0.         0.\n",
      "  1.1805798  0.         0.         1.0416191  2.7088675  0.\n",
      "  0.         0.9505515  1.2549725  0.02345276 1.0618289  2.1479144\n",
      "  0.         0.00467604]], shape=(2, 32), dtype=float32)\n"
     ]
    }
   ],
   "source": [
    "my_dense = SimpleDense(units=32, activation=tf.nn.relu)\n",
    "input_tensor = tf.ones(shape=(2, 784))\n",
    "# my_dense.build(input_tensor.shape)\n",
    "output_tensor = my_dense(input_tensor)\n",
    "print(output_tensor)"
   ]
  },
  {
   "cell_type": "code",
   "execution_count": 69,
   "id": "f4ed2f31-8c30-4a11-9ba6-89575a235930",
   "metadata": {},
   "outputs": [],
   "source": [
    "from tensorflow.keras import layers\n",
    "layer = layers.Dense(32, activation='relu')"
   ]
  },
  {
   "cell_type": "code",
   "execution_count": 70,
   "id": "c550efbb-fded-4815-b06b-7b5be8a58ee5",
   "metadata": {},
   "outputs": [],
   "source": [
    "from tensorflow.keras import models\n",
    "model = models.Sequential([\n",
    "    layers.Dense(32, activation='relu'),\n",
    "    layers.Dense(32)\n",
    "])"
   ]
  },
  {
   "cell_type": "code",
   "execution_count": 71,
   "id": "1aa26887-96f2-4e76-b159-434bba205d19",
   "metadata": {},
   "outputs": [],
   "source": [
    "model = keras.Sequential([\n",
    "    SimpleDense(32, activation='relu'),\n",
    "    SimpleDense(64, activation='relu'),\n",
    "    SimpleDense(32, activation='softmax'),\n",
    "    SimpleDense(32, activation='softmax')\n",
    "])"
   ]
  },
  {
   "cell_type": "code",
   "execution_count": 72,
   "id": "76da6f4c-7be1-40c9-9176-37090e222476",
   "metadata": {},
   "outputs": [],
   "source": [
    "# 컴파일\n",
    "model = keras.Sequential([keras.layers.Dense(1)])\n",
    "\n",
    "model.compile(optimizer='rmsprop', loss='mean_squared_error', metrics=['accuracy'])"
   ]
  },
  {
   "cell_type": "code",
   "execution_count": 73,
   "id": "5283db8d-4ddc-4988-90bf-927511e87338",
   "metadata": {},
   "outputs": [
    {
     "name": "stderr",
     "output_type": "stream",
     "text": [
      "WARNING:absl:At this time, the v2.11+ optimizer `tf.keras.optimizers.RMSprop` runs slowly on M1/M2 Macs, please use the legacy Keras optimizer instead, located at `tf.keras.optimizers.legacy.RMSprop`.\n",
      "WARNING:absl:There is a known slowdown when using v2.11+ Keras optimizers on M1/M2 Macs. Falling back to the legacy Keras optimizer, i.e., `tf.keras.optimizers.legacy.RMSprop`.\n"
     ]
    }
   ],
   "source": [
    "model.compile(optimizer=keras.optimizers.RMSprop(), loss=keras.losses.MeanSquaredError(), metrics=[keras.metrics.BinaryAccuracy()])"
   ]
  },
  {
   "cell_type": "code",
   "execution_count": 74,
   "id": "e64981a3-d957-4e48-ba4b-7382cbd2720a",
   "metadata": {},
   "outputs": [
    {
     "name": "stdout",
     "output_type": "stream",
     "text": [
      "Epoch 1/5\n",
      "16/16 [==============================] - 0s 669us/step - loss: 15.4516 - binary_accuracy: 0.5170\n",
      "Epoch 2/5\n",
      "16/16 [==============================] - 0s 538us/step - loss: 14.8148 - binary_accuracy: 0.5175\n",
      "Epoch 3/5\n",
      "16/16 [==============================] - 0s 759us/step - loss: 14.2789 - binary_accuracy: 0.5185\n",
      "Epoch 4/5\n",
      "16/16 [==============================] - 0s 523us/step - loss: 13.7570 - binary_accuracy: 0.5195\n",
      "Epoch 5/5\n",
      "16/16 [==============================] - 0s 504us/step - loss: 13.2487 - binary_accuracy: 0.5215\n"
     ]
    }
   ],
   "source": [
    "h = model.fit(inputs, targets, epochs=5, batch_size=128)"
   ]
  },
  {
   "cell_type": "code",
   "execution_count": 75,
   "id": "b80c92f6-dc0a-4c41-845d-e5f16414af25",
   "metadata": {},
   "outputs": [
    {
     "data": {
      "text/plain": [
       "{'loss': [15.451570510864258,\n",
       "  14.814787864685059,\n",
       "  14.27894115447998,\n",
       "  13.757011413574219,\n",
       "  13.248716354370117],\n",
       " 'binary_accuracy': [0.5170000195503235,\n",
       "  0.5174999833106995,\n",
       "  0.5184999704360962,\n",
       "  0.5195000171661377,\n",
       "  0.5214999914169312]}"
      ]
     },
     "execution_count": 75,
     "metadata": {},
     "output_type": "execute_result"
    }
   ],
   "source": [
    "h.history"
   ]
  },
  {
   "cell_type": "code",
   "execution_count": 76,
   "id": "0ba820d7-8e3b-4ec0-8c83-deaa86843f88",
   "metadata": {},
   "outputs": [
    {
     "name": "stderr",
     "output_type": "stream",
     "text": [
      "WARNING:absl:At this time, the v2.11+ optimizer `tf.keras.optimizers.RMSprop` runs slowly on M1/M2 Macs, please use the legacy Keras optimizer instead, located at `tf.keras.optimizers.legacy.RMSprop`.\n",
      "WARNING:absl:There is a known slowdown when using v2.11+ Keras optimizers on M1/M2 Macs. Falling back to the legacy Keras optimizer, i.e., `tf.keras.optimizers.legacy.RMSprop`.\n"
     ]
    }
   ],
   "source": [
    "model = keras.Sequential([keras.layers.Dense(1)])\n",
    "model.compile(optimizer=keras.optimizers.RMSprop(learning_rate=0.1),\n",
    "              loss=keras.losses.MeanSquaredError(),\n",
    "              metrics=[keras.metrics.BinaryAccuracy()])"
   ]
  },
  {
   "cell_type": "code",
   "execution_count": 77,
   "id": "22298dc0-79e0-462a-be92-44a0a8a5d5e0",
   "metadata": {},
   "outputs": [],
   "source": [
    "indices_permutation = np.random.permutation(len(inputs)) # 입력 데이터 무작위로 섞기\n",
    "shuffled_inputs = inputs[indices_permutation] # 입력 데이터 재배열\n",
    "shuffled_targets = targets[indices_permutation] # 타겟 데이터 재배열\n",
    "\n",
    "num_validation_samples = int(0.3*len(inputs)) # 30%를 검증 데이터로 사용\n",
    "val_inputs = shuffled_inputs[:num_validation_samples]\n",
    "val_targets = shuffled_targets[:num_validation_samples]\n",
    "training_inputs = shuffled_inputs[num_validation_samples:]\n",
    "training_targets = shuffled_targets[num_validation_samples:]"
   ]
  },
  {
   "cell_type": "code",
   "execution_count": 78,
   "id": "5518c4de-790d-4a38-b822-b8df21c50333",
   "metadata": {},
   "outputs": [
    {
     "name": "stdout",
     "output_type": "stream",
     "text": [
      "Epoch 1/5\n",
      "88/88 [==============================] - 0s 1ms/step - loss: 0.3743 - binary_accuracy: 0.8864 - val_loss: 0.0362 - val_binary_accuracy: 1.0000\n",
      "Epoch 2/5\n",
      "88/88 [==============================] - 0s 735us/step - loss: 0.0706 - binary_accuracy: 0.9600 - val_loss: 0.1999 - val_binary_accuracy: 0.7950\n",
      "Epoch 3/5\n",
      "88/88 [==============================] - 0s 794us/step - loss: 0.0808 - binary_accuracy: 0.9593 - val_loss: 0.0492 - val_binary_accuracy: 0.9817\n",
      "Epoch 4/5\n",
      "88/88 [==============================] - 0s 787us/step - loss: 0.0692 - binary_accuracy: 0.9571 - val_loss: 0.1711 - val_binary_accuracy: 0.8183\n",
      "Epoch 5/5\n",
      "88/88 [==============================] - 0s 801us/step - loss: 0.0741 - binary_accuracy: 0.9543 - val_loss: 0.3004 - val_binary_accuracy: 0.6800\n"
     ]
    },
    {
     "data": {
      "text/plain": [
       "<keras.src.callbacks.History at 0x1774c14e0>"
      ]
     },
     "execution_count": 78,
     "metadata": {},
     "output_type": "execute_result"
    }
   ],
   "source": [
    "model.fit(\n",
    "    training_inputs,\n",
    "    training_targets,\n",
    "    epochs=5,\n",
    "    batch_size = 16,\n",
    "    validation_data=(val_inputs, val_targets) # 검증 데이터와 타겟 데이터를 모델의 성능 평가\n",
    ")"
   ]
  },
  {
   "cell_type": "code",
   "execution_count": 79,
   "id": "a560d867-4cb8-47c2-8ae4-8d1427c925a0",
   "metadata": {},
   "outputs": [
    {
     "name": "stdout",
     "output_type": "stream",
     "text": [
      "5/5 [==============================] - 0s 626us/step\n",
      "[[1.2717876 ]\n",
      " [0.3514012 ]\n",
      " [1.2569952 ]\n",
      " [0.99016154]\n",
      " [1.0320382 ]\n",
      " [0.8799784 ]\n",
      " [0.47002208]\n",
      " [1.1964737 ]\n",
      " [1.4902565 ]\n",
      " [1.0366908 ]]\n"
     ]
    }
   ],
   "source": [
    "predictions = model.predict(val_inputs, batch_size=128)\n",
    "print(predictions[:10])"
   ]
  }
 ],
 "metadata": {
  "kernelspec": {
   "display_name": "Python (tensorflow)",
   "language": "python",
   "name": "tensorflow"
  },
  "language_info": {
   "codemirror_mode": {
    "name": "ipython",
    "version": 3
   },
   "file_extension": ".py",
   "mimetype": "text/x-python",
   "name": "python",
   "nbconvert_exporter": "python",
   "pygments_lexer": "ipython3",
   "version": "3.10.14"
  }
 },
 "nbformat": 4,
 "nbformat_minor": 5
}
