{
 "cells": [
  {
   "cell_type": "markdown",
   "id": "f23866ff-2ea2-4056-a7a1-3c7dfaa5f7a3",
   "metadata": {},
   "source": [
    "## NLP와 CNN\n",
    "#### 자연어처리와 이미지처리"
   ]
  },
  {
   "cell_type": "raw",
   "id": "527e7085-83cb-478c-8e3d-cee0eeb15492",
   "metadata": {},
   "source": [
    "from tensorflow.keras.layers import Conv1D, GlobalMaxPooling1D\n",
    "\n",
    "model = Sequential()\n",
    "model.add(Conv1D(num_filters, kernel_size, padding='valid', activation='relu') # padding(valid : 패딩 없음, same : 패딩 추가)"
   ]
  },
  {
   "cell_type": "code",
   "execution_count": 5,
   "id": "9db3f71d-68c6-405a-8bd6-81469f363059",
   "metadata": {},
   "outputs": [],
   "source": [
    "import tensorflow as tf\n",
    "from tensorflow.keras import datasets\n",
    "from tensorflow.keras.preprocessing.sequence import pad_sequences"
   ]
  },
  {
   "cell_type": "code",
   "execution_count": 6,
   "id": "01527952-f76c-4f20-8ac5-f185c78019e5",
   "metadata": {},
   "outputs": [],
   "source": [
    "vocab_size = 10000\n",
    "(X_train, y_train), (X_test, y_test) = datasets.imdb.load_data(num_words=vocab_size)"
   ]
  },
  {
   "cell_type": "code",
   "execution_count": 9,
   "id": "e423e080-d59e-4e33-b79f-3358d2edf164",
   "metadata": {},
   "outputs": [
    {
     "name": "stdout",
     "output_type": "stream",
     "text": [
      "[1, 14, 22, 16, 43, 530, 973, 1622, 1385, 65, 458, 4468, 66, 3941, 4, 173, 36, 256, 5, 25, 100, 43, 838, 112, 50, 670, 2, 9, 35, 480, 284, 5, 150, 4, 172, 112, 167, 2, 336, 385, 39, 4, 172, 4536, 1111, 17, 546, 38, 13, 447, 4, 192, 50, 16, 6, 147, 2025, 19, 14, 22, 4, 1920, 4613, 469, 4, 22, 71, 87, 12, 16, 43, 530, 38, 76, 15, 13, 1247, 4, 22, 17, 515, 17, 12, 16, 626, 18, 2, 5, 62, 386, 12, 8, 316, 8, 106, 5, 4, 2223, 5244, 16, 480, 66, 3785, 33, 4, 130, 12, 16, 38, 619, 5, 25, 124, 51, 36, 135, 48, 25, 1415, 33, 6, 22, 12, 215, 28, 77, 52, 5, 14, 407, 16, 82, 2, 8, 4, 107, 117, 5952, 15, 256, 4, 2, 7, 3766, 5, 723, 36, 71, 43, 530, 476, 26, 400, 317, 46, 7, 4, 2, 1029, 13, 104, 88, 4, 381, 15, 297, 98, 32, 2071, 56, 26, 141, 6, 194, 7486, 18, 4, 226, 22, 21, 134, 476, 26, 480, 5, 144, 30, 5535, 18, 51, 36, 28, 224, 92, 25, 104, 4, 226, 65, 16, 38, 1334, 88, 12, 16, 283, 5, 16, 4472, 113, 103, 32, 15, 16, 5345, 19, 178, 32]\n"
     ]
    }
   ],
   "source": [
    "print(X_train[0])"
   ]
  },
  {
   "cell_type": "code",
   "execution_count": 10,
   "id": "b1ec4b72-a825-4d9c-b55d-0120bb1bed97",
   "metadata": {},
   "outputs": [
    {
     "name": "stdout",
     "output_type": "stream",
     "text": [
      "1\n"
     ]
    }
   ],
   "source": [
    "print(y_train[0])"
   ]
  },
  {
   "cell_type": "code",
   "execution_count": 12,
   "id": "573b797a-6e82-467e-92aa-9b573f374580",
   "metadata": {},
   "outputs": [
    {
     "data": {
      "text/plain": [
       "218"
      ]
     },
     "execution_count": 12,
     "metadata": {},
     "output_type": "execute_result"
    }
   ],
   "source": [
    "len(X_train[0])"
   ]
  },
  {
   "cell_type": "code",
   "execution_count": 13,
   "id": "67ccbb9b-a403-4edb-b03e-dbc6f00fb545",
   "metadata": {},
   "outputs": [],
   "source": [
    "# 패딩처리\n",
    "max_len = 200\n",
    "X_train = pad_sequences(X_train, maxlen=max_len)\n",
    "X_test = pad_sequences(X_test, maxlen=max_len)"
   ]
  },
  {
   "cell_type": "code",
   "execution_count": 14,
   "id": "c96b9ddc-d8c7-40de-bf72-487d86e73132",
   "metadata": {},
   "outputs": [
    {
     "data": {
      "text/plain": [
       "((25000, 200), (25000, 200))"
      ]
     },
     "execution_count": 14,
     "metadata": {},
     "output_type": "execute_result"
    }
   ],
   "source": [
    "X_train.shape, X_test.shape"
   ]
  },
  {
   "cell_type": "code",
   "execution_count": 28,
   "id": "18fd7273-9d4c-4dc4-b6cc-9ddd3c194542",
   "metadata": {},
   "outputs": [],
   "source": [
    "from tensorflow.keras.models import Sequential\n",
    "from tensorflow.keras.layers import Embedding, Dropout, Conv1D, GlobalMaxPooling1D, Dense, BatchNormalization\n",
    "from tensorflow.keras.callbacks import EarlyStopping, ModelCheckpoint\n",
    "from tensorflow.keras.models import load_model"
   ]
  },
  {
   "cell_type": "code",
   "execution_count": 17,
   "id": "dda549c3-bcd6-48d7-b139-43cf6df78e33",
   "metadata": {},
   "outputs": [],
   "source": [
    "# Embedding layer 추가(벡터화 처리)\n",
    "model = Sequential()\n",
    "model.add(Embedding(vocab_size, 256))\n",
    "model.add(Conv1D(256, 3, padding='valid', activation='relu'))\n",
    "# dropout 또는 pooling 진행 가능\n",
    "model.add(GlobalMaxPooling1D())\n",
    "model.add(Dense(1, activation='sigmoid'))"
   ]
  },
  {
   "cell_type": "code",
   "execution_count": 18,
   "id": "443462e3-b52b-4345-8f36-b30ae56756d0",
   "metadata": {},
   "outputs": [
    {
     "name": "stdout",
     "output_type": "stream",
     "text": [
      "Model: \"sequential_1\"\n",
      "_________________________________________________________________\n",
      " Layer (type)                Output Shape              Param #   \n",
      "=================================================================\n",
      " embedding_1 (Embedding)     (None, None, 256)         2560000   \n",
      "                                                                 \n",
      " conv1d (Conv1D)             (None, None, 256)         196864    \n",
      "                                                                 \n",
      " global_max_pooling1d (Glob  (None, 256)               0         \n",
      " alMaxPooling1D)                                                 \n",
      "                                                                 \n",
      " dense (Dense)               (None, 1)                 257       \n",
      "                                                                 \n",
      "=================================================================\n",
      "Total params: 2757121 (10.52 MB)\n",
      "Trainable params: 2757121 (10.52 MB)\n",
      "Non-trainable params: 0 (0.00 Byte)\n",
      "_________________________________________________________________\n"
     ]
    }
   ],
   "source": [
    "model.summary()"
   ]
  },
  {
   "cell_type": "code",
   "execution_count": 19,
   "id": "05a1c488-17aa-422c-a2fd-feaf6aaea5ea",
   "metadata": {},
   "outputs": [],
   "source": [
    "# 모델학습\n",
    "es = EarlyStopping(monitor='val_loss', mode='min', verbose=1, patience=3)\n",
    "mc = ModelCheckpoint('best_model.h5', monitor='val_acc', mode='max', verbose=1, save_best_only=True)\n",
    "\n",
    "model.compile(optimizer='adam', loss='binary_crossentropy', metrics=['acc'])"
   ]
  },
  {
   "cell_type": "code",
   "execution_count": 22,
   "id": "cd6414cf-7289-4b74-bfbd-e9b78e01ef4e",
   "metadata": {},
   "outputs": [
    {
     "name": "stdout",
     "output_type": "stream",
     "text": [
      "Epoch 1/10\n",
      "781/782 [============================>.] - ETA: 0s - loss: 0.3248 - acc: 0.8596\n",
      "Epoch 1: val_acc improved from -inf to 0.87788, saving model to best_model.h5\n",
      "782/782 [==============================] - 99s 127ms/step - loss: 0.3247 - acc: 0.8597 - val_loss: 0.2824 - val_acc: 0.8779\n",
      "Epoch 2/10\n",
      "  2/782 [..............................] - ETA: 39s - loss: 0.1230 - acc: 0.9531"
     ]
    },
    {
     "name": "stderr",
     "output_type": "stream",
     "text": [
      "/Users/jeon-yewon/miniforge3/envs/tensorflow/lib/python3.10/site-packages/keras/src/engine/training.py:3000: UserWarning: You are saving your model as an HDF5 file via `model.save()`. This file format is considered legacy. We recommend using instead the native Keras format, e.g. `model.save('my_model.keras')`.\n",
      "  saving_api.save_model(\n"
     ]
    },
    {
     "name": "stdout",
     "output_type": "stream",
     "text": [
      "781/782 [============================>.] - ETA: 0s - loss: 0.1597 - acc: 0.9411\n",
      "Epoch 2: val_acc improved from 0.87788 to 0.89068, saving model to best_model.h5\n",
      "782/782 [==============================] - 82s 105ms/step - loss: 0.1597 - acc: 0.9411 - val_loss: 0.2637 - val_acc: 0.8907\n",
      "Epoch 3/10\n",
      "781/782 [============================>.] - ETA: 0s - loss: 0.0547 - acc: 0.9861\n",
      "Epoch 3: val_acc did not improve from 0.89068\n",
      "782/782 [==============================] - 89s 114ms/step - loss: 0.0547 - acc: 0.9861 - val_loss: 0.3026 - val_acc: 0.8878\n",
      "Epoch 4/10\n",
      "782/782 [==============================] - ETA: 0s - loss: 0.0134 - acc: 0.9984\n",
      "Epoch 4: val_acc did not improve from 0.89068\n",
      "782/782 [==============================] - 94s 120ms/step - loss: 0.0134 - acc: 0.9984 - val_loss: 0.3503 - val_acc: 0.8873\n",
      "Epoch 5/10\n",
      "781/782 [============================>.] - ETA: 0s - loss: 0.0028 - acc: 0.9999\n",
      "Epoch 5: val_acc did not improve from 0.89068\n",
      "782/782 [==============================] - 95s 121ms/step - loss: 0.0028 - acc: 0.9999 - val_loss: 0.3839 - val_acc: 0.8872\n",
      "Epoch 5: early stopping\n"
     ]
    }
   ],
   "source": [
    "history = model.fit(X_train, y_train, epochs=10, validation_data=(X_test, y_test), callbacks=[es, mc])"
   ]
  },
  {
   "cell_type": "code",
   "execution_count": 25,
   "id": "b3725d6c-e441-49f8-a625-1274b31b315a",
   "metadata": {},
   "outputs": [
    {
     "name": "stdout",
     "output_type": "stream",
     "text": [
      "782/782 [==============================] - 31s 40ms/step - loss: 0.2637 - acc: 0.8907\n",
      "test acc : 0.8907\n"
     ]
    }
   ],
   "source": [
    "loaded_model = load_model('best_model.h5')\n",
    "print('test acc : %.4f' %(loaded_model.evaluate(X_test, y_test)[1]))"
   ]
  },
  {
   "cell_type": "code",
   "execution_count": 26,
   "id": "ef8a073a-f69e-49dd-9b1c-621e87610d42",
   "metadata": {},
   "outputs": [
    {
     "data": {
      "image/png": "[encoded data removed]",
      "text/plain": [
       "<Figure size 640x480 with 1 Axes>"
      ]
     },
     "metadata": {},
     "output_type": "display_data"
    }
   ],
   "source": [
    "import matplotlib.pyplot as plt\n",
    "epochs = range(1, len(history.history['loss'])+1)\n",
    "plt.plot(epochs, history.history['loss'])\n",
    "plt.plot(epochs, history.history['val_loss'])\n",
    "plt.title('model loss')\n",
    "plt.ylabel('loss')\n",
    "plt.xlabel('epoch')\n",
    "plt.legend(['train', 'test'])\n",
    "plt.show()"
   ]
  },
  {
   "cell_type": "code",
   "execution_count": 29,
   "id": "75fcbc3b-9c68-4d60-9dcc-d92aef2b711b",
   "metadata": {},
   "outputs": [],
   "source": [
    "# 모델 개선\n",
    "model = Sequential()\n",
    "model.add(Embedding(vocab_size, 256))\n",
    "\n",
    "model.add(Conv1D(128, 3, padding='valid', activation='relu'))\n",
    "model.add(BatchNormalization())\n",
    "model.add(Conv1D(128, 4, padding='valid', activation='relu'))\n",
    "model.add(BatchNormalization())\n",
    "model.add(Conv1D(128, 5, padding='valid', activation='relu'))\n",
    "model.add(BatchNormalization())\n",
    "\n",
    "model.add(Dropout(0.5))\n",
    "\n",
    "model.add(GlobalMaxPooling1D())\n",
    "\n",
    "model.add(Dense(64, activation='relu'))\n",
    "model.add(Dropout(0.5))\n",
    "model.add(Dense(1, activation='sigmoid'))"
   ]
  },
  {
   "cell_type": "code",
   "execution_count": 30,
   "id": "929b7cc6-75df-4bdb-bb42-3f56efe7d548",
   "metadata": {},
   "outputs": [],
   "source": [
    "es = EarlyStopping(monitor='val_loss', mode='min', verbose=1, patience=3)\n",
    "mc = ModelCheckpoint('best_model.h5', monitor='val_acc', mode='max', verbose=1, save_best_only=True)\n",
    "\n",
    "model.compile(optimizer='adam', loss='binary_crossentropy', metrics=['acc'])"
   ]
  },
  {
   "cell_type": "code",
   "execution_count": 32,
   "id": "852fd785-6e16-40d2-a879-40163189a9ef",
   "metadata": {},
   "outputs": [
    {
     "name": "stdout",
     "output_type": "stream",
     "text": [
      "Epoch 1/5\n",
      "782/782 [==============================] - ETA: 0s - loss: 0.3204 - acc: 0.8698\n",
      "Epoch 1: val_acc improved from 0.82980 to 0.85684, saving model to best_model.h5\n",
      "782/782 [==============================] - 217s 277ms/step - loss: 0.3204 - acc: 0.8698 - val_loss: 0.3572 - val_acc: 0.8568\n",
      "Epoch 2/5\n",
      "782/782 [==============================] - ETA: 0s - loss: 0.2414 - acc: 0.9080\n",
      "Epoch 2: val_acc improved from 0.85684 to 0.86220, saving model to best_model.h5\n",
      "782/782 [==============================] - 229s 293ms/step - loss: 0.2414 - acc: 0.9080 - val_loss: 0.3246 - val_acc: 0.8622\n",
      "Epoch 3/5\n",
      "782/782 [==============================] - ETA: 0s - loss: 0.1845 - acc: 0.9338\n",
      "Epoch 3: val_acc did not improve from 0.86220\n",
      "782/782 [==============================] - 230s 294ms/step - loss: 0.1845 - acc: 0.9338 - val_loss: 0.3358 - val_acc: 0.8505\n",
      "Epoch 4/5\n",
      "782/782 [==============================] - ETA: 0s - loss: 0.1397 - acc: 0.9481\n",
      "Epoch 4: val_acc did not improve from 0.86220\n",
      "782/782 [==============================] - 226s 289ms/step - loss: 0.1397 - acc: 0.9481 - val_loss: 0.3368 - val_acc: 0.8585\n",
      "Epoch 5/5\n",
      "782/782 [==============================] - ETA: 0s - loss: 0.1066 - acc: 0.9617\n",
      "Epoch 5: val_acc did not improve from 0.86220\n",
      "782/782 [==============================] - 227s 290ms/step - loss: 0.1066 - acc: 0.9617 - val_loss: 0.3636 - val_acc: 0.8574\n",
      "Epoch 5: early stopping\n"
     ]
    }
   ],
   "source": [
    "history = model.fit(X_train, y_train, epochs=5, validation_data=(X_test, y_test), callbacks=[es, mc])"
   ]
  },
  {
   "cell_type": "code",
   "execution_count": 34,
   "id": "b0a3e4c6-b914-45ae-8ca0-ef05a4a890f2",
   "metadata": {},
   "outputs": [
    {
     "name": "stdout",
     "output_type": "stream",
     "text": [
      "782/782 [==============================] - 44s 56ms/step - loss: 0.3246 - acc: 0.8622\n",
      "test acc : 0.8622\n"
     ]
    }
   ],
   "source": [
    "loaded_model = load_model('best_model.h5')\n",
    "print('test acc : %.4f' %(loaded_model.evaluate(X_test, y_test)[1]))"
   ]
  },
  {
   "cell_type": "code",
   "execution_count": 35,
   "id": "d78c50a1-b55f-45f7-a232-f9c537068fb9",
   "metadata": {},
   "outputs": [
    {
     "data": {
      "image/png": "[encoded data removed]",
      "text/plain": [
       "<Figure size 640x480 with 1 Axes>"
      ]
     },
     "metadata": {},
     "output_type": "display_data"
    }
   ],
   "source": [
    "epochs = range(1, len(history.history['loss'])+1)\n",
    "plt.plot(epochs, history.history['loss'])\n",
    "plt.plot(epochs, history.history['val_loss'])\n",
    "plt.title('model loss')\n",
    "plt.ylabel('loss')\n",
    "plt.xlabel('epoch')\n",
    "plt.legend(['train', 'test'])\n",
    "plt.show()"
   ]
  },
  {
   "cell_type": "markdown",
   "id": "1f56f7ba-d3e8-4339-b12b-d07ce1b111d0",
   "metadata": {},
   "source": [
    "## 효율적인 최적의 모델 구조 찾기\n",
    "- 하이퍼파라미터 튜닝 : Grid search, Random search, Bayesian Optimization), Hapyerband\n",
    "- 자동 머신러닝(AutoML) : Auto-keras, AutoML, NAS(Nural Architecture Search)\n",
    "- 전이학습(Transfer Learning) : 사전의 훈련된 모델을 가져온다. 그 모델을 미세조정하여 사용한다."
   ]
  },
  {
   "cell_type": "code",
   "execution_count": null,
   "id": "ce42932b-77a5-4dd0-8636-fb372f9ca6be",
   "metadata": {},
   "outputs": [],
   "source": []
  }
 ],
 "metadata": {
  "kernelspec": {
   "display_name": "Python (tensorflow)",
   "language": "python",
   "name": "tensorflow"
  },
  "language_info": {
   "codemirror_mode": {
    "name": "ipython",
    "version": 3
   },
   "file_extension": ".py",
   "mimetype": "text/x-python",
   "name": "python",
   "nbconvert_exporter": "python",
   "pygments_lexer": "ipython3",
   "version": "3.10.14"
  }
 },
 "nbformat": 4,
 "nbformat_minor": 5
}
