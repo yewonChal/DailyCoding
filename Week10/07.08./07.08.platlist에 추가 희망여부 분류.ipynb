{
 "cells": [
  {
   "cell_type": "code",
   "execution_count": 2,
   "id": "21fbed7a-1f1f-40c1-8756-670f3d88d86b",
   "metadata": {},
   "outputs": [],
   "source": [
    "import os\n",
    "import pandas as pd\n",
    "import numpy as np\n",
    "import matplotlib.pyplot as plt\n",
    "from sklearn import preprocessing\n",
    "from sklearn.metrics import classification_report\n",
    "import tensorflow as tf\n",
    "from tensorflow.keras.preprocessing.text import Tokenizer\n",
    "from tensorflow.keras.preprocessing.sequence import pad_sequences\n",
    "from tensorflow.keras.utils import to_categorical"
   ]
  },
  {
   "cell_type": "code",
   "execution_count": 3,
   "id": "952f8b9b-ec07-4733-ab4a-0966f3ed413e",
   "metadata": {},
   "outputs": [],
   "source": [
    "train_data = pd.read_csv('intent_train_data.csv')\n",
    "test_data = pd.read_csv('intent_test_data.csv')"
   ]
  },
  {
   "cell_type": "code",
   "execution_count": 4,
   "id": "6f96a07f-eea5-40c2-a940-bdad0139846b",
   "metadata": {},
   "outputs": [
    {
     "data": {
      "text/html": [
       "<div>\n",
       "<style scoped>\n",
       "    .dataframe tbody tr th:only-of-type {\n",
       "        vertical-align: middle;\n",
       "    }\n",
       "\n",
       "    .dataframe tbody tr th {\n",
       "        vertical-align: top;\n",
       "    }\n",
       "\n",
       "    .dataframe thead th {\n",
       "        text-align: right;\n",
       "    }\n",
       "</style>\n",
       "<table border=\"1\" class=\"dataframe\">\n",
       "  <thead>\n",
       "    <tr style=\"text-align: right;\">\n",
       "      <th></th>\n",
       "      <th>intent</th>\n",
       "      <th>label</th>\n",
       "    </tr>\n",
       "  </thead>\n",
       "  <tbody>\n",
       "    <tr>\n",
       "      <th>0</th>\n",
       "      <td>add another song to the cita rom ntica playlist</td>\n",
       "      <td>AddToPlaylist</td>\n",
       "    </tr>\n",
       "    <tr>\n",
       "      <th>1</th>\n",
       "      <td>add clem burke in my playlist pre party r b jams</td>\n",
       "      <td>AddToPlaylist</td>\n",
       "    </tr>\n",
       "    <tr>\n",
       "      <th>2</th>\n",
       "      <td>add live from aragon ballroom to trapeo</td>\n",
       "      <td>AddToPlaylist</td>\n",
       "    </tr>\n",
       "    <tr>\n",
       "      <th>3</th>\n",
       "      <td>add unite and win to my night out</td>\n",
       "      <td>AddToPlaylist</td>\n",
       "    </tr>\n",
       "    <tr>\n",
       "      <th>4</th>\n",
       "      <td>add track to my digster future hits</td>\n",
       "      <td>AddToPlaylist</td>\n",
       "    </tr>\n",
       "  </tbody>\n",
       "</table>\n",
       "</div>"
      ],
      "text/plain": [
       "                                             intent          label\n",
       "0   add another song to the cita rom ntica playlist  AddToPlaylist\n",
       "1  add clem burke in my playlist pre party r b jams  AddToPlaylist\n",
       "2           add live from aragon ballroom to trapeo  AddToPlaylist\n",
       "3                 add unite and win to my night out  AddToPlaylist\n",
       "4               add track to my digster future hits  AddToPlaylist"
      ]
     },
     "execution_count": 4,
     "metadata": {},
     "output_type": "execute_result"
    }
   ],
   "source": [
    "train_data.head()"
   ]
  },
  {
   "cell_type": "code",
   "execution_count": 5,
   "id": "e06c67b1-659c-4c00-b410-ec116c716cb7",
   "metadata": {},
   "outputs": [
    {
     "data": {
      "text/html": [
       "<div>\n",
       "<style scoped>\n",
       "    .dataframe tbody tr th:only-of-type {\n",
       "        vertical-align: middle;\n",
       "    }\n",
       "\n",
       "    .dataframe tbody tr th {\n",
       "        vertical-align: top;\n",
       "    }\n",
       "\n",
       "    .dataframe thead th {\n",
       "        text-align: right;\n",
       "    }\n",
       "</style>\n",
       "<table border=\"1\" class=\"dataframe\">\n",
       "  <thead>\n",
       "    <tr style=\"text-align: right;\">\n",
       "      <th></th>\n",
       "      <th>intent</th>\n",
       "      <th>label</th>\n",
       "    </tr>\n",
       "  </thead>\n",
       "  <tbody>\n",
       "    <tr>\n",
       "      <th>0</th>\n",
       "      <td>i 'd like to have this track onto my classical...</td>\n",
       "      <td>AddToPlaylist</td>\n",
       "    </tr>\n",
       "    <tr>\n",
       "      <th>1</th>\n",
       "      <td>add the album to my flow espa ol playlist</td>\n",
       "      <td>AddToPlaylist</td>\n",
       "    </tr>\n",
       "    <tr>\n",
       "      <th>2</th>\n",
       "      <td>add digging now to my young at heart playlist</td>\n",
       "      <td>AddToPlaylist</td>\n",
       "    </tr>\n",
       "    <tr>\n",
       "      <th>3</th>\n",
       "      <td>add this song by too poetic to my piano ballad...</td>\n",
       "      <td>AddToPlaylist</td>\n",
       "    </tr>\n",
       "    <tr>\n",
       "      <th>4</th>\n",
       "      <td>add this album to old school death metal</td>\n",
       "      <td>AddToPlaylist</td>\n",
       "    </tr>\n",
       "  </tbody>\n",
       "</table>\n",
       "</div>"
      ],
      "text/plain": [
       "                                              intent          label\n",
       "0  i 'd like to have this track onto my classical...  AddToPlaylist\n",
       "1          add the album to my flow espa ol playlist  AddToPlaylist\n",
       "2      add digging now to my young at heart playlist  AddToPlaylist\n",
       "3  add this song by too poetic to my piano ballad...  AddToPlaylist\n",
       "4           add this album to old school death metal  AddToPlaylist"
      ]
     },
     "execution_count": 5,
     "metadata": {},
     "output_type": "execute_result"
    }
   ],
   "source": [
    "test_data.head()"
   ]
  },
  {
   "cell_type": "code",
   "execution_count": 7,
   "id": "6e2afe6d-5588-4a77-ae32-363e07f8cbac",
   "metadata": {},
   "outputs": [
    {
     "name": "stdout",
     "output_type": "stream",
     "text": [
      "<class 'pandas.core.frame.DataFrame'>\n",
      "RangeIndex: 11784 entries, 0 to 11783\n",
      "Data columns (total 2 columns):\n",
      " #   Column  Non-Null Count  Dtype \n",
      "---  ------  --------------  ----- \n",
      " 0   intent  11784 non-null  object\n",
      " 1   label   11784 non-null  object\n",
      "dtypes: object(2)\n",
      "memory usage: 184.2+ KB\n"
     ]
    }
   ],
   "source": [
    "train_data.info()"
   ]
  },
  {
   "cell_type": "code",
   "execution_count": 9,
   "id": "581d470f-4f2e-498c-a55f-a748628c3f99",
   "metadata": {},
   "outputs": [
    {
     "name": "stdout",
     "output_type": "stream",
     "text": [
      "<class 'pandas.core.frame.DataFrame'>\n",
      "RangeIndex: 600 entries, 0 to 599\n",
      "Data columns (total 2 columns):\n",
      " #   Column  Non-Null Count  Dtype \n",
      "---  ------  --------------  ----- \n",
      " 0   intent  600 non-null    object\n",
      " 1   label   600 non-null    object\n",
      "dtypes: object(2)\n",
      "memory usage: 9.5+ KB\n"
     ]
    }
   ],
   "source": [
    "test_data.info()"
   ]
  },
  {
   "cell_type": "code",
   "execution_count": 10,
   "id": "1e676598-bf99-4580-90b1-ae09b003f305",
   "metadata": {},
   "outputs": [],
   "source": [
    "intent_train = train_data['intent'].tolist()\n",
    "label_train = train_data['label'].tolist()\n",
    "intent_test = test_data['intent'].tolist()\n",
    "label_test = test_data['label'].tolist()"
   ]
  },
  {
   "cell_type": "code",
   "execution_count": 11,
   "id": "9323b8b1-d5f1-487e-8ab5-18cafa05841d",
   "metadata": {},
   "outputs": [
    {
     "name": "stdout",
     "output_type": "stream",
     "text": [
      "11784 600\n",
      "11784 600\n"
     ]
    }
   ],
   "source": [
    "print(len(intent_train), len(intent_test))\n",
    "print(len(label_train), len(label_test))"
   ]
  },
  {
   "cell_type": "code",
   "execution_count": 12,
   "id": "95940ac8-7ba3-483d-a281-a7ba8f790fa6",
   "metadata": {},
   "outputs": [
    {
     "name": "stdout",
     "output_type": "stream",
     "text": [
      "['add another song to the cita rom ntica playlist', 'add clem burke in my playlist pre party r b jams', 'add live from aragon ballroom to trapeo', 'add unite and win to my night out', 'add track to my digster future hits']\n",
      "['AddToPlaylist', 'AddToPlaylist', 'AddToPlaylist', 'AddToPlaylist', 'AddToPlaylist']\n"
     ]
    }
   ],
   "source": [
    "print(intent_train[:5])\n",
    "print(label_train[:5])"
   ]
  },
  {
   "cell_type": "code",
   "execution_count": 13,
   "id": "e4f3aecf-6a3e-4d4d-ab9b-5edb890a3256",
   "metadata": {},
   "outputs": [
    {
     "name": "stdout",
     "output_type": "stream",
     "text": [
      "['please book reservations for 3 people at a restaurant in alderwood manor', 'book a table in mt for 3 for now at a pub that serves south indian', 'book a table in belhaven for a party of seven at the great house at sonning', 'i want to book a restaurant near wyoming for 5 people', 'get me a table at eighth step coffee house in germania for 7']\n",
      "['BookRestaurant', 'BookRestaurant', 'BookRestaurant', 'BookRestaurant', 'BookRestaurant']\n"
     ]
    }
   ],
   "source": [
    "print(intent_train[2000:2005])\n",
    "print(label_train[2000:2005])"
   ]
  },
  {
   "cell_type": "code",
   "execution_count": 14,
   "id": "c6327619-3c2e-4db9-b44a-7bfb71705412",
   "metadata": {},
   "outputs": [
    {
     "name": "stdout",
     "output_type": "stream",
     "text": [
      "['what will the weather be like on feb 8 , 2034 in cedar mountain wilderness', \"tell me the forecast in the same area here on robert e lee 's birthday\", 'is there rain now in maine', 'will it get chillier in north creek forest \\\\?', \"what 's the weather forecast for elida , rhode island \\\\?\"]\n",
      "['GetWeather', 'GetWeather', 'GetWeather', 'GetWeather', 'GetWeather']\n"
     ]
    }
   ],
   "source": [
    "print(intent_train[4000:4005])\n",
    "print(label_train[4000:4005])"
   ]
  },
  {
   "cell_type": "code",
   "execution_count": 15,
   "id": "962157dd-2ecd-40e4-9707-b4e62c9b64d3",
   "metadata": {},
   "outputs": [
    {
     "name": "stdout",
     "output_type": "stream",
     "text": [
      "['rate the current album one points', 'i give a zero rating for this essay', 'rate this book a zero', 'rate the current album 3 of 6 stars', 'rate the secret of dr honigberger 2 points out of 6']\n",
      "['RateBook', 'RateBook', 'RateBook', 'RateBook', 'RateBook']\n"
     ]
    }
   ],
   "source": [
    "print(intent_train[6000:6005])\n",
    "print(label_train[6000:6005])"
   ]
  },
  {
   "cell_type": "code",
   "execution_count": 16,
   "id": "95cbdfe1-5ab9-4fd3-9e27-01d2d7d56dce",
   "metadata": {},
   "outputs": [
    {
     "name": "stdout",
     "output_type": "stream",
     "text": [
      "[\"i'm trying to find the show chant ii\", 'find spirit of the bush', 'please look up the painting beyond iconic photographer dennis stock', 'play keep their heads ringin', 'find a tv show called directions home']\n",
      "['SearchCreativeWork', 'SearchCreativeWork', 'SearchCreativeWork', 'SearchCreativeWork', 'SearchCreativeWork']\n"
     ]
    }
   ],
   "source": [
    "print(intent_train[8000:8005])\n",
    "print(label_train[8000:8005])"
   ]
  },
  {
   "cell_type": "code",
   "execution_count": 17,
   "id": "4366f135-f494-4ca3-9331-6853a6d49814",
   "metadata": {},
   "outputs": [
    {
     "name": "stdout",
     "output_type": "stream",
     "text": [
      "['when is blood and ice cream trilogie playing at the nearest movie theatre \\\\?', 'show movie schedules', 'when is bless the child playing at the movie theatre', 'show movie schedule of films in the area', 'find the movie schedule']\n",
      "['SearchScreeningEvent', 'SearchScreeningEvent', 'SearchScreeningEvent', 'SearchScreeningEvent', 'SearchScreeningEvent']\n"
     ]
    }
   ],
   "source": [
    "print(intent_train[10000:10005])\n",
    "print(label_train[10000:10005])"
   ]
  },
  {
   "cell_type": "code",
   "execution_count": 18,
   "id": "18304267-24f4-4e7f-a706-359494e6792f",
   "metadata": {},
   "outputs": [
    {
     "data": {
      "image/png": "[encoded data removed]",
      "text/plain": [
       "<Figure size 640x480 with 1 Axes>"
      ]
     },
     "metadata": {},
     "output_type": "display_data"
    }
   ],
   "source": [
    "train_data['label'].value_counts().plot(kind='bar')\n",
    "plt.show()"
   ]
  },
  {
   "cell_type": "code",
   "execution_count": 19,
   "id": "c734cea1-6eac-4ed2-a832-3a4853765323",
   "metadata": {},
   "outputs": [
    {
     "data": {
      "text/plain": [
       "{'AddToPlaylist': 0,\n",
       " 'BookRestaurant': 1,\n",
       " 'GetWeather': 2,\n",
       " 'RateBook': 3,\n",
       " 'SearchCreativeWork': 4,\n",
       " 'SearchScreeningEvent': 5}"
      ]
     },
     "execution_count": 19,
     "metadata": {},
     "output_type": "execute_result"
    }
   ],
   "source": [
    "idx_encode = preprocessing.LabelEncoder() # 레이블에 고유한 정수를 부여\n",
    "idx_encode.fit(label_train)\n",
    "\n",
    "label_train = idx_encode.transform(label_train) # 변환\n",
    "label_test = idx_encode.transform(label_test) # 변환\n",
    "\n",
    "label_idx = dict(zip(list(idx_encode.classes_), idx_encode.transform(list(idx_encode.classes_))))\n",
    "label_idx"
   ]
  },
  {
   "cell_type": "code",
   "execution_count": 21,
   "id": "5b894589-9b5f-4b01-9ed6-8e92c53db705",
   "metadata": {},
   "outputs": [
    {
     "name": "stdout",
     "output_type": "stream",
     "text": [
      "['add another song to the cita rom ntica playlist', 'add clem burke in my playlist pre party r b jams', 'add live from aragon ballroom to trapeo', 'add unite and win to my night out', 'add track to my digster future hits']\n",
      "[0 0 0 0 0]\n"
     ]
    }
   ],
   "source": [
    "print(intent_train[:5])\n",
    "print(label_train[:5])"
   ]
  },
  {
   "cell_type": "code",
   "execution_count": 20,
   "id": "0a963cc3-0735-4d77-9a0f-685ba9040520",
   "metadata": {},
   "outputs": [
    {
     "name": "stdout",
     "output_type": "stream",
     "text": [
      "[\"i 'd like to have this track onto my classical relaxations playlist\", 'add the album to my flow espa ol playlist', 'add digging now to my young at heart playlist', 'add this song by too poetic to my piano ballads playlist', 'add this album to old school death metal']\n",
      "[0 0 0 0 0]\n"
     ]
    }
   ],
   "source": [
    "print(intent_test[:5])\n",
    "print(label_train[:5])"
   ]
  },
  {
   "cell_type": "code",
   "execution_count": 25,
   "id": "d11f45bb-0bf8-4563-88ac-9b24de7b2d68",
   "metadata": {},
   "outputs": [
    {
     "data": {
      "text/plain": [
       "[[11, 191, 61, 4, 1, 4013, 1141, 1572, 15],\n",
       " [11, 2624, 1573, 3, 14, 15, 939, 82, 256, 188, 548],\n",
       " [11, 187, 42, 2625, 4014, 4, 1968],\n",
       " [11, 2626, 22, 2627, 4, 14, 192, 27],\n",
       " [11, 92, 4, 14, 651, 520, 195]]"
      ]
     },
     "execution_count": 25,
     "metadata": {},
     "output_type": "execute_result"
    }
   ],
   "source": [
    "# 토큰화\n",
    "tokenizer = Tokenizer()\n",
    "tokenizer.fit_on_texts(intent_train)\n",
    "sequences = tokenizer.texts_to_sequences(intent_train)\n",
    "sequences[:5]"
   ]
  },
  {
   "cell_type": "code",
   "execution_count": 26,
   "id": "0c6df0a7-a0b1-49dd-9362-e3f62fec9cfa",
   "metadata": {},
   "outputs": [
    {
     "data": {
      "text/plain": [
       "9870"
      ]
     },
     "execution_count": 26,
     "metadata": {},
     "output_type": "execute_result"
    }
   ],
   "source": [
    "word_index = tokenizer.word_index\n",
    "vocab_size = len(word_index) + 1\n",
    "vocab_size"
   ]
  },
  {
   "cell_type": "code",
   "execution_count": 31,
   "id": "25b07d28-8b64-4887-82df-b31b88506ea9",
   "metadata": {},
   "outputs": [
    {
     "name": "stdout",
     "output_type": "stream",
     "text": [
      "최대 길이 :  35\n",
      "평균 길이 :  9.364392396469789\n"
     ]
    }
   ],
   "source": [
    "print('최대 길이 : ', max(len(l) for l in sequences))\n",
    "# map(len, sequnces) : 각 시퀸스별로 len 함수 적용 == [len(x) for x in X_train_encoded]\n",
    "print('평균 길이 : ', sum(map(len, sequences))/len(sequences))"
   ]
  },
  {
   "cell_type": "code",
   "execution_count": 32,
   "id": "277115ba-d33d-4212-b4de-28d5f16ba37a",
   "metadata": {},
   "outputs": [
    {
     "data": {
      "image/png": "[encoded data removed]",
      "text/plain": [
       "<Figure size 640x480 with 1 Axes>"
      ]
     },
     "metadata": {},
     "output_type": "display_data"
    }
   ],
   "source": [
    "plt.hist([len(s) for s in sequences], bins=50)\n",
    "plt.xlabel('length')\n",
    "plt.ylabel('number')\n",
    "plt.show()"
   ]
  },
  {
   "cell_type": "code",
   "execution_count": 33,
   "id": "04f873ab-6b38-4252-865c-0ff1d913a1da",
   "metadata": {},
   "outputs": [
    {
     "name": "stdout",
     "output_type": "stream",
     "text": [
      "(11784, 40) (11784, 6)\n"
     ]
    }
   ],
   "source": [
    "max_len = 40\n",
    "intent_train = pad_sequences(sequences, maxlen=max_len)\n",
    "label_train = to_categorical(np.asarray(label_train))\n",
    "print(intent_train.shape, label_train.shape)"
   ]
  },
  {
   "cell_type": "code",
   "execution_count": 34,
   "id": "3d5534e9-37f0-493e-8830-2f7b0b80aad2",
   "metadata": {},
   "outputs": [
    {
     "name": "stdout",
     "output_type": "stream",
     "text": [
      "[   0    0    0    0    0    0    0    0    0    0    0    0    0    0\n",
      "    0    0    0    0    0    0    0    0    0    0    0    0    0    0\n",
      "    0    0    0   11  191   61    4    1 4013 1141 1572   15] [1. 0. 0. 0. 0. 0.]\n"
     ]
    }
   ],
   "source": [
    "print(intent_train[0], label_train[0])"
   ]
  },
  {
   "cell_type": "code",
   "execution_count": 35,
   "id": "f01efd77-1e00-4f7e-918f-a8420a0e2cb3",
   "metadata": {},
   "outputs": [
    {
     "data": {
      "text/plain": [
       "array([   96,  5623,  6304, ...,  8722, 10921,  1882])"
      ]
     },
     "execution_count": 35,
     "metadata": {},
     "output_type": "execute_result"
    }
   ],
   "source": [
    "indices = np.arange(intent_train.shape[0])\n",
    "np.random.shuffle(indices)\n",
    "indices"
   ]
  },
  {
   "cell_type": "code",
   "execution_count": 36,
   "id": "4088b563-9254-4660-9262-0452d798070b",
   "metadata": {},
   "outputs": [],
   "source": [
    "intent_train = intent_train[indices]\n",
    "label_train = label_train[indices]"
   ]
  },
  {
   "cell_type": "code",
   "execution_count": 46,
   "id": "697049c7-3a98-47ce-af81-d15886dc5230",
   "metadata": {},
   "outputs": [
    {
     "name": "stdout",
     "output_type": "stream",
     "text": [
      "Model: \"sequential_2\"\n",
      "_________________________________________________________________\n",
      " Layer (type)                Output Shape              Param #   \n",
      "=================================================================\n",
      " embedding_1 (Embedding)     (None, None, 32)          315840    \n",
      "                                                                 \n",
      " conv1d (Conv1D)             (None, None, 32)          5152      \n",
      "                                                                 \n",
      " global_max_pooling1d (Glob  (None, 32)                0         \n",
      " alMaxPooling1D)                                                 \n",
      "                                                                 \n",
      " dense_1 (Dense)             (None, 16)                528       \n",
      "                                                                 \n",
      " dropout (Dropout)           (None, 16)                0         \n",
      "                                                                 \n",
      " dense_2 (Dense)             (None, 6)                 102       \n",
      "                                                                 \n",
      "=================================================================\n",
      "Total params: 321622 (1.23 MB)\n",
      "Trainable params: 321622 (1.23 MB)\n",
      "Non-trainable params: 0 (0.00 Byte)\n",
      "_________________________________________________________________\n"
     ]
    }
   ],
   "source": [
    "# 분류작업\n",
    "from tensorflow.keras.layers import Conv1D, GlobalMaxPooling1D, Embedding, Dense, Dropout, BatchNormalization\n",
    "from tensorflow.keras.models import Sequential\n",
    "from tensorflow.keras.optimizers import Adam\n",
    "\n",
    "embedding_dim = 32\n",
    "dropout_ratio = 0.3\n",
    "num_filters = 32\n",
    "kernel_size = 5\n",
    "\n",
    "model = Sequential()\n",
    "model.add(Embedding(vocab_size, embedding_dim))\n",
    "model.add(Conv1D(num_filters, kernel_size, padding='valid', activation='relu'))\n",
    "model.add(GlobalMaxPooling1D())\n",
    "model.add(Dense(16, activation='relu'))\n",
    "model.add(Dropout(dropout_ratio))\n",
    "model.add(Dense(6, activation='softmax')) # 다중 분류이기 때문\n",
    "\n",
    "model.summary()"
   ]
  },
  {
   "cell_type": "code",
   "execution_count": 47,
   "id": "a04ddd71-e3ae-46f7-9ead-f1e43c5f04f4",
   "metadata": {},
   "outputs": [],
   "source": [
    "model.compile(optimizer='rmsprop', loss='binary_crossentropy', metrics=['acc'])"
   ]
  },
  {
   "cell_type": "code",
   "execution_count": 49,
   "id": "39ce2fc6-7671-455e-9454-667c6e5f9984",
   "metadata": {},
   "outputs": [],
   "source": [
    "from tensorflow.keras.callbacks import EarlyStopping, ModelCheckpoint\n",
    "\n",
    "es = EarlyStopping(monitor='val_loss', mode='min', verbose=1, patience=3)\n",
    "mc = ModelCheckpoint('best_model.h5', monitor='val_acc', mode='max', verbose=1, save_best_only=True)"
   ]
  },
  {
   "cell_type": "code",
   "execution_count": 50,
   "id": "5dbdb3c6-7113-4e76-9f5b-92f9bfe09faa",
   "metadata": {},
   "outputs": [
    {
     "name": "stdout",
     "output_type": "stream",
     "text": [
      "Epoch 1/5\n",
      "116/118 [============================>.] - ETA: 0s - loss: 0.4866 - acc: 0.2819\n",
      "Epoch 1: val_acc improved from -inf to 0.68823, saving model to best_model.h5\n",
      "118/118 [==============================] - 1s 6ms/step - loss: 0.4847 - acc: 0.2864 - val_loss: 0.3158 - val_acc: 0.6882\n",
      "Epoch 2/5\n",
      " 45/118 [==========>...................] - ETA: 0s - loss: 0.3211 - acc: 0.6049"
     ]
    },
    {
     "name": "stderr",
     "output_type": "stream",
     "text": [
      "/Users/jeon-yewon/miniforge3/envs/tensorflow/lib/python3.10/site-packages/keras/src/engine/training.py:3000: UserWarning: You are saving your model as an HDF5 file via `model.save()`. This file format is considered legacy. We recommend using instead the native Keras format, e.g. `model.save('my_model.keras')`.\n",
      "  saving_api.save_model(\n"
     ]
    },
    {
     "name": "stdout",
     "output_type": "stream",
     "text": [
      "110/118 [==========================>...] - ETA: 0s - loss: 0.2802 - acc: 0.6689\n",
      "Epoch 2: val_acc improved from 0.68823 to 0.94062, saving model to best_model.h5\n",
      "118/118 [==============================] - 1s 6ms/step - loss: 0.2758 - acc: 0.6768 - val_loss: 0.1529 - val_acc: 0.9406\n",
      "Epoch 3/5\n",
      "118/118 [==============================] - ETA: 0s - loss: 0.1730 - acc: 0.8397\n",
      "Epoch 3: val_acc improved from 0.94062 to 0.97031, saving model to best_model.h5\n",
      "118/118 [==============================] - 1s 6ms/step - loss: 0.1730 - acc: 0.8397 - val_loss: 0.0725 - val_acc: 0.9703\n",
      "Epoch 4/5\n",
      "113/118 [===========================>..] - ETA: 0s - loss: 0.1185 - acc: 0.8988\n",
      "Epoch 4: val_acc improved from 0.97031 to 0.97773, saving model to best_model.h5\n",
      "118/118 [==============================] - 1s 5ms/step - loss: 0.1180 - acc: 0.8984 - val_loss: 0.0422 - val_acc: 0.9777\n",
      "Epoch 5/5\n",
      "107/118 [==========================>...] - ETA: 0s - loss: 0.0868 - acc: 0.9292\n",
      "Epoch 5: val_acc improved from 0.97773 to 0.98250, saving model to best_model.h5\n",
      "118/118 [==============================] - 1s 5ms/step - loss: 0.0874 - acc: 0.9288 - val_loss: 0.0302 - val_acc: 0.9825\n"
     ]
    }
   ],
   "source": [
    "history = model.fit(X_train, y_train, epochs=5, batch_size=64, validation_split=0.2, callbacks=[es, mc])"
   ]
  },
  {
   "cell_type": "code",
   "execution_count": 52,
   "id": "41827f89-f593-4915-bd21-0b2f5f4946e9",
   "metadata": {},
   "outputs": [
    {
     "name": "stdout",
     "output_type": "stream",
     "text": [
      "(600, 40) (600, 6)\n"
     ]
    }
   ],
   "source": [
    "intent_encoded = tokenizer.texts_to_sequences(intent_test)\n",
    "intent_test = pad_sequences(intent_encoded, maxlen=max_len)\n",
    "label_test = to_categorical(np.array(label_test))\n",
    "\n",
    "print(intent_test.shape, label_test.shape)"
   ]
  },
  {
   "cell_type": "code",
   "execution_count": 54,
   "id": "df64acc6-0427-4b1a-ab4b-743e7244e535",
   "metadata": {},
   "outputs": [],
   "source": [
    "indices = np.arange(intent_test.shape[0])\n",
    "np.random.shuffle(indices)\n",
    "\n",
    "intent_test = intent_test[indices]\n",
    "label_test = label_test[indices]"
   ]
  },
  {
   "cell_type": "code",
   "execution_count": 56,
   "id": "388adc4e-a559-4977-81ef-5efbfaae29a3",
   "metadata": {},
   "outputs": [
    {
     "name": "stdout",
     "output_type": "stream",
     "text": [
      "19/19 [==============================] - 0s 794us/step - loss: 0.0280 - acc: 0.9783\n",
      "test acc :  0.9783333539962769\n"
     ]
    }
   ],
   "source": [
    "print('test acc : ', model.evaluate(intent_test, label_test)[1])"
   ]
  },
  {
   "cell_type": "code",
   "execution_count": 57,
   "id": "bb040aee-10ef-4ecf-a688-ca336107ff52",
   "metadata": {},
   "outputs": [
    {
     "name": "stdout",
     "output_type": "stream",
     "text": [
      "1178\n"
     ]
    }
   ],
   "source": [
    "n_of_val = int(0.1 * intent_train.shape[0])\n",
    "print(n_of_val)"
   ]
  },
  {
   "cell_type": "code",
   "execution_count": 60,
   "id": "cccd8a6b-13bd-4fbb-8d00-90b99f7f4fcc",
   "metadata": {},
   "outputs": [],
   "source": [
    "X_train = intent_train[:-n_of_val]\n",
    "y_train = label_train[:-n_of_val]\n",
    "X_val = intent_train[-n_of_val:]\n",
    "y_val = intent_train[-n_of_val:]\n",
    "X_test = intent_test\n",
    "y_test = label_test"
   ]
  },
  {
   "cell_type": "code",
   "execution_count": 61,
   "id": "e51ebc96-9c28-4659-99eb-e860c6edcce1",
   "metadata": {},
   "outputs": [
    {
     "name": "stdout",
     "output_type": "stream",
     "text": [
      "(10606, 40) (1178, 40) (600, 40)\n",
      "(10606, 6) (1178, 40) (600, 6)\n"
     ]
    }
   ],
   "source": [
    "print(X_train.shape, X_val.shape, X_test.shape)\n",
    "print(y_train.shape, y_val.shape, y_test.shape)"
   ]
  },
  {
   "cell_type": "code",
   "execution_count": 63,
   "id": "6e8a1898-7946-414d-a2ee-aeacc3bb220d",
   "metadata": {},
   "outputs": [],
   "source": [
    "# 임베딩/자연어처리\n",
    "embedding_dict = dict()\n",
    "\n",
    "f = open(os.path.join('glove.6B.100d.txt'), encoding='utf-8')\n",
    "\n",
    "for line in f:\n",
    "    word_vector = line.split()\n",
    "    word = word_vector[0]\n",
    "\n",
    "    word_vector_arr = np.asarray(word_vector[1:], dtype='float32')\n",
    "    embedding_dict[word] = word_vector_arr\n",
    "\n",
    "f.close()"
   ]
  },
  {
   "cell_type": "code",
   "execution_count": 64,
   "id": "3c1ec4f9-5ed0-4ba2-91f3-4e53a008e4d3",
   "metadata": {},
   "outputs": [
    {
     "name": "stdout",
     "output_type": "stream",
     "text": [
      "400000\n"
     ]
    }
   ],
   "source": [
    "print(len(embedding_dict))"
   ]
  },
  {
   "cell_type": "code",
   "execution_count": 65,
   "id": "ae142efe-92f9-4c3a-bd14-6030fa9746d3",
   "metadata": {},
   "outputs": [
    {
     "name": "stdout",
     "output_type": "stream",
     "text": [
      "[-0.6528   -0.087126  0.069655 -0.5048    0.79019   0.65051   0.37976\n",
      "  0.20751   0.10412   0.95853   0.32161   0.36098  -0.21461  -0.59657\n",
      "  0.362    -0.3951   -0.58838   0.324     1.0287    0.4569   -0.24372\n",
      " -0.26496   0.1975   -0.78302   0.17163  -0.076737  0.83705   0.58432\n",
      "  0.71843   0.57522   0.11688   0.011023 -0.53676   0.73441   0.09844\n",
      "  0.8927   -0.211     0.015395 -0.2928   -1.3875    1.0756    0.13387\n",
      "  0.20341   0.86427  -0.096482 -0.06536  -0.52669  -0.36076   0.76218\n",
      "  0.3854   -0.39054   0.014445  0.20772   0.41165  -0.16024  -0.66007\n",
      "  0.13666  -0.34246   0.4382    0.49848   0.31481  -0.13102  -0.17373\n",
      "  0.061581  1.1336   -0.25673  -0.20472  -0.72834   0.38054  -0.35237\n",
      "  0.033096  0.43066  -0.36101  -0.096088 -0.15556  -0.028297  0.32882\n",
      "  0.019752  0.5847   -0.12215  -0.53096  -0.53096   0.25334  -0.13078\n",
      " -0.058533  0.40602  -0.23493   0.048578 -0.34938   1.0172   -0.44\n",
      "  1.2431   -0.32026  -0.22517  -0.079004 -0.3919    0.18961  -0.42287\n",
      " -0.028161  0.92989 ]\n",
      "100\n"
     ]
    }
   ],
   "source": [
    "print(embedding_dict['playlist'])\n",
    "print(len(embedding_dict['playlist']))"
   ]
  },
  {
   "cell_type": "code",
   "execution_count": 66,
   "id": "7fa1bab1-1a53-4939-a448-9833eb8d0112",
   "metadata": {},
   "outputs": [
    {
     "data": {
      "text/plain": [
       "(9870, 100)"
      ]
     },
     "execution_count": 66,
     "metadata": {},
     "output_type": "execute_result"
    }
   ],
   "source": [
    "embedding_dim = 100\n",
    "embedding_matrix = np.zeros((vocab_size, embedding_dim))\n",
    "np.shape(embedding_matrix)"
   ]
  },
  {
   "cell_type": "code",
   "execution_count": 70,
   "id": "d2a74547-f7ab-4440-8987-a80ce15fcf9b",
   "metadata": {},
   "outputs": [
    {
     "data": {
      "text/plain": [
       "8906"
      ]
     },
     "execution_count": 70,
     "metadata": {},
     "output_type": "execute_result"
    }
   ],
   "source": [
    "cnt = 0\n",
    "\n",
    "for word, i in word_index.items():\n",
    "    embedding_vector = embedding_dict.get(word)\n",
    "    if embedding_vector is not None:\n",
    "        embedding_matrix[i] = embedding_vector\n",
    "        cnt += 1\n",
    "#    else:\n",
    "#        print(word)\n",
    "\n",
    "cnt"
   ]
  },
  {
   "cell_type": "code",
   "execution_count": 74,
   "id": "139b87e8-b8ce-4bbf-9dae-fabc2e775cae",
   "metadata": {},
   "outputs": [],
   "source": [
    "from tensorflow.keras.models import Model\n",
    "from tensorflow.keras.layers import Input, Flatten, Concatenate"
   ]
  },
  {
   "cell_type": "code",
   "execution_count": 76,
   "id": "14cde492-8dc7-4c12-9775-f62d79d5f126",
   "metadata": {},
   "outputs": [
    {
     "name": "stdout",
     "output_type": "stream",
     "text": [
      "Model: \"model_1\"\n",
      "__________________________________________________________________________________________________\n",
      " Layer (type)                Output Shape                 Param #   Connected to                  \n",
      "==================================================================================================\n",
      " input_2 (InputLayer)        [(None, 40)]                 0         []                            \n",
      "                                                                                                  \n",
      " embedding_3 (Embedding)     (None, 40, 100)              987000    ['input_2[0][0]']             \n",
      "                                                                                                  \n",
      " conv1d_4 (Conv1D)           (None, 39, 512)              102912    ['embedding_3[0][0]']         \n",
      "                                                                                                  \n",
      " conv1d_5 (Conv1D)           (None, 38, 512)              154112    ['embedding_3[0][0]']         \n",
      "                                                                                                  \n",
      " conv1d_6 (Conv1D)           (None, 36, 512)              256512    ['embedding_3[0][0]']         \n",
      "                                                                                                  \n",
      " global_max_pooling1d_4 (Gl  (None, 512)                  0         ['conv1d_4[0][0]']            \n",
      " obalMaxPooling1D)                                                                                \n",
      "                                                                                                  \n",
      " global_max_pooling1d_5 (Gl  (None, 512)                  0         ['conv1d_5[0][0]']            \n",
      " obalMaxPooling1D)                                                                                \n",
      "                                                                                                  \n",
      " global_max_pooling1d_6 (Gl  (None, 512)                  0         ['conv1d_6[0][0]']            \n",
      " obalMaxPooling1D)                                                                                \n",
      "                                                                                                  \n",
      " concatenate_1 (Concatenate  (None, 1536)                 0         ['global_max_pooling1d_4[0][0]\n",
      " )                                                                  ',                            \n",
      "                                                                     'global_max_pooling1d_5[0][0]\n",
      "                                                                    ',                            \n",
      "                                                                     'global_max_pooling1d_6[0][0]\n",
      "                                                                    ']                            \n",
      "                                                                                                  \n",
      " dropout_2 (Dropout)         (None, 1536)                 0         ['concatenate_1[0][0]']       \n",
      "                                                                                                  \n",
      " dense_4 (Dense)             (None, 6)                    9222      ['dropout_2[0][0]']           \n",
      "                                                                                                  \n",
      "==================================================================================================\n",
      "Total params: 1509758 (5.76 MB)\n",
      "Trainable params: 522758 (1.99 MB)\n",
      "Non-trainable params: 987000 (3.77 MB)\n",
      "__________________________________________________________________________________________________\n"
     ]
    }
   ],
   "source": [
    "kernel_sizes = [2, 3, 5]\n",
    "num_filters = 512\n",
    "dropout_ratio = 0.5\n",
    "\n",
    "model_input = Input(shape=(max_len, ))\n",
    "output = Embedding(vocab_size, embedding_dim, weights=[embedding_matrix],\n",
    "                   input_length=max_len, trainable=False)(model_input)\n",
    "\n",
    "conv_blocks = []\n",
    "\n",
    "for size in kernel_sizes:\n",
    "    conv = Conv1D(filters=num_filters, kernel_size=size, padding='valid', activation='relu', strides=1)(output)\n",
    "    conv = GlobalMaxPooling1D()(conv)\n",
    "    conv_blocks.append(conv)\n",
    "\n",
    "output = Concatenate()(conv_blocks) if len(conv_blocks) > 1 else conv_blocks[0] # 병합처리\n",
    "output = Dropout(dropout_ratio)(output)\n",
    "model_output = Dense(len(label_idx), activation='softmax')(output)\n",
    "\n",
    "model = Model(model_input, model_output)\n",
    "model.compile(loss='categorical_crossentropy', optimizer='adam', metrics=['acc'])\n",
    "model.summary()"
   ]
  },
  {
   "cell_type": "code",
   "execution_count": 78,
   "id": "12f3b345-2a1b-48ed-b234-c4419897dddc",
   "metadata": {},
   "outputs": [
    {
     "name": "stdout",
     "output_type": "stream",
     "text": [
      "Epoch 1/10\n",
      "166/166 [==============================] - ETA: 0s - loss: 0.1972 - acc: 0.9403"
     ]
    },
    {
     "ename": "ValueError",
     "evalue": "in user code:\n\n    File \"/Users/jeon-yewon/miniforge3/envs/tensorflow/lib/python3.10/site-packages/keras/src/engine/training.py\", line 1972, in test_function  *\n        return step_function(self, iterator)\n    File \"/Users/jeon-yewon/miniforge3/envs/tensorflow/lib/python3.10/site-packages/keras/src/engine/training.py\", line 1956, in step_function  **\n        outputs = model.distribute_strategy.run(run_step, args=(data,))\n    File \"/Users/jeon-yewon/miniforge3/envs/tensorflow/lib/python3.10/site-packages/keras/src/engine/training.py\", line 1944, in run_step  **\n        outputs = model.test_step(data)\n    File \"/Users/jeon-yewon/miniforge3/envs/tensorflow/lib/python3.10/site-packages/keras/src/engine/training.py\", line 1852, in test_step\n        self.compute_loss(x, y, y_pred, sample_weight)\n    File \"/Users/jeon-yewon/miniforge3/envs/tensorflow/lib/python3.10/site-packages/keras/src/engine/training.py\", line 1139, in compute_loss\n        return self.compiled_loss(\n    File \"/Users/jeon-yewon/miniforge3/envs/tensorflow/lib/python3.10/site-packages/keras/src/engine/compile_utils.py\", line 265, in __call__\n        loss_value = loss_obj(y_t, y_p, sample_weight=sw)\n    File \"/Users/jeon-yewon/miniforge3/envs/tensorflow/lib/python3.10/site-packages/keras/src/losses.py\", line 142, in __call__\n        losses = call_fn(y_true, y_pred)\n    File \"/Users/jeon-yewon/miniforge3/envs/tensorflow/lib/python3.10/site-packages/keras/src/losses.py\", line 268, in call  **\n        return ag_fn(y_true, y_pred, **self._fn_kwargs)\n    File \"/Users/jeon-yewon/miniforge3/envs/tensorflow/lib/python3.10/site-packages/keras/src/losses.py\", line 2122, in categorical_crossentropy\n        return backend.categorical_crossentropy(\n    File \"/Users/jeon-yewon/miniforge3/envs/tensorflow/lib/python3.10/site-packages/keras/src/backend.py\", line 5560, in categorical_crossentropy\n        target.shape.assert_is_compatible_with(output.shape)\n\n    ValueError: Shapes (None, 40) and (None, 6) are incompatible\n",
     "output_type": "error",
     "traceback": [
      "\u001b[0;31m---------------------------------------------------------------------------\u001b[0m",
      "\u001b[0;31mValueError\u001b[0m                                Traceback (most recent call last)",
      "Cell \u001b[0;32mIn[78], line 1\u001b[0m\n\u001b[0;32m----> 1\u001b[0m history \u001b[38;5;241m=\u001b[39m \u001b[43mmodel\u001b[49m\u001b[38;5;241;43m.\u001b[39;49m\u001b[43mfit\u001b[49m\u001b[43m(\u001b[49m\u001b[43mX_train\u001b[49m\u001b[43m,\u001b[49m\u001b[43m \u001b[49m\u001b[43my_train\u001b[49m\u001b[43m,\u001b[49m\u001b[43m \u001b[49m\u001b[43mbatch_size\u001b[49m\u001b[38;5;241;43m=\u001b[39;49m\u001b[38;5;241;43m64\u001b[39;49m\u001b[43m,\u001b[49m\u001b[43m \u001b[49m\u001b[43mepochs\u001b[49m\u001b[38;5;241;43m=\u001b[39;49m\u001b[38;5;241;43m10\u001b[39;49m\u001b[43m,\u001b[49m\u001b[43m \u001b[49m\u001b[43mvalidation_data\u001b[49m\u001b[38;5;241;43m=\u001b[39;49m\u001b[43m(\u001b[49m\u001b[43mX_val\u001b[49m\u001b[43m,\u001b[49m\u001b[43m \u001b[49m\u001b[43my_val\u001b[49m\u001b[43m)\u001b[49m\u001b[43m)\u001b[49m\n",
      "File \u001b[0;32m~/miniforge3/envs/tensorflow/lib/python3.10/site-packages/keras/src/utils/traceback_utils.py:70\u001b[0m, in \u001b[0;36mfilter_traceback.<locals>.error_handler\u001b[0;34m(*args, **kwargs)\u001b[0m\n\u001b[1;32m     67\u001b[0m     filtered_tb \u001b[38;5;241m=\u001b[39m _process_traceback_frames(e\u001b[38;5;241m.\u001b[39m__traceback__)\n\u001b[1;32m     68\u001b[0m     \u001b[38;5;66;03m# To get the full stack trace, call:\u001b[39;00m\n\u001b[1;32m     69\u001b[0m     \u001b[38;5;66;03m# `tf.debugging.disable_traceback_filtering()`\u001b[39;00m\n\u001b[0;32m---> 70\u001b[0m     \u001b[38;5;28;01mraise\u001b[39;00m e\u001b[38;5;241m.\u001b[39mwith_traceback(filtered_tb) \u001b[38;5;28;01mfrom\u001b[39;00m \u001b[38;5;28;01mNone\u001b[39;00m\n\u001b[1;32m     71\u001b[0m \u001b[38;5;28;01mfinally\u001b[39;00m:\n\u001b[1;32m     72\u001b[0m     \u001b[38;5;28;01mdel\u001b[39;00m filtered_tb\n",
      "File \u001b[0;32m/var/folders/mr/zpw8mcz14pj_gkyqs4k_zl4c0000gn/T/__autograph_generated_filefxfr4d0v.py:15\u001b[0m, in \u001b[0;36mouter_factory.<locals>.inner_factory.<locals>.tf__test_function\u001b[0;34m(iterator)\u001b[0m\n\u001b[1;32m     13\u001b[0m \u001b[38;5;28;01mtry\u001b[39;00m:\n\u001b[1;32m     14\u001b[0m     do_return \u001b[38;5;241m=\u001b[39m \u001b[38;5;28;01mTrue\u001b[39;00m\n\u001b[0;32m---> 15\u001b[0m     retval_ \u001b[38;5;241m=\u001b[39m ag__\u001b[38;5;241m.\u001b[39mconverted_call(ag__\u001b[38;5;241m.\u001b[39mld(step_function), (ag__\u001b[38;5;241m.\u001b[39mld(\u001b[38;5;28mself\u001b[39m), ag__\u001b[38;5;241m.\u001b[39mld(iterator)), \u001b[38;5;28;01mNone\u001b[39;00m, fscope)\n\u001b[1;32m     16\u001b[0m \u001b[38;5;28;01mexcept\u001b[39;00m:\n\u001b[1;32m     17\u001b[0m     do_return \u001b[38;5;241m=\u001b[39m \u001b[38;5;28;01mFalse\u001b[39;00m\n",
      "\u001b[0;31mValueError\u001b[0m: in user code:\n\n    File \"/Users/jeon-yewon/miniforge3/envs/tensorflow/lib/python3.10/site-packages/keras/src/engine/training.py\", line 1972, in test_function  *\n        return step_function(self, iterator)\n    File \"/Users/jeon-yewon/miniforge3/envs/tensorflow/lib/python3.10/site-packages/keras/src/engine/training.py\", line 1956, in step_function  **\n        outputs = model.distribute_strategy.run(run_step, args=(data,))\n    File \"/Users/jeon-yewon/miniforge3/envs/tensorflow/lib/python3.10/site-packages/keras/src/engine/training.py\", line 1944, in run_step  **\n        outputs = model.test_step(data)\n    File \"/Users/jeon-yewon/miniforge3/envs/tensorflow/lib/python3.10/site-packages/keras/src/engine/training.py\", line 1852, in test_step\n        self.compute_loss(x, y, y_pred, sample_weight)\n    File \"/Users/jeon-yewon/miniforge3/envs/tensorflow/lib/python3.10/site-packages/keras/src/engine/training.py\", line 1139, in compute_loss\n        return self.compiled_loss(\n    File \"/Users/jeon-yewon/miniforge3/envs/tensorflow/lib/python3.10/site-packages/keras/src/engine/compile_utils.py\", line 265, in __call__\n        loss_value = loss_obj(y_t, y_p, sample_weight=sw)\n    File \"/Users/jeon-yewon/miniforge3/envs/tensorflow/lib/python3.10/site-packages/keras/src/losses.py\", line 142, in __call__\n        losses = call_fn(y_true, y_pred)\n    File \"/Users/jeon-yewon/miniforge3/envs/tensorflow/lib/python3.10/site-packages/keras/src/losses.py\", line 268, in call  **\n        return ag_fn(y_true, y_pred, **self._fn_kwargs)\n    File \"/Users/jeon-yewon/miniforge3/envs/tensorflow/lib/python3.10/site-packages/keras/src/losses.py\", line 2122, in categorical_crossentropy\n        return backend.categorical_crossentropy(\n    File \"/Users/jeon-yewon/miniforge3/envs/tensorflow/lib/python3.10/site-packages/keras/src/backend.py\", line 5560, in categorical_crossentropy\n        target.shape.assert_is_compatible_with(output.shape)\n\n    ValueError: Shapes (None, 40) and (None, 6) are incompatible\n"
     ]
    }
   ],
   "source": [
    "history = model.fit(X_train, y_train, batch_size=64, epochs=10, validation_data=(X_val, y_val))"
   ]
  },
  {
   "cell_type": "code",
   "execution_count": null,
   "id": "a5ffe497-e1d1-4f43-b359-c4fd6b3b589a",
   "metadata": {},
   "outputs": [],
   "source": [
    "epochs = range(1, len(history.history['acc'])+1)\n",
    "\n",
    "plt.plot(epochs, history.history['acc'])\n",
    "plt.plot(epochs, history.history['val_acc'])\n",
    "plt.title('model accuracy')\n",
    "plt.ylabel('accuracy')\n",
    "plt.xlabel('epochs')\n",
    "plt.legend(['train', 'test'])\n",
    "plt.show()"
   ]
  },
  {
   "cell_type": "code",
   "execution_count": null,
   "id": "d88e578d-1eaa-4b5b-a05a-3f4b4da4bf2a",
   "metadata": {},
   "outputs": [],
   "source": []
  },
  {
   "cell_type": "code",
   "execution_count": null,
   "id": "f8e2fb09-7b4e-43c5-a49e-e389ac5e9b55",
   "metadata": {},
   "outputs": [],
   "source": []
  },
  {
   "cell_type": "code",
   "execution_count": null,
   "id": "7ea8a679-8a39-4ae7-80ec-e0aae39924d5",
   "metadata": {},
   "outputs": [],
   "source": []
  },
  {
   "cell_type": "code",
   "execution_count": null,
   "id": "3734fb84-dab7-466f-9963-a6552e41505f",
   "metadata": {},
   "outputs": [],
   "source": []
  },
  {
   "cell_type": "code",
   "execution_count": null,
   "id": "e4b02ca3-6f99-4205-89fe-be2481641a66",
   "metadata": {},
   "outputs": [],
   "source": []
  },
  {
   "cell_type": "code",
   "execution_count": null,
   "id": "1ebada63-f1ad-4b76-8c97-8c753196ed7d",
   "metadata": {},
   "outputs": [],
   "source": []
  },
  {
   "cell_type": "code",
   "execution_count": null,
   "id": "91c82aec-9444-4651-9ec8-54713dc3df9a",
   "metadata": {},
   "outputs": [],
   "source": [
    "epoch=range(1, len(history.history['loss'])+1)\n",
    "plt.plot(epochs, history.history['loss'])\n",
    "plt.plot(epochs, history.history['val_loss'])\n",
    "plt.title('model loss')\n",
    "plt.ylabel('loss')\n",
    "plt.xlabel('"
   ]
  },
  {
   "cell_type": "code",
   "execution_count": null,
   "id": "0da35f78-fb78-44fd-88c8-b22a4b36745e",
   "metadata": {},
   "outputs": [],
   "source": [
    "# 정확도 그래프\n",
    "print('test acc : ', model.evaluate(X_test, y_test)[1])\n"
   ]
  },
  {
   "cell_type": "code",
   "execution_count": null,
   "id": "3637c99a-2895-4660-804d-04e252003256",
   "metadata": {},
   "outputs": [],
   "source": []
  }
 ],
 "metadata": {
  "kernelspec": {
   "display_name": "Python (tensorflow)",
   "language": "python",
   "name": "tensorflow"
  },
  "language_info": {
   "codemirror_mode": {
    "name": "ipython",
    "version": 3
   },
   "file_extension": ".py",
   "mimetype": "text/x-python",
   "name": "python",
   "nbconvert_exporter": "python",
   "pygments_lexer": "ipython3",
   "version": "3.10.14"
  }
 },
 "nbformat": 4,
 "nbformat_minor": 5
}
