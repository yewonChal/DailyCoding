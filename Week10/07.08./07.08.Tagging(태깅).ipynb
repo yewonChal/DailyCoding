{
 "cells": [
  {
   "cell_type": "markdown",
   "id": "80787969-82dd-43ff-a937-446bb44b6b4a",
   "metadata": {},
   "source": [
    "# 태깅(Tagging) \n",
    "### : NLP에서 각 단어나 토큰에 대해 관련된 정보를 할당하는 작업\n",
    "\n",
    "1. 품사 태깅(Part-of-Speach Tagging) : 각 단어나 토큰에 대해 단어의 품사(명사, 형용사, 동사 등)을 할당한다.\n",
    "\n",
    "ex) The cat sat on the mat -> ['the', 'cat', 'sat', 'on', 'the', 'mat'] -> the:DT, cat:NN, sat:VBD, on:IN, the:DT, mat:NN\n",
    "- DT : 한정사(determiner)\n",
    "- NN : 명사(Noun)\n",
    "- VBD : 과거형 동사(past tense verb)\n",
    "- IN : 전치사(preposition)\n",
    "\n",
    "2. 명명된 개체 인식(Named Entity Recognition, NER) : NLP에서 사람, 조직, 장소, 날짜 등 명명된 개체를 인식하고 태깅한다.\n",
    "\n",
    "ex) Barack Obama was born in Hawaii. -> Barack:PERSON, Obama:PERSON, Hawaii:LOCATION\n",
    "\n",
    "3. 의존 구문 분석(Dependency Parsing) : NLP에서 각 단어의 종속 관계를 식별하고 태깅한다.\n",
    "\n",
    "ex) She enjoys playing piano. -> 중심(enjoys 동사), she 주어, playing 목적어\n",
    "\n",
    "4. 문법적 관계 태깅(Constituency Parsing) : 문장의 구성 요소를 분석해서 계층 트리 구조로 표현 및 태깅한다.\n",
    "\n",
    "5. 감정 분석(Sentiment Analysis) : 각 문장이나 토큰에 대해 감정을 태깅할 수 있다.\n",
    "\n",
    "ex) I love NLP. (positive)"
   ]
  },
  {
   "cell_type": "markdown",
   "id": "1361c352-91b0-4e56-b65d-0f6ec0e0292c",
   "metadata": {},
   "source": [
    "![image.png](attachment:69f2e327-548f-46b0-abdc-94eb300a7f32.png)"
   ]
  },
  {
   "cell_type": "code",
   "execution_count": 10,
   "id": "f4315431-fcfe-468d-9817-6a451f7c8c8d",
   "metadata": {},
   "outputs": [
    {
     "name": "stderr",
     "output_type": "stream",
     "text": [
      "[nltk_data] Downloading package averaged_perceptron_tagger to\n",
      "[nltk_data]     /Users/jeon-yewon/nltk_data...\n",
      "[nltk_data]   Package averaged_perceptron_tagger is already up-to-\n",
      "[nltk_data]       date!\n"
     ]
    },
    {
     "data": {
      "text/plain": [
       "True"
      ]
     },
     "execution_count": 10,
     "metadata": {},
     "output_type": "execute_result"
    }
   ],
   "source": [
    "import nltk\n",
    "nltk.download('averaged_perceptron_tagger')"
   ]
  },
  {
   "cell_type": "code",
   "execution_count": 11,
   "id": "d2e6f19b-15d9-4faa-b391-b4a94cbba8ba",
   "metadata": {},
   "outputs": [
    {
     "name": "stderr",
     "output_type": "stream",
     "text": [
      "[nltk_data] Downloading package maxent_ne_chunker to /Users/jeon-\n",
      "[nltk_data]     yewon/nltk_data...\n",
      "[nltk_data]   Package maxent_ne_chunker is already up-to-date!\n"
     ]
    },
    {
     "data": {
      "text/plain": [
       "True"
      ]
     },
     "execution_count": 11,
     "metadata": {},
     "output_type": "execute_result"
    }
   ],
   "source": [
    "nltk.download('maxent_ne_chunker')"
   ]
  },
  {
   "cell_type": "code",
   "execution_count": 14,
   "id": "daced92f-5e3a-4700-af09-e9dd2ee2664b",
   "metadata": {},
   "outputs": [
    {
     "name": "stderr",
     "output_type": "stream",
     "text": [
      "[nltk_data] Downloading package words to /Users/jeon-\n",
      "[nltk_data]     yewon/nltk_data...\n",
      "[nltk_data]   Unzipping corpora/words.zip.\n"
     ]
    },
    {
     "data": {
      "text/plain": [
       "True"
      ]
     },
     "execution_count": 14,
     "metadata": {},
     "output_type": "execute_result"
    }
   ],
   "source": [
    "nltk.download('words')"
   ]
  },
  {
   "cell_type": "code",
   "execution_count": 2,
   "id": "9993d18a-733b-4269-a84e-0d4b7f3b3ac3",
   "metadata": {},
   "outputs": [
    {
     "name": "stdout",
     "output_type": "stream",
     "text": [
      "[('The', 'DT'), ('cat', 'NN'), ('sat', 'VBD'), ('on', 'IN'), ('the', 'DT'), ('mat', 'NN')]\n"
     ]
    }
   ],
   "source": [
    "from nltk import word_tokenize, pos_tag\n",
    "\n",
    "text = 'The cat sat on the mat'\n",
    "\n",
    "tokens = word_tokenize(text) # 토큰화\n",
    "\n",
    "tagged = pos_tag(tokens) # 품사 태깅\n",
    "\n",
    "print(tagged)"
   ]
  },
  {
   "cell_type": "code",
   "execution_count": 3,
   "id": "58be3b2e-a392-4103-a020-b103175907f3",
   "metadata": {},
   "outputs": [
    {
     "name": "stdout",
     "output_type": "stream",
     "text": [
      "[('Barack', 'NNP'), ('Obama', 'NNP'), ('was', 'VBD'), ('born', 'VBN'), ('in', 'IN'), ('Hawaii', 'NNP'), ('.', '.')]\n",
      "(S\n",
      "  (PERSON Barack/NNP)\n",
      "  (PERSON Obama/NNP)\n",
      "  was/VBD\n",
      "  born/VBN\n",
      "  in/IN\n",
      "  (GPE Hawaii/NNP)\n",
      "  ./.)\n"
     ]
    }
   ],
   "source": [
    "from nltk import ne_chunk\n",
    "\n",
    "text = 'Barack Obama was born in Hawaii.'\n",
    "\n",
    "tokens = word_tokenize(text)\n",
    "tags = pos_tag(tokens)\n",
    "entities = ne_chunk(tags)\n",
    "\n",
    "print(tags)\n",
    "print(entities)"
   ]
  },
  {
   "cell_type": "code",
   "execution_count": 4,
   "id": "fdebbd13-35ec-4bf8-9018-c87e4aad4d00",
   "metadata": {},
   "outputs": [
    {
     "name": "stdout",
     "output_type": "stream",
     "text": [
      "[('Barack Obama', 'PERSON'), ('Hawaii', 'GPE')]\n"
     ]
    }
   ],
   "source": [
    "import spacy\n",
    "\n",
    "nlp = spacy.load('en_core_web_sm') # spacya의 사전 학습 모델(토큰화, POS 태깅, NER 등이 포함)\n",
    "\n",
    "text = 'Barack Obama was born in Hawaii.'\n",
    "doc = nlp(text)\n",
    "\n",
    "entities = [(entity.text, entity.label_) for entity in doc.ents]\n",
    "print(entities)"
   ]
  },
  {
   "cell_type": "code",
   "execution_count": 5,
   "id": "ed2049b0-2ef9-4271-9541-0f3da14547b9",
   "metadata": {},
   "outputs": [
    {
     "name": "stdout",
     "output_type": "stream",
     "text": [
      "(S\n",
      "  (NP The/DT quick/JJ brown/NN)\n",
      "  (NP fox/NN)\n",
      "  jumps/VBZ\n",
      "  over/IN\n",
      "  (NP the/DT lazy/JJ dog/NN))\n"
     ]
    }
   ],
   "source": [
    "from nltk import RegexpParser\n",
    "\n",
    "text = 'The quick brown fox jumps over the lazy dog'\n",
    "tokens = word_tokenize(text)\n",
    "tags = pos_tag(tokens)\n",
    "\n",
    "# 청킹 규칙 정의 : 품사 태그의 패턴을 정의하여 특정 부분을 추출한다.\n",
    "grammer = 'NP: {<DT>?<JJ>*<NN>}'\n",
    "\n",
    "cp = RegexpParser(grammer) # 청킹 파서 생성\n",
    "tree = cp.parse(tags) # 품사 태깅된 토큰 리스트을 통해 청킹 트리를 생성한다.\n",
    "\n",
    "print(tree)"
   ]
  },
  {
   "cell_type": "markdown",
   "id": "636febb2-5c9c-40c1-9146-7e6b072376b4",
   "metadata": {},
   "source": [
    "# 청킹 규칙 정의 \n",
    "### : 품사 태그의 패턴을 정의하여 특정 부분을 추출한다.\n",
    "\n",
    "1. 기본\n",
    "- {} : 패턴을 정의하는 부분\n",
    "\n",
    "2. 반복 및 선택\n",
    "- ? : 0개 또는 1개의 품사 태그\n",
    "- * : 0개 이상 품사 태그\n",
    "- + : 1개 이상 품사 태그\n",
    "\n",
    "(S\n",
    "  (NP The/DT quick/JJ brown/NN)\n",
    "  (NP fox/NN)\n",
    "  jumps/VBZ\n",
    "  over/IN\n",
    "  (NP the/DT lazy/JJ dog/NN))\n",
    "\n",
    "S ... : 문장(Sentence)을 의미하는 최상위 노드\n",
    "(NP The/DT quick/JJ brown/NN) (NP fox/NN) : 명사구 (The quick brown fox)\n",
    "(NP the/DT lazy/JJ dog/NN) : 명사구 (The lazy dog)"
   ]
  },
  {
   "cell_type": "code",
   "execution_count": 6,
   "id": "7dfab89b-a70c-4af4-b77a-9bf61a658a46",
   "metadata": {},
   "outputs": [],
   "source": [
    "import nltk\n",
    "import numpy as np\n",
    "import matplotlib.pyplot as plt\n",
    "from tensorflow.keras.preprocessing.text import Tokenizer\n",
    "from tensorflow.keras.preprocessing.sequence import pad_sequences\n",
    "from tensorflow.keras.utils import to_categorical\n",
    "from sklearn.model_selection import train_test_split"
   ]
  },
  {
   "cell_type": "code",
   "execution_count": 7,
   "id": "fa16386e-c42e-4624-8409-1fc7851acf98",
   "metadata": {},
   "outputs": [
    {
     "name": "stderr",
     "output_type": "stream",
     "text": [
      "[nltk_data] Downloading package treebank to /Users/jeon-\n",
      "[nltk_data]     yewon/nltk_data...\n",
      "[nltk_data]   Unzipping corpora/treebank.zip.\n"
     ]
    },
    {
     "data": {
      "text/plain": [
       "True"
      ]
     },
     "execution_count": 7,
     "metadata": {},
     "output_type": "execute_result"
    }
   ],
   "source": [
    "nltk.download('treebank')"
   ]
  },
  {
   "cell_type": "code",
   "execution_count": 8,
   "id": "30c43e18-1c77-4077-855b-c8423797eb22",
   "metadata": {},
   "outputs": [
    {
     "data": {
      "text/plain": [
       "3914"
      ]
     },
     "execution_count": 8,
     "metadata": {},
     "output_type": "execute_result"
    }
   ],
   "source": [
    "tagged_sentences = nltk.corpus.treebank.tagged_sents()\n",
    "len(tagged_sentences)"
   ]
  },
  {
   "cell_type": "code",
   "execution_count": 9,
   "id": "799ea84a-2d46-4a58-9401-04ab566e75af",
   "metadata": {},
   "outputs": [
    {
     "name": "stdout",
     "output_type": "stream",
     "text": [
      "[('Pierre', 'NNP'), ('Vinken', 'NNP'), (',', ','), ('61', 'CD'), ('years', 'NNS'), ('old', 'JJ'), (',', ','), ('will', 'MD'), ('join', 'VB'), ('the', 'DT'), ('board', 'NN'), ('as', 'IN'), ('a', 'DT'), ('nonexecutive', 'JJ'), ('director', 'NN'), ('Nov.', 'NNP'), ('29', 'CD'), ('.', '.')]\n"
     ]
    }
   ],
   "source": [
    "print(tagged_sentences[0])"
   ]
  },
  {
   "cell_type": "code",
   "execution_count": 10,
   "id": "25fc6372-acc5-467f-a48a-0e0a363b4045",
   "metadata": {},
   "outputs": [],
   "source": [
    "sentences, pos_tags = [], [] # 단어와 태그 부분을 나누어 작업 진행\n",
    "\n",
    "for tagged_sentence in tagged_sentences:\n",
    "    sentence, tag_info = zip(*tagged_sentence)\n",
    "    sentences.append(list(sentence))\n",
    "    pos_tags.append(list(tag_info))"
   ]
  },
  {
   "cell_type": "code",
   "execution_count": 13,
   "id": "e899368f-da00-49bd-8850-b7f6cc78686f",
   "metadata": {},
   "outputs": [
    {
     "name": "stdout",
     "output_type": "stream",
     "text": [
      "['Pierre', 'Vinken', ',', '61', 'years', 'old', ',', 'will', 'join', 'the', 'board', 'as', 'a', 'nonexecutive', 'director', 'Nov.', '29', '.']\n"
     ]
    }
   ],
   "source": [
    "print(sentences[0])"
   ]
  },
  {
   "cell_type": "code",
   "execution_count": 14,
   "id": "f1607d4f-3fc6-4e93-92bd-8f113320a89b",
   "metadata": {},
   "outputs": [
    {
     "name": "stdout",
     "output_type": "stream",
     "text": [
      "['NNP', 'NNP', ',', 'CD', 'NNS', 'JJ', ',', 'MD', 'VB', 'DT', 'NN', 'IN', 'DT', 'JJ', 'NN', 'NNP', 'CD', '.']\n"
     ]
    }
   ],
   "source": [
    "print(pos_tags[0])"
   ]
  },
  {
   "cell_type": "markdown",
   "id": "a91e49a8-672f-4341-a1d4-5d26bac3e191",
   "metadata": {},
   "source": [
    "### 모델로 태깅처리(x(sentences) 데이터로 y(pos_tags) 데이터 예측하기))\n",
    "1. 데이터 분리(sentences, pos_tags)\n",
    "2. 토큰화(두 가지 모두 단어 형식)\n",
    "* 그동안은 숫자/숫자 또는 숫자/문자를 기준으로 토큰화 처리 했다면, 이번 코드에선 문자/문자를 기준으로 토큰화 처리하는 것에 집중하여 살펴본다.\n",
    "\n",
    "3. 패딩(Padding) 작업\n",
    "4. 분류\n",
    "5. 모델학습"
   ]
  },
  {
   "cell_type": "code",
   "execution_count": 15,
   "id": "5fcb3c58-6ed6-4d29-ad6f-86cdca9ad925",
   "metadata": {},
   "outputs": [],
   "source": [
    "def tokenize(samples):\n",
    "    tokenizer = Tokenizer()\n",
    "    tokenizer.fit_on_texts(samples)\n",
    "    return tokenizer"
   ]
  },
  {
   "cell_type": "code",
   "execution_count": 24,
   "id": "31e99ba3-4514-42e4-a192-eca92eede3a6",
   "metadata": {},
   "outputs": [],
   "source": [
    "src_tokenizer = tokenize(sentences)\n",
    "tag_tokenizer = tokenize(pos_tags)"
   ]
  },
  {
   "cell_type": "code",
   "execution_count": 25,
   "id": "4679dabe-edec-419b-8a93-0a2c225750dc",
   "metadata": {},
   "outputs": [
    {
     "name": "stdout",
     "output_type": "stream",
     "text": [
      "단어 집합의 크기 :  11388\n"
     ]
    }
   ],
   "source": [
    "vocab_size = len(src_tokenizer.word_index) + 1\n",
    "print('단어 집합의 크기 : ', vocab_size)"
   ]
  },
  {
   "cell_type": "code",
   "execution_count": 26,
   "id": "c23c69e4-0c8a-4f52-974c-c5025d997972",
   "metadata": {},
   "outputs": [
    {
     "name": "stdout",
     "output_type": "stream",
     "text": [
      "태깅 집합의 크기 :  47\n"
     ]
    }
   ],
   "source": [
    "tag_size = len(tar_tokenizer.word_index) + 1\n",
    "print('태깅 집합의 크기 : ', tag_size)"
   ]
  },
  {
   "cell_type": "code",
   "execution_count": 27,
   "id": "3bcfb8fa-a5bc-4ca8-af52-4b7e3a1b4222",
   "metadata": {},
   "outputs": [],
   "source": [
    "X_train = src_tokenizer.texts_to_sequences(sentences)\n",
    "y_train = tag_tokenizer.texts_to_sequences(pos_tags)"
   ]
  },
  {
   "cell_type": "code",
   "execution_count": 28,
   "id": "ea588c53-cf80-4f09-9197-e34434744376",
   "metadata": {},
   "outputs": [
    {
     "name": "stdout",
     "output_type": "stream",
     "text": [
      "[5601, 3746, 1, 2024, 86, 331, 1, 46, 2405, 2, 131, 27, 6, 2025, 332, 459, 2026, 3] [3, 3, 8, 10, 6, 7, 8, 21, 13, 4, 1, 2, 4, 7, 1, 3, 10, 9]\n"
     ]
    }
   ],
   "source": [
    "print(X_train[0], y_train[0])"
   ]
  },
  {
   "cell_type": "code",
   "execution_count": 30,
   "id": "83aa50da-11ae-47cd-a9ea-ecd75be04782",
   "metadata": {},
   "outputs": [
    {
     "name": "stdout",
     "output_type": "stream",
     "text": [
      "최대 길이 :  271\n",
      "평균 길이 :  25.722023505365357\n"
     ]
    }
   ],
   "source": [
    "print('최대 길이 : ', max(len(l) for l in X_train))\n",
    "print('평균 길이 : ', (sum(map(len, X_train))/len(X_train)))"
   ]
  },
  {
   "cell_type": "code",
   "execution_count": 31,
   "id": "72909bb5-48c6-4324-bbb2-a09321f5d22b",
   "metadata": {},
   "outputs": [
    {
     "data": {
      "image/png": "[encoded data removed]",
      "text/plain": [
       "<Figure size 640x480 with 1 Axes>"
      ]
     },
     "metadata": {},
     "output_type": "display_data"
    }
   ],
   "source": [
    "plt.hist([len(s) for s in X_train], bins=50)\n",
    "plt.xlabel('length of samples')\n",
    "plt.ylabel('number of samples')\n",
    "plt.show()"
   ]
  },
  {
   "cell_type": "code",
   "execution_count": 32,
   "id": "e81bb82c-110f-4d69-917f-0722ec374184",
   "metadata": {},
   "outputs": [
    {
     "name": "stdout",
     "output_type": "stream",
     "text": [
      "최대 길이 :  271\n",
      "평균 길이 :  25.722023505365357\n"
     ]
    }
   ],
   "source": [
    "print('최대 길이 : ', max(len(l) for l in y_train))\n",
    "print('평균 길이 : ', (sum(map(len, y_train))/len(y_train)))"
   ]
  },
  {
   "cell_type": "code",
   "execution_count": 33,
   "id": "8033d3f5-c35b-4644-ac07-ed7c8de87fed",
   "metadata": {},
   "outputs": [],
   "source": [
    "# 각 단어별 태그임으로 최대 길이와 평균 길이가 동일한 모습을 살펴볼 수 있다."
   ]
  },
  {
   "cell_type": "code",
   "execution_count": 34,
   "id": "20ba4815-20ef-40b2-9925-0dfef38c86b5",
   "metadata": {},
   "outputs": [],
   "source": [
    "max_len = 150\n",
    "X_train = pad_sequences(X_train, padding='post', maxlen=max_len)\n",
    "y_train = pad_sequences(y_train, padding='post', maxlen=max_len)"
   ]
  },
  {
   "cell_type": "code",
   "execution_count": 38,
   "id": "c10da6e4-af75-4e9c-b6c6-eeddcacdc698",
   "metadata": {},
   "outputs": [
    {
     "name": "stdout",
     "output_type": "stream",
     "text": [
      "[[5601 3746    1 2024   86  331    1   46 2405    2  131   27    6 2025\n",
      "   332  459 2026    3    0    0    0    0    0    0    0    0    0    0\n",
      "     0    0    0    0    0    0    0    0    0    0    0    0    0    0\n",
      "     0    0    0    0    0    0    0    0    0    0    0    0    0    0\n",
      "     0    0    0    0    0    0    0    0    0    0    0    0    0    0\n",
      "     0    0    0    0    0    0    0    0    0    0    0    0    0    0\n",
      "     0    0    0    0    0    0    0    0    0    0    0    0    0    0\n",
      "     0    0    0    0    0    0    0    0    0    0    0    0    0    0\n",
      "     0    0    0    0    0    0    0    0    0    0    0    0    0    0\n",
      "     0    0    0    0    0    0    0    0    0    0    0    0    0    0\n",
      "     0    0    0    0    0    0    0    0    0    0]\n",
      " [  31 3746   20  177    4 5602 2915    1    2 2916  637  147    3    0\n",
      "     0    0    0    0    0    0    0    0    0    0    0    0    0    0\n",
      "     0    0    0    0    0    0    0    0    0    0    0    0    0    0\n",
      "     0    0    0    0    0    0    0    0    0    0    0    0    0    0\n",
      "     0    0    0    0    0    0    0    0    0    0    0    0    0    0\n",
      "     0    0    0    0    0    0    0    0    0    0    0    0    0    0\n",
      "     0    0    0    0    0    0    0    0    0    0    0    0    0    0\n",
      "     0    0    0    0    0    0    0    0    0    0    0    0    0    0\n",
      "     0    0    0    0    0    0    0    0    0    0    0    0    0    0\n",
      "     0    0    0    0    0    0    0    0    0    0    0    0    0    0\n",
      "     0    0    0    0    0    0    0    0    0    0]]\n"
     ]
    }
   ],
   "source": [
    "print(X_train[:2])"
   ]
  },
  {
   "cell_type": "code",
   "execution_count": 36,
   "id": "803a676f-6b09-4825-af09-7a84f270ae46",
   "metadata": {},
   "outputs": [
    {
     "name": "stdout",
     "output_type": "stream",
     "text": [
      "[[ 3  3  8 ...  0  0  0]\n",
      " [ 3  3 17 ...  0  0  0]\n",
      " [ 3  3  8 ...  0  0  0]\n",
      " ...\n",
      " [ 3 30  3 ...  0  0  0]\n",
      " [ 6 11 12 ...  0  0  0]\n",
      " [ 3 11  5 ...  0  0  0]]\n"
     ]
    }
   ],
   "source": [
    "print(y_train)"
   ]
  },
  {
   "cell_type": "code",
   "execution_count": 39,
   "id": "ae8c88fc-c61d-4e1f-ab29-dd9784b45137",
   "metadata": {},
   "outputs": [],
   "source": [
    "X_train, X_test, y_train, y_test = train_test_split(X_train, y_train, test_size=0.2, random_state=42)"
   ]
  },
  {
   "cell_type": "code",
   "execution_count": 42,
   "id": "55f8f391-0ff0-4001-a1c9-ec85ad63a33e",
   "metadata": {},
   "outputs": [
    {
     "name": "stdout",
     "output_type": "stream",
     "text": [
      "(3131, 150) (783, 150)\n"
     ]
    }
   ],
   "source": [
    "print(X_train.shape, X_test.shape)"
   ]
  },
  {
   "cell_type": "code",
   "execution_count": 44,
   "id": "bf048f8f-1a7b-4d1f-819f-5a053b95c670",
   "metadata": {},
   "outputs": [
    {
     "name": "stdout",
     "output_type": "stream",
     "text": [
      "(3131, 150) (783, 150)\n"
     ]
    }
   ],
   "source": [
    "print(y_train.shape, y_test.shape)"
   ]
  },
  {
   "cell_type": "code",
   "execution_count": 55,
   "id": "0ee20a7e-b5e8-4438-8fe1-f6c15d24ff71",
   "metadata": {},
   "outputs": [],
   "source": [
    "from tensorflow.keras.models import Sequential\n",
    "from tensorflow.keras.layers import Dense, LSTM, InputLayer, Embedding\n",
    "from tensorflow.keras.optimizers import Adam\n",
    "from tensorflow.keras.callbacks import EarlyStopping, ModelCheckpoint"
   ]
  },
  {
   "cell_type": "code",
   "execution_count": 61,
   "id": "790fce75-1550-4898-9eba-bc188d80e290",
   "metadata": {},
   "outputs": [
    {
     "name": "stderr",
     "output_type": "stream",
     "text": [
      "WARNING:absl:At this time, the v2.11+ optimizer `tf.keras.optimizers.Adam` runs slowly on M1/M2 Macs, please use the legacy Keras optimizer instead, located at `tf.keras.optimizers.legacy.Adam`.\n",
      "WARNING:absl:There is a known slowdown when using v2.11+ Keras optimizers on M1/M2 Macs. Falling back to the legacy Keras optimizer, i.e., `tf.keras.optimizers.legacy.Adam`.\n"
     ]
    },
    {
     "name": "stdout",
     "output_type": "stream",
     "text": [
      "Model: \"sequential_3\"\n",
      "_________________________________________________________________\n",
      " Layer (type)                Output Shape              Param #   \n",
      "=================================================================\n",
      " embedding_3 (Embedding)     (None, None, 128)         1457664   \n",
      "                                                                 \n",
      " lstm_3 (LSTM)               (None, None, 128)         131584    \n",
      "                                                                 \n",
      " dense_3 (Dense)             (None, None, 47)          6063      \n",
      "                                                                 \n",
      "=================================================================\n",
      "Total params: 1595311 (6.09 MB)\n",
      "Trainable params: 1595311 (6.09 MB)\n",
      "Non-trainable params: 0 (0.00 Byte)\n",
      "_________________________________________________________________\n"
     ]
    }
   ],
   "source": [
    "import warnings\n",
    "warnings.filterwarnings(action='ignore')\n",
    "\n",
    "embedding_dim = 128\n",
    "hidden_units = 128\n",
    "\n",
    "model = Sequential()\n",
    "model.add(Embedding(vocab_size, embedding_dim))\n",
    "model.add(LSTM(hidden_units, return_sequences=True)) # 각 타임스탭마다 출력\n",
    "model.add(Dense(tag_size, activation='softmax')) # + TimeDistributed Dense : 각 타임스탭에 지정된 레이어를 개별적으로 적용\n",
    "# binary_crossentropy : 원-핫 인코딩\n",
    "# sparse_categorical_crossentropy\n",
    "model.compile(loss='sparse_categorical_crossentropy', optimizer=Adam(0.001), metrics=['accuracy'])\n",
    "model.summary()"
   ]
  },
  {
   "cell_type": "code",
   "execution_count": 59,
   "id": "d866e7c7-5c21-41de-9ecd-2b549a6a70de",
   "metadata": {},
   "outputs": [
    {
     "name": "stdout",
     "output_type": "stream",
     "text": [
      "Epoch 1/20\n",
      "25/25 [==============================] - ETA: 0s - loss: 1.8499 - accuracy: 0.7932WARNING:tensorflow:Can save best model only with val_acc available, skipping.\n"
     ]
    },
    {
     "name": "stderr",
     "output_type": "stream",
     "text": [
      "WARNING:tensorflow:Can save best model only with val_acc available, skipping.\n"
     ]
    },
    {
     "name": "stdout",
     "output_type": "stream",
     "text": [
      "25/25 [==============================] - 12s 477ms/step - loss: 1.8499 - accuracy: 0.7932 - val_loss: 0.9077 - val_accuracy: 0.8251\n",
      "Epoch 2/20\n",
      "25/25 [==============================] - ETA: 0s - loss: 0.7638 - accuracy: 0.8319WARNING:tensorflow:Can save best model only with val_acc available, skipping.\n"
     ]
    },
    {
     "name": "stderr",
     "output_type": "stream",
     "text": [
      "WARNING:tensorflow:Can save best model only with val_acc available, skipping.\n"
     ]
    },
    {
     "name": "stdout",
     "output_type": "stream",
     "text": [
      "25/25 [==============================] - 14s 576ms/step - loss: 0.7638 - accuracy: 0.8319 - val_loss: 0.7203 - val_accuracy: 0.8313\n",
      "Epoch 3/20\n",
      "25/25 [==============================] - ETA: 0s - loss: 0.6747 - accuracy: 0.8348WARNING:tensorflow:Can save best model only with val_acc available, skipping.\n"
     ]
    },
    {
     "name": "stderr",
     "output_type": "stream",
     "text": [
      "WARNING:tensorflow:Can save best model only with val_acc available, skipping.\n"
     ]
    },
    {
     "name": "stdout",
     "output_type": "stream",
     "text": [
      "25/25 [==============================] - 14s 546ms/step - loss: 0.6747 - accuracy: 0.8348 - val_loss: 0.6643 - val_accuracy: 0.8274\n",
      "Epoch 4/20\n",
      "25/25 [==============================] - ETA: 0s - loss: 0.6287 - accuracy: 0.8321WARNING:tensorflow:Can save best model only with val_acc available, skipping.\n"
     ]
    },
    {
     "name": "stderr",
     "output_type": "stream",
     "text": [
      "WARNING:tensorflow:Can save best model only with val_acc available, skipping.\n"
     ]
    },
    {
     "name": "stdout",
     "output_type": "stream",
     "text": [
      "25/25 [==============================] - 18s 747ms/step - loss: 0.6287 - accuracy: 0.8321 - val_loss: 0.6252 - val_accuracy: 0.8288\n",
      "Epoch 5/20\n",
      "25/25 [==============================] - ETA: 0s - loss: 0.5941 - accuracy: 0.8373WARNING:tensorflow:Can save best model only with val_acc available, skipping.\n"
     ]
    },
    {
     "name": "stderr",
     "output_type": "stream",
     "text": [
      "WARNING:tensorflow:Can save best model only with val_acc available, skipping.\n"
     ]
    },
    {
     "name": "stdout",
     "output_type": "stream",
     "text": [
      "25/25 [==============================] - 19s 763ms/step - loss: 0.5941 - accuracy: 0.8373 - val_loss: 0.5922 - val_accuracy: 0.8391\n",
      "Epoch 6/20\n",
      "25/25 [==============================] - ETA: 0s - loss: 0.5641 - accuracy: 0.8473WARNING:tensorflow:Can save best model only with val_acc available, skipping.\n"
     ]
    },
    {
     "name": "stderr",
     "output_type": "stream",
     "text": [
      "WARNING:tensorflow:Can save best model only with val_acc available, skipping.\n"
     ]
    },
    {
     "name": "stdout",
     "output_type": "stream",
     "text": [
      "25/25 [==============================] - 13s 501ms/step - loss: 0.5641 - accuracy: 0.8473 - val_loss: 0.5707 - val_accuracy: 0.8462\n",
      "Epoch 7/20\n",
      "25/25 [==============================] - ETA: 0s - loss: 0.5418 - accuracy: 0.8520WARNING:tensorflow:Can save best model only with val_acc available, skipping.\n"
     ]
    },
    {
     "name": "stderr",
     "output_type": "stream",
     "text": [
      "WARNING:tensorflow:Can save best model only with val_acc available, skipping.\n"
     ]
    },
    {
     "name": "stdout",
     "output_type": "stream",
     "text": [
      "25/25 [==============================] - 12s 486ms/step - loss: 0.5418 - accuracy: 0.8520 - val_loss: 0.5495 - val_accuracy: 0.8515\n",
      "Epoch 8/20\n",
      "25/25 [==============================] - ETA: 0s - loss: 0.5244 - accuracy: 0.8562WARNING:tensorflow:Can save best model only with val_acc available, skipping.\n"
     ]
    },
    {
     "name": "stderr",
     "output_type": "stream",
     "text": [
      "WARNING:tensorflow:Can save best model only with val_acc available, skipping.\n"
     ]
    },
    {
     "name": "stdout",
     "output_type": "stream",
     "text": [
      "25/25 [==============================] - 13s 505ms/step - loss: 0.5244 - accuracy: 0.8562 - val_loss: 0.5354 - val_accuracy: 0.8546\n",
      "Epoch 9/20\n",
      "25/25 [==============================] - ETA: 0s - loss: 0.5103 - accuracy: 0.8593WARNING:tensorflow:Can save best model only with val_acc available, skipping.\n"
     ]
    },
    {
     "name": "stderr",
     "output_type": "stream",
     "text": [
      "WARNING:tensorflow:Can save best model only with val_acc available, skipping.\n"
     ]
    },
    {
     "name": "stdout",
     "output_type": "stream",
     "text": [
      "25/25 [==============================] - 13s 505ms/step - loss: 0.5103 - accuracy: 0.8593 - val_loss: 0.5220 - val_accuracy: 0.8564\n",
      "Epoch 10/20\n",
      "25/25 [==============================] - ETA: 0s - loss: 0.4980 - accuracy: 0.8621WARNING:tensorflow:Can save best model only with val_acc available, skipping.\n"
     ]
    },
    {
     "name": "stderr",
     "output_type": "stream",
     "text": [
      "WARNING:tensorflow:Can save best model only with val_acc available, skipping.\n"
     ]
    },
    {
     "name": "stdout",
     "output_type": "stream",
     "text": [
      "25/25 [==============================] - 13s 519ms/step - loss: 0.4980 - accuracy: 0.8621 - val_loss: 0.5078 - val_accuracy: 0.8611\n",
      "Epoch 11/20\n",
      "25/25 [==============================] - ETA: 0s - loss: 0.4844 - accuracy: 0.8690WARNING:tensorflow:Can save best model only with val_acc available, skipping.\n"
     ]
    },
    {
     "name": "stderr",
     "output_type": "stream",
     "text": [
      "WARNING:tensorflow:Can save best model only with val_acc available, skipping.\n"
     ]
    },
    {
     "name": "stdout",
     "output_type": "stream",
     "text": [
      "25/25 [==============================] - 13s 509ms/step - loss: 0.4844 - accuracy: 0.8690 - val_loss: 0.4945 - val_accuracy: 0.8685\n",
      "Epoch 12/20\n",
      "25/25 [==============================] - ETA: 0s - loss: 0.4656 - accuracy: 0.8760WARNING:tensorflow:Can save best model only with val_acc available, skipping.\n"
     ]
    },
    {
     "name": "stderr",
     "output_type": "stream",
     "text": [
      "WARNING:tensorflow:Can save best model only with val_acc available, skipping.\n"
     ]
    },
    {
     "name": "stdout",
     "output_type": "stream",
     "text": [
      "25/25 [==============================] - 12s 493ms/step - loss: 0.4656 - accuracy: 0.8760 - val_loss: 0.4718 - val_accuracy: 0.8737\n",
      "Epoch 13/20\n",
      "25/25 [==============================] - ETA: 0s - loss: 0.4390 - accuracy: 0.8852WARNING:tensorflow:Can save best model only with val_acc available, skipping.\n"
     ]
    },
    {
     "name": "stderr",
     "output_type": "stream",
     "text": [
      "WARNING:tensorflow:Can save best model only with val_acc available, skipping.\n"
     ]
    },
    {
     "name": "stdout",
     "output_type": "stream",
     "text": [
      "25/25 [==============================] - 13s 505ms/step - loss: 0.4390 - accuracy: 0.8852 - val_loss: 0.4402 - val_accuracy: 0.8867\n",
      "Epoch 14/20\n",
      "25/25 [==============================] - ETA: 0s - loss: 0.4045 - accuracy: 0.9021WARNING:tensorflow:Can save best model only with val_acc available, skipping.\n"
     ]
    },
    {
     "name": "stderr",
     "output_type": "stream",
     "text": [
      "WARNING:tensorflow:Can save best model only with val_acc available, skipping.\n"
     ]
    },
    {
     "name": "stdout",
     "output_type": "stream",
     "text": [
      "25/25 [==============================] - 12s 471ms/step - loss: 0.4045 - accuracy: 0.9021 - val_loss: 0.3973 - val_accuracy: 0.9059\n",
      "Epoch 15/20\n",
      "25/25 [==============================] - ETA: 0s - loss: 0.3642 - accuracy: 0.9133WARNING:tensorflow:Can save best model only with val_acc available, skipping.\n"
     ]
    },
    {
     "name": "stderr",
     "output_type": "stream",
     "text": [
      "WARNING:tensorflow:Can save best model only with val_acc available, skipping.\n"
     ]
    },
    {
     "name": "stdout",
     "output_type": "stream",
     "text": [
      "25/25 [==============================] - 12s 482ms/step - loss: 0.3642 - accuracy: 0.9133 - val_loss: 0.3593 - val_accuracy: 0.9146\n",
      "Epoch 16/20\n",
      "25/25 [==============================] - ETA: 0s - loss: 0.3263 - accuracy: 0.9219WARNING:tensorflow:Can save best model only with val_acc available, skipping.\n"
     ]
    },
    {
     "name": "stderr",
     "output_type": "stream",
     "text": [
      "WARNING:tensorflow:Can save best model only with val_acc available, skipping.\n"
     ]
    },
    {
     "name": "stdout",
     "output_type": "stream",
     "text": [
      "25/25 [==============================] - 12s 495ms/step - loss: 0.3263 - accuracy: 0.9219 - val_loss: 0.3233 - val_accuracy: 0.9215\n",
      "Epoch 17/20\n",
      "25/25 [==============================] - ETA: 0s - loss: 0.2903 - accuracy: 0.9299WARNING:tensorflow:Can save best model only with val_acc available, skipping.\n"
     ]
    },
    {
     "name": "stderr",
     "output_type": "stream",
     "text": [
      "WARNING:tensorflow:Can save best model only with val_acc available, skipping.\n"
     ]
    },
    {
     "name": "stdout",
     "output_type": "stream",
     "text": [
      "25/25 [==============================] - 12s 490ms/step - loss: 0.2903 - accuracy: 0.9299 - val_loss: 0.2892 - val_accuracy: 0.9295\n",
      "Epoch 18/20\n",
      "25/25 [==============================] - ETA: 0s - loss: 0.2563 - accuracy: 0.9374WARNING:tensorflow:Can save best model only with val_acc available, skipping.\n"
     ]
    },
    {
     "name": "stderr",
     "output_type": "stream",
     "text": [
      "WARNING:tensorflow:Can save best model only with val_acc available, skipping.\n"
     ]
    },
    {
     "name": "stdout",
     "output_type": "stream",
     "text": [
      "25/25 [==============================] - 12s 491ms/step - loss: 0.2563 - accuracy: 0.9374 - val_loss: 0.2574 - val_accuracy: 0.9367\n",
      "Epoch 19/20\n",
      "25/25 [==============================] - ETA: 0s - loss: 0.2240 - accuracy: 0.9450WARNING:tensorflow:Can save best model only with val_acc available, skipping.\n"
     ]
    },
    {
     "name": "stderr",
     "output_type": "stream",
     "text": [
      "WARNING:tensorflow:Can save best model only with val_acc available, skipping.\n"
     ]
    },
    {
     "name": "stdout",
     "output_type": "stream",
     "text": [
      "25/25 [==============================] - 13s 505ms/step - loss: 0.2240 - accuracy: 0.9450 - val_loss: 0.2274 - val_accuracy: 0.9444\n",
      "Epoch 20/20\n",
      "25/25 [==============================] - ETA: 0s - loss: 0.1932 - accuracy: 0.9550WARNING:tensorflow:Can save best model only with val_acc available, skipping.\n"
     ]
    },
    {
     "name": "stderr",
     "output_type": "stream",
     "text": [
      "WARNING:tensorflow:Can save best model only with val_acc available, skipping.\n"
     ]
    },
    {
     "name": "stdout",
     "output_type": "stream",
     "text": [
      "25/25 [==============================] - 13s 508ms/step - loss: 0.1932 - accuracy: 0.9550 - val_loss: 0.1993 - val_accuracy: 0.9534\n"
     ]
    },
    {
     "data": {
      "text/plain": [
       "<keras.src.callbacks.History at 0x2a36a7a30>"
      ]
     },
     "execution_count": 59,
     "metadata": {},
     "output_type": "execute_result"
    }
   ],
   "source": [
    "# callback 지정\n",
    "es = EarlyStopping(monitor='val_loss', mode='min', verbose=1, patience=3)\n",
    "mc = ModelCheckpoint('best_model.keras', monitor='val_acc', mode='max', verbose=1, save_best_only=True)\n",
    "\n",
    "model.fit(X_train, y_train, batch_size=128, epochs=20, validation_data=(X_test, y_test), callbacks=[es, mc])"
   ]
  },
  {
   "cell_type": "code",
   "execution_count": 60,
   "id": "0479bf5d-4d92-4bfa-82e1-b308e4ac5226",
   "metadata": {},
   "outputs": [
    {
     "name": "stdout",
     "output_type": "stream",
     "text": [
      "25/25 [==============================] - 2s 82ms/step - loss: 0.1993 - accuracy: 0.9534\n",
      "test acc :  [0.19933128356933594, 0.9533674120903015]\n"
     ]
    }
   ],
   "source": [
    "print('test acc : ', model.evaluate(X_test, y_test))"
   ]
  },
  {
   "cell_type": "code",
   "execution_count": 67,
   "id": "28b41859-7245-4cd5-8dff-f17783a4c36a",
   "metadata": {},
   "outputs": [
    {
     "name": "stdout",
     "output_type": "stream",
     "text": [
      "1/1 [==============================] - 0s 17ms/step\n",
      "단어             |실제값  |예측값\n",
      "-----------------------------------\n",
      "sharedata        : NNP     VBP\n",
      "develops         : VBZ     VB\n",
      "and              : CC      WRB\n",
      "markets          : VBZ     WP$\n",
      "low-cost         : JJ      WP$\n",
      "software         : NN      WP$\n",
      ",                : ,       WP$\n",
      "peripheral       : JJ      WP$\n",
      "equipment        : NN      VBP\n",
      "and              : CC      VBP\n",
      "accessories      : NNS     SYM\n",
      "for              : IN      SYM\n",
      "computers        : NNS     PDT\n",
      ".                : .       PDT\n"
     ]
    }
   ],
   "source": [
    "# 결과확인\n",
    "index_to_word = src_tokenizer.index_word\n",
    "index_to_tag = tar_tokenizer.index_word\n",
    "\n",
    "i = 30\n",
    "y_predicted = model.predict(np.array([X_test[i]]))\n",
    "y_predicted = np.argmax(y_predicted, axis=-1)\n",
    "\n",
    "print('{:15}|{:5}|{}'.format('단어', '실제값', '예측값'))\n",
    "print('-'*35)\n",
    "\n",
    "for word, tag, pred in zip(X_test[i], y_test[i], y_predicted[0]):\n",
    "    if word!=0:\n",
    "        print('{:17}: {:7} {}'.format(index_to_word[word], index_to_tag[tag].upper(), index_to_tag[pred].upper()))"
   ]
  },
  {
   "cell_type": "code",
   "execution_count": null,
   "id": "2595f367-7155-4dc1-bc48-807662dcd423",
   "metadata": {},
   "outputs": [],
   "source": []
  }
 ],
 "metadata": {
  "kernelspec": {
   "display_name": "Python (tensorflow)",
   "language": "python",
   "name": "tensorflow"
  },
  "language_info": {
   "codemirror_mode": {
    "name": "ipython",
    "version": 3
   },
   "file_extension": ".py",
   "mimetype": "text/x-python",
   "name": "python",
   "nbconvert_exporter": "python",
   "pygments_lexer": "ipython3",
   "version": "3.10.14"
  }
 },
 "nbformat": 4,
 "nbformat_minor": 5
}
