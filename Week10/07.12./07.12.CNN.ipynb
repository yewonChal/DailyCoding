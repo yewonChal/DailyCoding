{
 "cells": [
  {
   "cell_type": "code",
   "execution_count": 32,
   "id": "42dc109c-686e-404d-afd6-6adb33c13b75",
   "metadata": {},
   "outputs": [],
   "source": [
    "import os\n",
    "import json\n",
    "import numpy as np\n",
    "import pandas as pd\n",
    "import tensorflow as tf\n",
    "import matplotlib.pyplot as plt\n",
    "from tensorflow.keras import layers\n",
    "from tensorflow.keras.callbacks import EarlyStopping, ModelCheckpoint"
   ]
  },
  {
   "cell_type": "code",
   "execution_count": 33,
   "id": "5dd706a7-5ff2-4213-a82a-10394945c996",
   "metadata": {},
   "outputs": [],
   "source": [
    "DATA_IN_PATH = '/Users/jeon-yewon/Desktop/데이터 분석 강의/부트캠프/11주차/'\n",
    "DATA_OUT_PATH = '/Users/jeon-yewon/Desktop/데이터 분석 강의/부트캠프/11주차/'\n",
    "\n",
    "train_q1_data_file = 'train_q1.npy'\n",
    "train_q2_data_file = 'train_q2.npy'\n",
    "train_label_data_file = 'train_label.npy'\n",
    "data_configs = 'data_configs.json'"
   ]
  },
  {
   "cell_type": "code",
   "execution_count": 34,
   "id": "40162f08-b771-43d3-8cf8-0013302ad4ca",
   "metadata": {},
   "outputs": [],
   "source": [
    "tf.random.set_seed(42)"
   ]
  },
  {
   "cell_type": "code",
   "execution_count": 35,
   "id": "83969a9a-ad2e-4a84-9b76-60811e897b8a",
   "metadata": {},
   "outputs": [],
   "source": [
    "q1_data = np.load(open(DATA_IN_PATH + train_q1_data_file, 'rb'))\n",
    "q2_data = np.load(open(DATA_IN_PATH + train_q2_data_file, 'rb'))\n",
    "labels = np.load(open(DATA_IN_PATH + train_label_data_file, 'rb'))\n",
    "prepro_configs = json.load(open(DATA_IN_PATH + data_configs, 'r'))"
   ]
  },
  {
   "cell_type": "code",
   "execution_count": 36,
   "id": "d471b453-140f-4215-a823-664fe276e2d9",
   "metadata": {},
   "outputs": [],
   "source": [
    "def plot_graphs(history, string):\n",
    "    plt.plot(history.history[string])\n",
    "    plt.plot(history.history['val_'+string], '')\n",
    "    plt.xlabel('Epochs')\n",
    "    plt.ylabel(string)\n",
    "    plt.legend([string, 'val_'+string])\n",
    "    plt.show()"
   ]
  },
  {
   "cell_type": "code",
   "execution_count": 43,
   "id": "e933c9ec-ad75-4cd8-8285-0cbd3a94e60d",
   "metadata": {},
   "outputs": [],
   "source": [
    "model_name = 'cnn_similarity'\n",
    "BATCH_SIZE = 1024\n",
    "NUM_EPOCHS = 100\n",
    "VALID_SPLIT = 0.1\n",
    "MAX_LEN = 31\n",
    "\n",
    "kargs = {\n",
    "    'model_name': model_name,\n",
    "    'vocab_size': prepro_configs['vocab_size'],\n",
    "    'word_embedding_dimension': 100,\n",
    "    'conv_num_filters': 300,\n",
    "    'conv_window_size': 3,\n",
    "    'max_pool_seq_len': MAX_LEN,\n",
    "    'sent_embedding_dimension': 128,\n",
    "    'dropout_rate': 0.2,\n",
    "    'hidden_dimension': 200,\n",
    "    'output_dimension': 1\n",
    "}"
   ]
  },
  {
   "cell_type": "raw",
   "id": "f3d969f6-3311-49d3-aa2a-0a243e93a3af",
   "metadata": {},
   "source": [
    "class SentenceEmbedding(layers.Layer):\n",
    "    def __init(self, **kargs):\n",
    "        super(SentenceEmbedding, self).__init__()\n",
    "\n",
    "        self.conv = layers.Conv1D(kargs['conv_num_filters'], kargs['conv_window_size'], activation='relu', padding='same')\n",
    "        self.max_pool = layers.MaxPool1D(kargs['max_pool_seq_len'],1)\n",
    "        self.dense = layers.Dense(kargs['sent_embedding_dimension'], activation='relu')\n",
    "\n",
    "    def call(self, x):\n",
    "        x = self.conv(x)\n",
    "        x = self.max_pool(x)\n",
    "        x = self.dense(x)\n",
    "\n",
    "        return tf.squenze(x, 1)"
   ]
  },
  {
   "cell_type": "code",
   "execution_count": 44,
   "id": "48dedf92-47d9-4ce6-a99e-8dd6401c8bd2",
   "metadata": {},
   "outputs": [],
   "source": [
    "import tensorflow as tf\n",
    "from tensorflow.keras import layers\n",
    "\n",
    "class SentenceEmbedding(layers.Layer):\n",
    "    def __init__(self, **kargs):\n",
    "        super(SentenceEmbedding, self).__init__()\n",
    "\n",
    "        # 1D 합성곱 레이어\n",
    "        self.conv = layers.Conv1D(\n",
    "            filters=kargs['conv_num_filters'], \n",
    "            kernel_size=kargs['conv_window_size'], \n",
    "            activation='relu', \n",
    "            padding='same'\n",
    "        )\n",
    "        # 최대 풀링 레이어\n",
    "        self.max_pool = layers.MaxPool1D(\n",
    "            pool_size=kargs['max_pool_seq_len'], \n",
    "            strides=1\n",
    "        )\n",
    "        # 밀집 레이어\n",
    "        self.dense = layers.Dense(\n",
    "            units=kargs['sent_embedding_dimension'], \n",
    "            activation='relu'\n",
    "        )\n",
    "\n",
    "    def call(self, x):\n",
    "        x = self.conv(x)           # 합성곱 연산\n",
    "        x = self.max_pool(x)      # 최대 풀링\n",
    "        x = self.dense(x)         # 밀집 레이어 통과\n",
    "\n",
    "        return tf.squeeze(x, axis=1)  # 차원 축소"
   ]
  },
  {
   "cell_type": "code",
   "execution_count": 45,
   "id": "30637491-01d2-4434-ac74-0e6c6509d095",
   "metadata": {},
   "outputs": [],
   "source": [
    "import tensorflow as tf\n",
    "from tensorflow.keras import layers\n",
    "\n",
    "class SentenceSimilarityModel(tf.keras.Model):\n",
    "    def __init__(self, **kargs):\n",
    "        super(SentenceSimilarityModel, self).__init__(name=kargs['model_name'])\n",
    "\n",
    "        # 단어 임베딩 레이어\n",
    "        self.word_embedding = layers.Embedding(\n",
    "            input_dim=kargs['vocab_size'], \n",
    "            output_dim=kargs['word_embedding_dimension']\n",
    "        )\n",
    "        \n",
    "        # 문장 임베딩 레이어 (기본 및 가설)\n",
    "        self.base_encoder = SentenceEmbedding(**kargs)\n",
    "        self.hypo_encoder = SentenceEmbedding(**kargs)\n",
    "        \n",
    "        # 드롭아웃 레이어\n",
    "        self.dropout = layers.Dropout(kargs['dropout_rate'])\n",
    "        \n",
    "        # 밀집 레이어\n",
    "        self.dense = layers.Dense(kargs['hidden_dimension'], activation='relu')\n",
    "        \n",
    "        # 최종 로짓 레이어\n",
    "        self.logit = layers.Dense(1, activation='sigmoid')\n",
    "\n",
    "    def call(self, x):\n",
    "        x1, x2 = x  # 두 문장을 입력으로 받음\n",
    "        b_x = self.word_embedding(x1)  # 첫 번째 문장 임베딩\n",
    "        h_x = self.word_embedding(x2)  # 두 번째 문장 임베딩\n",
    "\n",
    "        # 드롭아웃 적용\n",
    "        b_x = self.dropout(b_x)\n",
    "        h_x = self.dropout(h_x)\n",
    "\n",
    "        # 문장 임베딩 통과\n",
    "        b_x = self.base_encoder(b_x)\n",
    "        h_x = self.hypo_encoder(h_x)\n",
    "\n",
    "        # 두 문장 임베딩 결합\n",
    "        e_x = tf.concat([b_x, h_x], -1)\n",
    "        \n",
    "        # 밀집 레이어 통과\n",
    "        e_x = self.dense(e_x)\n",
    "        e_x = self.dropout(e_x)\n",
    "\n",
    "        # 최종 출력\n",
    "        return self.logit(e_x)"
   ]
  },
  {
   "cell_type": "code",
   "execution_count": 46,
   "id": "189cccfe-ec56-490c-9d24-cf5bac48ad97",
   "metadata": {},
   "outputs": [
    {
     "name": "stderr",
     "output_type": "stream",
     "text": [
      "WARNING:absl:At this time, the v2.11+ optimizer `tf.keras.optimizers.Adam` runs slowly on M1/M2 Macs, please use the legacy Keras optimizer instead, located at `tf.keras.optimizers.legacy.Adam`.\n",
      "WARNING:absl:There is a known slowdown when using v2.11+ Keras optimizers on M1/M2 Macs. Falling back to the legacy Keras optimizer, i.e., `tf.keras.optimizers.legacy.Adam`.\n"
     ]
    }
   ],
   "source": [
    "model = SentenceSimilarityModel(**kargs)\n",
    "\n",
    "model.compile(\n",
    "    optimizer=tf.keras.optimizers.Adam(learning_rate=1e-3),\n",
    "    loss=tf.keras.losses.BinaryCrossentropy(),\n",
    "    metrics=[tf.keras.metrics.BinaryAccuracy(name='acc')]\n",
    ")"
   ]
  },
  {
   "cell_type": "raw",
   "id": "a6c98a67-1d3c-4d71-a189-a17ca4acaa37",
   "metadata": {},
   "source": [
    "print(kargs)"
   ]
  },
  {
   "cell_type": "code",
   "execution_count": 53,
   "id": "a31f378e-b554-44b5-9d26-8f6938b902d3",
   "metadata": {},
   "outputs": [],
   "source": [
    "from tensorflow.keras.callbacks import EarlyStopping, ModelCheckpoint\n",
    "\n",
    "es = EarlyStopping(monitor='val_loss', mode='min', verbose=1, patience=4)\n",
    "\n",
    "mc = ModelCheckpoint('best_model', \n",
    "                     monitor='val_acc', \n",
    "                     mode='max', \n",
    "                     verbose=1, \n",
    "                     save_best_only=True, \n",
    "                     save_format='tf')"
   ]
  },
  {
   "cell_type": "code",
   "execution_count": 54,
   "id": "cc41f41e-e75a-440a-82e9-603f98ca9656",
   "metadata": {},
   "outputs": [
    {
     "name": "stdout",
     "output_type": "stream",
     "text": [
      "Epoch 1/100\n",
      "263/263 [==============================] - ETA: 0s - loss: 0.2801 - acc: 0.8773\n",
      "Epoch 1: val_acc improved from -inf to 0.77168, saving model to best_model\n"
     ]
    },
    {
     "name": "stderr",
     "output_type": "stream",
     "text": [
      "2024-07-12 13:29:32.340213: I tensorflow/core/common_runtime/executor.cc:1197] [/device:CPU:0] (DEBUG INFO) Executor start aborting (this does not indicate an error and you can ignore this message): INVALID_ARGUMENT: You must feed a value for placeholder tensor 'inputs' with dtype float and shape [?,31,100]\n",
      "\t [[{{node inputs}}]]\n",
      "2024-07-12 13:29:32.356312: I tensorflow/core/common_runtime/executor.cc:1197] [/device:CPU:0] (DEBUG INFO) Executor start aborting (this does not indicate an error and you can ignore this message): INVALID_ARGUMENT: You must feed a value for placeholder tensor 'inputs' with dtype float and shape [?,200]\n",
      "\t [[{{node inputs}}]]\n",
      "2024-07-12 13:29:32.715667: I tensorflow/core/common_runtime/executor.cc:1197] [/device:CPU:0] (DEBUG INFO) Executor start aborting (this does not indicate an error and you can ignore this message): INVALID_ARGUMENT: You must feed a value for placeholder tensor 'inputs' with dtype float and shape [?,31,100]\n",
      "\t [[{{node inputs}}]]\n",
      "2024-07-12 13:29:32.720835: I tensorflow/core/common_runtime/executor.cc:1197] [/device:CPU:0] (DEBUG INFO) Executor start aborting (this does not indicate an error and you can ignore this message): INVALID_ARGUMENT: You must feed a value for placeholder tensor 'inputs' with dtype float and shape [?,200]\n",
      "\t [[{{node inputs}}]]\n",
      "WARNING:absl:Found untraced functions such as conv1d_8_layer_call_fn, conv1d_8_layer_call_and_return_conditional_losses, _jit_compiled_convolution_op, dense_8_layer_call_fn, dense_8_layer_call_and_return_conditional_losses while saving (showing 5 of 10). These functions will not be directly callable after loading.\n"
     ]
    },
    {
     "name": "stdout",
     "output_type": "stream",
     "text": [
      "INFO:tensorflow:Assets written to: best_model/assets\n"
     ]
    },
    {
     "name": "stderr",
     "output_type": "stream",
     "text": [
      "INFO:tensorflow:Assets written to: best_model/assets\n"
     ]
    },
    {
     "name": "stdout",
     "output_type": "stream",
     "text": [
      "263/263 [==============================] - 182s 691ms/step - loss: 0.2801 - acc: 0.8773 - val_loss: 0.5852 - val_acc: 0.7717\n",
      "Epoch 2/100\n",
      "263/263 [==============================] - ETA: 0s - loss: 0.2459 - acc: 0.8938\n",
      "Epoch 2: val_acc improved from 0.77168 to 0.83941, saving model to best_model\n"
     ]
    },
    {
     "name": "stderr",
     "output_type": "stream",
     "text": [
      "2024-07-12 13:33:06.669849: I tensorflow/core/common_runtime/executor.cc:1197] [/device:CPU:0] (DEBUG INFO) Executor start aborting (this does not indicate an error and you can ignore this message): INVALID_ARGUMENT: You must feed a value for placeholder tensor 'inputs' with dtype float and shape [?,31,100]\n",
      "\t [[{{node inputs}}]]\n",
      "2024-07-12 13:33:06.703571: I tensorflow/core/common_runtime/executor.cc:1197] [/device:CPU:0] (DEBUG INFO) Executor start aborting (this does not indicate an error and you can ignore this message): INVALID_ARGUMENT: You must feed a value for placeholder tensor 'inputs' with dtype float and shape [?,200]\n",
      "\t [[{{node inputs}}]]\n",
      "2024-07-12 13:33:07.356260: I tensorflow/core/common_runtime/executor.cc:1197] [/device:CPU:0] (DEBUG INFO) Executor start aborting (this does not indicate an error and you can ignore this message): INVALID_ARGUMENT: You must feed a value for placeholder tensor 'inputs' with dtype float and shape [?,31,100]\n",
      "\t [[{{node inputs}}]]\n",
      "2024-07-12 13:33:07.365457: I tensorflow/core/common_runtime/executor.cc:1197] [/device:CPU:0] (DEBUG INFO) Executor start aborting (this does not indicate an error and you can ignore this message): INVALID_ARGUMENT: You must feed a value for placeholder tensor 'inputs' with dtype float and shape [?,200]\n",
      "\t [[{{node inputs}}]]\n",
      "WARNING:absl:Found untraced functions such as conv1d_8_layer_call_fn, conv1d_8_layer_call_and_return_conditional_losses, _jit_compiled_convolution_op, dense_8_layer_call_fn, dense_8_layer_call_and_return_conditional_losses while saving (showing 5 of 10). These functions will not be directly callable after loading.\n"
     ]
    },
    {
     "name": "stdout",
     "output_type": "stream",
     "text": [
      "INFO:tensorflow:Assets written to: best_model/assets\n"
     ]
    },
    {
     "name": "stderr",
     "output_type": "stream",
     "text": [
      "INFO:tensorflow:Assets written to: best_model/assets\n"
     ]
    },
    {
     "name": "stdout",
     "output_type": "stream",
     "text": [
      "263/263 [==============================] - 215s 820ms/step - loss: 0.2459 - acc: 0.8938 - val_loss: 0.4538 - val_acc: 0.8394\n",
      "Epoch 3/100\n",
      "263/263 [==============================] - ETA: 0s - loss: 0.1943 - acc: 0.9179\n",
      "Epoch 3: val_acc did not improve from 0.83941\n",
      "263/263 [==============================] - 197s 746ms/step - loss: 0.1943 - acc: 0.9179 - val_loss: 0.5427 - val_acc: 0.8318\n",
      "Epoch 4/100\n",
      "263/263 [==============================] - ETA: 0s - loss: 0.1633 - acc: 0.9323\n",
      "Epoch 4: val_acc did not improve from 0.83941\n",
      "263/263 [==============================] - 234s 889ms/step - loss: 0.1633 - acc: 0.9323 - val_loss: 0.7202 - val_acc: 0.7875\n",
      "Epoch 5/100\n",
      "263/263 [==============================] - ETA: 0s - loss: 0.1430 - acc: 0.9411\n",
      "Epoch 5: val_acc did not improve from 0.83941\n",
      "263/263 [==============================] - 206s 785ms/step - loss: 0.1430 - acc: 0.9411 - val_loss: 0.7139 - val_acc: 0.8106\n",
      "Epoch 6/100\n",
      "263/263 [==============================] - ETA: 0s - loss: 0.1288 - acc: 0.9476\n",
      "Epoch 6: val_acc did not improve from 0.83941\n",
      "263/263 [==============================] - 211s 802ms/step - loss: 0.1288 - acc: 0.9476 - val_loss: 0.7123 - val_acc: 0.8153\n",
      "Epoch 6: early stopping\n"
     ]
    }
   ],
   "source": [
    "history = model.fit(\n",
    "    (q1_data, q2_data), \n",
    "    labels, \n",
    "    batch_size=BATCH_SIZE, \n",
    "    epochs=NUM_EPOCHS, \n",
    "    validation_split=VALID_SPLIT, \n",
    "    callbacks=[es, mc]\n",
    ")"
   ]
  },
  {
   "cell_type": "code",
   "execution_count": 55,
   "id": "d440688b-f790-46b7-94eb-5b8376a03e6f",
   "metadata": {},
   "outputs": [
    {
     "data": {
      "image/png": "[encoded data removed]",
      "text/plain": [
       "<Figure size 640x480 with 1 Axes>"
      ]
     },
     "metadata": {},
     "output_type": "display_data"
    }
   ],
   "source": [
    "plot_graphs(history, 'acc')"
   ]
  },
  {
   "cell_type": "code",
   "execution_count": 57,
   "id": "31f1e4ac-36bc-4fe8-a60c-2d6d06ab7c76",
   "metadata": {},
   "outputs": [
    {
     "data": {
      "image/png": "[encoded data removed]",
      "text/plain": [
       "<Figure size 640x480 with 1 Axes>"
      ]
     },
     "metadata": {},
     "output_type": "display_data"
    }
   ],
   "source": [
    "plot_graphs(history, 'loss')"
   ]
  },
  {
   "cell_type": "code",
   "execution_count": null,
   "id": "c5201951-11ee-407a-9903-67b9d25f6f94",
   "metadata": {},
   "outputs": [],
   "source": [
    "# test data"
   ]
  },
  {
   "cell_type": "code",
   "execution_count": 58,
   "id": "53aab1cb-3077-40d5-abf1-9292e149e891",
   "metadata": {},
   "outputs": [],
   "source": [
    "test_q1_data_file = 'test_q1.npy'\n",
    "test_q2_data_file = 'test_q2.npy'\n",
    "test_id_data_file = 'test_id.npy'\n",
    "\n",
    "test_q1_data = np.load(open(DATA_IN_PATH + test_q1_data_file, 'rb'))\n",
    "test_q2_data = np.load(open(DATA_IN_PATH + test_q2_data_file, 'rb'))\n",
    "test_id_data = np.load(open(DATA_IN_PATH + test_id_data_file, 'rb'), allow_pickle=True)"
   ]
  },
  {
   "cell_type": "code",
   "execution_count": 59,
   "id": "9e687bbb-ebda-4a06-abe5-3c028a19585f",
   "metadata": {},
   "outputs": [
    {
     "name": "stdout",
     "output_type": "stream",
     "text": [
      "2048/2048 [==============================] - 422s 206ms/step\n"
     ]
    }
   ],
   "source": [
    "predictions = model.predict((test_q1_data, test_q2_data), batch_size=BATCH_SIZE)"
   ]
  },
  {
   "cell_type": "code",
   "execution_count": 60,
   "id": "457f79db-7707-46f5-9781-9847422beeae",
   "metadata": {},
   "outputs": [
    {
     "name": "stdout",
     "output_type": "stream",
     "text": [
      "[[4.5176722e-02]\n",
      " [2.0772465e-01]\n",
      " [5.3563440e-01]\n",
      " ...\n",
      " [2.8024115e-06]\n",
      " [1.7391229e-01]\n",
      " [6.7315256e-07]]\n"
     ]
    }
   ],
   "source": [
    "print(predictions)"
   ]
  },
  {
   "cell_type": "code",
   "execution_count": 61,
   "id": "19254470-c3b9-4124-b5c3-05db95e5350f",
   "metadata": {},
   "outputs": [
    {
     "name": "stdout",
     "output_type": "stream",
     "text": [
      "[4.5176722e-02 2.0772465e-01 5.3563440e-01 ... 2.8024115e-06 1.7391229e-01\n",
      " 6.7315256e-07]\n"
     ]
    }
   ],
   "source": [
    "print(predictions.squeeze(-1))"
   ]
  },
  {
   "cell_type": "code",
   "execution_count": 62,
   "id": "1ea34120-ae44-43ac-a788-8f9db49455b9",
   "metadata": {},
   "outputs": [
    {
     "data": {
      "text/plain": [
       "{'model_name': 'manlstm_similarity',\n",
       " 'vocab_size': 76672,\n",
       " 'word_embedding_dimension': 100,\n",
       " 'conv_num_filters': 300,\n",
       " 'conv_window_size': 3,\n",
       " 'max_pool_seq_len': 31,\n",
       " 'sent_embedding_dimension': 128,\n",
       " 'dropout_rate': 0.2,\n",
       " 'hidden_dimension': 200,\n",
       " 'output_dimension': 1,\n",
       " 'lstm_dimension': 150}"
      ]
     },
     "execution_count": 62,
     "metadata": {},
     "output_type": "execute_result"
    }
   ],
   "source": [
    "model_name = 'manlstm_similarity'\n",
    "\n",
    "kargs['model_name'] = model_name\n",
    "kargs['lstm_dimension'] = 150\n",
    "\n",
    "kargs"
   ]
  },
  {
   "cell_type": "code",
   "execution_count": 69,
   "id": "53452fed-3a6e-416c-9d8d-284118337880",
   "metadata": {},
   "outputs": [],
   "source": [
    "class ManLSTM(tf.keras.Model):\n",
    "    def __init__(self, **kargs):\n",
    "        super(ManLSTM, self).__init__(name=model_name)\n",
    "\n",
    "        self.embedding = layers.Embedding(input_dim=kargs['vocab_size'], output_dim=kargs['word_embedding_dimension'])\n",
    "        self.lstm = layers.LSTM(units=kargs['lstm_dimension'])\n",
    "\n",
    "    def call(self, x):\n",
    "        x1, x2 = x\n",
    "        x1 = self.embedding(x1)\n",
    "        x2 = self.embedding(x2)\n",
    "        x1 = self.lstm(x1)\n",
    "        x2 = self.lstm(x2)\n",
    "\n",
    "        # 두 시퀸스에 대한 LSTM 출력 정보의 차이를 계산(obs(x1-x2))\n",
    "        # 차이 벡터의 요소들을 합산하여 Manhotton 거리를 계산(reduce_sum)\n",
    "        # 지수 함수를 통해 거리를 유사도로 변환(exp(-x))\n",
    "        return tf.exp(-tf.reduce_sum(tf.abs(x1 - x2), axis=1))"
   ]
  },
  {
   "cell_type": "code",
   "execution_count": 70,
   "id": "16a72bbd-a19c-406a-adea-3f71a0a5b73c",
   "metadata": {},
   "outputs": [
    {
     "name": "stderr",
     "output_type": "stream",
     "text": [
      "WARNING:absl:At this time, the v2.11+ optimizer `tf.keras.optimizers.Adam` runs slowly on M1/M2 Macs, please use the legacy Keras optimizer instead, located at `tf.keras.optimizers.legacy.Adam`.\n",
      "WARNING:absl:There is a known slowdown when using v2.11+ Keras optimizers on M1/M2 Macs. Falling back to the legacy Keras optimizer, i.e., `tf.keras.optimizers.legacy.Adam`.\n"
     ]
    }
   ],
   "source": [
    "model = ManLSTM(**kargs)\n",
    "\n",
    "model.compile(optimizer=tf.keras.optimizers.Adam(1e-3), loss=tf.keras.losses.BinaryCrossentropy(), metrics=[tf.keras.metrics.BinaryAccuracy(name='accuracy')])"
   ]
  },
  {
   "cell_type": "code",
   "execution_count": null,
   "id": "bb64a3fd-8375-4d76-82a4-a4d367af7350",
   "metadata": {},
   "outputs": [
    {
     "name": "stdout",
     "output_type": "stream",
     "text": [
      "Epoch 1/5\n"
     ]
    },
    {
     "name": "stderr",
     "output_type": "stream",
     "text": [
      "2024-07-12 14:46:31.778626: I tensorflow/core/common_runtime/executor.cc:1197] [/device:CPU:0] (DEBUG INFO) Executor start aborting (this does not indicate an error and you can ignore this message): INVALID_ARGUMENT: You must feed a value for placeholder tensor 'gradients/split_2_grad/concat/split_2/split_dim' with dtype int32\n",
      "\t [[{{node gradients/split_2_grad/concat/split_2/split_dim}}]]\n",
      "2024-07-12 14:46:31.779697: I tensorflow/core/common_runtime/executor.cc:1197] [/device:CPU:0] (DEBUG INFO) Executor start aborting (this does not indicate an error and you can ignore this message): INVALID_ARGUMENT: You must feed a value for placeholder tensor 'gradients/split_grad/concat/split/split_dim' with dtype int32\n",
      "\t [[{{node gradients/split_grad/concat/split/split_dim}}]]\n",
      "2024-07-12 14:46:31.780332: I tensorflow/core/common_runtime/executor.cc:1197] [/device:CPU:0] (DEBUG INFO) Executor start aborting (this does not indicate an error and you can ignore this message): INVALID_ARGUMENT: You must feed a value for placeholder tensor 'gradients/split_1_grad/concat/split_1/split_dim' with dtype int32\n",
      "\t [[{{node gradients/split_1_grad/concat/split_1/split_dim}}]]\n",
      "2024-07-12 14:46:31.879992: I tensorflow/core/common_runtime/executor.cc:1197] [/device:CPU:0] (DEBUG INFO) Executor start aborting (this does not indicate an error and you can ignore this message): INVALID_ARGUMENT: You must feed a value for placeholder tensor 'gradients/split_2_grad/concat/split_2/split_dim' with dtype int32\n",
      "\t [[{{node gradients/split_2_grad/concat/split_2/split_dim}}]]\n",
      "2024-07-12 14:46:31.880676: I tensorflow/core/common_runtime/executor.cc:1197] [/device:CPU:0] (DEBUG INFO) Executor start aborting (this does not indicate an error and you can ignore this message): INVALID_ARGUMENT: You must feed a value for placeholder tensor 'gradients/split_grad/concat/split/split_dim' with dtype int32\n",
      "\t [[{{node gradients/split_grad/concat/split/split_dim}}]]\n",
      "2024-07-12 14:46:31.881279: I tensorflow/core/common_runtime/executor.cc:1197] [/device:CPU:0] (DEBUG INFO) Executor start aborting (this does not indicate an error and you can ignore this message): INVALID_ARGUMENT: You must feed a value for placeholder tensor 'gradients/split_1_grad/concat/split_1/split_dim' with dtype int32\n",
      "\t [[{{node gradients/split_1_grad/concat/split_1/split_dim}}]]\n",
      "2024-07-12 14:46:32.302357: I tensorflow/core/common_runtime/executor.cc:1197] [/device:CPU:0] (DEBUG INFO) Executor start aborting (this does not indicate an error and you can ignore this message): INVALID_ARGUMENT: You must feed a value for placeholder tensor 'gradients/split_2_grad/concat/split_2/split_dim' with dtype int32\n",
      "\t [[{{node gradients/split_2_grad/concat/split_2/split_dim}}]]\n",
      "2024-07-12 14:46:32.303367: I tensorflow/core/common_runtime/executor.cc:1197] [/device:CPU:0] (DEBUG INFO) Executor start aborting (this does not indicate an error and you can ignore this message): INVALID_ARGUMENT: You must feed a value for placeholder tensor 'gradients/split_grad/concat/split/split_dim' with dtype int32\n",
      "\t [[{{node gradients/split_grad/concat/split/split_dim}}]]\n",
      "2024-07-12 14:46:32.304318: I tensorflow/core/common_runtime/executor.cc:1197] [/device:CPU:0] (DEBUG INFO) Executor start aborting (this does not indicate an error and you can ignore this message): INVALID_ARGUMENT: You must feed a value for placeholder tensor 'gradients/split_1_grad/concat/split_1/split_dim' with dtype int32\n",
      "\t [[{{node gradients/split_1_grad/concat/split_1/split_dim}}]]\n",
      "2024-07-12 14:46:32.401938: I tensorflow/core/common_runtime/executor.cc:1197] [/device:CPU:0] (DEBUG INFO) Executor start aborting (this does not indicate an error and you can ignore this message): INVALID_ARGUMENT: You must feed a value for placeholder tensor 'gradients/split_2_grad/concat/split_2/split_dim' with dtype int32\n",
      "\t [[{{node gradients/split_2_grad/concat/split_2/split_dim}}]]\n",
      "2024-07-12 14:46:32.402768: I tensorflow/core/common_runtime/executor.cc:1197] [/device:CPU:0] (DEBUG INFO) Executor start aborting (this does not indicate an error and you can ignore this message): INVALID_ARGUMENT: You must feed a value for placeholder tensor 'gradients/split_grad/concat/split/split_dim' with dtype int32\n",
      "\t [[{{node gradients/split_grad/concat/split/split_dim}}]]\n",
      "2024-07-12 14:46:32.403423: I tensorflow/core/common_runtime/executor.cc:1197] [/device:CPU:0] (DEBUG INFO) Executor start aborting (this does not indicate an error and you can ignore this message): INVALID_ARGUMENT: You must feed a value for placeholder tensor 'gradients/split_1_grad/concat/split_1/split_dim' with dtype int32\n",
      "\t [[{{node gradients/split_1_grad/concat/split_1/split_dim}}]]\n"
     ]
    },
    {
     "name": "stdout",
     "output_type": "stream",
     "text": [
      "2099/2100 [============================>.] - ETA: 0s - loss: 0.5290 - accuracy: 0.7377"
     ]
    },
    {
     "name": "stderr",
     "output_type": "stream",
     "text": [
      "2024-07-12 14:52:31.250063: I tensorflow/core/common_runtime/executor.cc:1197] [/device:CPU:0] (DEBUG INFO) Executor start aborting (this does not indicate an error and you can ignore this message): INVALID_ARGUMENT: You must feed a value for placeholder tensor 'gradients/split_2_grad/concat/split_2/split_dim' with dtype int32\n",
      "\t [[{{node gradients/split_2_grad/concat/split_2/split_dim}}]]\n",
      "2024-07-12 14:52:31.250765: I tensorflow/core/common_runtime/executor.cc:1197] [/device:CPU:0] (DEBUG INFO) Executor start aborting (this does not indicate an error and you can ignore this message): INVALID_ARGUMENT: You must feed a value for placeholder tensor 'gradients/split_grad/concat/split/split_dim' with dtype int32\n",
      "\t [[{{node gradients/split_grad/concat/split/split_dim}}]]\n",
      "2024-07-12 14:52:31.251916: I tensorflow/core/common_runtime/executor.cc:1197] [/device:CPU:0] (DEBUG INFO) Executor start aborting (this does not indicate an error and you can ignore this message): INVALID_ARGUMENT: You must feed a value for placeholder tensor 'gradients/split_1_grad/concat/split_1/split_dim' with dtype int32\n",
      "\t [[{{node gradients/split_1_grad/concat/split_1/split_dim}}]]\n",
      "2024-07-12 14:52:31.345488: I tensorflow/core/common_runtime/executor.cc:1197] [/device:CPU:0] (DEBUG INFO) Executor start aborting (this does not indicate an error and you can ignore this message): INVALID_ARGUMENT: You must feed a value for placeholder tensor 'gradients/split_2_grad/concat/split_2/split_dim' with dtype int32\n",
      "\t [[{{node gradients/split_2_grad/concat/split_2/split_dim}}]]\n",
      "2024-07-12 14:52:31.346098: I tensorflow/core/common_runtime/executor.cc:1197] [/device:CPU:0] (DEBUG INFO) Executor start aborting (this does not indicate an error and you can ignore this message): INVALID_ARGUMENT: You must feed a value for placeholder tensor 'gradients/split_grad/concat/split/split_dim' with dtype int32\n",
      "\t [[{{node gradients/split_grad/concat/split/split_dim}}]]\n",
      "2024-07-12 14:52:31.346633: I tensorflow/core/common_runtime/executor.cc:1197] [/device:CPU:0] (DEBUG INFO) Executor start aborting (this does not indicate an error and you can ignore this message): INVALID_ARGUMENT: You must feed a value for placeholder tensor 'gradients/split_1_grad/concat/split_1/split_dim' with dtype int32\n",
      "\t [[{{node gradients/split_1_grad/concat/split_1/split_dim}}]]\n"
     ]
    },
    {
     "name": "stdout",
     "output_type": "stream",
     "text": [
      "WARNING:tensorflow:Can save best model only with val_acc available, skipping.\n"
     ]
    },
    {
     "name": "stderr",
     "output_type": "stream",
     "text": [
      "WARNING:tensorflow:Can save best model only with val_acc available, skipping.\n"
     ]
    },
    {
     "name": "stdout",
     "output_type": "stream",
     "text": [
      "2100/2100 [==============================] - 367s 174ms/step - loss: 0.5290 - accuracy: 0.7377 - val_loss: 0.5030 - val_accuracy: 0.7725\n",
      "Epoch 2/5\n",
      "2099/2100 [============================>.] - ETA: 0s - loss: 0.4033 - accuracy: 0.8201WARNING:tensorflow:Can save best model only with val_acc available, skipping.\n"
     ]
    },
    {
     "name": "stderr",
     "output_type": "stream",
     "text": [
      "WARNING:tensorflow:Can save best model only with val_acc available, skipping.\n"
     ]
    },
    {
     "name": "stdout",
     "output_type": "stream",
     "text": [
      "2100/2100 [==============================] - 274s 130ms/step - loss: 0.4033 - accuracy: 0.8201 - val_loss: 0.3595 - val_accuracy: 0.8717\n",
      "Epoch 3/5\n",
      "2100/2100 [==============================] - ETA: 0s - loss: 0.3618 - accuracy: 0.8423WARNING:tensorflow:Can save best model only with val_acc available, skipping.\n"
     ]
    },
    {
     "name": "stderr",
     "output_type": "stream",
     "text": [
      "WARNING:tensorflow:Can save best model only with val_acc available, skipping.\n"
     ]
    },
    {
     "name": "stdout",
     "output_type": "stream",
     "text": [
      "2100/2100 [==============================] - 363s 173ms/step - loss: 0.3618 - accuracy: 0.8423 - val_loss: 0.7712 - val_accuracy: 0.6342\n",
      "Epoch 4/5\n",
      " 280/2100 [===>..........................] - ETA: 9:46 - loss: 0.3303 - accuracy: 0.8611"
     ]
    }
   ],
   "source": [
    "history = model.fit((q1_data, q2_data), labels, batch_size=128, epochs=5, validation_split=VALID_SPLIT, callbacks=[es, mc])"
   ]
  },
  {
   "cell_type": "code",
   "execution_count": null,
   "id": "0a82331c-54f2-43bc-b4b1-f40d09c01578",
   "metadata": {},
   "outputs": [],
   "source": [
    "plot_graphs(history, 'acc')"
   ]
  },
  {
   "cell_type": "code",
   "execution_count": null,
   "id": "44fce2d4-7bba-4474-827d-b7b3b745724f",
   "metadata": {},
   "outputs": [],
   "source": [
    "plt_graphs(history, 'loss')"
   ]
  },
  {
   "cell_type": "code",
   "execution_count": null,
   "id": "d620e725-67bb-426b-a5d0-e1128fc2ae9d",
   "metadata": {},
   "outputs": [],
   "source": [
    "predictions = model.predict((test_q1_data, test_q2_data), batch_size=128)"
   ]
  },
  {
   "cell_type": "code",
   "execution_count": null,
   "id": "f85073b6-74f6-4b1c-a33c-4816b23ebe58",
   "metadata": {},
   "outputs": [],
   "source": [
    "print(predictions)"
   ]
  },
  {
   "cell_type": "code",
   "execution_count": null,
   "id": "6dbc2916-d211-4b78-b031-b068ded2f56c",
   "metadata": {},
   "outputs": [],
   "source": []
  }
 ],
 "metadata": {
  "kernelspec": {
   "display_name": "Python (tensorflow)",
   "language": "python",
   "name": "tensorflow"
  },
  "language_info": {
   "codemirror_mode": {
    "name": "ipython",
    "version": 3
   },
   "file_extension": ".py",
   "mimetype": "text/x-python",
   "name": "python",
   "nbconvert_exporter": "python",
   "pygments_lexer": "ipython3",
   "version": "3.9.18"
  }
 },
 "nbformat": 4,
 "nbformat_minor": 5
}
