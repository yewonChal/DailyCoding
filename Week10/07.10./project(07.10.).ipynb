{
 "cells": [
  {
   "cell_type": "markdown",
   "id": "62ae453d-f773-4f76-bad3-9e4abaf9fb1e",
   "metadata": {},
   "source": [
    "# 숙제 : Tagging 문제"
   ]
  },
  {
   "cell_type": "code",
   "execution_count": 1,
   "id": "fff52ae1-9a9d-468d-9c38-4499d251184f",
   "metadata": {},
   "outputs": [
    {
     "name": "stderr",
     "output_type": "stream",
     "text": [
      "[nltk_data] Downloading package conll2000 to /Users/jeon-\n",
      "[nltk_data]     yewon/nltk_data...\n",
      "[nltk_data]   Package conll2000 is already up-to-date!\n",
      "[nltk_data] Downloading package universal_tagset to /Users/jeon-\n",
      "[nltk_data]     yewon/nltk_data...\n",
      "[nltk_data]   Package universal_tagset is already up-to-date!\n"
     ]
    },
    {
     "data": {
      "text/plain": [
       "True"
      ]
     },
     "execution_count": 1,
     "metadata": {},
     "output_type": "execute_result"
    }
   ],
   "source": [
    "import nltk\n",
    "nltk.download('conll2000')\n",
    "nltk.download('universal_tagset')"
   ]
  },
  {
   "cell_type": "code",
   "execution_count": 2,
   "id": "2305313e-7de0-44a6-b3e2-d3de80b92989",
   "metadata": {},
   "outputs": [],
   "source": [
    "from nltk.corpus import brown\n",
    "from nltk.corpus import treebank\n",
    "from nltk.corpus import conll2000"
   ]
  },
  {
   "cell_type": "code",
   "execution_count": 8,
   "id": "ae7fd50f-8556-4d3f-a593-e4c04e5330c0",
   "metadata": {},
   "outputs": [
    {
     "name": "stdout",
     "output_type": "stream",
     "text": [
      "Channels:\n",
      " - defaults\n",
      " - conda-forge\n",
      "Platform: osx-arm64\n",
      "Collecting package metadata (repodata.json): done\n",
      "Solving environment: done\n",
      "\n",
      "## Package Plan ##\n",
      "\n",
      "  environment location: /Users/jeon-yewon/miniforge3/envs/tensorflow\n",
      "\n",
      "  added / updated specs:\n",
      "    - scikit-learn\n",
      "\n",
      "\n",
      "The following packages will be downloaded:\n",
      "\n",
      "    package                    |            build\n",
      "    ---------------------------|-----------------\n",
      "    threadpoolctl-3.5.0        |   py39h33ce5c2_0          43 KB\n",
      "    ------------------------------------------------------------\n",
      "                                           Total:          43 KB\n",
      "\n",
      "The following NEW packages will be INSTALLED:\n",
      "\n",
      "  scikit-learn       pkgs/main/osx-arm64::scikit-learn-1.4.2-py39h46d7db6_1 \n",
      "  threadpoolctl      pkgs/main/osx-arm64::threadpoolctl-3.5.0-py39h33ce5c2_0 \n",
      "\n",
      "\n",
      "\n",
      "Downloading and Extracting Packages:\n",
      "                                                                                \n",
      "Preparing transaction: done\n",
      "Verifying transaction: done\n",
      "Executing transaction: done\n",
      "\n",
      "Note: you may need to restart the kernel to use updated packages.\n"
     ]
    }
   ],
   "source": [
    "conda install scikit-learn"
   ]
  },
  {
   "cell_type": "code",
   "execution_count": 9,
   "id": "447ce198-f62c-4b50-9f1b-202534424784",
   "metadata": {},
   "outputs": [
    {
     "name": "stdout",
     "output_type": "stream",
     "text": [
      "Requirement already satisfied: scikit-learn in /Users/jeon-yewon/miniforge3/envs/tensorflow/lib/python3.9/site-packages (1.4.2)\n",
      "Requirement already satisfied: numpy>=1.19.5 in /Users/jeon-yewon/miniforge3/envs/tensorflow/lib/python3.9/site-packages (from scikit-learn) (1.23.5)\n",
      "Requirement already satisfied: scipy>=1.6.0 in /Users/jeon-yewon/miniforge3/envs/tensorflow/lib/python3.9/site-packages (from scikit-learn) (1.13.1)\n",
      "Requirement already satisfied: joblib>=1.2.0 in /Users/jeon-yewon/miniforge3/envs/tensorflow/lib/python3.9/site-packages (from scikit-learn) (1.4.2)\n",
      "Requirement already satisfied: threadpoolctl>=2.0.0 in /Users/jeon-yewon/miniforge3/envs/tensorflow/lib/python3.9/site-packages (from scikit-learn) (3.5.0)\n",
      "Note: you may need to restart the kernel to use updated packages.\n"
     ]
    }
   ],
   "source": [
    "pip install scikit-learn"
   ]
  },
  {
   "cell_type": "code",
   "execution_count": 10,
   "id": "5419d943-fca0-4db3-a8a9-b92328fdecc6",
   "metadata": {},
   "outputs": [],
   "source": [
    "import pandas as pd\n",
    "import numpy as np\n",
    "import matplotlib.pyplot as plt\n",
    "from tensorflow.keras.preprocessing.text import Tokenizer\n",
    "from tensorflow.keras.preprocessing.sequence import pad_sequences\n",
    "from sklearn.model_selection import train_test_split\n",
    "from tensorflow.keras.utils import to_categorical"
   ]
  },
  {
   "cell_type": "code",
   "execution_count": 46,
   "id": "c27fba3f-7611-4e66-a7cc-249375d0414f",
   "metadata": {},
   "outputs": [],
   "source": [
    "conll_corpus = conll2000.tagged_sents(tagset='universal')"
   ]
  },
  {
   "cell_type": "code",
   "execution_count": 47,
   "id": "6c4e92a4-0188-43a3-954e-65345234cc72",
   "metadata": {},
   "outputs": [
    {
     "data": {
      "text/plain": [
       "[('Confidence', 'NOUN'),\n",
       " ('in', 'ADP'),\n",
       " ('the', 'DET'),\n",
       " ('pound', 'NOUN'),\n",
       " ('is', 'VERB'),\n",
       " ('widely', 'ADV'),\n",
       " ('expected', 'VERB'),\n",
       " ('to', 'PRT'),\n",
       " ('take', 'VERB'),\n",
       " ('another', 'DET'),\n",
       " ('sharp', 'ADJ'),\n",
       " ('dive', 'NOUN'),\n",
       " ('if', 'ADP'),\n",
       " ('trade', 'NOUN'),\n",
       " ('figures', 'NOUN'),\n",
       " ('for', 'ADP'),\n",
       " ('September', 'NOUN'),\n",
       " (',', '.'),\n",
       " ('due', 'ADJ'),\n",
       " ('for', 'ADP'),\n",
       " ('release', 'NOUN'),\n",
       " ('tomorrow', 'NOUN'),\n",
       " (',', '.'),\n",
       " ('fail', 'VERB'),\n",
       " ('to', 'PRT'),\n",
       " ('show', 'VERB'),\n",
       " ('a', 'DET'),\n",
       " ('substantial', 'ADJ'),\n",
       " ('improvement', 'NOUN'),\n",
       " ('from', 'ADP'),\n",
       " ('July', 'NOUN'),\n",
       " ('and', 'CONJ'),\n",
       " ('August', 'NOUN'),\n",
       " (\"'s\", 'PRT'),\n",
       " ('near-record', 'ADJ'),\n",
       " ('deficits', 'NOUN'),\n",
       " ('.', '.')]"
      ]
     },
     "execution_count": 47,
     "metadata": {},
     "output_type": "execute_result"
    }
   ],
   "source": [
    "conll_corpus[0]"
   ]
  },
  {
   "cell_type": "code",
   "execution_count": 48,
   "id": "949a1f8c-eea0-46d9-a1b5-a38aa1e91b34",
   "metadata": {},
   "outputs": [
    {
     "name": "stdout",
     "output_type": "stream",
     "text": [
      "10948\n"
     ]
    }
   ],
   "source": [
    "print(len(conll_corpus))"
   ]
  },
  {
   "cell_type": "code",
   "execution_count": 49,
   "id": "d879d536-a70c-4b2f-8e5f-8b40e4192ee7",
   "metadata": {},
   "outputs": [],
   "source": [
    "sentences = [[(word.lower(), tag) for word, tag in sentence] for sentence in conll_corpus]"
   ]
  },
  {
   "cell_type": "code",
   "execution_count": 50,
   "id": "52c8df13-87af-4ad4-a86b-a9ab674a887f",
   "metadata": {},
   "outputs": [],
   "source": [
    "train_data, test_data = train_test_split(sentences, test_size=0.2, random_state=42)"
   ]
  },
  {
   "cell_type": "code",
   "execution_count": 51,
   "id": "a9a5ee8d-8483-4481-b4bd-3d3526e0ec11",
   "metadata": {},
   "outputs": [],
   "source": [
    "from nltk.tag import UnigramTagger\n",
    "unigram_tagger = UnigramTagger(train_data)"
   ]
  },
  {
   "cell_type": "code",
   "execution_count": 52,
   "id": "b170d9f7-955b-4903-b6f2-c2905f2de925",
   "metadata": {},
   "outputs": [
    {
     "name": "stdout",
     "output_type": "stream",
     "text": [
      "정확도: 0.9285\n"
     ]
    }
   ],
   "source": [
    "accuracy = unigram_tagger.evaluate(test_data)\n",
    "print(f\"정확도: {accuracy:.4f}\")"
   ]
  },
  {
   "cell_type": "raw",
   "id": "6ff7101e-5fa0-4872-9ad6-2ba3faff27bb",
   "metadata": {},
   "source": [
    "## 또는"
   ]
  },
  {
   "cell_type": "code",
   "execution_count": 54,
   "id": "f0200708-5721-49ba-ae3d-a2d691bfa90b",
   "metadata": {},
   "outputs": [],
   "source": [
    "sentences = []\n",
    "tags = []\n",
    "\n",
    "for tagged_sentence in conll_corpus:\n",
    "    sentence, tag_info = zip(*tagged_sentence)\n",
    "    sentences.append(list(sentence))\n",
    "    tags.append(list(tag_info))"
   ]
  },
  {
   "cell_type": "code",
   "execution_count": 55,
   "id": "bafeb546-96f0-4c8e-873e-e8e642805a9d",
   "metadata": {},
   "outputs": [
    {
     "name": "stdout",
     "output_type": "stream",
     "text": [
      "문장 개수: 10948\n",
      "태그 개수: 10948\n"
     ]
    }
   ],
   "source": [
    "print(\"문장 개수:\", len(sentences))\n",
    "print(\"태그 개수:\", len(tags))"
   ]
  },
  {
   "cell_type": "code",
   "execution_count": 56,
   "id": "e582d2bf-6f64-467b-bcb8-9e954daae95f",
   "metadata": {},
   "outputs": [
    {
     "name": "stdout",
     "output_type": "stream",
     "text": [
      "['Confidence', 'in', 'the', 'pound', 'is', 'widely', 'expected', 'to', 'take', 'another', 'sharp', 'dive', 'if', 'trade', 'figures', 'for', 'September', ',', 'due', 'for', 'release', 'tomorrow', ',', 'fail', 'to', 'show', 'a', 'substantial', 'improvement', 'from', 'July', 'and', 'August', \"'s\", 'near-record', 'deficits', '.']\n"
     ]
    }
   ],
   "source": [
    "print(sentences[0])"
   ]
  },
  {
   "cell_type": "code",
   "execution_count": 57,
   "id": "708770de-9b20-423f-b144-d0e997d3f485",
   "metadata": {},
   "outputs": [
    {
     "name": "stdout",
     "output_type": "stream",
     "text": [
      "['NOUN', 'ADP', 'DET', 'NOUN', 'VERB', 'ADV', 'VERB', 'PRT', 'VERB', 'DET', 'ADJ', 'NOUN', 'ADP', 'NOUN', 'NOUN', 'ADP', 'NOUN', '.', 'ADJ', 'ADP', 'NOUN', 'NOUN', '.', 'VERB', 'PRT', 'VERB', 'DET', 'ADJ', 'NOUN', 'ADP', 'NOUN', 'CONJ', 'NOUN', 'PRT', 'ADJ', 'NOUN', '.']\n"
     ]
    }
   ],
   "source": [
    "print(tags[0])"
   ]
  },
  {
   "cell_type": "code",
   "execution_count": 58,
   "id": "371532a6-b4ec-4873-8a93-f8ee640165b1",
   "metadata": {},
   "outputs": [],
   "source": [
    "sentence_lengths = [len(sentence) for sentence in sentences]"
   ]
  },
  {
   "cell_type": "code",
   "execution_count": 59,
   "id": "b6973a80-fad7-4bbb-8b9e-89c9b63d264d",
   "metadata": {},
   "outputs": [
    {
     "name": "stdout",
     "output_type": "stream",
     "text": [
      "최대 문장 길이: 78\n",
      "평균 문장 길이: 23.66678845451224\n"
     ]
    }
   ],
   "source": [
    "print('최대 문장 길이:', max(sentence_lengths))\n",
    "print('평균 문장 길이:', np.mean(sentence_lengths))"
   ]
  },
  {
   "cell_type": "code",
   "execution_count": 60,
   "id": "845de54d-8d2f-48e6-a9da-042592a47156",
   "metadata": {},
   "outputs": [
    {
     "data": {
      "image/png": "[encoded data removed]",
      "text/plain": [
       "<Figure size 640x480 with 1 Axes>"
      ]
     },
     "metadata": {},
     "output_type": "display_data"
    }
   ],
   "source": [
    "import warnings\n",
    "warnings.filterwarnings(action='ignore')\n",
    "\n",
    "plt.hist(sentence_lengths, bins=50)\n",
    "plt.xlabel('문장 길이')\n",
    "plt.ylabel('개수')\n",
    "plt.show()"
   ]
  },
  {
   "cell_type": "code",
   "execution_count": 61,
   "id": "bb0de8b5-1bc5-4978-8fb6-4c2e08f70071",
   "metadata": {},
   "outputs": [],
   "source": [
    "max_words = 4000\n",
    "\n",
    "src_tokenizer = Tokenizer(num_words=max_words, oov_token='OOV')\n",
    "src_tokenizer.fit_on_texts(sentences)\n",
    "\n",
    "tar_tokenizer = Tokenizer()\n",
    "tar_tokenizer.fit_on_texts(tags)\n",
    "\n",
    "vocab_size = max_words\n",
    "tag_size = len(tar_tokenizer.word_index) + 1"
   ]
  },
  {
   "cell_type": "code",
   "execution_count": 62,
   "id": "06a79269-cd2b-48b0-b768-b4348a712501",
   "metadata": {},
   "outputs": [
    {
     "name": "stdout",
     "output_type": "stream",
     "text": [
      "단어 집합 크기: 4000\n",
      "태깅 집합 크기: 13\n"
     ]
    }
   ],
   "source": [
    "print('단어 집합 크기:', vocab_size)\n",
    "print('태깅 집합 크기:', tag_size)"
   ]
  },
  {
   "cell_type": "code",
   "execution_count": 63,
   "id": "58bef693-f2a5-4a9c-932f-f5c4264edde4",
   "metadata": {},
   "outputs": [],
   "source": [
    "X_train = src_tokenizer.texts_to_sequences(sentences)\n",
    "y_train = tar_tokenizer.texts_to_sequences(tags)"
   ]
  },
  {
   "cell_type": "code",
   "execution_count": 64,
   "id": "aa14c9ac-272a-4161-95bf-ab8215ad84d7",
   "metadata": {},
   "outputs": [],
   "source": [
    "index_to_word = src_tokenizer.index_word\n",
    "index_to_tag = tar_tokenizer.index_word"
   ]
  },
  {
   "cell_type": "code",
   "execution_count": 65,
   "id": "b43f2e56-9d2b-4a38-bd23-2c068cbba002",
   "metadata": {},
   "outputs": [],
   "source": [
    "decoded = [index_to_word[index] for index in X_train[0]]"
   ]
  },
  {
   "cell_type": "code",
   "execution_count": 66,
   "id": "8ded3470-a877-4319-9542-8f596f43f64d",
   "metadata": {},
   "outputs": [],
   "source": [
    "max_len = 70\n",
    "\n",
    "X_train = pad_sequences(X_train, padding='post', maxlen=max_len)\n",
    "y_train = pad_sequences(y_train, padding='post', maxlen=max_len)"
   ]
  },
  {
   "cell_type": "code",
   "execution_count": 67,
   "id": "6ed711c5-3659-460f-8441-9d15bbd71e3a",
   "metadata": {},
   "outputs": [],
   "source": [
    "X_train, X_test, y_train, y_test = train_test_split(X_train, y_train, test_size=0.2, random_state=42)"
   ]
  },
  {
   "cell_type": "code",
   "execution_count": 68,
   "id": "0063f8fb-1f83-414e-b603-df1fe0120d38",
   "metadata": {},
   "outputs": [],
   "source": [
    "y_train = to_categorical(y_train, num_classes=tag_size)\n",
    "y_test = to_categorical(y_test, num_classes=tag_size)"
   ]
  },
  {
   "cell_type": "code",
   "execution_count": 69,
   "id": "4287c950-2ede-4c33-952b-5b7b719f6393",
   "metadata": {},
   "outputs": [
    {
     "name": "stdout",
     "output_type": "stream",
     "text": [
      "훈련 데이터: (8758, 70) (8758, 70, 13)\n",
      "검증 데이터: (2190, 70) (2190, 70, 13)\n"
     ]
    }
   ],
   "source": [
    "print('훈련 데이터:', X_train.shape, y_train.shape)\n",
    "print('검증 데이터:', X_test.shape, y_test.shape)"
   ]
  },
  {
   "cell_type": "code",
   "execution_count": 75,
   "id": "d686afd4-d2ae-4f72-a533-7361ff46d5eb",
   "metadata": {},
   "outputs": [
    {
     "name": "stderr",
     "output_type": "stream",
     "text": [
      "WARNING:absl:At this time, the v2.11+ optimizer `tf.keras.optimizers.Adam` runs slowly on M1/M2 Macs, please use the legacy Keras optimizer instead, located at `tf.keras.optimizers.legacy.Adam`.\n",
      "WARNING:absl:There is a known slowdown when using v2.11+ Keras optimizers on M1/M2 Macs. Falling back to the legacy Keras optimizer, i.e., `tf.keras.optimizers.legacy.Adam`.\n"
     ]
    },
    {
     "name": "stdout",
     "output_type": "stream",
     "text": [
      "Model: \"sequential_1\"\n",
      "_________________________________________________________________\n",
      " Layer (type)                Output Shape              Param #   \n",
      "=================================================================\n",
      " embedding_1 (Embedding)     (None, 70, 128)           512000    \n",
      "                                                                 \n",
      " bidirectional_1 (Bidirecti  (None, 70, 512)           788480    \n",
      " onal)                                                           \n",
      "                                                                 \n",
      " time_distributed_1 (TimeDi  (None, 70, 13)            6669      \n",
      " stributed)                                                      \n",
      "                                                                 \n",
      "=================================================================\n",
      "Total params: 1307149 (4.99 MB)\n",
      "Trainable params: 1307149 (4.99 MB)\n",
      "Non-trainable params: 0 (0.00 Byte)\n",
      "_________________________________________________________________\n"
     ]
    }
   ],
   "source": [
    "from tensorflow.keras.models import Sequential\n",
    "from tensorflow.keras.layers import Embedding, LSTM, Bidirectional, Dense, TimeDistributed\n",
    "from tensorflow.keras.optimizers import Adam\n",
    "\n",
    "model = Sequential()\n",
    "model.add(Embedding(input_dim=vocab_size, output_dim=128, input_length=max_len))\n",
    "model.add(Bidirectional(LSTM(256, return_sequences=True)))\n",
    "model.add(TimeDistributed(Dense(tag_size, activation='softmax')))\n",
    "\n",
    "model.compile(loss='categorical_crossentropy', optimizer=Adam(0.001), metrics=['accuracy'])\n",
    "model.summary()"
   ]
  },
  {
   "cell_type": "code",
   "execution_count": 77,
   "id": "3602aad9-5905-4c2a-9d74-c5399099b31a",
   "metadata": {},
   "outputs": [],
   "source": [
    "from tensorflow.keras.callbacks import EarlyStopping, ModelCheckpoint\n",
    "\n",
    "es = EarlyStopping(monitor='val_loss', mode='min', verbose=1, patience=5)\n",
    "mc = ModelCheckpoint('best_model.h5', monitor='val_loss', mode='min', verbose=1, save_best_only=True)"
   ]
  },
  {
   "cell_type": "code",
   "execution_count": 78,
   "id": "5b1338d4-2b69-4bd3-90bd-e38677bf0871",
   "metadata": {},
   "outputs": [
    {
     "name": "stdout",
     "output_type": "stream",
     "text": [
      "Epoch 1/20\n",
      "69/69 [==============================] - ETA: 0s - loss: 0.9374 - accuracy: 0.7371\n",
      "Epoch 1: val_loss improved from inf to 0.71543, saving model to best_model.h5\n",
      "69/69 [==============================] - 45s 638ms/step - loss: 0.9374 - accuracy: 0.7371 - val_loss: 0.7154 - val_accuracy: 0.7594\n",
      "Epoch 2/20\n",
      "69/69 [==============================] - ETA: 0s - loss: 0.6336 - accuracy: 0.7909\n",
      "Epoch 2: val_loss improved from 0.71543 to 0.49992, saving model to best_model.h5\n",
      "69/69 [==============================] - 45s 650ms/step - loss: 0.6336 - accuracy: 0.7909 - val_loss: 0.4999 - val_accuracy: 0.8668\n",
      "Epoch 3/20\n",
      "69/69 [==============================] - ETA: 0s - loss: 0.2826 - accuracy: 0.9236\n",
      "Epoch 3: val_loss improved from 0.49992 to 0.13112, saving model to best_model.h5\n",
      "69/69 [==============================] - 43s 620ms/step - loss: 0.2826 - accuracy: 0.9236 - val_loss: 0.1311 - val_accuracy: 0.9681\n",
      "Epoch 4/20\n",
      "69/69 [==============================] - ETA: 0s - loss: 0.0844 - accuracy: 0.9776\n",
      "Epoch 4: val_loss improved from 0.13112 to 0.06300, saving model to best_model.h5\n",
      "69/69 [==============================] - 42s 609ms/step - loss: 0.0844 - accuracy: 0.9776 - val_loss: 0.0630 - val_accuracy: 0.9815\n",
      "Epoch 5/20\n",
      "69/69 [==============================] - ETA: 0s - loss: 0.0534 - accuracy: 0.9836\n",
      "Epoch 5: val_loss improved from 0.06300 to 0.05039, saving model to best_model.h5\n",
      "69/69 [==============================] - 42s 603ms/step - loss: 0.0534 - accuracy: 0.9836 - val_loss: 0.0504 - val_accuracy: 0.9842\n",
      "Epoch 6/20\n",
      "69/69 [==============================] - ETA: 0s - loss: 0.0438 - accuracy: 0.9858\n",
      "Epoch 6: val_loss improved from 0.05039 to 0.04509, saving model to best_model.h5\n",
      "69/69 [==============================] - 42s 613ms/step - loss: 0.0438 - accuracy: 0.9858 - val_loss: 0.0451 - val_accuracy: 0.9851\n",
      "Epoch 7/20\n",
      "69/69 [==============================] - ETA: 0s - loss: 0.0385 - accuracy: 0.9874\n",
      "Epoch 7: val_loss improved from 0.04509 to 0.04237, saving model to best_model.h5\n",
      "69/69 [==============================] - 43s 620ms/step - loss: 0.0385 - accuracy: 0.9874 - val_loss: 0.0424 - val_accuracy: 0.9859\n",
      "Epoch 8/20\n",
      "69/69 [==============================] - ETA: 0s - loss: 0.0349 - accuracy: 0.9884\n",
      "Epoch 8: val_loss improved from 0.04237 to 0.04044, saving model to best_model.h5\n",
      "69/69 [==============================] - 42s 607ms/step - loss: 0.0349 - accuracy: 0.9884 - val_loss: 0.0404 - val_accuracy: 0.9865\n",
      "Epoch 9/20\n",
      "69/69 [==============================] - ETA: 0s - loss: 0.0322 - accuracy: 0.9894\n",
      "Epoch 9: val_loss did not improve from 0.04044\n",
      "69/69 [==============================] - 52s 759ms/step - loss: 0.0322 - accuracy: 0.9894 - val_loss: 0.0415 - val_accuracy: 0.9861\n",
      "Epoch 10/20\n",
      "69/69 [==============================] - ETA: 0s - loss: 0.0303 - accuracy: 0.9899\n",
      "Epoch 10: val_loss improved from 0.04044 to 0.03956, saving model to best_model.h5\n",
      "69/69 [==============================] - 49s 719ms/step - loss: 0.0303 - accuracy: 0.9899 - val_loss: 0.0396 - val_accuracy: 0.9868\n",
      "Epoch 11/20\n",
      "69/69 [==============================] - ETA: 0s - loss: 0.0281 - accuracy: 0.9908\n",
      "Epoch 11: val_loss improved from 0.03956 to 0.03885, saving model to best_model.h5\n",
      "69/69 [==============================] - 48s 697ms/step - loss: 0.0281 - accuracy: 0.9908 - val_loss: 0.0388 - val_accuracy: 0.9873\n",
      "Epoch 12/20\n",
      "69/69 [==============================] - ETA: 0s - loss: 0.0261 - accuracy: 0.9914\n",
      "Epoch 12: val_loss improved from 0.03885 to 0.03882, saving model to best_model.h5\n",
      "69/69 [==============================] - 45s 652ms/step - loss: 0.0261 - accuracy: 0.9914 - val_loss: 0.0388 - val_accuracy: 0.9874\n",
      "Epoch 13/20\n",
      "69/69 [==============================] - ETA: 0s - loss: 0.0247 - accuracy: 0.9919\n",
      "Epoch 13: val_loss did not improve from 0.03882\n",
      "69/69 [==============================] - 47s 680ms/step - loss: 0.0247 - accuracy: 0.9919 - val_loss: 0.0400 - val_accuracy: 0.9872\n",
      "Epoch 14/20\n",
      "69/69 [==============================] - ETA: 0s - loss: 0.0232 - accuracy: 0.9925\n",
      "Epoch 14: val_loss did not improve from 0.03882\n",
      "69/69 [==============================] - 45s 658ms/step - loss: 0.0232 - accuracy: 0.9925 - val_loss: 0.0403 - val_accuracy: 0.9871\n",
      "Epoch 15/20\n",
      "69/69 [==============================] - ETA: 0s - loss: 0.0218 - accuracy: 0.9929\n",
      "Epoch 15: val_loss did not improve from 0.03882\n",
      "69/69 [==============================] - 46s 663ms/step - loss: 0.0218 - accuracy: 0.9929 - val_loss: 0.0409 - val_accuracy: 0.9869\n",
      "Epoch 16/20\n",
      "69/69 [==============================] - ETA: 0s - loss: 0.0202 - accuracy: 0.9936\n",
      "Epoch 16: val_loss did not improve from 0.03882\n",
      "69/69 [==============================] - 44s 635ms/step - loss: 0.0202 - accuracy: 0.9936 - val_loss: 0.0421 - val_accuracy: 0.9871\n",
      "Epoch 17/20\n",
      "69/69 [==============================] - ETA: 0s - loss: 0.0189 - accuracy: 0.9940\n",
      "Epoch 17: val_loss did not improve from 0.03882\n",
      "69/69 [==============================] - 44s 645ms/step - loss: 0.0189 - accuracy: 0.9940 - val_loss: 0.0428 - val_accuracy: 0.9868\n",
      "Epoch 17: early stopping\n"
     ]
    }
   ],
   "source": [
    "history = model.fit(X_train, y_train, \n",
    "                    batch_size=128, \n",
    "                    epochs=20, \n",
    "                    validation_data=(X_test, y_test), \n",
    "                    callbacks=[es, mc])"
   ]
  },
  {
   "cell_type": "code",
   "execution_count": 79,
   "id": "0981ec56-ac4c-49f4-85c2-e27d5283ecc3",
   "metadata": {},
   "outputs": [
    {
     "name": "stdout",
     "output_type": "stream",
     "text": [
      "69/69 [==============================] - 6s 85ms/step - loss: 0.0428 - accuracy: 0.9868\n",
      "테스트 정확도: 0.986849308013916\n"
     ]
    }
   ],
   "source": [
    "print('테스트 정확도:', model.evaluate(X_test, y_test)[1])"
   ]
  },
  {
   "cell_type": "raw",
   "id": "9b186495-b7e8-40bc-852b-de7e6b7d3ce8",
   "metadata": {},
   "source": [
    "까지 작성을 해보았는데 제대로 작성한 것이 맞는지 모르겠습니다 😭😭😭"
   ]
  },
  {
   "cell_type": "code",
   "execution_count": 4,
   "id": "6f914f23-d480-4336-bcfa-97cb96b68d30",
   "metadata": {},
   "outputs": [],
   "source": [
    "# 강사님 코드"
   ]
  },
  {
   "cell_type": "code",
   "execution_count": 5,
   "id": "3131b243-f065-4990-a2bd-1e75b95db8dc",
   "metadata": {},
   "outputs": [
    {
     "name": "stderr",
     "output_type": "stream",
     "text": [
      "[nltk_data] Downloading package conll2000 to /Users/jeon-\n",
      "[nltk_data]     yewon/nltk_data...\n",
      "[nltk_data]   Package conll2000 is already up-to-date!\n",
      "[nltk_data] Downloading package universal_tagset to /Users/jeon-\n",
      "[nltk_data]     yewon/nltk_data...\n",
      "[nltk_data]   Package universal_tagset is already up-to-date!\n"
     ]
    },
    {
     "data": {
      "text/plain": [
       "True"
      ]
     },
     "execution_count": 5,
     "metadata": {},
     "output_type": "execute_result"
    }
   ],
   "source": [
    "import nltk\n",
    "nltk.download('conll2000')\n",
    "nltk.download('universal_tagset')"
   ]
  },
  {
   "cell_type": "code",
   "execution_count": 6,
   "id": "c12189ba-7b23-42e3-9613-51d45cae11cd",
   "metadata": {},
   "outputs": [],
   "source": [
    "from nltk.corpus import brown\n",
    "from nltk.corpus import treebank\n",
    "from nltk.corpus import conll2000"
   ]
  },
  {
   "cell_type": "code",
   "execution_count": 7,
   "id": "8daa6460-7a14-41b9-818b-c82e17d5e90e",
   "metadata": {},
   "outputs": [],
   "source": [
    "conll_corpus = conll2000.tagged_sents(tagset='universal')"
   ]
  },
  {
   "cell_type": "code",
   "execution_count": 8,
   "id": "261eb5c0-36d8-4eae-956c-71463e0f114a",
   "metadata": {},
   "outputs": [
    {
     "data": {
      "text/plain": [
       "[('Confidence', 'NOUN'),\n",
       " ('in', 'ADP'),\n",
       " ('the', 'DET'),\n",
       " ('pound', 'NOUN'),\n",
       " ('is', 'VERB'),\n",
       " ('widely', 'ADV'),\n",
       " ('expected', 'VERB'),\n",
       " ('to', 'PRT'),\n",
       " ('take', 'VERB'),\n",
       " ('another', 'DET'),\n",
       " ('sharp', 'ADJ'),\n",
       " ('dive', 'NOUN'),\n",
       " ('if', 'ADP'),\n",
       " ('trade', 'NOUN'),\n",
       " ('figures', 'NOUN'),\n",
       " ('for', 'ADP'),\n",
       " ('September', 'NOUN'),\n",
       " (',', '.'),\n",
       " ('due', 'ADJ'),\n",
       " ('for', 'ADP'),\n",
       " ('release', 'NOUN'),\n",
       " ('tomorrow', 'NOUN'),\n",
       " (',', '.'),\n",
       " ('fail', 'VERB'),\n",
       " ('to', 'PRT'),\n",
       " ('show', 'VERB'),\n",
       " ('a', 'DET'),\n",
       " ('substantial', 'ADJ'),\n",
       " ('improvement', 'NOUN'),\n",
       " ('from', 'ADP'),\n",
       " ('July', 'NOUN'),\n",
       " ('and', 'CONJ'),\n",
       " ('August', 'NOUN'),\n",
       " (\"'s\", 'PRT'),\n",
       " ('near-record', 'ADJ'),\n",
       " ('deficits', 'NOUN'),\n",
       " ('.', '.')]"
      ]
     },
     "execution_count": 8,
     "metadata": {},
     "output_type": "execute_result"
    }
   ],
   "source": [
    "conll_corpus[0]"
   ]
  },
  {
   "cell_type": "code",
   "execution_count": 9,
   "id": "22c81770-729f-46e6-869a-b8a6ba12fe1d",
   "metadata": {},
   "outputs": [],
   "source": [
    "X_data = []\n",
    "y_data = []\n",
    "\n",
    "for sentences in conll_corpus:\n",
    "    X_sentence = []\n",
    "    y_sentence = []\n",
    "    for words in sentences:\n",
    "        X_sentence.append(words[0])\n",
    "        y_sentence.append(words[1])\n",
    "\n",
    "    X_data.append(X_sentence)\n",
    "    y_data.append(y_sentence)"
   ]
  },
  {
   "cell_type": "code",
   "execution_count": 10,
   "id": "685bdf5f-0df8-4dc6-aed0-748505dcd6c0",
   "metadata": {},
   "outputs": [
    {
     "name": "stdout",
     "output_type": "stream",
     "text": [
      "['Confidence', 'in', 'the', 'pound', 'is', 'widely', 'expected', 'to', 'take', 'another', 'sharp', 'dive', 'if', 'trade', 'figures', 'for', 'September', ',', 'due', 'for', 'release', 'tomorrow', ',', 'fail', 'to', 'show', 'a', 'substantial', 'improvement', 'from', 'July', 'and', 'August', \"'s\", 'near-record', 'deficits', '.'] ['NOUN', 'ADP', 'DET', 'NOUN', 'VERB', 'ADV', 'VERB', 'PRT', 'VERB', 'DET', 'ADJ', 'NOUN', 'ADP', 'NOUN', 'NOUN', 'ADP', 'NOUN', '.', 'ADJ', 'ADP', 'NOUN', 'NOUN', '.', 'VERB', 'PRT', 'VERB', 'DET', 'ADJ', 'NOUN', 'ADP', 'NOUN', 'CONJ', 'NOUN', 'PRT', 'ADJ', 'NOUN', '.']\n"
     ]
    }
   ],
   "source": [
    "print(X_data[0], y_data[0])"
   ]
  },
  {
   "cell_type": "code",
   "execution_count": 11,
   "id": "b70a6c75-33e8-4d77-a711-1a01b73da03e",
   "metadata": {},
   "outputs": [
    {
     "name": "stdout",
     "output_type": "stream",
     "text": [
      "10948 10948\n"
     ]
    }
   ],
   "source": [
    "print(len(X_data), len(y_data))"
   ]
  },
  {
   "cell_type": "code",
   "execution_count": 13,
   "id": "d218c7bd-9586-49cb-830c-43d70125bc34",
   "metadata": {},
   "outputs": [
    {
     "name": "stdout",
     "output_type": "stream",
     "text": [
      "19460 12\n"
     ]
    }
   ],
   "source": [
    "num_words = len(set([word.lower() for sentence in X_data for word in sentence]))\n",
    "num_tags = len(set([word.lower() for sentence in y_data for word in sentence]))\n",
    "\n",
    "print(num_words, num_tags)"
   ]
  },
  {
   "cell_type": "code",
   "execution_count": 14,
   "id": "a1a79100-7c9d-4553-ac79-8fa062c157cc",
   "metadata": {},
   "outputs": [
    {
     "name": "stdout",
     "output_type": "stream",
     "text": [
      "최대 길이 :  78\n",
      "평균 길이 :  23.66678845451224\n"
     ]
    }
   ],
   "source": [
    "print('최대 길이 : ', max(len(l) for l in X_data))\n",
    "print('평균 길이 : ', sum(map(len, X_data)) / len(X_data))"
   ]
  },
  {
   "cell_type": "code",
   "execution_count": 15,
   "id": "f2851265-df61-4074-93a9-824a399120be",
   "metadata": {},
   "outputs": [
    {
     "data": {
      "image/png": "[encoded data removed]",
      "text/plain": [
       "<Figure size 640x480 with 1 Axes>"
      ]
     },
     "metadata": {},
     "output_type": "display_data"
    }
   ],
   "source": [
    "import pandas as pd\n",
    "import numpy as np\n",
    "\n",
    "import matplotlib.pyplot as plt\n",
    "\n",
    "plt.hist([len(s) for s in X_data])\n",
    "plt.xlabel('length')\n",
    "plt.ylabel('number')\n",
    "plt.show()"
   ]
  },
  {
   "cell_type": "code",
   "execution_count": 18,
   "id": "db3f42e4-00e7-4dcc-865f-a66df71760b8",
   "metadata": {},
   "outputs": [],
   "source": [
    "from tensorflow.keras.preprocessing.text import Tokenizer\n",
    "from tensorflow.keras.preprocessing.sequence import pad_sequences\n",
    "from tensorflow.keras.utils import to_categorical\n",
    "\n",
    "tokenizer = Tokenizer()\n",
    "tokenizer.fit_on_texts(X_data)\n",
    "X_vectorized = tokenizer.texts_to_sequences(X_data)"
   ]
  },
  {
   "cell_type": "code",
   "execution_count": 19,
   "id": "cf083dd1-a539-4d33-862b-7fd734f91969",
   "metadata": {},
   "outputs": [],
   "source": [
    "tag_tokenizer = Tokenizer()\n",
    "tag_tokenizer.fit_on_texts(y_data)\n",
    "y_encoded = tag_tokenizer.texts_to_sequences(y_data)"
   ]
  },
  {
   "cell_type": "code",
   "execution_count": 20,
   "id": "662ba31f-a150-414e-9410-b5882129e504",
   "metadata": {},
   "outputs": [
    {
     "name": "stdout",
     "output_type": "stream",
     "text": [
      "Original Data\n",
      "X :  ['Confidence', 'in', 'the', 'pound', 'is', 'widely', 'expected', 'to', 'take', 'another', 'sharp', 'dive', 'if', 'trade', 'figures', 'for', 'September', ',', 'due', 'for', 'release', 'tomorrow', ',', 'fail', 'to', 'show', 'a', 'substantial', 'improvement', 'from', 'July', 'and', 'August', \"'s\", 'near-record', 'deficits', '.']\n",
      "Y :  ['NOUN', 'ADP', 'DET', 'NOUN', 'VERB', 'ADV', 'VERB', 'PRT', 'VERB', 'DET', 'ADJ', 'NOUN', 'ADP', 'NOUN', 'NOUN', 'ADP', 'NOUN', '.', 'ADJ', 'ADP', 'NOUN', 'NOUN', '.', 'VERB', 'PRT', 'VERB', 'DET', 'ADJ', 'NOUN', 'ADP', 'NOUN', 'CONJ', 'NOUN', 'PRT', 'ADJ', 'NOUN', '.']\n",
      "\n",
      "Encoded Data\n",
      "X :  [1571, 7, 2, 1847, 15, 1088, 190, 5, 202, 242, 1089, 5757, 73, 378, 604, 9, 469, 1, 249, 9, 1645, 2736, 1, 4780, 5, 569, 6, 1258, 1366, 22, 727, 8, 503, 10, 7251, 7252, 3]\n",
      "Y :  [1, 4, 5, 1, 2, 8, 2, 9, 2, 5, 6, 1, 4, 1, 1, 4, 1, 3, 6, 4, 1, 1, 3, 2, 9, 2, 5, 6, 1, 4, 1, 11, 1, 9, 6, 1, 3]\n"
     ]
    }
   ],
   "source": [
    "print('Original Data')\n",
    "print('X : ', X_data[0])\n",
    "print('Y : ', y_data[0])\n",
    "\n",
    "print('\\nEncoded Data')\n",
    "print('X : ', X_vectorized[0])\n",
    "print('Y : ', y_encoded[0])"
   ]
  },
  {
   "cell_type": "code",
   "execution_count": 21,
   "id": "4189ec9d-05ad-444d-9169-9aa09f041111",
   "metadata": {},
   "outputs": [
    {
     "name": "stdout",
     "output_type": "stream",
     "text": [
      "19461 13\n"
     ]
    }
   ],
   "source": [
    "vocab_size = len(tokenizer.word_index)+1\n",
    "tag_size = len(tag_tokenizer.word_index)+1\n",
    "\n",
    "print(vocab_size, tag_size)"
   ]
  },
  {
   "cell_type": "code",
   "execution_count": 30,
   "id": "69ac1a8b-fb9a-4416-aae1-9111b1f6bdf7",
   "metadata": {},
   "outputs": [],
   "source": [
    "# max_len 설정\n",
    "max_len = 80\n",
    "\n",
    "# X_data와 y_data 패딩 적용\n",
    "X_data = pad_sequences(X_vectorized, padding='post', maxlen=max_len)\n",
    "y_data = pad_sequences(y_encoded, padding='post', maxlen=max_len)"
   ]
  },
  {
   "cell_type": "code",
   "execution_count": 31,
   "id": "d8620136-8eea-4935-9154-3e3cf2fca69f",
   "metadata": {},
   "outputs": [],
   "source": [
    "from tensorflow.keras.utils import to_categorical\n",
    "\n",
    "# y_data를 정수형으로 변환 후, 3차원 배열로 변환\n",
    "y_data = np.array(y_data, dtype='int')"
   ]
  },
  {
   "cell_type": "code",
   "execution_count": 32,
   "id": "40b97f8b-7129-4213-821f-3a13e2034e3b",
   "metadata": {},
   "outputs": [
    {
     "name": "stdout",
     "output_type": "stream",
     "text": [
      "(10948, 80, 13)\n"
     ]
    }
   ],
   "source": [
    "# y_data를 one-hot encoding으로 변환\n",
    "num_classes = np.max(y_data) + 1\n",
    "y_data = to_categorical(y_data, num_classes=num_classes)\n",
    "\n",
    "print(y_data.shape)  # 확인용 출력"
   ]
  },
  {
   "cell_type": "code",
   "execution_count": 33,
   "id": "6058451b-d4ea-4ac3-8971-7af9ab7b3aae",
   "metadata": {},
   "outputs": [],
   "source": [
    "from sklearn.model_selection import train_test_split\n",
    "\n",
    "X_train, X_test, y_train, y_test = train_test_split(X_data, y_data, test_size=0.2, random_state=42)"
   ]
  },
  {
   "cell_type": "code",
   "execution_count": 34,
   "id": "39168104-5e5e-42d0-b8f7-2263ba9491a0",
   "metadata": {},
   "outputs": [
    {
     "name": "stdout",
     "output_type": "stream",
     "text": [
      "(8758, 80) (8758, 80, 13)\n",
      "(2190, 80) (2190, 80, 13)\n"
     ]
    }
   ],
   "source": [
    "print(X_train.shape, y_train.shape)\n",
    "print(X_test.shape, y_test.shape)"
   ]
  },
  {
   "cell_type": "code",
   "execution_count": 40,
   "id": "382ad4c9-8ff0-48ba-8ab9-6d9e6c740a75",
   "metadata": {},
   "outputs": [],
   "source": [
    "from tensorflow.keras.models import Sequential\n",
    "from tensorflow.keras.layers import Dense, LSTM, Input, Embedding, TimeDistributed, Bidirectional, GRU, SimpleRNN\n",
    "from tensorflow.keras.callbacks import EarlyStopping, ModelCheckpoint\n",
    "from tensorflow.keras.optimizers import Adam"
   ]
  },
  {
   "cell_type": "code",
   "execution_count": 41,
   "id": "00500174-b3ab-4b99-937f-b9e256bc9f8a",
   "metadata": {},
   "outputs": [
    {
     "name": "stderr",
     "output_type": "stream",
     "text": [
      "WARNING:absl:At this time, the v2.11+ optimizer `tf.keras.optimizers.Adam` runs slowly on M1/M2 Macs, please use the legacy Keras optimizer instead, located at `tf.keras.optimizers.legacy.Adam`.\n",
      "WARNING:absl:There is a known slowdown when using v2.11+ Keras optimizers on M1/M2 Macs. Falling back to the legacy Keras optimizer, i.e., `tf.keras.optimizers.legacy.Adam`.\n"
     ]
    },
    {
     "name": "stdout",
     "output_type": "stream",
     "text": [
      "Model: \"sequential_3\"\n",
      "_________________________________________________________________\n",
      " Layer (type)                Output Shape              Param #   \n",
      "=================================================================\n",
      " embedding_3 (Embedding)     (None, None, 64)          1245504   \n",
      "                                                                 \n",
      " bidirectional_1 (Bidirecti  (None, None, 128)         66048     \n",
      " onal)                                                           \n",
      "                                                                 \n",
      " time_distributed_1 (TimeDi  (None, None, 13)          1677      \n",
      " stributed)                                                      \n",
      "                                                                 \n",
      "=================================================================\n",
      "Total params: 1313229 (5.01 MB)\n",
      "Trainable params: 1313229 (5.01 MB)\n",
      "Non-trainable params: 0 (0.00 Byte)\n",
      "_________________________________________________________________\n"
     ]
    }
   ],
   "source": [
    "model = Sequential()\n",
    "model.add(Embedding(vocab_size, 64))\n",
    "model.add(Bidirectional(LSTM(64, return_sequences=True)))\n",
    "model.add(TimeDistributed(Dense(tag_size, activation='softmax')))\n",
    "\n",
    "model.compile(loss='categorical_crossentropy', optimizer=Adam(0.001), metrics=['acc'])\n",
    "model.summary()"
   ]
  },
  {
   "cell_type": "code",
   "execution_count": 44,
   "id": "f9261aea-6dc9-466b-8ce0-e35e6380520c",
   "metadata": {},
   "outputs": [],
   "source": [
    "es = EarlyStopping(monitor='val_loss', mode='min', verbose=1, patience=3)\n",
    "mc = ModelCheckpoint('best_model.h5', monitor='val_acc', mode='max', verbose=1, save_best_only=True)"
   ]
  },
  {
   "cell_type": "code",
   "execution_count": 45,
   "id": "594479f3-6b60-42d0-bfd4-4bd06b2eb1c9",
   "metadata": {},
   "outputs": [
    {
     "name": "stdout",
     "output_type": "stream",
     "text": [
      "Epoch 1/20\n",
      "137/137 [==============================] - ETA: 0s - loss: 0.4984 - acc: 0.8434\n",
      "Epoch 1: val_acc improved from -inf to 0.92001, saving model to best_model.h5\n",
      "137/137 [==============================] - 17s 124ms/step - loss: 0.4984 - acc: 0.8434 - val_loss: 0.2868 - val_acc: 0.9200\n",
      "Epoch 2/20\n",
      "  1/137 [..............................] - ETA: 14s - loss: 0.2628 - acc: 0.9271"
     ]
    },
    {
     "name": "stderr",
     "output_type": "stream",
     "text": [
      "/Users/jeon-yewon/miniforge3/envs/tensorflow/lib/python3.10/site-packages/keras/src/engine/training.py:3000: UserWarning: You are saving your model as an HDF5 file via `model.save()`. This file format is considered legacy. We recommend using instead the native Keras format, e.g. `model.save('my_model.keras')`.\n",
      "  saving_api.save_model(\n"
     ]
    },
    {
     "name": "stdout",
     "output_type": "stream",
     "text": [
      "137/137 [==============================] - ETA: 0s - loss: 0.1431 - acc: 0.9623\n",
      "Epoch 2: val_acc improved from 0.92001 to 0.98271, saving model to best_model.h5\n",
      "137/137 [==============================] - 20s 143ms/step - loss: 0.1431 - acc: 0.9623 - val_loss: 0.0755 - val_acc: 0.9827\n",
      "Epoch 3/20\n",
      "137/137 [==============================] - ETA: 0s - loss: 0.0443 - acc: 0.9906\n",
      "Epoch 3: val_acc improved from 0.98271 to 0.98789, saving model to best_model.h5\n",
      "137/137 [==============================] - 20s 145ms/step - loss: 0.0443 - acc: 0.9906 - val_loss: 0.0445 - val_acc: 0.9879\n",
      "Epoch 4/20\n",
      "137/137 [==============================] - ETA: 0s - loss: 0.0250 - acc: 0.9940\n",
      "Epoch 4: val_acc improved from 0.98789 to 0.98933, saving model to best_model.h5\n",
      "137/137 [==============================] - 20s 144ms/step - loss: 0.0250 - acc: 0.9940 - val_loss: 0.0364 - val_acc: 0.9893\n",
      "Epoch 5/20\n",
      "137/137 [==============================] - ETA: 0s - loss: 0.0177 - acc: 0.9954\n",
      "Epoch 5: val_acc improved from 0.98933 to 0.99013, saving model to best_model.h5\n",
      "137/137 [==============================] - 19s 141ms/step - loss: 0.0177 - acc: 0.9954 - val_loss: 0.0331 - val_acc: 0.9901\n",
      "Epoch 6/20\n",
      "137/137 [==============================] - ETA: 0s - loss: 0.0138 - acc: 0.9963\n",
      "Epoch 6: val_acc improved from 0.99013 to 0.99060, saving model to best_model.h5\n",
      "137/137 [==============================] - 20s 147ms/step - loss: 0.0138 - acc: 0.9963 - val_loss: 0.0312 - val_acc: 0.9906\n",
      "Epoch 7/20\n",
      "137/137 [==============================] - ETA: 0s - loss: 0.0111 - acc: 0.9970\n",
      "Epoch 7: val_acc improved from 0.99060 to 0.99062, saving model to best_model.h5\n",
      "137/137 [==============================] - 19s 141ms/step - loss: 0.0111 - acc: 0.9970 - val_loss: 0.0307 - val_acc: 0.9906\n",
      "Epoch 8/20\n",
      "137/137 [==============================] - ETA: 0s - loss: 0.0091 - acc: 0.9976\n",
      "Epoch 8: val_acc improved from 0.99062 to 0.99084, saving model to best_model.h5\n",
      "137/137 [==============================] - 20s 146ms/step - loss: 0.0091 - acc: 0.9976 - val_loss: 0.0304 - val_acc: 0.9908\n",
      "Epoch 9/20\n",
      "137/137 [==============================] - ETA: 0s - loss: 0.0075 - acc: 0.9980\n",
      "Epoch 9: val_acc did not improve from 0.99084\n",
      "137/137 [==============================] - 19s 142ms/step - loss: 0.0075 - acc: 0.9980 - val_loss: 0.0310 - val_acc: 0.9907\n",
      "Epoch 10/20\n",
      "137/137 [==============================] - ETA: 0s - loss: 0.0062 - acc: 0.9985\n",
      "Epoch 10: val_acc did not improve from 0.99084\n",
      "137/137 [==============================] - 20s 145ms/step - loss: 0.0062 - acc: 0.9985 - val_loss: 0.0314 - val_acc: 0.9908\n",
      "Epoch 11/20\n",
      "137/137 [==============================] - ETA: 0s - loss: 0.0050 - acc: 0.9988\n",
      "Epoch 11: val_acc improved from 0.99084 to 0.99116, saving model to best_model.h5\n",
      "137/137 [==============================] - 22s 161ms/step - loss: 0.0050 - acc: 0.9988 - val_loss: 0.0304 - val_acc: 0.9912\n",
      "Epoch 12/20\n",
      "137/137 [==============================] - ETA: 0s - loss: 0.0042 - acc: 0.9991\n",
      "Epoch 12: val_acc did not improve from 0.99116\n",
      "137/137 [==============================] - 19s 139ms/step - loss: 0.0042 - acc: 0.9991 - val_loss: 0.0321 - val_acc: 0.9909\n",
      "Epoch 13/20\n",
      "137/137 [==============================] - ETA: 0s - loss: 0.0034 - acc: 0.9993\n",
      "Epoch 13: val_acc did not improve from 0.99116\n",
      "137/137 [==============================] - 22s 159ms/step - loss: 0.0034 - acc: 0.9993 - val_loss: 0.0333 - val_acc: 0.9908\n",
      "Epoch 14/20\n",
      "137/137 [==============================] - ETA: 0s - loss: 0.0028 - acc: 0.9995\n",
      "Epoch 14: val_acc did not improve from 0.99116\n",
      "137/137 [==============================] - 36s 265ms/step - loss: 0.0028 - acc: 0.9995 - val_loss: 0.0349 - val_acc: 0.9907\n",
      "Epoch 14: early stopping\n"
     ]
    }
   ],
   "source": [
    "history = model.fit(X_train, y_train, batch_size=64, epochs=20, validation_data=(X_test, y_test), callbacks=[es, mc])\n",
    "\n"
   ]
  },
  {
   "cell_type": "code",
   "execution_count": 46,
   "id": "c2c010a4-a4d3-4950-af2f-5dbdb0fbcbce",
   "metadata": {},
   "outputs": [
    {
     "name": "stdout",
     "output_type": "stream",
     "text": [
      "69/69 [==============================] - 3s 43ms/step - loss: 0.0349 - acc: 0.9907\n",
      "test acc :  0.9907077550888062\n"
     ]
    }
   ],
   "source": [
    "print('test acc : ', model.evaluate(X_test, y_test)[1])"
   ]
  },
  {
   "cell_type": "code",
   "execution_count": 47,
   "id": "e341f853-d811-4cae-b26d-f8959b179741",
   "metadata": {},
   "outputs": [
    {
     "data": {
      "image/png": "[encoded data removed]",
      "text/plain": [
       "<Figure size 640x480 with 1 Axes>"
      ]
     },
     "metadata": {},
     "output_type": "display_data"
    }
   ],
   "source": [
    "plt.plot(history.history['acc'])\n",
    "plt.plot(history.history['val_acc'])\n",
    "plt.title('model accuracy')\n",
    "plt.ylabel('accuracy')\n",
    "plt.xlabel('epoch')\n",
    "plt.legend(['train', 'test'])\n",
    "plt.show()"
   ]
  },
  {
   "cell_type": "code",
   "execution_count": null,
   "id": "a20b970f-6fc9-478f-a4d4-4ee32ca60148",
   "metadata": {},
   "outputs": [],
   "source": []
  }
 ],
 "metadata": {
  "kernelspec": {
   "display_name": "Python (tensorflow)",
   "language": "python",
   "name": "tensorflow"
  },
  "language_info": {
   "codemirror_mode": {
    "name": "ipython",
    "version": 3
   },
   "file_extension": ".py",
   "mimetype": "text/x-python",
   "name": "python",
   "nbconvert_exporter": "python",
   "pygments_lexer": "ipython3",
   "version": "3.9.18"
  }
 },
 "nbformat": 4,
 "nbformat_minor": 5
}
