{
 "cells": [
  {
   "cell_type": "markdown",
   "id": "aac8de05-9ccd-4484-a4ba-6b323d83c44d",
   "metadata": {},
   "source": [
    "# Subword Tokenizer\n",
    "## : OOV(알 수 없는 문자) 문제를 해결\n",
    "- 단어를 더 작은 단위인 subword로 분할하는 방법\n",
    "- 단어 토큰 - 서브워드 토큰 - 문자 토큰\n",
    "    - ex) birthplace = birth + place\n",
    " \n",
    "1. BPE(Byte Pair Encoding) : 자주 나오는 문자 쌍을 병합하여 서브워드를 형성\n",
    "\n",
    "    - 모든 문자를 개별적인 토큰으로 처리했을 때 가장 빈번히 나오는 문자 쌍을 병합\n",
    "\n",
    "2. WordPiece : BERT 모델에서 사용되는 방법, 빈번한 서브워드를 찾는다.\n",
    "\n",
    "3. SentencePiece : 문장 수준에서 토큰화한다.(단어의 경계를 무시)\n",
    "\n",
    "    - 장점 : 메모리 감소, 희귀 단어(신조어 등), 다국어 지원\n",
    "\n",
    "\n",
    "## 만약 aaabdaaabac라는 단어가 존재한다고 가정할 때 가장 많이 등장하는 알파벳을 탐색하고자 한다.\n",
    "    1) aaabdaaabac (Z = aa)(치환)\n",
    "    2) ZabdZabac (Y = ab)\n",
    "    3) ZydZYac (X = ZY)\n",
    "    4) XdXac"
   ]
  },
  {
   "cell_type": "code",
   "execution_count": 31,
   "id": "46735e73-9404-4119-bfb5-25dfb746c4fb",
   "metadata": {},
   "outputs": [],
   "source": [
    "import re, collections\n",
    "from IPython.display import display, Markdown, Latex"
   ]
  },
  {
   "cell_type": "code",
   "execution_count": 32,
   "id": "5747c8f3-25c0-4c42-b120-ac9023a1b840",
   "metadata": {},
   "outputs": [],
   "source": [
    "num_merges = 10"
   ]
  },
  {
   "cell_type": "code",
   "execution_count": 33,
   "id": "f79346c1-ba4e-4dff-80ee-9828c4a59173",
   "metadata": {},
   "outputs": [],
   "source": [
    "dictionary = {'1 o w </w>' : 5,\n",
    "              'l o w e r </w>' : 2,\n",
    "              'n e w e s t </w>' : 6,\n",
    "              'w i d e s t </w>' : 3\n",
    "             }"
   ]
  },
  {
   "cell_type": "code",
   "execution_count": 34,
   "id": "3663dc63-272f-4c43-b7b4-db9746416cf3",
   "metadata": {},
   "outputs": [],
   "source": [
    "def get_stats(dictionary):\n",
    "    # 인접한 문자 쌍의 빈도수를 카운트\n",
    "    pairs = collections.defaultdict(int)\n",
    "    for word, freq in dictionary.items(): # 기본값이 0인 딕셔너리를 만든다.(키가 없을 경우 자동으로 0 반환)\n",
    "        symbols = word.split()\n",
    "        for i in range(len(symbols)-1):\n",
    "            pairs[symbols[i], symbols[i+1]] += freq\n",
    "\n",
    "    print('pairs 빈도수 : ', dict(pairs))\n",
    "    return pairs"
   ]
  },
  {
   "cell_type": "code",
   "execution_count": 35,
   "id": "375b122b-c32b-4729-9c6f-e315211a733f",
   "metadata": {},
   "outputs": [],
   "source": [
    "def merge_dictionary(pair, v_in):\n",
    "    # 인접한 문자 쌍(유니그램)을 병합해서 사전을 업데이트\n",
    "    v_out = {}\n",
    "    bigram = re.escape(' '.join(pair)) # 병합할 쌍을 공백으로 연결, escape : 특수문자 처리\n",
    "\n",
    "    # \\S -> 문자(다른 알파벳 사용 가능)\n",
    "    # ! : 부정\n",
    "    # (?<\\S) : 문자 앞에 S(문자)가 등장하는지?\n",
    "    # (?<!\\S) 처리 : 공백이 아닌 문자 앞에 일치하지 않는다. (negative Lookbehind)\n",
    "    # (?!\\S) 처리 : 공백이 아닌 문자 뒤에 일치하지 않는다. (negative Lookahead)\n",
    "    p = re.compile(r'(?<!\\S)' + bigram + r'(?!\\S)')\n",
    "    for word in v_in:\n",
    "        w_out = p.sub(''.join(pair), word) # 단어 병합\n",
    "        v_out[w_out] = v_in[word] # 사전 추가\n",
    "\n",
    "    return v_out"
   ]
  },
  {
   "cell_type": "raw",
   "id": "f0b91247-fda2-447c-9b9b-0b4e637f2ad2",
   "metadata": {},
   "source": [
    "bpe_codes = {}\n",
    "bpe_codes_reverse = {}\n",
    "\n",
    "for i in range(num_merges):\n",
    "    display(Markdown('### Iteration {}'.format(i+1)))\n",
    "    pairs = get_stats(dictionary) # 현재 사전의 쌍의 빈도 계산\n",
    "    best = max(pairs, key=pairs.get) # 가장 빈도가 높은 쌍\n",
    "    dictionary = merge_dictionary(best, dictionary) # best 부분을 병합해서 사전을 업데이트\n",
    "\n",
    "    bpe_codes[best] = i\n",
    "    bpe_codes_reverse[best[0] + best[1]] = best\n",
    "\n",
    "    print('new merge : {}'.format(best))\n",
    "    print('dictionary : {}'.format(dictionary))"
   ]
  },
  {
   "cell_type": "code",
   "execution_count": 36,
   "id": "c15287f0-5bb1-4ce5-8bff-66f9aa2690f2",
   "metadata": {},
   "outputs": [
    {
     "data": {
      "text/markdown": [
       "### Iteration 1"
      ],
      "text/plain": [
       "<IPython.core.display.Markdown object>"
      ]
     },
     "metadata": {},
     "output_type": "display_data"
    },
    {
     "name": "stdout",
     "output_type": "stream",
     "text": [
      "pairs 빈도수 :  {('1', 'o'): 5, ('o', 'w'): 7, ('w', '</w>'): 5, ('l', 'o'): 2, ('w', 'e'): 8, ('e', 'r'): 2, ('r', '</w>'): 2, ('n', 'e'): 6, ('e', 'w'): 6, ('e', 's'): 9, ('s', 't'): 9, ('t', '</w>'): 9, ('w', 'i'): 3, ('i', 'd'): 3, ('d', 'e'): 3}\n",
      "New merge : ('e', 's')\n",
      "Dictionary : {'1 o w </w>': 5, 'l o w e r </w>': 2, 'n e w es t </w>': 6, 'w i d es t </w>': 3}\n"
     ]
    },
    {
     "data": {
      "text/markdown": [
       "### Iteration 2"
      ],
      "text/plain": [
       "<IPython.core.display.Markdown object>"
      ]
     },
     "metadata": {},
     "output_type": "display_data"
    },
    {
     "name": "stdout",
     "output_type": "stream",
     "text": [
      "pairs 빈도수 :  {('1', 'o'): 5, ('o', 'w'): 7, ('w', '</w>'): 5, ('l', 'o'): 2, ('w', 'e'): 2, ('e', 'r'): 2, ('r', '</w>'): 2, ('n', 'e'): 6, ('e', 'w'): 6, ('w', 'es'): 6, ('es', 't'): 9, ('t', '</w>'): 9, ('w', 'i'): 3, ('i', 'd'): 3, ('d', 'es'): 3}\n",
      "New merge : ('es', 't')\n",
      "Dictionary : {'1 o w </w>': 5, 'l o w e r </w>': 2, 'n e w est </w>': 6, 'w i d est </w>': 3}\n"
     ]
    },
    {
     "data": {
      "text/markdown": [
       "### Iteration 3"
      ],
      "text/plain": [
       "<IPython.core.display.Markdown object>"
      ]
     },
     "metadata": {},
     "output_type": "display_data"
    },
    {
     "name": "stdout",
     "output_type": "stream",
     "text": [
      "pairs 빈도수 :  {('1', 'o'): 5, ('o', 'w'): 7, ('w', '</w>'): 5, ('l', 'o'): 2, ('w', 'e'): 2, ('e', 'r'): 2, ('r', '</w>'): 2, ('n', 'e'): 6, ('e', 'w'): 6, ('w', 'est'): 6, ('est', '</w>'): 9, ('w', 'i'): 3, ('i', 'd'): 3, ('d', 'est'): 3}\n",
      "New merge : ('est', '</w>')\n",
      "Dictionary : {'1 o w </w>': 5, 'l o w e r </w>': 2, 'n e w est</w>': 6, 'w i d est</w>': 3}\n"
     ]
    },
    {
     "data": {
      "text/markdown": [
       "### Iteration 4"
      ],
      "text/plain": [
       "<IPython.core.display.Markdown object>"
      ]
     },
     "metadata": {},
     "output_type": "display_data"
    },
    {
     "name": "stdout",
     "output_type": "stream",
     "text": [
      "pairs 빈도수 :  {('1', 'o'): 5, ('o', 'w'): 7, ('w', '</w>'): 5, ('l', 'o'): 2, ('w', 'e'): 2, ('e', 'r'): 2, ('r', '</w>'): 2, ('n', 'e'): 6, ('e', 'w'): 6, ('w', 'est</w>'): 6, ('w', 'i'): 3, ('i', 'd'): 3, ('d', 'est</w>'): 3}\n",
      "New merge : ('o', 'w')\n",
      "Dictionary : {'1 ow </w>': 5, 'l ow e r </w>': 2, 'n e w est</w>': 6, 'w i d est</w>': 3}\n"
     ]
    },
    {
     "data": {
      "text/markdown": [
       "### Iteration 5"
      ],
      "text/plain": [
       "<IPython.core.display.Markdown object>"
      ]
     },
     "metadata": {},
     "output_type": "display_data"
    },
    {
     "name": "stdout",
     "output_type": "stream",
     "text": [
      "pairs 빈도수 :  {('1', 'ow'): 5, ('ow', '</w>'): 5, ('l', 'ow'): 2, ('ow', 'e'): 2, ('e', 'r'): 2, ('r', '</w>'): 2, ('n', 'e'): 6, ('e', 'w'): 6, ('w', 'est</w>'): 6, ('w', 'i'): 3, ('i', 'd'): 3, ('d', 'est</w>'): 3}\n",
      "New merge : ('n', 'e')\n",
      "Dictionary : {'1 ow </w>': 5, 'l ow e r </w>': 2, 'ne w est</w>': 6, 'w i d est</w>': 3}\n"
     ]
    },
    {
     "data": {
      "text/markdown": [
       "### Iteration 6"
      ],
      "text/plain": [
       "<IPython.core.display.Markdown object>"
      ]
     },
     "metadata": {},
     "output_type": "display_data"
    },
    {
     "name": "stdout",
     "output_type": "stream",
     "text": [
      "pairs 빈도수 :  {('1', 'ow'): 5, ('ow', '</w>'): 5, ('l', 'ow'): 2, ('ow', 'e'): 2, ('e', 'r'): 2, ('r', '</w>'): 2, ('ne', 'w'): 6, ('w', 'est</w>'): 6, ('w', 'i'): 3, ('i', 'd'): 3, ('d', 'est</w>'): 3}\n",
      "New merge : ('ne', 'w')\n",
      "Dictionary : {'1 ow </w>': 5, 'l ow e r </w>': 2, 'new est</w>': 6, 'w i d est</w>': 3}\n"
     ]
    },
    {
     "data": {
      "text/markdown": [
       "### Iteration 7"
      ],
      "text/plain": [
       "<IPython.core.display.Markdown object>"
      ]
     },
     "metadata": {},
     "output_type": "display_data"
    },
    {
     "name": "stdout",
     "output_type": "stream",
     "text": [
      "pairs 빈도수 :  {('1', 'ow'): 5, ('ow', '</w>'): 5, ('l', 'ow'): 2, ('ow', 'e'): 2, ('e', 'r'): 2, ('r', '</w>'): 2, ('new', 'est</w>'): 6, ('w', 'i'): 3, ('i', 'd'): 3, ('d', 'est</w>'): 3}\n",
      "New merge : ('new', 'est</w>')\n",
      "Dictionary : {'1 ow </w>': 5, 'l ow e r </w>': 2, 'newest</w>': 6, 'w i d est</w>': 3}\n"
     ]
    },
    {
     "data": {
      "text/markdown": [
       "### Iteration 8"
      ],
      "text/plain": [
       "<IPython.core.display.Markdown object>"
      ]
     },
     "metadata": {},
     "output_type": "display_data"
    },
    {
     "name": "stdout",
     "output_type": "stream",
     "text": [
      "pairs 빈도수 :  {('1', 'ow'): 5, ('ow', '</w>'): 5, ('l', 'ow'): 2, ('ow', 'e'): 2, ('e', 'r'): 2, ('r', '</w>'): 2, ('w', 'i'): 3, ('i', 'd'): 3, ('d', 'est</w>'): 3}\n",
      "New merge : ('1', 'ow')\n",
      "Dictionary : {'1ow </w>': 5, 'l ow e r </w>': 2, 'newest</w>': 6, 'w i d est</w>': 3}\n"
     ]
    },
    {
     "data": {
      "text/markdown": [
       "### Iteration 9"
      ],
      "text/plain": [
       "<IPython.core.display.Markdown object>"
      ]
     },
     "metadata": {},
     "output_type": "display_data"
    },
    {
     "name": "stdout",
     "output_type": "stream",
     "text": [
      "pairs 빈도수 :  {('1ow', '</w>'): 5, ('l', 'ow'): 2, ('ow', 'e'): 2, ('e', 'r'): 2, ('r', '</w>'): 2, ('w', 'i'): 3, ('i', 'd'): 3, ('d', 'est</w>'): 3}\n",
      "New merge : ('1ow', '</w>')\n",
      "Dictionary : {'1ow</w>': 5, 'l ow e r </w>': 2, 'newest</w>': 6, 'w i d est</w>': 3}\n"
     ]
    },
    {
     "data": {
      "text/markdown": [
       "### Iteration 10"
      ],
      "text/plain": [
       "<IPython.core.display.Markdown object>"
      ]
     },
     "metadata": {},
     "output_type": "display_data"
    },
    {
     "name": "stdout",
     "output_type": "stream",
     "text": [
      "pairs 빈도수 :  {('l', 'ow'): 2, ('ow', 'e'): 2, ('e', 'r'): 2, ('r', '</w>'): 2, ('w', 'i'): 3, ('i', 'd'): 3, ('d', 'est</w>'): 3}\n",
      "New merge : ('w', 'i')\n",
      "Dictionary : {'1ow</w>': 5, 'l ow e r </w>': 2, 'newest</w>': 6, 'wi d est</w>': 3}\n"
     ]
    }
   ],
   "source": [
    "for i in range(num_merges):\n",
    "    display(Markdown('### Iteration {}'.format(i+1)))\n",
    "    pairs = get_stats(dictionary) \n",
    "    best = max(pairs, key=pairs.get)\n",
    "    dictionary = merge_dictionary(best, dictionary)\n",
    "\n",
    "    bpe_codes[best] = i\n",
    "    bpe_codes_reverse[best[0] + best[1]] = best\n",
    "\n",
    "    print('New merge : {}'.format(best))\n",
    "    print('Dictionary : {}'.format(dictionary))"
   ]
  },
  {
   "cell_type": "code",
   "execution_count": 37,
   "id": "c9da4d25-e155-4c86-a538-1476189c97dd",
   "metadata": {},
   "outputs": [
    {
     "name": "stdout",
     "output_type": "stream",
     "text": [
      "{('wi', 'd'): 0, ('wid', 'est</w>'): 1, ('l', 'ow'): 2, ('low', 'e'): 3, ('lowe', 'r'): 4, ('lower', '</w>'): 5, ('e', 's'): 0, ('es', 't'): 1, ('est', '</w>'): 2, ('o', 'w'): 3, ('n', 'e'): 4, ('ne', 'w'): 5, ('new', 'est</w>'): 6, ('1', 'ow'): 7, ('1ow', '</w>'): 8, ('w', 'i'): 9}\n"
     ]
    }
   ],
   "source": [
    "print(bpe_codes)"
   ]
  },
  {
   "cell_type": "code",
   "execution_count": 46,
   "id": "ec82b433-5c4b-4b6e-a753-6d35f742bfc4",
   "metadata": {},
   "outputs": [],
   "source": [
    "# 새로운 단어가 등장할 때 대체할 방안\n",
    "def get_pairs(word):\n",
    "    paris = set()\n",
    "    prev_char = word[0]\n",
    "    for char in word[1:]:\n",
    "        paris.add((prev_char, char))\n",
    "        prev_char = char # 모든 순서쌍(문자쌍) set으로 반환\n",
    "    return paris"
   ]
  },
  {
   "cell_type": "code",
   "execution_count": 52,
   "id": "b1432aa5-af1f-409b-b52a-b797df01027d",
   "metadata": {},
   "outputs": [],
   "source": [
    "def encode(orig):\n",
    "    # 단어를 튜플로 변환하고 마지막에 </w> 추가(기존 작성했던 단어와 같이)\n",
    "    word = tuple(orig) + ('</w>',) # 단어 tuple로(origin 전달)\n",
    "    display(Markdown('__word split into characters: __ <tt>{}</tt>'.format(word)))\n",
    "\n",
    "    pairs = get_pairs(word) # 처리한 모든 순서쌍 불러오기\n",
    "\n",
    "    if not pairs: # 만약 get_pairs가 아무것도 반환이 되지 않았다면, 원래 단어를 반환한다.(순서쌍이 존재하지 않는다면)\n",
    "        return orig # 원래 단어 반환\n",
    "\n",
    "    iteration = 0 # 기본값 설정\n",
    "\n",
    "    while True: # 무한반복\n",
    "        iteration += 1 # 반복횟수 증가\n",
    "        display(Markdown('__Iteration {}:__'.format(iteration)))\n",
    "\n",
    "        print('Bigrams in the word: {}'.format(pairs)) # 현재 순서쌍이 어떤지 출력\n",
    "        bigram = min(pairs, key=lambda pair: bpe_codes.get(pair, float('inf'))) # 빈도수가 가장 높은 순서쌍을 출력\n",
    "        print('Candidate for merging: {}'.format(bigram))\n",
    "\n",
    "        if bigram not in bpe_codes: # 더 이상 병합할 쌍이 없으면 '중지'\n",
    "            display(Markdown('__Candidate not in BPE merges, algorithm stops.__'))\n",
    "            break\n",
    "            \n",
    "        first, second = bigram # 밑 결과를 예시로 e와 s가 각각 first, second에 들어가 있다고 생각하면 된다.\n",
    "        new_word = []\n",
    "        i = 0\n",
    "\n",
    "        while i < len(word): # 반복문\n",
    "            try: # 예외처리\n",
    "                j = word.index(first, i) # 첫 번째 문자의 인덱스를 찾는다.\n",
    "                new_word.extend(word[i:j]) # i 이전까지 진행 후 j를 넣어준다.\n",
    "                i = j\n",
    "            except:\n",
    "                new_word.extend(word[i:]) # 병합 후 new_word에 넣어주겠다.(es, t -> est)\n",
    "                break # i부터 끝까지 진행 후 break를 통해 끝낸다.\n",
    "\n",
    "            # 현재 문자와 다음 문자가 연결되어 있는지 확인\n",
    "            if word[i] == first and i < len(word)-1 and word[i+1] == second: # 위 단어와 연관이 있는 경우\n",
    "                new_word.append(first+second)\n",
    "                i += 2 # 2씩 추가\n",
    "            else: # 위와 연관이 없는 경우 \n",
    "                new_word.append(word[i])\n",
    "                i += 1 # 1씩 추가\n",
    "\n",
    "        new_word = tuple(new_word) # 해당 단어를 튜플로 변환\n",
    "        word = new_word # word로 바꿔준 뒤\n",
    "        print('word after merging : {}'.format(word)) # word를 출력\n",
    "        if len(word) == 1: # 만약 word의 길이가 1이라면,(더이상 진행할 것이 없기 때문에)\n",
    "            break\n",
    "        else:\n",
    "            pairs = get_pairs(word)\n",
    "\n",
    "    if word[-1] == '</w>': # 마지막 글자가 /w이라면,\n",
    "        word = word[:-1] # 마지막 요소를 제거하고 출력\n",
    "    elif word[-1].endswith('</w>'): # 마지막 글자가 /w가 아니라면,\n",
    "        word = word[:-1] + (word[-1].replace('</w>', ''),) # 그대로 출력\n",
    "\n",
    "    return word # 최종 word값 반환\n"
   ]
  },
  {
   "cell_type": "code",
   "execution_count": 53,
   "id": "2881d8d2-6911-41c5-8f0e-11d3b00d5d52",
   "metadata": {},
   "outputs": [],
   "source": [
    "# 겹치는 부분이 있을 경우 붙어서 결과가 출력된다."
   ]
  },
  {
   "cell_type": "code",
   "execution_count": 48,
   "id": "af3b11ed-63fa-444b-9168-1b8130e85d1a",
   "metadata": {},
   "outputs": [
    {
     "data": {
      "text/markdown": [
       "__word split into characters: __ <tt>('b', 'e', 's', 't', '</w>')</tt>"
      ],
      "text/plain": [
       "<IPython.core.display.Markdown object>"
      ]
     },
     "metadata": {},
     "output_type": "display_data"
    },
    {
     "data": {
      "text/markdown": [
       "__Iteration 1:__"
      ],
      "text/plain": [
       "<IPython.core.display.Markdown object>"
      ]
     },
     "metadata": {},
     "output_type": "display_data"
    },
    {
     "name": "stdout",
     "output_type": "stream",
     "text": [
      "Bigrams in the word: {('b', 'e'), ('e', 's'), ('s', 't'), ('t', '</w>')}\n",
      "Candidate for merging: ('e', 's')\n",
      "word after merging : ('b', 'es', 't', '</w>')\n"
     ]
    },
    {
     "data": {
      "text/markdown": [
       "__Iteration 2:__"
      ],
      "text/plain": [
       "<IPython.core.display.Markdown object>"
      ]
     },
     "metadata": {},
     "output_type": "display_data"
    },
    {
     "name": "stdout",
     "output_type": "stream",
     "text": [
      "Bigrams in the word: {('b', 'es'), ('es', 't'), ('t', '</w>')}\n",
      "Candidate for merging: ('es', 't')\n",
      "word after merging : ('b', 'est', '</w>')\n"
     ]
    },
    {
     "data": {
      "text/markdown": [
       "__Iteration 3:__"
      ],
      "text/plain": [
       "<IPython.core.display.Markdown object>"
      ]
     },
     "metadata": {},
     "output_type": "display_data"
    },
    {
     "name": "stdout",
     "output_type": "stream",
     "text": [
      "Bigrams in the word: {('est', '</w>'), ('b', 'est')}\n",
      "Candidate for merging: ('est', '</w>')\n",
      "word after merging : ('b', 'est</w>')\n"
     ]
    },
    {
     "data": {
      "text/markdown": [
       "__Iteration 4:__"
      ],
      "text/plain": [
       "<IPython.core.display.Markdown object>"
      ]
     },
     "metadata": {},
     "output_type": "display_data"
    },
    {
     "name": "stdout",
     "output_type": "stream",
     "text": [
      "Bigrams in the word: {('b', 'est</w>')}\n",
      "Candidate for merging: ('b', 'est</w>')\n"
     ]
    },
    {
     "data": {
      "text/markdown": [
       "__Candidate not in BPE merges, algorithm stops.__"
      ],
      "text/plain": [
       "<IPython.core.display.Markdown object>"
      ]
     },
     "metadata": {},
     "output_type": "display_data"
    },
    {
     "data": {
      "text/plain": [
       "('b', 'est')"
      ]
     },
     "execution_count": 48,
     "metadata": {},
     "output_type": "execute_result"
    }
   ],
   "source": [
    "encode('best')"
   ]
  },
  {
   "cell_type": "code",
   "execution_count": 49,
   "id": "9547aa8c-e4a6-428b-a1ee-9863a86c0d1c",
   "metadata": {},
   "outputs": [
    {
     "data": {
      "text/markdown": [
       "__word split into characters: __ <tt>('l', 'o', 'w', 'i', 'n', 'g', '</w>')</tt>"
      ],
      "text/plain": [
       "<IPython.core.display.Markdown object>"
      ]
     },
     "metadata": {},
     "output_type": "display_data"
    },
    {
     "data": {
      "text/markdown": [
       "__Iteration 1:__"
      ],
      "text/plain": [
       "<IPython.core.display.Markdown object>"
      ]
     },
     "metadata": {},
     "output_type": "display_data"
    },
    {
     "name": "stdout",
     "output_type": "stream",
     "text": [
      "Bigrams in the word: {('o', 'w'), ('i', 'n'), ('g', '</w>'), ('w', 'i'), ('n', 'g'), ('l', 'o')}\n",
      "Candidate for merging: ('o', 'w')\n",
      "word after merging : ('l', 'ow', 'i', 'n', 'g', '</w>')\n"
     ]
    },
    {
     "data": {
      "text/markdown": [
       "__Iteration 2:__"
      ],
      "text/plain": [
       "<IPython.core.display.Markdown object>"
      ]
     },
     "metadata": {},
     "output_type": "display_data"
    },
    {
     "name": "stdout",
     "output_type": "stream",
     "text": [
      "Bigrams in the word: {('i', 'n'), ('g', '</w>'), ('n', 'g'), ('l', 'ow'), ('ow', 'i')}\n",
      "Candidate for merging: ('l', 'ow')\n",
      "word after merging : ('low', 'i', 'n', 'g', '</w>')\n"
     ]
    },
    {
     "data": {
      "text/markdown": [
       "__Iteration 3:__"
      ],
      "text/plain": [
       "<IPython.core.display.Markdown object>"
      ]
     },
     "metadata": {},
     "output_type": "display_data"
    },
    {
     "name": "stdout",
     "output_type": "stream",
     "text": [
      "Bigrams in the word: {('n', 'g'), ('g', '</w>'), ('i', 'n'), ('low', 'i')}\n",
      "Candidate for merging: ('n', 'g')\n"
     ]
    },
    {
     "data": {
      "text/markdown": [
       "__Candidate not in BPE merges, algorithm stops.__"
      ],
      "text/plain": [
       "<IPython.core.display.Markdown object>"
      ]
     },
     "metadata": {},
     "output_type": "display_data"
    },
    {
     "data": {
      "text/plain": [
       "('low', 'i', 'n', 'g')"
      ]
     },
     "execution_count": 49,
     "metadata": {},
     "output_type": "execute_result"
    }
   ],
   "source": [
    "encode('lowing')"
   ]
  },
  {
   "cell_type": "code",
   "execution_count": 51,
   "id": "f7121b86-ff72-41e3-8cde-be2804bcee9c",
   "metadata": {},
   "outputs": [
    {
     "data": {
      "text/markdown": [
       "__word split into characters: __ <tt>('h', 'i', 'g', 'h', 'i', 'n', 'h', '</w>')</tt>"
      ],
      "text/plain": [
       "<IPython.core.display.Markdown object>"
      ]
     },
     "metadata": {},
     "output_type": "display_data"
    },
    {
     "data": {
      "text/markdown": [
       "__Iteration 1:__"
      ],
      "text/plain": [
       "<IPython.core.display.Markdown object>"
      ]
     },
     "metadata": {},
     "output_type": "display_data"
    },
    {
     "name": "stdout",
     "output_type": "stream",
     "text": [
      "Bigrams in the word: {('i', 'n'), ('n', 'h'), ('h', 'i'), ('h', '</w>'), ('i', 'g'), ('g', 'h')}\n",
      "Candidate for merging: ('i', 'n')\n"
     ]
    },
    {
     "data": {
      "text/markdown": [
       "__Candidate not in BPE merges, algorithm stops.__"
      ],
      "text/plain": [
       "<IPython.core.display.Markdown object>"
      ]
     },
     "metadata": {},
     "output_type": "display_data"
    },
    {
     "data": {
      "text/plain": [
       "('h', 'i', 'g', 'h', 'i', 'n', 'h')"
      ]
     },
     "execution_count": 51,
     "metadata": {},
     "output_type": "execute_result"
    }
   ],
   "source": [
    "encode('highinh')"
   ]
  },
  {
   "cell_type": "code",
   "execution_count": null,
   "id": "b76622d0-3300-4802-9e9a-8deecfbc5771",
   "metadata": {},
   "outputs": [],
   "source": []
  }
 ],
 "metadata": {
  "kernelspec": {
   "display_name": "Python (tensorflow)",
   "language": "python",
   "name": "tensorflow"
  },
  "language_info": {
   "codemirror_mode": {
    "name": "ipython",
    "version": 3
   },
   "file_extension": ".py",
   "mimetype": "text/x-python",
   "name": "python",
   "nbconvert_exporter": "python",
   "pygments_lexer": "ipython3",
   "version": "3.10.14"
  }
 },
 "nbformat": 4,
 "nbformat_minor": 5
}
