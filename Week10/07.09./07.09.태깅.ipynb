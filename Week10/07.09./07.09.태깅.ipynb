{
 "cells": [
  {
   "cell_type": "code",
   "execution_count": 51,
   "id": "d53aa913-5b34-4c82-a5ed-06cf35dbbed9",
   "metadata": {},
   "outputs": [],
   "source": [
    "import re\n",
    "import numpy as np\n",
    "import pandas as pd\n",
    "import matplotlib.pyplot as plt\n",
    "from tensorflow.keras.preprocessing.text import Tokenizer\n",
    "from tensorflow.keras.preprocessing.sequence import pad_sequences\n",
    "from tensorflow.keras.utils import to_categorical\n",
    "from sklearn.model_selection import train_test_split"
   ]
  },
  {
   "cell_type": "code",
   "execution_count": 40,
   "id": "9aff7aa4-8b68-4c25-b7d3-480f7951b1fc",
   "metadata": {},
   "outputs": [],
   "source": [
    "f = open('/Users/jeon-yewon/Desktop/데이터 분석 강의/부트캠프/11주차/train.txt', 'r')\n",
    "\n",
    "tagged_sentences = [] # 전체 문장에 대한 단어와 태그를 저장할 리스트\n",
    "sentence = [] # 현재 문장에 대한 단어와 태그를 저장할 리스트\n",
    "\n",
    "for line in f:\n",
    "    #print(line)\n",
    "    if len(line) == 0 or line.startswith('-DOCSTART') or line[0] == '\\n': # 문장의 끝\n",
    "        if len(sentence) > 0: # sentence가 비어있지 않은지?\n",
    "            tagged_sentences.append(sentence)\n",
    "            sentence = []\n",
    "        continue\n",
    "\n",
    "    splits = line.split(' ') # [EU, NNP, B-NP, B-ORG\\n]\n",
    "    splits[-1] = re.sub(r'\\n', '', splits[-1]) # 줄바꿈 문자 제거 -> B-ORG\\n -> B-ORG\n",
    "    word = splits[0].lower() # EU -> eu\n",
    "    sentence.append([word, splits[-1]]) # 단어와 개체명 태깅 [eu, B-ORG]"
   ]
  },
  {
   "cell_type": "code",
   "execution_count": 41,
   "id": "a59cca71-2abb-4cb9-888c-fd81321a13ee",
   "metadata": {},
   "outputs": [
    {
     "name": "stdout",
     "output_type": "stream",
     "text": [
      "전체 샘플 :  14041\n"
     ]
    }
   ],
   "source": [
    "print('전체 샘플 : ', len(tagged_sentences))"
   ]
  },
  {
   "cell_type": "code",
   "execution_count": 42,
   "id": "d3f274f4-0445-4d18-b3d2-19ebffcaf23e",
   "metadata": {},
   "outputs": [
    {
     "name": "stdout",
     "output_type": "stream",
     "text": [
      "[['eu', 'B-ORG'], ['rejects', 'O'], ['german', 'B-MISC'], ['call', 'O'], ['to', 'O'], ['boycott', 'O'], ['british', 'B-MISC'], ['lamb', 'O'], ['.', 'O']]\n"
     ]
    }
   ],
   "source": [
    "print(tagged_sentences[0])"
   ]
  },
  {
   "cell_type": "code",
   "execution_count": 47,
   "id": "b55f42ef-49e2-4008-ae0d-71769a1815e7",
   "metadata": {},
   "outputs": [],
   "source": [
    "sentences, ner_tags = [], []\n",
    "\n",
    "for tagged_sentence in tagged_sentences:\n",
    "    sentence, tag_info = zip(*tagged_sentence)\n",
    "    sentences.append(list(sentence))\n",
    "    ner_tags.append(list(tag_info))"
   ]
  },
  {
   "cell_type": "code",
   "execution_count": 48,
   "id": "5266ff90-c5d0-4c75-85d3-7d4165a2f83e",
   "metadata": {},
   "outputs": [
    {
     "name": "stdout",
     "output_type": "stream",
     "text": [
      "14041 14041\n",
      "['eu', 'rejects', 'german', 'call', 'to', 'boycott', 'british', 'lamb', '.'] ['B-ORG', 'O', 'B-MISC', 'O', 'O', 'O', 'B-MISC', 'O', 'O']\n"
     ]
    }
   ],
   "source": [
    "print(len(sentences), len(ner_tags))\n",
    "print(sentences[0], ner_tags[0])"
   ]
  },
  {
   "cell_type": "code",
   "execution_count": 49,
   "id": "dc713ac5-ecee-406b-a83a-9dafff774fee",
   "metadata": {},
   "outputs": [
    {
     "name": "stdout",
     "output_type": "stream",
     "text": [
      "최대 길이 :  113\n",
      "평균 길이 :  14.501887329962253\n"
     ]
    }
   ],
   "source": [
    "print('최대 길이 : ', max(len(l) for l in sentences))\n",
    "print('평균 길이 : ', (sum(map(len, sentences))/len(sentences)))"
   ]
  },
  {
   "cell_type": "code",
   "execution_count": 52,
   "id": "fc49f500-a6d7-4323-bb2a-74a203c488ef",
   "metadata": {},
   "outputs": [
    {
     "data": {
      "image/png": "[encoded data removed]",
      "text/plain": [
       "<Figure size 640x480 with 1 Axes>"
      ]
     },
     "metadata": {},
     "output_type": "display_data"
    }
   ],
   "source": [
    "plt.hist([len(s) for s in sentences], bins=50)\n",
    "plt.xlabel('length')\n",
    "plt.ylabel('number')\n",
    "plt.show()"
   ]
  },
  {
   "cell_type": "code",
   "execution_count": 56,
   "id": "bf7db820-e1ea-4f2b-b52a-7051263f0f27",
   "metadata": {},
   "outputs": [],
   "source": [
    "max_words = 4000\n",
    "\n",
    "src_tokenizer = Tokenizer(num_words=max_words, oov_token='OOV')\n",
    "src_tokenizer.fit_on_texts(sentences)\n",
    "tar_tokenizer = Tokenizer()\n",
    "tar_tokenizer.fit_on_texts(ner_tags)"
   ]
  },
  {
   "cell_type": "code",
   "execution_count": 57,
   "id": "95469c4a-a65d-48b3-aaa3-ece45495cf41",
   "metadata": {},
   "outputs": [
    {
     "name": "stdout",
     "output_type": "stream",
     "text": [
      "단어 집합 크기 :  4000\n",
      "태깅 집합 크기 :  10\n"
     ]
    }
   ],
   "source": [
    "vocab_size = max_words\n",
    "tag_size = len(tar_tokenizer.word_index) + 1\n",
    "\n",
    "print('단어 집합 크기 : ', vocab_size)\n",
    "print('태깅 집합 크기 : ', tag_size)"
   ]
  },
  {
   "cell_type": "code",
   "execution_count": 58,
   "id": "2d0c8e0b-7b48-4e5a-b9f9-796f3226b1bc",
   "metadata": {},
   "outputs": [],
   "source": [
    "X_train = src_tokenizer.texts_to_sequences(sentences)\n",
    "y_train = tar_tokenizer.texts_to_sequences(ner_tags)"
   ]
  },
  {
   "cell_type": "code",
   "execution_count": 59,
   "id": "cd654c9e-5006-4aa5-b039-7d6a470d3066",
   "metadata": {},
   "outputs": [
    {
     "name": "stdout",
     "output_type": "stream",
     "text": [
      "[989, 1, 205, 629, 7, 3939, 216, 1, 3] [4, 1, 7, 1, 1, 1, 7, 1, 1]\n"
     ]
    }
   ],
   "source": [
    "print(X_train[0], y_train[0])"
   ]
  },
  {
   "cell_type": "code",
   "execution_count": 60,
   "id": "2501d91f-1a1b-440f-a6c9-4aed0eef1cb6",
   "metadata": {},
   "outputs": [],
   "source": [
    "index_to_word = src_tokenizer.index_word\n",
    "index_to_ner = tar_tokenizer.index_word"
   ]
  },
  {
   "cell_type": "code",
   "execution_count": 61,
   "id": "8fbeded2-6d28-444c-a08d-0b77feb5f874",
   "metadata": {},
   "outputs": [
    {
     "name": "stdout",
     "output_type": "stream",
     "text": [
      "기존 문장 :  ['eu', 'rejects', 'german', 'call', 'to', 'boycott', 'british', 'lamb', '.']\n",
      "OOV가 처리된 문장 :  ['eu', 'OOV', 'german', 'call', 'to', 'boycott', 'british', 'OOV', '.']\n"
     ]
    }
   ],
   "source": [
    "decoded = []\n",
    "\n",
    "for index in X_train[0]:\n",
    "    decoded.append(index_to_word[index])\n",
    "\n",
    "print('기존 문장 : ', sentences[0])\n",
    "print('OOV가 처리된 문장 : ', decoded)"
   ]
  },
  {
   "cell_type": "code",
   "execution_count": 62,
   "id": "b95ec908-0bbd-4281-a3d3-fb7cf27b9d43",
   "metadata": {},
   "outputs": [],
   "source": [
    "max_len = 70\n",
    "\n",
    "X_train = pad_sequences(X_train, padding='post', maxlen=max_len)\n",
    "y_train = pad_sequences(y_train, padding='post', maxlen=max_len)"
   ]
  },
  {
   "cell_type": "code",
   "execution_count": 63,
   "id": "218c1b75-238c-46fb-b4d9-02ec6805de42",
   "metadata": {},
   "outputs": [],
   "source": [
    "X_train, X_test, y_train, y_test = train_test_split(X_train, y_train, test_size=0.2, random_state=42)"
   ]
  },
  {
   "cell_type": "code",
   "execution_count": 64,
   "id": "eb9859d9-e98f-40a7-a35d-b44fa73286f7",
   "metadata": {},
   "outputs": [],
   "source": [
    "y_train = to_categorical(y_train, num_classes=tag_size)\n",
    "y_test = to_categorical(y_test, num_classes=tag_size)"
   ]
  },
  {
   "cell_type": "code",
   "execution_count": 65,
   "id": "3e966072-3e3c-4892-af5a-cab68cb06785",
   "metadata": {},
   "outputs": [
    {
     "name": "stdout",
     "output_type": "stream",
     "text": [
      "(11232, 70) (2809, 70)\n",
      "[[[0. 1. 0. ... 0. 0. 0.]\n",
      "  [0. 1. 0. ... 0. 0. 0.]\n",
      "  [0. 1. 0. ... 0. 0. 0.]\n",
      "  ...\n",
      "  [1. 0. 0. ... 0. 0. 0.]\n",
      "  [1. 0. 0. ... 0. 0. 0.]\n",
      "  [1. 0. 0. ... 0. 0. 0.]]\n",
      "\n",
      " [[0. 1. 0. ... 0. 0. 0.]\n",
      "  [0. 1. 0. ... 0. 0. 0.]\n",
      "  [0. 1. 0. ... 0. 0. 0.]\n",
      "  ...\n",
      "  [1. 0. 0. ... 0. 0. 0.]\n",
      "  [1. 0. 0. ... 0. 0. 0.]\n",
      "  [1. 0. 0. ... 0. 0. 0.]]\n",
      "\n",
      " [[0. 1. 0. ... 0. 0. 0.]\n",
      "  [0. 1. 0. ... 0. 0. 0.]\n",
      "  [0. 1. 0. ... 0. 0. 0.]\n",
      "  ...\n",
      "  [1. 0. 0. ... 0. 0. 0.]\n",
      "  [1. 0. 0. ... 0. 0. 0.]\n",
      "  [1. 0. 0. ... 0. 0. 0.]]\n",
      "\n",
      " ...\n",
      "\n",
      " [[0. 0. 0. ... 0. 0. 0.]\n",
      "  [0. 1. 0. ... 0. 0. 0.]\n",
      "  [0. 0. 1. ... 0. 0. 0.]\n",
      "  ...\n",
      "  [1. 0. 0. ... 0. 0. 0.]\n",
      "  [1. 0. 0. ... 0. 0. 0.]\n",
      "  [1. 0. 0. ... 0. 0. 0.]]\n",
      "\n",
      " [[0. 1. 0. ... 0. 0. 0.]\n",
      "  [0. 1. 0. ... 0. 0. 0.]\n",
      "  [0. 1. 0. ... 0. 0. 0.]\n",
      "  ...\n",
      "  [1. 0. 0. ... 0. 0. 0.]\n",
      "  [1. 0. 0. ... 0. 0. 0.]\n",
      "  [1. 0. 0. ... 0. 0. 0.]]\n",
      "\n",
      " [[0. 1. 0. ... 0. 0. 0.]\n",
      "  [0. 1. 0. ... 0. 0. 0.]\n",
      "  [0. 1. 0. ... 0. 0. 0.]\n",
      "  ...\n",
      "  [1. 0. 0. ... 0. 0. 0.]\n",
      "  [1. 0. 0. ... 0. 0. 0.]\n",
      "  [1. 0. 0. ... 0. 0. 0.]]] [[[0. 1. 0. ... 0. 0. 0.]\n",
      "  [0. 1. 0. ... 0. 0. 0.]\n",
      "  [0. 1. 0. ... 0. 0. 0.]\n",
      "  ...\n",
      "  [1. 0. 0. ... 0. 0. 0.]\n",
      "  [1. 0. 0. ... 0. 0. 0.]\n",
      "  [1. 0. 0. ... 0. 0. 0.]]\n",
      "\n",
      " [[0. 1. 0. ... 0. 0. 0.]\n",
      "  [0. 1. 0. ... 0. 0. 0.]\n",
      "  [0. 1. 0. ... 0. 0. 0.]\n",
      "  ...\n",
      "  [1. 0. 0. ... 0. 0. 0.]\n",
      "  [1. 0. 0. ... 0. 0. 0.]\n",
      "  [1. 0. 0. ... 0. 0. 0.]]\n",
      "\n",
      " [[0. 1. 0. ... 0. 0. 0.]\n",
      "  [0. 1. 0. ... 0. 0. 0.]\n",
      "  [0. 1. 0. ... 0. 0. 0.]\n",
      "  ...\n",
      "  [1. 0. 0. ... 0. 0. 0.]\n",
      "  [1. 0. 0. ... 0. 0. 0.]\n",
      "  [1. 0. 0. ... 0. 0. 0.]]\n",
      "\n",
      " ...\n",
      "\n",
      " [[0. 1. 0. ... 0. 0. 0.]\n",
      "  [0. 1. 0. ... 0. 0. 0.]\n",
      "  [0. 1. 0. ... 0. 0. 0.]\n",
      "  ...\n",
      "  [1. 0. 0. ... 0. 0. 0.]\n",
      "  [1. 0. 0. ... 0. 0. 0.]\n",
      "  [1. 0. 0. ... 0. 0. 0.]]\n",
      "\n",
      " [[0. 1. 0. ... 0. 0. 0.]\n",
      "  [0. 0. 0. ... 0. 0. 0.]\n",
      "  [0. 0. 0. ... 0. 0. 0.]\n",
      "  ...\n",
      "  [1. 0. 0. ... 0. 0. 0.]\n",
      "  [1. 0. 0. ... 0. 0. 0.]\n",
      "  [1. 0. 0. ... 0. 0. 0.]]\n",
      "\n",
      " [[0. 1. 0. ... 0. 0. 0.]\n",
      "  [0. 1. 0. ... 0. 0. 0.]\n",
      "  [0. 1. 0. ... 0. 0. 0.]\n",
      "  ...\n",
      "  [1. 0. 0. ... 0. 0. 0.]\n",
      "  [1. 0. 0. ... 0. 0. 0.]\n",
      "  [1. 0. 0. ... 0. 0. 0.]]]\n"
     ]
    }
   ],
   "source": [
    "print(X_train.shape, X_test.shape)\n",
    "print(y_train, y_test)"
   ]
  },
  {
   "cell_type": "code",
   "execution_count": 53,
   "id": "e932bd28-7710-42c4-88a0-228d5ae099ee",
   "metadata": {},
   "outputs": [],
   "source": [
    "from tensorflow.keras.models import Sequential\n",
    "from tensorflow.keras.layers import Dense, Embedding, LSTM, Bidirectional, TimeDistributed\n",
    "from tensorflow.keras.optimizers import Adam\n",
    "from tensorflow.keras.callbacks import EarlyStopping, ModelCheckpoint"
   ]
  },
  {
   "cell_type": "code",
   "execution_count": 66,
   "id": "c77a0cce-c4e9-479d-a22f-778ffefa7fd9",
   "metadata": {},
   "outputs": [
    {
     "name": "stderr",
     "output_type": "stream",
     "text": [
      "WARNING:absl:At this time, the v2.11+ optimizer `tf.keras.optimizers.Adam` runs slowly on M1/M2 Macs, please use the legacy Keras optimizer instead, located at `tf.keras.optimizers.legacy.Adam`.\n",
      "WARNING:absl:There is a known slowdown when using v2.11+ Keras optimizers on M1/M2 Macs. Falling back to the legacy Keras optimizer, i.e., `tf.keras.optimizers.legacy.Adam`.\n"
     ]
    },
    {
     "name": "stdout",
     "output_type": "stream",
     "text": [
      "Model: \"sequential\"\n",
      "_________________________________________________________________\n",
      " Layer (type)                Output Shape              Param #   \n",
      "=================================================================\n",
      " embedding (Embedding)       (None, 70, 128)           512000    \n",
      "                                                                 \n",
      " bidirectional (Bidirection  (None, 70, 512)           788480    \n",
      " al)                                                             \n",
      "                                                                 \n",
      " time_distributed (TimeDist  (None, 70, 10)            5130      \n",
      " ributed)                                                        \n",
      "                                                                 \n",
      "=================================================================\n",
      "Total params: 1305610 (4.98 MB)\n",
      "Trainable params: 1305610 (4.98 MB)\n",
      "Non-trainable params: 0 (0.00 Byte)\n",
      "_________________________________________________________________\n"
     ]
    }
   ],
   "source": [
    "model = Sequential()\n",
    "model.add(Embedding(input_dim=vocab_size, output_dim=128, input_length=max_len))\n",
    "model.add(Bidirectional(LSTM(256, return_sequences='softmax')))\n",
    "model.add(TimeDistributed(Dense(tag_size, activation='softmax')))\n",
    "\n",
    "model.compile(loss='categorical_crossentropy', optimizer=Adam(0.001), metrics=['acc'])\n",
    "model.summary()"
   ]
  },
  {
   "cell_type": "markdown",
   "id": "323b3a69-8e22-40c8-8964-4e2fe57e17f9",
   "metadata": {},
   "source": [
    "- binary_crossentropy : 이진 분류(한 클래스에 속할 확률 반환)\n",
    "- categorical_crossentropy : 다중 분류(각 클래스에 대한 확률)\n",
    "- sparse_crossentropy : 다중 분류(정수형태(원-핫 인코딩x))\n",
    "- MSE, MAE : 회귀 문제에서 사용"
   ]
  },
  {
   "cell_type": "code",
   "execution_count": 69,
   "id": "e660d06b-888c-4a88-a70e-94f9ce310bdb",
   "metadata": {},
   "outputs": [],
   "source": [
    "# Early stopping to stop training when the model's performance stops improving\n",
    "es = EarlyStopping(monitor='val_loss', mode='min', verbose=1, patience=5)\n",
    "\n",
    "# Model checkpoint to save the best model during training\n",
    "mc = ModelCheckpoint('best_model.h5', monitor='val_loss', mode='min', verbose=1, save_best_only=True)"
   ]
  },
  {
   "cell_type": "code",
   "execution_count": 71,
   "id": "6ec310d3-5fa9-4693-8256-4d7f5cae36f6",
   "metadata": {},
   "outputs": [
    {
     "name": "stdout",
     "output_type": "stream",
     "text": [
      "Epoch 1/10\n",
      "88/88 [==============================] - ETA: 0s - loss: 0.1464 - acc: 0.9650\n",
      "Epoch 1: val_loss improved from inf to 0.11615, saving model to best_model.h5\n",
      "88/88 [==============================] - 92s 1s/step - loss: 0.1464 - acc: 0.9650 - val_loss: 0.1162 - val_acc: 0.9665\n",
      "Epoch 2/10\n"
     ]
    },
    {
     "name": "stderr",
     "output_type": "stream",
     "text": [
      "/Users/jeon-yewon/miniforge3/envs/tensorflow/lib/python3.10/site-packages/keras/src/engine/training.py:3000: UserWarning: You are saving your model as an HDF5 file via `model.save()`. This file format is considered legacy. We recommend using instead the native Keras format, e.g. `model.save('my_model.keras')`.\n",
      "  saving_api.save_model(\n"
     ]
    },
    {
     "name": "stdout",
     "output_type": "stream",
     "text": [
      "88/88 [==============================] - ETA: 0s - loss: 0.0974 - acc: 0.9707\n",
      "Epoch 2: val_loss improved from 0.11615 to 0.08282, saving model to best_model.h5\n",
      "88/88 [==============================] - 91s 1s/step - loss: 0.0974 - acc: 0.9707 - val_loss: 0.0828 - val_acc: 0.9758\n",
      "Epoch 3/10\n",
      "88/88 [==============================] - ETA: 0s - loss: 0.0734 - acc: 0.9781\n",
      "Epoch 3: val_loss improved from 0.08282 to 0.06781, saving model to best_model.h5\n",
      "88/88 [==============================] - 84s 952ms/step - loss: 0.0734 - acc: 0.9781 - val_loss: 0.0678 - val_acc: 0.9808\n",
      "Epoch 4/10\n",
      "88/88 [==============================] - ETA: 0s - loss: 0.0579 - acc: 0.9831\n",
      "Epoch 4: val_loss improved from 0.06781 to 0.05430, saving model to best_model.h5\n",
      "88/88 [==============================] - 95s 1s/step - loss: 0.0579 - acc: 0.9831 - val_loss: 0.0543 - val_acc: 0.9846\n",
      "Epoch 5/10\n",
      "88/88 [==============================] - ETA: 0s - loss: 0.0440 - acc: 0.9875\n",
      "Epoch 5: val_loss improved from 0.05430 to 0.04469, saving model to best_model.h5\n",
      "88/88 [==============================] - 122s 1s/step - loss: 0.0440 - acc: 0.9875 - val_loss: 0.0447 - val_acc: 0.9875\n",
      "Epoch 6/10\n",
      "88/88 [==============================] - ETA: 0s - loss: 0.0351 - acc: 0.9900\n",
      "Epoch 6: val_loss improved from 0.04469 to 0.03937, saving model to best_model.h5\n",
      "88/88 [==============================] - 113s 1s/step - loss: 0.0351 - acc: 0.9900 - val_loss: 0.0394 - val_acc: 0.9891\n",
      "Epoch 7/10\n",
      "88/88 [==============================] - ETA: 0s - loss: 0.0295 - acc: 0.9914\n",
      "Epoch 7: val_loss improved from 0.03937 to 0.03680, saving model to best_model.h5\n",
      "88/88 [==============================] - 112s 1s/step - loss: 0.0295 - acc: 0.9914 - val_loss: 0.0368 - val_acc: 0.9897\n",
      "Epoch 8/10\n",
      "88/88 [==============================] - ETA: 0s - loss: 0.0257 - acc: 0.9925\n",
      "Epoch 8: val_loss improved from 0.03680 to 0.03583, saving model to best_model.h5\n",
      "88/88 [==============================] - 113s 1s/step - loss: 0.0257 - acc: 0.9925 - val_loss: 0.0358 - val_acc: 0.9902\n",
      "Epoch 9/10\n",
      "88/88 [==============================] - ETA: 0s - loss: 0.0228 - acc: 0.9934\n",
      "Epoch 9: val_loss improved from 0.03583 to 0.03450, saving model to best_model.h5\n",
      "88/88 [==============================] - 102s 1s/step - loss: 0.0228 - acc: 0.9934 - val_loss: 0.0345 - val_acc: 0.9907\n",
      "Epoch 10/10\n",
      "88/88 [==============================] - ETA: 0s - loss: 0.0203 - acc: 0.9941\n",
      "Epoch 10: val_loss improved from 0.03450 to 0.03445, saving model to best_model.h5\n",
      "88/88 [==============================] - 111s 1s/step - loss: 0.0203 - acc: 0.9941 - val_loss: 0.0345 - val_acc: 0.9909\n"
     ]
    }
   ],
   "source": [
    "history = model.fit(X_train, y_train, \n",
    "                    batch_size=128, \n",
    "                    epochs=10, \n",
    "                    validation_data=(X_test, y_test), \n",
    "                    callbacks=[es, mc])"
   ]
  },
  {
   "cell_type": "code",
   "execution_count": 74,
   "id": "a572a337-71c3-41e2-9033-990368c2c578",
   "metadata": {},
   "outputs": [
    {
     "name": "stdout",
     "output_type": "stream",
     "text": [
      "88/88 [==============================] - 9s 99ms/step - loss: 0.0345 - acc: 0.9909\n",
      "test acc :  0.9908660650253296\n"
     ]
    }
   ],
   "source": [
    "print('test acc : ', model.evaluate(X_test, y_test)[1])"
   ]
  },
  {
   "cell_type": "code",
   "execution_count": 79,
   "id": "d553533e-c4f1-49ec-9984-8ea611f40c67",
   "metadata": {},
   "outputs": [
    {
     "name": "stdout",
     "output_type": "stream",
     "text": [
      "1/1 [==============================] - 0s 21ms/step\n",
      "단어             |실제값  |예측값\n",
      "-----------------------------------\n",
      "els              : B-PER   B-PER\n",
      "OOV              : I-PER   I-PER\n",
      "(                : O       O\n",
      "belgium          : B-LOC   B-LOC\n",
      ")                : O       O\n",
      "beat             : O       O\n",
      "OOV              : B-PER   B-PER\n",
      "OOV              : I-PER   I-PER\n",
      "(                : O       O\n",
      "australia        : B-LOC   B-LOC\n",
      ")                : O       O\n",
      "6-4              : O       O\n"
     ]
    }
   ],
   "source": [
    "i = 10\n",
    "\n",
    "y_pred = model.predict(np.array([X_test[i]])) # 모델에서 y_test를 예측\n",
    "# print('확률값 벡터 : ', y_pred)\n",
    "y_pred = np.argmax(y_pred, axis=-1) # 확률값 벡터를 정수 인코딩으로 변경\n",
    "true = np.argmax(y_test[i], -1) # 원-핫 벡터를 정수 인코딩으로 변경\n",
    "\n",
    "# print('원-핫 벡터 : ', y_test[i])\n",
    "# print('확률값 벡터의 정수 인코딩 : ', y_pred)\n",
    "# print('원-핫 벡터의 정수 인코딩 : ', true)\n",
    "print('{:15}|{:5}|{}'.format('단어', '실제값', '예측값'))\n",
    "print('-'*35)\n",
    "\n",
    "for w, t, pred in zip(X_test[i], true, y_pred[0]):\n",
    "    if w != 0:\n",
    "        print('{:17}: {:7} {}'.format(index_to_word[w], index_to_ner[t].upper(), index_to_ner[pred].upper()))"
   ]
  },
  {
   "cell_type": "code",
   "execution_count": null,
   "id": "270f0191-e85d-4e11-9184-87a3e0d18150",
   "metadata": {},
   "outputs": [],
   "source": []
  }
 ],
 "metadata": {
  "kernelspec": {
   "display_name": "Python (tensorflow)",
   "language": "python",
   "name": "tensorflow"
  },
  "language_info": {
   "codemirror_mode": {
    "name": "ipython",
    "version": 3
   },
   "file_extension": ".py",
   "mimetype": "text/x-python",
   "name": "python",
   "nbconvert_exporter": "python",
   "pygments_lexer": "ipython3",
   "version": "3.10.14"
  }
 },
 "nbformat": 4,
 "nbformat_minor": 5
}
