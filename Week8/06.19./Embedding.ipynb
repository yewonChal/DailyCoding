{
 "cells": [
  {
   "cell_type": "code",
   "execution_count": null,
   "id": "87c00249-192f-4925-b16c-99a0ab7b8438",
   "metadata": {},
   "outputs": [],
   "source": [
    "from tensorflow import keras\n",
    "\n",
    "batch_size = 32\n",
    "\n",
    "train_ds = keras.utils.text_dataset_from_directory(\n",
    "    'aclImdb/train', batch_size=batch_size)\n",
    "\n",
    "val_ds = keras.utils.text_dataset_from_directory(\n",
    "    'aclImdb/val', batch_size=batch_size)\n",
    "\n",
    "test_ds = keras.utils.text_dataset_from_directory(\n",
    "    'aclImdb/test', batch_size=batch_size)\n",
    "\n",
    "text_only_train_ds = train_ds.map(lambda x, y, : x)"
   ]
  },
  {
   "cell_type": "code",
   "execution_count": null,
   "id": "264e5f26-46b1-4c1a-8a8a-5dcb6b64cc64",
   "metadata": {},
   "outputs": [],
   "source": [
    "from tensorflow.keras import layers\n",
    "\n",
    "max_length = 600\n",
    "max_tokens = 20000\n",
    "\n",
    "text_vectorization = layers.TextVectorization(\n",
    "    max_tokens=max_tokens,\n",
    "    output_mode = 'int',\n",
    "    output_sequence_length=max_length,\n",
    ")\n",
    "\n",
    "text_vectorization.adapt(text_only_train_ds)"
   ]
  },
  {
   "cell_type": "code",
   "execution_count": null,
   "id": "f69990ff-720b-4a61-92cb-bc19e1e25be4",
   "metadata": {},
   "outputs": [],
   "source": [
    "int_train_ds = train_ds.map(\n",
    "    lambda x, y : (text_vectorization(x), y),\n",
    "    num_parallel_calls=4)\n",
    "\n",
    "int_val_ds = val_ds.map(\n",
    "    lambda x, y : (text_vectorization(x), y),\n",
    "    num_parallel_calls=4)\n",
    "\n",
    "int_test_ds = test_ds.map(\n",
    "    lambda x, y : (text_vectorization(x), y),\n",
    "    num_parallel_calls=4)"
   ]
  },
  {
   "cell_type": "code",
   "execution_count": null,
   "id": "4a701c2e-de3c-4750-9a9e-d399c326395b",
   "metadata": {},
   "outputs": [],
   "source": [
    "import tensorflow as tf"
   ]
  },
  {
   "cell_type": "code",
   "execution_count": null,
   "id": "1ab31dc5-3ea4-4ea2-b3bf-01fe805dfd84",
   "metadata": {},
   "outputs": [],
   "source": [
    "# 모델 정의\n",
    "inputs = keras.Input(shape=(None,), dtype='int64')  # 'stype' -> 'dtype'\n",
    "embedded = tf.one_hot(inputs, depth=max_tokens)\n",
    "x = layers.Bidirectional(layers.LSTM(32))(embedded)\n",
    "x = layers.Dropout(0.5)(x)\n",
    "outputs = layers.Dense(1, activation='sigmoid')(x)\n",
    "model = keras.Model(inputs, outputs)\n",
    "\n",
    "# 모델 컴파일\n",
    "model.compile(optimizer='rmsprop', loss='binary_crossentropy', metrics=['accuracy'])\n",
    "\n",
    "# 모델 요약 정보 출력\n",
    "model.summary()"
   ]
  },
  {
   "cell_type": "code",
   "execution_count": null,
   "id": "b3a38d18-6ffb-435d-a98d-9b3ad67a6996",
   "metadata": {},
   "outputs": [],
   "source": [
    "callbacks = [\n",
    "    keras.callbacks.ModelCheckpoint('one_hot_bidir_lstm.h5', save_best_only=True)\n",
    "]\n",
    "\n",
    "model.fit(int_train_ds, validation_data=int_val_ds, epochs=10, callbacks=callbacks)"
   ]
  },
  {
   "cell_type": "code",
   "execution_count": null,
   "id": "176f2bd7-9de2-4602-b087-1d649949a408",
   "metadata": {},
   "outputs": [],
   "source": [
    "model = keras.models.load_model('one_hot_bidir_lstm.h5')\n",
    "print(f'테스트 정확도 : {model.evaluate(int_test_ds)[1]:.3f}') # 0.88"
   ]
  },
  {
   "cell_type": "markdown",
   "id": "1e76fc0f-7a4c-4c09-b792-806ec790e691",
   "metadata": {},
   "source": [
    "## 임베딩(Embedding)\n",
    ": 고차원 데이터를 저차원 벡터로 변환하는 기술"
   ]
  },
  {
   "cell_type": "code",
   "execution_count": null,
   "id": "f0f43f9a-5eac-46ce-8548-abf828fda2d9",
   "metadata": {},
   "outputs": [],
   "source": [
    "# Embedding Layer : 신경망에서 범주형 데이터 중 주로 텍스트 데이터를 밀집된 연속 벡터 표현으로 변환하는데 사용되는 층이다.\n",
    "embedding_layer = layers.Embedding(input_dim = max_tokens, output_dim=256)"
   ]
  },
  {
   "cell_type": "code",
   "execution_count": null,
   "id": "be874daf-7240-4d17-84e9-734d15a45f46",
   "metadata": {},
   "outputs": [],
   "source": [
    "# shape = (None) : 스칼라 값\n",
    "# shape = (None,) : 유동적인 1차원 벡터\n",
    "inputs = keras.Input(shape=(None, ), dtype='int64')\n",
    "embedded = layers.Embedding(input_dim=max_tokens, output_dim=256)(inputs) # input_dim = 최대 토큰 수, output_dim = 임베딩 벡터 차원 수\n",
    "x = layers.Bidirectional(layers.LSTM(32))(embedded)\n",
    "x = layers.Dropout(0.5)(x)\n",
    "outputs = layers.Dense(1, activation='sigmoid')(x)\n",
    "model = keras.Model(inputs, outputs)\n",
    "model.compile(optimizer='rmsprop', loss='binary_crossentropy', metrics=['accuracy'])\n",
    "model.summary()"
   ]
  },
  {
   "cell_type": "code",
   "execution_count": null,
   "id": "3931a8ca-12fc-4fd8-a20a-5c8ce59e3f85",
   "metadata": {},
   "outputs": [],
   "source": [
    "callbacks = [\n",
    "    keras.callbacks.ModelCheckpoint('embeddings_bidir_lstm.h5', save_best_only=True)\n",
    "]\n",
    "\n",
    "model.fit(int_train_ds, validation_data=int_val_ds, epochs=10, callbacks=callbacks)"
   ]
  },
  {
   "cell_type": "code",
   "execution_count": null,
   "id": "e06f43d4-f281-4189-bb99-c7ab408101eb",
   "metadata": {},
   "outputs": [],
   "source": [
    "model = keras.models.load_model('embeddings_bidir_lstm.h5')\n",
    "print(f'테스트 정확도 : {model.evaluate(int_test_ds)[1]:.3f}')"
   ]
  },
  {
   "cell_type": "code",
   "execution_count": null,
   "id": "77866ffe-7126-406b-83ca-4801360a1b7a",
   "metadata": {},
   "outputs": [],
   "source": [
    "# 마스킹을 활성화한 Embedding 층\n",
    "# 마스킹(Masking) : 시퀸스 데이터를 처리할 때, 특정 토큰이 모델의 학습이나 예측에 영향을 미치지 않도록 무시하는 기법이다.\n",
    "inputs = keras.Input(shape=(None,), dtype='int64')\n",
    "embedded = layers.Embedding(input_dim=max_tokens, output_dim=256, mask_zero=True)(inputs) # 입력 시퀸스에서 값이 0인 토큰을 무시한다.\n",
    "\n",
    "x = layers.Bidirectional(layers.LSTM(32))(embedded)\n",
    "x = layers.Dropout(0.5)(x)\n",
    "outputs = layers.Dense(1, activation='sigmoid')(x)\n",
    "model = keras.Model(inputs, outputs)\n",
    "model.compile(optimizer='rmsprop', loss='binary_crossentropy', metrics=['accuracy'])\n",
    "model.summary()"
   ]
  },
  {
   "cell_type": "code",
   "execution_count": null,
   "id": "916bcb42-3d7a-46f1-8add-6b9c2664a89b",
   "metadata": {},
   "outputs": [],
   "source": [
    "callbacks = [\n",
    "    keras.callbacks.ModelCheckpoint('embedding_bidir_lstm_with_masking.h5', save_best_only=True)\n",
    "]\n",
    "model.fit(int_train_ds, validation_data = int_val_ds, epochs=10, callbacks=callbacks)"
   ]
  },
  {
   "cell_type": "code",
   "execution_count": null,
   "id": "16a34383-f80b-4ffc-abfa-6408cea6df5f",
   "metadata": {},
   "outputs": [],
   "source": [
    "model = keras.models.load_model('embedding_bidir_lstm_with_masking.h5')\n",
    "print(f'테스트 정확도: {model.evaluate(int_test_ds)[1]:.3f}')"
   ]
  },
  {
   "cell_type": "code",
   "execution_count": null,
   "id": "792cf21b-3335-4d66-92dc-1530b85f4af1",
   "metadata": {},
   "outputs": [],
   "source": [
    "import requests\n",
    "import zipfile\n",
    "import os\n",
    "\n",
    "url = \"http://nlp.stanford.edu/data/glove.6B.zip\"\n",
    "zip_file = 'golve.6B.zip'\n",
    "\n",
    "response = requests.get(url)\n",
    "with open(zip_file, 'wb') as f:\n",
    "    f.write(response.content)\n",
    "\n",
    "with zipfile.ZipFile(zip_file, 'r') as zip_ref:\n",
    "    zip_ref.extractall()"
   ]
  },
  {
   "cell_type": "code",
   "execution_count": null,
   "id": "b95afb20-4c3c-40b4-9327-7261c7736d76",
   "metadata": {},
   "outputs": [],
   "source": [
    "os.remove(zip_file)"
   ]
  },
  {
   "cell_type": "markdown",
   "id": "189a9b3a-8ef8-4055-9525-59934c6fe6eb",
   "metadata": {},
   "source": [
    "# GloVe : SVD와 skip-gram 결합한 모델"
   ]
  },
  {
   "cell_type": "code",
   "execution_count": null,
   "id": "312d0b8e-2342-48c1-8c73-283147e9ec4f",
   "metadata": {},
   "outputs": [],
   "source": [
    "import tensorflow as tf"
   ]
  },
  {
   "cell_type": "code",
   "execution_count": null,
   "id": "3b73073e-f256-437e-92ca-e315298b7cf7",
   "metadata": {},
   "outputs": [],
   "source": []
  }
 ],
 "metadata": {
  "kernelspec": {
   "display_name": "Python (tensorflow)",
   "language": "python",
   "name": "tensorflow"
  },
  "language_info": {
   "codemirror_mode": {
    "name": "ipython",
    "version": 3
   },
   "file_extension": ".py",
   "mimetype": "text/x-python",
   "name": "python",
   "nbconvert_exporter": "python",
   "pygments_lexer": "ipython3",
   "version": "3.10.14"
  }
 },
 "nbformat": 4,
 "nbformat_minor": 5
}
