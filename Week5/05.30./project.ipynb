{
 "cells": [
  {
   "cell_type": "code",
   "execution_count": 1,
   "id": "a1aee832-a1fe-44ee-b9f0-bda41a1887de",
   "metadata": {},
   "outputs": [],
   "source": [
    "import numpy as np\n",
    "import pandas as pd\n",
    "import matplotlib.pyplot as plt\n",
    "import seaborn as sns\n",
    "import warnings\n",
    "warnings.filterwarnings('ignore')\n",
    "from matplotlib import rc\n",
    "\n",
    "rc('font', family='AppleGothic')\n",
    "rc('axes', unicode_minus=False)\n",
    "plt.rcParams['figure.figsize'] = (12, 8)"
   ]
  },
  {
   "cell_type": "code",
   "execution_count": 2,
   "id": "2b26154d-5e1e-4883-9b7d-eb7e33989fca",
   "metadata": {},
   "outputs": [],
   "source": [
    "# 과제1) SalePrice_Log와 나머지 값들 상관관계 그래프 regplot 그리기(단, ID는 제외)\n",
    "# 과제2) 각 column들의 정보가 들어있는 텍스트 파일 읽어보기\n",
    "# 과제3) 상관관계가 높은 값들을 찾아보기\n",
    "# 요일데이터가 포함된 train과 test 자전거 데이터로 EDA 진행해보기(숙제는 x)"
   ]
  },
  {
   "cell_type": "code",
   "execution_count": null,
   "id": "b650cfad-2105-4e57-a268-100b75a68de6",
   "metadata": {},
   "outputs": [],
   "source": [
    "# 과제1) SalePrice_Log와 나머지 값들 상관관계 그래프 regplot 그리기(단, ID는 제외)\n",
    "cols = df_train.select_dtypes(include=[np.number]).columns.tolist()\n",
    "cols.remove('Id')\n",
    "\n",
    "num_cols = 2\n",
    "num_rows = (len(cols) + num_cols - 1) // num_cols\n",
    "\n",
    "fig, axes = plt.subplots(num_rows, num_cols, figsize=(20, num_rows * 6))\n",
    "axes = axes.flatten()\n",
    "\n",
    "for i, col in enumerate(cols):\n",
    "    sns.regplot(x=df_train[col], y=df_train['SalePrice_Log'], line_kws={'color': 'red', 'lw': 2}, ax=axes[i])\n",
    "    axes[i].set_title(f'SalePrice_Log와 {col}의 상관관계 그래프')\n",
    "    axes[i].set_xlabel(col)\n",
    "    axes[i].set_ylabel('SalePrice_Log')"
   ]
  },
  {
   "cell_type": "raw",
   "id": "3e27cd95-2e01-4f0a-99cc-72982616ba33",
   "metadata": {},
   "source": [
    "# 과제2) 각 column들의 정보가 들어있는 텍스트 파일 읽어보기\n",
    "- 주택 판매와 관련된 다양한 특징과 조건을 설명하는 파일\n",
    "- 각 열은 주택의 특징을 식별하고 해당 특징의 값들을 설명\n",
    "\n",
    "1. MSSubClass: 주택의 유형을 식별한다.\n",
    "2. MSZoning: 주택의 일반적인 구역 분류를 식별한다.\n",
    "3. LotFrontage, LotArea: 주택과 연결된 도로의 선형 피트와 부지의 크기(평방 피트)를 식별한다.\n",
    "4. Street: 부동산에 대한 도로 액세스 유형을 나타낸다.\n",
    "5. Alley: 부동산에 대한 골목 액세스 유형을 나타낸다.\n",
    "6. LotShape: 부동산의 일반적인 모양을 나타낸다.\n",
    "7. LandContour: 부동산의 평탄도를 나타낸다.\n",
    "8. Utilities: 사용 가능한 유틸리티 유형을 나타낸다.\n",
    "9. LotConfig: 부지 구성을 나타낸다.\n",
    "10. LandSlope: 부동산의 경사를 나타낸다.\n",
    "11. Neighborhood: 주택이 위치한 실제 물리적 위치를 식별한다.\n",
    "12. Condition1, Condition2: 다양한 조건과의 근접성을 나타낸다.\n",
    "13. BldgType: 건물의 유형을 나타낸다.\n",
    "14. HouseStyle: 건물의 스타일을 나타낸다.\n",
    "15. OverallQual, OverallCond: 집의 전체 재료 및 마감과 집의 전반적인 상태를 나타낸다.\n",
    "16. YearBuilt, YearRemodAdd: 건물의 원래 건설 날짜와 개조 날짜를 나타낸다.\n",
    "17. RoofStyle, RoofMatl: 지붕의 유형과 재료를 나타낸다.\n",
    "18. Exterior1st, Exterior2nd: 집의 외부 커버링을 나타낸다.\n",
    "19. MasVnrType, MasVnrArea: 벽돌 베니어 유형과 벽돌 베니어 영역을 나타낸다.\n",
    "20. ExterQual, ExterCond: 집 외부의 재료 및 상태를 평가한다.\n",
    "21. Foundation: 기초 유형을 나타낸다.\n",
    "22. BsmtQual, BsmtCond, BsmtExposure: 지하실 높이, 일반적인 상태 및 노출도를 나타낸다.\n",
    "23. BsmtFinType1, BsmtFinType2: 지하 완성 영역의 등급을 나타낸다.\n",
    "24. BsmtFinSF1, BsmtFinSF2, BsmtUnfSF, TotalBsmtSF: 지하 완성 제곱 피트 및 미완성 제곱 피트를 나타낸다.\n",
    "25. Heating, HeatingQC: 난방 시스템과 품질을 나타낸다.\n",
    "26. CentralAir: 중앙 에어컨 여부를 나타낸다.\n",
    "27. Electrical: 전기 시스템을 나타낸다.\n",
    "28. 1stFlrSF, 2ndFlrSF, LowQualFinSF, GrLivArea: 제1, 2층 및 지상 생활 영역을 나타낸다.\n",
    "29. BsmtFullBath, BsmtHalfBath, FullBath, HalfBath: 욕실 수를 나타낸다.\n",
    "30. Bedroom, Kitchen, KitchenQual, TotRmsAbvGrd: 침실 및 주방의 수와 품질을 나타낸다.\n",
    "31. Functional: 주택 기능을 나타낸다.\n",
    "32. Fireplaces, FireplaceQu: 벽난로 수와 품질을 나타낸다.\n",
    "33. GarageType, GarageYrBlt, GarageFinish, GarageCars, GarageArea, GarageQual, GarageCond: 차고 유형, 차고 건설 연도, 내부 마감, 차고 크기, 품질 및 상태를 나타낸다.\n",
    "34. PavedDrive: 포장된 진입로 여부를 나타낸다.\n",
    "35. WoodDeckSF, OpenPorchSF, EnclosedPorch, 3SsnPorch, ScreenPorch, PoolArea, PoolQC, Fence: 나무 데크, 오픈 현관, 폐집립, 3 계절 현관, 스크린 현관, 수영장 영역, 수영장 품질, 울타리를 나타낸다."
   ]
  },
  {
   "cell_type": "raw",
   "id": "83bf6e9b-4a16-434e-b8f7-224c669b0b0c",
   "metadata": {},
   "source": [
    "# 과제3) 상관관계가 높은 값들을 찾아보기\n",
    "1) YearBuilt\n",
    "2) YearRemodAdd\n",
    "3) GrLivArea\n",
    "4) GarageYrBit\n",
    "5) "
   ]
  }
 ],
 "metadata": {
  "kernelspec": {
   "display_name": "Python 3 (ipykernel)",
   "language": "python",
   "name": "python3"
  },
  "language_info": {
   "codemirror_mode": {
    "name": "ipython",
    "version": 3
   },
   "file_extension": ".py",
   "mimetype": "text/x-python",
   "name": "python",
   "nbconvert_exporter": "python",
   "pygments_lexer": "ipython3",
   "version": "3.11.8"
  }
 },
 "nbformat": 4,
 "nbformat_minor": 5
}
