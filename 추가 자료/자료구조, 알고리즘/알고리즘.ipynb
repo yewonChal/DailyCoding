{
 "cells": [
  {
   "cell_type": "markdown",
   "id": "4ba75a44-5a56-416c-a81a-e51df2f307db",
   "metadata": {},
   "source": [
    "# 알고리즘 특강"
   ]
  },
  {
   "cell_type": "markdown",
   "id": "4385995f-5b5b-46b1-b901-7eda09a2177f",
   "metadata": {},
   "source": [
    "# 정렬"
   ]
  },
  {
   "cell_type": "code",
   "execution_count": 3,
   "id": "4581aeb7-f055-479d-a9d3-b4b3e8b711ba",
   "metadata": {},
   "outputs": [
    {
     "name": "stdout",
     "output_type": "stream",
     "text": [
      "최솟값 -->  11\n"
     ]
    }
   ],
   "source": [
    "## 함수\n",
    "def findMinIndex(ary):\n",
    "    minIdx = 0 # 맨 앞을 제일 작을 것 같은 값으로 가정하고 시작\n",
    "    for i in range(1, len(ary), 1):\n",
    "        if (ary[minIdx] > ary[i]):\n",
    "            minIdx = i\n",
    "    return minIdx\n",
    "\n",
    "## 변수\n",
    "testAry = [55, 88, 33, 77, 22, 99, 11, 44]\n",
    "\n",
    "## 메인\n",
    "minPos = findMinIndex(testAry)\n",
    "print('최솟값 --> ', testAry[minPos])"
   ]
  },
  {
   "cell_type": "code",
   "execution_count": 10,
   "id": "ebce7b0f-3ad3-42d9-9b77-d50e6b8da868",
   "metadata": {},
   "outputs": [
    {
     "name": "stdout",
     "output_type": "stream",
     "text": [
      "정렬 전 --> [172, 125, 77, 91, 165, 183, 169, 78]\n",
      "정렬 후 --> [77, 78, 91, 125, 165, 169, 172, 183]\n"
     ]
    }
   ],
   "source": [
    "## 함수\n",
    "import random\n",
    "\n",
    "def findMinIndex(ary):\n",
    "    minIdx = 0 # 맨 앞을 제일 작을 것 같은 값으로 가정하고 시작\n",
    "    for i in range(1, len(ary), 1):\n",
    "        if (ary[minIdx] > ary[i]):\n",
    "            minIdx = i\n",
    "    return minIdx\n",
    "\n",
    "## 변수\n",
    "before = [random.randint(30, 190) for _ in range(8)]\n",
    "after = []\n",
    "\n",
    "##메인\n",
    "print('정렬 전 -->', before)\n",
    "for _ in range(len(before)):\n",
    "    minPos = findMinIndex(before)\n",
    "    after.append(before[minPos])\n",
    "    del(before[minPos])\n",
    "print('정렬 후 -->', after)"
   ]
  },
  {
   "cell_type": "markdown",
   "id": "23402c41-310b-4f5f-9846-aeec9f5a836a",
   "metadata": {},
   "source": [
    "# 검색"
   ]
  },
  {
   "cell_type": "code",
   "execution_count": 18,
   "id": "8d850336-a7fa-4d83-878f-58cb3d0e2f4f",
   "metadata": {},
   "outputs": [
    {
     "name": "stdout",
     "output_type": "stream",
     "text": [
      "배열 --> [40, 104, 62, 39, 185, 172, 109, 91]\n",
      "172 는 5 위치에 있습니다.\n"
     ]
    }
   ],
   "source": [
    "## 함수\n",
    "import random\n",
    "\n",
    "def seqSearch(ary, fdata):\n",
    "    pos = -1\n",
    "    size = len(ary)\n",
    "    for i in range(size):\n",
    "        if ary[i] == fdata:\n",
    "            pos = i\n",
    "            break\n",
    "    return pos\n",
    "\n",
    "## 변수\n",
    "dataAry = [random.randint(30, 190) for _ in range(8)]\n",
    "findData = random.choice(dataAry) # 누나키\n",
    "\n",
    "## 메인\n",
    "print('배열 -->', dataAry)\n",
    "position = seqSearch(dataAry, findData)\n",
    "if position != -1:\n",
    "    print(findData, '는', position, '위치에 있습니다.')\n",
    "else:\n",
    "    print(findData, '가 없습니다.')"
   ]
  },
  {
   "cell_type": "code",
   "execution_count": 24,
   "id": "9cf31968-c985-4930-acce-aa0bc5ab655d",
   "metadata": {},
   "outputs": [
    {
     "name": "stdout",
     "output_type": "stream",
     "text": [
      "배열 --> [42, 48, 56, 70, 115, 128, 145, 164]\n",
      "비교숫자: 42\n",
      "비교숫자: 48\n",
      "비교숫자: 56\n",
      "비교숫자: 70\n",
      "비교숫자: 115\n",
      "77 가 없습니다.\n"
     ]
    }
   ],
   "source": [
    "## 함수\n",
    "import random\n",
    "\n",
    "def seqSearch(ary, fdata):\n",
    "    pos = -1\n",
    "    size = len(ary)\n",
    "    for i in range(size):\n",
    "        print('비교숫자:', ary[i])\n",
    "        if ary[i] == fdata:\n",
    "            pos = i\n",
    "            break\n",
    "        elif ary[i] > fdata:\n",
    "            break\n",
    "    return pos\n",
    "\n",
    "## 변수\n",
    "dataAry = [random.randint(30, 190) for _ in range(8)]\n",
    "dataAry.sort()\n",
    "findData = random.choice(dataAry) # 누나키\n",
    "# 실패한 경우(정렬을 사용할 경우 실패를 판단하기 쉽다.)\n",
    "findData = 77\n",
    "\n",
    "## 메인\n",
    "print('배열 -->', dataAry)\n",
    "position = seqSearch(dataAry, findData)\n",
    "if position != -1:\n",
    "    print(findData, '는', position, '위치에 있습니다.')\n",
    "else:\n",
    "    print(findData, '가 없습니다.')"
   ]
  },
  {
   "cell_type": "code",
   "execution_count": null,
   "id": "6945160f-3cb9-47fc-8eeb-ecba1b38cb80",
   "metadata": {},
   "outputs": [],
   "source": [
    "# 이진 검색(무게중심 생각)\n",
    "import random\n",
    "\n",
    "def seqSearch(ary, fdata):\n",
    "    pos = -1\n",
    "\n",
    "    start = 0\n",
    "    end = len(ary)-1\n",
    "    while (start <= end): # 시작과 끝의 관계성 생각\n",
    "        mid = (start + end) // 2\n",
    "        if (ary[mid] == fdata):\n",
    "            pass\n",
    "        elif (ary[mid] < fdata):\n",
    "            start = mid + 1\n",
    "        else:\n",
    "            end = mid - 1\n",
    "\n",
    "    return pos\n",
    "\n",
    "## 변수\n",
    "dataAry = [random.randint(30, 190) for _ in range(8)]\n",
    "dataAry.sort()\n",
    "findData = random.choice(dataAry) # 할머니 키\n",
    "findData = 77\n",
    "\n",
    "## 메인\n",
    "print('배열 -->', dataAry)\n",
    "position = seqSearch(dataAry, findData)\n",
    "if position != -1:\n",
    "    print(findData, '는', position, '위치에 있습니다.')\n",
    "else:\n",
    "    print(findData, '가 없습니다.')"
   ]
  },
  {
   "cell_type": "code",
   "execution_count": 26,
   "id": "50e2394a-9b97-40a8-943b-5b09ce341366",
   "metadata": {},
   "outputs": [
    {
     "name": "stdout",
     "output_type": "stream",
     "text": [
      "배열 --> [61, 82, 86, 95, 105, 115, 121, 127, 142, 152]\n",
      "105 는 4 위치에 있어요~\n"
     ]
    }
   ],
   "source": [
    "## 함수\n",
    "import random\n",
    "def binSearch(ary, fdata) :\n",
    "    pos = -1\n",
    "    start = 0\n",
    "    end = len(ary)-1\n",
    "    while (start <= end) :\n",
    "        mid = (start + end) // 2\n",
    "        if (ary[mid] == fdata) :\n",
    "            pos = mid\n",
    "            break\n",
    "        elif (ary[mid] < fdata) :\n",
    "            start = mid + 1\n",
    "        else :\n",
    "            end = mid - 1\n",
    "    return pos\n",
    "\n",
    "## 변수\n",
    "dataAry = [random.randint(30, 190) for _ in range(10)]\n",
    "dataAry.sort()\n",
    "findData = random.choice(dataAry) # 할머니 키\n",
    "# findData = 77\n",
    "\n",
    "## 메인\n",
    "print('배열 -->', dataAry)\n",
    "position = binSearch(dataAry, findData)\n",
    "if position != -1 :\n",
    "    print(findData, '는', position, '위치에 있어요~')\n",
    "else :\n",
    "    print(findData, '없어요 ㅠ')"
   ]
  },
  {
   "cell_type": "code",
   "execution_count": null,
   "id": "d280fbe1-85f7-4fcd-bf4d-081d218a4733",
   "metadata": {},
   "outputs": [],
   "source": [
    "## 함수\n",
    "import random\n",
    "def binSearch(ary, fdata):\n",
    "    global count\n",
    "    pos = -1\n",
    "    start = 0\n",
    "    end = len(ary) - 1\n",
    "    while start <= end:\n",
    "        count += 1\n",
    "        mid = (start+end) // 2\n",
    "        if ary[mid] == fdata:\n",
    "            pos = mid\n",
    "            pass\n",
    "        elif ary[mid] < fdata:\n",
    "            start = mid+1\n",
    "        else:\n",
    "            end = mid-1\n",
    "    return pos\n",
    "\n",
    "## 변수\n",
    "count = 0\n",
    "dataAry = [random.randint(30, 1900000) for _ in range(1000000)]\n",
    "dataAry.sort()\n",
    "findData = random.choice(dataAry)\n",
    "\n",
    "## 메인\n",
    "print('배열->', dataAry)\n",
    "position = binSearch(dataAry, findData)\n",
    "if position != -1:\n",
    "    print(findData, '는', position, '위치에 있습니다. (', count, ')번')\n",
    "else:\n",
    "    print(findData, '는 데이터에 존재하지 않습니다.')"
   ]
  },
  {
   "cell_type": "markdown",
   "id": "7967dc21-327a-442a-b17a-9f3b6d4cc99f",
   "metadata": {},
   "source": [
    "# 재귀"
   ]
  },
  {
   "cell_type": "code",
   "execution_count": 30,
   "id": "513728fd-885a-464d-80c0-a8c406fd904e",
   "metadata": {},
   "outputs": [
    {
     "name": "stdout",
     "output_type": "stream",
     "text": [
      "상자 열기--\n",
      "상자 열기--\n",
      "상자 열기--\n",
      "상자 열기--\n",
      "상자 열기--\n",
      "상자 열기--\n",
      "상자 열기--\n",
      "상자 열기--\n",
      "상자 열기--\n",
      "상자 열기--\n",
      "선물 넣기\n",
      "상자 닫기\n",
      "상자 닫기\n",
      "상자 닫기\n",
      "상자 닫기\n",
      "상자 닫기\n",
      "상자 닫기\n",
      "상자 닫기\n",
      "상자 닫기\n",
      "상자 닫기\n"
     ]
    }
   ],
   "source": [
    "## 함수부\n",
    "def openBox():\n",
    "    global count\n",
    "    print('상자 열기--')\n",
    "    count -= 1\n",
    "    if count == 0:\n",
    "        print('선물 넣기')\n",
    "        return\n",
    "    openBox()\n",
    "    print('상자 닫기')\n",
    "\n",
    "## 메인 코드\n",
    "count = 10\n",
    "openBox()"
   ]
  },
  {
   "cell_type": "code",
   "execution_count": 31,
   "id": "6031a46c-e457-44f5-86b9-0419a91e7073",
   "metadata": {},
   "outputs": [
    {
     "name": "stdout",
     "output_type": "stream",
     "text": [
      "55\n"
     ]
    }
   ],
   "source": [
    "## 함수부\n",
    "def addNumber(num):\n",
    "    if num == 1:\n",
    "        return 1\n",
    "    return num + addNumber(num-1)\n",
    "\n",
    "## 메인 코드\n",
    "print(addNumber(10))"
   ]
  },
  {
   "cell_type": "code",
   "execution_count": 38,
   "id": "46b1b6de-36f3-4ab0-af15-0265dabb9fb4",
   "metadata": {},
   "outputs": [
    {
     "name": "stdout",
     "output_type": "stream",
     "text": [
      "10*9*...*1 =  3628800\n"
     ]
    }
   ],
   "source": [
    "# 재귀_팩토리얼 계산\n",
    "factValue = 1\n",
    "for n in range(10, 0, -1):\n",
    "    factValue *= n\n",
    "print(\"10*9*...*1 = \", factValue)"
   ]
  },
  {
   "cell_type": "code",
   "execution_count": 39,
   "id": "b4ccb7e9-5d14-4e86-8cd9-64333f20335c",
   "metadata": {},
   "outputs": [
    {
     "name": "stdout",
     "output_type": "stream",
     "text": [
      "5\n",
      "4\n",
      "3\n",
      "2\n",
      "1\n",
      "발사!!\n"
     ]
    }
   ],
   "source": [
    "# 재귀_카운트다운\n",
    "def countDown(n):\n",
    "    if n == 0:\n",
    "        print('발사!!')\n",
    "    else:\n",
    "        print(n)\n",
    "        countDown(n-1)\n",
    "countDown(5)"
   ]
  },
  {
   "cell_type": "code",
   "execution_count": 40,
   "id": "4a487907-0972-4a6c-90d3-f9ae4af39c4b",
   "metadata": {},
   "outputs": [
    {
     "name": "stdout",
     "output_type": "stream",
     "text": [
      "⭐️\n",
      "⭐️⭐️\n",
      "⭐️⭐️⭐️\n",
      "⭐️⭐️⭐️⭐️\n",
      "⭐️⭐️⭐️⭐️⭐️\n"
     ]
    }
   ],
   "source": [
    "# 재귀_별 모양 출력\n",
    "def printStar(n):\n",
    "    if n > 0:\n",
    "        printStar(n-1)\n",
    "        print('⭐️' * n)\n",
    "\n",
    "printStar(5)"
   ]
  },
  {
   "cell_type": "code",
   "execution_count": 41,
   "id": "b63d5220-b78c-469d-83dd-930f022ec60f",
   "metadata": {},
   "outputs": [
    {
     "name": "stdout",
     "output_type": "stream",
     "text": [
      "## 2단 ##\n",
      "2 * 1 = 2\n",
      "2 * 2 = 4\n",
      "2 * 3 = 6\n",
      "2 * 4 = 8\n",
      "2 * 5 = 10\n",
      "2 * 6 = 12\n",
      "2 * 7 = 14\n",
      "2 * 8 = 16\n",
      "2 * 9 = 18\n",
      "## 3단 ##\n",
      "3 * 1 = 3\n",
      "3 * 2 = 6\n",
      "3 * 3 = 9\n",
      "3 * 4 = 12\n",
      "3 * 5 = 15\n",
      "3 * 6 = 18\n",
      "3 * 7 = 21\n",
      "3 * 8 = 24\n",
      "3 * 9 = 27\n",
      "## 4단 ##\n",
      "4 * 1 = 4\n",
      "4 * 2 = 8\n",
      "4 * 3 = 12\n",
      "4 * 4 = 16\n",
      "4 * 5 = 20\n",
      "4 * 6 = 24\n",
      "4 * 7 = 28\n",
      "4 * 8 = 32\n",
      "4 * 9 = 36\n",
      "## 5단 ##\n",
      "5 * 1 = 5\n",
      "5 * 2 = 10\n",
      "5 * 3 = 15\n",
      "5 * 4 = 20\n",
      "5 * 5 = 25\n",
      "5 * 6 = 30\n",
      "5 * 7 = 35\n",
      "5 * 8 = 40\n",
      "5 * 9 = 45\n",
      "## 6단 ##\n",
      "6 * 1 = 6\n",
      "6 * 2 = 12\n",
      "6 * 3 = 18\n",
      "6 * 4 = 24\n",
      "6 * 5 = 30\n",
      "6 * 6 = 36\n",
      "6 * 7 = 42\n",
      "6 * 8 = 48\n",
      "6 * 9 = 54\n",
      "## 7단 ##\n",
      "7 * 1 = 7\n",
      "7 * 2 = 14\n",
      "7 * 3 = 21\n",
      "7 * 4 = 28\n",
      "7 * 5 = 35\n",
      "7 * 6 = 42\n",
      "7 * 7 = 49\n",
      "7 * 8 = 56\n",
      "7 * 9 = 63\n",
      "## 8단 ##\n",
      "8 * 1 = 8\n",
      "8 * 2 = 16\n",
      "8 * 3 = 24\n",
      "8 * 4 = 32\n",
      "8 * 5 = 40\n",
      "8 * 6 = 48\n",
      "8 * 7 = 56\n",
      "8 * 8 = 64\n",
      "8 * 9 = 72\n",
      "## 9단 ##\n",
      "9 * 1 = 9\n",
      "9 * 2 = 18\n",
      "9 * 3 = 27\n",
      "9 * 4 = 36\n",
      "9 * 5 = 45\n",
      "9 * 6 = 54\n",
      "9 * 7 = 63\n",
      "9 * 8 = 72\n",
      "9 * 9 = 81\n"
     ]
    }
   ],
   "source": [
    "# 재귀_구구단 출력\n",
    "def gugu(dan, num):\n",
    "    print('%d * %d = %d' %(dan, num, dan*num))\n",
    "    if num < 9:\n",
    "        gugu(dan, num+1)\n",
    "\n",
    "for dan in range(2, 10):\n",
    "    print('## %d단 ##' %(dan))\n",
    "    gugu(dan, 1)"
   ]
  },
  {
   "cell_type": "code",
   "execution_count": 44,
   "id": "42c78905-2754-4cca-b993-2779b0dd37e9",
   "metadata": {},
   "outputs": [
    {
     "name": "stdout",
     "output_type": "stream",
     "text": [
      "2^8\n",
      " 2*2^(8-1)\n",
      "  2*2^(7-1)\n",
      "   2*2^(6-1)\n",
      "    2*2^(5-1)\n",
      "     2*2^(4-1)\n",
      "      2*2^(3-1)\n",
      "       2*2^(2-1)\n",
      "        2*2^(1-1)\n",
      "답 ---> 256\n"
     ]
    }
   ],
   "source": [
    "# 재귀_N제곱 계산하기\n",
    "tab = ''\n",
    "def pow(x, n):\n",
    "    global tab\n",
    "    tab += ' '\n",
    "    if n == 0:\n",
    "        return 1\n",
    "    print(tab + '%d*%d^(%d-%d)' %(x, x, n, 1))\n",
    "    return x * pow(x, n-1)\n",
    "\n",
    "print('2^8')\n",
    "print('답 --->', pow(2, 8))\n"
   ]
  },
  {
   "cell_type": "code",
   "execution_count": 45,
   "id": "d46df38d-76a8-4fc1-88b4-05a6b17b2dad",
   "metadata": {},
   "outputs": [
    {
     "name": "stdout",
     "output_type": "stream",
     "text": [
      "[156, 116, 158, 223, 58, 247, 245, 55, 118, 59, 69]\n",
      "배열 합계 -> 1504\n"
     ]
    }
   ],
   "source": [
    "# 재귀_배열의 합\n",
    "import random\n",
    "\n",
    "def arySum(arr, n):\n",
    "    if n <= 0:\n",
    "        return arr[0]\n",
    "    return arySum(arr, n-1) + arr[n]\n",
    "\n",
    "ary = [random.randint(0, 255) for _ in range\n",
    "       (random.randint(10, 20))]\n",
    "print(ary)\n",
    "print('배열 합계 ->', arySum(ary, len(ary)-1))"
   ]
  },
  {
   "cell_type": "code",
   "execution_count": null,
   "id": "caf6b1a2-babd-4a30-b991-02c8f88e44a7",
   "metadata": {},
   "outputs": [],
   "source": []
  }
 ],
 "metadata": {
  "kernelspec": {
   "display_name": "Python 3 (ipykernel)",
   "language": "python",
   "name": "python3"
  },
  "language_info": {
   "codemirror_mode": {
    "name": "ipython",
    "version": 3
   },
   "file_extension": ".py",
   "mimetype": "text/x-python",
   "name": "python",
   "nbconvert_exporter": "python",
   "pygments_lexer": "ipython3",
   "version": "3.10.14"
  }
 },
 "nbformat": 4,
 "nbformat_minor": 5
}
