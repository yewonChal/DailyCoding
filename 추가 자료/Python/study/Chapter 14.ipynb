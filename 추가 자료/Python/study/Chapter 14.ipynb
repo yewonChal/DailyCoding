{
 "cells": [
  {
   "cell_type": "markdown",
   "id": "4fffa3f7-cfc6-4ff7-99fe-935aacd2a319",
   "metadata": {},
   "source": [
    "# Chapter 14 | Pandas 데이터 분석"
   ]
  },
  {
   "cell_type": "markdown",
   "id": "7a11f2e9-d8d9-4484-883a-ecb73dc7fafe",
   "metadata": {},
   "source": [
    "# Pandas란?\n",
    "  : 데이터 분석에서 가장 인기있는 파이썬 패키지\n",
    "  \n",
    "  : 열과 행으로 구성된 테이블 형태의 데이터를 다루는 데 주로 사용\n",
    "  \n",
    "  \n",
    "- Numpy와의 공통점과 차이점으로 확인\n",
    "  1) 공통점\n",
    "  : 배열 기반 연산과 for문(반복문) 없이 계산하는 벡터화 계산을 기반으로 한다.\n",
    "\n",
    "  2) 차이점\n",
    "  : Numpy는 주로 같은 형에 대한 배열을 다루는 반면, Pandas는 이질적인 자료형을 다루는 것에 적합하다.\n",
    "\n",
    "- Series : 1차원 배열 구조\n",
    "- DataFrame : 2차원 배열 구조"
   ]
  },
  {
   "cell_type": "code",
   "execution_count": 1,
   "id": "ad8bc137-60f4-4a8d-b9be-ce9719ac3861",
   "metadata": {},
   "outputs": [],
   "source": [
    "import pandas as pd\n",
    "import numpy as np"
   ]
  },
  {
   "cell_type": "code",
   "execution_count": 5,
   "id": "ccfff126-fa58-4ef8-b816-0af9651b77d2",
   "metadata": {},
   "outputs": [
    {
     "name": "stdout",
     "output_type": "stream",
     "text": [
      "0    1.0\n",
      "1    3.0\n",
      "2    4.0\n",
      "3    NaN\n",
      "4    6.0\n",
      "5    8.0\n",
      "dtype: float64\n",
      "nan\n"
     ]
    }
   ],
   "source": [
    "# Series 객체 생성\n",
    "s = pd.Series([1, 3, 4, np.nan, 6, 8]) # np.nan = 결측값\n",
    "print(s)\n",
    "print(s[3]) # 3번째 칸에 어떤 값이 들어있는지 출력"
   ]
  },
  {
   "cell_type": "code",
   "execution_count": 15,
   "id": "4eb55941-0599-40da-81a4-afc2eeb650e0",
   "metadata": {},
   "outputs": [
    {
     "data": {
      "text/plain": [
       "array([ 1.,  3.,  4., nan,  6.,  8.])"
      ]
     },
     "execution_count": 15,
     "metadata": {},
     "output_type": "execute_result"
    }
   ],
   "source": [
    "s.values"
   ]
  },
  {
   "cell_type": "code",
   "execution_count": 12,
   "id": "d39173a0-a04a-4f94-9ad9-a21860deca0d",
   "metadata": {},
   "outputs": [
    {
     "name": "stdout",
     "output_type": "stream",
     "text": [
      "a    10\n",
      "b    20\n",
      "c    30\n",
      "d    40\n",
      "e    50\n",
      "dtype: int64 \n",
      "\n",
      "30 \n",
      "\n",
      "d    40\n",
      "a    10\n",
      "dtype: int64 \n",
      "\n",
      "b    20\n",
      "c    30\n",
      "d    40\n",
      "dtype: int64 \n",
      "\n"
     ]
    }
   ],
   "source": [
    "# Series 인덱스 설정\n",
    "obj = pd.Series([10, 20, 30, 40, 50], index=['a', 'b', 'c', 'd', 'e'])\n",
    "print(obj, '\\n')\n",
    "\n",
    "print(obj['c'], '\\n')\n",
    "print(obj[['d', 'a']], '\\n')\n",
    "print(obj[1:4], '\\n')"
   ]
  },
  {
   "cell_type": "code",
   "execution_count": 17,
   "id": "7997e5b2-9558-46a5-9542-e0233cfaf5d3",
   "metadata": {},
   "outputs": [
    {
     "name": "stdout",
     "output_type": "stream",
     "text": [
      "Index([0, 1, 2, 3, 4, 'c'], dtype='object')\n"
     ]
    },
    {
     "data": {
      "text/plain": [
       "0    10\n",
       "1    20\n",
       "2    30\n",
       "3    40\n",
       "4    50\n",
       "c   -12\n",
       "dtype: int64"
      ]
     },
     "execution_count": 17,
     "metadata": {},
     "output_type": "execute_result"
    }
   ],
   "source": [
    "print(obj.index) # index값 직접 지정\n",
    "obj['c'] = -12 # c에 -12 대입\n",
    "obj"
   ]
  },
  {
   "cell_type": "code",
   "execution_count": 19,
   "id": "580e50fe-ac22-4095-8ee0-4dbd0c81bcfe",
   "metadata": {},
   "outputs": [
    {
     "name": "stdout",
     "output_type": "stream",
     "text": [
      "0    100\n",
      "1    200\n",
      "2    300\n",
      "3    400\n",
      "4    500\n",
      "dtype: int64 \n",
      "\n",
      "2    30\n",
      "3    40\n",
      "4    50\n",
      "dtype: int64\n"
     ]
    }
   ],
   "source": [
    "# Series 산술연산과 조건식\n",
    "import pandas as pd\n",
    "\n",
    "obj = pd.Series([10, 20, 30, 40, 50])\n",
    "print(obj * 10, '\\n') # obj의 각 값에 10씩 곱해준다.\n",
    "\n",
    "print(obj[obj > 25]) # obj의 값이 25 이상인 값만 출력해준다."
   ]
  },
  {
   "cell_type": "code",
   "execution_count": 22,
   "id": "3ca35d37-447d-4a29-a463-10e9dcb21aee",
   "metadata": {},
   "outputs": [
    {
     "name": "stdout",
     "output_type": "stream",
     "text": [
      "서울    9765623\n",
      "부산    3441453\n",
      "대구    2461769\n",
      "dtype: int64 \n",
      "\n",
      "서울 : 9765623명\n",
      "부산 : 3441453명\n",
      "대구 : 2461769명\n"
     ]
    }
   ],
   "source": [
    "# Series에서 for문 활용\n",
    "import pandas as pd\n",
    "\n",
    "pop = pd.Series([9765623, 3441453, 2461769], index=['서울', '부산', '대구'])\n",
    "\n",
    "print(pop, '\\n')\n",
    "      \n",
    "for i, v in pop.items() : # 딕셔너리 형태로도 생각할 수 있다.\n",
    "    print('%s : %d명' % (i, v))"
   ]
  },
  {
   "cell_type": "code",
   "execution_count": 23,
   "id": "939d4f96-bda4-48fb-ac1e-cd465c3359cb",
   "metadata": {},
   "outputs": [
    {
     "name": "stdout",
     "output_type": "stream",
     "text": [
      "서울    9765623.0\n",
      "부산    3441453.0\n",
      "대구    2461769.0\n",
      "광주          NaN\n",
      "대전          NaN\n",
      "dtype: float64 \n",
      "\n",
      "광주시 인구 : 149336명\n"
     ]
    }
   ],
   "source": [
    "# Series에서 딕셔너리 사용(Series를 애초에 딕셔너리 형태로 만들 수 있다.)\n",
    "import pandas as pd\n",
    "\n",
    "pop = pd.Series({'서울':9765623, '부산':3441453, '대구':2461769}, index = ['서울', '부산', '대구', '광주', '대전'])\n",
    "print(pop, '\\n')\n",
    "\n",
    "pop['광주'] = 149336\n",
    "print('광주시 인구 : %.0f명' % pop['광주'])"
   ]
  },
  {
   "cell_type": "code",
   "execution_count": 25,
   "id": "ae6f43d5-d5df-4450-a27c-f965fdb8e6f5",
   "metadata": {},
   "outputs": [
    {
     "data": {
      "text/plain": [
       "서울    9765623\n",
       "부산    3441453\n",
       "대구    2461769\n",
       "dtype: int64"
      ]
     },
     "execution_count": 25,
     "metadata": {},
     "output_type": "execute_result"
    }
   ],
   "source": [
    "# 딕셔너리 자체를 판다스 내에 삽입하는 것도 가능하다.\n",
    "dic = {'서울':9765623, '부산':3441453, '대구':2461769}\n",
    "ser = pd.Series(dic)\n",
    "ser"
   ]
  },
  {
   "cell_type": "code",
   "execution_count": 28,
   "id": "06b91a62-58e7-48ab-b180-5c9b306c22e5",
   "metadata": {},
   "outputs": [
    {
     "data": {
      "text/plain": [
       "서울    False\n",
       "부산    False\n",
       "대구    False\n",
       "광주    False\n",
       "대전     True\n",
       "dtype: bool"
      ]
     },
     "execution_count": 28,
     "metadata": {},
     "output_type": "execute_result"
    }
   ],
   "source": [
    "pd.isnull(pop) # 결측값 확인"
   ]
  },
  {
   "cell_type": "code",
   "execution_count": 29,
   "id": "c5e2e729-72c2-4a5a-ba63-7b87449b8f9d",
   "metadata": {},
   "outputs": [
    {
     "data": {
      "text/plain": [
       "서울     True\n",
       "부산     True\n",
       "대구     True\n",
       "광주     True\n",
       "대전    False\n",
       "dtype: bool"
      ]
     },
     "execution_count": 29,
     "metadata": {},
     "output_type": "execute_result"
    }
   ],
   "source": [
    "pd.notnull(pop) # 비어있지 않은지(위와 반대의 상황) 출력"
   ]
  },
  {
   "cell_type": "code",
   "execution_count": 30,
   "id": "003c6809-03a9-4f3b-9570-06b9f6cfcb34",
   "metadata": {},
   "outputs": [
    {
     "name": "stdout",
     "output_type": "stream",
     "text": [
      "서울    9765623.0\n",
      "부산    3441453.0\n",
      "대구    2461769.0\n",
      "광주     149336.0\n",
      "대전          NaN\n",
      "dtype: float64 \n",
      "\n",
      "서울    9765623\n",
      "부산    3441453\n",
      "대구    2461769\n",
      "dtype: int64\n"
     ]
    }
   ],
   "source": [
    "print(pop, '\\n')\n",
    "print(ser)"
   ]
  },
  {
   "cell_type": "code",
   "execution_count": 33,
   "id": "7c8e2bf0-c1f5-45f8-bac5-242253d698dc",
   "metadata": {},
   "outputs": [
    {
     "data": {
      "text/plain": [
       "광주           NaN\n",
       "대구     4923538.0\n",
       "대전           NaN\n",
       "부산     6882906.0\n",
       "서울    19531246.0\n",
       "dtype: float64"
      ]
     },
     "execution_count": 33,
     "metadata": {},
     "output_type": "execute_result"
    }
   ],
   "source": [
    "pop + ser # pop과 ser을 더해주면, 값이 서로 더해진 모습을 살펴볼 수 있다."
   ]
  },
  {
   "cell_type": "code",
   "execution_count": 34,
   "id": "6f0d27ad-2489-4bc0-b327-2f8cefa6ed9c",
   "metadata": {},
   "outputs": [
    {
     "data": {
      "text/plain": [
       "도시\n",
       "서울    9765623.0\n",
       "부산    3441453.0\n",
       "대구    2461769.0\n",
       "광주     149336.0\n",
       "대전          NaN\n",
       "Name: 인구통계, dtype: float64"
      ]
     },
     "execution_count": 34,
     "metadata": {},
     "output_type": "execute_result"
    }
   ],
   "source": [
    "pop.name = \"인구통계\"\n",
    "pop.index.name = \"도시\"\n",
    "pop"
   ]
  },
  {
   "cell_type": "code",
   "execution_count": 37,
   "id": "229267b8-1c6b-4fdb-a381-cbc28fab0eae",
   "metadata": {},
   "outputs": [
    {
     "data": {
      "text/plain": [
       "김    10\n",
       "이    20\n",
       "박    30\n",
       "최    40\n",
       "백    50\n",
       "dtype: int64"
      ]
     },
     "execution_count": 37,
     "metadata": {},
     "output_type": "execute_result"
    }
   ],
   "source": [
    "obj.index = ['김', '이', '박', '최', '백']\n",
    "obj # 위에서 설정했던 값이 본 코드에서 작성한 리스트에 삽입된 모습을 살펴볼 수 있다."
   ]
  },
  {
   "cell_type": "code",
   "execution_count": 40,
   "id": "aa35d0e5-22f8-4cbd-a627-e35357f3d74b",
   "metadata": {},
   "outputs": [
    {
     "name": "stdout",
     "output_type": "stream",
     "text": [
      "    이름     아이디  비밀번호\n",
      "0  홍지수  jshong  1234\n",
      "1  안지영   jyahn  1234\n",
      "2  김성수   sukim  1234\n",
      "3  최예린  yrchoi  1234\n"
     ]
    }
   ],
   "source": [
    "# DataFrame 객체 생성\n",
    "import pandas as pd\n",
    "data = {'이름':['홍지수', '안지영', '김성수', '최예린'], \n",
    "'아이디' : ['jshong', 'jyahn', 'sukim', 'yrchoi'],\n",
    "'비밀번호' : ['1234', '1234', '1234', '1234']} # 딕셔너리 먼저 생성 후\n",
    "\n",
    "frame = pd.DataFrame(data) # 데이터 형식으로 바꾼 것\n",
    "print(frame)"
   ]
  },
  {
   "cell_type": "code",
   "execution_count": 42,
   "id": "fccfaa5a-588a-4a68-a314-beaa6312faeb",
   "metadata": {},
   "outputs": [
    {
     "name": "stdout",
     "output_type": "stream",
     "text": [
      "     이름           전화번호  나이   주소\n",
      "01  김영준  010-3535-4576  20  NaN\n",
      "02  한지원  010-1295-7899  23  NaN\n"
     ]
    }
   ],
   "source": [
    "# DataFrame 열과 행 인덱스 설정\n",
    "import pandas as pd\n",
    "member = {'이름':['김영준','한지원'], '나이':[20, 23], '전화번호':['010-3535-4576', '010-1295-7899']}\n",
    "\n",
    "frame = pd.DataFrame(member, columns=['이름', '전화번호', '나이', '주소'], index=['01', '02'])\n",
    "print(frame) \n",
    "# 최종 출력값을 살펴보면, 입력할 땐 이름, 나이 등의 순서로 입력였지만,\n",
    "# 출력 시 frame의 순서에 맞게 출력된 모습을 살펴볼 수 있다."
   ]
  },
  {
   "cell_type": "code",
   "execution_count": 43,
   "id": "417da413-e032-4bfc-a5af-d33971a07a81",
   "metadata": {},
   "outputs": [
    {
     "data": {
      "text/html": [
       "<div>\n",
       "<style scoped>\n",
       "    .dataframe tbody tr th:only-of-type {\n",
       "        vertical-align: middle;\n",
       "    }\n",
       "\n",
       "    .dataframe tbody tr th {\n",
       "        vertical-align: top;\n",
       "    }\n",
       "\n",
       "    .dataframe thead th {\n",
       "        text-align: right;\n",
       "    }\n",
       "</style>\n",
       "<table border=\"1\" class=\"dataframe\">\n",
       "  <thead>\n",
       "    <tr style=\"text-align: right;\">\n",
       "      <th></th>\n",
       "      <th>지역</th>\n",
       "      <th>년도</th>\n",
       "      <th>인구</th>\n",
       "    </tr>\n",
       "  </thead>\n",
       "  <tbody>\n",
       "    <tr>\n",
       "      <th>0</th>\n",
       "      <td>대전</td>\n",
       "      <td>2022</td>\n",
       "      <td>1550</td>\n",
       "    </tr>\n",
       "    <tr>\n",
       "      <th>1</th>\n",
       "      <td>대전</td>\n",
       "      <td>2023</td>\n",
       "      <td>1556</td>\n",
       "    </tr>\n",
       "    <tr>\n",
       "      <th>2</th>\n",
       "      <td>대전</td>\n",
       "      <td>2024</td>\n",
       "      <td>1552</td>\n",
       "    </tr>\n",
       "    <tr>\n",
       "      <th>3</th>\n",
       "      <td>서울</td>\n",
       "      <td>2022</td>\n",
       "      <td>9941</td>\n",
       "    </tr>\n",
       "    <tr>\n",
       "      <th>4</th>\n",
       "      <td>서울</td>\n",
       "      <td>2023</td>\n",
       "      <td>9825</td>\n",
       "    </tr>\n",
       "    <tr>\n",
       "      <th>5</th>\n",
       "      <td>서울</td>\n",
       "      <td>2024</td>\n",
       "      <td>9999</td>\n",
       "    </tr>\n",
       "    <tr>\n",
       "      <th>6</th>\n",
       "      <td>부산</td>\n",
       "      <td>2022</td>\n",
       "      <td>7856</td>\n",
       "    </tr>\n",
       "    <tr>\n",
       "      <th>7</th>\n",
       "      <td>부산</td>\n",
       "      <td>2023</td>\n",
       "      <td>7777</td>\n",
       "    </tr>\n",
       "    <tr>\n",
       "      <th>8</th>\n",
       "      <td>부산</td>\n",
       "      <td>2024</td>\n",
       "      <td>7456</td>\n",
       "    </tr>\n",
       "  </tbody>\n",
       "</table>\n",
       "</div>"
      ],
      "text/plain": [
       "   지역    년도    인구\n",
       "0  대전  2022  1550\n",
       "1  대전  2023  1556\n",
       "2  대전  2024  1552\n",
       "3  서울  2022  9941\n",
       "4  서울  2023  9825\n",
       "5  서울  2024  9999\n",
       "6  부산  2022  7856\n",
       "7  부산  2023  7777\n",
       "8  부산  2024  7456"
      ]
     },
     "execution_count": 43,
     "metadata": {},
     "output_type": "execute_result"
    }
   ],
   "source": [
    "data = {'지역' : ['대전', '대전', '대전', '서울', '서울', '서울', '부산', '부산', '부산'],\n",
    "        '년도' : [2022, 2023, 2024, 2022, 2023, 2024, 2022, 2023, 2024],\n",
    "        '인구' : [1550, 1556, 1552, 9941, 9825, 9999, 7856, 7777, 7456]}\n",
    "\n",
    "frame = pd.DataFrame(data)\n",
    "frame"
   ]
  },
  {
   "cell_type": "code",
   "execution_count": 45,
   "id": "2700a4af-9122-47a5-882b-0e00d46b7815",
   "metadata": {},
   "outputs": [
    {
     "data": {
      "text/html": [
       "<div>\n",
       "<style scoped>\n",
       "    .dataframe tbody tr th:only-of-type {\n",
       "        vertical-align: middle;\n",
       "    }\n",
       "\n",
       "    .dataframe tbody tr th {\n",
       "        vertical-align: top;\n",
       "    }\n",
       "\n",
       "    .dataframe thead th {\n",
       "        text-align: right;\n",
       "    }\n",
       "</style>\n",
       "<table border=\"1\" class=\"dataframe\">\n",
       "  <thead>\n",
       "    <tr style=\"text-align: right;\">\n",
       "      <th></th>\n",
       "      <th>지역</th>\n",
       "      <th>년도</th>\n",
       "      <th>인구</th>\n",
       "    </tr>\n",
       "  </thead>\n",
       "  <tbody>\n",
       "    <tr>\n",
       "      <th>0</th>\n",
       "      <td>대전</td>\n",
       "      <td>2022</td>\n",
       "      <td>1550</td>\n",
       "    </tr>\n",
       "    <tr>\n",
       "      <th>1</th>\n",
       "      <td>대전</td>\n",
       "      <td>2023</td>\n",
       "      <td>1556</td>\n",
       "    </tr>\n",
       "    <tr>\n",
       "      <th>2</th>\n",
       "      <td>대전</td>\n",
       "      <td>2024</td>\n",
       "      <td>1552</td>\n",
       "    </tr>\n",
       "    <tr>\n",
       "      <th>3</th>\n",
       "      <td>서울</td>\n",
       "      <td>2022</td>\n",
       "      <td>9941</td>\n",
       "    </tr>\n",
       "    <tr>\n",
       "      <th>4</th>\n",
       "      <td>서울</td>\n",
       "      <td>2023</td>\n",
       "      <td>9825</td>\n",
       "    </tr>\n",
       "  </tbody>\n",
       "</table>\n",
       "</div>"
      ],
      "text/plain": [
       "   지역    년도    인구\n",
       "0  대전  2022  1550\n",
       "1  대전  2023  1556\n",
       "2  대전  2024  1552\n",
       "3  서울  2022  9941\n",
       "4  서울  2023  9825"
      ]
     },
     "execution_count": 45,
     "metadata": {},
     "output_type": "execute_result"
    }
   ],
   "source": [
    "frame.head() # 상위 5개 데이터 출력"
   ]
  },
  {
   "cell_type": "code",
   "execution_count": 48,
   "id": "f1e412e6-fef3-4d79-948f-59dc8ae4159d",
   "metadata": {},
   "outputs": [
    {
     "data": {
      "text/html": [
       "<div>\n",
       "<style scoped>\n",
       "    .dataframe tbody tr th:only-of-type {\n",
       "        vertical-align: middle;\n",
       "    }\n",
       "\n",
       "    .dataframe tbody tr th {\n",
       "        vertical-align: top;\n",
       "    }\n",
       "\n",
       "    .dataframe thead th {\n",
       "        text-align: right;\n",
       "    }\n",
       "</style>\n",
       "<table border=\"1\" class=\"dataframe\">\n",
       "  <thead>\n",
       "    <tr style=\"text-align: right;\">\n",
       "      <th></th>\n",
       "      <th>지역</th>\n",
       "      <th>인구</th>\n",
       "      <th>년도</th>\n",
       "    </tr>\n",
       "  </thead>\n",
       "  <tbody>\n",
       "    <tr>\n",
       "      <th>0</th>\n",
       "      <td>대전</td>\n",
       "      <td>1550</td>\n",
       "      <td>2022</td>\n",
       "    </tr>\n",
       "    <tr>\n",
       "      <th>1</th>\n",
       "      <td>대전</td>\n",
       "      <td>1556</td>\n",
       "      <td>2023</td>\n",
       "    </tr>\n",
       "    <tr>\n",
       "      <th>2</th>\n",
       "      <td>대전</td>\n",
       "      <td>1552</td>\n",
       "      <td>2024</td>\n",
       "    </tr>\n",
       "    <tr>\n",
       "      <th>3</th>\n",
       "      <td>서울</td>\n",
       "      <td>9941</td>\n",
       "      <td>2022</td>\n",
       "    </tr>\n",
       "    <tr>\n",
       "      <th>4</th>\n",
       "      <td>서울</td>\n",
       "      <td>9825</td>\n",
       "      <td>2023</td>\n",
       "    </tr>\n",
       "    <tr>\n",
       "      <th>5</th>\n",
       "      <td>서울</td>\n",
       "      <td>9999</td>\n",
       "      <td>2024</td>\n",
       "    </tr>\n",
       "    <tr>\n",
       "      <th>6</th>\n",
       "      <td>부산</td>\n",
       "      <td>7856</td>\n",
       "      <td>2022</td>\n",
       "    </tr>\n",
       "    <tr>\n",
       "      <th>7</th>\n",
       "      <td>부산</td>\n",
       "      <td>7777</td>\n",
       "      <td>2023</td>\n",
       "    </tr>\n",
       "    <tr>\n",
       "      <th>8</th>\n",
       "      <td>부산</td>\n",
       "      <td>7456</td>\n",
       "      <td>2024</td>\n",
       "    </tr>\n",
       "  </tbody>\n",
       "</table>\n",
       "</div>"
      ],
      "text/plain": [
       "   지역    인구    년도\n",
       "0  대전  1550  2022\n",
       "1  대전  1556  2023\n",
       "2  대전  1552  2024\n",
       "3  서울  9941  2022\n",
       "4  서울  9825  2023\n",
       "5  서울  9999  2024\n",
       "6  부산  7856  2022\n",
       "7  부산  7777  2023\n",
       "8  부산  7456  2024"
      ]
     },
     "execution_count": 48,
     "metadata": {},
     "output_type": "execute_result"
    }
   ],
   "source": [
    "pd.DataFrame(data, columns = ['지역', '인구', '년도'])"
   ]
  },
  {
   "cell_type": "code",
   "execution_count": 52,
   "id": "4991299c-2a5e-477f-9a34-9a6212b42c12",
   "metadata": {},
   "outputs": [
    {
     "data": {
      "text/html": [
       "<div>\n",
       "<style scoped>\n",
       "    .dataframe tbody tr th:only-of-type {\n",
       "        vertical-align: middle;\n",
       "    }\n",
       "\n",
       "    .dataframe tbody tr th {\n",
       "        vertical-align: top;\n",
       "    }\n",
       "\n",
       "    .dataframe thead th {\n",
       "        text-align: right;\n",
       "    }\n",
       "</style>\n",
       "<table border=\"1\" class=\"dataframe\">\n",
       "  <thead>\n",
       "    <tr style=\"text-align: right;\">\n",
       "      <th></th>\n",
       "      <th>지역</th>\n",
       "      <th>인구</th>\n",
       "      <th>년도</th>\n",
       "      <th>자산</th>\n",
       "    </tr>\n",
       "  </thead>\n",
       "  <tbody>\n",
       "    <tr>\n",
       "      <th>1</th>\n",
       "      <td>대전</td>\n",
       "      <td>1550</td>\n",
       "      <td>2022</td>\n",
       "      <td>NaN</td>\n",
       "    </tr>\n",
       "    <tr>\n",
       "      <th>2</th>\n",
       "      <td>대전</td>\n",
       "      <td>1556</td>\n",
       "      <td>2023</td>\n",
       "      <td>NaN</td>\n",
       "    </tr>\n",
       "    <tr>\n",
       "      <th>3</th>\n",
       "      <td>대전</td>\n",
       "      <td>1552</td>\n",
       "      <td>2024</td>\n",
       "      <td>NaN</td>\n",
       "    </tr>\n",
       "    <tr>\n",
       "      <th>4</th>\n",
       "      <td>서울</td>\n",
       "      <td>9941</td>\n",
       "      <td>2022</td>\n",
       "      <td>NaN</td>\n",
       "    </tr>\n",
       "    <tr>\n",
       "      <th>5</th>\n",
       "      <td>서울</td>\n",
       "      <td>9825</td>\n",
       "      <td>2023</td>\n",
       "      <td>NaN</td>\n",
       "    </tr>\n",
       "    <tr>\n",
       "      <th>6</th>\n",
       "      <td>서울</td>\n",
       "      <td>9999</td>\n",
       "      <td>2024</td>\n",
       "      <td>NaN</td>\n",
       "    </tr>\n",
       "    <tr>\n",
       "      <th>7</th>\n",
       "      <td>부산</td>\n",
       "      <td>7856</td>\n",
       "      <td>2022</td>\n",
       "      <td>NaN</td>\n",
       "    </tr>\n",
       "    <tr>\n",
       "      <th>8</th>\n",
       "      <td>부산</td>\n",
       "      <td>7777</td>\n",
       "      <td>2023</td>\n",
       "      <td>NaN</td>\n",
       "    </tr>\n",
       "    <tr>\n",
       "      <th>9</th>\n",
       "      <td>부산</td>\n",
       "      <td>7456</td>\n",
       "      <td>2024</td>\n",
       "      <td>NaN</td>\n",
       "    </tr>\n",
       "  </tbody>\n",
       "</table>\n",
       "</div>"
      ],
      "text/plain": [
       "   지역    인구    년도   자산\n",
       "1  대전  1550  2022  NaN\n",
       "2  대전  1556  2023  NaN\n",
       "3  대전  1552  2024  NaN\n",
       "4  서울  9941  2022  NaN\n",
       "5  서울  9825  2023  NaN\n",
       "6  서울  9999  2024  NaN\n",
       "7  부산  7856  2022  NaN\n",
       "8  부산  7777  2023  NaN\n",
       "9  부산  7456  2024  NaN"
      ]
     },
     "execution_count": 52,
     "metadata": {},
     "output_type": "execute_result"
    }
   ],
   "source": [
    "frame2 = pd.DataFrame(data, columns = ['지역', '인구', '년도', '자산'],\n",
    "                      index=[1, 2, 3, 4, 5, 6, 7, 8, 9])\n",
    "frame2"
   ]
  },
  {
   "cell_type": "code",
   "execution_count": 53,
   "id": "4b92430c-b8fa-4e22-b946-7dc86301223f",
   "metadata": {},
   "outputs": [
    {
     "data": {
      "text/plain": [
       "Index(['지역', '인구', '년도', '자산'], dtype='object')"
      ]
     },
     "execution_count": 53,
     "metadata": {},
     "output_type": "execute_result"
    }
   ],
   "source": [
    "frame2.columns"
   ]
  },
  {
   "cell_type": "code",
   "execution_count": 54,
   "id": "5cd49b29-4732-4eba-850b-c63de354d66b",
   "metadata": {},
   "outputs": [
    {
     "data": {
      "text/plain": [
       "1    대전\n",
       "2    대전\n",
       "3    대전\n",
       "4    서울\n",
       "5    서울\n",
       "6    서울\n",
       "7    부산\n",
       "8    부산\n",
       "9    부산\n",
       "Name: 지역, dtype: object"
      ]
     },
     "execution_count": 54,
     "metadata": {},
     "output_type": "execute_result"
    }
   ],
   "source": [
    "frame2['지역']"
   ]
  },
  {
   "cell_type": "code",
   "execution_count": 55,
   "id": "f67dd631-d3a8-4bc3-9355-9378a7aec50a",
   "metadata": {},
   "outputs": [
    {
     "data": {
      "text/plain": [
       "0    대전\n",
       "1    대전\n",
       "2    대전\n",
       "3    서울\n",
       "4    서울\n",
       "5    서울\n",
       "6    부산\n",
       "7    부산\n",
       "8    부산\n",
       "Name: 지역, dtype: object"
      ]
     },
     "execution_count": 55,
     "metadata": {},
     "output_type": "execute_result"
    }
   ],
   "source": [
    "frame.지역"
   ]
  },
  {
   "cell_type": "code",
   "execution_count": 56,
   "id": "88f884cd-e5cc-4fae-98d1-36bba89a3389",
   "metadata": {},
   "outputs": [
    {
     "data": {
      "text/html": [
       "<div>\n",
       "<style scoped>\n",
       "    .dataframe tbody tr th:only-of-type {\n",
       "        vertical-align: middle;\n",
       "    }\n",
       "\n",
       "    .dataframe tbody tr th {\n",
       "        vertical-align: top;\n",
       "    }\n",
       "\n",
       "    .dataframe thead th {\n",
       "        text-align: right;\n",
       "    }\n",
       "</style>\n",
       "<table border=\"1\" class=\"dataframe\">\n",
       "  <thead>\n",
       "    <tr style=\"text-align: right;\">\n",
       "      <th></th>\n",
       "      <th>지역</th>\n",
       "      <th>인구</th>\n",
       "      <th>년도</th>\n",
       "      <th>자산</th>\n",
       "    </tr>\n",
       "  </thead>\n",
       "  <tbody>\n",
       "    <tr>\n",
       "      <th>1</th>\n",
       "      <td>대전</td>\n",
       "      <td>1550</td>\n",
       "      <td>2022</td>\n",
       "      <td>NaN</td>\n",
       "    </tr>\n",
       "    <tr>\n",
       "      <th>2</th>\n",
       "      <td>대전</td>\n",
       "      <td>1556</td>\n",
       "      <td>2023</td>\n",
       "      <td>NaN</td>\n",
       "    </tr>\n",
       "    <tr>\n",
       "      <th>3</th>\n",
       "      <td>대전</td>\n",
       "      <td>1552</td>\n",
       "      <td>2024</td>\n",
       "      <td>NaN</td>\n",
       "    </tr>\n",
       "    <tr>\n",
       "      <th>4</th>\n",
       "      <td>서울</td>\n",
       "      <td>9941</td>\n",
       "      <td>2022</td>\n",
       "      <td>NaN</td>\n",
       "    </tr>\n",
       "    <tr>\n",
       "      <th>5</th>\n",
       "      <td>서울</td>\n",
       "      <td>9825</td>\n",
       "      <td>2023</td>\n",
       "      <td>NaN</td>\n",
       "    </tr>\n",
       "    <tr>\n",
       "      <th>6</th>\n",
       "      <td>서울</td>\n",
       "      <td>9999</td>\n",
       "      <td>2024</td>\n",
       "      <td>NaN</td>\n",
       "    </tr>\n",
       "    <tr>\n",
       "      <th>7</th>\n",
       "      <td>부산</td>\n",
       "      <td>7856</td>\n",
       "      <td>2022</td>\n",
       "      <td>NaN</td>\n",
       "    </tr>\n",
       "    <tr>\n",
       "      <th>8</th>\n",
       "      <td>부산</td>\n",
       "      <td>7777</td>\n",
       "      <td>2023</td>\n",
       "      <td>NaN</td>\n",
       "    </tr>\n",
       "    <tr>\n",
       "      <th>9</th>\n",
       "      <td>부산</td>\n",
       "      <td>7456</td>\n",
       "      <td>2024</td>\n",
       "      <td>NaN</td>\n",
       "    </tr>\n",
       "  </tbody>\n",
       "</table>\n",
       "</div>"
      ],
      "text/plain": [
       "   지역    인구    년도   자산\n",
       "1  대전  1550  2022  NaN\n",
       "2  대전  1556  2023  NaN\n",
       "3  대전  1552  2024  NaN\n",
       "4  서울  9941  2022  NaN\n",
       "5  서울  9825  2023  NaN\n",
       "6  서울  9999  2024  NaN\n",
       "7  부산  7856  2022  NaN\n",
       "8  부산  7777  2023  NaN\n",
       "9  부산  7456  2024  NaN"
      ]
     },
     "execution_count": 56,
     "metadata": {},
     "output_type": "execute_result"
    }
   ],
   "source": [
    "프레임2 = frame2\n",
    "frame2"
   ]
  },
  {
   "cell_type": "code",
   "execution_count": 58,
   "id": "5ef692a6-4186-4cb1-9218-64b7368d6ef3",
   "metadata": {},
   "outputs": [
    {
     "data": {
      "text/plain": [
       "지역      서울\n",
       "인구    9825\n",
       "년도    2023\n",
       "자산     NaN\n",
       "Name: 5, dtype: object"
      ]
     },
     "execution_count": 58,
     "metadata": {},
     "output_type": "execute_result"
    }
   ],
   "source": [
    "frame2.loc[5] # 해당 위치에 있는 데이터 꺼오기"
   ]
  },
  {
   "cell_type": "code",
   "execution_count": 60,
   "id": "83703fdd-72b5-44b3-b006-00426c270c07",
   "metadata": {},
   "outputs": [
    {
     "data": {
      "text/html": [
       "<div>\n",
       "<style scoped>\n",
       "    .dataframe tbody tr th:only-of-type {\n",
       "        vertical-align: middle;\n",
       "    }\n",
       "\n",
       "    .dataframe tbody tr th {\n",
       "        vertical-align: top;\n",
       "    }\n",
       "\n",
       "    .dataframe thead th {\n",
       "        text-align: right;\n",
       "    }\n",
       "</style>\n",
       "<table border=\"1\" class=\"dataframe\">\n",
       "  <thead>\n",
       "    <tr style=\"text-align: right;\">\n",
       "      <th></th>\n",
       "      <th>지역</th>\n",
       "      <th>인구</th>\n",
       "      <th>년도</th>\n",
       "      <th>자산</th>\n",
       "    </tr>\n",
       "  </thead>\n",
       "  <tbody>\n",
       "    <tr>\n",
       "      <th>1</th>\n",
       "      <td>대전</td>\n",
       "      <td>1550</td>\n",
       "      <td>2022</td>\n",
       "      <td>10</td>\n",
       "    </tr>\n",
       "    <tr>\n",
       "      <th>2</th>\n",
       "      <td>대전</td>\n",
       "      <td>1556</td>\n",
       "      <td>2023</td>\n",
       "      <td>10</td>\n",
       "    </tr>\n",
       "    <tr>\n",
       "      <th>3</th>\n",
       "      <td>대전</td>\n",
       "      <td>1552</td>\n",
       "      <td>2024</td>\n",
       "      <td>10</td>\n",
       "    </tr>\n",
       "    <tr>\n",
       "      <th>4</th>\n",
       "      <td>서울</td>\n",
       "      <td>9941</td>\n",
       "      <td>2022</td>\n",
       "      <td>10</td>\n",
       "    </tr>\n",
       "    <tr>\n",
       "      <th>5</th>\n",
       "      <td>서울</td>\n",
       "      <td>9825</td>\n",
       "      <td>2023</td>\n",
       "      <td>10</td>\n",
       "    </tr>\n",
       "    <tr>\n",
       "      <th>6</th>\n",
       "      <td>서울</td>\n",
       "      <td>9999</td>\n",
       "      <td>2024</td>\n",
       "      <td>10</td>\n",
       "    </tr>\n",
       "    <tr>\n",
       "      <th>7</th>\n",
       "      <td>부산</td>\n",
       "      <td>7856</td>\n",
       "      <td>2022</td>\n",
       "      <td>10</td>\n",
       "    </tr>\n",
       "    <tr>\n",
       "      <th>8</th>\n",
       "      <td>부산</td>\n",
       "      <td>7777</td>\n",
       "      <td>2023</td>\n",
       "      <td>10</td>\n",
       "    </tr>\n",
       "    <tr>\n",
       "      <th>9</th>\n",
       "      <td>부산</td>\n",
       "      <td>7456</td>\n",
       "      <td>2024</td>\n",
       "      <td>10</td>\n",
       "    </tr>\n",
       "  </tbody>\n",
       "</table>\n",
       "</div>"
      ],
      "text/plain": [
       "   지역    인구    년도  자산\n",
       "1  대전  1550  2022  10\n",
       "2  대전  1556  2023  10\n",
       "3  대전  1552  2024  10\n",
       "4  서울  9941  2022  10\n",
       "5  서울  9825  2023  10\n",
       "6  서울  9999  2024  10\n",
       "7  부산  7856  2022  10\n",
       "8  부산  7777  2023  10\n",
       "9  부산  7456  2024  10"
      ]
     },
     "execution_count": 60,
     "metadata": {},
     "output_type": "execute_result"
    }
   ],
   "source": [
    "frame2['자산'] = 10 # 자산에 모두 10 대입\n",
    "frame2"
   ]
  },
  {
   "cell_type": "code",
   "execution_count": 62,
   "id": "d5da4b0a-5c85-426c-b24e-32b41764c206",
   "metadata": {},
   "outputs": [
    {
     "data": {
      "text/html": [
       "<div>\n",
       "<style scoped>\n",
       "    .dataframe tbody tr th:only-of-type {\n",
       "        vertical-align: middle;\n",
       "    }\n",
       "\n",
       "    .dataframe tbody tr th {\n",
       "        vertical-align: top;\n",
       "    }\n",
       "\n",
       "    .dataframe thead th {\n",
       "        text-align: right;\n",
       "    }\n",
       "</style>\n",
       "<table border=\"1\" class=\"dataframe\">\n",
       "  <thead>\n",
       "    <tr style=\"text-align: right;\">\n",
       "      <th></th>\n",
       "      <th>지역</th>\n",
       "      <th>인구</th>\n",
       "      <th>년도</th>\n",
       "      <th>자산</th>\n",
       "    </tr>\n",
       "  </thead>\n",
       "  <tbody>\n",
       "    <tr>\n",
       "      <th>1</th>\n",
       "      <td>대전</td>\n",
       "      <td>1550</td>\n",
       "      <td>2022</td>\n",
       "      <td>0</td>\n",
       "    </tr>\n",
       "    <tr>\n",
       "      <th>2</th>\n",
       "      <td>대전</td>\n",
       "      <td>1556</td>\n",
       "      <td>2023</td>\n",
       "      <td>1</td>\n",
       "    </tr>\n",
       "    <tr>\n",
       "      <th>3</th>\n",
       "      <td>대전</td>\n",
       "      <td>1552</td>\n",
       "      <td>2024</td>\n",
       "      <td>2</td>\n",
       "    </tr>\n",
       "    <tr>\n",
       "      <th>4</th>\n",
       "      <td>서울</td>\n",
       "      <td>9941</td>\n",
       "      <td>2022</td>\n",
       "      <td>3</td>\n",
       "    </tr>\n",
       "    <tr>\n",
       "      <th>5</th>\n",
       "      <td>서울</td>\n",
       "      <td>9825</td>\n",
       "      <td>2023</td>\n",
       "      <td>4</td>\n",
       "    </tr>\n",
       "    <tr>\n",
       "      <th>6</th>\n",
       "      <td>서울</td>\n",
       "      <td>9999</td>\n",
       "      <td>2024</td>\n",
       "      <td>5</td>\n",
       "    </tr>\n",
       "    <tr>\n",
       "      <th>7</th>\n",
       "      <td>부산</td>\n",
       "      <td>7856</td>\n",
       "      <td>2022</td>\n",
       "      <td>6</td>\n",
       "    </tr>\n",
       "    <tr>\n",
       "      <th>8</th>\n",
       "      <td>부산</td>\n",
       "      <td>7777</td>\n",
       "      <td>2023</td>\n",
       "      <td>7</td>\n",
       "    </tr>\n",
       "    <tr>\n",
       "      <th>9</th>\n",
       "      <td>부산</td>\n",
       "      <td>7456</td>\n",
       "      <td>2024</td>\n",
       "      <td>8</td>\n",
       "    </tr>\n",
       "  </tbody>\n",
       "</table>\n",
       "</div>"
      ],
      "text/plain": [
       "   지역    인구    년도  자산\n",
       "1  대전  1550  2022   0\n",
       "2  대전  1556  2023   1\n",
       "3  대전  1552  2024   2\n",
       "4  서울  9941  2022   3\n",
       "5  서울  9825  2023   4\n",
       "6  서울  9999  2024   5\n",
       "7  부산  7856  2022   6\n",
       "8  부산  7777  2023   7\n",
       "9  부산  7456  2024   8"
      ]
     },
     "execution_count": 62,
     "metadata": {},
     "output_type": "execute_result"
    }
   ],
   "source": [
    "frame2['자산'] = np.arange(9)\n",
    "frame2"
   ]
  },
  {
   "cell_type": "code",
   "execution_count": 64,
   "id": "e71ee460-c504-4ffc-996b-da9a8d7ac733",
   "metadata": {},
   "outputs": [
    {
     "data": {
      "text/html": [
       "<div>\n",
       "<style scoped>\n",
       "    .dataframe tbody tr th:only-of-type {\n",
       "        vertical-align: middle;\n",
       "    }\n",
       "\n",
       "    .dataframe tbody tr th {\n",
       "        vertical-align: top;\n",
       "    }\n",
       "\n",
       "    .dataframe thead th {\n",
       "        text-align: right;\n",
       "    }\n",
       "</style>\n",
       "<table border=\"1\" class=\"dataframe\">\n",
       "  <thead>\n",
       "    <tr style=\"text-align: right;\">\n",
       "      <th></th>\n",
       "      <th>지역</th>\n",
       "      <th>인구</th>\n",
       "      <th>년도</th>\n",
       "      <th>자산</th>\n",
       "    </tr>\n",
       "  </thead>\n",
       "  <tbody>\n",
       "    <tr>\n",
       "      <th>1</th>\n",
       "      <td>대전</td>\n",
       "      <td>1550</td>\n",
       "      <td>2022</td>\n",
       "      <td>NaN</td>\n",
       "    </tr>\n",
       "    <tr>\n",
       "      <th>2</th>\n",
       "      <td>대전</td>\n",
       "      <td>1556</td>\n",
       "      <td>2023</td>\n",
       "      <td>NaN</td>\n",
       "    </tr>\n",
       "    <tr>\n",
       "      <th>3</th>\n",
       "      <td>대전</td>\n",
       "      <td>1552</td>\n",
       "      <td>2024</td>\n",
       "      <td>NaN</td>\n",
       "    </tr>\n",
       "    <tr>\n",
       "      <th>4</th>\n",
       "      <td>서울</td>\n",
       "      <td>9941</td>\n",
       "      <td>2022</td>\n",
       "      <td>NaN</td>\n",
       "    </tr>\n",
       "    <tr>\n",
       "      <th>5</th>\n",
       "      <td>서울</td>\n",
       "      <td>9825</td>\n",
       "      <td>2023</td>\n",
       "      <td>20.0</td>\n",
       "    </tr>\n",
       "    <tr>\n",
       "      <th>6</th>\n",
       "      <td>서울</td>\n",
       "      <td>9999</td>\n",
       "      <td>2024</td>\n",
       "      <td>50.0</td>\n",
       "    </tr>\n",
       "    <tr>\n",
       "      <th>7</th>\n",
       "      <td>부산</td>\n",
       "      <td>7856</td>\n",
       "      <td>2022</td>\n",
       "      <td>1.0</td>\n",
       "    </tr>\n",
       "    <tr>\n",
       "      <th>8</th>\n",
       "      <td>부산</td>\n",
       "      <td>7777</td>\n",
       "      <td>2023</td>\n",
       "      <td>NaN</td>\n",
       "    </tr>\n",
       "    <tr>\n",
       "      <th>9</th>\n",
       "      <td>부산</td>\n",
       "      <td>7456</td>\n",
       "      <td>2024</td>\n",
       "      <td>NaN</td>\n",
       "    </tr>\n",
       "  </tbody>\n",
       "</table>\n",
       "</div>"
      ],
      "text/plain": [
       "   지역    인구    년도    자산\n",
       "1  대전  1550  2022   NaN\n",
       "2  대전  1556  2023   NaN\n",
       "3  대전  1552  2024   NaN\n",
       "4  서울  9941  2022   NaN\n",
       "5  서울  9825  2023  20.0\n",
       "6  서울  9999  2024  50.0\n",
       "7  부산  7856  2022   1.0\n",
       "8  부산  7777  2023   NaN\n",
       "9  부산  7456  2024   NaN"
      ]
     },
     "execution_count": 64,
     "metadata": {},
     "output_type": "execute_result"
    }
   ],
   "source": [
    "m = pd.Series([20, 50, 1], index=[5, 6, 7])\n",
    "frame2['자산'] = m\n",
    "frame2 # 대입한 값 외에 NaN이 나타나는 모습(통으로 대입했기 때문에)"
   ]
  },
  {
   "cell_type": "code",
   "execution_count": 69,
   "id": "b3274e6b-835f-4b34-84f5-cb1357c76c58",
   "metadata": {},
   "outputs": [
    {
     "data": {
      "text/html": [
       "<div>\n",
       "<style scoped>\n",
       "    .dataframe tbody tr th:only-of-type {\n",
       "        vertical-align: middle;\n",
       "    }\n",
       "\n",
       "    .dataframe tbody tr th {\n",
       "        vertical-align: top;\n",
       "    }\n",
       "\n",
       "    .dataframe thead th {\n",
       "        text-align: right;\n",
       "    }\n",
       "</style>\n",
       "<table border=\"1\" class=\"dataframe\">\n",
       "  <thead>\n",
       "    <tr style=\"text-align: right;\">\n",
       "      <th></th>\n",
       "      <th>지역</th>\n",
       "      <th>인구</th>\n",
       "      <th>년도</th>\n",
       "      <th>자산</th>\n",
       "      <th>성심당</th>\n",
       "    </tr>\n",
       "  </thead>\n",
       "  <tbody>\n",
       "    <tr>\n",
       "      <th>1</th>\n",
       "      <td>대전</td>\n",
       "      <td>1550</td>\n",
       "      <td>2022</td>\n",
       "      <td>NaN</td>\n",
       "      <td>True</td>\n",
       "    </tr>\n",
       "    <tr>\n",
       "      <th>2</th>\n",
       "      <td>대전</td>\n",
       "      <td>1556</td>\n",
       "      <td>2023</td>\n",
       "      <td>NaN</td>\n",
       "      <td>True</td>\n",
       "    </tr>\n",
       "    <tr>\n",
       "      <th>3</th>\n",
       "      <td>대전</td>\n",
       "      <td>1552</td>\n",
       "      <td>2024</td>\n",
       "      <td>NaN</td>\n",
       "      <td>True</td>\n",
       "    </tr>\n",
       "    <tr>\n",
       "      <th>4</th>\n",
       "      <td>서울</td>\n",
       "      <td>9941</td>\n",
       "      <td>2022</td>\n",
       "      <td>NaN</td>\n",
       "      <td>False</td>\n",
       "    </tr>\n",
       "    <tr>\n",
       "      <th>5</th>\n",
       "      <td>서울</td>\n",
       "      <td>9825</td>\n",
       "      <td>2023</td>\n",
       "      <td>20.0</td>\n",
       "      <td>False</td>\n",
       "    </tr>\n",
       "    <tr>\n",
       "      <th>6</th>\n",
       "      <td>서울</td>\n",
       "      <td>9999</td>\n",
       "      <td>2024</td>\n",
       "      <td>50.0</td>\n",
       "      <td>False</td>\n",
       "    </tr>\n",
       "    <tr>\n",
       "      <th>7</th>\n",
       "      <td>부산</td>\n",
       "      <td>7856</td>\n",
       "      <td>2022</td>\n",
       "      <td>1.0</td>\n",
       "      <td>False</td>\n",
       "    </tr>\n",
       "    <tr>\n",
       "      <th>8</th>\n",
       "      <td>부산</td>\n",
       "      <td>7777</td>\n",
       "      <td>2023</td>\n",
       "      <td>NaN</td>\n",
       "      <td>False</td>\n",
       "    </tr>\n",
       "    <tr>\n",
       "      <th>9</th>\n",
       "      <td>부산</td>\n",
       "      <td>7456</td>\n",
       "      <td>2024</td>\n",
       "      <td>NaN</td>\n",
       "      <td>False</td>\n",
       "    </tr>\n",
       "  </tbody>\n",
       "</table>\n",
       "</div>"
      ],
      "text/plain": [
       "   지역    인구    년도    자산    성심당\n",
       "1  대전  1550  2022   NaN   True\n",
       "2  대전  1556  2023   NaN   True\n",
       "3  대전  1552  2024   NaN   True\n",
       "4  서울  9941  2022   NaN  False\n",
       "5  서울  9825  2023  20.0  False\n",
       "6  서울  9999  2024  50.0  False\n",
       "7  부산  7856  2022   1.0  False\n",
       "8  부산  7777  2023   NaN  False\n",
       "9  부산  7456  2024   NaN  False"
      ]
     },
     "execution_count": 69,
     "metadata": {},
     "output_type": "execute_result"
    }
   ],
   "source": [
    "frame2['성심당'] = frame2.지역 == '대전' # frame2['지역']으로 넣는 것도 가능하다.\n",
    "frame2"
   ]
  },
  {
   "cell_type": "code",
   "execution_count": 70,
   "id": "325d14d5-400d-48ab-ae8f-ec6c1f3689cb",
   "metadata": {},
   "outputs": [
    {
     "data": {
      "text/html": [
       "<div>\n",
       "<style scoped>\n",
       "    .dataframe tbody tr th:only-of-type {\n",
       "        vertical-align: middle;\n",
       "    }\n",
       "\n",
       "    .dataframe tbody tr th {\n",
       "        vertical-align: top;\n",
       "    }\n",
       "\n",
       "    .dataframe thead th {\n",
       "        text-align: right;\n",
       "    }\n",
       "</style>\n",
       "<table border=\"1\" class=\"dataframe\">\n",
       "  <thead>\n",
       "    <tr style=\"text-align: right;\">\n",
       "      <th></th>\n",
       "      <th>지역</th>\n",
       "      <th>인구</th>\n",
       "      <th>년도</th>\n",
       "      <th>자산</th>\n",
       "    </tr>\n",
       "  </thead>\n",
       "  <tbody>\n",
       "    <tr>\n",
       "      <th>1</th>\n",
       "      <td>대전</td>\n",
       "      <td>1550</td>\n",
       "      <td>2022</td>\n",
       "      <td>NaN</td>\n",
       "    </tr>\n",
       "    <tr>\n",
       "      <th>2</th>\n",
       "      <td>대전</td>\n",
       "      <td>1556</td>\n",
       "      <td>2023</td>\n",
       "      <td>NaN</td>\n",
       "    </tr>\n",
       "    <tr>\n",
       "      <th>3</th>\n",
       "      <td>대전</td>\n",
       "      <td>1552</td>\n",
       "      <td>2024</td>\n",
       "      <td>NaN</td>\n",
       "    </tr>\n",
       "    <tr>\n",
       "      <th>4</th>\n",
       "      <td>서울</td>\n",
       "      <td>9941</td>\n",
       "      <td>2022</td>\n",
       "      <td>NaN</td>\n",
       "    </tr>\n",
       "    <tr>\n",
       "      <th>5</th>\n",
       "      <td>서울</td>\n",
       "      <td>9825</td>\n",
       "      <td>2023</td>\n",
       "      <td>20.0</td>\n",
       "    </tr>\n",
       "    <tr>\n",
       "      <th>6</th>\n",
       "      <td>서울</td>\n",
       "      <td>9999</td>\n",
       "      <td>2024</td>\n",
       "      <td>50.0</td>\n",
       "    </tr>\n",
       "    <tr>\n",
       "      <th>7</th>\n",
       "      <td>부산</td>\n",
       "      <td>7856</td>\n",
       "      <td>2022</td>\n",
       "      <td>1.0</td>\n",
       "    </tr>\n",
       "    <tr>\n",
       "      <th>8</th>\n",
       "      <td>부산</td>\n",
       "      <td>7777</td>\n",
       "      <td>2023</td>\n",
       "      <td>NaN</td>\n",
       "    </tr>\n",
       "    <tr>\n",
       "      <th>9</th>\n",
       "      <td>부산</td>\n",
       "      <td>7456</td>\n",
       "      <td>2024</td>\n",
       "      <td>NaN</td>\n",
       "    </tr>\n",
       "  </tbody>\n",
       "</table>\n",
       "</div>"
      ],
      "text/plain": [
       "   지역    인구    년도    자산\n",
       "1  대전  1550  2022   NaN\n",
       "2  대전  1556  2023   NaN\n",
       "3  대전  1552  2024   NaN\n",
       "4  서울  9941  2022   NaN\n",
       "5  서울  9825  2023  20.0\n",
       "6  서울  9999  2024  50.0\n",
       "7  부산  7856  2022   1.0\n",
       "8  부산  7777  2023   NaN\n",
       "9  부산  7456  2024   NaN"
      ]
     },
     "execution_count": 70,
     "metadata": {},
     "output_type": "execute_result"
    }
   ],
   "source": [
    "del frame2['성심당']\n",
    "frame2 # 데이터 삭제"
   ]
  },
  {
   "cell_type": "code",
   "execution_count": 72,
   "id": "73bb0428-e4ba-43dd-8005-921de6601b08",
   "metadata": {},
   "outputs": [
    {
     "data": {
      "text/html": [
       "<div>\n",
       "<style scoped>\n",
       "    .dataframe tbody tr th:only-of-type {\n",
       "        vertical-align: middle;\n",
       "    }\n",
       "\n",
       "    .dataframe tbody tr th {\n",
       "        vertical-align: top;\n",
       "    }\n",
       "\n",
       "    .dataframe thead th {\n",
       "        text-align: right;\n",
       "    }\n",
       "</style>\n",
       "<table border=\"1\" class=\"dataframe\">\n",
       "  <thead>\n",
       "    <tr style=\"text-align: right;\">\n",
       "      <th></th>\n",
       "      <th>지역</th>\n",
       "      <th>년도</th>\n",
       "      <th>인구</th>\n",
       "    </tr>\n",
       "  </thead>\n",
       "  <tbody>\n",
       "    <tr>\n",
       "      <th>하나</th>\n",
       "      <td>대전</td>\n",
       "      <td>2022.0</td>\n",
       "      <td>1552.0</td>\n",
       "    </tr>\n",
       "    <tr>\n",
       "      <th>둘</th>\n",
       "      <td>대전</td>\n",
       "      <td>2023.0</td>\n",
       "      <td>9941.0</td>\n",
       "    </tr>\n",
       "    <tr>\n",
       "      <th>셋</th>\n",
       "      <td>서울</td>\n",
       "      <td>NaN</td>\n",
       "      <td>NaN</td>\n",
       "    </tr>\n",
       "    <tr>\n",
       "      <th>넷</th>\n",
       "      <td>서울</td>\n",
       "      <td>NaN</td>\n",
       "      <td>NaN</td>\n",
       "    </tr>\n",
       "  </tbody>\n",
       "</table>\n",
       "</div>"
      ],
      "text/plain": [
       "    지역      년도      인구\n",
       "하나  대전  2022.0  1552.0\n",
       "둘   대전  2023.0  9941.0\n",
       "셋   서울     NaN     NaN\n",
       "넷   서울     NaN     NaN"
      ]
     },
     "execution_count": 72,
     "metadata": {},
     "output_type": "execute_result"
    }
   ],
   "source": [
    "data = {'지역' : {'하나':'대전', '둘':'대전', '셋':'서울', '넷':'서울'},\n",
    "        '년도' : {'하나':2022, '둘':2023, '하나':2022, '둘':2023},\n",
    "        '인구' : {'하나':1055, '둘':1566, '하나':1552, '둘':9941}}\n",
    "\n",
    "frame = pd.DataFrame(data)\n",
    "frame\n",
    "        "
   ]
  },
  {
   "cell_type": "code",
   "execution_count": 74,
   "id": "21aa17fb-e11d-4a9c-9885-6a06a694deeb",
   "metadata": {},
   "outputs": [
    {
     "data": {
      "text/html": [
       "<div>\n",
       "<style scoped>\n",
       "    .dataframe tbody tr th:only-of-type {\n",
       "        vertical-align: middle;\n",
       "    }\n",
       "\n",
       "    .dataframe tbody tr th {\n",
       "        vertical-align: top;\n",
       "    }\n",
       "\n",
       "    .dataframe thead th {\n",
       "        text-align: right;\n",
       "    }\n",
       "</style>\n",
       "<table border=\"1\" class=\"dataframe\">\n",
       "  <thead>\n",
       "    <tr style=\"text-align: right;\">\n",
       "      <th></th>\n",
       "      <th>하나</th>\n",
       "      <th>둘</th>\n",
       "      <th>셋</th>\n",
       "      <th>넷</th>\n",
       "    </tr>\n",
       "  </thead>\n",
       "  <tbody>\n",
       "    <tr>\n",
       "      <th>지역</th>\n",
       "      <td>대전</td>\n",
       "      <td>대전</td>\n",
       "      <td>서울</td>\n",
       "      <td>서울</td>\n",
       "    </tr>\n",
       "    <tr>\n",
       "      <th>년도</th>\n",
       "      <td>2022.0</td>\n",
       "      <td>2023.0</td>\n",
       "      <td>NaN</td>\n",
       "      <td>NaN</td>\n",
       "    </tr>\n",
       "    <tr>\n",
       "      <th>인구</th>\n",
       "      <td>1552.0</td>\n",
       "      <td>9941.0</td>\n",
       "      <td>NaN</td>\n",
       "      <td>NaN</td>\n",
       "    </tr>\n",
       "  </tbody>\n",
       "</table>\n",
       "</div>"
      ],
      "text/plain": [
       "        하나       둘    셋    넷\n",
       "지역      대전      대전   서울   서울\n",
       "년도  2022.0  2023.0  NaN  NaN\n",
       "인구  1552.0  9941.0  NaN  NaN"
      ]
     },
     "execution_count": 74,
     "metadata": {},
     "output_type": "execute_result"
    }
   ],
   "source": [
    "frame.T # T : 행과 열 뒤집힘(서로 수정)"
   ]
  },
  {
   "cell_type": "code",
   "execution_count": 76,
   "id": "2f275d34-c6df-4dc8-9333-8f6813ffc3e9",
   "metadata": {},
   "outputs": [
    {
     "data": {
      "text/html": [
       "<div>\n",
       "<style scoped>\n",
       "    .dataframe tbody tr th:only-of-type {\n",
       "        vertical-align: middle;\n",
       "    }\n",
       "\n",
       "    .dataframe tbody tr th {\n",
       "        vertical-align: top;\n",
       "    }\n",
       "\n",
       "    .dataframe thead th {\n",
       "        text-align: right;\n",
       "    }\n",
       "</style>\n",
       "<table border=\"1\" class=\"dataframe\">\n",
       "  <thead>\n",
       "    <tr style=\"text-align: right;\">\n",
       "      <th>분류</th>\n",
       "      <th>지역</th>\n",
       "      <th>인구</th>\n",
       "      <th>년도</th>\n",
       "      <th>자산</th>\n",
       "    </tr>\n",
       "    <tr>\n",
       "      <th>번호</th>\n",
       "      <th></th>\n",
       "      <th></th>\n",
       "      <th></th>\n",
       "      <th></th>\n",
       "    </tr>\n",
       "  </thead>\n",
       "  <tbody>\n",
       "    <tr>\n",
       "      <th>1</th>\n",
       "      <td>대전</td>\n",
       "      <td>1550</td>\n",
       "      <td>2022</td>\n",
       "      <td>NaN</td>\n",
       "    </tr>\n",
       "    <tr>\n",
       "      <th>2</th>\n",
       "      <td>대전</td>\n",
       "      <td>1556</td>\n",
       "      <td>2023</td>\n",
       "      <td>NaN</td>\n",
       "    </tr>\n",
       "    <tr>\n",
       "      <th>3</th>\n",
       "      <td>대전</td>\n",
       "      <td>1552</td>\n",
       "      <td>2024</td>\n",
       "      <td>NaN</td>\n",
       "    </tr>\n",
       "    <tr>\n",
       "      <th>4</th>\n",
       "      <td>서울</td>\n",
       "      <td>9941</td>\n",
       "      <td>2022</td>\n",
       "      <td>NaN</td>\n",
       "    </tr>\n",
       "    <tr>\n",
       "      <th>5</th>\n",
       "      <td>서울</td>\n",
       "      <td>9825</td>\n",
       "      <td>2023</td>\n",
       "      <td>20.0</td>\n",
       "    </tr>\n",
       "    <tr>\n",
       "      <th>6</th>\n",
       "      <td>서울</td>\n",
       "      <td>9999</td>\n",
       "      <td>2024</td>\n",
       "      <td>50.0</td>\n",
       "    </tr>\n",
       "    <tr>\n",
       "      <th>7</th>\n",
       "      <td>부산</td>\n",
       "      <td>7856</td>\n",
       "      <td>2022</td>\n",
       "      <td>1.0</td>\n",
       "    </tr>\n",
       "    <tr>\n",
       "      <th>8</th>\n",
       "      <td>부산</td>\n",
       "      <td>7777</td>\n",
       "      <td>2023</td>\n",
       "      <td>NaN</td>\n",
       "    </tr>\n",
       "    <tr>\n",
       "      <th>9</th>\n",
       "      <td>부산</td>\n",
       "      <td>7456</td>\n",
       "      <td>2024</td>\n",
       "      <td>NaN</td>\n",
       "    </tr>\n",
       "  </tbody>\n",
       "</table>\n",
       "</div>"
      ],
      "text/plain": [
       "분류  지역    인구    년도    자산\n",
       "번호                      \n",
       "1   대전  1550  2022   NaN\n",
       "2   대전  1556  2023   NaN\n",
       "3   대전  1552  2024   NaN\n",
       "4   서울  9941  2022   NaN\n",
       "5   서울  9825  2023  20.0\n",
       "6   서울  9999  2024  50.0\n",
       "7   부산  7856  2022   1.0\n",
       "8   부산  7777  2023   NaN\n",
       "9   부산  7456  2024   NaN"
      ]
     },
     "execution_count": 76,
     "metadata": {},
     "output_type": "execute_result"
    }
   ],
   "source": [
    "frame2.index.name = '번호'\n",
    "frame2.columns.name = '분류'\n",
    "frame2"
   ]
  },
  {
   "cell_type": "code",
   "execution_count": 94,
   "id": "b38319a5-7bb5-4ccb-b0f0-5f6b02340c29",
   "metadata": {},
   "outputs": [
    {
     "name": "stdout",
     "output_type": "stream",
     "text": [
      "    학교명  학급수  학생수  교사수\n",
      "01  가나고   25  620   80\n",
      "02  다라고   23  600   95\n",
      "03  마바고   15  550   70\n",
      "04  사아고   19  580   90\n",
      "05  자차고   10  400   65\n",
      "600\n",
      "학교명    사아고\n",
      "학급수     19\n",
      "교사수     90\n",
      "Name: 04, dtype: object\n"
     ]
    }
   ],
   "source": [
    "# loc을 이용한 요소 추출\n",
    "import pandas as pd\n",
    "data = {'학교명':['가나고', '다라고', '마바고', '사아고', '자차고'],\n",
    "        '학급수' : [25, 23, 15, 19, 10],\n",
    "        '학생수' : [620, 600, 550, 580, 400],\n",
    "        '교사수' : [80, 95, 70, 90, 65]}\n",
    "\n",
    "frame = pd.DataFrame(data,index=['01', '02', '03', '04', '05'])\n",
    "print(frame) # 인덱스 번호 출력\n",
    "\n",
    "print(frame.loc['02', '학생수']) # 02의 학생수(600)\n",
    "print(frame.loc['04', ['학교명', '학급수', '교사수']]) # 04의 각 데이터 수 출력"
   ]
  },
  {
   "cell_type": "code",
   "execution_count": 116,
   "id": "c00df0b0-1b26-4bfe-b65f-32d712f0b333",
   "metadata": {},
   "outputs": [
    {
     "name": "stdout",
     "output_type": "stream",
     "text": [
      "    아이디 구매상품     가격  개수   구매일\n",
      "0   kim  상품A  15000   3  0303\n",
      "1  song  상품B  23000   5  0810\n",
      "2   han  상품C  33000   1  0120\n",
      "3  choi  상품D  50000  10  0601 \n",
      "\n",
      "han \n",
      "\n",
      "아이디     choi\n",
      "구매상품     상품D\n",
      "Name: 3, dtype: object \n",
      "\n",
      "    아이디   구매일\n",
      "0   kim  0303\n",
      "1  song  0810\n",
      "2   han  0120\n",
      "3  choi  0601\n"
     ]
    }
   ],
   "source": [
    "# iloc을 이용한 요소 추출\n",
    "import pandas as pd\n",
    "\n",
    "data = {'아이디':['kim', 'song', 'han', 'choi'],\n",
    "        '구매상품' : ['상품A', '상품B', '상품C', '상품D'],\n",
    "        '가격' : [15000, 23000, 33000, 50000],\n",
    "        '개수' : [3, 5, 1, 10],\n",
    "        '구매일' : ['0303', '0810', '0120', '0601']}\n",
    "\n",
    "frame = pd.DataFrame(data)\n",
    "print(frame, '\\n')\n",
    "\n",
    "print(frame.iloc[2, 0], '\\n') # 2번째 열(index번호 2)에서 0번째 행(아이디) 데이터 출력\n",
    "print(frame.iloc[3, :2], '\\n') # 3번째 열(index번호 3)에서 슬라이싱 행(처음 ~ 두 번째 행까지) 출력\n",
    "print(frame.iloc[:, [0, 4]]) # 0과 4에 위치한 데이터값 출력"
   ]
  },
  {
   "cell_type": "code",
   "execution_count": 109,
   "id": "4035c6a8-e301-42da-9bca-63e79dfdffad",
   "metadata": {},
   "outputs": [
    {
     "name": "stdout",
     "output_type": "stream",
     "text": [
      "      가  나   다   라\n",
      "A  A  0  1   2   3\n",
      "B  B  4  5   6   7\n",
      "C  C  8  9  10  11\n"
     ]
    }
   ],
   "source": [
    "data = {' ':['A', 'B', 'C'],\n",
    "        '가' : [0, 4, 8],\n",
    "        '나' : [1, 5, 9],\n",
    "        '다' : [2, 6, 10],\n",
    "        '라' : [3, 7, 11]}\n",
    "\n",
    "frame = pd.DataFrame(data, index=['A', 'B', 'C'])\n",
    "print(frame)"
   ]
  },
  {
   "cell_type": "code",
   "execution_count": 118,
   "id": "74aa4d50-b897-49fd-ae48-d5b8b677cd72",
   "metadata": {},
   "outputs": [
    {
     "data": {
      "text/html": [
       "<div>\n",
       "<style scoped>\n",
       "    .dataframe tbody tr th:only-of-type {\n",
       "        vertical-align: middle;\n",
       "    }\n",
       "\n",
       "    .dataframe tbody tr th {\n",
       "        vertical-align: top;\n",
       "    }\n",
       "\n",
       "    .dataframe thead th {\n",
       "        text-align: right;\n",
       "    }\n",
       "</style>\n",
       "<table border=\"1\" class=\"dataframe\">\n",
       "  <thead>\n",
       "    <tr style=\"text-align: right;\">\n",
       "      <th></th>\n",
       "      <th>가</th>\n",
       "      <th>나</th>\n",
       "      <th>다</th>\n",
       "      <th>라</th>\n",
       "    </tr>\n",
       "  </thead>\n",
       "  <tbody>\n",
       "    <tr>\n",
       "      <th>A</th>\n",
       "      <td>0</td>\n",
       "      <td>1</td>\n",
       "      <td>2</td>\n",
       "      <td>3</td>\n",
       "    </tr>\n",
       "    <tr>\n",
       "      <th>B</th>\n",
       "      <td>4</td>\n",
       "      <td>5</td>\n",
       "      <td>6</td>\n",
       "      <td>7</td>\n",
       "    </tr>\n",
       "    <tr>\n",
       "      <th>C</th>\n",
       "      <td>8</td>\n",
       "      <td>9</td>\n",
       "      <td>10</td>\n",
       "      <td>11</td>\n",
       "    </tr>\n",
       "  </tbody>\n",
       "</table>\n",
       "</div>"
      ],
      "text/plain": [
       "   가  나   다   라\n",
       "A  0  1   2   3\n",
       "B  4  5   6   7\n",
       "C  8  9  10  11"
      ]
     },
     "execution_count": 118,
     "metadata": {},
     "output_type": "execute_result"
    }
   ],
   "source": [
    "data = np.arange(12).reshape(3, 4)\n",
    "\n",
    "frame = pd.DataFrame(data)\n",
    "frame.index = [\"A\", \"B\", \"C\"]\n",
    "frame.columns = [\"가\", \"나\", \"다\", \"라\"]\n",
    "\n",
    "frame"
   ]
  },
  {
   "cell_type": "code",
   "execution_count": 113,
   "id": "f55007ff-c93c-4dff-a189-f9c7815a061b",
   "metadata": {},
   "outputs": [
    {
     "ename": "AttributeError",
     "evalue": "module 'pandas' has no attribute 'DateFrame'",
     "output_type": "error",
     "traceback": [
      "\u001b[0;31m---------------------------------------------------------------------------\u001b[0m",
      "\u001b[0;31mAttributeError\u001b[0m                            Traceback (most recent call last)",
      "Cell \u001b[0;32mIn[113], line 1\u001b[0m\n\u001b[0;32m----> 1\u001b[0m pd\u001b[38;5;241m.\u001b[39mDateFrame(np\u001b[38;5;241m.\u001b[39marange(\u001b[38;5;241m3\u001b[39m\u001b[38;5;241m*\u001b[39m\u001b[38;5;241m4\u001b[39m)\u001b[38;5;241m.\u001b[39mreshape(\u001b[38;5;241m3\u001b[39m, \u001b[38;5;241m4\u001b[39m), index\u001b[38;5;241m=\u001b[39m[\u001b[38;5;124m\"\u001b[39m\u001b[38;5;124mA\u001b[39m\u001b[38;5;124m\"\u001b[39m,\u001b[38;5;124m\"\u001b[39m\u001b[38;5;124mB\u001b[39m\u001b[38;5;124m\"\u001b[39m,\u001b[38;5;124m\"\u001b[39m\u001b[38;5;124mC\u001b[39m\u001b[38;5;124m\"\u001b[39m], columns\u001b[38;5;241m=\u001b[39m[\u001b[38;5;124m\"\u001b[39m\u001b[38;5;124m가\u001b[39m\u001b[38;5;124m\"\u001b[39m,\u001b[38;5;124m\"\u001b[39m\u001b[38;5;124m나\u001b[39m\u001b[38;5;124m\"\u001b[39m,\u001b[38;5;124m\"\u001b[39m\u001b[38;5;124m다\u001b[39m\u001b[38;5;124m\"\u001b[39m,\u001b[38;5;124m\"\u001b[39m\u001b[38;5;124m라\u001b[39m\u001b[38;5;124m\"\u001b[39m])\n",
      "\u001b[0;31mAttributeError\u001b[0m: module 'pandas' has no attribute 'DateFrame'"
     ]
    }
   ],
   "source": [
    "pd.DateFrame(np.arange(3*4).reshape(3, 4), index=[\"A\",\"B\",\"C\"], columns=[\"가\",\"나\",\"다\",\"라\"])"
   ]
  },
  {
   "cell_type": "code",
   "execution_count": 137,
   "id": "4ea04a30-5639-4d4c-89ea-90f60219c91b",
   "metadata": {},
   "outputs": [
    {
     "name": "stdout",
     "output_type": "stream",
     "text": [
      "0\n",
      "6 \n",
      "\n"
     ]
    }
   ],
   "source": [
    "# loc, iloc\n",
    "\n",
    "# 1.\n",
    "# 가 0  \n",
    "# 다 6\n",
    "print(frame.iloc[0, 0]) \n",
    "print(frame.iloc[1, 2], '\\n') \n",
    "# 추가문제\n",
    "# 가 4  \n",
    "# 다 6\n",
    "\n",
    "# # 2.\n",
    "# #  라 가 나\n",
    "# # A  3  0  1\n",
    "# # B  7  5  4\n",
    "# print(frame.iloc[[3, 1, 0], :2], '\\n') \n",
    "\n",
    "# # 3. \n",
    "# # 가 8\n",
    "# # 나 9\n",
    "# # 다 10\n",
    "# # 라 11\n",
    "# print(frame.iloc[0, :3])\n",
    "\n",
    "# # 4. \n",
    "# #   다 가\n",
    "# # A 2  0\n",
    "# # B 1  2\n",
    "\n",
    "# print(frame.iloc[2, 0], '\\n') # 2번째 열(index번호 2)에서 0번째 행(아이디) 데이터 출력\n",
    "# print(frame.iloc[3, :2], '\\n') # 3번째 열(index번호 3)에서 슬라이싱 행(처음 ~ 두 번째 행까지) 출력\n",
    "# print(frame.iloc[:, [0, 4]]) # 0과 4에 위치한 데이터값 출력"
   ]
  },
  {
   "cell_type": "code",
   "execution_count": 168,
   "id": "26e59fff-6084-4084-8e06-ebd5abf79803",
   "metadata": {},
   "outputs": [
    {
     "name": "stdout",
     "output_type": "stream",
     "text": [
      "가    4\n",
      "다    6\n",
      "Name: B, dtype: object\n",
      "\n",
      "   라  가  나\n",
      "A  3  0  1\n",
      "B  7  4  5\n",
      "\n",
      "가     8\n",
      "나     9\n",
      "다    10\n",
      "라    11\n",
      "Name: C, dtype: object\n",
      "\n",
      "   다  가\n",
      "A  2  0\n",
      "B  6  4\n"
     ]
    }
   ],
   "source": [
    "data = {' ':['A', 'B', 'C'],\n",
    "        '가' : [0, 4, 8],\n",
    "        '나' : [1, 5, 9],\n",
    "        '다' : [2, 6, 10],\n",
    "        '라' : [3, 7, 11]}\n",
    "\n",
    "frame = pd.DataFrame(data, index=['A', 'B', 'C'])\n",
    "\n",
    "print(frame.loc['B', ['가', '다']])\n",
    "print()\n",
    "# print(frame.iloc[:2, [3, 0, 1]])\n",
    "print(frame.loc[:'B', ['라', '가', '나']])\n",
    "print()\n",
    "print(frame.loc['C', ['가', '나', '다', '라']])\n",
    "# 또는 print(frame.iloc[2])\n",
    "print()\n",
    "print(frame.loc[:'B', ['다', '가']])\n",
    "# 또는 prunt.iloc[:2, [2, 0]]"
   ]
  },
  {
   "cell_type": "markdown",
   "id": "3f82e565-6f53-4668-ad6a-baf9c7d679e2",
   "metadata": {},
   "source": [
    "# 인덱스 함수\n",
    "1) append : 뒤에 연결하여 추가 생성\n",
    "2) difference : 차집합\n",
    "3) intersection : 교집합\n",
    "4) union : 합집합\n",
    "5) isin : 각 값이 주어진 컬렉션 안에 포함되어 있는지 boolean 배열 계산\n",
    "6) delete : 인덱스 i 요소가 삭제된 새로운 index를 계산\n",
    "7) drop : 전달된 값 전체를 삭제하여 새로운 index를 계산\n",
    "8) insert : 인덱스 i 위치에 요소를 삽입\n",
    "9) is_monotonic : 각 요소가 이전 요소보다 크거나 같은 경우 True\n",
    "10) is_unique : 중복된 값이 없는 경우 True\n",
    "11) unique : 고유한 값들을 반환"
   ]
  },
  {
   "cell_type": "code",
   "execution_count": 178,
   "id": "1c37697e-1e4a-4674-aca0-d5f2dd492548",
   "metadata": {},
   "outputs": [],
   "source": [
    "index1 = pd.Index([1, 2, 3, 4, 5])\n",
    "index2 = pd.Index([4, 5, 6, 7, 8])"
   ]
  },
  {
   "cell_type": "code",
   "execution_count": 176,
   "id": "291d2636-9d96-4492-93bf-a6209146aec5",
   "metadata": {},
   "outputs": [
    {
     "data": {
      "text/plain": [
       "Index([1, 2, 3, 4, 5, 4, 5, 6, 7, 8], dtype='int64')"
      ]
     },
     "execution_count": 176,
     "metadata": {},
     "output_type": "execute_result"
    }
   ],
   "source": [
    "index1.append(index2) # 인덱스1값에 인덱스2를 추가"
   ]
  },
  {
   "cell_type": "code",
   "execution_count": 180,
   "id": "1159260b-552b-4cc7-94b5-ef8723fe0343",
   "metadata": {},
   "outputs": [
    {
     "data": {
      "text/plain": [
       "Index([1, 2, 3], dtype='int64')"
      ]
     },
     "execution_count": 180,
     "metadata": {},
     "output_type": "execute_result"
    }
   ],
   "source": [
    "index1.difference(index2)"
   ]
  },
  {
   "cell_type": "code",
   "execution_count": 181,
   "id": "8c2b3089-f879-449e-91e8-2a35babdd823",
   "metadata": {},
   "outputs": [
    {
     "data": {
      "text/plain": [
       "Index([4, 5], dtype='int64')"
      ]
     },
     "execution_count": 181,
     "metadata": {},
     "output_type": "execute_result"
    }
   ],
   "source": [
    "index1.intersection(index2)"
   ]
  },
  {
   "cell_type": "code",
   "execution_count": 182,
   "id": "7bd47cad-82b9-4d2c-aced-20122cead2f1",
   "metadata": {},
   "outputs": [
    {
     "data": {
      "text/plain": [
       "Index([1, 2, 3, 4, 5, 6, 7, 8], dtype='int64')"
      ]
     },
     "execution_count": 182,
     "metadata": {},
     "output_type": "execute_result"
    }
   ],
   "source": [
    "index1.union(index2)"
   ]
  },
  {
   "cell_type": "code",
   "execution_count": 183,
   "id": "33b82941-5f3d-46e2-9459-b52a309ed690",
   "metadata": {},
   "outputs": [
    {
     "data": {
      "text/plain": [
       "array([False,  True, False,  True, False])"
      ]
     },
     "execution_count": 183,
     "metadata": {},
     "output_type": "execute_result"
    }
   ],
   "source": [
    "index1.isin([2, 4, 6])"
   ]
  },
  {
   "cell_type": "code",
   "execution_count": 184,
   "id": "5288994c-c4f7-486f-a11d-d22d64a715b5",
   "metadata": {},
   "outputs": [
    {
     "data": {
      "text/plain": [
       "Index([1, 2, 4, 5], dtype='int64')"
      ]
     },
     "execution_count": 184,
     "metadata": {},
     "output_type": "execute_result"
    }
   ],
   "source": [
    "index1.delete(2)"
   ]
  },
  {
   "cell_type": "code",
   "execution_count": 185,
   "id": "8fbe4797-af16-411c-b882-a6e7afd0157a",
   "metadata": {},
   "outputs": [
    {
     "data": {
      "text/plain": [
       "Index([1, 4, 5], dtype='int64')"
      ]
     },
     "execution_count": 185,
     "metadata": {},
     "output_type": "execute_result"
    }
   ],
   "source": [
    "index1.drop([2, 3])"
   ]
  },
  {
   "cell_type": "code",
   "execution_count": 186,
   "id": "9c4f646e-30dd-46c0-8b8e-9a6f762da6e9",
   "metadata": {},
   "outputs": [
    {
     "data": {
      "text/plain": [
       "Index([1, 2, 8, 3, 4, 5], dtype='int64')"
      ]
     },
     "execution_count": 186,
     "metadata": {},
     "output_type": "execute_result"
    }
   ],
   "source": [
    "index1.insert(2, 8)"
   ]
  },
  {
   "cell_type": "code",
   "execution_count": 188,
   "id": "a2e6e4c2-b949-4184-9618-a7aab9f3dc1d",
   "metadata": {},
   "outputs": [
    {
     "data": {
      "text/plain": [
       "Index([1, 2, 3, 4, 5], dtype='int64')"
      ]
     },
     "execution_count": 188,
     "metadata": {},
     "output_type": "execute_result"
    }
   ],
   "source": [
    "index1.unique()"
   ]
  },
  {
   "cell_type": "code",
   "execution_count": 189,
   "id": "e046b854-7368-4ca1-9b2e-723b0c95eadb",
   "metadata": {},
   "outputs": [
    {
     "data": {
      "text/plain": [
       "True"
      ]
     },
     "execution_count": 189,
     "metadata": {},
     "output_type": "execute_result"
    }
   ],
   "source": [
    "index1.is_unique"
   ]
  },
  {
   "cell_type": "code",
   "execution_count": 190,
   "id": "81e64281-955f-4979-8367-6e161f0bf535",
   "metadata": {},
   "outputs": [
    {
     "data": {
      "text/plain": [
       "Index([1, 2, 3, 4, 5], dtype='int64')"
      ]
     },
     "execution_count": 190,
     "metadata": {},
     "output_type": "execute_result"
    }
   ],
   "source": [
    "index1"
   ]
  },
  {
   "cell_type": "code",
   "execution_count": 194,
   "id": "c910299b-1f7f-4239-8b25-e57b5539d38d",
   "metadata": {},
   "outputs": [
    {
     "data": {
      "text/plain": [
       "a    0\n",
       "b    1\n",
       "c    2\n",
       "dtype: int64"
      ]
     },
     "execution_count": 194,
     "metadata": {},
     "output_type": "execute_result"
    }
   ],
   "source": [
    "s = pd.Series(range(3), index=['a', 'b', 'c'])\n",
    "s"
   ]
  },
  {
   "cell_type": "code",
   "execution_count": 195,
   "id": "07b52048-df99-4a0e-a7ca-3314b2ef9bd4",
   "metadata": {},
   "outputs": [
    {
     "data": {
      "text/plain": [
       "Index(['a', 'b', 'c'], dtype='object')"
      ]
     },
     "execution_count": 195,
     "metadata": {},
     "output_type": "execute_result"
    }
   ],
   "source": [
    "s.index"
   ]
  },
  {
   "cell_type": "code",
   "execution_count": 208,
   "id": "548c0d42-41af-4777-99f5-54c53dd7e982",
   "metadata": {},
   "outputs": [
    {
     "data": {
      "text/plain": [
       "array([0, 1, 2], dtype=object)"
      ]
     },
     "execution_count": 208,
     "metadata": {},
     "output_type": "execute_result"
    }
   ],
   "source": [
    "s.values # 값 변경"
   ]
  },
  {
   "cell_type": "code",
   "execution_count": 198,
   "id": "91e82f49-6c35-4041-a09b-129df6f7a1d8",
   "metadata": {},
   "outputs": [
    {
     "data": {
      "text/plain": [
       "a    A\n",
       "b    1\n",
       "c    2\n",
       "dtype: object"
      ]
     },
     "execution_count": 198,
     "metadata": {},
     "output_type": "execute_result"
    }
   ],
   "source": [
    "s.values[0] = 'A'\n",
    "s"
   ]
  },
  {
   "cell_type": "code",
   "execution_count": 199,
   "id": "c6f1f993-7770-4da5-9114-58d9501edddf",
   "metadata": {},
   "outputs": [
    {
     "data": {
      "text/plain": [
       "'A'"
      ]
     },
     "execution_count": 199,
     "metadata": {},
     "output_type": "execute_result"
    }
   ],
   "source": [
    "s.values[0]"
   ]
  },
  {
   "cell_type": "code",
   "execution_count": 201,
   "id": "0ffc6723-719a-431d-b442-d5a1fe0b004d",
   "metadata": {},
   "outputs": [
    {
     "data": {
      "text/plain": [
       "a    0\n",
       "b    1\n",
       "c    2\n",
       "dtype: object"
      ]
     },
     "execution_count": 201,
     "metadata": {},
     "output_type": "execute_result"
    }
   ],
   "source": [
    "s.values[0] = 0\n",
    "s"
   ]
  },
  {
   "cell_type": "code",
   "execution_count": 202,
   "id": "2f7fd5c6-d47b-4829-85b7-ae971a448ae5",
   "metadata": {},
   "outputs": [
    {
     "data": {
      "text/plain": [
       "A    0\n",
       "B    1\n",
       "C    2\n",
       "dtype: object"
      ]
     },
     "execution_count": 202,
     "metadata": {},
     "output_type": "execute_result"
    }
   ],
   "source": [
    "s.index = ['A', 'B', 'C']\n",
    "s"
   ]
  },
  {
   "cell_type": "code",
   "execution_count": 209,
   "id": "e10b5d37-0e40-4bd4-90a1-07bfc2394f2f",
   "metadata": {},
   "outputs": [
    {
     "data": {
      "text/plain": [
       "Index([' ', '가', '나', '다', '라'], dtype='object')"
      ]
     },
     "execution_count": 209,
     "metadata": {},
     "output_type": "execute_result"
    }
   ],
   "source": [
    "frame.columns"
   ]
  },
  {
   "cell_type": "code",
   "execution_count": 210,
   "id": "e3a5aace-6649-400e-9613-c2f6f93c899d",
   "metadata": {},
   "outputs": [
    {
     "data": {
      "text/plain": [
       "True"
      ]
     },
     "execution_count": 210,
     "metadata": {},
     "output_type": "execute_result"
    }
   ],
   "source": [
    "'가' in frame.columns"
   ]
  },
  {
   "cell_type": "code",
   "execution_count": 207,
   "id": "91393d2f-1df7-4283-85ac-3ec07e16d230",
   "metadata": {},
   "outputs": [
    {
     "data": {
      "text/plain": [
       "False"
      ]
     },
     "execution_count": 207,
     "metadata": {},
     "output_type": "execute_result"
    }
   ],
   "source": [
    "'마' in frame.columns"
   ]
  },
  {
   "cell_type": "code",
   "execution_count": 211,
   "id": "10a1839b-7ab1-4205-855a-0e39bc26da41",
   "metadata": {},
   "outputs": [],
   "source": [
    "index = pd.Index([1, 2, 2, 3, 3])"
   ]
  },
  {
   "cell_type": "code",
   "execution_count": 213,
   "id": "99e34d36-c95d-4bdc-b0b2-70078956c837",
   "metadata": {},
   "outputs": [
    {
     "data": {
      "text/plain": [
       "Index([1, 2, 2, 3, 3], dtype='int64')"
      ]
     },
     "execution_count": 213,
     "metadata": {},
     "output_type": "execute_result"
    }
   ],
   "source": [
    "index.unique() # 중복 없앤 값을 반환\n",
    "index"
   ]
  },
  {
   "cell_type": "code",
   "execution_count": 215,
   "id": "085e9dbc-386a-479b-945a-796a21505848",
   "metadata": {},
   "outputs": [
    {
     "data": {
      "text/plain": [
       "b    3\n",
       "e   -8\n",
       "a    2\n",
       "c    0\n",
       "dtype: int64"
      ]
     },
     "execution_count": 215,
     "metadata": {},
     "output_type": "execute_result"
    }
   ],
   "source": [
    "s = pd.Series([3, -8, 2, 0], index = ['b', 'e', 'a', 'c'])\n",
    "s"
   ]
  },
  {
   "cell_type": "code",
   "execution_count": 217,
   "id": "233758f8-e433-4725-aa8e-2a6f32c2dd30",
   "metadata": {},
   "outputs": [
    {
     "data": {
      "text/plain": [
       "a    2.0\n",
       "b    3.0\n",
       "c    0.0\n",
       "d    NaN\n",
       "e   -8.0\n",
       "dtype: float64"
      ]
     },
     "execution_count": 217,
     "metadata": {},
     "output_type": "execute_result"
    }
   ],
   "source": [
    "s.reindex(['a', 'b', 'c', 'd', 'e'])"
   ]
  },
  {
   "cell_type": "code",
   "execution_count": 220,
   "id": "2d38c5a9-2fb6-4094-915d-5677836a0ae5",
   "metadata": {},
   "outputs": [
    {
     "data": {
      "text/plain": [
       "0    빨강\n",
       "2    파랑\n",
       "4    초록\n",
       "dtype: object"
      ]
     },
     "execution_count": 220,
     "metadata": {},
     "output_type": "execute_result"
    }
   ],
   "source": [
    "s = pd.Series(['빨강', '파랑', '초록'], index = [0, 2, 4])\n",
    "s # 데이터가 일정간격으로 배치"
   ]
  },
  {
   "cell_type": "code",
   "execution_count": 223,
   "id": "da13bfb9-f645-41d8-8628-e840f1a639a9",
   "metadata": {},
   "outputs": [
    {
     "data": {
      "text/plain": [
       "0    빨강\n",
       "1    빨강\n",
       "2    파랑\n",
       "3    파랑\n",
       "4    초록\n",
       "5    초록\n",
       "dtype: object"
      ]
     },
     "execution_count": 223,
     "metadata": {},
     "output_type": "execute_result"
    }
   ],
   "source": [
    "s.reindex(range(6), method='ffill') # ffill : 최소화하는 방법(이전 데이터를 기반으로 채워준다.)"
   ]
  },
  {
   "cell_type": "markdown",
   "id": "2d7aacb4-49ad-4326-899c-d96f9aaa8c16",
   "metadata": {},
   "source": [
    "reindex\n",
    "\n",
    "*method\n",
    "\n",
    "ffill - 앞쪽을 기준으로 채우기\n",
    "\n",
    "bfill - 뒷쪽을 기준으로 채우기\n",
    "\n",
    "fill_value - 채우고 싶은 값을 정해준다.\n",
    "\n",
    "*limit - 채울 때 개수 제한 지정"
   ]
  },
  {
   "cell_type": "code",
   "execution_count": 228,
   "id": "38236188-aa4b-4055-aba1-7e70e8af1815",
   "metadata": {},
   "outputs": [
    {
     "data": {
      "text/html": [
       "<div>\n",
       "<style scoped>\n",
       "    .dataframe tbody tr th:only-of-type {\n",
       "        vertical-align: middle;\n",
       "    }\n",
       "\n",
       "    .dataframe tbody tr th {\n",
       "        vertical-align: top;\n",
       "    }\n",
       "\n",
       "    .dataframe thead th {\n",
       "        text-align: right;\n",
       "    }\n",
       "</style>\n",
       "<table border=\"1\" class=\"dataframe\">\n",
       "  <thead>\n",
       "    <tr style=\"text-align: right;\">\n",
       "      <th></th>\n",
       "      <th>A</th>\n",
       "      <th>B</th>\n",
       "    </tr>\n",
       "  </thead>\n",
       "  <tbody>\n",
       "    <tr>\n",
       "      <th>0</th>\n",
       "      <td>0</td>\n",
       "      <td>1</td>\n",
       "    </tr>\n",
       "    <tr>\n",
       "      <th>2</th>\n",
       "      <td>2</td>\n",
       "      <td>3</td>\n",
       "    </tr>\n",
       "    <tr>\n",
       "      <th>4</th>\n",
       "      <td>4</td>\n",
       "      <td>5</td>\n",
       "    </tr>\n",
       "  </tbody>\n",
       "</table>\n",
       "</div>"
      ],
      "text/plain": [
       "   A  B\n",
       "0  0  1\n",
       "2  2  3\n",
       "4  4  5"
      ]
     },
     "execution_count": 228,
     "metadata": {},
     "output_type": "execute_result"
    }
   ],
   "source": [
    "df = pd.DataFrame(np.arange(6).reshape(3, 2), index = range(0, 5, 2), columns = ['A','B'])\n",
    "df"
   ]
  },
  {
   "cell_type": "code",
   "execution_count": 229,
   "id": "c8f50645-b219-47e5-9357-34067e95ce5e",
   "metadata": {},
   "outputs": [
    {
     "data": {
      "text/html": [
       "<div>\n",
       "<style scoped>\n",
       "    .dataframe tbody tr th:only-of-type {\n",
       "        vertical-align: middle;\n",
       "    }\n",
       "\n",
       "    .dataframe tbody tr th {\n",
       "        vertical-align: top;\n",
       "    }\n",
       "\n",
       "    .dataframe thead th {\n",
       "        text-align: right;\n",
       "    }\n",
       "</style>\n",
       "<table border=\"1\" class=\"dataframe\">\n",
       "  <thead>\n",
       "    <tr style=\"text-align: right;\">\n",
       "      <th></th>\n",
       "      <th>B</th>\n",
       "      <th>C</th>\n",
       "      <th>A</th>\n",
       "    </tr>\n",
       "  </thead>\n",
       "  <tbody>\n",
       "    <tr>\n",
       "      <th>0</th>\n",
       "      <td>1</td>\n",
       "      <td>NaN</td>\n",
       "      <td>0</td>\n",
       "    </tr>\n",
       "    <tr>\n",
       "      <th>2</th>\n",
       "      <td>3</td>\n",
       "      <td>NaN</td>\n",
       "      <td>2</td>\n",
       "    </tr>\n",
       "    <tr>\n",
       "      <th>4</th>\n",
       "      <td>5</td>\n",
       "      <td>NaN</td>\n",
       "      <td>4</td>\n",
       "    </tr>\n",
       "  </tbody>\n",
       "</table>\n",
       "</div>"
      ],
      "text/plain": [
       "   B   C  A\n",
       "0  1 NaN  0\n",
       "2  3 NaN  2\n",
       "4  5 NaN  4"
      ]
     },
     "execution_count": 229,
     "metadata": {},
     "output_type": "execute_result"
    }
   ],
   "source": [
    "df.reindex(columns = ['B', 'C', 'A'])"
   ]
  },
  {
   "cell_type": "code",
   "execution_count": 280,
   "id": "f49aaf29-6eba-4729-b9c1-89b2d79e44b2",
   "metadata": {},
   "outputs": [
    {
     "data": {
      "text/html": [
       "<div>\n",
       "<style scoped>\n",
       "    .dataframe tbody tr th:only-of-type {\n",
       "        vertical-align: middle;\n",
       "    }\n",
       "\n",
       "    .dataframe tbody tr th {\n",
       "        vertical-align: top;\n",
       "    }\n",
       "\n",
       "    .dataframe thead th {\n",
       "        text-align: right;\n",
       "    }\n",
       "</style>\n",
       "<table border=\"1\" class=\"dataframe\">\n",
       "  <thead>\n",
       "    <tr style=\"text-align: right;\">\n",
       "      <th></th>\n",
       "      <th>영화</th>\n",
       "      <th>평점</th>\n",
       "    </tr>\n",
       "  </thead>\n",
       "  <tbody>\n",
       "    <tr>\n",
       "      <th>0</th>\n",
       "      <td>영화1</td>\n",
       "      <td>9.0</td>\n",
       "    </tr>\n",
       "    <tr>\n",
       "      <th>1</th>\n",
       "      <td>영화2</td>\n",
       "      <td>8.0</td>\n",
       "    </tr>\n",
       "    <tr>\n",
       "      <th>2</th>\n",
       "      <td>영화4</td>\n",
       "      <td>NaN</td>\n",
       "    </tr>\n",
       "    <tr>\n",
       "      <th>3</th>\n",
       "      <td>영화5</td>\n",
       "      <td>7.0</td>\n",
       "    </tr>\n",
       "  </tbody>\n",
       "</table>\n",
       "</div>"
      ],
      "text/plain": [
       "    영화   평점\n",
       "0  영화1  9.0\n",
       "1  영화2  8.0\n",
       "2  영화4  NaN\n",
       "3  영화5  7.0"
      ]
     },
     "execution_count": 280,
     "metadata": {},
     "output_type": "execute_result"
    }
   ],
   "source": [
    "data = {'영화': ['영화1', '영화2', '영화4', '영화5'],\n",
    "        '평점':[9,8,np.nan,7]}\n",
    "\n",
    "df = pd.DataFrame(data)\n",
    "df"
   ]
  },
  {
   "cell_type": "code",
   "execution_count": 281,
   "id": "ad319a6f-fc81-4157-80a9-a99b66e969f6",
   "metadata": {},
   "outputs": [
    {
     "data": {
      "text/html": [
       "<div>\n",
       "<style scoped>\n",
       "    .dataframe tbody tr th:only-of-type {\n",
       "        vertical-align: middle;\n",
       "    }\n",
       "\n",
       "    .dataframe tbody tr th {\n",
       "        vertical-align: top;\n",
       "    }\n",
       "\n",
       "    .dataframe thead th {\n",
       "        text-align: right;\n",
       "    }\n",
       "</style>\n",
       "<table border=\"1\" class=\"dataframe\">\n",
       "  <thead>\n",
       "    <tr style=\"text-align: right;\">\n",
       "      <th></th>\n",
       "      <th>영화</th>\n",
       "      <th>평점</th>\n",
       "    </tr>\n",
       "  </thead>\n",
       "  <tbody>\n",
       "    <tr>\n",
       "      <th>영화1</th>\n",
       "      <td>NaN</td>\n",
       "      <td>NaN</td>\n",
       "    </tr>\n",
       "    <tr>\n",
       "      <th>영화2</th>\n",
       "      <td>NaN</td>\n",
       "      <td>NaN</td>\n",
       "    </tr>\n",
       "    <tr>\n",
       "      <th>영화3</th>\n",
       "      <td>NaN</td>\n",
       "      <td>NaN</td>\n",
       "    </tr>\n",
       "    <tr>\n",
       "      <th>영화4</th>\n",
       "      <td>NaN</td>\n",
       "      <td>NaN</td>\n",
       "    </tr>\n",
       "    <tr>\n",
       "      <th>영화5</th>\n",
       "      <td>NaN</td>\n",
       "      <td>NaN</td>\n",
       "    </tr>\n",
       "  </tbody>\n",
       "</table>\n",
       "</div>"
      ],
      "text/plain": [
       "      영화  평점\n",
       "영화1  NaN NaN\n",
       "영화2  NaN NaN\n",
       "영화3  NaN NaN\n",
       "영화4  NaN NaN\n",
       "영화5  NaN NaN"
      ]
     },
     "execution_count": 281,
     "metadata": {},
     "output_type": "execute_result"
    }
   ],
   "source": [
    "# 결측치를 평균값으로 채워주고싶을 때\n",
    "new_index = ['영화1', '영화2', '영화3', '영화4', '영화5']\n",
    "\n",
    "df_re = df.reindex(new_index)\n",
    "df_re "
   ]
  },
  {
   "cell_type": "code",
   "execution_count": 282,
   "id": "06305c52-8196-47e2-885b-d4959c91be97",
   "metadata": {},
   "outputs": [
    {
     "data": {
      "text/html": [
       "<div>\n",
       "<style scoped>\n",
       "    .dataframe tbody tr th:only-of-type {\n",
       "        vertical-align: middle;\n",
       "    }\n",
       "\n",
       "    .dataframe tbody tr th {\n",
       "        vertical-align: top;\n",
       "    }\n",
       "\n",
       "    .dataframe thead th {\n",
       "        text-align: right;\n",
       "    }\n",
       "</style>\n",
       "<table border=\"1\" class=\"dataframe\">\n",
       "  <thead>\n",
       "    <tr style=\"text-align: right;\">\n",
       "      <th></th>\n",
       "      <th>평점</th>\n",
       "    </tr>\n",
       "    <tr>\n",
       "      <th>영화</th>\n",
       "      <th></th>\n",
       "    </tr>\n",
       "  </thead>\n",
       "  <tbody>\n",
       "    <tr>\n",
       "      <th>영화1</th>\n",
       "      <td>9.0</td>\n",
       "    </tr>\n",
       "    <tr>\n",
       "      <th>영화2</th>\n",
       "      <td>8.0</td>\n",
       "    </tr>\n",
       "    <tr>\n",
       "      <th>영화3</th>\n",
       "      <td>NaN</td>\n",
       "    </tr>\n",
       "    <tr>\n",
       "      <th>영화4</th>\n",
       "      <td>NaN</td>\n",
       "    </tr>\n",
       "    <tr>\n",
       "      <th>영화5</th>\n",
       "      <td>7.0</td>\n",
       "    </tr>\n",
       "  </tbody>\n",
       "</table>\n",
       "</div>"
      ],
      "text/plain": [
       "      평점\n",
       "영화      \n",
       "영화1  9.0\n",
       "영화2  8.0\n",
       "영화3  NaN\n",
       "영화4  NaN\n",
       "영화5  7.0"
      ]
     },
     "execution_count": 282,
     "metadata": {},
     "output_type": "execute_result"
    }
   ],
   "source": [
    "# 결측치를 평균값으로 채워주고싶을 때\n",
    "new_index = ['영화1', '영화2', '영화3', '영화4', '영화5']\n",
    "\n",
    "df = df.set_index('영화')\n",
    "\n",
    "df_re = df.reindex(new_index)\n",
    "df_re "
   ]
  },
  {
   "cell_type": "code",
   "execution_count": 283,
   "id": "5bfea42f-bc01-43a8-a374-c5c281417694",
   "metadata": {},
   "outputs": [
    {
     "ename": "SyntaxError",
     "evalue": "closing parenthesis ')' does not match opening parenthesis '{' (3172275213.py, line 10)",
     "output_type": "error",
     "traceback": [
      "\u001b[0;36m  Cell \u001b[0;32mIn[283], line 10\u001b[0;36m\u001b[0m\n\u001b[0;31m    df_re.fillna(value={'평점':average, inpace = True))\u001b[0m\n\u001b[0m                                                   ^\u001b[0m\n\u001b[0;31mSyntaxError\u001b[0m\u001b[0;31m:\u001b[0m closing parenthesis ')' does not match opening parenthesis '{'\n"
     ]
    }
   ],
   "source": [
    "# 평균 계산 \n",
    "new_index = ['영화1', '영화2', '영화3', '영화4', '영화5']\n",
    "\n",
    "df = df.set_index('영화')\n",
    "\n",
    "df_re = df.reindex(new_index)\n",
    "\n",
    "average = df_re['평점'].mean()\n",
    "\n",
    "df_re.fillna(value={'평점':average, inpace = True))\n",
    "df_re"
   ]
  },
  {
   "cell_type": "code",
   "execution_count": 284,
   "id": "dcbf146a-174a-4bf5-b2d1-aa1d18b1c0fc",
   "metadata": {},
   "outputs": [
    {
     "data": {
      "text/html": [
       "<div>\n",
       "<style scoped>\n",
       "    .dataframe tbody tr th:only-of-type {\n",
       "        vertical-align: middle;\n",
       "    }\n",
       "\n",
       "    .dataframe tbody tr th {\n",
       "        vertical-align: top;\n",
       "    }\n",
       "\n",
       "    .dataframe thead th {\n",
       "        text-align: right;\n",
       "    }\n",
       "</style>\n",
       "<table border=\"1\" class=\"dataframe\">\n",
       "  <thead>\n",
       "    <tr style=\"text-align: right;\">\n",
       "      <th></th>\n",
       "      <th>A</th>\n",
       "      <th>B</th>\n",
       "      <th>C</th>\n",
       "    </tr>\n",
       "  </thead>\n",
       "  <tbody>\n",
       "    <tr>\n",
       "      <th>ㄱ</th>\n",
       "      <td>0</td>\n",
       "      <td>1</td>\n",
       "      <td>2</td>\n",
       "    </tr>\n",
       "    <tr>\n",
       "      <th>ㄴ</th>\n",
       "      <td>3</td>\n",
       "      <td>4</td>\n",
       "      <td>5</td>\n",
       "    </tr>\n",
       "    <tr>\n",
       "      <th>ㄷ</th>\n",
       "      <td>6</td>\n",
       "      <td>7</td>\n",
       "      <td>8</td>\n",
       "    </tr>\n",
       "  </tbody>\n",
       "</table>\n",
       "</div>"
      ],
      "text/plain": [
       "   A  B  C\n",
       "ㄱ  0  1  2\n",
       "ㄴ  3  4  5\n",
       "ㄷ  6  7  8"
      ]
     },
     "execution_count": 284,
     "metadata": {},
     "output_type": "execute_result"
    }
   ],
   "source": [
    "df = pd.DataFrame(np.arange(3*3).reshape(3,3), index=['ㄱ', 'ㄴ', 'ㄷ'], columns = ['A', 'B' ,'C'])\n",
    "df"
   ]
  },
  {
   "cell_type": "code",
   "execution_count": 285,
   "id": "e64d0c4e-e426-40a4-83ff-67071dbfbaa9",
   "metadata": {},
   "outputs": [
    {
     "data": {
      "text/html": [
       "<div>\n",
       "<style scoped>\n",
       "    .dataframe tbody tr th:only-of-type {\n",
       "        vertical-align: middle;\n",
       "    }\n",
       "\n",
       "    .dataframe tbody tr th {\n",
       "        vertical-align: top;\n",
       "    }\n",
       "\n",
       "    .dataframe thead th {\n",
       "        text-align: right;\n",
       "    }\n",
       "</style>\n",
       "<table border=\"1\" class=\"dataframe\">\n",
       "  <thead>\n",
       "    <tr style=\"text-align: right;\">\n",
       "      <th></th>\n",
       "      <th>A</th>\n",
       "      <th>B</th>\n",
       "      <th>C</th>\n",
       "    </tr>\n",
       "  </thead>\n",
       "  <tbody>\n",
       "    <tr>\n",
       "      <th>ㄴ</th>\n",
       "      <td>3</td>\n",
       "      <td>4</td>\n",
       "      <td>5</td>\n",
       "    </tr>\n",
       "    <tr>\n",
       "      <th>ㄷ</th>\n",
       "      <td>6</td>\n",
       "      <td>7</td>\n",
       "      <td>8</td>\n",
       "    </tr>\n",
       "  </tbody>\n",
       "</table>\n",
       "</div>"
      ],
      "text/plain": [
       "   A  B  C\n",
       "ㄴ  3  4  5\n",
       "ㄷ  6  7  8"
      ]
     },
     "execution_count": 285,
     "metadata": {},
     "output_type": "execute_result"
    }
   ],
   "source": [
    " df.drop('ㄱ') # ㄱ을 지우겠다."
   ]
  },
  {
   "cell_type": "code",
   "execution_count": 286,
   "id": "6a09caf6-2407-43d4-b980-a6117cab5762",
   "metadata": {},
   "outputs": [],
   "source": [
    "df.drop(['A','B'], axis='columns', inplace = True)\n",
    "# 위 코드 실행 후 /df.drop(['A','B']/만 적어놓으면 이미 A가 삭제되어 있으서 오류 발생 \n",
    "# inplace = True : 이후에 나올 값에도 변경된게 적용이 된다."
   ]
  },
  {
   "cell_type": "code",
   "execution_count": 287,
   "id": "70f1c6ba-41fa-411d-b4f4-7e1f3bd67914",
   "metadata": {},
   "outputs": [
    {
     "data": {
      "text/html": [
       "<div>\n",
       "<style scoped>\n",
       "    .dataframe tbody tr th:only-of-type {\n",
       "        vertical-align: middle;\n",
       "    }\n",
       "\n",
       "    .dataframe tbody tr th {\n",
       "        vertical-align: top;\n",
       "    }\n",
       "\n",
       "    .dataframe thead th {\n",
       "        text-align: right;\n",
       "    }\n",
       "</style>\n",
       "<table border=\"1\" class=\"dataframe\">\n",
       "  <thead>\n",
       "    <tr style=\"text-align: right;\">\n",
       "      <th></th>\n",
       "      <th>C</th>\n",
       "    </tr>\n",
       "  </thead>\n",
       "  <tbody>\n",
       "    <tr>\n",
       "      <th>ㄱ</th>\n",
       "      <td>2</td>\n",
       "    </tr>\n",
       "    <tr>\n",
       "      <th>ㄴ</th>\n",
       "      <td>5</td>\n",
       "    </tr>\n",
       "    <tr>\n",
       "      <th>ㄷ</th>\n",
       "      <td>8</td>\n",
       "    </tr>\n",
       "  </tbody>\n",
       "</table>\n",
       "</div>"
      ],
      "text/plain": [
       "   C\n",
       "ㄱ  2\n",
       "ㄴ  5\n",
       "ㄷ  8"
      ]
     },
     "execution_count": 287,
     "metadata": {},
     "output_type": "execute_result"
    }
   ],
   "source": [
    "df"
   ]
  },
  {
   "cell_type": "code",
   "execution_count": 288,
   "id": "daa903f3-de98-4eba-946c-461457d32f0a",
   "metadata": {},
   "outputs": [
    {
     "data": {
      "text/plain": [
       "0    0\n",
       "1    1\n",
       "2    2\n",
       "dtype: int64"
      ]
     },
     "execution_count": 288,
     "metadata": {},
     "output_type": "execute_result"
    }
   ],
   "source": [
    "s = pd.Series(range(3))\n",
    "s"
   ]
  },
  {
   "cell_type": "code",
   "execution_count": 311,
   "id": "5a3b2533-3e0a-401f-9c8b-d05b7c27979f",
   "metadata": {},
   "outputs": [
    {
     "data": {
      "text/plain": [
       "a    0\n",
       "b    1\n",
       "c    2\n",
       "dtype: int64"
      ]
     },
     "execution_count": 311,
     "metadata": {},
     "output_type": "execute_result"
    }
   ],
   "source": [
    "s = pd.Series(range(3), index=['a', 'b', 'c'])\n",
    "s"
   ]
  },
  {
   "cell_type": "code",
   "execution_count": 293,
   "id": "f6b6dcb0-732c-4565-a430-d5648db3d752",
   "metadata": {},
   "outputs": [
    {
     "name": "stderr",
     "output_type": "stream",
     "text": [
      "/var/folders/mr/zpw8mcz14pj_gkyqs4k_zl4c0000gn/T/ipykernel_1398/4159512550.py:1: FutureWarning: Series.__getitem__ treating keys as positions is deprecated. In a future version, integer keys will always be treated as labels (consistent with DataFrame behavior). To access a value by position, use `ser.iloc[pos]`\n",
      "  s[-1] # 판다스에서 작성될 수 없다.\n"
     ]
    },
    {
     "data": {
      "text/plain": [
       "2"
      ]
     },
     "execution_count": 293,
     "metadata": {},
     "output_type": "execute_result"
    }
   ],
   "source": [
    "s[-1] # 판다스에서 작성될 수 없다.\n",
    "# 정확한 인덱싱을 위해 iloc, loc를 사용해야 한다."
   ]
  },
  {
   "cell_type": "code",
   "execution_count": 294,
   "id": "d31b5a06-b92c-485e-a0e4-f07968ed2747",
   "metadata": {},
   "outputs": [
    {
     "data": {
      "text/html": [
       "<div>\n",
       "<style scoped>\n",
       "    .dataframe tbody tr th:only-of-type {\n",
       "        vertical-align: middle;\n",
       "    }\n",
       "\n",
       "    .dataframe tbody tr th {\n",
       "        vertical-align: top;\n",
       "    }\n",
       "\n",
       "    .dataframe thead th {\n",
       "        text-align: right;\n",
       "    }\n",
       "</style>\n",
       "<table border=\"1\" class=\"dataframe\">\n",
       "  <thead>\n",
       "    <tr style=\"text-align: right;\">\n",
       "      <th></th>\n",
       "      <th>a</th>\n",
       "      <th>b</th>\n",
       "      <th>c</th>\n",
       "      <th>d</th>\n",
       "    </tr>\n",
       "  </thead>\n",
       "  <tbody>\n",
       "    <tr>\n",
       "      <th>0</th>\n",
       "      <td>0</td>\n",
       "      <td>1</td>\n",
       "      <td>NaN</td>\n",
       "      <td>3</td>\n",
       "    </tr>\n",
       "    <tr>\n",
       "      <th>1</th>\n",
       "      <td>4</td>\n",
       "      <td>5</td>\n",
       "      <td>6.0</td>\n",
       "      <td>7</td>\n",
       "    </tr>\n",
       "    <tr>\n",
       "      <th>2</th>\n",
       "      <td>8</td>\n",
       "      <td>9</td>\n",
       "      <td>10.0</td>\n",
       "      <td>11</td>\n",
       "    </tr>\n",
       "  </tbody>\n",
       "</table>\n",
       "</div>"
      ],
      "text/plain": [
       "   a  b     c   d\n",
       "0  0  1   NaN   3\n",
       "1  4  5   6.0   7\n",
       "2  8  9  10.0  11"
      ]
     },
     "execution_count": 294,
     "metadata": {},
     "output_type": "execute_result"
    }
   ],
   "source": [
    "df1 = pd.DataFrame(np.arange(3*4).reshape(3, 4), columns = list('abcd'))\n",
    "df1.loc[0, 'c']=np.nan\n",
    "df1"
   ]
  },
  {
   "cell_type": "code",
   "execution_count": 295,
   "id": "8982476e-fa1a-48fa-becf-b7e9e8acb737",
   "metadata": {},
   "outputs": [
    {
     "data": {
      "text/html": [
       "<div>\n",
       "<style scoped>\n",
       "    .dataframe tbody tr th:only-of-type {\n",
       "        vertical-align: middle;\n",
       "    }\n",
       "\n",
       "    .dataframe tbody tr th {\n",
       "        vertical-align: top;\n",
       "    }\n",
       "\n",
       "    .dataframe thead th {\n",
       "        text-align: right;\n",
       "    }\n",
       "</style>\n",
       "<table border=\"1\" class=\"dataframe\">\n",
       "  <thead>\n",
       "    <tr style=\"text-align: right;\">\n",
       "      <th></th>\n",
       "      <th>a</th>\n",
       "      <th>b</th>\n",
       "      <th>c</th>\n",
       "      <th>d</th>\n",
       "      <th>e</th>\n",
       "    </tr>\n",
       "  </thead>\n",
       "  <tbody>\n",
       "    <tr>\n",
       "      <th>0</th>\n",
       "      <td>0</td>\n",
       "      <td>1.0</td>\n",
       "      <td>NaN</td>\n",
       "      <td>3</td>\n",
       "      <td>4</td>\n",
       "    </tr>\n",
       "    <tr>\n",
       "      <th>1</th>\n",
       "      <td>5</td>\n",
       "      <td>NaN</td>\n",
       "      <td>7.0</td>\n",
       "      <td>8</td>\n",
       "      <td>9</td>\n",
       "    </tr>\n",
       "    <tr>\n",
       "      <th>2</th>\n",
       "      <td>10</td>\n",
       "      <td>11.0</td>\n",
       "      <td>12.0</td>\n",
       "      <td>13</td>\n",
       "      <td>14</td>\n",
       "    </tr>\n",
       "    <tr>\n",
       "      <th>3</th>\n",
       "      <td>15</td>\n",
       "      <td>16.0</td>\n",
       "      <td>17.0</td>\n",
       "      <td>18</td>\n",
       "      <td>19</td>\n",
       "    </tr>\n",
       "  </tbody>\n",
       "</table>\n",
       "</div>"
      ],
      "text/plain": [
       "    a     b     c   d   e\n",
       "0   0   1.0   NaN   3   4\n",
       "1   5   NaN   7.0   8   9\n",
       "2  10  11.0  12.0  13  14\n",
       "3  15  16.0  17.0  18  19"
      ]
     },
     "execution_count": 295,
     "metadata": {},
     "output_type": "execute_result"
    }
   ],
   "source": [
    "df2 = pd.DataFrame(np.arange(4*5).reshape(4, 5), columns = list('abcde'))\n",
    "df2.loc[1, 'b'] = np.nan\n",
    "df2.loc[0, 'c'] = np.nan\n",
    "df2"
   ]
  },
  {
   "cell_type": "code",
   "execution_count": 296,
   "id": "2fe6af4b-32af-4a25-ab87-fb2c39cabbb0",
   "metadata": {},
   "outputs": [
    {
     "data": {
      "text/html": [
       "<div>\n",
       "<style scoped>\n",
       "    .dataframe tbody tr th:only-of-type {\n",
       "        vertical-align: middle;\n",
       "    }\n",
       "\n",
       "    .dataframe tbody tr th {\n",
       "        vertical-align: top;\n",
       "    }\n",
       "\n",
       "    .dataframe thead th {\n",
       "        text-align: right;\n",
       "    }\n",
       "</style>\n",
       "<table border=\"1\" class=\"dataframe\">\n",
       "  <thead>\n",
       "    <tr style=\"text-align: right;\">\n",
       "      <th></th>\n",
       "      <th>a</th>\n",
       "      <th>b</th>\n",
       "      <th>c</th>\n",
       "      <th>d</th>\n",
       "      <th>e</th>\n",
       "    </tr>\n",
       "  </thead>\n",
       "  <tbody>\n",
       "    <tr>\n",
       "      <th>0</th>\n",
       "      <td>0.0</td>\n",
       "      <td>2.0</td>\n",
       "      <td>NaN</td>\n",
       "      <td>6.0</td>\n",
       "      <td>NaN</td>\n",
       "    </tr>\n",
       "    <tr>\n",
       "      <th>1</th>\n",
       "      <td>9.0</td>\n",
       "      <td>NaN</td>\n",
       "      <td>13.0</td>\n",
       "      <td>15.0</td>\n",
       "      <td>NaN</td>\n",
       "    </tr>\n",
       "    <tr>\n",
       "      <th>2</th>\n",
       "      <td>18.0</td>\n",
       "      <td>20.0</td>\n",
       "      <td>22.0</td>\n",
       "      <td>24.0</td>\n",
       "      <td>NaN</td>\n",
       "    </tr>\n",
       "    <tr>\n",
       "      <th>3</th>\n",
       "      <td>NaN</td>\n",
       "      <td>NaN</td>\n",
       "      <td>NaN</td>\n",
       "      <td>NaN</td>\n",
       "      <td>NaN</td>\n",
       "    </tr>\n",
       "  </tbody>\n",
       "</table>\n",
       "</div>"
      ],
      "text/plain": [
       "      a     b     c     d   e\n",
       "0   0.0   2.0   NaN   6.0 NaN\n",
       "1   9.0   NaN  13.0  15.0 NaN\n",
       "2  18.0  20.0  22.0  24.0 NaN\n",
       "3   NaN   NaN   NaN   NaN NaN"
      ]
     },
     "execution_count": 296,
     "metadata": {},
     "output_type": "execute_result"
    }
   ],
   "source": [
    "df1 + df2"
   ]
  },
  {
   "cell_type": "code",
   "execution_count": 300,
   "id": "2e63702d-70cb-4598-a786-46e87fbaf31d",
   "metadata": {},
   "outputs": [
    {
     "data": {
      "text/html": [
       "<div>\n",
       "<style scoped>\n",
       "    .dataframe tbody tr th:only-of-type {\n",
       "        vertical-align: middle;\n",
       "    }\n",
       "\n",
       "    .dataframe tbody tr th {\n",
       "        vertical-align: top;\n",
       "    }\n",
       "\n",
       "    .dataframe thead th {\n",
       "        text-align: right;\n",
       "    }\n",
       "</style>\n",
       "<table border=\"1\" class=\"dataframe\">\n",
       "  <thead>\n",
       "    <tr style=\"text-align: right;\">\n",
       "      <th></th>\n",
       "      <th>a</th>\n",
       "      <th>b</th>\n",
       "      <th>c</th>\n",
       "      <th>d</th>\n",
       "      <th>e</th>\n",
       "    </tr>\n",
       "  </thead>\n",
       "  <tbody>\n",
       "    <tr>\n",
       "      <th>0</th>\n",
       "      <td>0.0</td>\n",
       "      <td>2.0</td>\n",
       "      <td>NaN</td>\n",
       "      <td>6.0</td>\n",
       "      <td>54.0</td>\n",
       "    </tr>\n",
       "    <tr>\n",
       "      <th>1</th>\n",
       "      <td>9.0</td>\n",
       "      <td>55.0</td>\n",
       "      <td>13.0</td>\n",
       "      <td>15.0</td>\n",
       "      <td>59.0</td>\n",
       "    </tr>\n",
       "    <tr>\n",
       "      <th>2</th>\n",
       "      <td>18.0</td>\n",
       "      <td>20.0</td>\n",
       "      <td>22.0</td>\n",
       "      <td>24.0</td>\n",
       "      <td>64.0</td>\n",
       "    </tr>\n",
       "    <tr>\n",
       "      <th>3</th>\n",
       "      <td>65.0</td>\n",
       "      <td>66.0</td>\n",
       "      <td>67.0</td>\n",
       "      <td>68.0</td>\n",
       "      <td>69.0</td>\n",
       "    </tr>\n",
       "  </tbody>\n",
       "</table>\n",
       "</div>"
      ],
      "text/plain": [
       "      a     b     c     d     e\n",
       "0   0.0   2.0   NaN   6.0  54.0\n",
       "1   9.0  55.0  13.0  15.0  59.0\n",
       "2  18.0  20.0  22.0  24.0  64.0\n",
       "3  65.0  66.0  67.0  68.0  69.0"
      ]
     },
     "execution_count": 300,
     "metadata": {},
     "output_type": "execute_result"
    }
   ],
   "source": [
    "df1.add(df2, fill_value=50) # 더하기 대신 add를 써줄 수 있다.\n",
    "# 위에 보이듯이 결측깂이 발생할 수 있기에, add로 실현"
   ]
  },
  {
   "cell_type": "code",
   "execution_count": 312,
   "id": "70a50eca-bbb6-4bad-9606-b16db2f3fd9a",
   "metadata": {},
   "outputs": [
    {
     "ename": "AttributeError",
     "evalue": "'DataFrame' object has no attribute 'ilon'",
     "output_type": "error",
     "traceback": [
      "\u001b[0;31m---------------------------------------------------------------------------\u001b[0m",
      "\u001b[0;31mAttributeError\u001b[0m                            Traceback (most recent call last)",
      "\u001b[0;32m/var/folders/mr/zpw8mcz14pj_gkyqs4k_zl4c0000gn/T/ipykernel_1398/1451751448.py\u001b[0m in \u001b[0;36m?\u001b[0;34m()\u001b[0m\n\u001b[0;32m----> 1\u001b[0;31m \u001b[0ms1\u001b[0m \u001b[0;34m=\u001b[0m \u001b[0mdf1\u001b[0m\u001b[0;34m.\u001b[0m\u001b[0milon\u001b[0m\u001b[0;34m[\u001b[0m\u001b[0;36m0\u001b[0m\u001b[0;34m]\u001b[0m\u001b[0;34m\u001b[0m\u001b[0;34m\u001b[0m\u001b[0m\n\u001b[0m\u001b[1;32m      2\u001b[0m \u001b[0ms1\u001b[0m\u001b[0;34m\u001b[0m\u001b[0;34m\u001b[0m\u001b[0m\n",
      "\u001b[0;32m/opt/anaconda3/lib/python3.11/site-packages/pandas/core/generic.py\u001b[0m in \u001b[0;36m?\u001b[0;34m(self, name)\u001b[0m\n\u001b[1;32m   6200\u001b[0m             \u001b[0;32mand\u001b[0m \u001b[0mname\u001b[0m \u001b[0;32mnot\u001b[0m \u001b[0;32min\u001b[0m \u001b[0mself\u001b[0m\u001b[0;34m.\u001b[0m\u001b[0m_accessors\u001b[0m\u001b[0;34m\u001b[0m\u001b[0;34m\u001b[0m\u001b[0m\n\u001b[1;32m   6201\u001b[0m             \u001b[0;32mand\u001b[0m \u001b[0mself\u001b[0m\u001b[0;34m.\u001b[0m\u001b[0m_info_axis\u001b[0m\u001b[0;34m.\u001b[0m\u001b[0m_can_hold_identifiers_and_holds_name\u001b[0m\u001b[0;34m(\u001b[0m\u001b[0mname\u001b[0m\u001b[0;34m)\u001b[0m\u001b[0;34m\u001b[0m\u001b[0;34m\u001b[0m\u001b[0m\n\u001b[1;32m   6202\u001b[0m         ):\n\u001b[1;32m   6203\u001b[0m             \u001b[0;32mreturn\u001b[0m \u001b[0mself\u001b[0m\u001b[0;34m[\u001b[0m\u001b[0mname\u001b[0m\u001b[0;34m]\u001b[0m\u001b[0;34m\u001b[0m\u001b[0;34m\u001b[0m\u001b[0m\n\u001b[0;32m-> 6204\u001b[0;31m         \u001b[0;32mreturn\u001b[0m \u001b[0mobject\u001b[0m\u001b[0;34m.\u001b[0m\u001b[0m__getattribute__\u001b[0m\u001b[0;34m(\u001b[0m\u001b[0mself\u001b[0m\u001b[0;34m,\u001b[0m \u001b[0mname\u001b[0m\u001b[0;34m)\u001b[0m\u001b[0;34m\u001b[0m\u001b[0;34m\u001b[0m\u001b[0m\n\u001b[0m",
      "\u001b[0;31mAttributeError\u001b[0m: 'DataFrame' object has no attribute 'ilon'"
     ]
    }
   ],
   "source": [
    "s1 = df1.ilon[0]\n",
    "s1"
   ]
  },
  {
   "cell_type": "code",
   "execution_count": 302,
   "id": "9ab2f96f-b787-4845-a8e3-9cb58e0cd1ec",
   "metadata": {},
   "outputs": [
    {
     "ename": "NameError",
     "evalue": "name 's1' is not defined",
     "output_type": "error",
     "traceback": [
      "\u001b[0;31m---------------------------------------------------------------------------\u001b[0m",
      "\u001b[0;31mNameError\u001b[0m                                 Traceback (most recent call last)",
      "Cell \u001b[0;32mIn[302], line 1\u001b[0m\n\u001b[0;32m----> 1\u001b[0m df1 \u001b[38;5;241m=\u001b[39m s1\n",
      "\u001b[0;31mNameError\u001b[0m: name 's1' is not defined"
     ]
    }
   ],
   "source": [
    "df1 = s1"
   ]
  },
  {
   "cell_type": "code",
   "execution_count": 314,
   "id": "45e5bf95-4bc9-4bef-8412-171a8cb8bf33",
   "metadata": {},
   "outputs": [
    {
     "data": {
      "text/plain": [
       "0    0\n",
       "1    4\n",
       "2    8\n",
       "Name: a, dtype: int64"
      ]
     },
     "execution_count": 314,
     "metadata": {},
     "output_type": "execute_result"
    }
   ],
   "source": [
    "s1 = df1['a'] # a 기준으로 0, 4, 8을 뽑았다.\n",
    "s1 # 인덱스값이 0, 1, 2 "
   ]
  },
  {
   "cell_type": "code",
   "execution_count": 313,
   "id": "8383613d-80e6-48e6-8671-65aeecf2d8fc",
   "metadata": {},
   "outputs": [
    {
     "data": {
      "text/html": [
       "<div>\n",
       "<style scoped>\n",
       "    .dataframe tbody tr th:only-of-type {\n",
       "        vertical-align: middle;\n",
       "    }\n",
       "\n",
       "    .dataframe tbody tr th {\n",
       "        vertical-align: top;\n",
       "    }\n",
       "\n",
       "    .dataframe thead th {\n",
       "        text-align: right;\n",
       "    }\n",
       "</style>\n",
       "<table border=\"1\" class=\"dataframe\">\n",
       "  <thead>\n",
       "    <tr style=\"text-align: right;\">\n",
       "      <th></th>\n",
       "      <th>a</th>\n",
       "      <th>b</th>\n",
       "      <th>c</th>\n",
       "      <th>d</th>\n",
       "      <th>0</th>\n",
       "      <th>1</th>\n",
       "      <th>2</th>\n",
       "    </tr>\n",
       "  </thead>\n",
       "  <tbody>\n",
       "    <tr>\n",
       "      <th>0</th>\n",
       "      <td>NaN</td>\n",
       "      <td>NaN</td>\n",
       "      <td>NaN</td>\n",
       "      <td>NaN</td>\n",
       "      <td>NaN</td>\n",
       "      <td>NaN</td>\n",
       "      <td>NaN</td>\n",
       "    </tr>\n",
       "    <tr>\n",
       "      <th>1</th>\n",
       "      <td>NaN</td>\n",
       "      <td>NaN</td>\n",
       "      <td>NaN</td>\n",
       "      <td>NaN</td>\n",
       "      <td>NaN</td>\n",
       "      <td>NaN</td>\n",
       "      <td>NaN</td>\n",
       "    </tr>\n",
       "    <tr>\n",
       "      <th>2</th>\n",
       "      <td>NaN</td>\n",
       "      <td>NaN</td>\n",
       "      <td>NaN</td>\n",
       "      <td>NaN</td>\n",
       "      <td>NaN</td>\n",
       "      <td>NaN</td>\n",
       "      <td>NaN</td>\n",
       "    </tr>\n",
       "  </tbody>\n",
       "</table>\n",
       "</div>"
      ],
      "text/plain": [
       "    a   b   c   d   0   1   2\n",
       "0 NaN NaN NaN NaN NaN NaN NaN\n",
       "1 NaN NaN NaN NaN NaN NaN NaN\n",
       "2 NaN NaN NaN NaN NaN NaN NaN"
      ]
     },
     "execution_count": 313,
     "metadata": {},
     "output_type": "execute_result"
    }
   ],
   "source": [
    "df1 + s1\n",
    "# 위 코드를 참고해서 보면 되는데,\n",
    "# 0, 1, 2와 0, 4, 8 중 겹치는 것이 없으니, 모두 NaN으로 출력된 모습"
   ]
  },
  {
   "cell_type": "code",
   "execution_count": 315,
   "id": "e3ba2e00-de57-434f-9121-6723f88e4e41",
   "metadata": {},
   "outputs": [
    {
     "data": {
      "text/html": [
       "<div>\n",
       "<style scoped>\n",
       "    .dataframe tbody tr th:only-of-type {\n",
       "        vertical-align: middle;\n",
       "    }\n",
       "\n",
       "    .dataframe tbody tr th {\n",
       "        vertical-align: top;\n",
       "    }\n",
       "\n",
       "    .dataframe thead th {\n",
       "        text-align: right;\n",
       "    }\n",
       "</style>\n",
       "<table border=\"1\" class=\"dataframe\">\n",
       "  <thead>\n",
       "    <tr style=\"text-align: right;\">\n",
       "      <th></th>\n",
       "      <th>a</th>\n",
       "      <th>b</th>\n",
       "      <th>c</th>\n",
       "      <th>d</th>\n",
       "    </tr>\n",
       "  </thead>\n",
       "  <tbody>\n",
       "    <tr>\n",
       "      <th>0</th>\n",
       "      <td>0</td>\n",
       "      <td>1</td>\n",
       "      <td>NaN</td>\n",
       "      <td>3</td>\n",
       "    </tr>\n",
       "    <tr>\n",
       "      <th>1</th>\n",
       "      <td>8</td>\n",
       "      <td>9</td>\n",
       "      <td>10.0</td>\n",
       "      <td>11</td>\n",
       "    </tr>\n",
       "    <tr>\n",
       "      <th>2</th>\n",
       "      <td>16</td>\n",
       "      <td>17</td>\n",
       "      <td>18.0</td>\n",
       "      <td>19</td>\n",
       "    </tr>\n",
       "  </tbody>\n",
       "</table>\n",
       "</div>"
      ],
      "text/plain": [
       "    a   b     c   d\n",
       "0   0   1   NaN   3\n",
       "1   8   9  10.0  11\n",
       "2  16  17  18.0  19"
      ]
     },
     "execution_count": 315,
     "metadata": {},
     "output_type": "execute_result"
    }
   ],
   "source": [
    "df1.add(s1, axis='index')"
   ]
  },
  {
   "cell_type": "code",
   "execution_count": 319,
   "id": "e6ce9a3e-facf-4c79-aa61-8f5b6be036f8",
   "metadata": {},
   "outputs": [
    {
     "name": "stdout",
     "output_type": "stream",
     "text": [
      "    이름  국어  영어  수학\n",
      "0  김지영  95  90  85\n",
      "1  안지수  97  86  88\n",
      "2  최성수  90  93  89\n",
      "3  황예린  94  85  88\n",
      "4  김소정  87  93  99\n",
      "   국어  영어  수학\n",
      "0  95  90  85\n",
      "1  97  86  88\n",
      "2  90  93  89\n",
      "3  94  85  88\n",
      "4  87  93  99\n",
      "0    270\n",
      "1    271\n",
      "2    272\n",
      "3    267\n",
      "4    279\n",
      "dtype: int64\n"
     ]
    }
   ],
   "source": [
    "# DataFrame의 sum() 메소드\n",
    "import pandas as pd\n",
    "\n",
    "# 데이터셋 입력\n",
    "scores = {'이름': ['김지영', '안지수', '최성수', '황예린', '김소정'],\n",
    "          '국어' : [95, 97, 90, 94, 87],\n",
    "          '영어' : [90, 86, 93, 85, 93],\n",
    "          '수학' : [85, 88, 89, 88, 99]}\n",
    "\n",
    "# 프레임에 scores 데이터값을 정형화하여 삽입\n",
    "frame = pd.DataFrame(scores)\n",
    "print(frame) # frame값을 출력\n",
    "\n",
    "frame2 = frame.iloc[:, [1, 2, 3]] # frame값 중, 행 :(전체), 열 [1, 2, 3](열 1, 2, 3번째 데이터) \n",
    "print(frame2) # 작성한 frame2의 값 출력\n",
    "\n",
    "total = frame2.sum(axis = 1) # 각 축의 합\n",
    "print(total) # 작성한 total값 출력"
   ]
  },
  {
   "cell_type": "code",
   "execution_count": 321,
   "id": "50f6f200-f6d7-4738-9737-f4a7f2799111",
   "metadata": {},
   "outputs": [
    {
     "name": "stdout",
     "output_type": "stream",
     "text": [
      "--------------------------------------------------\n",
      "이름 합계 평균\n",
      "--------------------------------------------------\n",
      "김지영 270 90.00\n",
      "안지수 271 90.33\n",
      "최성수 272 90.67\n",
      "황예린 267 89.00\n",
      "김소정 279 93.00\n",
      "--------------------------------------------------\n"
     ]
    }
   ],
   "source": [
    "# 성적 합계와 평균\n",
    "# DataFrame의 sum() 메소드\n",
    "import pandas as pd\n",
    "\n",
    "# 데이터셋 입력\n",
    "scores = {'이름': ['김지영', '안지수', '최성수', '황예린', '김소정'],\n",
    "          '국어' : [95, 97, 90, 94, 87],\n",
    "          '영어' : [90, 86, 93, 85, 93],\n",
    "          '수학' : [85, 88, 89, 88, 99]}\n",
    "\n",
    "frame = pd.DataFrame(scores) # 정형화된 데이터 frame에 삽입\n",
    "frame2 = frame.iloc[:, [1, 2, 3]] # frame2에 frame데이터 중 모든 행과 열의 1, 2, 3번째 줄 삽입\n",
    "\n",
    "total = frame2.sum(axis = 1) # total값은 frame2의 각각의 축의 합\n",
    "avg = frame2.mean(axis = 1) # avg값은 frame2의 각각의 축의 평균\n",
    "\n",
    "print('-' * 50)\n",
    "print('이름 합계 평균')\n",
    "print('-' * 50)\n",
    "\n",
    "for i in range(5) :\n",
    "    print('%s %d %.2f' % (frame.iloc[i, 0], total.iloc[i], avg.iloc[i])) \n",
    "    # 입력해준 데이터 형태 잘 확인하기!\n",
    "\n",
    "print('-' * 50)"
   ]
  },
  {
   "cell_type": "code",
   "execution_count": 324,
   "id": "59cc326f-cd19-4986-a896-423595c174e9",
   "metadata": {},
   "outputs": [
    {
     "data": {
      "text/html": [
       "<div>\n",
       "<style scoped>\n",
       "    .dataframe tbody tr th:only-of-type {\n",
       "        vertical-align: middle;\n",
       "    }\n",
       "\n",
       "    .dataframe tbody tr th {\n",
       "        vertical-align: top;\n",
       "    }\n",
       "\n",
       "    .dataframe thead th {\n",
       "        text-align: right;\n",
       "    }\n",
       "</style>\n",
       "<table border=\"1\" class=\"dataframe\">\n",
       "  <thead>\n",
       "    <tr style=\"text-align: right;\">\n",
       "      <th></th>\n",
       "      <th>a</th>\n",
       "      <th>b</th>\n",
       "      <th>c</th>\n",
       "      <th>d</th>\n",
       "    </tr>\n",
       "  </thead>\n",
       "  <tbody>\n",
       "    <tr>\n",
       "      <th>ㄱ</th>\n",
       "      <td>0.471435</td>\n",
       "      <td>-1.190976</td>\n",
       "      <td>1.432707</td>\n",
       "      <td>-0.312652</td>\n",
       "    </tr>\n",
       "    <tr>\n",
       "      <th>ㄴ</th>\n",
       "      <td>-0.720589</td>\n",
       "      <td>0.887163</td>\n",
       "      <td>0.859588</td>\n",
       "      <td>-0.636524</td>\n",
       "    </tr>\n",
       "    <tr>\n",
       "      <th>ㄷ</th>\n",
       "      <td>0.015696</td>\n",
       "      <td>-2.242685</td>\n",
       "      <td>1.150036</td>\n",
       "      <td>0.991946</td>\n",
       "    </tr>\n",
       "  </tbody>\n",
       "</table>\n",
       "</div>"
      ],
      "text/plain": [
       "          a         b         c         d\n",
       "ㄱ  0.471435 -1.190976  1.432707 -0.312652\n",
       "ㄴ -0.720589  0.887163  0.859588 -0.636524\n",
       "ㄷ  0.015696 -2.242685  1.150036  0.991946"
      ]
     },
     "execution_count": 324,
     "metadata": {},
     "output_type": "execute_result"
    }
   ],
   "source": [
    "rn = np.random.RandomState(1234)\n",
    "\n",
    "df = pd.DataFrame(rn.randn(3*4).reshape(3, 4), columns = list('abcd'), index=list('ㄱㄴㄷ'))\n",
    "df"
   ]
  },
  {
   "cell_type": "code",
   "execution_count": 326,
   "id": "fdfe302e-3d55-47c2-acd1-4e59c49268be",
   "metadata": {},
   "outputs": [
    {
     "data": {
      "text/html": [
       "<div>\n",
       "<style scoped>\n",
       "    .dataframe tbody tr th:only-of-type {\n",
       "        vertical-align: middle;\n",
       "    }\n",
       "\n",
       "    .dataframe tbody tr th {\n",
       "        vertical-align: top;\n",
       "    }\n",
       "\n",
       "    .dataframe thead th {\n",
       "        text-align: right;\n",
       "    }\n",
       "</style>\n",
       "<table border=\"1\" class=\"dataframe\">\n",
       "  <thead>\n",
       "    <tr style=\"text-align: right;\">\n",
       "      <th></th>\n",
       "      <th>a</th>\n",
       "      <th>b</th>\n",
       "      <th>c</th>\n",
       "      <th>d</th>\n",
       "    </tr>\n",
       "  </thead>\n",
       "  <tbody>\n",
       "    <tr>\n",
       "      <th>ㄱ</th>\n",
       "      <td>0.471435</td>\n",
       "      <td>1.190976</td>\n",
       "      <td>1.432707</td>\n",
       "      <td>0.312652</td>\n",
       "    </tr>\n",
       "    <tr>\n",
       "      <th>ㄴ</th>\n",
       "      <td>0.720589</td>\n",
       "      <td>0.887163</td>\n",
       "      <td>0.859588</td>\n",
       "      <td>0.636524</td>\n",
       "    </tr>\n",
       "    <tr>\n",
       "      <th>ㄷ</th>\n",
       "      <td>0.015696</td>\n",
       "      <td>2.242685</td>\n",
       "      <td>1.150036</td>\n",
       "      <td>0.991946</td>\n",
       "    </tr>\n",
       "  </tbody>\n",
       "</table>\n",
       "</div>"
      ],
      "text/plain": [
       "          a         b         c         d\n",
       "ㄱ  0.471435  1.190976  1.432707  0.312652\n",
       "ㄴ  0.720589  0.887163  0.859588  0.636524\n",
       "ㄷ  0.015696  2.242685  1.150036  0.991946"
      ]
     },
     "execution_count": 326,
     "metadata": {},
     "output_type": "execute_result"
    }
   ],
   "source": [
    "np.abs(df) # 절댓값"
   ]
  },
  {
   "cell_type": "code",
   "execution_count": 330,
   "id": "2f12af05-31bd-4f5e-926b-6b0c21710dac",
   "metadata": {},
   "outputs": [
    {
     "data": {
      "text/plain": [
       "a    1.192024\n",
       "b    3.129848\n",
       "c    0.573119\n",
       "d    1.628470\n",
       "dtype: float64"
      ]
     },
     "execution_count": 330,
     "metadata": {},
     "output_type": "execute_result"
    }
   ],
   "source": [
    "f = lambda x : x.max() - x.min()\n",
    "df.apply(f) # 각 열에 데이터값 출력"
   ]
  },
  {
   "cell_type": "code",
   "execution_count": 332,
   "id": "3a0ef6f0-4856-4ac1-a255-4b0c0d9e5048",
   "metadata": {},
   "outputs": [
    {
     "data": {
      "text/plain": [
       "ㄱ    2.623683\n",
       "ㄴ    1.607752\n",
       "ㄷ    3.392721\n",
       "dtype: float64"
      ]
     },
     "execution_count": 332,
     "metadata": {},
     "output_type": "execute_result"
    }
   ],
   "source": [
    "df.apply(f, axis ='columns') # 행값 기준 합"
   ]
  },
  {
   "cell_type": "code",
   "execution_count": 333,
   "id": "5a213dc2-2ec3-4eec-a061-b451b878a7cb",
   "metadata": {},
   "outputs": [
    {
     "data": {
      "text/html": [
       "<div>\n",
       "<style scoped>\n",
       "    .dataframe tbody tr th:only-of-type {\n",
       "        vertical-align: middle;\n",
       "    }\n",
       "\n",
       "    .dataframe tbody tr th {\n",
       "        vertical-align: top;\n",
       "    }\n",
       "\n",
       "    .dataframe thead th {\n",
       "        text-align: right;\n",
       "    }\n",
       "</style>\n",
       "<table border=\"1\" class=\"dataframe\">\n",
       "  <thead>\n",
       "    <tr style=\"text-align: right;\">\n",
       "      <th></th>\n",
       "      <th>a</th>\n",
       "      <th>b</th>\n",
       "      <th>c</th>\n",
       "      <th>d</th>\n",
       "    </tr>\n",
       "  </thead>\n",
       "  <tbody>\n",
       "    <tr>\n",
       "      <th>min</th>\n",
       "      <td>-0.720589</td>\n",
       "      <td>-2.242685</td>\n",
       "      <td>0.859588</td>\n",
       "      <td>-0.636524</td>\n",
       "    </tr>\n",
       "    <tr>\n",
       "      <th>max</th>\n",
       "      <td>0.471435</td>\n",
       "      <td>0.887163</td>\n",
       "      <td>1.432707</td>\n",
       "      <td>0.991946</td>\n",
       "    </tr>\n",
       "  </tbody>\n",
       "</table>\n",
       "</div>"
      ],
      "text/plain": [
       "            a         b         c         d\n",
       "min -0.720589 -2.242685  0.859588 -0.636524\n",
       "max  0.471435  0.887163  1.432707  0.991946"
      ]
     },
     "execution_count": 333,
     "metadata": {},
     "output_type": "execute_result"
    }
   ],
   "source": [
    "def func(x) :\n",
    "    return pd.Series([x.min(), x.max()], index=['min', 'max'])\n",
    "\n",
    "df.apply(func)"
   ]
  },
  {
   "cell_type": "code",
   "execution_count": 335,
   "id": "4f000348-46b4-4e88-8205-64b4a899805d",
   "metadata": {},
   "outputs": [
    {
     "name": "stderr",
     "output_type": "stream",
     "text": [
      "/var/folders/mr/zpw8mcz14pj_gkyqs4k_zl4c0000gn/T/ipykernel_1398/2687603636.py:3: FutureWarning: DataFrame.applymap has been deprecated. Use DataFrame.map instead.\n",
      "  df.applymap(fo) # 포맷에 대해 설정값 적용된 모습\n"
     ]
    },
    {
     "data": {
      "text/html": [
       "<div>\n",
       "<style scoped>\n",
       "    .dataframe tbody tr th:only-of-type {\n",
       "        vertical-align: middle;\n",
       "    }\n",
       "\n",
       "    .dataframe tbody tr th {\n",
       "        vertical-align: top;\n",
       "    }\n",
       "\n",
       "    .dataframe thead th {\n",
       "        text-align: right;\n",
       "    }\n",
       "</style>\n",
       "<table border=\"1\" class=\"dataframe\">\n",
       "  <thead>\n",
       "    <tr style=\"text-align: right;\">\n",
       "      <th></th>\n",
       "      <th>a</th>\n",
       "      <th>b</th>\n",
       "      <th>c</th>\n",
       "      <th>d</th>\n",
       "    </tr>\n",
       "  </thead>\n",
       "  <tbody>\n",
       "    <tr>\n",
       "      <th>ㄱ</th>\n",
       "      <td>0.47</td>\n",
       "      <td>-1.19</td>\n",
       "      <td>1.43</td>\n",
       "      <td>-0.31</td>\n",
       "    </tr>\n",
       "    <tr>\n",
       "      <th>ㄴ</th>\n",
       "      <td>-0.72</td>\n",
       "      <td>0.89</td>\n",
       "      <td>0.86</td>\n",
       "      <td>-0.64</td>\n",
       "    </tr>\n",
       "    <tr>\n",
       "      <th>ㄷ</th>\n",
       "      <td>0.02</td>\n",
       "      <td>-2.24</td>\n",
       "      <td>1.15</td>\n",
       "      <td>0.99</td>\n",
       "    </tr>\n",
       "  </tbody>\n",
       "</table>\n",
       "</div>"
      ],
      "text/plain": [
       "       a      b     c      d\n",
       "ㄱ   0.47  -1.19  1.43  -0.31\n",
       "ㄴ  -0.72   0.89  0.86  -0.64\n",
       "ㄷ   0.02  -2.24  1.15   0.99"
      ]
     },
     "execution_count": 335,
     "metadata": {},
     "output_type": "execute_result"
    }
   ],
   "source": [
    "fo = lambda x : '{:.2f}'.format(x)\n",
    "\n",
    "df.applymap(fo) # 포맷에 대해 설정값 적용된 모습"
   ]
  },
  {
   "cell_type": "code",
   "execution_count": 336,
   "id": "0a817b38-4e06-4bd3-8a60-7ab40b921106",
   "metadata": {},
   "outputs": [
    {
     "data": {
      "text/plain": [
       "ㄱ     0.47\n",
       "ㄴ    -0.72\n",
       "ㄷ     0.02\n",
       "Name: a, dtype: object"
      ]
     },
     "execution_count": 336,
     "metadata": {},
     "output_type": "execute_result"
    }
   ],
   "source": [
    "df['a'].map(fo)"
   ]
  },
  {
   "cell_type": "code",
   "execution_count": 338,
   "id": "53af091e-7d3b-43b0-9814-e9726a3dd518",
   "metadata": {},
   "outputs": [
    {
     "data": {
      "text/html": [
       "<div>\n",
       "<style scoped>\n",
       "    .dataframe tbody tr th:only-of-type {\n",
       "        vertical-align: middle;\n",
       "    }\n",
       "\n",
       "    .dataframe tbody tr th {\n",
       "        vertical-align: top;\n",
       "    }\n",
       "\n",
       "    .dataframe thead th {\n",
       "        text-align: right;\n",
       "    }\n",
       "</style>\n",
       "<table border=\"1\" class=\"dataframe\">\n",
       "  <thead>\n",
       "    <tr style=\"text-align: right;\">\n",
       "      <th></th>\n",
       "      <th>ㄴ</th>\n",
       "      <th>ㄱ</th>\n",
       "      <th>ㄹ</th>\n",
       "      <th>ㄷ</th>\n",
       "    </tr>\n",
       "  </thead>\n",
       "  <tbody>\n",
       "    <tr>\n",
       "      <th>d</th>\n",
       "      <td>0</td>\n",
       "      <td>1</td>\n",
       "      <td>2</td>\n",
       "      <td>3</td>\n",
       "    </tr>\n",
       "    <tr>\n",
       "      <th>a</th>\n",
       "      <td>4</td>\n",
       "      <td>5</td>\n",
       "      <td>6</td>\n",
       "      <td>7</td>\n",
       "    </tr>\n",
       "    <tr>\n",
       "      <th>b</th>\n",
       "      <td>8</td>\n",
       "      <td>9</td>\n",
       "      <td>10</td>\n",
       "      <td>11</td>\n",
       "    </tr>\n",
       "  </tbody>\n",
       "</table>\n",
       "</div>"
      ],
      "text/plain": [
       "   ㄴ  ㄱ   ㄹ   ㄷ\n",
       "d  0  1   2   3\n",
       "a  4  5   6   7\n",
       "b  8  9  10  11"
      ]
     },
     "execution_count": 338,
     "metadata": {},
     "output_type": "execute_result"
    }
   ],
   "source": [
    "df = pd.DataFrame(np.arange(3*4).reshape(3, 4), columns=list('ㄴㄱㄹㄷ'), index=list('dab'))\n",
    "df"
   ]
  },
  {
   "cell_type": "code",
   "execution_count": 339,
   "id": "21c34b6b-36ec-444c-87d2-da66ec3e9e19",
   "metadata": {},
   "outputs": [
    {
     "data": {
      "text/html": [
       "<div>\n",
       "<style scoped>\n",
       "    .dataframe tbody tr th:only-of-type {\n",
       "        vertical-align: middle;\n",
       "    }\n",
       "\n",
       "    .dataframe tbody tr th {\n",
       "        vertical-align: top;\n",
       "    }\n",
       "\n",
       "    .dataframe thead th {\n",
       "        text-align: right;\n",
       "    }\n",
       "</style>\n",
       "<table border=\"1\" class=\"dataframe\">\n",
       "  <thead>\n",
       "    <tr style=\"text-align: right;\">\n",
       "      <th></th>\n",
       "      <th>ㄴ</th>\n",
       "      <th>ㄱ</th>\n",
       "      <th>ㄹ</th>\n",
       "      <th>ㄷ</th>\n",
       "    </tr>\n",
       "  </thead>\n",
       "  <tbody>\n",
       "    <tr>\n",
       "      <th>a</th>\n",
       "      <td>4</td>\n",
       "      <td>5</td>\n",
       "      <td>6</td>\n",
       "      <td>7</td>\n",
       "    </tr>\n",
       "    <tr>\n",
       "      <th>b</th>\n",
       "      <td>8</td>\n",
       "      <td>9</td>\n",
       "      <td>10</td>\n",
       "      <td>11</td>\n",
       "    </tr>\n",
       "    <tr>\n",
       "      <th>d</th>\n",
       "      <td>0</td>\n",
       "      <td>1</td>\n",
       "      <td>2</td>\n",
       "      <td>3</td>\n",
       "    </tr>\n",
       "  </tbody>\n",
       "</table>\n",
       "</div>"
      ],
      "text/plain": [
       "   ㄴ  ㄱ   ㄹ   ㄷ\n",
       "a  4  5   6   7\n",
       "b  8  9  10  11\n",
       "d  0  1   2   3"
      ]
     },
     "execution_count": 339,
     "metadata": {},
     "output_type": "execute_result"
    }
   ],
   "source": [
    "df.sort_index() # 본 코드를 통해 정렬 가능"
   ]
  },
  {
   "cell_type": "code",
   "execution_count": 341,
   "id": "c41bbd76-529e-482c-b0fe-b066d077f8b8",
   "metadata": {},
   "outputs": [
    {
     "data": {
      "text/html": [
       "<div>\n",
       "<style scoped>\n",
       "    .dataframe tbody tr th:only-of-type {\n",
       "        vertical-align: middle;\n",
       "    }\n",
       "\n",
       "    .dataframe tbody tr th {\n",
       "        vertical-align: top;\n",
       "    }\n",
       "\n",
       "    .dataframe thead th {\n",
       "        text-align: right;\n",
       "    }\n",
       "</style>\n",
       "<table border=\"1\" class=\"dataframe\">\n",
       "  <thead>\n",
       "    <tr style=\"text-align: right;\">\n",
       "      <th></th>\n",
       "      <th>ㄱ</th>\n",
       "      <th>ㄴ</th>\n",
       "      <th>ㄷ</th>\n",
       "      <th>ㄹ</th>\n",
       "    </tr>\n",
       "  </thead>\n",
       "  <tbody>\n",
       "    <tr>\n",
       "      <th>d</th>\n",
       "      <td>1</td>\n",
       "      <td>0</td>\n",
       "      <td>3</td>\n",
       "      <td>2</td>\n",
       "    </tr>\n",
       "    <tr>\n",
       "      <th>a</th>\n",
       "      <td>5</td>\n",
       "      <td>4</td>\n",
       "      <td>7</td>\n",
       "      <td>6</td>\n",
       "    </tr>\n",
       "    <tr>\n",
       "      <th>b</th>\n",
       "      <td>9</td>\n",
       "      <td>8</td>\n",
       "      <td>11</td>\n",
       "      <td>10</td>\n",
       "    </tr>\n",
       "  </tbody>\n",
       "</table>\n",
       "</div>"
      ],
      "text/plain": [
       "   ㄱ  ㄴ   ㄷ   ㄹ\n",
       "d  1  0   3   2\n",
       "a  5  4   7   6\n",
       "b  9  8  11  10"
      ]
     },
     "execution_count": 341,
     "metadata": {},
     "output_type": "execute_result"
    }
   ],
   "source": [
    "df.sort_index(axis='columns') # 컬럼명 ㄱㄴㄷ순으로 정렬"
   ]
  },
  {
   "cell_type": "code",
   "execution_count": 342,
   "id": "76f7ccfd-4a7e-4db0-845e-fb4b5da7027b",
   "metadata": {},
   "outputs": [
    {
     "data": {
      "text/html": [
       "<div>\n",
       "<style scoped>\n",
       "    .dataframe tbody tr th:only-of-type {\n",
       "        vertical-align: middle;\n",
       "    }\n",
       "\n",
       "    .dataframe tbody tr th {\n",
       "        vertical-align: top;\n",
       "    }\n",
       "\n",
       "    .dataframe thead th {\n",
       "        text-align: right;\n",
       "    }\n",
       "</style>\n",
       "<table border=\"1\" class=\"dataframe\">\n",
       "  <thead>\n",
       "    <tr style=\"text-align: right;\">\n",
       "      <th></th>\n",
       "      <th>ㄴ</th>\n",
       "      <th>ㄱ</th>\n",
       "      <th>ㄹ</th>\n",
       "      <th>ㄷ</th>\n",
       "    </tr>\n",
       "  </thead>\n",
       "  <tbody>\n",
       "    <tr>\n",
       "      <th>d</th>\n",
       "      <td>0</td>\n",
       "      <td>1</td>\n",
       "      <td>2</td>\n",
       "      <td>3</td>\n",
       "    </tr>\n",
       "    <tr>\n",
       "      <th>b</th>\n",
       "      <td>8</td>\n",
       "      <td>9</td>\n",
       "      <td>10</td>\n",
       "      <td>11</td>\n",
       "    </tr>\n",
       "    <tr>\n",
       "      <th>a</th>\n",
       "      <td>4</td>\n",
       "      <td>5</td>\n",
       "      <td>6</td>\n",
       "      <td>7</td>\n",
       "    </tr>\n",
       "  </tbody>\n",
       "</table>\n",
       "</div>"
      ],
      "text/plain": [
       "   ㄴ  ㄱ   ㄹ   ㄷ\n",
       "d  0  1   2   3\n",
       "b  8  9  10  11\n",
       "a  4  5   6   7"
      ]
     },
     "execution_count": 342,
     "metadata": {},
     "output_type": "execute_result"
    }
   ],
   "source": [
    "# 위에서 오름차순 코드를 알아보았으니, 내림차순 코드도 알아본다.\n",
    "df.sort_index(ascending=False)"
   ]
  },
  {
   "cell_type": "code",
   "execution_count": 344,
   "id": "9ba41012-5b42-4142-9a70-b9f780ebf410",
   "metadata": {},
   "outputs": [
    {
     "data": {
      "text/plain": [
       "a    0\n",
       "b    1\n",
       "c    2\n",
       "dtype: int64"
      ]
     },
     "execution_count": 344,
     "metadata": {},
     "output_type": "execute_result"
    }
   ],
   "source": [
    "s.sort_values() # 값을 기준으로 정렬"
   ]
  },
  {
   "cell_type": "code",
   "execution_count": 346,
   "id": "18d10eca-8e37-4225-bbae-8f7718956a9b",
   "metadata": {},
   "outputs": [
    {
     "data": {
      "text/plain": [
       "5    -4.0\n",
       "2     0.0\n",
       "4     5.0\n",
       "0    12.0\n",
       "1     NaN\n",
       "3     NaN\n",
       "dtype: float64"
      ]
     },
     "execution_count": 346,
     "metadata": {},
     "output_type": "execute_result"
    }
   ],
   "source": [
    "s = pd.Series([12, np.nan, 0, np.nan, 5, -4])\n",
    "s.sort_values()"
   ]
  },
  {
   "cell_type": "code",
   "execution_count": 347,
   "id": "cb21c787-cce1-4c0b-a8f7-c1dc1be188f3",
   "metadata": {},
   "outputs": [
    {
     "data": {
      "text/html": [
       "<div>\n",
       "<style scoped>\n",
       "    .dataframe tbody tr th:only-of-type {\n",
       "        vertical-align: middle;\n",
       "    }\n",
       "\n",
       "    .dataframe tbody tr th {\n",
       "        vertical-align: top;\n",
       "    }\n",
       "\n",
       "    .dataframe thead th {\n",
       "        text-align: right;\n",
       "    }\n",
       "</style>\n",
       "<table border=\"1\" class=\"dataframe\">\n",
       "  <thead>\n",
       "    <tr style=\"text-align: right;\">\n",
       "      <th></th>\n",
       "      <th>ㄴ</th>\n",
       "      <th>ㄱ</th>\n",
       "      <th>ㄹ</th>\n",
       "      <th>ㄷ</th>\n",
       "    </tr>\n",
       "  </thead>\n",
       "  <tbody>\n",
       "    <tr>\n",
       "      <th>d</th>\n",
       "      <td>0</td>\n",
       "      <td>1</td>\n",
       "      <td>2</td>\n",
       "      <td>3</td>\n",
       "    </tr>\n",
       "    <tr>\n",
       "      <th>a</th>\n",
       "      <td>4</td>\n",
       "      <td>5</td>\n",
       "      <td>6</td>\n",
       "      <td>7</td>\n",
       "    </tr>\n",
       "    <tr>\n",
       "      <th>b</th>\n",
       "      <td>8</td>\n",
       "      <td>9</td>\n",
       "      <td>10</td>\n",
       "      <td>11</td>\n",
       "    </tr>\n",
       "  </tbody>\n",
       "</table>\n",
       "</div>"
      ],
      "text/plain": [
       "   ㄴ  ㄱ   ㄹ   ㄷ\n",
       "d  0  1   2   3\n",
       "a  4  5   6   7\n",
       "b  8  9  10  11"
      ]
     },
     "execution_count": 347,
     "metadata": {},
     "output_type": "execute_result"
    }
   ],
   "source": [
    "df"
   ]
  },
  {
   "cell_type": "code",
   "execution_count": 351,
   "id": "8210da29-8866-4204-8090-7329790b3f36",
   "metadata": {},
   "outputs": [
    {
     "data": {
      "text/html": [
       "<div>\n",
       "<style scoped>\n",
       "    .dataframe tbody tr th:only-of-type {\n",
       "        vertical-align: middle;\n",
       "    }\n",
       "\n",
       "    .dataframe tbody tr th {\n",
       "        vertical-align: top;\n",
       "    }\n",
       "\n",
       "    .dataframe thead th {\n",
       "        text-align: right;\n",
       "    }\n",
       "</style>\n",
       "<table border=\"1\" class=\"dataframe\">\n",
       "  <thead>\n",
       "    <tr style=\"text-align: right;\">\n",
       "      <th></th>\n",
       "      <th>a</th>\n",
       "      <th>b</th>\n",
       "    </tr>\n",
       "  </thead>\n",
       "  <tbody>\n",
       "    <tr>\n",
       "      <th>1</th>\n",
       "      <td>2</td>\n",
       "      <td>-7</td>\n",
       "    </tr>\n",
       "    <tr>\n",
       "      <th>2</th>\n",
       "      <td>7</td>\n",
       "      <td>1</td>\n",
       "    </tr>\n",
       "    <tr>\n",
       "      <th>0</th>\n",
       "      <td>-2</td>\n",
       "      <td>5</td>\n",
       "    </tr>\n",
       "    <tr>\n",
       "      <th>3</th>\n",
       "      <td>-8</td>\n",
       "      <td>48</td>\n",
       "    </tr>\n",
       "  </tbody>\n",
       "</table>\n",
       "</div>"
      ],
      "text/plain": [
       "   a   b\n",
       "1  2  -7\n",
       "2  7   1\n",
       "0 -2   5\n",
       "3 -8  48"
      ]
     },
     "execution_count": 351,
     "metadata": {},
     "output_type": "execute_result"
    }
   ],
   "source": [
    "df = pd.DataFrame({'a':[-2, 2, 7, -8], 'b':[5, -7, 1, 48]})\n",
    "df.sort_values(by='b')"
   ]
  },
  {
   "cell_type": "code",
   "execution_count": 352,
   "id": "2a3f51c8-dc78-4623-9b52-f3cbebd96c84",
   "metadata": {},
   "outputs": [
    {
     "data": {
      "text/html": [
       "<div>\n",
       "<style scoped>\n",
       "    .dataframe tbody tr th:only-of-type {\n",
       "        vertical-align: middle;\n",
       "    }\n",
       "\n",
       "    .dataframe tbody tr th {\n",
       "        vertical-align: top;\n",
       "    }\n",
       "\n",
       "    .dataframe thead th {\n",
       "        text-align: right;\n",
       "    }\n",
       "</style>\n",
       "<table border=\"1\" class=\"dataframe\">\n",
       "  <thead>\n",
       "    <tr style=\"text-align: right;\">\n",
       "      <th></th>\n",
       "      <th>a</th>\n",
       "      <th>b</th>\n",
       "    </tr>\n",
       "  </thead>\n",
       "  <tbody>\n",
       "    <tr>\n",
       "      <th>1</th>\n",
       "      <td>2</td>\n",
       "      <td>-7</td>\n",
       "    </tr>\n",
       "    <tr>\n",
       "      <th>2</th>\n",
       "      <td>7</td>\n",
       "      <td>1</td>\n",
       "    </tr>\n",
       "    <tr>\n",
       "      <th>0</th>\n",
       "      <td>-2</td>\n",
       "      <td>5</td>\n",
       "    </tr>\n",
       "    <tr>\n",
       "      <th>3</th>\n",
       "      <td>-8</td>\n",
       "      <td>48</td>\n",
       "    </tr>\n",
       "  </tbody>\n",
       "</table>\n",
       "</div>"
      ],
      "text/plain": [
       "   a   b\n",
       "1  2  -7\n",
       "2  7   1\n",
       "0 -2   5\n",
       "3 -8  48"
      ]
     },
     "execution_count": 352,
     "metadata": {},
     "output_type": "execute_result"
    }
   ],
   "source": [
    "df.sort_values(by=['b','a'])"
   ]
  },
  {
   "cell_type": "code",
   "execution_count": 353,
   "id": "16420543-172e-4a69-8d38-bf94264743ba",
   "metadata": {},
   "outputs": [
    {
     "data": {
      "text/plain": [
       "a    2\n",
       "b    3\n",
       "dtype: int64"
      ]
     },
     "execution_count": 353,
     "metadata": {},
     "output_type": "execute_result"
    }
   ],
   "source": [
    "df.idxmax()"
   ]
  },
  {
   "cell_type": "code",
   "execution_count": 354,
   "id": "a81c5049-fc97-4347-983b-443bb02113f9",
   "metadata": {},
   "outputs": [
    {
     "data": {
      "text/plain": [
       "a     7\n",
       "b    48\n",
       "dtype: int64"
      ]
     },
     "execution_count": 354,
     "metadata": {},
     "output_type": "execute_result"
    }
   ],
   "source": [
    "df.max()"
   ]
  },
  {
   "cell_type": "code",
   "execution_count": 355,
   "id": "e748e42e-f4a7-48d2-8c39-16841f2e1161",
   "metadata": {},
   "outputs": [
    {
     "data": {
      "text/plain": [
       "a    4\n",
       "b    4\n",
       "dtype: int64"
      ]
     },
     "execution_count": 355,
     "metadata": {},
     "output_type": "execute_result"
    }
   ],
   "source": [
    "df.count()"
   ]
  },
  {
   "cell_type": "code",
   "execution_count": 356,
   "id": "03fda940-b98d-4a7e-b334-f0ec1597cde0",
   "metadata": {},
   "outputs": [
    {
     "data": {
      "text/html": [
       "<div>\n",
       "<style scoped>\n",
       "    .dataframe tbody tr th:only-of-type {\n",
       "        vertical-align: middle;\n",
       "    }\n",
       "\n",
       "    .dataframe tbody tr th {\n",
       "        vertical-align: top;\n",
       "    }\n",
       "\n",
       "    .dataframe thead th {\n",
       "        text-align: right;\n",
       "    }\n",
       "</style>\n",
       "<table border=\"1\" class=\"dataframe\">\n",
       "  <thead>\n",
       "    <tr style=\"text-align: right;\">\n",
       "      <th></th>\n",
       "      <th>봄</th>\n",
       "      <th>여름</th>\n",
       "      <th>가을</th>\n",
       "      <th>겨울</th>\n",
       "    </tr>\n",
       "  </thead>\n",
       "  <tbody>\n",
       "    <tr>\n",
       "      <th>2020</th>\n",
       "      <td>256.2</td>\n",
       "      <td>118.2</td>\n",
       "      <td>512.3</td>\n",
       "      <td>132.9</td>\n",
       "    </tr>\n",
       "    <tr>\n",
       "      <th>2021</th>\n",
       "      <td>156.2</td>\n",
       "      <td>154.6</td>\n",
       "      <td>765.1</td>\n",
       "      <td>147.3</td>\n",
       "    </tr>\n",
       "    <tr>\n",
       "      <th>2022</th>\n",
       "      <td>456.2</td>\n",
       "      <td>488.3</td>\n",
       "      <td>234.3</td>\n",
       "      <td>487.9</td>\n",
       "    </tr>\n",
       "    <tr>\n",
       "      <th>2023</th>\n",
       "      <td>315.5</td>\n",
       "      <td>159.3</td>\n",
       "      <td>486.3</td>\n",
       "      <td>324.6</td>\n",
       "    </tr>\n",
       "  </tbody>\n",
       "</table>\n",
       "</div>"
      ],
      "text/plain": [
       "          봄     여름     가을     겨울\n",
       "2020  256.2  118.2  512.3  132.9\n",
       "2021  156.2  154.6  765.1  147.3\n",
       "2022  456.2  488.3  234.3  487.9\n",
       "2023  315.5  159.3  486.3  324.6"
      ]
     },
     "execution_count": 356,
     "metadata": {},
     "output_type": "execute_result"
    }
   ],
   "source": [
    "data = {'봄': [256.2, 156.2, 456.2, 315.5],\n",
    "       '여름': [118.2 ,154.6, 488.3, 159.3],\n",
    "       '가을': [512.3, 765.1, 234.3, 486.3],\n",
    "       '겨울': [132.9, 147.3, 487.9, 324.6]}\n",
    "columns_lst = ['봄', '여름', '가을', '겨울']\n",
    "index_lst = [2020, 2021, 2022, 2023]\n",
    "\n",
    "df = pd.DataFrame(data, columns = columns_lst, index = index_lst)\n",
    "df"
   ]
  },
  {
   "cell_type": "code",
   "execution_count": 358,
   "id": "358d3b46-53c6-4acc-8aaa-d6b44a45be1f",
   "metadata": {},
   "outputs": [
    {
     "data": {
      "text/plain": [
       "2020    182.416501\n",
       "2021    306.224504\n",
       "2022    122.509874\n",
       "2023    133.558311\n",
       "dtype: float64"
      ]
     },
     "execution_count": 358,
     "metadata": {},
     "output_type": "execute_result"
    }
   ],
   "source": [
    "df.std(axis=1) # 열 기준으로 출력"
   ]
  },
  {
   "cell_type": "code",
   "execution_count": 359,
   "id": "e13a2ac6-b29a-4ace-bb9f-b16dc4b658bd",
   "metadata": {},
   "outputs": [
    {
     "data": {
      "text/html": [
       "<div>\n",
       "<style scoped>\n",
       "    .dataframe tbody tr th:only-of-type {\n",
       "        vertical-align: middle;\n",
       "    }\n",
       "\n",
       "    .dataframe tbody tr th {\n",
       "        vertical-align: top;\n",
       "    }\n",
       "\n",
       "    .dataframe thead th {\n",
       "        text-align: right;\n",
       "    }\n",
       "</style>\n",
       "<table border=\"1\" class=\"dataframe\">\n",
       "  <thead>\n",
       "    <tr style=\"text-align: right;\">\n",
       "      <th></th>\n",
       "      <th>봄</th>\n",
       "      <th>여름</th>\n",
       "      <th>가을</th>\n",
       "      <th>겨울</th>\n",
       "    </tr>\n",
       "  </thead>\n",
       "  <tbody>\n",
       "    <tr>\n",
       "      <th>count</th>\n",
       "      <td>4.000000</td>\n",
       "      <td>4.000000</td>\n",
       "      <td>4.000000</td>\n",
       "      <td>4.000000</td>\n",
       "    </tr>\n",
       "    <tr>\n",
       "      <th>mean</th>\n",
       "      <td>296.025000</td>\n",
       "      <td>230.100000</td>\n",
       "      <td>499.500000</td>\n",
       "      <td>273.175000</td>\n",
       "    </tr>\n",
       "    <tr>\n",
       "      <th>std</th>\n",
       "      <td>125.395863</td>\n",
       "      <td>173.110504</td>\n",
       "      <td>216.958122</td>\n",
       "      <td>167.603647</td>\n",
       "    </tr>\n",
       "    <tr>\n",
       "      <th>min</th>\n",
       "      <td>156.200000</td>\n",
       "      <td>118.200000</td>\n",
       "      <td>234.300000</td>\n",
       "      <td>132.900000</td>\n",
       "    </tr>\n",
       "    <tr>\n",
       "      <th>25%</th>\n",
       "      <td>231.200000</td>\n",
       "      <td>145.500000</td>\n",
       "      <td>423.300000</td>\n",
       "      <td>143.700000</td>\n",
       "    </tr>\n",
       "    <tr>\n",
       "      <th>50%</th>\n",
       "      <td>285.850000</td>\n",
       "      <td>156.950000</td>\n",
       "      <td>499.300000</td>\n",
       "      <td>235.950000</td>\n",
       "    </tr>\n",
       "    <tr>\n",
       "      <th>75%</th>\n",
       "      <td>350.675000</td>\n",
       "      <td>241.550000</td>\n",
       "      <td>575.500000</td>\n",
       "      <td>365.425000</td>\n",
       "    </tr>\n",
       "    <tr>\n",
       "      <th>max</th>\n",
       "      <td>456.200000</td>\n",
       "      <td>488.300000</td>\n",
       "      <td>765.100000</td>\n",
       "      <td>487.900000</td>\n",
       "    </tr>\n",
       "  </tbody>\n",
       "</table>\n",
       "</div>"
      ],
      "text/plain": [
       "                봄          여름          가을          겨울\n",
       "count    4.000000    4.000000    4.000000    4.000000\n",
       "mean   296.025000  230.100000  499.500000  273.175000\n",
       "std    125.395863  173.110504  216.958122  167.603647\n",
       "min    156.200000  118.200000  234.300000  132.900000\n",
       "25%    231.200000  145.500000  423.300000  143.700000\n",
       "50%    285.850000  156.950000  499.300000  235.950000\n",
       "75%    350.675000  241.550000  575.500000  365.425000\n",
       "max    456.200000  488.300000  765.100000  487.900000"
      ]
     },
     "execution_count": 359,
     "metadata": {},
     "output_type": "execute_result"
    }
   ],
   "source": [
    "df.describe()"
   ]
  },
  {
   "cell_type": "code",
   "execution_count": 360,
   "id": "8559e40f-7d11-47a0-9c6e-850e7af1e893",
   "metadata": {},
   "outputs": [
    {
     "data": {
      "text/html": [
       "<div>\n",
       "<style scoped>\n",
       "    .dataframe tbody tr th:only-of-type {\n",
       "        vertical-align: middle;\n",
       "    }\n",
       "\n",
       "    .dataframe tbody tr th {\n",
       "        vertical-align: top;\n",
       "    }\n",
       "\n",
       "    .dataframe thead th {\n",
       "        text-align: right;\n",
       "    }\n",
       "</style>\n",
       "<table border=\"1\" class=\"dataframe\">\n",
       "  <thead>\n",
       "    <tr style=\"text-align: right;\">\n",
       "      <th></th>\n",
       "      <th>봄</th>\n",
       "      <th>여름</th>\n",
       "      <th>가을</th>\n",
       "      <th>겨울</th>\n",
       "    </tr>\n",
       "  </thead>\n",
       "  <tbody>\n",
       "    <tr>\n",
       "      <th>2020</th>\n",
       "      <td>256.2</td>\n",
       "      <td>118.2</td>\n",
       "      <td>512.3</td>\n",
       "      <td>132.9</td>\n",
       "    </tr>\n",
       "    <tr>\n",
       "      <th>2021</th>\n",
       "      <td>156.2</td>\n",
       "      <td>154.6</td>\n",
       "      <td>765.1</td>\n",
       "      <td>147.3</td>\n",
       "    </tr>\n",
       "    <tr>\n",
       "      <th>2022</th>\n",
       "      <td>456.2</td>\n",
       "      <td>488.3</td>\n",
       "      <td>234.3</td>\n",
       "      <td>487.9</td>\n",
       "    </tr>\n",
       "    <tr>\n",
       "      <th>2023</th>\n",
       "      <td>315.5</td>\n",
       "      <td>159.3</td>\n",
       "      <td>486.3</td>\n",
       "      <td>324.6</td>\n",
       "    </tr>\n",
       "  </tbody>\n",
       "</table>\n",
       "</div>"
      ],
      "text/plain": [
       "          봄     여름     가을     겨울\n",
       "2020  256.2  118.2  512.3  132.9\n",
       "2021  156.2  154.6  765.1  147.3\n",
       "2022  456.2  488.3  234.3  487.9\n",
       "2023  315.5  159.3  486.3  324.6"
      ]
     },
     "execution_count": 360,
     "metadata": {},
     "output_type": "execute_result"
    }
   ],
   "source": [
    "df.head()"
   ]
  },
  {
   "cell_type": "code",
   "execution_count": 361,
   "id": "8e7666b1-1ed2-499d-b9a2-b46ddb26c3bb",
   "metadata": {},
   "outputs": [
    {
     "data": {
      "text/html": [
       "<div>\n",
       "<style scoped>\n",
       "    .dataframe tbody tr th:only-of-type {\n",
       "        vertical-align: middle;\n",
       "    }\n",
       "\n",
       "    .dataframe tbody tr th {\n",
       "        vertical-align: top;\n",
       "    }\n",
       "\n",
       "    .dataframe thead th {\n",
       "        text-align: right;\n",
       "    }\n",
       "</style>\n",
       "<table border=\"1\" class=\"dataframe\">\n",
       "  <thead>\n",
       "    <tr style=\"text-align: right;\">\n",
       "      <th></th>\n",
       "      <th>봄</th>\n",
       "      <th>여름</th>\n",
       "      <th>가을</th>\n",
       "      <th>겨울</th>\n",
       "    </tr>\n",
       "  </thead>\n",
       "  <tbody>\n",
       "    <tr>\n",
       "      <th>2020</th>\n",
       "      <td>256.2</td>\n",
       "      <td>118.2</td>\n",
       "      <td>512.3</td>\n",
       "      <td>132.9</td>\n",
       "    </tr>\n",
       "    <tr>\n",
       "      <th>2021</th>\n",
       "      <td>156.2</td>\n",
       "      <td>154.6</td>\n",
       "      <td>765.1</td>\n",
       "      <td>147.3</td>\n",
       "    </tr>\n",
       "  </tbody>\n",
       "</table>\n",
       "</div>"
      ],
      "text/plain": [
       "          봄     여름     가을     겨울\n",
       "2020  256.2  118.2  512.3  132.9\n",
       "2021  156.2  154.6  765.1  147.3"
      ]
     },
     "execution_count": 361,
     "metadata": {},
     "output_type": "execute_result"
    }
   ],
   "source": [
    "df.head(2)"
   ]
  },
  {
   "cell_type": "code",
   "execution_count": 362,
   "id": "f13669ed-ca69-443f-a940-bda212717623",
   "metadata": {},
   "outputs": [
    {
     "data": {
      "text/html": [
       "<div>\n",
       "<style scoped>\n",
       "    .dataframe tbody tr th:only-of-type {\n",
       "        vertical-align: middle;\n",
       "    }\n",
       "\n",
       "    .dataframe tbody tr th {\n",
       "        vertical-align: top;\n",
       "    }\n",
       "\n",
       "    .dataframe thead th {\n",
       "        text-align: right;\n",
       "    }\n",
       "</style>\n",
       "<table border=\"1\" class=\"dataframe\">\n",
       "  <thead>\n",
       "    <tr style=\"text-align: right;\">\n",
       "      <th></th>\n",
       "      <th>봄</th>\n",
       "      <th>여름</th>\n",
       "      <th>가을</th>\n",
       "      <th>겨울</th>\n",
       "    </tr>\n",
       "  </thead>\n",
       "  <tbody>\n",
       "    <tr>\n",
       "      <th>2022</th>\n",
       "      <td>456.2</td>\n",
       "      <td>488.3</td>\n",
       "      <td>234.3</td>\n",
       "      <td>487.9</td>\n",
       "    </tr>\n",
       "    <tr>\n",
       "      <th>2023</th>\n",
       "      <td>315.5</td>\n",
       "      <td>159.3</td>\n",
       "      <td>486.3</td>\n",
       "      <td>324.6</td>\n",
       "    </tr>\n",
       "  </tbody>\n",
       "</table>\n",
       "</div>"
      ],
      "text/plain": [
       "          봄     여름     가을     겨울\n",
       "2022  456.2  488.3  234.3  487.9\n",
       "2023  315.5  159.3  486.3  324.6"
      ]
     },
     "execution_count": 362,
     "metadata": {},
     "output_type": "execute_result"
    }
   ],
   "source": [
    "df.tail(2)"
   ]
  },
  {
   "cell_type": "code",
   "execution_count": 387,
   "id": "3e6c0299-c573-4f0b-94ca-0b8df9604840",
   "metadata": {},
   "outputs": [
    {
     "name": "stdout",
     "output_type": "stream",
     "text": [
      "    Name  Age      City\n",
      "2  Peter   35    Berlin\n",
      "3  Linda   32    London\n",
      "0   John   28  New York\n",
      "1   Anna   24     Paris\n",
      "평균 나이 :  29.75\n",
      "이름이 Peter인 사람의 나이 :  [35] 세\n",
      "가장 나이가 많은 사람이 살고 있는 도시 :  Berlin\n"
     ]
    }
   ],
   "source": [
    "import pandas as pd\n",
    "\n",
    "data = {\n",
    "    'Name':['John', 'Anna', 'Peter', 'Linda'],\n",
    "    'Age':[28,24,35,32],\n",
    "    'City':['New York', \"Paris\", \"Berlin\", \"London\"]\n",
    "}\n",
    "\n",
    "# 1. 도시 기준으로 정렬\n",
    "df = df.sort_values(by='City') # df를 city 기준으로 정렬\n",
    "print(df) # 정렬된 df 출력\n",
    "\n",
    "# 2. 평균 나이 구하기\n",
    "mean_age = df['Age'].mean() # df에 저장되어 있는 'Age'데이터 값의 평균(mean)값 구하기\n",
    "print(\"평균 나이 : \", mean_age) # 위 코드를 통해 구해진 값 출력\n",
    "\n",
    "# 3. 이름이 'Peter'인 사람의 나이 출력\n",
    "peters = df.loc[df['Name'] == 'Peter', 'Age'].values\n",
    "# loc를 사용, df의 Name이 Peter인 사람의 Age출력(겹치는 데이터 출력)\n",
    "print(\"이름이 Peter인 사람의 나이 : \", peters, \"세\")\n",
    "# 위 코드를 통해 구해진 값 출력\n",
    "\n",
    "# 4. 가장 나이가 많은 사람이 살고 있는 도시 출력\n",
    "city = df.loc[df['Age'].idxmax(), 'City']\n",
    "# loc를 사용, Age축에 존재하는 가장 큰 값의 City값 출력(겹치는 데이터 출력)\n",
    "print(\"가장 나이가 많은 사람이 살고 있는 도시 : \", city)\n",
    "# 위 코드를 통해 구해진 값 출력"
   ]
  },
  {
   "cell_type": "code",
   "execution_count": 388,
   "id": "8f26a9f5-c862-4c98-aa6d-afff5fece4b3",
   "metadata": {},
   "outputs": [
    {
     "data": {
      "text/html": [
       "<div>\n",
       "<style scoped>\n",
       "    .dataframe tbody tr th:only-of-type {\n",
       "        vertical-align: middle;\n",
       "    }\n",
       "\n",
       "    .dataframe tbody tr th {\n",
       "        vertical-align: top;\n",
       "    }\n",
       "\n",
       "    .dataframe thead th {\n",
       "        text-align: right;\n",
       "    }\n",
       "</style>\n",
       "<table border=\"1\" class=\"dataframe\">\n",
       "  <thead>\n",
       "    <tr style=\"text-align: right;\">\n",
       "      <th></th>\n",
       "      <th>Name</th>\n",
       "      <th>Age</th>\n",
       "      <th>City</th>\n",
       "    </tr>\n",
       "  </thead>\n",
       "  <tbody>\n",
       "    <tr>\n",
       "      <th>2</th>\n",
       "      <td>PETER</td>\n",
       "      <td>35</td>\n",
       "      <td>Berlin</td>\n",
       "    </tr>\n",
       "    <tr>\n",
       "      <th>3</th>\n",
       "      <td>LINDA</td>\n",
       "      <td>32</td>\n",
       "      <td>London</td>\n",
       "    </tr>\n",
       "    <tr>\n",
       "      <th>0</th>\n",
       "      <td>JOHN</td>\n",
       "      <td>28</td>\n",
       "      <td>New York</td>\n",
       "    </tr>\n",
       "    <tr>\n",
       "      <th>1</th>\n",
       "      <td>ANNA</td>\n",
       "      <td>24</td>\n",
       "      <td>Paris</td>\n",
       "    </tr>\n",
       "  </tbody>\n",
       "</table>\n",
       "</div>"
      ],
      "text/plain": [
       "    Name  Age      City\n",
       "2  PETER   35    Berlin\n",
       "3  LINDA   32    London\n",
       "0   JOHN   28  New York\n",
       "1   ANNA   24     Paris"
      ]
     },
     "execution_count": 388,
     "metadata": {},
     "output_type": "execute_result"
    }
   ],
   "source": [
    "# 모든 사람의 이름을 대문자로 변경하기\n",
    "df['Name'] = df['Name'].str.upper()\n",
    "df"
   ]
  },
  {
   "cell_type": "code",
   "execution_count": 390,
   "id": "de4e496a-d921-416c-a99f-892c025a843c",
   "metadata": {},
   "outputs": [
    {
     "data": {
      "text/html": [
       "<div>\n",
       "<style scoped>\n",
       "    .dataframe tbody tr th:only-of-type {\n",
       "        vertical-align: middle;\n",
       "    }\n",
       "\n",
       "    .dataframe tbody tr th {\n",
       "        vertical-align: top;\n",
       "    }\n",
       "\n",
       "    .dataframe thead th {\n",
       "        text-align: right;\n",
       "    }\n",
       "</style>\n",
       "<table border=\"1\" class=\"dataframe\">\n",
       "  <thead>\n",
       "    <tr style=\"text-align: right;\">\n",
       "      <th></th>\n",
       "      <th>Name</th>\n",
       "      <th>Age</th>\n",
       "      <th>City</th>\n",
       "    </tr>\n",
       "  </thead>\n",
       "  <tbody>\n",
       "    <tr>\n",
       "      <th>2</th>\n",
       "      <td>PETER</td>\n",
       "      <td>35</td>\n",
       "      <td>Berlin</td>\n",
       "    </tr>\n",
       "    <tr>\n",
       "      <th>3</th>\n",
       "      <td>LINDA</td>\n",
       "      <td>32</td>\n",
       "      <td>London</td>\n",
       "    </tr>\n",
       "  </tbody>\n",
       "</table>\n",
       "</div>"
      ],
      "text/plain": [
       "    Name  Age    City\n",
       "2  PETER   35  Berlin\n",
       "3  LINDA   32  London"
      ]
     },
     "execution_count": 390,
     "metadata": {},
     "output_type": "execute_result"
    }
   ],
   "source": [
    "# 나이가 30 이상인 사람들만 선택하기\n",
    "df[df['Age']>=30]"
   ]
  },
  {
   "cell_type": "code",
   "execution_count": 391,
   "id": "22e3fc40-6f5e-48a7-b8e6-8233729546b4",
   "metadata": {},
   "outputs": [
    {
     "data": {
      "text/plain": [
       "City\n",
       "Berlin      1\n",
       "London      1\n",
       "New York    1\n",
       "Paris       1\n",
       "Name: count, dtype: int64"
      ]
     },
     "execution_count": 391,
     "metadata": {},
     "output_type": "execute_result"
    }
   ],
   "source": [
    "# 각 도시별로 몇 명이 살고 있는지 계산하기\n",
    "df['City'].value_counts()"
   ]
  },
  {
   "cell_type": "code",
   "execution_count": 395,
   "id": "fb79b2bd-341b-4f8e-b90f-39f58bdb391d",
   "metadata": {},
   "outputs": [
    {
     "data": {
      "text/html": [
       "<div>\n",
       "<style scoped>\n",
       "    .dataframe tbody tr th:only-of-type {\n",
       "        vertical-align: middle;\n",
       "    }\n",
       "\n",
       "    .dataframe tbody tr th {\n",
       "        vertical-align: top;\n",
       "    }\n",
       "\n",
       "    .dataframe thead th {\n",
       "        text-align: right;\n",
       "    }\n",
       "</style>\n",
       "<table border=\"1\" class=\"dataframe\">\n",
       "  <thead>\n",
       "    <tr style=\"text-align: right;\">\n",
       "      <th></th>\n",
       "      <th>Name</th>\n",
       "      <th>Age</th>\n",
       "      <th>City</th>\n",
       "      <th>Gender</th>\n",
       "    </tr>\n",
       "  </thead>\n",
       "  <tbody>\n",
       "    <tr>\n",
       "      <th>2</th>\n",
       "      <td>PETER</td>\n",
       "      <td>35</td>\n",
       "      <td>Berlin</td>\n",
       "      <td>Male</td>\n",
       "    </tr>\n",
       "    <tr>\n",
       "      <th>3</th>\n",
       "      <td>LINDA</td>\n",
       "      <td>32</td>\n",
       "      <td>London</td>\n",
       "      <td>Female</td>\n",
       "    </tr>\n",
       "    <tr>\n",
       "      <th>0</th>\n",
       "      <td>JOHN</td>\n",
       "      <td>28</td>\n",
       "      <td>New York</td>\n",
       "      <td>Female</td>\n",
       "    </tr>\n",
       "    <tr>\n",
       "      <th>1</th>\n",
       "      <td>ANNA</td>\n",
       "      <td>24</td>\n",
       "      <td>Paris</td>\n",
       "      <td>Male</td>\n",
       "    </tr>\n",
       "  </tbody>\n",
       "</table>\n",
       "</div>"
      ],
      "text/plain": [
       "    Name  Age      City  Gender\n",
       "2  PETER   35    Berlin    Male\n",
       "3  LINDA   32    London  Female\n",
       "0   JOHN   28  New York  Female\n",
       "1   ANNA   24     Paris    Male"
      ]
     },
     "execution_count": 395,
     "metadata": {},
     "output_type": "execute_result"
    }
   ],
   "source": [
    "# Gender라는 새로운 열을 추가해서 임의의 성별을 할당\n",
    "np.random.seed(0)\n",
    "df['Gender'] = np.random.choice(['Male', 'Female'], size=df.shape[0]) # 임의의 데이터 추가\n",
    "df"
   ]
  },
  {
   "cell_type": "code",
   "execution_count": null,
   "id": "ea356bc8-8400-4c18-aaad-69c78f370698",
   "metadata": {},
   "outputs": [],
   "source": [
    "data = pd.DataFrame([\n",
    "    'Name' : ['Person_' + str(i) for i in range(1, 1001))],\n",
    "    'Age' : np.random_randint(20, 60, 1000),\n",
    "    'City' : np.random_choice([\"New York\", \"Paris\", "
   ]
  }
 ],
 "metadata": {
  "kernelspec": {
   "display_name": "Python 3 (ipykernel)",
   "language": "python",
   "name": "python3"
  },
  "language_info": {
   "codemirror_mode": {
    "name": "ipython",
    "version": 3
   },
   "file_extension": ".py",
   "mimetype": "text/x-python",
   "name": "python",
   "nbconvert_exporter": "python",
   "pygments_lexer": "ipython3",
   "version": "3.11.7"
  }
 },
 "nbformat": 4,
 "nbformat_minor": 5
}
