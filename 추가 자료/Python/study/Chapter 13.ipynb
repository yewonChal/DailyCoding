{
 "cells": [
  {
   "cell_type": "markdown",
   "id": "81e3f82d-6d14-4fde-a231-beecb83f16e4",
   "metadata": {},
   "source": [
    "* Numpy (Numerical Python)\n",
    "  : 파이썬을 이용한 데이터 분석과 산술 연산의 가장 기본적인 패키지\n",
    "\n",
    "- 과학, 공학 연산을 쉽게 할 수 있도록 지원해주는 다차원 배열(multi-dimentional array) 라이브러리 Numpy를 이용하면 대규모 배열을 쉽게 처리할 수 있다. (List와는 차이가 있다.)\n",
    "- 배열의 구조, 다차원 배열, 배열 간 연산, 배열의 정렬 등의 많은 편리한 기능 제공"
   ]
  },
  {
   "cell_type": "code",
   "execution_count": 5,
   "id": "376e05a2-1245-4fec-8f9f-8673bbd8ee6f",
   "metadata": {},
   "outputs": [
    {
     "name": "stdout",
     "output_type": "stream",
     "text": [
      "[1 2 3 4 5]\n",
      "[[1 2 3]\n",
      " [4 5 6]]\n"
     ]
    }
   ],
   "source": [
    "# 기본 코드\n",
    "import numpy as np\n",
    "\n",
    "a = np.array([1, 2, 3, 4, 5])\n",
    "b = np.array([[1, 2, 3], [4, 5, 6]])\n",
    "\n",
    "print(a)\n",
    "print(b)"
   ]
  },
  {
   "cell_type": "code",
   "execution_count": 6,
   "id": "f09f4e09-12e2-4e81-874a-974c7826c93c",
   "metadata": {},
   "outputs": [
    {
     "data": {
      "text/plain": [
       "array([[ 0.92649762, -0.71459056, -0.66079147],\n",
       "       [-0.18430281, -1.1271393 ,  0.26431977]])"
      ]
     },
     "execution_count": 6,
     "metadata": {},
     "output_type": "execute_result"
    }
   ],
   "source": [
    "# 랜덤 기본 코드\n",
    "data = np.random.randn(2, 3)\n",
    "data"
   ]
  },
  {
   "cell_type": "code",
   "execution_count": 7,
   "id": "fc8cf68e-6a47-404c-9672-3dd92ccbc8d8",
   "metadata": {},
   "outputs": [
    {
     "data": {
      "text/plain": [
       "array([[  9.2649762 ,  -7.14590558,  -6.60791472],\n",
       "       [ -1.84302808, -11.27139303,   2.64319765]])"
      ]
     },
     "execution_count": 7,
     "metadata": {},
     "output_type": "execute_result"
    }
   ],
   "source": [
    "10 * data"
   ]
  },
  {
   "cell_type": "code",
   "execution_count": 11,
   "id": "b90b486b-64de-4364-9220-eee892bb3c0c",
   "metadata": {},
   "outputs": [
    {
     "data": {
      "text/plain": [
       "array([  20,   40,   60,   80,  100,  120,  140, 1600, 1600, 1600,  220,\n",
       "        240])"
      ]
     },
     "execution_count": 11,
     "metadata": {},
     "output_type": "execute_result"
    }
   ],
   "source": [
    "data + data"
   ]
  },
  {
   "cell_type": "code",
   "execution_count": 12,
   "id": "bc296e23-8677-49ec-ad17-44361aec24b7",
   "metadata": {},
   "outputs": [
    {
     "data": {
      "text/plain": [
       "dtype('int64')"
      ]
     },
     "execution_count": 12,
     "metadata": {},
     "output_type": "execute_result"
    }
   ],
   "source": [
    "data.dtype"
   ]
  },
  {
   "cell_type": "code",
   "execution_count": 13,
   "id": "314b7701-4613-413d-8d9c-5b9e25036935",
   "metadata": {},
   "outputs": [
    {
     "data": {
      "text/plain": [
       "(12,)"
      ]
     },
     "execution_count": 13,
     "metadata": {},
     "output_type": "execute_result"
    }
   ],
   "source": [
    "data.shape"
   ]
  },
  {
   "cell_type": "code",
   "execution_count": 15,
   "id": "a706c0a7-0c23-4664-afba-d3ab987b9623",
   "metadata": {},
   "outputs": [
    {
     "data": {
      "text/plain": [
       "array([1, 2, 3, 4, 5])"
      ]
     },
     "execution_count": 15,
     "metadata": {},
     "output_type": "execute_result"
    }
   ],
   "source": [
    "data1 = [1, 2, 3, 4, 5]\n",
    "\n",
    "arr = np.array(data1)\n",
    "arr "
   ]
  },
  {
   "cell_type": "code",
   "execution_count": 16,
   "id": "c62937e2-1a8c-4cc9-b055-7e6cc7233f1e",
   "metadata": {},
   "outputs": [
    {
     "data": {
      "text/plain": [
       "array([[1, 2, 3, 4],\n",
       "       [5, 6, 7, 8]])"
      ]
     },
     "execution_count": 16,
     "metadata": {},
     "output_type": "execute_result"
    }
   ],
   "source": [
    "data2 = [[1, 2, 3, 4], [5, 6, 7, 8]]\n",
    "arr2 = np.array(data2)\n",
    "arr2"
   ]
  },
  {
   "cell_type": "code",
   "execution_count": 18,
   "id": "a8184238-180d-41e9-8797-764c28245045",
   "metadata": {},
   "outputs": [
    {
     "data": {
      "text/plain": [
       "2"
      ]
     },
     "execution_count": 18,
     "metadata": {},
     "output_type": "execute_result"
    }
   ],
   "source": [
    "arr2.shape # 형태\n",
    "arr2.ndim # 차원"
   ]
  },
  {
   "cell_type": "markdown",
   "id": "f9aef069-9b13-4165-a974-8ceb75b2f984",
   "metadata": {},
   "source": [
    "Ndarray : 배열 객체, 리스트와 유사, 배열을 다루는 편리한 기능 제공"
   ]
  },
  {
   "cell_type": "code",
   "execution_count": 2,
   "id": "f141b77c-4108-472d-b6fb-27351167737a",
   "metadata": {},
   "outputs": [
    {
     "name": "stdout",
     "output_type": "stream",
     "text": [
      "[1 2 3 4 5]\n",
      "<class 'numpy.ndarray'>\n",
      "int64\n"
     ]
    }
   ],
   "source": [
    "# ndarray 객체 생성\n",
    "data = np.array([1, 2, 3, 4, 5])\n",
    "print(data)\n",
    "print(type(data))\n",
    "print(data.dtype)"
   ]
  },
  {
   "cell_type": "code",
   "execution_count": 3,
   "id": "13218999-40df-4fa8-97bc-45076511a30d",
   "metadata": {},
   "outputs": [
    {
     "name": "stdout",
     "output_type": "stream",
     "text": [
      "[[ 1.71241144  1.78307957 -0.7501419 ]\n",
      " [-0.62957625 -0.40586181  2.48414051]]\n",
      "(2, 3)\n",
      "float64\n"
     ]
    }
   ],
   "source": [
    "# 2차원 배열 객체 생성\n",
    "data = np.random.randn(2,3)\n",
    "print(data)\n",
    "print(data.shape)\n",
    "print(data.dtype)"
   ]
  },
  {
   "cell_type": "code",
   "execution_count": 8,
   "id": "edb8dbeb-bd2a-4657-a6c5-2999ad261ea3",
   "metadata": {},
   "outputs": [
    {
     "name": "stdout",
     "output_type": "stream",
     "text": [
      "[0. 0. 0. 0. 0. 0. 0. 0. 0. 0.]\n",
      "float64\n",
      "[[0. 0. 0.]\n",
      " [0. 0. 0.]]\n",
      "[[0 0 0]\n",
      " [0 0 0]]\n"
     ]
    }
   ],
   "source": [
    "# ndarray 0으로 초기화하기\n",
    "data1 = np.zeros(10)\n",
    "print(data1)\n",
    "print(data1.dtype)\n",
    "data2 = np.zeros((2, 3))\n",
    "print(data2)\n",
    "data3 = np.zeros((2, 3), dtype=np.int32) # 원하는 차원 및 데이터 타입 설정\n",
    "print(data3)"
   ]
  },
  {
   "cell_type": "code",
   "execution_count": 9,
   "id": "137aaa57-d188-4cbb-8370-9c8ba38f4fb8",
   "metadata": {},
   "outputs": [
    {
     "name": "stdout",
     "output_type": "stream",
     "text": [
      "[1. 1. 1. 1. 1. 1. 1. 1.]\n",
      "[[1 1 1 1]\n",
      " [1 1 1 1]\n",
      " [1 1 1 1]]\n"
     ]
    }
   ],
   "source": [
    "# ndarray 1로 초기화하기\n",
    "data1 = np.ones(8)\n",
    "print(data1)\n",
    "data2 = np.ones((3, 4), dtype=np.int32)\n",
    "print(data2)"
   ]
  },
  {
   "cell_type": "code",
   "execution_count": 10,
   "id": "74783f2f-b971-4941-8dc3-6d7d7dbfeec2",
   "metadata": {},
   "outputs": [
    {
     "name": "stdout",
     "output_type": "stream",
     "text": [
      "[ 10  20  30  40  50  60  70  80  90 100 110 120]\n",
      "30\n",
      "[60 70 80]\n",
      "[ 10  20  30  40  50  60  70 800 800 800 110 120]\n",
      "[[ 10  20  30  40  50  60]\n",
      " [ 70 800 800 800 110 120]]\n"
     ]
    }
   ],
   "source": [
    "# arrange() 메소드\n",
    "data = np.arange(10, 121, 10)\n",
    "print(data)\n",
    "print(data[2])\n",
    "print(data[5:8])\n",
    "data[7:10] = 800\n",
    "print(data)\n",
    "data2 = data.reshape(2, 6)\n",
    "print(data2)"
   ]
  },
  {
   "cell_type": "markdown",
   "id": "bd7c2e79-23c0-414e-89ec-5754dc555a33",
   "metadata": {},
   "source": [
    "/ ndarray 생성 메소드 /\n",
    "\n",
    "  1) array() : 매개 변수로 사용되는 리스트, 튜플, 배열 형의 데이터를 이용하여 ndarray 객체를 생성한다.\n",
    "  2) random.randn() : 가우시안 정규 분포를 갖는 랜덤 수를 생성한다.\n",
    "  3) zeros() : ndarray 객체를 생성하고 0으로 초기화한다.\n",
    "  4) ones() : ndarray 객체를 생성하고 1로 초기화한다.\n",
    "  5) arange() : 내장 함수 range()와 동일한 기능, ndarray 객체를 반환한다.\n",
    "  6) reshape() : ndarray 객체의 차원을 재구성한다. 예를 들어 reshape(3, 5)는 배열의 구조를 3행 4열의\n",
    "                 2차원으로 변환한다."
   ]
  },
  {
   "cell_type": "markdown",
   "id": "cc417e2d-397f-4f3e-a6a9-ca6fee448ade",
   "metadata": {},
   "source": [
    "/ Numpy 생성함수 추가내용 /\n",
    "\n",
    "array : 입력 데이터(리스트, 튜플, 배열 등)를 ndarray 변환한다.\n",
    "asarray : 입력 데이터를 ndarray 변환하지만, 이미 ndarray인 경우는 변환하지 않는다.\n",
    "arange : range와 비슷하지만, 리스트 대신 ndarray를 반환한다.\n",
    "zeros : 지정된 형태와 데이터 타입으로 모두 0의 값을 가진 배열을 생성한다.\n",
    "zeros_like : 다른 배열을 전달받아 동일한 형태와 동일한 데이터 타입으로 0로 채워진 배열을 생성한다.\n",
    "ones : 지정된 형태와 데이터 타입으로 모두 1의 값을 가진 배열을 생성한다.\n",
    "ones_like : 다른 배열을 전달받아 동일한 형태와 동일한 데이터 타입으로 1으로 채워진 배열을 생성한다.\n",
    "empty : 새 배열을 생성하지만, ones나 zeros처럼 특정 값으로 초기화해주지 않는다.\n",
    "empty_like : 다른 배열을 전달받아 동일한 형태와 동일한 데이터 타입으로 임의의 값으로 채워진 배열을 생성한다.\n",
    "full : 지정된 형태와 데이터 타입으로 모두 전달받은 값을 가진 배열을 생성한다.\n",
    "full_like : 다른 배열을 전달받아 동일한 형태와 동일한 데이터 타입으로 전달받은 값으로 채워진 배열을 생성한다.\n",
    "eye, identity : 대각선이 1이고 나머지는 0인 NxN 크기의 단위 행렬을 생성한다."
   ]
  },
  {
   "cell_type": "code",
   "execution_count": 21,
   "id": "d2595ac8-0e41-4334-9bb5-b7d92a3a2c07",
   "metadata": {},
   "outputs": [
    {
     "data": {
      "text/plain": [
       "array([1, 2, 3, 4])"
      ]
     },
     "execution_count": 21,
     "metadata": {},
     "output_type": "execute_result"
    }
   ],
   "source": [
    "data = [1, 2, 3, 4]\n",
    "arr = np.array(data)\n",
    "arr"
   ]
  },
  {
   "cell_type": "code",
   "execution_count": 23,
   "id": "99ac46b8-611a-459f-af89-82346383d0e9",
   "metadata": {},
   "outputs": [
    {
     "data": {
      "text/plain": [
       "array([1, 2, 3, 4])"
      ]
     },
     "execution_count": 23,
     "metadata": {},
     "output_type": "execute_result"
    }
   ],
   "source": [
    "arr2 = np.asarray(arr) # 복사 작업\n",
    "arr2"
   ]
  },
  {
   "cell_type": "code",
   "execution_count": 26,
   "id": "91ed4106-d1f5-411a-9efb-31d520286194",
   "metadata": {},
   "outputs": [
    {
     "data": {
      "text/plain": [
       "array([[2.12199579e-314, 2.12199579e-314, 2.12199579e-314],\n",
       "       [2.12199579e-314, 2.12199579e-314, 2.12199579e-314]])"
      ]
     },
     "execution_count": 26,
     "metadata": {},
     "output_type": "execute_result"
    }
   ],
   "source": [
    "empty = np.empty((2, 3)) # 새 배열 생성, ones나 zeros처럼 특정값으로 초기화 x(쓰레기값 출력)\n",
    "empty"
   ]
  },
  {
   "cell_type": "code",
   "execution_count": 27,
   "id": "58b099c6-f741-4b93-be06-80ce77ca46cc",
   "metadata": {},
   "outputs": [
    {
     "data": {
      "text/plain": [
       "array([[100, 100, 100],\n",
       "       [100, 100, 100]])"
      ]
     },
     "execution_count": 27,
     "metadata": {},
     "output_type": "execute_result"
    }
   ],
   "source": [
    "full = np.full((2, 3), 100)\n",
    "full"
   ]
  },
  {
   "cell_type": "code",
   "execution_count": 30,
   "id": "cbfd659e-bc0d-467a-9859-b0d7302add02",
   "metadata": {},
   "outputs": [
    {
     "data": {
      "text/plain": [
       "array([[1., 0., 0.],\n",
       "       [0., 1., 0.],\n",
       "       [0., 0., 1.]])"
      ]
     },
     "execution_count": 30,
     "metadata": {},
     "output_type": "execute_result"
    }
   ],
   "source": [
    "eye = np.eye(3) # 단위행렬 생성\n",
    "eye"
   ]
  },
  {
   "cell_type": "code",
   "execution_count": 31,
   "id": "c55eea7d-6acb-4bd2-a4a5-0d41a6808483",
   "metadata": {},
   "outputs": [
    {
     "data": {
      "text/plain": [
       "array([[1., 0., 0.],\n",
       "       [0., 1., 0.],\n",
       "       [0., 0., 1.]])"
      ]
     },
     "execution_count": 31,
     "metadata": {},
     "output_type": "execute_result"
    }
   ],
   "source": [
    "identity = np.identity(3) # 단위행렬 생성 \n",
    "identity"
   ]
  },
  {
   "cell_type": "markdown",
   "id": "c4b551e2-0e38-4543-a40b-eb68a03d1d5c",
   "metadata": {},
   "source": [
    "/ ndarray 속성 /\n",
    "\n",
    "  1) dtype : ndarray 객체의 데이터 형을 나타낸다. int32는 32비트 정수형, float64는 64비트 실수형을 의미\n",
    "  2) shape : ndarray 객체의 행과 열을 튜플로 나타낸다.\n",
    "\n",
    "------------------\n",
    "    / Dtype /  \n",
    "------------------\n",
    "int8    uint8 : 8비트 단위 정수(부호 o, x)\n",
    "(음수형을 사용하지 않는다면, uint 사용(더 적은 단위로 더 큰 수 다룰 수 있다는 장점이 존재)\n",
    "int16   uint16 : 16비트 단위 정수\n",
    "int32   unit32 : 32비트 단위 정수\n",
    "int64   uniy64 : 64비트 단위 정수\n",
    "\n",
    "float16 : 16비트 단위 실수 \n",
    "float32 : 32비트 단위 실수\n",
    "float64 : 64비트 단위 실수\n",
    "float128 : 128비트 단위 실수\n",
    "\n",
    "complex64, complex128, complex256 : 각 비트단위 / 2 비트 단위의 2개의 복소수\n",
    "\n",
    "bool : True, False\n",
    "object : 파이썬 객체 타입\n",
    "string_ : 아스키 문자열 형\n",
    "unicode_ : 유니코드 문자열 형"
   ]
  },
  {
   "cell_type": "code",
   "execution_count": 19,
   "id": "c38f6ce8-ba3d-4343-917f-d47b1cbd1754",
   "metadata": {},
   "outputs": [
    {
     "data": {
      "text/plain": [
       "array([1, 2, 3, 4, 5])"
      ]
     },
     "execution_count": 19,
     "metadata": {},
     "output_type": "execute_result"
    }
   ],
   "source": [
    "arr = np.array([1, 2, 3, 4, 5])\n",
    "arr"
   ]
  },
  {
   "cell_type": "code",
   "execution_count": 20,
   "id": "4f002d4d-fcc5-4fcb-8af5-716ec9298557",
   "metadata": {},
   "outputs": [
    {
     "data": {
      "text/plain": [
       "array([1., 2., 3., 4., 5.])"
      ]
     },
     "execution_count": 20,
     "metadata": {},
     "output_type": "execute_result"
    }
   ],
   "source": [
    "# 자료형 변환\n",
    "arr_float = arr.astype(np.float64)\n",
    "arr_float"
   ]
  },
  {
   "cell_type": "markdown",
   "id": "6c7a114f-7b0f-4613-9e53-15a0a6ca71be",
   "metadata": {},
   "source": [
    "/ Numpy 배열 연산 /\n",
    "  : 넘파이의 배열 간 연산은 반복문을 사용하지 않고도 내부적으로 연산을 해준다.\n",
    "    기본적으로 같은 성분끼리 연산을 해주고, 이러한 연산을 '벡터화 계산(vectoriztion)'이라고 부른다."
   ]
  },
  {
   "cell_type": "code",
   "execution_count": 36,
   "id": "53efd2ac-56b6-42e6-aa89-90f287bd5f10",
   "metadata": {},
   "outputs": [
    {
     "data": {
      "text/plain": [
       "array([[1, 2, 3],\n",
       "       [4, 5, 6]])"
      ]
     },
     "execution_count": 36,
     "metadata": {},
     "output_type": "execute_result"
    }
   ],
   "source": [
    "arr = np.array([[1, 2, 3], [4, 5, 6]])\n",
    "arr"
   ]
  },
  {
   "cell_type": "code",
   "execution_count": 37,
   "id": "797f5dd5-2a4c-4d9a-bacc-08592e3772a6",
   "metadata": {},
   "outputs": [
    {
     "data": {
      "text/plain": [
       "array([[False,  True, False],\n",
       "       [ True, False,  True]])"
      ]
     },
     "execution_count": 37,
     "metadata": {},
     "output_type": "execute_result"
    }
   ],
   "source": [
    "arr2 = np.array([[0, 5, 2], [8, 2, 10]])\n",
    "arr < arr2"
   ]
  },
  {
   "cell_type": "code",
   "execution_count": 38,
   "id": "c46b56ec-d6f8-4402-8e37-7848d3117cc8",
   "metadata": {},
   "outputs": [
    {
     "ename": "ValueError",
     "evalue": "operands could not be broadcast together with shapes (2,3) (2,2) ",
     "output_type": "error",
     "traceback": [
      "\u001b[0;31m---------------------------------------------------------------------------\u001b[0m",
      "\u001b[0;31mValueError\u001b[0m                                Traceback (most recent call last)",
      "Cell \u001b[0;32mIn[38], line 2\u001b[0m\n\u001b[1;32m      1\u001b[0m arr3 \u001b[38;5;241m=\u001b[39m np\u001b[38;5;241m.\u001b[39marray([[\u001b[38;5;241m1\u001b[39m, \u001b[38;5;241m2\u001b[39m], [\u001b[38;5;241m4\u001b[39m, \u001b[38;5;241m5\u001b[39m]])\n\u001b[0;32m----> 2\u001b[0m arr \u001b[38;5;241m<\u001b[39m arr3\n",
      "\u001b[0;31mValueError\u001b[0m: operands could not be broadcast together with shapes (2,3) (2,2) "
     ]
    }
   ],
   "source": [
    "arr3 = np.array([[1, 2], [4, 5]]) # 오류가 발생(사이즈가 맞지 않아서)\n",
    "arr < arr3 # 사이즈에 차이가 발생"
   ]
  },
  {
   "cell_type": "code",
   "execution_count": 40,
   "id": "c5a820d2-1565-421d-aa81-45ed474d044d",
   "metadata": {},
   "outputs": [
    {
     "name": "stdout",
     "output_type": "stream",
     "text": [
      "[[ 20  14 -16   4]\n",
      " [ -4   4  16   6]\n",
      " [ 12 -16 -10   6]] \n",
      "\n",
      "[[100  49  64   4]\n",
      " [  4   4  64   9]\n",
      " [ 36  64  25   9]] \n",
      "\n",
      "[[False False  True False]\n",
      " [ True False False False]\n",
      " [False  True  True False]]\n"
     ]
    }
   ],
   "source": [
    "# ndarray의 산술 연산\n",
    "a = np.array([[10, 7, -8, 2], [-2, 2, 8, 3], [6, -8, -5, 3]])\n",
    "b = a * 2\n",
    "print(b, '\\n')\n",
    "c = a * a\n",
    "print(c, '\\n')\n",
    "print(a > b)"
   ]
  },
  {
   "cell_type": "code",
   "execution_count": 41,
   "id": "d5c8dc56-437f-4bcc-b243-a23e427f1309",
   "metadata": {},
   "outputs": [
    {
     "name": "stdout",
     "output_type": "stream",
     "text": [
      "1002\n",
      "83.5\n",
      "100\n",
      "65\n",
      "\n",
      "[ 98 100  90  93]\n",
      "[ 93  88 100]\n",
      "\n",
      "[2 2 0 0] [1 0 2]\n"
     ]
    }
   ],
   "source": [
    "# 배열의 합계, 평균, 최댓값, 최솟값\n",
    "data = np.array([[80, 78, 90, 93], [65, 87, 88, 75], [98, 100, 68, 80]])\n",
    "\n",
    "print(data.sum())\n",
    "print(data.mean())\n",
    "print(data.max())\n",
    "print(data.min())\n",
    "print()\n",
    "\n",
    "print(data.max(axis=0))\n",
    "print(data.max(axis=1))\n",
    "print()\n",
    "\n",
    "index1 = np.argmax(data, axis=0)\n",
    "index2 = np.argmin(data, axis=1)\n",
    "print(index1, index2)\n"
   ]
  },
  {
   "cell_type": "code",
   "execution_count": 101,
   "id": "27433ebf-eeca-4a09-893c-0ea3e296a2ec",
   "metadata": {},
   "outputs": [
    {
     "data": {
      "text/plain": [
       "array([0, 1, 2, 3, 4, 5, 6, 7, 8, 9])"
      ]
     },
     "execution_count": 101,
     "metadata": {},
     "output_type": "execute_result"
    }
   ],
   "source": [
    "arr = np.arange(10)\n",
    "arr"
   ]
  },
  {
   "cell_type": "code",
   "execution_count": 46,
   "id": "c2233dfa-3d0a-43d0-a50f-c99dbe28c6d3",
   "metadata": {},
   "outputs": [
    {
     "data": {
      "text/plain": [
       "array([[1, 2, 3],\n",
       "       [4, 5, 6]])"
      ]
     },
     "execution_count": 46,
     "metadata": {},
     "output_type": "execute_result"
    }
   ],
   "source": [
    "# 밑 코드를 실행하기 전 '슬라이싱'에 대해 재정의\n",
    "arr[5:8] = 10\n",
    "arr"
   ]
  },
  {
   "cell_type": "code",
   "execution_count": 48,
   "id": "9dcee657-3737-479c-83f9-01d9dd6f2426",
   "metadata": {},
   "outputs": [
    {
     "data": {
      "text/plain": [
       "array([], shape=(0, 3), dtype=int64)"
      ]
     },
     "execution_count": 48,
     "metadata": {},
     "output_type": "execute_result"
    }
   ],
   "source": [
    "slice = arr[5:8]\n",
    "slice # 해당 부분을 slice가 대신 보여주고 있는 아이일 뿐..."
   ]
  },
  {
   "cell_type": "code",
   "execution_count": 49,
   "id": "1405166c-f2cb-4694-9a74-5042d1573040",
   "metadata": {},
   "outputs": [
    {
     "ename": "IndexError",
     "evalue": "index 1 is out of bounds for axis 0 with size 0",
     "output_type": "error",
     "traceback": [
      "\u001b[0;31m---------------------------------------------------------------------------\u001b[0m",
      "\u001b[0;31mIndexError\u001b[0m                                Traceback (most recent call last)",
      "Cell \u001b[0;32mIn[49], line 1\u001b[0m\n\u001b[0;32m----> 1\u001b[0m \u001b[38;5;28mslice\u001b[39m[\u001b[38;5;241m1\u001b[39m] \u001b[38;5;241m=\u001b[39m \u001b[38;5;241m100\u001b[39m\n\u001b[1;32m      2\u001b[0m \u001b[38;5;28mslice\u001b[39m\n",
      "\u001b[0;31mIndexError\u001b[0m: index 1 is out of bounds for axis 0 with size 0"
     ]
    }
   ],
   "source": [
    "slice[1] = 100\n",
    "slice"
   ]
  },
  {
   "cell_type": "code",
   "execution_count": 50,
   "id": "679cc7ce-d1b3-47ca-85d7-ae2682c2dbf0",
   "metadata": {},
   "outputs": [
    {
     "data": {
      "text/plain": [
       "array([[1, 2, 3],\n",
       "       [4, 5, 6]])"
      ]
     },
     "execution_count": 50,
     "metadata": {},
     "output_type": "execute_result"
    }
   ],
   "source": [
    "arr"
   ]
  },
  {
   "cell_type": "code",
   "execution_count": 51,
   "id": "ba167cdf-731d-4fa5-8f21-4f99d88e1d85",
   "metadata": {},
   "outputs": [
    {
     "data": {
      "text/plain": [
       "array([[1, 2, 3],\n",
       "       [4, 5, 6]])"
      ]
     },
     "execution_count": 51,
     "metadata": {},
     "output_type": "execute_result"
    }
   ],
   "source": [
    "slice[:] = 200\n",
    "arr"
   ]
  },
  {
   "cell_type": "code",
   "execution_count": null,
   "id": "689dcbdc-6f1e-49d8-bcf7-292488dde104",
   "metadata": {},
   "outputs": [],
   "source": [
    "copy[:] = -1\n",
    "copy"
   ]
  },
  {
   "cell_type": "code",
   "execution_count": 55,
   "id": "05ce2504-7135-4ddb-afaa-f7c32ffa1af3",
   "metadata": {},
   "outputs": [
    {
     "data": {
      "text/plain": [
       "array([[[ 1,  2,  3],\n",
       "        [ 4,  5,  6]],\n",
       "\n",
       "       [[ 7,  8,  9],\n",
       "        [10, 11, 12]]])"
      ]
     },
     "execution_count": 55,
     "metadata": {},
     "output_type": "execute_result"
    }
   ],
   "source": [
    "# 3차원\n",
    "arr = np.array([[[1, 2, 3], [4, 5, 6]], [[7, 8, 9], [10, 11, 12]]])\n",
    "arr"
   ]
  },
  {
   "cell_type": "code",
   "execution_count": 59,
   "id": "98d97b6e-2ea4-4aac-8b9f-458c9851038d",
   "metadata": {},
   "outputs": [
    {
     "data": {
      "text/plain": [
       "array([[1, 2, 3],\n",
       "       [4, 5, 6]])"
      ]
     },
     "execution_count": 59,
     "metadata": {},
     "output_type": "execute_result"
    }
   ],
   "source": [
    "arr[0]"
   ]
  },
  {
   "cell_type": "code",
   "execution_count": 58,
   "id": "c70b6f08-86d2-47b3-9fb7-b2a0e6e63c5f",
   "metadata": {},
   "outputs": [
    {
     "data": {
      "text/plain": [
       "array([4, 5, 6])"
      ]
     },
     "execution_count": 58,
     "metadata": {},
     "output_type": "execute_result"
    }
   ],
   "source": [
    "arr[0, 1]"
   ]
  },
  {
   "cell_type": "code",
   "execution_count": 60,
   "id": "870c7940-048a-4c1d-98e3-e615f458c130",
   "metadata": {},
   "outputs": [
    {
     "data": {
      "text/plain": [
       "array([[[100, 100, 100],\n",
       "        [100, 100, 100]],\n",
       "\n",
       "       [[  7,   8,   9],\n",
       "        [ 10,  11,  12]]])"
      ]
     },
     "execution_count": 60,
     "metadata": {},
     "output_type": "execute_result"
    }
   ],
   "source": [
    "old = arr[0].copy()\n",
    "\n",
    "arr[0] = 100 # arr에 있는 첫 번째 2차원 배열들이 모두 100으로 수정된다.\n",
    "arr"
   ]
  },
  {
   "cell_type": "code",
   "execution_count": 61,
   "id": "0a0bcdad-5af4-4036-9b70-5e46d3503a6b",
   "metadata": {},
   "outputs": [
    {
     "data": {
      "text/plain": [
       "array([[1, 2, 3],\n",
       "       [4, 5, 6]])"
      ]
     },
     "execution_count": 61,
     "metadata": {},
     "output_type": "execute_result"
    }
   ],
   "source": [
    "arr[0] = old\n",
    "x = arr[0]\n",
    "x"
   ]
  },
  {
   "cell_type": "code",
   "execution_count": 62,
   "id": "86d81221-8acb-4938-92c2-d70605f98ddd",
   "metadata": {},
   "outputs": [
    {
     "data": {
      "text/plain": [
       "array([1, 2, 3])"
      ]
     },
     "execution_count": 62,
     "metadata": {},
     "output_type": "execute_result"
    }
   ],
   "source": [
    "x[0]"
   ]
  },
  {
   "cell_type": "code",
   "execution_count": 114,
   "id": "83415849-e577-4869-b201-b34254d1b8f0",
   "metadata": {},
   "outputs": [
    {
     "data": {
      "text/plain": [
       "array([[1, 2, 3],\n",
       "       [4, 5, 6],\n",
       "       [7, 8, 9]])"
      ]
     },
     "execution_count": 114,
     "metadata": {},
     "output_type": "execute_result"
    }
   ],
   "source": [
    "arr = np.array([[1, 2, 3], [4, 5, 6], [7, 8, 9]])\n",
    "arr"
   ]
  },
  {
   "cell_type": "code",
   "execution_count": 115,
   "id": "e485d8a9-20df-4fce-81b6-23766082010f",
   "metadata": {},
   "outputs": [
    {
     "data": {
      "text/plain": [
       "array([[1, 2, 3],\n",
       "       [4, 5, 6]])"
      ]
     },
     "execution_count": 115,
     "metadata": {},
     "output_type": "execute_result"
    }
   ],
   "source": [
    "arr[:2]"
   ]
  },
  {
   "cell_type": "code",
   "execution_count": 116,
   "id": "ffe1f6ba-4d2d-434f-9f8c-4ca028f18d67",
   "metadata": {},
   "outputs": [
    {
     "data": {
      "text/plain": [
       "array([[2, 3],\n",
       "       [5, 6]])"
      ]
     },
     "execution_count": 116,
     "metadata": {},
     "output_type": "execute_result"
    }
   ],
   "source": [
    "arr[:2, 1:] # 2, 3과 2, 1 부분을 슬라이싱"
   ]
  },
  {
   "cell_type": "code",
   "execution_count": 117,
   "id": "dda756d7-0436-4ee9-87ab-52583169aa2a",
   "metadata": {},
   "outputs": [
    {
     "data": {
      "text/plain": [
       "array([5, 6])"
      ]
     },
     "execution_count": 117,
     "metadata": {},
     "output_type": "execute_result"
    }
   ],
   "source": [
    "arr[1, 1:] # arr[1][1:]"
   ]
  },
  {
   "cell_type": "code",
   "execution_count": 118,
   "id": "34bcc259-b083-42a6-aaff-e8857422eca0",
   "metadata": {},
   "outputs": [
    {
     "data": {
      "text/plain": [
       "array([[1],\n",
       "       [4],\n",
       "       [7]])"
      ]
     },
     "execution_count": 118,
     "metadata": {},
     "output_type": "execute_result"
    }
   ],
   "source": [
    "arr[:, :1]"
   ]
  },
  {
   "cell_type": "code",
   "execution_count": 119,
   "id": "eb872154-1bbf-4b3b-b30b-06e000dabf0f",
   "metadata": {},
   "outputs": [
    {
     "data": {
      "text/plain": [
       "array([[1, 0, 0],\n",
       "       [4, 0, 0],\n",
       "       [7, 8, 9]])"
      ]
     },
     "execution_count": 119,
     "metadata": {},
     "output_type": "execute_result"
    }
   ],
   "source": [
    "arr[:2, 1:] = 0 # 중간 부분만 슬라이싱하여 '0'을 대입해주는 것도 가능하다.\n",
    "arr"
   ]
  },
  {
   "cell_type": "code",
   "execution_count": 167,
   "id": "5ece7c49-fcd4-45ce-95c9-4e24e229e5aa",
   "metadata": {},
   "outputs": [
    {
     "data": {
      "text/plain": [
       "array([[-0.57233418,  1.38533406, -0.54395214,  0.15115798],\n",
       "       [ 1.44992513, -0.93122796, -1.07952958, -1.20217808],\n",
       "       [ 0.82354296, -1.19963285, -0.38596486,  2.21118477],\n",
       "       [ 0.34844654,  2.19843245,  1.66657533,  0.24297917],\n",
       "       [-0.38226827, -0.24616513,  0.14546607, -1.30259553],\n",
       "       [-0.35590886,  0.48276531, -0.67633488,  0.53234781],\n",
       "       [ 2.02152698, -0.44557765, -0.26609356,  0.71324901]])"
      ]
     },
     "execution_count": 167,
     "metadata": {},
     "output_type": "execute_result"
    }
   ],
   "source": [
    "names = np.array(['Bob', 'Joe', 'Will', 'Bob', 'Joe', 'Joe', 'Will'])\n",
    "\n",
    "data = np.random.randn(7, 4)\n",
    "data"
   ]
  },
  {
   "cell_type": "code",
   "execution_count": 168,
   "id": "85e2cbc4-4f55-442c-bb71-2d5a1175477c",
   "metadata": {},
   "outputs": [
    {
     "data": {
      "text/plain": [
       "array([ True, False, False,  True, False, False, False])"
      ]
     },
     "execution_count": 168,
     "metadata": {},
     "output_type": "execute_result"
    }
   ],
   "source": [
    "names == 'Bob'"
   ]
  },
  {
   "cell_type": "code",
   "execution_count": 170,
   "id": "bad10481-9ad8-4dc1-98f6-dc009c8612cb",
   "metadata": {},
   "outputs": [
    {
     "data": {
      "text/plain": [
       "array([[-0.57233418,  1.38533406, -0.54395214,  0.15115798],\n",
       "       [ 0.34844654,  2.19843245,  1.66657533,  0.24297917]])"
      ]
     },
     "execution_count": 170,
     "metadata": {},
     "output_type": "execute_result"
    }
   ],
   "source": [
    "data[names == 'Bob']"
   ]
  },
  {
   "cell_type": "code",
   "execution_count": 171,
   "id": "e98d0d45-c2db-4198-9490-d97281b2a979",
   "metadata": {},
   "outputs": [
    {
     "data": {
      "text/plain": [
       "array([[-0.54395214,  0.15115798],\n",
       "       [ 1.66657533,  0.24297917]])"
      ]
     },
     "execution_count": 171,
     "metadata": {},
     "output_type": "execute_result"
    }
   ],
   "source": [
    "data[names == 'Bob', 2:]"
   ]
  },
  {
   "cell_type": "code",
   "execution_count": 172,
   "id": "72ad88d7-66b5-475c-bcdb-8eaa1f9725f2",
   "metadata": {},
   "outputs": [
    {
     "data": {
      "text/plain": [
       "array([[ 1.44992513, -0.93122796, -1.07952958, -1.20217808],\n",
       "       [ 0.82354296, -1.19963285, -0.38596486,  2.21118477],\n",
       "       [-0.38226827, -0.24616513,  0.14546607, -1.30259553],\n",
       "       [-0.35590886,  0.48276531, -0.67633488,  0.53234781],\n",
       "       [ 2.02152698, -0.44557765, -0.26609356,  0.71324901]])"
      ]
     },
     "execution_count": 172,
     "metadata": {},
     "output_type": "execute_result"
    }
   ],
   "source": [
    "data[names != 'Bob']"
   ]
  },
  {
   "cell_type": "code",
   "execution_count": 173,
   "id": "b62082a2-e127-47f7-b70f-530787bab2dd",
   "metadata": {},
   "outputs": [
    {
     "data": {
      "text/plain": [
       "array([[ 1.44992513, -0.93122796, -1.07952958, -1.20217808],\n",
       "       [ 0.82354296, -1.19963285, -0.38596486,  2.21118477],\n",
       "       [-0.38226827, -0.24616513,  0.14546607, -1.30259553],\n",
       "       [-0.35590886,  0.48276531, -0.67633488,  0.53234781],\n",
       "       [ 2.02152698, -0.44557765, -0.26609356,  0.71324901]])"
      ]
     },
     "execution_count": 173,
     "metadata": {},
     "output_type": "execute_result"
    }
   ],
   "source": [
    "data[~(names == 'Bob')] # 부정연산자 : ~ (Python의 not연산자와 동일한 의미)"
   ]
  },
  {
   "cell_type": "code",
   "execution_count": 175,
   "id": "4c9b0ba7-936c-4eab-aad6-533c50ad1ab0",
   "metadata": {},
   "outputs": [
    {
     "data": {
      "text/plain": [
       "array([ True, False,  True,  True, False, False,  True])"
      ]
     },
     "execution_count": 175,
     "metadata": {},
     "output_type": "execute_result"
    }
   ],
   "source": [
    "m = (names == 'Bob') | (names == 'Will') # and(&), or(|)\n",
    "m"
   ]
  },
  {
   "cell_type": "code",
   "execution_count": 176,
   "id": "cba1ecd3-2a19-4027-8859-813a3f2c77f5",
   "metadata": {},
   "outputs": [
    {
     "data": {
      "text/plain": [
       "array([[-0.57233418,  1.38533406, -0.54395214,  0.15115798],\n",
       "       [ 0.82354296, -1.19963285, -0.38596486,  2.21118477],\n",
       "       [ 0.34844654,  2.19843245,  1.66657533,  0.24297917],\n",
       "       [ 2.02152698, -0.44557765, -0.26609356,  0.71324901]])"
      ]
     },
     "execution_count": 176,
     "metadata": {},
     "output_type": "execute_result"
    }
   ],
   "source": [
    "arr = data[m]\n",
    "arr"
   ]
  },
  {
   "cell_type": "code",
   "execution_count": 177,
   "id": "6bf402a2-443a-4b5d-8105-ca1ccbc85f04",
   "metadata": {},
   "outputs": [
    {
     "data": {
      "text/plain": [
       "array([[ 0.        ,  0.        , -0.54395214,  0.15115798],\n",
       "       [ 0.        ,  0.        , -0.38596486,  2.21118477],\n",
       "       [ 0.        ,  0.        ,  1.66657533,  0.24297917],\n",
       "       [ 0.        ,  0.        , -0.26609356,  0.71324901]])"
      ]
     },
     "execution_count": 177,
     "metadata": {},
     "output_type": "execute_result"
    }
   ],
   "source": [
    "arr[:, :2] = 0\n",
    "arr"
   ]
  },
  {
   "cell_type": "code",
   "execution_count": 178,
   "id": "548a37a7-7c94-4282-8c4c-ec8da6635162",
   "metadata": {},
   "outputs": [
    {
     "data": {
      "text/plain": [
       "array([[-0.57233418,  1.38533406, -0.54395214,  0.15115798],\n",
       "       [ 1.44992513, -0.93122796, -1.07952958, -1.20217808],\n",
       "       [ 0.82354296, -1.19963285, -0.38596486,  2.21118477],\n",
       "       [ 0.34844654,  2.19843245,  1.66657533,  0.24297917],\n",
       "       [-0.38226827, -0.24616513,  0.14546607, -1.30259553],\n",
       "       [-0.35590886,  0.48276531, -0.67633488,  0.53234781],\n",
       "       [ 2.02152698, -0.44557765, -0.26609356,  0.71324901]])"
      ]
     },
     "execution_count": 178,
     "metadata": {},
     "output_type": "execute_result"
    }
   ],
   "source": [
    "data"
   ]
  },
  {
   "cell_type": "code",
   "execution_count": 179,
   "id": "3da2cb02-42bf-4cc5-b0df-3ef60209ff3e",
   "metadata": {},
   "outputs": [
    {
     "data": {
      "text/plain": [
       "array([[0.        , 1.38533406, 0.        , 0.15115798],\n",
       "       [1.44992513, 0.        , 0.        , 0.        ],\n",
       "       [0.82354296, 0.        , 0.        , 2.21118477],\n",
       "       [0.34844654, 2.19843245, 1.66657533, 0.24297917],\n",
       "       [0.        , 0.        , 0.14546607, 0.        ],\n",
       "       [0.        , 0.48276531, 0.        , 0.53234781],\n",
       "       [2.02152698, 0.        , 0.        , 0.71324901]])"
      ]
     },
     "execution_count": 179,
     "metadata": {},
     "output_type": "execute_result"
    }
   ],
   "source": [
    "# 0보다 작은 데이터를 모두 0으로 바꿔주는 코드\n",
    "data[data<0] = 0\n",
    "data"
   ]
  },
  {
   "cell_type": "code",
   "execution_count": 180,
   "id": "e5b55133-507a-4ee8-a0d6-eef58b18e6f2",
   "metadata": {},
   "outputs": [
    {
     "data": {
      "text/plain": [
       "array([[5.        , 5.        , 5.        , 5.        ],\n",
       "       [1.44992513, 0.        , 0.        , 0.        ],\n",
       "       [5.        , 5.        , 5.        , 5.        ],\n",
       "       [5.        , 5.        , 5.        , 5.        ],\n",
       "       [0.        , 0.        , 0.14546607, 0.        ],\n",
       "       [0.        , 0.48276531, 0.        , 0.53234781],\n",
       "       [5.        , 5.        , 5.        , 5.        ]])"
      ]
     },
     "execution_count": 180,
     "metadata": {},
     "output_type": "execute_result"
    }
   ],
   "source": [
    "data[names != 'Joe'] = 5\n",
    "data"
   ]
  },
  {
   "cell_type": "code",
   "execution_count": 181,
   "id": "9d258945-ce20-4b0b-a9a3-c25c80327dc9",
   "metadata": {},
   "outputs": [
    {
     "data": {
      "text/plain": [
       "array([[0., 0., 0., 0.],\n",
       "       [1., 1., 1., 1.],\n",
       "       [2., 2., 2., 2.],\n",
       "       [3., 3., 3., 3.],\n",
       "       [4., 4., 4., 4.],\n",
       "       [5., 5., 5., 5.],\n",
       "       [6., 6., 6., 6.],\n",
       "       [7., 7., 7., 7.]])"
      ]
     },
     "execution_count": 181,
     "metadata": {},
     "output_type": "execute_result"
    }
   ],
   "source": [
    "arr = np.empty((8, 4))\n",
    "\n",
    "for i in range(8) : \n",
    "    arr[i] = i\n",
    "arr"
   ]
  },
  {
   "cell_type": "code",
   "execution_count": 183,
   "id": "e389d4d6-6aca-4133-8a25-07bdcdf08c04",
   "metadata": {},
   "outputs": [
    {
     "data": {
      "text/plain": [
       "array([[4., 4., 4., 4.],\n",
       "       [3., 3., 3., 3.],\n",
       "       [0., 0., 0., 0.],\n",
       "       [6., 6., 6., 6.]])"
      ]
     },
     "execution_count": 183,
     "metadata": {},
     "output_type": "execute_result"
    }
   ],
   "source": [
    "arr[[4, 3, 0, 6]] # 위 코드에서 뽑아서 배열(순서)를 바꿔준 것이라고 생각.(하나 새로 만든게 x)"
   ]
  },
  {
   "cell_type": "code",
   "execution_count": 184,
   "id": "5ec69bce-5c71-44ee-b887-96d47f211533",
   "metadata": {},
   "outputs": [
    {
     "data": {
      "text/plain": [
       "array([[4., 4., 4., 4.],\n",
       "       [3., 3., 3., 3.],\n",
       "       [0., 0., 0., 0.],\n",
       "       [6., 6., 6., 6.]])"
      ]
     },
     "execution_count": 184,
     "metadata": {},
     "output_type": "execute_result"
    }
   ],
   "source": [
    "arr[[-4, -5, 0, -2]] # 음수로 뽑아오는 것도 가능하다."
   ]
  },
  {
   "cell_type": "code",
   "execution_count": 185,
   "id": "c2f0a6d7-92bf-4078-93d0-20f08a9288fc",
   "metadata": {},
   "outputs": [
    {
     "data": {
      "text/plain": [
       "array([[ 0,  1,  2,  3],\n",
       "       [ 4,  5,  6,  7],\n",
       "       [ 8,  9, 10, 11],\n",
       "       [12, 13, 14, 15],\n",
       "       [16, 17, 18, 19],\n",
       "       [20, 21, 22, 23],\n",
       "       [24, 25, 26, 27],\n",
       "       [28, 29, 30, 31]])"
      ]
     },
     "execution_count": 185,
     "metadata": {},
     "output_type": "execute_result"
    }
   ],
   "source": [
    "# 2차원 배열도 변경하고 싶다면?\n",
    "arr = np.arange(32).reshape(8, 4)\n",
    "arr"
   ]
  },
  {
   "cell_type": "code",
   "execution_count": 188,
   "id": "31f2feda-fffc-4f84-8c78-3e5b5ac0ee37",
   "metadata": {},
   "outputs": [
    {
     "data": {
      "text/plain": [
       "array([ 4, 23, 29, 10])"
      ]
     },
     "execution_count": 188,
     "metadata": {},
     "output_type": "execute_result"
    }
   ],
   "source": [
    "arr[[1, 5, 7, 2], [0, 3, 1, 2]] # 행x열 구조"
   ]
  },
  {
   "cell_type": "code",
   "execution_count": 194,
   "id": "06532183-67ab-46a6-9d74-58d99204d906",
   "metadata": {},
   "outputs": [
    {
     "data": {
      "text/plain": [
       "array([[ 4,  7,  5,  6],\n",
       "       [20, 23, 21, 22],\n",
       "       [28, 31, 29, 30],\n",
       "       [ 8, 11,  9, 10]])"
      ]
     },
     "execution_count": 194,
     "metadata": {},
     "output_type": "execute_result"
    }
   ],
   "source": [
    "arr[[1, 5, 7, 2]][:,[0, 3, 1, 2]] # : = 슬라이싱"
   ]
  },
  {
   "cell_type": "code",
   "execution_count": 196,
   "id": "6f4997c4-b252-4361-bdfe-1c1d5bc1ce6d",
   "metadata": {},
   "outputs": [
    {
     "data": {
      "text/plain": [
       "array([[ 0,  1,  2,  3,  4],\n",
       "       [ 5,  6,  7,  8,  9],\n",
       "       [10, 11, 12, 13, 14]])"
      ]
     },
     "execution_count": 196,
     "metadata": {},
     "output_type": "execute_result"
    }
   ],
   "source": [
    "# transpose <- reshape의 특별한 형태 * '행x열 -> 열x행' 형태로 바꿔주는\n",
    "arr = np.arange(15).reshape((3, 5))\n",
    "arr"
   ]
  },
  {
   "cell_type": "code",
   "execution_count": 198,
   "id": "391f13fc-df8c-49ed-abcc-8d10216687a4",
   "metadata": {},
   "outputs": [
    {
     "data": {
      "text/plain": [
       "array([[ 0,  5, 10],\n",
       "       [ 1,  6, 11],\n",
       "       [ 2,  7, 12],\n",
       "       [ 3,  8, 13],\n",
       "       [ 4,  9, 14]])"
      ]
     },
     "execution_count": 198,
     "metadata": {},
     "output_type": "execute_result"
    }
   ],
   "source": [
    "arr.T # 대각축을 기준으로 뒤집힌다."
   ]
  },
  {
   "cell_type": "code",
   "execution_count": 199,
   "id": "ee74ff5c-7a55-4510-ab08-7b68bda62eaf",
   "metadata": {},
   "outputs": [
    {
     "data": {
      "text/plain": [
       "array([[ 30,  80, 130],\n",
       "       [ 80, 255, 430],\n",
       "       [130, 430, 730]])"
      ]
     },
     "execution_count": 199,
     "metadata": {},
     "output_type": "execute_result"
    }
   ],
   "source": [
    "arr.dot(arr.T)"
   ]
  },
  {
   "cell_type": "code",
   "execution_count": 216,
   "id": "1e735c67-2dae-429f-8700-43be22c84a7c",
   "metadata": {},
   "outputs": [
    {
     "name": "stdout",
     "output_type": "stream",
     "text": [
      "[[1 2 3]\n",
      " [4 5 6]]\n"
     ]
    }
   ],
   "source": [
    "arr = np.array([1, 2, 3, 4, 5, 6]).reshape(2, 3)\n",
    "print(arr)"
   ]
  },
  {
   "cell_type": "code",
   "execution_count": 200,
   "id": "6811e44c-f8f5-4802-8329-1d3e9130c2f9",
   "metadata": {},
   "outputs": [
    {
     "data": {
      "text/plain": [
       "array([0, 1, 2, 3, 4, 5, 6, 7, 8, 9])"
      ]
     },
     "execution_count": 200,
     "metadata": {},
     "output_type": "execute_result"
    }
   ],
   "source": [
    "# 연산함수\n",
    "arr = np.arange(10)\n",
    "arr"
   ]
  },
  {
   "cell_type": "markdown",
   "id": "276db8b7-f988-407b-ac21-6eb7dcba4c90",
   "metadata": {},
   "source": [
    "# 연산함수\n",
    "1) abs, fabs : 절댓값 계산\n",
    "2) sprt : 제곱근 계산(arr ** 0.5)\n",
    "3) square : 제곱 계산(arr ** 2)\n",
    "4) exp : e^x 계산(e : 자연상수, 오일러상수)\n",
    "5) log, log10, log2 : 로그 계산\n",
    "6) sign : 각 성분의 부호를 계산(양수(1), 숫자 0(0), 음수(-1))\n",
    "7) ceil : 천장함수 - 성분보다 크거나 같은 정수 중 가장 작은 정수\n",
    "8) floor : 바닥함수 - 성분보다 작거나 같은 정수 중 가장 큰 정수\n",
    "9) infinite, isinf : 요소가 무한인지 아닌지 boolean값으로 반환\n",
    "10) isnan : 요소가 Nan값인지 아닌지, boolean값으로 반환\n",
    "11) linspace : 특정 범위의 일정한 간격으로 n개의 값을 가진 배열을 생성한다.\n",
    "+ cos, cosh, sin, sinh, tan, tanh\n",
    "+ add, subtract, multiply, divide, floor_divide\n",
    "+ maximum, minimum"
   ]
  },
  {
   "cell_type": "code",
   "execution_count": 205,
   "id": "264ce4af-d99b-4020-8eb9-0c587fdc082f",
   "metadata": {},
   "outputs": [
    {
     "data": {
      "text/plain": [
       "array([0.        , 1.        , 1.41421356, 1.73205081, 2.        ,\n",
       "       2.23606798, 2.44948974, 2.64575131, 2.82842712, 3.        ])"
      ]
     },
     "execution_count": 205,
     "metadata": {},
     "output_type": "execute_result"
    }
   ],
   "source": [
    "np.sqrt(arr) # 루트 씌워준 값"
   ]
  },
  {
   "cell_type": "code",
   "execution_count": 206,
   "id": "3ace8c2b-7bbf-49ba-b01e-47d5d6bac211",
   "metadata": {},
   "outputs": [
    {
     "data": {
      "text/plain": [
       "array([ 0,  2,  4,  6,  8, 10, 12, 14, 16, 18])"
      ]
     },
     "execution_count": 206,
     "metadata": {},
     "output_type": "execute_result"
    }
   ],
   "source": [
    "np.add(arr, arr)"
   ]
  },
  {
   "cell_type": "code",
   "execution_count": 207,
   "id": "88d87a5f-41bb-46e9-aded-917b0998e06a",
   "metadata": {},
   "outputs": [
    {
     "data": {
      "text/plain": [
       "array([ 1,  2,  3,  4,  5,  6,  7,  8,  9, 10])"
      ]
     },
     "execution_count": 207,
     "metadata": {},
     "output_type": "execute_result"
    }
   ],
   "source": [
    "arr2 = np.arange(1, 11)\n",
    "arr2"
   ]
  },
  {
   "cell_type": "code",
   "execution_count": 208,
   "id": "3254d1f8-c93d-42fb-92e6-77de51c54af9",
   "metadata": {},
   "outputs": [
    {
     "data": {
      "text/plain": [
       "array([ 1,  2,  3,  4,  5,  6,  7,  8,  9, 10])"
      ]
     },
     "execution_count": 208,
     "metadata": {},
     "output_type": "execute_result"
    }
   ],
   "source": [
    "arr3 = np.maximum(arr, arr2)\n",
    "arr3"
   ]
  },
  {
   "cell_type": "code",
   "execution_count": 211,
   "id": "a0b09294-2020-4b62-bfe3-c7e66f2b8167",
   "metadata": {},
   "outputs": [
    {
     "data": {
      "text/plain": [
       "array([0.  , 0.25, 0.5 , 0.75, 1.  ])"
      ]
     },
     "execution_count": 211,
     "metadata": {},
     "output_type": "execute_result"
    }
   ],
   "source": [
    "arr = np.linspace(0, 1, 5) # 특정 범위만큼(같은 간격으로) 띄워줌\n",
    "arr"
   ]
  },
  {
   "cell_type": "code",
   "execution_count": 213,
   "id": "3259c11e-133d-4780-80c8-c59b5af25f34",
   "metadata": {},
   "outputs": [
    {
     "data": {
      "text/plain": [
       "array([-10.        ,  -7.77777778,  -5.55555556,  -3.33333333,\n",
       "        -1.11111111,   1.11111111,   3.33333333,   5.55555556,\n",
       "         7.77777778,  10.        ])"
      ]
     },
     "execution_count": 213,
     "metadata": {},
     "output_type": "execute_result"
    }
   ],
   "source": [
    "arr = np.linspace(-10, 10, 10)\n",
    "arr"
   ]
  },
  {
   "cell_type": "code",
   "execution_count": 218,
   "id": "aecce745-e9f7-4dfe-a506-385476cf13a9",
   "metadata": {},
   "outputs": [],
   "source": [
    "points = np.arange(-5, 5, 0.01)"
   ]
  },
  {
   "cell_type": "code",
   "execution_count": 221,
   "id": "19a074f3-cb9b-40f0-83d3-a5d5f1e6b4b9",
   "metadata": {},
   "outputs": [
    {
     "data": {
      "text/plain": [
       "array([[-5.  , -5.  , -5.  , ..., -5.  , -5.  , -5.  ],\n",
       "       [-4.99, -4.99, -4.99, ..., -4.99, -4.99, -4.99],\n",
       "       [-4.98, -4.98, -4.98, ..., -4.98, -4.98, -4.98],\n",
       "       ...,\n",
       "       [ 4.97,  4.97,  4.97, ...,  4.97,  4.97,  4.97],\n",
       "       [ 4.98,  4.98,  4.98, ...,  4.98,  4.98,  4.98],\n",
       "       [ 4.99,  4.99,  4.99, ...,  4.99,  4.99,  4.99]])"
      ]
     },
     "execution_count": 221,
     "metadata": {},
     "output_type": "execute_result"
    }
   ],
   "source": [
    "xp, yp = np.meshgrid(points, points) # yp = y point(x의 좌표)\n",
    "yp # 좌표 출력"
   ]
  },
  {
   "cell_type": "code",
   "execution_count": 222,
   "id": "94bf6045-17c0-459a-8853-8bd5af56a847",
   "metadata": {},
   "outputs": [
    {
     "data": {
      "text/plain": [
       "array([[-5.  , -4.99, -4.98, ...,  4.97,  4.98,  4.99],\n",
       "       [-5.  , -4.99, -4.98, ...,  4.97,  4.98,  4.99],\n",
       "       [-5.  , -4.99, -4.98, ...,  4.97,  4.98,  4.99],\n",
       "       ...,\n",
       "       [-5.  , -4.99, -4.98, ...,  4.97,  4.98,  4.99],\n",
       "       [-5.  , -4.99, -4.98, ...,  4.97,  4.98,  4.99],\n",
       "       [-5.  , -4.99, -4.98, ...,  4.97,  4.98,  4.99]])"
      ]
     },
     "execution_count": 222,
     "metadata": {},
     "output_type": "execute_result"
    }
   ],
   "source": [
    "xp, yp = np.meshgrid(points, points) # xp = x point(x의 좌표)\n",
    "xp # 좌표 출력"
   ]
  },
  {
   "cell_type": "code",
   "execution_count": 224,
   "id": "78d47537-c77d-40b1-9322-d516ff334a55",
   "metadata": {},
   "outputs": [
    {
     "data": {
      "text/plain": [
       "array([[7.07106781, 7.06400028, 7.05693985, ..., 7.04988652, 7.05693985,\n",
       "        7.06400028],\n",
       "       [7.06400028, 7.05692568, 7.04985815, ..., 7.04279774, 7.04985815,\n",
       "        7.05692568],\n",
       "       [7.05693985, 7.04985815, 7.04278354, ..., 7.03571603, 7.04278354,\n",
       "        7.04985815],\n",
       "       ...,\n",
       "       [7.04988652, 7.04279774, 7.03571603, ..., 7.0286414 , 7.03571603,\n",
       "        7.04279774],\n",
       "       [7.05693985, 7.04985815, 7.04278354, ..., 7.03571603, 7.04278354,\n",
       "        7.04985815],\n",
       "       [7.06400028, 7.05692568, 7.04985815, ..., 7.04279774, 7.04985815,\n",
       "        7.05692568]])"
      ]
     },
     "execution_count": 224,
     "metadata": {},
     "output_type": "execute_result"
    }
   ],
   "source": [
    "z = np.sqrt(xp**2 + yp**2)\n",
    "z # 각 포인트에서 중간까지의 거리 계산"
   ]
  },
  {
   "cell_type": "code",
   "execution_count": 230,
   "id": "3b87488e-692a-4ed6-a85f-e93dba51f480",
   "metadata": {},
   "outputs": [
    {
     "data": {
      "text/plain": [
       "<matplotlib.colorbar.Colorbar at 0x137748810>"
      ]
     },
     "execution_count": 230,
     "metadata": {},
     "output_type": "execute_result"
    },
    {
     "data": {
      "image/png": "[encoded data removed]",
      "text/plain": [
       "<Figure size 640x480 with 2 Axes>"
      ]
     },
     "metadata": {},
     "output_type": "display_data"
    }
   ],
   "source": [
    "%matplotlib inline\n",
    "\n",
    "import matplotlib.pyplot as plt\n",
    "plt.imshow(z, cmap=plt.cm.gray) # 위 코드에서 출력된 결과값 이미지화\n",
    "plt.colorbar()"
   ]
  },
  {
   "cell_type": "code",
   "execution_count": 232,
   "id": "d24cf7bc-5e96-4013-9d91-07a733ec1b8a",
   "metadata": {},
   "outputs": [],
   "source": [
    "xarr = np.array([1.1, 1.2, 1.3, 1.4, 1.5])\n",
    "yarr = np.array([2.1, 2.2, 2.3, 2.4, 2.5])\n",
    "cond = np.array([True, False, True, True, False])"
   ]
  },
  {
   "cell_type": "code",
   "execution_count": 241,
   "id": "453a6fdd-ffff-4fee-81ab-e2a4273e6641",
   "metadata": {},
   "outputs": [
    {
     "data": {
      "text/plain": [
       "[1.1, 2.2, 1.3, 1.4, 2.5]"
      ]
     },
     "execution_count": 241,
     "metadata": {},
     "output_type": "execute_result"
    }
   ],
   "source": [
    "[(x if z else y) for x, y, z in zip(xarr, yarr, cond)] "
   ]
  },
  {
   "cell_type": "code",
   "execution_count": 242,
   "id": "3b2a9949-3cb0-493f-a5bd-0c4823ff2c38",
   "metadata": {},
   "outputs": [
    {
     "data": {
      "text/plain": [
       "array([1.1, 2.2, 1.3, 1.4, 2.5])"
      ]
     },
     "execution_count": 242,
     "metadata": {},
     "output_type": "execute_result"
    }
   ],
   "source": [
    "np.where(cond, xarr, yarr) # where(조건식, True일 때, False일 때)"
   ]
  },
  {
   "cell_type": "code",
   "execution_count": 243,
   "id": "e363e228-6cae-49b5-bd1f-2914564a41ce",
   "metadata": {},
   "outputs": [
    {
     "data": {
      "text/plain": [
       "array([[ 0.03791   , -0.9636391 , -0.02266161,  1.09861005],\n",
       "       [ 0.83405953, -0.8034111 , -0.73723482, -1.59279324],\n",
       "       [-1.14037524, -1.19828208, -2.36005332, -1.22140171],\n",
       "       [ 0.6109768 ,  0.63855115,  0.73115087,  0.6126229 ]])"
      ]
     },
     "execution_count": 243,
     "metadata": {},
     "output_type": "execute_result"
    }
   ],
   "source": [
    "arr = np.random.randn(4, 4)\n",
    "arr"
   ]
  },
  {
   "cell_type": "code",
   "execution_count": 246,
   "id": "5ef235b9-0da8-4f53-8f71-93e3235a97ab",
   "metadata": {},
   "outputs": [
    {
     "data": {
      "text/plain": [
       "array([[ 1., -1., -1.,  1.],\n",
       "       [ 1., -1., -1., -1.],\n",
       "       [-1., -1., -1., -1.],\n",
       "       [ 1.,  1.,  1.,  1.]])"
      ]
     },
     "execution_count": 246,
     "metadata": {},
     "output_type": "execute_result"
    }
   ],
   "source": [
    "np.sign(arr)"
   ]
  },
  {
   "cell_type": "code",
   "execution_count": 247,
   "id": "5abf7673-90e7-4fc1-b82f-efb8553183d8",
   "metadata": {},
   "outputs": [
    {
     "data": {
      "text/plain": [
       "array([[ 1, -1, -1,  1],\n",
       "       [ 1, -1, -1, -1],\n",
       "       [-1, -1, -1, -1],\n",
       "       [ 1,  1,  1,  1]])"
      ]
     },
     "execution_count": 247,
     "metadata": {},
     "output_type": "execute_result"
    }
   ],
   "source": [
    "np.where(arr < 0, -1, 1)"
   ]
  },
  {
   "cell_type": "code",
   "execution_count": 248,
   "id": "80a71c47-3fbe-4e93-bdf6-b64e6510034a",
   "metadata": {},
   "outputs": [
    {
     "data": {
      "text/plain": [
       "array([[0.03791   , 1.        , 1.        , 1.09861005],\n",
       "       [0.83405953, 1.        , 1.        , 1.        ],\n",
       "       [1.        , 1.        , 1.        , 1.        ],\n",
       "       [0.6109768 , 0.63855115, 0.73115087, 0.6126229 ]])"
      ]
     },
     "execution_count": 248,
     "metadata": {},
     "output_type": "execute_result"
    }
   ],
   "source": [
    "np.where(arr < 0, 1, arr)"
   ]
  },
  {
   "cell_type": "markdown",
   "id": "6dc14453-709f-4e73-82ac-00d319e66e14",
   "metadata": {},
   "source": [
    "# 통계함수\n",
    "\n",
    "1) sum : 배열의 모든 요소 또는 지정한 축(axis)에 따른 요소의 합계를 계산한다.\n",
    "2) mean : 산술 평균을 계산한다. 길이가 0이면 NaN(정의할 수 없음)\n",
    "3) std, var : 각각 표준편차와 분산을 계산한다. 기본 분모는 n\n",
    "4) min, max : 최솟값, 최댓값\n",
    "5) argmin, argmax : 최솟값과 최댓값을 가지는 요소의 인덱스를 반환한다.\n",
    "6) cumsum : 누적 합계\n",
    "7) cumprod : 누적 곱\n",
    "\n"
   ]
  },
  {
   "cell_type": "code",
   "execution_count": 249,
   "id": "9799ad53-80bf-4a3c-b1ae-660960442d2e",
   "metadata": {},
   "outputs": [
    {
     "data": {
      "text/plain": [
       "array([[-0.89718651,  0.62268537,  0.76487029,  0.13837076],\n",
       "       [-0.76201636,  0.31849031,  0.20517967, -0.1483568 ],\n",
       "       [ 0.78990975, -0.22491321,  1.44642344,  1.39221224],\n",
       "       [ 2.05047511, -0.3349477 ,  0.77709113, -1.55879027],\n",
       "       [ 1.69021301,  0.2372387 , -0.41244695,  0.5063258 ]])"
      ]
     },
     "execution_count": 249,
     "metadata": {},
     "output_type": "execute_result"
    }
   ],
   "source": [
    "arr = np.random.randn(5, 4)\n",
    "arr"
   ]
  },
  {
   "cell_type": "code",
   "execution_count": 250,
   "id": "c1178104-cd89-41aa-9121-6a08a24fcb14",
   "metadata": {},
   "outputs": [
    {
     "data": {
      "text/plain": [
       "0.33004138952641054"
      ]
     },
     "execution_count": 250,
     "metadata": {},
     "output_type": "execute_result"
    }
   ],
   "source": [
    "arr.mean()"
   ]
  },
  {
   "cell_type": "code",
   "execution_count": 251,
   "id": "204fa386-6410-4eda-a91d-fee8df146ede",
   "metadata": {},
   "outputs": [
    {
     "data": {
      "text/plain": [
       "6.600827790528211"
      ]
     },
     "execution_count": 251,
     "metadata": {},
     "output_type": "execute_result"
    }
   ],
   "source": [
    "arr.sum()"
   ]
  },
  {
   "cell_type": "code",
   "execution_count": 252,
   "id": "a61afabd-1494-4462-abff-621075980d24",
   "metadata": {},
   "outputs": [
    {
     "data": {
      "text/plain": [
       "0.33004138952641054"
      ]
     },
     "execution_count": 252,
     "metadata": {},
     "output_type": "execute_result"
    }
   ],
   "source": [
    "np.mean(arr)"
   ]
  },
  {
   "cell_type": "code",
   "execution_count": 255,
   "id": "7a174710-a1d7-42b4-8fac-5e89d02099a4",
   "metadata": {},
   "outputs": [
    {
     "data": {
      "text/plain": [
       "array([2.871395  , 0.61855347, 2.78111758, 0.32976173])"
      ]
     },
     "execution_count": 255,
     "metadata": {},
     "output_type": "execute_result"
    }
   ],
   "source": [
    "arr.sum(axis=0) # x축 기준 합"
   ]
  },
  {
   "cell_type": "code",
   "execution_count": 256,
   "id": "b60398d8-4d4d-420a-bae0-56562e13665f",
   "metadata": {},
   "outputs": [
    {
     "data": {
      "text/plain": [
       "array([ 0.62873991, -0.38670318,  3.40363222,  0.93382828,  2.02133057])"
      ]
     },
     "execution_count": 256,
     "metadata": {},
     "output_type": "execute_result"
    }
   ],
   "source": [
    "arr.sum(axis=1) # y축 기준 합"
   ]
  },
  {
   "cell_type": "code",
   "execution_count": 259,
   "id": "aa62e8a2-8020-47cb-97c5-7e9c2946ab61",
   "metadata": {},
   "outputs": [
    {
     "name": "stdout",
     "output_type": "stream",
     "text": [
      "[2.871395003787842, 0.6185534725698265, 2.7811175799034022, 0.3297617342671405]\n"
     ]
    }
   ],
   "source": [
    "# 위 내용 검증 코드\n",
    "sum = []\n",
    "for i in range(arr.shape[1]) :\n",
    "    sum_t = 0\n",
    "    for row in arr :\n",
    "        sum_t += row[i]\n",
    "    sum.append(sum_t)\n",
    "print(sum)"
   ]
  },
  {
   "cell_type": "code",
   "execution_count": 264,
   "id": "58bf6f79-1e56-47fc-9858-ba38ee743aeb",
   "metadata": {},
   "outputs": [
    {
     "name": "stdout",
     "output_type": "stream",
     "text": [
      "[[-2.29964032 -2.18276552  0.55946182  0.42521008]\n",
      " [-0.63945458  0.21013291  0.8820257  -0.66764839]\n",
      " [ 1.45457298 -0.53999306  1.44331601 -0.23241046]]\n",
      "[[False False  True  True]\n",
      " [False  True  True False]\n",
      " [ True False  True False]]\n",
      "6\n",
      "[[-1 -1  1  1]\n",
      " [-1  1  1 -1]\n",
      " [ 1 -1  1 -1]]\n",
      "[[-2.29964032 -2.18276552  5.          5.        ]\n",
      " [-0.63945458  5.          5.         -0.66764839]\n",
      " [ 5.         -0.53999306  5.         -0.23241046]]\n"
     ]
    }
   ],
   "source": [
    "data = np.random.randn(3,4)\n",
    "print(data)\n",
    "\n",
    "print(data > 0)\n",
    "\n",
    "total = (data < 0).sum()\n",
    "print(total)\n",
    "\n",
    "data2 = np.where(data > 0, 1, -1)\n",
    "print(data2)\n",
    "\n",
    "data3 = np.where(data > 0, 5, data)\n",
    "print(data3)"
   ]
  },
  {
   "cell_type": "code",
   "execution_count": 265,
   "id": "c54a027d-33cc-4c0e-af71-cd3f6ef9f593",
   "metadata": {},
   "outputs": [
    {
     "name": "stdout",
     "output_type": "stream",
     "text": [
      "[[-16  10  -5   2]\n",
      " [ -2  20   8   3]\n",
      " [ 13  22  17  33]]\n",
      "\n",
      "[[-16  -5   2  10]\n",
      " [ -2   3   8  20]\n",
      " [ 13  17  22  33]]\n"
     ]
    }
   ],
   "source": [
    "# 배열의 요소 정렬\n",
    "data = np.array([[13, 22, 17, 2], [-2, 20, 8, 3], [-16, 10, -5, 33]])\n",
    "\n",
    "data.sort(0) # 첫 번째값 기준으로 정렬\n",
    "print(data)\n",
    "\n",
    "print()\n",
    "\n",
    "data.sort(1) # 두 번째값 기준으로 정렬\n",
    "print(data)"
   ]
  },
  {
   "cell_type": "code",
   "execution_count": 266,
   "id": "32a9e8ed-9f19-4b6b-ab14-cf062039aaee",
   "metadata": {},
   "outputs": [
    {
     "data": {
      "text/plain": [
       "array([[-0.89718651,  0.62268537,  0.76487029,  0.13837076],\n",
       "       [-0.76201636,  0.31849031,  0.20517967, -0.1483568 ],\n",
       "       [ 0.78990975, -0.22491321,  1.44642344,  1.39221224],\n",
       "       [ 2.05047511, -0.3349477 ,  0.77709113, -1.55879027],\n",
       "       [ 1.69021301,  0.2372387 , -0.41244695,  0.5063258 ]])"
      ]
     },
     "execution_count": 266,
     "metadata": {},
     "output_type": "execute_result"
    }
   ],
   "source": [
    "arr"
   ]
  },
  {
   "cell_type": "code",
   "execution_count": 267,
   "id": "5986088e-a6bf-42e6-acf6-29fea851af6e",
   "metadata": {},
   "outputs": [
    {
     "data": {
      "text/plain": [
       "array([[-0.89718651,  0.13837076,  0.62268537,  0.76487029],\n",
       "       [-0.76201636, -0.1483568 ,  0.20517967,  0.31849031],\n",
       "       [-0.22491321,  0.78990975,  1.39221224,  1.44642344],\n",
       "       [-1.55879027, -0.3349477 ,  0.77709113,  2.05047511],\n",
       "       [-0.41244695,  0.2372387 ,  0.5063258 ,  1.69021301]])"
      ]
     },
     "execution_count": 267,
     "metadata": {},
     "output_type": "execute_result"
    }
   ],
   "source": [
    "arr.sort()\n",
    "arr"
   ]
  },
  {
   "cell_type": "code",
   "execution_count": 269,
   "id": "cd1491b7-c139-477c-ac28-8555cee92ac8",
   "metadata": {},
   "outputs": [
    {
     "data": {
      "text/plain": [
       "array([[ 0.34104594, -1.50835423,  0.26567679, -0.99264459, -1.26740608],\n",
       "       [ 0.23606442,  1.79542377,  0.55447295, -0.95165897,  0.45894655],\n",
       "       [ 0.47525061, -1.52817042, -0.1569311 , -0.35341958,  1.46040141],\n",
       "       [-1.41825675,  0.37675861, -0.0292307 ,  1.38424489, -0.28626991],\n",
       "       [ 0.08994563, -0.12930947, -1.32859099, -0.07554759,  0.79768702]])"
      ]
     },
     "execution_count": 269,
     "metadata": {},
     "output_type": "execute_result"
    }
   ],
   "source": [
    "arr = np.random.randn(5, 5)\n",
    "arr"
   ]
  },
  {
   "cell_type": "code",
   "execution_count": 270,
   "id": "c0110d4c-e4fa-4d11-bb7d-bba3d76914af",
   "metadata": {},
   "outputs": [
    {
     "data": {
      "text/plain": [
       "array([[-1.50835423, -1.26740608, -0.99264459,  0.26567679,  0.34104594],\n",
       "       [-0.95165897,  0.23606442,  0.45894655,  0.55447295,  1.79542377],\n",
       "       [-1.52817042, -0.35341958, -0.1569311 ,  0.47525061,  1.46040141],\n",
       "       [-1.41825675, -0.28626991, -0.0292307 ,  0.37675861,  1.38424489],\n",
       "       [-1.32859099, -0.12930947, -0.07554759,  0.08994563,  0.79768702]])"
      ]
     },
     "execution_count": 270,
     "metadata": {},
     "output_type": "execute_result"
    }
   ],
   "source": [
    "arr.sort(axis=1)\n",
    "arr"
   ]
  },
  {
   "cell_type": "code",
   "execution_count": 271,
   "id": "d0b035f9-5e79-4e72-a458-8007ec86be80",
   "metadata": {},
   "outputs": [
    {
     "data": {
      "text/plain": [
       "array([[ 0.05103874, -1.75518466, -1.41707996, -0.804809  , -1.34027851],\n",
       "       [-0.91535282, -1.0933751 ,  0.38203245,  0.35361616,  0.98739594],\n",
       "       [ 1.48439122, -0.56532421,  0.85309425,  0.08195992, -1.08350123],\n",
       "       [ 1.53075885,  0.32670413,  0.26337075,  2.23163691, -0.90401361],\n",
       "       [-0.67770715,  1.10652926,  1.0861061 , -1.848388  , -0.09372956]])"
      ]
     },
     "execution_count": 271,
     "metadata": {},
     "output_type": "execute_result"
    }
   ],
   "source": [
    "arr = np.random.randn(5, 5)\n",
    "arr"
   ]
  },
  {
   "cell_type": "code",
   "execution_count": 272,
   "id": "1afc445f-866d-4049-aedc-018da7572fb7",
   "metadata": {},
   "outputs": [
    {
     "data": {
      "text/plain": [
       "array([[-0.91535282, -1.75518466, -1.41707996, -1.848388  , -1.34027851],\n",
       "       [-0.67770715, -1.0933751 ,  0.26337075, -0.804809  , -1.08350123],\n",
       "       [ 0.05103874, -0.56532421,  0.38203245,  0.08195992, -0.90401361],\n",
       "       [ 1.48439122,  0.32670413,  0.85309425,  0.35361616, -0.09372956],\n",
       "       [ 1.53075885,  1.10652926,  1.0861061 ,  2.23163691,  0.98739594]])"
      ]
     },
     "execution_count": 272,
     "metadata": {},
     "output_type": "execute_result"
    }
   ],
   "source": [
    "arr.sort(axis=0)\n",
    "arr"
   ]
  },
  {
   "cell_type": "markdown",
   "id": "8605e84c-1fe3-4067-b852-5b186a4cfad9",
   "metadata": {},
   "source": [
    "# 집합 연산\n",
    "1) unique : 배열 x 내의 고유한 요소들을 계산하고, 정렬해서 반환한다.\n",
    "2) intersectld : 두 배열 x, y의 공통적으로 존재하는 요소들을 계산하고, 정렬해서 반환한다.\n",
    "3) unionld : 두 배열 x, y의 합집합을 계산하고, 정렬해서 반환한다.\n",
    "4) inld : x 배열에서 각 요소가 y 배열에 존재하는지 계산해서 boolean형의 배열을 반환한다.\n",
    "5) setdiffid : x 배열에서 y에 속하지 않는 요소들만 찾아서 반환\n",
    "6) setxorld : x와 y에 대칭 차집합을 계산한다.(대칭 차집합 : 공통되지 않은 요소들)"
   ]
  },
  {
   "cell_type": "code",
   "execution_count": 273,
   "id": "1670006c-6db7-48ae-95eb-08fcb0c5e3ba",
   "metadata": {},
   "outputs": [
    {
     "data": {
      "text/plain": [
       "array(['Bob', 'Joe', 'Will'], dtype='<U4')"
      ]
     },
     "execution_count": 273,
     "metadata": {},
     "output_type": "execute_result"
    }
   ],
   "source": [
    "names = np.array(['Bob', 'Joe', 'Will', 'Bob', 'Joe', 'Joe', 'Will'])\n",
    "np.unique(names)"
   ]
  },
  {
   "cell_type": "code",
   "execution_count": 275,
   "id": "078300a0-1955-4845-a016-c0b5086539eb",
   "metadata": {},
   "outputs": [
    {
     "data": {
      "text/plain": [
       "{'Bob', 'Joe', 'Will'}"
      ]
     },
     "execution_count": 275,
     "metadata": {},
     "output_type": "execute_result"
    }
   ],
   "source": [
    "set(names)"
   ]
  },
  {
   "cell_type": "code",
   "execution_count": 276,
   "id": "d0022b9e-afea-4f8b-8e56-cd5ada52c84f",
   "metadata": {},
   "outputs": [],
   "source": [
    "x = np.array([1, 2, 3, 4, 5, 6])\n",
    "y = np.array([4, 5, 6, 7, 8, 9])"
   ]
  },
  {
   "cell_type": "code",
   "execution_count": 278,
   "id": "36bf6641-0b74-47da-ad39-9549af2d56cc",
   "metadata": {},
   "outputs": [
    {
     "data": {
      "text/plain": [
       "array([4, 5, 6])"
      ]
     },
     "execution_count": 278,
     "metadata": {},
     "output_type": "execute_result"
    }
   ],
   "source": [
    "np.intersect1d(x, y) # 공통요소 출력"
   ]
  },
  {
   "cell_type": "code",
   "execution_count": 280,
   "id": "87a2f63f-476d-4dd7-91da-6b79850eda97",
   "metadata": {},
   "outputs": [
    {
     "data": {
      "text/plain": [
       "array([1, 2, 3, 4, 5, 6, 7, 8, 9])"
      ]
     },
     "execution_count": 280,
     "metadata": {},
     "output_type": "execute_result"
    }
   ],
   "source": [
    "np.union1d(x, y) # 합집합"
   ]
  },
  {
   "cell_type": "code",
   "execution_count": 282,
   "id": "743340d7-6b1b-4a94-8f45-a0566d7c13eb",
   "metadata": {},
   "outputs": [
    {
     "data": {
      "text/plain": [
       "array([False, False, False,  True,  True,  True])"
      ]
     },
     "execution_count": 282,
     "metadata": {},
     "output_type": "execute_result"
    }
   ],
   "source": [
    "np.in1d(x, y) # 들어있는지, 없는지"
   ]
  },
  {
   "cell_type": "code",
   "execution_count": 285,
   "id": "cc05a009-cb77-4f73-a744-0d25595c6b09",
   "metadata": {},
   "outputs": [
    {
     "data": {
      "text/plain": [
       "array([1, 2, 3])"
      ]
     },
     "execution_count": 285,
     "metadata": {},
     "output_type": "execute_result"
    }
   ],
   "source": [
    "np.setdiff1d(x, y) # x에는 존재하고, y에는 존재하지 않는 것"
   ]
  },
  {
   "cell_type": "code",
   "execution_count": 288,
   "id": "7d8c1840-1ed0-4493-ba13-031b9c723475",
   "metadata": {},
   "outputs": [
    {
     "data": {
      "text/plain": [
       "array([1, 2, 3, 7, 8, 9])"
      ]
     },
     "execution_count": 288,
     "metadata": {},
     "output_type": "execute_result"
    }
   ],
   "source": [
    "np.setxor1d(x, y) # 교집합을 뺀 총합"
   ]
  },
  {
   "cell_type": "code",
   "execution_count": 291,
   "id": "e0de1e97-19c9-4d52-95ed-e00ab3c12072",
   "metadata": {},
   "outputs": [
    {
     "name": "stdout",
     "output_type": "stream",
     "text": [
      "[0 1 2 3 4 5 6 7 8 9]\n",
      "[ 0  1  2 10  3  4  5  6  7  8  9]\n",
      "[[1 1 1]\n",
      " [2 2 2]\n",
      " [3 3 3]]\n",
      "[[ 1  1  1]\n",
      " [10 10 10]\n",
      " [ 2  2  2]\n",
      " [ 3  3  3]]\n",
      "[[ 1 10  1  1]\n",
      " [ 2 10  2  2]\n",
      " [ 3 10  3  3]]\n"
     ]
    }
   ],
   "source": [
    "# 배열에 열과 행 삽입\n",
    "a = np.arange(10)\n",
    "print(a)\n",
    "\n",
    "b = np.insert(a, 3, 10) # 3에 10 삽입\n",
    "print(b)\n",
    "\n",
    "x = np.array([[1, 1, 1], [2, 2, 2], [3, 3, 3]])\n",
    "print(x)\n",
    "\n",
    "y = np.insert(x, 1, 10, axis=0) # 행 기준 1번에 10 삽입\n",
    "print(y)\n",
    "\n",
    "y = np.insert(x, 1, 10, axis=1) # 열 기준 1번에 10 삽입\n",
    "print(y)"
   ]
  },
  {
   "cell_type": "markdown",
   "id": "6c2b3f92-6c31-47ed-b82c-f15330ac1438",
   "metadata": {},
   "source": [
    "# 전국 초등학교 학생 데이터 분석"
   ]
  },
  {
   "cell_type": "code",
   "execution_count": 296,
   "id": "1ddb4521-ebfd-42c6-aa9f-e706fc874844",
   "metadata": {},
   "outputs": [
    {
     "name": "stdout",
     "output_type": "stream",
     "text": [
      "['지역', '학교명', '학급수', '학생수', '교사수']\n",
      "[['서울특별시 서초구', '서울교육대학교부설초등학교', '28', '616', '32'], ['서울특별시 종로구', '서울대학교사범대학부설초등학교', '31', '632', '35'], ['서울특별시 강남구', '서울개일초등학교', '31', '837', '38'], ['서울특별시 강남구', '서울구룡초등학교', '25', '492', '30'], ['서울특별시 강남구', '서울논현초등학교', '19', '339', '22'], ['서울특별시 강남구', '서울대곡초등학교', '44', '1226', '54'], ['서울특별시 강남구', '서울대도초등학교', '62', '2157', '73'], ['서울특별시 강남구', '서울대모초등학교', '32', '1084', '43'], ['서울특별시 강남구', '서울대왕초등학교', '39', '904', '48'], ['서울특별시 강남구', '서울대진초등학교', '17', '316', '23'], ['서울특별시 강남구', '서울대청초등학교', '13', '150', '17'], ['서울특별시 강남구', '서울대치초등학교', '46', '1567', '60'], ['서울특별시 강남구', '서울대현초등학교', '30', '675', '35'], ['서울특별시 강남구', '서울도곡초등학교', '38', '882', '49'], ['서울특별시 강남구', '서울도성초등학교', '56', '1740', '68'], ['서울특별시 서초구', '서울반원초등학교', '50', '1373', '59'], ['서울특별시 서초구', '서울반포초등학교', '38', '848', '45'], ['서울특별시 서초구', '서울방배초등학교', '42', '952', '48'], ['서울특별시 서초구', '서울방일초등학교', '34', '883', '39'], ['서울특별시 서초구', '서울방현초등학교', '16', '332', '19'], ['서울특별시 강남구', '서울봉은초등학교', '25', '585', '30'], ['서울특별시 강남구', '서울삼릉초등학교', '23', '550', '27'], ['서울특별시 서초구', '서울서래초등학교', '47', '1378', '58'], ['서울특별시 서초구', '서울서원초등학교', '40', '1206', '47'], ['서울특별시 서초구', '서울서이초등학교', '44', '1005', '51'], ['서울특별시 서초구', '서울서일초등학교', '24', '547', '27'], ['서울특별시 서초구', '서울서초초등학교', '35', '1004', '40'], ['서울특별시 강남구', '서울수서초등학교', '13', '188', '19'], ['서울특별시 강남구', '서울신구초등학교', '25', '538', '30'], ['서울특별시 서초구', '서울신동초등학교', '49', '1503', '61'], ['서울특별시 서초구', '서울신중초등학교', '37', '903', '43'], ['서울특별시 강남구', '서울압구정초등학교', '37', '1066', '43'], ['서울특별시 서초구', '서울양재초등학교', '26', '611', '31'], ['서울특별시 강남구', '서울양전초등학교', '25', '455', '31'], ['서울특별시 서초구', '서울언남초등학교', '47', '1071', '55'], ['서울특별시 강남구', '서울언북초등학교', '60', '1882', '74'], ['서울특별시 강남구', '서울언주초등학교', '53', '1558', '62'], ['서울특별시 강남구', '서울역삼초등학교', '19', '338', '22'], ['서울특별시 강남구', '서울영희초등학교', '19', '345', '23'], ['서울특별시 강남구', '서울왕북초등학교', '32', '839', '41'], ['서울특별시 서초구', '서울우암초등학교', '19', '370', '24'], ['서울특별시 서초구', '서울원명초등학교', '43', '1347', '52'], ['서울특별시 서초구', '서울원촌초등학교', '44', '1296', '51'], ['서울특별시 서초구', '서울이수초등학교', '30', '610', '36'], ['서울특별시 강남구', '서울일원초등학교', '24', '520', '29'], ['서울특별시 서초구', '서울잠원초등학교', '60', '1591', '72'], ['서울특별시 강남구', '서울청담초등학교', '24', '510', '29'], ['서울특별시 강남구', '서울포이초등학교', '20', '434', '25'], ['서울특별시 강남구', '서울학동초등학교', '21', '485', '25'], ['서울특별시 송파구', '서울가동초등학교', '41', '947', '48'], ['서울특별시 송파구', '서울가락초등학교', '55', '812', '62'], ['서울특별시 송파구', '서울가원초등학교', '30', '630', '35'], ['서울특별시 송파구', '서울가주초등학교', '41', '920', '48'], ['서울특별시 강동구', '서울강동초등학교', '32', '671', '38'], ['서울특별시 강동구', '서울강일초등학교', '52', '1085', '63'], ['서울특별시 송파구', '서울거여초등학교', '32', '618', '38'], ['서울특별시 송파구', '서울거원초등학교', '35', '670', '42'], ['서울특별시 강동구', '서울고덕초등학교', '23', '213', '25'], ['서울특별시 강동구', '서울고명초등학교', '30', '552', '35'], ['서울특별시 강동구', '서울길동초등학교', '42', '911', '52'], ['서울특별시 송파구', '서울남천초등학교', '26', '518', '31'], ['서울특별시 강동구', '서울대명초등학교', '42', '960', '49'], ['서울특별시 송파구', '서울마천초등학교', '45', '995', '59'], ['서울특별시 강동구', '서울명덕초등학교', '54', '1764', '63'], ['서울특별시 강동구', '서울명원초등학교', '31', '859', '39'], ['서울특별시 강동구', '서울명일초등학교', '50', '1108', '59'], ['서울특별시 강동구', '서울묘곡초등학교', '62', '1583', '76'], ['서울특별시 송파구', '서울문덕초등학교', '30', '616', '34'], ['서울특별시 송파구', '서울문정초등학교', '43', '878', '49'], ['서울특별시 송파구', '서울방산초등학교', '31', '665', '37'], ['서울특별시 송파구', '서울방이초등학교', '31', '608', '36'], ['서울특별시 송파구', '서울삼전초등학교', '44', '904', '50'], ['서울특별시 강동구', '서울상일초등학교', '16', '279', '19'], ['서울특별시 송파구', '서울석촌초등학교', '40', '897', '49'], ['서울특별시 강동구', '서울선린초등학교', '25', '525', '29'], ['서울특별시 강동구', '서울선사초등학교', '41', '860', '48'], ['서울특별시 강동구', '서울성내초등학교', '46', '960', '51'], ['서울특별시 강동구', '서울성일초등학교', '55', '1282', '63'], ['서울특별시 송파구', '서울세륜초등학교', '30', '688', '36'], ['서울특별시 송파구', '서울송전초등학교', '32', '878', '38'], ['서울특별시 송파구', '서울송파초등학교', '33', '686', '41'], ['서울특별시 송파구', '서울신가초등학교', '34', '719', '38'], ['서울특별시 강동구', '서울신명초등학교', '27', '534', '32'], ['서울특별시 강동구', '서울신암초등학교', '36', '781', '41'], ['서울특별시 송파구', '서울신천초등학교', '27', '457', '33'], ['서울특별시 송파구', '서울아주초등학교', '26', '519', '31'], ['서울특별시 송파구', '서울영풍초등학교', '32', '599', '40'], ['서울특별시 송파구', '서울오금초등학교', '26', '591', '30'], ['서울특별시 송파구', '서울오륜초등학교', '27', '674', '34'], ['서울특별시 송파구', '서울잠동초등학교', '32', '756', '39'], ['서울특별시 송파구', '서울잠신초등학교', '52', '1681', '60'], ['서울특별시 송파구', '서울잠실초등학교', '42', '1227', '50'], ['서울특별시 송파구', '서울잠일초등학교', '58', '1912', '69'], ['서울특별시 송파구', '서울잠전초등학교', '30', '685', '35'], ['서울특별시 송파구', '서울중대초등학교', '44', '1025', '52'], ['서울특별시 강동구', '서울천동초등학교', '40', '879', '46'], ['서울특별시 강동구', '서울천일초등학교', '20', '362', '23'], ['서울특별시 강동구', '서울천호초등학교', '39', '743', '46'], ['서울특별시 송파구', '서울토성초등학교', '39', '869', '46'], ['서울특별시 송파구', '서울평화초등학교', '16', '224', '20'], ['서울특별시 송파구', '서울풍납초등학교', '30', '531', '35'], ['서울특별시 송파구', '서울풍성초등학교', '19', '242', '22'], ['서울특별시 강동구', '서울한산초등학교', '38', '852', '45'], ['서울특별시 강서구', '서울가곡초등학교', '30', '879', '36'], ['서울특별시 강서구', '서울가양초등학교', '19', '235', '23'], ['서울특별시 양천구', '서울갈산초등학교', '40', '1041', '48'], ['서울특별시 양천구', '서울강서초등학교', '50', '1243', '59'], ['서울특별시 양천구', '서울강신초등학교', '39', '932', '47'], ['서울특별시 양천구', '서울강월초등학교', '36', '781', '45'], ['서울특별시 강서구', '서울개화초등학교', '12', '140', '15'], ['서울특별시 양천구', '서울경인초등학교', '36', '1177', '44'], ['서울특별시 양천구', '서울계남초등학교', '38', '869', '46'], ['서울특별시 강서구', '서울공진초등학교', '54', '1450', '63'], ['서울특별시 강서구', '서울공항초등학교', '57', '1451', '68'], ['서울특별시 양천구', '서울남명초등학교', '15', '236', '20'], ['서울특별시 강서구', '서울내발산초등학교', '51', '1587', '62'], ['서울특별시 강서구', '서울등명초등학교', '10', '104', '14'], ['서울특별시 강서구', '서울등서초등학교', '21', '334', '26'], ['서울특별시 강서구', '서울등양초등학교', '13', '176', '16'], ['서울특별시 강서구', '서울등원초등학교', '13', '171', '18'], ['서울특별시 강서구', '서울등촌초등학교', '27', '547', '34'], ['서울특별시 강서구', '서울등현초등학교', '30', '681', '34'], ['서울특별시 양천구', '서울목동초등학교', '51', '1378', '61'], ['서울특별시 양천구', '서울목원초등학교', '24', '543', '31'], ['서울특별시 강서구', '서울발산초등학교', '49', '1235', '57'], ['서울특별시 강서구', '서울방화초등학교', '29', '622', '33'], ['서울특별시 강서구', '서울백석초등학교', '29', '534', '34'], ['서울특별시 강서구', '서울삼정초등학교', '15', '252', '20'], ['서울특별시 양천구', '서울서정초등학교', '32', '766', '39'], ['서울특별시 강서구', '서울송정초등학교', '36', '723', '43'], ['서울특별시 강서구', '서울송화초등학교', '53', '1319', '62'], ['서울특별시 양천구', '서울신강초등학교', '27', '537', '33'], ['서울특별시 강서구', '서울신곡초등학교', '38', '790', '47'], ['서울특별시 양천구', '서울신남초등학교', '18', '276', '24'], ['서울특별시 양천구', '서울신목초등학교', '40', '1029', '45'], ['서울특별시 양천구', '서울신서초등학교', '43', '1149', '53'], ['서울특별시 양천구', '서울신원초등학교', '24', '480', '28'], ['서울특별시 강서구', '서울신월초등학교', '33', '694', '38'], ['서울특별시 강서구', '서울신정초등학교', '75', '1773', '91'], ['서울특별시 양천구', '서울양강초등학교', '30', '657', '36'], ['서울특별시 양천구', '서울양동초등학교', '23', '439', '29'], ['서울특별시 양천구', '서울양명초등학교', '23', '522', '27'], ['서울특별시 양천구', '서울양목초등학교', '40', '855', '49'], ['서울특별시 양천구', '서울양원초등학교', '18', '294', '22'], ['서울특별시 강서구', '서울양천초등학교', '24', '493', '28'], ['서울특별시 양천구', '서울양화초등학교', '37', '734', '46'], ['서울특별시 강서구', '서울염강초등학교', '12', '157', '15'], ['서울특별시 강서구', '서울염동초등학교', '39', '1039', '47'], ['서울특별시 강서구', '서울염창초등학교', '40', '884', '45'], ['서울특별시 양천구', '서울영도초등학교', '46', '1205', '54'], ['서울특별시 강서구', '서울우장초등학교', '39', '958', '45'], ['서울특별시 강서구', '서울월정초등학교', '48', '1109', '58'], ['서울특별시 양천구', '서울월촌초등학교', '44', '1192', '52'], ['서울특별시 양천구', '서울은정초등학교', '19', '324', '24'], ['서울특별시 강서구', '서울정곡초등학교', '18', '260', '24'], ['서울특별시 양천구', '서울정목초등학교', '50', '1184', '60'], ['서울특별시 양천구', '서울지향초등학교', '34', '737', '39'], ['서울특별시 강서구', '서울치현초등학교', '36', '744', '42'], ['서울특별시 강서구', '서울탑산초등학교', '32', '533', '40'], ['서울특별시 강서구', '서울화곡초등학교', '44', '1043', '55'], ['서울특별시 강서구', '유석초등학교', '11', '300', '11'], ['서울특별시 금천구', '동광초등학교', '18', '384', '35'], ['서울특별시 금천구', '서울가산초등학교', '19', '333', '25'], ['서울특별시 구로구', '서울개명초등학교', '24', '458', '29'], ['서울특별시 구로구', '서울개봉초등학교', '53', '1247', '65'], ['서울특별시 구로구', '서울개웅초등학교', '30', '612', '38'], ['서울특별시 구로구', '서울고산초등학교', '23', '500', '27'], ['서울특별시 구로구', '서울고척초등학교', '22', '436', '26'], ['서울특별시 구로구', '서울구로남초등학교', '33', '567', '40'], ['서울특별시 구로구', '서울구로초등학교', '32', '567', '39'], ['서울특별시 구로구', '서울구일초등학교', '54', '1282', '64'], ['서울특별시 금천구', '서울금산초등학교', '17', '342', '21'], ['서울특별시 금천구', '서울금천초등학교', '13', '177', '16'], ['서울특별시 영등포구', '서울당산초등학교', '23', '412', '28'], ['서울특별시 영등포구', '서울당서초등학교', '49', '1247', '60'], ['서울특별시 영등포구', '서울당중초등학교', '27', '572', '30'], ['서울특별시 영등포구', '서울대길초등학교', '30', '601', '34'], ['서울특별시 영등포구', '서울대동초등학교', '29', '445', '33'], ['서울특별시 영등포구', '서울대방초등학교', '26', '516', '30'], ['서울특별시 영등포구', '서울대영초등학교', '34', '656', '41'], ['서울특별시 구로구', '서울덕의초등학교', '40', '1172', '47'], ['서울특별시 영등포구', '서울도림초등학교', '27', '536', '31'], ['서울특별시 영등포구', '서울도신초등학교', '25', '413', '30'], ['서울특별시 금천구', '서울독산초등학교', '35', '665', '42'], ['서울특별시 구로구', '서울동구로초등학교', '27', '439', '36'], ['서울특별시 금천구', '서울두산초등학교', '29', '558', '33'], ['서울특별시 구로구', '서울매봉초등학교', '18', '326', '21'], ['서울특별시 금천구', '서울문교초등학교', '18', '309', '22'], ['서울특별시 영등포구', '서울문래초등학교', '43', '1243', '50'], ['서울특별시 금천구', '서울문백초등학교', '36', '730', '42'], ['서울특별시 금천구', '서울문성초등학교', '26', '432', '31'], ['서울특별시 구로구', '서울미래초등학교', '27', '604', '32'], ['서울특별시 금천구', '서울백산초등학교', '19', '342', '26'], ['서울특별시 구로구', '서울세곡초등학교', '30', '623', '36'], ['서울특별시 금천구', '서울시흥초등학교', '32', '628', '38'], ['서울특별시 구로구', '서울신구로초등학교', '27', '496', '31'], ['서울특별시 영등포구', '서울신대림초등학교', '18', '283', '22'], ['서울특별시 구로구', '서울신도림초등학교', '45', '1262', '56'], ['서울특별시 구로구', '서울신미림초등학교', '38', '966', '46'], ['서울특별시 영등포구', '서울신영초등학교', '32', '591', '38'], ['서울특별시 금천구', '서울신흥초등학교', '32', '687', '38'], ['서울특별시 금천구', '서울안천초등학교', '17', '286', '22'], ['서울특별시 영등포구', '서울여의도초등학교', '43', '1074', '51'], ['서울특별시 금천구', '서울영남초등학교', '19', '346', '24'], ['서울특별시 영등포구', '서울영동초등학교', '22', '430', '26'], ['서울특별시 영등포구', '서울영등포초등학교', '19', '301', '22'], ['서울특별시 영등포구', '서울영림초등학교', '14', '226', '18'], ['서울특별시 구로구', '서울영서초등학교', '38', '898', '44'], ['서울특별시 영등포구', '서울영신초등학교', '45', '999', '51'], ['서울특별시 영등포구', '서울영원초등학교', '31', '626', '37'], ['서울특별시 구로구', '서울영일초등학교', '23', '353', '28'], ['서울특별시 영등포구', '서울영중초등학교', '24', '446', '26'], ['서울특별시 구로구', '서울오류남초등학교', '38', '814', '47'], ['서울특별시 구로구', '서울오류초등학교', '35', '772', '40'], ['서울특별시 구로구', '서울오정초등학교', '22', '446', '28'], ['서울특별시 구로구', '서울온수초등학교', '44', '1030', '55'], ['서울특별시 영등포구', '서울우신초등학교', '21', '358', '26'], ['서울특별시 영등포구', '서울윤중초등학교', '21', '492', '27'], ['서울특별시 금천구', '서울정심초등학교', '22', '364', '28'], ['서울특별시 금천구', '서울탑동초등학교', '27', '539', '32'], ['서울특별시 동대문구', '경희초등학교', '24', '586', '24'], ['서울특별시 중랑구', '금성초등학교', '22', '598', '29'], ['서울특별시 동대문구', '서울삼육초등학교', '23', '664', '23'], ['서울특별시 동대문구', '서울군자초등학교', '18', '311', '22'], ['서울특별시 동대문구', '서울답십리초등학교', '46', '981', '56'], ['서울특별시 동대문구', '서울동답초등학교', '23', '508', '30'], ['서울특별시 중랑구', '서울동원초등학교', '21', '415', '25'], ['서울특별시 중랑구', '서울망우초등학교', '24', '423', '30'], ['서울특별시 중랑구', '서울면남초등학교', '20', '378', '22'], ['서울특별시 중랑구', '서울면동초등학교', '46', '975', '59'], ['서울특별시 중랑구', '서울면목초등학교', '38', '780', '45'], ['서울특별시 중랑구', '서울면북초등학교', '12', '167', '17'], ['서울특별시 중랑구', '서울면일초등학교', '36', '778', '45'], ['서울특별시 중랑구', '서울면중초등학교', '19', '266', '24'], ['서울특별시 중랑구', '서울묵동초등학교', '24', '485', '29'], ['서울특별시 동대문구', '서울배봉초등학교', '25', '506', '30'], ['서울특별시 중랑구', '서울봉화초등학교', '30', '632', '38'], ['서울특별시 중랑구', '서울상봉초등학교', '32', '663', '38'], ['서울특별시 중랑구', '서울신내초등학교', '38', '956', '46'], ['서울특별시 동대문구', '서울신답초등학교', '25', '477', '31'], ['서울특별시 중랑구', '서울신묵초등학교', '23', '447', '28'], ['서울특별시 중랑구', '서울신현초등학교', '26', '530', '33'], ['서울특별시 동대문구', '서울안평초등학교', '44', '1098', '52'], ['서울특별시 동대문구', '서울용두초등학교', '22', '431', '29'], ['서울특별시 중랑구', '서울원묵초등학교', '45', '1135', '53'], ['서울특별시 동대문구', '서울이문초등학교', '42', '922', '49'], ['서울특별시 동대문구', '서울장평초등학교', '41', '1111', '51'], ['서울특별시 동대문구', '서울전곡초등학교', '23', '466', '27'], ['서울특별시 동대문구', '서울전농초등학교', '39', '901', '46'], ['서울특별시 동대문구', '서울전동초등학교', '36', '820', '42'], ['서울특별시 동대문구', '서울종암초등학교', '28', '573', '35'], ['서울특별시 중랑구', '서울중곡초등학교', '46', '982', '58'], ['서울특별시 중랑구', '서울중랑초등학교', '36', '763', '44'], ['서울특별시 중랑구', '서울중목초등학교', '21', '406', '26'], ['서울특별시 중랑구', '서울중화초등학교', '54', '1487', '65'], ['서울특별시 중랑구', '서울중흥초등학교', '14', '245', '17'], ['서울특별시 동대문구', '서울청량초등학교', '40', '800', '48'], ['서울특별시 동대문구', '서울홍릉초등학교', '22', '446', '27'], ['서울특별시 동대문구', '서울홍파초등학교', '18', '298', '23'], ['서울특별시 동대문구', '서울휘경초등학교', '20', '361', '24'], ['서울특별시 동대문구', '은석초등학교', '23', '658', '63'], ['서울특별시 동작구', '서울강남초등학교', '40', '887', '48'], ['서울특별시 관악구', '서울관악초등학교', '29', '505', '35'], ['서울특별시 관악구', '서울구암초등학교', '59', '1723', '74'], ['서울특별시 관악구', '서울난곡초등학교', '24', '428', '30'], ['서울특별시 관악구', '서울난우초등학교', '40', '900', '49'], ['서울특별시 관악구', '서울난향초등학교', '41', '913', '48'], ['서울특별시 관악구', '서울남부초등학교', '27', '528', '34'], ['서울특별시 동작구', '서울남사초등학교', '27', '587', '34'], ['서울특별시 동작구', '서울남성초등학교', '30', '675', '36'], ['서울특별시 동작구', '서울노량진초등학교', '19', '310', '24'], ['서울특별시 관악구', '서울당곡초등학교', '36', '731', '44'], ['서울특별시 동작구', '서울대림초등학교', '47', '1169', '54'], ['서울특별시 동작구', '서울동작초등학교', '20', '430', '25'], ['서울특별시 동작구', '서울문창초등학교', '29', '541', '35'], ['서울특별시 관악구', '서울미성초등학교', '38', '835', '44'], ['서울특별시 동작구', '서울본동초등학교', '10', '102', '14'], ['서울특별시 관악구', '서울봉천초등학교', '37', '840', '47'], ['서울특별시 관악구', '서울사당초등학교', '33', '669', '42'], ['서울특별시 관악구', '서울삼성초등학교', '21', '424', '30'], ['서울특별시 동작구', '서울상도초등학교', '45', '1019', '57'], ['서울특별시 동작구', '서울신길초등학교', '47', '1268', '58'], ['서울특별시 동작구', '서울신남성초등학교', '25', '536', '29'], ['서울특별시 관악구', '서울신림초등학교', '32', '677', '42'], ['서울특별시 관악구', '서울신봉초등학교', '20', '331', '24'], ['서울특별시 동작구', '서울신상도초등학교', '53', '1403', '65'], ['서울특별시 관악구', '서울신성초등학교', '31', '645', '35'], ['서울특별시 관악구', '서울신우초등학교', '20', '398', '26'], ['서울특별시 동작구', '서울영본초등학교', '38', '987', '46'], ['서울특별시 동작구', '서울영화초등학교', '24', '487', '30'], ['서울특별시 관악구', '서울원당초등학교', '15', '243', '22'], ['서울특별시 관악구', '서울원신초등학교', '15', '253', '22'], ['서울특별시 동작구', '서울은로초등학교', '30', '637', '33'], ['서울특별시 관악구', '서울은천초등학교', '51', '1137', '63'], ['서울특별시 관악구', '서울인헌초등학교', '51', '1127', '62'], ['서울특별시 관악구', '서울청룡초등학교', '22', '472', '27'], ['서울특별시 동작구', '서울행림초등학교', '16', '280', '20'], ['서울특별시 동작구', '서울흑석초등학교', '30', '595', '36'], ['서울특별시 동작구', '중앙대학교사범대학부속초등학교', '30', '722', '31'], ['서울특별시 도봉구', '동북초등학교', '24', '694', '44'], ['서울특별시 노원구', '상명초등학교', '24', '656', '24'], ['서울특별시 노원구', '서울계상초등학교', '32', '622', '39'], ['서울특별시 노원구', '서울공릉초등학교', '18', '369', '22'], ['서울특별시 노원구', '서울공연초등학교', '27', '574', '29'], ['서울특별시 노원구', '서울노원초등학교', '18', '327', '22'], ['서울특별시 노원구', '서울노일초등학교', '23', '529', '27'], ['서울특별시 노원구', '서울녹천초등학교', '19', '369', '24'], ['서울특별시 도봉구', '서울누원초등학교', '43', '1019', '50'], ['서울특별시 노원구', '서울당현초등학교', '33', '653', '38'], ['서울특별시 도봉구', '서울도봉초등학교', '25', '496', '31'], ['서울특별시 노원구', '서울동일초등학교', '30', '724', '36'], ['서울특별시 도봉구', '서울방학초등학교', '31', '677', '37'], ['서울특별시 도봉구', '서울백운초등학교', '43', '916', '53'], ['서울특별시 노원구', '서울불암초등학교', '43', '1020', '50'], ['서울특별시 노원구', '서울상경초등학교', '35', '765', '42'], ['서울특별시 노원구', '서울상계초등학교', '20', '322', '24'], ['서울특별시 노원구', '서울상곡초등학교', '23', '455', '27'], ['서울특별시 노원구', '서울상수초등학교', '39', '863', '48'], ['서울특별시 노원구', '서울상원초등학교', '28', '566', '35'], ['서울특별시 노원구', '서울상월초등학교', '15', '203', '19'], ['서울특별시 노원구', '서울상천초등학교', '19', '370', '24'], ['서울특별시 노원구', '서울선곡초등학교', '39', '804', '47'], ['서울특별시 노원구', '서울수락초등학교', '31', '638', '35'], ['서울특별시 노원구', '서울수암초등학교', '27', '617', '32'], ['서울특별시 도봉구', '서울숭미초등학교', '38', '812', '46'], ['서울특별시 노원구', '서울신계초등학교', '21', '392', '26'], ['서울특별시 도봉구', '서울신방학초등학교', '20', '417', '25'], ['서울특별시 노원구', '서울신상계초등학교', '22', '385', '27'], ['서울특별시 도봉구', '서울신창초등학교', '18', '338', '22'], ['서울특별시 도봉구', '서울신학초등학교', '25', '481', '29'], ['서울특별시 도봉구', '서울신화초등학교', '25', '484', '28'], ['서울특별시 도봉구', '서울쌍문초등학교', '33', '690', '41'], ['서울특별시 노원구', '서울연지초등학교', '18', '264', '22'], ['서울특별시 노원구', '서울연촌초등학교', '32', '679', '37'], ['서울특별시 도봉구', '서울오봉초등학교', '20', '384', '27'], ['서울특별시 노원구', '서울온곡초등학교', '31', '707', '38'], ['서울특별시 노원구', '서울용동초등학교', '21', '409', '27'], ['서울특별시 노원구', '서울용원초등학교', '34', '743', '43'], ['서울특별시 노원구', '서울원광초등학교', '31', '769', '38'], ['서울특별시 노원구', '서울월계초등학교', '17', '295', '20'], ['서울특별시 도봉구', '서울월천초등학교', '24', '443', '28'], ['서울특별시 노원구', '서울을지초등학교', '57', '1688', '71'], ['서울특별시 도봉구', '서울자운초등학교', '39', '886', '47'], ['서울특별시 노원구', '서울중계초등학교', '38', '950', '44'], ['서울특별시 노원구', '서울중원초등학교', '26', '553', '32'], ['서울특별시 노원구', '서울중평초등학교', '60', '1609', '72'], ['서울특별시 노원구', '서울중현초등학교', '16', '228', '21'], ['서울특별시 도봉구', '서울창경초등학교', '43', '991', '50'], ['서울특별시 도봉구', '서울창도초등학교', '40', '940', '48'], ['서울특별시 도봉구', '서울창동초등학교', '20', '425', '24'], ['서울특별시 도봉구', '서울창림초등학교', '45', '1061', '55'], ['서울특별시 도봉구', '서울창원초등학교', '21', '400', '24'], ['서울특별시 도봉구', '서울창일초등학교', '40', '975', '47'], ['서울특별시 노원구', '서울청계초등학교', '21', '390', '25'], ['서울특별시 도봉구', '서울초당초등학교', '43', '1000', '51'], ['서울특별시 노원구', '서울태랑초등학교', '39', '984', '47'], ['서울특별시 노원구', '서울태릉초등학교', '43', '880', '50'], ['서울특별시 노원구', '서울한천초등학교', '43', '915', '51'], ['서울특별시 노원구', '청원초등학교', '24', '665', '38'], ['서울특별시 노원구', '태강삼육초등학교', '24', '764', '24'], ['서울특별시 도봉구', '한신초등학교', '22', '529', '22'], ['서울특별시 노원구', '화랑초등학교', '24', '685', '23'], ['서울특별시 서대문구', '경기초등학교', '24', '569', '24'], ['서울특별시 서대문구', '명지초등학교', '29', '678', '31'], ['서울특별시 은평구', '서울갈현초등학교', '55', '1331', '66'], ['서울특별시 서대문구', '서울고은초등학교', '27', '547', '32'], ['서울특별시 마포구', '서울공덕초등학교', '31', '702', '36'], ['서울특별시 은평구', '서울구산초등학교', '45', '1071', '54'], ['서울특별시 서대문구', '서울금화초등학교', '30', '600', '36'], ['서울특별시 은평구', '서울녹번초등학교', '39', '888', '47'], ['서울특별시 서대문구', '서울대신초등학교', '13', '192', '15'], ['서울특별시 은평구', '서울대은초등학교', '18', '341', '25'], ['서울특별시 은평구', '서울대조초등학교', '42', '981', '50'], ['서울특별시 마포구', '서울동교초등학교', '42', '1009', '51'], ['서울특별시 마포구', '서울마포초등학교', '36', '830', '41'], ['서울특별시 마포구', '서울망원초등학교', '17', '324', '22'], ['서울특별시 서대문구', '서울미동초등학교', '21', '437', '28'], ['서울특별시 서대문구', '서울북가좌초등학교', '54', '1305', '68'], ['서울특별시 서대문구', '서울북성초등학교', '33', '679', '39'], ['서울특별시 은평구', '서울북한산초등학교', '9', '139', '12'], ['서울특별시 은평구', '서울불광초등학교', '38', '844', '46'], ['서울특별시 은평구', '서울상신초등학교', '30', '655', '36'], ['서울특별시 마포구', '서울상암초등학교', '30', '667', '38'], ['서울특별시 마포구', '서울서강초등학교', '43', '1012', '51'], ['서울특별시 마포구', '서울서교초등학교', '28', '641', '35'], ['서울특별시 마포구', '서울성산초등학교', '36', '803', '45'], ['서울특별시 마포구', '서울성서초등학교', '31', '688', '42'], ['서울특별시 마포구', '서울성원초등학교', '24', '540', '31'], ['서울특별시 마포구', '서울소의초등학교', '23', '491', '28'], ['서울특별시 은평구', '서울수색초등학교', '14', '193', '18'], ['서울특별시 은평구', '서울신도초등학교', '47', '1382', '57'], ['서울특별시 마포구', '서울신북초등학교', '40', '940', '48'], ['서울특별시 은평구', '서울신사초등학교', '22', '465', '27'], ['서울특별시 마포구', '서울신석초등학교', '38', '822', '46'], ['서울특별시 마포구', '서울아현초등학교', '26', '539', '30'], ['서울특별시 서대문구', '서울안산초등학교', '32', '719', '40'], ['서울특별시 은평구', '서울역촌초등학교', '69', '1795', '83'], ['서울특별시 서대문구', '서울연가초등학교', '52', '1252', '69'], ['서울특별시 은평구', '서울연신초등학교', '17', '324', '20'], ['서울특별시 은평구', '서울연은초등학교', '30', '708', '38'], ['서울특별시 은평구', '서울연천초등학교', '17', '334', '20'], ['서울특별시 서대문구', '서울연희초등학교', '36', '846', '46'], ['서울특별시 마포구', '서울염리초등학교', '52', '1413', '62'], ['서울특별시 마포구', '서울용강초등학교', '24', '475', '28'], ['서울특별시 은평구', '서울은평초등학교', '27', '565', '33'], ['서울특별시 은평구', '서울응암초등학교', '36', '783', '42'], ['서울특별시 서대문구', '서울인왕초등학교', '22', '475', '27'], ['서울특별시 마포구', '서울중동초등학교', '27', '577', '33'], ['서울특별시 은평구', '서울증산초등학교', '31', '676', '37'], ['서울특별시 서대문구', '서울창서초등학교', '14', '182', '16'], ['서울특별시 마포구', '서울창천초등학교', '9', '129', '12'], ['서울특별시 마포구', '서울한서초등학교', '18', '346', '22'], ['서울특별시 서대문구', '서울홍연초등학교', '37', '795', '44'], ['서울특별시 서대문구', '서울홍은초등학교', '19', '370', '24'], ['서울특별시 서대문구', '서울홍제초등학교', '38', '859', '44'], ['서울특별시 은평구', '선일초등학교', '18', '432', '18'], ['서울특별시 은평구', '예일초등학교', '23', '501', '34'], ['서울특별시 서대문구', '이화여자대학교사범대학부속초등학교', '24', '624', '41'], ['서울특별시 서대문구', '추계초등학교', '12', '317', '22'], ['서울특별시 은평구', '충암초등학교', '25', '603', '25'], ['서울특별시 마포구', '홍익대학교사범대학부속초등학교', '18', '454', '35'], ['서울특별시 광진구', '경복초등학교', '30', '818', '31'], ['서울특별시 성동구', '서울경동초등학교', '47', '1072', '57'], ['서울특별시 성동구', '서울경수초등학교', '18', '281', '23'], ['서울특별시 성동구', '서울경일초등학교', '20', '357', '27'], ['서울특별시 광진구', '서울광남초등학교', '50', '1520', '67'], ['서울특별시 광진구', '서울광장초등학교', '19', '330', '24'], ['서울특별시 광진구', '서울구남초등학교', '35', '841', '41'], ['서울특별시 광진구', '서울구의초등학교', '26', '543', '31'], ['서울특별시 성동구', '서울금북초등학교', '39', '827', '47'], ['서울특별시 성동구', '서울금옥초등학교', '20', '342', '25'], ['서울특별시 성동구', '서울금호초등학교', '32', '600', '39'], ['서울특별시 성동구', '서울동명초등학교', '19', '345', '24'], ['서울특별시 광진구', '서울동의초등학교', '38', '833', '47'], ['서울특별시 광진구', '서울동자초등학교', '53', '1267', '63'], ['서울특별시 성동구', '서울무학초등학교', '28', '501', '34'], ['서울특별시 성동구', '서울사근초등학교', '13', '199', '16'], ['서울특별시 성동구', '서울성수초등학교', '18', '310', '22'], ['서울특별시 광진구', '서울성자초등학교', '29', '658', '36'], ['서울특별시 광진구', '서울신양초등학교', '30', '578', '37'], ['서울특별시 광진구', '서울신자초등학교', '22', '376', '27'], ['서울특별시 광진구', '서울양남초등학교', '13', '166', '18'], ['서울특별시 성동구', '서울옥수초등학교', '29', '540', '37'], ['서울특별시 성동구', '서울옥정초등학교', '37', '852', '43'], ['서울특별시 광진구', '서울용곡초등학교', '27', '524', '32'], ['서울특별시 성동구', '서울용답초등학교', '18', '310', '24'], ['서울특별시 광진구', '서울용마초등학교', '54', '1277', '69'], ['서울특별시 성동구', '서울응봉초등학교', '38', '944', '46'], ['서울특별시 광진구', '서울자양초등학교', '24', '473', '30'], ['서울특별시 광진구', '서울장안초등학교', '28', '574', '36'], ['서울특별시 광진구', '서울중광초등학교', '14', '266', '18'], ['서울특별시 광진구', '서울중마초등학교', '26', '551', '33'], ['서울특별시 성동구', '서울행당초등학교', '36', '724', '44'], ['서울특별시 광진구', '서울화양초등학교', '10', '143', '13'], ['서울특별시 광진구', '성동초등학교', '24', '654', '24'], ['서울특별시 광진구', '세종초등학교', '12', '359', '15'], ['서울특별시 성동구', '한양초등학교', '24', '611', '25'], ['서울특별시 성북구', '광운초등학교', '21', '587', '22'], ['서울특별시 성북구', '대광초등학교', '18', '473', '21'], ['서울특별시 성북구', '매원초등학교', '18', '480', '35'], ['서울특별시 성북구', '서울개운초등학교', '39', '890', '47'], ['서울특별시 성북구', '서울길음초등학교', '49', '1391', '59'], ['서울특별시 성북구', '서울돈암초등학교', '50', '1133', '60'], ['서울특별시 성북구', '서울동신초등학교', '21', '425', '25'], ['서울특별시 성북구', '서울미아초등학교', '49', '1249', '58'], ['서울특별시 강북구', '서울미양초등학교', '28', '557', '31'], ['서울특별시 강북구', '서울번동초등학교', '34', '747', '42'], ['서울특별시 강북구', '서울삼각산초등학교', '46', '1226', '56'], ['서울특별시 성북구', '서울삼선초등학교', '35', '777', '44'], ['서울특별시 강북구', '서울삼양초등학교', '29', '579', '36'], ['서울특별시 성북구', '서울석관초등학교', '31', '684', '40'], ['서울특별시 성북구', '서울성북초등학교', '16', '303', '20'], ['서울특별시 강북구', '서울송중초등학교', '33', '698', '39'], ['서울특별시 강북구', '서울송천초등학교', '25', '545', '30'], ['서울특별시 강북구', '서울수송초등학교', '38', '823', '45'], ['서울특별시 강북구', '서울수유초등학교', '36', '770', '43'], ['서울특별시 성북구', '서울숭곡초등학교', '24', '466', '30'], ['서울특별시 성북구', '서울숭덕초등학교', '54', '1298', '65'], ['서울특별시 성북구', '서울숭례초등학교', '36', '805', '44'], ['서울특별시 성북구', '서울숭인초등학교', '53', '1396', '64'], ['서울특별시 성북구', '서울안암초등학교', '17', '268', '21'], ['서울특별시 강북구', '서울오현초등학교', '22', '414', '27'], ['서울특별시 강북구', '서울우이초등학교', '52', '1227', '67'], ['서울특별시 성북구', '서울월곡초등학교', '25', '456', '29'], ['서울특별시 강북구', '서울유현초등학교', '20', '422', '24'], ['서울특별시 강북구', '서울인수초등학교', '37', '834', '46'], ['서울특별시 성북구', '서울일신초등학교', '33', '831', '39'], ['서울특별시 성북구', '서울장곡초등학교', '22', '469', '27'], ['서울특별시 성북구', '서울장위초등학교', '33', '659', '39'], ['서울특별시 성북구', '서울정덕초등학교', '47', '1167', '57'], ['서울특별시 성북구', '서울정릉초등학교', '36', '827', '41'], ['서울특별시 성북구', '서울정수초등학교', '16', '291', '22'], ['서울특별시 성북구', '서울청덕초등학교', '21', '454', '26'], ['서울특별시 강북구', '서울화계초등학교', '37', '866', '43'], ['서울특별시 성북구', '성신초등학교', '18', '445', '26'], ['서울특별시 강북구', '영훈초등학교', '24', '684', '40'], ['서울특별시 성북구', '우촌초등학교', '21', '519', '21'], ['서울특별시 서초구', '계성초등학교', '24', '720', '35'], ['서울특별시 중구', '동산초등학교', '18', '531', '18'], ['서울특별시 중구', '리라초등학교', '20', '518', '20'], ['서울특별시 종로구', '상명대학교사범대학부속초등학교', '12', '293', '20'], ['서울특별시 중구', '서울광희초등학교', '19', '296', '25'], ['서울특별시 종로구', '서울교동초등학교', '11', '172', '14'], ['서울특별시 용산구', '서울금양초등학교', '36', '738', '42'], ['서울특별시 중구', '서울남산초등학교', '12', '177', '16'], ['서울특별시 용산구', '서울남정초등학교', '22', '422', '26'], ['서울특별시 중구', '서울덕수초등학교', '23', '490', '29'], ['서울특별시 종로구', '서울독립문초등학교', '27', '502', '34'], ['서울특별시 종로구', '서울매동초등학교', '16', '263', '20'], ['서울특별시 종로구', '서울명신초등학교', '20', '392', '24'], ['서울특별시 용산구', '서울보광초등학교', '24', '344', '28'], ['서울특별시 중구', '서울봉래초등학교', '21', '422', '24'], ['서울특별시 용산구', '서울삼광초등학교', '22', '461', '27'], ['서울특별시 용산구', '서울서빙고초등학교', '22', '473', '27'], ['서울특별시 종로구', '서울세검정초등학교', '37', '864', '49'], ['서울특별시 성동구', '서울숭신초등학교', '36', '775', '42'], ['서울특별시 용산구', '서울신용산초등학교', '62', '1668', '74'], ['서울특별시 용산구', '서울용산초등학교', '15', '307', '20'], ['서울특별시 용산구', '서울용암초등학교', '14', '160', '19'], ['서울특별시 용산구', '서울원효초등학교', '31', '668', '37'], ['서울특별시 용산구', '서울이태원초등학교', '18', '313', '22'], ['서울특별시 중구', '서울장충초등학교', '25', '483', '33'], ['서울특별시 종로구', '서울재동초등학교', '12', '210', '15'], ['서울특별시 종로구', '서울창신초등학교', '30', '541', '36'], ['서울특별시 중구', '서울청구초등학교', '36', '720', '42'], ['서울특별시 종로구', '서울청운초등학교', '27', '581', '36'], ['서울특별시 용산구', '서울청파초등학교', '24', '447', '29'], ['서울특별시 중구', '서울충무초등학교', '15', '247', '19'], ['서울특별시 용산구', '서울한강초등학교', '13', '198', '18'], ['서울특별시 용산구', '서울한남초등학교', '19', '307', '23'], ['서울특별시 종로구', '서울혜화초등학교', '30', '616', '34'], ['서울특별시 종로구', '서울효제초등학교', '15', '224', '20'], ['서울특별시 용산구', '서울후암초등학교', '24', '388', '29'], ['서울특별시 중구', '서울흥인초등학교', '21', '384', '26'], ['서울특별시 중구', '숭의초등학교', '18', '581', '18'], ['서울특별시 용산구', '신광초등학교', '12', '379', '23'], ['서울특별시 종로구', '운현초등학교', '6', '173', '14'], ['서울특별시 양천구', '서울신기초등학교', '24', '541', '30'], ['서울특별시 금천구', '서울금동초등학교', '37', '957', '50'], ['서울특별시 노원구', '서울덕암초등학교', '28', '594', '33'], ['서울특별시 관악구', '서울봉현초등학교', '43', '942', '52'], ['서울특별시 광진구', '서울광진초등학교', '31', '634', '36'], ['서울특별시 은평구', '서울연광초등학교', '17', '298', '23'], ['서울특별시 구로구', '서울고원초등학교', '32', '732', '37'], ['서울특별시 도봉구', '서울가인초등학교', '25', '503', '29'], ['서울특별시 중랑구', '서울묵현초등학교', '31', '629', '37'], ['서울특별시 광진구', '서울양진초등학교', '54', '1592', '67'], ['서울특별시 성동구', '서울마장초등학교', '28', '571', '37'], ['서울특별시 은평구', '서울서신초등학교', '29', '648', '35'], ['서울특별시 성북구', '서울석계초등학교', '29', '592', '36'], ['서울특별시 동작구', '서울보라매초등학교', '55', '1624', '65'], ['서울특별시 강서구', '서울염경초등학교', '38', '954', '44'], ['서울특별시 영등포구', '서울영문초등학교', '43', '1020', '52'], ['서울특별시 관악구', '서울조원초등학교', '26', '525', '32'], ['서울특별시 강서구', '서울화일초등학교', '38', '833', '45'], ['서울특별시 성동구', '서울행현초등학교', '36', '805', '42'], ['서울특별시 성북구', '서울길원초등학교', '49', '1281', '57'], ['서울특별시 양천구', '서울장수초등학교', '23', '483', '27'], ['서울특별시 성북구', '서울장월초등학교', '21', '435', '27'], ['서울특별시 동대문구', '서울휘봉초등학교', '37', '766', '44'], ['서울특별시 마포구', '서울상지초등학교', '34', '775', '43'], ['서울특별시 영등포구', '서울선유초등학교', '20', '404', '26'], ['서울특별시 중구', '서울신당초등학교', '18', '332', '24'], ['서울특별시 송파구', '서울버들초등학교', '32', '1025', '42'], ['서울특별시 송파구', '서울문현초등학교', '43', '906', '51'], ['서울특별시 동작구', '서울삼일초등학교', '37', '1041', '43'], ['서울특별시 서초구', '서울매헌초등학교', '30', '646', '37'], ['서울특별시 강서구', '서울수명초등학교', '49', '1253', '59'], ['서울특별시 은평구', '서울은명초등학교', '50', '1136', '63'], ['서울특별시 송파구', '서울개롱초등학교', '25', '474', '30'], ['서울특별시 송파구', '서울잠현초등학교', '31', '851', '37'], ['서울특별시 은평구', '서울진관초등학교', '39', '1029', '46'], ['서울특별시 양천구', '서울목운초등학교', '50', '1699', '61'], ['서울특별시 성동구', '서울송원초등학교', '15', '314', '20'], ['서울특별시 강동구', '서울강명초등학교', '53', '1341', '64'], ['서울특별시 강서구', '서울등마초등학교', '38', '877', '45'], ['서울특별시 양천구', '서울신은초등학교', '45', '1111', '55'], ['서울특별시 서초구', '서울우면초등학교', '45', '1377', '54'], ['서울특별시 성동구', '서울동호초등학교', '25', '509', '30'], ['서울특별시 구로구', '서울천왕초등학교', '57', '1303', '65'], ['서울특별시 마포구', '서울하늘초등학교', '44', '1095', '55'], ['서울특별시 은평구', '서울은빛초등학교', '51', '1216', '63'], ['서울특별시 은평구', '서울수리초등학교', '25', '510', '29'], ['서울특별시 동작구', '서울상현초등학교', '39', '957', '46'], ['서울특별시 은평구', '서울구현초등학교', '30', '664', '34'], ['서울특별시 은평구', '서울은진초등학교', '35', '796', '42'], ['서울특별시 서대문구', '서울가재울초등학교', '62', '1547', '76'], ['서울특별시 은평구', '서울어울초등학교', '16', '305', '19'], ['서울특별시 중랑구', '서울새솔초등학교', '46', '1036', '53'], ['서울특별시 강남구', '서울율현초등학교', '40', '978', '45'], ['서울특별시 서초구', '서울우솔초등학교', '38', '875', '43'], ['서울특별시 강남구', '서울자곡초등학교', '29', '698', '32'], ['서울특별시 강남구', '서울세명초등학교', '44', '1146', '50'], ['서울특별시 송파구', '서울송례초등학교', '55', '1205', '67'], ['서울특별시 송파구', '서울위례별초등학교', '68', '1657', '81'], ['서울특별시 강동구', '서울강솔초등학교', '26', '518', '33'], ['서울특별시 금천구', '서울금나래초등학교', '38', '801', '44'], ['서울특별시 구로구', '서울하늘숲초등학교', '29', '608', '34'], ['서울특별시 구로구', '서울항동초등학교', '17', '161', '21'], ['서울특별시 송파구', '서울해누리초등학교', '26', '449', '30'], ['부산광역시 연제구', '부산교육대학교부설초등학교', '25', '656', '29'], ['부산광역시 중구', '광일초등학교', '22', '444', '26'], ['부산광역시 중구', '남성초등학교', '15', '396', '15'], ['부산광역시 남구', '대남초등학교', '21', '450', '22'], ['부산광역시 남구', '대연초등학교', '48', '1198', '55'], ['부산광역시 남구', '대천초등학교', '34', '705', '38'], ['부산광역시 동구', '동일중앙초등학교', '32', '721', '37'], ['부산광역시 남구', '동천초등학교', '21', '455', '25'], ['부산광역시 남구', '동항초등학교', '21', '430', '24'], ['부산광역시 남구', '문현초등학교', '31', '695', '36'], ['부산광역시 남구', '백운초등학교', '17', '318', '20'], ['부산광역시 동구', '범일초등학교', '15', '292', '17'], ['부산광역시 중구', '보수초등학교', '13', '211', '14'], ['부산광역시 중구', '봉래초등학교', '13', '264', '14'], ['부산광역시 남구', '분포초등학교', '40', '1021', '49'], ['부산광역시 금정구', '부산삼육초등학교', '8', '180', '8'], ['부산광역시 남구', '석포초등학교', '21', '474', '23'], ['부산광역시 동구', '성남초등학교', '20', '437', '23'], ['부산광역시 남구', '성동초등학교', '40', '924', '51'], ['부산광역시 남구', '성천초등학교', '7', '102', '9'], ['부산광역시 동구', '수성초등학교', '13', '234', '16'], ['부산광역시 동구', '수정초등학교', '20', '401', '23'], ['부산광역시 남구', '신연초등학교', '7', '86', '9'], ['부산광역시 남구', '연포초등학교', '36', '939', '41'], ['부산광역시 남구', '용당초등학교', '11', '160', '14'], ['부산광역시 남구', '용산초등학교', '22', '431', '25'], ['부산광역시 남구', '용호초등학교', '29', '656', '34'], ['부산광역시 남구', '우암초등학교', '19', '353', '23'], ['부산광역시 남구', '운산초등학교', '21', '456', '23'], ['부산광역시 동구', '좌성초등학교', '7', '69', '9'], ['부산광역시 동구', '초량초등학교', '17', '327', '20'], ['부산광역시 금정구', '공덕초등학교', '7', '34', '9'], ['부산광역시 동래구', '교동초등학교', '34', '806', '40'], ['부산광역시 금정구', '구서초등학교', '28', '651', '32'], ['부산광역시 동래구', '금강초등학교', '34', '705', '39'], ['부산광역시 금정구', '금사초등학교', '17', '299', '21'], ['부산광역시 금정구', '금성초등학교', '7', '98', '9'], ['부산광역시 금정구', '금양초등학교', '36', '868', '43'], ['부산광역시 금정구', '금정초등학교', '35', '861', '40'], ['부산광역시 동래구', '낙민초등학교', '21', '394', '23'], ['부산광역시 금정구', '남산초등학교', '25', '583', '29'], ['부산광역시 동래구', '내산초등학교', '19', '345', '21'], ['부산광역시 동래구', '내성초등학교', '14', '238', '17'], ['부산광역시 동래구', '달북초등학교', '23', '518', '25'], ['부산광역시 금정구', '동래초등학교', '21', '609', '22'], ['부산광역시 금정구', '동상초등학교', '10', '157', '11'], ['부산광역시 금정구', '동현초등학교', '20', '472', '23'], ['부산광역시 동래구', '명동초등학교', '8', '116', '10'], ['부산광역시 동래구', '명륜초등학교', '44', '1340', '52'], ['부산광역시 동래구', '명서초등학교', '13', '218', '14'], ['부산광역시 동래구', '명장초등학교', '18', '390', '22'], ['부산광역시 동래구', '미남초등학교', '19', '406', '22'], ['부산광역시 금정구', '부곡초등학교', '23', '506', '27'], ['부산광역시 동래구', '사직초등학교', '43', '1234', '52'], ['부산광역시 금정구', '서곡초등학교', '7', '118', '9'], ['부산광역시 금정구', '서동초등학교', '8', '149', '11'], ['부산광역시 금정구', '서명초등학교', '8', '91', '11'], ['부산광역시 동래구', '수안초등학교', '16', '358', '18'], ['부산광역시 동래구', '안남초등학교', '42', '1049', '49'], ['부산광역시 동래구', '안락초등학교', '19', '375', '24'], ['부산광역시 동래구', '안민초등학교', '36', '884', '42'], ['부산광역시 동래구', '여고초등학교', '23', '521', '27'], ['부산광역시 동래구', '온천초등학교', '33', '803', '38'], ['부산광역시 금정구', '장서초등학교', '29', '687', '33'], ['부산광역시 금정구', '장전초등학교', '30', '687', '37'], ['부산광역시 금정구', '청룡초등학교', '25', '513', '29'], ['부산광역시 금정구', '현곡초등학교', '10', '159', '12'], ['부산광역시 동래구', '혜화초등학교', '12', '302', '12'], ['부산광역시 부산진구', '가남초등학교', '7', '86', '9'], ['부산광역시 부산진구', '가산초등학교', '7', '56', '9'], ['부산광역시 부산진구', '가야초등학교', '48', '1144', '57'], ['부산광역시 부산진구', '가평초등학교', '28', '655', '32'], ['부산광역시 부산진구', '개금초등학교', '24', '520', '27'], ['부산광역시 부산진구', '개림초등학교', '34', '817', '39'], ['부산광역시 부산진구', '개원초등학교', '30', '695', '35'], ['부산광역시 부산진구', '개포초등학교', '17', '341', '20'], ['부산광역시 부산진구', '개화초등학교', '15', '271', '17'], ['부산광역시 연제구', '거제초등학교', '24', '565', '27'], ['부산광역시 연제구', '거학초등학교', '27', '629', '32'], ['부산광역시 연제구', '과정초등학교', '21', '458', '25'], ['부산광역시 연제구', '남문초등학교', '41', '1202', '49'], ['부산광역시 부산진구', '당감초등학교', '20', '401', '24'], ['부산광역시 부산진구', '당평초등학교', '20', '441', '24'], ['부산광역시 연제구', '동명초등학교', '14', '214', '15'], ['부산광역시 부산진구', '동성초등학교', '24', '737', '23'], ['부산광역시 부산진구', '동원초등학교', '29', '697', '34'], ['부산광역시 부산진구', '동평초등학교', '21', '441', '23'], ['부산광역시 부산진구', '부산진초등학교', '25', '533', '29'], ['부산광역시 부산진구', '부암초등학교', '25', '546', '29'], ['부산광역시 부산진구', '부전초등학교', '15', '303', '18'], ['부산광역시 부산진구', '선암초등학교', '7', '55', '9'], ['부산광역시 부산진구', '성북초등학교', '24', '539', '28'], ['부산광역시 부산진구', '성서초등학교', '13', '230', '16'], ['부산광역시 부산진구', '성전초등학교', '19', '410', '25'], ['부산광역시 부산진구', '성지초등학교', '23', '476', '26'], ['부산광역시 부산진구', '양동초등학교', '16', '183', '19'], ['부산광역시 부산진구', '양성초등학교', '29', '661', '35'], ['부산광역시 부산진구', '양정초등학교', '35', '774', '41'], ['부산광역시 연제구', '연동초등학교', '29', '637', '34'], ['부산광역시 연제구', '연미초등학교', '10', '155', '13'], ['부산광역시 연제구', '연산초등학교', '36', '867', '42'], ['부산광역시 연제구', '연서초등학교', '38', '873', '44'], ['부산광역시 연제구', '연신초등학교', '28', '712', '31'], ['부산광역시 연제구', '연일초등학교', '11', '172', '13'], ['부산광역시 연제구', '연제초등학교', '23', '484', '26'], ['부산광역시 부산진구', '연지초등학교', '47', '1122', '53'], ['부산광역시 연제구', '연천초등학교', '32', '769', '36'], ['부산광역시 부산진구', '연학초등학교', '7', '128', '9'], ['부산광역시 부산진구', '전포초등학교', '19', '380', '23'], ['부산광역시 부산진구', '주례초등학교', '22', '478', '25'], ['부산광역시 부산진구', '주원초등학교', '11', '176', '14'], ['부산광역시 연제구', '창신초등학교', '33', '793', '38'], ['부산광역시 부산진구', '초읍초등학교', '30', '722', '37'], ['부산광역시 연제구', '토현초등학교', '22', '486', '26'], ['부산광역시 강서구', '가락초등학교', '7', '59', '9'], ['부산광역시 사상구', '감전초등학교', '11', '189', '13'], ['부산광역시 사상구', '괘법초등학교', '7', '79', '9'], ['부산광역시 북구', '구남초등학교', '26', '597', '31'], ['부산광역시 북구', '구포초등학교', '22', '422', '28'], ['부산광역시 사상구', '구학초등학교', '28', '662', '34'], ['부산광역시 북구', '금곡초등학교', '18', '358', '21'], ['부산광역시 북구', '금창초등학교', '13', '233', '15'], ['부산광역시 강서구', '녹명초등학교', '7', '49', '9'], ['부산광역시 강서구', '대사초등학교', '7', '45', '9'], ['부산광역시 강서구', '대상초등학교', '6', '52', '9'], ['부산광역시 강서구', '대저초등학교', '7', '62', '9'], ['부산광역시 북구', '대천리초등학교', '17', '316', '22'], ['부산광역시 강서구', '덕두초등학교', '15', '288', '17'], ['부산광역시 사상구', '덕상초등학교', '23', '509', '28'], ['부산광역시 북구', '덕성초등학교', '15', '309', '17'], ['부산광역시 북구', '덕양초등학교', '19', '389', '21'], ['부산광역시 북구', '덕천초등학교', '11', '164', '12'], ['부산광역시 사상구', '덕포초등학교', '10', '168', '12'], ['부산광역시 사상구', '동궁초등학교', '31', '672', '38'], ['부산광역시 사상구', '동주초등학교', '29', '666', '34'], ['부산광역시 북구', '만덕초등학교', '16', '323', '18'], ['부산광역시 북구', '명덕초등학교', '34', '784', '41'], ['부산광역시 강서구', '명지초등학교', '44', '1360', '49'], ['부산광역시 사상구', '모덕초등학교', '35', '807', '40'], ['부산광역시 사상구', '모동초등학교', '8', '124', '10'], ['부산광역시 사상구', '모라초등학교', '11', '196', '13'], ['부산광역시 사상구', '모산초등학교', '17', '340', '20'], ['부산광역시 강서구', '배영초등학교', '7', '63', '9'], ['부산광역시 북구', '백산초등학교', '36', '807', '43'], ['부산광역시 북구', '백양초등학교', '40', '924', '46'], ['부산광역시 사상구', '사상초등학교', '17', '267', '20'], ['부산광역시 사상구', '삼덕초등학교', '7', '109', '8'], ['부산광역시 사상구', '서감초등학교', '12', '182', '14'], ['부산광역시 북구', '신금초등학교', '18', '354', '21'], ['부산광역시 북구', '신천초등학교', '20', '366', '23'], ['부산광역시 강서구', '신호초등학교', '28', '645', '34'], ['부산광역시 북구', '양덕초등학교', '13', '255', '15'], ['부산광역시 북구', '양천초등학교', '14', '209', '15'], ['부산광역시 사상구', '엄궁초등학교', '36', '848', '42'], ['부산광역시 북구', '와석초등학교', '24', '502', '29'], ['부산광역시 북구', '용수초등학교', '42', '972', '51'], ['부산광역시 사상구', '주감초등학교', '27', '632', '32'], ['부산광역시 사상구', '주학초등학교', '7', '77', '10'], ['부산광역시 사상구', '창진초등학교', '21', '426', '26'], ['부산광역시 강서구', '천가초등학교', '7', '65', '9'], ['부산광역시 북구', '포천초등학교', '30', '638', '36'], ['부산광역시 사상구', '학장초등학교', '14', '294', '16'], ['부산광역시 사상구', '학진초등학교', '27', '623', '31'], ['부산광역시 북구', '화명초등학교', '17', '327', '21'], ['부산광역시 사하구', '감천초등학교', '13', '231', '15'], ['부산광역시 사하구', '괴정초등학교', '24', '530', '30'], ['부산광역시 서구', '구덕초등학교', '17', '342', '18'], ['부산광역시 사하구', '구평초등학교', '23', '515', '26'], ['부산광역시 사하구', '낙동초등학교', '45', '1082', '52'], ['부산광역시 서구', '남부민초등학교', '11', '176', '13'], ['부산광역시 영도구', '남항초등학교', '16', '301', '20'], ['부산광역시 사하구', '다대초등학교', '40', '959', '48'], ['부산광역시 사하구', '다선초등학교', '28', '619', '33'], ['부산광역시 사하구', '다송초등학교', '18', '344', '21'], ['부산광역시 사하구', '당리초등학교', '13', '215', '16'], ['부산광역시 영도구', '대교초등학교', '13', '210', '15'], ['부산광역시 서구', '대신초등학교', '33', '785', '39'], ['부산광역시 영도구', '대평초등학교', '17', '348', '21'], ['부산광역시 영도구', '동삼초등학교', '17', '334', '22'], ['부산광역시 서구', '동신초등학교', '24', '522', '29'], ['부산광역시 영도구', '봉삼초등학교', '7', '85', '9'], ['부산광역시 영도구', '봉학초등학교', '13', '231', '15'], ['부산광역시 서구', '부민초등학교', '25', '563', '27'], ['부산광역시 사하구', '사남초등학교', '9', '123', '10'], ['부산광역시 사하구', '사동초등학교', '15', '298', '17'], ['부산광역시 사하구', '사하초등학교', '41', '1012', '50'], ['부산광역시 영도구', '상리초등학교', '13', '221', '16'], ['부산광역시 사하구', '서천초등학교', '13', '217', '16'], ['부산광역시 서구', '송도초등학교', '19', '409', '22'], ['부산광역시 사하구', '승학초등학교', '17', '340', '20'], ['부산광역시 사하구', '신남초등학교', '24', '510', '28'], ['부산광역시 영도구', '신선초등학교', '7', '67', '9'], ['부산광역시 사하구', '신촌초등학교', '11', '167', '13'], ['부산광역시 사하구', '신평초등학교', '23', '484', '27'], ['부산광역시 서구', '아미초등학교', '7', '92', '9'], ['부산광역시 영도구', '영도초등학교', '19', '355', '23'], ['부산광역시 사하구', '옥천초등학교', '29', '694', '34'], ['부산광역시 사하구', '응봉초등학교', '14', '305', '17'], ['부산광역시 사하구', '장림초등학교', '35', '769', '42'], ['부산광역시 영도구', '절영초등학교', '7', '93', '9'], ['부산광역시 영도구', '중리초등학교', '31', '729', '37'], ['부산광역시 사하구', '중현초등학교', '26', '626', '30'], ['부산광역시 서구', '천마초등학교', '12', '165', '15'], ['부산광역시 영도구', '청동초등학교', '28', '609', '33'], ['부산광역시 영도구', '청학초등학교', '15', '307', '18'], ['부산광역시 영도구', '태종대초등학교', '7', '58', '9'], ['부산광역시 서구', '토성초등학교', '24', '502', '29'], ['부산광역시 사하구', '하남초등학교', '37', '809', '44'], ['부산광역시 사하구', '하단초등학교', '19', '395', '22'], ['부산광역시 서구', '화랑초등학교', '11', '160', '12'], ['부산광역시 사하구', '효림초등학교', '36', '847', '42'], ['부산광역시 해운대구', '강동초등학교', '33', '752', '40'], ['부산광역시 수영구', '광남초등학교', '36', '705', '40'], ['부산광역시 수영구', '광안초등학교', '36', '830', '40'], ['부산광역시 기장군', '교리초등학교', '35', '835', '41'], ['부산광역시 기장군', '기장초등학교', '31', '753', '38'], ['부산광역시 수영구', '남천초등학교', '27', '580', '30'], ['부산광역시 기장군', '용암초등학교', '7', '73', '10'], ['부산광역시 기장군', '대청초등학교', '26', '617', '31'], ['부산광역시 해운대구', '동백초등학교', '26', '590', '31'], ['부산광역시 수영구', '망미초등학교', '31', '746', '37'], ['부산광역시 수영구', '민락초등학교', '26', '573', '29'], ['부산광역시 수영구', '민안초등학교', '19', '368', '20'], ['부산광역시 해운대구', '반산초등학교', '26', '549', '34'], ['부산광역시 해운대구', '반석초등학교', '8', '138', '10'], ['부산광역시 해운대구', '반송초등학교', '14', '253', '18'], ['부산광역시 해운대구', '반안초등학교', '28', '644', '32'], ['부산광역시 해운대구', '반여초등학교', '12', '177', '14'], ['부산광역시 수영구', '배산초등학교', '21', '403', '22'], ['부산광역시 해운대구', '부흥초등학교', '39', '984', '46'], ['부산광역시 해운대구', '상당초등학교', '35', '844', '44'], ['부산광역시 해운대구', '송운초등학교', '19', '442', '23'], ['부산광역시 해운대구', '송정초등학교', '15', '305', '17'], ['부산광역시 수영구', '수미초등학교', '27', '605', '31'], ['부산광역시 수영구', '수영초등학교', '38', '922', '46'], ['부산광역시 해운대구', '신곡초등학교', '29', '693', '33'], ['부산광역시 해운대구', '신도초등학교', '28', '696', '34'], ['부산광역시 해운대구', '신재초등학교', '26', '561', '32'], ['부산광역시 기장군', '신진초등학교', '13', '233', '14'], ['부산광역시 해운대구', '양운초등학교', '24', '567', '28'], ['부산광역시 해운대구', '운봉초등학교', '16', '267', '20'], ['부산광역시 해운대구', '운송초등학교', '10', '140', '11'], ['부산광역시 기장군', '월내초등학교', '11', '186', '13'], ['부산광역시 기장군', '월평초등학교', '7', '123', '9'], ['부산광역시 기장군', '일광초등학교', '9', '166', '11'], ['부산광역시 해운대구', '장산초등학교', '39', '936', '46'], ['부산광역시 기장군', '장안초등학교', '6', '53', '8'], ['부산광역시 해운대구', '재송초등학교', '28', '657', '30'], ['부산광역시 기장군', '정관초등학교', '44', '1403', '54'], ['부산광역시 해운대구', '좌동초등학교', '27', '653', '32'], ['부산광역시 해운대구', '좌산초등학교', '25', '605', '28'], ['부산광역시 기장군', '좌천초등학교', '7', '56', '9'], ['부산광역시 기장군', '죽성초등학교', '7', '71', '9'], ['부산광역시 기장군', '철마초등학교', '6', '80', '8'], ['부산광역시 기장군', '칠암초등학교', '7', '88', '9'], ['부산광역시 해운대구', '해강초등학교', '36', '798', '43'], ['부산광역시 해운대구', '해동초등학교', '19', '429', '21'], ['부산광역시 해운대구', '해림초등학교', '37', '926', '45'], ['부산광역시 해운대구', '해송초등학교', '32', '758', '38'], ['부산광역시 해운대구', '해운대초등학교', '20', '461', '21'], ['부산광역시 수영구', '호암초등학교', '18', '396', '21'], ['부산광역시 동래구', '충렬초등학교', '16', '310', '18'], ['부산광역시 북구', '금명초등학교', '31', '750', '38'], ['부산광역시 북구', '명진초등학교', '28', '668', '34'], ['부산광역시 북구', '학사초등학교', '27', '627', '33'], ['부산광역시 북구', '화잠초등학교', '23', '506', '28'], ['부산광역시 해운대구', '인지초등학교', '34', '798', '38'], ['부산광역시 해운대구', '위봉초등학교', '13', '240', '15'], ['부산광역시 남구', '용문초등학교', '43', '1124', '53'], ['부산광역시 사하구', '을숙도초등학교', '35', '804', '41'], ['부산광역시 금정구', '금샘초등학교', '18', '340', '21'], ['부산광역시 북구', '신덕초등학교', '21', '435', '23'], ['부산광역시 북구', '상학초등학교', '6', '49', '8'], ['부산광역시 부산진구', '동양초등학교', '18', '403', '21'], ['부산광역시 사하구', '보림초등학교', '31', '676', '36'], ['부산광역시 해운대구', '무정초등학교', '19', '412', '20'], ['부산광역시 금정구', '두실초등학교', '37', '906', '43'], ['부산광역시 동래구', '안진초등학교', '23', '504', '27'], ['부산광역시 해운대구', '삼어초등학교', '17', '319', '20'], ['부산광역시 해운대구', '센텀초등학교', '43', '1634', '51'], ['부산광역시 해운대구', '송수초등학교', '38', '982', '43'], ['부산광역시 사상구', '주양초등학교', '21', '489', '27'], ['부산광역시 동래구', '예원초등학교', '37', '1073', '43'], ['부산광역시 사하구', '몰운대초등학교', '44', '1072', '52'], ['부산광역시 남구', '오륙도초등학교', '24', '682', '28'], ['부산광역시 기장군', '내리초등학교', '11', '188', '14'], ['부산광역시 강서구', '명호초등학교', '54', '1690', '63'], ['부산광역시 기장군', '신정초등학교', '38', '901', '43'], ['부산광역시 기장군', '달산초등학교', '26', '747', '32'], ['부산광역시 강서구', '남명초등학교', '31', '855', '36'], ['부산광역시 남구', '용소초등학교', '39', '1252', '45'], ['부산광역시 기장군', '방곡초등학교', '36', '931', '41'], ['부산광역시 강서구', '녹산초등학교', '34', '951', '39'], ['부산광역시 해운대구', '해원초등학교', '34', '890', '40'], ['부산광역시 기장군', '정원초등학교', '51', '1536', '60'], ['부산광역시 서구', '부산알로이시오초등학교', '7', '92', '9'], ['부산광역시 금정구', '금빛초등학교', '36', '936', '40'], ['부산광역시 북구', '화정초등학교', '32', '819', '38'], ['부산광역시 기장군', '모전초등학교', '52', '1499', '62'], ['부산광역시 기장군', '가동초등학교', '34', '1047', '39'], ['부산광역시 강서구', '송정초등학교', '25', '564', '29'], ['부산광역시 강서구', '오션초등학교', '37', '932', '42'], ['부산광역시 강서구', '신명초등학교', '49', '1341', '56'], ['부산광역시 강서구', '명일초등학교', '19', '300', '22'], ['대구광역시 중구', '경북대학교사범대학부설초등학교', '25', '584', '29'], ['대구광역시 달서구', '대구교육대학교대구부설초등학교', '19', '435', '22'], ['대구광역시 남구', '남대구초등학교', '9', '145', '14'], ['대구광역시 달서구', '대구감삼초등학교', '13', '256', '17'], ['대구광역시 달서구', '대구감천초등학교', '20', '412', '24'], ['대구광역시 남구', '대구남덕초등학교', '13', '230', '20'], ['대구광역시 남구', '대구남도초등학교', '30', '636', '36'], ['대구광역시 남구', '대구남명초등학교', '13', '185', '19'], ['대구광역시 달서구', '대구남부초등학교', '18', '370', '25'], ['대구광역시 달서구', '대구남송초등학교', '18', '381', '23'], ['대구광역시 달서구', '대구내당초등학교', '14', '245', '21'], ['대구광역시 달서구', '대구노전초등학교', '33', '644', '41'], ['대구광역시 달서구', '대구대곡초등학교', '30', '695', '38'], ['대구광역시 달서구', '대구대남초등학교', '23', '491', '31'], ['대구광역시 남구', '대구대덕초등학교', '13', '238', '17'], ['대구광역시 남구', '대구대명초등학교', '28', '605', '37'], ['대구광역시 남구', '대구대봉초등학교', '28', '620', '34'], ['대구광역시 달서구', '대구대서초등학교', '30', '708', '39'], ['대구광역시 달서구', '대구대진초등학교', '26', '569', '33'], ['대구광역시 달서구', '대구덕인초등학교', '19', '334', '23'], ['대구광역시 달서구', '대구도원초등학교', '24', '516', '28'], ['대구광역시 달서구', '대구본리초등학교', '46', '1189', '58'], ['대구광역시 남구', '대구봉덕초등학교', '28', '575', '33'], ['대구광역시 달서구', '대구상원초등학교', '17', '347', '21'], ['대구광역시 달서구', '대구상인초등학교', '23', '471', '28'], ['대구광역시 달서구', '대구선원초등학교', '15', '336', '21'], ['대구광역시 달서구', '대구성곡초등학교', '20', '443', '28'], ['대구광역시 달서구', '대구성남초등학교', '21', '425', '26'], ['대구광역시 달서구', '대구성당초등학교', '35', '1096', '44'], ['대구광역시 남구', '대구성명초등학교', '18', '333', '22'], ['대구광역시 달서구', '대구성산초등학교', '23', '511', '29'], ['대구광역시 달서구', '대구성서초등학교', '17', '330', '24'], ['대구광역시 달서구', '대구성지초등학교', '22', '457', '28'], ['대구광역시 달서구', '대구송일초등학교', '25', '614', '32'], ['대구광역시 달서구', '대구송현초등학교', '19', '386', '24'], ['대구광역시 달서구', '대구신당초등학교', '14', '174', '24'], ['대구광역시 달서구', '대구신서초등학교', '15', '284', '24'], ['대구광역시 달서구', '대구신흥초등학교', '19', '445', '24'], ['대구광역시 남구', '대구영선초등학교', '21', '424', '28'], ['대구광역시 달서구', '대구와룡초등학교', '27', '651', '33'], ['대구광역시 달서구', '대구용산초등학교', '24', '542', '30'], ['대구광역시 달서구', '대구용전초등학교', '24', '502', '28'], ['대구광역시 달서구', '대구월곡초등학교', '12', '159', '18'], ['대구광역시 달서구', '대구월배초등학교', '25', '521', '33'], ['대구광역시 달서구', '대구월성초등학교', '13', '241', '18'], ['대구광역시 달서구', '대구월촌초등학교', '23', '533', '29'], ['대구광역시 달서구', '대구이곡초등학교', '23', '566', '29'], ['대구광역시 달서구', '대구장기초등학교', '28', '658', '37'], ['대구광역시 달서구', '대구장산초등학교', '31', '715', '40'], ['대구광역시 달서구', '대구죽전초등학교', '21', '428', '27'], ['대구광역시 달서구', '대구진월초등학교', '17', '348', '21'], ['대구광역시 달서구', '대구진천초등학교', '24', '503', '28'], ['대구광역시 달서구', '대구파호초등학교', '14', '321', '19'], ['대구광역시 달서구', '대구학산초등학교', '8', '135', '13'], ['대구광역시 남구', '대구효명초등학교', '19', '426', '24'], ['대구광역시 달서구', '효성초등학교', '18', '564', '18'], ['대구광역시 달성군', '대구가창초등학교', '10', '161', '13'], ['대구광역시 달성군', '대구구지초등학교', '14', '284', '18'], ['대구광역시 달성군', '대구금계초등학교', '7', '130', '10'], ['대구광역시 달성군', '대구금포초등학교', '7', '74', '10'], ['대구광역시 달성군', '대구남동초등학교', '15', '280', '21'], ['대구광역시 달성군', '대구다사초등학교', '36', '852', '43'], ['대구광역시 달성군', '대구동곡초등학교', '7', '68', '11'], ['대구광역시 달성군', '대구반송초등학교', '6', '84', '10'], ['대구광역시 달성군', '대구북동초등학교', '19', '356', '26'], ['대구광역시 달성군', '대구서재초등학교', '35', '834', '41'], ['대구광역시 달성군', '대구옥포초등학교', '15', '294', '19'], ['대구광역시 달성군', '대구용계초등학교', '21', '430', '25'], ['대구광역시 달성군', '대구유가초등학교', '60', '1629', '71'], ['대구광역시 달성군', '대구하빈초등학교', '7', '61', '11'], ['대구광역시 달성군', '대구현풍초등학교', '14', '232', '19'], ['대구광역시 달성군', '대구화남초등학교', '24', '550', '30'], ['대구광역시 달성군', '대구화원초등학교', '23', '439', '31'], ['대구광역시 중구', '계성초등학교', '24', '798', '25'], ['대구광역시 수성구', '대구경동초등학교', '54', '1859', '66'], ['대구광역시 수성구', '대구고산초등학교', '38', '799', '47'], ['대구광역시 동구', '대구공산초등학교', '6', '92', '9'], ['대구광역시 중구', '대구남산초등학교', '38', '907', '46'], ['대구광역시 수성구', '대구노변초등학교', '27', '674', '35'], ['대구광역시 수성구', '대구대청초등학교', '36', '913', '45'], ['대구광역시 동구', '대구덕성초등학교', '12', '233', '19'], ['대구광역시 중구', '대구동덕초등학교', '12', '241', '17'], ['대구광역시 수성구', '대구동도초등학교', '44', '1271', '56'], ['대구광역시 수성구', '대구동문초등학교', '13', '227', '19'], ['대구광역시 동구', '대구동부초등학교', '12', '187', '20'], ['대구광역시 수성구', '대구동산초등학교', '21', '479', '27'], ['대구광역시 수성구', '대구동성초등학교', '42', '1056', '53'], ['대구광역시 동구', '대구동신초등학교', '35', '820', '45'], ['대구광역시 수성구', '대구동원초등학교', '21', '509', '27'], ['대구광역시 중구', '대구동인초등학교', '17', '331', '25'], ['대구광역시 수성구', '대구동일초등학교', '31', '817', '42'], ['대구광역시 수성구', '대구동천초등학교', '48', '1216', '61'], ['대구광역시 동구', '대구동촌초등학교', '24', '546', '33'], ['대구광역시 수성구', '대구두산초등학교', '18', '387', '25'], ['대구광역시 수성구', '대구만촌초등학교', '17', '371', '23'], ['대구광역시 수성구', '대구매호초등학교', '30', '774', '40'], ['대구광역시 중구', '대구명덕초등학교', '17', '355', '21'], ['대구광역시 동구', '대구반야월초등학교', '33', '822', '42'], ['대구광역시 동구', '대구방촌초등학교', '18', '368', '25'], ['대구광역시 수성구', '대구범물초등학교', '14', '236', '20'], ['대구광역시 수성구', '대구범어초등학교', '22', '546', '29'], ['대구광역시 수성구', '대구범일초등학교', '34', '861', '44'], ['대구광역시 수성구', '대구복명초등학교', '10', '162', '14'], ['대구광역시 동구', '대구불로초등학교', '17', '345', '23'], ['대구광역시 중구', '대구삼덕초등학교', '23', '483', '27'], ['대구광역시 동구', '대구서촌초등학교', '6', '94', '9'], ['대구광역시 수성구', '대구성동초등학교', '53', '1650', '66'], ['대구광역시 동구', '대구송정초등학교', '34', '796', '40'], ['대구광역시 수성구', '대구수성초등학교', '31', '727', '38'], ['대구광역시 중구', '대구수창초등학교', '11', '188', '15'], ['대구광역시 동구', '대구숙천초등학교', '19', '440', '24'], ['대구광역시 수성구', '대구시지초등학교', '20', '401', '28'], ['대구광역시 수성구', '대구신매초등학교', '26', '637', '31'], ['대구광역시 동구', '대구신성초등학교', '19', '432', '24'], ['대구광역시 동구', '대구신천초등학교', '36', '900', '46'], ['대구광역시 동구', '대구아양초등학교', '17', '349', '24'], ['대구광역시 동구', '대구안일초등학교', '26', '560', '31'], ['대구광역시 수성구', '대구용지초등학교', '36', '901', '46'], ['대구광역시 동구', '대구용호초등학교', '23', '528', '28'], ['대구광역시 수성구', '대구욱수초등학교', '29', '746', '39'], ['대구광역시 동구', '대구율하초등학교', '16', '324', '22'], ['대구광역시 동구', '대구입석초등학교', '14', '300', '20'], ['대구광역시 중구', '대구종로초등학교', '9', '116', '13'], ['대구광역시 동구', '대구지묘초등학교', '20', '402', '25'], ['대구광역시 수성구', '대구지봉초등학교', '15', '291', '19'], ['대구광역시 수성구', '대구지산초등학교', '14', '262', '19'], ['대구광역시 중구', '대구초등학교', '17', '347', '21'], ['대구광역시 수성구', '대구파동초등학교', '15', '308', '19'], ['대구광역시 동구', '대구해서초등학교', '24', '465', '30'], ['대구광역시 동구', '대구해안초등학교', '12', '174', '15'], ['대구광역시 수성구', '대구황금초등학교', '25', '538', '33'], ['대구광역시 동구', '대구효동초등학교', '8', '109', '12'], ['대구광역시 동구', '대구효목초등학교', '24', '494', '31'], ['대구광역시 동구', '대구효신초등학교', '12', '233', '15'], ['대구광역시 동구', '동대구초등학교', '27', '444', '34'], ['대구광역시 수성구', '대구삼육초등학교', '6', '217', '6'], ['대구광역시 동구', '영신초등학교', '24', '795', '24'], ['대구광역시 북구', '대구강북초등학교', '39', '970', '50'], ['대구광역시 서구', '대구경운초등학교', '28', '643', '35'], ['대구광역시 북구', '대구경진초등학교', '9', '141', '12'], ['대구광역시 북구', '대구관남초등학교', '21', '456', '26'], ['대구광역시 북구', '대구관음초등학교', '17', '327', '22'], ['대구광역시 북구', '대구관천초등학교', '13', '244', '17'], ['대구광역시 북구', '대구교동초등학교', '17', '285', '21'], ['대구광역시 북구', '대구구암초등학교', '20', '451', '29'], ['대구광역시 서구', '대구내서초등학교', '13', '245', '17'], ['대구광역시 북구', '대구달산초등학교', '42', '1055', '50'], ['대구광역시 서구', '대구달서초등학교', '34', '807', '41'], ['대구광역시 서구', '대구달성초등학교', '17', '342', '26'], ['대구광역시 북구', '대구대산초등학교', '13', '191', '16'], ['대구광역시 서구', '대구대성초등학교', '13', '235', '17'], ['대구광역시 북구', '대구대천초등학교', '21', '431', '25'], ['대구광역시 북구', '대구도남초등학교', '23', '464', '29'], ['대구광역시 북구', '대구동평초등학교', '44', '1139', '54'], ['대구광역시 서구', '대구두류초등학교', '10', '148', '14'], ['대구광역시 북구', '대구매천초등학교', '20', '403', '24'], ['대구광역시 북구', '대구문성초등학교', '27', '638', '36'], ['대구광역시 북구', '대구복현초등학교', '33', '786', '39'], ['대구광역시 북구', '대구북부초등학교', '20', '393', '28'], ['대구광역시 서구', '대구북비산초등학교', '13', '215', '18'], ['대구광역시 서구', '대구비봉초등학교', '8', '138', '11'], ['대구광역시 서구', '대구비산초등학교', '18', '348', '24'], ['대구광역시 북구', '대구산격초등학교', '22', '457', '28'], ['대구광역시 서구', '대구서도초등학교', '18', '358', '26'], ['대구광역시 서구', '대구서부초등학교', '19', '376', '24'], ['대구광역시 서구', '대구서평초등학교', '8', '126', '10'], ['대구광역시 북구', '대구성북초등학교', '23', '487', '27'], ['대구광역시 북구', '대구신암초등학교', '35', '781', '41'], ['대구광역시 북구', '대구옥산초등학교', '29', '706', '37'], ['대구광역시 서구', '대구이현초등학교', '13', '204', '19'], ['대구광역시 서구', '대구인지초등학교', '24', '503', '30'], ['대구광역시 북구', '대구조야초등학교', '6', '52', '10'], ['대구광역시 서구', '대구중리초등학교', '8', '124', '14'], ['대구광역시 북구', '대구칠곡초등학교', '24', '568', '31'], ['대구광역시 북구', '대구칠성초등학교', '52', '1607', '60'], ['대구광역시 북구', '대구침산초등학교', '43', '1067', '52'], ['대구광역시 북구', '대구태암초등학교', '24', '544', '30'], ['대구광역시 북구', '대구태전초등학교', '13', '291', '18'], ['대구광역시 북구', '대구태현초등학교', '21', '448', '26'], ['대구광역시 북구', '대구팔달초등학교', '15', '338', '22'], ['대구광역시 서구', '대구평리초등학교', '38', '913', '44'], ['대구광역시 북구', '북대구초등학교', '24', '504', '28'], ['대구광역시 서구', '서대구초등학교', '10', '154', '15'], ['대구광역시 북구', '대구학남초등학교', '34', '837', '46'], ['대구광역시 수성구', '대구중앙초등학교', '45', '1134', '59'], ['대구광역시 북구', '대구운암초등학교', '30', '722', '37'], ['대구광역시 달서구', '대구장동초등학교', '37', '885', '48'], ['대구광역시 달성군', '대구죽곡초등학교', '35', '712', '42'], ['대구광역시 달성군', '대구명곡초등학교', '15', '312', '19'], ['대구광역시 달성군', '대구천내초등학교', '14', '260', '17'], ['대구광역시 달서구', '대구장성초등학교', '13', '274', '18'], ['대구광역시 달성군', '대구논공초등학교', '13', '212', '18'], ['대구광역시 달성군', '대구도림초등학교', '21', '438', '25'], ['대구광역시 동구', '대구강동초등학교', '47', '1200', '56'], ['대구광역시 동구', '대구동호초등학교', '27', '632', '33'], ['대구광역시 북구', '대구함지초등학교', '26', '623', '32'], ['대구광역시 북구', '대구동변초등학교', '35', '814', '42'], ['대구광역시 북구', '대구서변초등학교', '26', '608', '31'], ['대구광역시 달성군', '대구화동초등학교', '15', '330', '19'], ['대구광역시 수성구', '대구청림초등학교', '16', '313', '20'], ['대구광역시 달서구', '대구월서초등학교', '49', '1307', '59'], ['대구광역시 수성구', '대구사월초등학교', '46', '1320', '60'], ['대구광역시 달서구', '대구호산초등학교', '19', '387', '23'], ['대구광역시 북구', '대구학정초등학교', '37', '864', '46'], ['대구광역시 달성군', '대구왕선초등학교', '35', '734', '43'], ['대구광역시 달서구', '대구유천초등학교', '41', '967', '52'], ['대구광역시 달서구', '대구신월초등학교', '46', '1349', '57'], ['대구광역시 수성구', '대구매동초등학교', '22', '511', '30'], ['대구광역시 달서구', '대구조암초등학교', '30', '745', '39'], ['대구광역시 달성군', '대구매곡초등학교', '26', '633', '32'], ['대구광역시 북구', '대구관문초등학교', '45', '979', '53'], ['대구광역시 달서구', '대구용천초등학교', '36', '932', '42'], ['대구광역시 동구', '대구율원초등학교', '44', '1107', '52'], ['대구광역시 달서구', '대구월암초등학교', '43', '1437', '54'], ['대구광역시 달서구', '대구한샘초등학교', '38', '1321', '48'], ['대구광역시 수성구', '대구들안길초등학교', '22', '470', '29'], ['대구광역시 북구', '대구사수초등학교', '31', '680', '38'], ['대구광역시 달서구', '대구한솔초등학교', '38', '1099', '45'], ['대구광역시 동구', '대구봉무초등학교', '41', '1250', '51'], ['대구광역시 동구', '대구율금초등학교', '31', '816', '41'], ['대구광역시 동구', '대구새론초등학교', '43', '1180', '49'], ['대구광역시 달성군', '대구대실초등학교', '42', '1032', '48'], ['대구광역시 달성군', '대구세천초등학교', '44', '1095', '50'], ['대구광역시 달성군', '대구비슬초등학교', '49', '1229', '58'], ['대구광역시 달성군', '대구강림초등학교', '28', '683', '33'], ['대구광역시 달성군', '대구포산초등학교', '33', '801', '40'], ['대구광역시 북구', '대구삼영초등학교', '18', '368', '24'], ['대구광역시 달성군', '대구서동초등학교', '25', '586', '30'], ['대구광역시 달성군', '대구세현초등학교', '14', '268', '18'], ['인천광역시 계양구', '경인교육대학교부설초등학교', '25', '575', '29'], ['인천광역시 강화군', '갑룡초등학교', '25', '576', '28'], ['인천광역시 강화군', '강화초등학교', '18', '357', '20'], ['인천광역시 강화군', '교동초등학교', '7', '63', '9'], ['인천광역시 강화군', '길상초등학교', '12', '240', '14'], ['인천광역시 강화군', '내가초등학교', '6', '37', '7'], ['인천광역시 강화군', '대월초등학교', '6', '106', '8'], ['인천광역시 강화군', '명신초등학교', '6', '42', '7'], ['인천광역시 강화군', '불은초등학교', '7', '89', '8'], ['인천광역시 강화군', '삼산초등학교', '4', '17', '5'], ['인천광역시 강화군', '삼성초등학교', '7', '53', '9'], ['인천광역시 강화군', '서도초등학교', '3', '5', '3'], ['인천광역시 강화군', '선원초등학교', '12', '260', '15'], ['인천광역시 강화군', '송해초등학교', '7', '65', '8'], ['인천광역시 강화군', '양도초등학교', '6', '66', '7'], ['인천광역시 강화군', '양사초등학교', '7', '50', '8'], ['인천광역시 강화군', '조산초등학교', '6', '41', '7'], ['인천광역시 강화군', '교동초등학교지석분교장', '3', '8', '3'], ['인천광역시 강화군', '하점초등학교', '7', '54', '8'], ['인천광역시 강화군', '합일초등학교', '10', '168', '13'], ['인천광역시 강화군', '해명초등학교', '5', '23', '6'], ['인천광역시 강화군', '화도초등학교', '8', '111', '11'], ['인천광역시 옹진군', '대청초등학교', '6', '42', '7'], ['인천광역시 옹진군', '덕적초등학교', '7', '35', '8'], ['인천광역시 옹진군', '백령초등학교', '6', '87', '7'], ['인천광역시 옹진군', '북포초등학교', '7', '119', '8'], ['인천광역시 옹진군', '연평초등학교', '6', '54', '8'], ['인천광역시 동구', '영화초등학교', '11', '197', '11'], ['인천광역시 옹진군', '영흥초등학교', '12', '232', '14'], ['인천광역시 중구', '인성초등학교', '18', '417', '19'], ['인천광역시 중구', '인천공항초등학교', '28', '625', '32'], ['인천광역시 남구', '인천관교초등학교', '33', '756', '40'], ['인천광역시 미추홀구', '인천남부초등학교', '32', '727', '37'], ['인천광역시 남구', '인천대화초등학교', '27', '592', '31'], ['인천광역시 남구', '인천도화초등학교', '41', '999', '48'], ['인천광역시 동구', '인천동명초등학교', '15', '321', '15'], ['인천광역시 동구', '인천만석초등학교', '25', '546', '28'], ['인천광역시 미추홀구', '인천문학초등학교', '36', '834', '42'], ['인천광역시 남구', '인천백학초등학교', '21', '413', '24'], ['인천광역시 동구', '인천서림초등학교', '31', '710', '37'], ['인천광역시 남구', '인천서화초등학교', '30', '715', '34'], ['인천광역시 동구', '인천서흥초등학교', '31', '663', '35'], ['인천광역시 남구', '인천석암초등학교', '39', '840', '45'], ['인천광역시 동구', '인천송림초등학교', '21', '371', '24'], ['인천광역시 중구', '인천송월초등학교', '15', '292', '17'], ['인천광역시 동구', '인천송현초등학교', '33', '755', '38'], ['인천광역시 남구', '인천숭의초등학교', '51', '1338', '61'], ['인천광역시 미추홀구', '인천승학초등학교', '23', '539', '28'], ['인천광역시 중구', '인천신광초등학교', '31', '739', '36'], ['인천광역시 중구', '인천신선초등학교', '24', '537', '27'], ['인천광역시 중구', '인천신흥초등학교', '23', '456', '25'], ['인천광역시 중구', '인천연안초등학교', '12', '184', '14'], ['인천광역시 중구', '인천영종초등학교', '50', '1392', '56'], ['인천광역시 중구', '인천용유초등학교', '6', '37', '8'], ['인천광역시 미추홀구', '인천용일초등학교', '30', '655', '35'], ['인천광역시 남구', '인천용정초등학교', '13', '217', '15'], ['인천광역시 미추홀구', '인천용현남초등학교', '46', '1100', '53'], ['인천광역시 미추홀구', '인천용현초등학교', '55', '1252', '62'], ['인천광역시 중구', '인천운서초등학교', '14', '220', '15'], ['인천광역시 남구', '인천인주초등학교', '35', '828', '40'], ['인천광역시 남구', '인천주안남초등학교', '31', '721', '35'], ['인천광역시 미추홀구', '인천주안북초등학교', '23', '471', '26'], ['인천광역시 남구', '인천주안초등학교', '29', '728', '32'], ['인천광역시 동구', '인천창영초등학교', '13', '207', '15'], ['인천광역시 남구', '인천연학초등학교', '14', '292', '15'], ['인천광역시 남구', '인천학익초등학교', '25', '588', '31'], ['인천광역시 남동구', '상인천초등학교', '30', '692', '35'], ['인천광역시 남동구', '인천간석초등학교', '27', '591', '30'], ['인천광역시 남동구', '인천구월서초등학교', '36', '900', '44'], ['인천광역시 남동구', '인천구월초등학교', '26', '592', '29'], ['인천광역시 남동구', '인천남동초등학교', '33', '655', '38'], ['인천광역시 남동구', '인천남촌초등학교', '25', '532', '29'], ['인천광역시 남동구', '인천논곡초등학교', '33', '770', '38'], ['인천광역시 남동구', '인천논현초등학교', '33', '855', '39'], ['인천광역시 연수구', '인천능허대초등학교', '40', '974', '47'], ['인천광역시 남동구', '인천담방초등학교', '27', '633', '31'], ['인천광역시 남동구', '인천도림초등학교', '29', '606', '33'], ['인천광역시 연수구', '인천동막초등학교', '28', '623', '32'], ['인천광역시 남동구', '인천동부초등학교', '27', '582', '30'], ['인천광역시 연수구', '인천동춘초등학교', '37', '707', '43'], ['인천광역시 남동구', '인천만수북초등학교', '42', '1039', '50'], ['인천광역시 남동구', '인천만수초등학교', '14', '276', '16'], ['인천광역시 남동구', '인천만월초등학교', '55', '1341', '62'], ['인천광역시 연수구', '인천문남초등학교', '25', '595', '29'], ['인천광역시 연수구', '인천박문초등학교', '18', '469', '25'], ['인천광역시 남동구', '인천석정초등학교', '44', '931', '52'], ['인천광역시 남동구', '인천석천초등학교', '44', '1066', '50'], ['인천광역시 연수구', '인천선학초등학교', '28', '630', '33'], ['인천광역시 남동구', '인천성리초등학교', '37', '834', '42'], ['인천광역시 남동구', '인천소래초등학교', '23', '512', '27'], ['인천광역시 연수구', '인천송도초등학교', '22', '447', '26'], ['인천광역시 남동구', '인천약산초등학교', '28', '650', '32'], ['인천광역시 연수구', '인천연성초등학교', '40', '1082', '47'], ['인천광역시 연수구', '인천연수초등학교', '20', '436', '22'], ['인천광역시 연수구', '인천연화초등학교', '32', '732', '39'], ['인천광역시 연수구', '인천옥련초등학교', '44', '1067', '53'], ['인천광역시 남동구', '인천인동초등학교', '49', '1216', '56'], ['인천광역시 남동구', '인천인수초등학교', '19', '395', '21'], ['인천광역시 남동구', '인천장수초등학교', '14', '240', '16'], ['인천광역시 남동구', '인천조동초등학교', '36', '743', '43'], ['인천광역시 남동구', '인천주원초등학교', '13', '265', '15'], ['인천광역시 연수구', '인천중앙초등학교', '21', '434', '24'], ['인천광역시 연수구', '인천청량초등학교', '34', '820', '40'], ['인천광역시 연수구', '인천청학초등학교', '27', '594', '31'], ['인천광역시 연수구', '인천함박초등학교', '24', '562', '27'], ['인천광역시 서구', '인천가림초등학교', '20', '418', '22'], ['인천광역시 서구', '인천가석초등학교', '18', '351', '19'], ['인천광역시 서구', '인천가정초등학교', '31', '754', '36'], ['인천광역시 서구', '인천가좌초등학교', '31', '669', '35'], ['인천광역시 서구', '인천가현초등학교', '41', '1031', '48'], ['인천광역시 부평구', '인천갈산초등학교', '17', '291', '19'], ['인천광역시 부평구', '인천갈월초등학교', '33', '773', '38'], ['인천광역시 부평구', '인천개흥초등학교', '22', '451', '25'], ['인천광역시 서구', '인천건지초등학교', '19', '337', '22'], ['인천광역시 서구', '인천검단초등학교', '38', '918', '42'], ['인천광역시 계양구', '인천계산초등학교', '14', '291', '17'], ['인천광역시 계양구', '인천계양초등학교', '25', '506', '28'], ['인천광역시 부평구', '인천구산초등학교', '29', '622', '33'], ['인천광역시 서구', '인천금곡초등학교', '17', '377', '19'], ['인천광역시 계양구', '인천길주초등학교', '30', '718', '35'], ['인천광역시 서구', '인천단봉초등학교', '39', '892', '46'], ['인천광역시 서구', '인천당하초등학교', '49', '1229', '58'], ['인천광역시 부평구', '인천대정초등학교', '36', '874', '43'], ['인천광역시 부평구', '인천동수초등학교', '32', '667', '36'], ['인천광역시 부평구', '인천동암초등학교', '21', '430', '25'], ['인천광역시 부평구', '인천마곡초등학교', '9', '122', '11'], ['인천광역시 부평구', '인천마장초등학교', '33', '790', '39'], ['인천광역시 서구', '인천마전초등학교', '39', '948', '47'], ['인천광역시 계양구', '인천명현초등학교', '20', '387', '23'], ['인천광역시 서구', '인천목향초등학교', '32', '793', '36'], ['인천광역시 부평구', '인천미산초등학교', '20', '402', '24'], ['인천광역시 서구', '인천백석초등학교', '37', '1009', '44'], ['인천광역시 부평구', '인천백운초등학교', '26', '600', '29'], ['인천광역시 계양구', '인천병방초등학교', '25', '565', '28'], ['인천광역시 서구', '인천봉수초등학교', '11', '180', '13'], ['인천광역시 부평구', '인천부개서초등학교', '40', '964', '47'], ['인천광역시 부평구', '인천부개초등학교', '19', '326', '21'], ['인천광역시 부평구', '인천부곡초등학교', '53', '1341', '64'], ['인천광역시 부평구', '인천부광초등학교', '21', '453', '22'], ['인천광역시 부평구', '인천부내초등학교', '33', '771', '39'], ['인천광역시 부평구', '인천부마초등학교', '35', '818', '40'], ['인천광역시 부평구', '인천부원초등학교', '33', '813', '41'], ['인천광역시 부평구', '인천부일초등학교', '23', '454', '27'], ['인천광역시 부평구', '인천부평남초등학교', '45', '1053', '51'], ['인천광역시 부평구', '인천부평동초등학교', '37', '969', '42'], ['인천광역시 부평구', '인천부평북초등학교', '20', '432', '22'], ['인천광역시 부평구', '인천부평서초등학교', '36', '840', '42'], ['인천광역시 계양구', '인천부평초등학교', '22', '457', '25'], ['인천광역시 계양구', '인천부현동초등학교', '33', '823', '38'], ['인천광역시 계양구', '인천부현초등학교', '28', '618', '33'], ['인천광역시 부평구', '인천부흥초등학교', '38', '927', '43'], ['인천광역시 서구', '인천불로초등학교', '35', '855', '39'], ['인천광역시 부평구', '인천산곡남초등학교', '27', '614', '30'], ['인천광역시 부평구', '인천산곡북초등학교', '20', '440', '22'], ['인천광역시 부평구', '인천산곡초등학교', '15', '277', '17'], ['인천광역시 부평구', '인천삼산초등학교', '31', '711', '35'], ['인천광역시 부평구', '인천상정초등학교', '13', '233', '16'], ['인천광역시 서구', '인천서곶초등학교', '30', '694', '36'], ['인천광역시 계양구', '인천서운초등학교', '17', '347', '21'], ['인천광역시 서구', '인천석남서초등학교', '27', '604', '30'], ['인천광역시 서구', '인천석남초등학교', '31', '678', '37'], ['인천광역시 계양구', '인천성지초등학교', '20', '456', '22'], ['인천광역시 계양구', '인천소양초등학교', '23', '489', '26'], ['인천광역시 계양구', '인천신대초등학교', '35', '851', '42'], ['인천광역시 서구', '인천신석초등학교', '23', '465', '26'], ['인천광역시 부평구', '인천신촌초등학교', '20', '363', '23'], ['인천광역시 서구', '인천신현북초등학교', '30', '672', '36'], ['인천광역시 서구', '인천신현초등학교', '22', '480', '25'], ['인천광역시 서구', '인천심곡초등학교', '18', '387', '24'], ['인천광역시 부평구', '인천십정초등학교', '16', '316', '18'], ['인천광역시 계양구', '인천안남초등학교', '28', '609', '31'], ['인천광역시 계양구', '인천안산초등학교', '25', '521', '29'], ['인천광역시 서구', '인천양지초등학교', '19', '377', '22'], ['인천광역시 부평구', '인천용마초등학교', '24', '507', '28'], ['인천광역시 부평구', '인천일신초등학교', '20', '430', '22'], ['인천광역시 계양구', '인천작동초등학교', '26', '557', '29'], ['인천광역시 계양구', '인천작전초등학교', '24', '564', '28'], ['인천광역시 서구', '인천창신초등학교', '28', '629', '31'], ['인천광역시 서구', '인천천마초등학교', '15', '257', '19'], ['인천광역시 부평구', '인천청천초등학교', '19', '392', '21'], ['인천광역시 부평구', '인천하정초등학교', '9', '169', '11'], ['인천광역시 부평구', '인천한길초등학교', '35', '817', '42'], ['인천광역시 계양구', '인천화전초등학교', '42', '1033', '49'], ['인천광역시 계양구', '인천효성남초등학교', '33', '684', '38'], ['인천광역시 계양구', '인천효성동초등학교', '17', '328', '19'], ['인천광역시 계양구', '인천효성서초등학교', '29', '639', '34'], ['인천광역시 계양구', '인천효성초등학교', '19', '462', '21'], ['인천광역시 부평구', '한일초등학교', '12', '283', '15'], ['인천광역시 연수구', '인천축현초등학교', '19', '415', '21'], ['인천광역시 옹진군', '대청초등학교소청분교장', '1', '1', '1'], ['인천광역시 계양구', '인천계양초등학교상야분교장', '4', '16', '5'], ['인천광역시 옹진군', '인천남부초등학교이작분교장', '1', '7', '1'], ['인천광역시 옹진군', '인천용현남초등학교자월분교장', '3', '7', '3'], ['인천광역시 중구', '인천용유초등학교무의분교장', '3', '9', '3'], ['인천광역시 중구', '인천영종초등학교금산분교장', '7', '58', '8'], ['인천광역시 옹진군', '인천삼목초등학교장봉분교장', '3', '12', '3'], ['인천광역시 연수구', '인천서면초등학교', '27', '535', '30'], ['인천광역시 옹진군', '인천공항초등학교신도분교장', '4', '20', '5'], ['인천광역시 남동구', '인천신월초등학교', '22', '475', '26'], ['인천광역시 남동구', '인천새말초등학교', '24', '545', '30'], ['인천광역시 남동구', '인천서창초등학교', '50', '1339', '59'], ['인천광역시 중구', '인천삼목초등학교', '36', '831', '41'], ['인천광역시 서구', '인천봉화초등학교', '20', '333', '23'], ['인천광역시 서구', '인천검암초등학교', '16', '281', '18'], ['인천광역시 서구', '인천은지초등학교', '30', '668', '36'], ['인천광역시 부평구', '인천진산초등학교', '19', '409', '23'], ['인천광역시 부평구', '인천굴포초등학교', '40', '1018', '46'], ['인천광역시 서구', '인천간재울초등학교', '51', '1248', '59'], ['인천광역시 부평구', '인천후정초등학교', '26', '579', '29'], ['인천광역시 서구', '인천발산초등학교', '37', '897', '44'], ['인천광역시 계양구', '인천해서초등학교', '16', '331', '18'], ['인천광역시 연수구', '인천먼우금초등학교', '39', '968', '46'], ['인천광역시 서구', '인천경서초등학교', '30', '748', '32'], ['인천광역시 서구', '인천왕길초등학교', '37', '813', '42'], ['인천광역시 계양구', '인천귤현초등학교', '34', '798', '38'], ['인천광역시 서구', '인천원당초등학교', '26', '604', '29'], ['인천광역시 서구', '인천능내초등학교', '35', '856', '40'], ['인천광역시 서구', '인천완정초등학교', '27', '696', '31'], ['인천광역시 계양구', '인천당산초등학교', '55', '1368', '64'], ['인천광역시 서구', '인천청라초등학교', '58', '1549', '70'], ['인천광역시 계양구', '인천양촌초등학교', '19', '346', '21'], ['인천광역시 부평구', '인천영선초등학교', '38', '927', '45'], ['인천광역시 남동구', '인천동방초등학교', '44', '992', '50'], ['인천광역시 남동구', '인천장도초등학교', '22', '435', '25'], ['인천광역시 연수구', '인천신송초등학교', '30', '759', '34'], ['인천광역시 부평구', '인천금마초등학교', '20', '380', '22'], ['인천광역시 남동구', '인천은봉초등학교', '25', '495', '28'], ['인천광역시 연수구', '인천해송초등학교', '31', '877', '37'], ['인천광역시 남동구', '인천정각초등학교', '49', '1399', '58'], ['인천광역시 남구', '인천경원초등학교', '48', '1403', '54'], ['인천광역시 남구', '인천학산초등학교', '43', '1047', '50'], ['인천광역시 남동구', '인천상아초등학교', '34', '951', '39'], ['인천광역시 남동구', '인천고잔초등학교', '41', '1022', '47'], ['인천광역시 서구', '인천공촌초등학교', '22', '491', '25'], ['인천광역시 남동구', '인천사리울초등학교', '24', '541', '26'], ['인천광역시 남동구', '인천송천초등학교', '27', '585', '30'], ['인천광역시 중구', '인천운남초등학교', '26', '478', '31'], ['인천광역시 남동구', '인천원동초등학교', '43', '1399', '52'], ['인천광역시 연수구', '인천신정초등학교', '50', '1500', '58'], ['인천광역시 서구', '인천초은초등학교', '46', '1130', '52'], ['인천광역시 서구', '인천가원초등학교', '53', '1222', '61'], ['인천광역시 서구', '인천청일초등학교', '43', '1065', '50'], ['인천광역시 서구', '인천도담초등학교', '38', '783', '43'], ['인천광역시 남동구', '인천장서초등학교', '45', '1354', '50'], ['인천광역시 연수구', '인천연송초등학교', '33', '817', '37'], ['인천광역시 연수구', '인천예송초등학교', '35', '553', '39'], ['인천광역시 연수구', '인천송일초등학교', '43', '1028', '49'], ['인천광역시 연수구', '인천첨단초등학교', '55', '1604', '63'], ['인천광역시 연수구', '인천송명초등학교', '44', '1354', '50'], ['인천광역시 연수구', '인천송원초등학교', '42', '1078', '48'], ['인천광역시 서구', '인천청람초등학교', '48', '1327', '54'], ['인천광역시 서구', '인천경명초등학교', '49', '1454', '58'], ['인천광역시 서구', '인천해원초등학교', '57', '1828', '68'], ['인천광역시 연수구', '인천미송초등학교', '31', '464', '34'], ['인천광역시 중구', '인천하늘초등학교', '43', '756', '49'], ['인천광역시 남구', '인천용학초등학교', '44', '1110', '50'], ['인천광역시 연수구', '인천명선초등학교', '42', '1084', '50'], ['인천광역시 남동구', '인천한빛초등학교', '58', '1630', '70'], ['인천광역시 중구', '인천중산초등학교', '43', '1170', '48'], ['광주광역시 북구', '광주교육대학교광주부설초등학교', '25', '593', '29'], ['광주광역시 북구', '각화초등학교', '20', '395', '25'], ['광주광역시 북구', '경양초등학교', '20', '397', '25'], ['광주광역시 동구', '광주계림초등학교', '28', '572', '32'], ['광주광역시 동구', '광주남초등학교', '28', '580', '32'], ['광주광역시 동구', '광주동산초등학교', '22', '392', '26'], ['광주광역시 북구', '광주동운초등학교', '16', '308', '20'], ['광주광역시 북구', '광주동초등학교', '7', '84', '9'], ['광주광역시 북구', '광주동초등학교충효분교장', '6', '41', '7'], ['광주광역시 북구', '광주문화초등학교', '32', '721', '36'], ['광주광역시 동구', '광주산수초등학교', '12', '169', '14'], ['광주광역시 북구', '광주서림초등학교', '16', '298', '21'], ['광주광역시 북구', '광주서산초등학교', '17', '336', '21'], ['광주광역시 동구', '광주서석초등학교', '9', '142', '18'], ['광주광역시 북구', '광주수창초등학교', '6', '73', '9'], ['광주광역시 북구', '광주양산초등학교', '29', '604', '34'], ['광주광역시 북구', '광주용봉초등학교', '13', '197', '16'], ['광주광역시 동구', '광주용산초등학교', '7', '78', '10'], ['광주광역시 북구', '광주우산초등학교', '12', '224', '16'], ['광주광역시 북구', '광주운암초등학교', '33', '704', '39'], ['광주광역시 동구', '광주장원초등학교', '12', '192', '15'], ['광주광역시 동구', '광주중앙초등학교', '6', '45', '8'], ['광주광역시 북구', '광주중흥초등학교', '7', '110', '9'], ['광주광역시 북구', '광주지산초등학교', '8', '110', '10'], ['광주광역시 북구', '광주풍향초등학교', '20', '387', '24'], ['광주광역시 동구', '광주학운초등학교', '24', '518', '28'], ['광주광역시 북구', '광주효동초등학교', '18', '297', '22'], ['광주광역시 북구', '대자초등학교', '38', '898', '43'], ['광주광역시 북구', '동림초등학교', '39', '806', '45'], ['광주광역시 북구', '두암초등학교', '24', '475', '29'], ['광주광역시 북구', '매곡초등학교', '23', '451', '28'], ['광주광역시 북구', '무등초등학교', '22', '417', '27'], ['광주광역시 북구', '문산초등학교', '32', '683', '40'], ['광주광역시 북구', '문정초등학교', '16', '307', '19'], ['광주광역시 북구', '문흥중앙초등학교', '26', '542', '30'], ['광주광역시 북구', '문흥초등학교', '18', '299', '24'], ['광주광역시 서구', '살레시오초등학교', '18', '535', '19'], ['광주광역시 북구', '삼각초등학교', '37', '838', '41'], ['광주광역시 북구', '삼정초등학교', '7', '68', '9'], ['광주광역시 북구', '서일초등학교', '22', '485', '25'], ['광주광역시 북구', '오정초등학교', '16', '309', '22'], ['광주광역시 북구', '오치초등학교', '14', '223', '17'], ['광주광역시 북구', '용두초등학교', '37', '826', '43'], ['광주광역시 북구', '용주초등학교', '21', '449', '27'], ['광주광역시 동구', '율곡초등학교', '20', '362', '26'], ['광주광역시 북구', '일곡초등학교', '34', '723', '40'], ['광주광역시 북구', '일동초등학교', '30', '594', '38'], ['광주광역시 북구', '일신초등학교', '23', '533', '27'], ['광주광역시 북구', '태봉초등학교', '47', '1093', '55'], ['광주광역시 서구', '광주광천초등학교', '22', '464', '30'], ['광주광역시 서구', '광주극락초등학교', '13', '212', '16'], ['광주광역시 남구', '광주농성초등학교', '21', '441', '26'], ['광주광역시 남구', '광주대성초등학교', '32', '693', '38'], ['광주광역시 남구', '광주방림초등학교', '29', '557', '33'], ['광주광역시 남구', '광주백운초등학교', '29', '558', '33'], ['광주광역시 남구', '광주봉주초등학교', '25', '469', '28'], ['광주광역시 남구', '광주삼육초등학교', '18', '606', '18'], ['광주광역시 서구', '광주상무초등학교', '26', '515', '31'], ['광주광역시 서구', '광주서초등학교', '30', '619', '35'], ['광주광역시 남구', '광주송원초등학교', '18', '569', '18'], ['광주광역시 서구', '광주양동초등학교', '7', '59', '9'], ['광주광역시 남구', '광주월산초등학교', '13', '206', '17'], ['광주광역시 남구', '광주제석초등학교', '29', '644', '34'], ['광주광역시 남구', '광주학강초등학교', '31', '613', '36'], ['광주광역시 서구', '광주화정초등학교', '19', '369', '23'], ['광주광역시 남구', '광주효덕초등학교', '37', '873', '46'], ['광주광역시 광산구', '금구초등학교', '26', '568', '30'], ['광주광역시 서구', '금당초등학교', '21', '380', '25'], ['광주광역시 서구', '금부초등학교', '27', '489', '32'], ['광주광역시 서구', '금호초등학교', '16', '277', '20'], ['광주광역시 남구', '대촌중앙초등학교', '13', '198', '16'], ['광주광역시 광산구', '동곡초등학교', '6', '61', '8'], ['광주광역시 서구', '마재초등학교', '24', '481', '28'], ['광주광역시 광산구', '마지초등학교', '34', '718', '38'], ['광주광역시 남구', '무학초등학교', '6', '56', '8'], ['광주광역시 광산구', '미산초등학교', '29', '623', '35'], ['광주광역시 광산구', '목련초등학교', '14', '256', '17'], ['광주광역시 서구', '성진초등학교', '20', '429', '24'], ['광주광역시 광산구', '본량초등학교', '6', '67', '8'], ['광주광역시 남구', '봉선초등학교', '21', '419', '26'], ['광주광역시 광산구', '비아초등학교', '20', '396', '25'], ['광주광역시 광산구', '산월초등학교', '13', '218', '17'], ['광주광역시 광산구', '삼도초등학교', '7', '52', '9'], ['광주광역시 서구', '서광초등학교', '22', '429', '25'], ['광주광역시 광산구', '송우초등학교', '22', '432', '26'], ['광주광역시 광산구', '송정동초등학교', '24', '502', '28'], ['광주광역시 광산구', '송정서초등학교', '21', '430', '24'], ['광주광역시 광산구', '송정중앙초등학교', '20', '409', '24'], ['광주광역시 광산구', '송정초등학교', '35', '757', '41'], ['광주광역시 서구', '송학초등학교', '9', '98', '11'], ['광주광역시 광산구', '신가초등학교', '10', '117', '13'], ['광주광역시 서구', '신암초등학교', '43', '954', '51'], ['광주광역시 광산구', '어등초등학교', '25', '498', '29'], ['광주광역시 서구', '염주초등학교', '30', '648', '35'], ['광주광역시 광산구', '운남초등학교', '39', '783', '47'], ['광주광역시 서구', '운천초등학교', '33', '692', '38'], ['광주광역시 광산구', '월계초등학교', '30', '651', '37'], ['광주광역시 광산구', '월곡초등학교', '35', '774', '41'], ['광주광역시 서구', '유덕초등학교', '26', '542', '33'], ['광주광역시 남구', '유안초등학교', '36', '825', '43'], ['광주광역시 서구', '유촌초등학교', '32', '727', '38'], ['광주광역시 광산구', '임곡초등학교', '6', '35', '8'], ['광주광역시 남구', '장산초등학교', '29', '578', '33'], ['광주광역시 광산구', '정암초등학교', '29', '572', '33'], ['광주광역시 남구', '조봉초등학교', '32', '899', '37'], ['광주광역시 서구', '주월초등학교', '49', '1238', '56'], ['광주광역시 광산구', '진만초등학교', '19', '353', '24'], ['광주광역시 남구', '진월초등학교', '32', '745', '38'], ['광주광역시 서구', '치평초등학교', '28', '597', '34'], ['광주광역시 광산구', '평동초등학교', '7', '82', '9'], ['광주광역시 서구', '풍암초등학교', '36', '792', '41'], ['광주광역시 광산구', '풍영초등학교', '35', '749', '39'], ['광주광역시 광산구', '하남중앙초등학교', '22', '362', '26'], ['광주광역시 광산구', '하남초등학교', '39', '918', '44'], ['광주광역시 서구', '화개초등학교', '42', '986', '50'], ['광주광역시 서구', '화정남초등학교', '28', '619', '32'], ['광주광역시 서구', '효광초등학교', '15', '287', '19'], ['광주광역시 서구', '계수초등학교', '19', '374', '23'], ['광주광역시 광산구', '첨단초등학교', '22', '437', '27'], ['광주광역시 서구', '운리초등학교', '24', '556', '30'], ['광주광역시 광산구', '대반초등학교', '31', '648', '41'], ['광주광역시 광산구', '어룡초등학교', '39', '861', '46'], ['광주광역시 북구', '문우초등학교', '19', '380', '23'], ['광주광역시 광산구', '영천초등학교', '21', '430', '24'], ['광주광역시 남구', '불로초등학교', '33', '793', '39'], ['광주광역시 광산구', '봉산초등학교', '42', '1112', '50'], ['광주광역시 광산구', '월봉초등학교', '42', '899', '48'], ['광주광역시 광산구', '선창초등학교', '48', '1157', '56'], ['광주광역시 광산구', '신창초등학교', '56', '1455', '64'], ['광주광역시 서구', '만호초등학교', '44', '1011', '54'], ['광주광역시 광산구', '수문초등학교', '46', '1044', '53'], ['광주광역시 북구', '본촌초등학교', '50', '1168', '61'], ['광주광역시 북구', '연제초등학교', '40', '880', '47'], ['광주광역시 북구', '양지초등학교', '36', '741', '41'], ['광주광역시 서구', '광림초등학교', '32', '749', '37'], ['광주광역시 서구', '빛고을초등학교', '35', '888', '40'], ['광주광역시 광산구', '도산초등학교', '17', '305', '22'], ['광주광역시 북구', '한울초등학교', '25', '534', '30'], ['광주광역시 북구', '하백초등학교', '33', '817', '39'], ['광주광역시 남구', '진남초등학교', '37', '751', '43'], ['광주광역시 광산구', '산정초등학교', '47', '1407', '55'], ['광주광역시 광산구', '고실초등학교', '45', '1405', '54'], ['광주광역시 광산구', '장덕초등학교', '52', '1147', '60'], ['광주광역시 광산구', '수완초등학교', '52', '1795', '62'], ['광주광역시 광산구', '큰별초등학교', '48', '1399', '56'], ['광주광역시 남구', '진제초등학교', '28', '669', '32'], ['광주광역시 광산구', '성덕초등학교', '56', '1323', '64'], ['광주광역시 광산구', '선운초등학교', '48', '1241', '55'], ['광주광역시 북구', '신용초등학교', '47', '1177', '54'], ['광주광역시 북구', '건국초등학교', '48', '1238', '56'], ['광주광역시 남구', '빛여울초등학교', '13', '272', '16'], ['광주광역시 남구', '효천초등학교', '43', '985', '48'], ['광주광역시 광산구', '은빛초등학교', '33', '822', '39'], ['광주광역시 광산구', '새별초등학교', '44', '1118', '51'], ['광주광역시 북구', '광주북초등학교', '6', '107', '8'], ['광주광역시 동구', '지한초등학교', '11', '177', '13'], ['대전광역시 동구', '대전가양초등학교', '35', '717', '43'], ['대전광역시 동구', '대전대동초등학교', '22', '390', '28'], ['대전광역시 동구', '대전대룡초등학교', '25', '513', '33'], ['대전광역시 중구', '대전대문초등학교', '19', '312', '22'], ['대전광역시 중구', '대전대신초등학교', '8', '82', '9'], ['대전광역시 동구', '대전대암초등학교', '13', '179', '16'], ['대전광역시 대덕구', '대전대양초등학교', '26', '488', '31'], ['대전광역시 대덕구', '대전대화초등학교', '19', '267', '25'], ['대전광역시 중구', '대전대흥초등학교', '32', '667', '40'], ['대전광역시 동구', '대전동광초등학교', '12', '156', '15'], ['대전광역시 대덕구', '대전동도초등학교', '13', '187', '16'], ['대전광역시 중구', '대전동문초등학교', '21', '395', '25'], ['대전광역시 대덕구', '대전동산초등학교', '20', '367', '25'], ['대전광역시 대덕구', '대전매봉초등학교', '39', '879', '47'], ['대전광역시 중구', '대전목동초등학교', '35', '756', '43'], ['대전광역시 대덕구', '대전목상초등학교', '23', '426', '29'], ['대전광역시 중구', '대전문성초등학교', '13', '180', '17'], ['대전광역시 중구', '대전문창초등학교', '14', '198', '18'], ['대전광역시 중구', '대전문화초등학교', '21', '372', '24'], ['대전광역시 중구', '대전버드내초등학교', '43', '1058', '52'], ['대전광역시 대덕구', '대전법동초등학교', '25', '411', '28'], ['대전광역시 중구', '대전보성초등학교', '21', '392', '26'], ['대전광역시 중구', '대전보운초등학교', '13', '189', '16'], ['대전광역시 중구', '대전산성초등학교', '32', '696', '38'], ['대전광역시 동구', '대전삼성초등학교', '15', '182', '18'], ['대전광역시 중구', '대전석교초등학교', '19', '281', '21'], ['대전광역시 대덕구', '대전석봉초등학교', '9', '124', '11'], ['대전광역시 중구', '대전선화초등학교', '14', '196', '17'], ['대전광역시 동구', '대전성남초등학교', '27', '549', '32'], ['대전광역시 대덕구', '대전송촌초등학교', '40', '895', '52'], ['대전광역시 중구', '대전신평초등학교', '27', '516', '33'], ['대전광역시 동구', '대전신흥초등학교', '43', '1012', '49'], ['대전광역시 대덕구', '대전양지초등학교', '19', '343', '24'], ['대전광역시 중구', '대전오류초등학교', '20', '338', '24'], ['대전광역시 중구', '대전옥계초등학교', '19', '290', '24'], ['대전광역시 동구', '대전용운초등학교', '12', '159', '17'], ['대전광역시 동구', '대전용전초등학교', '38', '828', '43'], ['대전광역시 중구', '대전원평초등학교', '20', '399', '25'], ['대전광역시 중구', '대전유평초등학교', '22', '424', '27'], ['대전광역시 동구', '대전자양초등학교', '14', '186', '16'], ['대전광역시 대덕구', '대전중리초등학교', '26', '445', '32'], ['대전광역시 중구', '대전중앙초등학교', '25', '508', '30'], ['대전광역시 대덕구', '대전중원초등학교', '28', '532', '35'], ['대전광역시 중구', '대전중촌초등학교', '15', '205', '18'], ['대전광역시 동구', '대전천동초등학교', '44', '1103', '54'], ['대전광역시 중구', '대전태평초등학교', '31', '668', '38'], ['대전광역시 동구', '대전판암초등학교', '27', '540', '31'], ['대전광역시 동구', '대전현암초등학교', '16', '233', '20'], ['대전광역시 대덕구', '대전화정초등학교', '19', '350', '23'], ['대전광역시 동구', '대전흥룡초등학교', '31', '602', '40'], ['대전광역시 동구', '동대전초등학교', '36', '754', '44'], ['대전광역시 동구', '동명초등학교', '7', '59', '8'], ['대전광역시 동구', '산내초등학교', '38', '815', '45'], ['대전광역시 중구', '산서초등학교', '6', '64', '7'], ['대전광역시 동구', '산흥초등학교', '6', '67', '7'], ['대전광역시 대덕구', '새일초등학교', '25', '422', '33'], ['대전광역시 중구', '서대전초등학교', '21', '390', '27'], ['대전광역시 중구', '대전성모초등학교', '24', '704', '42'], ['대전광역시 동구', '세천초등학교', '6', '41', '7'], ['대전광역시 대덕구', '신탄진용정초등학교', '19', '340', '28'], ['대전광역시 대덕구', '신탄진초등학교', '27', '485', '33'], ['대전광역시 대덕구', '와동초등학교', '19', '312', '22'], ['대전광역시 대덕구', '장동초등학교', '6', '66', '7'], ['대전광역시 대덕구', '회덕초등학교', '18', '274', '21'], ['대전광역시 서구', '가수원초등학교', '28', '578', '35'], ['대전광역시 유성구', '구즉초등학교', '25', '558', '29'], ['대전광역시 유성구', '금성초등학교', '29', '613', '34'], ['대전광역시 서구', '기성초등학교', '9', '64', '10'], ['대전광역시 서구', '기성초등학교길헌분교장', '4', '17', '4'], ['대전광역시 유성구', '남선초등학교', '6', '48', '7'], ['대전광역시 유성구', '대덕초등학교', '27', '519', '31'], ['대전광역시 서구', '대전가장초등학교', '36', '832', '43'], ['대전광역시 서구', '대전갈마초등학교', '25', '451', '28'], ['대전광역시 서구', '대전갑천초등학교', '34', '744', '39'], ['대전광역시 서구', '대전관저초등학교', '25', '499', '32'], ['대전광역시 서구', '대전구봉초등학교', '33', '713', '37'], ['대전광역시 서구', '대전금동초등학교', '26', '572', '34'], ['대전광역시 서구', '대전내동초등학교', '49', '1200', '57'], ['대전광역시 유성구', '대전노은초등학교', '42', '1082', '50'], ['대전광역시 서구', '대전도마초등학교', '32', '722', '38'], ['대전광역시 서구', '대전둔산초등학교', '30', '628', '39'], ['대전광역시 서구', '대전둔원초등학교', '40', '979', '46'], ['대전광역시 서구', '대전둔천초등학교', '18', '313', '21'], ['대전광역시 서구', '대전만년초등학교', '19', '342', '22'], ['대전광역시 서구', '대전문정초등학교', '28', '605', '32'], ['대전광역시 서구', '대전백운초등학교', '32', '660', '36'], ['대전광역시 서구', '대전변동초등학교', '20', '387', '24'], ['대전광역시 서구', '대전복수초등학교', '29', '595', '34'], ['대전광역시 서구', '대전봉산초등학교', '30', '633', '38'], ['대전광역시 서구', '대전삼육초등학교', '18', '587', '18'], ['대전광역시 서구', '대전삼천초등학교', '31', '692', '36'], ['대전광역시 유성구', '대전상지초등학교', '33', '714', '38'], ['대전광역시 서구', '대전샘머리초등학교', '40', '930', '48'], ['대전광역시 서구', '대전서부초등학교', '32', '677', '40'], ['대전광역시 서구', '대전서원초등학교', '35', '795', '40'], ['대전광역시 서구', '대전선암초등학교', '23', '529', '27'], ['대전광역시 서구', '대전성룡초등학교', '44', '1163', '53'], ['대전광역시 서구', '대전성천초등학교', '11', '129', '12'], ['대전광역시 유성구', '대전송강초등학교', '30', '590', '33'], ['대전광역시 유성구', '대전자운초등학교', '33', '655', '40'], ['대전광역시 유성구', '대전어은초등학교', '35', '759', '43'], ['대전광역시 서구', '대전월평초등학교', '14', '232', '16'], ['대전광역시 서구', '대전유천초등학교', '22', '438', '27'], ['대전광역시 유성구', '대전장대초등학교', '22', '382', '24'], ['대전광역시 유성구', '대전전민초등학교', '47', '1161', '55'], ['대전광역시 서구', '대전정림초등학교', '33', '721', '40'], ['대전광역시 유성구', '대전지족초등학교', '30', '649', '36'], ['대전광역시 서구', '대전탄방초등학교', '37', '824', '42'], ['대전광역시 유성구', '덕송초등학교', '13', '214', '14'], ['대전광역시 유성구', '문지초등학교', '29', '573', '33'], ['대전광역시 유성구', '봉암초등학교', '7', '60', '8'], ['대전광역시 유성구', '외삼초등학교', '34', '753', '39'], ['대전광역시 유성구', '유성초등학교', '13', '198', '16'], ['대전광역시 유성구', '진잠초등학교', '28', '568', '35'], ['대전광역시 유성구', '학하초등학교', '6', '74', '7'], ['대전광역시 서구', '한밭초등학교', '49', '1657', '57'], ['대전광역시 유성구', '흥도초등학교', '37', '940', '43'], ['대전광역시 서구', '대전수미초등학교', '11', '174', '12'], ['대전광역시 서구', '대전원앙초등학교', '22', '375', '28'], ['대전광역시 서구', '대전느리울초등학교', '38', '851', '44'], ['대전광역시 유성구', '대전두리초등학교', '34', '756', '42'], ['대전광역시 유성구', '대전대정초등학교', '22', '445', '25'], ['대전광역시 서구', '대전신계초등학교', '45', '1124', '53'], ['대전광역시 유성구', '대전하기초등학교', '34', '697', '44'], ['대전광역시 대덕구', '대전비래초등학교', '27', '527', '34'], ['대전광역시 중구', '대전목양초등학교', '37', '912', '46'], ['대전광역시 유성구', '대전동화초등학교', '32', '778', '36'], ['대전광역시 유성구', '대전반석초등학교', '51', '1528', '60'], ['대전광역시 유성구', '대전배울초등학교', '34', '768', '42'], ['대전광역시 동구', '대전가오초등학교', '39', '964', '47'], ['대전광역시 중구', '대전글꽃초등학교', '46', '1183', '54'], ['대전광역시 동구', '대전동서초등학교', '17', '317', '21'], ['대전광역시 동구', '대전은어송초등학교', '38', '1015', '45'], ['대전광역시 유성구', '대전교촌초등학교', '23', '425', '29'], ['대전광역시 유성구', '대전송림초등학교', '16', '332', '18'], ['대전광역시 유성구', '대전수정초등학교', '14', '246', '17'], ['대전광역시 유성구', '대전용산초등학교', '24', '453', '28'], ['대전광역시 유성구', '대전관평초등학교', '23', '475', '25'], ['대전광역시 유성구', '대전상대초등학교', '45', '1129', '50'], ['대전광역시 유성구', '대전봉명초등학교', '39', '963', '46'], ['대전광역시 유성구', '대덕초등학교도룡분교장', '7', '60', '8'], ['대전광역시 유성구', '대전계산초등학교', '21', '603', '25'], ['대전광역시 유성구', '대전상원초등학교', '30', '902', '37'], ['대전광역시 유성구', '대전원신흥초등학교', '22', '369', '25'], ['대전광역시 서구', '대전도안초등학교', '40', '1224', '47'], ['대전광역시 서구', '대전도솔초등학교', '50', '1315', '58'], ['대전광역시 유성구', '대전새미래초등학교', '34', '754', '40'], ['대전광역시 대덕구', '대전새여울초등학교', '27', '685', '32'], ['대전광역시 유성구', '대전죽동초등학교', '29', '609', '33'], ['대전광역시 서구', '대전선유초등학교', '33', '789', '38'], ['울산광역시 남구', '강남초등학교', '22', '482', '25'], ['울산광역시 남구', '개운초등학교', '28', '697', '33'], ['울산광역시 남구', '격동초등학교', '23', '579', '28'], ['울산광역시 울주군', '구영초등학교', '39', '972', '46'], ['울산광역시 울주군', '굴화초등학교', '27', '613', '32'], ['울산광역시 울주군', '상북초등학교소호분교장', '5', '28', '6'], ['울산광역시 남구', '대현초등학교', '41', '1002', '48'], ['울산광역시 울주군', '덕신초등학교', '31', '756', '39'], ['울산광역시 남구', '동백초등학교', '29', '702', '34'], ['울산광역시 남구', '동평초등학교', '14', '267', '18'], ['울산광역시 울주군', '두동초등학교', '6', '105', '7'], ['울산광역시 울주군', '두서초등학교', '5', '42', '8'], ['울산광역시 울주군', '명산초등학교', '6', '55', '8'], ['울산광역시 울주군', '무거초등학교', '49', '1267', '57'], ['울산광역시 울주군', '반곡초등학교', '7', '57', '9'], ['울산광역시 울주군', '반천초등학교', '8', '148', '10'], ['울산광역시 울주군', '방기초등학교', '8', '107', '10'], ['울산광역시 남구', '백합초등학교', '27', '640', '33'], ['울산광역시 울주군', '범서초등학교', '45', '1126', '54'], ['울산광역시 울주군', '삼동초등학교', '6', '47', '7'], ['울산광역시 남구', '삼산초등학교', '30', '712', '35'], ['울산광역시 남구', '삼신초등학교', '43', '1096', '48'], ['울산광역시 울주군', '삼정초등학교', '18', '391', '21'], ['울산광역시 울주군', '삼평초등학교', '6', '53', '7'], ['울산광역시 남구', '삼호초등학교', '16', '324', '19'], ['울산광역시 울주군', '서생초등학교', '8', '162', '10'], ['울산광역시 남구', '선암초등학교', '9', '153', '11'], ['울산광역시 울주군', '성동초등학교', '6', '99', '7'], ['울산광역시 남구', '수암초등학교', '27', '641', '28'], ['울산광역시 남구', '신정초등학교', '44', '1092', '55'], ['울산광역시 남구', '야음초등학교', '18', '238', '22'], ['울산광역시 울주군', '언양초등학교', '41', '831', '48'], ['울산광역시 남구', '여천초등학교', '6', '93', '7'], ['울산광역시 남구', '옥동초등학교', '35', '887', '41'], ['울산광역시 남구', '옥산초등학교', '28', '595', '34'], ['울산광역시 남구', '옥서초등학교', '16', '366', '20'], ['울산광역시 남구', '옥현초등학교', '18', '387', '21'], ['울산광역시 울주군', '온남초등학교', '46', '1269', '53'], ['울산광역시 울주군', '온양초등학교', '27', '577', '31'], ['울산광역시 남구', '울산남부초등학교', '30', '715', '36'], ['울산광역시 남구', '울산중앙초등학교', '14', '305', '17'], ['울산광역시 울주군', '웅촌초등학교', '9', '156', '10'], ['울산광역시 남구', '월봉초등학교', '30', '787', '36'], ['울산광역시 남구', '월평초등학교', '12', '197', '14'], ['울산광역시 남구', '장생포초등학교', '4', '23', '7'], ['울산광역시 울주군', '중남초등학교', '15', '289', '18'], ['울산광역시 울주군', '척과초등학교', '6', '48', '7'], ['울산광역시 울주군', '청량초등학교', '18', '296', '20'], ['울산광역시 울주군', '문수초등학교', '10', '178', '10'], ['울산광역시 북구', '강동초등학교', '46', '1234', '52'], ['울산광역시 동구', '남목초등학교', '31', '699', '35'], ['울산광역시 중구', '내황초등학교', '26', '622', '31'], ['울산광역시 동구', '녹수초등학교', '26', '633', '30'], ['울산광역시 북구', '농서초등학교', '44', '1171', '54'], ['울산광역시 북구', '농소초등학교', '15', '275', '18'], ['울산광역시 중구', '다운초등학교', '16', '373', '19'], ['울산광역시 동구', '동부초등학교', '35', '812', '42'], ['울산광역시 북구', '동천초등학교', '31', '673', '36'], ['울산광역시 동구', '명덕초등학교', '26', '611', '31'], ['울산광역시 중구', '명정초등학교', '32', '802', '38'], ['울산광역시 동구', '미포초등학교', '31', '764', '35'], ['울산광역시 동구', '방어진초등학교', '30', '743', '34'], ['울산광역시 중구', '병영초등학교', '20', '419', '23'], ['울산광역시 중구', '복산초등학교', '8', '70', '9'], ['울산광역시 중구', '삼일초등학교', '21', '458', '24'], ['울산광역시 동구', '상진초등학교', '22', '475', '27'], ['울산광역시 동구', '서부초등학교', '35', '870', '42'], ['울산광역시 북구', '송정초등학교', '35', '832', '41'], ['울산광역시 중구', '약사초등학교', '29', '685', '33'], ['울산광역시 북구', '약수초등학교', '7', '84', '9'], ['울산광역시 중구', '양사초등학교', '16', '277', '18'], ['울산광역시 북구', '연암초등학교', '23', '479', '27'], ['울산광역시 북구', '염포초등학교', '28', '604', '34'], ['울산광역시 중구', '옥성초등학교', '15', '273', '17'], ['울산광역시 중구', '우정초등학교', '33', '836', '40'], ['울산광역시 북구', '울산양정초등학교', '26', '574', '30'], ['울산광역시 중구', '울산초등학교', '48', '1226', '55'], ['울산광역시 동구', '일산초등학교', '15', '257', '17'], ['울산광역시 동구', '전하초등학교', '42', '1020', '46'], ['울산광역시 동구', '주전초등학교', '6', '57', '7'], ['울산광역시 중구', '태화초등학교', '38', '899', '45'], ['울산광역시 중구', '평산초등학교', '19', '437', '22'], ['울산광역시 중구', '학성초등학교', '24', '530', '28'], ['울산광역시 중구', '함월초등학교', '17', '382', '21'], ['울산광역시 북구', '호계초등학교', '15', '301', '20'], ['울산광역시 동구', '화암초등학교', '38', '892', '39'], ['울산광역시 동구', '화정초등학교', '29', '659', '35'], ['울산광역시 동구', '화진초등학교', '39', '955', '44'], ['울산광역시 북구', '연암초등학교효문분교장', '1', '2', '2'], ['울산광역시 울주군', '온산초등학교', '19', '435', '25'], ['울산광역시 남구', '도산초등학교', '17', '398', '21'], ['울산광역시 중구', '성안초등학교', '30', '763', '37'], ['울산광역시 동구', '양지초등학교', '19', '410', '23'], ['울산광역시 북구', '명촌초등학교', '33', '818', '39'], ['울산광역시 울주군', '천상초등학교', '31', '743', '37'], ['울산광역시 울주군', '영화초등학교', '41', '1047', '45'], ['울산광역시 북구', '이화초등학교', '22', '507', '27'], ['울산광역시 남구', '용연초등학교', '31', '797', '37'], ['울산광역시 남구', '월계초등학교', '18', '386', '21'], ['울산광역시 남구', '남산초등학교', '25', '599', '30'], ['울산광역시 남구', '신복초등학교', '21', '456', '24'], ['울산광역시 중구', '무룡초등학교', '23', '520', '27'], ['울산광역시 북구', '신천초등학교', '28', '629', '32'], ['울산광역시 북구', '천곡초등학교', '42', '998', '51'], ['울산광역시 동구', '문현초등학교', '26', '651', '30'], ['울산광역시 중구', '남외초등학교', '33', '829', '38'], ['울산광역시 북구', '상안초등학교', '37', '910', '45'], ['울산광역시 북구', '매곡초등학교', '43', '1025', '50'], ['울산광역시 중구', '백양초등학교', '34', '885', '41'], ['울산광역시 남구', '청솔초등학교', '32', '800', '36'], ['울산광역시 울주군', '호연초등학교', '27', '658', '32'], ['울산광역시 중구', '다전초등학교', '15', '315', '18'], ['울산광역시 울주군', '울주명지초등학교', '37', '874', '43'], ['울산광역시 북구', '화봉초등학교', '31', '586', '36'], ['울산광역시 북구', '동대초등학교', '25', '595', '30'], ['울산광역시 북구', '매산초등학교', '44', '1169', '52'], ['울산광역시 울주군', '상북초등학교', '13', '215', '16'], ['울산광역시 중구', '외솔초등학교', '29', '804', '31'], ['울산광역시 북구', '중산초등학교', '47', '1087', '55'], ['울산광역시 북구', '은월초등학교', '28', '654', '31'], ['울산광역시 북구', '고헌초등학교', '27', '328', '30'], ['울산광역시 울주군', '웅촌초등학교검단분교장', '1', '4', '2'], ['세종특별자치시 세종특별자치시', '의랑초등학교', '6', '63', '7'], ['세종특별자치시 세종특별자치시', '장기초등학교', '7', '106', '10'], ['세종특별자치시 세종특별자치시', '감성초등학교', '7', '94', '8'], ['세종특별자치시 세종특별자치시', '금남초등학교', '13', '217', '16'], ['세종특별자치시 세종특별자치시', '소정초등학교', '7', '111', '8'], ['세종특별자치시 세종특별자치시', '수왕초등학교', '6', '72', '7'], ['세종특별자치시 세종특별자치시', '쌍류초등학교', '8', '74', '9'], ['세종특별자치시 세종특별자치시', '연남초등학교', '7', '70', '8'], ['세종특별자치시 세종특별자치시', '연동초등학교', '7', '63', '8'], ['세종특별자치시 세종특별자치시', '연봉초등학교', '12', '158', '14'], ['세종특별자치시 세종특별자치시', '연서초등학교', '11', '144', '12'], ['세종특별자치시 세종특별자치시', '전동초등학교', '7', '69', '7'], ['세종특별자치시 세종특별자치시', '전의초등학교', '12', '208', '15'], ['세종특별자치시 세종특별자치시', '조치원교동초등학교', '15', '288', '16'], ['세종특별자치시 세종특별자치시', '조치원대동초등학교', '38', '869', '40'], ['세종특별자치시 세종특별자치시', '조치원명동초등학교', '13', '190', '14'], ['세종특별자치시 세종특별자치시', '조치원신봉초등학교', '19', '392', '23'], ['세종특별자치시 세종특별자치시', '세종도원초등학교', '37', '799', '42'], ['세종특별자치시 세종특별자치시', '참샘초등학교', '33', '739', '38'], ['세종특별자치시 세종특별자치시', '부강초등학교', '13', '252', '16'], ['세종특별자치시 세종특별자치시', '한솔초등학교', '35', '718', '39'], ['세종특별자치시 세종특별자치시', '양지초등학교', '27', '587', '30'], ['세종특별자치시 세종특별자치시', '연양초등학교', '53', '1185', '61'], ['세종특별자치시 세종특별자치시', '아름초등학교', '56', '1317', '65'], ['세종특별자치시 세종특별자치시', '나래초등학교', '53', '1229', '61'], ['세종특별자치시 세종특별자치시', '도담초등학교', '63', '1528', '73'], ['세종특별자치시 세종특별자치시', '미르초등학교', '38', '854', '48'], ['세종특별자치시 세종특별자치시', '두루초등학교', '49', '1082', '56'], ['세종특별자치시 세종특별자치시', '가락초등학교', '23', '480', '27'], ['세종특별자치시 세종특별자치시', '으뜸초등학교', '24', '457', '27'], ['세종특별자치시 세종특별자치시', '고운초등학교', '44', '1063', '52'], ['세종특별자치시 세종특별자치시', '온빛초등학교', '47', '1071', '55'], ['세종특별자치시 세종특별자치시', '종촌초등학교', '44', '986', '51'], ['세종특별자치시 세종특별자치시', '늘봄초등학교', '26', '463', '30'], ['세종특별자치시 세종특별자치시', '연세초등학교', '27', '579', '31'], ['세종특별자치시 세종특별자치시', '다빛초등학교', '25', '519', '28'], ['세종특별자치시 세종특별자치시', '소담초등학교', '46', '1039', '53'], ['세종특별자치시 세종특별자치시', '보람초등학교', '55', '1298', '64'], ['세종특별자치시 세종특별자치시', '여울초등학교', '27', '472', '31'], ['세종특별자치시 세종특별자치시', '가득초등학교', '29', '649', '32'], ['세종특별자치시 세종특별자치시', '새뜸초등학교', '26', '541', '31'], ['세종특별자치시 세종특별자치시', '새롬초등학교', '51', '1192', '59'], ['세종특별자치시 세종특별자치시', '글벗초등학교', '30', '685', '33'], ['세종특별자치시 세종특별자치시', '솔빛초등학교', '13', '79', '16'], ['세종특별자치시 세종특별자치시', '대평초등학교', '34', '679', '39'], ['세종특별자치시 세종특별자치시', '새움초등학교', '17', '310', '19'], ['세종특별자치시 세종특별자치시', '다정초등학교', '50', '918', '57'], ['세종특별자치시 세종특별자치시', '한결초등학교', '38', '934', '42'], ['경기도 가평군', '가평마장초등학교', '7', '80', '9'], ['경기도 가평군', '가평초등학교', '33', '818', '40'], ['경기도 가평군', '대성초등학교', '7', '85', '8'], ['경기도 가평군', '목동초등학교', '7', '99', '8'], ['경기도 가평군', '목동초등학교명지분교장', '3', '14', '4'], ['경기도 가평군', '미원초등학교', '13', '290', '18'], ['경기도 가평군', '미원초등학교위곡분교장', '5', '32', '6'], ['경기도 가평군', '미원초등학교장락분교장', '4', '9', '5'], ['경기도 가평군', '방일초등학교', '7', '59', '8'], ['경기도 가평군', '상면초등학교', '7', '82', '9'], ['경기도 가평군', '상색초등학교', '7', '39', '8'], ['경기도 가평군', '상천초등학교', '6', '62', '7'], ['경기도 가평군', '연하초등학교', '7', '86', '8'], ['경기도 가평군', '율길초등학교', '6', '53', '7'], ['경기도 가평군', '조종초등학교', '18', '370', '19'], ['경기도 가평군', '청평초등학교', '21', '405', '23'], ['경기도 고양시 덕양구', '가람초등학교', '24', '550', '30'], ['경기도 고양시 일산서구', '강선초등학교', '32', '849', '39'], ['경기도 고양시 일산동구', '고봉초등학교', '18', '408', '21'], ['경기도 고양시 일산동구', '고양백석초등학교', '27', '735', '32'], ['경기도 고양시 일산서구', '고양신일초등학교', '31', '863', '39'], ['경기도 고양시 덕양구', '고양용현초등학교', '17', '367', '20'], ['경기도 고양시 덕양구', '고양초등학교', '29', '637', '33'], ['경기도 고양시 덕양구', '고양화수초등학교', '31', '843', '38'], ['경기도 고양시 덕양구', '고양화정초등학교', '45', '1275', '54'], ['경기도 고양시 일산동구', '금계초등학교', '21', '501', '28'], ['경기도 고양시 일산동구', '낙민초등학교', '29', '793', '34'], ['경기도 고양시 덕양구', '내유초등학교', '33', '861', '38'], ['경기도 고양시 일산동구', '냉천초등학교', '19', '420', '21'], ['경기도 고양시 덕양구', '능곡초등학교', '29', '681', '35'], ['경기도 고양시 덕양구', '대곡초등학교', '8', '173', '12'], ['경기도 고양시 일산서구', '대화초등학교', '23', '599', '28'], ['경기도 고양시 덕양구', '덕은초등학교', '13', '251', '17'], ['경기도 고양시 일산서구', '덕이초등학교', '13', '289', '16'], ['경기도 고양시 덕양구', '무원초등학교', '35', '951', '41'], ['경기도 고양시 일산서구', '문촌초등학교', '21', '458', '26'], ['경기도 고양시 일산서구', '문화초등학교', '33', '861', '42'], ['경기도 고양시 일산동구', '백마초등학교', '30', '715', '38'], ['경기도 고양시 일산동구', '백신초등학교', '22', '556', '26'], ['경기도 고양시 덕양구', '백양초등학교', '16', '363', '19'], ['경기도 고양시 일산동구', '벽제초등학교', '17', '411', '18'], ['경기도 고양시 덕양구', '삼송초등학교', '46', '1180', '53'], ['경기도 고양시 일산서구', '상탄초등학교', '43', '1110', '49'], ['경기도 고양시 덕양구', '성라초등학교', '23', '592', '28'], ['경기도 고양시 덕양구', '성사초등학교', '41', '999', '47'], ['경기도 고양시 일산동구', '성석초등학교', '7', '122', '8'], ['경기도 고양시 덕양구', '성신초등학교', '28', '713', '35'], ['경기도 고양시 일산서구', '성저초등학교', '21', '443', '26'], ['경기도 고양시 덕양구', '소만초등학교', '19', '425', '21'], ['경기도 고양시 일산서구', '송포초등학교', '22', '548', '26'], ['경기도 고양시 일산동구', '일산은행초등학교', '16', '361', '19'], ['경기도 고양시 덕양구', '신능초등학교', '14', '295', '17'], ['경기도 고양시 덕양구', '신원초등학교', '48', '1353', '57'], ['경기도 고양시 일산서구', '신촌초등학교', '24', '632', '32'], ['경기도 고양시 일산동구', '안곡초등학교', '22', '587', '26'], ['경기도 고양시 일산서구', '오마초등학교', '48', '1389', '60'], ['경기도 고양시 덕양구', '용두초등학교', '7', '44', '8'], ['경기도 고양시 덕양구', '용정초등학교', '14', '223', '18'], ['경기도 고양시 덕양구', '원당초등학교', '26', '633', '28'], ['경기도 고양시 일산동구', '원중초등학교', '37', '961', '42'], ['경기도 고양시 일산동구', '율동초등학교', '16', '368', '18'], ['경기도 고양시 일산서구', '일산초등학교', '20', '385', '23'], ['경기도 고양시 일산서구', '장성초등학교', '17', '390', '19'], ['경기도 고양시 일산서구', '장촌초등학교', '17', '351', '20'], ['경기도 고양시 일산동구', '저동초등학교', '22', '544', '26'], ['경기도 고양시 일산동구', '정발초등학교', '40', '1105', '48'], ['경기도 고양시 일산서구', '주엽초등학교', '25', '613', '31'], ['경기도 고양시 일산동구', '중산초등학교', '19', '490', '23'], ['경기도 고양시 덕양구', '지도초등학교', '31', '840', '38'], ['경기도 고양시 덕양구', '토당초등학교', '17', '350', '23'], ['경기도 고양시 일산동구', '풍산초등학교', '41', '1051', '51'], ['경기도 고양시 일산서구', '한수초등학교', '28', '691', '35'], ['경기도 고양시 덕양구', '행남초등학교', '13', '265', '16'], ['경기도 고양시 덕양구', '행신초등학교', '20', '418', '24'], ['경기도 고양시 덕양구', '행주초등학교', '6', '78', '7'], ['경기도 고양시 일산서구', '현산초등학교', '34', '935', '40'], ['경기도 고양시 일산서구', '호곡초등학교', '45', '1225', '50'], ['경기도 고양시 일산동구', '호수초등학교', '23', '579', '28'], ['경기도 고양시 덕양구', '화중초등학교', '23', '570', '27'], ['경기도 고양시 일산서구', '황룡초등학교', '22', '484', '26'], ['경기도 고양시 덕양구', '흥도초등학교', '47', '1330', '54'], ['경기도 광명시', '가림초등학교', '26', '593', '33'], ['경기도 광명시', '광명광덕초등학교', '30', '711', '34'], ['경기도 광명시', '광명광성초등학교', '36', '969', '46'], ['경기도 광명시', '광명남초등학교', '21', '487', '26'], ['경기도 광명시', '광명동초등학교', '20', '418', '25'], ['경기도 광명시', '광명북초등학교', '40', '1058', '47'], ['경기도 광명시', '광명서초등학교', '31', '787', '36'], ['경기도 광명시', '광명초등학교', '27', '663', '34'], ['경기도 광명시', '광문초등학교', '28', '712', '35'], ['경기도 광명시', '광일초등학교', '32', '743', '39'], ['경기도 광명시', '도덕초등학교', '9', '142', '10'], ['경기도 광명시', '서면초등학교', '28', '655', '34'], ['경기도 광명시', '소하초등학교', '44', '1178', '54'], ['경기도 광명시', '안서초등학교', '6', '42', '9'], ['경기도 광명시', '연서초등학교', '20', '483', '24'], ['경기도 광명시', '온신초등학교', '7', '51', '8'], ['경기도 광명시', '철산초등학교', '58', '1639', '70'], ['경기도 광명시', '하안남초등학교', '20', '476', '23'], ['경기도 광명시', '하안북초등학교', '20', '467', '24'], ['경기도 광명시', '하안초등학교', '25', '566', '30'], ['경기도 광명시', '하일초등학교', '20', '535', '25'], ['경기도 광주시', '경안초등학교', '23', '563', '28'], ['경기도 하남시', '고골초등학교', '7', '67', '8'], ['경기도 광주시', '곤지암초등학교', '25', '550', '29'], ['경기도 광주시', '광남초등학교', '43', '1150', '49'], ['경기도 광주시', '광주광명초등학교', '48', '1731', '58'], ['경기도 광주시', '광주매곡초등학교', '46', '1392', '49'], ['경기도 광주시', '광주초등학교', '44', '1197', '51'], ['경기도 광주시', '광지원초등학교', '7', '69', '9'], ['경기도 광주시', '남한산초등학교', '6', '144', '7'], ['경기도 하남시', '덕풍초등학교', '23', '572', '28'], ['경기도 광주시', '도곡초등학교', '43', '1176', '50'], ['경기도 광주시', '도궁초등학교', '6', '109', '7'], ['경기도 광주시', '도수초등학교', '23', '639', '28'], ['경기도 남양주시', '도심초등학교', '25', '586', '30'], ['경기도 광주시', '도척초등학교', '13', '279', '16'], ['경기도 하남시', '동부초등학교', '29', '660', '37'], ['경기도 광주시', '만선초등학교', '7', '79', '8'], ['경기도 하남시', '망월초등학교', '59', '1670', '69'], ['경기도 광주시', '번천초등학교', '6', '85', '7'], ['경기도 광주시', '분원초등학교', '6', '100', '7'], ['경기도 하남시', '산곡초등학교', '6', '116', '8'], ['경기도 광주시', '삼리초등학교', '27', '658', '35'], ['경기도 하남시', '서부초등학교', '7', '47', '8'], ['경기도 광주시', '선동초등학교', '7', '81', '8'], ['경기도 하남시', '신장초등학교', '20', '463', '23'], ['경기도 광주시', '쌍령초등학교', '39', '958', '46'], ['경기도 광주시', '오포초등학교', '26', '624', '31'], ['경기도 하남시', '창우초등학교', '23', '565', '28'], ['경기도 광주시', '초월초등학교', '12', '226', '14'], ['경기도 광주시', '탄벌초등학교', '64', '2178', '71'], ['경기도 광주시', '태전초등학교', '39', '1092', '48'], ['경기도 하남시', '하남천현초등학교', '16', '352', '20'], ['경기도 하남시', '하남초등학교', '26', '662', '31'], ['경기도 의왕시', '갈뫼초등학교', '22', '550', '29'], ['경기도 의왕시', '고천초등학교', '20', '421', '25'], ['경기도 군포시', '곡란초등학교', '15', '355', '15'], ['경기도 군포시', '관모초등학교', '13', '257', '15'], ['경기도 군포시', '광정초등학교', '24', '602', '31'], ['경기도 군포시', '군포양정초등학교', '36', '907', '43'], ['경기도 군포시', '군포옥천초등학교', '14', '337', '17'], ['경기도 군포시', '군포초등학교', '41', '1027', '50'], ['경기도 군포시', '군포화산초등학교', '17', '345', '21'], ['경기도 군포시', '궁내초등학교', '24', '655', '31'], ['경기도 군포시', '금정초등학교', '29', '639', '34'], ['경기도 의왕시', '내손초등학교', '14', '302', '16'], ['경기도 군포시', '능내초등학교', '22', '614', '29'], ['경기도 의왕시', '덕장초등학교', '21', '510', '27'], ['경기도 군포시', '도장초등학교', '11', '177', '14'], ['경기도 군포시', '둔대초등학교', '14', '292', '17'], ['경기도 군포시', '둔전초등학교', '35', '890', '42'], ['경기도 의왕시', '백운초등학교', '32', '798', '42'], ['경기도 군포시', '산본초등학교', '27', '749', '30'], ['경기도 군포시', '수리초등학교', '12', '248', '14'], ['경기도 군포시', '신흥초등학교', '21', '554', '28'], ['경기도 군포시', '오금초등학교', '19', '448', '26'], ['경기도 의왕시', '오전초등학교', '20', '363', '26'], ['경기도 의왕시', '왕곡초등학교', '19', '394', '24'], ['경기도 군포시', '용호초등학교', '14', '311', '16'], ['경기도 의왕시', '의왕덕성초등학교', '29', '736', '34'], ['경기도 의왕시', '의왕부곡초등학교', '28', '577', '37'], ['경기도 의왕시', '의왕초등학교', '38', '1027', '45'], ['경기도 군포시', '태을초등학교', '19', '488', '25'], ['경기도 군포시', '흥진초등학교', '27', '706', '32'], ['경기도 김포시', '감정초등학교', '36', '990', '43'], ['경기도 김포시', '개곡초등학교', '6', '77', '7'], ['경기도 김포시', '고창초등학교', '28', '699', '33'], ['경기도 김포시', '고촌초등학교', '26', '680', '31'], ['경기도 김포시', '금란초등학교', '7', '138', '9'], ['경기도 김포시', '금성초등학교', '6', '68', '7'], ['경기도 김포시', '금파초등학교', '29', '806', '35'], ['경기도 김포시', '양도초등학교', '32', '884', '38'], ['경기도 김포시', '김포대명초등학교', '6', '49', '7'], ['경기도 김포시', '김포서초등학교', '28', '690', '34'], ['경기도 김포시', '김포초등학교', '16', '365', '19'], ['경기도 김포시', '대곶초등학교', '9', '160', '12'], ['경기도 김포시', '마송초등학교', '10', '193', '12'], ['경기도 김포시', '사우초등학교', '34', '856', '41'], ['경기도 김포시', '서암초등학교', '13', '257', '16'], ['경기도 김포시', '석정초등학교', '7', '69', '10'], ['경기도 김포시', '수남초등학교', '6', '105', '7'], ['경기도 김포시', '양곡초등학교', '19', '375', '22'], ['경기도 김포시', '옹정초등학교', '6', '79', '7'], ['경기도 김포시', '운양초등학교', '43', '1189', '51'], ['경기도 김포시', '월곶초등학교', '7', '81', '8'], ['경기도 김포시', '유현초등학교', '50', '1463', '61'], ['경기도 김포시', '풍무초등학교', '41', '1151', '48'], ['경기도 김포시', '하성초등학교', '7', '137', '9'], ['경기도 김포시', '학운초등학교', '15', '351', '17'], ['경기도 남양주시', '가곡초등학교', '17', '403', '19'], ['경기도 남양주시', '가양초등학교', '6', '81', '7'], ['경기도 구리시', '갈매초등학교', '38', '1021', '46'], ['경기도 남양주시', '광릉초등학교', '18', '364', '22'], ['경기도 구리시', '교문초등학교', '22', '481', '28'], ['경기도 구리시', '구리초등학교', '20', '462', '26'], ['경기도 구리시', '구지초등학교', '33', '874', '41'], ['경기도 남양주시', '금교초등학교', '27', '664', '33'], ['경기도 남양주시', '금남초등학교', '7', '48', '8'], ['경기도 남양주시', '남양주금곡초등학교', '18', '389', '21'], ['경기도 남양주시', '남양주도곡초등학교', '31', '754', '37'], ['경기도 남양주시', '남양주동곡초등학교', '14', '303', '17'], ['경기도 남양주시', '남양주미금초등학교', '26', '689', '31'], ['경기도 남양주시', '남양주송라초등학교', '40', '1033', '50'], ['경기도 남양주시', '남양주송촌초등학교', '6', '95', '7'], ['경기도 남양주시', '남양주양정초등학교', '21', '439', '26'], ['경기도 남양주시', '남양주양지초등학교', '22', '527', '25'], ['경기도 남양주시', '남양주월문초등학교', '6', '99', '7'], ['경기도 구리시', '내양초등학교', '7', '52', '8'], ['경기도 남양주시', '답내초등학교', '9', '167', '10'], ['경기도 남양주시', '덕소초등학교', '23', '489', '25'], ['경기도 남양주시', '도농초등학교', '30', '807', '34'], ['경기도 구리시', '도림초등학교', '11', '177', '14'], ['경기도 남양주시', '도제원초등학교', '26', '709', '31'], ['경기도 구리시', '동구초등학교', '21', '509', '25'], ['경기도 구리시', '동인초등학교', '46', '1273', '53'], ['경기도 남양주시', '마석초등학교', '35', '878', '41'], ['경기도 구리시', '백문초등학교', '40', '1040', '48'], ['경기도 남양주시', '별내초등학교', '38', '1008', '46'], ['경기도 구리시', '부양초등학교', '28', '687', '34'], ['경기도 남양주시', '수동초등학교', '7', '128', '7'], ['경기도 남양주시', '수동초등학교송천분교장', '7', '106', '8'], ['경기도 구리시', '수택초등학교', '25', '587', '30'], ['경기도 남양주시', '심석초등학교', '16', '456', '25'], ['경기도 남양주시', '오남초등학교', '19', '415', '23'], ['경기도 남양주시', '와부초등학교', '45', '1188', '54'], ['경기도 남양주시', '용신초등학교', '15', '327', '18'], ['경기도 구리시', '인창초등학교', '27', '597', '34'], ['경기도 남양주시', '장승초등학교', '36', '1016', '45'], ['경기도 구리시', '장자초등학교', '32', '880', '39'], ['경기도 남양주시', '장현초등학교', '31', '785', '38'], ['경기도 남양주시', '조안초등학교', '6', '102', '7'], ['경기도 남양주시', '진건초등학교', '20', '456', '25'], ['경기도 남양주시', '창현초등학교', '36', '966', '42'], ['경기도 남양주시', '천마초등학교', '36', '941', '43'], ['경기도 구리시', '토평초등학교', '21', '437', '25'], ['경기도 남양주시', '퇴계원초등학교', '27', '664', '32'], ['경기도 남양주시', '평내초등학교', '13', '264', '17'], ['경기도 남양주시', '풍양초등학교', '14', '295', '16'], ['경기도 남양주시', '호평초등학교', '36', '1017', '43'], ['경기도 남양주시', '화접초등학교', '33', '868', '40'], ['경기도 양주시', '가납초등학교', '20', '447', '25'], ['경기도 양주시', '고암초등학교', '20', '432', '25'], ['경기도 양주시', '남면초등학교', '10', '182', '13'], ['경기도 양주시', '남면초등학교양덕분교장', '7', '36', '8'], ['경기도 양주시', '덕도초등학교', '6', '58', '7'], ['경기도 양주시', '덕정초등학교', '16', '323', '18'], ['경기도 동두천시', '동두천초등학교', '13', '246', '16'], ['경기도 동두천시', '동보초등학교', '9', '163', '12'], ['경기도 동두천시', '보산초등학교', '13', '216', '17'], ['경기도 양주시', '봉암초등학교', '6', '50', '7'], ['경기도 동두천시', '사동초등학교', '25', '566', '31'], ['경기도 양주시', '산북초등학교', '7', '91', '8'], ['경기도 양주시', '삼상초등학교', '7', '86', '8'], ['경기도 양주시', '상수초등학교', '6', '90', '8'], ['경기도 양주시', '상패초등학교', '7', '72', '10'], ['경기도 동두천시', '생연초등학교', '20', '390', '23'], ['경기도 동두천시', '소요초등학교', '6', '71', '7'], ['경기도 양주시', '송추초등학교', '8', '165', '11'], ['경기도 양주시', '양주덕산초등학교', '19', '380', '22'], ['경기도 양주시', '양주덕현초등학교', '40', '1140', '48'], ['경기도 양주시', '양주백석초등학교', '14', '286', '17'], ['경기도 양주시', '연곡초등학교', '6', '88', '7'], ['경기도 양주시', '유양초등학교', '6', '52', '7'], ['경기도 양주시', '은봉초등학교', '20', '462', '24'], ['경기도 양주시', '은현초등학교', '7', '80', '8'], ['경기도 동두천시', '지행초등학교', '41', '1127', '45'], ['경기도 양주시', '천보초등학교', '13', '235', '17'], ['경기도 양주시', '칠봉초등학교', '22', '536', '26'], ['경기도 동두천시', '탑동초등학교', '8', '132', '10'], ['경기도 양주시', '회정초등학교', '12', '280', '15'], ['경기도 양주시', '회천초등학교', '24', '609', '28'], ['경기도 양주시', '효촌초등학교', '6', '53', '8'], ['경기도 부천시', '계남초등학교', '37', '1006', '44'], ['경기도 부천시', '고강초등학교', '26', '639', '31'], ['경기도 부천시', '고리울초등학교', '24', '569', '29'], ['경기도 부천시', '까치울초등학교', '14', '274', '17'], ['경기도 부천시', '도당초등학교', '42', '1089', '51'], ['경기도 부천시', '도원초등학교', '19', '399', '22'], ['경기도 부천시', '동곡초등학교', '27', '700', '35'], ['경기도 부천시', '범박초등학교', '27', '645', '32'], ['경기도 부천시', '복사초등학교', '8', '149', '10'], ['경기도 부천시', '부광초등학교', '16', '306', '19'], ['경기도 부천시', '부명초등학교', '18', '379', '21'], ['경기도 부천시', '부원초등학교', '14', '359', '18'], ['경기도 부천시', '부인초등학교', '22', '523', '26'], ['경기도 부천시', '부일초등학교', '16', '284', '19'], ['경기도 부천시', '부천남초등학교', '33', '864', '39'], ['경기도 부천시', '부천대명초등학교', '31', '770', '38'], ['경기도 부천시', '부천덕산초등학교', '31', '784', '35'], ['경기도 부천시', '부천덕산초등학교대장분교장', '1', '2', '1'], ['경기도 부천시', '부천동초등학교', '27', '590', '32'], ['경기도 부천시', '부천부곡초등학교', '20', '460', '25'], ['경기도 부천시', '부천부안초등학교', '24', '610', '30'], ['경기도 부천시', '부천부흥초등학교', '31', '753', '36'], ['경기도 부천시', '부천북초등학교', '36', '946', '43'], ['경기도 부천시', '부천삼정초등학교', '15', '324', '18'], ['경기도 부천시', '부천서초등학교', '33', '843', '39'], ['경기도 부천시', '부천수주초등학교', '20', '482', '24'], ['경기도 부천시', '부천신흥초등학교', '20', '424', '25'], ['경기도 부천시', '부천여월초등학교', '24', '604', '30'], ['경기도 부천시', '부천역곡초등학교', '29', '706', '34'], ['경기도 부천시', '부천원일초등학교', '20', '462', '25'], ['경기도 부천시', '부천중앙초등학교', '27', '704', '33'], ['경기도 부천시', '부천중원초등학교', '12', '228', '15'], ['경기도 부천시', '부천초등학교', '21', '443', '26'], ['경기도 부천시', '상도초등학교', '19', '470', '25'], ['경기도 부천시', '상동초등학교', '37', '988', '44'], ['경기도 부천시', '상원초등학교', '26', '603', '27'], ['경기도 부천시', '상인초등학교', '47', '1263', '57'], ['경기도 부천시', '상일초등학교', '42', '1189', '49'], ['경기도 부천시', '상지초등학교', '19', '446', '24'], ['경기도 부천시', '성주초등학교', '28', '712', '34'], ['경기도 부천시', '소사초등학교', '30', '725', '36'], ['경기도 부천시', '송내초등학교', '14', '272', '18'], ['경기도 부천시', '신도초등학교', '30', '784', '36'], ['경기도 부천시', '소일초등학교', '17', '364', '19'], ['경기도 부천시', '심곡초등학교', '27', '628', '33'], ['경기도 부천시', '심원초등학교', '29', '738', '38'], ['경기도 부천시', '약대초등학교', '16', '375', '22'], ['경기도 부천시', '오정초등학교', '28', '695', '37'], ['경기도 부천시', '원미초등학교', '30', '674', '34'], ['경기도 부천시', '원종초등학교', '30', '771', '37'], ['경기도 부천시', '중흥초등학교', '35', '912', '43'], ['경기도 부천시', '창영초등학교', '36', '916', '43'], ['경기도 성남시 중원구', '검단초등학교', '23', '555', '27'], ['경기도 성남시 분당구', '구미초등학교', '22', '583', '26'], ['경기도 성남시 수정구', '금빛초등학교', '22', '473', '26'], ['경기도 성남시 중원구', '금상초등학교', '15', '328', '18'], ['경기도 성남시 분당구', '낙생초등학교', '43', '1211', '50'], ['경기도 성남시 분당구', '내정초등학교', '38', '1162', '46'], ['경기도 성남시 중원구', '단남초등학교', '13', '274', '16'], ['경기도 성남시 수정구', '단대초등학교', '40', '1052', '47'], ['경기도 성남시 분당구', '당촌초등학교', '33', '936', '39'], ['경기도 성남시 중원구', '대원초등학교', '20', '442', '26'], ['경기도 성남시 중원구', '대일초등학교', '19', '398', '23'], ['경기도 성남시 중원구', '대하초등학교', '30', '754', '36'], ['경기도 성남시 분당구', '돌마초등학교', '19', '491', '23'], ['경기도 성남시 분당구', '백현초등학교', '9', '135', '10'], ['경기도 성남시 수정구', '복정초등학교', '15', '339', '17'], ['경기도 성남시 분당구', '분당초등학교', '35', '1041', '41'], ['경기도 성남시 분당구', '불곡초등학교', '25', '592', '31'], ['경기도 성남시 분당구', '불정초등학교', '31', '830', '39'], ['경기도 성남시 중원구', '상대원초등학교', '13', '242', '16'], ['경기도 성남시 중원구', '상원초등학교', '22', '564', '30'], ['경기도 성남시 분당구', '상탑초등학교', '22', '488', '25'], ['경기도 성남시 분당구', '서당초등학교', '29', '777', '36'], ['경기도 성남시 분당구', '서현초등학교', '41', '1196', '49'], ['경기도 성남시 중원구', '성남동초등학교', '23', '564', '28'], ['경기도 성남시 분당구', '성남매송초등학교', '28', '806', '32'], ['경기도 성남시 분당구', '성남미금초등학교', '29', '840', '37'], ['경기도 성남시 수정구', '성남북초등학교', '17', '352', '19'], ['경기도 성남시 수정구', '성남서초등학교', '13', '222', '16'], ['경기도 성남시 분당구', '성남신기초등학교', '24', '613', '30'], ['경기도 성남시 수정구', '성남신흥초등학교', '7', '140', '9'], ['경기도 성남시 중원구', '성남은행초등학교', '28', '700', '36'], ['경기도 성남시 분당구', '성남장안초등학교', '26', '706', '32'], ['경기도 성남시 중원구', '성남제일초등학교', '18', '359', '22'], ['경기도 성남시 수정구', '성남수정초등학교', '22', '531', '26'], ['경기도 성남시 중원구', '성남중앙초등학교', '24', '594', '27'], ['경기도 성남시 수정구', '성남초등학교', '38', '918', '46'], ['경기도 성남시 수정구', '성수초등학교', '22', '563', '28'], ['경기도 성남시 분당구', '수내초등학교', '46', '1318', '56'], ['경기도 성남시 수정구', '수진초등학교', '33', '803', '42'], ['경기도 성남시 분당구', '안말초등학교', '23', '609', '25'], ['경기도 성남시 분당구', '야탑초등학교', '27', '710', '33'], ['경기도 성남시 분당구', '양영초등학교', '12', '250', '16'], ['경기도 성남시 분당구', '오리초등학교', '7', '124', '8'], ['경기도 성남시 수정구', '왕남초등학교', '7', '52', '8'], ['경기도 성남시 분당구', '이매초등학교', '33', '837', '40'], ['경기도 성남시 중원구', '중부초등학교', '25', '652', '33'], ['경기도 성남시 중원구', '중원초등학교', '28', '665', '37'], ['경기도 성남시 분당구', '중탑초등학교', '25', '629', '29'], ['경기도 성남시 분당구', '청솔초등학교', '15', '218', '18'], ['경기도 성남시 분당구', '초림초등학교', '37', '1061', '46'], ['경기도 성남시 분당구', '탄천초등학교', '21', '500', '23'], ['경기도 성남시 수정구', '태평초등학교', '15', '338', '18'], ['경기도 성남시 중원구', '하원초등학교', '20', '440', '24'], ['경기도 성남시 분당구', '하탑초등학교', '27', '704', '32'], ['경기도 성남시 분당구', '한솔초등학교', '7', '147', '8'], ['경기도 성남시 수정구', '희망대초등학교', '17', '385', '21'], ['경기도 수원시 권선구', '고색초등학교', '24', '577', '28'], ['경기도 수원시 권선구', '고현초등학교', '11', '191', '13'], ['경기도 수원시 권선구', '곡반초등학교', '26', '686', '30'], ['경기도 수원시 권선구', '곡선초등학교', '26', '643', '31'], ['경기도 수원시 권선구', '구운초등학교', '24', '506', '27'], ['경기도 수원시 권선구', '권선초등학교', '24', '570', '29'], ['경기도 수원시 권선구', '남수원초등학교', '26', '633', '30'], ['경기도 수원시 팔달구', '남창초등학교', '7', '129', '9'], ['경기도 수원시 권선구', '당수초등학교', '26', '671', '30'], ['경기도 수원시 장안구', '대평초등학교', '26', '714', '31'], ['경기도 수원시 영통구', '동수원초등학교', '29', '736', '36'], ['경기도 수원시 장안구', '수원동신초등학교', '29', '780', '36'], ['경기도 수원시 팔달구', '매산초등학교', '14', '260', '17'], ['경기도 수원시 영통구', '매원초등학교', '46', '1332', '55'], ['경기도 수원시 영통구', '매탄초등학교', '55', '1601', '64'], ['경기도 수원시 영통구', '매현초등학교', '21', '511', '25'], ['경기도 수원시 권선구', '명당초등학교', '20', '488', '23'], ['경기도 수원시 장안구', '명인초등학교', '34', '877', '41'], ['경기도 수원시 영통구', '산남초등학교', '24', '594', '27'], ['경기도 수원시 영통구', '산의초등학교', '63', '1821', '76'], ['경기도 수원시 장안구', '상률초등학교', '29', '733', '34'], ['경기도 수원시 권선구', '상촌초등학교', '27', '721', '33'], ['경기도 수원시 권선구', '서호초등학교', '13', '256', '19'], ['경기도 수원시 권선구', '세곡초등학교', '15', '338', '19'], ['경기도 수원시 권선구', '세류초등학교', '33', '824', '40'], ['경기도 수원시 영통구', '소화초등학교', '18', '501', '28'], ['경기도 수원시 장안구', '송림초등학교', '15', '344', '18'], ['경기도 수원시 장안구', '송원초등학교', '28', '716', '33'], ['경기도 수원시 장안구', '송정초등학교', '23', '582', '27'], ['경기도 수원시 장안구', '송죽초등학교', '21', '501', '25'], ['경기도 수원시 장안구', '수성초등학교', '20', '486', '25'], ['경기도 수원시 권선구', '수원금곡초등학교', '14', '316', '17'], ['경기도 수원시 권선구', '수원선일초등학교', '27', '720', '33'], ['경기도 수원시 권선구', '수원신곡초등학교', '36', '1012', '43'], ['경기도 수원시 팔달구', '수원초등학교', '18', '351', '21'], ['경기도 수원시 팔달구', '숙지초등학교', '15', '332', '18'], ['경기도 수원시 영통구', '신성초등학교', '19', '414', '21'], ['경기도 수원시 영통구', '신영초등학교', '25', '638', '31'], ['경기도 수원시 영통구', '신풍초등학교', '52', '1520', '63'], ['경기도 수원시 권선구', '안룡초등학교', '18', '379', '18'], ['경기도 수원시 팔달구', '연무초등학교', '15', '321', '18'], ['경기도 수원시 영통구', '영덕초등학교', '33', '949', '39'], ['경기도 수원시 영통구', '영동초등학교', '45', '1230', '54'], ['경기도 수원시 영통구', '영일초등학교', '24', '677', '28'], ['경기도 수원시 영통구', '영통초등학교', '25', '600', '30'], ['경기도 수원시 장안구', '영화초등학교', '27', '652', '33'], ['경기도 수원시 권선구', '오목초등학교', '25', '520', '33'], ['경기도 수원시 팔달구', '우만초등학교', '15', '324', '16'], ['경기도 수원시 영통구', '원일초등학교', '26', '637', '33'], ['경기도 수원시 영통구', '원천초등학교', '27', '687', '31'], ['경기도 수원시 장안구', '율전초등학교', '21', '522', '25'], ['경기도 수원시 팔달구', '율현초등학교', '28', '741', '32'], ['경기도 수원시 팔달구', '인계초등학교', '20', '487', '25'], ['경기도 수원시 권선구', '일월초등학교', '25', '650', '32'], ['경기도 수원시 영통구', '잠원초등학교', '48', '1336', '56'], ['경기도 수원시 장안구', '정자초등학교', '30', '832', '37'], ['경기도 수원시 장안구', '정천초등학교', '34', '998', '40'], ['경기도 수원시 장안구', '조원초등학교', '22', '490', '26'], ['경기도 수원시 영통구', '중앙기독초등학교', '33', '844', '34'], ['경기도 수원시 팔달구', '지동초등학교', '20', '458', '23'], ['경기도 수원시 장안구', '창용초등학교', '17', '427', '20'], ['경기도 수원시 장안구', '천일초등학교', '25', '639', '32'], ['경기도 수원시 장안구', '천천초등학교', '38', '1063', '45'], ['경기도 수원시 영통구', '청명초등학교', '23', '594', '29'], ['경기도 수원시 권선구', '칠보초등학교', '25', '619', '30'], ['경기도 수원시 권선구', '탑동초등학교', '30', '779', '40'], ['경기도 수원시 영통구', '태장초등학교', '33', '858', '37'], ['경기도 수원시 장안구', '파장초등학교', '22', '442', '25'], ['경기도 수원시 장안구', '한일초등학교', '20', '493', '24'], ['경기도 수원시 권선구', '호매실초등학교', '21', '518', '25'], ['경기도 수원시 팔달구', '화서초등학교', '19', '461', '24'], ['경기도 수원시 팔달구', '화양초등학교', '26', '665', '32'], ['경기도 수원시 팔달구', '화홍초등학교', '35', '936', '41'], ['경기도 수원시 영통구', '황곡초등학교', '33', '908', '39'], ['경기도 수원시 영통구', '효동초등학교', '18', '408', '23'], ['경기도 수원시 팔달구', '효성초등학교', '22', '527', '27'], ['경기도 수원시 영통구', '효원초등학교', '14', '342', '20'], ['경기도 수원시 권선구', '효정초등학교', '14', '348', '19'], ['경기도 수원시 장안구', '효천초등학교', '27', '712', '31'], ['경기도 안산시 상록구', '각골초등학교', '20', '486', '24'], ['경기도 시흥시', '검바위초등학교', '20', '396', '23'], ['경기도 안산시 상록구', '경수초등학교', '11', '247', '13'], ['경기도 안산시 상록구', '경일초등학교', '22', '554', '26'], ['경기도 시흥시', '계수초등학교', '7', '83', '9'], ['경기도 안산시 단원구', '고잔초등학교', '27', '697', '33'], ['경기도 안산시 단원구', '관산초등학교', '35', '790', '41'], ['경기도 시흥시', '군서초등학교', '30', '644', '38'], ['경기도 시흥시', '군자초등학교', '35', '863', '42'], ['경기도 시흥시', '금모래초등학교', '30', '809', '36'], ['경기도 시흥시', '냉정초등학교', '29', '753', '33'], ['경기도 안산시 단원구', '능길초등학교', '7', '82', '8'], ['경기도 안산시 단원구', '대남초등학교', '10', '87', '12'], ['경기도 안산시 단원구', '대남초등학교풍도분교장', '1', '1', '1'], ['경기도 안산시 단원구', '대동초등학교', '5', '41', '8'], ['경기도 안산시 단원구', '대부초등학교', '6', '82', '7'], ['경기도 시흥시', '대야초등학교', '17', '340', '20'], ['경기도 안산시 단원구', '덕성초등학교', '19', '462', '22'], ['경기도 시흥시', '도일초등학교', '22', '523', '26'], ['경기도 시흥시', '도창초등학교', '12', '186', '16'], ['경기도 안산시 상록구', '매화초등학교', '26', '639', '32'], ['경기도 시흥시', '목감초등학교', '20', '444', '24'], ['경기도 안산시 상록구', '반월초등학교', '17', '352', '20'], ['경기도 안산시 단원구', '별망초등학교', '23', '474', '28'], ['경기도 안산시 상록구', '본오초등학교', '36', '858', '40'], ['경기도 안산시 상록구', '본원초등학교', '42', '1176', '49'], ['경기도 안산시 상록구', '삼일초등학교', '34', '817', '42'], ['경기도 안산시 상록구', '상록초등학교', '38', '1009', '45'], ['경기도 시흥시', '서촌초등학교', '29', '660', '34'], ['경기도 시흥시', '서해초등학교', '40', '1029', '47'], ['경기도 안산시 상록구', '석호초등학교', '34', '890', '42'], ['경기도 안산시 단원구', '선부초등학교', '36', '927', '42'], ['경기도 안산시 단원구', '선일초등학교', '21', '432', '27'], ['경기도 안산시 상록구', '성안초등학교', '28', '704', '33'], ['경기도 안산시 상록구', '성포초등학교', '21', '567', '25'], ['경기도 시흥시', '소래초등학교', '19', '413', '24'], ['경기도 시흥시', '송운초등학교', '33', '885', '39'], ['경기도 안산시 단원구', '송호초등학교', '35', '864', '41'], ['경기도 안산시 단원구', '슬기초등학교', '26', '631', '32'], ['경기도 안산시 상록구', '시곡초등학교', '30', '766', '32'], ['경기도 안산시 상록구', '시랑초등학교', '19', '429', '23'], ['경기도 시흥시', '시화초등학교', '21', '372', '28'], ['경기도 시흥시', '시흥매화초등학교', '20', '462', '25'], ['경기도 시흥시', '시흥신일초등학교', '30', '750', '35'], ['경기도 시흥시', '시흥은행초등학교', '28', '754', '34'], ['경기도 시흥시', '시흥초등학교', '32', '819', '38'], ['경기도 시흥시', '신천초등학교', '17', '370', '19'], ['경기도 안산시 상록구', '안산광덕초등학교', '21', '547', '25'], ['경기도 안산시 상록구', '안산부곡초등학교', '36', '888', '43'], ['경기도 안산시 단원구', '안산서초등학교', '29', '690', '35'], ['경기도 안산시 단원구', '안산석수초등학교', '32', '790', '38'], ['경기도 안산시 단원구', '안산양지초등학교', '43', '1149', '51'], ['경기도 안산시 단원구', '안산원곡초등학교', '26', '540', '35'], ['경기도 안산시 단원구', '안산중앙초등학교', '27', '645', '31'], ['경기도 안산시 상록구', '안산초등학교', '20', '479', '24'], ['경기도 안산시 단원구', '안산화정초등학교', '46', '1203', '51'], ['경기도 시흥시', '연성초등학교', '18', '466', '22'], ['경기도 시흥시', '옥터초등학교', '15', '342', '18'], ['경기도 안산시 단원구', '와동초등학교', '30', '764', '32'], ['경기도 안산시 단원구', '원일초등학교', '15', '308', '21'], ['경기도 시흥시', '은계초등학교', '26', '619', '33'], ['경기도 안산시 상록구', '이호초등학교', '35', '896', '41'], ['경기도 시흥시', '장곡초등학교', '38', '1024', '45'], ['경기도 시흥시', '정왕초등학교', '42', '1105', '50'], ['경기도 안산시 상록구', '정재초등학교', '17', '339', '18'], ['경기도 안산시 단원구', '정지초등학교', '17', '402', '20'], ['경기도 시흥시', '진말초등학교', '23', '578', '27'], ['경기도 안산시 상록구', '초당초등학교', '49', '1325', '57'], ['경기도 안산시 단원구', '초지초등학교', '33', '862', '41'], ['경기도 시흥시', '포리초등학교', '12', '260', '14'], ['경기도 시흥시', '하중초등학교', '27', '601', '32'], ['경기도 시흥시', '함현초등학교', '19', '481', '24'], ['경기도 안산시 상록구', '호동초등학교', '52', '1472', '61'], ['경기도 안산시 단원구', '화랑초등학교', '34', '896', '41'], ['경기도 안성시', '개산초등학교', '7', '124', '8'], ['경기도 안성시', '개정초등학교', '7', '74', '8'], ['경기도 안성시', '고삼초등학교', '7', '38', '8'], ['경기도 안성시', '공도초등학교', '51', '1335', '60'], ['경기도 안성시', '광덕초등학교', '10', '180', '15'], ['경기도 안성시', '광선초등학교', '6', '56', '7'], ['경기도 안성시', '금광초등학교', '12', '216', '16'], ['경기도 안성시', '금광초등학교조령분교장', '3', '21', '4'], ['경기도 안성시', '내혜홀초등학교', '28', '653', '33'], ['경기도 안성시', '대덕초등학교', '8', '152', '11'], ['경기도 안성시', '동신초등학교', '8', '131', '9'], ['경기도 안성시', '마전초등학교', '7', '65', '8'], ['경기도 안성시', '명덕초등학교', '7', '105', '9'], ['경기도 안성시', '문기초등학교', '23', '509', '27'], ['경기도 안성시', '미곡초등학교', '6', '51', '7'], ['경기도 안성시', '미양초등학교', '7', '75', '8'], ['경기도 안성시', '방초초등학교', '7', '45', '9'], ['경기도 안성시', '백성초등학교', '26', '630', '31'], ['경기도 안성시', '보개초등학교', '7', '52', '8'], ['경기도 안성시', '보체초등학교', '7', '63', '9'], ['경기도 안성시', '비룡초등학교', '47', '1284', '56'], ['경기도 안성시', '산평초등학교', '7', '52', '7'], ['경기도 안성시', '삼죽초등학교', '7', '69', '11'], ['경기도 안성시', '서삼초등학교', '7', '25', '9'], ['경기도 안성시', '서운초등학교', '7', '58', '8'], ['경기도 안성시', '안성초등학교', '34', '796', '39'], ['경기도 안성시', '양성초등학교', '7', '75', '10'], ['경기도 안성시', '양진초등학교', '39', '1013', '46'], ['경기도 안성시', '용머리초등학교', '26', '640', '31'], ['경기도 안성시', '원곡초등학교', '7', '117', '8'], ['경기도 안성시', '일죽초등학교', '11', '181', '14'], ['경기도 안성시', '죽산초등학교', '12', '192', '13'], ['경기도 안성시', '죽화초등학교', '6', '53', '7'], ['경기도 안성시', '현매초등학교', '7', '51', '8'], ['경기도 과천시', '과천초등학교', '22', '553', '31'], ['경기도 과천시', '관문초등학교', '17', '373', '21'], ['경기도 안양시 동안구', '관양초등학교', '30', '756', '36'], ['경기도 안양시 동안구', '귀인초등학교', '55', '1700', '66'], ['경기도 안양시 동안구', '달안초등학교', '13', '270', '17'], ['경기도 안양시 만안구', '덕천초등학교', '34', '827', '39'], ['경기도 안양시 동안구', '동안초등학교', '22', '565', '26'], ['경기도 안양시 만안구', '만안초등학교', '26', '666', '32'], ['경기도 안양시 만안구', '명학초등학교', '20', '422', '24'], ['경기도 과천시', '문원초등학교', '44', '1224', '56'], ['경기도 안양시 동안구', '민백초등학교', '28', '763', '34'], ['경기도 안양시 만안구', '박달초등학교', '38', '1009', '43'], ['경기도 안양시 동안구', '벌말초등학교', '40', '1022', '44'], ['경기도 안양시 동안구', '범계초등학교', '31', '838', '38'], ['경기도 안양시 동안구', '부림초등학교', '34', '895', '41'], ['경기도 안양시 동안구', '비산초등학교', '26', '643', '29'], ['경기도 안양시 만안구', '삼봉초등학교', '29', '729', '33'], ['경기도 안양시 만안구', '삼성초등학교', '41', '1104', '48'], ['경기도 안양시 만안구', '석수초등학교', '29', '756', '34'], ['경기도 안양시 만안구', '신안초등학교', '28', '657', '34'], ['경기도 안양시 동안구', '안양관악초등학교', '15', '347', '19'], ['경기도 안양시 동안구', '안양남초등학교', '24', '619', '29'], ['경기도 안양시 동안구', '안양덕현초등학교', '14', '277', '17'], ['경기도 안양시 동안구', '안양동초등학교', '21', '494', '26'], ['경기도 안양시 동안구', '안양부안초등학교', '28', '747', '35'], ['경기도 안양시 동안구', '안양부흥초등학교', '40', '1103', '49'], ['경기도 안양시 만안구', '안양서초등학교', '30', '670', '34'], ['경기도 안양시 동안구', '안양신기초등학교', '27', '654', '31'], ['경기도 안양시 만안구', '안양양지초등학교', '15', '363', '20'], ['경기도 안양시 동안구', '안양중앙초등학교', '23', '579', '24'], ['경기도 안양시 만안구', '안양초등학교', '37', '959', '43'], ['경기도 안양시 만안구', '안일초등학교', '25', '627', '31'], ['경기도 안양시 만안구', '연현초등학교', '26', '648', '33'], ['경기도 안양시 동안구', '인덕원초등학교', '17', '323', '20'], ['경기도 과천시', '청계초등학교', '28', '676', '33'], ['경기도 안양시 동안구', '평촌초등학교', '43', '1235', '52'], ['경기도 안양시 동안구', '호계초등학교', '25', '606', '28'], ['경기도 안양시 동안구', '호성초등학교', '44', '1115', '51'], ['경기도 안양시 동안구', '호원초등학교', '16', '339', '18'], ['경기도 안양시 동안구', '희성초등학교', '16', '388', '19'], ['경기도 양평군', '강상초등학교', '20', '463', '24'], ['경기도 양평군', '강하초등학교', '6', '102', '7'], ['경기도 양평군', '개군초등학교', '7', '133', '8'], ['경기도 양평군', '곡수초등학교', '7', '53', '8'], ['경기도 양평군', '다문초등학교', '22', '558', '25'], ['경기도 양평군', '대아초등학교', '7', '136', '9'], ['경기도 양평군', '서종초등학교', '13', '326', '16'], ['경기도 양평군', '세월초등학교', '7', '77', '7'], ['경기도 양평군', '수입초등학교', '7', '85', '8'], ['경기도 양평군', '양동초등학교', '7', '84', '9'], ['경기도 양평군', '양동초등학교고송분교장', '4', '17', '5'], ['경기도 양평군', '양서초등학교', '7', '65', '8'], ['경기도 양평군', '양수초등학교', '13', '261', '16'], ['경기도 양평군', '양평단월초등학교', '6', '83', '6'], ['경기도 양평군', '양평동초등학교', '22', '536', '26'], ['경기도 양평군', '양평초등학교', '44', '1176', '50'], ['경기도 양평군', '옥천초등학교', '19', '380', '24'], ['경기도 양평군', '용문초등학교', '7', '72', '8'], ['경기도 양평군', '원덕초등학교', '7', '75', '8'], ['경기도 양평군', '조현초등학교', '16', '292', '16'], ['경기도 양평군', '지평초등학교', '7', '139', '8'], ['경기도 양평군', '청운초등학교', '7', '64', '8'], ['경기도 여주시', '가남초등학교', '25', '638', '30'], ['경기도 여주시', '강천초등학교', '7', '93', '10'], ['경기도 여주시', '금당초등학교', '6', '36', '8'], ['경기도 여주시', '능북초등학교', '6', '33', '8'], ['경기도 여주시', '능서초등학교', '7', '82', '8'], ['경기도 여주시', '대신초등학교', '7', '102', '8'], ['경기도 여주시', '매류초등학교', '6', '65', '8'], ['경기도 여주시', '문장초등학교', '6', '49', '7'], ['경기도 여주시', '북내초등학교', '7', '120', '8'], ['경기도 여주시', '북내초등학교도전분교장', '3', '7', '4'], ['경기도 여주시', '북내초등학교운암분교장', '3', '13', '4'], ['경기도 여주시', '상품초등학교', '6', '84', '7'], ['경기도 여주시', '송삼초등학교', '6', '34', '7'], ['경기도 여주시', '송촌초등학교', '6', '48', '7'], ['경기도 여주시', '여주초등학교', '19', '362', '22'], ['경기도 여주시', '여흥초등학교', '38', '998', '46'], ['경기도 여주시', '연라초등학교', '7', '123', '8'], ['경기도 여주시', '오산초등학교', '7', '66', '8'], ['경기도 여주시', '오학초등학교', '32', '816', '39'], ['경기도 여주시', '이포초등학교', '7', '49', '8'], ['경기도 여주시', '이포초등학교하호분교장', '6', '36', '7'], ['경기도 여주시', '점동초등학교', '10', '136', '12'], ['경기도 여주시', '점봉초등학교', '17', '376', '21'], ['경기도 여주시', '천남초등학교', '7', '96', '8'], ['경기도 여주시', '흥천초등학교', '7', '73', '8'], ['경기도 연천군', '군남초등학교', '6', '52', '7'], ['경기도 연천군', '궁평초등학교', '7', '65', '10'], ['경기도 연천군', '대광초등학교', '6', '54', '7'], ['경기도 연천군', '백의초등학교', '7', '52', '8'], ['경기도 연천군', '백학초등학교', '7', '55', '9'], ['경기도 연천군', '상리초등학교', '7', '44', '9'], ['경기도 연천군', '연천노곡초등학교', '7', '37', '10'], ['경기도 연천군', '연천왕산초등학교', '8', '49', '9'], ['경기도 연천군', '연천초등학교', '11', '176', '13'], ['경기도 연천군', '은대초등학교', '6', '99', '7'], ['경기도 연천군', '전곡초등학교', '37', '874', '44'], ['경기도 연천군', '초성초등학교', '7', '58', '8'], ['경기도 연천군', '화진초등학교', '9', '124', '11'], ['경기도 용인시 수지구', '고기초등학교', '10', '193', '12'], ['경기도 용인시 처인구', '고림초등학교', '35', '993', '43'], ['경기도 용인시 기흥구', '관곡초등학교', '12', '177', '14'], ['경기도 용인시 기흥구', '구갈초등학교', '20', '484', '24'], ['경기도 용인시 기흥구', '구성초등학교', '27', '675', '32'], ['경기도 용인시 기흥구', '기흥초등학교', '20', '399', '24'], ['경기도 용인시 처인구', '남곡초등학교', '46', '1329', '53'], ['경기도 용인시 처인구', '남사초등학교', '7', '86', '8'], ['경기도 용인시 처인구', '남촌초등학교', '6', '41', '7'], ['경기도 용인시 처인구', '능원초등학교', '32', '866', '38'], ['경기도 용인시 수지구', '용인대일초등학교', '21', '499', '25'], ['경기도 용인시 수지구', '대지초등학교', '21', '547', '27'], ['경기도 용인시 수지구', '대현초등학교', '15', '353', '18'], ['경기도 용인시 수지구', '동천초등학교', '26', '694', '32'], ['경기도 용인시 기흥구', '마북초등학교', '28', '724', '34'], ['경기도 용인시 기흥구', '마성초등학교', '13', '205', '15'], ['경기도 용인시 수지구', '용인심곡초등학교', '30', '769', '38'], ['경기도 용인시 처인구', '모현초등학교', '15', '330', '18'], ['경기도 용인시 처인구', '백봉초등학교', '6', '30', '9'], ['경기도 용인시 처인구', '백암초등학교', '8', '150', '11'], ['경기도 용인시 처인구', '백암초등학교수정분교장', '4', '9', '5'], ['경기도 용인시 기흥구', '보라초등학교', '14', '208', '17'], ['경기도 용인시 기흥구', '보정초등학교', '34', '959', '40'], ['경기도 용인시 기흥구', '산양초등학교', '30', '734', '37'], ['경기도 용인시 기흥구', '상갈초등학교', '25', '605', '31'], ['경기도 용인시 기흥구', '상하초등학교', '34', '899', '41'], ['경기도 용인시 수지구', '상현초등학교', '30', '821', '37'], ['경기도 용인시 처인구', '서룡초등학교', '19', '461', '24'], ['경기도 용인시 수지구', '서원초등학교', '34', '852', '43'], ['경기도 용인시 기흥구', '서천초등학교', '24', '547', '28'], ['경기도 용인시 수지구', '성복초등학교', '32', '876', '40'], ['경기도 용인시 수지구', '소현초등학교', '25', '590', '30'], ['경기도 용인시 수지구', '솔개초등학교', '32', '876', '37'], ['경기도 용인시 처인구', '송전초등학교', '15', '353', '16'], ['경기도 용인시 수지구', '수지초등학교', '31', '837', '35'], ['경기도 용인시 기흥구', '신갈초등학교', '21', '455', '25'], ['경기도 용인시 수지구', '신월초등학교', '22', '558', '26'], ['경기도 용인시 처인구', '양지초등학교', '24', '611', '28'], ['경기도 용인시 기흥구', '어정초등학교', '30', '777', '36'], ['경기도 용인시 기흥구', '언동초등학교', '33', '851', '41'], ['경기도 용인시 처인구', '역북초등학교', '34', '979', '40'], ['경기도 용인시 처인구', '왕산초등학교', '26', '594', '31'], ['경기도 용인시 처인구', '용마초등학교', '30', '780', '36'], ['경기도 용인시 처인구', '용인둔전초등학교', '32', '816', '39'], ['경기도 용인시 처인구', '용인초등학교', '30', '727', '36'], ['경기도 용인시 처인구', '용천초등학교', '13', '281', '16'], ['경기도 용인시 처인구', '운학초등학교', '7', '97', '8'], ['경기도 용인시 처인구', '원삼초등학교', '6', '88', '7'], ['경기도 용인시 기흥구', '이현초등학교', '30', '794', '37'], ['경기도 용인시 처인구', '장평초등학교', '4', '24', '6'], ['경기도 용인시 수지구', '정평초등학교', '36', '945', '43'], ['경기도 용인시 처인구', '제일초등학교', '13', '325', '16'], ['경기도 용인시 처인구', '좌항초등학교', '7', '76', '8'], ['경기도 용인시 수지구', '죽전초등학교', '18', '436', '22'], ['경기도 용인시 기흥구', '청곡초등학교', '28', '610', '30'], ['경기도 용인시 수지구', '토월초등학교', '30', '781', '37'], ['경기도 용인시 처인구', '포곡초등학교', '33', '728', '39'], ['경기도 용인시 수지구', '풍덕초등학교', '39', '1075', '45'], ['경기도 용인시 수지구', '풍천초등학교', '42', '1258', '54'], ['경기도 용인시 처인구', '한터초등학교', '12', '261', '17'], ['경기도 용인시 수지구', '홍천초등학교', '20', '529', '23'], ['경기도 의정부시', '가능초등학교', '42', '1126', '49'], ['경기도 의정부시', '경의초등학교', '14', '257', '17'], ['경기도 의정부시', '고산초등학교', '7', '63', '8'], ['경기도 의정부시', '금오초등학교', '16', '335', '18'], ['경기도 의정부시', '녹양초등학교', '27', '667', '32'], ['경기도 의정부시', '동오초등학교', '28', '740', '34'], ['경기도 의정부시', '민락초등학교', '34', '869', '41'], ['경기도 의정부시', '발곡초등학교', '27', '712', '32'], ['경기도 의정부시', '배영초등학교', '21', '514', '26'], ['경기도 의정부시', '새말초등학교', '22', '587', '27'], ['경기도 의정부시', '솔뫼초등학교', '23', '538', '29'], ['경기도 의정부시', '송양초등학교', '42', '1060', '49'], ['경기도 의정부시', '신동초등학교', '23', '559', '29'], ['경기도 의정부시', '어룡초등학교', '15', '309', '18'], ['경기도 의정부시', '오동초등학교', '32', '803', '38'], ['경기도 의정부시', '의순초등학교', '31', '818', '38'], ['경기도 의정부시', '의정부부용초등학교', '37', '901', '43'], ['경기도 의정부시', '의정부서초등학교', '29', '718', '34'], ['경기도 의정부시', '의정부신곡초등학교', '24', '606', '31'], ['경기도 의정부시', '의정부용현초등학교', '20', '482', '26'], ['경기도 의정부시', '의정부장암초등학교', '14', '226', '19'], ['경기도 의정부시', '의정부중앙초등학교', '17', '338', '20'], ['경기도 의정부시', '의정부청룡초등학교', '23', '606', '28'], ['경기도 의정부시', '의정부초등학교', '19', '437', '23'], ['경기도 의정부시', '의정부호동초등학교', '50', '1381', '61'], ['경기도 의정부시', '호암초등학교', '28', '751', '34'], ['경기도 의정부시', '회룡초등학교', '27', '712', '32'], ['경기도 이천시', '나래초등학교', '6', '107', '9'], ['경기도 이천시', '대서초등학교', '6', '59', '7'], ['경기도 이천시', '대월초등학교', '8', '145', '10'], ['경기도 이천시', '도암초등학교', '15', '337', '19'], ['경기도 이천시', '도지초등학교', '12', '254', '14'], ['경기도 이천시', '마장초등학교', '19', '471', '22'], ['경기도 이천시', '백사초등학교', '11', '205', '13'], ['경기도 이천시', '부발초등학교', '23', '480', '28'], ['경기도 이천시', '설봉초등학교', '43', '1160', '50'], ['경기도 이천시', '설성초등학교', '6', '32', '7'], ['경기도 이천시', '송곡초등학교', '7', '67', '9'], ['경기도 이천시', '신둔초등학교', '15', '274', '19'], ['경기도 이천시', '신하초등학교', '36', '935', '44'], ['경기도 이천시', '아미초등학교', '45', '1250', '51'], ['경기도 이천시', '안흥초등학교', '33', '841', '33'], ['경기도 이천시', '율면초등학교', '6', '43', '7'], ['경기도 이천시', '이천가산초등학교', '13', '227', '16'], ['경기도 이천시', '이천남초등학교', '24', '573', '30'], ['경기도 이천시', '이천단월초등학교', '7', '126', '8'], ['경기도 이천시', '이천매곡초등학교', '5', '41', '7'], ['경기도 이천시', '이천송정초등학교', '43', '1224', '51'], ['경기도 이천시', '이천초등학교', '33', '715', '39'], ['경기도 이천시', '이황초등학교', '6', '45', '8'], ['경기도 이천시', '장천초등학교', '6', '67', '7'], ['경기도 이천시', '장호원초등학교', '25', '652', '27'], ['경기도 이천시', '진가초등학교', '6', '98', '7'], ['경기도 이천시', '표교초등학교', '6', '60', '8'], ['경기도 이천시', '한내초등학교', '33', '790', '38'], ['경기도 이천시', '호법초등학교', '7', '122', '8'], ['경기도 파주시', '갈현초등학교', '6', '72', '7'], ['경기도 파주시', '검산초등학교', '23', '486', '27'], ['경기도 파주시', '교하초등학교', '7', '76', '9'], ['경기도 파주시', '군내초등학교', '6', '46', '7'], ['경기도 파주시', '금신초등학교', '26', '593', '32'], ['경기도 파주시', '금촌초등학교', '21', '399', '24'], ['경기도 파주시', '능안초등학교', '10', '191', '13'], ['경기도 파주시', '대성동초등학교', '6', '30', '7'], ['경기도 파주시', '덕암초등학교', '7', '69', '8'], ['경기도 파주시', '마정초등학교', '7', '52', '8'], ['경기도 파주시', '마지초등학교', '13', '219', '16'], ['경기도 파주시', '도마산초등학교', '6', '50', '7'], ['경기도 파주시', '문산동초등학교', '32', '842', '38'], ['경기도 파주시', '문산초등학교', '26', '644', '31'], ['경기도 파주시', '봉일천초등학교', '31', '802', '38'], ['경기도 파주시', '삼성초등학교', '6', '71', '7'], ['경기도 파주시', '신산초등학교', '14', '234', '18'], ['경기도 파주시', '심학초등학교', '6', '123', '7'], ['경기도 파주시', '연풍초등학교', '8', '156', '11'], ['경기도 파주시', '영도초등학교', '6', '63', '8'], ['경기도 파주시', '용미초등학교', '7', '73', '8'], ['경기도 파주시', '용연초등학교', '6', '50', '7'], ['경기도 파주시', '웅담초등학교', '7', '57', '8'], ['경기도 파주시', '월롱초등학교', '6', '85', '7'], ['경기도 파주시', '장파초등학교', '7', '54', '10'], ['경기도 파주시', '적서초등학교', '6', '54', '7'], ['경기도 파주시', '적암초등학교', '7', '44', '9'], ['경기도 파주시', '지산초등학교', '36', '944', '45'], ['경기도 파주시', '천현초등학교', '20', '320', '25'], ['경기도 파주시', '청석초등학교', '34', '881', '41'], ['경기도 파주시', '청암초등학교', '44', '1262', '48'], ['경기도 파주시', '탄현초등학교', '6', '57', '8'], ['경기도 파주시', '통일초등학교', '20', '431', '26'], ['경기도 파주시', '파양초등학교', '7', '77', '8'], ['경기도 파주시', '파주대원초등학교', '19', '451', '23'], ['경기도 파주시', '파주송화초등학교', '29', '707', '35'], ['경기도 파주시', '파주와동초등학교', '39', '1053', '46'], ['경기도 파주시', '파주초등학교', '8', '161', '10'], ['경기도 파주시', '파평초등학교', '6', '98', '7'], ['경기도 평택시', '가사초등학교', '6', '41', '8'], ['경기도 평택시', '갈곶초등학교', '13', '206', '16'], ['경기도 평택시', '계성초등학교', '7', '41', '8'], ['경기도 평택시', '군문초등학교', '13', '289', '15'], ['경기도 평택시', '내기초등학교', '19', '393', '24'], ['경기도 평택시', '내기초등학교신영분교장', '1', '3', '1'], ['경기도 평택시', '덕동초등학교', '33', '863', '38'], ['경기도 평택시', '동삭초등학교', '31', '718', '39'], ['경기도 평택시', '복창초등학교', '14', '279', '19'], ['경기도 평택시', '부용초등학교', '19', '361', '24'], ['경기도 평택시', '비전초등학교', '16', '352', '21'], ['경기도 평택시', '삼덕초등학교', '7', '80', '8'], ['경기도 평택시', '서정리초등학교', '13', '243', '16'], ['경기도 평택시', '서탄초등학교', '7', '68', '10'], ['경기도 평택시', '서탄초등학교내수분교장', '3', '18', '4'], ['경기도 평택시', '세교초등학교', '41', '1081', '49'], ['경기도 평택시', '소사벌초등학교', '42', '1061', '52'], ['경기도 평택시', '송북초등학교', '37', '1016', '46'], ['경기도 평택시', '송신초등학교', '20', '400', '27'], ['경기도 평택시', '송일초등학교', '17', '343', '19'], ['경기도 평택시', '송탄초등학교', '9', '197', '12'], ['경기도 평택시', '안중초등학교', '19', '425', '22'], ['경기도 평택시', '어연초등학교', '7', '49', '8'], ['경기도 평택시', '오성초등학교', '13', '229', '16'], ['경기도 평택시', '원정초등학교', '20', '495', '24'], ['경기도 평택시', '이충초등학교', '30', '811', '37'], ['경기도 평택시', '종덕초등학교', '6', '55', '7'], ['경기도 평택시', '죽백초등학교', '13', '235', '17'], ['경기도 평택시', '지장초등학교', '28', '704', '30'], ['경기도 평택시', '진위초등학교', '13', '263', '16'], ['경기도 평택시', '진위초등학교산대분교장', '4', '24', '5'], ['경기도 평택시', '창신초등학교', '6', '62', '8'], ['경기도 평택시', '청북초등학교', '6', '62', '7'], ['경기도 평택시', '팽성초등학교', '7', '74', '8'], ['경기도 평택시', '평일초등학교', '23', '569', '30'], ['경기도 평택시', '평택성동초등학교', '19', '392', '24'], ['경기도 평택시', '평택중앙초등학교', '16', '305', '21'], ['경기도 평택시', '평택지산초등학교', '25', '602', '32'], ['경기도 평택시', '평택초등학교', '10', '206', '13'], ['경기도 평택시', '합정초등학교', '7', '138', '8'], ['경기도 평택시', '현덕초등학교', '7', '87', '9'], ['경기도 평택시', '현덕초등학교광덕분교장', '6', '50', '7'], ['경기도 평택시', '현화초등학교', '34', '875', '40'], ['경기도 평택시', '홍원초등학교', '7', '63', '10'], ['경기도 평택시', '효덕초등학교', '19', '436', '24'], ['경기도 포천시', '가산초등학교', '8', '139', '9'], ['경기도 포천시', '관인초등학교', '5', '41', '7'], ['경기도 포천시', '금주초등학교', '6', '34', '7'], ['경기도 포천시', '내촌초등학교', '7', '90', '8'], ['경기도 포천시', '도평초등학교', '6', '34', '7'], ['경기도 포천시', '선단초등학교', '23', '502', '25'], ['경기도 포천시', '송우초등학교', '14', '313', '18'], ['경기도 포천시', '신북초등학교', '12', '205', '14'], ['경기도 포천시', '영북초등학교', '15', '337', '18'], ['경기도 포천시', '영중초등학교', '7', '81', '8'], ['경기도 포천시', '영평초등학교', '6', '60', '7'], ['경기도 포천시', '왕방초등학교', '19', '474', '23'], ['경기도 포천시', '외북초등학교', '6', '78', '7'], ['경기도 포천시', '운담초등학교', '7', '45', '8'], ['경기도 포천시', '유암초등학교', '7', '73', '8'], ['경기도 포천시', '이곡초등학교', '6', '108', '7'], ['경기도 포천시', '이동초등학교', '9', '162', '11'], ['경기도 포천시', '일동초등학교', '20', '432', '23'], ['경기도 포천시', '정교초등학교', '7', '70', '9'], ['경기도 포천시', '중리초등학교', '3', '19', '5'], ['경기도 포천시', '지현초등학교', '7', '40', '8'], ['경기도 포천시', '창수초등학교', '5', '30', '7'], ['경기도 포천시', '청성초등학교', '7', '69', '8'], ['경기도 포천시', '추산초등학교', '35', '907', '41'], ['경기도 포천시', '축석초등학교', '7', '68', '7'], ['경기도 포천시', '포천노곡초등학교', '6', '47', '7'], ['경기도 포천시', '포천삼정초등학교', '8', '33', '9'], ['경기도 포천시', '포천초등학교', '37', '977', '43'], ['경기도 포천시', '화현초등학교', '6', '54', '7'], ['경기도 화성시', '갈담초등학교', '14', '271', '17'], ['경기도 화성시', '갈천초등학교', '6', '59', '8'], ['경기도 화성시', '고정초등학교', '6', '50', '9'], ['경기도 오산시', '광성초등학교', '31', '814', '37'], ['경기도 화성시', '기안초등학교', '28', '695', '34'], ['경기도 화성시', '남양초등학교', '21', '498', '26'], ['경기도 화성시', '노진초등학교', '7', '80', '8'], ['경기도 화성시', '동탄초등학교', '29', '751', '33'], ['경기도 화성시', '동학초등학교', '36', '941', '43'], ['경기도 화성시', '마도초등학교', '7', '124', '8'], ['경기도 화성시', '마산초등학교', '6', '41', '7'], ['경기도 오산시', '매홀초등학교', '14', '286', '17'], ['경기도 화성시', '발안초등학교', '17', '362', '20'], ['경기도 화성시', '병점초등학교', '17', '370', '21'], ['경기도 화성시', '봉담초등학교', '32', '765', '39'], ['경기도 화성시', '비봉초등학교', '8', '158', '10'], ['경기도 화성시', '사창초등학교', '6', '40', '7'], ['경기도 화성시', '상신초등학교', '17', '387', '20'], ['경기도 화성시', '서신초등학교', '7', '109', '8'], ['경기도 화성시', '석천초등학교', '7', '138', '8'], ['경기도 오산시', '성산초등학교', '10', '150', '11'], ['경기도 오산시', '성호초등학교', '14', '248', '18'], ['경기도 화성시', '송라초등학교', '6', '129', '7'], ['경기도 화성시', '송산초등학교', '14', '318', '17'], ['경기도 화성시', '송화초등학교', '45', '1139', '52'], ['경기도 화성시', '수기초등학교', '8', '134', '10'], ['경기도 화성시', '양감초등학교', '6', '55', '7'], ['경기도 오산시', '오산초등학교', '29', '722', '34'], ['경기도 화성시', '우정초등학교', '12', '217', '14'], ['경기도 오산시', '운산초등학교', '37', '890', '44'], ['경기도 오산시', '운암초등학교', '18', '378', '21'], ['경기도 오산시', '운천초등학교', '32', '930', '39'], ['경기도 오산시', '원동초등학교', '33', '827', '37'], ['경기도 화성시', '장명초등학교', '6', '45', '8'], ['경기도 화성시', '장명초등학교장일분교장', '4', '11', '5'], ['경기도 화성시', '정남초등학교', '13', '278', '16'], ['경기도 화성시', '정림초등학교', '7', '73', '8'], ['경기도 화성시', '청룡초등학교', '6', '39', '8'], ['경기도 화성시', '청원초등학교', '7', '65', '8'], ['경기도 화성시', '팔탄초등학교', '6', '106', '7'], ['경기도 화성시', '팔탄초등학교대방분교장', '6', '37', '8'], ['경기도 화성시', '해운초등학교', '6', '42', '7'], ['경기도 화성시', '향남초등학교', '6', '62', '7'], ['경기도 화성시', '화산초등학교', '23', '529', '28'], ['경기도 화성시', '화성매송초등학교', '10', '196', '12'], ['경기도 화성시', '화성월문초등학교', '6', '71', '7'], ['경기도 화성시', '화성장안초등학교', '27', '636', '32'], ['경기도 오산시', '화성초등학교', '21', '453', '26'], ['경기도 화성시', '화성장안초등학교석포분교장', '5', '19', '6'], ['경기도 화성시', '화성화수초등학교', '6', '70', '7'], ['경기도 화성시', '활초초등학교', '6', '119', '6'], ['경기도 용인시 기흥구', '교동초등학교', '29', '747', '35'], ['경기도 용인시 기흥구', '나곡초등학교', '34', '929', '38'], ['경기도 부천시', '석천초등학교', '38', '1022', '50'], ['경기도 용인시 수지구', '효자초등학교', '36', '1047', '44'], ['경기도 성남시 분당구', '늘푸른초등학교', '44', '1258', '50'], ['경기도 의정부시', '의정부호원초등학교', '34', '902', '42'], ['경기도 부천시', '부천일신초등학교', '40', '1100', '47'], ['경기도 부천시', '솔안초등학교', '13', '307', '16'], ['경기도 동두천시', '동두천신천초등학교', '28', '715', '32'], ['경기도 동두천시', '동두천송내초등학교', '24', '544', '28'], ['경기도 안산시 단원구', '안산진흥초등학교', '20', '440', '24'], ['경기도 안산시 상록구', '학현초등학교', '19', '408', '23'], ['경기도 시흥시', '시흥도원초등학교', '19', '437', '23'], ['경기도 시흥시', '시흥월곶초등학교', '28', '746', '34'], ['경기도 시흥시', '시흥장현초등학교', '18', '395', '22'], ['경기도 군포시', '당동초등학교', '38', '950', '48'], ['경기도 군포시', '당정초등학교', '29', '771', '37'], ['경기도 화성시', '제암초등학교', '29', '713', '38'], ['경기도 오산시', '오산대원초등학교', '28', '725', '35'], ['경기도 파주시', '동패초등학교', '15', '329', '18'], ['경기도 고양시 덕양구', '고양관산초등학교', '26', '662', '31'], ['경기도 고양시 일산서구', '고양한내초등학교', '20', '455', '24'], ['경기도 고양시 일산서구', '한뫼초등학교', '38', '1030', '46'], ['경기도 파주시', '임진초등학교', '29', '689', '35'], ['경기도 용인시 기흥구', '지석초등학교', '18', '414', '21'], ['경기도 부천시', '옥산초등학교', '6', '57', '7'], ['경기도 이천시', '증포초등학교', '43', '1202', '50'], ['경기도 광주시', '양벌초등학교', '38', '1023', '45'], ['경기도 광주시', '광주도평초등학교', '28', '772', '34'], ['경기도 성남시 분당구', '성남정자초등학교', '32', '867', '38'], ['경기도 용인시 기흥구', '지곡초등학교', '13', '232', '16'], ['경기도 용인시 기흥구', '언남초등학교', '27', '647', '33'], ['경기도 용인시 처인구', '용인이동초등학교', '21', '546', '26'], ['경기도 용인시 수지구', '현암초등학교', '29', '763', '35'], ['경기도 용인시 기흥구', '독정초등학교', '41', '1227', '48'], ['경기도 용인시 수지구', '용인대덕초등학교', '19', '552', '23'], ['경기도 용인시 수지구', '신리초등학교', '24', '637', '28'], ['경기도 용인시 수지구', '손곡초등학교', '37', '1039', '46'], ['경기도 용인시 기흥구', '갈곡초등학교', '31', '821', '36'], ['경기도 용인시 기흥구', '성지초등학교', '6', '105', '7'], ['경기도 용인시 처인구', '삼가초등학교', '28', '736', '32'], ['경기도 용인시 처인구', '용인성산초등학교', '26', '696', '31'], ['경기도 용인시 수지구', '용인신촌초등학교', '39', '1085', '48'], ['경기도 파주시', '금화초등학교', '30', '793', '35'], ['경기도 파주시', '금릉초등학교', '35', '968', '41'], ['경기도 포천시', '신봉초등학교', '15', '358', '18'], ['경기도 수원시 장안구', '수일초등학교', '14', '306', '17'], ['경기도 수원시 권선구', '입북초등학교', '26', '619', '32'], ['경기도 수원시 영통구', '대선초등학교', '45', '1252', '56'], ['경기도 수원시 영통구', '수원매화초등학교', '20', '458', '24'], ['경기도 수원시 팔달구', '팔달초등학교', '31', '835', '36'], ['경기도 성남시 수정구', '성남양지초등학교', '19', '397', '24'], ['경기도 안양시 동안구', '샘모루초등학교', '33', '867', '40'], ['경기도 안양시 만안구', '화창초등학교', '20', '495', '24'], ['경기도 부천시', '부천송일초등학교', '29', '685', '35'], ['경기도 동두천시', '이담초등학교', '35', '844', '41'], ['경기도 화성시', '구봉초등학교', '38', '1000', '45'], ['경기도 화성시', '기산초등학교', '43', '1201', '51'], ['경기도 화성시', '안화초등학교', '39', '1040', '46'], ['경기도 화성시', '진안초등학교', '35', '838', '38'], ['경기도 화성시', '태안초등학교', '35', '899', '42'], ['경기도 화성시', '화성벌말초등학교', '27', '693', '33'], ['경기도 오산시', '대호초등학교', '25', '630', '30'], ['경기도 양주시', '덕계초등학교', '20', '459', '22'], ['경기도 안산시 단원구', '안산호원초등학교', '39', '1064', '47'], ['경기도 시흥시', '웃터골초등학교', '22', '509', '26'], ['경기도 남양주시', '남양주신촌초등학교', '40', '1104', '47'], ['경기도 남양주시', '장내초등학교', '33', '854', '38'], ['경기도 남양주시', '판곡초등학교', '45', '1253', '53'], ['경기도 남양주시', '평동초등학교', '27', '673', '32'], ['경기도 파주시', '금향초등학교', '28', '654', '33'], ['경기도 고양시 덕양구', '목암초등학교', '45', '1232', '53'], ['경기도 김포시', '김포신풍초등학교', '36', '974', '41'], ['경기도 용인시 수지구', '대청초등학교', '27', '699', '32'], ['경기도 용인시 기흥구', '용인신릉초등학교', '18', '479', '22'], ['경기도 용인시 수지구', '신일초등학교', '21', '529', '25'], ['경기도 안양시 만안구', '안양호암초등학교', '12', '201', '14'], ['경기도 안양시 동안구', '나눔초등학교', '18', '385', '23'], ['경기도 의정부시', '의정부효자초등학교', '19', '459', '23'], ['경기도 의정부시', '동암초등학교', '33', '857', '41'], ['경기도 의정부시', '버들개초등학교', '29', '746', '35'], ['경기도 부천시', '부천양지초등학교', '22', '544', '26'], ['경기도 양주시', '삼숭초등학교', '42', '1167', '50'], ['경기도 평택시', '평택송화초등학교', '21', '475', '25'], ['경기도 평택시', '장당초등학교', '36', '1000', '46'], ['경기도 남양주시', '사능초등학교', '10', '195', '12'], ['경기도 남양주시', '남양주백봉초등학교', '29', '723', '33'], ['경기도 남양주시', '양오초등학교', '46', '1251', '54'], ['경기도 하남시', '신평초등학교', '33', '912', '41'], ['경기도 파주시', '새금초등학교', '21', '504', '25'], ['경기도 파주시', '석곶초등학교', '41', '1075', '47'], ['경기도 수원시 권선구', '효탑초등학교', '19', '443', '23'], ['경기도 부천시', '상미초등학교', '13', '259', '16'], ['경기도 양주시', '광숭초등학교', '26', '644', '33'], ['경기도 평택시', '평택안일초등학교', '41', '1124', '48'], ['경기도 평택시', '현일초등학교', '33', '878', '39'], ['경기도 남양주시', '어람초등학교', '52', '1417', '64'], ['경기도 여주시', '세종초등학교', '35', '893', '42'], ['경기도 화성시', '동양초등학교', '29', '763', '35'], ['경기도 화성시', '배양초등학교', '18', '458', '22'], ['경기도 안산시 상록구', '안산청석초등학교', '20', '538', '24'], ['경기도 안산시 상록구', '팔곡초등학교', '9', '182', '11'], ['경기도 포천시', '태봉초등학교', '33', '847', '39'], ['경기도 안산시 상록구', '안산창촌초등학교', '17', '441', '21'], ['경기도 안산시 상록구', '안산해양초등학교', '19', '521', '23'], ['경기도 부천시', '동산초등학교', '17', '392', '19'], ['경기도 용인시 기흥구', '동막초등학교', '37', '1035', '46'], ['경기도 용인시 기흥구', '석성초등학교', '43', '1233', '55'], ['경기도 용인시 기흥구', '동백초등학교', '54', '1548', '65'], ['경기도 용인시 기흥구', '용인백현초등학교', '48', '1332', '56'], ['경기도 수원시 권선구', '서평초등학교', '11', '201', '13'], ['경기도 수원시 권선구', '오현초등학교', '28', '717', '34'], ['경기도 용인시 기흥구', '초당초등학교', '38', '1034', '48'], ['경기도 고양시 일산서구', '가좌초등학교', '34', '863', '42'], ['경기도 양주시', '도둔초등학교', '16', '355', '17'], ['경기도 평택시', '평택도곡초등학교', '24', '573', '29'], ['경기도 화성시', '안녕초등학교', '28', '695', '34'], ['경기도 오산시', '가수초등학교', '25', '599', '31'], ['경기도 파주시', '두일초등학교', '25', '575', '30'], ['경기도 오산시', '수청초등학교', '22', '571', '26'], ['경기도 파주시', '와석초등학교', '46', '1245', '52'], ['경기도 김포시', '통진초등학교', '17', '401', '18'], ['경기도 고양시 일산동구', '다솜초등학교', '27', '735', '32'], ['경기도 안산시 단원구', '덕인초등학교', '25', '570', '29'], ['경기도 파주시', '문발초등학교', '20', '462', '22'], ['경기도 부천시', '소안초등학교', '19', '482', '23'], ['경기도 양주시', '신지초등학교', '19', '437', '23'], ['경기도 오산시', '오산원당초등학교', '13', '239', '17'], ['경기도 시흥시', '월포초등학교', '13', '277', '16'], ['경기도 고양시 일산동구', '풍동초등학교', '17', '430', '20'], ['경기도 화성시', '학동초등학교', '39', '1013', '48'], ['경기도 화성시', '화성금곡초등학교', '44', '1208', '50'], ['경기도 평택시', '반지초등학교', '49', '1307', '58'], ['경기도 화성시', '석우초등학교', '34', '912', '40'], ['경기도 오산시', '오산원일초등학교', '39', '1050', '46'], ['경기도 용인시 기흥구', '용인한일초등학교', '25', '557', '31'], ['경기도 용인시 기흥구', '나산초등학교', '44', '1189', '52'], ['경기도 화성시', '와우초등학교', '35', '941', '41'], ['경기도 남양주시', '예봉초등학교', '33', '812', '40'], ['경기도 양주시', '주원초등학교', '21', '483', '25'], ['경기도 고양시 일산동구', '하늘초등학교', '26', '650', '33'], ['경기도 화성시', '동화초등학교', '44', '1076', '52'], ['경기도 화성시', '반석초등학교', '41', '1211', '48'], ['경기도 화성시', '상봉초등학교', '39', '1135', '48'], ['경기도 화성시', '솔빛초등학교', '52', '1542', '61'], ['경기도 오산시', '오산고현초등학교', '53', '1423', '61'], ['경기도 화성시', '율목초등학교', '20', '478', '24'], ['경기도 화성시', '반송초등학교', '50', '1404', '58'], ['경기도 부천시', '성곡초등학교', '21', '545', '26'], ['경기도 고양시 일산동구', '모당초등학교', '28', '674', '33'], ['경기도 용인시 기흥구', '청덕초등학교', '44', '1202', '53'], ['경기도 시흥시', '시흥능곡초등학교', '30', '769', '36'], ['경기도 김포시', '장기초등학교', '43', '1191', '51'], ['경기도 성남시 중원구', '도촌초등학교', '39', '1055', '46'], ['경기도 군포시', '군포대야초등학교', '24', '543', '27'], ['경기도 의왕시', '모락초등학교', '19', '488', '25'], ['경기도 화성시', '능동초등학교', '37', '925', '40'], ['경기도 화성시', '도이초등학교', '33', '918', '39'], ['경기도 화성시', '수영초등학교', '26', '647', '32'], ['경기도 화성시', '예당초등학교', '33', '832', '38'], ['경기도 부천시', '중동초등학교', '33', '885', '40'], ['경기도 화성시', '푸른초등학교', '51', '1529', '60'], ['경기도 화성시', '한마음초등학교', '38', '1000', '44'], ['경기도 화성시', '한울초등학교', '56', '1546', '64'], ['경기도 화성시', '행정초등학교', '42', '1264', '51'], ['경기도 남양주시', '가운초등학교', '24', '594', '28'], ['경기도 평택시', '송현초등학교', '20', '421', '25'], ['경기도 김포시', '신곡초등학교', '33', '955', '39'], ['경기도 하남시', '하남풍산초등학교', '27', '674', '38'], ['경기도 고양시 덕양구', '아람초등학교', '21', '500', '28'], ['경기도 안산시 단원구', '안산대월초등학교', '32', '804', '38'], ['경기도 안산시 단원구', '신길초등학교', '28', '727', '34'], ['경기도 성남시 분당구', '성남송현초등학교', '47', '1272', '56'], ['경기도 수원시 팔달구', '매여울초등학교', '27', '694', '32'], ['경기도 성남시 분당구', '보평초등학교', '50', '1267', '62'], ['경기도 성남시 분당구', '운중초등학교', '30', '759', '37'], ['경기도 성남시 분당구', '판교초등학교', '37', '1076', '43'], ['경기도 성남시 분당구', '산운초등학교', '27', '654', '27'], ['경기도 남양주시', '구룡초등학교', '48', '1337', '57'], ['경기도 구리시', '건원초등학교', '16', '350', '19'], ['경기도 남양주시', '진접초등학교', '47', '1189', '52'], ['경기도 남양주시', '차산초등학교', '25', '638', '32'], ['경기도 광명시', '충현초등학교', '45', '1139', '56'], ['경기도 광명시', '구름산초등학교', '55', '1490', '65'], ['경기도 김포시', '걸포초등학교', '23', '519', '27'], ['경기도 광명시', '안현초등학교', '46', '1368', '58'], ['경기도 오산시', '문시초등학교', '31', '927', '37'], ['경기도 용인시 기흥구', '공세초등학교', '18', '381', '22'], ['경기도 용인시 수지구', '용인한빛초등학교', '30', '849', '34'], ['경기도 용인시 처인구', '둔전제일초등학교', '30', '707', '35'], ['경기도 오산시', '양산초등학교', '33', '857', '40'], ['경기도 평택시', '용이초등학교', '43', '1164', '51'], ['경기도 의왕시', '내동초등학교', '26', '652', '31'], ['경기도 용인시 기흥구', '석현초등학교', '25', '612', '33'], ['경기도 용인시 기흥구', '흥덕초등학교', '29', '701', '35'], ['경기도 남양주시', '남양주덕송초등학교', '34', '791', '40'], ['경기도 남양주시', '별가람초등학교', '25', '632', '30'], ['경기도 양주시', '만송초등학교', '34', '822', '41'], ['경기도 화성시', '숲속초등학교', '28', '694', '31'], ['경기도 시흥시', '승지초등학교', '20', '459', '24'], ['경기도 오산시', '세미초등학교', '44', '1194', '51'], ['경기도 오산시', '필봉초등학교', '33', '933', '40'], ['경기도 수원시 권선구', '선행초등학교', '28', '716', '34'], ['경기도 군포시', '군포신기초등학교', '36', '933', '43'], ['경기도 광주시', '벌원초등학교', '25', '662', '31'], ['경기도 광명시', '빛가온초등학교', '42', '1048', '49'], ['경기도 안양시 동안구', '해오름초등학교', '33', '804', '40'], ['경기도 김포시', '솔터초등학교', '47', '1265', '55'], ['경기도 파주시', '자유초등학교', '35', '910', '44'], ['경기도 고양시 일산서구', '한산초등학교', '35', '914', '41'], ['경기도 고양시 일산서구', '백송초등학교', '29', '823', '35'], ['경기도 안성시', '만정초등학교', '49', '1262', '60'], ['경기도 용인시 수지구', '새빛초등학교', '46', '1204', '54'], ['경기도 용인시 기흥구', '서농초등학교', '53', '1392', '61'], ['경기도 파주시', '가온초등학교', '48', '1293', '57'], ['경기도 김포시', '김포한가람초등학교', '25', '651', '30'], ['경기도 화성시', '예원초등학교', '25', '554', '32'], ['경기도 수원시 영통구', '광교초등학교', '46', '1201', '54'], ['경기도 수원시 영통구', '이의초등학교', '45', '1207', '53'], ['경기도 김포시', '가현초등학교', '51', '1537', '61'], ['경기도 김포시', '푸른솔초등학교', '44', '1230', '52'], ['경기도 평택시', '청옥초등학교', '59', '1562', '73'], ['경기도 수원시 권선구', '수원중촌초등학교', '33', '839', '39'], ['경기도 수원시 권선구', '수원금호초등학교', '52', '1437', '59'], ['경기도 수원시 권선구', '능실초등학교', '47', '1188', '58'], ['경기도 의왕시', '포일초등학교', '23', '528', '28'], ['경기도 성남시 중원구', '성남여수초등학교', '29', '788', '34'], ['경기도 남양주시', '부평초등학교', '26', '651', '31'], ['경기도 김포시', '김포금빛초등학교', '56', '1595', '64'], ['경기도 김포시', '은여울초등학교', '31', '860', '37'], ['경기도 김포시', '나비초등학교', '43', '1298', '49'], ['경기도 용인시 처인구', '함박초등학교', '42', '1138', '47'], ['경기도 김포시', '운유초등학교', '58', '1671', '65'], ['경기도 용인시 기흥구', '중일초등학교', '43', '1175', '51'], ['경기도 김포시', '청수초등학교', '64', '1794', '74'], ['경기도 양주시', '율정초등학교', '32', '823', '40'], ['경기도 양주시', '옥정초등학교', '44', '1198', '50'], ['경기도 고양시 덕양구', '고양오금초등학교', '19', '417', '23'], ['경기도 성남시 수정구', '위례한빛초등학교', '43', '1131', '53'], ['경기도 성남시 수정구', '위례푸른초등학교', '36', '954', '42'], ['경기도 성남시 수정구', '위례고운초등학교', '12', '214', '14'], ['경기도 성남시 수정구', '위례중앙초등학교', '21', '502', '26'], ['경기도 광주시', '태성초등학교', '52', '1611', '60'], ['경기도 시흥시', '배곧초등학교', '62', '1690', '73'], ['경기도 시흥시', '배곧라온초등학교', '50', '1249', '56'], ['경기도 시흥시', '산현초등학교', '31', '870', '36'], ['경기도 시흥시', '운흥초등학교', '30', '705', '35'], ['경기도 시흥시', '조남초등학교', '27', '683', '33'], ['경기도 시흥시', '생금초등학교', '20', '472', '27'], ['경기도 화성시', '화원초등학교', '35', '897', '42'], ['경기도 화성시', '하길초등학교', '32', '903', '36'], ['경기도 수원시 권선구', '곡정초등학교', '55', '1529', '62'], ['경기도 파주시', '산내초등학교', '54', '1482', '61'], ['경기도 오산시', '금암초등학교', '34', '826', '40'], ['경기도 양주시', '광사초등학교', '31', '910', '37'], ['경기도 하남시', '나룰초등학교', '29', '718', '35'], ['경기도 김포시', '마송중앙초등학교', '21', '413', '27'], ['경기도 군포시', '부곡중앙초등학교', '35', '913', '41'], ['경기도 고양시 덕양구', '서정초등학교', '25', '571', '30'], ['경기도 성남시 분당구', '성남화랑초등학교', '32', '868', '37'], ['경기도 용인시 수지구', '성서초등학교', '31', '843', '35'], ['경기도 성남시 분당구', '신백현초등학교', '26', '667', '32'], ['경기도 김포시', '신양초등학교', '31', '741', '37'], ['경기도 고양시 일산동구', '양일초등학교', '49', '1370', '59'], ['경기도 용인시 수지구', '용인신봉초등학교', '36', '979', '42'], ['경기도 파주시', '운광초등학교', '40', '1050', '46'], ['경기도 이천시', '이천사동초등학교', '22', '582', '26'], ['경기도 남양주시', '주곡초등학교', '37', '1033', '43'], ['경기도 파주시', '한가람초등학교', '52', '1414', '62'], ['경기도 파주시', '한빛초등학교', '63', '1792', '78'], ['경기도 군포시', '한얼초등학교', '18', '415', '23'], ['경기도 파주시', '해솔초등학교', '50', '1399', '60'], ['경기도 남양주시', '화도초등학교', '43', '1140', '52'], ['경기도 남양주시', '화봉초등학교', '36', '926', '42'], ['경기도 화성시', '화성반월초등학교', '51', '1392', '59'], ['경기도 용인시 처인구', '두창초등학교', '6', '96', '7'], ['경기도 고양시 덕양구', '고양동산초등학교', '47', '1294', '54'], ['경기도 평택시', '자란초등학교', '26', '658', '35'], ['경기도 수원시 권선구', '수원가온초등학교', '41', '1272', '47'], ['경기도 수원시 장안구', '다솔초등학교', '57', '1656', '68'], ['경기도 김포시', '하늘빛초등학교', '46', '1262', '54'], ['경기도 김포시', '김포호수초등학교', '49', '1275', '57'], ['경기도 파주시', '운정초등학교', '40', '1037', '47'], ['경기도 의정부시', '의정부송산초등학교', '53', '1493', '59'], ['경기도 남양주시', '남양주월산초등학교', '22', '549', '26'], ['경기도 남양주시', '해밀초등학교', '35', '950', '39'], ['경기도 용인시 수지구', '매봉초등학교', '13', '330', '16'], ['경기도 하남시', '미사초등학교', '41', '1077', '47'], ['경기도 하남시', '미사강변초등학교', '58', '1644', '69'], ['경기도 의정부시', '삼현초등학교', '41', '1158', '47'], ['경기도 화성시', '동탄중앙초등학교', '59', '1861', '68'], ['경기도 화성시', '화성청계초등학교', '56', '1629', '66'], ['경기도 화성시', '아인초등학교', '41', '1116', '48'], ['경기도 화성시', '무봉초등학교', '30', '800', '36'], ['경기도 화성시', '예솔초등학교', '33', '825', '37'], ['경기도 화성시', '청목초등학교', '48', '1386', '56'], ['경기도 화성시', '왕배초등학교', '49', '1244', '56'], ['경기도 화성시', '방교초등학교', '30', '752', '35'], ['경기도 화성시', '서연초등학교', '35', '990', '40'], ['경기도 화성시', '영천초등학교', '34', '899', '40'], ['경기도 화성시', '한백초등학교', '44', '1120', '50'], ['경기도 고양시 덕양구', '도래울초등학교', '42', '1099', '50'], ['경기도 남양주시', '한별초등학교', '36', '974', '41'], ['경기도 남양주시', '남양주샛별초등학교', '38', '1042', '45'], ['경기도 양평군', '정배초등학교', '7', '74', '8'], ['경기도 하남시', '위례초등학교', '51', '1416', '59'], ['경기도 하남시', '미사중앙초등학교', '39', '1097', '46'], ['경기도 평택시', '현촌초등학교', '44', '1164', '54'], ['경기도 안성시', '어울초등학교', '19', '474', '24'], ['경기도 부천시', '옥길버들초등학교', '44', '1233', '49'], ['경기도 부천시', '옥길산들초등학교', '60', '1697', '69'], ['경기도 용인시 기흥구', '샘말초등학교', '38', '1050', '44'], ['경기도 화성시', '송린초등학교', '35', '949', '41'], ['경기도 화성시', '한율초등학교', '34', '951', '40'], ['경기도 광주시', '역동초등학교', '28', '718', '34'], ['경기도 구리시', '산마루초등학교', '31', '786', '37'], ['경기도 평택시', '평택이화초등학교', '48', '1375', '57'], ['경기도 하남시', '윤슬초등학교', '53', '1409', '61'], ['경기도 하남시', '한홀초등학교', '43', '1122', '51'], ['경기도 하남시', '청아초등학교', '31', '840', '41'], ['경기도 수원시 영통구', '광교호수초등학교', '11', '257', '14'], ['경기도 시흥시', '배곧한울초등학교', '38', '1055', '44'], ['경기도 오산시', '다온초등학교', '21', '495', '25'], ['경기도 시흥시', '배곧해솔초등학교', '45', '1298', '51'], ['경기도 수원시 영통구', '망포초등학교', '35', '1021', '41'], ['경기도 용인시 기흥구', '용인한얼초등학교', '32', '827', '38'], ['경기도 평택시', '평택청아초등학교', '31', '783', '37'], ['경기도 남양주시', '다산가람초등학교', '35', '936', '40'], ['경기도 평택시', '용죽초등학교', '37', '1090', '42'], ['경기도 화성시', '동탄목동초등학교', '45', '1263', '51'], ['경기도 화성시', '다원초등학교', '26', '700', '31'], ['경기도 화성시', '효행초등학교', '55', '1191', '63'], ['경기도 화성시', '대양초등학교', '31', '829', '41'], ['경기도 화성시', '치동초등학교', '22', '570', '25'], ['경기도 화성시', '정현초등학교', '46', '1261', '54'], ['경기도 평택시', '가내초등학교', '45', '1247', '51'], ['경기도 남양주시', '다산한강초등학교', '19', '303', '24'], ['경기도 의왕시', '백운호수초등학교', '12', '144', '15'], ['경기도 남양주시', '남양주다산초등학교', '38', '1077', '44'], ['경기도 오산시', '세마초등학교', '17', '404', '20'], ['경기도 남양주시', '다산새봄초등학교', '29', '759', '35'], ['경기도 고양시 덕양구', '창릉초등학교', '10', '75', '12'], ['경기도 고양시 덕양구', '향동숲내초등학교', '7', '58', '9'], ['경기도 시흥시', '은빛초등학교', '24', '604', '28'], ['경기도 시흥시', '배곧누리초등학교', '17', '370', '21'], ['경기도 화성시', '청림초등학교', '27', '695', '31'], ['경기도 용인시 처인구', '남곡초등학교남곡분교장', '5', '47', '6'], ['경기도 평택시', '평택서재초등학교', '33', '893', '39'], ['경기도 남양주시', '은솔초등학교', '15', '332', '18'], ['강원도 춘천시', '춘천교육대학교부설초등학교', '19', '433', '22'], ['강원도 강릉시', '강동초등학교', '7', '83', '8'], ['강원도 강릉시', '강릉초등학교', '23', '554', '26'], ['강원도 강릉시', '경포대초등학교', '6', '78', '7'], ['강원도 강릉시', '경포초등학교', '35', '836', '41'], ['강원도 강릉시', '교동초등학교', '18', '402', '20'], ['강원도 강릉시', '구정초등학교', '6', '91', '7'], ['강원도 강릉시', '금광초등학교', '7', '89', '8'], ['강원도 강릉시', '옥계초등학교금진분교장', '2', '6', '2'], ['강원도 강릉시', '남강초등학교', '12', '210', '13'], ['강원도 강릉시', '남산초등학교', '23', '512', '27'], ['강원도 강릉시', '노암초등학교', '15', '330', '17'], ['강원도 강릉시', '동명초등학교', '17', '359', '19'], ['강원도 강릉시', '명주초등학교', '28', '671', '32'], ['강원도 강릉시', '모산초등학교', '7', '70', '8'], ['강원도 강릉시', '사천초등학교', '7', '76', '8'], ['강원도 강릉시', '성덕초등학교', '32', '756', '37'], ['강원도 강릉시', '성산초등학교', '7', '59', '7'], ['강원도 강릉시', '송양초등학교', '10', '143', '11'], ['강원도 강릉시', '신영초등학교', '6', '34', '7'], ['강원도 강릉시', '신왕초등학교', '6', '34', '6'], ['강원도 강릉시', '연곡초등학교', '12', '188', '14'], ['강원도 강릉시', '영동초등학교', '8', '136', '9'], ['강원도 강릉시', '옥계초등학교', '7', '72', '9'], ['강원도 강릉시', '옥천초등학교', '13', '207', '16'], ['강원도 강릉시', '왕산초등학교', '6', '36', '7'], ['강원도 강릉시', '운양초등학교', '6', '73', '6'], ['강원도 강릉시', '율곡초등학교', '45', '1162', '54'], ['강원도 강릉시', '임곡초등학교', '6', '65', '7'], ['강원도 강릉시', '정동초등학교', '7', '41', '7'], ['강원도 강릉시', '주문진초등학교', '22', '390', '25'], ['강원도 강릉시', '주영초등학교', '7', '98', '8'], ['강원도 강릉시', '중앙초등학교', '43', '1129', '52'], ['강원도 강릉시', '초당초등학교', '15', '333', '17'], ['강원도 강릉시', '포남초등학교', '14', '205', '16'], ['강원도 강릉시', '한솔초등학교', '24', '519', '27'], ['강원도 고성군', '간성초등학교', '17', '308', '22'], ['강원도 고성군', '거성초등학교', '7', '49', '8'], ['강원도 고성군', '거진초등학교', '8', '110', '9'], ['강원도 고성군', '공현진초등학교', '6', '38', '7'], ['강원도 고성군', '광산초등학교', '7', '41', '8'], ['강원도 고성군', '대진초등학교', '6', '33', '7'], ['강원도 고성군', '도학초등학교', '6', '32', '7'], ['강원도 고성군', '동광초등학교', '6', '31', '7'], ['강원도 고성군', '대진초등학교명파분교장', '2', '4', '2'], ['강원도 고성군', '아야진초등학교', '7', '53', '8'], ['강원도 고성군', '오호초등학교', '6', '36', '6'], ['강원도 고성군', '인흥초등학교', '6', '52', '7'], ['강원도 고성군', '죽왕초등학교', '6', '60', '7'], ['강원도 고성군', '천진초등학교', '6', '73', '7'], ['강원도 고성군', '광산초등학교흘리분교장', '3', '9', '3'], ['강원도 동해시', '남호초등학교', '35', '914', '40'], ['강원도 동해시', '동해삼육초등학교', '8', '182', '9'], ['강원도 동해시', '동해중앙초등학교', '31', '806', '37'], ['강원도 동해시', '동해초등학교', '14', '291', '17'], ['강원도 동해시', '동호초등학교', '13', '305', '15'], ['강원도 동해시', '망상초등학교', '7', '69', '8'], ['강원도 동해시', '묵호초등학교', '7', '107', '8'], ['강원도 동해시', '북삼초등학교', '18', '380', '20'], ['강원도 동해시', '북평초등학교', '20', '468', '23'], ['강원도 동해시', '삼화초등학교', '6', '97', '7'], ['강원도 동해시', '송정초등학교', '7', '81', '8'], ['강원도 동해시', '창호초등학교', '7', '59', '7'], ['강원도 동해시', '천곡초등학교', '14', '300', '17'], ['강원도 삼척시', '근덕초등학교궁촌분교장', '3', '7', '3'], ['강원도 삼척시', '근덕초등학교', '8', '114', '9'], ['강원도 삼척시', '도계초등학교', '12', '195', '14'], ['강원도 삼척시', '맹방초등학교', '6', '65', '7'], ['강원도 삼척시', '미로초등학교', '7', '57', '9'], ['강원도 삼척시', '삼척남초등학교', '7', '37', '8'], ['강원도 삼척시', '삼척중앙초등학교', '5', '27', '6'], ['강원도 삼척시', '삼척초등학교', '32', '816', '38'], ['강원도 삼척시', '서부초등학교', '14', '298', '16'], ['강원도 삼척시', '소달초등학교', '3', '10', '4'], ['강원도 삼척시', '신동초등학교', '3', '10', '3'], ['강원도 삼척시', '오저초등학교', '4', '11', '5'], ['강원도 삼척시', '임원초등학교', '5', '24', '6'], ['강원도 삼척시', '장원초등학교', '7', '77', '8'], ['강원도 삼척시', '장호초등학교', '5', '21', '6'], ['강원도 삼척시', '정라초등학교', '29', '709', '35'], ['강원도 삼척시', '진주초등학교', '13', '196', '15'], ['강원도 삼척시', '하장초등학교', '4', '16', '5'], ['강원도 삼척시', '호산초등학교', '7', '68', '8'], ['강원도 삼척시', '흥전초등학교', '7', '34', '8'], ['강원도 양양군', '강현초등학교', '7', '48', '8'], ['강원도 양양군', '상평초등학교공수전분교장', '3', '8', '3'], ['강원도 양양군', '광정초등학교', '6', '23', '6'], ['강원도 속초시', '교동초등학교', '36', '919', '42'], ['강원도 양양군', '남애초등학교', '3', '16', '3'], ['강원도 속초시', '대포초등학교', '6', '46', '5'], ['강원도 양양군', '상평초등학교', '6', '49', '7'], ['강원도 속초시', '설악초등학교', '6', '56', '7'], ['강원도 속초시', '속초초등학교', '13', '233', '15'], ['강원도 양양군', '손양초등학교', '6', '48', '7'], ['강원도 양양군', '송포초등학교', '4', '17', '5'], ['강원도 양양군', '양양초등학교', '25', '534', '31'], ['강원도 속초시', '영랑초등학교', '11', '188', '12'], ['강원도 양양군', '상평초등학교오색분교장', '2', '4', '2'], ['강원도 속초시', '온정초등학교', '7', '62', '8'], ['강원도 양양군', '인구초등학교', '6', '31', '7'], ['강원도 양양군', '인구초등학교임호분교장', '2', '4', '2'], ['강원도 양양군', '조산초등학교', '6', '40', '8'], ['강원도 속초시', '조양초등학교', '16', '363', '18'], ['강원도 속초시', '중앙초등학교', '13', '286', '15'], ['강원도 속초시', '청대초등학교', '25', '612', '29'], ['강원도 속초시', '청호초등학교', '6', '61', '7'], ['강원도 양양군', '한남초등학교', '6', '62', '7'], ['강원도 양양군', '현북초등학교', '3', '12', '3'], ['강원도 양양군', '상평초등학교현서분교장', '2', '3', '2'], ['강원도 양양군', '현성초등학교', '3', '11', '3'], ['강원도 양양군', '회룡초등학교', '6', '31', '7'], ['강원도 양구군', '도촌초등학교', '7', '38', '8'], ['강원도 양구군', '방산초등학교', '5', '22', '6'], ['강원도 양구군', '비봉초등학교', '11', '161', '13'], ['강원도 양구군', '양구초등학교', '29', '602', '33'], ['강원도 양구군', '용하초등학교', '7', '49', '8'], ['강원도 양구군', '원당초등학교', '6', '32', '7'], ['강원도 양구군', '임당초등학교', '7', '29', '8'], ['강원도 양구군', '죽리초등학교', '7', '85', '8'], ['강원도 양구군', '한전초등학교', '6', '51', '7'], ['강원도 양구군', '해안초등학교', '6', '21', '7'], ['강원도 영월군', '구래초등학교', '4', '16', '4'], ['강원도 영월군', '내성초등학교', '13', '171', '15'], ['강원도 영월군', '녹전초등학교', '5', '25', '6'], ['강원도 영월군', '마차초등학교', '6', '23', '7'], ['강원도 영월군', '무릉초등학교', '7', '42', '8'], ['강원도 영월군', '봉래초등학교', '7', '96', '8'], ['강원도 영월군', '봉래초등학교거운분교장', '2', '3', '2'], ['강원도 영월군', '신천초등학교', '6', '25', '7'], ['강원도 영월군', '쌍룡초등학교', '6', '38', '7'], ['강원도 영월군', '연당초등학교', '7', '41', '8'], ['강원도 영월군', '영월초등학교연하분교장', '2', '5', '2'], ['강원도 영월군', '영월초등학교', '29', '643', '34'], ['강원도 영월군', '옥동초등학교', '7', '34', '8'], ['강원도 영월군', '주천초등학교', '7', '79', '8'], ['강원도 영월군', '청령포초등학교', '7', '75', '8'], ['강원도 영월군', '쌍룡초등학교토교분교장', '2', '4', '2'], ['강원도 원주시', '고산초등학교', '6', '44', '7'], ['강원도 원주시', '관설초등학교', '7', '49', '8'], ['강원도 원주시', '교동초등학교', '19', '366', '22'], ['강원도 원주시', '교학초등학교', '6', '34', '7'], ['강원도 원주시', '귀래초등학교', '7', '65', '8'], ['강원도 원주시', '금대초등학교', '7', '52', '8'], ['강원도 원주시', '남원주초등학교', '37', '968', '44'], ['강원도 원주시', '단계초등학교', '30', '695', '34'], ['강원도 원주시', '단구초등학교', '18', '351', '19'], ['강원도 원주시', '둔둔초등학교', '9', '119', '11'], ['강원도 원주시', '만종초등학교', '7', '82', '8'], ['강원도 원주시', '매지초등학교', '7', '53', '8'], ['강원도 원주시', '명륜초등학교', '24', '558', '27'], ['강원도 원주시', '문막초등학교', '22', '492', '25'], ['강원도 원주시', '반계초등학교', '6', '54', '7'], ['강원도 원주시', '봉대초등학교', '33', '764', '38'], ['강원도 원주시', '부론초등학교', '6', '46', '8'], ['강원도 원주시', '북원초등학교', '13', '230', '14'], ['강원도 원주시', '비두초등학교', '6', '30', '7'], ['강원도 원주시', '산현초등학교', '4', '14', '5'], ['강원도 원주시', '서곡초등학교', '13', '174', '16'], ['강원도 원주시', '서원주초등학교', '32', '803', '39'], ['강원도 원주시', '소초초등학교', '6', '59', '7'], ['강원도 원주시', '신림초등학교', '7', '49', '8'], ['강원도 원주시', '신평초등학교', '6', '68', '7'], ['강원도 원주시', '우산초등학교', '13', '272', '15'], ['강원도 원주시', '원주삼육초등학교', '18', '526', '19'], ['강원도 원주시', '원주초등학교', '14', '266', '15'], ['강원도 원주시', '일산초등학교', '17', '352', '20'], ['강원도 원주시', '장양초등학교', '9', '156', '11'], ['강원도 원주시', '중앙초등학교', '13', '223', '14'], ['강원도 원주시', '지정초등학교', '6', '56', '7'], ['강원도 원주시', '치악초등학교', '14', '272', '16'], ['강원도 원주시', '태장초등학교', '33', '820', '38'], ['강원도 원주시', '평원초등학교', '35', '852', '41'], ['강원도 원주시', '학성초등학교', '26', '602', '30'], ['강원도 원주시', '호저초등학교', '7', '67', '8'], ['강원도 원주시', '황둔초등학교', '4', '21', '5'], ['강원도 원주시', '흥양초등학교', '6', '86', '7'], ['강원도 원주시', '흥업초등학교', '13', '224', '15'], ['강원도 인제군', '귀둔초등학교', '6', '19', '7'], ['강원도 인제군', '기린초등학교', '13', '199', '15'], ['강원도 인제군', '기린초등학교방동분교장', '2', '5', '2'], ['강원도 인제군', '부평초등학교', '7', '90', '8'], ['강원도 인제군', '상남초등학교', '6', '26', '7'], ['강원도 인제군', '서화초등학교서성분교장', '1', '3', '1'], ['강원도 인제군', '서화초등학교', '8', '114', '9'], ['강원도 인제군', '원통초등학교신덕분교장', '2', '5', '2'], ['강원도 인제군', '어론초등학교', '8', '126', '10'], ['강원도 인제군', '용대초등학교', '6', '38', '7'], ['강원도 인제군', '원통초등학교', '16', '299', '18'], ['강원도 인제군', '월학초등학교', '5', '21', '6'], ['강원도 인제군', '인제남초등학교', '13', '208', '15'], ['강원도 인제군', '인제초등학교', '13', '246', '16'], ['강원도 인제군', '기린초등학교진동분교장', '2', '7', '2'], ['강원도 인제군', '하남초등학교', '6', '37', '7'], ['강원도 인제군', '한계초등학교', '6', '57', '7'], ['강원도 정선군', '갈래초등학교', '7', '45', '8'], ['강원도 정선군', '고한초등학교', '7', '61', '8'], ['강원도 정선군', '남선초등학교', '7', '40', '8'], ['강원도 정선군', '남선초등학교남창분교장', '3', '9', '3'], ['강원도 정선군', '남평초등학교', '5', '25', '6'], ['강원도 정선군', '백전초등학교', '4', '12', '5'], ['강원도 정선군', '벽탄초등학교', '5', '24', '6'], ['강원도 정선군', '봉양초등학교', '7', '118', '8'], ['강원도 정선군', '북평초등학교', '6', '72', '7'], ['강원도 정선군', '사북초등학교', '13', '244', '15'], ['강원도 정선군', '여량초등학교', '7', '44', '8'], ['강원도 정선군', '예미초등학교', '6', '65', '7'], ['강원도 정선군', '예미초등학교운치분교장', '2', '3', '2'], ['강원도 정선군', '임계초등학교', '7', '83', '8'], ['강원도 정선군', '정선초등학교', '23', '438', '26'], ['강원도 정선군', '정선초등학교가수분교장', '2', '6', '2'], ['강원도 정선군', '증산초등학교', '8', '82', '9'], ['강원도 정선군', '함백초등학교', '7', '54', '8'], ['강원도 정선군', '화동초등학교', '7', '41', '8'], ['강원도 철원군', '근남초등학교', '7', '77', '8'], ['강원도 철원군', '김화초등학교', '6', '52', '7'], ['강원도 철원군', '내대초등학교', '6', '32', '7'], ['강원도 철원군', '도창초등학교', '3', '10', '3'], ['강원도 철원군', '동송초등학교', '30', '664', '37'], ['강원도 철원군', '묘장초등학교', '5', '28', '6'], ['강원도 철원군', '문혜초등학교', '7', '58', '8'], ['강원도 철원군', '서면초등학교', '6', '71', '7'], ['강원도 철원군', '신철원초등학교', '19', '383', '23'], ['강원도 철원군', '오덕초등학교', '7', '86', '8'], ['강원도 철원군', '와수초등학교', '13', '171', '17'], ['강원도 철원군', '용정초등학교', '6', '48', '7'], ['강원도 철원군', '장흥초등학교', '6', '84', '7'], ['강원도 철원군', '철원초등학교', '12', '194', '15'], ['강원도 철원군', '청양초등학교', '9', '130', '10'], ['강원도 철원군', '토성초등학교', '5', '21', '6'], ['강원도 춘천시', '가산초등학교', '7', '84', '8'], ['강원도 춘천시', '광판초등학교', '6', '43', '7'], ['강원도 춘천시', '교동초등학교', '7', '122', '8'], ['강원도 춘천시', '근화초등학교', '12', '212', '15'], ['강원도 춘천시', '금병초등학교', '11', '180', '12'], ['강원도 춘천시', '금산초등학교', '7', '84', '8'], ['강원도 춘천시', '남부초등학교', '37', '997', '46'], ['강원도 춘천시', '남산초등학교', '7', '73', '8'], ['강원도 춘천시', '남춘천초등학교', '18', '386', '21'], ['강원도 춘천시', '당림초등학교', '3', '13', '3'], ['강원도 춘천시', '동내초등학교', '18', '355', '20'], ['강원도 춘천시', '동부초등학교', '21', '491', '26'], ['강원도 춘천시', '동춘천초등학교', '12', '248', '13'], ['강원도 춘천시', '만천초등학교', '45', '1113', '53'], ['강원도 춘천시', '봄내초등학교', '35', '916', '40'], ['강원도 춘천시', '봉의초등학교', '16', '337', '18'], ['강원도 춘천시', '부안초등학교', '25', '608', '29'], ['강원도 춘천시', '상천초등학교', '7', '111', '8'], ['강원도 춘천시', '서상초등학교', '6', '57', '7'], ['강원도 춘천시', '남산초등학교서천분교장', '4', '13', '5'], ['강원도 춘천시', '석사초등학교', '36', '921', '42'], ['강원도 춘천시', '소양초등학교', '38', '974', '45'], ['강원도 춘천시', '송화초등학교', '6', '32', '7'], ['강원도 춘천시', '신남초등학교', '16', '335', '18'], ['강원도 춘천시', '신동초등학교', '14', '284', '16'], ['강원도 춘천시', '오동초등학교', '7', '62', '8'], ['강원도 춘천시', '우석초등학교', '21', '519', '24'], ['강원도 춘천시', '조양초등학교', '6', '59', '7'], ['강원도 춘천시', '중앙초등학교', '16', '366', '18'], ['강원도 춘천시', '지촌초등학교지암분교장', '4', '15', '5'], ['강원도 춘천시', '지촌초등학교', '5', '26', '6'], ['강원도 춘천시', '천전초등학교', '8', '96', '9'], ['강원도 춘천시', '추곡초등학교', '3', '14', '3'], ['강원도 춘천시', '춘천삼육초등학교', '11', '260', '11'], ['강원도 춘천시', '춘천초등학교', '15', '328', '17'], ['강원도 춘천시', '호반초등학교', '15', '303', '17'], ['강원도 춘천시', '효제초등학교', '11', '189', '11'], ['강원도 춘천시', '후평초등학교', '17', '375', '20'], ['강원도 태백시', '동점초등학교', '5', '32', '6'], ['강원도 태백시', '미동초등학교', '6', '34', '7'], ['강원도 태백시', '삼성초등학교', '6', '52', '7'], ['강원도 태백시', '상장초등학교', '13', '224', '15'], ['강원도 태백시', '장성초등학교', '7', '89', '8'], ['강원도 태백시', '철암초등학교', '7', '42', '8'], ['강원도 태백시', '태백초등학교', '6', '38', '7'], ['강원도 태백시', '태서초등학교', '7', '72', '8'], ['강원도 태백시', '통리초등학교', '7', '40', '8'], ['강원도 태백시', '함태초등학교', '7', '121', '8'], ['강원도 태백시', '황지중앙초등학교', '23', '467', '26'], ['강원도 태백시', '황지초등학교', '48', '1050', '55'], ['강원도 평창군', '가평초등학교', '2', '5', '2'], ['강원도 평창군', '거문초등학교', '5', '36', '6'], ['강원도 평창군', '계촌초등학교', '6', '32', '7'], ['강원도 평창군', '대화초등학교', '8', '113', '9'], ['강원도 평창군', '도성초등학교', '6', '39', '7'], ['강원도 평창군', '대관령초등학교', '6', '59', '7'], ['강원도 평창군', '면온초등학교', '6', '73', '7'], ['강원도 평창군', '미탄초등학교', '6', '37', '6'], ['강원도 평창군', '방림초등학교', '5', '22', '6'], ['강원도 평창군', '봉평초등학교', '12', '182', '14'], ['강원도 평창군', '속사초등학교', '6', '49', '7'], ['강원도 평창군', '신리초등학교', '6', '36', '7'], ['강원도 평창군', '안미초등학교', '6', '28', '7'], ['강원도 평창군', '장평초등학교', '7', '61', '8'], ['강원도 평창군', '주진초등학교', '7', '23', '8'], ['강원도 평창군', '진부초등학교', '13', '234', '16'], ['강원도 평창군', '평창초등학교', '19', '369', '22'], ['강원도 평창군', '호명초등학교', '6', '66', '7'], ['강원도 평창군', '횡계초등학교', '9', '131', '10'], ['강원도 홍천군', '구송초등학교', '7', '35', '8'], ['강원도 홍천군', '남산초등학교', '43', '878', '51'], ['강원도 홍천군', '내촌초등학교', '7', '29', '8'], ['강원도 홍천군', '대곡초등학교', '5', '24', '6'], ['강원도 홍천군', '동창초등학교', '3', '10', '3'], ['강원도 홍천군', '두촌초등학교', '7', '41', '8'], ['강원도 홍천군', '매산초등학교', '7', '32', '8'], ['강원도 홍천군', '명덕초등학교', '12', '173', '14'], ['강원도 홍천군', '모곡초등학교', '3', '9', '3'], ['강원도 홍천군', '반곡초등학교', '6', '31', '7'], ['강원도 홍천군', '삼생초등학교', '5', '27', '6'], ['강원도 홍천군', '삼포초등학교', '6', '51', '7'], ['강원도 홍천군', '서석초등학교', '7', '57', '8'], ['강원도 홍천군', '석화초등학교', '16', '282', '18'], ['강원도 홍천군', '속초초등학교', '7', '46', '8'], ['강원도 홍천군', '오안초등학교', '6', '58', '7'], ['강원도 홍천군', '원당초등학교', '3', '12', '3'], ['강원도 홍천군', '율전초등학교', '4', '14', '5'], ['강원도 홍천군', '속초초등학교좌운분교장', '2', '6', '2'], ['강원도 홍천군', '주봉초등학교', '7', '73', '8'], ['강원도 홍천군', '창촌초등학교', '7', '48', '8'], ['강원도 홍천군', '서석초등학교청량분교장', '4', '21', '5'], ['강원도 홍천군', '한서초등학교', '4', '14', '5'], ['강원도 홍천군', '협신초등학교', '6', '35', '7'], ['강원도 홍천군', '홍천초등학교', '33', '718', '39'], ['강원도 홍천군', '화계초등학교', '7', '82', '8'], ['강원도 홍천군', '화촌초등학교', '6', '26', '7'], ['강원도 화천군', '광덕초등학교', '6', '42', '7'], ['강원도 화천군', '다목초등학교', '4', '13', '5'], ['강원도 화천군', '봉오초등학교', '5', '22', '6'], ['강원도 화천군', '사내초등학교', '13', '263', '15'], ['강원도 화천군', '산양초등학교', '6', '19', '7'], ['강원도 화천군', '상승초등학교', '5', '27', '6'], ['강원도 화천군', '실내초등학교', '6', '32', '7'], ['강원도 화천군', '오음초등학교', '5', '16', '6'], ['강원도 화천군', '용암초등학교', '7', '42', '8'], ['강원도 화천군', '원천초등학교', '6', '30', '8'], ['강원도 화천군', '유촌초등학교', '6', '35', '7'], ['강원도 화천군', '풍산초등학교', '6', '63', '7'], ['강원도 화천군', '화천초등학교', '22', '459', '24'], ['강원도 횡성군', '갑천초등학교', '4', '22', '5'], ['강원도 횡성군', '강림초등학교', '5', '27', '6'], ['강원도 횡성군', '공근초등학교', '7', '56', '8'], ['강원도 횡성군', '안흥초등학교덕천분교장', '3', '8', '3'], ['강원도 횡성군', '둔내초등학교', '13', '185', '15'], ['강원도 횡성군', '서원초등학교', '6', '32', '7'], ['강원도 횡성군', '성남초등학교', '6', '62', '7'], ['강원도 횡성군', '성북초등학교', '25', '501', '31'], ['강원도 횡성군', '수백초등학교', '6', '64', '7'], ['강원도 횡성군', '안흥초등학교', '7', '53', '8'], ['강원도 횡성군', '우천초등학교', '7', '71', '8'], ['강원도 횡성군', '유현초등학교', '4', '13', '5'], ['강원도 횡성군', '정금초등학교', '5', '24', '6'], ['강원도 횡성군', '창림초등학교', '6', '34', '7'], ['강원도 횡성군', '청일초등학교', '5', '22', '6'], ['강원도 횡성군', '춘당초등학교', '3', '9', '3'], ['강원도 횡성군', '횡성초등학교', '26', '501', '31'], ['강원도 강릉시', '옥천초등학교운산분교장', '6', '39', '6'], ['강원도 홍천군', '속초초등학교월운분교장', '3', '9', '3'], ['강원도 원주시', '태봉초등학교', '23', '566', '26'], ['강원도 강릉시', '주문진초등학교삼덕분교장', '5', '24', '6'], ['강원도 화천군', '화천초등학교논미분교장', '4', '15', '5'], ['강원도 홍천군', '화계초등학교대룡분교장', '2', '5', '2'], ['강원도 춘천시', '성림초등학교', '42', '1141', '47'], ['강원도 속초시', '소야초등학교', '18', '374', '19'], ['강원도 동해시', '청운초등학교', '38', '960', '43'], ['강원도 영월군', '마차초등학교공기분교장', '1', '3', '1'], ['강원도 원주시', '동화초등학교', '24', '448', '27'], ['강원도 원주시', '단관초등학교', '42', '1059', '50'], ['강원도 원주시', '무실초등학교', '28', '677', '34'], ['강원도 춘천시', '성원초등학교', '40', '1037', '47'], ['강원도 원주시', '구곡초등학교', '39', '1027', '46'], ['강원도 속초시', '청봉초등학교', '29', '701', '36'], ['강원도 원주시', '반곡초등학교', '44', '1177', '55'], ['강원도 원주시', '만대초등학교', '34', '842', '41'], ['강원도 원주시', '솔샘초등학교', '40', '1041', '46'], ['강원도 원주시', '버들초등학교', '45', '1165', '53'], ['강원도 춘천시', '장학초등학교', '33', '789', '38'], ['강원도 원주시', '섬강초등학교', '38', '956', '43'], ['충청북도 청주시 서원구', '청주교육대학교부설초등학교', '19', '432', '22'], ['충청북도 청주시 흥덕구', '한국교원대학교부설월곡초등학교', '26', '542', '30'], ['충청북도 괴산군', '감물초등학교', '7', '47', '8'], ['충청북도 괴산군', '괴산명덕초등학교', '12', '189', '13'], ['충청북도 증평군', '도안초등학교', '6', '80', '9'], ['충청북도 괴산군', '동인초등학교', '18', '347', '21'], ['충청북도 괴산군', '목도초등학교', '8', '49', '9'], ['충청북도 괴산군', '문광초등학교', '6', '57', '7'], ['충청북도 괴산군', '백봉초등학교', '5', '26', '6'], ['충청북도 괴산군', '보광초등학교', '7', '81', '9'], ['충청북도 증평군', '삼보초등학교', '30', '681', '34'], ['충청북도 괴산군', '소수초등학교', '7', '27', '8'], ['충청북도 괴산군', '송면초등학교', '6', '38', '7'], ['충청북도 괴산군', '연풍초등학교', '7', '27', '8'], ['충청북도 괴산군', '장연초등학교', '4', '13', '5'], ['충청북도 증평군', '죽리초등학교', '7', '88', '8'], ['충청북도 증평군', '증평초등학교', '53', '1285', '63'], ['충청북도 괴산군', '청안초등학교', '7', '40', '8'], ['충청북도 괴산군', '청천초등학교', '6', '44', '7'], ['충청북도 괴산군', '칠성초등학교', '7', '71', '8'], ['충청북도 단양군', '가곡초등학교', '5', '28', '6'], ['충청북도 단양군', '가곡초등학교대곡분교장', '5', '35', '5'], ['충청북도 단양군', '가곡초등학교보발분교장', '2', '4', '2'], ['충청북도 단양군', '가평초등학교', '4', '16', '4'], ['충청북도 단양군', '단양초등학교', '18', '347', '20'], ['충청북도 단양군', '단천초등학교', '6', '32', '8'], ['충청북도 단양군', '대가초등학교', '6', '21', '7'], ['충청북도 단양군', '대강초등학교', '6', '41', '7'], ['충청북도 단양군', '매포초등학교', '13', '205', '16'], ['충청북도 단양군', '별방초등학교', '5', '20', '6'], ['충청북도 단양군', '상진초등학교', '11', '168', '13'], ['충청북도 단양군', '어상천초등학교', '6', '32', '7'], ['충청북도 단양군', '영춘초등학교', '7', '62', '8'], ['충청북도 보은군', '관기초등학교', '7', '38', '10'], ['충청북도 보은군', '내북초등학교', '6', '29', '8'], ['충청북도 보은군', '동광초등학교', '23', '474', '28'], ['충청북도 보은군', '산외초등학교', '4', '22', '5'], ['충청북도 보은군', '보은삼산초등학교', '16', '247', '19'], ['충청북도 보은군', '세중초등학교', '6', '25', '7'], ['충청북도 보은군', '속리초등학교', '6', '40', '7'], ['충청북도 보은군', '송죽초등학교', '5', '17', '6'], ['충청북도 보은군', '수정초등학교', '6', '38', '7'], ['충청북도 보은군', '수한초등학교', '6', '37', '7'], ['충청북도 보은군', '종곡초등학교', '6', '41', '7'], ['충청북도 보은군', '탄부초등학교', '7', '23', '8'], ['충청북도 보은군', '판동초등학교', '7', '47', '9'], ['충청북도 보은군', '회남초등학교', '5', '19', '6'], ['충청북도 보은군', '회인초등학교', '7', '46', '8'], ['충청북도 영동군', '매곡초등학교', '5', '18', '5'], ['충청북도 영동군', '부용초등학교', '11', '186', '13'], ['충청북도 영동군', '상촌초등학교', '7', '46', '7'], ['충청북도 영동군', '심천초등학교', '5', '26', '6'], ['충청북도 영동군', '양강초등학교', '6', '45', '7'], ['충청북도 영동군', '양산초등학교', '7', '35', '8'], ['충청북도 영동군', '구룡초등학교', '7', '60', '7'], ['충청북도 영동군', '영동초등학교', '25', '595', '29'], ['충청북도 영동군', '용화초등학교', '6', '23', '8'], ['충청북도 영동군', '이수초등학교', '20', '406', '27'], ['충청북도 영동군', '추풍령초등학교', '7', '45', '8'], ['충청북도 영동군', '학산초등학교', '7', '48', '9'], ['충청북도 영동군', '황간초등학교', '10', '148', '12'], ['충청북도 옥천군', '군남초등학교', '8', '79', '9'], ['충청북도 옥천군', '군서초등학교', '7', '44', '7'], ['충청북도 옥천군', '동이초등학교', '7', '40', '9'], ['충청북도 옥천군', '동이초등학교우산분교장', '4', '16', '5'], ['충청북도 옥천군', '삼양초등학교', '33', '788', '37'], ['충청북도 옥천군', '안남초등학교', '5', '28', '6'], ['충청북도 옥천군', '안내초등학교', '7', '33', '8'], ['충청북도 옥천군', '이원초등학교', '7', '97', '8'], ['충청북도 옥천군', '죽향초등학교', '18', '335', '23'], ['충청북도 옥천군', '증약초등학교', '7', '48', '8'], ['충청북도 옥천군', '증약초등학교대정분교장', '3', '7', '3'], ['충청북도 옥천군', '청산초등학교', '7', '61', '8'], ['충청북도 옥천군', '청성초등학교', '5', '24', '7'], ['충청북도 음성군', '감곡초등학교', '14', '241', '17'], ['충청북도 음성군', '남신초등학교', '18', '347', '21'], ['충청북도 음성군', '능산초등학교', '6', '28', '7'], ['충청북도 음성군', '대소초등학교', '31', '733', '38'], ['충청북도 음성군', '맹동초등학교', '9', '90', '10'], ['충청북도 음성군', '무극초등학교', '21', '412', '23'], ['충청북도 음성군', '부윤초등학교', '7', '67', '8'], ['충청북도 음성군', '삼성초등학교', '12', '177', '14'], ['충청북도 음성군', '생극초등학교', '8', '137', '10'], ['충청북도 음성군', '소이초등학교', '6', '56', '7'], ['충청북도 음성군', '수봉초등학교', '18', '331', '23'], ['충청북도 음성군', '쌍봉초등학교', '6', '54', '7'], ['충청북도 음성군', '오갑초등학교', '6', '34', '7'], ['충청북도 음성군', '오선초등학교', '7', '79', '8'], ['충청북도 음성군', '용천초등학교', '27', '607', '31'], ['충청북도 음성군', '원남초등학교', '7', '58', '8'], ['충청북도 음성군', '원당초등학교', '6', '84', '7'], ['충청북도 음성군', '청룡초등학교', '6', '75', '7'], ['충청북도 음성군', '평곡초등학교', '6', '50', '7'], ['충청북도 음성군', '하당초등학교', '6', '75', '7'], ['충청북도 제천시', '금성초등학교', '7', '47', '7'], ['충청북도 제천시', '남당초등학교', '9', '161', '12'], ['충청북도 제천시', '남천초등학교', '12', '170', '14'], ['충청북도 제천시', '동명초등학교', '29', '713', '35'], ['충청북도 제천시', '두학초등학교', '7', '62', '9'], ['충청북도 제천시', '명지초등학교', '34', '743', '40'], ['충청북도 제천시', '백운초등학교', '7', '65', '8'], ['충청북도 제천시', '봉양초등학교', '7', '80', '8'], ['충청북도 제천시', '송학초등학교', '6', '38', '7'], ['충청북도 제천시', '수산초등학교', '7', '32', '8'], ['충청북도 제천시', '신백초등학교', '17', '344', '21'], ['충청북도 제천시', '왕미초등학교', '12', '236', '14'], ['충청북도 제천시', '용두초등학교', '13', '266', '15'], ['충청북도 제천시', '의림초등학교', '27', '657', '32'], ['충청북도 제천시', '입석초등학교', '6', '25', '7'], ['충청북도 제천시', '제천덕산초등학교', '6', '66', '9'], ['충청북도 제천시', '제천중앙초등학교', '15', '314', '20'], ['충청북도 제천시', '청풍초등학교', '5', '21', '6'], ['충청북도 제천시', '한송초등학교', '4', '13', '5'], ['충청북도 제천시', '홍광초등학교', '30', '679', '35'], ['충청북도 제천시', '화당초등학교', '6', '48', '7'], ['충청북도 제천시', '화산초등학교', '16', '319', '18'], ['충청북도 진천군', '구정초등학교', '6', '65', '7'], ['충청북도 진천군', '금구초등학교', '6', '58', '7'], ['충청북도 진천군', '만승초등학교', '31', '710', '34'], ['충청북도 진천군', '문백초등학교', '7', '69', '8'], ['충청북도 진천군', '문상초등학교', '8', '131', '9'], ['충청북도 진천군', '백곡초등학교', '6', '45', '7'], ['충청북도 진천군', '성암초등학교', '7', '57', '8'], ['충청북도 진천군', '옥동초등학교', '48', '1243', '56'], ['충청북도 진천군', '이월초등학교', '12', '150', '14'], ['충청북도 진천군', '진천삼수초등학교', '36', '823', '43'], ['충청북도 진천군', '진천상산초등학교', '39', '906', '46'], ['충청북도 진천군', '초평초등학교', '7', '64', '9'], ['충청북도 진천군', '학성초등학교', '7', '89', '8'], ['충청북도 진천군', '한천초등학교', '13', '214', '15'], ['충청북도 청주시 상당구', '가덕초등학교', '6', '50', '7'], ['충청북도 청주시 청원구', '각리초등학교', '57', '1681', '69'], ['충청북도 청주시 서원구', '갈원초등학교', '7', '71', '8'], ['충청북도 청주시 흥덕구', '강내초등학교', '7', '71', '7'], ['충청북도 청주시 흥덕구', '오송초등학교', '10', '164', '12'], ['충청북도 청주시 서원구', '남이초등학교', '6', '117', '7'], ['충청북도 청주시 상당구', '남일초등학교', '13', '270', '16'], ['충청북도 청주시 상당구', '낭성초등학교', '7', '52', '8'], ['충청북도 청주시 청원구', '내수초등학교', '19', '385', '22'], ['충청북도 청주시 청원구', '대길초등학교', '6', '33', '7'], ['충청북도 청주시 상당구', '동화초등학교', '7', '74', '8'], ['충청북도 청주시 흥덕구', '만수초등학교', '52', '1366', '62'], ['충청북도 청주시 상당구', '문의초등학교', '7', '92', '8'], ['충청북도 청주시 상당구', '문의초등학교도원분교장', '6', '64', '7'], ['충청북도 청주시 상당구', '미원초등학교', '8', '81', '9'], ['충청북도 청주시 상당구', '미원초등학교금관분교장', '4', '15', '4'], ['충청북도 청주시 청원구', '북이초등학교', '7', '78', '7'], ['충청북도 청주시 청원구', '비상초등학교', '6', '79', '7'], ['충청북도 청주시 흥덕구', '상봉초등학교', '7', '29', '8'], ['충청북도 청주시 청원구', '석성초등학교', '6', '34', '8'], ['충청북도 청주시 청원구', '수성초등학교', '31', '673', '36'], ['충청북도 청주시 청원구', '수성초등학교구성분교장', '6', '31', '7'], ['충청북도 청주시 상당구', '신송초등학교', '7', '49', '8'], ['충청북도 청주시 청원구', '오창초등학교', '12', '185', '13'], ['충청북도 청주시 흥덕구', '옥산초등학교', '23', '473', '29'], ['충청북도 청주시 서원구', '옥포초등학교', '6', '40', '7'], ['충청북도 청주시 청원구', '청원초등학교', '40', '1036', '49'], ['충청북도 청주시 상당구', '행정초등학교', '6', '32', '7'], ['충청북도 청주시 서원구', '현도초등학교', '6', '40', '7'], ['충청북도 청주시 흥덕구', '가경초등학교', '16', '281', '18'], ['충청북도 청주시 흥덕구', '강서초등학교', '30', '749', '34'], ['충청북도 청주시 서원구', '개신초등학교', '42', '1056', '52'], ['충청북도 청주시 흥덕구', '경덕초등학교', '25', '491', '30'], ['충청북도 청주시 흥덕구', '경산초등학교', '21', '489', '25'], ['충청북도 청주시 상당구', '교동초등학교', '32', '800', '37'], ['충청북도 청주시 상당구', '금천초등학교', '39', '965', '46'], ['충청북도 청주시 서원구', '남성초등학교', '31', '733', '35'], ['충청북도 청주시 서원구', '남평초등학교', '40', '994', '49'], ['충청북도 청주시 청원구', '청주내덕초등학교', '13', '218', '15'], ['충청북도 청주시 청원구', '청주대성초등학교', '15', '455', '16'], ['충청북도 청주시 청원구', '덕벌초등학교', '19', '386', '21'], ['충청북도 청주시 청원구', '덕성초등학교', '23', '485', '28'], ['충청북도 청주시 상당구', '동주초등학교', '43', '1112', '54'], ['충청북도 청주시 서원구', '모충초등학교', '19', '380', '22'], ['충청북도 청주시 흥덕구', '복대초등학교', '13', '210', '14'], ['충청북도 청주시 흥덕구', '봉명초등학교', '20', '480', '25'], ['충청북도 청주시 흥덕구', '봉정초등학교', '28', '621', '33'], ['충청북도 청주시 청원구', '북일초등학교', '7', '50', '7'], ['충청북도 청주시 서원구', '분평초등학교', '24', '530', '29'], ['충청북도 청주시 서원구', '사직초등학교', '16', '290', '18'], ['충청북도 청주시 상당구', '상당초등학교', '21', '533', '25'], ['충청북도 청주시 청원구', '새터초등학교', '26', '631', '31'], ['충청북도 청주시 흥덕구', '서원초등학교', '14', '274', '15'], ['충청북도 청주시 흥덕구', '서촌초등학교', '6', '41', '5'], ['충청북도 청주시 상당구', '석교초등학교', '15', '260', '17'], ['충청북도 청주시 서원구', '수곡초등학교', '22', '497', '26'], ['충청북도 청주시 상당구', '용담초등학교', '18', '330', '22'], ['충청북도 청주시 상당구', '용담초등학교현양원분교장', '5', '15', '5'], ['충청북도 청주시 상당구', '용암초등학교', '33', '750', '38'], ['충청북도 청주시 청원구', '우암초등학교', '14', '251', '15'], ['충청북도 청주시 상당구', '운동초등학교', '7', '95', '8'], ['충청북도 청주시 흥덕구', '운천초등학교', '25', '532', '30'], ['충청북도 청주시 상당구', '원봉초등학교', '26', '654', '30'], ['충청북도 청주시 서원구', '원평초등학교', '30', '653', '36'], ['충청북도 청주시 청원구', '율량초등학교', '27', '652', '31'], ['충청북도 청주시 상당구', '주성초등학교', '13', '191', '15'], ['충청북도 청주시 청원구', '중앙초등학교', '57', '1729', '67'], ['충청북도 청주시 흥덕구', '증안초등학교', '36', '895', '40'], ['충청북도 청주시 흥덕구', '진흥초등학교', '35', '868', '40'], ['충청북도 청주시 서원구', '창신초등학교', '54', '1529', '65'], ['충청북도 청주시 상당구', '청남초등학교', '20', '436', '21'], ['충청북도 청주시 흥덕구', '풍광초등학교', '21', '478', '26'], ['충청북도 청주시 서원구', '한벌초등학교', '19', '397', '23'], ['충청북도 청주시 서원구', '한솔초등학교', '18', '333', '20'], ['충청북도 청주시 흥덕구', '흥덕초등학교', '19', '403', '22'], ['충청북도 충주시', '가흥초등학교', '6', '29', '7'], ['충청북도 충주시', '금가초등학교', '11', '138', '13'], ['충청북도 충주시', '남한강초등학교', '12', '214', '14'], ['충청북도 충주시', '노은초등학교', '7', '39', '8'], ['충청북도 충주시', '단월초등학교', '6', '50', '7'], ['충청북도 충주시', '달천초등학교', '6', '71', '7'], ['충청북도 충주시', '달천초등학교매현분교장', '6', '34', '7'], ['충청북도 충주시', '대미초등학교', '7', '52', '8'], ['충청북도 충주시', '대소원초등학교', '9', '159', '10'], ['충청북도 충주시', '덕신초등학교', '7', '59', '8'], ['충청북도 충주시', '동락초등학교', '5', '16', '6'], ['충청북도 충주시', '동량초등학교', '6', '43', '7'], ['충청북도 충주시', '목행초등학교', '21', '498', '24'], ['충청북도 충주시', '산척초등학교', '7', '39', '8'], ['충청북도 충주시', '세성초등학교', '6', '45', '7'], ['충청북도 충주시', '소태초등학교', '6', '26', '7'], ['충청북도 충주시', '수안보초등학교', '6', '39', '7'], ['충청북도 충주시', '수회초등학교', '7', '43', '8'], ['충청북도 충주시', '앙성초등학교', '7', '54', '8'], ['충청북도 충주시', '야동초등학교', '3', '12', '3'], ['충청북도 충주시', '엄정초등학교', '7', '61', '8'], ['충청북도 충주시', '연수초등학교', '13', '235', '17'], ['충청북도 충주시', '오석초등학교', '6', '61', '7'], ['충청북도 충주시', '충주용산초등학교', '32', '795', '38'], ['충청북도 충주시', '용원초등학교', '6', '37', '7'], ['충청북도 충주시', '주덕초등학교', '7', '68', '8'], ['충청북도 충주시', '충주교현초등학교', '17', '373', '20'], ['충청북도 충주시', '충주남산초등학교', '46', '1078', '54'], ['충청북도 충주시', '충주대림초등학교', '15', '293', '18'], ['충청북도 충주시', '충주삼원초등학교', '17', '320', '19'], ['충청북도 충주시', '충주성남초등학교', '32', '753', '39'], ['충청북도 충주시', '충주예성초등학교', '13', '167', '16'], ['충청북도 충주시', '충주중앙초등학교', '17', '368', '21'], ['충청북도 충주시', '칠금초등학교', '24', '540', '27'], ['충청북도 충주시', '탄금초등학교', '38', '994', '45'], ['충청북도 영동군', '초강초등학교', '7', '30', '8'], ['충청북도 제천시', '장락초등학교', '42', '1025', '47'], ['충청북도 청주시 서원구', '죽림초등학교', '31', '773', '38'], ['충청북도 청주시 상당구', '산성초등학교', '54', '1426', '64'], ['충청북도 청주시 청원구', '주중초등학교', '39', '1026', '46'], ['충청북도 청주시 청원구', '사천초등학교', '32', '756', '36'], ['충청북도 청주시 흥덕구', '서경초등학교', '31', '764', '39'], ['충청북도 청주시 흥덕구', '봉덕초등학교', '28', '667', '33'], ['충청북도 청주시 상당구', '용성초등학교', '45', '1144', '53'], ['충청북도 제천시', '내토초등학교', '14', '308', '16'], ['충청북도 충주시', '충주금릉초등학교', '30', '729', '35'], ['충청북도 청주시 서원구', '산남초등학교', '39', '975', '47'], ['충청북도 청주시 서원구', '샛별초등학교', '38', '963', '46'], ['충청북도 청주시 청원구', '비봉초등학교', '41', '1001', '51'], ['충청북도 옥천군', '장야초등학교', '25', '570', '30'], ['충청북도 청주시 서원구', '성화초등학교', '44', '984', '54'], ['충청북도 충주시', '국원초등학교', '47', '1200', '57'], ['충청북도 청주시 흥덕구', '서현초등학교', '37', '975', '47'], ['충청북도 청주시 흥덕구', '직지초등학교', '28', '707', '36'], ['충청북도 청주시 흥덕구', '솔밭초등학교', '60', '1793', '69'], ['충청북도 음성군', '동성초등학교', '34', '824', '43'], ['충청북도 청주시 청원구', '양청초등학교', '23', '562', '27'], ['충청북도 청주시 청원구', '창리초등학교', '42', '1021', '49'], ['충청북도 청주시 흥덕구', '청주소로초등학교', '10', '184', '11'], ['충청북도 청주시 흥덕구', '청주내곡초등학교', '31', '850', '35'], ['충청북도 진천군', '진천상신초등학교', '24', '545', '27'], ['충청북도 청주시 상당구', '단재초등학교', '28', '678', '32'], ['충청북도 충주시', '충주중앙탑초등학교', '30', '802', '34'], ['충청남도 공주시', '공주교육대학교부설초등학교', '25', '530', '28'], ['충청남도 공주시', '경천초등학교', '6', '34', '8'], ['충청남도 공주시', '계룡초등학교', '6', '87', '7'], ['충청남도 공주시', '공주교동초등학교', '9', '175', '10'], ['충청남도 공주시', '공주금학초등학교', '7', '82', '8'], ['충청남도 공주시', '공주봉황초등학교', '7', '77', '8'], ['충청남도 공주시', '공주신월초등학교', '41', '1127', '46'], ['충청남도 공주시', '공주중동초등학교', '14', '240', '16'], ['충청남도 공주시', '구산초등학교', '6', '45', '7'], ['충청남도 공주시', '귀산초등학교', '6', '67', '8'], ['충청남도 공주시', '덕암초등학교', '6', '36', '7'], ['충청남도 공주시', '마곡초등학교', '6', '46', '7'], ['충청남도 공주시', '반포초등학교', '6', '71', '7'], ['충청남도 공주시', '상서초등학교', '6', '82', '7'], ['충청남도 공주시', '석송초등학교', '6', '36', '7'], ['충청남도 공주시', '수촌초등학교', '8', '109', '8'], ['충청남도 공주시', '신관초등학교', '34', '877', '39'], ['충청남도 공주시', '신풍초등학교', '6', '43', '7'], ['충청남도 공주시', '우성초등학교', '7', '65', '8'], ['충청남도 공주시', '유구초등학교', '9', '160', '11'], ['충청남도 공주시', '의당초등학교', '6', '94', '7'], ['충청남도 공주시', '이인초등학교', '6', '43', '7'], ['충청남도 공주시', '정안초등학교', '6', '73', '7'], ['충청남도 공주시', '탄천초등학교', '7', '63', '8'], ['충청남도 공주시', '태봉초등학교', '6', '63', '7'], ['충청남도 공주시', '학봉초등학교', '6', '51', '8'], ['충청남도 공주시', '호계초등학교', '6', '38', '8'], ['충청남도 공주시', '효포초등학교', '6', '46', '7'], ['충청남도 금산군', '군북초등학교', '7', '41', '7'], ['충청남도 금산군', '금성초등학교금계분교장', '2', '12', '3'], ['충청남도 금산군', '금산동초등학교', '10', '184', '11'], ['충청남도 금산군', '금산중앙초등학교', '21', '471', '24'], ['충청남도 금산군', '금산초등학교', '31', '765', '35'], ['충청남도 금산군', '금성초등학교', '7', '54', '8'], ['충청남도 금산군', '남이초등학교', '6', '29', '7'], ['충청남도 금산군', '남일초등학교', '6', '60', '7'], ['충청남도 금산군', '복수초등학교', '7', '43', '8'], ['충청남도 금산군', '부리초등학교', '7', '46', '8'], ['충청남도 금산군', '상곡초등학교', '6', '43', '7'], ['충청남도 금산군', '성대초등학교', '7', '41', '8'], ['충청남도 금산군', '신대초등학교', '6', '36', '7'], ['충청남도 금산군', '용문초등학교', '8', '109', '9'], ['충청남도 금산군', '제원초등학교', '7', '45', '9'], ['충청남도 금산군', '진산초등학교', '7', '79', '8'], ['충청남도 금산군', '추부초등학교', '12', '202', '14'], ['충청남도 논산시', '가야곡초등학교', '7', '41', '8'], ['충청남도 논산시', '감곡초등학교', '8', '45', '9'], ['충청남도 논산시', '강경산양초등학교', '7', '66', '9'], ['충청남도 논산시', '강경중앙초등학교', '6', '45', '7'], ['충청남도 논산시', '강경황산초등학교', '13', '265', '15'], ['충청남도 논산시', '광석초등학교', '7', '53', '8'], ['충청남도 논산시', '구자곡초등학교', '7', '66', '8'], ['충청남도 논산시', '노성초등학교', '6', '119', '7'], ['충청남도 논산시', '논산동성초등학교', '25', '637', '30'], ['충청남도 논산시', '논산반월초등학교', '9', '171', '10'], ['충청남도 논산시', '논산부창초등학교', '16', '361', '19'], ['충청남도 논산시', '논산중앙초등학교', '33', '839', '41'], ['충청남도 논산시', '대명초등학교', '7', '34', '9'], ['충청남도 논산시', '도산초등학교', '8', '124', '10'], ['충청남도 계룡시', '두마초등학교', '24', '540', '29'], ['충청남도 논산시', '반곡초등학교', '9', '156', '9'], ['충청남도 논산시', '백석초등학교', '7', '56', '8'], ['충청남도 논산시', '벌곡초등학교', '6', '77', '8'], ['충청남도 논산시', '부적초등학교', '7', '64', '8'], ['충청남도 논산시', '상월초등학교', '6', '43', '7'], ['충청남도 논산시', '성덕초등학교', '7', '67', '8'], ['충청남도 논산시', '성동초등학교', '7', '45', '8'], ['충청남도 논산시', '양촌초등학교', '9', '123', '11'], ['충청남도 계룡시', '엄사초등학교', '28', '596', '33'], ['충청남도 논산시', '연무중앙초등학교', '19', '427', '23'], ['충청남도 논산시', '연무초등학교', '7', '62', '8'], ['충청남도 논산시', '연산초등학교', '7', '119', '7'], ['충청남도 논산시', '왕전초등학교', '6', '54', '7'], ['충청남도 계룡시', '용남초등학교', '41', '1060', '48'], ['충청남도 논산시', '원봉초등학교', '6', '52', '7'], ['충청남도 논산시', '은진초등학교', '8', '120', '9'], ['충청남도 논산시', '이화초등학교', '6', '24', '7'], ['충청남도 논산시', '채운초등학교', '8', '98', '9'], ['충청남도 논산시', '청동초등학교', '6', '63', '8'], ['충청남도 논산시', '황화초등학교', '7', '38', '8'], ['충청남도 부여군', '구룡초등학교', '7', '32', '8'], ['충청남도 부여군', '궁남초등학교', '6', '73', '8'], ['충청남도 부여군', '규암초등학교', '23', '462', '27'], ['충청남도 부여군', '내산초등학교', '7', '37', '7'], ['충청남도 부여군', '대왕초등학교', '7', '29', '8'], ['충청남도 부여군', '마정초등학교', '5', '14', '6'], ['충청남도 부여군', '백강초등학교', '6', '52', '7'], ['충청남도 부여군', '백제초등학교', '14', '245', '18'], ['충청남도 부여군', '부여초등학교', '28', '681', '32'], ['충청남도 부여군', '석성초등학교', '6', '25', '7'], ['충청남도 부여군', '석양초등학교', '7', '63', '8'], ['충청남도 부여군', '세도초등학교', '6', '58', '7'], ['충청남도 부여군', '송간초등학교', '7', '49', '8'], ['충청남도 부여군', '양화초등학교', '6', '20', '7'], ['충청남도 부여군', '옥산초등학교', '6', '21', '7'], ['충청남도 부여군', '외산초등학교', '7', '37', '7'], ['충청남도 부여군', '용당초등학교', '6', '20', '7'], ['충청남도 부여군', '은산초등학교', '7', '94', '8'], ['충청남도 부여군', '임천초등학교', '7', '60', '9'], ['충청남도 부여군', '장암초등학교', '7', '64', '8'], ['충청남도 부여군', '초촌초등학교', '7', '56', '8'], ['충청남도 부여군', '충화초등학교', '6', '10', '7'], ['충청남도 부여군', '합송초등학교', '7', '53', '8'], ['충청남도 부여군', '홍산초등학교', '6', '90', '7'], ['충청남도 아산시', '관대초등학교', '7', '51', '8'], ['충청남도 아산시', '금곡초등학교', '15', '325', '18'], ['충청남도 아산시', '금성초등학교', '6', '97', '7'], ['충청남도 아산시', '남창초등학교', '6', '52', '7'], ['충청남도 아산시', '도고온천초등학교', '6', '59', '7'], ['충청남도 아산시', '도고초등학교', '6', '59', '7'], ['충청남도 아산시', '동덕초등학교', '14', '280', '16'], ['충청남도 아산시', '동방초등학교', '7', '150', '8'], ['충청남도 아산시', '둔포초등학교', '15', '248', '16'], ['충청남도 아산시', '배방초등학교', '40', '937', '44'], ['충청남도 아산시', '선장초등학교', '7', '47', '9'], ['충청남도 아산시', '송곡초등학교', '13', '257', '15'], ['충청남도 아산시', '송남초등학교', '12', '230', '14'], ['충청남도 아산시', '거산초등학교', '6', '120', '7'], ['충청남도 아산시', '신광초등학교', '16', '338', '18'], ['충청남도 아산시', '신리초등학교', '30', '783', '34'], ['충청남도 아산시', '신창초등학교', '25', '472', '30'], ['충청남도 아산시', '신화초등학교', '7', '33', '8'], ['충청남도 아산시', '쌍룡초등학교', '6', '47', '8'], ['충청남도 아산시', '염작초등학교', '41', '925', '47'], ['충청남도 아산시', '염티초등학교', '6', '54', '7'], ['충청남도 아산시', '영인초등학교', '7', '78', '8'], ['충청남도 아산시', '오목초등학교', '7', '131', '8'], ['충청남도 아산시', '온양동신초등학교', '39', '1087', '46'], ['충청남도 아산시', '온양온천초등학교', '22', '496', '25'], ['충청남도 아산시', '온양중앙초등학교', '17', '394', '21'], ['충청남도 아산시', '온양천도초등학교', '34', '910', '39'], ['충청남도 아산시', '온양초등학교', '21', '363', '25'], ['충청남도 아산시', '온양초사초등학교', '9', '151', '10'], ['충청남도 아산시', '용화초등학교', '25', '627', '28'], ['충청남도 아산시', '월랑초등학교', '48', '1162', '53'], ['충청남도 아산시', '음봉초등학교', '6', '62', '7'], ['충청남도 아산시', '인주초등학교', '9', '152', '10'], ['충청남도 아산시', '탕정초등학교', '48', '1165', '56'], ['충청남도 예산군', '고덕초등학교', '7', '93', '7'], ['충청남도 예산군', '구만초등학교', '6', '44', '7'], ['충청남도 예산군', '금오초등학교', '34', '889', '39'], ['충청남도 예산군', '대술초등학교', '7', '34', '8'], ['충청남도 예산군', '대흥초등학교', '6', '37', '7'], ['충청남도 예산군', '덕산초등학교', '12', '179', '14'], ['충청남도 예산군', '보성초등학교', '8', '142', '10'], ['충청남도 예산군', '봉산초등학교', '7', '34', '8'], ['충청남도 예산군', '삽교초등학교', '7', '133', '7'], ['충청남도 예산군', '수덕초등학교', '6', '50', '7'], ['충청남도 예산군', '시량초등학교', '7', '48', '8'], ['충청남도 예산군', '신례원초등학교', '12', '210', '12'], ['충청남도 예산군', '신암초등학교', '7', '44', '8'], ['충청남도 예산군', '신양초등학교', '7', '61', '8'], ['충청남도 예산군', '양신초등학교', '7', '39', '8'], ['충청남도 예산군', '예덕초등학교', '6', '37', '7'], ['충청남도 예산군', '예산중앙초등학교', '8', '103', '10'], ['충청남도 예산군', '예산초등학교', '21', '494', '26'], ['충청남도 예산군', '오가초등학교', '7', '62', '8'], ['충청남도 예산군', '용동초등학교', '6', '47', '7'], ['충청남도 예산군', '웅산초등학교', '7', '61', '8'], ['충청남도 예산군', '응봉초등학교', '7', '56', '8'], ['충청남도 예산군', '조림초등학교', '6', '56', '7'], ['충청남도 예산군', '평촌초등학교', '7', '54', '8'], ['충청남도 천안시 동남구', '광덕초등학교', '7', '69', '8'], ['충청남도 천안시 서북구', '대홍초등학교', '6', '58', '7'], ['충청남도 천안시 동남구', '도장초등학교', '6', '58', '7'], ['충청남도 천안시 서북구', '도하초등학교', '6', '79', '7'], ['충청남도 천안시 동남구', '목천초등학교', '12', '165', '14'], ['충청남도 천안시 동남구', '미죽초등학교', '6', '65', '7'], ['충청남도 천안시 동남구', '병천초등학교', '12', '202', '13'], ['충청남도 천안시 동남구', '보산원초등학교', '5', '19', '6'], ['충청남도 천안시 서북구', '삼은초등학교', '25', '489', '29'], ['충청남도 천안시 서북구', '성거초등학교', '34', '835', '38'], ['충청남도 천안시 동남구', '성남초등학교', '6', '38', '7'], ['충청남도 천안시 서북구', '성신초등학교', '16', '270', '19'], ['충청남도 천안시 서북구', '성환초등학교', '35', '876', '40'], ['충청남도 천안시 동남구', '수신초등학교', '6', '41', '7'], ['충청남도 천안시 서북구', '신가초등학교', '6', '71', '7'], ['충청남도 천안시 동남구', '신계초등학교', '17', '390', '21'], ['충청남도 천안시 서북구', '신방초등학교', '6', '42', '7'], ['충청남도 천안시 동남구', '신사초등학교', '6', '38', '7'], ['충청남도 천안시 동남구', '안서초등학교', '14', '300', '17'], ['충청남도 천안시 서북구', '양당초등학교', '16', '303', '18'], ['충청남도 천안시 서북구', '양대초등학교', '6', '107', '7'], ['충청남도 천안시 동남구', '용정초등학교', '6', '70', '7'], ['충청남도 천안시 동남구', '위례초등학교', '6', '41', '7'], ['충청남도 천안시 동남구', '은석초등학교', '6', '81', '7'], ['충청남도 천안시 서북구', '입장초등학교', '14', '200', '15'], ['충청남도 천안시 서북구', '직산초등학교', '12', '218', '14'], ['충청남도 천안시 동남구', '천동초등학교', '7', '50', '7'], ['충청남도 천안시 동남구', '천안구성초등학교', '26', '650', '31'], ['충청남도 천안시 동남구', '천안남산초등학교', '19', '446', '22'], ['충청남도 천안시 서북구', '천안미라초등학교', '16', '383', '19'], ['충청남도 천안시 동남구', '천안봉명초등학교', '12', '244', '12'], ['충청남도 천안시 동남구', '천안봉서초등학교', '26', '671', '31'], ['충청남도 천안시 서북구', '천안부대초등학교', '7', '125', '7'], ['충청남도 천안시 서북구', '천안부성초등학교', '28', '737', '33'], ['충청남도 천안시 동남구', '천안부영초등학교', '21', '487', '24'], ['충청남도 천안시 서북구', '천안서초등학교', '29', '706', '33'], ['충청남도 천안시 서북구', '천안성정초등학교', '20', '399', '23'], ['충청남도 천안시 동남구', '천안신부초등학교', '32', '844', '35'], ['충청남도 천안시 동남구', '천안신안초등학교', '23', '564', '27'], ['충청남도 천안시 동남구', '천안신용초등학교', '35', '932', '38'], ['충청남도 천안시 동남구', '천안신촌초등학교', '15', '265', '17'], ['충청남도 천안시 서북구', '천안쌍용초등학교', '29', '750', '31'], ['충청남도 천안시 서북구', '천안업성초등학교', '6', '69', '7'], ['충청남도 천안시 서북구', '천안용암초등학교', '31', '809', '35'], ['충청남도 천안시 서북구', '천안월봉초등학교', '54', '1263', '62'], ['충청남도 천안시 동남구', '천안일봉초등학교', '21', '523', '24'], ['충청남도 천안시 동남구', '천안중앙초등학교', '7', '63', '8'], ['충청남도 천안시 동남구', '천안청수초등학교', '14', '308', '16'], ['충청남도 천안시 동남구', '천안초등학교', '9', '149', '10'], ['충청남도 천안시 동남구', '풍세초등학교', '7', '53', '7'], ['충청남도 천안시 동남구', '행정초등학교', '6', '50', '7'], ['충청남도 천안시 서북구', '환서초등학교', '70', '2172', '82'], ['충청남도 청양군', '가남초등학교', '7', '47', '8'], ['충청남도 청양군', '남양초등학교', '7', '46', '8'], ['충청남도 청양군', '목면초등학교', '6', '29', '8'], ['충청남도 청양군', '미당초등학교', '5', '8', '6'], ['충청남도 청양군', '수정초등학교', '6', '72', '7'], ['충청남도 청양군', '운곡초등학교', '6', '42', '9'], ['충청남도 청양군', '장평초등학교', '7', '34', '7'], ['충청남도 청양군', '정산초등학교', '8', '119', '9'], ['충청남도 청양군', '청남초등학교', '6', '31', '7'], ['충청남도 청양군', '청송초등학교', '7', '47', '9'], ['충청남도 청양군', '청양초등학교', '20', '422', '23'], ['충청남도 청양군', '합천초등학교', '7', '62', '8'], ['충청남도 당진시', '계성초등학교', '34', '951', '40'], ['충청남도 당진시', '고대초등학교', '7', '105', '8'], ['충청남도 당진시', '고산초등학교', '7', '51', '8'], ['충청남도 당진시', '기지초등학교', '61', '1567', '69'], ['충청남도 당진시', '당산초등학교', '15', '275', '16'], ['충청남도 당진시', '당진초등학교', '31', '815', '38'], ['충청남도 당진시', '면천초등학교', '7', '94', '7'], ['충청남도 당진시', '북창초등학교', '7', '80', '9'], ['충청남도 당진시', '삼봉초등학교', '6', '138', '7'], ['충청남도 당진시', '삼봉초등학교난지분교장', '1', '2', '1'], ['충청남도 당진시', '상록초등학교', '18', '388', '21'], ['충청남도 당진시', '서정초등학교', '33', '812', '38'], ['충청남도 당진시', '석문초등학교', '8', '125', '9'], ['충청남도 당진시', '성당초등학교', '7', '86', '8'], ['충청남도 당진시', '송산초등학교', '10', '141', '10'], ['충청남도 당진시', '송악초등학교', '12', '280', '14'], ['충청남도 당진시', '순성초등학교', '8', '129', '9'], ['충청남도 당진시', '신촌초등학교', '6', '26', '7'], ['충청남도 당진시', '신평초등학교', '12', '244', '15'], ['충청남도 당진시', '우강초등학교', '7', '88', '8'], ['충청남도 당진시', '유곡초등학교', '17', '353', '19'], ['충청남도 당진시', '전대초등학교', '6', '74', '7'], ['충청남도 당진시', '정미초등학교', '6', '24', '7'], ['충청남도 당진시', '조금초등학교', '7', '61', '8'], ['충청남도 당진시', '천의초등학교', '7', '46', '8'], ['충청남도 당진시', '초락초등학교', '5', '10', '6'], ['충청남도 당진시', '탑동초등학교', '62', '1730', '68'], ['충청남도 당진시', '한정초등학교', '7', '78', '8'], ['충청남도 당진시', '합덕초등학교', '15', '312', '17'], ['충청남도 당진시', '합도초등학교', '8', '88', '9'], ['충청남도 서산시', '가사초등학교', '6', '101', '8'], ['충청남도 서산시', '강당초등학교', '6', '65', '7'], ['충청남도 서산시', '고북초등학교', '7', '74', '7'], ['충청남도 서산시', '대산초등학교', '16', '339', '17'], ['충청남도 서산시', '동암초등학교', '6', '85', '7'], ['충청남도 서산시', '명지초등학교', '7', '115', '8'], ['충청남도 서산시', '부석초등학교', '7', '48', '8'], ['충청남도 서산시', '부석초등학교간월도분교장', '3', '9', '4'], ['충청남도 서산시', '부성초등학교', '20', '453', '23'], ['충청남도 서산시', '부춘초등학교', '33', '878', '37'], ['충청남도 서산시', '서동초등학교', '25', '587', '29'], ['충청남도 서산시', '서령초등학교', '14', '299', '15'], ['충청남도 서산시', '서림초등학교', '30', '752', '35'], ['충청남도 서산시', '서산초등학교', '14', '329', '15'], ['충청남도 서산시', '성연초등학교', '40', '955', '45'], ['충청남도 서산시', '언암초등학교', '12', '201', '14'], ['충청남도 서산시', '오산초등학교', '6', '45', '7'], ['충청남도 서산시', '운산초등학교', '7', '99', '7'], ['충청남도 서산시', '운신초등학교', '7', '59', '8'], ['충청남도 서산시', '음암초등학교', '13', '267', '15'], ['충청남도 서산시', '인지초등학교', '18', '375', '21'], ['충청남도 서산시', '차동초등학교', '7', '92', '8'], ['충청남도 서산시', '팔봉초등학교', '7', '44', '7'], ['충청남도 서산시', '팔봉초등학교고파도분교장', '2', '4', '2'], ['충청남도 서산시', '학돌초등학교', '24', '637', '26'], ['충청남도 서산시', '해미초등학교', '13', '211', '15'], ['충청남도 서천군', '기산초등학교', '7', '42', '7'], ['충청남도 서천군', '마동초등학교', '6', '84', '7'], ['충청남도 서천군', '마산초등학교', '6', '39', '6'], ['충청남도 서천군', '문산초등학교', '5', '13', '6'], ['충청남도 서천군', '부내초등학교', '6', '56', '7'], ['충청남도 서천군', '비인초등학교', '7', '51', '8'], ['충청남도 서천군', '서남초등학교', '6', '48', '7'], ['충청남도 서천군', '서도초등학교', '7', '79', '8'], ['충청남도 서천군', '서면초등학교', '6', '34', '7'], ['충청남도 서천군', '서천초등학교', '27', '680', '31'], ['충청남도 서천군', '송림초등학교', '6', '43', '7'], ['충청남도 서천군', '송석초등학교', '6', '35', '8'], ['충청남도 서천군', '시초초등학교', '6', '77', '7'], ['충청남도 서천군', '오성초등학교', '7', '29', '8'], ['충청남도 서천군', '장항중앙초등학교', '12', '226', '15'], ['충청남도 서천군', '장항초등학교', '11', '176', '13'], ['충청남도 서천군', '한산초등학교', '6', '45', '7'], ['충청남도 서천군', '화양초등학교', '7', '30', '8'], ['충청남도 보령시', '개화초등학교', '7', '48', '9'], ['충청남도 보령시', '관당초등학교', '6', '34', '7'], ['충청남도 보령시', '관창초등학교', '7', '107', '8'], ['충청남도 보령시', '광명초등학교', '6', '19', '7'], ['충청남도 보령시', '낙동초등학교', '6', '22', '7'], ['충청남도 보령시', '남포초등학교', '7', '48', '8'], ['충청남도 보령시', '대관초등학교', '17', '377', '18'], ['충청남도 보령시', '대남초등학교', '12', '198', '13'], ['충청남도 보령시', '대창초등학교', '7', '62', '8'], ['충청남도 보령시', '대천초등학교', '32', '838', '39'], ['충청남도 보령시', '오천초등학교삽시분교장', '2', '6', '3'], ['충청남도 보령시', '성주초등학교', '7', '44', '8'], ['충청남도 보령시', '송학초등학교', '7', '68', '8'], ['충청남도 보령시', '오천초등학교', '6', '31', '7'], ['충청남도 보령시', '옥계초등학교', '6', '59', '7'], ['충청남도 보령시', '외연도초등학교', '3', '3', '4'], ['충청남도 보령시', '웅천초등학교', '7', '52', '8'], ['충청남도 보령시', '월전초등학교', '6', '35', '7'], ['충청남도 보령시', '주산초등학교', '6', '47', '7'], ['충청남도 보령시', '주포초등학교', '7', '47', '8'], ['충청남도 보령시', '천북초등학교', '6', '63', '7'], ['충청남도 보령시', '청라초등학교', '7', '48', '8'], ['충청남도 보령시', '청룡초등학교', '7', '53', '8'], ['충청남도 보령시', '청룡초등학교장고분교장', '2', '11', '3'], ['충청남도 보령시', '청보초등학교', '7', '57', '8'], ['충청남도 보령시', '청소초등학교', '6', '49', '7'], ['충청남도 보령시', '청파초등학교', '7', '97', '8'], ['충청남도 보령시', '청파초등학교호도분교장', '2', '6', '4'], ['충청남도 보령시', '한내초등학교', '14', '262', '16'], ['충청남도 태안군', '고남초등학교', '7', '52', '8'], ['충청남도 태안군', '근흥초등학교', '6', '32', '7'], ['충청남도 태안군', '남면초등학교', '7', '41', '8'], ['충청남도 태안군', '대기초등학교', '7', '59', '8'], ['충청남도 태안군', '모항초등학교', '6', '51', '8'], ['충청남도 태안군', '방포초등학교', '6', '53', '8'], ['충청남도 태안군', '삼성초등학교', '6', '39', '7'], ['충청남도 태안군', '소원초등학교', '6', '30', '7'], ['충청남도 태안군', '소원초등학교의항분교장', '2', '7', '3'], ['충청남도 태안군', '송암초등학교', '6', '69', '7'], ['충청남도 태안군', '시목초등학교', '6', '54', '7'], ['충청남도 태안군', '안면초등학교', '11', '157', '12'], ['충청남도 태안군', '안중초등학교', '6', '30', '7'], ['충청남도 태안군', '안흥초등학교', '6', '38', '7'], ['충청남도 태안군', '안흥초등학교신진도분교장', '2', '4', '3'], ['충청남도 태안군', '원북초등학교', '7', '71', '8'], ['충청남도 태안군', '원북초등학교방갈분교장', '3', '13', '4'], ['충청남도 태안군', '이원초등학교', '6', '34', '7'], ['충청남도 태안군', '이원초등학교관동분교장', '3', '11', '4'], ['충청남도 태안군', '창기초등학교', '6', '51', '7'], ['충청남도 태안군', '태안초등학교', '24', '480', '27'], ['충청남도 태안군', '화동초등학교', '11', '177', '14'], ['충청남도 홍성군', '갈산초등학교', '7', '87', '8'], ['충청남도 홍성군', '결성초등학교', '6', '12', '7'], ['충청남도 홍성군', '광천초등학교', '12', '243', '14'], ['충청남도 홍성군', '구항초등학교', '7', '63', '8'], ['충청남도 홍성군', '금당초등학교', '7', '63', '8'], ['충청남도 홍성군', '금마초등학교', '7', '68', '8'], ['충청남도 홍성군', '대정초등학교', '7', '49', '8'], ['충청남도 홍성군', '배양초등학교', '7', '56', '8'], ['충청남도 홍성군', '서부초등학교', '7', '53', '8'], ['충청남도 홍성군', '서해삼육초등학교', '6', '166', '7'], ['충청남도 홍성군', '신당초등학교', '5', '18', '6'], ['충청남도 홍성군', '용봉초등학교', '6', '77', '7'], ['충청남도 홍성군', '은하초등학교', '7', '35', '8'], ['충청남도 홍성군', '장곡초등학교', '7', '47', '8'], ['충청남도 홍성군', '홍남초등학교', '40', '1013', '42'], ['충청남도 홍성군', '홍동초등학교', '11', '152', '12'], ['충청남도 홍성군', '홍북초등학교', '7', '83', '8'], ['충청남도 홍성군', '홍성초등학교', '39', '953', '45'], ['충청남도 홍성군', '홍주초등학교', '10', '155', '11'], ['충청남도 천안시 동남구', '천안용곡초등학교', '38', '1051', '44'], ['충청남도 천안시 서북구', '천안백석초등학교', '42', '1159', '49'], ['충청남도 천안시 서북구', '천안오성초등학교', '43', '1197', '52'], ['충청남도 보령시', '대천동대초등학교', '42', '1131', '46'], ['충청남도 아산시', '온양권곡초등학교', '26', '681', '31'], ['충청남도 천안시 서북구', '천안불당초등학교', '51', '1515', '59'], ['충청남도 천안시 서북구', '천안서당초등학교', '39', '1028', '43'], ['충청남도 천안시 서북구', '천안두정초등학교', '40', '1082', '47'], ['충청남도 천안시 서북구', '천안신대초등학교', '31', '785', '38'], ['충청남도 천안시 서북구', '천안수곡초등학교', '31', '827', '37'], ['충청남도 천안시 서북구', '소망초등학교', '28', '709', '31'], ['충청남도 서산시', '서산석림초등학교', '28', '701', '31'], ['충청남도 서산시', '서산대진초등학교', '6', '67', '7'], ['충청남도 논산시', '논산내동초등학교', '41', '1155', '44'], ['충청남도 보령시', '명천초등학교', '26', '649', '30'], ['충청남도 계룡시', '신도초등학교', '20', '388', '23'], ['충청남도 아산시', '온양신정초등학교', '17', '354', '21'], ['충청남도 당진시', '원당초등학교', '52', '1440', '61'], ['충청남도 태안군', '백화초등학교', '37', '867', '41'], ['충청남도 천안시 동남구', '천안삼거리초등학교', '28', '729', '32'], ['충청남도 계룡시', '금암초등학교', '22', '577', '25'], ['충청남도 천안시 동남구', '천안용소초등학교', '37', '1151', '41'], ['충청남도 천안시 동남구', '천안청룡초등학교', '33', '907', '39'], ['충청남도 아산시', '아산북수초등학교', '45', '1319', '54'], ['충청남도 아산시', '모산초등학교', '47', '1291', '55'], ['충청남도 아산시', '아산남성초등학교', '45', '1011', '51'], ['충청남도 천안시 서북구', '천안와촌초등학교', '10', '204', '11'], ['충청남도 보령시', '미산초등학교', '7', '50', '9'], ['충청남도 천안시 서북구', '천안쌍정초등학교', '25', '643', '30'], ['충청남도 천안시 동남구', '신흥초등학교', '22', '556', '25'], ['충청남도 천안시 동남구', '천안청당초등학교', '35', '884', '41'], ['충청남도 아산시', '온양풍기초등학교', '49', '1392', '55'], ['충청남도 서산시', '서산예천초등학교', '24', '680', '30'], ['충청남도 아산시', '연화초등학교', '34', '925', '39'], ['충청남도 서산시', '서산동문초등학교', '40', '1059', '46'], ['충청남도 아산시', '충무초등학교', '24', '635', '28'], ['충청남도 천안시 동남구', '천안새샘초등학교', '48', '1418', '55'], ['충청남도 천안시 동남구', '천안가온초등학교', '43', '1194', '50'], ['충청남도 천안시 서북구', '천안차암초등학교', '47', '1044', '52'], ['충청남도 홍성군', '내포초등학교', '50', '1403', '59'], ['충청남도 아산시', '아산용연초등학교', '26', '723', '31'], ['충청남도 아산시', '탕정미래초등학교', '37', '866', '41'], ['충청남도 천안시 서북구', '천안불무초등학교', '56', '1638', '63'], ['충청남도 천안시 서북구', '천안한들초등학교', '28', '641', '32'], ['충청남도 아산시', '아산초등학교', '37', '962', '42'], ['충청남도 천안시 서북구', '천안아름초등학교', '69', '1957', '81'], ['충청남도 홍성군', '한울초등학교', '38', '938', '42'], ['충청남도 아산시', '아산공수초등학교', '15', '300', '17'], ['충청남도 서산시', '서산서남초등학교', '32', '858', '35'], ['충청남도 천안시 서북구', '천안성성초등학교', '33', '903', '36'], ['전라북도 군산시', '전주교육대학교군산부설초등학교', '19', '437', '23'], ['전라북도 전주시 완산구', '전주교육대학교전주부설초등학교', '19', '444', '22'], ['전라북도 고창군', '가평초등학교', '6', '58', '7'], ['전라북도 고창군', '고수초등학교', '7', '32', '8'], ['전라북도 고창군', '고창남초등학교', '14', '281', '16'], ['전라북도 고창군', '고창초등학교', '41', '1037', '49'], ['전라북도 고창군', '공음초등학교', '7', '51', '8'], ['전라북도 고창군', '대산초등학교', '4', '21', '6'], ['전라북도 고창군', '대아초등학교', '6', '60', '8'], ['전라북도 고창군', '동호초등학교', '3', '17', '3'], ['전라북도 고창군', '매산초등학교', '7', '61', '9'], ['전라북도 고창군', '무장초등학교', '7', '69', '9'], ['전라북도 고창군', '봉암초등학교', '6', '33', '8'], ['전라북도 고창군', '부안초등학교', '7', '31', '8'], ['전라북도 고창군', '상하초등학교', '7', '56', '8'], ['전라북도 고창군', '선동초등학교', '5', '30', '6'], ['전라북도 고창군', '성내초등학교', '7', '27', '8'], ['전라북도 고창군', '성송초등학교', '7', '24', '8'], ['전라북도 고창군', '신림초등학교', '7', '30', '8'], ['전라북도 고창군', '심원초등학교', '7', '71', '8'], ['전라북도 고창군', '아산초등학교', '5', '31', '6'], ['전라북도 고창군', '해리초등학교', '7', '31', '8'], ['전라북도 고창군', '흥덕초등학교', '7', '72', '8'], ['전라북도 군산시', '개야도초등학교', '2', '4', '3'], ['전라북도 군산시', '개정초등학교', '6', '37', '7'], ['전라북도 군산시', '군산경포초등학교', '31', '865', '34'], ['전라북도 군산시', '군산구암초등학교', '17', '351', '20'], ['전라북도 군산시', '군산금광초등학교', '10', '173', '12'], ['전라북도 군산시', '군산나운초등학교', '16', '329', '18'], ['전라북도 군산시', '군산남초등학교', '8', '138', '8'], ['전라북도 군산시', '군산내흥초등학교', '2', '10', '3'], ['전라북도 군산시', '군산동초등학교', '21', '524', '24'], ['전라북도 군산시', '군산문화초등학교', '14', '245', '16'], ['전라북도 군산시', '군산산북초등학교', '24', '589', '28'], ['전라북도 군산시', '군산서초등학교', '7', '126', '8'], ['전라북도 군산시', '군산서해초등학교', '36', '972', '42'], ['전라북도 군산시', '소룡초등학교', '28', '744', '32'], ['전라북도 군산시', '군산수송초등학교', '20', '516', '24'], ['전라북도 군산시', '군산신흥초등학교', '20', '518', '25'], ['전라북도 군산시', '군산용문초등학교', '36', '964', '42'], ['전라북도 군산시', '군산월명초등학교', '17', '385', '19'], ['전라북도 군산시', '군산중앙초등학교', '9', '162', '11'], ['전라북도 군산시', '군산지곡초등학교', '19', '465', '24'], ['전라북도 군산시', '군산초등학교', '24', '581', '26'], ['전라북도 군산시', '군산풍문초등학교', '13', '243', '15'], ['전라북도 군산시', '해성초등학교', '5', '30', '8'], ['전라북도 군산시', '군산흥남초등학교', '11', '202', '13'], ['전라북도 군산시', '금암초등학교', '3', '17', '6'], ['전라북도 군산시', '나포초등학교', '7', '36', '8'], ['전라북도 군산시', '당북초등학교', '17', '322', '20'], ['전라북도 군산시', '대야남초등학교', '6', '45', '7'], ['전라북도 군산시', '대야초등학교', '6', '132', '7'], ['전라북도 군산시', '대야초등학교광산분교장', '3', '6', '3'], ['전라북도 군산시', '마룡초등학교', '3', '13', '6'], ['전라북도 군산시', '무녀도초등학교', '3', '6', '6'], ['전라북도 군산시', '문창초등학교', '7', '89', '8'], ['전라북도 군산시', '미룡초등학교', '7', '137', '9'], ['전라북도 군산시', '발산초등학교', '5', '41', '7'], ['전라북도 군산시', '비안도초등학교', '1', '1', '1'], ['전라북도 군산시', '서수초등학교', '6', '16', '7'], ['전라북도 군산시', '선유도초등학교', '6', '11', '6'], ['전라북도 군산시', '성산초등학교', '6', '79', '7'], ['전라북도 군산시', '술산초등학교', '5', '30', '6'], ['전라북도 군산시', '신시도초등학교', '3', '8', '5'], ['전라북도 군산시', '신시도초등학교야미도분교장', '1', '2', '2'], ['전라북도 군산시', '군산신풍초등학교', '13', '258', '15'], ['전라북도 군산시', '어청도초등학교', '4', '5', '4'], ['전라북도 군산시', '오봉초등학교', '6', '42', '7'], ['전라북도 군산시', '옥구초등학교', '7', '101', '8'], ['전라북도 군산시', '옥봉초등학교', '7', '95', '8'], ['전라북도 군산시', '옥산초등학교', '7', '72', '8'], ['전라북도 군산시', '임피초등학교', '6', '52', '7'], ['전라북도 군산시', '창오초등학교', '5', '30', '7'], ['전라북도 군산시', '회현초등학교', '13', '216', '16'], ['전라북도 김제시', '공덕초등학교', '7', '40', '8'], ['전라북도 김제시', '광활초등학교', '6', '22', '7'], ['전라북도 김제시', '금구초등학교', '6', '107', '8'], ['전라북도 김제시', '금남초등학교', '3', '9', '6'], ['전라북도 김제시', '금산초등학교', '3', '14', '6'], ['전라북도 김제시', '김제검산초등학교', '37', '940', '46'], ['전라북도 김제시', '김제동초등학교', '22', '521', '25'], ['전라북도 김제시', '김제북초등학교', '7', '83', '8'], ['전라북도 김제시', '김제중앙초등학교', '20', '472', '24'], ['전라북도 김제시', '김제초등학교', '14', '330', '16'], ['전라북도 김제시', '난산초등학교', '7', '67', '8'], ['전라북도 김제시', '남양초등학교', '6', '27', '8'], ['전라북도 김제시', '만경초등학교', '7', '71', '8'], ['전라북도 김제시', '백구초등학교', '6', '26', '7'], ['전라북도 김제시', '백석초등학교', '7', '98', '8'], ['전라북도 김제시', '벽량초등학교', '6', '26', '7'], ['전라북도 김제시', '봉남초등학교', '7', '30', '8'], ['전라북도 김제시', '부용초등학교', '5', '27', '8'], ['전라북도 김제시', '비룡초등학교', '6', '25', '7'], ['전라북도 김제시', '성덕초등학교', '7', '30', '8'], ['전라북도 김제시', '심창초등학교', '5', '25', '8'], ['전라북도 김제시', '용동초등학교', '7', '27', '8'], ['전라북도 김제시', '용지초등학교', '7', '56', '8'], ['전라북도 김제시', '원평초등학교', '7', '94', '8'], ['전라북도 김제시', '화율초등학교', '3', '10', '7'], ['전라북도 김제시', '월성초등학교', '7', '32', '8'], ['전라북도 김제시', '월촌초등학교', '6', '78', '7'], ['전라북도 김제시', '종정초등학교', '6', '66', '7'], ['전라북도 김제시', '죽산초등학교', '7', '53', '8'], ['전라북도 김제시', '진봉초등학교', '5', '19', '6'], ['전라북도 김제시', '청운초등학교', '6', '45', '7'], ['전라북도 김제시', '청하초등학교', '7', '45', '9'], ['전라북도 김제시', '초처초등학교', '6', '35', '7'], ['전라북도 김제시', '치문초등학교', '6', '38', '7'], ['전라북도 김제시', '황강초등학교', '7', '21', '8'], ['전라북도 김제시', '황산초등학교', '7', '35', '9'], ['전라북도 남원시', '남원교룡초등학교', '13', '227', '16'], ['전라북도 남원시', '금지동초등학교', '5', '24', '6'], ['전라북도 남원시', '금지초등학교', '7', '33', '9'], ['전라북도 남원시', '남원노암초등학교', '12', '202', '14'], ['전라북도 남원시', '남원도통초등학교', '21', '514', '27'], ['전라북도 남원시', '산내초등학교', '7', '97', '9'], ['전라북도 남원시', '남원서원초등학교', '6', '45', '7'], ['전라북도 남원시', '남원왕치초등학교', '6', '76', '7'], ['전라북도 남원시', '남원월락초등학교', '26', '642', '33'], ['전라북도 남원시', '남원중앙초등학교', '21', '491', '24'], ['전라북도 남원시', '남원초등학교', '22', '470', '26'], ['전라북도 남원시', '대강초등학교', '6', '28', '7'], ['전라북도 남원시', '남원대산초등학교', '6', '52', '7'], ['전라북도 남원시', '덕과초등학교', '6', '23', '7'], ['전라북도 남원시', '보절초등학교', '6', '25', '7'], ['전라북도 남원시', '사매초등학교', '6', '35', '8'], ['전라북도 남원시', '산동초등학교', '6', '42', '7'], ['전라북도 남원시', '송동초등학교', '6', '45', '7'], ['전라북도 남원시', '수지초등학교', '6', '28', '7'], ['전라북도 남원시', '아영초등학교', '6', '62', '7'], ['전라북도 남원시', '오동초등학교', '6', '84', '7'], ['전라북도 남원시', '남원용성초등학교', '12', '249', '14'], ['전라북도 남원시', '운봉초등학교', '6', '101', '7'], ['전라북도 남원시', '원천초등학교', '6', '72', '7'], ['전라북도 남원시', '이백초등학교', '7', '50', '8'], ['전라북도 남원시', '인월초등학교', '6', '99', '6'], ['전라북도 남원시', '주생초등학교', '7', '54', '8'], ['전라북도 무주군', '괴목초등학교', '6', '30', '7'], ['전라북도 무주군', '구천초등학교', '6', '83', '7'], ['전라북도 무주군', '무주중앙초등학교', '18', '386', '22'], ['전라북도 무주군', '무주초등학교', '12', '210', '14'], ['전라북도 무주군', '무풍초등학교', '7', '34', '8'], ['전라북도 무주군', '부남초등학교', '5', '10', '6'], ['전라북도 무주군', '부당초등학교', '3', '10', '6'], ['전라북도 무주군', '설천초등학교', '7', '96', '8'], ['전라북도 무주군', '안성초등학교', '8', '126', '9'], ['전라북도 무주군', '적상초등학교', '6', '33', '7'], ['전라북도 부안군', '격포초등학교', '6', '76', '7'], ['전라북도 부안군', '계화초등학교', '2', '7', '5'], ['전라북도 부안군', '곰소초등학교', '7', '57', '8'], ['전라북도 부안군', '동북초등학교', '3', '6', '4'], ['전라북도 부안군', '동진초등학교', '7', '29', '8'], ['전라북도 부안군', '백련초등학교', '4', '14', '7'], ['전라북도 부안군', '백룡초등학교', '3', '14', '7'], ['전라북도 부안군', '백산초등학교', '6', '47', '7'], ['전라북도 부안군', '변산초등학교', '7', '72', '8'], ['전라북도 부안군', '부안남초등학교', '7', '60', '8'], ['전라북도 부안군', '부안동초등학교', '31', '791', '36'], ['전라북도 부안군', '부안초등학교', '19', '400', '21'], ['전라북도 부안군', '상서초등학교', '5', '22', '7'], ['전라북도 부안군', '영전초등학교', '7', '40', '8'], ['전라북도 부안군', '우덕초등학교', '6', '33', '7'], ['전라북도 부안군', '위도초등학교', '6', '15', '7'], ['전라북도 부안군', '장신초등학교', '3', '5', '3'], ['전라북도 부안군', '주산초등학교', '7', '15', '8'], ['전라북도 부안군', '줄포초등학교', '7', '67', '8'], ['전라북도 부안군', '창북초등학교', '7', '47', '8'], ['전라북도 부안군', '하서초등학교', '6', '31', '8'], ['전라북도 부안군', '행안초등학교', '7', '72', '8'], ['전라북도 순창군', '구림초등학교', '7', '39', '8'], ['전라북도 순창군', '금과초등학교', '6', '22', '7'], ['전라북도 순창군', '동계초등학교', '7', '55', '8'], ['전라북도 순창군', '동산초등학교', '6', '36', '7'], ['전라북도 순창군', '복흥초등학교', '7', '51', '7'], ['전라북도 순창군', '순창중앙초등학교', '15', '304', '18'], ['전라북도 순창군', '순창초등학교', '17', '360', '20'], ['전라북도 순창군', '시산초등학교', '6', '33', '8'], ['전라북도 순창군', '쌍치초등학교', '7', '33', '8'], ['전라북도 순창군', '옥천초등학교', '6', '48', '7'], ['전라북도 순창군', '유등초등학교', '6', '18', '7'], ['전라북도 순창군', '인계초등학교', '6', '25', '7'], ['전라북도 순창군', '적성초등학교', '4', '9', '5'], ['전라북도 순창군', '팔덕초등학교', '7', '34', '8'], ['전라북도 순창군', '풍산초등학교', '7', '35', '8'], ['전라북도 완주군', '가천초등학교', '6', '13', '7'], ['전라북도 완주군', '간중초등학교', '7', '57', '8'], ['전라북도 완주군', '삼우초등학교', '7', '94', '8'], ['전라북도 완주군', '고산초등학교', '7', '97', '9'], ['전라북도 완주군', '구이초등학교', '7', '79', '8'], ['전라북도 완주군', '남관초등학교', '7', '49', '9'], ['전라북도 완주군', '대덕초등학교', '6', '68', '7'], ['전라북도 완주군', '동상초등학교', '7', '31', '9'], ['전라북도 완주군', '동양초등학교', '5', '39', '7'], ['전라북도 완주군', '봉동초등학교', '30', '715', '37'], ['전라북도 완주군', '봉동초등학교양화분교장', '6', '26', '7'], ['전라북도 완주군', '봉서초등학교', '55', '1432', '66'], ['전라북도 완주군', '봉성초등학교', '6', '87', '7'], ['전라북도 완주군', '비봉초등학교', '6', '102', '7'], ['전라북도 완주군', '삼례동초등학교', '7', '50', '8'], ['전라북도 완주군', '삼례중앙초등학교', '14', '269', '19'], ['전라북도 완주군', '삼례초등학교', '17', '348', '22'], ['전라북도 완주군', '상관초등학교', '13', '209', '15'], ['전라북도 완주군', '소양서초등학교', '7', '63', '8'], ['전라북도 완주군', '소양초등학교', '6', '60', '7'], ['전라북도 완주군', '송광초등학교', '6', '30', '8'], ['전라북도 완주군', '용봉초등학교', '7', '130', '8'], ['전라북도 완주군', '용진초등학교', '6', '83', '7'], ['전라북도 완주군', '운주초등학교', '6', '31', '7'], ['전라북도 완주군', '이서초등학교', '20', '438', '23'], ['전라북도 완주군', '이성초등학교', '6', '86', '7'], ['전라북도 완주군', '청명초등학교', '7', '54', '8'], ['전라북도 완주군', '청완초등학교', '6', '98', '7'], ['전라북도 완주군', '태봉초등학교', '6', '49', '7'], ['전라북도 완주군', '화산초등학교', '7', '94', '8'], ['전라북도 익산시', '금마초등학교', '12', '182', '14'], ['전라북도 익산시', '낭산초등학교', '6', '26', '8'], ['전라북도 익산시', '다송초등학교', '4', '24', '6'], ['전라북도 익산시', '망성초등학교', '6', '32', '7'], ['전라북도 익산시', '미륵초등학교', '5', '43', '6'], ['전라북도 익산시', '삼기초등학교', '6', '26', '7'], ['전라북도 익산시', '석불초등학교', '3', '22', '4'], ['전라북도 익산시', '성당초등학교', '6', '68', '8'], ['전라북도 익산시', '성북초등학교', '5', '31', '7'], ['전라북도 익산시', '여산초등학교', '6', '101', '7'], ['전라북도 익산시', '영만초등학교', '27', '571', '32'], ['전라북도 익산시', '오산남초등학교', '6', '81', '8'], ['전라북도 익산시', '오산초등학교', '7', '87', '8'], ['전라북도 익산시', '왕궁남초등학교', '5', '17', '6'], ['전라북도 익산시', '왕궁초등학교', '7', '38', '8'], ['전라북도 익산시', '왕북초등학교', '6', '72', '7'], ['전라북도 익산시', '용남초등학교', '4', '19', '5'], ['전라북도 익산시', '용북초등학교', '3', '17', '4'], ['전라북도 익산시', '용산초등학교', '5', '28', '6'], ['전라북도 익산시', '용성초등학교', '2', '12', '3'], ['전라북도 익산시', '용안초등학교', '6', '30', '7'], ['전라북도 익산시', '웅포초등학교', '6', '30', '7'], ['전라북도 익산시', '이리계문초등학교', '7', '89', '8'], ['전라북도 익산시', '이리고현초등학교', '17', '372', '20'], ['전라북도 익산시', '이리남창초등학교', '7', '124', '8'], ['전라북도 익산시', '이리남초등학교', '6', '33', '7'], ['전라북도 익산시', '이리동남초등학교', '16', '315', '18'], ['전라북도 익산시', '이리동북초등학교', '16', '347', '20'], ['전라북도 익산시', '이리동산초등학교', '31', '753', '36'], ['전라북도 익산시', '이리동초등학교', '27', '616', '32'], ['전라북도 익산시', '이리마한초등학교', '21', '555', '25'], ['전라북도 익산시', '이리모현초등학교', '36', '953', '43'], ['전라북도 익산시', '이리백제초등학교', '29', '670', '36'], ['전라북도 익산시', '이리부송초등학교', '25', '537', '31'], ['전라북도 익산시', '이리부천초등학교', '27', '658', '35'], ['전라북도 익산시', '이리북일초등학교', '10', '195', '11'], ['전라북도 익산시', '이리북초등학교', '13', '242', '13'], ['전라북도 익산시', '이리삼성초등학교', '8', '111', '9'], ['전라북도 익산시', '이리서초등학교', '18', '443', '21'], ['전라북도 익산시', '이리석암초등학교', '7', '39', '8'], ['전라북도 익산시', '이리송학초등학교', '22', '521', '25'], ['전라북도 익산시', '이리신동초등학교', '9', '178', '10'], ['전라북도 익산시', '이리신흥초등학교', '7', '57', '8'], ['전라북도 익산시', '익산어양초등학교', '31', '756', '38'], ['전라북도 익산시', '이리영등초등학교', '28', '785', '35'], ['전라북도 익산시', '이리중앙초등학교', '7', '132', '7'], ['전라북도 익산시', '이리초등학교', '15', '338', '17'], ['전라북도 익산시', '이리팔봉초등학교', '16', '337', '19'], ['전라북도 익산시', '익산초등학교', '22', '525', '27'], ['전라북도 익산시', '천서초등학교', '6', '46', '7'], ['전라북도 익산시', '춘포초등학교', '7', '85', '8'], ['전라북도 익산시', '함라초등학교', '6', '46', '7'], ['전라북도 익산시', '함열초등학교', '16', '321', '19'], ['전라북도 익산시', '황등남초등학교', '10', '145', '12'], ['전라북도 익산시', '황등초등학교', '7', '81', '8'], ['전라북도 익산시', '흥왕초등학교', '6', '37', '7'], ['전라북도 임실군', '갈담초등학교', '7', '27', '8'], ['전라북도 임실군', '관촌초등학교', '7', '85', '8'], ['전라북도 임실군', '대리초등학교', '6', '61', '7'], ['전라북도 임실군', '덕치초등학교', '6', '23', '7'], ['전라북도 임실군', '삼계초등학교', '6', '32', '7'], ['전라북도 임실군', '성수초등학교', '7', '36', '8'], ['전라북도 임실군', '신덕초등학교', '5', '10', '6'], ['전라북도 임실군', '신평초등학교', '6', '18', '7'], ['전라북도 임실군', '오수초등학교', '7', '112', '9'], ['전라북도 임실군', '운암초등학교', '5', '12', '6'], ['전라북도 임실군', '마암초등학교', '6', '53', '7'], ['전라북도 임실군', '임실기림초등학교', '7', '60', '8'], ['전라북도 임실군', '임실초등학교', '19', '431', '24'], ['전라북도 임실군', '지사초등학교', '6', '20', '7'], ['전라북도 임실군', '청웅초등학교', '6', '24', '7'], ['전라북도 장수군', '계남초등학교', '6', '51', '7'], ['전라북도 장수군', '계북초등학교', '7', '46', '8'], ['전라북도 장수군', '번암초등학교', '7', '49', '8'], ['전라북도 장수군', '번암초등학교동화분교장', '3', '16', '7'], ['전라북도 장수군', '산서초등학교', '7', '73', '8'], ['전라북도 장수군', '수남초등학교', '7', '65', '9'], ['전라북도 장수군', '장계초등학교', '14', '236', '17'], ['전라북도 장수군', '장수초등학교', '18', '402', '22'], ['전라북도 장수군', '천천초등학교', '7', '51', '8'], ['전라북도 전주시 덕진구', '전주금암초등학교', '13', '293', '15'], ['전라북도 전주시 덕진구', '전주금평초등학교', '12', '195', '14'], ['전라북도 전주시 덕진구', '전주기린초등학교', '25', '613', '29'], ['전라북도 전주시 완산구', '전주남초등학교', '19', '434', '21'], ['전라북도 전주시 완산구', '전주대성초등학교', '6', '49', '7'], ['전라북도 전주시 덕진구', '전주덕일초등학교', '16', '338', '20'], ['전라북도 전주시 덕진구', '전주덕진초등학교', '7', '145', '8'], ['전라북도 전주시 덕진구', '전주동북초등학교', '13', '212', '16'], ['전라북도 전주시 덕진구', '전주동신초등학교', '16', '330', '18'], ['전라북도 전주시 완산구', '전주동초등학교', '14', '248', '16'], ['전라북도 전주시 덕진구', '전주만성초등학교', '43', '1200', '51'], ['전라북도 전주시 완산구', '전주문정초등학교', '6', '47', '7'], ['전라북도 전주시 덕진구', '전주미산초등학교', '7', '43', '8'], ['전라북도 전주시 덕진구', '전주반월초등학교', '20', '468', '23'], ['전라북도 전주시 덕진구', '전주북일초등학교', '29', '752', '37'], ['전라북도 전주시 덕진구', '전주북초등학교', '25', '633', '28'], ['전라북도 전주시 완산구', '전주삼천남초등학교', '19', '470', '23'], ['전라북도 전주시 완산구', '전주삼천초등학교', '19', '450', '23'], ['전라북도 전주시 완산구', '전주서곡초등학교', '32', '887', '39'], ['전라북도 전주시 완산구', '전주서문초등학교', '21', '523', '27'], ['전라북도 전주시 완산구', '전주서신초등학교', '13', '209', '15'], ['전라북도 전주시 완산구', '전주서원초등학교', '18', '496', '21'], ['전라북도 전주시 완산구', '전주서일초등학교', '33', '844', '43'], ['전라북도 전주시 완산구', '전주서천초등학교', '18', '468', '22'], ['전라북도 전주시 덕진구', '전주송북초등학교', '33', '810', '33'], ['전라북도 전주시 덕진구', '전주송원초등학교', '24', '599', '29'], ['전라북도 전주시 덕진구', '전주송천초등학교', '30', '738', '35'], ['전라북도 전주시 덕진구', '전주신동초등학교', '45', '965', '52'], ['전라북도 전주시 완산구', '전주신성초등학교', '21', '534', '24'], ['전라북도 전주시 덕진구', '전주아중초등학교', '13', '291', '16'], ['전라북도 전주시 완산구', '전주양지초등학교', '16', '384', '20'], ['전라북도 전주시 완산구', '전주완산서초등학교', '16', '342', '20'], ['전라북도 전주시 완산구', '전주완산초등학교', '7', '87', '8'], ['전라북도 전주시 덕진구', '전주용덕초등학교', '6', '61', '7'], ['전라북도 전주시 완산구', '전주용흥초등학교', '31', '808', '37'], ['전라북도 전주시 완산구', '전주우전초등학교', '38', '1000', '47'], ['전라북도 전주시 덕진구', '전주원동초등학교', '7', '93', '8'], ['전라북도 전주시 덕진구', '전주인봉초등학교', '47', '1255', '58'], ['전라북도 전주시 덕진구', '전주인후초등학교', '36', '1030', '42'], ['전라북도 전주시 덕진구', '전주장동초등학교', '7', '127', '8'], ['전라북도 전주시 덕진구', '전주전라초등학교', '30', '722', '35'], ['전라북도 전주시 덕진구', '전주전일초등학교', '13', '340', '15'], ['전라북도 전주시 덕진구', '전주조촌초등학교', '33', '859', '39'], ['전라북도 전주시 완산구', '전주중산초등학교', '25', '614', '30'], ['전라북도 전주시 완산구', '전주중앙초등학교', '9', '147', '10'], ['전라북도 전주시 완산구', '전주중인초등학교', '6', '94', '7'], ['전라북도 전주시 완산구', '전주지곡초등학교', '46', '1181', '56'], ['전라북도 전주시 덕진구', '전주진북초등학교', '11', '233', '14'], ['전라북도 전주시 완산구', '전주초등학교', '13', '211', '15'], ['전라북도 전주시 덕진구', '전주초포초등학교', '8', '113', '9'], ['전라북도 전주시 덕진구', '전주팔복초등학교', '7', '83', '8'], ['전라북도 전주시 완산구', '전주평화초등학교', '17', '377', '20'], ['전라북도 전주시 완산구', '전주풍남초등학교', '12', '208', '14'], ['전라북도 전주시 완산구', '전주한들초등학교', '34', '945', '41'], ['전라북도 전주시 완산구', '전주화산초등학교', '30', '773', '37'], ['전라북도 전주시 완산구', '전주효림초등학교', '20', '521', '23'], ['전라북도 전주시 완산구', '전주효문초등학교', '12', '281', '15'], ['전라북도 전주시 완산구', '전주효자초등학교', '11', '203', '13'], ['전라북도 정읍시', '감곡초등학교', '6', '25', '7'], ['전라북도 정읍시', '고부초등학교', '7', '38', '8'], ['전라북도 정읍시', '교암초등학교', '7', '63', '8'], ['전라북도 정읍시', '내장초등학교', '7', '83', '9'], ['전라북도 정읍시', '능교초등학교', '6', '24', '7'], ['전라북도 정읍시', '대흥초등학교', '7', '64', '8'], ['전라북도 정읍시', '덕천초등학교', '7', '62', '8'], ['전라북도 정읍시', '도학초등학교', '6', '23', '7'], ['전라북도 정읍시', '동신초등학교', '31', '752', '36'], ['전라북도 정읍시', '백암초등학교', '7', '42', '8'], ['전라북도 정읍시', '보성초등학교', '7', '79', '8'], ['전라북도 정읍시', '북면초등학교', '7', '108', '8'], ['전라북도 정읍시', '산외초등학교', '7', '47', '8'], ['전라북도 정읍시', '서신초등학교', '7', '68', '8'], ['전라북도 정읍시', '소성초등학교', '6', '32', '7'], ['전라북도 정읍시', '수곡초등학교', '7', '56', '9'], ['전라북도 정읍시', '신태인초등학교', '13', '211', '15'], ['전라북도 정읍시', '영산초등학교', '6', '32', '7'], ['전라북도 정읍시', '영원초등학교', '6', '36', '7'], ['전라북도 정읍시', '옹동초등학교', '6', '25', '7'], ['전라북도 정읍시', '이평초등학교', '7', '28', '8'], ['전라북도 정읍시', '입암초등학교', '7', '43', '8'], ['전라북도 정읍시', '정남초등학교', '6', '31', '7'], ['전라북도 정읍시', '정우초등학교', '7', '85', '8'], ['전라북도 정읍시', '정읍남초등학교', '15', '327', '17'], ['전라북도 정읍시', '정읍동초등학교', '14', '225', '17'], ['전라북도 정읍시', '정읍북초등학교', '20', '478', '24'], ['전라북도 정읍시', '정읍서초등학교', '14', '333', '16'], ['전라북도 정읍시', '정읍수성초등학교', '17', '331', '20'], ['전라북도 정읍시', '정일초등학교', '7', '43', '8'], ['전라북도 정읍시', '칠보초등학교', '7', '48', '8'], ['전라북도 정읍시', '태인초등학교', '7', '81', '8'], ['전라북도 진안군', '동향초등학교', '7', '54', '8'], ['전라북도 진안군', '마령초등학교', '6', '42', '7'], ['전라북도 진안군', '백운초등학교', '7', '41', '8'], ['전라북도 진안군', '부귀초등학교', '6', '55', '7'], ['전라북도 진안군', '송풍초등학교', '4', '10', '6'], ['전라북도 진안군', '안천초등학교', '6', '33', '7'], ['전라북도 진안군', '오천초등학교', '6', '32', '7'], ['전라북도 진안군', '외궁초등학교', '7', '32', '8'], ['전라북도 진안군', '장승초등학교', '6', '95', '7'], ['전라북도 진안군', '조림초등학교', '6', '26', '7'], ['전라북도 진안군', '주천초등학교', '7', '31', '8'], ['전라북도 진안군', '진안중앙초등학교', '10', '173', '12'], ['전라북도 진안군', '진안초등학교', '13', '253', '17'], ['전라북도 익산시', '익산궁동초등학교', '24', '628', '30'], ['전라북도 정읍시', '정읍초등학교', '14', '375', '17'], ['전라북도 전주시 완산구', '전주여울초등학교', '30', '799', '35'], ['전라북도 전주시 덕진구', '전주용소초등학교', '25', '620', '30'], ['전라북도 전주시 완산구', '전주대정초등학교', '28', '746', '33'], ['전라북도 전주시 완산구', '전주용와초등학교', '29', '563', '34'], ['전라북도 군산시', '군산미성초등학교', '10', '182', '11'], ['전라북도 군산시', '군산진포초등학교', '34', '954', '42'], ['전라북도 익산시', '익산옥야초등학교', '13', '234', '15'], ['전라북도 전주시 덕진구', '전주만수초등학교', '29', '728', '33'], ['전라북도 전주시 덕진구', '전주오송초등학교', '48', '1347', '62'], ['전라북도 익산시', '익산한벌초등학교', '25', '634', '30'], ['전라북도 정읍시', '한솔초등학교', '36', '897', '42'], ['전라북도 전주시 완산구', '전주문학초등학교', '32', '871', '40'], ['전라북도 전주시 완산구', '전주우림초등학교', '25', '663', '30'], ['전라북도 군산시', '군산미장초등학교', '47', '1369', '56'], ['전라북도 군산시', '군산푸른솔초등학교', '33', '866', '39'], ['전라북도 군산시', '아리울초등학교', '37', '978', '45'], ['전라북도 군산시', '새만금초등학교', '7', '56', '8'], ['전라북도 전주시 덕진구', '전주온빛초등학교', '60', '1611', '68'], ['전라북도 전주시 완산구', '전주홍산초등학교', '13', '330', '15'], ['전라북도 전주시 덕진구', '전주양현초등학교', '30', '622', '31'], ['전라북도 익산시', '익산가온초등학교', '37', '966', '42'], ['전라북도 전주시 완산구', '전주새연초등학교', '27', '725', '32'], ['전라북도 전주시 덕진구', '전주하가초등학교', '24', '598', '28'], ['전라북도 전주시 덕진구', '전주화정초등학교', '62', '1627', '71'], ['전라남도 목포시', '광주교육대학교목포부설초등학교', '19', '444', '22'], ['전라남도 강진군', '강진동초등학교', '8', '89', '9'], ['전라남도 강진군', '강진북초등학교', '1', '1', '1'], ['전라남도 강진군', '강진중앙초등학교', '32', '769', '38'], ['전라남도 강진군', '계산초등학교', '6', '60', '7'], ['전라남도 강진군', '군동초등학교', '7', '42', '9'], ['전라남도 강진군', '대구초등학교', '5', '22', '6'], ['전라남도 강진군', '도암초등학교', '6', '53', '7'], ['전라남도 강진군', '마량초등학교', '7', '45', '8'], ['전라남도 강진군', '병영초등학교', '7', '36', '8'], ['전라남도 강진군', '성전초등학교', '6', '45', '7'], ['전라남도 강진군', '신전초등학교', '7', '45', '8'], ['전라남도 강진군', '옴천초등학교', '7', '42', '9'], ['전라남도 강진군', '작천초등학교', '7', '28', '9'], ['전라남도 강진군', '칠량초등학교', '7', '64', '8'], ['전라남도 고흥군', '고흥동초등학교', '34', '790', '40'], ['전라남도 고흥군', '과역초등학교', '7', '73', '10'], ['전라남도 고흥군', '금산초등학교', '7', '82', '8'], ['전라남도 고흥군', '남양초등학교', '6', '37', '7'], ['전라남도 고흥군', '녹동초등학교', '17', '369', '21'], ['전라남도 고흥군', '대서초등학교', '6', '28', '7'], ['전라남도 고흥군', '도덕초등학교', '7', '48', '9'], ['전라남도 고흥군', '도화초등학교', '7', '82', '8'], ['전라남도 고흥군', '동강초등학교', '7', '78', '8'], ['전라남도 고흥군', '두원초등학교', '6', '41', '7'], ['전라남도 고흥군', '백양초등학교', '6', '25', '7'], ['전라남도 고흥군', '봉래초등학교', '6', '37', '7'], ['전라남도 고흥군', '영남초등학교', '7', '29', '8'], ['전라남도 고흥군', '점암초등학교', '6', '47', '7'], ['전라남도 고흥군', '포두초등학교', '7', '79', '8'], ['전라남도 고흥군', '풍남초등학교', '6', '25', '7'], ['전라남도 고흥군', '풍양초등학교', '6', '39', '7'], ['전라남도 곡성군', '고달초등학교', '7', '59', '8'], ['전라남도 곡성군', '곡성중앙초등학교', '21', '424', '26'], ['전라남도 곡성군', '삼기초등학교', '7', '32', '10'], ['전라남도 곡성군', '석곡초등학교', '6', '68', '7'], ['전라남도 곡성군', '오산초등학교', '6', '18', '8'], ['전라남도 곡성군', '옥과초등학교', '13', '213', '16'], ['전라남도 곡성군', '입면초등학교', '7', '82', '9'], ['전라남도 곡성군', '죽곡초등학교', '6', '24', '7'], ['전라남도 광양시', '골약초등학교', '6', '80', '7'], ['전라남도 광양시', '광양가야초등학교', '19', '442', '24'], ['전라남도 광양시', '광양마로초등학교', '27', '678', '31'], ['전라남도 광양시', '광양덕례초등학교', '21', '465', '23'], ['전라남도 광양시', '광양동초등학교', '7', '89', '9'], ['전라남도 광양시', '광양마동초등학교', '39', '1097', '50'], ['전라남도 광양시', '광양북초등학교', '9', '132', '9'], ['전라남도 광양시', '광양서초등학교', '15', '248', '18'], ['전라남도 광양시', '광양제철남초등학교', '18', '467', '24'], ['전라남도 광양시', '광양제철초등학교', '12', '290', '19'], ['전라남도 광양시', '광양중동초등학교', '22', '505', '25'], ['전라남도 광양시', '광양중마초등학교', '24', '566', '27'], ['전라남도 광양시', '광양중앙초등학교', '24', '573', '27'], ['전라남도 광양시', '광양중진초등학교', '38', '1018', '46'], ['전라남도 광양시', '광영초등학교', '14', '249', '17'], ['전라남도 광양시', '다압초등학교', '7', '40', '8'], ['전라남도 광양시', '봉강초등학교', '7', '69', '8'], ['전라남도 광양시', '성황초등학교', '8', '103', '9'], ['전라남도 광양시', '세풍초등학교', '6', '86', '8'], ['전라남도 광양시', '옥곡초등학교', '7', '48', '7'], ['전라남도 광양시', '옥룡북초등학교', '6', '65', '7'], ['전라남도 광양시', '옥룡초등학교', '7', '90', '8'], ['전라남도 광양시', '진상초등학교', '7', '44', '8'], ['전라남도 광양시', '진월초등학교', '6', '42', '7'], ['전라남도 광양시', '태인초등학교', '6', '53', '7'], ['전라남도 구례군', '간문초등학교', '6', '32', '7'], ['전라남도 구례군', '광의초등학교', '7', '39', '8'], ['전라남도 구례군', '구례북초등학교', '19', '426', '22'], ['전라남도 구례군', '구례중앙초등학교', '12', '190', '15'], ['전라남도 구례군', '문척초등학교', '6', '52', '7'], ['전라남도 구례군', '용방초등학교', '7', '52', '8'], ['전라남도 구례군', '원촌초등학교', '6', '39', '8'], ['전라남도 구례군', '중동초등학교', '7', '27', '8'], ['전라남도 구례군', '청천초등학교', '6', '54', '7'], ['전라남도 구례군', '토지초등학교', '6', '41', '7'], ['전라남도 나주시', '공산초등학교', '7', '68', '8'], ['전라남도 나주시', '금천초등학교', '8', '89', '9'], ['전라남도 나주시', '나주북초등학교', '7', '73', '8'], ['전라남도 나주시', '나주중앙초등학교', '23', '547', '26'], ['전라남도 나주시', '나주초등학교', '22', '572', '26'], ['전라남도 나주시', '남평초등학교', '25', '528', '28'], ['전라남도 나주시', '노안남초등학교', '7', '67', '8'], ['전라남도 나주시', '노안초등학교', '6', '50', '7'], ['전라남도 나주시', '다도초등학교', '6', '38', '7'], ['전라남도 나주시', '다시초등학교', '7', '77', '8'], ['전라남도 나주시', '동강초등학교', '6', '35', '7'], ['전라남도 나주시', '문평초등학교', '5', '25', '6'], ['전라남도 나주시', '반남초등학교', '5', '21', '6'], ['전라남도 나주시', '봉황초등학교', '6', '66', '8'], ['전라남도 나주시', '산포초등학교', '6', '90', '7'], ['전라남도 나주시', '세지초등학교', '7', '63', '8'], ['전라남도 나주시', '양산초등학교', '6', '33', '7'], ['전라남도 나주시', '영강초등학교', '7', '133', '8'], ['전라남도 나주시', '영산포초등학교', '12', '236', '15'], ['전라남도 나주시', '왕곡초등학교', '6', '33', '8'], ['전라남도 담양군', '고서초등학교', '6', '88', '7'], ['전라남도 담양군', '금성초등학교', '7', '49', '8'], ['전라남도 담양군', '남면초등학교', '7', '38', '8'], ['전라남도 담양군', '담양남초등학교', '19', '451', '23'], ['전라남도 담양군', '담양동초등학교', '13', '212', '14'], ['전라남도 담양군', '담주초등학교', '6', '52', '7'], ['전라남도 담양군', '만덕초등학교', '6', '40', '7'], ['전라남도 담양군', '무정초등학교', '6', '55', '7'], ['전라남도 담양군', '봉산초등학교', '7', '51', '8'], ['전라남도 담양군', '수북초등학교', '9', '128', '11'], ['전라남도 담양군', '용면초등학교', '6', '41', '8'], ['전라남도 담양군', '월산초등학교', '8', '52', '9'], ['전라남도 담양군', '창평초등학교', '7', '81', '8'], ['전라남도 담양군', '한재초등학교', '7', '128', '8'], ['전라남도 목포시', '목포남초등학교', '6', '110', '8'], ['전라남도 목포시', '목포대성초등학교', '16', '415', '18'], ['전라남도 목포시', '목포대연초등학교', '13', '261', '15'], ['전라남도 목포시', '목포동초등학교', '21', '491', '26'], ['전라남도 목포시', '목포부영초등학교', '19', '447', '22'], ['전라남도 목포시', '목포북교초등학교', '9', '152', '10'], ['전라남도 목포시', '목포산정초등학교', '10', '143', '15'], ['전라남도 목포시', '목포삼학초등학교', '19', '456', '22'], ['전라남도 목포시', '목포상동초등학교', '8', '137', '9'], ['전라남도 목포시', '목포서부초등학교', '32', '863', '37'], ['전라남도 목포시', '목포서산초등학교', '6', '31', '7'], ['전라남도 목포시', '목포신흥초등학교', '27', '707', '33'], ['전라남도 목포시', '목포연동초등학교', '10', '192', '12'], ['전라남도 목포시', '목포연산초등학교', '22', '592', '26'], ['전라남도 목포시', '목포용호초등학교', '12', '199', '14'], ['전라남도 목포시', '목포유달초등학교', '6', '94', '7'], ['전라남도 목포시', '목포이로초등학교', '31', '786', '37'], ['전라남도 목포시', '목포임성초등학교', '7', '83', '8'], ['전라남도 목포시', '목포중앙초등학교', '6', '99', '7'], ['전라남도 목포시', '목포청호초등학교', '20', '501', '25'], ['전라남도 목포시', '목포하당초등학교', '13', '263', '15'], ['전라남도 목포시', '목포한빛초등학교', '19', '422', '22'], ['전라남도 무안군', '망운초등학교', '7', '51', '8'], ['전라남도 무안군', '몽탄초등학교', '7', '37', '8'], ['전라남도 무안군', '무안초등학교', '26', '565', '32'], ['전라남도 무안군', '삼향동초등학교', '7', '84', '9'], ['전라남도 무안군', '삼향북초등학교', '7', '37', '8'], ['전라남도 무안군', '삼향초등학교', '16', '330', '19'], ['전라남도 무안군', '운남초등학교', '6', '85', '7'], ['전라남도 무안군', '일로동초등학교', '7', '37', '8'], ['전라남도 무안군', '일로초등학교', '14', '222', '16'], ['전라남도 무안군', '청계남초등학교', '6', '38', '7'], ['전라남도 무안군', '청계북초등학교', '7', '37', '8'], ['전라남도 무안군', '청계초등학교', '9', '150', '10'], ['전라남도 무안군', '해제남초등학교', '5', '21', '6'], ['전라남도 무안군', '해제초등학교', '7', '97', '8'], ['전라남도 무안군', '현경북초등학교', '6', '24', '7'], ['전라남도 무안군', '현경초등학교', '7', '72', '8'], ['전라남도 보성군', '겸백초등학교', '5', '21', '6'], ['전라남도 보성군', '낙성초등학교', '7', '33', '8'], ['전라남도 보성군', '노동초등학교', '6', '30', '7'], ['전라남도 보성군', '득량남초등학교', '7', '36', '8'], ['전라남도 보성군', '문덕초등학교', '5', '19', '6'], ['전라남도 보성군', '미력초등학교', '6', '35', '7'], ['전라남도 보성군', '벌교중앙초등학교', '7', '78', '8'], ['전라남도 보성군', '벌교초등학교', '16', '320', '22'], ['전라남도 보성군', '보성남초등학교', '14', '231', '16'], ['전라남도 보성군', '보성초등학교', '12', '268', '14'], ['전라남도 보성군', '복내초등학교', '6', '37', '7'], ['전라남도 보성군', '예당초등학교', '7', '64', '8'], ['전라남도 보성군', '율어초등학교', '5', '21', '6'], ['전라남도 보성군', '조성남초등학교', '6', '29', '8'], ['전라남도 보성군', '조성초등학교', '6', '43', '7'], ['전라남도 보성군', '회천서초등학교', '4', '18', '5'], ['전라남도 보성군', '회천초등학교', '6', '43', '7'], ['전라남도 순천시', '낙안초등학교', '7', '73', '8'], ['전라남도 순천시', '동명초등학교', '20', '478', '24'], ['전라남도 순천시', '동산초등학교', '28', '607', '33'], ['전라남도 순천시', '별량초등학교', '8', '91', '9'], ['전라남도 순천시', '상사초등학교', '7', '59', '8'], ['전라남도 순천시', '송광초등학교', '4', '17', '4'], ['전라남도 순천시', '순천대석초등학교', '25', '647', '29'], ['전라남도 순천시', '순천남산초등학교', '40', '1107', '47'], ['전라남도 순천시', '순천남초등학교', '13', '243', '17'], ['전라남도 순천시', '순천도사초등학교', '10', '182', '12'], ['전라남도 순천시', '순천봉화초등학교', '12', '289', '14'], ['전라남도 순천시', '순천부영초등학교', '27', '632', '30'], ['전라남도 순천시', '순천북초등학교', '18', '437', '21'], ['전라남도 순천시', '순천비봉초등학교', '20', '504', '22'], ['전라남도 순천시', '순천삼산초등학교', '7', '110', '9'], ['전라남도 순천시', '순천성남초등학교', '14', '262', '15'], ['전라남도 순천시', '순천성동초등학교', '12', '285', '16'], ['전라남도 순천시', '순천신흥초등학교', '21', '524', '25'], ['전라남도 순천시', '순천연향초등학교', '18', '417', '23'], ['전라남도 순천시', '순천왕조초등학교', '15', '327', '17'], ['전라남도 순천시', '순천왕지초등학교', '30', '804', '35'], ['전라남도 순천시', '순천용당초등학교', '32', '817', '36'], ['전라남도 순천시', '순천율산초등학교', '32', '818', '38'], ['전라남도 순천시', '순천이수초등학교', '17', '398', '20'], ['전라남도 순천시', '순천인안초등학교', '6', '104', '7'], ['전라남도 순천시', '순천조례초등학교', '23', '526', '28'], ['전라남도 순천시', '순천중앙초등학교', '13', '305', '16'], ['전라남도 순천시', '승주초등학교', '6', '49', '9'], ['전라남도 순천시', '외서초등학교', '6', '49', '7'], ['전라남도 순천시', '월등초등학교', '6', '34', '7'], ['전라남도 순천시', '주암초등학교', '6', '43', '7'], ['전라남도 순천시', '창촌초등학교', '5', '15', '6'], ['전라남도 순천시', '팔마초등학교', '23', '577', '29'], ['전라남도 순천시', '해룡초등학교', '8', '95', '9'], ['전라남도 순천시', '황전초등학교', '7', '44', '8'], ['전라남도 신안군', '가거도초등학교', '3', '7', '3'], ['전라남도 신안군', '도초초등학교', '7', '73', '9'], ['전라남도 신안군', '비금동초등학교', '7', '27', '8'], ['전라남도 신안군', '비금초등학교', '6', '83', '7'], ['전라남도 신안군', '신의초등학교', '6', '56', '8'], ['전라남도 신안군', '안좌초등학교', '7', '55', '8'], ['전라남도 신안군', '암태초등학교', '6', '40', '8'], ['전라남도 신안군', '압해동초등학교', '6', '55', '7'], ['전라남도 신안군', '압해서초등학교', '7', '34', '8'], ['전라남도 신안군', '압해초등학교', '7', '71', '9'], ['전라남도 신안군', '임자남초등학교', '7', '39', '8'], ['전라남도 신안군', '임자초등학교', '6', '78', '7'], ['전라남도 신안군', '자은초등학교', '6', '62', '7'], ['전라남도 신안군', '장산초등학교', '6', '39', '7'], ['전라남도 신안군', '증도초등학교', '6', '31', '7'], ['전라남도 신안군', '지도초등학교', '7', '118', '9'], ['전라남도 신안군', '팔금초등학교', '6', '30', '8'], ['전라남도 신안군', '하의초등학교', '7', '44', '8'], ['전라남도 신안군', '흑산초등학교', '6', '42', '7'], ['전라남도 여수시', '거문초등학교', '4', '21', '5'], ['전라남도 여수시', '경호초등학교', '7', '39', '9'], ['전라남도 여수시', '관기초등학교', '7', '87', '8'], ['전라남도 여수시', '나진초등학교', '7', '42', '9'], ['전라남도 여수시', '도원초등학교', '42', '1103', '50'], ['전라남도 여수시', '돌산초등학교', '7', '33', '8'], ['전라남도 여수시', '상암초등학교묘도분교장', '5', '17', '6'], ['전라남도 여수시', '무선초등학교', '18', '427', '21'], ['전라남도 여수시', '백초초등학교', '6', '31', '7'], ['전라남도 여수시', '봉덕초등학교', '6', '25', '7'], ['전라남도 여수시', '상암초등학교', '7', '79', '8'], ['전라남도 여수시', '소라초등학교', '7', '81', '8'], ['전라남도 여수시', '소호초등학교', '16', '412', '19'], ['전라남도 여수시', '시전초등학교', '13', '312', '16'], ['전라남도 여수시', '쌍봉초등학교', '16', '383', '18'], ['전라남도 여수시', '안일초등학교', '5', '21', '7'], ['전라남도 여수시', '여도초등학교', '22', '615', '25'], ['전라남도 여수시', '여수구봉초등학교', '12', '205', '15'], ['전라남도 여수시', '여수남산초등학교', '6', '48', '7'], ['전라남도 여수시', '여수남초등학교', '12', '204', '14'], ['전라남도 여수시', '여수동초등학교', '14', '246', '18'], ['전라남도 여수시', '여수문수초등학교', '7', '149', '8'], ['전라남도 여수시', '여수미평초등학교', '21', '489', '24'], ['전라남도 여수시', '여수봉산초등학교', '6', '42', '7'], ['전라남도 여수시', '여수부영초등학교', '29', '750', '35'], ['전라남도 여수시', '여수북초등학교', '7', '71', '8'], ['전라남도 여수시', '여수서초등학교', '12', '208', '16'], ['전라남도 여수시', '여수신월초등학교', '20', '550', '23'], ['전라남도 여수시', '여수양지초등학교', '20', '470', '24'], ['전라남도 여수시', '여수여문초등학교', '19', '479', '23'], ['전라남도 여수시', '여수종고초등학교', '16', '405', '18'], ['전라남도 여수시', '여수좌수영초등학교', '19', '427', '22'], ['전라남도 여수시', '여수중앙초등학교', '10', '187', '13'], ['전라남도 여수시', '여수진남초등학교', '7', '112', '8'], ['전라남도 여수시', '여수한려초등학교', '26', '658', '33'], ['전라남도 여수시', '여안초등학교', '1', '3', '1'], ['전라남도 여수시', '여천초등학교', '23', '588', '27'], ['전라남도 여수시', '연도초등학교', '1', '4', '1'], ['전라남도 여수시', '화양초등학교', '7', '43', '8'], ['전라남도 여수시', '화정초등학교', '5', '25', '6'], ['전라남도 여수시', '화태초등학교', '1', '1', '1'], ['전라남도 영광군', '군남초등학교', '7', '51', '8'], ['전라남도 영광군', '군서초등학교', '6', '43', '7'], ['전라남도 영광군', '염산초등학교낙월분교장', '2', '4', '2'], ['전라남도 영광군', '대마초등학교', '7', '36', '8'], ['전라남도 영광군', '백수서초등학교', '5', '20', '6'], ['전라남도 영광군', '백수초등학교', '6', '68', '7'], ['전라남도 영광군', '법성포초등학교', '10', '134', '12'], ['전라남도 영광군', '불갑초등학교', '6', '40', '7'], ['전라남도 영광군', '염산초등학교', '7', '81', '8'], ['전라남도 영광군', '영광중앙초등학교', '20', '493', '24'], ['전라남도 영광군', '영광초등학교', '38', '873', '44'], ['전라남도 영광군', '홍농서초등학교', '6', '45', '7'], ['전라남도 영광군', '홍농초등학교', '17', '330', '18'], ['전라남도 영암군', '구림초등학교', '7', '62', '8'], ['전라남도 영암군', '금정초등학교', '6', '32', '7'], ['전라남도 영암군', '대불초등학교', '12', '280', '16'], ['전라남도 영암군', '덕진초등학교', '6', '36', '7'], ['전라남도 영암군', '도포초등학교', '6', '28', '9'], ['전라남도 영암군', '독천초등학교', '7', '78', '8'], ['전라남도 영암군', '미암초등학교', '6', '32', '6'], ['전라남도 영암군', '삼호서초등학교', '20', '458', '22'], ['전라남도 영암군', '삼호중앙초등학교', '29', '660', '33'], ['전라남도 영암군', '서창초등학교', '6', '47', '7'], ['전라남도 영암군', '시종초등학교', '6', '57', '7'], ['전라남도 영암군', '신북초등학교', '7', '105', '8'], ['전라남도 영암군', '영암초등학교', '21', '482', '26'], ['전라남도 영암군', '용당초등학교', '7', '76', '8'], ['전라남도 영암군', '장천초등학교', '6', '32', '7'], ['전라남도 영암군', '학산초등학교', '7', '34', '8'], ['전라남도 완도군', '고금초등학교', '9', '150', '10'], ['전라남도 완도군', '군외초등학교', '7', '40', '8'], ['전라남도 완도군', '금당초등학교', '5', '24', '6'], ['전라남도 완도군', '금일동초등학교', '6', '35', '7'], ['전라남도 완도군', '금일초등학교', '6', '67', '7'], ['전라남도 완도군', '넙도초등학교', '5', '23', '6'], ['전라남도 완도군', '노화북초등학교', '6', '78', '7'], ['전라남도 완도군', '노화중앙초등학교', '6', '78', '7'], ['전라남도 완도군', '노화초등학교', '7', '132', '8'], ['전라남도 완도군', '보길동초등학교', '7', '63', '8'], ['전라남도 완도군', '보길초등학교', '6', '92', '7'], ['전라남도 완도군', '생영초등학교', '4', '17', '5'], ['전라남도 완도군', '소안초등학교', '6', '94', '7'], ['전라남도 완도군', '신지동초등학교', '4', '20', '5'], ['전라남도 완도군', '신지초등학교', '6', '56', '7'], ['전라남도 완도군', '약산초등학교', '6', '56', '7'], ['전라남도 완도군', '완도중앙초등학교', '29', '699', '34'], ['전라남도 완도군', '완도초등학교', '15', '253', '18'], ['전라남도 완도군', '청산초등학교', '6', '38', '7'], ['전라남도 완도군', '청해초등학교', '7', '66', '10'], ['전라남도 완도군', '화흥초등학교', '6', '39', '7'], ['전라남도 장성군', '동화초등학교', '7', '40', '8'], ['전라남도 장성군', '북이초등학교', '7', '54', '8'], ['전라남도 장성군', '북일초등학교', '7', '28', '8'], ['전라남도 장성군', '분향초등학교', '7', '86', '8'], ['전라남도 장성군', '사창초등학교', '26', '501', '30'], ['전라남도 장성군', '삼서초등학교', '6', '78', '7'], ['전라남도 장성군', '서삼초등학교', '7', '29', '8'], ['전라남도 장성군', '약수초등학교', '6', '38', '7'], ['전라남도 장성군', '월평초등학교', '10', '165', '12'], ['전라남도 장성군', '장성성산초등학교', '7', '85', '8'], ['전라남도 장성군', '장성중앙초등학교', '23', '516', '26'], ['전라남도 장성군', '진원동초등학교', '7', '78', '8'], ['전라남도 장성군', '진원초등학교', '12', '209', '14'], ['전라남도 장흥군', '관산남초등학교', '6', '34', '7'], ['전라남도 장흥군', '관산초등학교', '7', '100', '7'], ['전라남도 장흥군', '대덕초등학교', '7', '113', '9'], ['전라남도 장흥군', '명덕초등학교', '5', '21', '6'], ['전라남도 장흥군', '부산초등학교', '7', '37', '8'], ['전라남도 장흥군', '안양동초등학교', '3', '8', '4'], ['전라남도 장흥군', '안양초등학교', '6', '39', '7'], ['전라남도 장흥군', '용산초등학교', '6', '48', '7'], ['전라남도 장흥군', '유치초등학교', '6', '32', '7'], ['전라남도 장흥군', '장동초등학교', '6', '28', '6'], ['전라남도 장흥군', '장평초등학교', '4', '21', '5'], ['전라남도 장흥군', '장흥남초등학교', '7', '78', '8'], ['전라남도 장흥군', '장흥서초등학교', '6', '82', '7'], ['전라남도 장흥군', '장흥초등학교', '31', '750', '41'], ['전라남도 장흥군', '회진초등학교', '6', '63', '7'], ['전라남도 진도군', '고성초등학교', '7', '50', '8'], ['전라남도 진도군', '군내북초등학교', '6', '34', '7'], ['전라남도 진도군', '금성초등학교', '6', '27', '7'], ['전라남도 진도군', '석교초등학교', '7', '57', '8'], ['전라남도 진도군', '오산초등학교', '6', '82', '8'], ['전라남도 진도군', '의신초등학교', '6', '49', '7'], ['전라남도 진도군', '조도초등학교', '6', '54', '7'], ['전라남도 진도군', '지산초등학교', '6', '77', '7'], ['전라남도 진도군', '진도서초등학교', '7', '29', '8'], ['전라남도 진도군', '진도초등학교', '32', '705', '37'], ['전라남도 함평군', '기산초등학교', '6', '42', '8'], ['전라남도 함평군', '나산초등학교', '7', '65', '8'], ['전라남도 함평군', '손불서초등학교', '6', '28', '7'], ['전라남도 함평군', '손불초등학교', '6', '49', '7'], ['전라남도 함평군', '신광초등학교', '6', '24', '7'], ['전라남도 함평군', '엄다초등학교', '6', '32', '7'], ['전라남도 함평군', '월야초등학교', '8', '111', '9'], ['전라남도 함평군', '학다리중앙초등학교', '7', '109', '8'], ['전라남도 함평군', '함평초등학교', '19', '408', '25'], ['전라남도 함평군', '해보초등학교', '7', '70', '9'], ['전라남도 함평군', '대동향교초등학교', '6', '64', '7'], ['전라남도 해남군', '계곡초등학교', '6', '35', '7'], ['전라남도 해남군', '마산초등학교', '7', '38', '7'], ['전라남도 해남군', '북일초등학교', '6', '29', '7'], ['전라남도 해남군', '북평초등학교', '6', '69', '7'], ['전라남도 해남군', '산이서초등학교', '6', '61', '7'], ['전라남도 해남군', '산이초등학교', '6', '50', '7'], ['전라남도 해남군', '삼산초등학교', '7', '34', '8'], ['전라남도 해남군', '송지초등학교', '8', '127', '9'], ['전라남도 해남군', '송호초등학교', '7', '39', '8'], ['전라남도 해남군', '어란진초등학교', '7', '30', '8'], ['전라남도 해남군', '옥천초등학교', '7', '79', '8'], ['전라남도 해남군', '우수영초등학교', '8', '129', '8'], ['전라남도 해남군', '해남동초등학교', '46', '1142', '54'], ['전라남도 해남군', '해남서초등학교', '23', '538', '28'], ['전라남도 해남군', '현산남초등학교', '5', '17', '6'], ['전라남도 해남군', '현산초등학교', '6', '40', '6'], ['전라남도 해남군', '화산초등학교', '7', '43', '8'], ['전라남도 해남군', '화원초등학교', '7', '98', '9'], ['전라남도 해남군', '황산초등학교', '7', '125', '7'], ['전라남도 화순군', '능주초등학교', '6', '81', '7'], ['전라남도 화순군', '도곡중앙초등학교', '5', '32', '6'], ['전라남도 화순군', '도곡초등학교', '6', '74', '7'], ['전라남도 화순군', '동면초등학교', '7', '69', '8'], ['전라남도 화순군', '동복초등학교', '6', '26', '7'], ['전라남도 화순군', '사평초등학교', '7', '42', '9'], ['전라남도 화순군', '아산초등학교', '6', '26', '8'], ['전라남도 화순군', '화순초등학교이서분교장', '3', '11', '3'], ['전라남도 화순군', '이양초등학교', '5', '21', '6'], ['전라남도 화순군', '천태초등학교', '6', '24', '7'], ['전라남도 화순군', '청풍초등학교', '4', '17', '4'], ['전라남도 화순군', '춘양초등학교', '7', '45', '8'], ['전라남도 화순군', '한천초등학교', '6', '30', '7'], ['전라남도 화순군', '화순만연초등학교', '29', '699', '35'], ['전라남도 화순군', '화순오성초등학교', '12', '187', '14'], ['전라남도 화순군', '화순제일초등학교', '25', '575', '29'], ['전라남도 화순군', '화순초등학교', '37', '918', '43'], ['전라남도 진도군', '의신초등학교접도분교장', '3', '9', '3'], ['전라남도 진도군', '조도초등학교관사분교장', '1', '1', '1'], ['전라남도 진도군', '의신초등학교모도분교장', '3', '5', '3'], ['전라남도 무안군', '일로초등학교청망분교장', '3', '8', '3'], ['전라남도 순천시', '송산초등학교', '6', '100', '7'], ['전라남도 여수시', '소라초등학교소라남분교장', '6', '36', '7'], ['전라남도 여수시', '안일초등학교백야분교장', '2', '8', '2'], ['전라남도 여수시', '거문초등학교손죽분교장', '1', '2', '1'], ['전라남도 여수시', '화태초등학교두라분교장', '1', '2', '1'], ['전라남도 해남군', '서정초등학교', '6', '53', '7'], ['전라남도 고흥군', '녹동초등학교시산분교장', '3', '6', '3'], ['전라남도 신안군', '흑산초등학교장도분교장', '1', '1', '1'], ['전라남도 신안군', '흑산초등학교흑산동분교장', '2', '6', '2'], ['전라남도 신안군', '흑산초등학교흑산북분교장', '1', '1', '1'], ['전라남도 신안군', '안좌초등학교자라분교장', '1', '2', '1'], ['전라남도 진도군', '조도초등학교거차분교장', '3', '8', '3'], ['전라남도 진도군', '진도서초등학교가사도분교장', '2', '6', '3'], ['전라남도 영광군', '묘량중앙초등학교', '8', '78', '9'], ['전라남도 목포시', '목포유달초등학교달리분교장', '1', '2', '1'], ['전라남도 여수시', '소라초등학교사곡분교장', '2', '6', '2'], ['전라남도 여수시', '소라초등학교신흥분교장', '1', '3', '1'], ['전라남도 여수시', '율촌초등학교상봉분교장', '2', '4', '2'], ['전라남도 구례군', '토지초등학교연곡분교장', '2', '4', '2'], ['전라남도 고흥군', '남양초등학교우도분교장', '1', '1', '1'], ['전라남도 고흥군', '녹동초등학교소록도분교장', '3', '11', '3'], ['전라남도 순천시', '승주초등학교죽학분교장', '3', '10', '3'], ['전라남도 순천시', '황전북초등학교회덕분교장', '2', '7', '2'], ['전라남도 여수시', '거문초등학교동도분교장', '2', '11', '2'], ['전라남도 여수시', '소라초등학교여자분교장', '1', '3', '1'], ['전라남도 여수시', '율촌초등학교', '7', '126', '9'], ['전라남도 해남군', '마산초등학교용전분교장', '4', '17', '5'], ['전라남도 신안군', '흑산초등학교영산분교장', '1', '2', '1'], ['전라남도 신안군', '흑산초등학교홍도분교장', '3', '9', '3'], ['전라남도 진도군', '조도초등학교대마분교장', '2', '3', '2'], ['전라남도 완도군', '청산초등학교모도분교장', '2', '4', '2'], ['전라남도 완도군', '넙도초등학교서리분교장', '1', '3', '1'], ['전라남도 여수시', '신풍초등학교', '6', '47', '8'], ['전라남도 여수시', '여남초등학교', '7', '37', '8'], ['전라남도 여수시', '화태초등학교월호분교장', '1', '2', '1'], ['전라남도 목포시', '목포미항초등학교', '13', '324', '15'], ['전라남도 목포시', '목포서해초등학교', '24', '590', '27'], ['전라남도 여수시', '신기초등학교', '19', '474', '22'], ['전라남도 광양시', '광양용강초등학교', '26', '631', '31'], ['전라남도 광양시', '광양칠성초등학교', '25', '580', '27'], ['전라남도 순천시', '순천향림초등학교', '9', '192', '10'], ['전라남도 여수시', '안심초등학교', '26', '681', '31'], ['전라남도 여수시', '동백초등학교', '19', '438', '22'], ['전라남도 목포시', '목포용해초등학교', '35', '930', '43'], ['전라남도 목포시', '목포항도초등학교', '33', '942', '38'], ['전라남도 목포시', '목포석현초등학교', '37', '1000', '43'], ['전라남도 광양시', '광양백운초등학교', '26', '689', '30'], ['전라남도 여수시', '성산초등학교', '14', '273', '17'], ['전라남도 목포시', '목포애향초등학교', '31', '805', '34'], ['전라남도 무안군', '남악초등학교', '45', '1250', '51'], ['전라남도 순천시', '순천풍덕초등학교', '16', '391', '19'], ['전라남도 목포시', '목포옥암초등학교', '39', '1019', '45'], ['전라남도 목포시', '목포영산초등학교', '30', '819', '34'], ['전라남도 무안군', '오룡초등학교', '57', '1600', '65'], ['전라남도 나주시', '한아름초등학교', '22', '461', '25'], ['전라남도 여수시', '웅천초등학교', '36', '1044', '41'], ['전라남도 여수시', '죽림초등학교', '39', '1052', '46'], ['전라남도 순천시', '순천왕운초등학교', '34', '1005', '36'], ['전라남도 나주시', '빛가람초등학교', '39', '1060', '44'], ['전라남도 순천시', '매안초등학교', '46', '1352', '53'], ['전라남도 목포시', '목포부주초등학교', '32', '901', '36'], ['전라남도 목포시', '목포백련초등학교', '26', '692', '29'], ['전라남도 여수시', '여수송현초등학교', '22', '506', '25'], ['전라남도 나주시', '라온초등학교', '29', '656', '33'], ['전라남도 순천시', '좌야초등학교', '36', '937', '41'], ['전라남도 순천시', '신대초등학교', '32', '927', '39'], ['전라남도 나주시', '빛누리초등학교', '38', '1006', '43'], ['경상북도 안동시', '대구교육대학교안동부설초등학교', '19', '429', '22'], ['경상북도 경산시', '경산동부초등학교', '22', '540', '26'], ['경상북도 경산시', '경산서부초등학교', '21', '500', '28'], ['경상북도 경산시', '경산중앙초등학교', '14', '275', '19'], ['경상북도 경산시', '경산초등학교', '15', '382', '17'], ['경상북도 경산시', '계당초등학교', '7', '47', '8'], ['경상북도 경산시', '금락초등학교', '26', '651', '32'], ['경상북도 경산시', '남산초등학교', '6', '106', '9'], ['경상북도 경산시', '남성초등학교', '8', '87', '10'], ['경상북도 경산시', '남천초등학교', '7', '119', '9'], ['경상북도 경산시', '다문초등학교', '7', '52', '8'], ['경상북도 경산시', '대동초등학교', '6', '27', '8'], ['경상북도 경산시', '부림초등학교', '14', '271', '17'], ['경상북도 경산시', '경산압량초등학교', '41', '955', '48'], ['경상북도 경산시', '와촌초등학교', '7', '62', '7'], ['경상북도 경산시', '용성초등학교', '7', '58', '8'], ['경상북도 경산시', '임당초등학교', '7', '118', '9'], ['경상북도 경산시', '자인초등학교', '7', '108', '9'], ['경상북도 경산시', '장산초등학교', '25', '614', '31'], ['경상북도 경산시', '정평초등학교', '37', '981', '49'], ['경상북도 경산시', '진량초등학교', '22', '510', '26'], ['경상북도 경산시', '진성초등학교', '8', '158', '11'], ['경상북도 경산시', '청천초등학교', '6', '66', '6'], ['경상북도 경산시', '하양초등학교', '34', '768', '41'], ['경상북도 경산시', '하주초등학교', '7', '69', '9'], ['경상북도 경산시', '현흥초등학교', '12', '182', '15'], ['경상북도 경주시', '감포초등학교', '7', '106', '9'], ['경상북도 경주시', '강동초등학교', '7', '125', '9'], ['경상북도 경주시', '건천초등학교', '11', '202', '14'], ['경상북도 경주시', '경주초등학교', '35', '928', '45'], ['경상북도 경주시', '계림초등학교', '8', '152', '12'], ['경상북도 경주시', '괘릉초등학교', '6', '41', '8'], ['경상북도 경주시', '나산초등학교', '9', '163', '10'], ['경상북도 경주시', '나원초등학교', '13', '206', '15'], ['경상북도 경주시', '내남초등학교', '6', '79', '8'], ['경상북도 경주시', '동방초등학교', '11', '219', '11'], ['경상북도 경주시', '동천초등학교', '28', '727', '33'], ['경상북도 경주시', '모량초등학교', '7', '41', '8'], ['경상북도 경주시', '모아초등학교', '5', '25', '7'], ['경상북도 경주시', '모아초등학교모서분교장', '3', '5', '3'], ['경상북도 경주시', '모화초등학교', '8', '167', '12'], ['경상북도 경주시', '불국사초등학교', '14', '310', '16'], ['경상북도 경주시', '사방초등학교', '6', '71', '7'], ['경상북도 경주시', '산대초등학교', '24', '518', '31'], ['경상북도 경주시', '서라벌초등학교', '6', '55', '7'], ['경상북도 경주시', '석계초등학교', '5', '36', '7'], ['경상북도 경주시', '신라초등학교', '7', '78', '8'], ['경상북도 경주시', '아화초등학교', '7', '78', '8'], ['경상북도 경주시', '안강제일초등학교', '18', '421', '21'], ['경상북도 경주시', '안강초등학교', '6', '66', '7'], ['경상북도 경주시', '양남초등학교', '6', '66', '7'], ['경상북도 경주시', '양동초등학교', '7', '56', '8'], ['경상북도 경주시', '양북초등학교', '6', '87', '8'], ['경상북도 경주시', '연안초등학교', '5', '34', '7'], ['경상북도 경주시', '영지초등학교', '6', '42', '6'], ['경상북도 경주시', '옥산초등학교', '6', '54', '7'], ['경상북도 경주시', '용강초등학교', '24', '552', '30'], ['경상북도 경주시', '용황초등학교', '27', '747', '32'], ['경상북도 경주시', '월성초등학교', '9', '179', '14'], ['경상북도 경주시', '유림초등학교', '46', '1314', '54'], ['경상북도 경주시', '의곡초등학교', '5', '22', '6'], ['경상북도 경주시', '의곡초등학교일부분교장', '3', '8', '4'], ['경상북도 경주시', '입실초등학교', '15', '314', '18'], ['경상북도 경주시', '천북초등학교', '7', '80', '8'], ['경상북도 경주시', '천포초등학교', '6', '36', '8'], ['경상북도 경주시', '현곡초등학교', '9', '237', '12'], ['경상북도 경주시', '화랑초등학교', '7', '73', '8'], ['경상북도 경주시', '황남초등학교', '33', '850', '37'], ['경상북도 경주시', '황성초등학교', '34', '860', '44'], ['경상북도 경주시', '흥무초등학교', '20', '509', '26'], ['경상북도 고령군', '개진초등학교', '4', '24', '5'], ['경상북도 고령군', '고령초등학교', '21', '459', '26'], ['경상북도 고령군', '다산초등학교', '21', '447', '26'], ['경상북도 고령군', '덕곡초등학교', '5', '30', '7'], ['경상북도 고령군', '박곡초등학교', '4', '26', '6'], ['경상북도 고령군', '성산초등학교', '6', '39', '7'], ['경상북도 고령군', '쌍림초등학교', '7', '60', '8'], ['경상북도 고령군', '우곡초등학교', '6', '29', '8'], ['경상북도 고령군', '운수초등학교', '3', '13', '5'], ['경상북도 구미시', '고아초등학교', '12', '235', '15'], ['경상북도 구미시', '광평초등학교', '10', '218', '14'], ['경상북도 구미시', '구미신평초등학교', '8', '187', '10'], ['경상북도 구미시', '구미초등학교', '7', '101', '11'], ['경상북도 구미시', '구운초등학교', '6', '56', '8'], ['경상북도 구미시', '구평초등학교', '14', '350', '17'], ['경상북도 구미시', '금오초등학교', '38', '1060', '48'], ['경상북도 구미시', '남계초등학교', '6', '100', '8'], ['경상북도 구미시', '덕촌초등학교', '6', '40', '8'], ['경상북도 구미시', '도개초등학교', '6', '37', '8'], ['경상북도 구미시', '도량초등학교', '17', '418', '20'], ['경상북도 구미시', '도산초등학교', '17', '398', '22'], ['경상북도 구미시', '무을초등학교', '6', '27', '8'], ['경상북도 구미시', '비산초등학교', '28', '718', '32'], ['경상북도 구미시', '산동초등학교', '10', '167', '13'], ['경상북도 구미시', '상모초등학교', '44', '1148', '53'], ['경상북도 구미시', '선산초등학교', '28', '617', '36'], ['경상북도 구미시', '선주초등학교', '46', '1299', '55'], ['경상북도 구미시', '송정초등학교', '20', '535', '26'], ['경상북도 구미시', '신기초등학교', '7', '74', '10'], ['경상북도 구미시', '야은초등학교', '12', '275', '15'], ['경상북도 구미시', '양포초등학교', '29', '743', '36'], ['경상북도 구미시', '오태초등학교', '29', '766', '34'], ['경상북도 구미시', '옥계초등학교', '33', '879', '40'], ['경상북도 구미시', '옥성초등학교', '4', '14', '6'], ['경상북도 구미시', '원남초등학교', '30', '777', '35'], ['경상북도 구미시', '원호초등학교', '33', '767', '42'], ['경상북도 구미시', '인동초등학교', '19', '440', '23'], ['경상북도 구미시', '인의초등학교', '25', '683', '30'], ['경상북도 구미시', '장천초등학교', '7', '81', '9'], ['경상북도 구미시', '지산초등학교', '7', '70', '9'], ['경상북도 구미시', '해평초등학교', '7', '71', '9'], ['경상북도 구미시', '형곡초등학교', '30', '805', '38'], ['경상북도 구미시', '형남초등학교', '15', '310', '17'], ['경상북도 구미시', '형일초등학교', '23', '576', '28'], ['경상북도 구미시', '황상초등학교', '23', '541', '28'], ['경상북도 군위군', '고매초등학교', '5', '24', '7'], ['경상북도 군위군', '군위초등학교', '15', '315', '18'], ['경상북도 군위군', '부계초등학교', '7', '45', '10'], ['경상북도 군위군', '의흥초등학교석산분교장', '3', '6', '4'], ['경상북도 군위군', '송원초등학교', '4', '18', '6'], ['경상북도 군위군', '우보초등학교', '2', '11', '3'], ['경상북도 군위군', '의흥초등학교', '7', '51', '10'], ['경상북도 군위군', '효령초등학교', '6', '29', '7'], ['경상북도 김천시', '감천초등학교', '7', '46', '8'], ['경상북도 김천시', '개령서부초등학교', '6', '38', '7'], ['경상북도 김천시', '개령초등학교', '7', '44', '9'], ['경상북도 김천시', '구성초등학교', '4', '22', '5'], ['경상북도 김천시', '금릉초등학교', '20', '449', '25'], ['경상북도 김천시', '김천다수초등학교', '14', '317', '17'], ['경상북도 김천시', '김천동부초등학교', '24', '611', '29'], ['경상북도 김천시', '김천모암초등학교', '7', '125', '8'], ['경상북도 김천시', '김천부곡초등학교', '25', '674', '31'], ['경상북도 김천시', '김천서부초등학교', '7', '103', '8'], ['경상북도 김천시', '김천신일초등학교', '20', '495', '25'], ['경상북도 김천시', '김천중앙초등학교', '7', '153', '8'], ['경상북도 김천시', '김천초등학교', '12', '208', '14'], ['경상북도 김천시', '농소초등학교', '19', '465', '19'], ['경상북도 김천시', '아천초등학교능치분교장', '3', '7', '4'], ['경상북도 김천시', '대덕초등학교', '5', '27', '7'], ['경상북도 김천시', '대룡초등학교', '6', '35', '7'], ['경상북도 김천시', '봉계초등학교', '7', '60', '8'], ['경상북도 김천시', '지례초등학교부항분교장', '3', '15', '4'], ['경상북도 김천시', '아천초등학교', '7', '62', '8'], ['경상북도 김천시', '아포초등학교', '13', '249', '16'], ['경상북도 김천시', '운곡초등학교', '26', '646', '32'], ['경상북도 김천시', '위량초등학교', '6', '37', '6'], ['경상북도 김천시', '조마초등학교', '6', '36', '7'], ['경상북도 김천시', '증산초등학교', '3', '14', '4'], ['경상북도 김천시', '지례초등학교', '4', '31', '5'], ['경상북도 김천시', '직지초등학교', '7', '47', '8'], ['경상북도 김천시', '봉계초등학교태화분교장', '3', '9', '4'], ['경상북도 문경시', '가은초등학교', '6', '80', '7'], ['경상북도 문경시', '가은초등학교희양분교장', '3', '12', '4'], ['경상북도 문경시', '농암초등학교', '6', '39', '7'], ['경상북도 문경시', '농암초등학교청화분교장', '4', '18', '5'], ['경상북도 문경시', '당포초등학교', '4', '16', '5'], ['경상북도 문경시', '동로초등학교', '6', '47', '7'], ['경상북도 문경시', '동성초등학교', '7', '54', '8'], ['경상북도 문경시', '모전초등학교', '37', '1041', '44'], ['경상북도 문경시', '문경초등학교', '7', '115', '10'], ['경상북도 문경시', '산북초등학교', '6', '39', '7'], ['경상북도 문경시', '산북초등학교창구분교장', '2', '8', '3'], ['경상북도 문경시', '산양초등학교', '6', '67', '7'], ['경상북도 문경시', '신기초등학교', '7', '56', '9'], ['경상북도 문경시', '영순초등학교', '7', '48', '8'], ['경상북도 문경시', '용흥초등학교', '6', '33', '7'], ['경상북도 문경시', '점촌북초등학교', '6', '55', '7'], ['경상북도 문경시', '점촌중앙초등학교', '8', '89', '9'], ['경상북도 문경시', '점촌초등학교', '16', '372', '19'], ['경상북도 문경시', '호계초등학교', '6', '67', '6'], ['경상북도 문경시', '호서남초등학교', '25', '652', '30'], ['경상북도 봉화군', '내성초등학교', '16', '329', '18'], ['경상북도 봉화군', '도촌초등학교', '6', '44', '8'], ['경상북도 봉화군', '동양초등학교', '5', '29', '7'], ['경상북도 봉화군', '명호초등학교', '7', '48', '8'], ['경상북도 봉화군', '물야초등학교', '7', '37', '8'], ['경상북도 봉화군', '법전중앙초등학교', '6', '30', '7'], ['경상북도 봉화군', '봉성초등학교', '4', '11', '6'], ['경상북도 봉화군', '봉화초등학교', '8', '124', '10'], ['경상북도 봉화군', '상운초등학교', '5', '16', '7'], ['경상북도 봉화군', '서벽초등학교', '3', '16', '4'], ['경상북도 봉화군', '석포초등학교', '7', '117', '9'], ['경상북도 봉화군', '소천초등학교', '3', '17', '4'], ['경상북도 봉화군', '소천초등학교두음분교장', '3', '12', '4'], ['경상북도 봉화군', '소천초등학교분천분교장', '2', '3', '2'], ['경상북도 봉화군', '소천초등학교임기분교장', '1', '2', '1'], ['경상북도 봉화군', '재산초등학교', '5', '24', '7'], ['경상북도 봉화군', '춘양초등학교', '7', '97', '8'], ['경상북도 상주시', '공검초등학교', '4', '25', '6'], ['경상북도 상주시', '낙동동부초등학교', '3', '17', '4'], ['경상북도 상주시', '낙동초등학교', '6', '62', '7'], ['경상북도 상주시', '낙서초등학교', '4', '24', '6'], ['경상북도 상주시', '모동초등학교', '6', '49', '7'], ['경상북도 상주시', '모서초등학교', '6', '56', '7'], ['경상북도 상주시', '백원초등학교', '6', '74', '7'], ['경상북도 상주시', '사벌초등학교', '7', '53', '8'], ['경상북도 상주시', '상산초등학교', '21', '549', '25'], ['경상북도 상주시', '상영초등학교', '29', '783', '35'], ['경상북도 상주시', '상주남부초등학교', '6', '85', '7'], ['경상북도 상주시', '상주동부초등학교', '8', '53', '9'], ['경상북도 상주시', '상주중앙초등학교', '19', '438', '23'], ['경상북도 상주시', '상주초등학교', '19', '478', '26'], ['경상북도 상주시', '옥산초등학교', '7', '59', '8'], ['경상북도 상주시', '외남초등학교', '7', '68', '8'], ['경상북도 상주시', '외서초등학교', '5', '27', '7'], ['경상북도 상주시', '은척초등학교', '3', '15', '4'], ['경상북도 상주시', '은척초등학교무릉분교장', '3', '14', '4'], ['경상북도 상주시', '이안초등학교', '6', '52', '7'], ['경상북도 상주시', '중동초등학교', '4', '21', '6'], ['경상북도 상주시', '중모초등학교', '6', '49', '7'], ['경상북도 상주시', '청리초등학교', '7', '67', '8'], ['경상북도 상주시', '함창중앙초등학교', '6', '55', '8'], ['경상북도 상주시', '함창초등학교', '7', '158', '8'], ['경상북도 상주시', '화동초등학교', '7', '53', '8'], ['경상북도 상주시', '화령초등학교', '7', '86', '8'], ['경상북도 상주시', '화북초등학교', '4', '18', '5'], ['경상북도 상주시', '화북초등학교용화분교장', '3', '6', '4'], ['경상북도 상주시', '화북초등학교입석분교장', '3', '13', '4'], ['경상북도 성주군', '가천초등학교', '7', '31', '9'], ['경상북도 성주군', '대가초등학교', '5', '33', '7'], ['경상북도 성주군', '대동초등학교', '5', '20', '6'], ['경상북도 성주군', '도원초등학교', '6', '35', '7'], ['경상북도 성주군', '벽진초등학교', '7', '42', '8'], ['경상북도 성주군', '초전초등학교봉소분교장', '3', '9', '3'], ['경상북도 성주군', '선남초등학교', '6', '50', '7'], ['경상북도 성주군', '성주중앙초등학교', '13', '237', '17'], ['경상북도 성주군', '성주초등학교', '24', '523', '32'], ['경상북도 성주군', '수륜초등학교', '7', '54', '8'], ['경상북도 성주군', '용암초등학교', '6', '31', '7'], ['경상북도 성주군', '월항초등학교', '6', '36', '8'], ['경상북도 성주군', '월항초등학교지방분교장', '4', '21', '5'], ['경상북도 성주군', '초전초등학교', '6', '92', '7'], ['경상북도 안동시', '길안초등학교', '6', '35', '8'], ['경상북도 안동시', '길안초등학교길송분교장', '3', '13', '4'], ['경상북도 안동시', '길주초등학교', '26', '698', '32'], ['경상북도 안동시', '남선초등학교', '6', '36', '7'], ['경상북도 안동시', '남후초등학교', '6', '34', '8'], ['경상북도 안동시', '녹전초등학교', '3', '16', '5'], ['경상북도 안동시', '복주초등학교', '23', '559', '27'], ['경상북도 안동시', '북후초등학교', '6', '54', '7'], ['경상북도 안동시', '서선초등학교', '6', '38', '7'], ['경상북도 안동시', '서후초등학교', '2', '15', '4'], ['경상북도 안동시', '서후초등학교대흥분교장', '3', '9', '4'], ['경상북도 안동시', '송천초등학교', '7', '98', '8'], ['경상북도 안동시', '신성초등학교', '6', '40', '7'], ['경상북도 안동시', '안동동부초등학교', '7', '72', '8'], ['경상북도 안동시', '안동서부초등학교', '28', '710', '33'], ['경상북도 안동시', '안동송현초등학교', '38', '1006', '47'], ['경상북도 안동시', '안동영호초등학교', '39', '1040', '48'], ['경상북도 안동시', '안동용상초등학교', '19', '451', '24'], ['경상북도 안동시', '안동초등학교', '8', '158', '10'], ['경상북도 안동시', '영가초등학교', '19', '455', '21'], ['경상북도 안동시', '영남초등학교', '13', '279', '17'], ['경상북도 안동시', '온혜초등학교', '3', '16', '5'], ['경상북도 안동시', '와룡초등학교', '7', '71', '8'], ['경상북도 안동시', '월곡초등학교', '4', '16', '6'], ['경상북도 안동시', '월곡초등학교삼계분교장', '2', '6', '3'], ['경상북도 안동시', '일직초등학교', '7', '57', '8'], ['경상북도 안동시', '임동초등학교', '4', '20', '6'], ['경상북도 안동시', '임하초등학교', '5', '25', '7'], ['경상북도 안동시', '풍북초등학교', '4', '19', '6'], ['경상북도 안동시', '풍산초등학교', '7', '103', '8'], ['경상북도 영덕군', '강구초등학교', '10', '153', '13'], ['경상북도 영덕군', '남정초등학교', '5', '26', '7'], ['경상북도 영덕군', '병곡초등학교', '6', '31', '6'], ['경상북도 영덕군', '영덕야성초등학교', '25', '587', '32'], ['경상북도 영덕군', '영해초등학교', '13', '243', '16'], ['경상북도 영덕군', '원황초등학교', '4', '18', '6'], ['경상북도 영덕군', '지품초등학교', '4', '22', '6'], ['경상북도 영덕군', '창수초등학교', '4', '18', '5'], ['경상북도 영덕군', '창수초등학교인천분교장', '3', '11', '4'], ['경상북도 영덕군', '축산항초등학교', '4', '21', '5'], ['경상북도 영덕군', '축산항초등학교경정분교장', '3', '9', '4'], ['경상북도 영양군', '석보초등학교', '7', '37', '8'], ['경상북도 영양군', '수비초등학교', '6', '33', '7'], ['경상북도 영양군', '영양중앙초등학교', '7', '102', '8'], ['경상북도 영양군', '영양초등학교', '13', '251', '15'], ['경상북도 영양군', '일월초등학교', '5', '32', '6'], ['경상북도 영양군', '일월초등학교청기분교장', '4', '15', '5'], ['경상북도 영양군', '입암초등학교', '7', '40', '8'], ['경상북도 영주시', '남산초등학교', '17', '409', '21'], ['경상북도 영주시', '문수초등학교', '7', '71', '8'], ['경상북도 영주시', '봉현초등학교', '7', '91', '8'], ['경상북도 영주시', '부석초등학교', '6', '53', '7'], ['경상북도 영주시', '순흥초등학교', '5', '32', '7'], ['경상북도 영주시', '안정초등학교', '6', '61', '7'], ['경상북도 영주시', '영일초등학교', '18', '406', '22'], ['경상북도 영주시', '영주남부초등학교', '20', '480', '24'], ['경상북도 영주시', '영주동부초등학교', '27', '711', '32'], ['경상북도 영주시', '영주서부초등학교', '16', '357', '19'], ['경상북도 영주시', '영주중앙초등학교', '21', '490', '25'], ['경상북도 영주시', '영주초등학교', '7', '107', '10'], ['경상북도 영주시', '옥대초등학교', '6', '39', '7'], ['경상북도 영주시', '이산초등학교', '7', '93', '8'], ['경상북도 영주시', '장수초등학교', '6', '46', '6'], ['경상북도 영주시', '평은초등학교', '7', '53', '8'], ['경상북도 영주시', '풍기북부초등학교', '6', '49', '7'], ['경상북도 영주시', '풍기초등학교', '15', '328', '21'], ['경상북도 영천시', '거여초등학교', '3', '22', '5'], ['경상북도 영천시', '고경초등학교', '5', '25', '7'], ['경상북도 영천시', '금호초등학교', '12', '182', '16'], ['경상북도 영천시', '단포초등학교', '7', '107', '8'], ['경상북도 영천시', '대창초등학교', '6', '35', '7'], ['경상북도 영천시', '북안초등학교', '6', '44', '7'], ['경상북도 영천시', '신녕초등학교', '6', '73', '8'], ['경상북도 영천시', '영천중앙초등학교화남분교장', '3', '10', '3'], ['경상북도 영천시', '영천동부초등학교', '15', '287', '20'], ['경상북도 영천시', '영천중앙초등학교', '36', '936', '44'], ['경상북도 영천시', '영천초등학교', '14', '318', '18'], ['경상북도 영천시', '영화초등학교', '6', '99', '10'], ['경상북도 영천시', '임고초등학교', '6', '71', '7'], ['경상북도 영천시', '자천초등학교', '5', '28', '7'], ['경상북도 영천시', '자천초등학교보현분교장', '2', '6', '2'], ['경상북도 영천시', '지곡초등학교', '4', '18', '6'], ['경상북도 영천시', '청통초등학교', '6', '27', '8'], ['경상북도 영천시', '평천초등학교', '5', '20', '7'], ['경상북도 영천시', '영화초등학교화덕분교장', '2', '4', '2'], ['경상북도 영천시', '화산초등학교', '5', '35', '7'], ['경상북도 예천군', '감천초등학교', '7', '42', '8'], ['', '상리초등학교', '3', '14', '4'], ['경상북도 예천군', '예천남부초등학교', '7', '68', '7'], ['경상북도 예천군', '예천동부초등학교', '12', '199', '18'], ['경상북도 예천군', '예천초등학교', '24', '550', '35'], ['경상북도 예천군', '용궁초등학교', '6', '41', '6'], ['경상북도 예천군', '용문초등학교', '7', '62', '8'], ['경상북도 예천군', '유천초등학교', '7', '63', '8'], ['경상북도 예천군', '은풍초등학교', '7', '55', '8'], ['경상북도 예천군', '지보초등학교', '7', '41', '8'], ['경상북도 예천군', '풍양초등학교', '7', '54', '8'], ['경상북도 울릉군', '남양초등학교', '6', '38', '7'], ['경상북도 울릉군', '울릉초등학교', '7', '120', '8'], ['경상북도 울릉군', '저동초등학교', '7', '118', '8'], ['경상북도 울릉군', '천부초등학교', '4', '16', '5'], ['경상북도 울릉군', '천부초등학교현포분교장', '3', '8', '4'], ['경상북도 울진군', '기성초등학교', '5', '27', '6'], ['경상북도 울진군', '기성초등학교구산분교장', '3', '6', '4'], ['경상북도 울진군', '노음초등학교', '6', '38', '7'], ['경상북도 울진군', '매화초등학교', '7', '41', '8'], ['경상북도 울진군', '부구초등학교', '14', '297', '16'], ['경상북도 울진군', '부구초등학교삼당분교장', '1', '3', '1'], ['경상북도 울진군', '기성초등학교사동분교장', '3', '15', '4'], ['경상북도 울진군', '삼근초등학교', '4', '10', '6'], ['경상북도 울진군', '삼근초등학교옥방분교장', '2', '4', '2'], ['경상북도 울진군', '온정초등학교', '5', '34', '7'], ['경상북도 울진군', '울진남부초등학교', '13', '239', '16'], ['경상북도 울진군', '울진초등학교', '30', '671', '37'], ['경상북도 울진군', '월송초등학교', '3', '18', '4'], ['경상북도 울진군', '죽변초등학교', '13', '228', '17'], ['경상북도 울진군', '평해초등학교', '7', '47', '9'], ['경상북도 울진군', '후포동부초등학교', '5', '26', '7'], ['경상북도 울진군', '후포초등학교', '14', '269', '17'], ['경상북도 의성군', '가음초등학교', '3', '13', '6'], ['경상북도 의성군', '구천초등학교', '3', '7', '5'], ['경상북도 의성군', '금성초등학교', '7', '73', '8'], ['경상북도 의성군', '다인초등학교', '6', '38', '7'], ['경상북도 의성군', '단촌초등학교', '4', '26', '5'], ['경상북도 의성군', '도리원초등학교', '7', '82', '9'], ['경상북도 의성군', '단밀초등학교', '4', '20', '6'], ['경상북도 의성군', '안계초등학교', '11', '178', '13'], ['경상북도 의성군', '안평초등학교', '4', '27', '5'], ['경상북도 의성군', '안평초등학교신평분교장', '2', '5', '3'], ['경상북도 의성군', '옥전초등학교', '5', '25', '7'], ['경상북도 의성군', '의성남부초등학교', '8', '86', '9'], ['경상북도 의성군', '의성북부초등학교', '5', '22', '7'], ['경상북도 의성군', '의성초등학교', '23', '500', '28'], ['경상북도 의성군', '이두초등학교', '3', '14', '5'], ['경상북도 의성군', '점곡초등학교', '3', '11', '5'], ['경상북도 의성군', '춘산초등학교', '3', '19', '4'], ['경상북도 청도군', '각남초등학교', '7', '40', '8'], ['경상북도 청도군', '금천초등학교', '6', '68', '7'], ['경상북도 청도군', '남성현초등학교', '6', '43', '7'], ['경상북도 청도군', '덕산초등학교', '4', '18', '6'], ['경상북도 청도군', '동산초등학교', '6', '49', '6'], ['경상북도 청도군', '유천초등학교', '3', '16', '5'], ['경상북도 청도군', '이서초등학교', '7', '108', '10'], ['경상북도 청도군', '청도중앙초등학교', '7', '100', '8'], ['경상북도 청도군', '청도초등학교', '24', '534', '29'], ['경상북도 청도군', '풍각초등학교', '7', '98', '8'], ['경상북도 청도군', '화양초등학교', '6', '49', '6'], ['경상북도 청송군', '도평초등학교', '7', '47', '8'], ['경상북도 청송군', '부남초등학교', '4', '22', '5'], ['경상북도 청송군', '안덕초등학교', '6', '58', '7'], ['경상북도 청송군', '이전초등학교', '4', '24', '5'], ['경상북도 청송군', '진보초등학교', '10', '178', '13'], ['경상북도 청송군', '청송초등학교', '12', '210', '14'], ['경상북도 청송군', '파천초등학교', '7', '44', '8'], ['경상북도 청송군', '화목초등학교', '6', '53', '7'], ['경상북도 칠곡군', '가산초등학교', '7', '40', '8'], ['경상북도 칠곡군', '관호초등학교', '6', '51', '7'], ['경상북도 칠곡군', '낙산초등학교', '7', '44', '8'], ['경상북도 칠곡군', '다부초등학교', '6', '77', '7'], ['경상북도 칠곡군', '동명동부초등학교', '7', '66', '8'], ['경상북도 칠곡군', '동명초등학교', '6', '61', '8'], ['경상북도 칠곡군', '매원초등학교', '6', '48', '7'], ['경상북도 칠곡군', '북삼초등학교', '37', '897', '47'], ['경상북도 칠곡군', '북삼초등학교오평분교장', '3', '10', '3'], ['경상북도 칠곡군', '석적초등학교', '26', '570', '30'], ['경상북도 칠곡군', '숭산초등학교', '7', '50', '8'], ['경상북도 칠곡군', '신동초등학교', '6', '40', '7'], ['경상북도 칠곡군', '약동초등학교', '13', '239', '19'], ['경상북도 칠곡군', '약목초등학교', '12', '223', '16'], ['경상북도 칠곡군', '왜관동부초등학교', '27', '587', '33'], ['경상북도 칠곡군', '왜관중앙초등학교', '19', '393', '26'], ['경상북도 칠곡군', '왜관초등학교', '33', '734', '42'], ['경상북도 칠곡군', '인평초등학교', '27', '612', '33'], ['경상북도 칠곡군', '장곡초등학교', '37', '850', '47'], ['경상북도 칠곡군', '지천초등학교', '6', '71', '8'], ['경상북도 칠곡군', '학림초등학교', '7', '64', '8'], ['경상북도 포항시 북구', '곡강초등학교', '6', '36', '7'], ['경상북도 포항시 남구', '구룡포초등학교', '7', '138', '8'], ['경상북도 포항시 남구', '구정초등학교', '23', '551', '28'], ['경상북도 포항시 북구', '기계초등학교', '7', '80', '8'], ['경상북도 포항시 북구', '기북초등학교', '5', '16', '7'], ['경상북도 포항시 남구', '남성초등학교', '5', '20', '7'], ['경상북도 포항시 북구', '달전초등학교', '14', '277', '17'], ['경상북도 포항시 남구', '대도초등학교', '16', '376', '22'], ['경상북도 포항시 남구', '대보초등학교', '7', '35', '8'], ['경상북도 포항시 남구', '대송초등학교', '7', '50', '8'], ['경상북도 포항시 북구', '대잠초등학교', '8', '169', '9'], ['경상북도 포항시 남구', '대해초등학교', '13', '291', '16'], ['경상북도 포항시 남구', '동해초등학교', '19', '366', '24'], ['경상북도 포항시 북구', '두호남부초등학교', '28', '738', '36'], ['경상북도 포항시 북구', '두호초등학교', '12', '289', '16'], ['경상북도 포항시 남구', '문덕초등학교', '46', '1085', '52'], ['경상북도 포항시 남구', '문충초등학교', '7', '87', '8'], ['경상북도 포항시 남구', '상대초등학교', '13', '240', '16'], ['경상북도 포항시 북구', '송라초등학교', '5', '30', '7'], ['경상북도 포항시 남구', '송림초등학교', '14', '297', '17'], ['경상북도 포항시 북구', '신광초등학교', '7', '62', '9'], ['경상북도 포항시 남구', '신흥초등학교', '14', '336', '16'], ['경상북도 포항시 남구', '양포초등학교', '4', '22', '6'], ['경상북도 포항시 북구', '양학초등학교', '26', '717', '30'], ['경상북도 포항시 남구', '연일초등학교', '35', '836', '43'], ['경상북도 포항시 남구', '연일형산초등학교', '17', '353', '23'], ['경상북도 포항시 남구', '오천초등학교', '22', '474', '27'], ['경상북도 포항시 북구', '용흥초등학교', '7', '98', '8'], ['경상북도 포항시 북구', '월포초등학교', '5', '29', '7'], ['경상북도 포항시 남구', '유강초등학교', '31', '751', '38'], ['경상북도 포항시 남구', '이동초등학교', '36', '980', '44'], ['경상북도 포항시 남구', '인덕초등학교', '19', '453', '21'], ['경상북도 포항시 남구', '장기초등학교', '6', '40', '7'], ['경상북도 포항시 남구', '장기초등학교모포분교장', '1', '4', '2'], ['경상북도 포항시 북구', '장량초등학교', '37', '998', '48'], ['경상북도 포항시 북구', '장성초등학교', '24', '571', '29'], ['경상북도 포항시 북구', '죽도초등학교', '6', '94', '7'], ['경상북도 포항시 북구', '죽장초등학교', '5', '25', '9'], ['경상북도 포항시 북구', '죽장초등학교상옥분교장', '1', '2', '1'], ['경상북도 포항시 북구', '죽천초등학교', '6', '72', '7'], ['경상북도 포항시 북구', '창포초등학교', '19', '461', '20'], ['경상북도 포항시 남구', '청림초등학교', '9', '150', '11'], ['경상북도 포항시 북구', '청하초등학교', '7', '60', '8'], ['경상북도 포항시 북구', '포항남부초등학교', '13', '239', '16'], ['경상북도 포항시 북구', '포항대흥초등학교', '32', '833', '39'], ['경상북도 포항시 북구', '포항동부초등학교', '13', '270', '18'], ['경상북도 포항시 남구', '포항송도초등학교', '6', '112', '7'], ['경상북도 포항시 북구', '포항영흥초등학교', '9', '166', '10'], ['경상북도 포항시 남구', '포항제철초등학교', '33', '913', '55'], ['경상북도 포항시 남구', '포항제철지곡초등학교', '41', '1187', '53'], ['경상북도 포항시 북구', '포항중앙초등학교', '33', '885', '40'], ['경상북도 포항시 북구', '포항초등학교', '14', '264', '18'], ['경상북도 포항시 북구', '포항항도초등학교', '8', '184', '12'], ['경상북도 포항시 북구', '항구초등학교', '7', '100', '8'], ['경상북도 포항시 남구', '효자초등학교', '38', '1063', '44'], ['경상북도 포항시 북구', '흥해남산초등학교', '13', '246', '16'], ['경상북도 포항시 북구', '흥해서부초등학교', '7', '93', '8'], ['경상북도 포항시 북구', '흥해초등학교', '16', '341', '19'], ['경상북도 경산시', '하양초등학교화성분교장', '2', '7', '3'], ['경상북도 구미시', '구평남부초등학교', '41', '1142', '51'], ['경상북도 김천시', '김천동신초등학교', '28', '710', '32'], ['경상북도 안동시', '녹전초등학교원천분교장', '3', '11', '4'], ['경상북도 경산시', '사동초등학교', '28', '760', '36'], ['경상북도 경산시', '성암초등학교', '25', '696', '30'], ['경상북도 안동시', '안동강남초등학교', '34', '896', '43'], ['경상북도 구미시', '구미사곡초등학교', '22', '537', '28'], ['경상북도 영천시', '포은초등학교', '44', '1226', '53'], ['경상북도 경산시', '옥곡초등학교', '50', '1423', '60'], ['경상북도 구미시', '문장초등학교', '14', '323', '17'], ['경상북도 칠곡군', '대교초등학교', '52', '1355', '65'], ['경상북도 상주시', '성동초등학교', '17', '428', '22'], ['경상북도 구미시', '도봉초등학교', '36', '991', '46'], ['경상북도 구미시', '진평초등학교', '33', '870', '37'], ['경상북도 포항시 북구', '포항장원초등학교', '19', '425', '23'], ['경상북도 포항시 북구', '포항장흥초등학교', '14', '389', '16'], ['경상북도 경산시', '봉황초등학교', '31', '709', '37'], ['경상북도 구미시', '구미오산초등학교', '13', '252', '19'], ['경상북도 포항시 남구', '대이초등학교', '14', '356', '18'], ['경상북도 포항시 북구', '포항해맞이초등학교', '26', '684', '33'], ['경상북도 구미시', '구미봉곡초등학교', '27', '687', '36'], ['경상북도 구미시', '천생초등학교', '26', '657', '32'], ['경상북도 구미시', '구미왕산초등학교', '33', '860', '40'], ['경상북도 경주시', '금장초등학교', '39', '853', '48'], ['경상북도 구미시', '정수초등학교', '25', '611', '30'], ['경상북도 구미시', '옥계동부초등학교', '59', '1848', '70'], ['경상북도 포항시 남구', '포항원동초등학교', '60', '1616', '69'], ['경상북도 포항시 북구', '포항양덕초등학교', '46', '1428', '58'], ['경상북도 포항시 북구', '학천초등학교', '27', '670', '33'], ['경상북도 경산시', '평산초등학교', '44', '1199', '55'], ['경상북도 포항시 북구', '포항송곡초등학교', '42', '1222', '48'], ['경상북도 김천시', '율곡초등학교', '37', '1044', '45'], ['경상북도 구미시', '해마루초등학교', '55', '1566', '63'], ['경상북도 경산시', '삼성현초등학교', '34', '924', '40'], ['경상북도 안동시', '풍천풍서초등학교', '39', '994', '46'], ['경상북도 영주시', '영주가흥초등학교', '37', '1039', '41'], ['경상북도 포항시 북구', '초곡초등학교', '21', '506', '25'], ['경상북도 예천군', '호명초등학교', '29', '681', '34'], ['경상북도 구미시', '구미인덕초등학교', '54', '1653', '62'], ['경상북도 구미시', '구미문성초등학교', '30', '686', '34'], ['경상북도 포항시 북구', '양서초등학교', '28', '777', '32'], ['경상남도 진주시', '진주교육대학교부설초등학교', '25', '573', '29'], ['경상남도 거제시', '거제초등학교', '12', '211', '14'], ['경상남도 거제시', '계룡초등학교', '24', '569', '27'], ['경상남도 거제시', '국산초등학교', '44', '1160', '51'], ['경상남도 거제시', '기성초등학교', '27', '644', '30'], ['경상남도 거제시', '능포초등학교', '7', '95', '8'], ['경상남도 거제시', '대우초등학교', '18', '498', '21'], ['경상남도 거제시', '동부초등학교', '7', '68', '9'], ['경상남도 거제시', '동부초등학교율포분교장', '5', '23', '6'], ['경상남도 거제시', '마전초등학교', '13', '283', '15'], ['경상남도 거제시', '명사초등학교', '6', '29', '7'], ['경상남도 거제시', '사등초등학교', '7', '117', '8'], ['경상남도 거제시', '송정초등학교', '7', '73', '8'], ['경상남도 거제시', '수월초등학교', '30', '784', '36'], ['경상남도 거제시', '숭덕초등학교', '6', '67', '7'], ['경상남도 거제시', '신현초등학교', '20', '442', '23'], ['경상남도 거제시', '아주초등학교', '35', '1025', '36'], ['경상남도 거제시', '연초초등학교', '11', '173', '13'], ['경상남도 거제시', '오량초등학교', '6', '59', '7'], ['경상남도 거제시', '오비초등학교', '6', '134', '8'], ['경상남도 거제시', '옥포초등학교', '19', '432', '25'], ['경상남도 거제시', '외간초등학교', '8', '139', '9'], ['경상남도 거제시', '외포초등학교', '6', '48', '7'], ['경상남도 거제시', '일운초등학교', '17', '304', '19'], ['경상남도 거제시', '장목초등학교', '7', '50', '8'], ['경상남도 거제시', '장승포초등학교', '25', '600', '29'], ['경상남도 거제시', '장평초등학교', '17', '369', '20'], ['경상남도 거제시', '중곡초등학교', '39', '990', '45'], ['경상남도 거제시', '창호초등학교', '7', '69', '8'], ['경상남도 거제시', '칠천초등학교', '6', '24', '7'], ['경상남도 거제시', '하청초등학교', '9', '166', '11'], ['경상남도 거창군', '가북초등학교', '5', '22', '6'], ['경상남도 거창군', '가조초등학교', '6', '94', '8'], ['경상남도 거창군', '거창초등학교', '19', '354', '22'], ['경상남도 거창군', '고제초등학교', '6', '22', '7'], ['경상남도 거창군', '남상초등학교', '6', '32', '7'], ['경상남도 거창군', '남하초등학교', '6', '24', '7'], ['경상남도 거창군', '마리초등학교', '6', '30', '7'], ['경상남도 거창군', '북상초등학교', '6', '31', '7'], ['경상남도 거창군', '샛별초등학교', '12', '323', '16'], ['경상남도 거창군', '신원초등학교', '6', '20', '7'], ['경상남도 거창군', '웅양초등학교', '6', '55', '7'], ['경상남도 거창군', '월천초등학교', '3', '21', '3'], ['경상남도 거창군', '위천초등학교', '7', '56', '8'], ['경상남도 거창군', '주상초등학교', '6', '28', '7'], ['경상남도 거창군', '창남초등학교', '16', '321', '17'], ['경상남도 거창군', '창동초등학교', '29', '710', '35'], ['경상남도 고성군', '개천초등학교', '6', '33', '7'], ['경상남도 고성군', '거류초등학교', '7', '105', '8'], ['경상남도 고성군', '고성초등학교', '35', '888', '37'], ['경상남도 고성군', '구만초등학교', '6', '19', '7'], ['경상남도 고성군', '대성초등학교', '23', '522', '26'], ['경상남도 고성군', '대흥초등학교', '7', '93', '8'], ['경상남도 고성군', '동광초등학교', '6', '51', '7'], ['경상남도 고성군', '동해초등학교', '7', '36', '7'], ['경상남도 고성군', '마암초등학교', '6', '21', '7'], ['경상남도 고성군', '방산초등학교', '7', '49', '7'], ['경상남도 고성군', '삼산초등학교', '7', '37', '8'], ['경상남도 고성군', '상리초등학교', '6', '48', '7'], ['경상남도 고성군', '영오초등학교', '5', '21', '6'], ['경상남도 고성군', '영현초등학교', '4', '15', '5'], ['경상남도 고성군', '율천초등학교', '6', '34', '7'], ['경상남도 고성군', '철성초등학교', '7', '54', '8'], ['경상남도 고성군', '하이초등학교', '6', '79', '7'], ['경상남도 고성군', '하일초등학교', '7', '22', '9'], ['경상남도 고성군', '회화초등학교', '7', '129', '8'], ['경상남도 김해시', '김해가야초등학교', '25', '502', '28'], ['경상남도 김해시', '경운초등학교', '26', '607', '30'], ['경상남도 김해시', '구봉초등학교', '18', '320', '21'], ['경상남도 김해시', '구산초등학교', '24', '548', '30'], ['경상남도 김해시', '금동초등학교', '6', '57', '7'], ['경상남도 김해시', '금산초등학교', '7', '124', '7'], ['경상남도 김해시', '김해내동초등학교', '17', '356', '22'], ['경상남도 김해시', '김해동광초등학교', '18', '411', '25'], ['경상남도 김해시', '김해봉황초등학교', '34', '702', '41'], ['경상남도 김해시', '김해부곡초등학교', '41', '1045', '51'], ['경상남도 김해시', '김해삼성초등학교', '44', '1115', '54'], ['경상남도 김해시', '김해외동초등학교', '27', '606', '34'], ['경상남도 김해시', '김해합성초등학교', '13', '228', '16'], ['경상남도 김해시', '김해활천초등학교', '31', '715', '36'], ['경상남도 김해시', '대감초등학교', '5', '37', '6'], ['경상남도 김해시', '대동초등학교', '7', '60', '8'], ['경상남도 김해시', '대중초등학교', '5', '31', '6'], ['경상남도 김해시', '대진초등학교', '6', '66', '7'], ['경상남도 김해시', '봉명초등학교', '37', '871', '47'], ['경상남도 김해시', '삼계초등학교', '30', '698', '36'], ['경상남도 김해시', '삼문초등학교', '24', '556', '29'], ['경상남도 김해시', '삼방초등학교', '15', '310', '17'], ['경상남도 김해시', '생림초등학교', '6', '57', '7'], ['경상남도 김해시', '수남초등학교', '65', '1869', '76'], ['경상남도 김해시', '신어초등학교', '22', '490', '25'], ['경상남도 김해시', '안명초등학교', '6', '70', '7'], ['경상남도 김해시', '어방초등학교', '30', '692', '35'], ['경상남도 김해시', '영운초등학교', '22', '487', '27'], ['경상남도 김해시', '용산초등학교', '6', '63', '7'], ['경상남도 김해시', '우암초등학교', '23', '502', '26'], ['경상남도 김해시', '월산초등학교', '31', '730', '38'], ['경상남도 김해시', '이북초등학교', '6', '65', '7'], ['경상남도 김해시', '이작초등학교', '6', '37', '7'], ['경상남도 김해시', '임호초등학교', '25', '594', '30'], ['경상남도 김해시', '장유초등학교', '31', '633', '41'], ['경상남도 김해시', '주석초등학교', '43', '1027', '53'], ['경상남도 김해시', '주촌초등학교', '27', '439', '30'], ['경상남도 김해시', '진례초등학교', '12', '184', '15'], ['경상남도 김해시', '진영대창초등학교', '30', '752', '34'], ['경상남도 김해시', '진영대흥초등학교', '26', '572', '28'], ['경상남도 김해시', '칠산초등학교', '6', '93', '7'], ['경상남도 김해시', '한림초등학교', '7', '114', '9'], ['경상남도 남해군', '고현초등학교', '6', '31', '6'], ['경상남도 남해군', '남명초등학교', '7', '57', '9'], ['경상남도 남해군', '남해초등학교', '24', '565', '27'], ['경상남도 남해군', '도마초등학교', '6', '32', '7'], ['경상남도 남해군', '미조초등학교', '7', '73', '8'], ['경상남도 남해군', '삼동초등학교', '6', '47', '7'], ['경상남도 남해군', '상주초등학교', '7', '41', '8'], ['경상남도 남해군', '설천초등학교', '6', '42', '7'], ['경상남도 남해군', '성명초등학교', '6', '44', '9'], ['경상남도 남해군', '이동초등학교', '7', '67', '8'], ['경상남도 남해군', '지족초등학교', '6', '31', '7'], ['경상남도 거제시', '진목초등학교', '31', '774', '36'], ['경상남도 남해군', '창선초등학교', '7', '111', '9'], ['경상남도 남해군', '해양초등학교', '13', '207', '16'], ['경상남도 창원시 마산합포구', '가포초등학교', '7', '54', '8'], ['경상남도 창원시 마산회원구', '감천초등학교', '7', '70', '7'], ['경상남도 창원시 마산회원구', '광려초등학교', '23', '533', '25'], ['경상남도 창원시 마산회원구', '교동초등학교', '7', '112', '8'], ['경상남도 창원시 마산합포구', '교방초등학교', '31', '724', '39'], ['경상남도 창원시 마산합포구', '구산초등학교', '3', '12', '4'], ['경상남도 창원시 마산회원구', '구암초등학교', '27', '629', '34'], ['경상남도 창원시 마산회원구', '내서초등학교', '7', '62', '8'], ['경상남도 창원시 마산합포구', '무학초등학교', '25', '616', '30'], ['경상남도 창원시 마산합포구', '반동초등학교', '5', '30', '6'], ['경상남도 창원시 마산회원구', '봉덕초등학교', '18', '364', '19'], ['경상남도 창원시 마산회원구', '북성초등학교', '16', '298', '19'], ['경상남도 창원시 마산합포구', '산호초등학교', '20', '431', '24'], ['경상남도 창원시 마산회원구', '삼계초등학교', '31', '713', '36'], ['경상남도 창원시 마산합포구', '상남초등학교', '6', '98', '7'], ['경상남도 창원시 마산회원구', '상일초등학교', '20', '457', '24'], ['경상남도 창원시 마산회원구', '석전초등학교', '33', '776', '38'], ['경상남도 창원시 마산합포구', '성호초등학교', '11', '167', '13'], ['경상남도 창원시 마산합포구', '마산신월초등학교', '31', '723', '39'], ['경상남도 창원시 마산회원구', '양덕초등학교', '32', '782', '38'], ['경상남도 창원시 마산합포구', '완월초등학교', '20', '411', '25'], ['경상남도 창원시 마산합포구', '용마초등학교', '16', '334', '18'], ['경상남도 창원시 마산합포구', '우산초등학교', '6', '54', '6'], ['경상남도 창원시 마산합포구', '월성초등학교', '21', '513', '26'], ['경상남도 창원시 마산합포구', '월영초등학교', '32', '754', '40'], ['경상남도 창원시 마산합포구', '월포초등학교', '20', '446', '23'], ['경상남도 창원시 마산회원구', '중리초등학교', '21', '463', '24'], ['경상남도 창원시 마산합포구', '진동초등학교', '29', '672', '33'], ['경상남도 창원시 마산합포구', '진전초등학교', '7', '76', '7'], ['경상남도 창원시 마산회원구', '팔룡초등학교', '15', '332', '18'], ['경상남도 창원시 마산합포구', '하북초등학교', '7', '55', '8'], ['경상남도 창원시 마산회원구', '합성초등학교', '20', '387', '23'], ['경상남도 창원시 마산합포구', '합포초등학교', '20', '463', '21'], ['경상남도 창원시 마산합포구', '해운초등학교', '39', '966', '46'], ['경상남도 창원시 마산합포구', '현동초등학교', '42', '1077', '48'], ['경상남도 창원시 마산회원구', '회원초등학교', '23', '518', '28'], ['경상남도 밀양시', '무안초등학교', '7', '118', '8'], ['경상남도 밀양시', '밀성초등학교', '30', '745', '33'], ['경상남도 밀양시', '밀양초등학교', '33', '810', '40'], ['경상남도 밀양시', '밀주초등학교', '9', '150', '11'], ['경상남도 밀양시', '부북초등학교', '7', '74', '8'], ['경상남도 밀양시', '사포초등학교', '6', '89', '7'], ['경상남도 밀양시', '산내남명초등학교', '6', '18', '7'], ['경상남도 밀양시', '산내초등학교', '6', '59', '7'], ['경상남도 밀양시', '산동초등학교', '5', '23', '6'], ['경상남도 밀양시', '산외초등학교', '7', '69', '6'], ['경상남도 밀양시', '삼랑진초등학교', '7', '88', '8'], ['경상남도 밀양시', '상남초등학교', '3', '14', '4'], ['경상남도 밀양시', '상동초등학교', '6', '33', '7'], ['경상남도 밀양시', '송진초등학교', '6', '31', '7'], ['경상남도 밀양시', '수산초등학교', '13', '216', '15'], ['경상남도 밀양시', '숭진초등학교', '4', '16', '5'], ['경상남도 밀양시', '예림초등학교', '17', '355', '20'], ['경상남도 밀양시', '청도초등학교', '5', '15', '5'], ['경상남도 밀양시', '초동초등학교', '6', '50', '7'], ['경상남도 밀양시', '태룡초등학교', '5', '39', '6'], ['경상남도 사천시', '곤양초등학교', '7', '97', '7'], ['경상남도 사천시', '남양초등학교', '9', '170', '10'], ['경상남도 사천시', '노산초등학교', '13', '199', '15'], ['경상남도 사천시', '대방초등학교', '7', '116', '8'], ['경상남도 사천시', '대성초등학교', '12', '204', '14'], ['경상남도 사천시', '동성초등학교', '27', '625', '32'], ['경상남도 사천시', '문선초등학교', '31', '743', '35'], ['경상남도 사천시', '사천초등학교', '25', '563', '32'], ['경상남도 사천시', '삼성초등학교', '29', '651', '34'], ['경상남도 사천시', '삼천포초등학교', '11', '170', '13'], ['경상남도 사천시', '서포초등학교', '7', '60', '8'], ['경상남도 사천시', '삼천포초등학교신수도분교장', '2', '4', '2'], ['경상남도 사천시', '곤명초등학교', '6', '48', '7'], ['경상남도 사천시', '용산초등학교', '27', '635', '32'], ['경상남도 사천시', '용현초등학교', '14', '242', '16'], ['경상남도 사천시', '정동초등학교', '15', '307', '17'], ['경상남도 사천시', '축동초등학교', '6', '93', '7'], ['경상남도 산청군', '금서초등학교', '6', '20', '7'], ['경상남도 산청군', '단계초등학교', '7', '42', '8'], ['경상남도 산청군', '단성초등학교', '7', '99', '8'], ['경상남도 산청군', '덕산초등학교', '7', '112', '7'], ['경상남도 산청군', '도산초등학교', '7', '40', '9'], ['경상남도 산청군', '산청초등학교', '19', '382', '22'], ['경상남도 산청군', '삼장초등학교', '7', '27', '8'], ['경상남도 산청군', '생비량초등학교', '7', '19', '8'], ['경상남도 산청군', '생초초등학교', '5', '26', '6'], ['경상남도 산청군', '신안초등학교', '12', '214', '15'], ['경상남도 산청군', '신천초등학교', '7', '29', '8'], ['경상남도 산청군', '오부초등학교', '6', '24', '7'], ['경상남도 산청군', '차황초등학교', '6', '25', '7'], ['경상남도 양산시', '덕계초등학교', '28', '628', '36'], ['경상남도 양산시', '동산초등학교', '19', '447', '23'], ['경상남도 양산시', '물금초등학교', '16', '286', '17'], ['경상남도 양산시', '범어초등학교', '12', '182', '14'], ['경상남도 양산시', '삼성초등학교', '15', '332', '20'], ['경상남도 양산시', '상북초등학교', '14', '248', '15'], ['경상남도 양산시', '서남초등학교', '26', '601', '33'], ['경상남도 양산시', '서창초등학교', '20', '418', '23'], ['경상남도 양산시', '소토초등학교', '10', '182', '11'], ['경상남도 양산시', '신기초등학교', '15', '320', '17'], ['경상남도 양산시', '양산초등학교', '17', '313', '23'], ['경상남도 양산시', '양주초등학교', '19', '433', '25'], ['경상남도 양산시', '어곡초등학교', '13', '267', '13'], ['경상남도 양산시', '영천초등학교', '6', '40', '8'], ['경상남도 양산시', '오봉초등학교', '16', '358', '21'], ['경상남도 양산시', '용연초등학교', '7', '34', '7'], ['경상남도 양산시', '웅상초등학교', '34', '780', '39'], ['경상남도 양산시', '원동초등학교', '4', '10', '5'], ['경상남도 양산시', '원동초등학교이천분교장', '6', '17', '7'], ['경상남도 양산시', '좌삼초등학교', '5', '42', '6'], ['경상남도 양산시', '중부초등학교', '29', '679', '38'], ['경상남도 양산시', '천성초등학교', '21', '470', '26'], ['경상남도 양산시', '평산초등학교', '30', '709', '37'], ['경상남도 양산시', '하북초등학교', '9', '172', '9'], ['경상남도 양산시', '화제초등학교', '6', '91', '7'], ['경상남도 의령군', '가례초등학교', '5', '22', '6'], ['경상남도 의령군', '궁류초등학교', '5', '16', '6'], ['경상남도 의령군', '낙서초등학교', '5', '14', '6'], ['경상남도 의령군', '남산초등학교', '7', '120', '9'], ['경상남도 의령군', '대의초등학교', '7', '19', '8'], ['경상남도 의령군', '부림초등학교봉수분교장', '3', '6', '3'], ['경상남도 의령군', '부림초등학교', '6', '96', '7'], ['경상남도 의령군', '용덕초등학교', '6', '36', '7'], ['경상남도 의령군', '유곡초등학교', '4', '9', '5'], ['경상남도 의령군', '의령초등학교', '18', '365', '23'], ['경상남도 의령군', '정곡초등학교', '5', '15', '7'], ['경상남도 의령군', '지정초등학교', '7', '20', '7'], ['경상남도 의령군', '칠곡초등학교', '6', '19', '6'], ['경상남도 의령군', '화정초등학교', '6', '22', '7'], ['경상남도 진주시', '가람초등학교', '29', '691', '33'], ['경상남도 진주시', '관봉초등학교', '7', '103', '7'], ['경상남도 진주시', '금곡초등학교', '6', '56', '7'], ['경상남도 진주시', '금산초등학교', '36', '864', '39'], ['경상남도 진주시', '금성초등학교', '23', '519', '27'], ['경상남도 진주시', '남강초등학교', '22', '483', '25'], ['경상남도 진주시', '내동초등학교', '13', '230', '15'], ['경상남도 진주시', '대곡초등학교', '7', '59', '8'], ['경상남도 진주시', '도동초등학교', '30', '673', '33'], ['경상남도 진주시', '동진초등학교', '23', '509', '25'], ['경상남도 진주시', '망경초등학교', '15', '269', '18'], ['경상남도 진주시', '문산초등학교', '21', '458', '25'], ['경상남도 진주시', '반성초등학교', '7', '93', '8'], ['경상남도 진주시', '배영초등학교', '24', '550', '30'], ['경상남도 진주시', '봉곡초등학교', '14', '261', '15'], ['경상남도 진주시', '봉래초등학교', '17', '364', '19'], ['경상남도 진주시', '봉원초등학교', '16', '354', '20'], ['경상남도 진주시', '사봉초등학교', '6', '36', '7'], ['경상남도 진주시', '선학초등학교', '18', '371', '21'], ['경상남도 진주시', '수곡초등학교', '7', '75', '8'], ['경상남도 진주시', '수정초등학교', '44', '1132', '53'], ['경상남도 진주시', '신안초등학교', '23', '524', '26'], ['경상남도 진주시', '신진초등학교', '28', '694', '35'], ['경상남도 진주시', '미천초등학교', '7', '30', '8'], ['경상남도 진주시', '예하초등학교', '13', '220', '15'], ['경상남도 진주시', '명석초등학교', '7', '94', '8'], ['경상남도 진주시', '이반성초등학교', '6', '26', '8'], ['경상남도 진주시', '장재초등학교', '44', '1180', '50'], ['경상남도 진주시', '정촌초등학교', '31', '686', '36'], ['경상남도 진주시', '진주초등학교', '16', '318', '18'], ['경상남도 진주시', '지수초등학교', '7', '42', '8'], ['경상남도 진주시', '진성초등학교', '7', '25', '7'], ['경상남도 진주시', '집현초등학교', '13', '213', '15'], ['경상남도 진주시', '천전초등학교', '18', '369', '21'], ['경상남도 진주시', '촉석초등학교', '28', '700', '35'], ['경상남도 진주시', '평거초등학교', '17', '327', '20'], ['경상남도 창원시 진해구', '경화초등학교', '23', '526', '26'], ['경상남도 창원시 진해구', '진해남산초등학교', '14', '265', '16'], ['경상남도 창원시 진해구', '대야초등학교', '14', '262', '18'], ['경상남도 창원시 진해구', '덕산초등학교', '43', '1104', '50'], ['경상남도 창원시 진해구', '도천초등학교', '36', '831', '43'], ['경상남도 창원시 진해구', '동부초등학교', '30', '651', '35'], ['경상남도 창원시 진해구', '안청초등학교', '54', '1362', '59'], ['경상남도 창원시 진해구', '용원초등학교', '10', '181', '10'], ['경상남도 창원시 진해구', '웅동초등학교', '21', '478', '24'], ['경상남도 창원시 진해구', '웅천초등학교', '25', '624', '28'], ['경상남도 창원시 진해구', '자은초등학교', '22', '500', '27'], ['경상남도 창원시 진해구', '제황초등학교', '12', '195', '13'], ['경상남도 창원시 진해구', '진해중앙초등학교', '18', '375', '21'], ['경상남도 창녕군', '계창초등학교', '6', '27', '7'], ['경상남도 창녕군', '고암초등학교', '6', '42', '7'], ['경상남도 창녕군', '길곡초등학교', '7', '29', '8'], ['경상남도 창녕군', '남지초등학교', '18', '412', '22'], ['경상남도 창녕군', '창녕성산초등학교', '6', '20', '7'], ['경상남도 창녕군', '대지초등학교', '6', '69', '7'], ['경상남도 창녕군', '대합초등학교', '7', '73', '9'], ['경상남도 창녕군', '도천초등학교', '7', '54', '7'], ['경상남도 창녕군', '동포초등학교', '15', '305', '17'], ['경상남도 창녕군', '명덕초등학교', '18', '404', '24'], ['경상남도 창녕군', '부곡초등학교', '6', '72', '8'], ['경상남도 창녕군', '부곡초등학교학포분교장', '3', '7', '4'], ['경상남도 창녕군', '영산초등학교', '12', '183', '15'], ['경상남도 창녕군', '유어초등학교', '4', '15', '5'], ['경상남도 창녕군', '이방초등학교', '5', '17', '6'], ['경상남도 창녕군', '장마초등학교', '5', '26', '7'], ['경상남도 창녕군', '장천초등학교', '3', '13', '4'], ['경상남도 창녕군', '창녕초등학교', '26', '552', '31'], ['경상남도 창원시 성산구', '창원남산초등학교', '11', '153', '11'], ['경상남도 창원시 성산구', '남양초등학교', '48', '1216', '56'], ['경상남도 창원시 성산구', '남정초등학교', '20', '439', '23'], ['경상남도 창원시 성산구', '내동초등학교', '14', '308', '14'], ['경상남도 창원시 성산구', '대방초등학교', '34', '804', '42'], ['경상남도 창원시 의창구', '대산초등학교', '7', '82', '7'], ['경상남도 창원시 성산구', '대암초등학교', '20', '437', '24'], ['경상남도 창원시 의창구', '대원초등학교', '20', '440', '24'], ['경상남도 창원시 의창구', '도계초등학교', '34', '821', '41'], ['경상남도 창원시 성산구', '동산초등학교', '19', '406', '24'], ['경상남도 창원시 의창구', '명서초등학교', '22', '460', '29'], ['경상남도 창원시 성산구', '반송초등학교', '50', '1293', '58'], ['경상남도 창원시 의창구', '봉강초등학교', '7', '53', '7'], ['경상남도 창원시 의창구', '봉림초등학교', '20', '421', '22'], ['경상남도 창원시 의창구', '북면초등학교', '42', '1050', '46'], ['경상남도 창원시 의창구', '북면초등학교승산분교장', '3', '15', '4'], ['경상남도 창원시 성산구', '사파초등학교', '21', '432', '24'], ['경상남도 창원시 의창구', '사화초등학교', '39', '954', '46'], ['경상남도 창원시 의창구', '상북초등학교', '18', '370', '22'], ['경상남도 창원시 성산구', '성주초등학교', '23', '522', '27'], ['경상남도 창원시 의창구', '소답초등학교', '21', '456', '24'], ['경상남도 창원시 의창구', '신등초등학교', '6', '54', '7'], ['경상남도 창원시 의창구', '신방초등학교', '24', '548', '27'], ['경상남도 창원시 의창구', '창원신월초등학교', '20', '435', '22'], ['경상남도 창원시 마산회원구', '안계초등학교', '24', '548', '30'], ['경상남도 창원시 성산구', '안남초등학교', '26', '633', '29'], ['경상남도 창원시 성산구', '안민초등학교', '25', '528', '30'], ['경상남도 창원시 성산구', '양곡초등학교', '20', '471', '22'], ['경상남도 창원시 의창구', '온천초등학교', '10', '170', '12'], ['경상남도 창원시 성산구', '외동초등학교', '22', '522', '25'], ['경상남도 창원시 의창구', '용남초등학교', '32', '782', '41'], ['경상남도 창원시 성산구', '용지초등학교', '12', '174', '14'], ['경상남도 창원시 의창구', '용호초등학교', '50', '1427', '60'], ['경상남도 창원시 의창구', '우암초등학교', '6', '90', '7'], ['경상남도 창원시 성산구', '웅남초등학교', '35', '858', '44'], ['경상남도 창원시 성산구', '유목초등학교', '26', '604', '30'], ['경상남도 창원시 의창구', '일동초등학교', '5', '24', '6'], ['경상남도 창원시 의창구', '자여초등학교', '20', '438', '22'], ['경상남도 창원시 성산구', '창원상남초등학교', '25', '574', '28'], ['경상남도 창원시 의창구', '창원초등학교', '24', '523', '28'], ['경상남도 창원시 성산구', '토월초등학교', '32', '749', '39'], ['경상남도 창원시 의창구', '평산초등학교', '26', '606', '32'], ['경상남도 창원시 의창구', '하천초등학교', '6', '45', '7'], ['경상남도 창원시 마산회원구', '호계초등학교', '53', '1321', '62'], ['경상남도 창원시 의창구', '화양초등학교', '6', '69', '7'], ['경상남도 통영시', '광도초등학교', '12', '201', '14'], ['경상남도 통영시', '남포초등학교', '7', '47', '8'], ['경상남도 통영시', '도산초등학교', '6', '57', '7'], ['경상남도 통영시', '두룡초등학교', '13', '246', '15'], ['경상남도 통영시', '벽방초등학교', '17', '402', '19'], ['경상남도 통영시', '사량초등학교', '6', '14', '7'], ['경상남도 통영시', '산양초등학교', '6', '66', '7'], ['경상남도 통영시', '산양초등학교곤리분교장', '1', '2', '2'], ['경상남도 통영시', '산양초등학교풍화분교장', '4', '12', '5'], ['경상남도 통영시', '산양초등학교학림분교장', '1', '1', '1'], ['경상남도 통영시', '한려초등학교영운분교장', '2', '6', '2'], ['경상남도 통영시', '용남초등학교', '30', '748', '34'], ['경상남도 통영시', '원량초등학교', '6', '36', '7'], ['경상남도 통영시', '원량초등학교연화분교장', '1', '5', '1'], ['경상남도 통영시', '원평초등학교', '12', '245', '14'], ['경상남도 통영시', '유영초등학교', '27', '634', '31'], ['경상남도 통영시', '인평초등학교', '14', '252', '15'], ['경상남도 통영시', '진남초등학교', '43', '1087', '51'], ['경상남도 통영시', '충렬초등학교', '9', '146', '10'], ['경상남도 통영시', '충무초등학교', '19', '405', '22'], ['경상남도 통영시', '통영초등학교', '44', '1105', '50'], ['경상남도 통영시', '한려초등학교', '19', '383', '22'], ['경상남도 통영시', '한산초등학교', '6', '28', '7'], ['경상남도 하동군', '갈육초등학교', '6', '31', '7'], ['경상남도 하동군', '고전초등학교고남분교장', '3', '14', '2'], ['경상남도 하동군', '고전초등학교', '5', '24', '6'], ['경상남도 하동군', '궁항초등학교', '7', '41', '7'], ['경상남도 하동군', '노량초등학교', '4', '24', '5'], ['경상남도 하동군', '묵계초등학교', '6', '77', '7'], ['경상남도 하동군', '북천초등학교', '6', '30', '7'], ['경상남도 하동군', '쌍계초등학교', '4', '22', '5'], ['경상남도 하동군', '악양초등학교', '7', '83', '8'], ['경상남도 하동군', '양보초등학교', '5', '22', '7'], ['경상남도 하동군', '옥종초등학교', '7', '123', '8'], ['경상남도 하동군', '적량초등학교', '7', '32', '8'], ['경상남도 하동군', '진교초등학교', '16', '312', '20'], ['경상남도 하동군', '진정초등학교', '5', '33', '6'], ['경상남도 하동군', '묵계초등학교청암분교장', '5', '22', '6'], ['경상남도 하동군', '하동초등학교', '24', '537', '29'], ['경상남도 하동군', '화개초등학교', '7', '51', '9'], ['경상남도 하동군', '화개초등학교왕성분교장', '5', '14', '6'], ['경상남도 하동군', '횡천초등학교', '6', '27', '7'], ['경상남도 함안군', '가야초등학교', '34', '829', '41'], ['경상남도 함안군', '대산초등학교', '7', '63', '9'], ['경상남도 함안군', '군북초등학교', '11', '184', '12'], ['경상남도 함안군', '문암초등학교', '7', '59', '8'], ['경상남도 함안군', '법수초등학교', '6', '35', '7'], ['경상남도 함안군', '산인초등학교', '7', '52', '8'], ['경상남도 함안군', '아라초등학교', '13', '223', '16'], ['경상남도 함안군', '예곡초등학교', '7', '64', '8'], ['경상남도 함안군', '외암초등학교', '6', '30', '7'], ['경상남도 함안군', '월촌초등학교', '5', '23', '6'], ['경상남도 함안군', '유원초등학교', '7', '72', '8'], ['경상남도 함안군', '칠서초등학교이룡분교장', '4', '21', '5'], ['경상남도 함안군', '중앙초등학교', '8', '78', '9'], ['경상남도 함안군', '칠북초등학교이령분교장', '3', '7', '3'], ['경상남도 함안군', '칠서초등학교', '13', '200', '14'], ['경상남도 함안군', '칠원초등학교', '21', '411', '25'], ['경상남도 함안군', '함안초등학교', '7', '54', '8'], ['경상남도 함양군', '금반초등학교', '6', '30', '8'], ['경상남도 함양군', '마천초등학교', '7', '36', '9'], ['경상남도 함양군', '백전초등학교', '6', '38', '7'], ['경상남도 함양군', '병곡초등학교', '6', '22', '7'], ['경상남도 함양군', '서상초등학교', '6', '32', '7'], ['경상남도 함양군', '서하초등학교', '5', '16', '7'], ['경상남도 함양군', '수동초등학교', '7', '68', '8'], ['경상남도 함양군', '안의초등학교', '7', '125', '9'], ['경상남도 함양군', '위림초등학교', '7', '45', '8'], ['경상남도 함양군', '위성초등학교', '21', '463', '24'], ['경상남도 함양군', '유림초등학교', '6', '21', '6'], ['경상남도 함양군', '지곡초등학교', '6', '43', '7'], ['경상남도 함양군', '함양초등학교', '24', '532', '30'], ['경상남도 합천군', '가회초등학교', '6', '36', '9'], ['경상남도 김해시', '계동초등학교', '35', '832', '42'], ['경상남도 합천군', '남정초등학교', '7', '76', '8'], ['경상남도 합천군', '대병초등학교', '7', '38', '8'], ['경상남도 합천군', '대양초등학교', '7', '35', '8'], ['경상남도 합천군', '초계초등학교덕곡분교장', '2', '5', '2'], ['경상남도 합천군', '묘산초등학교', '7', '23', '8'], ['경상남도 합천군', '봉산초등학교', '4', '14', '5'], ['경상남도 합천군', '삼가초등학교', '7', '47', '7'], ['경상남도 합천군', '쌍백초등학교', '6', '32', '9'], ['경상남도 합천군', '쌍책초등학교', '6', '15', '7'], ['경상남도 합천군', '야로초등학교', '7', '39', '8'], ['경상남도 합천군', '영전초등학교', '6', '24', '7'], ['경상남도 합천군', '용주초등학교', '6', '33', '6'], ['경상남도 합천군', '적중초등학교', '5', '13', '6'], ['경상남도 합천군', '청덕초등학교', '4', '15', '5'], ['경상남도 합천군', '초계초등학교', '7', '70', '8'], ['경상남도 합천군', '합천초등학교', '26', '635', '31'], ['경상남도 창원시 마산합포구', '구산초등학교구서분교장', '5', '25', '6'], ['경상남도 양산시', '백동초등학교', '29', '645', '36'], ['경상남도 창원시 마산회원구', '마산중앙초등학교', '14', '283', '19'], ['경상남도 진주시', '주약초등학교', '34', '800', '38'], ['경상남도 창원시 진해구', '풍호초등학교', '30', '729', '35'], ['경상남도 창원시 진해구', '석동초등학교', '30', '709', '34'], ['경상남도 김해시', '화정초등학교', '49', '1251', '59'], ['경상남도 거제시', '거제중앙초등학교', '43', '1043', '50'], ['경상남도 창원시 의창구', '명도초등학교', '28', '636', '35'], ['경상남도 창원시 의창구', '명곡초등학교', '13', '241', '16'], ['경상남도 김해시', '석봉초등학교', '36', '845', '44'], ['경상남도 거제시', '양지초등학교', '29', '694', '33'], ['경상남도 양산시', '신명초등학교', '32', '760', '38'], ['경상남도 양산시', '삽량초등학교', '37', '889', '45'], ['경상남도 거창군', '아림초등학교', '35', '892', '40'], ['경상남도 창원시 마산회원구', '전안초등학교', '25', '584', '29'], ['경상남도 김해시', '대청초등학교', '43', '1156', '50'], ['경상남도 김해시', '분성초등학교', '33', '823', '40'], ['경상남도 김해시', '김해신명초등학교', '41', '1071', '49'], ['경상남도 밀양시', '미리벌초등학교', '45', '1221', '52'], ['경상남도 거제시', '거제고현초등학교', '34', '819', '39'], ['경상남도 양산시', '대운초등학교', '48', '1265', '57'], ['경상남도 창원시 진해구', '안골포초등학교', '49', '1249', '58'], ['경상남도 김해시', '능동초등학교', '37', '878', '43'], ['경상남도 김해시', '김해신안초등학교', '31', '783', '39'], ['경상남도 창원시 성산구', '삼정자초등학교', '39', '998', '44'], ['경상남도 김해시', '김해대곡초등학교', '21', '476', '22'], ['경상남도 김해시', '덕정초등학교', '30', '684', '36'], ['경상남도 양산시', '신양초등학교', '32', '782', '40'], ['경상남도 양산시', '북정초등학교', '16', '369', '17'], ['경상남도 김해시', '김해구지초등학교', '47', '1182', '55'], ['경상남도 창원시 의창구', '중동초등학교', '13', '309', '16'], ['경상남도 진주시', '가좌초등학교', '27', '590', '31'], ['경상남도 김해시', '진영금병초등학교', '55', '1468', '65'], ['경상남도 사천시', '수양초등학교', '22', '478', '26'], ['경상남도 통영시', '죽림초등학교', '52', '1363', '59'], ['경상남도 함안군', '호암초등학교', '50', '1279', '63'], ['경상남도 거제시', '삼룡초등학교', '41', '1032', '46'], ['경상남도 진주시', '금호초등학교', '40', '966', '44'], ['경상남도 양산시', '황산초등학교', '37', '1009', '44'], ['경상남도 거제시', '제산초등학교', '46', '1180', '54'], ['경상남도 창원시 진해구', '장복초등학교', '41', '1014', '48'], ['경상남도 창원시 진해구', '장천초등학교', '49', '1506', '56'], ['경상남도 창원시 마산회원구', '가고파초등학교', '57', '1551', '64'], ['경상남도 사천시', '사남초등학교', '42', '1056', '49'], ['경상남도 양산시', '석산초등학교', '64', '1851', '74'], ['경상남도 김해시', '율하초등학교', '60', '1536', '69'], ['경상남도 양산시', '성산초등학교', '37', '1041', '49'], ['경상남도 창원시 의창구', '감계초등학교', '38', '934', '41'], ['경상남도 김해시', '관동초등학교', '56', '1570', '66'], ['경상남도 창원시 진해구', '진해냉천초등학교', '35', '903', '39'], ['경상남도 창원시 의창구', '무동초등학교', '43', '1090', '50'], ['경상남도 창원시 의창구', '창원한들초등학교', '21', '442', '25'], ['경상남도 거제시', '거제상동초등학교', '57', '1719', '64'], ['경상남도 거제시', '내곡초등학교', '53', '1406', '59'], ['경상남도 진주시', '초전초등학교', '30', '781', '35'], ['경상남도 진주시', '갈전초등학교', '44', '1049', '50'], ['경상남도 진주시', '서진초등학교', '34', '868', '39'], ['경상남도 진주시', '무지개초등학교', '26', '615', '31'], ['경상남도 양산시', '증산초등학교', '64', '1675', '73'], ['경상남도 양산시', '신주초등학교', '36', '913', '43'], ['경상남도 통영시', '제석초등학교', '39', '985', '44'], ['경상남도 김해시', '진영중앙초등학교', '57', '1349', '68'], ['경상남도 양산시', '가남초등학교', '59', '1594', '67'], ['경상남도 양산시', '가양초등학교', '45', '1169', '52'], ['경상남도 창원시 진해구', '진해신항초등학교', '19', '441', '23'], ['경상남도 거제시', '거제양정초등학교', '20', '447', '22'], ['경상남도 합천군', '합천가야초등학교', '7', '106', '8'], ['경상남도 진주시', '충무공초등학교', '26', '627', '29'], ['경상남도 김해시', '김해모산초등학교', '30', '628', '33'], ['제주특별자치도 제주시', '제주대학교교육대학부설초등학교', '19', '428', '23'], ['제주특별자치도 제주시', '고산초등학교', '7', '96', '8'], ['제주특별자치도 제주시', '곽금초등학교', '6', '94', '8'], ['제주특별자치도 제주시', '광령초등학교', '15', '319', '18'], ['제주특별자치도 제주시', '구엄초등학교', '12', '203', '15'], ['제주특별자치도 제주시', '구좌중앙초등학교', '6', '71', '8'], ['제주특별자치도 제주시', '귀덕초등학교', '6', '86', '8'], ['제주특별자치도 제주시', '금악초등학교', '6', '60', '8'], ['제주특별자치도 제주시', '김녕초등학교', '7', '98', '9'], ['제주특별자치도 제주시', '납읍초등학교', '7', '128', '10'], ['제주특별자치도 제주시', '대흘초등학교', '11', '187', '14'], ['제주특별자치도 제주시', '물메초등학교', '6', '99', '8'], ['제주특별자치도 제주시', '북촌초등학교', '6', '71', '8'], ['제주특별자치도 제주시', '세화초등학교', '6', '107', '8'], ['제주특별자치도 제주시', '송당초등학교', '6', '63', '8'], ['제주특별자치도 제주시', '수원초등학교', '9', '164', '11'], ['제주특별자치도 제주시', '신창초등학교', '6', '105', '7'], ['제주특별자치도 제주시', '신촌초등학교', '12', '233', '15'], ['제주특별자치도 제주시', '애월초등학교', '7', '149', '9'], ['제주특별자치도 제주시', '어도초등학교', '6', '92', '8'], ['제주특별자치도 제주시', '우도초등학교', '7', '58', '9'], ['제주특별자치도 제주시', '장전초등학교', '12', '234', '14'], ['제주특별자치도 제주시', '재릉초등학교', '12', '223', '15'], ['제주특별자치도 제주시', '저청초등학교', '6', '105', '8'], ['제주특별자치도 제주시', '조천초등학교', '13', '262', '15'], ['제주특별자치도 제주시', '종달초등학교', '6', '64', '8'], ['제주특별자치도 제주시', '추자초등학교', '6', '48', '8'], ['제주특별자치도 제주시', '평대초등학교', '6', '52', '7'], ['제주특별자치도 제주시', '하귀초등학교', '13', '273', '15'], ['제주특별자치도 제주시', '하도초등학교', '6', '66', '9'], ['제주특별자치도 제주시', '한동초등학교', '6', '49', '8'], ['제주특별자치도 제주시', '한림초등학교', '21', '491', '24'], ['제주특별자치도 제주시', '함덕초등학교', '19', '405', '22'], ['제주특별자치도 제주시', '김녕초등학교동복분교장', '6', '63', '8'], ['제주특별자치도 제주시', '더럭초등학교', '6', '93', '8'], ['제주특별자치도 제주시', '조천초등학교교래분교장', '3', '19', '3'], ['제주특별자치도 제주시', '함덕초등학교선인분교장', '6', '45', '7'], ['제주특별자치도 제주시', '함덕초등학교선흘분교장', '6', '72', '8'], ['제주특별자치도 제주시', '추자초등학교신양분교장', '2', '7', '2'], ['제주특별자치도 서귀포시', '가마초등학교', '6', '64', '8'], ['제주특별자치도 서귀포시', '가파초등학교', '3', '8', '3'], ['제주특별자치도 서귀포시', '강정초등학교', '6', '99', '9'], ['제주특별자치도 서귀포시', '남원초등학교', '14', '280', '17'], ['제주특별자치도 서귀포시', '대정초등학교', '22', '468', '28'], ['제주특별자치도 서귀포시', '대정서초등학교', '6', '67', '8'], ['제주특별자치도 서귀포시', '덕수초등학교', '6', '76', '9'], ['제주특별자치도 서귀포시', '도순초등학교', '6', '85', '9'], ['제주특별자치도 서귀포시', '동남초등학교', '13', '256', '15'], ['제주특별자치도 서귀포시', '무릉초등학교', '6', '80', '9'], ['제주특별자치도 서귀포시', '법환초등학교', '7', '164', '8'], ['제주특별자치도 서귀포시', '보목초등학교', '6', '88', '7'], ['제주특별자치도 서귀포시', '보성초등학교', '11', '201', '13'], ['제주특별자치도 서귀포시', '사계초등학교', '6', '84', '8'], ['제주특별자치도 서귀포시', '새서귀초등학교', '31', '871', '37'], ['제주특별자치도 서귀포시', '서광초등학교', '6', '91', '8'], ['제주특별자치도 서귀포시', '서귀북초등학교', '41', '1124', '49'], ['제주특별자치도 서귀포시', '서귀서초등학교', '12', '235', '14'], ['제주특별자치도 서귀포시', '서귀중앙초등학교', '20', '419', '26'], ['제주특별자치도 서귀포시', '서귀포초등학교', '13', '253', '15'], ['제주특별자치도 서귀포시', '서호초등학교', '16', '354', '20'], ['제주특별자치도 서귀포시', '성산초등학교', '6', '54', '8'], ['제주특별자치도 서귀포시', '성읍초등학교', '6', '72', '8'], ['제주특별자치도 서귀포시', '수산초등학교', '6', '65', '8'], ['제주특별자치도 서귀포시', '시흥초등학교', '6', '52', '8'], ['제주특별자치도 서귀포시', '신례초등학교', '6', '56', '8'], ['제주특별자치도 서귀포시', '신산초등학교', '6', '80', '8'], ['제주특별자치도 서귀포시', '안덕초등학교', '13', '207', '16'], ['제주특별자치도 서귀포시', '예래초등학교', '6', '107', '8'], ['제주특별자치도 서귀포시', '온평초등학교', '6', '39', '8'], ['제주특별자치도 서귀포시', '위미초등학교', '11', '200', '12'], ['제주특별자치도 서귀포시', '의귀초등학교', '6', '72', '8'], ['제주특별자치도 서귀포시', '중문초등학교', '27', '686', '33'], ['제주특별자치도 서귀포시', '창천초등학교', '6', '60', '8'], ['제주특별자치도 서귀포시', '태흥초등학교', '6', '98', '7'], ['제주특별자치도 서귀포시', '토산초등학교', '6', '62', '8'], ['제주특별자치도 서귀포시', '토평초등학교', '12', '213', '15'], ['제주특별자치도 서귀포시', '표선초등학교', '13', '259', '15'], ['제주특별자치도 서귀포시', '풍천초등학교', '6', '104', '8'], ['제주특별자치도 서귀포시', '하례초등학교', '6', '54', '8'], ['제주특별자치도 서귀포시', '하원초등학교', '6', '85', '9'], ['제주특별자치도 서귀포시', '효돈초등학교', '12', '231', '14'], ['제주특별자치도 서귀포시', '흥산초등학교', '6', '49', '8'], ['제주특별자치도 서귀포시', '동홍초등학교', '45', '1257', '53'], ['제주특별자치도 서귀포시', '한마음초등학교', '7', '140', '9'], ['제주특별자치도 제주시', '광양초등학교', '14', '268', '19'], ['제주특별자치도 제주시', '남광초등학교', '44', '1213', '51'], ['제주특별자치도 제주시', '노형초등학교', '40', '1093', '45'], ['제주특별자치도 제주시', '도남초등학교', '29', '763', '33'], ['제주특별자치도 제주시', '도리초등학교', '14', '303', '17'], ['제주특별자치도 제주시', '동광초등학교', '41', '1162', '45'], ['제주특별자치도 제주시', '동화초등학교', '21', '551', '24'], ['제주특별자치도 제주시', '봉개초등학교', '8', '162', '11'], ['제주특별자치도 제주시', '삼성초등학교', '32', '848', '38'], ['제주특별자치도 제주시', '삼양초등학교', '36', '935', '43'], ['제주특별자치도 제주시', '신광초등학교', '32', '886', '38'], ['제주특별자치도 제주시', '신제주초등학교', '41', '1135', '46'], ['제주특별자치도 제주시', '아라초등학교', '60', '1742', '68'], ['제주특별자치도 제주시', '영평초등학교', '17', '425', '21'], ['제주특별자치도 제주시', '오라초등학교', '22', '571', '27'], ['제주특별자치도 제주시', '외도초등학교', '54', '1537', '63'], ['제주특별자치도 제주시', '인화초등학교', '47', '1298', '54'], ['제주특별자치도 제주시', '일도초등학교', '11', '177', '15'], ['제주특별자치도 제주시', '제주남초등학교', '10', '157', '13'], ['제주특별자치도 제주시', '제주동초등학교', '23', '578', '25'], ['제주특별자치도 제주시', '제주북초등학교', '13', '200', '16'], ['제주특별자치도 제주시', '제주서초등학교', '26', '679', '30'], ['제주특별자치도 제주시', '한천초등학교', '13', '276', '17'], ['제주특별자치도 제주시', '화북초등학교', '22', '553', '28'], ['제주특별자치도 제주시', '해안초등학교', '6', '129', '8'], ['제주특별자치도 제주시', '도평초등학교', '14', '300', '17'], ['제주특별자치도 제주시', '제주중앙초등학교', '26', '680', '33'], ['제주특별자치도 제주시', '한라초등학교', '63', '1831', '70'], ['제주특별자치도 제주시', '백록초등학교', '36', '1005', '41'], ['제주특별자치도 제주시', '월랑초등학교', '30', '777', '35'], ['제주특별자치도 제주시', '이도초등학교', '43', '1233', '48'], ['제주특별자치도 제주시', '도련초등학교', '36', '985', '42'], ['제주특별자치도 제주시', '삼화초등학교', '34', '862', '41'], ['제주특별자치도 제주시', '하귀일초등학교', '26', '603', '31']]\n"
     ]
    }
   ],
   "source": [
    "# csv => 2차원 리스트\n",
    "import csv\n",
    "f = open('school_2019.csv', 'r', encoding='utf-8')\n",
    "lines = csv.reader(f)\n",
    "\n",
    "header = next(lines)\n",
    "print(header)\n",
    "\n",
    "list_data = []\n",
    "for line in lines :\n",
    "    list_data.append(line[:])\n",
    "\n",
    "print(list_data)\n",
    "f.close()"
   ]
  },
  {
   "cell_type": "code",
   "execution_count": 298,
   "id": "24eb4df3-5f3c-41bc-83fb-1d966cfe8431",
   "metadata": {},
   "outputs": [
    {
     "name": "stdout",
     "output_type": "stream",
     "text": [
      "6264\n",
      "\n",
      "[[ 28 616  32]\n",
      " [ 31 632  35]\n",
      " [ 31 837  38]\n",
      " ...\n",
      " [ 36 985  42]\n",
      " [ 34 862  41]\n",
      " [ 26 603  31]]\n"
     ]
    }
   ],
   "source": [
    "# 2차원 리스트 => ndarray\n",
    "import csv\n",
    "import numpy as np\n",
    "\n",
    "f = open('school_2019.csv', 'r', encoding='utf-8') # 파일열기\n",
    "\n",
    "lines = csv.reader(f)\n",
    "header = next(lines)\n",
    "\n",
    "list_data = [] # 빈공간(리스트) 생성\n",
    "\n",
    "for line in lines : # line이 lines 안에 있는 동안(반복)\n",
    "    list_data.append(line[:]) # line_data에 line 슬라이싱 부분을 추가해준다.\n",
    "    \n",
    "length = len(list_data) # list data의 길이를 'length'로 정의하고,\n",
    "print(length) # length의 값을 출력한다.\n",
    "\n",
    "data = np.zeros((length, 3), dtype='int32') # data의 행 수와 타입은 다음과 같다.\n",
    "\n",
    "for i in range(length) : # i를 length의 길이동안 반복한다.\n",
    "    for j in range(3) : # j가 길이 3 안에 있는동안 반복한다.\n",
    "        data[i][j] = list_data[i][j+2] # data의 i(행)과 j(열) = 리스트 데이터의 i(행)rhk j+2(열)\n",
    "\n",
    "print()\n",
    "print(data) # data값을 출력\n",
    "\n",
    "f.close() # 파일닫기"
   ]
  },
  {
   "cell_type": "code",
   "execution_count": 301,
   "id": "b333dba0-1537-44de-9f8a-d61fe84bbf60",
   "metadata": {},
   "outputs": [
    {
     "name": "stdout",
     "output_type": "stream",
     "text": [
      "[ 138 1999  138]\n",
      "최대 학급수의 초등학교 : 서울신정초등학교, 학급수 : 75개 \n",
      "최대 학생수의 초등학교 : 탄벌초등학교, 학생수 : 2178명\n",
      "최대 교사수의 초등학교 : 서울신정초등학교, 교사수 : 91명\n"
     ]
    }
   ],
   "source": [
    "# 전국 최대 학생 수의 학교\n",
    "# 2차원 리스트 => ndarray\n",
    "import csv\n",
    "import numpy as np\n",
    "\n",
    "f = open('school_2019.csv', 'r', encoding='utf-8') # 파일열기\n",
    "\n",
    "lines = csv.reader(f)\n",
    "header = next(lines)\n",
    "\n",
    "list_data = [] # 빈공간(리스트) 생성\n",
    "\n",
    "for line in lines : # line이 lines 안에 있는 동안(반복)\n",
    "    list_data.append(line[:]) # line_data에 line 슬라이싱 부분을 추가해준다.\n",
    "    \n",
    "length = len(list_data) # list data의 길이를 'length'로 정의하고,\n",
    "\n",
    "data = np.zeros((length, 3), dtype='int32') # data의 행 수와 타입은 다음과 같다.\n",
    "\n",
    "for i in range(length) : # i를 length의 길이동안 반복한다.\n",
    "    for j in range(3) : # j가 길이 3 안에 있는동안 반복한다.\n",
    "        data[i][j] = list_data[i][j+2] # data의 i(행)과 j(열) = 리스트 데이터의 i(행)rhk j+2(열)\n",
    "\n",
    "max_index = np.argmax(data, axis = 0)\n",
    "print(max_index)\n",
    "\n",
    "max_class = list_data[max_index[0]][1] # 138번째에 첫 번째 값(학교가 들어간다.)\n",
    "num_class = list_data[max_index[0]][2] # 138번째에 두 번째 값(학급수가 들어간다.)\n",
    "\n",
    "max_student = list_data[max_index[1]][1] # 1999번째에 첫 번째 값(학교가 들어간다.)\n",
    "num_student = list_data[max_index[1]][3] # 138번째에 세 번째 값(학생수가 들어간다.)\n",
    "\n",
    "max_teacher = list_data[max_index[2]][1] # 1999번째에 첫 번째 값(학교가 들어간다.)\n",
    "num_teacher = list_data[max_index[2]][4] # 138번째에 네 번째 값(교사수가 들어간다.)\n",
    "\n",
    "print('최대 학급수의 초등학교 : %s, 학급수 : %s개 ' % (max_class, num_class))\n",
    "print('최대 학생수의 초등학교 : %s, 학생수 : %s명' % (max_student, num_student))\n",
    "print('최대 교사수의 초등학교 : %s, 교사수 : %s명' % (max_teacher, num_teacher))\n",
    "\n",
    "f.close()"
   ]
  },
  {
   "cell_type": "code",
   "execution_count": 303,
   "id": "a2629bb8-866f-457d-8a05-6ab10a1cb1c5",
   "metadata": {},
   "outputs": [
    {
     "name": "stderr",
     "output_type": "stream",
     "text": [
      "findfont: Font family 'Malgun Gothic' not found.\n",
      "findfont: Font family 'Malgun Gothic' not found.\n",
      "findfont: Font family 'Malgun Gothic' not found.\n",
      "findfont: Font family 'Malgun Gothic' not found.\n",
      "findfont: Font family 'Malgun Gothic' not found.\n",
      "findfont: Font family 'Malgun Gothic' not found.\n",
      "findfont: Font family 'Malgun Gothic' not found.\n",
      "findfont: Font family 'Malgun Gothic' not found.\n",
      "findfont: Font family 'Malgun Gothic' not found.\n",
      "findfont: Font family 'Malgun Gothic' not found.\n",
      "findfont: Font family 'Malgun Gothic' not found.\n",
      "findfont: Font family 'Malgun Gothic' not found.\n",
      "findfont: Font family 'Malgun Gothic' not found.\n",
      "findfont: Font family 'Malgun Gothic' not found.\n",
      "findfont: Font family 'Malgun Gothic' not found.\n",
      "findfont: Font family 'Malgun Gothic' not found.\n",
      "findfont: Font family 'Malgun Gothic' not found.\n",
      "findfont: Font family 'Malgun Gothic' not found.\n",
      "findfont: Font family 'Malgun Gothic' not found.\n",
      "findfont: Font family 'Malgun Gothic' not found.\n",
      "findfont: Font family 'Malgun Gothic' not found.\n",
      "findfont: Font family 'Malgun Gothic' not found.\n",
      "findfont: Font family 'Malgun Gothic' not found.\n",
      "findfont: Font family 'Malgun Gothic' not found.\n",
      "findfont: Font family 'Malgun Gothic' not found.\n",
      "findfont: Font family 'Malgun Gothic' not found.\n",
      "findfont: Font family 'Malgun Gothic' not found.\n",
      "findfont: Font family 'Malgun Gothic' not found.\n",
      "findfont: Font family 'Malgun Gothic' not found.\n",
      "findfont: Font family 'Malgun Gothic' not found.\n",
      "findfont: Font family 'Malgun Gothic' not found.\n",
      "findfont: Font family 'Malgun Gothic' not found.\n",
      "findfont: Font family 'Malgun Gothic' not found.\n",
      "findfont: Font family 'Malgun Gothic' not found.\n",
      "findfont: Font family 'Malgun Gothic' not found.\n",
      "findfont: Font family 'Malgun Gothic' not found.\n",
      "findfont: Font family 'Malgun Gothic' not found.\n",
      "findfont: Font family 'Malgun Gothic' not found.\n",
      "findfont: Font family 'Malgun Gothic' not found.\n",
      "findfont: Font family 'Malgun Gothic' not found.\n",
      "findfont: Font family 'Malgun Gothic' not found.\n",
      "findfont: Font family 'Malgun Gothic' not found.\n",
      "findfont: Font family 'Malgun Gothic' not found.\n",
      "findfont: Font family 'Malgun Gothic' not found.\n",
      "findfont: Font family 'Malgun Gothic' not found.\n",
      "findfont: Font family 'Malgun Gothic' not found.\n",
      "findfont: Font family 'Malgun Gothic' not found.\n",
      "findfont: Font family 'Malgun Gothic' not found.\n",
      "findfont: Font family 'Malgun Gothic' not found.\n",
      "findfont: Font family 'Malgun Gothic' not found.\n",
      "findfont: Font family 'Malgun Gothic' not found.\n",
      "findfont: Font family 'Malgun Gothic' not found.\n",
      "findfont: Font family 'Malgun Gothic' not found.\n",
      "findfont: Font family 'Malgun Gothic' not found.\n",
      "findfont: Font family 'Malgun Gothic' not found.\n",
      "findfont: Font family 'Malgun Gothic' not found.\n",
      "findfont: Font family 'Malgun Gothic' not found.\n",
      "findfont: Font family 'Malgun Gothic' not found.\n",
      "findfont: Font family 'Malgun Gothic' not found.\n",
      "findfont: Font family 'Malgun Gothic' not found.\n",
      "findfont: Font family 'Malgun Gothic' not found.\n",
      "findfont: Font family 'Malgun Gothic' not found.\n",
      "findfont: Font family 'Malgun Gothic' not found.\n",
      "findfont: Font family 'Malgun Gothic' not found.\n",
      "findfont: Font family 'Malgun Gothic' not found.\n",
      "findfont: Font family 'Malgun Gothic' not found.\n"
     ]
    },
    {
     "name": "stdout",
     "output_type": "stream",
     "text": [
      "{'마재': ['24', '481', '28'], '약사': ['29', '685', '33'], '정평': ['36', '945', '43'], '도평': ['14', '300', '17']}\n",
      "[[ 24 481  28]\n",
      " [ 29 685  33]\n",
      " [ 36 945  43]\n",
      " [ 14 300  17]]\n",
      "[[ 24 481   0  28   0]\n",
      " [ 29 685   0  33   0]\n",
      " [ 36 945   0  43   0]\n",
      " [ 14 300   0  17   0]]\n",
      "[[ 24 481  20  28  17]\n",
      " [ 29 685  24  33  21]\n",
      " [ 36 945  26  43  22]\n",
      " [ 14 300  21  17  18]]\n"
     ]
    },
    {
     "data": {
      "image/png": "[encoded data removed]",
      "text/plain": [
       "<Figure size 640x480 with 1 Axes>"
      ]
     },
     "metadata": {},
     "output_type": "display_data"
    },
    {
     "name": "stderr",
     "output_type": "stream",
     "text": [
      "findfont: Font family 'Malgun Gothic' not found.\n",
      "findfont: Font family 'Malgun Gothic' not found.\n",
      "findfont: Font family 'Malgun Gothic' not found.\n",
      "findfont: Font family 'Malgun Gothic' not found.\n",
      "findfont: Font family 'Malgun Gothic' not found.\n",
      "findfont: Font family 'Malgun Gothic' not found.\n",
      "findfont: Font family 'Malgun Gothic' not found.\n",
      "findfont: Font family 'Malgun Gothic' not found.\n",
      "findfont: Font family 'Malgun Gothic' not found.\n",
      "findfont: Font family 'Malgun Gothic' not found.\n",
      "findfont: Font family 'Malgun Gothic' not found.\n",
      "findfont: Font family 'Malgun Gothic' not found.\n",
      "findfont: Font family 'Malgun Gothic' not found.\n",
      "findfont: Font family 'Malgun Gothic' not found.\n",
      "findfont: Font family 'Malgun Gothic' not found.\n",
      "findfont: Font family 'Malgun Gothic' not found.\n",
      "findfont: Font family 'Malgun Gothic' not found.\n",
      "findfont: Font family 'Malgun Gothic' not found.\n",
      "findfont: Font family 'Malgun Gothic' not found.\n",
      "findfont: Font family 'Malgun Gothic' not found.\n",
      "findfont: Font family 'Malgun Gothic' not found.\n",
      "findfont: Font family 'Malgun Gothic' not found.\n",
      "findfont: Font family 'Malgun Gothic' not found.\n",
      "findfont: Font family 'Malgun Gothic' not found.\n",
      "findfont: Font family 'Malgun Gothic' not found.\n",
      "findfont: Font family 'Malgun Gothic' not found.\n",
      "findfont: Font family 'Malgun Gothic' not found.\n",
      "findfont: Font family 'Malgun Gothic' not found.\n",
      "findfont: Font family 'Malgun Gothic' not found.\n",
      "findfont: Font family 'Malgun Gothic' not found.\n",
      "findfont: Font family 'Malgun Gothic' not found.\n",
      "findfont: Font family 'Malgun Gothic' not found.\n",
      "findfont: Font family 'Malgun Gothic' not found.\n",
      "findfont: Font family 'Malgun Gothic' not found.\n",
      "findfont: Font family 'Malgun Gothic' not found.\n",
      "findfont: Font family 'Malgun Gothic' not found.\n",
      "findfont: Font family 'Malgun Gothic' not found.\n",
      "findfont: Font family 'Malgun Gothic' not found.\n",
      "findfont: Font family 'Malgun Gothic' not found.\n",
      "findfont: Font family 'Malgun Gothic' not found.\n",
      "findfont: Font family 'Malgun Gothic' not found.\n",
      "findfont: Font family 'Malgun Gothic' not found.\n",
      "findfont: Font family 'Malgun Gothic' not found.\n",
      "findfont: Font family 'Malgun Gothic' not found.\n",
      "findfont: Font family 'Malgun Gothic' not found.\n",
      "findfont: Font family 'Malgun Gothic' not found.\n",
      "findfont: Font family 'Malgun Gothic' not found.\n",
      "findfont: Font family 'Malgun Gothic' not found.\n",
      "findfont: Font family 'Malgun Gothic' not found.\n",
      "findfont: Font family 'Malgun Gothic' not found.\n",
      "findfont: Font family 'Malgun Gothic' not found.\n",
      "findfont: Font family 'Malgun Gothic' not found.\n",
      "findfont: Font family 'Malgun Gothic' not found.\n",
      "findfont: Font family 'Malgun Gothic' not found.\n",
      "findfont: Font family 'Malgun Gothic' not found.\n",
      "findfont: Font family 'Malgun Gothic' not found.\n",
      "findfont: Font family 'Malgun Gothic' not found.\n",
      "findfont: Font family 'Malgun Gothic' not found.\n",
      "findfont: Font family 'Malgun Gothic' not found.\n",
      "findfont: Font family 'Malgun Gothic' not found.\n",
      "findfont: Font family 'Malgun Gothic' not found.\n",
      "findfont: Font family 'Malgun Gothic' not found.\n",
      "findfont: Font family 'Malgun Gothic' not found.\n",
      "findfont: Font family 'Malgun Gothic' not found.\n",
      "findfont: Font family 'Malgun Gothic' not found.\n",
      "findfont: Font family 'Malgun Gothic' not found.\n"
     ]
    },
    {
     "data": {
      "image/png": "[encoded data removed]",
      "text/plain": [
       "<Figure size 640x480 with 1 Axes>"
      ]
     },
     "metadata": {},
     "output_type": "display_data"
    }
   ],
   "source": [
    "# 학생수와 교사수 비교\n",
    "import csv\n",
    "import numpy as np\n",
    "import matplotlib.pyplot as plt\n",
    "from matplotlib import rc\n",
    "\n",
    "rc('font', family='Malgun Gothic')\n",
    "\n",
    "f = open('school_2019.csv', 'r', encoding='utf-8')\n",
    "lines = csv.reader(f)\n",
    "header = next(lines)\n",
    "\n",
    "schools = {}\n",
    "\n",
    "for line in lines:\n",
    "    if ('광주' in line[0]) and ('마재' in line[1]) :\n",
    "        schools.update({'마재':[line[2], line[3], line[4]]})\n",
    "    if ('울산' in line[0]) and ('약사' in line[1]) :\n",
    "        schools.update({'약사':[line[2], line[3], line[4]]})\n",
    "    if ('용인' in line[0]) and ('정평' in line[1]) :\n",
    "        schools.update({'정평':[line[2], line[3], line[4]]})\n",
    "    if ('제주' in line[0]) and ('도평' in line[1]) :\n",
    "        schools.update({'도평':[line[2], line[3], line[4]]})\n",
    "print(schools)\n",
    "\n",
    "data = np.zeros((4,3), dtype='int32')\n",
    "\n",
    "school = list(schools.values())\n",
    "\n",
    "for i in range(len(schools)) :\n",
    "    for j in range(3) :\n",
    "        data[i][j] = school[i][j]\n",
    "\n",
    "print(data)\n",
    "\n",
    "data = np.insert(data, 2, 0, axis=1)\n",
    "data = np.insert(data, 4, 0, axis=1)\n",
    "print(data)\n",
    "\n",
    "row = data.shape[0]\n",
    "\n",
    "for i in range(row) :\n",
    "    data[i][2] = round(data[i][1]/data[i][0]) # 학생 / 학급\n",
    "    data[i][4] = round(data[i][1]/data[i][3]) # 학생 / 교사\n",
    "\n",
    "print(data)\n",
    "\n",
    "xdata = ['마재', '약사', '정평', '도평']\n",
    "plt.plot(xdata, data[:, 1], label='학생수', color='red', linestyle='--', marker='x')\n",
    "plt.plot(xdata, data[:, 3], label='교사수', color='blue', linestyle=':', marker='d')\n",
    "\n",
    "plt.title('마재/약사/정평/도평 초등학교 학생수와 교사수')\n",
    "\n",
    "plt.legend(loc='best')\n",
    "plt.show()\n",
    "\n",
    "plt.plot(xdata, data[:, 2], label='학급당 학생수', color='magenta', linestyle='-.', marker='o')\n",
    "plt.plot(xdata, data[:, 4], label='교사 1인당 학생수', color='green', linestyle='--', marker='x')\n",
    "\n",
    "plt.title('마재/약사/정평/도평 초등학교 학급당 학생수 및 교사 1인당 학생수')\n",
    "plt.legend(loc='best')\n",
    "plt.show()\n",
    "\n",
    "f.close()"
   ]
  },
  {
   "cell_type": "markdown",
   "id": "a30ad224-7686-4db5-9d2a-0619d1114dc5",
   "metadata": {},
   "source": [
    "# 랜덤함수\n",
    "\n",
    "1) seed : 랜덤의 시드값을 설정한다.\n",
    "2) permutation : 랜덤 순열을 반환한다.\n",
    "3) shuffle : 랜덤하게 섞어준다.\n",
    "4) rand : 0,1 사이의 난수를 생성한다.\n",
    "5) randint : 지정된 값 사이의 정수를 반환한다.\n",
    "6) randn : 평균이 0이고, 표준편차가 1인 정규분포에서 샘플을 생성하여 반환한다.\n",
    "7) binom[a] : 이항분포에서 샘플을 생성해서 반환한다.\n",
    "8) normal : 지정된 평균과 표준편차를 가진 분포에서 샘플을 생성하여 반환한다.\n",
    "9) beta : 베타 분포에서 샘플을 생성해서 반환한다.\n",
    "10) chisquare : 카이제곱 분포에서 샘플을 생성해서 반환한다.\n",
    "11) gamma : 감마 분포에서 샘플을 생성해서 반환한다."
   ]
  },
  {
   "cell_type": "code",
   "execution_count": 304,
   "id": "576ec1c1-a922-4c9b-83ab-812f976df507",
   "metadata": {},
   "outputs": [
    {
     "data": {
      "text/plain": [
       "array([9, 5, 7, 4, 2, 8, 1, 0, 6, 3])"
      ]
     },
     "execution_count": 304,
     "metadata": {},
     "output_type": "execute_result"
    }
   ],
   "source": [
    "np.random.permutation(10)"
   ]
  },
  {
   "cell_type": "code",
   "execution_count": 305,
   "id": "512f6a9e-fa1a-43ed-ad63-d9f63fafdf2b",
   "metadata": {},
   "outputs": [
    {
     "data": {
      "text/plain": [
       "array([8, 7, 1, 3, 5, 2, 6, 4, 9, 0])"
      ]
     },
     "execution_count": 305,
     "metadata": {},
     "output_type": "execute_result"
    }
   ],
   "source": [
    "arr = np.arange(10)\n",
    "np.random.shuffle(arr)\n",
    "arr"
   ]
  },
  {
   "cell_type": "code",
   "execution_count": 311,
   "id": "13c55df1-edee-4105-9f0a-6840cd238c95",
   "metadata": {},
   "outputs": [
    {
     "data": {
      "text/plain": [
       "array([4, 5, 7, 4, 4, 6, 4, 3, 4, 8])"
      ]
     },
     "execution_count": 311,
     "metadata": {},
     "output_type": "execute_result"
    }
   ],
   "source": [
    "n, p = 10, 0.5 # 10번의 시도에서 성공확률이 0.5인 분포에서 샘플 생성\n",
    "bio = np.random.binomial(n, p, 10)\n",
    "bio"
   ]
  },
  {
   "cell_type": "code",
   "execution_count": 314,
   "id": "eae9cfff-1d7c-4d2e-82cd-9bafffcf0337",
   "metadata": {},
   "outputs": [
    {
     "data": {
      "text/plain": [
       "array([11.06362203, 10.64321576,  9.81006946, 10.58654357,  8.4290747 ,\n",
       "        9.27031057, 10.87483333,  9.19518169,  8.77347858, 11.74506343])"
      ]
     },
     "execution_count": 314,
     "metadata": {},
     "output_type": "execute_result"
    }
   ],
   "source": [
    "np.random.normal(10, 1, 10) # 평균이 10이고 표준편차 1"
   ]
  },
  {
   "cell_type": "markdown",
   "id": "5c258bf4-54c5-44e1-a935-7bd0c4b2ea43",
   "metadata": {},
   "source": [
    "# 숙제\n",
    "\n",
    "1. 10x10 랜덤 배열에서 서로 다른 두 원소를 찾아서 두 원소 사이의 차이가 가장 작은 두 원소를 찾아라.\n",
    "\n",
    "2. 각 학년별로 학생수가 가장 많은 학교 찾기\n",
    "\n",
    "3. 각 학년별로 평균 학생수 출력(새로 보내주신 데이터에서)"
   ]
  },
  {
   "cell_type": "code",
   "execution_count": 21,
   "id": "e5651238-88dc-45e1-80aa-fd11d26a6916",
   "metadata": {},
   "outputs": [
    {
     "name": "stdout",
     "output_type": "stream",
     "text": [
      "첫번째 원소 : 0.14261991698094345, 두번째 원소 : 0.14917754653220683, 두 원소 사이의 최소거리 : 0.0065576295512633775\n"
     ]
    }
   ],
   "source": [
    "# 1. 10x10 랜덤 배열에서 서로 다른 두 원소를 찾아서 두 원소 사이의 차이가 가장 작은 두 원소를 찾아라.\n",
    "import numpy as np\n",
    "\n",
    "arr = np.random.rand(3, 3)\n",
    "arr = arr.flatten() # 1차원 변환 코드\n",
    "sort_arr = np.sort(arr) # sort : 데이터 정리 코드\n",
    "\n",
    "min = sort_arr.max() - sort_arr.min()\n",
    "min_index = 0\n",
    "\n",
    "\n",
    "for i in range(len(sort_arr)-1) :\n",
    "    dis = abs(sort_arr[i] - sort_arr[i+1]) # 서로의 거리\n",
    "    # dis = sort_arr[i] - sort_arr[i+1] # 서로의 거리\n",
    "\n",
    "    # if dis < 0 :\n",
    "    #     dis *= -1 # 양수 선언 (또는 abs(절댓값)씌워줘도 된다.)\n",
    "\n",
    "    if dis < min :\n",
    "        min = dis\n",
    "        min_index = i\n",
    "\n",
    "print(f\"첫번째 원소 : {sort_arr[min_index]}, 두번째 원소 : {sort_arr[min_index+1]}, 두 원소 사이의 최소거리 : {min}\")\n",
    "# f : 포맷(중괄호 안에 있는 애들에게 변수값을 넣음을 의미)"
   ]
  },
  {
   "cell_type": "code",
   "execution_count": 50,
   "id": "87b0f8ac-a851-4f97-8a4e-adb64dfc5fc6",
   "metadata": {},
   "outputs": [
    {
     "name": "stdout",
     "output_type": "stream",
     "text": [
      "[217 217  68]\n",
      "1학년 학생 수가 최대인 고등학교 : 서울공업고등학교, 학생수 : 497명 \n",
      "2학년 학생 수가 최대인 고등학교 : 서울공업고등학교, 학생수 : 469명\n",
      "3학년 학생 수가 최대인 고등학교 : 명지고등학교, 학생수 : 510명\n"
     ]
    }
   ],
   "source": [
    "#2. 각 학년별로 학생수가 가장 많은 학교 찾기\n",
    "import csv\n",
    "import numpy as np\n",
    "\n",
    "f = open('high_school_2019.csv', 'r', encoding='utf-8') # 파일열기\n",
    "\n",
    "lines = csv.reader(f)\n",
    "header = next(lines)\n",
    "\n",
    "list_data = [] # 빈공간(리스트) 생성\n",
    "\n",
    "for line in lines : # line이 lines 안에 있는 동안(반복)\n",
    "    list_data.append(line[:]) # line_data에 line 슬라이싱 부분을 추가해준다.\n",
    "    \n",
    "length = len(list_data) # list data의 길이를 'length'로 정의하고,\n",
    "\n",
    "data = np.zeros((length, 3), dtype='int32') # data의 행 수와 타입은 다음과 같다.\n",
    "\n",
    "for i in range(length) : # i를 length의 길이동안 반복한다.\n",
    "    for j in range(3) : # j가 길이 3 안에 있는동안 반복한다.\n",
    "        data[i][j] = list_data[i][2*j+3] # data의 i(행)과 j(열) = 리스트 데이터의 i(행)rhk j+2(열)\n",
    "        # 기존에 j+2를 적었던 이유는, 그 칸만큼 가져오기 위해(즉, 새로운 데이터를 확인하고 수정해줄 필요가 있다.)\n",
    "\n",
    "max_index = np.argmax(data, axis = 0)\n",
    "print(max_index)\n",
    "\n",
    "max_index = np.argmax(data, axis = 0) # 각 학년별 최대값의 인덱스 찾기\n",
    "max_class1 = list_data[max_index[0]][1] # 1학년 최대 학생 수 학교\n",
    "num_class1 = list_data[max_index[0]][3] # 1학년 최대 학생 수\n",
    "\n",
    "max_class2 = list_data[max_index[1]][1] # 2학년 최대 학생 수 학교 \n",
    "num_class2 = list_data[max_index[1]][5] # 2학년 최대 학생 수\n",
    "\n",
    "max_class3 = list_data[max_index[2]][1] # 3학년 최대 학생 수 학교\n",
    "num_class3 = list_data[max_index[2]][7] # 3학년 최대 학생 수\n",
    "\n",
    "print('1학년 학생 수가 최대인 고등학교 : %s, 학생수 : %s명 ' % (max_class1, num_class1))\n",
    "print('2학년 학생 수가 최대인 고등학교 : %s, 학생수 : %s명' % (max_class2, num_class2))\n",
    "print('3학년 학생 수가 최대인 고등학교 : %s, 학생수 : %s명' % (max_class3, num_class3))\n",
    "\n",
    "f.close()"
   ]
  },
  {
   "cell_type": "code",
   "execution_count": 52,
   "id": "f73dbb7c-ff5c-4edd-af36-f7a7fc0f7a6a",
   "metadata": {},
   "outputs": [
    {
     "name": "stdout",
     "output_type": "stream",
     "text": [
      "전체 고등학교 1학년 평균 학생 수 : 193.24명 \n",
      "전체 고등학교 2학년 평균 학생 수 : 185.45명\n",
      "전체 고등학교 3학년 평균 학생 수 : 208.80명\n"
     ]
    }
   ],
   "source": [
    "#3. 각 학년별로 평균 학생수 출력\n",
    "import csv\n",
    "import numpy as np\n",
    "\n",
    "f = open('high_school_2019.csv', 'r', encoding='utf-8') # 파일열기\n",
    "\n",
    "lines = csv.reader(f)\n",
    "header = next(lines)\n",
    "\n",
    "list_data = [] # 빈공간(리스트) 생성\n",
    "\n",
    "for line in lines : # line이 lines 안에 있는 동안(반복)\n",
    "    list_data.append(line[:]) # line_data에 line 슬라이싱 부분을 추가해준다.\n",
    "    \n",
    "length = len(list_data) # list data의 길이를 'length'로 정의하고,\n",
    "\n",
    "data = np.zeros((length, 3), dtype='int32') # data의 행 수와 타입은 다음과 같다.\n",
    "\n",
    "for i in range(length) : # i를 length의 길이동안 반복한다.\n",
    "    for j in range(3) : # j가 길이 3 안에 있는동안 반복한다.\n",
    "        data[i][j] = list_data[i][2*j+3] # 변경된 데이터에 따라 행과 열 범위 조절이 필요하다.\n",
    "        \n",
    "avg_class1 = np.mean(data[:, 0]) # 1학년 평균 학생 수\n",
    "avg_class2 = np.mean(data[:, 1]) # 2학년 평균 학생 수\n",
    "avg_class3 = np.mean(data[:, 2]) # 3학년 평균 학생 수\n",
    "# 또는 'average'를 활용하는 방법도 존재한다.\n",
    "\n",
    "print('전체 고등학교 1학년 평균 학생 수 : %.2f명 ' % (avg_class1))\n",
    "print('전체 고등학교 2학년 평균 학생 수 : %.2f명' % (avg_class2))\n",
    "print('전체 고등학교 3학년 평균 학생 수 : %.2f명' % (avg_class3))\n",
    "\n",
    "f.close()"
   ]
  },
  {
   "cell_type": "code",
   "execution_count": null,
   "id": "befe2880-18e6-44b7-8382-74903b5099b4",
   "metadata": {},
   "outputs": [],
   "source": []
  }
 ],
 "metadata": {
  "kernelspec": {
   "display_name": "Python 3 (ipykernel)",
   "language": "python",
   "name": "python3"
  },
  "language_info": {
   "codemirror_mode": {
    "name": "ipython",
    "version": 3
   },
   "file_extension": ".py",
   "mimetype": "text/x-python",
   "name": "python",
   "nbconvert_exporter": "python",
   "pygments_lexer": "ipython3",
   "version": "3.11.7"
  }
 },
 "nbformat": 4,
 "nbformat_minor": 5
}
