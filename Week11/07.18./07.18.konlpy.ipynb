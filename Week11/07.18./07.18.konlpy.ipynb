{
 "cells": [
  {
   "cell_type": "code",
   "execution_count": 1,
   "id": "6757c26f-4698-4957-b3c3-508da8dfaa0b",
   "metadata": {},
   "outputs": [],
   "source": [
    "import konlpy"
   ]
  },
  {
   "cell_type": "raw",
   "id": "13f86a3f-4282-40c9-9a21-2451755d9a7e",
   "metadata": {},
   "source": [
    "pip install konlpy"
   ]
  },
  {
   "cell_type": "code",
   "execution_count": 2,
   "id": "1501b280-aec3-4cc2-9e34-01d977705d70",
   "metadata": {},
   "outputs": [],
   "source": [
    "import tensorflow as tf\n",
    "import numpy as np\n",
    "from konlpy.tag import Twitter\n",
    "import pandas as pd\n",
    "import tensorflow as tf\n",
    "import enum\n",
    "import os\n",
    "import re\n",
    "import json\n",
    "\n",
    "from sklearn.model_selection import train_test_split\n",
    "from tensorflow.keras.callbacks import EarlyStopping, ModelCheckpoint\n",
    "import matplotlib.pyplot as plt\n",
    "\n",
    "from preprocess import *"
   ]
  },
  {
   "cell_type": "raw",
   "id": "720739ae-fdfa-493f-8571-e44c32d0adba",
   "metadata": {},
   "source": [
    "pip install preprocess"
   ]
  },
  {
   "cell_type": "code",
   "execution_count": 3,
   "id": "f87b564e-ed66-4233-854a-75163b60c3b1",
   "metadata": {},
   "outputs": [],
   "source": [
    "DATA_IN_PATH = '/Users/jeon-yewon/Desktop/데이터 분석 강의/부트캠프/12주차/data_in/'\n",
    "DATA_OUT_PATH = '/Users/jeon-yewon/Desktop/데이터 분석 강의/부트캠프/12주차/data_out/'\n",
    "train_inputs = 'train_inputs.npy'\n",
    "train_outputs = 'train_outputs.npy'\n",
    "train_targets = 'train_targets.npy'\n",
    "data_configs = 'data_configs.json'"
   ]
  },
  {
   "cell_type": "code",
   "execution_count": 4,
   "id": "5059bf24-c991-49f9-b7c1-a3be2c98d5d2",
   "metadata": {},
   "outputs": [],
   "source": [
    "tf.random.set_seed(42)"
   ]
  },
  {
   "cell_type": "raw",
   "id": "d9990804-9e90-424d-9ffb-e8b5b0e41c78",
   "metadata": {},
   "source": [
    "/Users/jeon-yewon/Desktop/데이터 분석 강의/부트캠프/12주차/data_in/train_inputs.npy"
   ]
  },
  {
   "cell_type": "code",
   "execution_count": 5,
   "id": "f43dbdf0-a5df-4549-bd5e-5b53fe117153",
   "metadata": {},
   "outputs": [],
   "source": [
    "index_inputs = np.load(open(DATA_IN_PATH + train_inputs, 'rb'))\n",
    "index_outputs = np.load(open(DATA_IN_PATH + train_outputs, 'rb'))\n",
    "index_targets = np.load(open(DATA_IN_PATH + train_targets, 'rb'))\n",
    "prepro_configs = json.load(open(DATA_IN_PATH + data_configs, 'r'))"
   ]
  },
  {
   "cell_type": "code",
   "execution_count": 6,
   "id": "ca9e3d93-6252-44e4-b7ff-9761ee498824",
   "metadata": {},
   "outputs": [],
   "source": [
    "char2idx = prepro_configs['char2idx']\n",
    "end_index = prepro_configs['end_symbol']\n",
    "model_name = 'transformer'\n",
    "vocab_size = prepro_configs['vocab_size']\n",
    "batch_size = 2\n",
    "max_sequence = 25\n",
    "epochs = 30\n",
    "valid_split = 0.1 \n",
    "\n",
    "kargs = {'model_name' : model_name,\n",
    "         'num_layers' : 2,\n",
    "         'd_model' : 512,\n",
    "         'num_heads' : 8,\n",
    "         'dff' : 2048,\n",
    "         'input_vocab_size' : vocab_size,\n",
    "         'target_vocab_size' : vocab_size,\n",
    "         'maximum_position_encoding' : max_sequence,\n",
    "         'end_token_idx' : char2idx[end_index],\n",
    "         'rate' : valid_split\n",
    "        }"
   ]
  },
  {
   "cell_type": "code",
   "execution_count": null,
   "id": "73baa197-41ab-45a3-bd52-2bbebde98ac1",
   "metadata": {},
   "outputs": [],
   "source": [
    "# 마스킹 함수\n",
    "def create_padding_mask\n",
    "\n",
    "def create_look_ahead_mask"
   ]
  },
  {
   "cell_type": "code",
   "execution_count": null,
   "id": "f53f4873-9687-4a41-9476-37903e86ad56",
   "metadata": {},
   "outputs": [],
   "source": []
  }
 ],
 "metadata": {
  "kernelspec": {
   "display_name": "Python (tensorflow)",
   "language": "python",
   "name": "tensorflow"
  },
  "language_info": {
   "codemirror_mode": {
    "name": "ipython",
    "version": 3
   },
   "file_extension": ".py",
   "mimetype": "text/x-python",
   "name": "python",
   "nbconvert_exporter": "python",
   "pygments_lexer": "ipython3",
   "version": "3.9.18"
  }
 },
 "nbformat": 4,
 "nbformat_minor": 5
}
