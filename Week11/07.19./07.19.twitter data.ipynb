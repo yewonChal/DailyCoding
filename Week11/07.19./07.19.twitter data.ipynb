{
 "cells": [
  {
   "cell_type": "code",
   "execution_count": 4,
   "id": "ce26fc37-854f-4e6f-a106-fc5befa4b184",
   "metadata": {},
   "outputs": [],
   "source": [
    "import numpy as np\n",
    "import pandas as pd\n",
    "import matplotlib.pyplot as plt\n",
    "import seaborn as sns"
   ]
  },
  {
   "cell_type": "code",
   "execution_count": 5,
   "id": "c28302e7-38bf-423d-979a-f60f68c30354",
   "metadata": {},
   "outputs": [
    {
     "data": {
      "text/html": [
       "<div>\n",
       "<style scoped>\n",
       "    .dataframe tbody tr th:only-of-type {\n",
       "        vertical-align: middle;\n",
       "    }\n",
       "\n",
       "    .dataframe tbody tr th {\n",
       "        vertical-align: top;\n",
       "    }\n",
       "\n",
       "    .dataframe thead th {\n",
       "        text-align: right;\n",
       "    }\n",
       "</style>\n",
       "<table border=\"1\" class=\"dataframe\">\n",
       "  <thead>\n",
       "    <tr style=\"text-align: right;\">\n",
       "      <th></th>\n",
       "      <th>id</th>\n",
       "      <th>entity</th>\n",
       "      <th>sentiment</th>\n",
       "      <th>text</th>\n",
       "    </tr>\n",
       "  </thead>\n",
       "  <tbody>\n",
       "    <tr>\n",
       "      <th>0</th>\n",
       "      <td>2401</td>\n",
       "      <td>Borderlands</td>\n",
       "      <td>Positive</td>\n",
       "      <td>im getting on borderlands and i will murder yo...</td>\n",
       "    </tr>\n",
       "    <tr>\n",
       "      <th>1</th>\n",
       "      <td>2401</td>\n",
       "      <td>Borderlands</td>\n",
       "      <td>Positive</td>\n",
       "      <td>I am coming to the borders and I will kill you...</td>\n",
       "    </tr>\n",
       "    <tr>\n",
       "      <th>2</th>\n",
       "      <td>2401</td>\n",
       "      <td>Borderlands</td>\n",
       "      <td>Positive</td>\n",
       "      <td>im getting on borderlands and i will kill you ...</td>\n",
       "    </tr>\n",
       "    <tr>\n",
       "      <th>3</th>\n",
       "      <td>2401</td>\n",
       "      <td>Borderlands</td>\n",
       "      <td>Positive</td>\n",
       "      <td>im coming on borderlands and i will murder you...</td>\n",
       "    </tr>\n",
       "    <tr>\n",
       "      <th>4</th>\n",
       "      <td>2401</td>\n",
       "      <td>Borderlands</td>\n",
       "      <td>Positive</td>\n",
       "      <td>im getting on borderlands 2 and i will murder ...</td>\n",
       "    </tr>\n",
       "  </tbody>\n",
       "</table>\n",
       "</div>"
      ],
      "text/plain": [
       "     id       entity sentiment  \\\n",
       "0  2401  Borderlands  Positive   \n",
       "1  2401  Borderlands  Positive   \n",
       "2  2401  Borderlands  Positive   \n",
       "3  2401  Borderlands  Positive   \n",
       "4  2401  Borderlands  Positive   \n",
       "\n",
       "                                                text  \n",
       "0  im getting on borderlands and i will murder yo...  \n",
       "1  I am coming to the borders and I will kill you...  \n",
       "2  im getting on borderlands and i will kill you ...  \n",
       "3  im coming on borderlands and i will murder you...  \n",
       "4  im getting on borderlands 2 and i will murder ...  "
      ]
     },
     "execution_count": 5,
     "metadata": {},
     "output_type": "execute_result"
    }
   ],
   "source": [
    "train_df = pd.read_csv('twitter_training.csv', names=['id', 'entity', 'sentiment', 'text'])\n",
    "\n",
    "train_df.head()"
   ]
  },
  {
   "cell_type": "code",
   "execution_count": 6,
   "id": "b63f956b-cb06-44bb-a47c-b7a2cabea5e7",
   "metadata": {},
   "outputs": [
    {
     "data": {
      "text/html": [
       "<div>\n",
       "<style scoped>\n",
       "    .dataframe tbody tr th:only-of-type {\n",
       "        vertical-align: middle;\n",
       "    }\n",
       "\n",
       "    .dataframe tbody tr th {\n",
       "        vertical-align: top;\n",
       "    }\n",
       "\n",
       "    .dataframe thead th {\n",
       "        text-align: right;\n",
       "    }\n",
       "</style>\n",
       "<table border=\"1\" class=\"dataframe\">\n",
       "  <thead>\n",
       "    <tr style=\"text-align: right;\">\n",
       "      <th></th>\n",
       "      <th>id</th>\n",
       "      <th>entity</th>\n",
       "      <th>sentiment</th>\n",
       "      <th>text</th>\n",
       "    </tr>\n",
       "  </thead>\n",
       "  <tbody>\n",
       "    <tr>\n",
       "      <th>0</th>\n",
       "      <td>3364</td>\n",
       "      <td>Facebook</td>\n",
       "      <td>Irrelevant</td>\n",
       "      <td>I mentioned on Facebook that I was struggling ...</td>\n",
       "    </tr>\n",
       "    <tr>\n",
       "      <th>1</th>\n",
       "      <td>352</td>\n",
       "      <td>Amazon</td>\n",
       "      <td>Neutral</td>\n",
       "      <td>BBC News - Amazon boss Jeff Bezos rejects clai...</td>\n",
       "    </tr>\n",
       "    <tr>\n",
       "      <th>2</th>\n",
       "      <td>8312</td>\n",
       "      <td>Microsoft</td>\n",
       "      <td>Negative</td>\n",
       "      <td>@Microsoft Why do I pay for WORD when it funct...</td>\n",
       "    </tr>\n",
       "    <tr>\n",
       "      <th>3</th>\n",
       "      <td>4371</td>\n",
       "      <td>CS-GO</td>\n",
       "      <td>Negative</td>\n",
       "      <td>CSGO matchmaking is so full of closet hacking,...</td>\n",
       "    </tr>\n",
       "    <tr>\n",
       "      <th>4</th>\n",
       "      <td>4433</td>\n",
       "      <td>Google</td>\n",
       "      <td>Neutral</td>\n",
       "      <td>Now the President is slapping Americans in the...</td>\n",
       "    </tr>\n",
       "  </tbody>\n",
       "</table>\n",
       "</div>"
      ],
      "text/plain": [
       "     id     entity   sentiment  \\\n",
       "0  3364   Facebook  Irrelevant   \n",
       "1   352     Amazon     Neutral   \n",
       "2  8312  Microsoft    Negative   \n",
       "3  4371      CS-GO    Negative   \n",
       "4  4433     Google     Neutral   \n",
       "\n",
       "                                                text  \n",
       "0  I mentioned on Facebook that I was struggling ...  \n",
       "1  BBC News - Amazon boss Jeff Bezos rejects clai...  \n",
       "2  @Microsoft Why do I pay for WORD when it funct...  \n",
       "3  CSGO matchmaking is so full of closet hacking,...  \n",
       "4  Now the President is slapping Americans in the...  "
      ]
     },
     "execution_count": 6,
     "metadata": {},
     "output_type": "execute_result"
    }
   ],
   "source": [
    "test_df = pd.read_csv('twitter_validation.csv', names=['id', 'entity', 'sentiment', 'text'])\n",
    "\n",
    "test_df.head()"
   ]
  },
  {
   "cell_type": "code",
   "execution_count": 7,
   "id": "cb6825c3-0445-47ff-ab6d-8655ca73d6e1",
   "metadata": {},
   "outputs": [
    {
     "name": "stdout",
     "output_type": "stream",
     "text": [
      "<class 'pandas.core.frame.DataFrame'>\n",
      "RangeIndex: 74682 entries, 0 to 74681\n",
      "Data columns (total 4 columns):\n",
      " #   Column     Non-Null Count  Dtype \n",
      "---  ------     --------------  ----- \n",
      " 0   id         74682 non-null  int64 \n",
      " 1   entity     74682 non-null  object\n",
      " 2   sentiment  74682 non-null  object\n",
      " 3   text       73996 non-null  object\n",
      "dtypes: int64(1), object(3)\n",
      "memory usage: 2.3+ MB\n"
     ]
    }
   ],
   "source": [
    "train_df.info()"
   ]
  },
  {
   "cell_type": "code",
   "execution_count": 8,
   "id": "921bec69-79fb-4dd5-8b3d-e1852230ed16",
   "metadata": {},
   "outputs": [
    {
     "name": "stdout",
     "output_type": "stream",
     "text": [
      "<class 'pandas.core.frame.DataFrame'>\n",
      "RangeIndex: 1000 entries, 0 to 999\n",
      "Data columns (total 4 columns):\n",
      " #   Column     Non-Null Count  Dtype \n",
      "---  ------     --------------  ----- \n",
      " 0   id         1000 non-null   int64 \n",
      " 1   entity     1000 non-null   object\n",
      " 2   sentiment  1000 non-null   object\n",
      " 3   text       1000 non-null   object\n",
      "dtypes: int64(1), object(3)\n",
      "memory usage: 31.4+ KB\n"
     ]
    }
   ],
   "source": [
    "test_df.info()"
   ]
  },
  {
   "cell_type": "code",
   "execution_count": 9,
   "id": "e8cbe279-40bd-4a0f-847c-d6df09ac6185",
   "metadata": {},
   "outputs": [
    {
     "data": {
      "text/plain": [
       "id             0\n",
       "entity         0\n",
       "sentiment      0\n",
       "text         686\n",
       "dtype: int64"
      ]
     },
     "execution_count": 9,
     "metadata": {},
     "output_type": "execute_result"
    }
   ],
   "source": [
    "train_df.isna().sum()"
   ]
  },
  {
   "cell_type": "code",
   "execution_count": 10,
   "id": "bbcfad0b-95fe-49c2-af28-4e948be9b56c",
   "metadata": {},
   "outputs": [],
   "source": [
    "train_df = train_df.dropna()"
   ]
  },
  {
   "cell_type": "code",
   "execution_count": 11,
   "id": "f75b50ba-3a77-472a-82f7-270b95efc7ce",
   "metadata": {},
   "outputs": [
    {
     "data": {
      "text/plain": [
       "id           0\n",
       "entity       0\n",
       "sentiment    0\n",
       "text         0\n",
       "dtype: int64"
      ]
     },
     "execution_count": 11,
     "metadata": {},
     "output_type": "execute_result"
    }
   ],
   "source": [
    "train_df.isna().sum()"
   ]
  },
  {
   "cell_type": "code",
   "execution_count": 12,
   "id": "ba14c2ec-2f2a-4cfe-9406-ab85bb726994",
   "metadata": {},
   "outputs": [
    {
     "name": "stdout",
     "output_type": "stream",
     "text": [
      "<class 'pandas.core.frame.DataFrame'>\n",
      "Index: 73996 entries, 0 to 74681\n",
      "Data columns (total 4 columns):\n",
      " #   Column     Non-Null Count  Dtype \n",
      "---  ------     --------------  ----- \n",
      " 0   id         73996 non-null  int64 \n",
      " 1   entity     73996 non-null  object\n",
      " 2   sentiment  73996 non-null  object\n",
      " 3   text       73996 non-null  object\n",
      "dtypes: int64(1), object(3)\n",
      "memory usage: 2.8+ MB\n"
     ]
    }
   ],
   "source": [
    "train_df.info()"
   ]
  },
  {
   "cell_type": "code",
   "execution_count": 13,
   "id": "2fe3c71f-650c-4be9-9b5d-0db4f96310fc",
   "metadata": {},
   "outputs": [
    {
     "name": "stdout",
     "output_type": "stream",
     "text": [
      "Training data :  73996\n",
      "Test data :  1000\n"
     ]
    }
   ],
   "source": [
    "print(f'Training data : ', len(train_df))\n",
    "print(f'Test data : ', len(test_df))"
   ]
  },
  {
   "cell_type": "code",
   "execution_count": 14,
   "id": "5e114646-b1a3-46a6-a7d1-8f1145b439bc",
   "metadata": {},
   "outputs": [
    {
     "data": {
      "image/png": "[encoded data removed]",
      "text/plain": [
       "<Figure size 640x480 with 1 Axes>"
      ]
     },
     "metadata": {},
     "output_type": "display_data"
    }
   ],
   "source": [
    "sns.histplot(train_df['text'].str.len(), binwidth=50)\n",
    "plt.show()"
   ]
  },
  {
   "cell_type": "code",
   "execution_count": 15,
   "id": "034052a4-eaeb-406c-afe1-dd86f6cabda0",
   "metadata": {},
   "outputs": [
    {
     "name": "stderr",
     "output_type": "stream",
     "text": [
      "/var/folders/mr/zpw8mcz14pj_gkyqs4k_zl4c0000gn/T/ipykernel_2022/848293623.py:3: DeprecationWarning: DataFrameGroupBy.apply operated on the grouping columns. This behavior is deprecated, and in a future version of pandas the grouping columns will be excluded from the operation. Either pass `include_groups=False` to exclude the groupings or explicitly select the grouping columns after groupby to silence this warning.\n",
      "  train_df.groupby('sentiment').apply(lambda x: x.sample(sample_size))\n"
     ]
    },
    {
     "data": {
      "text/html": [
       "<div>\n",
       "<style scoped>\n",
       "    .dataframe tbody tr th:only-of-type {\n",
       "        vertical-align: middle;\n",
       "    }\n",
       "\n",
       "    .dataframe tbody tr th {\n",
       "        vertical-align: top;\n",
       "    }\n",
       "\n",
       "    .dataframe thead th {\n",
       "        text-align: right;\n",
       "    }\n",
       "</style>\n",
       "<table border=\"1\" class=\"dataframe\">\n",
       "  <thead>\n",
       "    <tr style=\"text-align: right;\">\n",
       "      <th></th>\n",
       "      <th></th>\n",
       "      <th>id</th>\n",
       "      <th>entity</th>\n",
       "      <th>sentiment</th>\n",
       "      <th>text</th>\n",
       "    </tr>\n",
       "    <tr>\n",
       "      <th>sentiment</th>\n",
       "      <th></th>\n",
       "      <th></th>\n",
       "      <th></th>\n",
       "      <th></th>\n",
       "      <th></th>\n",
       "    </tr>\n",
       "  </thead>\n",
       "  <tbody>\n",
       "    <tr>\n",
       "      <th rowspan=\"3\" valign=\"top\">Irrelevant</th>\n",
       "      <th>43108</th>\n",
       "      <td>10198</td>\n",
       "      <td>PlayerUnknownsBattlegrounds(PUBG)</td>\n",
       "      <td>Irrelevant</td>\n",
       "      <td>That'as s how emotions got changed when tik - ...</td>\n",
       "    </tr>\n",
       "    <tr>\n",
       "      <th>674</th>\n",
       "      <td>2519</td>\n",
       "      <td>Borderlands</td>\n",
       "      <td>Irrelevant</td>\n",
       "      <td>My Herney friend is also a fantastic artist.</td>\n",
       "    </tr>\n",
       "    <tr>\n",
       "      <th>64344</th>\n",
       "      <td>7824</td>\n",
       "      <td>MaddenNFL</td>\n",
       "      <td>Irrelevant</td>\n",
       "      <td>I'm crying! .</td>\n",
       "    </tr>\n",
       "    <tr>\n",
       "      <th rowspan=\"3\" valign=\"top\">Negative</th>\n",
       "      <th>12325</th>\n",
       "      <td>8518</td>\n",
       "      <td>NBA2K</td>\n",
       "      <td>Negative</td>\n",
       "      <td>@ NBA2K @ Ronnie2K HOW YES COME???????? How do...</td>\n",
       "    </tr>\n",
       "    <tr>\n",
       "      <th>63755</th>\n",
       "      <td>7725</td>\n",
       "      <td>MaddenNFL</td>\n",
       "      <td>Negative</td>\n",
       "      <td>Yo @EAMaddenNFL I’ve teased you for little bit...</td>\n",
       "    </tr>\n",
       "    <tr>\n",
       "      <th>59846</th>\n",
       "      <td>3457</td>\n",
       "      <td>Facebook</td>\n",
       "      <td>Negative</td>\n",
       "      <td>June 2020......... Facebook is cool!</td>\n",
       "    </tr>\n",
       "    <tr>\n",
       "      <th rowspan=\"3\" valign=\"top\">Neutral</th>\n",
       "      <th>3207</th>\n",
       "      <td>1757</td>\n",
       "      <td>CallOfDutyBlackopsColdWar</td>\n",
       "      <td>Neutral</td>\n",
       "      <td>I like Black Ops Cold Case at it’s core. Way b...</td>\n",
       "    </tr>\n",
       "    <tr>\n",
       "      <th>24803</th>\n",
       "      <td>4659</td>\n",
       "      <td>Google</td>\n",
       "      <td>Neutral</td>\n",
       "      <td>United League Go on! Get Divine Base Rank S! e...</td>\n",
       "    </tr>\n",
       "    <tr>\n",
       "      <th>7953</th>\n",
       "      <td>9366</td>\n",
       "      <td>Overwatch</td>\n",
       "      <td>Neutral</td>\n",
       "      <td>“F-follow the Whores behind Overwatch...”</td>\n",
       "    </tr>\n",
       "    <tr>\n",
       "      <th rowspan=\"3\" valign=\"top\">Positive</th>\n",
       "      <th>22070</th>\n",
       "      <td>4177</td>\n",
       "      <td>CS-GO</td>\n",
       "      <td>Positive</td>\n",
       "      <td>To all the people who want to play VALORANT an...</td>\n",
       "    </tr>\n",
       "    <tr>\n",
       "      <th>70078</th>\n",
       "      <td>10807</td>\n",
       "      <td>TomClancysGhostRecon</td>\n",
       "      <td>Positive</td>\n",
       "      <td>No no no stuff that ’ s kinda cool, I ’ ve got...</td>\n",
       "    </tr>\n",
       "    <tr>\n",
       "      <th>46169</th>\n",
       "      <td>11923</td>\n",
       "      <td>Verizon</td>\n",
       "      <td>Positive</td>\n",
       "      <td>out</td>\n",
       "    </tr>\n",
       "  </tbody>\n",
       "</table>\n",
       "</div>"
      ],
      "text/plain": [
       "                     id                             entity   sentiment  \\\n",
       "sentiment                                                                \n",
       "Irrelevant 43108  10198  PlayerUnknownsBattlegrounds(PUBG)  Irrelevant   \n",
       "           674     2519                        Borderlands  Irrelevant   \n",
       "           64344   7824                          MaddenNFL  Irrelevant   \n",
       "Negative   12325   8518                              NBA2K    Negative   \n",
       "           63755   7725                          MaddenNFL    Negative   \n",
       "           59846   3457                           Facebook    Negative   \n",
       "Neutral    3207    1757          CallOfDutyBlackopsColdWar     Neutral   \n",
       "           24803   4659                             Google     Neutral   \n",
       "           7953    9366                          Overwatch     Neutral   \n",
       "Positive   22070   4177                              CS-GO    Positive   \n",
       "           70078  10807               TomClancysGhostRecon    Positive   \n",
       "           46169  11923                            Verizon    Positive   \n",
       "\n",
       "                                                               text  \n",
       "sentiment                                                            \n",
       "Irrelevant 43108  That'as s how emotions got changed when tik - ...  \n",
       "           674         My Herney friend is also a fantastic artist.  \n",
       "           64344                                     I'm crying! .   \n",
       "Negative   12325  @ NBA2K @ Ronnie2K HOW YES COME???????? How do...  \n",
       "           63755  Yo @EAMaddenNFL I’ve teased you for little bit...  \n",
       "           59846               June 2020......... Facebook is cool!  \n",
       "Neutral    3207   I like Black Ops Cold Case at it’s core. Way b...  \n",
       "           24803  United League Go on! Get Divine Base Rank S! e...  \n",
       "           7953           “F-follow the Whores behind Overwatch...”  \n",
       "Positive   22070  To all the people who want to play VALORANT an...  \n",
       "           70078  No no no stuff that ’ s kinda cool, I ’ ve got...  \n",
       "           46169                                                out  "
      ]
     },
     "execution_count": 15,
     "metadata": {},
     "output_type": "execute_result"
    }
   ],
   "source": [
    "sample_size = 3\n",
    "\n",
    "train_df.groupby('sentiment').apply(lambda x: x.sample(sample_size))"
   ]
  },
  {
   "cell_type": "code",
   "execution_count": 16,
   "id": "7c02e1ce-7728-4d5e-a3ad-f3b332a82624",
   "metadata": {},
   "outputs": [
    {
     "name": "stdout",
     "output_type": "stream",
     "text": [
      "['Positive', 'Neutral', 'Negative', 'Irrelevant'] {0: 'Positive', 1: 'Neutral', 2: 'Negative', 3: 'Irrelevant'} {'Positive': 0, 'Neutral': 1, 'Negative': 2, 'Irrelevant': 3}\n"
     ]
    }
   ],
   "source": [
    "labels = list(train_df['sentiment'].unique())\n",
    "id2label = {k:v for k, v in enumerate(labels)}\n",
    "label2id = {v:k for k, v in enumerate(labels)}\n",
    "\n",
    "print(labels, id2label, label2id)"
   ]
  },
  {
   "cell_type": "code",
   "execution_count": 17,
   "id": "44714561-c727-4484-9865-2aa696b12e60",
   "metadata": {},
   "outputs": [
    {
     "data": {
      "text/html": [
       "<div>\n",
       "<style scoped>\n",
       "    .dataframe tbody tr th:only-of-type {\n",
       "        vertical-align: middle;\n",
       "    }\n",
       "\n",
       "    .dataframe tbody tr th {\n",
       "        vertical-align: top;\n",
       "    }\n",
       "\n",
       "    .dataframe thead th {\n",
       "        text-align: right;\n",
       "    }\n",
       "</style>\n",
       "<table border=\"1\" class=\"dataframe\">\n",
       "  <thead>\n",
       "    <tr style=\"text-align: right;\">\n",
       "      <th></th>\n",
       "      <th>id</th>\n",
       "      <th>entity</th>\n",
       "      <th>sentiment</th>\n",
       "      <th>text</th>\n",
       "      <th>label</th>\n",
       "    </tr>\n",
       "  </thead>\n",
       "  <tbody>\n",
       "    <tr>\n",
       "      <th>0</th>\n",
       "      <td>2401</td>\n",
       "      <td>Borderlands</td>\n",
       "      <td>Positive</td>\n",
       "      <td>im getting on borderlands and i will murder yo...</td>\n",
       "      <td>0</td>\n",
       "    </tr>\n",
       "    <tr>\n",
       "      <th>1</th>\n",
       "      <td>2401</td>\n",
       "      <td>Borderlands</td>\n",
       "      <td>Positive</td>\n",
       "      <td>I am coming to the borders and I will kill you...</td>\n",
       "      <td>0</td>\n",
       "    </tr>\n",
       "    <tr>\n",
       "      <th>2</th>\n",
       "      <td>2401</td>\n",
       "      <td>Borderlands</td>\n",
       "      <td>Positive</td>\n",
       "      <td>im getting on borderlands and i will kill you ...</td>\n",
       "      <td>0</td>\n",
       "    </tr>\n",
       "    <tr>\n",
       "      <th>3</th>\n",
       "      <td>2401</td>\n",
       "      <td>Borderlands</td>\n",
       "      <td>Positive</td>\n",
       "      <td>im coming on borderlands and i will murder you...</td>\n",
       "      <td>0</td>\n",
       "    </tr>\n",
       "    <tr>\n",
       "      <th>4</th>\n",
       "      <td>2401</td>\n",
       "      <td>Borderlands</td>\n",
       "      <td>Positive</td>\n",
       "      <td>im getting on borderlands 2 and i will murder ...</td>\n",
       "      <td>0</td>\n",
       "    </tr>\n",
       "  </tbody>\n",
       "</table>\n",
       "</div>"
      ],
      "text/plain": [
       "     id       entity sentiment  \\\n",
       "0  2401  Borderlands  Positive   \n",
       "1  2401  Borderlands  Positive   \n",
       "2  2401  Borderlands  Positive   \n",
       "3  2401  Borderlands  Positive   \n",
       "4  2401  Borderlands  Positive   \n",
       "\n",
       "                                                text  label  \n",
       "0  im getting on borderlands and i will murder yo...      0  \n",
       "1  I am coming to the borders and I will kill you...      0  \n",
       "2  im getting on borderlands and i will kill you ...      0  \n",
       "3  im coming on borderlands and i will murder you...      0  \n",
       "4  im getting on borderlands 2 and i will murder ...      0  "
      ]
     },
     "execution_count": 17,
     "metadata": {},
     "output_type": "execute_result"
    }
   ],
   "source": [
    "train_df['label'] = train_df['sentiment'].map(label2id)\n",
    "test_df['label'] = test_df['sentiment'].map(label2id)\n",
    "\n",
    "train_df.head()"
   ]
  },
  {
   "cell_type": "code",
   "execution_count": 18,
   "id": "98bb8714-d155-4a10-a378-fce5dbbdb1f9",
   "metadata": {},
   "outputs": [],
   "source": [
    "# 데이터 분리\n",
    "train = train_df.sample(frac=0.9, random_state=42)\n",
    "valid = train_df.drop(train.index)"
   ]
  },
  {
   "cell_type": "code",
   "execution_count": 19,
   "id": "a06cb2c4-4f1c-4c76-b131-9895c4f7952b",
   "metadata": {},
   "outputs": [
    {
     "data": {
      "text/html": [
       "<div>\n",
       "<style scoped>\n",
       "    .dataframe tbody tr th:only-of-type {\n",
       "        vertical-align: middle;\n",
       "    }\n",
       "\n",
       "    .dataframe tbody tr th {\n",
       "        vertical-align: top;\n",
       "    }\n",
       "\n",
       "    .dataframe thead th {\n",
       "        text-align: right;\n",
       "    }\n",
       "</style>\n",
       "<table border=\"1\" class=\"dataframe\">\n",
       "  <thead>\n",
       "    <tr style=\"text-align: right;\">\n",
       "      <th></th>\n",
       "      <th>id</th>\n",
       "      <th>entity</th>\n",
       "      <th>sentiment</th>\n",
       "      <th>text</th>\n",
       "      <th>label</th>\n",
       "    </tr>\n",
       "  </thead>\n",
       "  <tbody>\n",
       "    <tr>\n",
       "      <th>61413</th>\n",
       "      <td>4926</td>\n",
       "      <td>GrandTheftAuto(GTA)</td>\n",
       "      <td>Irrelevant</td>\n",
       "      <td>Looks to me like he failed to check out the wa...</td>\n",
       "      <td>3</td>\n",
       "    </tr>\n",
       "    <tr>\n",
       "      <th>44887</th>\n",
       "      <td>11709</td>\n",
       "      <td>Verizon</td>\n",
       "      <td>Irrelevant</td>\n",
       "      <td>Wow, it takes all sorts of crazy people out th...</td>\n",
       "      <td>3</td>\n",
       "    </tr>\n",
       "    <tr>\n",
       "      <th>73662</th>\n",
       "      <td>9020</td>\n",
       "      <td>Nvidia</td>\n",
       "      <td>Neutral</td>\n",
       "      <td>Nvidia Unveils The World’s Fastest Gaming Moni...</td>\n",
       "      <td>1</td>\n",
       "    </tr>\n",
       "    <tr>\n",
       "      <th>36694</th>\n",
       "      <td>8295</td>\n",
       "      <td>Microsoft</td>\n",
       "      <td>Neutral</td>\n",
       "      <td>Huge radio play here. Reinvention / Corporate ...</td>\n",
       "      <td>1</td>\n",
       "    </tr>\n",
       "    <tr>\n",
       "      <th>2308</th>\n",
       "      <td>1604</td>\n",
       "      <td>CallOfDutyBlackopsColdWar</td>\n",
       "      <td>Negative</td>\n",
       "      <td>SO I HAPPY WHO ABOUT THIS.</td>\n",
       "      <td>2</td>\n",
       "    </tr>\n",
       "  </tbody>\n",
       "</table>\n",
       "</div>"
      ],
      "text/plain": [
       "          id                     entity   sentiment  \\\n",
       "61413   4926        GrandTheftAuto(GTA)  Irrelevant   \n",
       "44887  11709                    Verizon  Irrelevant   \n",
       "73662   9020                     Nvidia     Neutral   \n",
       "36694   8295                  Microsoft     Neutral   \n",
       "2308    1604  CallOfDutyBlackopsColdWar    Negative   \n",
       "\n",
       "                                                    text  label  \n",
       "61413  Looks to me like he failed to check out the wa...      3  \n",
       "44887  Wow, it takes all sorts of crazy people out th...      3  \n",
       "73662  Nvidia Unveils The World’s Fastest Gaming Moni...      1  \n",
       "36694  Huge radio play here. Reinvention / Corporate ...      1  \n",
       "2308                          SO I HAPPY WHO ABOUT THIS.      2  "
      ]
     },
     "execution_count": 19,
     "metadata": {},
     "output_type": "execute_result"
    }
   ],
   "source": [
    "train.head()"
   ]
  },
  {
   "cell_type": "code",
   "execution_count": 20,
   "id": "0b664671-928a-4681-b583-923bb197c39f",
   "metadata": {},
   "outputs": [
    {
     "data": {
      "text/html": [
       "<div>\n",
       "<style scoped>\n",
       "    .dataframe tbody tr th:only-of-type {\n",
       "        vertical-align: middle;\n",
       "    }\n",
       "\n",
       "    .dataframe tbody tr th {\n",
       "        vertical-align: top;\n",
       "    }\n",
       "\n",
       "    .dataframe thead th {\n",
       "        text-align: right;\n",
       "    }\n",
       "</style>\n",
       "<table border=\"1\" class=\"dataframe\">\n",
       "  <thead>\n",
       "    <tr style=\"text-align: right;\">\n",
       "      <th></th>\n",
       "      <th>id</th>\n",
       "      <th>entity</th>\n",
       "      <th>sentiment</th>\n",
       "      <th>text</th>\n",
       "      <th>label</th>\n",
       "    </tr>\n",
       "  </thead>\n",
       "  <tbody>\n",
       "    <tr>\n",
       "      <th>2</th>\n",
       "      <td>2401</td>\n",
       "      <td>Borderlands</td>\n",
       "      <td>Positive</td>\n",
       "      <td>im getting on borderlands and i will kill you ...</td>\n",
       "      <td>0</td>\n",
       "    </tr>\n",
       "    <tr>\n",
       "      <th>28</th>\n",
       "      <td>2405</td>\n",
       "      <td>Borderlands</td>\n",
       "      <td>Negative</td>\n",
       "      <td>For the biggest male dissappoinment in my life...</td>\n",
       "      <td>2</td>\n",
       "    </tr>\n",
       "    <tr>\n",
       "      <th>55</th>\n",
       "      <td>2410</td>\n",
       "      <td>Borderlands</td>\n",
       "      <td>Negative</td>\n",
       "      <td>Why, like every man in border countries, have ...</td>\n",
       "      <td>2</td>\n",
       "    </tr>\n",
       "    <tr>\n",
       "      <th>60</th>\n",
       "      <td>2411</td>\n",
       "      <td>Borderlands</td>\n",
       "      <td>Neutral</td>\n",
       "      <td>. . [</td>\n",
       "      <td>1</td>\n",
       "    </tr>\n",
       "    <tr>\n",
       "      <th>67</th>\n",
       "      <td>2412</td>\n",
       "      <td>Borderlands</td>\n",
       "      <td>Positive</td>\n",
       "      <td>I will finish Borderlands 2 today. I have some...</td>\n",
       "      <td>0</td>\n",
       "    </tr>\n",
       "  </tbody>\n",
       "</table>\n",
       "</div>"
      ],
      "text/plain": [
       "      id       entity sentiment  \\\n",
       "2   2401  Borderlands  Positive   \n",
       "28  2405  Borderlands  Negative   \n",
       "55  2410  Borderlands  Negative   \n",
       "60  2411  Borderlands   Neutral   \n",
       "67  2412  Borderlands  Positive   \n",
       "\n",
       "                                                 text  label  \n",
       "2   im getting on borderlands and i will kill you ...      0  \n",
       "28  For the biggest male dissappoinment in my life...      2  \n",
       "55  Why, like every man in border countries, have ...      2  \n",
       "60                                            . . [        1  \n",
       "67  I will finish Borderlands 2 today. I have some...      0  "
      ]
     },
     "execution_count": 20,
     "metadata": {},
     "output_type": "execute_result"
    }
   ],
   "source": [
    "valid.head()"
   ]
  },
  {
   "cell_type": "raw",
   "id": "feff22b4-85db-4d96-9569-6bd5de4efbea",
   "metadata": {},
   "source": [
    "pip install datasets"
   ]
  },
  {
   "cell_type": "raw",
   "id": "8584a975-6865-4323-873f-83abe7fc4473",
   "metadata": {},
   "source": [
    "# hugging face(허깅 페이스) : 자연어 처리(NLP)와 관련된 도구와 서비스를 제공하는 회사다.(특히 Transformers와 연관)\n",
    "\n",
    "1. Transformer 라이브러리 : 사전 훈련된 트랜스포머 모델(BERT, GPT-2, RoBeRTa, TS 등)과 같은 수많은 모델들을 제공하여 이를 편리하게 사용할 수 있게끔 도와주며, 미세조정(fine-tuning)할 수 있게 도와준다.\n",
    "\n",
    "2. Datasets 라이브러리 : 데이터셋을 쉽게 로드하고 전처리할 수 있는 라이브러리이다. 메모리 효율적으로 대규모 데이터셋을 사용할 수 있다.(데이터셋을 변환하고 전처리하는 다양한 기능을 제공한다.)\n",
    "\n",
    "3. Hugging Face Hub : 모델, 데이터셋, 평가 지표 등을 공유하고 배포할 수 있게 도와주는 플랫폼"
   ]
  },
  {
   "cell_type": "code",
   "execution_count": 21,
   "id": "1c663dd1-fd7a-41da-91ef-b510f0a8172a",
   "metadata": {},
   "outputs": [
    {
     "data": {
      "text/plain": [
       "(Dataset({\n",
       "     features: ['id', 'entity', 'sentiment', 'text', 'label', '__index_level_0__'],\n",
       "     num_rows: 66596\n",
       " }),\n",
       " Dataset({\n",
       "     features: ['id', 'entity', 'sentiment', 'text', 'label', '__index_level_0__'],\n",
       "     num_rows: 7400\n",
       " }),\n",
       " Dataset({\n",
       "     features: ['id', 'entity', 'sentiment', 'text', 'label'],\n",
       "     num_rows: 1000\n",
       " }))"
      ]
     },
     "execution_count": 21,
     "metadata": {},
     "output_type": "execute_result"
    }
   ],
   "source": [
    "from datasets import Dataset\n",
    "\n",
    "train_ds = Dataset.from_pandas(train)\n",
    "valid_ds = Dataset.from_pandas(valid)\n",
    "test_ds = Dataset.from_pandas(test_df)\n",
    "\n",
    "train_ds, valid_ds, test_ds"
   ]
  },
  {
   "cell_type": "raw",
   "id": "b6dcc233-a7e4-4a57-b35f-24671863e6d9",
   "metadata": {},
   "source": [
    "pip install transformers"
   ]
  },
  {
   "cell_type": "code",
   "execution_count": 22,
   "id": "42839523-0400-43f0-9a13-b5f17ee283e3",
   "metadata": {},
   "outputs": [],
   "source": [
    "# 토큰화\n",
    "from transformers import AutoTokenizer\n",
    "# https://huggingface.co/welcome\n",
    "model_name = 'cardiffnlp/twitter-roberta-base-sentiment-latest' # hugging face 모델\n",
    "tokenizer = AutoTokenizer.from_pretrained(model_name)"
   ]
  },
  {
   "cell_type": "code",
   "execution_count": 23,
   "id": "a84a5cec-b283-47ce-be8d-c8dc7d193480",
   "metadata": {},
   "outputs": [
    {
     "name": "stderr",
     "output_type": "stream",
     "text": [
      "/var/folders/mr/zpw8mcz14pj_gkyqs4k_zl4c0000gn/T/ipykernel_2022/1858184417.py:4: FutureWarning: load_metric is deprecated and will be removed in the next major version of datasets. Use 'evaluate.load' instead, from the new library 🤗 Evaluate: https://huggingface.co/docs/evaluate\n",
      "  accuracy = load_metric('accuracy', trust_remote_code=True)\n"
     ]
    }
   ],
   "source": [
    "from datasets import load_metric\n",
    "\n",
    "# Load_metric : Hugging Face Datasets 라이브러리에서 평가지표 로드\n",
    "accuracy = load_metric('accuracy', trust_remote_code=True)\n",
    "\n",
    "# 정확도 계산 함수\n",
    "def compute_metrics(eval_pred):\n",
    "    predictions, labels = eval_pred\n",
    "    predictions = np.argmax(predictions, axis=1)\n",
    "    return accuracy.compute(predictions=predictions, references=labels)"
   ]
  },
  {
   "cell_type": "code",
   "execution_count": 24,
   "id": "40959894-f248-4ca7-a2ce-6876a81a485c",
   "metadata": {},
   "outputs": [
    {
     "data": {
      "application/vnd.jupyter.widget-view+json": {
       "model_id": "b3820256527547a7b90e86000862f5a4",
       "version_major": 2,
       "version_minor": 0
      },
      "text/plain": [
       "Map:   0%|          | 0/66596 [00:00<?, ? examples/s]"
      ]
     },
     "metadata": {},
     "output_type": "display_data"
    },
    {
     "data": {
      "application/vnd.jupyter.widget-view+json": {
       "model_id": "18ad2bc8b2a64e4ba558504721eae79e",
       "version_major": 2,
       "version_minor": 0
      },
      "text/plain": [
       "Map:   0%|          | 0/7400 [00:00<?, ? examples/s]"
      ]
     },
     "metadata": {},
     "output_type": "display_data"
    },
    {
     "data": {
      "application/vnd.jupyter.widget-view+json": {
       "model_id": "5b996d3daca24c98928f8c15a8a65539",
       "version_major": 2,
       "version_minor": 0
      },
      "text/plain": [
       "Map:   0%|          | 0/1000 [00:00<?, ? examples/s]"
      ]
     },
     "metadata": {},
     "output_type": "display_data"
    }
   ],
   "source": [
    "def preprocess_function(examples):\n",
    "    return tokenizer(examples['text'], truncation=True, max_length=128)\n",
    "\n",
    "train_ds = train_ds.map(preprocess_function, batched=True)\n",
    "valid_ds = valid_ds.map(preprocess_function, batched=True)\n",
    "test_ds = test_ds.map(preprocess_function, batched=True)"
   ]
  },
  {
   "cell_type": "code",
   "execution_count": 25,
   "id": "19133934-165b-43e3-8f91-d1d449b246ca",
   "metadata": {},
   "outputs": [
    {
     "data": {
      "text/plain": [
       "Dataset({\n",
       "    features: ['id', 'entity', 'sentiment', 'text', 'label', '__index_level_0__', 'input_ids', 'attention_mask'],\n",
       "    num_rows: 66596\n",
       "})"
      ]
     },
     "execution_count": 25,
     "metadata": {},
     "output_type": "execute_result"
    }
   ],
   "source": [
    "train_ds"
   ]
  },
  {
   "cell_type": "code",
   "execution_count": 26,
   "id": "8804c21d-238f-42b3-a3a3-de6c389fc9aa",
   "metadata": {},
   "outputs": [
    {
     "data": {
      "text/plain": [
       "Dataset({\n",
       "    features: ['id', 'entity', 'sentiment', 'text', 'label', '__index_level_0__', 'input_ids', 'attention_mask'],\n",
       "    num_rows: 7400\n",
       "})"
      ]
     },
     "execution_count": 26,
     "metadata": {},
     "output_type": "execute_result"
    }
   ],
   "source": [
    "valid_ds"
   ]
  },
  {
   "cell_type": "code",
   "execution_count": 27,
   "id": "d5f5441e-f448-4b24-8a09-f673a0f737db",
   "metadata": {},
   "outputs": [
    {
     "data": {
      "text/plain": [
       "Dataset({\n",
       "    features: ['id', 'entity', 'sentiment', 'text', 'label', 'input_ids', 'attention_mask'],\n",
       "    num_rows: 1000\n",
       "})"
      ]
     },
     "execution_count": 27,
     "metadata": {},
     "output_type": "execute_result"
    }
   ],
   "source": [
    "test_ds"
   ]
  },
  {
   "cell_type": "code",
   "execution_count": 28,
   "id": "ff7bee42-37f0-48e7-b086-992bb2d98171",
   "metadata": {},
   "outputs": [],
   "source": [
    "# padding\n",
    "from transformers import DataCollatorWithPadding # 패딩을 자동으로 처리\n",
    "\n",
    "# 사전 훈련된 tokenizer와 함께 입력 텍스트를 토큰화하고 필요에 따라 추가적으로 패딩을 처리한다.\n",
    "data_collator = DataCollatorWithPadding(tokenizer=tokenizer) "
   ]
  },
  {
   "cell_type": "raw",
   "id": "a0bbe06c-77d9-4f22-8a06-952157250cbb",
   "metadata": {},
   "source": [
    "pip install torch torchvision torchaudio"
   ]
  },
  {
   "cell_type": "raw",
   "id": "007a33ee-ed9c-4d48-8b47-7a866f98cc89",
   "metadata": {},
   "source": [
    "pip install torch torchvision"
   ]
  },
  {
   "cell_type": "code",
   "execution_count": 29,
   "id": "b4a358f6-8249-4566-b847-3209588f2b8e",
   "metadata": {},
   "outputs": [],
   "source": [
    "from transformers import TFAutoModelForSequenceClassification, TrainingArguments, Trainer"
   ]
  },
  {
   "cell_type": "raw",
   "id": "2c148e99-1df2-4e0a-888b-7a121e392d24",
   "metadata": {},
   "source": [
    "# AutoModelForSequenceClassification : 사전 훈련된 모델을 다중 클래스 분류를 위해 초기화\n",
    "# TrainingArguments : 모델에 필요한 하이퍼파라미터들을 설정\n",
    "# Trainer : 모델 훈련과 평가를 관리하는 데 사용\n",
    "from transformers import AutoModelForSequenceClassification, TrainingArguments, Trainer\n",
    "\n",
    "# 사전 훈련된 모델을 로드\n",
    "# model_name(가장 첫 인수) : 사전 훈련된 모델의 이름이나 경로\n",
    "# num_labels : 분류할 레이블의 수\n",
    "# label2id, id1label : 레이블ID와 이름 간의 매핑\n",
    "# ignore_mismatched_sizes : 사전 훈련된 모델과 레이블이 다른 경우 새로운 레이블 수에 맞춰 새로운 분류헤드를 초기화한다.\n",
    "model = AutoModelForSequenceClassification.from_pretrained(\n",
    "    model_name, num_labels =  en(labels), id2label = id2label, label2id =  abel2id, ignore_mismatched_sizes = True,\n",
    ")"
   ]
  },
  {
   "cell_type": "code",
   "execution_count": 30,
   "id": "61c9dafa-5599-43ae-8905-738d1c7c67c1",
   "metadata": {},
   "outputs": [
    {
     "name": "stderr",
     "output_type": "stream",
     "text": [
      "Some weights of the model checkpoint at cardiffnlp/twitter-roberta-base-sentiment-latest were not used when initializing RobertaForSequenceClassification: ['roberta.pooler.dense.bias', 'roberta.pooler.dense.weight']\n",
      "- This IS expected if you are initializing RobertaForSequenceClassification from the checkpoint of a model trained on another task or with another architecture (e.g. initializing a BertForSequenceClassification model from a BertForPreTraining model).\n",
      "- This IS NOT expected if you are initializing RobertaForSequenceClassification from the checkpoint of a model that you expect to be exactly identical (initializing a BertForSequenceClassification model from a BertForSequenceClassification model).\n",
      "Some weights of RobertaForSequenceClassification were not initialized from the model checkpoint at cardiffnlp/twitter-roberta-base-sentiment-latest and are newly initialized because the shapes did not match:\n",
      "- classifier.out_proj.weight: found shape torch.Size([3, 768]) in the checkpoint and torch.Size([4, 768]) in the model instantiated\n",
      "- classifier.out_proj.bias: found shape torch.Size([3]) in the checkpoint and torch.Size([4]) in the model instantiated\n",
      "You should probably TRAIN this model on a down-stream task to be able to use it for predictions and inference.\n"
     ]
    }
   ],
   "source": [
    "# TFAutoModelForSequenceClassification : 사전 훈련된 모델을 다중 클래스 분류를 위해 초기화\n",
    "# TrainingArguments : 모델에 필요한 하이퍼파라미터들을 설정\n",
    "# Trainer : 모델 훈련과 평가를 관리하는 데 사용\n",
    "from transformers import AutoModelForSequenceClassification, TrainingArguments, Trainer\n",
    "\n",
    "# 사전 훈련된 모델을 로드\n",
    "# model_name(가장 첫 인수) : 사전 훈련된 모델의 이름이나 경로\n",
    "# num_labels : 분류할 레이블의 수\n",
    "# label2id, id1label : 레이블ID와 이름 간의 매핑\n",
    "# ignore_mismatched_sizes : 사전 훈련된 모델과 레이블이 다른 경우 새로운 레이블 수에 맞춰 새로운 분류헤드를 초기화한다.\n",
    "model = AutoModelForSequenceClassification.from_pretrained(\n",
    "    model_name, num_labels = len(labels), id2label = id2label, label2id = label2id, ignore_mismatched_sizes = True,\n",
    ")"
   ]
  },
  {
   "cell_type": "code",
   "execution_count": 31,
   "id": "5c84d31f-a04e-45b4-9a58-a9af257ab659",
   "metadata": {},
   "outputs": [],
   "source": [
    "# Hugging Face Transformers 라이브러리 모델 훈련 매개변수 설정\n",
    "training_args = TrainingArguments(\n",
    "    output_dir = 'twitter-sentiment-detector', # 훈련 후 모델과 체크포인트가 저장될 디렉토리\n",
    "    learning_rate=2e-5, # 학습률\n",
    "    per_device_train_batch_size=32, # train_batch_size\n",
    "    per_device_eval_batch_size=32, # eval_batch_size\n",
    "    num_train_epochs=10, # epochs\n",
    "    weight_decay=0.01, # 가중치 감소\n",
    "    eval_strategy='epoch', # 평가 전략, 각 에포크가 끝날 때 모델의 성능을 평가\n",
    "    save_strategy='epoch', # 평가 전략, 각 에포크가 끝날 때 모델을 저장\n",
    "    load_best_model_at_end=True, # 모델이 끝날 때 가장 성능이 좋은 모델을 로드할지\n",
    "    report_to='none', # 로깅 시스템 보고\n",
    ")"
   ]
  },
  {
   "cell_type": "raw",
   "id": "3a6eb13f-4109-4d71-bab2-4df8ff62c3d4",
   "metadata": {},
   "source": [
    "pip install accelerate -U"
   ]
  },
  {
   "cell_type": "raw",
   "id": "56e79614-4a27-4611-b1f2-e006c1d51a89",
   "metadata": {},
   "source": [
    "pip install transformers[torch]"
   ]
  },
  {
   "cell_type": "code",
   "execution_count": 32,
   "id": "aa9ec919-bae8-499e-bcce-90b673b0827a",
   "metadata": {},
   "outputs": [],
   "source": [
    "trainer = Trainer(\n",
    "    model = model,\n",
    "    args = training_args,\n",
    "    train_dataset = train_ds,\n",
    "    eval_dataset = valid_ds,\n",
    "    tokenizer = tokenizer,\n",
    "    data_collator = data_collator,\n",
    "    compute_metrics = compute_metrics,\n",
    ")"
   ]
  },
  {
   "cell_type": "raw",
   "id": "aaec2144-2339-4a27-8416-3687cbfe4326",
   "metadata": {},
   "source": [
    "pip list"
   ]
  },
  {
   "cell_type": "raw",
   "id": "5ab892f5-3765-498e-a836-1507ddfdd9d8",
   "metadata": {},
   "source": [
    "pip install torch torchvision torchaudio"
   ]
  },
  {
   "cell_type": "raw",
   "id": "0697a294-6721-4d76-ace7-9b4aded05aa2",
   "metadata": {},
   "source": [
    "pip install torch"
   ]
  },
  {
   "cell_type": "raw",
   "id": "93269e76-df96-4c13-a835-5a1ba310ef07",
   "metadata": {},
   "source": [
    "trainer.train()"
   ]
  },
  {
   "cell_type": "code",
   "execution_count": 33,
   "id": "7e6fcbcd-f0e5-4b69-ae2f-dffb756da648",
   "metadata": {},
   "outputs": [
    {
     "name": "stdout",
     "output_type": "stream",
     "text": [
      "False\n",
      "True\n"
     ]
    }
   ],
   "source": [
    "import torch\n",
    "\n",
    "print(torch.cuda.is_available())  # CUDA GPU 사용 가능 여부 확인\n",
    "print(torch.backends.mps.is_available())  # MPS GPU 사용 가능 여부 확인"
   ]
  },
  {
   "cell_type": "raw",
   "id": "bbc8c1eb-0cc0-4f32-8e84-599e7cb6351d",
   "metadata": {},
   "source": [
    "predictions = trainer.predict(test_ds)\n",
    "preds = np.argmax(predictions.predictions, axis=-1)\n",
    "accuracy.compute(predictions=preds, references=predictions.label_ids)"
   ]
  },
  {
   "cell_type": "code",
   "execution_count": 34,
   "id": "334d7407-c442-4d3c-9480-28a9f9a8c168",
   "metadata": {},
   "outputs": [],
   "source": [
    "texts = [\n",
    "    \"Another day, another “I feel like I’m being followed” experience.\",\n",
    "    \"HAPPY SAINT PATRICK'S DAY! I'M A BIG FAN OF SAINT PATRICK'S DAY, I'M ALSO A BIG FAN OF GREEN THINGS, WHO WOULDN'T BE? :D\"\n",
    "]"
   ]
  },
  {
   "cell_type": "raw",
   "id": "9f0341f0-f7d4-497e-b3eb-096cc6536846",
   "metadata": {},
   "source": [
    "# tokenizer를 사용한 토큰화(return_tensor='pt' 반환 결과를 PyTorch의 텐셔 형식으로 변환, padding=True 패딩 추가)\n",
    "inputs = tokenizer(texts, return_tensors='pt', padding=True)\n",
    "# model에 입력 데이터를 전달하여 예측을 실행한다.\n",
    "logits = model(**inputs).logits # Logits 데이터 출력 중 Logits값을 가져온다.(Logits : 각 클래스에 대한 점수)\n",
    "# 각 샘플에 대해 로짓 값이 가장 높은 인덱스를 찾는다.\n",
    "print([model.config.id2label[item.item()] for item in logits.argmax(axis=-1)])"
   ]
  },
  {
   "cell_type": "raw",
   "id": "47d1d049-6831-4185-b313-988f0110882e",
   "metadata": {},
   "source": [
    "1. Input -> Embedding -> Positional Encoding -> Encoder -> MultiHeadAttention(padding mask) -> Add & Norm -> Feed Forward Network -> Add & Norm\n",
    "\n",
    "2. Output -> Embedding -> Positional Encoding -> Decoder -> MaskedMultiHeadAttention(lookahead mask) -> Add & Norm \n",
    "\n",
    "(1, 2) -> MultiHeadAttention(padding mask) Scaled Dot-Product Attention -> Add & Norm -> Feed Forward Network -> Add & Norm -> Softmax"
   ]
  },
  {
   "cell_type": "raw",
   "id": "f1d6fc3e-9fa8-4645-96dc-67eb1634849b",
   "metadata": {},
   "source": [
    "* Multi-Head Attention : 입력 시퀸스의 다양한 부분들의 관계를 학습하는 매커니즘(하나의 Attention이 아닌 여러 개의 Attention 병렬로 처리)\n",
    "\n",
    "* Self-Attention : 입력 시퀸스의 각 요소가 다른 요소들과 얼마나 관련이 있는지 계산(시퀸스 내에 중요한 요소들을 학습할 수 있도록)\n",
    "\n",
    "  => Self-Attention을 여러 번 병렬로 수행할 수 있는 것이 Multi-Head Attention이다.(각 헤드에서 Self-Attention을 수행)\n",
    "\n",
    "* Scaled Dot-Product Attention : 입력 시퀸스의 각 요소가 다른 요소와 얼마나 관련이 있는지를 계산하고, 이를 바탕으로 중요한 정보를 집중적으로 학습\n",
    "\n",
    "* Position-wise Feed-Forward Networks : Self-Attention 뒤에 등장하여 각 위치의 입력을 독립적으로 처리하여 비선형 변환을 수행한다."
   ]
  }
 ],
 "metadata": {
  "kernelspec": {
   "display_name": "Python (tensorflow)",
   "language": "python",
   "name": "tensorflow"
  },
  "language_info": {
   "codemirror_mode": {
    "name": "ipython",
    "version": 3
   },
   "file_extension": ".py",
   "mimetype": "text/x-python",
   "name": "python",
   "nbconvert_exporter": "python",
   "pygments_lexer": "ipython3",
   "version": "3.9.18"
  }
 },
 "nbformat": 4,
 "nbformat_minor": 5
}
