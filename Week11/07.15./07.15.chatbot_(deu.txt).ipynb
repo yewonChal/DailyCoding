{
 "cells": [
  {
   "cell_type": "code",
   "execution_count": 14,
   "id": "1ead23b9-f20c-44b2-a6a8-c4df53d4862a",
   "metadata": {},
   "outputs": [],
   "source": [
    "import re\n",
    "import unicodedata\n",
    "import numpy as np\n",
    "import pandas as pd\n",
    "import tensorflow as tf\n",
    "from tensorflow.keras.layers import Embedding, GRU, Dense\n",
    "from tensorflow.keras.preprocessing.text import Tokenizer\n",
    "from tensorflow.keras.preprocessing.sequence import pad_sequences"
   ]
  },
  {
   "cell_type": "code",
   "execution_count": 15,
   "id": "86a5cbf3-a2de-4c3a-9103-98bb0a52ac4e",
   "metadata": {},
   "outputs": [],
   "source": [
    "def read_text(filename):\n",
    "    file = open(filename, mode='rt', encoding='utf-8')\n",
    "\n",
    "    text = file.read()\n",
    "    file.close()\n",
    "    return text"
   ]
  },
  {
   "cell_type": "code",
   "execution_count": 16,
   "id": "961fde6e-c87c-4998-98dc-618f250ff3c7",
   "metadata": {},
   "outputs": [],
   "source": [
    "def to_lines(text):\n",
    "    sents = text.strip().split('\\n')\n",
    "    sents = [i.split('\\t') for i in sents]\n",
    "    return sents"
   ]
  },
  {
   "cell_type": "code",
   "execution_count": 17,
   "id": "400041c6-d0d7-4cce-bf83-d947553a6458",
   "metadata": {},
   "outputs": [],
   "source": [
    "data = read_text('deu.txt')\n",
    "deu_eng = to_lines(data)\n",
    "deu_eng = np.array(deu_eng)"
   ]
  },
  {
   "cell_type": "code",
   "execution_count": 18,
   "id": "c4af3c3b-d040-463a-9e8b-1dd977b1f8b7",
   "metadata": {},
   "outputs": [
    {
     "data": {
      "text/plain": [
       "array([['Go.', 'Geh.',\n",
       "        'CC-BY 2.0 (France) Attribution: tatoeba.org #2877272 (CM) & #8597805 (Roujin)'],\n",
       "       ['Hi.', 'Hallo!',\n",
       "        'CC-BY 2.0 (France) Attribution: tatoeba.org #538123 (CM) & #380701 (cburgmer)'],\n",
       "       ['Hi.', 'Grüß Gott!',\n",
       "        'CC-BY 2.0 (France) Attribution: tatoeba.org #538123 (CM) & #659813 (Esperantostern)']],\n",
       "      dtype='<U537')"
      ]
     },
     "execution_count": 18,
     "metadata": {},
     "output_type": "execute_result"
    }
   ],
   "source": [
    "deu_eng = deu_eng[:60000, :]\n",
    "deu_eng[:3]"
   ]
  },
  {
   "cell_type": "code",
   "execution_count": 19,
   "id": "d92ed3ac-75cb-4a85-8c36-71e3cb44b355",
   "metadata": {},
   "outputs": [
    {
     "name": "stdout",
     "output_type": "stream",
     "text": [
      "[['Go' 'Geh']\n",
      " ['Hi' 'Hallo']\n",
      " ['Hi' 'Grüß Gott']\n",
      " ['Run' 'Lauf']\n",
      " ['Run' 'Lauf']]\n"
     ]
    }
   ],
   "source": [
    "import string\n",
    "\n",
    "# 구두점 제거\n",
    "deu_eng[:, 0] = [s.translate(str.maketrans('', '', string.punctuation)) for s in deu_eng[:, 0]]\n",
    "deu_eng[:, 1] = [s.translate(str.maketrans('', '', string.punctuation)) for s in deu_eng[:, 1]]\n",
    "\n",
    "print(deu_eng[:5, :2])"
   ]
  },
  {
   "cell_type": "code",
   "execution_count": 20,
   "id": "972cc9bf-f1b8-45b2-91df-8a61b67984d9",
   "metadata": {},
   "outputs": [],
   "source": [
    "# 소문자 변환\n",
    "for i in range(len(deu_eng)):\n",
    "    deu_eng[i, 0] = deu_eng[i, 0].lower()\n",
    "    deu_eng[i, 1] = deu_eng[i, 1].lower()"
   ]
  },
  {
   "cell_type": "code",
   "execution_count": 21,
   "id": "2e077f35-9914-442e-bef3-58cf2ba2b6d7",
   "metadata": {},
   "outputs": [
    {
     "data": {
      "image/png": "[encoded data removed]",
      "text/plain": [
       "<Figure size 640x480 with 2 Axes>"
      ]
     },
     "metadata": {},
     "output_type": "display_data"
    }
   ],
   "source": [
    "import matplotlib.pyplot as plt\n",
    "\n",
    "eng_1 = []\n",
    "deu_1 = []\n",
    "\n",
    "for i in deu_eng[:, 0]:\n",
    "    eng_1.append(len(i.split()))\n",
    "\n",
    "for i in deu_eng[:, 1]:\n",
    "    deu_1.append(len(i.split()))\n",
    "\n",
    "length_df = pd.DataFrame({'eng':eng_1, 'dey':deu_1})\n",
    "\n",
    "length_df.hist(bins=30)\n",
    "plt.show()"
   ]
  },
  {
   "cell_type": "code",
   "execution_count": 9,
   "id": "da53d3aa-c2aa-4f7e-8c7b-583c8fa7b913",
   "metadata": {},
   "outputs": [],
   "source": [
    "# 숙제\n",
    "# 토큰화 -> 패딩 -> train/test 분리\n",
    "# 인코더, 디코더 모델 설계 -> 학습 -> 결과"
   ]
  },
  {
   "cell_type": "code",
   "execution_count": 10,
   "id": "761d8198-ebe9-4135-ab62-9f4e6d1e09b8",
   "metadata": {},
   "outputs": [],
   "source": [
    "# tokenizer 초기화\n",
    "tokenizer_eng = Tokenizer()\n",
    "tokenizer_deu = Tokenizer()"
   ]
  },
  {
   "cell_type": "code",
   "execution_count": 11,
   "id": "16f75531-0697-4ef3-8872-1e14cd9853e7",
   "metadata": {},
   "outputs": [],
   "source": [
    "# 토큰화\n",
    "tokenizer_eng.fit_on_texts(deu_eng[:, 1])\n",
    "tokenizer_deu.fit_on_texts(deu_eng[:, 0])"
   ]
  },
  {
   "cell_type": "code",
   "execution_count": 12,
   "id": "6b4e1957-e0d7-4dc5-9e32-bd1794fad03c",
   "metadata": {},
   "outputs": [],
   "source": [
    "# 텍스트 -> 시퀀스 변환\n",
    "sequences_eng = tokenizer_eng.texts_to_sequences(deu_eng[:, 1])\n",
    "sequences_deu = tokenizer_deu.texts_to_sequences(deu_eng[:, 0])"
   ]
  },
  {
   "cell_type": "code",
   "execution_count": 100,
   "id": "f71ed2f5-1692-4bf4-abd9-38951d8b6c37",
   "metadata": {},
   "outputs": [],
   "source": [
    "# 최대 시퀀스 길이(패딩 적용을 위한 사전준비)\n",
    "max_len_eng = max([len(l) for l in sequences_eng])\n",
    "max_len_deu = max([len(l) for l in sequences_deu])"
   ]
  },
  {
   "cell_type": "code",
   "execution_count": 101,
   "id": "30b4ca24-a098-4931-87af-681fe5840997",
   "metadata": {},
   "outputs": [],
   "source": [
    "# 패딩\n",
    "padded_eng = pad_sequences(sequences_eng, maxlen=max_len_eng, padding='post')\n",
    "padded_deu = pad_sequences(sequences_deu, maxlen=max_len_deu, padding='post')"
   ]
  },
  {
   "cell_type": "code",
   "execution_count": 102,
   "id": "40b40b8c-966f-4d35-be8c-ebbc21f1ed08",
   "metadata": {},
   "outputs": [
    {
     "name": "stdout",
     "output_type": "stream",
     "text": [
      "(60000, 17) (60000, 7)\n"
     ]
    }
   ],
   "source": [
    "print(padded_eng.shape, padded_deu.shape)"
   ]
  },
  {
   "cell_type": "code",
   "execution_count": 103,
   "id": "659fc9a9-85f8-42ae-b660-f2654735dd90",
   "metadata": {},
   "outputs": [],
   "source": [
    "# train/test 분리\n",
    "from sklearn.model_selection import train_test_split\n",
    "\n",
    "X_train, X_test, y_train, y_test = train_test_split(padded_deu, padded_eng, test_size=0.2, random_state=42)"
   ]
  },
  {
   "cell_type": "code",
   "execution_count": 104,
   "id": "e6cc0876-6ce2-4d75-878e-cd4cc64520ce",
   "metadata": {},
   "outputs": [
    {
     "name": "stdout",
     "output_type": "stream",
     "text": [
      "(48000, 7) (12000, 7)\n",
      "(48000, 17) (12000, 17)\n"
     ]
    }
   ],
   "source": [
    "print(X_train.shape, X_test.shape)\n",
    "print(y_train.shape, y_test.shape)"
   ]
  },
  {
   "cell_type": "code",
   "execution_count": 105,
   "id": "cb58b38b-f430-4f67-ad86-263e099bca3e",
   "metadata": {},
   "outputs": [],
   "source": [
    "# 디코더 입력/목표 데이터 준비\n",
    "decoder_input_train = y_train[:, :-1]\n",
    "decoder_target_train = y_train[:, 1:]\n",
    "\n",
    "decoder_input_test = y_test[:, :-1]\n",
    "decoder_target_test = y_test[:, 1:]"
   ]
  },
  {
   "cell_type": "code",
   "execution_count": 106,
   "id": "bf1f3bb9-53a4-44f5-b10f-98c64ff9b140",
   "metadata": {},
   "outputs": [],
   "source": [
    "decoder_target_train = np.expand_dims(decoder_target_train, -1)\n",
    "decoder_target_test = np.expand_dims(decoder_target_test, -1)"
   ]
  },
  {
   "cell_type": "code",
   "execution_count": 107,
   "id": "acd046ba-1b3a-4ad4-8d08-6ad3dc891d35",
   "metadata": {},
   "outputs": [
    {
     "name": "stdout",
     "output_type": "stream",
     "text": [
      "(48000, 7)\n"
     ]
    }
   ],
   "source": [
    "print(X_train.shape)"
   ]
  },
  {
   "cell_type": "code",
   "execution_count": 108,
   "id": "25d37a6a-20f5-4539-a11f-84fe9551bedf",
   "metadata": {},
   "outputs": [
    {
     "name": "stdout",
     "output_type": "stream",
     "text": [
      "(48000, 16)\n"
     ]
    }
   ],
   "source": [
    "print(decoder_input_train.shape)"
   ]
  },
  {
   "cell_type": "code",
   "execution_count": 109,
   "id": "c6a3d91b-5eb7-44d8-9b7c-37c7387bdd78",
   "metadata": {},
   "outputs": [
    {
     "name": "stdout",
     "output_type": "stream",
     "text": [
      "(48000, 16, 1)\n"
     ]
    }
   ],
   "source": [
    "print(decoder_target_train.shape)"
   ]
  },
  {
   "cell_type": "code",
   "execution_count": 110,
   "id": "d2346f2f-2c9e-4de3-9d94-ae5017f3c442",
   "metadata": {},
   "outputs": [],
   "source": [
    "import warnings\n",
    "warnings.filterwarnings(action='ignore')"
   ]
  },
  {
   "cell_type": "code",
   "execution_count": 111,
   "id": "9b42fc1c-4426-4239-8acc-d2c4feb0c58e",
   "metadata": {},
   "outputs": [
    {
     "name": "stderr",
     "output_type": "stream",
     "text": [
      "2024-07-15 22:52:38.838151: I tensorflow/core/common_runtime/executor.cc:1197] [/device:CPU:0] (DEBUG INFO) Executor start aborting (this does not indicate an error and you can ignore this message): INVALID_ARGUMENT: You must feed a value for placeholder tensor 'gradients/split_2_grad/concat/split_2/split_dim' with dtype int32\n",
      "\t [[{{node gradients/split_2_grad/concat/split_2/split_dim}}]]\n",
      "2024-07-15 22:52:38.838733: I tensorflow/core/common_runtime/executor.cc:1197] [/device:CPU:0] (DEBUG INFO) Executor start aborting (this does not indicate an error and you can ignore this message): INVALID_ARGUMENT: You must feed a value for placeholder tensor 'gradients/split_grad/concat/split/split_dim' with dtype int32\n",
      "\t [[{{node gradients/split_grad/concat/split/split_dim}}]]\n",
      "2024-07-15 22:52:38.839267: I tensorflow/core/common_runtime/executor.cc:1197] [/device:CPU:0] (DEBUG INFO) Executor start aborting (this does not indicate an error and you can ignore this message): INVALID_ARGUMENT: You must feed a value for placeholder tensor 'gradients/split_1_grad/concat/split_1/split_dim' with dtype int32\n",
      "\t [[{{node gradients/split_1_grad/concat/split_1/split_dim}}]]\n",
      "2024-07-15 22:52:39.006745: I tensorflow/core/common_runtime/executor.cc:1197] [/device:CPU:0] (DEBUG INFO) Executor start aborting (this does not indicate an error and you can ignore this message): INVALID_ARGUMENT: You must feed a value for placeholder tensor 'gradients/split_2_grad/concat/split_2/split_dim' with dtype int32\n",
      "\t [[{{node gradients/split_2_grad/concat/split_2/split_dim}}]]\n",
      "2024-07-15 22:52:39.007390: I tensorflow/core/common_runtime/executor.cc:1197] [/device:CPU:0] (DEBUG INFO) Executor start aborting (this does not indicate an error and you can ignore this message): INVALID_ARGUMENT: You must feed a value for placeholder tensor 'gradients/split_grad/concat/split/split_dim' with dtype int32\n",
      "\t [[{{node gradients/split_grad/concat/split/split_dim}}]]\n",
      "2024-07-15 22:52:39.007946: I tensorflow/core/common_runtime/executor.cc:1197] [/device:CPU:0] (DEBUG INFO) Executor start aborting (this does not indicate an error and you can ignore this message): INVALID_ARGUMENT: You must feed a value for placeholder tensor 'gradients/split_1_grad/concat/split_1/split_dim' with dtype int32\n",
      "\t [[{{node gradients/split_1_grad/concat/split_1/split_dim}}]]\n"
     ]
    }
   ],
   "source": [
    "# 인코더/디코더 모델 설계\n",
    "import tensorflow as tf\n",
    "from tensorflow.keras.layers import Input, Embedding, Dense, GRU\n",
    "\n",
    "embedding_dim = 256\n",
    "units = 512\n",
    "vocab_size_deu = len(tokenizer_deu.word_index)+1\n",
    "vocab_size_eng = len(tokenizer_eng.word_index)+1\n",
    "\n",
    "encoder_inputs = tf.keras.Input(shape=(None,))\n",
    "encoder_embedding = Embedding(vocab_size_deu, embedding_dim)(encoder_inputs)\n",
    "encoder_gru = GRU(units, return_state=True)\n",
    "encoder_outputs, encoder_state = encoder_gru(encoder_embedding)\n",
    "\n",
    "decoder_inputs = tf.keras.Input(shape=(None,))\n",
    "decoder_embedding = Embedding(vocab_size_eng, embedding_dim)(decoder_inputs)\n",
    "decoder_gru = GRU(units, return_sequences=True, return_state=True)\n",
    "decoder_outputs, _ = decoder_gru(decoder_embedding, initial_state=encoder_state)\n",
    "\n",
    "decoder_dense = Dense(vocab_size_eng, activation='softmax')\n",
    "decoder_outputs = decoder_dense(decoder_outputs)"
   ]
  },
  {
   "cell_type": "code",
   "execution_count": 112,
   "id": "77f45c5d-a1a4-4c21-8702-6745f6949e12",
   "metadata": {},
   "outputs": [],
   "source": [
    "model = tf.keras.Model([encoder_inputs, decoder_inputs], decoder_outputs)"
   ]
  },
  {
   "cell_type": "code",
   "execution_count": 113,
   "id": "cf956a62-6b23-4aab-8bbf-79d7ceb132e5",
   "metadata": {},
   "outputs": [],
   "source": [
    "model.compile(optimizer='adam', loss='sparse_categorical_crossentropy', metrics=['acc'])"
   ]
  },
  {
   "cell_type": "code",
   "execution_count": 114,
   "id": "7ab68f8c-c0aa-4a4c-99f5-b71b70e7cb80",
   "metadata": {},
   "outputs": [
    {
     "name": "stdout",
     "output_type": "stream",
     "text": [
      "Model: \"model_4\"\n",
      "__________________________________________________________________________________________________\n",
      " Layer (type)                   Output Shape         Param #     Connected to                     \n",
      "==================================================================================================\n",
      " input_13 (InputLayer)          [(None, None)]       0           []                               \n",
      "                                                                                                  \n",
      " input_14 (InputLayer)          [(None, None)]       0           []                               \n",
      "                                                                                                  \n",
      " embedding_12 (Embedding)       (None, None, 256)    1770240     ['input_13[0][0]']               \n",
      "                                                                                                  \n",
      " embedding_13 (Embedding)       (None, None, 256)    2986240     ['input_14[0][0]']               \n",
      "                                                                                                  \n",
      " gru_12 (GRU)                   [(None, 512),        1182720     ['embedding_12[0][0]']           \n",
      "                                 (None, 512)]                                                     \n",
      "                                                                                                  \n",
      " gru_13 (GRU)                   [(None, None, 512),  1182720     ['embedding_13[0][0]',           \n",
      "                                 (None, 512)]                     'gru_12[0][1]']                 \n",
      "                                                                                                  \n",
      " dense_6 (Dense)                (None, None, 11665)  5984145     ['gru_13[0][0]']                 \n",
      "                                                                                                  \n",
      "==================================================================================================\n",
      "Total params: 13,106,065\n",
      "Trainable params: 13,106,065\n",
      "Non-trainable params: 0\n",
      "__________________________________________________________________________________________________\n"
     ]
    }
   ],
   "source": [
    "model.summary()"
   ]
  },
  {
   "cell_type": "code",
   "execution_count": 115,
   "id": "a4a4a043-e47d-4abe-8371-a6e50f32985e",
   "metadata": {},
   "outputs": [],
   "source": [
    "from tensorflow.keras.callbacks import EarlyStopping, ModelCheckpoint\n",
    "\n",
    "es = EarlyStopping(monitor='val_loss', mode='min', verbose=1, patience=3)\n",
    "mc = ModelCheckpoint('best_model.h5', monitor='val_acc', mode='max', verbose=1, save_best_only=True)"
   ]
  },
  {
   "cell_type": "code",
   "execution_count": 117,
   "id": "e7ab68ca-bdb7-43c1-8a6f-ccc71c70631f",
   "metadata": {},
   "outputs": [
    {
     "name": "stdout",
     "output_type": "stream",
     "text": [
      "Epoch 1/10\n",
      "375/375 [==============================] - ETA: 0s - loss: 1.3937 - acc: 0.8099"
     ]
    },
    {
     "name": "stderr",
     "output_type": "stream",
     "text": [
      "2024-07-15 22:59:36.147984: I tensorflow/core/common_runtime/executor.cc:1197] [/device:CPU:0] (DEBUG INFO) Executor start aborting (this does not indicate an error and you can ignore this message): INVALID_ARGUMENT: You must feed a value for placeholder tensor 'gradients/split_2_grad/concat/split_2/split_dim' with dtype int32\n",
      "\t [[{{node gradients/split_2_grad/concat/split_2/split_dim}}]]\n",
      "2024-07-15 22:59:36.148629: I tensorflow/core/common_runtime/executor.cc:1197] [/device:CPU:0] (DEBUG INFO) Executor start aborting (this does not indicate an error and you can ignore this message): INVALID_ARGUMENT: You must feed a value for placeholder tensor 'gradients/split_grad/concat/split/split_dim' with dtype int32\n",
      "\t [[{{node gradients/split_grad/concat/split/split_dim}}]]\n",
      "2024-07-15 22:59:36.149404: I tensorflow/core/common_runtime/executor.cc:1197] [/device:CPU:0] (DEBUG INFO) Executor start aborting (this does not indicate an error and you can ignore this message): INVALID_ARGUMENT: You must feed a value for placeholder tensor 'gradients/split_1_grad/concat/split_1/split_dim' with dtype int32\n",
      "\t [[{{node gradients/split_1_grad/concat/split_1/split_dim}}]]\n",
      "2024-07-15 22:59:36.226851: I tensorflow/core/common_runtime/executor.cc:1197] [/device:CPU:0] (DEBUG INFO) Executor start aborting (this does not indicate an error and you can ignore this message): INVALID_ARGUMENT: You must feed a value for placeholder tensor 'gradients/split_2_grad/concat/split_2/split_dim' with dtype int32\n",
      "\t [[{{node gradients/split_2_grad/concat/split_2/split_dim}}]]\n",
      "2024-07-15 22:59:36.227464: I tensorflow/core/common_runtime/executor.cc:1197] [/device:CPU:0] (DEBUG INFO) Executor start aborting (this does not indicate an error and you can ignore this message): INVALID_ARGUMENT: You must feed a value for placeholder tensor 'gradients/split_grad/concat/split/split_dim' with dtype int32\n",
      "\t [[{{node gradients/split_grad/concat/split/split_dim}}]]\n",
      "2024-07-15 22:59:36.228010: I tensorflow/core/common_runtime/executor.cc:1197] [/device:CPU:0] (DEBUG INFO) Executor start aborting (this does not indicate an error and you can ignore this message): INVALID_ARGUMENT: You must feed a value for placeholder tensor 'gradients/split_1_grad/concat/split_1/split_dim' with dtype int32\n",
      "\t [[{{node gradients/split_1_grad/concat/split_1/split_dim}}]]\n"
     ]
    },
    {
     "name": "stdout",
     "output_type": "stream",
     "text": [
      "\n",
      "Epoch 1: val_acc improved from -inf to 0.81651, saving model to best_model.h5\n",
      "375/375 [==============================] - 431s 1s/step - loss: 1.3937 - acc: 0.8099 - val_loss: 1.2654 - val_acc: 0.8165\n",
      "Epoch 2/10\n",
      "375/375 [==============================] - ETA: 0s - loss: 1.1194 - acc: 0.8300\n",
      "Epoch 2: val_acc improved from 0.81651 to 0.84110, saving model to best_model.h5\n",
      "375/375 [==============================] - 388s 1s/step - loss: 1.1194 - acc: 0.8300 - val_loss: 1.0334 - val_acc: 0.8411\n",
      "Epoch 3/10\n",
      "375/375 [==============================] - ETA: 0s - loss: 0.8643 - acc: 0.8560\n",
      "Epoch 3: val_acc improved from 0.84110 to 0.86617, saving model to best_model.h5\n",
      "375/375 [==============================] - 352s 939ms/step - loss: 0.8643 - acc: 0.8560 - val_loss: 0.8182 - val_acc: 0.8662\n",
      "Epoch 4/10\n",
      "375/375 [==============================] - ETA: 0s - loss: 0.6318 - acc: 0.8828\n",
      "Epoch 4: val_acc improved from 0.86617 to 0.88752, saving model to best_model.h5\n",
      "375/375 [==============================] - 360s 961ms/step - loss: 0.6318 - acc: 0.8828 - val_loss: 0.6689 - val_acc: 0.8875\n",
      "Epoch 5/10\n",
      "375/375 [==============================] - ETA: 0s - loss: 0.4553 - acc: 0.9067\n",
      "Epoch 5: val_acc improved from 0.88752 to 0.90069, saving model to best_model.h5\n",
      "375/375 [==============================] - 374s 996ms/step - loss: 0.4553 - acc: 0.9067 - val_loss: 0.5877 - val_acc: 0.9007\n",
      "Epoch 6/10\n",
      "375/375 [==============================] - ETA: 0s - loss: 0.3320 - acc: 0.9260\n",
      "Epoch 6: val_acc improved from 0.90069 to 0.90898, saving model to best_model.h5\n",
      "375/375 [==============================] - 520s 1s/step - loss: 0.3320 - acc: 0.9260 - val_loss: 0.5471 - val_acc: 0.9090\n",
      "Epoch 7/10\n",
      "375/375 [==============================] - ETA: 0s - loss: 0.2494 - acc: 0.9418\n",
      "Epoch 7: val_acc improved from 0.90898 to 0.91367, saving model to best_model.h5\n",
      "375/375 [==============================] - 513s 1s/step - loss: 0.2494 - acc: 0.9418 - val_loss: 0.5232 - val_acc: 0.9137\n",
      "Epoch 8/10\n",
      "375/375 [==============================] - ETA: 0s - loss: 0.1926 - acc: 0.9535\n",
      "Epoch 8: val_acc improved from 0.91367 to 0.91690, saving model to best_model.h5\n",
      "375/375 [==============================] - 689s 2s/step - loss: 0.1926 - acc: 0.9535 - val_loss: 0.5138 - val_acc: 0.9169\n",
      "Epoch 9/10\n",
      "375/375 [==============================] - ETA: 0s - loss: 0.1532 - acc: 0.9621\n",
      "Epoch 9: val_acc improved from 0.91690 to 0.91901, saving model to best_model.h5\n",
      "375/375 [==============================] - 408s 1s/step - loss: 0.1532 - acc: 0.9621 - val_loss: 0.5090 - val_acc: 0.9190\n",
      "Epoch 10/10\n",
      "375/375 [==============================] - ETA: 0s - loss: 0.1245 - acc: 0.9686\n",
      "Epoch 10: val_acc improved from 0.91901 to 0.91998, saving model to best_model.h5\n",
      "375/375 [==============================] - 381s 1s/step - loss: 0.1245 - acc: 0.9686 - val_loss: 0.5092 - val_acc: 0.9200\n"
     ]
    }
   ],
   "source": [
    "history = model.fit(x=[X_train, decoder_input_train], y=decoder_target_train, batch_size=128, epochs=10, \n",
    "    validation_data=([X_test, decoder_input_test], decoder_target_test), callbacks=[es, mc])"
   ]
  },
  {
   "cell_type": "code",
   "execution_count": 118,
   "id": "25d5e9d5-5ed6-4c91-bfc1-64e358289eba",
   "metadata": {},
   "outputs": [
    {
     "name": "stdout",
     "output_type": "stream",
     "text": [
      "375/375 [==============================] - 39s 105ms/step - loss: 0.5092 - acc: 0.9200\n",
      "Test loss: [0.5092310905456543, 0.9199844002723694]\n"
     ]
    }
   ],
   "source": [
    "# 모델 평가\n",
    "loss = model.evaluate([X_test, decoder_input_test], decoder_target_test)\n",
    "print(f'Test loss: {loss}')"
   ]
  },
  {
   "cell_type": "code",
   "execution_count": 13,
   "id": "af3e15b7-4bad-49fc-be2f-913aa0d77062",
   "metadata": {},
   "outputs": [],
   "source": [
    "# 강사님 코드"
   ]
  },
  {
   "cell_type": "code",
   "execution_count": 24,
   "id": "1bb00eb9-b2a7-489a-b151-53339103e449",
   "metadata": {},
   "outputs": [
    {
     "data": {
      "text/plain": [
       "array(['go', 'hi', 'hi', ..., 'tom can sing very well',\n",
       "       'tom can swim very fast', 'tom can swim very well'], dtype='<U537')"
      ]
     },
     "execution_count": 24,
     "metadata": {},
     "output_type": "execute_result"
    }
   ],
   "source": [
    "deu_eng[:,0]"
   ]
  },
  {
   "cell_type": "code",
   "execution_count": 23,
   "id": "bc1cedb1-1270-40f1-b171-5895a9e286d7",
   "metadata": {},
   "outputs": [
    {
     "data": {
      "text/plain": [
       "array(['geh', 'hallo', 'grüß gott', ..., 'tom kann sehr gut singen',\n",
       "       'tom kann sehr schnell schwimmen', 'tom kann sehr gut schwimmen'],\n",
       "      dtype='<U537')"
      ]
     },
     "execution_count": 23,
     "metadata": {},
     "output_type": "execute_result"
    }
   ],
   "source": [
    "deu_eng[:,1]"
   ]
  },
  {
   "cell_type": "code",
   "execution_count": 25,
   "id": "55e7e23d-e3b0-449c-9e00-924884553881",
   "metadata": {},
   "outputs": [],
   "source": [
    "# deu_eng : 독일어와 영어가 섞여있는 변수"
   ]
  },
  {
   "cell_type": "code",
   "execution_count": 31,
   "id": "efa5d7e7-fc89-468d-b5a9-8cae6fbcd345",
   "metadata": {},
   "outputs": [],
   "source": [
    "from keras.models import Sequential\n",
    "from keras.layers import Dense, LSTM, Embedding, RepeatVector\n",
    "from tensorflow.keras.preprocessing.text import Tokenizer\n",
    "from keras.callbacks import ModelCheckpoint\n",
    "from tensorflow.keras.preprocessing.sequence import pad_sequences\n",
    "from keras import optimizers"
   ]
  },
  {
   "cell_type": "code",
   "execution_count": 32,
   "id": "6a864e51-70e9-4884-b20b-dbb8e75e027a",
   "metadata": {},
   "outputs": [],
   "source": [
    "def tokenization(lines):\n",
    "    tokenizer = Tokenizer()\n",
    "    tokenizer.fit_on_texts(lines)\n",
    "    return tokenizer"
   ]
  },
  {
   "cell_type": "code",
   "execution_count": 33,
   "id": "8a38e269-f099-4699-b811-ef1cf977eebe",
   "metadata": {},
   "outputs": [
    {
     "name": "stdout",
     "output_type": "stream",
     "text": [
      "English Voabulary Size :  6915\n"
     ]
    }
   ],
   "source": [
    "eng_tokenizer = tokenization(deu_eng[:,0])\n",
    "eng_vocab_size = len(eng_tokenizer.word_index)+1\n",
    "\n",
    "print('English Voabulary Size : ', eng_vocab_size)"
   ]
  },
  {
   "cell_type": "code",
   "execution_count": 34,
   "id": "0ae5894d-2554-4b25-8fa6-63381823056b",
   "metadata": {},
   "outputs": [
    {
     "name": "stdout",
     "output_type": "stream",
     "text": [
      "Deutch Vocabulary Size :  11665\n"
     ]
    }
   ],
   "source": [
    "deu_tokenizer = tokenization(deu_eng[:,1])\n",
    "deu_vocab_size = len(deu_tokenizer.word_index)+1\n",
    "\n",
    "print('Deutch Vocabulary Size : ', deu_vocab_size)"
   ]
  },
  {
   "cell_type": "code",
   "execution_count": 38,
   "id": "9d6d2f40-29fc-47c6-bab9-cee0a8d51690",
   "metadata": {},
   "outputs": [],
   "source": [
    "def encode_sequences(tokenizer, length, lines):\n",
    "    seq = tokenizer.texts_to_sequences(lines)\n",
    "    seq = pad_sequences(seq, maxlen=length, padding='post')\n",
    "    return seq"
   ]
  },
  {
   "cell_type": "code",
   "execution_count": 39,
   "id": "84fc9da1-b513-4f55-96f6-bc109b5ad143",
   "metadata": {},
   "outputs": [],
   "source": [
    "from sklearn.model_selection import train_test_split\n",
    "\n",
    "train, test = train_test_split(deu_eng, test_size=0.2, random_state=42)\n",
    "#X_train, X_test, y_train, y_test = train_test_split(deu_eng[:,0], deu_eng[:,1], test_size=0.2, random_state=42)"
   ]
  },
  {
   "cell_type": "code",
   "execution_count": 40,
   "id": "702177e5-bb7f-447a-915a-63500c886be4",
   "metadata": {},
   "outputs": [],
   "source": [
    "# 어떤 것을 학습시켜서 어떤 것을 예측할 것인가\n",
    "deu_length = 10\n",
    "eng_length = 8\n",
    "\n",
    "X_train = encode_sequences(deu_tokenizer, deu_length, train[:,1])\n",
    "y_train = encode_sequences(eng_tokenizer, eng_length, train[:,0])\n",
    "\n",
    "X_test = encode_sequences(deu_tokenizer, deu_length, test[:,1])\n",
    "y_test = encode_sequences(eng_tokenizer, eng_length, test[:,0])"
   ]
  },
  {
   "cell_type": "code",
   "execution_count": 41,
   "id": "bc57deb8-27e2-41fa-bf3d-b22cd65524de",
   "metadata": {},
   "outputs": [
    {
     "name": "stdout",
     "output_type": "stream",
     "text": [
      "(48000, 10) (12000, 10)\n",
      "(48000, 8) (12000, 8)\n"
     ]
    }
   ],
   "source": [
    "print(X_train.shape, X_test.shape)\n",
    "print(y_train.shape, y_test.shape)"
   ]
  },
  {
   "cell_type": "code",
   "execution_count": 46,
   "id": "ce58782e-3347-4e05-b12c-d91f0834ca28",
   "metadata": {},
   "outputs": [],
   "source": [
    "# 디코더 입력/목표 데이터 준비\n",
    "decoder_input_train = y_train[:, :-1]\n",
    "decoder_target_train = y_train[:, 1:]\n",
    "\n",
    "decoder_input_test = y_test[:, :-1]\n",
    "decoder_target_test = y_test[:, 1:]"
   ]
  },
  {
   "cell_type": "code",
   "execution_count": 47,
   "id": "07c4df69-ac8d-4ff6-8dde-882ca81d0878",
   "metadata": {},
   "outputs": [
    {
     "data": {
      "text/plain": [
       "array([[  44,  143,   10,    2,  356,    3,    0],\n",
       "       [  36,   72, 4451,    0,    0,    0,    0],\n",
       "       [   1,   41, 1618,    0,    0,    0,    0]], dtype=int32)"
      ]
     },
     "execution_count": 47,
     "metadata": {},
     "output_type": "execute_result"
    }
   ],
   "source": [
    "decoder_input_train[:3]"
   ]
  },
  {
   "cell_type": "code",
   "execution_count": 48,
   "id": "23303156-eaac-492c-b8a2-1f3683b3fca5",
   "metadata": {},
   "outputs": [
    {
     "data": {
      "text/plain": [
       "array([[ 143,   10,    2,  356,    3,    0,    0],\n",
       "       [  72, 4451,    0,    0,    0,    0,    0],\n",
       "       [  41, 1618,    0,    0,    0,    0,    0]], dtype=int32)"
      ]
     },
     "execution_count": 48,
     "metadata": {},
     "output_type": "execute_result"
    }
   ],
   "source": [
    "decoder_target_train[:3]"
   ]
  },
  {
   "cell_type": "code",
   "execution_count": 49,
   "id": "69e3c63d-d8ff-42a5-af13-6247432fad06",
   "metadata": {},
   "outputs": [
    {
     "data": {
      "text/plain": [
       "array([[  44,  143,   10,    2,  356,    3,    0,    0],\n",
       "       [  36,   72, 4451,    0,    0,    0,    0,    0],\n",
       "       [   1,   41, 1618,    0,    0,    0,    0,    0]], dtype=int32)"
      ]
     },
     "execution_count": 49,
     "metadata": {},
     "output_type": "execute_result"
    }
   ],
   "source": [
    "y_train[:3]"
   ]
  },
  {
   "cell_type": "code",
   "execution_count": 50,
   "id": "ef527fe3-15cb-492d-b8f8-163943e55fd1",
   "metadata": {},
   "outputs": [
    {
     "name": "stdout",
     "output_type": "stream",
     "text": [
      "(48000, 7) (48000, 7)\n",
      "(12000, 7) (12000, 7)\n"
     ]
    }
   ],
   "source": [
    "print(decoder_input_train.shape, decoder_target_train.shape)\n",
    "print(decoder_input_test.shape, decoder_target_test.shape)"
   ]
  },
  {
   "cell_type": "code",
   "execution_count": 51,
   "id": "d8ab3081-30a4-4f2b-8825-dc18e75567d4",
   "metadata": {},
   "outputs": [],
   "source": [
    "import numpy as np\n",
    "\n",
    "sos_token = 1\n",
    "eos_token = 2\n",
    "\n",
    "def add_tokens(y, sos_token, eos_token):\n",
    "    sos = np.full((y.shape[0], 1), sos_token)\n",
    "    eos = np.full((y.shape[0], 1), eos_token)\n",
    "\n",
    "    y = np.concatenate([sos, y, eos], axis=1)\n",
    "    return y"
   ]
  },
  {
   "cell_type": "code",
   "execution_count": 52,
   "id": "9a0e4218-21ec-407a-a495-1a91f9bdd408",
   "metadata": {},
   "outputs": [
    {
     "name": "stdout",
     "output_type": "stream",
     "text": [
      "(48000, 10)\n"
     ]
    }
   ],
   "source": [
    "decoder_input = add_tokens(y_train, sos_token, eos_token)\n",
    "\n",
    "print(decoder_input.shape)"
   ]
  },
  {
   "cell_type": "code",
   "execution_count": 53,
   "id": "da06881b-8fbb-43f4-87f2-77ffc4a97b1a",
   "metadata": {},
   "outputs": [
    {
     "data": {
      "text/plain": [
       "array([[   1,   44,  143, ...,    0,    0,    2],\n",
       "       [   1,   36,   72, ...,    0,    0,    2],\n",
       "       [   1,    1,   41, ...,    0,    0,    2],\n",
       "       ...,\n",
       "       [   1,   11, 1220, ...,    0,    0,    2],\n",
       "       [   1,   12,    4, ...,    0,    0,    2],\n",
       "       [   1,    2,   45, ...,    0,    0,    2]])"
      ]
     },
     "execution_count": 53,
     "metadata": {},
     "output_type": "execute_result"
    }
   ],
   "source": [
    "decoder_input"
   ]
  },
  {
   "cell_type": "code",
   "execution_count": 57,
   "id": "884f046e-7217-48e6-9efb-69961a8b9dc1",
   "metadata": {},
   "outputs": [],
   "source": [
    "from tensorflow.keras.layers import Input, Embedding, LSTM\n",
    "import tensorflow as tf\n",
    "\n",
    "embedding_dim = 64\n",
    "hidden_units = 64"
   ]
  },
  {
   "cell_type": "code",
   "execution_count": 58,
   "id": "a98675bd-ad00-4190-ac69-67a3d319567b",
   "metadata": {},
   "outputs": [
    {
     "name": "stderr",
     "output_type": "stream",
     "text": [
      "2024-07-16 10:28:19.470372: I tensorflow/core/common_runtime/executor.cc:1197] [/device:CPU:0] (DEBUG INFO) Executor start aborting (this does not indicate an error and you can ignore this message): INVALID_ARGUMENT: You must feed a value for placeholder tensor 'gradients/split_2_grad/concat/split_2/split_dim' with dtype int32\n",
      "\t [[{{node gradients/split_2_grad/concat/split_2/split_dim}}]]\n",
      "2024-07-16 10:28:19.471720: I tensorflow/core/common_runtime/executor.cc:1197] [/device:CPU:0] (DEBUG INFO) Executor start aborting (this does not indicate an error and you can ignore this message): INVALID_ARGUMENT: You must feed a value for placeholder tensor 'gradients/split_grad/concat/split/split_dim' with dtype int32\n",
      "\t [[{{node gradients/split_grad/concat/split/split_dim}}]]\n",
      "2024-07-16 10:28:19.472488: I tensorflow/core/common_runtime/executor.cc:1197] [/device:CPU:0] (DEBUG INFO) Executor start aborting (this does not indicate an error and you can ignore this message): INVALID_ARGUMENT: You must feed a value for placeholder tensor 'gradients/split_1_grad/concat/split_1/split_dim' with dtype int32\n",
      "\t [[{{node gradients/split_1_grad/concat/split_1/split_dim}}]]\n"
     ]
    }
   ],
   "source": [
    "encoder_inputs = Input(shape=(None,))\n",
    "enc_emb = Embedding(deu_vocab_size, embedding_dim)(encoder_inputs)\n",
    "encoder_lstm = LSTM(hidden_units, return_state=True)\n",
    "encoder_outputs, state_h, state_c = encoder_lstm(enc_emb)\n",
    "encoder_states = [state_h, state_c]"
   ]
  },
  {
   "cell_type": "code",
   "execution_count": 61,
   "id": "7fd69fe2-22f2-47d5-8760-d3f3bb76232b",
   "metadata": {},
   "outputs": [
    {
     "name": "stderr",
     "output_type": "stream",
     "text": [
      "2024-07-16 10:32:07.674385: I tensorflow/core/common_runtime/executor.cc:1197] [/device:CPU:0] (DEBUG INFO) Executor start aborting (this does not indicate an error and you can ignore this message): INVALID_ARGUMENT: You must feed a value for placeholder tensor 'gradients/split_2_grad/concat/split_2/split_dim' with dtype int32\n",
      "\t [[{{node gradients/split_2_grad/concat/split_2/split_dim}}]]\n",
      "2024-07-16 10:32:07.675212: I tensorflow/core/common_runtime/executor.cc:1197] [/device:CPU:0] (DEBUG INFO) Executor start aborting (this does not indicate an error and you can ignore this message): INVALID_ARGUMENT: You must feed a value for placeholder tensor 'gradients/split_grad/concat/split/split_dim' with dtype int32\n",
      "\t [[{{node gradients/split_grad/concat/split/split_dim}}]]\n",
      "2024-07-16 10:32:07.676018: I tensorflow/core/common_runtime/executor.cc:1197] [/device:CPU:0] (DEBUG INFO) Executor start aborting (this does not indicate an error and you can ignore this message): INVALID_ARGUMENT: You must feed a value for placeholder tensor 'gradients/split_1_grad/concat/split_1/split_dim' with dtype int32\n",
      "\t [[{{node gradients/split_1_grad/concat/split_1/split_dim}}]]\n"
     ]
    }
   ],
   "source": [
    "decoder_inputs = Input(shape=(None,))\n",
    "dec_emb_layer = Embedding(eng_vocab_size, hidden_units)\n",
    "dec_emb = dec_emb_layer(decoder_inputs)\n",
    "decoder_lstm = LSTM(hidden_units, return_sequences=True, return_state=True)\n",
    "decoder_outputs, _, _ = decoder_lstm(dec_emb, initial_state=encoder_states)\n",
    "\n",
    "decoder_dense = Dense(eng_vocab_size, activation='softmax')\n",
    "decoder_outputs = decoder_dense(decoder_outputs)"
   ]
  },
  {
   "cell_type": "code",
   "execution_count": 62,
   "id": "30792668-fb2e-487c-a96a-28031c97d927",
   "metadata": {},
   "outputs": [],
   "source": [
    "model = tf.keras.Model([encoder_inputs, decoder_inputs], decoder_outputs)"
   ]
  },
  {
   "cell_type": "code",
   "execution_count": 63,
   "id": "fcd77e0d-da01-4ba3-852d-b917314bbb8e",
   "metadata": {},
   "outputs": [],
   "source": [
    "model.compile(optimizer='adam', loss='sparse_categorical_crossentropy', metrics=['acc'])"
   ]
  },
  {
   "cell_type": "code",
   "execution_count": 65,
   "id": "cfbbf178-cec5-471f-b140-6991bad87cae",
   "metadata": {},
   "outputs": [],
   "source": [
    "from tensorflow.keras.callbacks import EarlyStopping, ModelCheckpoint\n",
    "\n",
    "es = EarlyStopping(monitor='val_loss', mode='min', verbose=1, patience=3)\n",
    "mc = ModelCheckpoint('best_model.h5', monitor='val_acc', mode='max', verbose=1, save_best_only=True)"
   ]
  },
  {
   "cell_type": "code",
   "execution_count": 66,
   "id": "0c129859-9dbd-44b4-8137-ea0d9c2f5ce9",
   "metadata": {},
   "outputs": [
    {
     "name": "stdout",
     "output_type": "stream",
     "text": [
      "Epoch 1/10\n"
     ]
    },
    {
     "name": "stderr",
     "output_type": "stream",
     "text": [
      "2024-07-16 10:35:40.929865: W tensorflow/tsl/platform/profile_utils/cpu_utils.cc:128] Failed to get CPU frequency: 0 Hz\n",
      "2024-07-16 10:35:41.064420: I tensorflow/core/common_runtime/executor.cc:1197] [/device:CPU:0] (DEBUG INFO) Executor start aborting (this does not indicate an error and you can ignore this message): INVALID_ARGUMENT: You must feed a value for placeholder tensor 'gradients/split_2_grad/concat/split_2/split_dim' with dtype int32\n",
      "\t [[{{node gradients/split_2_grad/concat/split_2/split_dim}}]]\n",
      "2024-07-16 10:35:41.065233: I tensorflow/core/common_runtime/executor.cc:1197] [/device:CPU:0] (DEBUG INFO) Executor start aborting (this does not indicate an error and you can ignore this message): INVALID_ARGUMENT: You must feed a value for placeholder tensor 'gradients/split_grad/concat/split/split_dim' with dtype int32\n",
      "\t [[{{node gradients/split_grad/concat/split/split_dim}}]]\n",
      "2024-07-16 10:35:41.065986: I tensorflow/core/common_runtime/executor.cc:1197] [/device:CPU:0] (DEBUG INFO) Executor start aborting (this does not indicate an error and you can ignore this message): INVALID_ARGUMENT: You must feed a value for placeholder tensor 'gradients/split_1_grad/concat/split_1/split_dim' with dtype int32\n",
      "\t [[{{node gradients/split_1_grad/concat/split_1/split_dim}}]]\n",
      "2024-07-16 10:35:41.165117: I tensorflow/core/common_runtime/executor.cc:1197] [/device:CPU:0] (DEBUG INFO) Executor start aborting (this does not indicate an error and you can ignore this message): INVALID_ARGUMENT: You must feed a value for placeholder tensor 'gradients/split_2_grad/concat/split_2/split_dim' with dtype int32\n",
      "\t [[{{node gradients/split_2_grad/concat/split_2/split_dim}}]]\n",
      "2024-07-16 10:35:41.166161: I tensorflow/core/common_runtime/executor.cc:1197] [/device:CPU:0] (DEBUG INFO) Executor start aborting (this does not indicate an error and you can ignore this message): INVALID_ARGUMENT: You must feed a value for placeholder tensor 'gradients/split_grad/concat/split/split_dim' with dtype int32\n",
      "\t [[{{node gradients/split_grad/concat/split/split_dim}}]]\n",
      "2024-07-16 10:35:41.166766: I tensorflow/core/common_runtime/executor.cc:1197] [/device:CPU:0] (DEBUG INFO) Executor start aborting (this does not indicate an error and you can ignore this message): INVALID_ARGUMENT: You must feed a value for placeholder tensor 'gradients/split_1_grad/concat/split_1/split_dim' with dtype int32\n",
      "\t [[{{node gradients/split_1_grad/concat/split_1/split_dim}}]]\n",
      "2024-07-16 10:35:41.504812: I tensorflow/core/common_runtime/executor.cc:1197] [/device:CPU:0] (DEBUG INFO) Executor start aborting (this does not indicate an error and you can ignore this message): INVALID_ARGUMENT: You must feed a value for placeholder tensor 'gradients/split_2_grad/concat/split_2/split_dim' with dtype int32\n",
      "\t [[{{node gradients/split_2_grad/concat/split_2/split_dim}}]]\n",
      "2024-07-16 10:35:41.505813: I tensorflow/core/common_runtime/executor.cc:1197] [/device:CPU:0] (DEBUG INFO) Executor start aborting (this does not indicate an error and you can ignore this message): INVALID_ARGUMENT: You must feed a value for placeholder tensor 'gradients/split_grad/concat/split/split_dim' with dtype int32\n",
      "\t [[{{node gradients/split_grad/concat/split/split_dim}}]]\n",
      "2024-07-16 10:35:41.506570: I tensorflow/core/common_runtime/executor.cc:1197] [/device:CPU:0] (DEBUG INFO) Executor start aborting (this does not indicate an error and you can ignore this message): INVALID_ARGUMENT: You must feed a value for placeholder tensor 'gradients/split_1_grad/concat/split_1/split_dim' with dtype int32\n",
      "\t [[{{node gradients/split_1_grad/concat/split_1/split_dim}}]]\n",
      "2024-07-16 10:35:41.599516: I tensorflow/core/common_runtime/executor.cc:1197] [/device:CPU:0] (DEBUG INFO) Executor start aborting (this does not indicate an error and you can ignore this message): INVALID_ARGUMENT: You must feed a value for placeholder tensor 'gradients/split_2_grad/concat/split_2/split_dim' with dtype int32\n",
      "\t [[{{node gradients/split_2_grad/concat/split_2/split_dim}}]]\n",
      "2024-07-16 10:35:41.600356: I tensorflow/core/common_runtime/executor.cc:1197] [/device:CPU:0] (DEBUG INFO) Executor start aborting (this does not indicate an error and you can ignore this message): INVALID_ARGUMENT: You must feed a value for placeholder tensor 'gradients/split_grad/concat/split/split_dim' with dtype int32\n",
      "\t [[{{node gradients/split_grad/concat/split/split_dim}}]]\n",
      "2024-07-16 10:35:41.600974: I tensorflow/core/common_runtime/executor.cc:1197] [/device:CPU:0] (DEBUG INFO) Executor start aborting (this does not indicate an error and you can ignore this message): INVALID_ARGUMENT: You must feed a value for placeholder tensor 'gradients/split_1_grad/concat/split_1/split_dim' with dtype int32\n",
      "\t [[{{node gradients/split_1_grad/concat/split_1/split_dim}}]]\n"
     ]
    },
    {
     "name": "stdout",
     "output_type": "stream",
     "text": [
      "375/375 [==============================] - ETA: 0s - loss: 3.4998 - acc: 0.5906"
     ]
    },
    {
     "name": "stderr",
     "output_type": "stream",
     "text": [
      "2024-07-16 10:36:30.720196: I tensorflow/core/common_runtime/executor.cc:1197] [/device:CPU:0] (DEBUG INFO) Executor start aborting (this does not indicate an error and you can ignore this message): INVALID_ARGUMENT: You must feed a value for placeholder tensor 'gradients/split_2_grad/concat/split_2/split_dim' with dtype int32\n",
      "\t [[{{node gradients/split_2_grad/concat/split_2/split_dim}}]]\n",
      "2024-07-16 10:36:30.720954: I tensorflow/core/common_runtime/executor.cc:1197] [/device:CPU:0] (DEBUG INFO) Executor start aborting (this does not indicate an error and you can ignore this message): INVALID_ARGUMENT: You must feed a value for placeholder tensor 'gradients/split_grad/concat/split/split_dim' with dtype int32\n",
      "\t [[{{node gradients/split_grad/concat/split/split_dim}}]]\n",
      "2024-07-16 10:36:30.721886: I tensorflow/core/common_runtime/executor.cc:1197] [/device:CPU:0] (DEBUG INFO) Executor start aborting (this does not indicate an error and you can ignore this message): INVALID_ARGUMENT: You must feed a value for placeholder tensor 'gradients/split_1_grad/concat/split_1/split_dim' with dtype int32\n",
      "\t [[{{node gradients/split_1_grad/concat/split_1/split_dim}}]]\n",
      "2024-07-16 10:36:30.827366: I tensorflow/core/common_runtime/executor.cc:1197] [/device:CPU:0] (DEBUG INFO) Executor start aborting (this does not indicate an error and you can ignore this message): INVALID_ARGUMENT: You must feed a value for placeholder tensor 'gradients/split_2_grad/concat/split_2/split_dim' with dtype int32\n",
      "\t [[{{node gradients/split_2_grad/concat/split_2/split_dim}}]]\n",
      "2024-07-16 10:36:30.828177: I tensorflow/core/common_runtime/executor.cc:1197] [/device:CPU:0] (DEBUG INFO) Executor start aborting (this does not indicate an error and you can ignore this message): INVALID_ARGUMENT: You must feed a value for placeholder tensor 'gradients/split_grad/concat/split/split_dim' with dtype int32\n",
      "\t [[{{node gradients/split_grad/concat/split/split_dim}}]]\n",
      "2024-07-16 10:36:30.829045: I tensorflow/core/common_runtime/executor.cc:1197] [/device:CPU:0] (DEBUG INFO) Executor start aborting (this does not indicate an error and you can ignore this message): INVALID_ARGUMENT: You must feed a value for placeholder tensor 'gradients/split_1_grad/concat/split_1/split_dim' with dtype int32\n",
      "\t [[{{node gradients/split_1_grad/concat/split_1/split_dim}}]]\n"
     ]
    },
    {
     "name": "stdout",
     "output_type": "stream",
     "text": [
      "\n",
      "Epoch 1: val_acc improved from -inf to 0.60238, saving model to best_model.h5\n",
      "375/375 [==============================] - 56s 147ms/step - loss: 3.4998 - acc: 0.5906 - val_loss: 2.6915 - val_acc: 0.6024\n",
      "Epoch 2/10\n",
      "375/375 [==============================] - ETA: 0s - loss: 2.5889 - acc: 0.6141\n",
      "Epoch 2: val_acc improved from 0.60238 to 0.62067, saving model to best_model.h5\n",
      "375/375 [==============================] - 58s 156ms/step - loss: 2.5889 - acc: 0.6141 - val_loss: 2.5186 - val_acc: 0.6207\n",
      "Epoch 3/10\n",
      "375/375 [==============================] - ETA: 0s - loss: 2.3911 - acc: 0.6272\n",
      "Epoch 3: val_acc improved from 0.62067 to 0.63214, saving model to best_model.h5\n",
      "375/375 [==============================] - 55s 148ms/step - loss: 2.3911 - acc: 0.6272 - val_loss: 2.3269 - val_acc: 0.6321\n",
      "Epoch 4/10\n",
      "375/375 [==============================] - ETA: 0s - loss: 2.1962 - acc: 0.6427\n",
      "Epoch 4: val_acc improved from 0.63214 to 0.64655, saving model to best_model.h5\n",
      "375/375 [==============================] - 52s 139ms/step - loss: 2.1962 - acc: 0.6427 - val_loss: 2.1644 - val_acc: 0.6465\n",
      "Epoch 5/10\n",
      "375/375 [==============================] - ETA: 0s - loss: 2.0266 - acc: 0.6596\n",
      "Epoch 5: val_acc improved from 0.64655 to 0.66623, saving model to best_model.h5\n",
      "375/375 [==============================] - 51s 137ms/step - loss: 2.0266 - acc: 0.6596 - val_loss: 2.0251 - val_acc: 0.6662\n",
      "Epoch 6/10\n",
      "375/375 [==============================] - ETA: 0s - loss: 1.8763 - acc: 0.6801\n",
      "Epoch 6: val_acc improved from 0.66623 to 0.68326, saving model to best_model.h5\n",
      "375/375 [==============================] - 60s 161ms/step - loss: 1.8763 - acc: 0.6801 - val_loss: 1.9111 - val_acc: 0.6833\n",
      "Epoch 7/10\n",
      "375/375 [==============================] - ETA: 0s - loss: 1.7509 - acc: 0.6950\n",
      "Epoch 7: val_acc improved from 0.68326 to 0.69244, saving model to best_model.h5\n",
      "375/375 [==============================] - 62s 166ms/step - loss: 1.7509 - acc: 0.6950 - val_loss: 1.8163 - val_acc: 0.6924\n",
      "Epoch 8/10\n",
      "375/375 [==============================] - ETA: 0s - loss: 1.6414 - acc: 0.7075\n",
      "Epoch 8: val_acc improved from 0.69244 to 0.70414, saving model to best_model.h5\n",
      "375/375 [==============================] - 67s 179ms/step - loss: 1.6414 - acc: 0.7075 - val_loss: 1.7368 - val_acc: 0.7041\n",
      "Epoch 9/10\n",
      "375/375 [==============================] - ETA: 0s - loss: 1.5402 - acc: 0.7207\n",
      "Epoch 9: val_acc improved from 0.70414 to 0.71308, saving model to best_model.h5\n",
      "375/375 [==============================] - 62s 167ms/step - loss: 1.5402 - acc: 0.7207 - val_loss: 1.6675 - val_acc: 0.7131\n",
      "Epoch 10/10\n",
      "375/375 [==============================] - ETA: 0s - loss: 1.4440 - acc: 0.7338\n",
      "Epoch 10: val_acc improved from 0.71308 to 0.72264, saving model to best_model.h5\n",
      "375/375 [==============================] - 60s 159ms/step - loss: 1.4440 - acc: 0.7338 - val_loss: 1.5903 - val_acc: 0.7226\n"
     ]
    }
   ],
   "source": [
    "history = model.fit(x=[X_train, decoder_input_train], y=decoder_target_train, batch_size=128, epochs=10,\n",
    "                    validation_data=([X_test, decoder_input_test], decoder_target_test), callbacks=[es, mc])"
   ]
  },
  {
   "cell_type": "code",
   "execution_count": 67,
   "id": "807fc5e4-3310-4954-b244-320c47ee1556",
   "metadata": {},
   "outputs": [
    {
     "name": "stdout",
     "output_type": "stream",
     "text": [
      "375/375 [==============================] - 9s 24ms/step - loss: 1.5903 - acc: 0.7226\n",
      "Test Acc :  [1.5903270244598389, 0.7226428389549255]\n"
     ]
    }
   ],
   "source": [
    "print('Test Acc : ', model.evaluate([X_test, decoder_input_test], decoder_target_test))"
   ]
  },
  {
   "cell_type": "code",
   "execution_count": 68,
   "id": "96a27484-8ad5-4d0c-ab03-f87a1598b89e",
   "metadata": {},
   "outputs": [
    {
     "data": {
      "image/png": "[encoded data removed]",
      "text/plain": [
       "<Figure size 640x480 with 1 Axes>"
      ]
     },
     "metadata": {},
     "output_type": "display_data"
    }
   ],
   "source": [
    "plt.plot(history.history['acc'])\n",
    "plt.plot(history.history['val_acc'])\n",
    "plt.legend(['train', 'valid'])\n",
    "plt.show()"
   ]
  },
  {
   "cell_type": "code",
   "execution_count": null,
   "id": "583009bc-13cd-4fe3-af65-c7921edbcf4f",
   "metadata": {},
   "outputs": [],
   "source": []
  }
 ],
 "metadata": {
  "kernelspec": {
   "display_name": "Python (tensorflow)",
   "language": "python",
   "name": "tensorflow"
  },
  "language_info": {
   "codemirror_mode": {
    "name": "ipython",
    "version": 3
   },
   "file_extension": ".py",
   "mimetype": "text/x-python",
   "name": "python",
   "nbconvert_exporter": "python",
   "pygments_lexer": "ipython3",
   "version": "3.9.18"
  }
 },
 "nbformat": 4,
 "nbformat_minor": 5
}
